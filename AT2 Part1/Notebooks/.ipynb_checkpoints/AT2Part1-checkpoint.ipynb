{
 "cells": [
  {
   "cell_type": "markdown",
   "id": "noticed-upgrade",
   "metadata": {},
   "source": [
    "### Import Libraries"
   ]
  },
  {
   "cell_type": "code",
<<<<<<< HEAD
   "execution_count": 125,
=======
<<<<<<< HEAD
   "execution_count": 32,
=======
   "execution_count": 5,
>>>>>>> main
>>>>>>> main
   "id": "fancy-karen",
   "metadata": {},
   "outputs": [
    {
     "data": {
      "text/html": [
       "        <script type=\"text/javascript\">\n",
       "        window.PlotlyConfig = {MathJaxConfig: 'local'};\n",
       "        if (window.MathJax) {MathJax.Hub.Config({SVG: {font: \"STIX-Web\"}});}\n",
       "        if (typeof require !== 'undefined') {\n",
       "        require.undef(\"plotly\");\n",
       "        requirejs.config({\n",
       "            paths: {\n",
       "                'plotly': ['https://cdn.plot.ly/plotly-latest.min']\n",
       "            }\n",
       "        });\n",
       "        require(['plotly'], function(Plotly) {\n",
       "            window._Plotly = Plotly;\n",
       "        });\n",
       "        }\n",
       "        </script>\n",
       "        "
      ]
     },
     "metadata": {},
     "output_type": "display_data"
    },
    {
     "data": {
      "text/html": [
       "        <script type=\"text/javascript\">\n",
       "        window.PlotlyConfig = {MathJaxConfig: 'local'};\n",
       "        if (window.MathJax) {MathJax.Hub.Config({SVG: {font: \"STIX-Web\"}});}\n",
       "        if (typeof require !== 'undefined') {\n",
       "        require.undef(\"plotly\");\n",
       "        requirejs.config({\n",
       "            paths: {\n",
       "                'plotly': ['https://cdn.plot.ly/plotly-latest.min']\n",
       "            }\n",
       "        });\n",
       "        require(['plotly'], function(Plotly) {\n",
       "            window._Plotly = Plotly;\n",
       "        });\n",
       "        }\n",
       "        </script>\n",
       "        "
      ]
     },
     "metadata": {},
     "output_type": "display_data"
    }
   ],
   "source": [
    "import pandas as pd\n",
<<<<<<< HEAD
    "from pandas.api.types import CategoricalDtype\n",
=======
<<<<<<< HEAD
    "from pandas.api.types import CategoricalDtype\n",
=======
>>>>>>> main
>>>>>>> main
    "import matplotlib.pyplot as plt\n",
    "%matplotlib inline\n",
    "\n",
    "\n",
    "import chart_studio.plotly as py\n",
    "import plotly.graph_objs as go\n",
    "from plotly.offline import iplot, init_notebook_mode\n",
    "import plotly.express as px\n",
    "\n",
    "import cufflinks\n",
    "cufflinks.go_offline(connected=True)\n",
    "init_notebook_mode(connected=True)"
   ]
  },
  {
   "cell_type": "markdown",
   "id": "induced-redhead",
   "metadata": {},
   "source": [
    "### Read Data File : Data_PV_SP_IMP.xlsx"
   ]
  },
  {
   "cell_type": "code",
<<<<<<< HEAD
   "execution_count": 126,
=======
<<<<<<< HEAD
   "execution_count": 33,
=======
   "execution_count": 6,
>>>>>>> main
>>>>>>> main
   "id": "parental-angola",
   "metadata": {},
   "outputs": [],
   "source": [
    "df = pd.read_excel('/home/shiva/Documents/UTS/02_Courses/DVN/DVN/AT2 Part1/Data/Data PV SP IMP.xlsx')"
   ]
  },
  {
   "cell_type": "code",
<<<<<<< HEAD
   "execution_count": 127,
=======
<<<<<<< HEAD
   "execution_count": 34,
=======
   "execution_count": 7,
>>>>>>> main
>>>>>>> main
   "id": "ultimate-bottom",
   "metadata": {},
   "outputs": [
    {
     "name": "stdout",
     "output_type": "stream",
     "text": [
      "<class 'pandas.core.frame.DataFrame'>\n",
      "RangeIndex: 1176 entries, 0 to 1175\n",
      "Data columns (total 9 columns):\n",
      " #   Column      Non-Null Count  Dtype         \n",
      "---  ------      --------------  -----         \n",
      " 0   Date        1176 non-null   datetime64[ns]\n",
      " 1   Hour        1176 non-null   int64         \n",
      " 2   Page Views  1176 non-null   int64         \n",
      " 3   Weekday     1176 non-null   object        \n",
      " 4   Month       1176 non-null   object        \n",
      " 5   NetA_imp    1176 non-null   int64         \n",
      " 6   NetA_spd    1176 non-null   int64         \n",
      " 7   NetB_imp    1176 non-null   int64         \n",
      " 8   NetB_spd    1176 non-null   int64         \n",
      "dtypes: datetime64[ns](1), int64(6), object(2)\n",
      "memory usage: 82.8+ KB\n"
     ]
    }
   ],
   "source": [
    "df.info()"
   ]
  },
  {
   "cell_type": "markdown",
   "id": "approved-cleaners",
   "metadata": {},
   "source": [
    "### Parse Date"
   ]
  },
  {
   "cell_type": "code",
<<<<<<< HEAD
   "execution_count": 128,
=======
<<<<<<< HEAD
   "execution_count": 35,
=======
   "execution_count": 8,
>>>>>>> main
>>>>>>> main
   "id": "graduate-disclaimer",
   "metadata": {},
   "outputs": [],
   "source": [
    "df['Date']=df.Date.apply(lambda x: x.strftime(format=\"%Y-%m-%d\"))"
   ]
  },
  {
   "cell_type": "code",
<<<<<<< HEAD
   "execution_count": 129,
=======
<<<<<<< HEAD
   "execution_count": 36,
=======
   "execution_count": 9,
>>>>>>> main
>>>>>>> main
   "id": "future-hands",
   "metadata": {},
   "outputs": [
    {
     "data": {
      "text/plain": [
       "array(['2019-07-07', '2019-07-08', '2019-07-09', '2019-07-10',\n",
       "       '2019-07-11', '2019-07-12', '2019-07-13', '2019-07-14',\n",
       "       '2019-07-15', '2019-07-16', '2019-07-17', '2019-07-18',\n",
       "       '2019-07-19', '2019-07-20', '2019-07-21', '2019-07-22',\n",
       "       '2019-07-23', '2019-07-24', '2019-07-25', '2019-07-26',\n",
       "       '2019-07-27', '2019-07-28', '2019-07-29', '2019-07-30',\n",
       "       '2019-07-31', '2019-08-01', '2019-08-02', '2019-08-03',\n",
       "       '2019-08-04', '2019-08-05', '2019-08-06', '2019-08-07',\n",
       "       '2019-08-08', '2019-08-09', '2019-08-10', '2019-08-11',\n",
       "       '2019-08-12', '2019-08-13', '2019-08-14', '2019-08-15',\n",
       "       '2019-08-16', '2019-08-17', '2019-08-18', '2019-08-19',\n",
       "       '2019-08-20', '2019-08-21', '2019-08-22', '2019-08-23',\n",
       "       '2019-08-24'], dtype=object)"
      ]
     },
<<<<<<< HEAD
     "execution_count": 129,
=======
<<<<<<< HEAD
     "execution_count": 36,
=======
     "execution_count": 9,
>>>>>>> main
>>>>>>> main
     "metadata": {},
     "output_type": "execute_result"
    }
   ],
   "source": [
    "df['Date'].unique()"
   ]
  },
  {
   "cell_type": "code",
<<<<<<< HEAD
   "execution_count": 130,
=======
<<<<<<< HEAD
   "execution_count": 37,
=======
   "execution_count": 10,
>>>>>>> main
>>>>>>> main
   "id": "loved-pennsylvania",
   "metadata": {},
   "outputs": [
    {
     "name": "stdout",
     "output_type": "stream",
     "text": [
      "<class 'pandas.core.frame.DataFrame'>\n",
      "RangeIndex: 1176 entries, 0 to 1175\n",
      "Data columns (total 9 columns):\n",
      " #   Column      Non-Null Count  Dtype \n",
      "---  ------      --------------  ----- \n",
      " 0   Date        1176 non-null   object\n",
      " 1   Hour        1176 non-null   int64 \n",
      " 2   Page Views  1176 non-null   int64 \n",
      " 3   Weekday     1176 non-null   object\n",
      " 4   Month       1176 non-null   object\n",
      " 5   NetA_imp    1176 non-null   int64 \n",
      " 6   NetA_spd    1176 non-null   int64 \n",
      " 7   NetB_imp    1176 non-null   int64 \n",
      " 8   NetB_spd    1176 non-null   int64 \n",
      "dtypes: int64(6), object(3)\n",
      "memory usage: 82.8+ KB\n"
     ]
    }
   ],
   "source": [
    "df.info()"
   ]
  },
  {
   "cell_type": "markdown",
   "id": "alternative-organic",
   "metadata": {},
   "source": [
    "### Read Daypart file into dataframe"
   ]
  },
  {
   "cell_type": "code",
<<<<<<< HEAD
   "execution_count": 131,
=======
<<<<<<< HEAD
   "execution_count": 38,
=======
   "execution_count": 11,
>>>>>>> main
>>>>>>> main
   "id": "thousand-highway",
   "metadata": {},
   "outputs": [
    {
     "data": {
      "text/html": [
       "<div>\n",
       "<style scoped>\n",
       "    .dataframe tbody tr th:only-of-type {\n",
       "        vertical-align: middle;\n",
       "    }\n",
       "\n",
       "    .dataframe tbody tr th {\n",
       "        vertical-align: top;\n",
       "    }\n",
       "\n",
       "    .dataframe thead th {\n",
       "        text-align: right;\n",
       "    }\n",
       "</style>\n",
       "<table border=\"1\" class=\"dataframe\">\n",
       "  <thead>\n",
       "    <tr style=\"text-align: right;\">\n",
       "      <th></th>\n",
       "      <th>Hour</th>\n",
       "      <th>Day Part</th>\n",
       "    </tr>\n",
       "  </thead>\n",
       "  <tbody>\n",
       "    <tr>\n",
       "      <th>0</th>\n",
       "      <td>0</td>\n",
       "      <td>Late night</td>\n",
       "    </tr>\n",
       "    <tr>\n",
       "      <th>1</th>\n",
       "      <td>1</td>\n",
       "      <td>Late night</td>\n",
       "    </tr>\n",
       "    <tr>\n",
       "      <th>2</th>\n",
       "      <td>2</td>\n",
       "      <td>Late night</td>\n",
       "    </tr>\n",
       "    <tr>\n",
       "      <th>3</th>\n",
       "      <td>3</td>\n",
       "      <td>Late night</td>\n",
       "    </tr>\n",
       "    <tr>\n",
       "      <th>4</th>\n",
       "      <td>4</td>\n",
       "      <td>Early Morning</td>\n",
       "    </tr>\n",
       "    <tr>\n",
       "      <th>5</th>\n",
       "      <td>5</td>\n",
       "      <td>Early Morning</td>\n",
       "    </tr>\n",
       "    <tr>\n",
       "      <th>6</th>\n",
       "      <td>6</td>\n",
       "      <td>Early Morning</td>\n",
       "    </tr>\n",
       "    <tr>\n",
       "      <th>7</th>\n",
       "      <td>7</td>\n",
       "      <td>Morning</td>\n",
       "    </tr>\n",
       "    <tr>\n",
       "      <th>8</th>\n",
       "      <td>8</td>\n",
       "      <td>Morning</td>\n",
       "    </tr>\n",
       "    <tr>\n",
       "      <th>9</th>\n",
       "      <td>9</td>\n",
       "      <td>Morning</td>\n",
       "    </tr>\n",
       "    <tr>\n",
       "      <th>10</th>\n",
       "      <td>10</td>\n",
       "      <td>Morning</td>\n",
       "    </tr>\n",
       "    <tr>\n",
       "      <th>11</th>\n",
       "      <td>11</td>\n",
       "      <td>Morning</td>\n",
       "    </tr>\n",
       "    <tr>\n",
       "      <th>12</th>\n",
       "      <td>12</td>\n",
       "      <td>Afternoon</td>\n",
       "    </tr>\n",
       "    <tr>\n",
       "      <th>13</th>\n",
       "      <td>13</td>\n",
       "      <td>Afternoon</td>\n",
       "    </tr>\n",
       "    <tr>\n",
       "      <th>14</th>\n",
       "      <td>14</td>\n",
       "      <td>Afternoon</td>\n",
       "    </tr>\n",
       "    <tr>\n",
       "      <th>15</th>\n",
       "      <td>15</td>\n",
       "      <td>Late Afternoon</td>\n",
       "    </tr>\n",
       "    <tr>\n",
       "      <th>16</th>\n",
       "      <td>16</td>\n",
       "      <td>Late Afternoon</td>\n",
       "    </tr>\n",
       "    <tr>\n",
       "      <th>17</th>\n",
       "      <td>17</td>\n",
       "      <td>Evening</td>\n",
       "    </tr>\n",
       "    <tr>\n",
       "      <th>18</th>\n",
       "      <td>18</td>\n",
       "      <td>Evening</td>\n",
       "    </tr>\n",
       "    <tr>\n",
       "      <th>19</th>\n",
       "      <td>19</td>\n",
       "      <td>Evening</td>\n",
       "    </tr>\n",
       "    <tr>\n",
       "      <th>20</th>\n",
       "      <td>20</td>\n",
       "      <td>Evening</td>\n",
       "    </tr>\n",
       "    <tr>\n",
       "      <th>21</th>\n",
       "      <td>21</td>\n",
       "      <td>Night</td>\n",
       "    </tr>\n",
       "    <tr>\n",
       "      <th>22</th>\n",
       "      <td>22</td>\n",
       "      <td>Night</td>\n",
       "    </tr>\n",
       "    <tr>\n",
       "      <th>23</th>\n",
       "      <td>23</td>\n",
       "      <td>Night</td>\n",
       "    </tr>\n",
       "  </tbody>\n",
       "</table>\n",
       "</div>"
      ],
      "text/plain": [
       "    Hour        Day Part\n",
       "0      0      Late night\n",
       "1      1      Late night\n",
       "2      2      Late night\n",
       "3      3      Late night\n",
       "4      4   Early Morning\n",
       "5      5   Early Morning\n",
       "6      6   Early Morning\n",
       "7      7        Morning \n",
       "8      8        Morning \n",
       "9      9        Morning \n",
       "10    10        Morning \n",
       "11    11        Morning \n",
       "12    12       Afternoon\n",
       "13    13       Afternoon\n",
       "14    14       Afternoon\n",
       "15    15  Late Afternoon\n",
       "16    16  Late Afternoon\n",
       "17    17         Evening\n",
       "18    18         Evening\n",
       "19    19         Evening\n",
       "20    20         Evening\n",
       "21    21           Night\n",
       "22    22           Night\n",
       "23    23           Night"
      ]
     },
<<<<<<< HEAD
     "execution_count": 131,
=======
<<<<<<< HEAD
     "execution_count": 38,
=======
     "execution_count": 11,
>>>>>>> main
>>>>>>> main
     "metadata": {},
     "output_type": "execute_result"
    }
   ],
   "source": [
    "df_daypart = pd.read_excel('/home/shiva/Documents/UTS/02_Courses/DVN/DVN/AT2 Part1/Data/Daypart.xlsx')\n",
    "df_daypart"
   ]
  },
  {
   "cell_type": "markdown",
   "id": "scientific-assessment",
   "metadata": {},
   "source": [
    "### Prepare data for plotting - Summarise Weekly"
   ]
  },
  {
   "cell_type": "code",
<<<<<<< HEAD
   "execution_count": 132,
=======
<<<<<<< HEAD
   "execution_count": 39,
=======
   "execution_count": 12,
>>>>>>> main
>>>>>>> main
   "id": "hollow-glenn",
   "metadata": {},
   "outputs": [],
   "source": [
<<<<<<< HEAD
=======
<<<<<<< HEAD
=======
    "from pandas.api.types import CategoricalDtype\n",
    "\n",
>>>>>>> main
>>>>>>> main
    "cats = [ 'Mon', 'Tue', 'Wed', 'Thu', 'Fri', 'Sat', 'Sun']\n",
    "\n",
    "cat_type = CategoricalDtype(categories=cats, ordered=True)\n",
    "df['Weekday'] = df['Weekday'].astype(cat_type)\n",
    "\n",
    "\n",
    "#df['Weekday'] = df['Weekday'].astype('category', categories=cats, ordered=True)"
   ]
  },
  {
   "cell_type": "code",
<<<<<<< HEAD
   "execution_count": 133,
=======
<<<<<<< HEAD
   "execution_count": 40,
=======
   "execution_count": 13,
>>>>>>> main
>>>>>>> main
   "id": "approximate-sentence",
   "metadata": {},
   "outputs": [],
   "source": [
    "df_plot=df.groupby(['Weekday'])[['Page Views', 'NetA_imp','NetA_spd'\\\n",
    "                                         , 'NetB_imp', 'NetB_spd']].sum().reset_index()"
   ]
  },
  {
   "cell_type": "code",
<<<<<<< HEAD
   "execution_count": 134,
=======
<<<<<<< HEAD
   "execution_count": 41,
=======
   "execution_count": 14,
>>>>>>> main
>>>>>>> main
   "id": "continuous-caution",
   "metadata": {},
   "outputs": [
    {
     "data": {
      "text/html": [
       "<div>\n",
       "<style scoped>\n",
       "    .dataframe tbody tr th:only-of-type {\n",
       "        vertical-align: middle;\n",
       "    }\n",
       "\n",
       "    .dataframe tbody tr th {\n",
       "        vertical-align: top;\n",
       "    }\n",
       "\n",
       "    .dataframe thead th {\n",
       "        text-align: right;\n",
       "    }\n",
       "</style>\n",
       "<table border=\"1\" class=\"dataframe\">\n",
       "  <thead>\n",
       "    <tr style=\"text-align: right;\">\n",
       "      <th></th>\n",
       "      <th>Weekday</th>\n",
       "      <th>Page Views</th>\n",
       "      <th>NetA_imp</th>\n",
       "      <th>NetA_spd</th>\n",
       "      <th>NetB_imp</th>\n",
       "      <th>NetB_spd</th>\n",
       "    </tr>\n",
       "  </thead>\n",
       "  <tbody>\n",
       "    <tr>\n",
       "      <th>0</th>\n",
       "      <td>Mon</td>\n",
       "      <td>26851</td>\n",
       "      <td>1224</td>\n",
       "      <td>28805</td>\n",
       "      <td>1004</td>\n",
       "      <td>25066</td>\n",
       "    </tr>\n",
       "    <tr>\n",
       "      <th>1</th>\n",
       "      <td>Tue</td>\n",
       "      <td>23718</td>\n",
       "      <td>1133</td>\n",
       "      <td>9504</td>\n",
       "      <td>1318</td>\n",
       "      <td>29337</td>\n",
       "    </tr>\n",
       "    <tr>\n",
       "      <th>2</th>\n",
       "      <td>Wed</td>\n",
       "      <td>23750</td>\n",
       "      <td>631</td>\n",
       "      <td>14817</td>\n",
       "      <td>1045</td>\n",
       "      <td>19672</td>\n",
       "    </tr>\n",
       "    <tr>\n",
       "      <th>3</th>\n",
       "      <td>Thu</td>\n",
       "      <td>22541</td>\n",
       "      <td>879</td>\n",
       "      <td>27272</td>\n",
       "      <td>728</td>\n",
       "      <td>14708</td>\n",
       "    </tr>\n",
       "    <tr>\n",
       "      <th>4</th>\n",
       "      <td>Fri</td>\n",
       "      <td>21507</td>\n",
       "      <td>452</td>\n",
       "      <td>14433</td>\n",
       "      <td>810</td>\n",
       "      <td>17552</td>\n",
       "    </tr>\n",
       "    <tr>\n",
       "      <th>5</th>\n",
       "      <td>Sat</td>\n",
       "      <td>21709</td>\n",
       "      <td>514</td>\n",
       "      <td>6816</td>\n",
       "      <td>945</td>\n",
       "      <td>14441</td>\n",
       "    </tr>\n",
       "    <tr>\n",
       "      <th>6</th>\n",
       "      <td>Sun</td>\n",
       "      <td>23878</td>\n",
       "      <td>1131</td>\n",
       "      <td>20595</td>\n",
       "      <td>838</td>\n",
       "      <td>17475</td>\n",
       "    </tr>\n",
       "  </tbody>\n",
       "</table>\n",
       "</div>"
      ],
      "text/plain": [
       "  Weekday  Page Views  NetA_imp  NetA_spd  NetB_imp  NetB_spd\n",
       "0     Mon       26851      1224     28805      1004     25066\n",
       "1     Tue       23718      1133      9504      1318     29337\n",
       "2     Wed       23750       631     14817      1045     19672\n",
       "3     Thu       22541       879     27272       728     14708\n",
       "4     Fri       21507       452     14433       810     17552\n",
       "5     Sat       21709       514      6816       945     14441\n",
       "6     Sun       23878      1131     20595       838     17475"
      ]
     },
<<<<<<< HEAD
     "execution_count": 134,
=======
<<<<<<< HEAD
     "execution_count": 41,
=======
     "execution_count": 14,
>>>>>>> main
>>>>>>> main
     "metadata": {},
     "output_type": "execute_result"
    }
   ],
   "source": [
    "df_plot"
   ]
  },
  {
   "cell_type": "markdown",
   "id": "legislative-mathematics",
   "metadata": {},
   "source": [
    "### Prepare data for plotting - Summarise by Date"
   ]
  },
  {
   "cell_type": "code",
<<<<<<< HEAD
   "execution_count": 135,
=======
<<<<<<< HEAD
   "execution_count": 42,
=======
   "execution_count": 15,
>>>>>>> main
>>>>>>> main
   "id": "heavy-seventh",
   "metadata": {},
   "outputs": [
    {
     "data": {
      "text/html": [
       "<div>\n",
       "<style scoped>\n",
       "    .dataframe tbody tr th:only-of-type {\n",
       "        vertical-align: middle;\n",
       "    }\n",
       "\n",
       "    .dataframe tbody tr th {\n",
       "        vertical-align: top;\n",
       "    }\n",
       "\n",
       "    .dataframe thead th {\n",
       "        text-align: right;\n",
       "    }\n",
       "</style>\n",
       "<table border=\"1\" class=\"dataframe\">\n",
       "  <thead>\n",
       "    <tr style=\"text-align: right;\">\n",
       "      <th></th>\n",
       "      <th>Date</th>\n",
       "      <th>Page Views</th>\n",
       "      <th>NetA_imp</th>\n",
       "      <th>NetA_spd</th>\n",
       "      <th>NetB_imp</th>\n",
       "      <th>NetB_spd</th>\n",
       "    </tr>\n",
       "  </thead>\n",
       "  <tbody>\n",
       "    <tr>\n",
       "      <th>25</th>\n",
       "      <td>2019-08-01</td>\n",
       "      <td>2783</td>\n",
       "      <td>2</td>\n",
       "      <td>137</td>\n",
       "      <td>33</td>\n",
       "      <td>913</td>\n",
       "    </tr>\n",
       "    <tr>\n",
       "      <th>26</th>\n",
       "      <td>2019-08-02</td>\n",
       "      <td>2658</td>\n",
       "      <td>40</td>\n",
       "      <td>823</td>\n",
       "      <td>0</td>\n",
       "      <td>0</td>\n",
       "    </tr>\n",
       "    <tr>\n",
       "      <th>27</th>\n",
       "      <td>2019-08-03</td>\n",
       "      <td>2748</td>\n",
       "      <td>21</td>\n",
       "      <td>405</td>\n",
       "      <td>42</td>\n",
       "      <td>1170</td>\n",
       "    </tr>\n",
       "    <tr>\n",
       "      <th>28</th>\n",
       "      <td>2019-08-04</td>\n",
       "      <td>3000</td>\n",
       "      <td>83</td>\n",
       "      <td>2134</td>\n",
       "      <td>56</td>\n",
       "      <td>2018</td>\n",
       "    </tr>\n",
       "    <tr>\n",
       "      <th>29</th>\n",
       "      <td>2019-08-05</td>\n",
       "      <td>3256</td>\n",
       "      <td>146</td>\n",
       "      <td>4025</td>\n",
       "      <td>218</td>\n",
       "      <td>7783</td>\n",
       "    </tr>\n",
       "    <tr>\n",
       "      <th>30</th>\n",
       "      <td>2019-08-06</td>\n",
       "      <td>2865</td>\n",
       "      <td>51</td>\n",
       "      <td>1363</td>\n",
       "      <td>170</td>\n",
       "      <td>5257</td>\n",
       "    </tr>\n",
       "    <tr>\n",
       "      <th>31</th>\n",
       "      <td>2019-08-07</td>\n",
       "      <td>2693</td>\n",
       "      <td>84</td>\n",
       "      <td>2316</td>\n",
       "      <td>129</td>\n",
       "      <td>5960</td>\n",
       "    </tr>\n",
       "    <tr>\n",
       "      <th>32</th>\n",
       "      <td>2019-08-08</td>\n",
       "      <td>2629</td>\n",
       "      <td>193</td>\n",
       "      <td>10376</td>\n",
       "      <td>117</td>\n",
       "      <td>2744</td>\n",
       "    </tr>\n",
       "    <tr>\n",
       "      <th>33</th>\n",
       "      <td>2019-08-09</td>\n",
       "      <td>2922</td>\n",
       "      <td>49</td>\n",
       "      <td>1215</td>\n",
       "      <td>134</td>\n",
       "      <td>3807</td>\n",
       "    </tr>\n",
       "    <tr>\n",
       "      <th>34</th>\n",
       "      <td>2019-08-10</td>\n",
       "      <td>2873</td>\n",
       "      <td>78</td>\n",
       "      <td>1578</td>\n",
       "      <td>90</td>\n",
       "      <td>1345</td>\n",
       "    </tr>\n",
       "    <tr>\n",
       "      <th>35</th>\n",
       "      <td>2019-08-11</td>\n",
       "      <td>3057</td>\n",
       "      <td>158</td>\n",
       "      <td>6856</td>\n",
       "      <td>44</td>\n",
       "      <td>1081</td>\n",
       "    </tr>\n",
       "    <tr>\n",
       "      <th>36</th>\n",
       "      <td>2019-08-12</td>\n",
       "      <td>3357</td>\n",
       "      <td>196</td>\n",
       "      <td>4946</td>\n",
       "      <td>130</td>\n",
       "      <td>3585</td>\n",
       "    </tr>\n",
       "    <tr>\n",
       "      <th>37</th>\n",
       "      <td>2019-08-13</td>\n",
       "      <td>3013</td>\n",
       "      <td>94</td>\n",
       "      <td>3042</td>\n",
       "      <td>187</td>\n",
       "      <td>5702</td>\n",
       "    </tr>\n",
       "    <tr>\n",
       "      <th>38</th>\n",
       "      <td>2019-08-14</td>\n",
       "      <td>3542</td>\n",
       "      <td>72</td>\n",
       "      <td>1472</td>\n",
       "      <td>178</td>\n",
       "      <td>5270</td>\n",
       "    </tr>\n",
       "    <tr>\n",
       "      <th>39</th>\n",
       "      <td>2019-08-15</td>\n",
       "      <td>3093</td>\n",
       "      <td>208</td>\n",
       "      <td>8595</td>\n",
       "      <td>111</td>\n",
       "      <td>2740</td>\n",
       "    </tr>\n",
       "    <tr>\n",
       "      <th>40</th>\n",
       "      <td>2019-08-16</td>\n",
       "      <td>2714</td>\n",
       "      <td>24</td>\n",
       "      <td>607</td>\n",
       "      <td>110</td>\n",
       "      <td>4937</td>\n",
       "    </tr>\n",
       "    <tr>\n",
       "      <th>41</th>\n",
       "      <td>2019-08-17</td>\n",
       "      <td>2809</td>\n",
       "      <td>52</td>\n",
       "      <td>465</td>\n",
       "      <td>123</td>\n",
       "      <td>3524</td>\n",
       "    </tr>\n",
       "    <tr>\n",
       "      <th>42</th>\n",
       "      <td>2019-08-18</td>\n",
       "      <td>3113</td>\n",
       "      <td>185</td>\n",
       "      <td>6226</td>\n",
       "      <td>156</td>\n",
       "      <td>6690</td>\n",
       "    </tr>\n",
       "    <tr>\n",
       "      <th>43</th>\n",
       "      <td>2019-08-19</td>\n",
       "      <td>3486</td>\n",
       "      <td>154</td>\n",
       "      <td>6174</td>\n",
       "      <td>103</td>\n",
       "      <td>3473</td>\n",
       "    </tr>\n",
       "    <tr>\n",
       "      <th>44</th>\n",
       "      <td>2019-08-20</td>\n",
       "      <td>3425</td>\n",
       "      <td>71</td>\n",
       "      <td>2144</td>\n",
       "      <td>134</td>\n",
       "      <td>6624</td>\n",
       "    </tr>\n",
       "    <tr>\n",
       "      <th>45</th>\n",
       "      <td>2019-08-21</td>\n",
       "      <td>4066</td>\n",
       "      <td>70</td>\n",
       "      <td>1663</td>\n",
       "      <td>136</td>\n",
       "      <td>2576</td>\n",
       "    </tr>\n",
       "    <tr>\n",
       "      <th>46</th>\n",
       "      <td>2019-08-22</td>\n",
       "      <td>3167</td>\n",
       "      <td>84</td>\n",
       "      <td>2534</td>\n",
       "      <td>227</td>\n",
       "      <td>6867</td>\n",
       "    </tr>\n",
       "    <tr>\n",
       "      <th>47</th>\n",
       "      <td>2019-08-23</td>\n",
       "      <td>3031</td>\n",
       "      <td>140</td>\n",
       "      <td>6518</td>\n",
       "      <td>71</td>\n",
       "      <td>2432</td>\n",
       "    </tr>\n",
       "    <tr>\n",
       "      <th>48</th>\n",
       "      <td>2019-08-24</td>\n",
       "      <td>3107</td>\n",
       "      <td>94</td>\n",
       "      <td>2598</td>\n",
       "      <td>139</td>\n",
       "      <td>3953</td>\n",
       "    </tr>\n",
       "  </tbody>\n",
       "</table>\n",
       "</div>"
      ],
      "text/plain": [
       "          Date  Page Views  NetA_imp  NetA_spd  NetB_imp  NetB_spd\n",
       "25  2019-08-01        2783         2       137        33       913\n",
       "26  2019-08-02        2658        40       823         0         0\n",
       "27  2019-08-03        2748        21       405        42      1170\n",
       "28  2019-08-04        3000        83      2134        56      2018\n",
       "29  2019-08-05        3256       146      4025       218      7783\n",
       "30  2019-08-06        2865        51      1363       170      5257\n",
       "31  2019-08-07        2693        84      2316       129      5960\n",
       "32  2019-08-08        2629       193     10376       117      2744\n",
       "33  2019-08-09        2922        49      1215       134      3807\n",
       "34  2019-08-10        2873        78      1578        90      1345\n",
       "35  2019-08-11        3057       158      6856        44      1081\n",
       "36  2019-08-12        3357       196      4946       130      3585\n",
       "37  2019-08-13        3013        94      3042       187      5702\n",
       "38  2019-08-14        3542        72      1472       178      5270\n",
       "39  2019-08-15        3093       208      8595       111      2740\n",
       "40  2019-08-16        2714        24       607       110      4937\n",
       "41  2019-08-17        2809        52       465       123      3524\n",
       "42  2019-08-18        3113       185      6226       156      6690\n",
       "43  2019-08-19        3486       154      6174       103      3473\n",
       "44  2019-08-20        3425        71      2144       134      6624\n",
       "45  2019-08-21        4066        70      1663       136      2576\n",
       "46  2019-08-22        3167        84      2534       227      6867\n",
       "47  2019-08-23        3031       140      6518        71      2432\n",
       "48  2019-08-24        3107        94      2598       139      3953"
      ]
     },
<<<<<<< HEAD
     "execution_count": 135,
=======
<<<<<<< HEAD
     "execution_count": 42,
=======
     "execution_count": 15,
>>>>>>> main
>>>>>>> main
     "metadata": {},
     "output_type": "execute_result"
    }
   ],
   "source": [
    "df_daily_agg=df.groupby(['Date'])[['Page Views', 'NetA_imp','NetA_spd'\\\n",
    "                                         , 'NetB_imp', 'NetB_spd']].sum().reset_index()\n",
    "\n",
    "df_daily_agg_aug = df_daily_agg[df_daily_agg['Date'] >= '2019-08-01']\n",
    "\n",
    "df_daily_agg_aug"
   ]
  },
  {
   "cell_type": "markdown",
   "id": "social-grass",
   "metadata": {},
   "source": [
    "### Q1 - Impressions For Aug 2019"
   ]
  },
  {
   "cell_type": "code",
<<<<<<< HEAD
   "execution_count": 136,
=======
<<<<<<< HEAD
   "execution_count": 43,
=======
   "execution_count": 16,
>>>>>>> main
>>>>>>> main
   "id": "jewish-while",
   "metadata": {},
   "outputs": [
    {
     "data": {
      "application/vnd.plotly.v1+json": {
       "config": {
        "plotlyServerURL": "https://plot.ly"
       },
       "data": [
        {
         "marker": {
          "color": "rgba(100, 78, 139, 0.6)",
          "line": {
           "color": "rgba(100, 78, 139, 1.0)",
           "width": 3
          }
         },
         "name": "NetA_imp",
         "text": [
          2,
          40,
          21,
          83,
          146,
          51,
          84,
          193,
          49,
          78,
          158,
          196,
          94,
          72,
          208,
          24,
          52,
          185,
          154,
          71,
          70,
          84,
          140,
          94
         ],
         "textposition": "auto",
         "type": "bar",
         "x": [
          "2019-08-01",
          "2019-08-02",
          "2019-08-03",
          "2019-08-04",
          "2019-08-05",
          "2019-08-06",
          "2019-08-07",
          "2019-08-08",
          "2019-08-09",
          "2019-08-10",
          "2019-08-11",
          "2019-08-12",
          "2019-08-13",
          "2019-08-14",
          "2019-08-15",
          "2019-08-16",
          "2019-08-17",
          "2019-08-18",
          "2019-08-19",
          "2019-08-20",
          "2019-08-21",
          "2019-08-22",
          "2019-08-23",
          "2019-08-24"
         ],
         "y": [
          2,
          40,
          21,
          83,
          146,
          51,
          84,
          193,
          49,
          78,
          158,
          196,
          94,
          72,
          208,
          24,
          52,
          185,
          154,
          71,
          70,
          84,
          140,
          94
         ]
        },
        {
         "marker": {
          "color": "rgba(58, 71, 80, 0.6)",
          "line": {
           "color": "rgba(58, 71, 80, 1.0)",
           "width": 3
          }
         },
         "name": "NetB_imp",
         "text": [
          33,
          0,
          42,
          56,
          218,
          170,
          129,
          117,
          134,
          90,
          44,
          130,
          187,
          178,
          111,
          110,
          123,
          156,
          103,
          134,
          136,
          227,
          71,
          139
         ],
         "textposition": "auto",
         "type": "bar",
         "x": [
          "2019-08-01",
          "2019-08-02",
          "2019-08-03",
          "2019-08-04",
          "2019-08-05",
          "2019-08-06",
          "2019-08-07",
          "2019-08-08",
          "2019-08-09",
          "2019-08-10",
          "2019-08-11",
          "2019-08-12",
          "2019-08-13",
          "2019-08-14",
          "2019-08-15",
          "2019-08-16",
          "2019-08-17",
          "2019-08-18",
          "2019-08-19",
          "2019-08-20",
          "2019-08-21",
          "2019-08-22",
          "2019-08-23",
          "2019-08-24"
         ],
         "y": [
          33,
          0,
          42,
          56,
          218,
          170,
          129,
          117,
          134,
          90,
          44,
          130,
          187,
          178,
          111,
          110,
          123,
          156,
          103,
          134,
          136,
          227,
          71,
          139
         ]
        }
       ],
       "layout": {
        "barmode": "stack",
        "template": {
         "data": {
          "bar": [
           {
            "error_x": {
             "color": "#2a3f5f"
            },
            "error_y": {
             "color": "#2a3f5f"
            },
            "marker": {
             "line": {
              "color": "#E5ECF6",
              "width": 0.5
             }
            },
            "type": "bar"
           }
          ],
          "barpolar": [
           {
            "marker": {
             "line": {
              "color": "#E5ECF6",
              "width": 0.5
             }
            },
            "type": "barpolar"
           }
          ],
          "carpet": [
           {
            "aaxis": {
             "endlinecolor": "#2a3f5f",
             "gridcolor": "white",
             "linecolor": "white",
             "minorgridcolor": "white",
             "startlinecolor": "#2a3f5f"
            },
            "baxis": {
             "endlinecolor": "#2a3f5f",
             "gridcolor": "white",
             "linecolor": "white",
             "minorgridcolor": "white",
             "startlinecolor": "#2a3f5f"
            },
            "type": "carpet"
           }
          ],
          "choropleth": [
           {
            "colorbar": {
             "outlinewidth": 0,
             "ticks": ""
            },
            "type": "choropleth"
           }
          ],
          "contour": [
           {
            "colorbar": {
             "outlinewidth": 0,
             "ticks": ""
            },
            "colorscale": [
             [
              0,
              "#0d0887"
             ],
             [
              0.1111111111111111,
              "#46039f"
             ],
             [
              0.2222222222222222,
              "#7201a8"
             ],
             [
              0.3333333333333333,
              "#9c179e"
             ],
             [
              0.4444444444444444,
              "#bd3786"
             ],
             [
              0.5555555555555556,
              "#d8576b"
             ],
             [
              0.6666666666666666,
              "#ed7953"
             ],
             [
              0.7777777777777778,
              "#fb9f3a"
             ],
             [
              0.8888888888888888,
              "#fdca26"
             ],
             [
              1,
              "#f0f921"
             ]
            ],
            "type": "contour"
           }
          ],
          "contourcarpet": [
           {
            "colorbar": {
             "outlinewidth": 0,
             "ticks": ""
            },
            "type": "contourcarpet"
           }
          ],
          "heatmap": [
           {
            "colorbar": {
             "outlinewidth": 0,
             "ticks": ""
            },
            "colorscale": [
             [
              0,
              "#0d0887"
             ],
             [
              0.1111111111111111,
              "#46039f"
             ],
             [
              0.2222222222222222,
              "#7201a8"
             ],
             [
              0.3333333333333333,
              "#9c179e"
             ],
             [
              0.4444444444444444,
              "#bd3786"
             ],
             [
              0.5555555555555556,
              "#d8576b"
             ],
             [
              0.6666666666666666,
              "#ed7953"
             ],
             [
              0.7777777777777778,
              "#fb9f3a"
             ],
             [
              0.8888888888888888,
              "#fdca26"
             ],
             [
              1,
              "#f0f921"
             ]
            ],
            "type": "heatmap"
           }
          ],
          "heatmapgl": [
           {
            "colorbar": {
             "outlinewidth": 0,
             "ticks": ""
            },
            "colorscale": [
             [
              0,
              "#0d0887"
             ],
             [
              0.1111111111111111,
              "#46039f"
             ],
             [
              0.2222222222222222,
              "#7201a8"
             ],
             [
              0.3333333333333333,
              "#9c179e"
             ],
             [
              0.4444444444444444,
              "#bd3786"
             ],
             [
              0.5555555555555556,
              "#d8576b"
             ],
             [
              0.6666666666666666,
              "#ed7953"
             ],
             [
              0.7777777777777778,
              "#fb9f3a"
             ],
             [
              0.8888888888888888,
              "#fdca26"
             ],
             [
              1,
              "#f0f921"
             ]
            ],
            "type": "heatmapgl"
           }
          ],
          "histogram": [
           {
            "marker": {
             "colorbar": {
              "outlinewidth": 0,
              "ticks": ""
             }
            },
            "type": "histogram"
           }
          ],
          "histogram2d": [
           {
            "colorbar": {
             "outlinewidth": 0,
             "ticks": ""
            },
            "colorscale": [
             [
              0,
              "#0d0887"
             ],
             [
              0.1111111111111111,
              "#46039f"
             ],
             [
              0.2222222222222222,
              "#7201a8"
             ],
             [
              0.3333333333333333,
              "#9c179e"
             ],
             [
              0.4444444444444444,
              "#bd3786"
             ],
             [
              0.5555555555555556,
              "#d8576b"
             ],
             [
              0.6666666666666666,
              "#ed7953"
             ],
             [
              0.7777777777777778,
              "#fb9f3a"
             ],
             [
              0.8888888888888888,
              "#fdca26"
             ],
             [
              1,
              "#f0f921"
             ]
            ],
            "type": "histogram2d"
           }
          ],
          "histogram2dcontour": [
           {
            "colorbar": {
             "outlinewidth": 0,
             "ticks": ""
            },
            "colorscale": [
             [
              0,
              "#0d0887"
             ],
             [
              0.1111111111111111,
              "#46039f"
             ],
             [
              0.2222222222222222,
              "#7201a8"
             ],
             [
              0.3333333333333333,
              "#9c179e"
             ],
             [
              0.4444444444444444,
              "#bd3786"
             ],
             [
              0.5555555555555556,
              "#d8576b"
             ],
             [
              0.6666666666666666,
              "#ed7953"
             ],
             [
              0.7777777777777778,
              "#fb9f3a"
             ],
             [
              0.8888888888888888,
              "#fdca26"
             ],
             [
              1,
              "#f0f921"
             ]
            ],
            "type": "histogram2dcontour"
           }
          ],
          "mesh3d": [
           {
            "colorbar": {
             "outlinewidth": 0,
             "ticks": ""
            },
            "type": "mesh3d"
           }
          ],
          "parcoords": [
           {
            "line": {
             "colorbar": {
              "outlinewidth": 0,
              "ticks": ""
             }
            },
            "type": "parcoords"
           }
          ],
          "pie": [
           {
            "automargin": true,
            "type": "pie"
           }
          ],
          "scatter": [
           {
            "marker": {
             "colorbar": {
              "outlinewidth": 0,
              "ticks": ""
             }
            },
            "type": "scatter"
           }
          ],
          "scatter3d": [
           {
            "line": {
             "colorbar": {
              "outlinewidth": 0,
              "ticks": ""
             }
            },
            "marker": {
             "colorbar": {
              "outlinewidth": 0,
              "ticks": ""
             }
            },
            "type": "scatter3d"
           }
          ],
          "scattercarpet": [
           {
            "marker": {
             "colorbar": {
              "outlinewidth": 0,
              "ticks": ""
             }
            },
            "type": "scattercarpet"
           }
          ],
          "scattergeo": [
           {
            "marker": {
             "colorbar": {
              "outlinewidth": 0,
              "ticks": ""
             }
            },
            "type": "scattergeo"
           }
          ],
          "scattergl": [
           {
            "marker": {
             "colorbar": {
              "outlinewidth": 0,
              "ticks": ""
             }
            },
            "type": "scattergl"
           }
          ],
          "scattermapbox": [
           {
            "marker": {
             "colorbar": {
              "outlinewidth": 0,
              "ticks": ""
             }
            },
            "type": "scattermapbox"
           }
          ],
          "scatterpolar": [
           {
            "marker": {
             "colorbar": {
              "outlinewidth": 0,
              "ticks": ""
             }
            },
            "type": "scatterpolar"
           }
          ],
          "scatterpolargl": [
           {
            "marker": {
             "colorbar": {
              "outlinewidth": 0,
              "ticks": ""
             }
            },
            "type": "scatterpolargl"
           }
          ],
          "scatterternary": [
           {
            "marker": {
             "colorbar": {
              "outlinewidth": 0,
              "ticks": ""
             }
            },
            "type": "scatterternary"
           }
          ],
          "surface": [
           {
            "colorbar": {
             "outlinewidth": 0,
             "ticks": ""
            },
            "colorscale": [
             [
              0,
              "#0d0887"
             ],
             [
              0.1111111111111111,
              "#46039f"
             ],
             [
              0.2222222222222222,
              "#7201a8"
             ],
             [
              0.3333333333333333,
              "#9c179e"
             ],
             [
              0.4444444444444444,
              "#bd3786"
             ],
             [
              0.5555555555555556,
              "#d8576b"
             ],
             [
              0.6666666666666666,
              "#ed7953"
             ],
             [
              0.7777777777777778,
              "#fb9f3a"
             ],
             [
              0.8888888888888888,
              "#fdca26"
             ],
             [
              1,
              "#f0f921"
             ]
            ],
            "type": "surface"
           }
          ],
          "table": [
           {
            "cells": {
             "fill": {
              "color": "#EBF0F8"
             },
             "line": {
              "color": "white"
             }
            },
            "header": {
             "fill": {
              "color": "#C8D4E3"
             },
             "line": {
              "color": "white"
             }
            },
            "type": "table"
           }
          ]
         },
         "layout": {
          "annotationdefaults": {
           "arrowcolor": "#2a3f5f",
           "arrowhead": 0,
           "arrowwidth": 1
          },
          "autotypenumbers": "strict",
          "coloraxis": {
           "colorbar": {
            "outlinewidth": 0,
            "ticks": ""
           }
          },
          "colorscale": {
           "diverging": [
            [
             0,
             "#8e0152"
            ],
            [
             0.1,
             "#c51b7d"
            ],
            [
             0.2,
             "#de77ae"
            ],
            [
             0.3,
             "#f1b6da"
            ],
            [
             0.4,
             "#fde0ef"
            ],
            [
             0.5,
             "#f7f7f7"
            ],
            [
             0.6,
             "#e6f5d0"
            ],
            [
             0.7,
             "#b8e186"
            ],
            [
             0.8,
             "#7fbc41"
            ],
            [
             0.9,
             "#4d9221"
            ],
            [
             1,
             "#276419"
            ]
           ],
           "sequential": [
            [
             0,
             "#0d0887"
            ],
            [
             0.1111111111111111,
             "#46039f"
            ],
            [
             0.2222222222222222,
             "#7201a8"
            ],
            [
             0.3333333333333333,
             "#9c179e"
            ],
            [
             0.4444444444444444,
             "#bd3786"
            ],
            [
             0.5555555555555556,
             "#d8576b"
            ],
            [
             0.6666666666666666,
             "#ed7953"
            ],
            [
             0.7777777777777778,
             "#fb9f3a"
            ],
            [
             0.8888888888888888,
             "#fdca26"
            ],
            [
             1,
             "#f0f921"
            ]
           ],
           "sequentialminus": [
            [
             0,
             "#0d0887"
            ],
            [
             0.1111111111111111,
             "#46039f"
            ],
            [
             0.2222222222222222,
             "#7201a8"
            ],
            [
             0.3333333333333333,
             "#9c179e"
            ],
            [
             0.4444444444444444,
             "#bd3786"
            ],
            [
             0.5555555555555556,
             "#d8576b"
            ],
            [
             0.6666666666666666,
             "#ed7953"
            ],
            [
             0.7777777777777778,
             "#fb9f3a"
            ],
            [
             0.8888888888888888,
             "#fdca26"
            ],
            [
             1,
             "#f0f921"
            ]
           ]
          },
          "colorway": [
           "#636efa",
           "#EF553B",
           "#00cc96",
           "#ab63fa",
           "#FFA15A",
           "#19d3f3",
           "#FF6692",
           "#B6E880",
           "#FF97FF",
           "#FECB52"
          ],
          "font": {
           "color": "#2a3f5f"
          },
          "geo": {
           "bgcolor": "white",
           "lakecolor": "white",
           "landcolor": "#E5ECF6",
           "showlakes": true,
           "showland": true,
           "subunitcolor": "white"
          },
          "hoverlabel": {
           "align": "left"
          },
          "hovermode": "closest",
          "mapbox": {
           "style": "light"
          },
          "paper_bgcolor": "white",
          "plot_bgcolor": "#E5ECF6",
          "polar": {
           "angularaxis": {
            "gridcolor": "white",
            "linecolor": "white",
            "ticks": ""
           },
           "bgcolor": "#E5ECF6",
           "radialaxis": {
            "gridcolor": "white",
            "linecolor": "white",
            "ticks": ""
           }
          },
          "scene": {
           "xaxis": {
            "backgroundcolor": "#E5ECF6",
            "gridcolor": "white",
            "gridwidth": 2,
            "linecolor": "white",
            "showbackground": true,
            "ticks": "",
            "zerolinecolor": "white"
           },
           "yaxis": {
            "backgroundcolor": "#E5ECF6",
            "gridcolor": "white",
            "gridwidth": 2,
            "linecolor": "white",
            "showbackground": true,
            "ticks": "",
            "zerolinecolor": "white"
           },
           "zaxis": {
            "backgroundcolor": "#E5ECF6",
            "gridcolor": "white",
            "gridwidth": 2,
            "linecolor": "white",
            "showbackground": true,
            "ticks": "",
            "zerolinecolor": "white"
           }
          },
          "shapedefaults": {
           "line": {
            "color": "#2a3f5f"
           }
          },
          "ternary": {
           "aaxis": {
            "gridcolor": "white",
            "linecolor": "white",
            "ticks": ""
           },
           "baxis": {
            "gridcolor": "white",
            "linecolor": "white",
            "ticks": ""
           },
           "bgcolor": "#E5ECF6",
           "caxis": {
            "gridcolor": "white",
            "linecolor": "white",
            "ticks": ""
           }
          },
          "title": {
           "x": 0.05
          },
          "xaxis": {
           "automargin": true,
           "gridcolor": "white",
           "linecolor": "white",
           "ticks": "",
           "title": {
            "standoff": 15
           },
           "zerolinecolor": "white",
           "zerolinewidth": 2
          },
          "yaxis": {
           "automargin": true,
           "gridcolor": "white",
           "linecolor": "white",
           "ticks": "",
           "title": {
            "standoff": 15
           },
           "zerolinecolor": "white",
           "zerolinewidth": 2
          }
         }
        },
        "title": {
         "text": "Acquired Impressions on networks For August 2019"
        },
        "xaxis": {
         "title": {
          "text": "2019"
         }
        },
        "yaxis": {
         "title": {
          "text": "Impressions"
         }
        }
       }
      },
      "text/html": [
<<<<<<< HEAD
       "<div>                            <div id=\"e89e3406-66b9-4eca-b8b4-e9ed9afde9b8\" class=\"plotly-graph-div\" style=\"height:525px; width:100%;\"></div>            <script type=\"text/javascript\">                require([\"plotly\"], function(Plotly) {                    window.PLOTLYENV=window.PLOTLYENV || {};                                    if (document.getElementById(\"e89e3406-66b9-4eca-b8b4-e9ed9afde9b8\")) {                    Plotly.newPlot(                        \"e89e3406-66b9-4eca-b8b4-e9ed9afde9b8\",                        [{\"marker\": {\"color\": \"rgba(100, 78, 139, 0.6)\", \"line\": {\"color\": \"rgba(100, 78, 139, 1.0)\", \"width\": 3}}, \"name\": \"NetA_imp\", \"text\": [2.0, 40.0, 21.0, 83.0, 146.0, 51.0, 84.0, 193.0, 49.0, 78.0, 158.0, 196.0, 94.0, 72.0, 208.0, 24.0, 52.0, 185.0, 154.0, 71.0, 70.0, 84.0, 140.0, 94.0], \"textposition\": \"auto\", \"type\": \"bar\", \"x\": [\"2019-08-01\", \"2019-08-02\", \"2019-08-03\", \"2019-08-04\", \"2019-08-05\", \"2019-08-06\", \"2019-08-07\", \"2019-08-08\", \"2019-08-09\", \"2019-08-10\", \"2019-08-11\", \"2019-08-12\", \"2019-08-13\", \"2019-08-14\", \"2019-08-15\", \"2019-08-16\", \"2019-08-17\", \"2019-08-18\", \"2019-08-19\", \"2019-08-20\", \"2019-08-21\", \"2019-08-22\", \"2019-08-23\", \"2019-08-24\"], \"y\": [2, 40, 21, 83, 146, 51, 84, 193, 49, 78, 158, 196, 94, 72, 208, 24, 52, 185, 154, 71, 70, 84, 140, 94]}, {\"marker\": {\"color\": \"rgba(58, 71, 80, 0.6)\", \"line\": {\"color\": \"rgba(58, 71, 80, 1.0)\", \"width\": 3}}, \"name\": \"NetB_imp\", \"text\": [33.0, 0.0, 42.0, 56.0, 218.0, 170.0, 129.0, 117.0, 134.0, 90.0, 44.0, 130.0, 187.0, 178.0, 111.0, 110.0, 123.0, 156.0, 103.0, 134.0, 136.0, 227.0, 71.0, 139.0], \"textposition\": \"auto\", \"type\": \"bar\", \"x\": [\"2019-08-01\", \"2019-08-02\", \"2019-08-03\", \"2019-08-04\", \"2019-08-05\", \"2019-08-06\", \"2019-08-07\", \"2019-08-08\", \"2019-08-09\", \"2019-08-10\", \"2019-08-11\", \"2019-08-12\", \"2019-08-13\", \"2019-08-14\", \"2019-08-15\", \"2019-08-16\", \"2019-08-17\", \"2019-08-18\", \"2019-08-19\", \"2019-08-20\", \"2019-08-21\", \"2019-08-22\", \"2019-08-23\", \"2019-08-24\"], \"y\": [33, 0, 42, 56, 218, 170, 129, 117, 134, 90, 44, 130, 187, 178, 111, 110, 123, 156, 103, 134, 136, 227, 71, 139]}],                        {\"barmode\": \"stack\", \"template\": {\"data\": {\"bar\": [{\"error_x\": {\"color\": \"#2a3f5f\"}, \"error_y\": {\"color\": \"#2a3f5f\"}, \"marker\": {\"line\": {\"color\": \"#E5ECF6\", \"width\": 0.5}}, \"type\": \"bar\"}], \"barpolar\": [{\"marker\": {\"line\": {\"color\": \"#E5ECF6\", \"width\": 0.5}}, \"type\": \"barpolar\"}], \"carpet\": [{\"aaxis\": {\"endlinecolor\": \"#2a3f5f\", \"gridcolor\": \"white\", \"linecolor\": \"white\", \"minorgridcolor\": \"white\", \"startlinecolor\": \"#2a3f5f\"}, \"baxis\": {\"endlinecolor\": \"#2a3f5f\", \"gridcolor\": \"white\", \"linecolor\": \"white\", \"minorgridcolor\": \"white\", \"startlinecolor\": \"#2a3f5f\"}, \"type\": \"carpet\"}], \"choropleth\": [{\"colorbar\": {\"outlinewidth\": 0, \"ticks\": \"\"}, \"type\": \"choropleth\"}], \"contour\": [{\"colorbar\": {\"outlinewidth\": 0, \"ticks\": \"\"}, \"colorscale\": [[0.0, \"#0d0887\"], [0.1111111111111111, \"#46039f\"], [0.2222222222222222, \"#7201a8\"], [0.3333333333333333, \"#9c179e\"], [0.4444444444444444, \"#bd3786\"], [0.5555555555555556, \"#d8576b\"], [0.6666666666666666, \"#ed7953\"], [0.7777777777777778, \"#fb9f3a\"], [0.8888888888888888, \"#fdca26\"], [1.0, \"#f0f921\"]], \"type\": \"contour\"}], \"contourcarpet\": [{\"colorbar\": {\"outlinewidth\": 0, \"ticks\": \"\"}, \"type\": \"contourcarpet\"}], \"heatmap\": [{\"colorbar\": {\"outlinewidth\": 0, \"ticks\": \"\"}, \"colorscale\": [[0.0, \"#0d0887\"], [0.1111111111111111, \"#46039f\"], [0.2222222222222222, \"#7201a8\"], [0.3333333333333333, \"#9c179e\"], [0.4444444444444444, \"#bd3786\"], [0.5555555555555556, \"#d8576b\"], [0.6666666666666666, \"#ed7953\"], [0.7777777777777778, \"#fb9f3a\"], [0.8888888888888888, \"#fdca26\"], [1.0, \"#f0f921\"]], \"type\": \"heatmap\"}], \"heatmapgl\": [{\"colorbar\": {\"outlinewidth\": 0, \"ticks\": \"\"}, \"colorscale\": [[0.0, \"#0d0887\"], [0.1111111111111111, \"#46039f\"], [0.2222222222222222, \"#7201a8\"], [0.3333333333333333, \"#9c179e\"], [0.4444444444444444, \"#bd3786\"], [0.5555555555555556, \"#d8576b\"], [0.6666666666666666, \"#ed7953\"], [0.7777777777777778, \"#fb9f3a\"], [0.8888888888888888, \"#fdca26\"], [1.0, \"#f0f921\"]], \"type\": \"heatmapgl\"}], \"histogram\": [{\"marker\": {\"colorbar\": {\"outlinewidth\": 0, \"ticks\": \"\"}}, \"type\": \"histogram\"}], \"histogram2d\": [{\"colorbar\": {\"outlinewidth\": 0, \"ticks\": \"\"}, \"colorscale\": [[0.0, \"#0d0887\"], [0.1111111111111111, \"#46039f\"], [0.2222222222222222, \"#7201a8\"], [0.3333333333333333, \"#9c179e\"], [0.4444444444444444, \"#bd3786\"], [0.5555555555555556, \"#d8576b\"], [0.6666666666666666, \"#ed7953\"], [0.7777777777777778, \"#fb9f3a\"], [0.8888888888888888, \"#fdca26\"], [1.0, \"#f0f921\"]], \"type\": \"histogram2d\"}], \"histogram2dcontour\": [{\"colorbar\": {\"outlinewidth\": 0, \"ticks\": \"\"}, \"colorscale\": [[0.0, \"#0d0887\"], [0.1111111111111111, \"#46039f\"], [0.2222222222222222, \"#7201a8\"], [0.3333333333333333, \"#9c179e\"], [0.4444444444444444, \"#bd3786\"], [0.5555555555555556, \"#d8576b\"], [0.6666666666666666, \"#ed7953\"], [0.7777777777777778, \"#fb9f3a\"], [0.8888888888888888, \"#fdca26\"], [1.0, \"#f0f921\"]], \"type\": \"histogram2dcontour\"}], \"mesh3d\": [{\"colorbar\": {\"outlinewidth\": 0, \"ticks\": \"\"}, \"type\": \"mesh3d\"}], \"parcoords\": [{\"line\": {\"colorbar\": {\"outlinewidth\": 0, \"ticks\": \"\"}}, \"type\": \"parcoords\"}], \"pie\": [{\"automargin\": true, \"type\": \"pie\"}], \"scatter\": [{\"marker\": {\"colorbar\": {\"outlinewidth\": 0, \"ticks\": \"\"}}, \"type\": \"scatter\"}], \"scatter3d\": [{\"line\": {\"colorbar\": {\"outlinewidth\": 0, \"ticks\": \"\"}}, \"marker\": {\"colorbar\": {\"outlinewidth\": 0, \"ticks\": \"\"}}, \"type\": \"scatter3d\"}], \"scattercarpet\": [{\"marker\": {\"colorbar\": {\"outlinewidth\": 0, \"ticks\": \"\"}}, \"type\": \"scattercarpet\"}], \"scattergeo\": [{\"marker\": {\"colorbar\": {\"outlinewidth\": 0, \"ticks\": \"\"}}, \"type\": \"scattergeo\"}], \"scattergl\": [{\"marker\": {\"colorbar\": {\"outlinewidth\": 0, \"ticks\": \"\"}}, \"type\": \"scattergl\"}], \"scattermapbox\": [{\"marker\": {\"colorbar\": {\"outlinewidth\": 0, \"ticks\": \"\"}}, \"type\": \"scattermapbox\"}], \"scatterpolar\": [{\"marker\": {\"colorbar\": {\"outlinewidth\": 0, \"ticks\": \"\"}}, \"type\": \"scatterpolar\"}], \"scatterpolargl\": [{\"marker\": {\"colorbar\": {\"outlinewidth\": 0, \"ticks\": \"\"}}, \"type\": \"scatterpolargl\"}], \"scatterternary\": [{\"marker\": {\"colorbar\": {\"outlinewidth\": 0, \"ticks\": \"\"}}, \"type\": \"scatterternary\"}], \"surface\": [{\"colorbar\": {\"outlinewidth\": 0, \"ticks\": \"\"}, \"colorscale\": [[0.0, \"#0d0887\"], [0.1111111111111111, \"#46039f\"], [0.2222222222222222, \"#7201a8\"], [0.3333333333333333, \"#9c179e\"], [0.4444444444444444, \"#bd3786\"], [0.5555555555555556, \"#d8576b\"], [0.6666666666666666, \"#ed7953\"], [0.7777777777777778, \"#fb9f3a\"], [0.8888888888888888, \"#fdca26\"], [1.0, \"#f0f921\"]], \"type\": \"surface\"}], \"table\": [{\"cells\": {\"fill\": {\"color\": \"#EBF0F8\"}, \"line\": {\"color\": \"white\"}}, \"header\": {\"fill\": {\"color\": \"#C8D4E3\"}, \"line\": {\"color\": \"white\"}}, \"type\": \"table\"}]}, \"layout\": {\"annotationdefaults\": {\"arrowcolor\": \"#2a3f5f\", \"arrowhead\": 0, \"arrowwidth\": 1}, \"autotypenumbers\": \"strict\", \"coloraxis\": {\"colorbar\": {\"outlinewidth\": 0, \"ticks\": \"\"}}, \"colorscale\": {\"diverging\": [[0, \"#8e0152\"], [0.1, \"#c51b7d\"], [0.2, \"#de77ae\"], [0.3, \"#f1b6da\"], [0.4, \"#fde0ef\"], [0.5, \"#f7f7f7\"], [0.6, \"#e6f5d0\"], [0.7, \"#b8e186\"], [0.8, \"#7fbc41\"], [0.9, \"#4d9221\"], [1, \"#276419\"]], \"sequential\": [[0.0, \"#0d0887\"], [0.1111111111111111, \"#46039f\"], [0.2222222222222222, \"#7201a8\"], [0.3333333333333333, \"#9c179e\"], [0.4444444444444444, \"#bd3786\"], [0.5555555555555556, \"#d8576b\"], [0.6666666666666666, \"#ed7953\"], [0.7777777777777778, \"#fb9f3a\"], [0.8888888888888888, \"#fdca26\"], [1.0, \"#f0f921\"]], \"sequentialminus\": [[0.0, \"#0d0887\"], [0.1111111111111111, \"#46039f\"], [0.2222222222222222, \"#7201a8\"], [0.3333333333333333, \"#9c179e\"], [0.4444444444444444, \"#bd3786\"], [0.5555555555555556, \"#d8576b\"], [0.6666666666666666, \"#ed7953\"], [0.7777777777777778, \"#fb9f3a\"], [0.8888888888888888, \"#fdca26\"], [1.0, \"#f0f921\"]]}, \"colorway\": [\"#636efa\", \"#EF553B\", \"#00cc96\", \"#ab63fa\", \"#FFA15A\", \"#19d3f3\", \"#FF6692\", \"#B6E880\", \"#FF97FF\", \"#FECB52\"], \"font\": {\"color\": \"#2a3f5f\"}, \"geo\": {\"bgcolor\": \"white\", \"lakecolor\": \"white\", \"landcolor\": \"#E5ECF6\", \"showlakes\": true, \"showland\": true, \"subunitcolor\": \"white\"}, \"hoverlabel\": {\"align\": \"left\"}, \"hovermode\": \"closest\", \"mapbox\": {\"style\": \"light\"}, \"paper_bgcolor\": \"white\", \"plot_bgcolor\": \"#E5ECF6\", \"polar\": {\"angularaxis\": {\"gridcolor\": \"white\", \"linecolor\": \"white\", \"ticks\": \"\"}, \"bgcolor\": \"#E5ECF6\", \"radialaxis\": {\"gridcolor\": \"white\", \"linecolor\": \"white\", \"ticks\": \"\"}}, \"scene\": {\"xaxis\": {\"backgroundcolor\": \"#E5ECF6\", \"gridcolor\": \"white\", \"gridwidth\": 2, \"linecolor\": \"white\", \"showbackground\": true, \"ticks\": \"\", \"zerolinecolor\": \"white\"}, \"yaxis\": {\"backgroundcolor\": \"#E5ECF6\", \"gridcolor\": \"white\", \"gridwidth\": 2, \"linecolor\": \"white\", \"showbackground\": true, \"ticks\": \"\", \"zerolinecolor\": \"white\"}, \"zaxis\": {\"backgroundcolor\": \"#E5ECF6\", \"gridcolor\": \"white\", \"gridwidth\": 2, \"linecolor\": \"white\", \"showbackground\": true, \"ticks\": \"\", \"zerolinecolor\": \"white\"}}, \"shapedefaults\": {\"line\": {\"color\": \"#2a3f5f\"}}, \"ternary\": {\"aaxis\": {\"gridcolor\": \"white\", \"linecolor\": \"white\", \"ticks\": \"\"}, \"baxis\": {\"gridcolor\": \"white\", \"linecolor\": \"white\", \"ticks\": \"\"}, \"bgcolor\": \"#E5ECF6\", \"caxis\": {\"gridcolor\": \"white\", \"linecolor\": \"white\", \"ticks\": \"\"}}, \"title\": {\"x\": 0.05}, \"xaxis\": {\"automargin\": true, \"gridcolor\": \"white\", \"linecolor\": \"white\", \"ticks\": \"\", \"title\": {\"standoff\": 15}, \"zerolinecolor\": \"white\", \"zerolinewidth\": 2}, \"yaxis\": {\"automargin\": true, \"gridcolor\": \"white\", \"linecolor\": \"white\", \"ticks\": \"\", \"title\": {\"standoff\": 15}, \"zerolinecolor\": \"white\", \"zerolinewidth\": 2}}}, \"title\": {\"text\": \"Acquired Impressions on networks For August 2019\"}, \"xaxis\": {\"title\": {\"text\": \"2019\"}}, \"yaxis\": {\"title\": {\"text\": \"Impressions\"}}},                        {\"responsive\": true}                    ).then(function(){\n",
       "                            \n",
       "var gd = document.getElementById('e89e3406-66b9-4eca-b8b4-e9ed9afde9b8');\n",
=======
<<<<<<< HEAD
       "<div>                            <div id=\"2ed64246-ea74-4fd0-858d-fcddb1f23fd5\" class=\"plotly-graph-div\" style=\"height:525px; width:100%;\"></div>            <script type=\"text/javascript\">                require([\"plotly\"], function(Plotly) {                    window.PLOTLYENV=window.PLOTLYENV || {};                                    if (document.getElementById(\"2ed64246-ea74-4fd0-858d-fcddb1f23fd5\")) {                    Plotly.newPlot(                        \"2ed64246-ea74-4fd0-858d-fcddb1f23fd5\",                        [{\"marker\": {\"color\": \"rgba(100, 78, 139, 0.6)\", \"line\": {\"color\": \"rgba(100, 78, 139, 1.0)\", \"width\": 3}}, \"name\": \"NetA_imp\", \"text\": [2.0, 40.0, 21.0, 83.0, 146.0, 51.0, 84.0, 193.0, 49.0, 78.0, 158.0, 196.0, 94.0, 72.0, 208.0, 24.0, 52.0, 185.0, 154.0, 71.0, 70.0, 84.0, 140.0, 94.0], \"textposition\": \"auto\", \"type\": \"bar\", \"x\": [\"2019-08-01\", \"2019-08-02\", \"2019-08-03\", \"2019-08-04\", \"2019-08-05\", \"2019-08-06\", \"2019-08-07\", \"2019-08-08\", \"2019-08-09\", \"2019-08-10\", \"2019-08-11\", \"2019-08-12\", \"2019-08-13\", \"2019-08-14\", \"2019-08-15\", \"2019-08-16\", \"2019-08-17\", \"2019-08-18\", \"2019-08-19\", \"2019-08-20\", \"2019-08-21\", \"2019-08-22\", \"2019-08-23\", \"2019-08-24\"], \"y\": [2, 40, 21, 83, 146, 51, 84, 193, 49, 78, 158, 196, 94, 72, 208, 24, 52, 185, 154, 71, 70, 84, 140, 94]}, {\"marker\": {\"color\": \"rgba(58, 71, 80, 0.6)\", \"line\": {\"color\": \"rgba(58, 71, 80, 1.0)\", \"width\": 3}}, \"name\": \"NetB_imp\", \"text\": [33.0, 0.0, 42.0, 56.0, 218.0, 170.0, 129.0, 117.0, 134.0, 90.0, 44.0, 130.0, 187.0, 178.0, 111.0, 110.0, 123.0, 156.0, 103.0, 134.0, 136.0, 227.0, 71.0, 139.0], \"textposition\": \"auto\", \"type\": \"bar\", \"x\": [\"2019-08-01\", \"2019-08-02\", \"2019-08-03\", \"2019-08-04\", \"2019-08-05\", \"2019-08-06\", \"2019-08-07\", \"2019-08-08\", \"2019-08-09\", \"2019-08-10\", \"2019-08-11\", \"2019-08-12\", \"2019-08-13\", \"2019-08-14\", \"2019-08-15\", \"2019-08-16\", \"2019-08-17\", \"2019-08-18\", \"2019-08-19\", \"2019-08-20\", \"2019-08-21\", \"2019-08-22\", \"2019-08-23\", \"2019-08-24\"], \"y\": [33, 0, 42, 56, 218, 170, 129, 117, 134, 90, 44, 130, 187, 178, 111, 110, 123, 156, 103, 134, 136, 227, 71, 139]}],                        {\"barmode\": \"stack\", \"template\": {\"data\": {\"bar\": [{\"error_x\": {\"color\": \"#2a3f5f\"}, \"error_y\": {\"color\": \"#2a3f5f\"}, \"marker\": {\"line\": {\"color\": \"#E5ECF6\", \"width\": 0.5}}, \"type\": \"bar\"}], \"barpolar\": [{\"marker\": {\"line\": {\"color\": \"#E5ECF6\", \"width\": 0.5}}, \"type\": \"barpolar\"}], \"carpet\": [{\"aaxis\": {\"endlinecolor\": \"#2a3f5f\", \"gridcolor\": \"white\", \"linecolor\": \"white\", \"minorgridcolor\": \"white\", \"startlinecolor\": \"#2a3f5f\"}, \"baxis\": {\"endlinecolor\": \"#2a3f5f\", \"gridcolor\": \"white\", \"linecolor\": \"white\", \"minorgridcolor\": \"white\", \"startlinecolor\": \"#2a3f5f\"}, \"type\": \"carpet\"}], \"choropleth\": [{\"colorbar\": {\"outlinewidth\": 0, \"ticks\": \"\"}, \"type\": \"choropleth\"}], \"contour\": [{\"colorbar\": {\"outlinewidth\": 0, \"ticks\": \"\"}, \"colorscale\": [[0.0, \"#0d0887\"], [0.1111111111111111, \"#46039f\"], [0.2222222222222222, \"#7201a8\"], [0.3333333333333333, \"#9c179e\"], [0.4444444444444444, \"#bd3786\"], [0.5555555555555556, \"#d8576b\"], [0.6666666666666666, \"#ed7953\"], [0.7777777777777778, \"#fb9f3a\"], [0.8888888888888888, \"#fdca26\"], [1.0, \"#f0f921\"]], \"type\": \"contour\"}], \"contourcarpet\": [{\"colorbar\": {\"outlinewidth\": 0, \"ticks\": \"\"}, \"type\": \"contourcarpet\"}], \"heatmap\": [{\"colorbar\": {\"outlinewidth\": 0, \"ticks\": \"\"}, \"colorscale\": [[0.0, \"#0d0887\"], [0.1111111111111111, \"#46039f\"], [0.2222222222222222, \"#7201a8\"], [0.3333333333333333, \"#9c179e\"], [0.4444444444444444, \"#bd3786\"], [0.5555555555555556, \"#d8576b\"], [0.6666666666666666, \"#ed7953\"], [0.7777777777777778, \"#fb9f3a\"], [0.8888888888888888, \"#fdca26\"], [1.0, \"#f0f921\"]], \"type\": \"heatmap\"}], \"heatmapgl\": [{\"colorbar\": {\"outlinewidth\": 0, \"ticks\": \"\"}, \"colorscale\": [[0.0, \"#0d0887\"], [0.1111111111111111, \"#46039f\"], [0.2222222222222222, \"#7201a8\"], [0.3333333333333333, \"#9c179e\"], [0.4444444444444444, \"#bd3786\"], [0.5555555555555556, \"#d8576b\"], [0.6666666666666666, \"#ed7953\"], [0.7777777777777778, \"#fb9f3a\"], [0.8888888888888888, \"#fdca26\"], [1.0, \"#f0f921\"]], \"type\": \"heatmapgl\"}], \"histogram\": [{\"marker\": {\"colorbar\": {\"outlinewidth\": 0, \"ticks\": \"\"}}, \"type\": \"histogram\"}], \"histogram2d\": [{\"colorbar\": {\"outlinewidth\": 0, \"ticks\": \"\"}, \"colorscale\": [[0.0, \"#0d0887\"], [0.1111111111111111, \"#46039f\"], [0.2222222222222222, \"#7201a8\"], [0.3333333333333333, \"#9c179e\"], [0.4444444444444444, \"#bd3786\"], [0.5555555555555556, \"#d8576b\"], [0.6666666666666666, \"#ed7953\"], [0.7777777777777778, \"#fb9f3a\"], [0.8888888888888888, \"#fdca26\"], [1.0, \"#f0f921\"]], \"type\": \"histogram2d\"}], \"histogram2dcontour\": [{\"colorbar\": {\"outlinewidth\": 0, \"ticks\": \"\"}, \"colorscale\": [[0.0, \"#0d0887\"], [0.1111111111111111, \"#46039f\"], [0.2222222222222222, \"#7201a8\"], [0.3333333333333333, \"#9c179e\"], [0.4444444444444444, \"#bd3786\"], [0.5555555555555556, \"#d8576b\"], [0.6666666666666666, \"#ed7953\"], [0.7777777777777778, \"#fb9f3a\"], [0.8888888888888888, \"#fdca26\"], [1.0, \"#f0f921\"]], \"type\": \"histogram2dcontour\"}], \"mesh3d\": [{\"colorbar\": {\"outlinewidth\": 0, \"ticks\": \"\"}, \"type\": \"mesh3d\"}], \"parcoords\": [{\"line\": {\"colorbar\": {\"outlinewidth\": 0, \"ticks\": \"\"}}, \"type\": \"parcoords\"}], \"pie\": [{\"automargin\": true, \"type\": \"pie\"}], \"scatter\": [{\"marker\": {\"colorbar\": {\"outlinewidth\": 0, \"ticks\": \"\"}}, \"type\": \"scatter\"}], \"scatter3d\": [{\"line\": {\"colorbar\": {\"outlinewidth\": 0, \"ticks\": \"\"}}, \"marker\": {\"colorbar\": {\"outlinewidth\": 0, \"ticks\": \"\"}}, \"type\": \"scatter3d\"}], \"scattercarpet\": [{\"marker\": {\"colorbar\": {\"outlinewidth\": 0, \"ticks\": \"\"}}, \"type\": \"scattercarpet\"}], \"scattergeo\": [{\"marker\": {\"colorbar\": {\"outlinewidth\": 0, \"ticks\": \"\"}}, \"type\": \"scattergeo\"}], \"scattergl\": [{\"marker\": {\"colorbar\": {\"outlinewidth\": 0, \"ticks\": \"\"}}, \"type\": \"scattergl\"}], \"scattermapbox\": [{\"marker\": {\"colorbar\": {\"outlinewidth\": 0, \"ticks\": \"\"}}, \"type\": \"scattermapbox\"}], \"scatterpolar\": [{\"marker\": {\"colorbar\": {\"outlinewidth\": 0, \"ticks\": \"\"}}, \"type\": \"scatterpolar\"}], \"scatterpolargl\": [{\"marker\": {\"colorbar\": {\"outlinewidth\": 0, \"ticks\": \"\"}}, \"type\": \"scatterpolargl\"}], \"scatterternary\": [{\"marker\": {\"colorbar\": {\"outlinewidth\": 0, \"ticks\": \"\"}}, \"type\": \"scatterternary\"}], \"surface\": [{\"colorbar\": {\"outlinewidth\": 0, \"ticks\": \"\"}, \"colorscale\": [[0.0, \"#0d0887\"], [0.1111111111111111, \"#46039f\"], [0.2222222222222222, \"#7201a8\"], [0.3333333333333333, \"#9c179e\"], [0.4444444444444444, \"#bd3786\"], [0.5555555555555556, \"#d8576b\"], [0.6666666666666666, \"#ed7953\"], [0.7777777777777778, \"#fb9f3a\"], [0.8888888888888888, \"#fdca26\"], [1.0, \"#f0f921\"]], \"type\": \"surface\"}], \"table\": [{\"cells\": {\"fill\": {\"color\": \"#EBF0F8\"}, \"line\": {\"color\": \"white\"}}, \"header\": {\"fill\": {\"color\": \"#C8D4E3\"}, \"line\": {\"color\": \"white\"}}, \"type\": \"table\"}]}, \"layout\": {\"annotationdefaults\": {\"arrowcolor\": \"#2a3f5f\", \"arrowhead\": 0, \"arrowwidth\": 1}, \"autotypenumbers\": \"strict\", \"coloraxis\": {\"colorbar\": {\"outlinewidth\": 0, \"ticks\": \"\"}}, \"colorscale\": {\"diverging\": [[0, \"#8e0152\"], [0.1, \"#c51b7d\"], [0.2, \"#de77ae\"], [0.3, \"#f1b6da\"], [0.4, \"#fde0ef\"], [0.5, \"#f7f7f7\"], [0.6, \"#e6f5d0\"], [0.7, \"#b8e186\"], [0.8, \"#7fbc41\"], [0.9, \"#4d9221\"], [1, \"#276419\"]], \"sequential\": [[0.0, \"#0d0887\"], [0.1111111111111111, \"#46039f\"], [0.2222222222222222, \"#7201a8\"], [0.3333333333333333, \"#9c179e\"], [0.4444444444444444, \"#bd3786\"], [0.5555555555555556, \"#d8576b\"], [0.6666666666666666, \"#ed7953\"], [0.7777777777777778, \"#fb9f3a\"], [0.8888888888888888, \"#fdca26\"], [1.0, \"#f0f921\"]], \"sequentialminus\": [[0.0, \"#0d0887\"], [0.1111111111111111, \"#46039f\"], [0.2222222222222222, \"#7201a8\"], [0.3333333333333333, \"#9c179e\"], [0.4444444444444444, \"#bd3786\"], [0.5555555555555556, \"#d8576b\"], [0.6666666666666666, \"#ed7953\"], [0.7777777777777778, \"#fb9f3a\"], [0.8888888888888888, \"#fdca26\"], [1.0, \"#f0f921\"]]}, \"colorway\": [\"#636efa\", \"#EF553B\", \"#00cc96\", \"#ab63fa\", \"#FFA15A\", \"#19d3f3\", \"#FF6692\", \"#B6E880\", \"#FF97FF\", \"#FECB52\"], \"font\": {\"color\": \"#2a3f5f\"}, \"geo\": {\"bgcolor\": \"white\", \"lakecolor\": \"white\", \"landcolor\": \"#E5ECF6\", \"showlakes\": true, \"showland\": true, \"subunitcolor\": \"white\"}, \"hoverlabel\": {\"align\": \"left\"}, \"hovermode\": \"closest\", \"mapbox\": {\"style\": \"light\"}, \"paper_bgcolor\": \"white\", \"plot_bgcolor\": \"#E5ECF6\", \"polar\": {\"angularaxis\": {\"gridcolor\": \"white\", \"linecolor\": \"white\", \"ticks\": \"\"}, \"bgcolor\": \"#E5ECF6\", \"radialaxis\": {\"gridcolor\": \"white\", \"linecolor\": \"white\", \"ticks\": \"\"}}, \"scene\": {\"xaxis\": {\"backgroundcolor\": \"#E5ECF6\", \"gridcolor\": \"white\", \"gridwidth\": 2, \"linecolor\": \"white\", \"showbackground\": true, \"ticks\": \"\", \"zerolinecolor\": \"white\"}, \"yaxis\": {\"backgroundcolor\": \"#E5ECF6\", \"gridcolor\": \"white\", \"gridwidth\": 2, \"linecolor\": \"white\", \"showbackground\": true, \"ticks\": \"\", \"zerolinecolor\": \"white\"}, \"zaxis\": {\"backgroundcolor\": \"#E5ECF6\", \"gridcolor\": \"white\", \"gridwidth\": 2, \"linecolor\": \"white\", \"showbackground\": true, \"ticks\": \"\", \"zerolinecolor\": \"white\"}}, \"shapedefaults\": {\"line\": {\"color\": \"#2a3f5f\"}}, \"ternary\": {\"aaxis\": {\"gridcolor\": \"white\", \"linecolor\": \"white\", \"ticks\": \"\"}, \"baxis\": {\"gridcolor\": \"white\", \"linecolor\": \"white\", \"ticks\": \"\"}, \"bgcolor\": \"#E5ECF6\", \"caxis\": {\"gridcolor\": \"white\", \"linecolor\": \"white\", \"ticks\": \"\"}}, \"title\": {\"x\": 0.05}, \"xaxis\": {\"automargin\": true, \"gridcolor\": \"white\", \"linecolor\": \"white\", \"ticks\": \"\", \"title\": {\"standoff\": 15}, \"zerolinecolor\": \"white\", \"zerolinewidth\": 2}, \"yaxis\": {\"automargin\": true, \"gridcolor\": \"white\", \"linecolor\": \"white\", \"ticks\": \"\", \"title\": {\"standoff\": 15}, \"zerolinecolor\": \"white\", \"zerolinewidth\": 2}}}, \"title\": {\"text\": \"Acquired Impressions on networks For August 2019\"}, \"xaxis\": {\"title\": {\"text\": \"2019\"}}, \"yaxis\": {\"title\": {\"text\": \"Impressions\"}}},                        {\"responsive\": true}                    ).then(function(){\n",
       "                            \n",
       "var gd = document.getElementById('2ed64246-ea74-4fd0-858d-fcddb1f23fd5');\n",
=======
       "<div>                            <div id=\"8428b6c0-27a2-4bdf-9e76-4f29941e78c3\" class=\"plotly-graph-div\" style=\"height:525px; width:100%;\"></div>            <script type=\"text/javascript\">                require([\"plotly\"], function(Plotly) {                    window.PLOTLYENV=window.PLOTLYENV || {};                                    if (document.getElementById(\"8428b6c0-27a2-4bdf-9e76-4f29941e78c3\")) {                    Plotly.newPlot(                        \"8428b6c0-27a2-4bdf-9e76-4f29941e78c3\",                        [{\"marker\": {\"color\": \"rgba(100, 78, 139, 0.6)\", \"line\": {\"color\": \"rgba(100, 78, 139, 1.0)\", \"width\": 3}}, \"name\": \"NetA_imp\", \"text\": [2.0, 40.0, 21.0, 83.0, 146.0, 51.0, 84.0, 193.0, 49.0, 78.0, 158.0, 196.0, 94.0, 72.0, 208.0, 24.0, 52.0, 185.0, 154.0, 71.0, 70.0, 84.0, 140.0, 94.0], \"textposition\": \"auto\", \"type\": \"bar\", \"x\": [\"2019-08-01\", \"2019-08-02\", \"2019-08-03\", \"2019-08-04\", \"2019-08-05\", \"2019-08-06\", \"2019-08-07\", \"2019-08-08\", \"2019-08-09\", \"2019-08-10\", \"2019-08-11\", \"2019-08-12\", \"2019-08-13\", \"2019-08-14\", \"2019-08-15\", \"2019-08-16\", \"2019-08-17\", \"2019-08-18\", \"2019-08-19\", \"2019-08-20\", \"2019-08-21\", \"2019-08-22\", \"2019-08-23\", \"2019-08-24\"], \"y\": [2, 40, 21, 83, 146, 51, 84, 193, 49, 78, 158, 196, 94, 72, 208, 24, 52, 185, 154, 71, 70, 84, 140, 94]}, {\"marker\": {\"color\": \"rgba(58, 71, 80, 0.6)\", \"line\": {\"color\": \"rgba(58, 71, 80, 1.0)\", \"width\": 3}}, \"name\": \"NetB_imp\", \"text\": [33.0, 0.0, 42.0, 56.0, 218.0, 170.0, 129.0, 117.0, 134.0, 90.0, 44.0, 130.0, 187.0, 178.0, 111.0, 110.0, 123.0, 156.0, 103.0, 134.0, 136.0, 227.0, 71.0, 139.0], \"textposition\": \"auto\", \"type\": \"bar\", \"x\": [\"2019-08-01\", \"2019-08-02\", \"2019-08-03\", \"2019-08-04\", \"2019-08-05\", \"2019-08-06\", \"2019-08-07\", \"2019-08-08\", \"2019-08-09\", \"2019-08-10\", \"2019-08-11\", \"2019-08-12\", \"2019-08-13\", \"2019-08-14\", \"2019-08-15\", \"2019-08-16\", \"2019-08-17\", \"2019-08-18\", \"2019-08-19\", \"2019-08-20\", \"2019-08-21\", \"2019-08-22\", \"2019-08-23\", \"2019-08-24\"], \"y\": [33, 0, 42, 56, 218, 170, 129, 117, 134, 90, 44, 130, 187, 178, 111, 110, 123, 156, 103, 134, 136, 227, 71, 139]}],                        {\"barmode\": \"stack\", \"template\": {\"data\": {\"bar\": [{\"error_x\": {\"color\": \"#2a3f5f\"}, \"error_y\": {\"color\": \"#2a3f5f\"}, \"marker\": {\"line\": {\"color\": \"#E5ECF6\", \"width\": 0.5}}, \"type\": \"bar\"}], \"barpolar\": [{\"marker\": {\"line\": {\"color\": \"#E5ECF6\", \"width\": 0.5}}, \"type\": \"barpolar\"}], \"carpet\": [{\"aaxis\": {\"endlinecolor\": \"#2a3f5f\", \"gridcolor\": \"white\", \"linecolor\": \"white\", \"minorgridcolor\": \"white\", \"startlinecolor\": \"#2a3f5f\"}, \"baxis\": {\"endlinecolor\": \"#2a3f5f\", \"gridcolor\": \"white\", \"linecolor\": \"white\", \"minorgridcolor\": \"white\", \"startlinecolor\": \"#2a3f5f\"}, \"type\": \"carpet\"}], \"choropleth\": [{\"colorbar\": {\"outlinewidth\": 0, \"ticks\": \"\"}, \"type\": \"choropleth\"}], \"contour\": [{\"colorbar\": {\"outlinewidth\": 0, \"ticks\": \"\"}, \"colorscale\": [[0.0, \"#0d0887\"], [0.1111111111111111, \"#46039f\"], [0.2222222222222222, \"#7201a8\"], [0.3333333333333333, \"#9c179e\"], [0.4444444444444444, \"#bd3786\"], [0.5555555555555556, \"#d8576b\"], [0.6666666666666666, \"#ed7953\"], [0.7777777777777778, \"#fb9f3a\"], [0.8888888888888888, \"#fdca26\"], [1.0, \"#f0f921\"]], \"type\": \"contour\"}], \"contourcarpet\": [{\"colorbar\": {\"outlinewidth\": 0, \"ticks\": \"\"}, \"type\": \"contourcarpet\"}], \"heatmap\": [{\"colorbar\": {\"outlinewidth\": 0, \"ticks\": \"\"}, \"colorscale\": [[0.0, \"#0d0887\"], [0.1111111111111111, \"#46039f\"], [0.2222222222222222, \"#7201a8\"], [0.3333333333333333, \"#9c179e\"], [0.4444444444444444, \"#bd3786\"], [0.5555555555555556, \"#d8576b\"], [0.6666666666666666, \"#ed7953\"], [0.7777777777777778, \"#fb9f3a\"], [0.8888888888888888, \"#fdca26\"], [1.0, \"#f0f921\"]], \"type\": \"heatmap\"}], \"heatmapgl\": [{\"colorbar\": {\"outlinewidth\": 0, \"ticks\": \"\"}, \"colorscale\": [[0.0, \"#0d0887\"], [0.1111111111111111, \"#46039f\"], [0.2222222222222222, \"#7201a8\"], [0.3333333333333333, \"#9c179e\"], [0.4444444444444444, \"#bd3786\"], [0.5555555555555556, \"#d8576b\"], [0.6666666666666666, \"#ed7953\"], [0.7777777777777778, \"#fb9f3a\"], [0.8888888888888888, \"#fdca26\"], [1.0, \"#f0f921\"]], \"type\": \"heatmapgl\"}], \"histogram\": [{\"marker\": {\"colorbar\": {\"outlinewidth\": 0, \"ticks\": \"\"}}, \"type\": \"histogram\"}], \"histogram2d\": [{\"colorbar\": {\"outlinewidth\": 0, \"ticks\": \"\"}, \"colorscale\": [[0.0, \"#0d0887\"], [0.1111111111111111, \"#46039f\"], [0.2222222222222222, \"#7201a8\"], [0.3333333333333333, \"#9c179e\"], [0.4444444444444444, \"#bd3786\"], [0.5555555555555556, \"#d8576b\"], [0.6666666666666666, \"#ed7953\"], [0.7777777777777778, \"#fb9f3a\"], [0.8888888888888888, \"#fdca26\"], [1.0, \"#f0f921\"]], \"type\": \"histogram2d\"}], \"histogram2dcontour\": [{\"colorbar\": {\"outlinewidth\": 0, \"ticks\": \"\"}, \"colorscale\": [[0.0, \"#0d0887\"], [0.1111111111111111, \"#46039f\"], [0.2222222222222222, \"#7201a8\"], [0.3333333333333333, \"#9c179e\"], [0.4444444444444444, \"#bd3786\"], [0.5555555555555556, \"#d8576b\"], [0.6666666666666666, \"#ed7953\"], [0.7777777777777778, \"#fb9f3a\"], [0.8888888888888888, \"#fdca26\"], [1.0, \"#f0f921\"]], \"type\": \"histogram2dcontour\"}], \"mesh3d\": [{\"colorbar\": {\"outlinewidth\": 0, \"ticks\": \"\"}, \"type\": \"mesh3d\"}], \"parcoords\": [{\"line\": {\"colorbar\": {\"outlinewidth\": 0, \"ticks\": \"\"}}, \"type\": \"parcoords\"}], \"pie\": [{\"automargin\": true, \"type\": \"pie\"}], \"scatter\": [{\"marker\": {\"colorbar\": {\"outlinewidth\": 0, \"ticks\": \"\"}}, \"type\": \"scatter\"}], \"scatter3d\": [{\"line\": {\"colorbar\": {\"outlinewidth\": 0, \"ticks\": \"\"}}, \"marker\": {\"colorbar\": {\"outlinewidth\": 0, \"ticks\": \"\"}}, \"type\": \"scatter3d\"}], \"scattercarpet\": [{\"marker\": {\"colorbar\": {\"outlinewidth\": 0, \"ticks\": \"\"}}, \"type\": \"scattercarpet\"}], \"scattergeo\": [{\"marker\": {\"colorbar\": {\"outlinewidth\": 0, \"ticks\": \"\"}}, \"type\": \"scattergeo\"}], \"scattergl\": [{\"marker\": {\"colorbar\": {\"outlinewidth\": 0, \"ticks\": \"\"}}, \"type\": \"scattergl\"}], \"scattermapbox\": [{\"marker\": {\"colorbar\": {\"outlinewidth\": 0, \"ticks\": \"\"}}, \"type\": \"scattermapbox\"}], \"scatterpolar\": [{\"marker\": {\"colorbar\": {\"outlinewidth\": 0, \"ticks\": \"\"}}, \"type\": \"scatterpolar\"}], \"scatterpolargl\": [{\"marker\": {\"colorbar\": {\"outlinewidth\": 0, \"ticks\": \"\"}}, \"type\": \"scatterpolargl\"}], \"scatterternary\": [{\"marker\": {\"colorbar\": {\"outlinewidth\": 0, \"ticks\": \"\"}}, \"type\": \"scatterternary\"}], \"surface\": [{\"colorbar\": {\"outlinewidth\": 0, \"ticks\": \"\"}, \"colorscale\": [[0.0, \"#0d0887\"], [0.1111111111111111, \"#46039f\"], [0.2222222222222222, \"#7201a8\"], [0.3333333333333333, \"#9c179e\"], [0.4444444444444444, \"#bd3786\"], [0.5555555555555556, \"#d8576b\"], [0.6666666666666666, \"#ed7953\"], [0.7777777777777778, \"#fb9f3a\"], [0.8888888888888888, \"#fdca26\"], [1.0, \"#f0f921\"]], \"type\": \"surface\"}], \"table\": [{\"cells\": {\"fill\": {\"color\": \"#EBF0F8\"}, \"line\": {\"color\": \"white\"}}, \"header\": {\"fill\": {\"color\": \"#C8D4E3\"}, \"line\": {\"color\": \"white\"}}, \"type\": \"table\"}]}, \"layout\": {\"annotationdefaults\": {\"arrowcolor\": \"#2a3f5f\", \"arrowhead\": 0, \"arrowwidth\": 1}, \"autotypenumbers\": \"strict\", \"coloraxis\": {\"colorbar\": {\"outlinewidth\": 0, \"ticks\": \"\"}}, \"colorscale\": {\"diverging\": [[0, \"#8e0152\"], [0.1, \"#c51b7d\"], [0.2, \"#de77ae\"], [0.3, \"#f1b6da\"], [0.4, \"#fde0ef\"], [0.5, \"#f7f7f7\"], [0.6, \"#e6f5d0\"], [0.7, \"#b8e186\"], [0.8, \"#7fbc41\"], [0.9, \"#4d9221\"], [1, \"#276419\"]], \"sequential\": [[0.0, \"#0d0887\"], [0.1111111111111111, \"#46039f\"], [0.2222222222222222, \"#7201a8\"], [0.3333333333333333, \"#9c179e\"], [0.4444444444444444, \"#bd3786\"], [0.5555555555555556, \"#d8576b\"], [0.6666666666666666, \"#ed7953\"], [0.7777777777777778, \"#fb9f3a\"], [0.8888888888888888, \"#fdca26\"], [1.0, \"#f0f921\"]], \"sequentialminus\": [[0.0, \"#0d0887\"], [0.1111111111111111, \"#46039f\"], [0.2222222222222222, \"#7201a8\"], [0.3333333333333333, \"#9c179e\"], [0.4444444444444444, \"#bd3786\"], [0.5555555555555556, \"#d8576b\"], [0.6666666666666666, \"#ed7953\"], [0.7777777777777778, \"#fb9f3a\"], [0.8888888888888888, \"#fdca26\"], [1.0, \"#f0f921\"]]}, \"colorway\": [\"#636efa\", \"#EF553B\", \"#00cc96\", \"#ab63fa\", \"#FFA15A\", \"#19d3f3\", \"#FF6692\", \"#B6E880\", \"#FF97FF\", \"#FECB52\"], \"font\": {\"color\": \"#2a3f5f\"}, \"geo\": {\"bgcolor\": \"white\", \"lakecolor\": \"white\", \"landcolor\": \"#E5ECF6\", \"showlakes\": true, \"showland\": true, \"subunitcolor\": \"white\"}, \"hoverlabel\": {\"align\": \"left\"}, \"hovermode\": \"closest\", \"mapbox\": {\"style\": \"light\"}, \"paper_bgcolor\": \"white\", \"plot_bgcolor\": \"#E5ECF6\", \"polar\": {\"angularaxis\": {\"gridcolor\": \"white\", \"linecolor\": \"white\", \"ticks\": \"\"}, \"bgcolor\": \"#E5ECF6\", \"radialaxis\": {\"gridcolor\": \"white\", \"linecolor\": \"white\", \"ticks\": \"\"}}, \"scene\": {\"xaxis\": {\"backgroundcolor\": \"#E5ECF6\", \"gridcolor\": \"white\", \"gridwidth\": 2, \"linecolor\": \"white\", \"showbackground\": true, \"ticks\": \"\", \"zerolinecolor\": \"white\"}, \"yaxis\": {\"backgroundcolor\": \"#E5ECF6\", \"gridcolor\": \"white\", \"gridwidth\": 2, \"linecolor\": \"white\", \"showbackground\": true, \"ticks\": \"\", \"zerolinecolor\": \"white\"}, \"zaxis\": {\"backgroundcolor\": \"#E5ECF6\", \"gridcolor\": \"white\", \"gridwidth\": 2, \"linecolor\": \"white\", \"showbackground\": true, \"ticks\": \"\", \"zerolinecolor\": \"white\"}}, \"shapedefaults\": {\"line\": {\"color\": \"#2a3f5f\"}}, \"ternary\": {\"aaxis\": {\"gridcolor\": \"white\", \"linecolor\": \"white\", \"ticks\": \"\"}, \"baxis\": {\"gridcolor\": \"white\", \"linecolor\": \"white\", \"ticks\": \"\"}, \"bgcolor\": \"#E5ECF6\", \"caxis\": {\"gridcolor\": \"white\", \"linecolor\": \"white\", \"ticks\": \"\"}}, \"title\": {\"x\": 0.05}, \"xaxis\": {\"automargin\": true, \"gridcolor\": \"white\", \"linecolor\": \"white\", \"ticks\": \"\", \"title\": {\"standoff\": 15}, \"zerolinecolor\": \"white\", \"zerolinewidth\": 2}, \"yaxis\": {\"automargin\": true, \"gridcolor\": \"white\", \"linecolor\": \"white\", \"ticks\": \"\", \"title\": {\"standoff\": 15}, \"zerolinecolor\": \"white\", \"zerolinewidth\": 2}}}, \"title\": {\"text\": \"Acquired Impressions on networks For August 2019\"}, \"xaxis\": {\"title\": {\"text\": \"2019\"}}, \"yaxis\": {\"title\": {\"text\": \"Impressions\"}}},                        {\"responsive\": true}                    ).then(function(){\n",
       "                            \n",
       "var gd = document.getElementById('8428b6c0-27a2-4bdf-9e76-4f29941e78c3');\n",
>>>>>>> main
>>>>>>> main
       "var x = new MutationObserver(function (mutations, observer) {{\n",
       "        var display = window.getComputedStyle(gd).display;\n",
       "        if (!display || display === 'none') {{\n",
       "            console.log([gd, 'removed!']);\n",
       "            Plotly.purge(gd);\n",
       "            observer.disconnect();\n",
       "        }}\n",
       "}});\n",
       "\n",
       "// Listen for the removal of the full notebook cells\n",
       "var notebookContainer = gd.closest('#notebook-container');\n",
       "if (notebookContainer) {{\n",
       "    x.observe(notebookContainer, {childList: true});\n",
       "}}\n",
       "\n",
       "// Listen for the clearing of the current output cell\n",
       "var outputEl = gd.closest('.output');\n",
       "if (outputEl) {{\n",
       "    x.observe(outputEl, {childList: true});\n",
       "}}\n",
       "\n",
       "                        })                };                });            </script>        </div>"
      ]
     },
     "metadata": {},
     "output_type": "display_data"
    }
   ],
   "source": [
    "fig = go.Figure(data=[go.Bar(name=\"NetA_imp\",\n",
    "            x=df_daily_agg_aug['Date'], y=df_daily_agg_aug['NetA_imp'],text=df_daily_agg_aug['NetA_imp'],\n",
    "            textposition='auto',marker=dict(\n",
    "        color='rgba(100, 78, 139, 0.6)',\n",
    "        line=dict(color='rgba(100, 78, 139, 1.0)', width=3))\n",
    "                            ),\n",
    "            go.Bar(name=\"NetB_imp\",\n",
    "            x=df_daily_agg_aug['Date'], y=df_daily_agg_aug['NetB_imp'],text=df_daily_agg_aug['NetB_imp'],\n",
    "            textposition='auto',marker=dict(\n",
    "        color='rgba(58, 71, 80, 0.6)',\n",
    "        line=dict(color='rgba(58, 71, 80, 1.0)', width=3)\n",
    "    )\n",
    "                  \n",
    "                  ),          \n",
    "            \n",
    "        ])\n",
    "\n",
    "fig.update_layout(title=\"Acquired Impressions on networks For August 2019\",\n",
    "    yaxis_title=\"Impressions\",xaxis_title='2019',barmode='stack')\n",
    "fig.show()"
   ]
  },
  {
   "cell_type": "markdown",
   "id": "infrared-budget",
   "metadata": {},
   "source": [
    "### Q1 - Total Network Spend"
   ]
  },
  {
   "cell_type": "code",
<<<<<<< HEAD
   "execution_count": 137,
=======
<<<<<<< HEAD
   "execution_count": 44,
=======
   "execution_count": 17,
>>>>>>> main
>>>>>>> main
   "id": "amazing-looking",
   "metadata": {},
   "outputs": [
    {
     "data": {
      "application/vnd.plotly.v1+json": {
       "config": {
        "plotlyServerURL": "https://plot.ly"
       },
       "data": [
        {
         "marker": {
          "color": "rgba(100, 78, 139, 0.6)",
          "line": {
           "color": "rgba(100, 78, 139, 1.0)",
           "width": 3
          }
         },
         "name": "NetA_spd",
         "text": [
          28805,
          9504,
          14817,
          27272,
          14433,
          6816,
          20595
         ],
         "textposition": "auto",
         "type": "bar",
         "x": [
          "Mon",
          "Tue",
          "Wed",
          "Thu",
          "Fri",
          "Sat",
          "Sun"
         ],
         "y": [
          28805,
          9504,
          14817,
          27272,
          14433,
          6816,
          20595
         ]
        },
        {
         "marker": {
          "color": "rgba(58, 71, 80, 0.6)",
          "line": {
           "color": "rgba(58, 71, 80, 1.0)",
           "width": 3
          }
         },
         "name": "NetB_spd",
         "text": [
          25066,
          29337,
          19672,
          14708,
          17552,
          14441,
          17475
         ],
         "textposition": "auto",
         "type": "bar",
         "x": [
          "Mon",
          "Tue",
          "Wed",
          "Thu",
          "Fri",
          "Sat",
          "Sun"
         ],
         "y": [
          25066,
          29337,
          19672,
          14708,
          17552,
          14441,
          17475
         ]
        }
       ],
       "layout": {
        "barmode": "stack",
        "template": {
         "data": {
          "bar": [
           {
            "error_x": {
             "color": "#2a3f5f"
            },
            "error_y": {
             "color": "#2a3f5f"
            },
            "marker": {
             "line": {
              "color": "#E5ECF6",
              "width": 0.5
             }
            },
            "type": "bar"
           }
          ],
          "barpolar": [
           {
            "marker": {
             "line": {
              "color": "#E5ECF6",
              "width": 0.5
             }
            },
            "type": "barpolar"
           }
          ],
          "carpet": [
           {
            "aaxis": {
             "endlinecolor": "#2a3f5f",
             "gridcolor": "white",
             "linecolor": "white",
             "minorgridcolor": "white",
             "startlinecolor": "#2a3f5f"
            },
            "baxis": {
             "endlinecolor": "#2a3f5f",
             "gridcolor": "white",
             "linecolor": "white",
             "minorgridcolor": "white",
             "startlinecolor": "#2a3f5f"
            },
            "type": "carpet"
           }
          ],
          "choropleth": [
           {
            "colorbar": {
             "outlinewidth": 0,
             "ticks": ""
            },
            "type": "choropleth"
           }
          ],
          "contour": [
           {
            "colorbar": {
             "outlinewidth": 0,
             "ticks": ""
            },
            "colorscale": [
             [
              0,
              "#0d0887"
             ],
             [
              0.1111111111111111,
              "#46039f"
             ],
             [
              0.2222222222222222,
              "#7201a8"
             ],
             [
              0.3333333333333333,
              "#9c179e"
             ],
             [
              0.4444444444444444,
              "#bd3786"
             ],
             [
              0.5555555555555556,
              "#d8576b"
             ],
             [
              0.6666666666666666,
              "#ed7953"
             ],
             [
              0.7777777777777778,
              "#fb9f3a"
             ],
             [
              0.8888888888888888,
              "#fdca26"
             ],
             [
              1,
              "#f0f921"
             ]
            ],
            "type": "contour"
           }
          ],
          "contourcarpet": [
           {
            "colorbar": {
             "outlinewidth": 0,
             "ticks": ""
            },
            "type": "contourcarpet"
           }
          ],
          "heatmap": [
           {
            "colorbar": {
             "outlinewidth": 0,
             "ticks": ""
            },
            "colorscale": [
             [
              0,
              "#0d0887"
             ],
             [
              0.1111111111111111,
              "#46039f"
             ],
             [
              0.2222222222222222,
              "#7201a8"
             ],
             [
              0.3333333333333333,
              "#9c179e"
             ],
             [
              0.4444444444444444,
              "#bd3786"
             ],
             [
              0.5555555555555556,
              "#d8576b"
             ],
             [
              0.6666666666666666,
              "#ed7953"
             ],
             [
              0.7777777777777778,
              "#fb9f3a"
             ],
             [
              0.8888888888888888,
              "#fdca26"
             ],
             [
              1,
              "#f0f921"
             ]
            ],
            "type": "heatmap"
           }
          ],
          "heatmapgl": [
           {
            "colorbar": {
             "outlinewidth": 0,
             "ticks": ""
            },
            "colorscale": [
             [
              0,
              "#0d0887"
             ],
             [
              0.1111111111111111,
              "#46039f"
             ],
             [
              0.2222222222222222,
              "#7201a8"
             ],
             [
              0.3333333333333333,
              "#9c179e"
             ],
             [
              0.4444444444444444,
              "#bd3786"
             ],
             [
              0.5555555555555556,
              "#d8576b"
             ],
             [
              0.6666666666666666,
              "#ed7953"
             ],
             [
              0.7777777777777778,
              "#fb9f3a"
             ],
             [
              0.8888888888888888,
              "#fdca26"
             ],
             [
              1,
              "#f0f921"
             ]
            ],
            "type": "heatmapgl"
           }
          ],
          "histogram": [
           {
            "marker": {
             "colorbar": {
              "outlinewidth": 0,
              "ticks": ""
             }
            },
            "type": "histogram"
           }
          ],
          "histogram2d": [
           {
            "colorbar": {
             "outlinewidth": 0,
             "ticks": ""
            },
            "colorscale": [
             [
              0,
              "#0d0887"
             ],
             [
              0.1111111111111111,
              "#46039f"
             ],
             [
              0.2222222222222222,
              "#7201a8"
             ],
             [
              0.3333333333333333,
              "#9c179e"
             ],
             [
              0.4444444444444444,
              "#bd3786"
             ],
             [
              0.5555555555555556,
              "#d8576b"
             ],
             [
              0.6666666666666666,
              "#ed7953"
             ],
             [
              0.7777777777777778,
              "#fb9f3a"
             ],
             [
              0.8888888888888888,
              "#fdca26"
             ],
             [
              1,
              "#f0f921"
             ]
            ],
            "type": "histogram2d"
           }
          ],
          "histogram2dcontour": [
           {
            "colorbar": {
             "outlinewidth": 0,
             "ticks": ""
            },
            "colorscale": [
             [
              0,
              "#0d0887"
             ],
             [
              0.1111111111111111,
              "#46039f"
             ],
             [
              0.2222222222222222,
              "#7201a8"
             ],
             [
              0.3333333333333333,
              "#9c179e"
             ],
             [
              0.4444444444444444,
              "#bd3786"
             ],
             [
              0.5555555555555556,
              "#d8576b"
             ],
             [
              0.6666666666666666,
              "#ed7953"
             ],
             [
              0.7777777777777778,
              "#fb9f3a"
             ],
             [
              0.8888888888888888,
              "#fdca26"
             ],
             [
              1,
              "#f0f921"
             ]
            ],
            "type": "histogram2dcontour"
           }
          ],
          "mesh3d": [
           {
            "colorbar": {
             "outlinewidth": 0,
             "ticks": ""
            },
            "type": "mesh3d"
           }
          ],
          "parcoords": [
           {
            "line": {
             "colorbar": {
              "outlinewidth": 0,
              "ticks": ""
             }
            },
            "type": "parcoords"
           }
          ],
          "pie": [
           {
            "automargin": true,
            "type": "pie"
           }
          ],
          "scatter": [
           {
            "marker": {
             "colorbar": {
              "outlinewidth": 0,
              "ticks": ""
             }
            },
            "type": "scatter"
           }
          ],
          "scatter3d": [
           {
            "line": {
             "colorbar": {
              "outlinewidth": 0,
              "ticks": ""
             }
            },
            "marker": {
             "colorbar": {
              "outlinewidth": 0,
              "ticks": ""
             }
            },
            "type": "scatter3d"
           }
          ],
          "scattercarpet": [
           {
            "marker": {
             "colorbar": {
              "outlinewidth": 0,
              "ticks": ""
             }
            },
            "type": "scattercarpet"
           }
          ],
          "scattergeo": [
           {
            "marker": {
             "colorbar": {
              "outlinewidth": 0,
              "ticks": ""
             }
            },
            "type": "scattergeo"
           }
          ],
          "scattergl": [
           {
            "marker": {
             "colorbar": {
              "outlinewidth": 0,
              "ticks": ""
             }
            },
            "type": "scattergl"
           }
          ],
          "scattermapbox": [
           {
            "marker": {
             "colorbar": {
              "outlinewidth": 0,
              "ticks": ""
             }
            },
            "type": "scattermapbox"
           }
          ],
          "scatterpolar": [
           {
            "marker": {
             "colorbar": {
              "outlinewidth": 0,
              "ticks": ""
             }
            },
            "type": "scatterpolar"
           }
          ],
          "scatterpolargl": [
           {
            "marker": {
             "colorbar": {
              "outlinewidth": 0,
              "ticks": ""
             }
            },
            "type": "scatterpolargl"
           }
          ],
          "scatterternary": [
           {
            "marker": {
             "colorbar": {
              "outlinewidth": 0,
              "ticks": ""
             }
            },
            "type": "scatterternary"
           }
          ],
          "surface": [
           {
            "colorbar": {
             "outlinewidth": 0,
             "ticks": ""
            },
            "colorscale": [
             [
              0,
              "#0d0887"
             ],
             [
              0.1111111111111111,
              "#46039f"
             ],
             [
              0.2222222222222222,
              "#7201a8"
             ],
             [
              0.3333333333333333,
              "#9c179e"
             ],
             [
              0.4444444444444444,
              "#bd3786"
             ],
             [
              0.5555555555555556,
              "#d8576b"
             ],
             [
              0.6666666666666666,
              "#ed7953"
             ],
             [
              0.7777777777777778,
              "#fb9f3a"
             ],
             [
              0.8888888888888888,
              "#fdca26"
             ],
             [
              1,
              "#f0f921"
             ]
            ],
            "type": "surface"
           }
          ],
          "table": [
           {
            "cells": {
             "fill": {
              "color": "#EBF0F8"
             },
             "line": {
              "color": "white"
             }
            },
            "header": {
             "fill": {
              "color": "#C8D4E3"
             },
             "line": {
              "color": "white"
             }
            },
            "type": "table"
           }
          ]
         },
         "layout": {
          "annotationdefaults": {
           "arrowcolor": "#2a3f5f",
           "arrowhead": 0,
           "arrowwidth": 1
          },
          "autotypenumbers": "strict",
          "coloraxis": {
           "colorbar": {
            "outlinewidth": 0,
            "ticks": ""
           }
          },
          "colorscale": {
           "diverging": [
            [
             0,
             "#8e0152"
            ],
            [
             0.1,
             "#c51b7d"
            ],
            [
             0.2,
             "#de77ae"
            ],
            [
             0.3,
             "#f1b6da"
            ],
            [
             0.4,
             "#fde0ef"
            ],
            [
             0.5,
             "#f7f7f7"
            ],
            [
             0.6,
             "#e6f5d0"
            ],
            [
             0.7,
             "#b8e186"
            ],
            [
             0.8,
             "#7fbc41"
            ],
            [
             0.9,
             "#4d9221"
            ],
            [
             1,
             "#276419"
            ]
           ],
           "sequential": [
            [
             0,
             "#0d0887"
            ],
            [
             0.1111111111111111,
             "#46039f"
            ],
            [
             0.2222222222222222,
             "#7201a8"
            ],
            [
             0.3333333333333333,
             "#9c179e"
            ],
            [
             0.4444444444444444,
             "#bd3786"
            ],
            [
             0.5555555555555556,
             "#d8576b"
            ],
            [
             0.6666666666666666,
             "#ed7953"
            ],
            [
             0.7777777777777778,
             "#fb9f3a"
            ],
            [
             0.8888888888888888,
             "#fdca26"
            ],
            [
             1,
             "#f0f921"
            ]
           ],
           "sequentialminus": [
            [
             0,
             "#0d0887"
            ],
            [
             0.1111111111111111,
             "#46039f"
            ],
            [
             0.2222222222222222,
             "#7201a8"
            ],
            [
             0.3333333333333333,
             "#9c179e"
            ],
            [
             0.4444444444444444,
             "#bd3786"
            ],
            [
             0.5555555555555556,
             "#d8576b"
            ],
            [
             0.6666666666666666,
             "#ed7953"
            ],
            [
             0.7777777777777778,
             "#fb9f3a"
            ],
            [
             0.8888888888888888,
             "#fdca26"
            ],
            [
             1,
             "#f0f921"
            ]
           ]
          },
          "colorway": [
           "#636efa",
           "#EF553B",
           "#00cc96",
           "#ab63fa",
           "#FFA15A",
           "#19d3f3",
           "#FF6692",
           "#B6E880",
           "#FF97FF",
           "#FECB52"
          ],
          "font": {
           "color": "#2a3f5f"
          },
          "geo": {
           "bgcolor": "white",
           "lakecolor": "white",
           "landcolor": "#E5ECF6",
           "showlakes": true,
           "showland": true,
           "subunitcolor": "white"
          },
          "hoverlabel": {
           "align": "left"
          },
          "hovermode": "closest",
          "mapbox": {
           "style": "light"
          },
          "paper_bgcolor": "white",
          "plot_bgcolor": "#E5ECF6",
          "polar": {
           "angularaxis": {
            "gridcolor": "white",
            "linecolor": "white",
            "ticks": ""
           },
           "bgcolor": "#E5ECF6",
           "radialaxis": {
            "gridcolor": "white",
            "linecolor": "white",
            "ticks": ""
           }
          },
          "scene": {
           "xaxis": {
            "backgroundcolor": "#E5ECF6",
            "gridcolor": "white",
            "gridwidth": 2,
            "linecolor": "white",
            "showbackground": true,
            "ticks": "",
            "zerolinecolor": "white"
           },
           "yaxis": {
            "backgroundcolor": "#E5ECF6",
            "gridcolor": "white",
            "gridwidth": 2,
            "linecolor": "white",
            "showbackground": true,
            "ticks": "",
            "zerolinecolor": "white"
           },
           "zaxis": {
            "backgroundcolor": "#E5ECF6",
            "gridcolor": "white",
            "gridwidth": 2,
            "linecolor": "white",
            "showbackground": true,
            "ticks": "",
            "zerolinecolor": "white"
           }
          },
          "shapedefaults": {
           "line": {
            "color": "#2a3f5f"
           }
          },
          "ternary": {
           "aaxis": {
            "gridcolor": "white",
            "linecolor": "white",
            "ticks": ""
           },
           "baxis": {
            "gridcolor": "white",
            "linecolor": "white",
            "ticks": ""
           },
           "bgcolor": "#E5ECF6",
           "caxis": {
            "gridcolor": "white",
            "linecolor": "white",
            "ticks": ""
           }
          },
          "title": {
           "x": 0.05
          },
          "xaxis": {
           "automargin": true,
           "gridcolor": "white",
           "linecolor": "white",
           "ticks": "",
           "title": {
            "standoff": 15
           },
           "zerolinecolor": "white",
           "zerolinewidth": 2
          },
          "yaxis": {
           "automargin": true,
           "gridcolor": "white",
           "linecolor": "white",
           "ticks": "",
           "title": {
            "standoff": 15
           },
           "zerolinecolor": "white",
           "zerolinewidth": 2
          }
         }
        },
        "title": {
         "text": "Total Network Spend during the week"
        },
        "xaxis": {
         "title": {
          "text": "Weekdays"
         }
        },
        "yaxis": {
         "title": {
          "text": "Spend"
         }
        }
       }
      },
      "text/html": [
<<<<<<< HEAD
       "<div>                            <div id=\"5619e0c9-9026-4305-b236-d25a0eea8712\" class=\"plotly-graph-div\" style=\"height:525px; width:100%;\"></div>            <script type=\"text/javascript\">                require([\"plotly\"], function(Plotly) {                    window.PLOTLYENV=window.PLOTLYENV || {};                                    if (document.getElementById(\"5619e0c9-9026-4305-b236-d25a0eea8712\")) {                    Plotly.newPlot(                        \"5619e0c9-9026-4305-b236-d25a0eea8712\",                        [{\"marker\": {\"color\": \"rgba(100, 78, 139, 0.6)\", \"line\": {\"color\": \"rgba(100, 78, 139, 1.0)\", \"width\": 3}}, \"name\": \"NetA_spd\", \"text\": [28805.0, 9504.0, 14817.0, 27272.0, 14433.0, 6816.0, 20595.0], \"textposition\": \"auto\", \"type\": \"bar\", \"x\": [\"Mon\", \"Tue\", \"Wed\", \"Thu\", \"Fri\", \"Sat\", \"Sun\"], \"y\": [28805, 9504, 14817, 27272, 14433, 6816, 20595]}, {\"marker\": {\"color\": \"rgba(58, 71, 80, 0.6)\", \"line\": {\"color\": \"rgba(58, 71, 80, 1.0)\", \"width\": 3}}, \"name\": \"NetB_spd\", \"text\": [25066.0, 29337.0, 19672.0, 14708.0, 17552.0, 14441.0, 17475.0], \"textposition\": \"auto\", \"type\": \"bar\", \"x\": [\"Mon\", \"Tue\", \"Wed\", \"Thu\", \"Fri\", \"Sat\", \"Sun\"], \"y\": [25066, 29337, 19672, 14708, 17552, 14441, 17475]}],                        {\"barmode\": \"stack\", \"template\": {\"data\": {\"bar\": [{\"error_x\": {\"color\": \"#2a3f5f\"}, \"error_y\": {\"color\": \"#2a3f5f\"}, \"marker\": {\"line\": {\"color\": \"#E5ECF6\", \"width\": 0.5}}, \"type\": \"bar\"}], \"barpolar\": [{\"marker\": {\"line\": {\"color\": \"#E5ECF6\", \"width\": 0.5}}, \"type\": \"barpolar\"}], \"carpet\": [{\"aaxis\": {\"endlinecolor\": \"#2a3f5f\", \"gridcolor\": \"white\", \"linecolor\": \"white\", \"minorgridcolor\": \"white\", \"startlinecolor\": \"#2a3f5f\"}, \"baxis\": {\"endlinecolor\": \"#2a3f5f\", \"gridcolor\": \"white\", \"linecolor\": \"white\", \"minorgridcolor\": \"white\", \"startlinecolor\": \"#2a3f5f\"}, \"type\": \"carpet\"}], \"choropleth\": [{\"colorbar\": {\"outlinewidth\": 0, \"ticks\": \"\"}, \"type\": \"choropleth\"}], \"contour\": [{\"colorbar\": {\"outlinewidth\": 0, \"ticks\": \"\"}, \"colorscale\": [[0.0, \"#0d0887\"], [0.1111111111111111, \"#46039f\"], [0.2222222222222222, \"#7201a8\"], [0.3333333333333333, \"#9c179e\"], [0.4444444444444444, \"#bd3786\"], [0.5555555555555556, \"#d8576b\"], [0.6666666666666666, \"#ed7953\"], [0.7777777777777778, \"#fb9f3a\"], [0.8888888888888888, \"#fdca26\"], [1.0, \"#f0f921\"]], \"type\": \"contour\"}], \"contourcarpet\": [{\"colorbar\": {\"outlinewidth\": 0, \"ticks\": \"\"}, \"type\": \"contourcarpet\"}], \"heatmap\": [{\"colorbar\": {\"outlinewidth\": 0, \"ticks\": \"\"}, \"colorscale\": [[0.0, \"#0d0887\"], [0.1111111111111111, \"#46039f\"], [0.2222222222222222, \"#7201a8\"], [0.3333333333333333, \"#9c179e\"], [0.4444444444444444, \"#bd3786\"], [0.5555555555555556, \"#d8576b\"], [0.6666666666666666, \"#ed7953\"], [0.7777777777777778, \"#fb9f3a\"], [0.8888888888888888, \"#fdca26\"], [1.0, \"#f0f921\"]], \"type\": \"heatmap\"}], \"heatmapgl\": [{\"colorbar\": {\"outlinewidth\": 0, \"ticks\": \"\"}, \"colorscale\": [[0.0, \"#0d0887\"], [0.1111111111111111, \"#46039f\"], [0.2222222222222222, \"#7201a8\"], [0.3333333333333333, \"#9c179e\"], [0.4444444444444444, \"#bd3786\"], [0.5555555555555556, \"#d8576b\"], [0.6666666666666666, \"#ed7953\"], [0.7777777777777778, \"#fb9f3a\"], [0.8888888888888888, \"#fdca26\"], [1.0, \"#f0f921\"]], \"type\": \"heatmapgl\"}], \"histogram\": [{\"marker\": {\"colorbar\": {\"outlinewidth\": 0, \"ticks\": \"\"}}, \"type\": \"histogram\"}], \"histogram2d\": [{\"colorbar\": {\"outlinewidth\": 0, \"ticks\": \"\"}, \"colorscale\": [[0.0, \"#0d0887\"], [0.1111111111111111, \"#46039f\"], [0.2222222222222222, \"#7201a8\"], [0.3333333333333333, \"#9c179e\"], [0.4444444444444444, \"#bd3786\"], [0.5555555555555556, \"#d8576b\"], [0.6666666666666666, \"#ed7953\"], [0.7777777777777778, \"#fb9f3a\"], [0.8888888888888888, \"#fdca26\"], [1.0, \"#f0f921\"]], \"type\": \"histogram2d\"}], \"histogram2dcontour\": [{\"colorbar\": {\"outlinewidth\": 0, \"ticks\": \"\"}, \"colorscale\": [[0.0, \"#0d0887\"], [0.1111111111111111, \"#46039f\"], [0.2222222222222222, \"#7201a8\"], [0.3333333333333333, \"#9c179e\"], [0.4444444444444444, \"#bd3786\"], [0.5555555555555556, \"#d8576b\"], [0.6666666666666666, \"#ed7953\"], [0.7777777777777778, \"#fb9f3a\"], [0.8888888888888888, \"#fdca26\"], [1.0, \"#f0f921\"]], \"type\": \"histogram2dcontour\"}], \"mesh3d\": [{\"colorbar\": {\"outlinewidth\": 0, \"ticks\": \"\"}, \"type\": \"mesh3d\"}], \"parcoords\": [{\"line\": {\"colorbar\": {\"outlinewidth\": 0, \"ticks\": \"\"}}, \"type\": \"parcoords\"}], \"pie\": [{\"automargin\": true, \"type\": \"pie\"}], \"scatter\": [{\"marker\": {\"colorbar\": {\"outlinewidth\": 0, \"ticks\": \"\"}}, \"type\": \"scatter\"}], \"scatter3d\": [{\"line\": {\"colorbar\": {\"outlinewidth\": 0, \"ticks\": \"\"}}, \"marker\": {\"colorbar\": {\"outlinewidth\": 0, \"ticks\": \"\"}}, \"type\": \"scatter3d\"}], \"scattercarpet\": [{\"marker\": {\"colorbar\": {\"outlinewidth\": 0, \"ticks\": \"\"}}, \"type\": \"scattercarpet\"}], \"scattergeo\": [{\"marker\": {\"colorbar\": {\"outlinewidth\": 0, \"ticks\": \"\"}}, \"type\": \"scattergeo\"}], \"scattergl\": [{\"marker\": {\"colorbar\": {\"outlinewidth\": 0, \"ticks\": \"\"}}, \"type\": \"scattergl\"}], \"scattermapbox\": [{\"marker\": {\"colorbar\": {\"outlinewidth\": 0, \"ticks\": \"\"}}, \"type\": \"scattermapbox\"}], \"scatterpolar\": [{\"marker\": {\"colorbar\": {\"outlinewidth\": 0, \"ticks\": \"\"}}, \"type\": \"scatterpolar\"}], \"scatterpolargl\": [{\"marker\": {\"colorbar\": {\"outlinewidth\": 0, \"ticks\": \"\"}}, \"type\": \"scatterpolargl\"}], \"scatterternary\": [{\"marker\": {\"colorbar\": {\"outlinewidth\": 0, \"ticks\": \"\"}}, \"type\": \"scatterternary\"}], \"surface\": [{\"colorbar\": {\"outlinewidth\": 0, \"ticks\": \"\"}, \"colorscale\": [[0.0, \"#0d0887\"], [0.1111111111111111, \"#46039f\"], [0.2222222222222222, \"#7201a8\"], [0.3333333333333333, \"#9c179e\"], [0.4444444444444444, \"#bd3786\"], [0.5555555555555556, \"#d8576b\"], [0.6666666666666666, \"#ed7953\"], [0.7777777777777778, \"#fb9f3a\"], [0.8888888888888888, \"#fdca26\"], [1.0, \"#f0f921\"]], \"type\": \"surface\"}], \"table\": [{\"cells\": {\"fill\": {\"color\": \"#EBF0F8\"}, \"line\": {\"color\": \"white\"}}, \"header\": {\"fill\": {\"color\": \"#C8D4E3\"}, \"line\": {\"color\": \"white\"}}, \"type\": \"table\"}]}, \"layout\": {\"annotationdefaults\": {\"arrowcolor\": \"#2a3f5f\", \"arrowhead\": 0, \"arrowwidth\": 1}, \"autotypenumbers\": \"strict\", \"coloraxis\": {\"colorbar\": {\"outlinewidth\": 0, \"ticks\": \"\"}}, \"colorscale\": {\"diverging\": [[0, \"#8e0152\"], [0.1, \"#c51b7d\"], [0.2, \"#de77ae\"], [0.3, \"#f1b6da\"], [0.4, \"#fde0ef\"], [0.5, \"#f7f7f7\"], [0.6, \"#e6f5d0\"], [0.7, \"#b8e186\"], [0.8, \"#7fbc41\"], [0.9, \"#4d9221\"], [1, \"#276419\"]], \"sequential\": [[0.0, \"#0d0887\"], [0.1111111111111111, \"#46039f\"], [0.2222222222222222, \"#7201a8\"], [0.3333333333333333, \"#9c179e\"], [0.4444444444444444, \"#bd3786\"], [0.5555555555555556, \"#d8576b\"], [0.6666666666666666, \"#ed7953\"], [0.7777777777777778, \"#fb9f3a\"], [0.8888888888888888, \"#fdca26\"], [1.0, \"#f0f921\"]], \"sequentialminus\": [[0.0, \"#0d0887\"], [0.1111111111111111, \"#46039f\"], [0.2222222222222222, \"#7201a8\"], [0.3333333333333333, \"#9c179e\"], [0.4444444444444444, \"#bd3786\"], [0.5555555555555556, \"#d8576b\"], [0.6666666666666666, \"#ed7953\"], [0.7777777777777778, \"#fb9f3a\"], [0.8888888888888888, \"#fdca26\"], [1.0, \"#f0f921\"]]}, \"colorway\": [\"#636efa\", \"#EF553B\", \"#00cc96\", \"#ab63fa\", \"#FFA15A\", \"#19d3f3\", \"#FF6692\", \"#B6E880\", \"#FF97FF\", \"#FECB52\"], \"font\": {\"color\": \"#2a3f5f\"}, \"geo\": {\"bgcolor\": \"white\", \"lakecolor\": \"white\", \"landcolor\": \"#E5ECF6\", \"showlakes\": true, \"showland\": true, \"subunitcolor\": \"white\"}, \"hoverlabel\": {\"align\": \"left\"}, \"hovermode\": \"closest\", \"mapbox\": {\"style\": \"light\"}, \"paper_bgcolor\": \"white\", \"plot_bgcolor\": \"#E5ECF6\", \"polar\": {\"angularaxis\": {\"gridcolor\": \"white\", \"linecolor\": \"white\", \"ticks\": \"\"}, \"bgcolor\": \"#E5ECF6\", \"radialaxis\": {\"gridcolor\": \"white\", \"linecolor\": \"white\", \"ticks\": \"\"}}, \"scene\": {\"xaxis\": {\"backgroundcolor\": \"#E5ECF6\", \"gridcolor\": \"white\", \"gridwidth\": 2, \"linecolor\": \"white\", \"showbackground\": true, \"ticks\": \"\", \"zerolinecolor\": \"white\"}, \"yaxis\": {\"backgroundcolor\": \"#E5ECF6\", \"gridcolor\": \"white\", \"gridwidth\": 2, \"linecolor\": \"white\", \"showbackground\": true, \"ticks\": \"\", \"zerolinecolor\": \"white\"}, \"zaxis\": {\"backgroundcolor\": \"#E5ECF6\", \"gridcolor\": \"white\", \"gridwidth\": 2, \"linecolor\": \"white\", \"showbackground\": true, \"ticks\": \"\", \"zerolinecolor\": \"white\"}}, \"shapedefaults\": {\"line\": {\"color\": \"#2a3f5f\"}}, \"ternary\": {\"aaxis\": {\"gridcolor\": \"white\", \"linecolor\": \"white\", \"ticks\": \"\"}, \"baxis\": {\"gridcolor\": \"white\", \"linecolor\": \"white\", \"ticks\": \"\"}, \"bgcolor\": \"#E5ECF6\", \"caxis\": {\"gridcolor\": \"white\", \"linecolor\": \"white\", \"ticks\": \"\"}}, \"title\": {\"x\": 0.05}, \"xaxis\": {\"automargin\": true, \"gridcolor\": \"white\", \"linecolor\": \"white\", \"ticks\": \"\", \"title\": {\"standoff\": 15}, \"zerolinecolor\": \"white\", \"zerolinewidth\": 2}, \"yaxis\": {\"automargin\": true, \"gridcolor\": \"white\", \"linecolor\": \"white\", \"ticks\": \"\", \"title\": {\"standoff\": 15}, \"zerolinecolor\": \"white\", \"zerolinewidth\": 2}}}, \"title\": {\"text\": \"Total Network Spend during the week\"}, \"xaxis\": {\"title\": {\"text\": \"Weekdays\"}}, \"yaxis\": {\"title\": {\"text\": \"Spend\"}}},                        {\"responsive\": true}                    ).then(function(){\n",
       "                            \n",
       "var gd = document.getElementById('5619e0c9-9026-4305-b236-d25a0eea8712');\n",
=======
<<<<<<< HEAD
       "<div>                            <div id=\"2d82d2fd-2914-4270-9c8b-483a76b114b6\" class=\"plotly-graph-div\" style=\"height:525px; width:100%;\"></div>            <script type=\"text/javascript\">                require([\"plotly\"], function(Plotly) {                    window.PLOTLYENV=window.PLOTLYENV || {};                                    if (document.getElementById(\"2d82d2fd-2914-4270-9c8b-483a76b114b6\")) {                    Plotly.newPlot(                        \"2d82d2fd-2914-4270-9c8b-483a76b114b6\",                        [{\"marker\": {\"color\": \"rgba(100, 78, 139, 0.6)\", \"line\": {\"color\": \"rgba(100, 78, 139, 1.0)\", \"width\": 3}}, \"name\": \"NetA_spd\", \"text\": [28805.0, 9504.0, 14817.0, 27272.0, 14433.0, 6816.0, 20595.0], \"textposition\": \"auto\", \"type\": \"bar\", \"x\": [\"Mon\", \"Tue\", \"Wed\", \"Thu\", \"Fri\", \"Sat\", \"Sun\"], \"y\": [28805, 9504, 14817, 27272, 14433, 6816, 20595]}, {\"marker\": {\"color\": \"rgba(58, 71, 80, 0.6)\", \"line\": {\"color\": \"rgba(58, 71, 80, 1.0)\", \"width\": 3}}, \"name\": \"NetB_spd\", \"text\": [25066.0, 29337.0, 19672.0, 14708.0, 17552.0, 14441.0, 17475.0], \"textposition\": \"auto\", \"type\": \"bar\", \"x\": [\"Mon\", \"Tue\", \"Wed\", \"Thu\", \"Fri\", \"Sat\", \"Sun\"], \"y\": [25066, 29337, 19672, 14708, 17552, 14441, 17475]}],                        {\"barmode\": \"stack\", \"template\": {\"data\": {\"bar\": [{\"error_x\": {\"color\": \"#2a3f5f\"}, \"error_y\": {\"color\": \"#2a3f5f\"}, \"marker\": {\"line\": {\"color\": \"#E5ECF6\", \"width\": 0.5}}, \"type\": \"bar\"}], \"barpolar\": [{\"marker\": {\"line\": {\"color\": \"#E5ECF6\", \"width\": 0.5}}, \"type\": \"barpolar\"}], \"carpet\": [{\"aaxis\": {\"endlinecolor\": \"#2a3f5f\", \"gridcolor\": \"white\", \"linecolor\": \"white\", \"minorgridcolor\": \"white\", \"startlinecolor\": \"#2a3f5f\"}, \"baxis\": {\"endlinecolor\": \"#2a3f5f\", \"gridcolor\": \"white\", \"linecolor\": \"white\", \"minorgridcolor\": \"white\", \"startlinecolor\": \"#2a3f5f\"}, \"type\": \"carpet\"}], \"choropleth\": [{\"colorbar\": {\"outlinewidth\": 0, \"ticks\": \"\"}, \"type\": \"choropleth\"}], \"contour\": [{\"colorbar\": {\"outlinewidth\": 0, \"ticks\": \"\"}, \"colorscale\": [[0.0, \"#0d0887\"], [0.1111111111111111, \"#46039f\"], [0.2222222222222222, \"#7201a8\"], [0.3333333333333333, \"#9c179e\"], [0.4444444444444444, \"#bd3786\"], [0.5555555555555556, \"#d8576b\"], [0.6666666666666666, \"#ed7953\"], [0.7777777777777778, \"#fb9f3a\"], [0.8888888888888888, \"#fdca26\"], [1.0, \"#f0f921\"]], \"type\": \"contour\"}], \"contourcarpet\": [{\"colorbar\": {\"outlinewidth\": 0, \"ticks\": \"\"}, \"type\": \"contourcarpet\"}], \"heatmap\": [{\"colorbar\": {\"outlinewidth\": 0, \"ticks\": \"\"}, \"colorscale\": [[0.0, \"#0d0887\"], [0.1111111111111111, \"#46039f\"], [0.2222222222222222, \"#7201a8\"], [0.3333333333333333, \"#9c179e\"], [0.4444444444444444, \"#bd3786\"], [0.5555555555555556, \"#d8576b\"], [0.6666666666666666, \"#ed7953\"], [0.7777777777777778, \"#fb9f3a\"], [0.8888888888888888, \"#fdca26\"], [1.0, \"#f0f921\"]], \"type\": \"heatmap\"}], \"heatmapgl\": [{\"colorbar\": {\"outlinewidth\": 0, \"ticks\": \"\"}, \"colorscale\": [[0.0, \"#0d0887\"], [0.1111111111111111, \"#46039f\"], [0.2222222222222222, \"#7201a8\"], [0.3333333333333333, \"#9c179e\"], [0.4444444444444444, \"#bd3786\"], [0.5555555555555556, \"#d8576b\"], [0.6666666666666666, \"#ed7953\"], [0.7777777777777778, \"#fb9f3a\"], [0.8888888888888888, \"#fdca26\"], [1.0, \"#f0f921\"]], \"type\": \"heatmapgl\"}], \"histogram\": [{\"marker\": {\"colorbar\": {\"outlinewidth\": 0, \"ticks\": \"\"}}, \"type\": \"histogram\"}], \"histogram2d\": [{\"colorbar\": {\"outlinewidth\": 0, \"ticks\": \"\"}, \"colorscale\": [[0.0, \"#0d0887\"], [0.1111111111111111, \"#46039f\"], [0.2222222222222222, \"#7201a8\"], [0.3333333333333333, \"#9c179e\"], [0.4444444444444444, \"#bd3786\"], [0.5555555555555556, \"#d8576b\"], [0.6666666666666666, \"#ed7953\"], [0.7777777777777778, \"#fb9f3a\"], [0.8888888888888888, \"#fdca26\"], [1.0, \"#f0f921\"]], \"type\": \"histogram2d\"}], \"histogram2dcontour\": [{\"colorbar\": {\"outlinewidth\": 0, \"ticks\": \"\"}, \"colorscale\": [[0.0, \"#0d0887\"], [0.1111111111111111, \"#46039f\"], [0.2222222222222222, \"#7201a8\"], [0.3333333333333333, \"#9c179e\"], [0.4444444444444444, \"#bd3786\"], [0.5555555555555556, \"#d8576b\"], [0.6666666666666666, \"#ed7953\"], [0.7777777777777778, \"#fb9f3a\"], [0.8888888888888888, \"#fdca26\"], [1.0, \"#f0f921\"]], \"type\": \"histogram2dcontour\"}], \"mesh3d\": [{\"colorbar\": {\"outlinewidth\": 0, \"ticks\": \"\"}, \"type\": \"mesh3d\"}], \"parcoords\": [{\"line\": {\"colorbar\": {\"outlinewidth\": 0, \"ticks\": \"\"}}, \"type\": \"parcoords\"}], \"pie\": [{\"automargin\": true, \"type\": \"pie\"}], \"scatter\": [{\"marker\": {\"colorbar\": {\"outlinewidth\": 0, \"ticks\": \"\"}}, \"type\": \"scatter\"}], \"scatter3d\": [{\"line\": {\"colorbar\": {\"outlinewidth\": 0, \"ticks\": \"\"}}, \"marker\": {\"colorbar\": {\"outlinewidth\": 0, \"ticks\": \"\"}}, \"type\": \"scatter3d\"}], \"scattercarpet\": [{\"marker\": {\"colorbar\": {\"outlinewidth\": 0, \"ticks\": \"\"}}, \"type\": \"scattercarpet\"}], \"scattergeo\": [{\"marker\": {\"colorbar\": {\"outlinewidth\": 0, \"ticks\": \"\"}}, \"type\": \"scattergeo\"}], \"scattergl\": [{\"marker\": {\"colorbar\": {\"outlinewidth\": 0, \"ticks\": \"\"}}, \"type\": \"scattergl\"}], \"scattermapbox\": [{\"marker\": {\"colorbar\": {\"outlinewidth\": 0, \"ticks\": \"\"}}, \"type\": \"scattermapbox\"}], \"scatterpolar\": [{\"marker\": {\"colorbar\": {\"outlinewidth\": 0, \"ticks\": \"\"}}, \"type\": \"scatterpolar\"}], \"scatterpolargl\": [{\"marker\": {\"colorbar\": {\"outlinewidth\": 0, \"ticks\": \"\"}}, \"type\": \"scatterpolargl\"}], \"scatterternary\": [{\"marker\": {\"colorbar\": {\"outlinewidth\": 0, \"ticks\": \"\"}}, \"type\": \"scatterternary\"}], \"surface\": [{\"colorbar\": {\"outlinewidth\": 0, \"ticks\": \"\"}, \"colorscale\": [[0.0, \"#0d0887\"], [0.1111111111111111, \"#46039f\"], [0.2222222222222222, \"#7201a8\"], [0.3333333333333333, \"#9c179e\"], [0.4444444444444444, \"#bd3786\"], [0.5555555555555556, \"#d8576b\"], [0.6666666666666666, \"#ed7953\"], [0.7777777777777778, \"#fb9f3a\"], [0.8888888888888888, \"#fdca26\"], [1.0, \"#f0f921\"]], \"type\": \"surface\"}], \"table\": [{\"cells\": {\"fill\": {\"color\": \"#EBF0F8\"}, \"line\": {\"color\": \"white\"}}, \"header\": {\"fill\": {\"color\": \"#C8D4E3\"}, \"line\": {\"color\": \"white\"}}, \"type\": \"table\"}]}, \"layout\": {\"annotationdefaults\": {\"arrowcolor\": \"#2a3f5f\", \"arrowhead\": 0, \"arrowwidth\": 1}, \"autotypenumbers\": \"strict\", \"coloraxis\": {\"colorbar\": {\"outlinewidth\": 0, \"ticks\": \"\"}}, \"colorscale\": {\"diverging\": [[0, \"#8e0152\"], [0.1, \"#c51b7d\"], [0.2, \"#de77ae\"], [0.3, \"#f1b6da\"], [0.4, \"#fde0ef\"], [0.5, \"#f7f7f7\"], [0.6, \"#e6f5d0\"], [0.7, \"#b8e186\"], [0.8, \"#7fbc41\"], [0.9, \"#4d9221\"], [1, \"#276419\"]], \"sequential\": [[0.0, \"#0d0887\"], [0.1111111111111111, \"#46039f\"], [0.2222222222222222, \"#7201a8\"], [0.3333333333333333, \"#9c179e\"], [0.4444444444444444, \"#bd3786\"], [0.5555555555555556, \"#d8576b\"], [0.6666666666666666, \"#ed7953\"], [0.7777777777777778, \"#fb9f3a\"], [0.8888888888888888, \"#fdca26\"], [1.0, \"#f0f921\"]], \"sequentialminus\": [[0.0, \"#0d0887\"], [0.1111111111111111, \"#46039f\"], [0.2222222222222222, \"#7201a8\"], [0.3333333333333333, \"#9c179e\"], [0.4444444444444444, \"#bd3786\"], [0.5555555555555556, \"#d8576b\"], [0.6666666666666666, \"#ed7953\"], [0.7777777777777778, \"#fb9f3a\"], [0.8888888888888888, \"#fdca26\"], [1.0, \"#f0f921\"]]}, \"colorway\": [\"#636efa\", \"#EF553B\", \"#00cc96\", \"#ab63fa\", \"#FFA15A\", \"#19d3f3\", \"#FF6692\", \"#B6E880\", \"#FF97FF\", \"#FECB52\"], \"font\": {\"color\": \"#2a3f5f\"}, \"geo\": {\"bgcolor\": \"white\", \"lakecolor\": \"white\", \"landcolor\": \"#E5ECF6\", \"showlakes\": true, \"showland\": true, \"subunitcolor\": \"white\"}, \"hoverlabel\": {\"align\": \"left\"}, \"hovermode\": \"closest\", \"mapbox\": {\"style\": \"light\"}, \"paper_bgcolor\": \"white\", \"plot_bgcolor\": \"#E5ECF6\", \"polar\": {\"angularaxis\": {\"gridcolor\": \"white\", \"linecolor\": \"white\", \"ticks\": \"\"}, \"bgcolor\": \"#E5ECF6\", \"radialaxis\": {\"gridcolor\": \"white\", \"linecolor\": \"white\", \"ticks\": \"\"}}, \"scene\": {\"xaxis\": {\"backgroundcolor\": \"#E5ECF6\", \"gridcolor\": \"white\", \"gridwidth\": 2, \"linecolor\": \"white\", \"showbackground\": true, \"ticks\": \"\", \"zerolinecolor\": \"white\"}, \"yaxis\": {\"backgroundcolor\": \"#E5ECF6\", \"gridcolor\": \"white\", \"gridwidth\": 2, \"linecolor\": \"white\", \"showbackground\": true, \"ticks\": \"\", \"zerolinecolor\": \"white\"}, \"zaxis\": {\"backgroundcolor\": \"#E5ECF6\", \"gridcolor\": \"white\", \"gridwidth\": 2, \"linecolor\": \"white\", \"showbackground\": true, \"ticks\": \"\", \"zerolinecolor\": \"white\"}}, \"shapedefaults\": {\"line\": {\"color\": \"#2a3f5f\"}}, \"ternary\": {\"aaxis\": {\"gridcolor\": \"white\", \"linecolor\": \"white\", \"ticks\": \"\"}, \"baxis\": {\"gridcolor\": \"white\", \"linecolor\": \"white\", \"ticks\": \"\"}, \"bgcolor\": \"#E5ECF6\", \"caxis\": {\"gridcolor\": \"white\", \"linecolor\": \"white\", \"ticks\": \"\"}}, \"title\": {\"x\": 0.05}, \"xaxis\": {\"automargin\": true, \"gridcolor\": \"white\", \"linecolor\": \"white\", \"ticks\": \"\", \"title\": {\"standoff\": 15}, \"zerolinecolor\": \"white\", \"zerolinewidth\": 2}, \"yaxis\": {\"automargin\": true, \"gridcolor\": \"white\", \"linecolor\": \"white\", \"ticks\": \"\", \"title\": {\"standoff\": 15}, \"zerolinecolor\": \"white\", \"zerolinewidth\": 2}}}, \"title\": {\"text\": \"Total Network Spend during the week\"}, \"xaxis\": {\"title\": {\"text\": \"Weekdays\"}}, \"yaxis\": {\"title\": {\"text\": \"Spend\"}}},                        {\"responsive\": true}                    ).then(function(){\n",
       "                            \n",
       "var gd = document.getElementById('2d82d2fd-2914-4270-9c8b-483a76b114b6');\n",
=======
       "<div>                            <div id=\"420fe55f-6dcf-4cef-a68c-d5b28323982a\" class=\"plotly-graph-div\" style=\"height:525px; width:100%;\"></div>            <script type=\"text/javascript\">                require([\"plotly\"], function(Plotly) {                    window.PLOTLYENV=window.PLOTLYENV || {};                                    if (document.getElementById(\"420fe55f-6dcf-4cef-a68c-d5b28323982a\")) {                    Plotly.newPlot(                        \"420fe55f-6dcf-4cef-a68c-d5b28323982a\",                        [{\"marker\": {\"color\": \"rgba(100, 78, 139, 0.6)\", \"line\": {\"color\": \"rgba(100, 78, 139, 1.0)\", \"width\": 3}}, \"name\": \"NetA_spd\", \"text\": [28805.0, 9504.0, 14817.0, 27272.0, 14433.0, 6816.0, 20595.0], \"textposition\": \"auto\", \"type\": \"bar\", \"x\": [\"Mon\", \"Tue\", \"Wed\", \"Thu\", \"Fri\", \"Sat\", \"Sun\"], \"y\": [28805, 9504, 14817, 27272, 14433, 6816, 20595]}, {\"marker\": {\"color\": \"rgba(58, 71, 80, 0.6)\", \"line\": {\"color\": \"rgba(58, 71, 80, 1.0)\", \"width\": 3}}, \"name\": \"NetB_spd\", \"text\": [25066.0, 29337.0, 19672.0, 14708.0, 17552.0, 14441.0, 17475.0], \"textposition\": \"auto\", \"type\": \"bar\", \"x\": [\"Mon\", \"Tue\", \"Wed\", \"Thu\", \"Fri\", \"Sat\", \"Sun\"], \"y\": [25066, 29337, 19672, 14708, 17552, 14441, 17475]}],                        {\"barmode\": \"stack\", \"template\": {\"data\": {\"bar\": [{\"error_x\": {\"color\": \"#2a3f5f\"}, \"error_y\": {\"color\": \"#2a3f5f\"}, \"marker\": {\"line\": {\"color\": \"#E5ECF6\", \"width\": 0.5}}, \"type\": \"bar\"}], \"barpolar\": [{\"marker\": {\"line\": {\"color\": \"#E5ECF6\", \"width\": 0.5}}, \"type\": \"barpolar\"}], \"carpet\": [{\"aaxis\": {\"endlinecolor\": \"#2a3f5f\", \"gridcolor\": \"white\", \"linecolor\": \"white\", \"minorgridcolor\": \"white\", \"startlinecolor\": \"#2a3f5f\"}, \"baxis\": {\"endlinecolor\": \"#2a3f5f\", \"gridcolor\": \"white\", \"linecolor\": \"white\", \"minorgridcolor\": \"white\", \"startlinecolor\": \"#2a3f5f\"}, \"type\": \"carpet\"}], \"choropleth\": [{\"colorbar\": {\"outlinewidth\": 0, \"ticks\": \"\"}, \"type\": \"choropleth\"}], \"contour\": [{\"colorbar\": {\"outlinewidth\": 0, \"ticks\": \"\"}, \"colorscale\": [[0.0, \"#0d0887\"], [0.1111111111111111, \"#46039f\"], [0.2222222222222222, \"#7201a8\"], [0.3333333333333333, \"#9c179e\"], [0.4444444444444444, \"#bd3786\"], [0.5555555555555556, \"#d8576b\"], [0.6666666666666666, \"#ed7953\"], [0.7777777777777778, \"#fb9f3a\"], [0.8888888888888888, \"#fdca26\"], [1.0, \"#f0f921\"]], \"type\": \"contour\"}], \"contourcarpet\": [{\"colorbar\": {\"outlinewidth\": 0, \"ticks\": \"\"}, \"type\": \"contourcarpet\"}], \"heatmap\": [{\"colorbar\": {\"outlinewidth\": 0, \"ticks\": \"\"}, \"colorscale\": [[0.0, \"#0d0887\"], [0.1111111111111111, \"#46039f\"], [0.2222222222222222, \"#7201a8\"], [0.3333333333333333, \"#9c179e\"], [0.4444444444444444, \"#bd3786\"], [0.5555555555555556, \"#d8576b\"], [0.6666666666666666, \"#ed7953\"], [0.7777777777777778, \"#fb9f3a\"], [0.8888888888888888, \"#fdca26\"], [1.0, \"#f0f921\"]], \"type\": \"heatmap\"}], \"heatmapgl\": [{\"colorbar\": {\"outlinewidth\": 0, \"ticks\": \"\"}, \"colorscale\": [[0.0, \"#0d0887\"], [0.1111111111111111, \"#46039f\"], [0.2222222222222222, \"#7201a8\"], [0.3333333333333333, \"#9c179e\"], [0.4444444444444444, \"#bd3786\"], [0.5555555555555556, \"#d8576b\"], [0.6666666666666666, \"#ed7953\"], [0.7777777777777778, \"#fb9f3a\"], [0.8888888888888888, \"#fdca26\"], [1.0, \"#f0f921\"]], \"type\": \"heatmapgl\"}], \"histogram\": [{\"marker\": {\"colorbar\": {\"outlinewidth\": 0, \"ticks\": \"\"}}, \"type\": \"histogram\"}], \"histogram2d\": [{\"colorbar\": {\"outlinewidth\": 0, \"ticks\": \"\"}, \"colorscale\": [[0.0, \"#0d0887\"], [0.1111111111111111, \"#46039f\"], [0.2222222222222222, \"#7201a8\"], [0.3333333333333333, \"#9c179e\"], [0.4444444444444444, \"#bd3786\"], [0.5555555555555556, \"#d8576b\"], [0.6666666666666666, \"#ed7953\"], [0.7777777777777778, \"#fb9f3a\"], [0.8888888888888888, \"#fdca26\"], [1.0, \"#f0f921\"]], \"type\": \"histogram2d\"}], \"histogram2dcontour\": [{\"colorbar\": {\"outlinewidth\": 0, \"ticks\": \"\"}, \"colorscale\": [[0.0, \"#0d0887\"], [0.1111111111111111, \"#46039f\"], [0.2222222222222222, \"#7201a8\"], [0.3333333333333333, \"#9c179e\"], [0.4444444444444444, \"#bd3786\"], [0.5555555555555556, \"#d8576b\"], [0.6666666666666666, \"#ed7953\"], [0.7777777777777778, \"#fb9f3a\"], [0.8888888888888888, \"#fdca26\"], [1.0, \"#f0f921\"]], \"type\": \"histogram2dcontour\"}], \"mesh3d\": [{\"colorbar\": {\"outlinewidth\": 0, \"ticks\": \"\"}, \"type\": \"mesh3d\"}], \"parcoords\": [{\"line\": {\"colorbar\": {\"outlinewidth\": 0, \"ticks\": \"\"}}, \"type\": \"parcoords\"}], \"pie\": [{\"automargin\": true, \"type\": \"pie\"}], \"scatter\": [{\"marker\": {\"colorbar\": {\"outlinewidth\": 0, \"ticks\": \"\"}}, \"type\": \"scatter\"}], \"scatter3d\": [{\"line\": {\"colorbar\": {\"outlinewidth\": 0, \"ticks\": \"\"}}, \"marker\": {\"colorbar\": {\"outlinewidth\": 0, \"ticks\": \"\"}}, \"type\": \"scatter3d\"}], \"scattercarpet\": [{\"marker\": {\"colorbar\": {\"outlinewidth\": 0, \"ticks\": \"\"}}, \"type\": \"scattercarpet\"}], \"scattergeo\": [{\"marker\": {\"colorbar\": {\"outlinewidth\": 0, \"ticks\": \"\"}}, \"type\": \"scattergeo\"}], \"scattergl\": [{\"marker\": {\"colorbar\": {\"outlinewidth\": 0, \"ticks\": \"\"}}, \"type\": \"scattergl\"}], \"scattermapbox\": [{\"marker\": {\"colorbar\": {\"outlinewidth\": 0, \"ticks\": \"\"}}, \"type\": \"scattermapbox\"}], \"scatterpolar\": [{\"marker\": {\"colorbar\": {\"outlinewidth\": 0, \"ticks\": \"\"}}, \"type\": \"scatterpolar\"}], \"scatterpolargl\": [{\"marker\": {\"colorbar\": {\"outlinewidth\": 0, \"ticks\": \"\"}}, \"type\": \"scatterpolargl\"}], \"scatterternary\": [{\"marker\": {\"colorbar\": {\"outlinewidth\": 0, \"ticks\": \"\"}}, \"type\": \"scatterternary\"}], \"surface\": [{\"colorbar\": {\"outlinewidth\": 0, \"ticks\": \"\"}, \"colorscale\": [[0.0, \"#0d0887\"], [0.1111111111111111, \"#46039f\"], [0.2222222222222222, \"#7201a8\"], [0.3333333333333333, \"#9c179e\"], [0.4444444444444444, \"#bd3786\"], [0.5555555555555556, \"#d8576b\"], [0.6666666666666666, \"#ed7953\"], [0.7777777777777778, \"#fb9f3a\"], [0.8888888888888888, \"#fdca26\"], [1.0, \"#f0f921\"]], \"type\": \"surface\"}], \"table\": [{\"cells\": {\"fill\": {\"color\": \"#EBF0F8\"}, \"line\": {\"color\": \"white\"}}, \"header\": {\"fill\": {\"color\": \"#C8D4E3\"}, \"line\": {\"color\": \"white\"}}, \"type\": \"table\"}]}, \"layout\": {\"annotationdefaults\": {\"arrowcolor\": \"#2a3f5f\", \"arrowhead\": 0, \"arrowwidth\": 1}, \"autotypenumbers\": \"strict\", \"coloraxis\": {\"colorbar\": {\"outlinewidth\": 0, \"ticks\": \"\"}}, \"colorscale\": {\"diverging\": [[0, \"#8e0152\"], [0.1, \"#c51b7d\"], [0.2, \"#de77ae\"], [0.3, \"#f1b6da\"], [0.4, \"#fde0ef\"], [0.5, \"#f7f7f7\"], [0.6, \"#e6f5d0\"], [0.7, \"#b8e186\"], [0.8, \"#7fbc41\"], [0.9, \"#4d9221\"], [1, \"#276419\"]], \"sequential\": [[0.0, \"#0d0887\"], [0.1111111111111111, \"#46039f\"], [0.2222222222222222, \"#7201a8\"], [0.3333333333333333, \"#9c179e\"], [0.4444444444444444, \"#bd3786\"], [0.5555555555555556, \"#d8576b\"], [0.6666666666666666, \"#ed7953\"], [0.7777777777777778, \"#fb9f3a\"], [0.8888888888888888, \"#fdca26\"], [1.0, \"#f0f921\"]], \"sequentialminus\": [[0.0, \"#0d0887\"], [0.1111111111111111, \"#46039f\"], [0.2222222222222222, \"#7201a8\"], [0.3333333333333333, \"#9c179e\"], [0.4444444444444444, \"#bd3786\"], [0.5555555555555556, \"#d8576b\"], [0.6666666666666666, \"#ed7953\"], [0.7777777777777778, \"#fb9f3a\"], [0.8888888888888888, \"#fdca26\"], [1.0, \"#f0f921\"]]}, \"colorway\": [\"#636efa\", \"#EF553B\", \"#00cc96\", \"#ab63fa\", \"#FFA15A\", \"#19d3f3\", \"#FF6692\", \"#B6E880\", \"#FF97FF\", \"#FECB52\"], \"font\": {\"color\": \"#2a3f5f\"}, \"geo\": {\"bgcolor\": \"white\", \"lakecolor\": \"white\", \"landcolor\": \"#E5ECF6\", \"showlakes\": true, \"showland\": true, \"subunitcolor\": \"white\"}, \"hoverlabel\": {\"align\": \"left\"}, \"hovermode\": \"closest\", \"mapbox\": {\"style\": \"light\"}, \"paper_bgcolor\": \"white\", \"plot_bgcolor\": \"#E5ECF6\", \"polar\": {\"angularaxis\": {\"gridcolor\": \"white\", \"linecolor\": \"white\", \"ticks\": \"\"}, \"bgcolor\": \"#E5ECF6\", \"radialaxis\": {\"gridcolor\": \"white\", \"linecolor\": \"white\", \"ticks\": \"\"}}, \"scene\": {\"xaxis\": {\"backgroundcolor\": \"#E5ECF6\", \"gridcolor\": \"white\", \"gridwidth\": 2, \"linecolor\": \"white\", \"showbackground\": true, \"ticks\": \"\", \"zerolinecolor\": \"white\"}, \"yaxis\": {\"backgroundcolor\": \"#E5ECF6\", \"gridcolor\": \"white\", \"gridwidth\": 2, \"linecolor\": \"white\", \"showbackground\": true, \"ticks\": \"\", \"zerolinecolor\": \"white\"}, \"zaxis\": {\"backgroundcolor\": \"#E5ECF6\", \"gridcolor\": \"white\", \"gridwidth\": 2, \"linecolor\": \"white\", \"showbackground\": true, \"ticks\": \"\", \"zerolinecolor\": \"white\"}}, \"shapedefaults\": {\"line\": {\"color\": \"#2a3f5f\"}}, \"ternary\": {\"aaxis\": {\"gridcolor\": \"white\", \"linecolor\": \"white\", \"ticks\": \"\"}, \"baxis\": {\"gridcolor\": \"white\", \"linecolor\": \"white\", \"ticks\": \"\"}, \"bgcolor\": \"#E5ECF6\", \"caxis\": {\"gridcolor\": \"white\", \"linecolor\": \"white\", \"ticks\": \"\"}}, \"title\": {\"x\": 0.05}, \"xaxis\": {\"automargin\": true, \"gridcolor\": \"white\", \"linecolor\": \"white\", \"ticks\": \"\", \"title\": {\"standoff\": 15}, \"zerolinecolor\": \"white\", \"zerolinewidth\": 2}, \"yaxis\": {\"automargin\": true, \"gridcolor\": \"white\", \"linecolor\": \"white\", \"ticks\": \"\", \"title\": {\"standoff\": 15}, \"zerolinecolor\": \"white\", \"zerolinewidth\": 2}}}, \"title\": {\"text\": \"Total Network Spend during the week\"}, \"xaxis\": {\"title\": {\"text\": \"Weekdays\"}}, \"yaxis\": {\"title\": {\"text\": \"Spend\"}}},                        {\"responsive\": true}                    ).then(function(){\n",
       "                            \n",
       "var gd = document.getElementById('420fe55f-6dcf-4cef-a68c-d5b28323982a');\n",
>>>>>>> main
>>>>>>> main
       "var x = new MutationObserver(function (mutations, observer) {{\n",
       "        var display = window.getComputedStyle(gd).display;\n",
       "        if (!display || display === 'none') {{\n",
       "            console.log([gd, 'removed!']);\n",
       "            Plotly.purge(gd);\n",
       "            observer.disconnect();\n",
       "        }}\n",
       "}});\n",
       "\n",
       "// Listen for the removal of the full notebook cells\n",
       "var notebookContainer = gd.closest('#notebook-container');\n",
       "if (notebookContainer) {{\n",
       "    x.observe(notebookContainer, {childList: true});\n",
       "}}\n",
       "\n",
       "// Listen for the clearing of the current output cell\n",
       "var outputEl = gd.closest('.output');\n",
       "if (outputEl) {{\n",
       "    x.observe(outputEl, {childList: true});\n",
       "}}\n",
       "\n",
       "                        })                };                });            </script>        </div>"
      ]
     },
     "metadata": {},
     "output_type": "display_data"
    }
   ],
   "source": [
    "fig = go.Figure(data=[go.Bar(name=\"NetA_spd\",\n",
    "            x=df_plot['Weekday'], y=df_plot['NetA_spd'],text=df_plot['NetA_spd'],\n",
    "            textposition='auto',marker=dict(\n",
    "        color='rgba(100, 78, 139, 0.6)',\n",
    "        line=dict(color='rgba(100, 78, 139, 1.0)', width=3))\n",
    "                            ),\n",
    "            go.Bar(name=\"NetB_spd\",\n",
    "            x=df_plot['Weekday'], y=df_plot['NetB_spd'],text=df_plot['NetB_spd'],\n",
    "            textposition='auto',marker=dict(\n",
    "        color='rgba(58, 71, 80, 0.6)',\n",
    "        line=dict(color='rgba(58, 71, 80, 1.0)', width=3)\n",
    "    )\n",
    "                  \n",
    "                  ),          \n",
    "            \n",
    "        ])\n",
    "\n",
    "fig.update_layout(title=\"Total Network Spend during the week\",xaxis_title=\"Weekdays\",\n",
    "    yaxis_title=\"Spend\",barmode='stack')\n",
    "fig.show()"
   ]
  },
  {
   "cell_type": "markdown",
   "id": "informative-progress",
   "metadata": {},
   "source": [
    "### Q1 - Acquired Network Impressions of A and B"
   ]
  },
  {
   "cell_type": "code",
<<<<<<< HEAD
   "execution_count": 138,
=======
<<<<<<< HEAD
   "execution_count": 45,
=======
   "execution_count": 18,
>>>>>>> main
>>>>>>> main
   "id": "mighty-conditions",
   "metadata": {},
   "outputs": [
    {
     "data": {
      "application/vnd.plotly.v1+json": {
       "config": {
        "plotlyServerURL": "https://plot.ly"
       },
       "data": [
        {
         "marker": {
          "color": "rgba(10, 78, 139, 0.6)",
          "line": {
           "color": "rgba(10, 78, 139, 1.0)",
           "width": 3
          }
         },
         "name": "NetA_imp",
         "text": [
          1224,
          1133,
          631,
          879,
          452,
          514,
          1131
         ],
         "textposition": "auto",
         "type": "bar",
         "x": [
          "Mon",
          "Tue",
          "Wed",
          "Thu",
          "Fri",
          "Sat",
          "Sun"
         ],
         "y": [
          1224,
          1133,
          631,
          879,
          452,
          514,
          1131
         ]
        },
        {
         "marker": {
          "color": "rgba(58, 71, 80, 0.6)",
          "line": {
           "color": "rgba(58, 71, 80, 1.0)",
           "width": 3
          }
         },
         "name": "NetB_imp",
         "text": [
          1004,
          1318,
          1045,
          728,
          810,
          945,
          838
         ],
         "textposition": "auto",
         "type": "bar",
         "x": [
          "Mon",
          "Tue",
          "Wed",
          "Thu",
          "Fri",
          "Sat",
          "Sun"
         ],
         "y": [
          1004,
          1318,
          1045,
          728,
          810,
          945,
          838
         ]
        }
       ],
       "layout": {
        "barmode": "group",
        "template": {
         "data": {
          "bar": [
           {
            "error_x": {
             "color": "#2a3f5f"
            },
            "error_y": {
             "color": "#2a3f5f"
            },
            "marker": {
             "line": {
              "color": "#E5ECF6",
              "width": 0.5
             }
            },
            "type": "bar"
           }
          ],
          "barpolar": [
           {
            "marker": {
             "line": {
              "color": "#E5ECF6",
              "width": 0.5
             }
            },
            "type": "barpolar"
           }
          ],
          "carpet": [
           {
            "aaxis": {
             "endlinecolor": "#2a3f5f",
             "gridcolor": "white",
             "linecolor": "white",
             "minorgridcolor": "white",
             "startlinecolor": "#2a3f5f"
            },
            "baxis": {
             "endlinecolor": "#2a3f5f",
             "gridcolor": "white",
             "linecolor": "white",
             "minorgridcolor": "white",
             "startlinecolor": "#2a3f5f"
            },
            "type": "carpet"
           }
          ],
          "choropleth": [
           {
            "colorbar": {
             "outlinewidth": 0,
             "ticks": ""
            },
            "type": "choropleth"
           }
          ],
          "contour": [
           {
            "colorbar": {
             "outlinewidth": 0,
             "ticks": ""
            },
            "colorscale": [
             [
              0,
              "#0d0887"
             ],
             [
              0.1111111111111111,
              "#46039f"
             ],
             [
              0.2222222222222222,
              "#7201a8"
             ],
             [
              0.3333333333333333,
              "#9c179e"
             ],
             [
              0.4444444444444444,
              "#bd3786"
             ],
             [
              0.5555555555555556,
              "#d8576b"
             ],
             [
              0.6666666666666666,
              "#ed7953"
             ],
             [
              0.7777777777777778,
              "#fb9f3a"
             ],
             [
              0.8888888888888888,
              "#fdca26"
             ],
             [
              1,
              "#f0f921"
             ]
            ],
            "type": "contour"
           }
          ],
          "contourcarpet": [
           {
            "colorbar": {
             "outlinewidth": 0,
             "ticks": ""
            },
            "type": "contourcarpet"
           }
          ],
          "heatmap": [
           {
            "colorbar": {
             "outlinewidth": 0,
             "ticks": ""
            },
            "colorscale": [
             [
              0,
              "#0d0887"
             ],
             [
              0.1111111111111111,
              "#46039f"
             ],
             [
              0.2222222222222222,
              "#7201a8"
             ],
             [
              0.3333333333333333,
              "#9c179e"
             ],
             [
              0.4444444444444444,
              "#bd3786"
             ],
             [
              0.5555555555555556,
              "#d8576b"
             ],
             [
              0.6666666666666666,
              "#ed7953"
             ],
             [
              0.7777777777777778,
              "#fb9f3a"
             ],
             [
              0.8888888888888888,
              "#fdca26"
             ],
             [
              1,
              "#f0f921"
             ]
            ],
            "type": "heatmap"
           }
          ],
          "heatmapgl": [
           {
            "colorbar": {
             "outlinewidth": 0,
             "ticks": ""
            },
            "colorscale": [
             [
              0,
              "#0d0887"
             ],
             [
              0.1111111111111111,
              "#46039f"
             ],
             [
              0.2222222222222222,
              "#7201a8"
             ],
             [
              0.3333333333333333,
              "#9c179e"
             ],
             [
              0.4444444444444444,
              "#bd3786"
             ],
             [
              0.5555555555555556,
              "#d8576b"
             ],
             [
              0.6666666666666666,
              "#ed7953"
             ],
             [
              0.7777777777777778,
              "#fb9f3a"
             ],
             [
              0.8888888888888888,
              "#fdca26"
             ],
             [
              1,
              "#f0f921"
             ]
            ],
            "type": "heatmapgl"
           }
          ],
          "histogram": [
           {
            "marker": {
             "colorbar": {
              "outlinewidth": 0,
              "ticks": ""
             }
            },
            "type": "histogram"
           }
          ],
          "histogram2d": [
           {
            "colorbar": {
             "outlinewidth": 0,
             "ticks": ""
            },
            "colorscale": [
             [
              0,
              "#0d0887"
             ],
             [
              0.1111111111111111,
              "#46039f"
             ],
             [
              0.2222222222222222,
              "#7201a8"
             ],
             [
              0.3333333333333333,
              "#9c179e"
             ],
             [
              0.4444444444444444,
              "#bd3786"
             ],
             [
              0.5555555555555556,
              "#d8576b"
             ],
             [
              0.6666666666666666,
              "#ed7953"
             ],
             [
              0.7777777777777778,
              "#fb9f3a"
             ],
             [
              0.8888888888888888,
              "#fdca26"
             ],
             [
              1,
              "#f0f921"
             ]
            ],
            "type": "histogram2d"
           }
          ],
          "histogram2dcontour": [
           {
            "colorbar": {
             "outlinewidth": 0,
             "ticks": ""
            },
            "colorscale": [
             [
              0,
              "#0d0887"
             ],
             [
              0.1111111111111111,
              "#46039f"
             ],
             [
              0.2222222222222222,
              "#7201a8"
             ],
             [
              0.3333333333333333,
              "#9c179e"
             ],
             [
              0.4444444444444444,
              "#bd3786"
             ],
             [
              0.5555555555555556,
              "#d8576b"
             ],
             [
              0.6666666666666666,
              "#ed7953"
             ],
             [
              0.7777777777777778,
              "#fb9f3a"
             ],
             [
              0.8888888888888888,
              "#fdca26"
             ],
             [
              1,
              "#f0f921"
             ]
            ],
            "type": "histogram2dcontour"
           }
          ],
          "mesh3d": [
           {
            "colorbar": {
             "outlinewidth": 0,
             "ticks": ""
            },
            "type": "mesh3d"
           }
          ],
          "parcoords": [
           {
            "line": {
             "colorbar": {
              "outlinewidth": 0,
              "ticks": ""
             }
            },
            "type": "parcoords"
           }
          ],
          "pie": [
           {
            "automargin": true,
            "type": "pie"
           }
          ],
          "scatter": [
           {
            "marker": {
             "colorbar": {
              "outlinewidth": 0,
              "ticks": ""
             }
            },
            "type": "scatter"
           }
          ],
          "scatter3d": [
           {
            "line": {
             "colorbar": {
              "outlinewidth": 0,
              "ticks": ""
             }
            },
            "marker": {
             "colorbar": {
              "outlinewidth": 0,
              "ticks": ""
             }
            },
            "type": "scatter3d"
           }
          ],
          "scattercarpet": [
           {
            "marker": {
             "colorbar": {
              "outlinewidth": 0,
              "ticks": ""
             }
            },
            "type": "scattercarpet"
           }
          ],
          "scattergeo": [
           {
            "marker": {
             "colorbar": {
              "outlinewidth": 0,
              "ticks": ""
             }
            },
            "type": "scattergeo"
           }
          ],
          "scattergl": [
           {
            "marker": {
             "colorbar": {
              "outlinewidth": 0,
              "ticks": ""
             }
            },
            "type": "scattergl"
           }
          ],
          "scattermapbox": [
           {
            "marker": {
             "colorbar": {
              "outlinewidth": 0,
              "ticks": ""
             }
            },
            "type": "scattermapbox"
           }
          ],
          "scatterpolar": [
           {
            "marker": {
             "colorbar": {
              "outlinewidth": 0,
              "ticks": ""
             }
            },
            "type": "scatterpolar"
           }
          ],
          "scatterpolargl": [
           {
            "marker": {
             "colorbar": {
              "outlinewidth": 0,
              "ticks": ""
             }
            },
            "type": "scatterpolargl"
           }
          ],
          "scatterternary": [
           {
            "marker": {
             "colorbar": {
              "outlinewidth": 0,
              "ticks": ""
             }
            },
            "type": "scatterternary"
           }
          ],
          "surface": [
           {
            "colorbar": {
             "outlinewidth": 0,
             "ticks": ""
            },
            "colorscale": [
             [
              0,
              "#0d0887"
             ],
             [
              0.1111111111111111,
              "#46039f"
             ],
             [
              0.2222222222222222,
              "#7201a8"
             ],
             [
              0.3333333333333333,
              "#9c179e"
             ],
             [
              0.4444444444444444,
              "#bd3786"
             ],
             [
              0.5555555555555556,
              "#d8576b"
             ],
             [
              0.6666666666666666,
              "#ed7953"
             ],
             [
              0.7777777777777778,
              "#fb9f3a"
             ],
             [
              0.8888888888888888,
              "#fdca26"
             ],
             [
              1,
              "#f0f921"
             ]
            ],
            "type": "surface"
           }
          ],
          "table": [
           {
            "cells": {
             "fill": {
              "color": "#EBF0F8"
             },
             "line": {
              "color": "white"
             }
            },
            "header": {
             "fill": {
              "color": "#C8D4E3"
             },
             "line": {
              "color": "white"
             }
            },
            "type": "table"
           }
          ]
         },
         "layout": {
          "annotationdefaults": {
           "arrowcolor": "#2a3f5f",
           "arrowhead": 0,
           "arrowwidth": 1
          },
          "autotypenumbers": "strict",
          "coloraxis": {
           "colorbar": {
            "outlinewidth": 0,
            "ticks": ""
           }
          },
          "colorscale": {
           "diverging": [
            [
             0,
             "#8e0152"
            ],
            [
             0.1,
             "#c51b7d"
            ],
            [
             0.2,
             "#de77ae"
            ],
            [
             0.3,
             "#f1b6da"
            ],
            [
             0.4,
             "#fde0ef"
            ],
            [
             0.5,
             "#f7f7f7"
            ],
            [
             0.6,
             "#e6f5d0"
            ],
            [
             0.7,
             "#b8e186"
            ],
            [
             0.8,
             "#7fbc41"
            ],
            [
             0.9,
             "#4d9221"
            ],
            [
             1,
             "#276419"
            ]
           ],
           "sequential": [
            [
             0,
             "#0d0887"
            ],
            [
             0.1111111111111111,
             "#46039f"
            ],
            [
             0.2222222222222222,
             "#7201a8"
            ],
            [
             0.3333333333333333,
             "#9c179e"
            ],
            [
             0.4444444444444444,
             "#bd3786"
            ],
            [
             0.5555555555555556,
             "#d8576b"
            ],
            [
             0.6666666666666666,
             "#ed7953"
            ],
            [
             0.7777777777777778,
             "#fb9f3a"
            ],
            [
             0.8888888888888888,
             "#fdca26"
            ],
            [
             1,
             "#f0f921"
            ]
           ],
           "sequentialminus": [
            [
             0,
             "#0d0887"
            ],
            [
             0.1111111111111111,
             "#46039f"
            ],
            [
             0.2222222222222222,
             "#7201a8"
            ],
            [
             0.3333333333333333,
             "#9c179e"
            ],
            [
             0.4444444444444444,
             "#bd3786"
            ],
            [
             0.5555555555555556,
             "#d8576b"
            ],
            [
             0.6666666666666666,
             "#ed7953"
            ],
            [
             0.7777777777777778,
             "#fb9f3a"
            ],
            [
             0.8888888888888888,
             "#fdca26"
            ],
            [
             1,
             "#f0f921"
            ]
           ]
          },
          "colorway": [
           "#636efa",
           "#EF553B",
           "#00cc96",
           "#ab63fa",
           "#FFA15A",
           "#19d3f3",
           "#FF6692",
           "#B6E880",
           "#FF97FF",
           "#FECB52"
          ],
          "font": {
           "color": "#2a3f5f"
          },
          "geo": {
           "bgcolor": "white",
           "lakecolor": "white",
           "landcolor": "#E5ECF6",
           "showlakes": true,
           "showland": true,
           "subunitcolor": "white"
          },
          "hoverlabel": {
           "align": "left"
          },
          "hovermode": "closest",
          "mapbox": {
           "style": "light"
          },
          "paper_bgcolor": "white",
          "plot_bgcolor": "#E5ECF6",
          "polar": {
           "angularaxis": {
            "gridcolor": "white",
            "linecolor": "white",
            "ticks": ""
           },
           "bgcolor": "#E5ECF6",
           "radialaxis": {
            "gridcolor": "white",
            "linecolor": "white",
            "ticks": ""
           }
          },
          "scene": {
           "xaxis": {
            "backgroundcolor": "#E5ECF6",
            "gridcolor": "white",
            "gridwidth": 2,
            "linecolor": "white",
            "showbackground": true,
            "ticks": "",
            "zerolinecolor": "white"
           },
           "yaxis": {
            "backgroundcolor": "#E5ECF6",
            "gridcolor": "white",
            "gridwidth": 2,
            "linecolor": "white",
            "showbackground": true,
            "ticks": "",
            "zerolinecolor": "white"
           },
           "zaxis": {
            "backgroundcolor": "#E5ECF6",
            "gridcolor": "white",
            "gridwidth": 2,
            "linecolor": "white",
            "showbackground": true,
            "ticks": "",
            "zerolinecolor": "white"
           }
          },
          "shapedefaults": {
           "line": {
            "color": "#2a3f5f"
           }
          },
          "ternary": {
           "aaxis": {
            "gridcolor": "white",
            "linecolor": "white",
            "ticks": ""
           },
           "baxis": {
            "gridcolor": "white",
            "linecolor": "white",
            "ticks": ""
           },
           "bgcolor": "#E5ECF6",
           "caxis": {
            "gridcolor": "white",
            "linecolor": "white",
            "ticks": ""
           }
          },
          "title": {
           "x": 0.05
          },
          "xaxis": {
           "automargin": true,
           "gridcolor": "white",
           "linecolor": "white",
           "ticks": "",
           "title": {
            "standoff": 15
           },
           "zerolinecolor": "white",
           "zerolinewidth": 2
          },
          "yaxis": {
           "automargin": true,
           "gridcolor": "white",
           "linecolor": "white",
           "ticks": "",
           "title": {
            "standoff": 15
           },
           "zerolinecolor": "white",
           "zerolinewidth": 2
          }
         }
        },
        "title": {
         "text": "Acquired Network Impressions of Net A vs Net B during the week"
        },
        "yaxis": {
         "title": {
          "text": "Impressions"
         }
        }
       }
      },
      "text/html": [
<<<<<<< HEAD
       "<div>                            <div id=\"d74afd95-b52d-4752-8291-117ba9ed2188\" class=\"plotly-graph-div\" style=\"height:525px; width:100%;\"></div>            <script type=\"text/javascript\">                require([\"plotly\"], function(Plotly) {                    window.PLOTLYENV=window.PLOTLYENV || {};                                    if (document.getElementById(\"d74afd95-b52d-4752-8291-117ba9ed2188\")) {                    Plotly.newPlot(                        \"d74afd95-b52d-4752-8291-117ba9ed2188\",                        [{\"marker\": {\"color\": \"rgba(10, 78, 139, 0.6)\", \"line\": {\"color\": \"rgba(10, 78, 139, 1.0)\", \"width\": 3}}, \"name\": \"NetA_imp\", \"text\": [1224.0, 1133.0, 631.0, 879.0, 452.0, 514.0, 1131.0], \"textposition\": \"auto\", \"type\": \"bar\", \"x\": [\"Mon\", \"Tue\", \"Wed\", \"Thu\", \"Fri\", \"Sat\", \"Sun\"], \"y\": [1224, 1133, 631, 879, 452, 514, 1131]}, {\"marker\": {\"color\": \"rgba(58, 71, 80, 0.6)\", \"line\": {\"color\": \"rgba(58, 71, 80, 1.0)\", \"width\": 3}}, \"name\": \"NetB_imp\", \"text\": [1004.0, 1318.0, 1045.0, 728.0, 810.0, 945.0, 838.0], \"textposition\": \"auto\", \"type\": \"bar\", \"x\": [\"Mon\", \"Tue\", \"Wed\", \"Thu\", \"Fri\", \"Sat\", \"Sun\"], \"y\": [1004, 1318, 1045, 728, 810, 945, 838]}],                        {\"barmode\": \"group\", \"template\": {\"data\": {\"bar\": [{\"error_x\": {\"color\": \"#2a3f5f\"}, \"error_y\": {\"color\": \"#2a3f5f\"}, \"marker\": {\"line\": {\"color\": \"#E5ECF6\", \"width\": 0.5}}, \"type\": \"bar\"}], \"barpolar\": [{\"marker\": {\"line\": {\"color\": \"#E5ECF6\", \"width\": 0.5}}, \"type\": \"barpolar\"}], \"carpet\": [{\"aaxis\": {\"endlinecolor\": \"#2a3f5f\", \"gridcolor\": \"white\", \"linecolor\": \"white\", \"minorgridcolor\": \"white\", \"startlinecolor\": \"#2a3f5f\"}, \"baxis\": {\"endlinecolor\": \"#2a3f5f\", \"gridcolor\": \"white\", \"linecolor\": \"white\", \"minorgridcolor\": \"white\", \"startlinecolor\": \"#2a3f5f\"}, \"type\": \"carpet\"}], \"choropleth\": [{\"colorbar\": {\"outlinewidth\": 0, \"ticks\": \"\"}, \"type\": \"choropleth\"}], \"contour\": [{\"colorbar\": {\"outlinewidth\": 0, \"ticks\": \"\"}, \"colorscale\": [[0.0, \"#0d0887\"], [0.1111111111111111, \"#46039f\"], [0.2222222222222222, \"#7201a8\"], [0.3333333333333333, \"#9c179e\"], [0.4444444444444444, \"#bd3786\"], [0.5555555555555556, \"#d8576b\"], [0.6666666666666666, \"#ed7953\"], [0.7777777777777778, \"#fb9f3a\"], [0.8888888888888888, \"#fdca26\"], [1.0, \"#f0f921\"]], \"type\": \"contour\"}], \"contourcarpet\": [{\"colorbar\": {\"outlinewidth\": 0, \"ticks\": \"\"}, \"type\": \"contourcarpet\"}], \"heatmap\": [{\"colorbar\": {\"outlinewidth\": 0, \"ticks\": \"\"}, \"colorscale\": [[0.0, \"#0d0887\"], [0.1111111111111111, \"#46039f\"], [0.2222222222222222, \"#7201a8\"], [0.3333333333333333, \"#9c179e\"], [0.4444444444444444, \"#bd3786\"], [0.5555555555555556, \"#d8576b\"], [0.6666666666666666, \"#ed7953\"], [0.7777777777777778, \"#fb9f3a\"], [0.8888888888888888, \"#fdca26\"], [1.0, \"#f0f921\"]], \"type\": \"heatmap\"}], \"heatmapgl\": [{\"colorbar\": {\"outlinewidth\": 0, \"ticks\": \"\"}, \"colorscale\": [[0.0, \"#0d0887\"], [0.1111111111111111, \"#46039f\"], [0.2222222222222222, \"#7201a8\"], [0.3333333333333333, \"#9c179e\"], [0.4444444444444444, \"#bd3786\"], [0.5555555555555556, \"#d8576b\"], [0.6666666666666666, \"#ed7953\"], [0.7777777777777778, \"#fb9f3a\"], [0.8888888888888888, \"#fdca26\"], [1.0, \"#f0f921\"]], \"type\": \"heatmapgl\"}], \"histogram\": [{\"marker\": {\"colorbar\": {\"outlinewidth\": 0, \"ticks\": \"\"}}, \"type\": \"histogram\"}], \"histogram2d\": [{\"colorbar\": {\"outlinewidth\": 0, \"ticks\": \"\"}, \"colorscale\": [[0.0, \"#0d0887\"], [0.1111111111111111, \"#46039f\"], [0.2222222222222222, \"#7201a8\"], [0.3333333333333333, \"#9c179e\"], [0.4444444444444444, \"#bd3786\"], [0.5555555555555556, \"#d8576b\"], [0.6666666666666666, \"#ed7953\"], [0.7777777777777778, \"#fb9f3a\"], [0.8888888888888888, \"#fdca26\"], [1.0, \"#f0f921\"]], \"type\": \"histogram2d\"}], \"histogram2dcontour\": [{\"colorbar\": {\"outlinewidth\": 0, \"ticks\": \"\"}, \"colorscale\": [[0.0, \"#0d0887\"], [0.1111111111111111, \"#46039f\"], [0.2222222222222222, \"#7201a8\"], [0.3333333333333333, \"#9c179e\"], [0.4444444444444444, \"#bd3786\"], [0.5555555555555556, \"#d8576b\"], [0.6666666666666666, \"#ed7953\"], [0.7777777777777778, \"#fb9f3a\"], [0.8888888888888888, \"#fdca26\"], [1.0, \"#f0f921\"]], \"type\": \"histogram2dcontour\"}], \"mesh3d\": [{\"colorbar\": {\"outlinewidth\": 0, \"ticks\": \"\"}, \"type\": \"mesh3d\"}], \"parcoords\": [{\"line\": {\"colorbar\": {\"outlinewidth\": 0, \"ticks\": \"\"}}, \"type\": \"parcoords\"}], \"pie\": [{\"automargin\": true, \"type\": \"pie\"}], \"scatter\": [{\"marker\": {\"colorbar\": {\"outlinewidth\": 0, \"ticks\": \"\"}}, \"type\": \"scatter\"}], \"scatter3d\": [{\"line\": {\"colorbar\": {\"outlinewidth\": 0, \"ticks\": \"\"}}, \"marker\": {\"colorbar\": {\"outlinewidth\": 0, \"ticks\": \"\"}}, \"type\": \"scatter3d\"}], \"scattercarpet\": [{\"marker\": {\"colorbar\": {\"outlinewidth\": 0, \"ticks\": \"\"}}, \"type\": \"scattercarpet\"}], \"scattergeo\": [{\"marker\": {\"colorbar\": {\"outlinewidth\": 0, \"ticks\": \"\"}}, \"type\": \"scattergeo\"}], \"scattergl\": [{\"marker\": {\"colorbar\": {\"outlinewidth\": 0, \"ticks\": \"\"}}, \"type\": \"scattergl\"}], \"scattermapbox\": [{\"marker\": {\"colorbar\": {\"outlinewidth\": 0, \"ticks\": \"\"}}, \"type\": \"scattermapbox\"}], \"scatterpolar\": [{\"marker\": {\"colorbar\": {\"outlinewidth\": 0, \"ticks\": \"\"}}, \"type\": \"scatterpolar\"}], \"scatterpolargl\": [{\"marker\": {\"colorbar\": {\"outlinewidth\": 0, \"ticks\": \"\"}}, \"type\": \"scatterpolargl\"}], \"scatterternary\": [{\"marker\": {\"colorbar\": {\"outlinewidth\": 0, \"ticks\": \"\"}}, \"type\": \"scatterternary\"}], \"surface\": [{\"colorbar\": {\"outlinewidth\": 0, \"ticks\": \"\"}, \"colorscale\": [[0.0, \"#0d0887\"], [0.1111111111111111, \"#46039f\"], [0.2222222222222222, \"#7201a8\"], [0.3333333333333333, \"#9c179e\"], [0.4444444444444444, \"#bd3786\"], [0.5555555555555556, \"#d8576b\"], [0.6666666666666666, \"#ed7953\"], [0.7777777777777778, \"#fb9f3a\"], [0.8888888888888888, \"#fdca26\"], [1.0, \"#f0f921\"]], \"type\": \"surface\"}], \"table\": [{\"cells\": {\"fill\": {\"color\": \"#EBF0F8\"}, \"line\": {\"color\": \"white\"}}, \"header\": {\"fill\": {\"color\": \"#C8D4E3\"}, \"line\": {\"color\": \"white\"}}, \"type\": \"table\"}]}, \"layout\": {\"annotationdefaults\": {\"arrowcolor\": \"#2a3f5f\", \"arrowhead\": 0, \"arrowwidth\": 1}, \"autotypenumbers\": \"strict\", \"coloraxis\": {\"colorbar\": {\"outlinewidth\": 0, \"ticks\": \"\"}}, \"colorscale\": {\"diverging\": [[0, \"#8e0152\"], [0.1, \"#c51b7d\"], [0.2, \"#de77ae\"], [0.3, \"#f1b6da\"], [0.4, \"#fde0ef\"], [0.5, \"#f7f7f7\"], [0.6, \"#e6f5d0\"], [0.7, \"#b8e186\"], [0.8, \"#7fbc41\"], [0.9, \"#4d9221\"], [1, \"#276419\"]], \"sequential\": [[0.0, \"#0d0887\"], [0.1111111111111111, \"#46039f\"], [0.2222222222222222, \"#7201a8\"], [0.3333333333333333, \"#9c179e\"], [0.4444444444444444, \"#bd3786\"], [0.5555555555555556, \"#d8576b\"], [0.6666666666666666, \"#ed7953\"], [0.7777777777777778, \"#fb9f3a\"], [0.8888888888888888, \"#fdca26\"], [1.0, \"#f0f921\"]], \"sequentialminus\": [[0.0, \"#0d0887\"], [0.1111111111111111, \"#46039f\"], [0.2222222222222222, \"#7201a8\"], [0.3333333333333333, \"#9c179e\"], [0.4444444444444444, \"#bd3786\"], [0.5555555555555556, \"#d8576b\"], [0.6666666666666666, \"#ed7953\"], [0.7777777777777778, \"#fb9f3a\"], [0.8888888888888888, \"#fdca26\"], [1.0, \"#f0f921\"]]}, \"colorway\": [\"#636efa\", \"#EF553B\", \"#00cc96\", \"#ab63fa\", \"#FFA15A\", \"#19d3f3\", \"#FF6692\", \"#B6E880\", \"#FF97FF\", \"#FECB52\"], \"font\": {\"color\": \"#2a3f5f\"}, \"geo\": {\"bgcolor\": \"white\", \"lakecolor\": \"white\", \"landcolor\": \"#E5ECF6\", \"showlakes\": true, \"showland\": true, \"subunitcolor\": \"white\"}, \"hoverlabel\": {\"align\": \"left\"}, \"hovermode\": \"closest\", \"mapbox\": {\"style\": \"light\"}, \"paper_bgcolor\": \"white\", \"plot_bgcolor\": \"#E5ECF6\", \"polar\": {\"angularaxis\": {\"gridcolor\": \"white\", \"linecolor\": \"white\", \"ticks\": \"\"}, \"bgcolor\": \"#E5ECF6\", \"radialaxis\": {\"gridcolor\": \"white\", \"linecolor\": \"white\", \"ticks\": \"\"}}, \"scene\": {\"xaxis\": {\"backgroundcolor\": \"#E5ECF6\", \"gridcolor\": \"white\", \"gridwidth\": 2, \"linecolor\": \"white\", \"showbackground\": true, \"ticks\": \"\", \"zerolinecolor\": \"white\"}, \"yaxis\": {\"backgroundcolor\": \"#E5ECF6\", \"gridcolor\": \"white\", \"gridwidth\": 2, \"linecolor\": \"white\", \"showbackground\": true, \"ticks\": \"\", \"zerolinecolor\": \"white\"}, \"zaxis\": {\"backgroundcolor\": \"#E5ECF6\", \"gridcolor\": \"white\", \"gridwidth\": 2, \"linecolor\": \"white\", \"showbackground\": true, \"ticks\": \"\", \"zerolinecolor\": \"white\"}}, \"shapedefaults\": {\"line\": {\"color\": \"#2a3f5f\"}}, \"ternary\": {\"aaxis\": {\"gridcolor\": \"white\", \"linecolor\": \"white\", \"ticks\": \"\"}, \"baxis\": {\"gridcolor\": \"white\", \"linecolor\": \"white\", \"ticks\": \"\"}, \"bgcolor\": \"#E5ECF6\", \"caxis\": {\"gridcolor\": \"white\", \"linecolor\": \"white\", \"ticks\": \"\"}}, \"title\": {\"x\": 0.05}, \"xaxis\": {\"automargin\": true, \"gridcolor\": \"white\", \"linecolor\": \"white\", \"ticks\": \"\", \"title\": {\"standoff\": 15}, \"zerolinecolor\": \"white\", \"zerolinewidth\": 2}, \"yaxis\": {\"automargin\": true, \"gridcolor\": \"white\", \"linecolor\": \"white\", \"ticks\": \"\", \"title\": {\"standoff\": 15}, \"zerolinecolor\": \"white\", \"zerolinewidth\": 2}}}, \"title\": {\"text\": \"Acquired Network Impressions of Net A vs Net B during the week\"}, \"yaxis\": {\"title\": {\"text\": \"Impressions\"}}},                        {\"responsive\": true}                    ).then(function(){\n",
       "                            \n",
       "var gd = document.getElementById('d74afd95-b52d-4752-8291-117ba9ed2188');\n",
=======
<<<<<<< HEAD
       "<div>                            <div id=\"62c64efd-d01e-43a2-a51a-603eb0b91194\" class=\"plotly-graph-div\" style=\"height:525px; width:100%;\"></div>            <script type=\"text/javascript\">                require([\"plotly\"], function(Plotly) {                    window.PLOTLYENV=window.PLOTLYENV || {};                                    if (document.getElementById(\"62c64efd-d01e-43a2-a51a-603eb0b91194\")) {                    Plotly.newPlot(                        \"62c64efd-d01e-43a2-a51a-603eb0b91194\",                        [{\"marker\": {\"color\": \"rgba(10, 78, 139, 0.6)\", \"line\": {\"color\": \"rgba(10, 78, 139, 1.0)\", \"width\": 3}}, \"name\": \"NetA_imp\", \"text\": [1224.0, 1133.0, 631.0, 879.0, 452.0, 514.0, 1131.0], \"textposition\": \"auto\", \"type\": \"bar\", \"x\": [\"Mon\", \"Tue\", \"Wed\", \"Thu\", \"Fri\", \"Sat\", \"Sun\"], \"y\": [1224, 1133, 631, 879, 452, 514, 1131]}, {\"marker\": {\"color\": \"rgba(58, 71, 80, 0.6)\", \"line\": {\"color\": \"rgba(58, 71, 80, 1.0)\", \"width\": 3}}, \"name\": \"NetB_imp\", \"text\": [1004.0, 1318.0, 1045.0, 728.0, 810.0, 945.0, 838.0], \"textposition\": \"auto\", \"type\": \"bar\", \"x\": [\"Mon\", \"Tue\", \"Wed\", \"Thu\", \"Fri\", \"Sat\", \"Sun\"], \"y\": [1004, 1318, 1045, 728, 810, 945, 838]}],                        {\"barmode\": \"group\", \"template\": {\"data\": {\"bar\": [{\"error_x\": {\"color\": \"#2a3f5f\"}, \"error_y\": {\"color\": \"#2a3f5f\"}, \"marker\": {\"line\": {\"color\": \"#E5ECF6\", \"width\": 0.5}}, \"type\": \"bar\"}], \"barpolar\": [{\"marker\": {\"line\": {\"color\": \"#E5ECF6\", \"width\": 0.5}}, \"type\": \"barpolar\"}], \"carpet\": [{\"aaxis\": {\"endlinecolor\": \"#2a3f5f\", \"gridcolor\": \"white\", \"linecolor\": \"white\", \"minorgridcolor\": \"white\", \"startlinecolor\": \"#2a3f5f\"}, \"baxis\": {\"endlinecolor\": \"#2a3f5f\", \"gridcolor\": \"white\", \"linecolor\": \"white\", \"minorgridcolor\": \"white\", \"startlinecolor\": \"#2a3f5f\"}, \"type\": \"carpet\"}], \"choropleth\": [{\"colorbar\": {\"outlinewidth\": 0, \"ticks\": \"\"}, \"type\": \"choropleth\"}], \"contour\": [{\"colorbar\": {\"outlinewidth\": 0, \"ticks\": \"\"}, \"colorscale\": [[0.0, \"#0d0887\"], [0.1111111111111111, \"#46039f\"], [0.2222222222222222, \"#7201a8\"], [0.3333333333333333, \"#9c179e\"], [0.4444444444444444, \"#bd3786\"], [0.5555555555555556, \"#d8576b\"], [0.6666666666666666, \"#ed7953\"], [0.7777777777777778, \"#fb9f3a\"], [0.8888888888888888, \"#fdca26\"], [1.0, \"#f0f921\"]], \"type\": \"contour\"}], \"contourcarpet\": [{\"colorbar\": {\"outlinewidth\": 0, \"ticks\": \"\"}, \"type\": \"contourcarpet\"}], \"heatmap\": [{\"colorbar\": {\"outlinewidth\": 0, \"ticks\": \"\"}, \"colorscale\": [[0.0, \"#0d0887\"], [0.1111111111111111, \"#46039f\"], [0.2222222222222222, \"#7201a8\"], [0.3333333333333333, \"#9c179e\"], [0.4444444444444444, \"#bd3786\"], [0.5555555555555556, \"#d8576b\"], [0.6666666666666666, \"#ed7953\"], [0.7777777777777778, \"#fb9f3a\"], [0.8888888888888888, \"#fdca26\"], [1.0, \"#f0f921\"]], \"type\": \"heatmap\"}], \"heatmapgl\": [{\"colorbar\": {\"outlinewidth\": 0, \"ticks\": \"\"}, \"colorscale\": [[0.0, \"#0d0887\"], [0.1111111111111111, \"#46039f\"], [0.2222222222222222, \"#7201a8\"], [0.3333333333333333, \"#9c179e\"], [0.4444444444444444, \"#bd3786\"], [0.5555555555555556, \"#d8576b\"], [0.6666666666666666, \"#ed7953\"], [0.7777777777777778, \"#fb9f3a\"], [0.8888888888888888, \"#fdca26\"], [1.0, \"#f0f921\"]], \"type\": \"heatmapgl\"}], \"histogram\": [{\"marker\": {\"colorbar\": {\"outlinewidth\": 0, \"ticks\": \"\"}}, \"type\": \"histogram\"}], \"histogram2d\": [{\"colorbar\": {\"outlinewidth\": 0, \"ticks\": \"\"}, \"colorscale\": [[0.0, \"#0d0887\"], [0.1111111111111111, \"#46039f\"], [0.2222222222222222, \"#7201a8\"], [0.3333333333333333, \"#9c179e\"], [0.4444444444444444, \"#bd3786\"], [0.5555555555555556, \"#d8576b\"], [0.6666666666666666, \"#ed7953\"], [0.7777777777777778, \"#fb9f3a\"], [0.8888888888888888, \"#fdca26\"], [1.0, \"#f0f921\"]], \"type\": \"histogram2d\"}], \"histogram2dcontour\": [{\"colorbar\": {\"outlinewidth\": 0, \"ticks\": \"\"}, \"colorscale\": [[0.0, \"#0d0887\"], [0.1111111111111111, \"#46039f\"], [0.2222222222222222, \"#7201a8\"], [0.3333333333333333, \"#9c179e\"], [0.4444444444444444, \"#bd3786\"], [0.5555555555555556, \"#d8576b\"], [0.6666666666666666, \"#ed7953\"], [0.7777777777777778, \"#fb9f3a\"], [0.8888888888888888, \"#fdca26\"], [1.0, \"#f0f921\"]], \"type\": \"histogram2dcontour\"}], \"mesh3d\": [{\"colorbar\": {\"outlinewidth\": 0, \"ticks\": \"\"}, \"type\": \"mesh3d\"}], \"parcoords\": [{\"line\": {\"colorbar\": {\"outlinewidth\": 0, \"ticks\": \"\"}}, \"type\": \"parcoords\"}], \"pie\": [{\"automargin\": true, \"type\": \"pie\"}], \"scatter\": [{\"marker\": {\"colorbar\": {\"outlinewidth\": 0, \"ticks\": \"\"}}, \"type\": \"scatter\"}], \"scatter3d\": [{\"line\": {\"colorbar\": {\"outlinewidth\": 0, \"ticks\": \"\"}}, \"marker\": {\"colorbar\": {\"outlinewidth\": 0, \"ticks\": \"\"}}, \"type\": \"scatter3d\"}], \"scattercarpet\": [{\"marker\": {\"colorbar\": {\"outlinewidth\": 0, \"ticks\": \"\"}}, \"type\": \"scattercarpet\"}], \"scattergeo\": [{\"marker\": {\"colorbar\": {\"outlinewidth\": 0, \"ticks\": \"\"}}, \"type\": \"scattergeo\"}], \"scattergl\": [{\"marker\": {\"colorbar\": {\"outlinewidth\": 0, \"ticks\": \"\"}}, \"type\": \"scattergl\"}], \"scattermapbox\": [{\"marker\": {\"colorbar\": {\"outlinewidth\": 0, \"ticks\": \"\"}}, \"type\": \"scattermapbox\"}], \"scatterpolar\": [{\"marker\": {\"colorbar\": {\"outlinewidth\": 0, \"ticks\": \"\"}}, \"type\": \"scatterpolar\"}], \"scatterpolargl\": [{\"marker\": {\"colorbar\": {\"outlinewidth\": 0, \"ticks\": \"\"}}, \"type\": \"scatterpolargl\"}], \"scatterternary\": [{\"marker\": {\"colorbar\": {\"outlinewidth\": 0, \"ticks\": \"\"}}, \"type\": \"scatterternary\"}], \"surface\": [{\"colorbar\": {\"outlinewidth\": 0, \"ticks\": \"\"}, \"colorscale\": [[0.0, \"#0d0887\"], [0.1111111111111111, \"#46039f\"], [0.2222222222222222, \"#7201a8\"], [0.3333333333333333, \"#9c179e\"], [0.4444444444444444, \"#bd3786\"], [0.5555555555555556, \"#d8576b\"], [0.6666666666666666, \"#ed7953\"], [0.7777777777777778, \"#fb9f3a\"], [0.8888888888888888, \"#fdca26\"], [1.0, \"#f0f921\"]], \"type\": \"surface\"}], \"table\": [{\"cells\": {\"fill\": {\"color\": \"#EBF0F8\"}, \"line\": {\"color\": \"white\"}}, \"header\": {\"fill\": {\"color\": \"#C8D4E3\"}, \"line\": {\"color\": \"white\"}}, \"type\": \"table\"}]}, \"layout\": {\"annotationdefaults\": {\"arrowcolor\": \"#2a3f5f\", \"arrowhead\": 0, \"arrowwidth\": 1}, \"autotypenumbers\": \"strict\", \"coloraxis\": {\"colorbar\": {\"outlinewidth\": 0, \"ticks\": \"\"}}, \"colorscale\": {\"diverging\": [[0, \"#8e0152\"], [0.1, \"#c51b7d\"], [0.2, \"#de77ae\"], [0.3, \"#f1b6da\"], [0.4, \"#fde0ef\"], [0.5, \"#f7f7f7\"], [0.6, \"#e6f5d0\"], [0.7, \"#b8e186\"], [0.8, \"#7fbc41\"], [0.9, \"#4d9221\"], [1, \"#276419\"]], \"sequential\": [[0.0, \"#0d0887\"], [0.1111111111111111, \"#46039f\"], [0.2222222222222222, \"#7201a8\"], [0.3333333333333333, \"#9c179e\"], [0.4444444444444444, \"#bd3786\"], [0.5555555555555556, \"#d8576b\"], [0.6666666666666666, \"#ed7953\"], [0.7777777777777778, \"#fb9f3a\"], [0.8888888888888888, \"#fdca26\"], [1.0, \"#f0f921\"]], \"sequentialminus\": [[0.0, \"#0d0887\"], [0.1111111111111111, \"#46039f\"], [0.2222222222222222, \"#7201a8\"], [0.3333333333333333, \"#9c179e\"], [0.4444444444444444, \"#bd3786\"], [0.5555555555555556, \"#d8576b\"], [0.6666666666666666, \"#ed7953\"], [0.7777777777777778, \"#fb9f3a\"], [0.8888888888888888, \"#fdca26\"], [1.0, \"#f0f921\"]]}, \"colorway\": [\"#636efa\", \"#EF553B\", \"#00cc96\", \"#ab63fa\", \"#FFA15A\", \"#19d3f3\", \"#FF6692\", \"#B6E880\", \"#FF97FF\", \"#FECB52\"], \"font\": {\"color\": \"#2a3f5f\"}, \"geo\": {\"bgcolor\": \"white\", \"lakecolor\": \"white\", \"landcolor\": \"#E5ECF6\", \"showlakes\": true, \"showland\": true, \"subunitcolor\": \"white\"}, \"hoverlabel\": {\"align\": \"left\"}, \"hovermode\": \"closest\", \"mapbox\": {\"style\": \"light\"}, \"paper_bgcolor\": \"white\", \"plot_bgcolor\": \"#E5ECF6\", \"polar\": {\"angularaxis\": {\"gridcolor\": \"white\", \"linecolor\": \"white\", \"ticks\": \"\"}, \"bgcolor\": \"#E5ECF6\", \"radialaxis\": {\"gridcolor\": \"white\", \"linecolor\": \"white\", \"ticks\": \"\"}}, \"scene\": {\"xaxis\": {\"backgroundcolor\": \"#E5ECF6\", \"gridcolor\": \"white\", \"gridwidth\": 2, \"linecolor\": \"white\", \"showbackground\": true, \"ticks\": \"\", \"zerolinecolor\": \"white\"}, \"yaxis\": {\"backgroundcolor\": \"#E5ECF6\", \"gridcolor\": \"white\", \"gridwidth\": 2, \"linecolor\": \"white\", \"showbackground\": true, \"ticks\": \"\", \"zerolinecolor\": \"white\"}, \"zaxis\": {\"backgroundcolor\": \"#E5ECF6\", \"gridcolor\": \"white\", \"gridwidth\": 2, \"linecolor\": \"white\", \"showbackground\": true, \"ticks\": \"\", \"zerolinecolor\": \"white\"}}, \"shapedefaults\": {\"line\": {\"color\": \"#2a3f5f\"}}, \"ternary\": {\"aaxis\": {\"gridcolor\": \"white\", \"linecolor\": \"white\", \"ticks\": \"\"}, \"baxis\": {\"gridcolor\": \"white\", \"linecolor\": \"white\", \"ticks\": \"\"}, \"bgcolor\": \"#E5ECF6\", \"caxis\": {\"gridcolor\": \"white\", \"linecolor\": \"white\", \"ticks\": \"\"}}, \"title\": {\"x\": 0.05}, \"xaxis\": {\"automargin\": true, \"gridcolor\": \"white\", \"linecolor\": \"white\", \"ticks\": \"\", \"title\": {\"standoff\": 15}, \"zerolinecolor\": \"white\", \"zerolinewidth\": 2}, \"yaxis\": {\"automargin\": true, \"gridcolor\": \"white\", \"linecolor\": \"white\", \"ticks\": \"\", \"title\": {\"standoff\": 15}, \"zerolinecolor\": \"white\", \"zerolinewidth\": 2}}}, \"title\": {\"text\": \"Acquired Network Impressions of Net A vs Net B during the week\"}, \"yaxis\": {\"title\": {\"text\": \"Impressions\"}}},                        {\"responsive\": true}                    ).then(function(){\n",
       "                            \n",
       "var gd = document.getElementById('62c64efd-d01e-43a2-a51a-603eb0b91194');\n",
=======
       "<div>                            <div id=\"bf0e0186-d53c-4f0c-abb2-c75dd9f657da\" class=\"plotly-graph-div\" style=\"height:525px; width:100%;\"></div>            <script type=\"text/javascript\">                require([\"plotly\"], function(Plotly) {                    window.PLOTLYENV=window.PLOTLYENV || {};                                    if (document.getElementById(\"bf0e0186-d53c-4f0c-abb2-c75dd9f657da\")) {                    Plotly.newPlot(                        \"bf0e0186-d53c-4f0c-abb2-c75dd9f657da\",                        [{\"marker\": {\"color\": \"rgba(10, 78, 139, 0.6)\", \"line\": {\"color\": \"rgba(10, 78, 139, 1.0)\", \"width\": 3}}, \"name\": \"NetA_imp\", \"text\": [1224.0, 1133.0, 631.0, 879.0, 452.0, 514.0, 1131.0], \"textposition\": \"auto\", \"type\": \"bar\", \"x\": [\"Mon\", \"Tue\", \"Wed\", \"Thu\", \"Fri\", \"Sat\", \"Sun\"], \"y\": [1224, 1133, 631, 879, 452, 514, 1131]}, {\"marker\": {\"color\": \"rgba(58, 71, 80, 0.6)\", \"line\": {\"color\": \"rgba(58, 71, 80, 1.0)\", \"width\": 3}}, \"name\": \"NetB_imp\", \"text\": [1004.0, 1318.0, 1045.0, 728.0, 810.0, 945.0, 838.0], \"textposition\": \"auto\", \"type\": \"bar\", \"x\": [\"Mon\", \"Tue\", \"Wed\", \"Thu\", \"Fri\", \"Sat\", \"Sun\"], \"y\": [1004, 1318, 1045, 728, 810, 945, 838]}],                        {\"barmode\": \"group\", \"template\": {\"data\": {\"bar\": [{\"error_x\": {\"color\": \"#2a3f5f\"}, \"error_y\": {\"color\": \"#2a3f5f\"}, \"marker\": {\"line\": {\"color\": \"#E5ECF6\", \"width\": 0.5}}, \"type\": \"bar\"}], \"barpolar\": [{\"marker\": {\"line\": {\"color\": \"#E5ECF6\", \"width\": 0.5}}, \"type\": \"barpolar\"}], \"carpet\": [{\"aaxis\": {\"endlinecolor\": \"#2a3f5f\", \"gridcolor\": \"white\", \"linecolor\": \"white\", \"minorgridcolor\": \"white\", \"startlinecolor\": \"#2a3f5f\"}, \"baxis\": {\"endlinecolor\": \"#2a3f5f\", \"gridcolor\": \"white\", \"linecolor\": \"white\", \"minorgridcolor\": \"white\", \"startlinecolor\": \"#2a3f5f\"}, \"type\": \"carpet\"}], \"choropleth\": [{\"colorbar\": {\"outlinewidth\": 0, \"ticks\": \"\"}, \"type\": \"choropleth\"}], \"contour\": [{\"colorbar\": {\"outlinewidth\": 0, \"ticks\": \"\"}, \"colorscale\": [[0.0, \"#0d0887\"], [0.1111111111111111, \"#46039f\"], [0.2222222222222222, \"#7201a8\"], [0.3333333333333333, \"#9c179e\"], [0.4444444444444444, \"#bd3786\"], [0.5555555555555556, \"#d8576b\"], [0.6666666666666666, \"#ed7953\"], [0.7777777777777778, \"#fb9f3a\"], [0.8888888888888888, \"#fdca26\"], [1.0, \"#f0f921\"]], \"type\": \"contour\"}], \"contourcarpet\": [{\"colorbar\": {\"outlinewidth\": 0, \"ticks\": \"\"}, \"type\": \"contourcarpet\"}], \"heatmap\": [{\"colorbar\": {\"outlinewidth\": 0, \"ticks\": \"\"}, \"colorscale\": [[0.0, \"#0d0887\"], [0.1111111111111111, \"#46039f\"], [0.2222222222222222, \"#7201a8\"], [0.3333333333333333, \"#9c179e\"], [0.4444444444444444, \"#bd3786\"], [0.5555555555555556, \"#d8576b\"], [0.6666666666666666, \"#ed7953\"], [0.7777777777777778, \"#fb9f3a\"], [0.8888888888888888, \"#fdca26\"], [1.0, \"#f0f921\"]], \"type\": \"heatmap\"}], \"heatmapgl\": [{\"colorbar\": {\"outlinewidth\": 0, \"ticks\": \"\"}, \"colorscale\": [[0.0, \"#0d0887\"], [0.1111111111111111, \"#46039f\"], [0.2222222222222222, \"#7201a8\"], [0.3333333333333333, \"#9c179e\"], [0.4444444444444444, \"#bd3786\"], [0.5555555555555556, \"#d8576b\"], [0.6666666666666666, \"#ed7953\"], [0.7777777777777778, \"#fb9f3a\"], [0.8888888888888888, \"#fdca26\"], [1.0, \"#f0f921\"]], \"type\": \"heatmapgl\"}], \"histogram\": [{\"marker\": {\"colorbar\": {\"outlinewidth\": 0, \"ticks\": \"\"}}, \"type\": \"histogram\"}], \"histogram2d\": [{\"colorbar\": {\"outlinewidth\": 0, \"ticks\": \"\"}, \"colorscale\": [[0.0, \"#0d0887\"], [0.1111111111111111, \"#46039f\"], [0.2222222222222222, \"#7201a8\"], [0.3333333333333333, \"#9c179e\"], [0.4444444444444444, \"#bd3786\"], [0.5555555555555556, \"#d8576b\"], [0.6666666666666666, \"#ed7953\"], [0.7777777777777778, \"#fb9f3a\"], [0.8888888888888888, \"#fdca26\"], [1.0, \"#f0f921\"]], \"type\": \"histogram2d\"}], \"histogram2dcontour\": [{\"colorbar\": {\"outlinewidth\": 0, \"ticks\": \"\"}, \"colorscale\": [[0.0, \"#0d0887\"], [0.1111111111111111, \"#46039f\"], [0.2222222222222222, \"#7201a8\"], [0.3333333333333333, \"#9c179e\"], [0.4444444444444444, \"#bd3786\"], [0.5555555555555556, \"#d8576b\"], [0.6666666666666666, \"#ed7953\"], [0.7777777777777778, \"#fb9f3a\"], [0.8888888888888888, \"#fdca26\"], [1.0, \"#f0f921\"]], \"type\": \"histogram2dcontour\"}], \"mesh3d\": [{\"colorbar\": {\"outlinewidth\": 0, \"ticks\": \"\"}, \"type\": \"mesh3d\"}], \"parcoords\": [{\"line\": {\"colorbar\": {\"outlinewidth\": 0, \"ticks\": \"\"}}, \"type\": \"parcoords\"}], \"pie\": [{\"automargin\": true, \"type\": \"pie\"}], \"scatter\": [{\"marker\": {\"colorbar\": {\"outlinewidth\": 0, \"ticks\": \"\"}}, \"type\": \"scatter\"}], \"scatter3d\": [{\"line\": {\"colorbar\": {\"outlinewidth\": 0, \"ticks\": \"\"}}, \"marker\": {\"colorbar\": {\"outlinewidth\": 0, \"ticks\": \"\"}}, \"type\": \"scatter3d\"}], \"scattercarpet\": [{\"marker\": {\"colorbar\": {\"outlinewidth\": 0, \"ticks\": \"\"}}, \"type\": \"scattercarpet\"}], \"scattergeo\": [{\"marker\": {\"colorbar\": {\"outlinewidth\": 0, \"ticks\": \"\"}}, \"type\": \"scattergeo\"}], \"scattergl\": [{\"marker\": {\"colorbar\": {\"outlinewidth\": 0, \"ticks\": \"\"}}, \"type\": \"scattergl\"}], \"scattermapbox\": [{\"marker\": {\"colorbar\": {\"outlinewidth\": 0, \"ticks\": \"\"}}, \"type\": \"scattermapbox\"}], \"scatterpolar\": [{\"marker\": {\"colorbar\": {\"outlinewidth\": 0, \"ticks\": \"\"}}, \"type\": \"scatterpolar\"}], \"scatterpolargl\": [{\"marker\": {\"colorbar\": {\"outlinewidth\": 0, \"ticks\": \"\"}}, \"type\": \"scatterpolargl\"}], \"scatterternary\": [{\"marker\": {\"colorbar\": {\"outlinewidth\": 0, \"ticks\": \"\"}}, \"type\": \"scatterternary\"}], \"surface\": [{\"colorbar\": {\"outlinewidth\": 0, \"ticks\": \"\"}, \"colorscale\": [[0.0, \"#0d0887\"], [0.1111111111111111, \"#46039f\"], [0.2222222222222222, \"#7201a8\"], [0.3333333333333333, \"#9c179e\"], [0.4444444444444444, \"#bd3786\"], [0.5555555555555556, \"#d8576b\"], [0.6666666666666666, \"#ed7953\"], [0.7777777777777778, \"#fb9f3a\"], [0.8888888888888888, \"#fdca26\"], [1.0, \"#f0f921\"]], \"type\": \"surface\"}], \"table\": [{\"cells\": {\"fill\": {\"color\": \"#EBF0F8\"}, \"line\": {\"color\": \"white\"}}, \"header\": {\"fill\": {\"color\": \"#C8D4E3\"}, \"line\": {\"color\": \"white\"}}, \"type\": \"table\"}]}, \"layout\": {\"annotationdefaults\": {\"arrowcolor\": \"#2a3f5f\", \"arrowhead\": 0, \"arrowwidth\": 1}, \"autotypenumbers\": \"strict\", \"coloraxis\": {\"colorbar\": {\"outlinewidth\": 0, \"ticks\": \"\"}}, \"colorscale\": {\"diverging\": [[0, \"#8e0152\"], [0.1, \"#c51b7d\"], [0.2, \"#de77ae\"], [0.3, \"#f1b6da\"], [0.4, \"#fde0ef\"], [0.5, \"#f7f7f7\"], [0.6, \"#e6f5d0\"], [0.7, \"#b8e186\"], [0.8, \"#7fbc41\"], [0.9, \"#4d9221\"], [1, \"#276419\"]], \"sequential\": [[0.0, \"#0d0887\"], [0.1111111111111111, \"#46039f\"], [0.2222222222222222, \"#7201a8\"], [0.3333333333333333, \"#9c179e\"], [0.4444444444444444, \"#bd3786\"], [0.5555555555555556, \"#d8576b\"], [0.6666666666666666, \"#ed7953\"], [0.7777777777777778, \"#fb9f3a\"], [0.8888888888888888, \"#fdca26\"], [1.0, \"#f0f921\"]], \"sequentialminus\": [[0.0, \"#0d0887\"], [0.1111111111111111, \"#46039f\"], [0.2222222222222222, \"#7201a8\"], [0.3333333333333333, \"#9c179e\"], [0.4444444444444444, \"#bd3786\"], [0.5555555555555556, \"#d8576b\"], [0.6666666666666666, \"#ed7953\"], [0.7777777777777778, \"#fb9f3a\"], [0.8888888888888888, \"#fdca26\"], [1.0, \"#f0f921\"]]}, \"colorway\": [\"#636efa\", \"#EF553B\", \"#00cc96\", \"#ab63fa\", \"#FFA15A\", \"#19d3f3\", \"#FF6692\", \"#B6E880\", \"#FF97FF\", \"#FECB52\"], \"font\": {\"color\": \"#2a3f5f\"}, \"geo\": {\"bgcolor\": \"white\", \"lakecolor\": \"white\", \"landcolor\": \"#E5ECF6\", \"showlakes\": true, \"showland\": true, \"subunitcolor\": \"white\"}, \"hoverlabel\": {\"align\": \"left\"}, \"hovermode\": \"closest\", \"mapbox\": {\"style\": \"light\"}, \"paper_bgcolor\": \"white\", \"plot_bgcolor\": \"#E5ECF6\", \"polar\": {\"angularaxis\": {\"gridcolor\": \"white\", \"linecolor\": \"white\", \"ticks\": \"\"}, \"bgcolor\": \"#E5ECF6\", \"radialaxis\": {\"gridcolor\": \"white\", \"linecolor\": \"white\", \"ticks\": \"\"}}, \"scene\": {\"xaxis\": {\"backgroundcolor\": \"#E5ECF6\", \"gridcolor\": \"white\", \"gridwidth\": 2, \"linecolor\": \"white\", \"showbackground\": true, \"ticks\": \"\", \"zerolinecolor\": \"white\"}, \"yaxis\": {\"backgroundcolor\": \"#E5ECF6\", \"gridcolor\": \"white\", \"gridwidth\": 2, \"linecolor\": \"white\", \"showbackground\": true, \"ticks\": \"\", \"zerolinecolor\": \"white\"}, \"zaxis\": {\"backgroundcolor\": \"#E5ECF6\", \"gridcolor\": \"white\", \"gridwidth\": 2, \"linecolor\": \"white\", \"showbackground\": true, \"ticks\": \"\", \"zerolinecolor\": \"white\"}}, \"shapedefaults\": {\"line\": {\"color\": \"#2a3f5f\"}}, \"ternary\": {\"aaxis\": {\"gridcolor\": \"white\", \"linecolor\": \"white\", \"ticks\": \"\"}, \"baxis\": {\"gridcolor\": \"white\", \"linecolor\": \"white\", \"ticks\": \"\"}, \"bgcolor\": \"#E5ECF6\", \"caxis\": {\"gridcolor\": \"white\", \"linecolor\": \"white\", \"ticks\": \"\"}}, \"title\": {\"x\": 0.05}, \"xaxis\": {\"automargin\": true, \"gridcolor\": \"white\", \"linecolor\": \"white\", \"ticks\": \"\", \"title\": {\"standoff\": 15}, \"zerolinecolor\": \"white\", \"zerolinewidth\": 2}, \"yaxis\": {\"automargin\": true, \"gridcolor\": \"white\", \"linecolor\": \"white\", \"ticks\": \"\", \"title\": {\"standoff\": 15}, \"zerolinecolor\": \"white\", \"zerolinewidth\": 2}}}, \"title\": {\"text\": \"Acquired Network Impressions of Net A vs Net B during the week\"}, \"yaxis\": {\"title\": {\"text\": \"Impressions\"}}},                        {\"responsive\": true}                    ).then(function(){\n",
       "                            \n",
       "var gd = document.getElementById('bf0e0186-d53c-4f0c-abb2-c75dd9f657da');\n",
>>>>>>> main
>>>>>>> main
       "var x = new MutationObserver(function (mutations, observer) {{\n",
       "        var display = window.getComputedStyle(gd).display;\n",
       "        if (!display || display === 'none') {{\n",
       "            console.log([gd, 'removed!']);\n",
       "            Plotly.purge(gd);\n",
       "            observer.disconnect();\n",
       "        }}\n",
       "}});\n",
       "\n",
       "// Listen for the removal of the full notebook cells\n",
       "var notebookContainer = gd.closest('#notebook-container');\n",
       "if (notebookContainer) {{\n",
       "    x.observe(notebookContainer, {childList: true});\n",
       "}}\n",
       "\n",
       "// Listen for the clearing of the current output cell\n",
       "var outputEl = gd.closest('.output');\n",
       "if (outputEl) {{\n",
       "    x.observe(outputEl, {childList: true});\n",
       "}}\n",
       "\n",
       "                        })                };                });            </script>        </div>"
      ]
     },
     "metadata": {},
     "output_type": "display_data"
    }
   ],
   "source": [
    "fig = go.Figure(data=[go.Bar(name=\"NetA_imp\",\n",
    "            x=df_plot['Weekday'], y=df_plot['NetA_imp'],text=df_plot['NetA_imp'],\n",
    "            textposition='auto',marker=dict(\n",
    "        color='rgba(10, 78, 139, 0.6)',\n",
    "        line=dict(color='rgba(10, 78, 139, 1.0)', width=3))\n",
    "                            ),\n",
    "            go.Bar(name=\"NetB_imp\",\n",
    "            x=df_plot['Weekday'], y=df_plot['NetB_imp'],text=df_plot['NetB_imp'],\n",
    "            textposition='auto',marker=dict(\n",
    "        color='rgba(58, 71, 80, 0.6)',\n",
    "        line=dict(color='rgba(58, 71, 80, 1.0)', width=3)\n",
    "    )\n",
    "                  \n",
    "                  ),          \n",
    "            \n",
    "        ])\n",
    "\n",
    "fig.update_layout(title=\"Acquired Network Impressions of Net A vs Net B during the week\",\n",
    "    yaxis_title=\"Impressions\",barmode='group')\n",
    "fig.show()"
   ]
  },
  {
   "cell_type": "code",
<<<<<<< HEAD
   "execution_count": 139,
=======
<<<<<<< HEAD
   "execution_count": 46,
=======
   "execution_count": 19,
>>>>>>> main
>>>>>>> main
   "id": "exceptional-giant",
   "metadata": {},
   "outputs": [
    {
     "data": {
      "text/html": [
       "<div>\n",
       "<style scoped>\n",
       "    .dataframe tbody tr th:only-of-type {\n",
       "        vertical-align: middle;\n",
       "    }\n",
       "\n",
       "    .dataframe tbody tr th {\n",
       "        vertical-align: top;\n",
       "    }\n",
       "\n",
       "    .dataframe thead th {\n",
       "        text-align: right;\n",
       "    }\n",
       "</style>\n",
       "<table border=\"1\" class=\"dataframe\">\n",
       "  <thead>\n",
       "    <tr style=\"text-align: right;\">\n",
       "      <th></th>\n",
       "      <th>Date</th>\n",
       "      <th>Page Views</th>\n",
       "      <th>NetA_imp</th>\n",
       "      <th>NetA_spd</th>\n",
       "      <th>NetB_imp</th>\n",
       "      <th>NetB_spd</th>\n",
       "    </tr>\n",
       "  </thead>\n",
       "  <tbody>\n",
       "    <tr>\n",
       "      <th>0</th>\n",
       "      <td>2019-07-07</td>\n",
       "      <td>3363</td>\n",
       "      <td>421</td>\n",
       "      <td>159</td>\n",
       "      <td>381</td>\n",
       "      <td>176</td>\n",
       "    </tr>\n",
       "    <tr>\n",
       "      <th>1</th>\n",
       "      <td>2019-07-08</td>\n",
       "      <td>4160</td>\n",
       "      <td>392</td>\n",
       "      <td>1066</td>\n",
       "      <td>316</td>\n",
       "      <td>774</td>\n",
       "    </tr>\n",
       "    <tr>\n",
       "      <th>2</th>\n",
       "      <td>2019-07-09</td>\n",
       "      <td>3619</td>\n",
       "      <td>756</td>\n",
       "      <td>877</td>\n",
       "      <td>671</td>\n",
       "      <td>5010</td>\n",
       "    </tr>\n",
       "    <tr>\n",
       "      <th>3</th>\n",
       "      <td>2019-07-10</td>\n",
       "      <td>3474</td>\n",
       "      <td>128</td>\n",
       "      <td>130</td>\n",
       "      <td>401</td>\n",
       "      <td>492</td>\n",
       "    </tr>\n",
       "    <tr>\n",
       "      <th>4</th>\n",
       "      <td>2019-07-11</td>\n",
       "      <td>3547</td>\n",
       "      <td>154</td>\n",
       "      <td>1994</td>\n",
       "      <td>182</td>\n",
       "      <td>230</td>\n",
       "    </tr>\n",
       "    <tr>\n",
       "      <th>5</th>\n",
       "      <td>2019-07-12</td>\n",
       "      <td>3277</td>\n",
       "      <td>104</td>\n",
       "      <td>4740</td>\n",
       "      <td>365</td>\n",
       "      <td>1408</td>\n",
       "    </tr>\n",
       "    <tr>\n",
       "      <th>6</th>\n",
       "      <td>2019-07-13</td>\n",
       "      <td>3332</td>\n",
       "      <td>65</td>\n",
       "      <td>993</td>\n",
       "      <td>450</td>\n",
       "      <td>1841</td>\n",
       "    </tr>\n",
       "    <tr>\n",
       "      <th>7</th>\n",
       "      <td>2019-07-14</td>\n",
       "      <td>3858</td>\n",
       "      <td>155</td>\n",
       "      <td>938</td>\n",
       "      <td>35</td>\n",
       "      <td>878</td>\n",
       "    </tr>\n",
       "    <tr>\n",
       "      <th>8</th>\n",
       "      <td>2019-07-15</td>\n",
       "      <td>4918</td>\n",
       "      <td>108</td>\n",
       "      <td>1777</td>\n",
       "      <td>63</td>\n",
       "      <td>2431</td>\n",
       "    </tr>\n",
       "    <tr>\n",
       "      <th>9</th>\n",
       "      <td>2019-07-16</td>\n",
       "      <td>3939</td>\n",
       "      <td>117</td>\n",
       "      <td>974</td>\n",
       "      <td>2</td>\n",
       "      <td>73</td>\n",
       "    </tr>\n",
       "    <tr>\n",
       "      <th>10</th>\n",
       "      <td>2019-07-17</td>\n",
       "      <td>3763</td>\n",
       "      <td>185</td>\n",
       "      <td>4935</td>\n",
       "      <td>54</td>\n",
       "      <td>911</td>\n",
       "    </tr>\n",
       "    <tr>\n",
       "      <th>11</th>\n",
       "      <td>2019-07-18</td>\n",
       "      <td>3691</td>\n",
       "      <td>212</td>\n",
       "      <td>2697</td>\n",
       "      <td>38</td>\n",
       "      <td>852</td>\n",
       "    </tr>\n",
       "    <tr>\n",
       "      <th>12</th>\n",
       "      <td>2019-07-19</td>\n",
       "      <td>3538</td>\n",
       "      <td>64</td>\n",
       "      <td>0</td>\n",
       "      <td>50</td>\n",
       "      <td>1845</td>\n",
       "    </tr>\n",
       "    <tr>\n",
       "      <th>13</th>\n",
       "      <td>2019-07-20</td>\n",
       "      <td>3430</td>\n",
       "      <td>155</td>\n",
       "      <td>210</td>\n",
       "      <td>54</td>\n",
       "      <td>1615</td>\n",
       "    </tr>\n",
       "    <tr>\n",
       "      <th>14</th>\n",
       "      <td>2019-07-21</td>\n",
       "      <td>3841</td>\n",
       "      <td>62</td>\n",
       "      <td>827</td>\n",
       "      <td>103</td>\n",
       "      <td>3341</td>\n",
       "    </tr>\n",
       "    <tr>\n",
       "      <th>15</th>\n",
       "      <td>2019-07-22</td>\n",
       "      <td>4199</td>\n",
       "      <td>118</td>\n",
       "      <td>4927</td>\n",
       "      <td>94</td>\n",
       "      <td>3398</td>\n",
       "    </tr>\n",
       "    <tr>\n",
       "      <th>16</th>\n",
       "      <td>2019-07-23</td>\n",
       "      <td>3770</td>\n",
       "      <td>23</td>\n",
       "      <td>426</td>\n",
       "      <td>73</td>\n",
       "      <td>2768</td>\n",
       "    </tr>\n",
       "    <tr>\n",
       "      <th>17</th>\n",
       "      <td>2019-07-24</td>\n",
       "      <td>3458</td>\n",
       "      <td>62</td>\n",
       "      <td>3037</td>\n",
       "      <td>100</td>\n",
       "      <td>2825</td>\n",
       "    </tr>\n",
       "    <tr>\n",
       "      <th>18</th>\n",
       "      <td>2019-07-25</td>\n",
       "      <td>3631</td>\n",
       "      <td>26</td>\n",
       "      <td>939</td>\n",
       "      <td>20</td>\n",
       "      <td>362</td>\n",
       "    </tr>\n",
       "    <tr>\n",
       "      <th>19</th>\n",
       "      <td>2019-07-26</td>\n",
       "      <td>3367</td>\n",
       "      <td>31</td>\n",
       "      <td>530</td>\n",
       "      <td>80</td>\n",
       "      <td>3123</td>\n",
       "    </tr>\n",
       "    <tr>\n",
       "      <th>20</th>\n",
       "      <td>2019-07-27</td>\n",
       "      <td>3410</td>\n",
       "      <td>49</td>\n",
       "      <td>567</td>\n",
       "      <td>47</td>\n",
       "      <td>993</td>\n",
       "    </tr>\n",
       "    <tr>\n",
       "      <th>21</th>\n",
       "      <td>2019-07-28</td>\n",
       "      <td>3646</td>\n",
       "      <td>67</td>\n",
       "      <td>3455</td>\n",
       "      <td>63</td>\n",
       "      <td>3291</td>\n",
       "    </tr>\n",
       "    <tr>\n",
       "      <th>22</th>\n",
       "      <td>2019-07-29</td>\n",
       "      <td>3475</td>\n",
       "      <td>110</td>\n",
       "      <td>5890</td>\n",
       "      <td>80</td>\n",
       "      <td>3622</td>\n",
       "    </tr>\n",
       "    <tr>\n",
       "      <th>23</th>\n",
       "      <td>2019-07-30</td>\n",
       "      <td>3087</td>\n",
       "      <td>21</td>\n",
       "      <td>678</td>\n",
       "      <td>81</td>\n",
       "      <td>3903</td>\n",
       "    </tr>\n",
       "    <tr>\n",
       "      <th>24</th>\n",
       "      <td>2019-07-31</td>\n",
       "      <td>2754</td>\n",
       "      <td>30</td>\n",
       "      <td>1264</td>\n",
       "      <td>47</td>\n",
       "      <td>1638</td>\n",
       "    </tr>\n",
       "    <tr>\n",
       "      <th>25</th>\n",
       "      <td>2019-08-01</td>\n",
       "      <td>2783</td>\n",
       "      <td>2</td>\n",
       "      <td>137</td>\n",
       "      <td>33</td>\n",
       "      <td>913</td>\n",
       "    </tr>\n",
       "    <tr>\n",
       "      <th>26</th>\n",
       "      <td>2019-08-02</td>\n",
       "      <td>2658</td>\n",
       "      <td>40</td>\n",
       "      <td>823</td>\n",
       "      <td>0</td>\n",
       "      <td>0</td>\n",
       "    </tr>\n",
       "    <tr>\n",
       "      <th>27</th>\n",
       "      <td>2019-08-03</td>\n",
       "      <td>2748</td>\n",
       "      <td>21</td>\n",
       "      <td>405</td>\n",
       "      <td>42</td>\n",
       "      <td>1170</td>\n",
       "    </tr>\n",
       "    <tr>\n",
       "      <th>28</th>\n",
       "      <td>2019-08-04</td>\n",
       "      <td>3000</td>\n",
       "      <td>83</td>\n",
       "      <td>2134</td>\n",
       "      <td>56</td>\n",
       "      <td>2018</td>\n",
       "    </tr>\n",
       "    <tr>\n",
       "      <th>29</th>\n",
       "      <td>2019-08-05</td>\n",
       "      <td>3256</td>\n",
       "      <td>146</td>\n",
       "      <td>4025</td>\n",
       "      <td>218</td>\n",
       "      <td>7783</td>\n",
       "    </tr>\n",
       "    <tr>\n",
       "      <th>30</th>\n",
       "      <td>2019-08-06</td>\n",
       "      <td>2865</td>\n",
       "      <td>51</td>\n",
       "      <td>1363</td>\n",
       "      <td>170</td>\n",
       "      <td>5257</td>\n",
       "    </tr>\n",
       "    <tr>\n",
       "      <th>31</th>\n",
       "      <td>2019-08-07</td>\n",
       "      <td>2693</td>\n",
       "      <td>84</td>\n",
       "      <td>2316</td>\n",
       "      <td>129</td>\n",
       "      <td>5960</td>\n",
       "    </tr>\n",
       "    <tr>\n",
       "      <th>32</th>\n",
       "      <td>2019-08-08</td>\n",
       "      <td>2629</td>\n",
       "      <td>193</td>\n",
       "      <td>10376</td>\n",
       "      <td>117</td>\n",
       "      <td>2744</td>\n",
       "    </tr>\n",
       "    <tr>\n",
       "      <th>33</th>\n",
       "      <td>2019-08-09</td>\n",
       "      <td>2922</td>\n",
       "      <td>49</td>\n",
       "      <td>1215</td>\n",
       "      <td>134</td>\n",
       "      <td>3807</td>\n",
       "    </tr>\n",
       "    <tr>\n",
       "      <th>34</th>\n",
       "      <td>2019-08-10</td>\n",
       "      <td>2873</td>\n",
       "      <td>78</td>\n",
       "      <td>1578</td>\n",
       "      <td>90</td>\n",
       "      <td>1345</td>\n",
       "    </tr>\n",
       "    <tr>\n",
       "      <th>35</th>\n",
       "      <td>2019-08-11</td>\n",
       "      <td>3057</td>\n",
       "      <td>158</td>\n",
       "      <td>6856</td>\n",
       "      <td>44</td>\n",
       "      <td>1081</td>\n",
       "    </tr>\n",
       "    <tr>\n",
       "      <th>36</th>\n",
       "      <td>2019-08-12</td>\n",
       "      <td>3357</td>\n",
       "      <td>196</td>\n",
       "      <td>4946</td>\n",
       "      <td>130</td>\n",
       "      <td>3585</td>\n",
       "    </tr>\n",
       "    <tr>\n",
       "      <th>37</th>\n",
       "      <td>2019-08-13</td>\n",
       "      <td>3013</td>\n",
       "      <td>94</td>\n",
       "      <td>3042</td>\n",
       "      <td>187</td>\n",
       "      <td>5702</td>\n",
       "    </tr>\n",
       "    <tr>\n",
       "      <th>38</th>\n",
       "      <td>2019-08-14</td>\n",
       "      <td>3542</td>\n",
       "      <td>72</td>\n",
       "      <td>1472</td>\n",
       "      <td>178</td>\n",
       "      <td>5270</td>\n",
       "    </tr>\n",
       "    <tr>\n",
       "      <th>39</th>\n",
       "      <td>2019-08-15</td>\n",
       "      <td>3093</td>\n",
       "      <td>208</td>\n",
       "      <td>8595</td>\n",
       "      <td>111</td>\n",
       "      <td>2740</td>\n",
       "    </tr>\n",
       "    <tr>\n",
       "      <th>40</th>\n",
       "      <td>2019-08-16</td>\n",
       "      <td>2714</td>\n",
       "      <td>24</td>\n",
       "      <td>607</td>\n",
       "      <td>110</td>\n",
       "      <td>4937</td>\n",
       "    </tr>\n",
       "    <tr>\n",
       "      <th>41</th>\n",
       "      <td>2019-08-17</td>\n",
       "      <td>2809</td>\n",
       "      <td>52</td>\n",
       "      <td>465</td>\n",
       "      <td>123</td>\n",
       "      <td>3524</td>\n",
       "    </tr>\n",
       "    <tr>\n",
       "      <th>42</th>\n",
       "      <td>2019-08-18</td>\n",
       "      <td>3113</td>\n",
       "      <td>185</td>\n",
       "      <td>6226</td>\n",
       "      <td>156</td>\n",
       "      <td>6690</td>\n",
       "    </tr>\n",
       "    <tr>\n",
       "      <th>43</th>\n",
       "      <td>2019-08-19</td>\n",
       "      <td>3486</td>\n",
       "      <td>154</td>\n",
       "      <td>6174</td>\n",
       "      <td>103</td>\n",
       "      <td>3473</td>\n",
       "    </tr>\n",
       "    <tr>\n",
       "      <th>44</th>\n",
       "      <td>2019-08-20</td>\n",
       "      <td>3425</td>\n",
       "      <td>71</td>\n",
       "      <td>2144</td>\n",
       "      <td>134</td>\n",
       "      <td>6624</td>\n",
       "    </tr>\n",
       "    <tr>\n",
       "      <th>45</th>\n",
       "      <td>2019-08-21</td>\n",
       "      <td>4066</td>\n",
       "      <td>70</td>\n",
       "      <td>1663</td>\n",
       "      <td>136</td>\n",
       "      <td>2576</td>\n",
       "    </tr>\n",
       "    <tr>\n",
       "      <th>46</th>\n",
       "      <td>2019-08-22</td>\n",
       "      <td>3167</td>\n",
       "      <td>84</td>\n",
       "      <td>2534</td>\n",
       "      <td>227</td>\n",
       "      <td>6867</td>\n",
       "    </tr>\n",
       "    <tr>\n",
       "      <th>47</th>\n",
       "      <td>2019-08-23</td>\n",
       "      <td>3031</td>\n",
       "      <td>140</td>\n",
       "      <td>6518</td>\n",
       "      <td>71</td>\n",
       "      <td>2432</td>\n",
       "    </tr>\n",
       "    <tr>\n",
       "      <th>48</th>\n",
       "      <td>2019-08-24</td>\n",
       "      <td>3107</td>\n",
       "      <td>94</td>\n",
       "      <td>2598</td>\n",
       "      <td>139</td>\n",
       "      <td>3953</td>\n",
       "    </tr>\n",
       "  </tbody>\n",
       "</table>\n",
       "</div>"
      ],
      "text/plain": [
       "          Date  Page Views  NetA_imp  NetA_spd  NetB_imp  NetB_spd\n",
       "0   2019-07-07        3363       421       159       381       176\n",
       "1   2019-07-08        4160       392      1066       316       774\n",
       "2   2019-07-09        3619       756       877       671      5010\n",
       "3   2019-07-10        3474       128       130       401       492\n",
       "4   2019-07-11        3547       154      1994       182       230\n",
       "5   2019-07-12        3277       104      4740       365      1408\n",
       "6   2019-07-13        3332        65       993       450      1841\n",
       "7   2019-07-14        3858       155       938        35       878\n",
       "8   2019-07-15        4918       108      1777        63      2431\n",
       "9   2019-07-16        3939       117       974         2        73\n",
       "10  2019-07-17        3763       185      4935        54       911\n",
       "11  2019-07-18        3691       212      2697        38       852\n",
       "12  2019-07-19        3538        64         0        50      1845\n",
       "13  2019-07-20        3430       155       210        54      1615\n",
       "14  2019-07-21        3841        62       827       103      3341\n",
       "15  2019-07-22        4199       118      4927        94      3398\n",
       "16  2019-07-23        3770        23       426        73      2768\n",
       "17  2019-07-24        3458        62      3037       100      2825\n",
       "18  2019-07-25        3631        26       939        20       362\n",
       "19  2019-07-26        3367        31       530        80      3123\n",
       "20  2019-07-27        3410        49       567        47       993\n",
       "21  2019-07-28        3646        67      3455        63      3291\n",
       "22  2019-07-29        3475       110      5890        80      3622\n",
       "23  2019-07-30        3087        21       678        81      3903\n",
       "24  2019-07-31        2754        30      1264        47      1638\n",
       "25  2019-08-01        2783         2       137        33       913\n",
       "26  2019-08-02        2658        40       823         0         0\n",
       "27  2019-08-03        2748        21       405        42      1170\n",
       "28  2019-08-04        3000        83      2134        56      2018\n",
       "29  2019-08-05        3256       146      4025       218      7783\n",
       "30  2019-08-06        2865        51      1363       170      5257\n",
       "31  2019-08-07        2693        84      2316       129      5960\n",
       "32  2019-08-08        2629       193     10376       117      2744\n",
       "33  2019-08-09        2922        49      1215       134      3807\n",
       "34  2019-08-10        2873        78      1578        90      1345\n",
       "35  2019-08-11        3057       158      6856        44      1081\n",
       "36  2019-08-12        3357       196      4946       130      3585\n",
       "37  2019-08-13        3013        94      3042       187      5702\n",
       "38  2019-08-14        3542        72      1472       178      5270\n",
       "39  2019-08-15        3093       208      8595       111      2740\n",
       "40  2019-08-16        2714        24       607       110      4937\n",
       "41  2019-08-17        2809        52       465       123      3524\n",
       "42  2019-08-18        3113       185      6226       156      6690\n",
       "43  2019-08-19        3486       154      6174       103      3473\n",
       "44  2019-08-20        3425        71      2144       134      6624\n",
       "45  2019-08-21        4066        70      1663       136      2576\n",
       "46  2019-08-22        3167        84      2534       227      6867\n",
       "47  2019-08-23        3031       140      6518        71      2432\n",
       "48  2019-08-24        3107        94      2598       139      3953"
      ]
     },
<<<<<<< HEAD
     "execution_count": 139,
=======
<<<<<<< HEAD
     "execution_count": 46,
=======
     "execution_count": 19,
>>>>>>> main
>>>>>>> main
     "metadata": {},
     "output_type": "execute_result"
    }
   ],
   "source": [
    "df_daily_agg"
   ]
  },
  {
   "cell_type": "markdown",
   "id": "mechanical-sugar",
   "metadata": {},
   "source": [
    "### Q2 - Explorary Analysis of Feature relationships"
   ]
  },
  {
   "cell_type": "code",
<<<<<<< HEAD
   "execution_count": 140,
=======
<<<<<<< HEAD
   "execution_count": 47,
=======
   "execution_count": 20,
>>>>>>> main
>>>>>>> main
   "id": "rolled-kennedy",
   "metadata": {},
   "outputs": [
    {
     "data": {
      "application/vnd.plotly.v1+json": {
       "config": {
        "plotlyServerURL": "https://plot.ly"
       },
       "data": [
        {
         "dimensions": [
          {
           "axis": {
            "matches": true
           },
           "label": "Page Views",
           "values": [
            3363
           ]
          },
          {
           "axis": {
            "matches": true
           },
           "label": "NetA_imp",
           "values": [
            421
           ]
          },
          {
           "axis": {
            "matches": true
           },
           "label": "NetA_spd",
           "values": [
            159
           ]
          },
          {
           "axis": {
            "matches": true
           },
           "label": "NetB_imp",
           "values": [
            381
           ]
          },
          {
           "axis": {
            "matches": true
           },
           "label": "NetB_spd",
           "values": [
            176
           ]
          }
         ],
         "hovertemplate": "Date=2019-07-07<br>%{xaxis.title.text}=%{x}<br>%{yaxis.title.text}=%{y}<extra></extra>",
         "legendgroup": "2019-07-07",
         "marker": {
          "color": "#636efa",
          "symbol": "circle"
         },
         "name": "2019-07-07",
         "showlegend": true,
         "type": "splom"
        },
        {
         "dimensions": [
          {
           "axis": {
            "matches": true
           },
           "label": "Page Views",
           "values": [
            4160
           ]
          },
          {
           "axis": {
            "matches": true
           },
           "label": "NetA_imp",
           "values": [
            392
           ]
          },
          {
           "axis": {
            "matches": true
           },
           "label": "NetA_spd",
           "values": [
            1066
           ]
          },
          {
           "axis": {
            "matches": true
           },
           "label": "NetB_imp",
           "values": [
            316
           ]
          },
          {
           "axis": {
            "matches": true
           },
           "label": "NetB_spd",
           "values": [
            774
           ]
          }
         ],
         "hovertemplate": "Date=2019-07-08<br>%{xaxis.title.text}=%{x}<br>%{yaxis.title.text}=%{y}<extra></extra>",
         "legendgroup": "2019-07-08",
         "marker": {
          "color": "#EF553B",
          "symbol": "circle"
         },
         "name": "2019-07-08",
         "showlegend": true,
         "type": "splom"
        },
        {
         "dimensions": [
          {
           "axis": {
            "matches": true
           },
           "label": "Page Views",
           "values": [
            3619
           ]
          },
          {
           "axis": {
            "matches": true
           },
           "label": "NetA_imp",
           "values": [
            756
           ]
          },
          {
           "axis": {
            "matches": true
           },
           "label": "NetA_spd",
           "values": [
            877
           ]
          },
          {
           "axis": {
            "matches": true
           },
           "label": "NetB_imp",
           "values": [
            671
           ]
          },
          {
           "axis": {
            "matches": true
           },
           "label": "NetB_spd",
           "values": [
            5010
           ]
          }
         ],
         "hovertemplate": "Date=2019-07-09<br>%{xaxis.title.text}=%{x}<br>%{yaxis.title.text}=%{y}<extra></extra>",
         "legendgroup": "2019-07-09",
         "marker": {
          "color": "#00cc96",
          "symbol": "circle"
         },
         "name": "2019-07-09",
         "showlegend": true,
         "type": "splom"
        },
        {
         "dimensions": [
          {
           "axis": {
            "matches": true
           },
           "label": "Page Views",
           "values": [
            3474
           ]
          },
          {
           "axis": {
            "matches": true
           },
           "label": "NetA_imp",
           "values": [
            128
           ]
          },
          {
           "axis": {
            "matches": true
           },
           "label": "NetA_spd",
           "values": [
            130
           ]
          },
          {
           "axis": {
            "matches": true
           },
           "label": "NetB_imp",
           "values": [
            401
           ]
          },
          {
           "axis": {
            "matches": true
           },
           "label": "NetB_spd",
           "values": [
            492
           ]
          }
         ],
         "hovertemplate": "Date=2019-07-10<br>%{xaxis.title.text}=%{x}<br>%{yaxis.title.text}=%{y}<extra></extra>",
         "legendgroup": "2019-07-10",
         "marker": {
          "color": "#ab63fa",
          "symbol": "circle"
         },
         "name": "2019-07-10",
         "showlegend": true,
         "type": "splom"
        },
        {
         "dimensions": [
          {
           "axis": {
            "matches": true
           },
           "label": "Page Views",
           "values": [
            3547
           ]
          },
          {
           "axis": {
            "matches": true
           },
           "label": "NetA_imp",
           "values": [
            154
           ]
          },
          {
           "axis": {
            "matches": true
           },
           "label": "NetA_spd",
           "values": [
            1994
           ]
          },
          {
           "axis": {
            "matches": true
           },
           "label": "NetB_imp",
           "values": [
            182
           ]
          },
          {
           "axis": {
            "matches": true
           },
           "label": "NetB_spd",
           "values": [
            230
           ]
          }
         ],
         "hovertemplate": "Date=2019-07-11<br>%{xaxis.title.text}=%{x}<br>%{yaxis.title.text}=%{y}<extra></extra>",
         "legendgroup": "2019-07-11",
         "marker": {
          "color": "#FFA15A",
          "symbol": "circle"
         },
         "name": "2019-07-11",
         "showlegend": true,
         "type": "splom"
        },
        {
         "dimensions": [
          {
           "axis": {
            "matches": true
           },
           "label": "Page Views",
           "values": [
            3277
           ]
          },
          {
           "axis": {
            "matches": true
           },
           "label": "NetA_imp",
           "values": [
            104
           ]
          },
          {
           "axis": {
            "matches": true
           },
           "label": "NetA_spd",
           "values": [
            4740
           ]
          },
          {
           "axis": {
            "matches": true
           },
           "label": "NetB_imp",
           "values": [
            365
           ]
          },
          {
           "axis": {
            "matches": true
           },
           "label": "NetB_spd",
           "values": [
            1408
           ]
          }
         ],
         "hovertemplate": "Date=2019-07-12<br>%{xaxis.title.text}=%{x}<br>%{yaxis.title.text}=%{y}<extra></extra>",
         "legendgroup": "2019-07-12",
         "marker": {
          "color": "#19d3f3",
          "symbol": "circle"
         },
         "name": "2019-07-12",
         "showlegend": true,
         "type": "splom"
        },
        {
         "dimensions": [
          {
           "axis": {
            "matches": true
           },
           "label": "Page Views",
           "values": [
            3332
           ]
          },
          {
           "axis": {
            "matches": true
           },
           "label": "NetA_imp",
           "values": [
            65
           ]
          },
          {
           "axis": {
            "matches": true
           },
           "label": "NetA_spd",
           "values": [
            993
           ]
          },
          {
           "axis": {
            "matches": true
           },
           "label": "NetB_imp",
           "values": [
            450
           ]
          },
          {
           "axis": {
            "matches": true
           },
           "label": "NetB_spd",
           "values": [
            1841
           ]
          }
         ],
         "hovertemplate": "Date=2019-07-13<br>%{xaxis.title.text}=%{x}<br>%{yaxis.title.text}=%{y}<extra></extra>",
         "legendgroup": "2019-07-13",
         "marker": {
          "color": "#FF6692",
          "symbol": "circle"
         },
         "name": "2019-07-13",
         "showlegend": true,
         "type": "splom"
        },
        {
         "dimensions": [
          {
           "axis": {
            "matches": true
           },
           "label": "Page Views",
           "values": [
            3858
           ]
          },
          {
           "axis": {
            "matches": true
           },
           "label": "NetA_imp",
           "values": [
            155
           ]
          },
          {
           "axis": {
            "matches": true
           },
           "label": "NetA_spd",
           "values": [
            938
           ]
          },
          {
           "axis": {
            "matches": true
           },
           "label": "NetB_imp",
           "values": [
            35
           ]
          },
          {
           "axis": {
            "matches": true
           },
           "label": "NetB_spd",
           "values": [
            878
           ]
          }
         ],
         "hovertemplate": "Date=2019-07-14<br>%{xaxis.title.text}=%{x}<br>%{yaxis.title.text}=%{y}<extra></extra>",
         "legendgroup": "2019-07-14",
         "marker": {
          "color": "#B6E880",
          "symbol": "circle"
         },
         "name": "2019-07-14",
         "showlegend": true,
         "type": "splom"
        },
        {
         "dimensions": [
          {
           "axis": {
            "matches": true
           },
           "label": "Page Views",
           "values": [
            4918
           ]
          },
          {
           "axis": {
            "matches": true
           },
           "label": "NetA_imp",
           "values": [
            108
           ]
          },
          {
           "axis": {
            "matches": true
           },
           "label": "NetA_spd",
           "values": [
            1777
           ]
          },
          {
           "axis": {
            "matches": true
           },
           "label": "NetB_imp",
           "values": [
            63
           ]
          },
          {
           "axis": {
            "matches": true
           },
           "label": "NetB_spd",
           "values": [
            2431
           ]
          }
         ],
         "hovertemplate": "Date=2019-07-15<br>%{xaxis.title.text}=%{x}<br>%{yaxis.title.text}=%{y}<extra></extra>",
         "legendgroup": "2019-07-15",
         "marker": {
          "color": "#FF97FF",
          "symbol": "circle"
         },
         "name": "2019-07-15",
         "showlegend": true,
         "type": "splom"
        },
        {
         "dimensions": [
          {
           "axis": {
            "matches": true
           },
           "label": "Page Views",
           "values": [
            3939
           ]
          },
          {
           "axis": {
            "matches": true
           },
           "label": "NetA_imp",
           "values": [
            117
           ]
          },
          {
           "axis": {
            "matches": true
           },
           "label": "NetA_spd",
           "values": [
            974
           ]
          },
          {
           "axis": {
            "matches": true
           },
           "label": "NetB_imp",
           "values": [
            2
           ]
          },
          {
           "axis": {
            "matches": true
           },
           "label": "NetB_spd",
           "values": [
            73
           ]
          }
         ],
         "hovertemplate": "Date=2019-07-16<br>%{xaxis.title.text}=%{x}<br>%{yaxis.title.text}=%{y}<extra></extra>",
         "legendgroup": "2019-07-16",
         "marker": {
          "color": "#FECB52",
          "symbol": "circle"
         },
         "name": "2019-07-16",
         "showlegend": true,
         "type": "splom"
        },
        {
         "dimensions": [
          {
           "axis": {
            "matches": true
           },
           "label": "Page Views",
           "values": [
            3763
           ]
          },
          {
           "axis": {
            "matches": true
           },
           "label": "NetA_imp",
           "values": [
            185
           ]
          },
          {
           "axis": {
            "matches": true
           },
           "label": "NetA_spd",
           "values": [
            4935
           ]
          },
          {
           "axis": {
            "matches": true
           },
           "label": "NetB_imp",
           "values": [
            54
           ]
          },
          {
           "axis": {
            "matches": true
           },
           "label": "NetB_spd",
           "values": [
            911
           ]
          }
         ],
         "hovertemplate": "Date=2019-07-17<br>%{xaxis.title.text}=%{x}<br>%{yaxis.title.text}=%{y}<extra></extra>",
         "legendgroup": "2019-07-17",
         "marker": {
          "color": "#636efa",
          "symbol": "circle"
         },
         "name": "2019-07-17",
         "showlegend": true,
         "type": "splom"
        },
        {
         "dimensions": [
          {
           "axis": {
            "matches": true
           },
           "label": "Page Views",
           "values": [
            3691
           ]
          },
          {
           "axis": {
            "matches": true
           },
           "label": "NetA_imp",
           "values": [
            212
           ]
          },
          {
           "axis": {
            "matches": true
           },
           "label": "NetA_spd",
           "values": [
            2697
           ]
          },
          {
           "axis": {
            "matches": true
           },
           "label": "NetB_imp",
           "values": [
            38
           ]
          },
          {
           "axis": {
            "matches": true
           },
           "label": "NetB_spd",
           "values": [
            852
           ]
          }
         ],
         "hovertemplate": "Date=2019-07-18<br>%{xaxis.title.text}=%{x}<br>%{yaxis.title.text}=%{y}<extra></extra>",
         "legendgroup": "2019-07-18",
         "marker": {
          "color": "#EF553B",
          "symbol": "circle"
         },
         "name": "2019-07-18",
         "showlegend": true,
         "type": "splom"
        },
        {
         "dimensions": [
          {
           "axis": {
            "matches": true
           },
           "label": "Page Views",
           "values": [
            3538
           ]
          },
          {
           "axis": {
            "matches": true
           },
           "label": "NetA_imp",
           "values": [
            64
           ]
          },
          {
           "axis": {
            "matches": true
           },
           "label": "NetA_spd",
           "values": [
            0
           ]
          },
          {
           "axis": {
            "matches": true
           },
           "label": "NetB_imp",
           "values": [
            50
           ]
          },
          {
           "axis": {
            "matches": true
           },
           "label": "NetB_spd",
           "values": [
            1845
           ]
          }
         ],
         "hovertemplate": "Date=2019-07-19<br>%{xaxis.title.text}=%{x}<br>%{yaxis.title.text}=%{y}<extra></extra>",
         "legendgroup": "2019-07-19",
         "marker": {
          "color": "#00cc96",
          "symbol": "circle"
         },
         "name": "2019-07-19",
         "showlegend": true,
         "type": "splom"
        },
        {
         "dimensions": [
          {
           "axis": {
            "matches": true
           },
           "label": "Page Views",
           "values": [
            3430
           ]
          },
          {
           "axis": {
            "matches": true
           },
           "label": "NetA_imp",
           "values": [
            155
           ]
          },
          {
           "axis": {
            "matches": true
           },
           "label": "NetA_spd",
           "values": [
            210
           ]
          },
          {
           "axis": {
            "matches": true
           },
           "label": "NetB_imp",
           "values": [
            54
           ]
          },
          {
           "axis": {
            "matches": true
           },
           "label": "NetB_spd",
           "values": [
            1615
           ]
          }
         ],
         "hovertemplate": "Date=2019-07-20<br>%{xaxis.title.text}=%{x}<br>%{yaxis.title.text}=%{y}<extra></extra>",
         "legendgroup": "2019-07-20",
         "marker": {
          "color": "#ab63fa",
          "symbol": "circle"
         },
         "name": "2019-07-20",
         "showlegend": true,
         "type": "splom"
        },
        {
         "dimensions": [
          {
           "axis": {
            "matches": true
           },
           "label": "Page Views",
           "values": [
            3841
           ]
          },
          {
           "axis": {
            "matches": true
           },
           "label": "NetA_imp",
           "values": [
            62
           ]
          },
          {
           "axis": {
            "matches": true
           },
           "label": "NetA_spd",
           "values": [
            827
           ]
          },
          {
           "axis": {
            "matches": true
           },
           "label": "NetB_imp",
           "values": [
            103
           ]
          },
          {
           "axis": {
            "matches": true
           },
           "label": "NetB_spd",
           "values": [
            3341
           ]
          }
         ],
         "hovertemplate": "Date=2019-07-21<br>%{xaxis.title.text}=%{x}<br>%{yaxis.title.text}=%{y}<extra></extra>",
         "legendgroup": "2019-07-21",
         "marker": {
          "color": "#FFA15A",
          "symbol": "circle"
         },
         "name": "2019-07-21",
         "showlegend": true,
         "type": "splom"
        },
        {
         "dimensions": [
          {
           "axis": {
            "matches": true
           },
           "label": "Page Views",
           "values": [
            4199
           ]
          },
          {
           "axis": {
            "matches": true
           },
           "label": "NetA_imp",
           "values": [
            118
           ]
          },
          {
           "axis": {
            "matches": true
           },
           "label": "NetA_spd",
           "values": [
            4927
           ]
          },
          {
           "axis": {
            "matches": true
           },
           "label": "NetB_imp",
           "values": [
            94
           ]
          },
          {
           "axis": {
            "matches": true
           },
           "label": "NetB_spd",
           "values": [
            3398
           ]
          }
         ],
         "hovertemplate": "Date=2019-07-22<br>%{xaxis.title.text}=%{x}<br>%{yaxis.title.text}=%{y}<extra></extra>",
         "legendgroup": "2019-07-22",
         "marker": {
          "color": "#19d3f3",
          "symbol": "circle"
         },
         "name": "2019-07-22",
         "showlegend": true,
         "type": "splom"
        },
        {
         "dimensions": [
          {
           "axis": {
            "matches": true
           },
           "label": "Page Views",
           "values": [
            3770
           ]
          },
          {
           "axis": {
            "matches": true
           },
           "label": "NetA_imp",
           "values": [
            23
           ]
          },
          {
           "axis": {
            "matches": true
           },
           "label": "NetA_spd",
           "values": [
            426
           ]
          },
          {
           "axis": {
            "matches": true
           },
           "label": "NetB_imp",
           "values": [
            73
           ]
          },
          {
           "axis": {
            "matches": true
           },
           "label": "NetB_spd",
           "values": [
            2768
           ]
          }
         ],
         "hovertemplate": "Date=2019-07-23<br>%{xaxis.title.text}=%{x}<br>%{yaxis.title.text}=%{y}<extra></extra>",
         "legendgroup": "2019-07-23",
         "marker": {
          "color": "#FF6692",
          "symbol": "circle"
         },
         "name": "2019-07-23",
         "showlegend": true,
         "type": "splom"
        },
        {
         "dimensions": [
          {
           "axis": {
            "matches": true
           },
           "label": "Page Views",
           "values": [
            3458
           ]
          },
          {
           "axis": {
            "matches": true
           },
           "label": "NetA_imp",
           "values": [
            62
           ]
          },
          {
           "axis": {
            "matches": true
           },
           "label": "NetA_spd",
           "values": [
            3037
           ]
          },
          {
           "axis": {
            "matches": true
           },
           "label": "NetB_imp",
           "values": [
            100
           ]
          },
          {
           "axis": {
            "matches": true
           },
           "label": "NetB_spd",
           "values": [
            2825
           ]
          }
         ],
         "hovertemplate": "Date=2019-07-24<br>%{xaxis.title.text}=%{x}<br>%{yaxis.title.text}=%{y}<extra></extra>",
         "legendgroup": "2019-07-24",
         "marker": {
          "color": "#B6E880",
          "symbol": "circle"
         },
         "name": "2019-07-24",
         "showlegend": true,
         "type": "splom"
        },
        {
         "dimensions": [
          {
           "axis": {
            "matches": true
           },
           "label": "Page Views",
           "values": [
            3631
           ]
          },
          {
           "axis": {
            "matches": true
           },
           "label": "NetA_imp",
           "values": [
            26
           ]
          },
          {
           "axis": {
            "matches": true
           },
           "label": "NetA_spd",
           "values": [
            939
           ]
          },
          {
           "axis": {
            "matches": true
           },
           "label": "NetB_imp",
           "values": [
            20
           ]
          },
          {
           "axis": {
            "matches": true
           },
           "label": "NetB_spd",
           "values": [
            362
           ]
          }
         ],
         "hovertemplate": "Date=2019-07-25<br>%{xaxis.title.text}=%{x}<br>%{yaxis.title.text}=%{y}<extra></extra>",
         "legendgroup": "2019-07-25",
         "marker": {
          "color": "#FF97FF",
          "symbol": "circle"
         },
         "name": "2019-07-25",
         "showlegend": true,
         "type": "splom"
        },
        {
         "dimensions": [
          {
           "axis": {
            "matches": true
           },
           "label": "Page Views",
           "values": [
            3367
           ]
          },
          {
           "axis": {
            "matches": true
           },
           "label": "NetA_imp",
           "values": [
            31
           ]
          },
          {
           "axis": {
            "matches": true
           },
           "label": "NetA_spd",
           "values": [
            530
           ]
          },
          {
           "axis": {
            "matches": true
           },
           "label": "NetB_imp",
           "values": [
            80
           ]
          },
          {
           "axis": {
            "matches": true
           },
           "label": "NetB_spd",
           "values": [
            3123
           ]
          }
         ],
         "hovertemplate": "Date=2019-07-26<br>%{xaxis.title.text}=%{x}<br>%{yaxis.title.text}=%{y}<extra></extra>",
         "legendgroup": "2019-07-26",
         "marker": {
          "color": "#FECB52",
          "symbol": "circle"
         },
         "name": "2019-07-26",
         "showlegend": true,
         "type": "splom"
        },
        {
         "dimensions": [
          {
           "axis": {
            "matches": true
           },
           "label": "Page Views",
           "values": [
            3410
           ]
          },
          {
           "axis": {
            "matches": true
           },
           "label": "NetA_imp",
           "values": [
            49
           ]
          },
          {
           "axis": {
            "matches": true
           },
           "label": "NetA_spd",
           "values": [
            567
           ]
          },
          {
           "axis": {
            "matches": true
           },
           "label": "NetB_imp",
           "values": [
            47
           ]
          },
          {
           "axis": {
            "matches": true
           },
           "label": "NetB_spd",
           "values": [
            993
           ]
          }
         ],
         "hovertemplate": "Date=2019-07-27<br>%{xaxis.title.text}=%{x}<br>%{yaxis.title.text}=%{y}<extra></extra>",
         "legendgroup": "2019-07-27",
         "marker": {
          "color": "#636efa",
          "symbol": "circle"
         },
         "name": "2019-07-27",
         "showlegend": true,
         "type": "splom"
        },
        {
         "dimensions": [
          {
           "axis": {
            "matches": true
           },
           "label": "Page Views",
           "values": [
            3646
           ]
          },
          {
           "axis": {
            "matches": true
           },
           "label": "NetA_imp",
           "values": [
            67
           ]
          },
          {
           "axis": {
            "matches": true
           },
           "label": "NetA_spd",
           "values": [
            3455
           ]
          },
          {
           "axis": {
            "matches": true
           },
           "label": "NetB_imp",
           "values": [
            63
           ]
          },
          {
           "axis": {
            "matches": true
           },
           "label": "NetB_spd",
           "values": [
            3291
           ]
          }
         ],
         "hovertemplate": "Date=2019-07-28<br>%{xaxis.title.text}=%{x}<br>%{yaxis.title.text}=%{y}<extra></extra>",
         "legendgroup": "2019-07-28",
         "marker": {
          "color": "#EF553B",
          "symbol": "circle"
         },
         "name": "2019-07-28",
         "showlegend": true,
         "type": "splom"
        },
        {
         "dimensions": [
          {
           "axis": {
            "matches": true
           },
           "label": "Page Views",
           "values": [
            3475
           ]
          },
          {
           "axis": {
            "matches": true
           },
           "label": "NetA_imp",
           "values": [
            110
           ]
          },
          {
           "axis": {
            "matches": true
           },
           "label": "NetA_spd",
           "values": [
            5890
           ]
          },
          {
           "axis": {
            "matches": true
           },
           "label": "NetB_imp",
           "values": [
            80
           ]
          },
          {
           "axis": {
            "matches": true
           },
           "label": "NetB_spd",
           "values": [
            3622
           ]
          }
         ],
         "hovertemplate": "Date=2019-07-29<br>%{xaxis.title.text}=%{x}<br>%{yaxis.title.text}=%{y}<extra></extra>",
         "legendgroup": "2019-07-29",
         "marker": {
          "color": "#00cc96",
          "symbol": "circle"
         },
         "name": "2019-07-29",
         "showlegend": true,
         "type": "splom"
        },
        {
         "dimensions": [
          {
           "axis": {
            "matches": true
           },
           "label": "Page Views",
           "values": [
            3087
           ]
          },
          {
           "axis": {
            "matches": true
           },
           "label": "NetA_imp",
           "values": [
            21
           ]
          },
          {
           "axis": {
            "matches": true
           },
           "label": "NetA_spd",
           "values": [
            678
           ]
          },
          {
           "axis": {
            "matches": true
           },
           "label": "NetB_imp",
           "values": [
            81
           ]
          },
          {
           "axis": {
            "matches": true
           },
           "label": "NetB_spd",
           "values": [
            3903
           ]
          }
         ],
         "hovertemplate": "Date=2019-07-30<br>%{xaxis.title.text}=%{x}<br>%{yaxis.title.text}=%{y}<extra></extra>",
         "legendgroup": "2019-07-30",
         "marker": {
          "color": "#ab63fa",
          "symbol": "circle"
         },
         "name": "2019-07-30",
         "showlegend": true,
         "type": "splom"
        },
        {
         "dimensions": [
          {
           "axis": {
            "matches": true
           },
           "label": "Page Views",
           "values": [
            2754
           ]
          },
          {
           "axis": {
            "matches": true
           },
           "label": "NetA_imp",
           "values": [
            30
           ]
          },
          {
           "axis": {
            "matches": true
           },
           "label": "NetA_spd",
           "values": [
            1264
           ]
          },
          {
           "axis": {
            "matches": true
           },
           "label": "NetB_imp",
           "values": [
            47
           ]
          },
          {
           "axis": {
            "matches": true
           },
           "label": "NetB_spd",
           "values": [
            1638
           ]
          }
         ],
         "hovertemplate": "Date=2019-07-31<br>%{xaxis.title.text}=%{x}<br>%{yaxis.title.text}=%{y}<extra></extra>",
         "legendgroup": "2019-07-31",
         "marker": {
          "color": "#FFA15A",
          "symbol": "circle"
         },
         "name": "2019-07-31",
         "showlegend": true,
         "type": "splom"
        },
        {
         "dimensions": [
          {
           "axis": {
            "matches": true
           },
           "label": "Page Views",
           "values": [
            2783
           ]
          },
          {
           "axis": {
            "matches": true
           },
           "label": "NetA_imp",
           "values": [
            2
           ]
          },
          {
           "axis": {
            "matches": true
           },
           "label": "NetA_spd",
           "values": [
            137
           ]
          },
          {
           "axis": {
            "matches": true
           },
           "label": "NetB_imp",
           "values": [
            33
           ]
          },
          {
           "axis": {
            "matches": true
           },
           "label": "NetB_spd",
           "values": [
            913
           ]
          }
         ],
         "hovertemplate": "Date=2019-08-01<br>%{xaxis.title.text}=%{x}<br>%{yaxis.title.text}=%{y}<extra></extra>",
         "legendgroup": "2019-08-01",
         "marker": {
          "color": "#19d3f3",
          "symbol": "circle"
         },
         "name": "2019-08-01",
         "showlegend": true,
         "type": "splom"
        },
        {
         "dimensions": [
          {
           "axis": {
            "matches": true
           },
           "label": "Page Views",
           "values": [
            2658
           ]
          },
          {
           "axis": {
            "matches": true
           },
           "label": "NetA_imp",
           "values": [
            40
           ]
          },
          {
           "axis": {
            "matches": true
           },
           "label": "NetA_spd",
           "values": [
            823
           ]
          },
          {
           "axis": {
            "matches": true
           },
           "label": "NetB_imp",
           "values": [
            0
           ]
          },
          {
           "axis": {
            "matches": true
           },
           "label": "NetB_spd",
           "values": [
            0
           ]
          }
         ],
         "hovertemplate": "Date=2019-08-02<br>%{xaxis.title.text}=%{x}<br>%{yaxis.title.text}=%{y}<extra></extra>",
         "legendgroup": "2019-08-02",
         "marker": {
          "color": "#FF6692",
          "symbol": "circle"
         },
         "name": "2019-08-02",
         "showlegend": true,
         "type": "splom"
        },
        {
         "dimensions": [
          {
           "axis": {
            "matches": true
           },
           "label": "Page Views",
           "values": [
            2748
           ]
          },
          {
           "axis": {
            "matches": true
           },
           "label": "NetA_imp",
           "values": [
            21
           ]
          },
          {
           "axis": {
            "matches": true
           },
           "label": "NetA_spd",
           "values": [
            405
           ]
          },
          {
           "axis": {
            "matches": true
           },
           "label": "NetB_imp",
           "values": [
            42
           ]
          },
          {
           "axis": {
            "matches": true
           },
           "label": "NetB_spd",
           "values": [
            1170
           ]
          }
         ],
         "hovertemplate": "Date=2019-08-03<br>%{xaxis.title.text}=%{x}<br>%{yaxis.title.text}=%{y}<extra></extra>",
         "legendgroup": "2019-08-03",
         "marker": {
          "color": "#B6E880",
          "symbol": "circle"
         },
         "name": "2019-08-03",
         "showlegend": true,
         "type": "splom"
        },
        {
         "dimensions": [
          {
           "axis": {
            "matches": true
           },
           "label": "Page Views",
           "values": [
            3000
           ]
          },
          {
           "axis": {
            "matches": true
           },
           "label": "NetA_imp",
           "values": [
            83
           ]
          },
          {
           "axis": {
            "matches": true
           },
           "label": "NetA_spd",
           "values": [
            2134
           ]
          },
          {
           "axis": {
            "matches": true
           },
           "label": "NetB_imp",
           "values": [
            56
           ]
          },
          {
           "axis": {
            "matches": true
           },
           "label": "NetB_spd",
           "values": [
            2018
           ]
          }
         ],
         "hovertemplate": "Date=2019-08-04<br>%{xaxis.title.text}=%{x}<br>%{yaxis.title.text}=%{y}<extra></extra>",
         "legendgroup": "2019-08-04",
         "marker": {
          "color": "#FF97FF",
          "symbol": "circle"
         },
         "name": "2019-08-04",
         "showlegend": true,
         "type": "splom"
        },
        {
         "dimensions": [
          {
           "axis": {
            "matches": true
           },
           "label": "Page Views",
           "values": [
            3256
           ]
          },
          {
           "axis": {
            "matches": true
           },
           "label": "NetA_imp",
           "values": [
            146
           ]
          },
          {
           "axis": {
            "matches": true
           },
           "label": "NetA_spd",
           "values": [
            4025
           ]
          },
          {
           "axis": {
            "matches": true
           },
           "label": "NetB_imp",
           "values": [
            218
           ]
          },
          {
           "axis": {
            "matches": true
           },
           "label": "NetB_spd",
           "values": [
            7783
           ]
          }
         ],
         "hovertemplate": "Date=2019-08-05<br>%{xaxis.title.text}=%{x}<br>%{yaxis.title.text}=%{y}<extra></extra>",
         "legendgroup": "2019-08-05",
         "marker": {
          "color": "#FECB52",
          "symbol": "circle"
         },
         "name": "2019-08-05",
         "showlegend": true,
         "type": "splom"
        },
        {
         "dimensions": [
          {
           "axis": {
            "matches": true
           },
           "label": "Page Views",
           "values": [
            2865
           ]
          },
          {
           "axis": {
            "matches": true
           },
           "label": "NetA_imp",
           "values": [
            51
           ]
          },
          {
           "axis": {
            "matches": true
           },
           "label": "NetA_spd",
           "values": [
            1363
           ]
          },
          {
           "axis": {
            "matches": true
           },
           "label": "NetB_imp",
           "values": [
            170
           ]
          },
          {
           "axis": {
            "matches": true
           },
           "label": "NetB_spd",
           "values": [
            5257
           ]
          }
         ],
         "hovertemplate": "Date=2019-08-06<br>%{xaxis.title.text}=%{x}<br>%{yaxis.title.text}=%{y}<extra></extra>",
         "legendgroup": "2019-08-06",
         "marker": {
          "color": "#636efa",
          "symbol": "circle"
         },
         "name": "2019-08-06",
         "showlegend": true,
         "type": "splom"
        },
        {
         "dimensions": [
          {
           "axis": {
            "matches": true
           },
           "label": "Page Views",
           "values": [
            2693
           ]
          },
          {
           "axis": {
            "matches": true
           },
           "label": "NetA_imp",
           "values": [
            84
           ]
          },
          {
           "axis": {
            "matches": true
           },
           "label": "NetA_spd",
           "values": [
            2316
           ]
          },
          {
           "axis": {
            "matches": true
           },
           "label": "NetB_imp",
           "values": [
            129
           ]
          },
          {
           "axis": {
            "matches": true
           },
           "label": "NetB_spd",
           "values": [
            5960
           ]
          }
         ],
         "hovertemplate": "Date=2019-08-07<br>%{xaxis.title.text}=%{x}<br>%{yaxis.title.text}=%{y}<extra></extra>",
         "legendgroup": "2019-08-07",
         "marker": {
          "color": "#EF553B",
          "symbol": "circle"
         },
         "name": "2019-08-07",
         "showlegend": true,
         "type": "splom"
        },
        {
         "dimensions": [
          {
           "axis": {
            "matches": true
           },
           "label": "Page Views",
           "values": [
            2629
           ]
          },
          {
           "axis": {
            "matches": true
           },
           "label": "NetA_imp",
           "values": [
            193
           ]
          },
          {
           "axis": {
            "matches": true
           },
           "label": "NetA_spd",
           "values": [
            10376
           ]
          },
          {
           "axis": {
            "matches": true
           },
           "label": "NetB_imp",
           "values": [
            117
           ]
          },
          {
           "axis": {
            "matches": true
           },
           "label": "NetB_spd",
           "values": [
            2744
           ]
          }
         ],
         "hovertemplate": "Date=2019-08-08<br>%{xaxis.title.text}=%{x}<br>%{yaxis.title.text}=%{y}<extra></extra>",
         "legendgroup": "2019-08-08",
         "marker": {
          "color": "#00cc96",
          "symbol": "circle"
         },
         "name": "2019-08-08",
         "showlegend": true,
         "type": "splom"
        },
        {
         "dimensions": [
          {
           "axis": {
            "matches": true
           },
           "label": "Page Views",
           "values": [
            2922
           ]
          },
          {
           "axis": {
            "matches": true
           },
           "label": "NetA_imp",
           "values": [
            49
           ]
          },
          {
           "axis": {
            "matches": true
           },
           "label": "NetA_spd",
           "values": [
            1215
           ]
          },
          {
           "axis": {
            "matches": true
           },
           "label": "NetB_imp",
           "values": [
            134
           ]
          },
          {
           "axis": {
            "matches": true
           },
           "label": "NetB_spd",
           "values": [
            3807
           ]
          }
         ],
         "hovertemplate": "Date=2019-08-09<br>%{xaxis.title.text}=%{x}<br>%{yaxis.title.text}=%{y}<extra></extra>",
         "legendgroup": "2019-08-09",
         "marker": {
          "color": "#ab63fa",
          "symbol": "circle"
         },
         "name": "2019-08-09",
         "showlegend": true,
         "type": "splom"
        },
        {
         "dimensions": [
          {
           "axis": {
            "matches": true
           },
           "label": "Page Views",
           "values": [
            2873
           ]
          },
          {
           "axis": {
            "matches": true
           },
           "label": "NetA_imp",
           "values": [
            78
           ]
          },
          {
           "axis": {
            "matches": true
           },
           "label": "NetA_spd",
           "values": [
            1578
           ]
          },
          {
           "axis": {
            "matches": true
           },
           "label": "NetB_imp",
           "values": [
            90
           ]
          },
          {
           "axis": {
            "matches": true
           },
           "label": "NetB_spd",
           "values": [
            1345
           ]
          }
         ],
         "hovertemplate": "Date=2019-08-10<br>%{xaxis.title.text}=%{x}<br>%{yaxis.title.text}=%{y}<extra></extra>",
         "legendgroup": "2019-08-10",
         "marker": {
          "color": "#FFA15A",
          "symbol": "circle"
         },
         "name": "2019-08-10",
         "showlegend": true,
         "type": "splom"
        },
        {
         "dimensions": [
          {
           "axis": {
            "matches": true
           },
           "label": "Page Views",
           "values": [
            3057
           ]
          },
          {
           "axis": {
            "matches": true
           },
           "label": "NetA_imp",
           "values": [
            158
           ]
          },
          {
           "axis": {
            "matches": true
           },
           "label": "NetA_spd",
           "values": [
            6856
           ]
          },
          {
           "axis": {
            "matches": true
           },
           "label": "NetB_imp",
           "values": [
            44
           ]
          },
          {
           "axis": {
            "matches": true
           },
           "label": "NetB_spd",
           "values": [
            1081
           ]
          }
         ],
         "hovertemplate": "Date=2019-08-11<br>%{xaxis.title.text}=%{x}<br>%{yaxis.title.text}=%{y}<extra></extra>",
         "legendgroup": "2019-08-11",
         "marker": {
          "color": "#19d3f3",
          "symbol": "circle"
         },
         "name": "2019-08-11",
         "showlegend": true,
         "type": "splom"
        },
        {
         "dimensions": [
          {
           "axis": {
            "matches": true
           },
           "label": "Page Views",
           "values": [
            3357
           ]
          },
          {
           "axis": {
            "matches": true
           },
           "label": "NetA_imp",
           "values": [
            196
           ]
          },
          {
           "axis": {
            "matches": true
           },
           "label": "NetA_spd",
           "values": [
            4946
           ]
          },
          {
           "axis": {
            "matches": true
           },
           "label": "NetB_imp",
           "values": [
            130
           ]
          },
          {
           "axis": {
            "matches": true
           },
           "label": "NetB_spd",
           "values": [
            3585
           ]
          }
         ],
         "hovertemplate": "Date=2019-08-12<br>%{xaxis.title.text}=%{x}<br>%{yaxis.title.text}=%{y}<extra></extra>",
         "legendgroup": "2019-08-12",
         "marker": {
          "color": "#FF6692",
          "symbol": "circle"
         },
         "name": "2019-08-12",
         "showlegend": true,
         "type": "splom"
        },
        {
         "dimensions": [
          {
           "axis": {
            "matches": true
           },
           "label": "Page Views",
           "values": [
            3013
           ]
          },
          {
           "axis": {
            "matches": true
           },
           "label": "NetA_imp",
           "values": [
            94
           ]
          },
          {
           "axis": {
            "matches": true
           },
           "label": "NetA_spd",
           "values": [
            3042
           ]
          },
          {
           "axis": {
            "matches": true
           },
           "label": "NetB_imp",
           "values": [
            187
           ]
          },
          {
           "axis": {
            "matches": true
           },
           "label": "NetB_spd",
           "values": [
            5702
           ]
          }
         ],
         "hovertemplate": "Date=2019-08-13<br>%{xaxis.title.text}=%{x}<br>%{yaxis.title.text}=%{y}<extra></extra>",
         "legendgroup": "2019-08-13",
         "marker": {
          "color": "#B6E880",
          "symbol": "circle"
         },
         "name": "2019-08-13",
         "showlegend": true,
         "type": "splom"
        },
        {
         "dimensions": [
          {
           "axis": {
            "matches": true
           },
           "label": "Page Views",
           "values": [
            3542
           ]
          },
          {
           "axis": {
            "matches": true
           },
           "label": "NetA_imp",
           "values": [
            72
           ]
          },
          {
           "axis": {
            "matches": true
           },
           "label": "NetA_spd",
           "values": [
            1472
           ]
          },
          {
           "axis": {
            "matches": true
           },
           "label": "NetB_imp",
           "values": [
            178
           ]
          },
          {
           "axis": {
            "matches": true
           },
           "label": "NetB_spd",
           "values": [
            5270
           ]
          }
         ],
         "hovertemplate": "Date=2019-08-14<br>%{xaxis.title.text}=%{x}<br>%{yaxis.title.text}=%{y}<extra></extra>",
         "legendgroup": "2019-08-14",
         "marker": {
          "color": "#FF97FF",
          "symbol": "circle"
         },
         "name": "2019-08-14",
         "showlegend": true,
         "type": "splom"
        },
        {
         "dimensions": [
          {
           "axis": {
            "matches": true
           },
           "label": "Page Views",
           "values": [
            3093
           ]
          },
          {
           "axis": {
            "matches": true
           },
           "label": "NetA_imp",
           "values": [
            208
           ]
          },
          {
           "axis": {
            "matches": true
           },
           "label": "NetA_spd",
           "values": [
            8595
           ]
          },
          {
           "axis": {
            "matches": true
           },
           "label": "NetB_imp",
           "values": [
            111
           ]
          },
          {
           "axis": {
            "matches": true
           },
           "label": "NetB_spd",
           "values": [
            2740
           ]
          }
         ],
         "hovertemplate": "Date=2019-08-15<br>%{xaxis.title.text}=%{x}<br>%{yaxis.title.text}=%{y}<extra></extra>",
         "legendgroup": "2019-08-15",
         "marker": {
          "color": "#FECB52",
          "symbol": "circle"
         },
         "name": "2019-08-15",
         "showlegend": true,
         "type": "splom"
        },
        {
         "dimensions": [
          {
           "axis": {
            "matches": true
           },
           "label": "Page Views",
           "values": [
            2714
           ]
          },
          {
           "axis": {
            "matches": true
           },
           "label": "NetA_imp",
           "values": [
            24
           ]
          },
          {
           "axis": {
            "matches": true
           },
           "label": "NetA_spd",
           "values": [
            607
           ]
          },
          {
           "axis": {
            "matches": true
           },
           "label": "NetB_imp",
           "values": [
            110
           ]
          },
          {
           "axis": {
            "matches": true
           },
           "label": "NetB_spd",
           "values": [
            4937
           ]
          }
         ],
         "hovertemplate": "Date=2019-08-16<br>%{xaxis.title.text}=%{x}<br>%{yaxis.title.text}=%{y}<extra></extra>",
         "legendgroup": "2019-08-16",
         "marker": {
          "color": "#636efa",
          "symbol": "circle"
         },
         "name": "2019-08-16",
         "showlegend": true,
         "type": "splom"
        },
        {
         "dimensions": [
          {
           "axis": {
            "matches": true
           },
           "label": "Page Views",
           "values": [
            2809
           ]
          },
          {
           "axis": {
            "matches": true
           },
           "label": "NetA_imp",
           "values": [
            52
           ]
          },
          {
           "axis": {
            "matches": true
           },
           "label": "NetA_spd",
           "values": [
            465
           ]
          },
          {
           "axis": {
            "matches": true
           },
           "label": "NetB_imp",
           "values": [
            123
           ]
          },
          {
           "axis": {
            "matches": true
           },
           "label": "NetB_spd",
           "values": [
            3524
           ]
          }
         ],
         "hovertemplate": "Date=2019-08-17<br>%{xaxis.title.text}=%{x}<br>%{yaxis.title.text}=%{y}<extra></extra>",
         "legendgroup": "2019-08-17",
         "marker": {
          "color": "#EF553B",
          "symbol": "circle"
         },
         "name": "2019-08-17",
         "showlegend": true,
         "type": "splom"
        },
        {
         "dimensions": [
          {
           "axis": {
            "matches": true
           },
           "label": "Page Views",
           "values": [
            3113
           ]
          },
          {
           "axis": {
            "matches": true
           },
           "label": "NetA_imp",
           "values": [
            185
           ]
          },
          {
           "axis": {
            "matches": true
           },
           "label": "NetA_spd",
           "values": [
            6226
           ]
          },
          {
           "axis": {
            "matches": true
           },
           "label": "NetB_imp",
           "values": [
            156
           ]
          },
          {
           "axis": {
            "matches": true
           },
           "label": "NetB_spd",
           "values": [
            6690
           ]
          }
         ],
         "hovertemplate": "Date=2019-08-18<br>%{xaxis.title.text}=%{x}<br>%{yaxis.title.text}=%{y}<extra></extra>",
         "legendgroup": "2019-08-18",
         "marker": {
          "color": "#00cc96",
          "symbol": "circle"
         },
         "name": "2019-08-18",
         "showlegend": true,
         "type": "splom"
        },
        {
         "dimensions": [
          {
           "axis": {
            "matches": true
           },
           "label": "Page Views",
           "values": [
            3486
           ]
          },
          {
           "axis": {
            "matches": true
           },
           "label": "NetA_imp",
           "values": [
            154
           ]
          },
          {
           "axis": {
            "matches": true
           },
           "label": "NetA_spd",
           "values": [
            6174
           ]
          },
          {
           "axis": {
            "matches": true
           },
           "label": "NetB_imp",
           "values": [
            103
           ]
          },
          {
           "axis": {
            "matches": true
           },
           "label": "NetB_spd",
           "values": [
            3473
           ]
          }
         ],
         "hovertemplate": "Date=2019-08-19<br>%{xaxis.title.text}=%{x}<br>%{yaxis.title.text}=%{y}<extra></extra>",
         "legendgroup": "2019-08-19",
         "marker": {
          "color": "#ab63fa",
          "symbol": "circle"
         },
         "name": "2019-08-19",
         "showlegend": true,
         "type": "splom"
        },
        {
         "dimensions": [
          {
           "axis": {
            "matches": true
           },
           "label": "Page Views",
           "values": [
            3425
           ]
          },
          {
           "axis": {
            "matches": true
           },
           "label": "NetA_imp",
           "values": [
            71
           ]
          },
          {
           "axis": {
            "matches": true
           },
           "label": "NetA_spd",
           "values": [
            2144
           ]
          },
          {
           "axis": {
            "matches": true
           },
           "label": "NetB_imp",
           "values": [
            134
           ]
          },
          {
           "axis": {
            "matches": true
           },
           "label": "NetB_spd",
           "values": [
            6624
           ]
          }
         ],
         "hovertemplate": "Date=2019-08-20<br>%{xaxis.title.text}=%{x}<br>%{yaxis.title.text}=%{y}<extra></extra>",
         "legendgroup": "2019-08-20",
         "marker": {
          "color": "#FFA15A",
          "symbol": "circle"
         },
         "name": "2019-08-20",
         "showlegend": true,
         "type": "splom"
        },
        {
         "dimensions": [
          {
           "axis": {
            "matches": true
           },
           "label": "Page Views",
           "values": [
            4066
           ]
          },
          {
           "axis": {
            "matches": true
           },
           "label": "NetA_imp",
           "values": [
            70
           ]
          },
          {
           "axis": {
            "matches": true
           },
           "label": "NetA_spd",
           "values": [
            1663
           ]
          },
          {
           "axis": {
            "matches": true
           },
           "label": "NetB_imp",
           "values": [
            136
           ]
          },
          {
           "axis": {
            "matches": true
           },
           "label": "NetB_spd",
           "values": [
            2576
           ]
          }
         ],
         "hovertemplate": "Date=2019-08-21<br>%{xaxis.title.text}=%{x}<br>%{yaxis.title.text}=%{y}<extra></extra>",
         "legendgroup": "2019-08-21",
         "marker": {
          "color": "#19d3f3",
          "symbol": "circle"
         },
         "name": "2019-08-21",
         "showlegend": true,
         "type": "splom"
        },
        {
         "dimensions": [
          {
           "axis": {
            "matches": true
           },
           "label": "Page Views",
           "values": [
            3167
           ]
          },
          {
           "axis": {
            "matches": true
           },
           "label": "NetA_imp",
           "values": [
            84
           ]
          },
          {
           "axis": {
            "matches": true
           },
           "label": "NetA_spd",
           "values": [
            2534
           ]
          },
          {
           "axis": {
            "matches": true
           },
           "label": "NetB_imp",
           "values": [
            227
           ]
          },
          {
           "axis": {
            "matches": true
           },
           "label": "NetB_spd",
           "values": [
            6867
           ]
          }
         ],
         "hovertemplate": "Date=2019-08-22<br>%{xaxis.title.text}=%{x}<br>%{yaxis.title.text}=%{y}<extra></extra>",
         "legendgroup": "2019-08-22",
         "marker": {
          "color": "#FF6692",
          "symbol": "circle"
         },
         "name": "2019-08-22",
         "showlegend": true,
         "type": "splom"
        },
        {
         "dimensions": [
          {
           "axis": {
            "matches": true
           },
           "label": "Page Views",
           "values": [
            3031
           ]
          },
          {
           "axis": {
            "matches": true
           },
           "label": "NetA_imp",
           "values": [
            140
           ]
          },
          {
           "axis": {
            "matches": true
           },
           "label": "NetA_spd",
           "values": [
            6518
           ]
          },
          {
           "axis": {
            "matches": true
           },
           "label": "NetB_imp",
           "values": [
            71
           ]
          },
          {
           "axis": {
            "matches": true
           },
           "label": "NetB_spd",
           "values": [
            2432
           ]
          }
         ],
         "hovertemplate": "Date=2019-08-23<br>%{xaxis.title.text}=%{x}<br>%{yaxis.title.text}=%{y}<extra></extra>",
         "legendgroup": "2019-08-23",
         "marker": {
          "color": "#B6E880",
          "symbol": "circle"
         },
         "name": "2019-08-23",
         "showlegend": true,
         "type": "splom"
        },
        {
         "dimensions": [
          {
           "axis": {
            "matches": true
           },
           "label": "Page Views",
           "values": [
            3107
           ]
          },
          {
           "axis": {
            "matches": true
           },
           "label": "NetA_imp",
           "values": [
            94
           ]
          },
          {
           "axis": {
            "matches": true
           },
           "label": "NetA_spd",
           "values": [
            2598
           ]
          },
          {
           "axis": {
            "matches": true
           },
           "label": "NetB_imp",
           "values": [
            139
           ]
          },
          {
           "axis": {
            "matches": true
           },
           "label": "NetB_spd",
           "values": [
            3953
           ]
          }
         ],
         "hovertemplate": "Date=2019-08-24<br>%{xaxis.title.text}=%{x}<br>%{yaxis.title.text}=%{y}<extra></extra>",
         "legendgroup": "2019-08-24",
         "marker": {
          "color": "#FF97FF",
          "symbol": "circle"
         },
         "name": "2019-08-24",
         "showlegend": true,
         "type": "splom"
        }
       ],
       "layout": {
        "dragmode": "select",
        "legend": {
         "title": {
          "text": "Date"
         },
         "tracegroupgap": 0
        },
        "margin": {
         "t": 60
        },
        "template": {
         "data": {
          "bar": [
           {
            "error_x": {
             "color": "#2a3f5f"
            },
            "error_y": {
             "color": "#2a3f5f"
            },
            "marker": {
             "line": {
              "color": "#E5ECF6",
              "width": 0.5
             }
            },
            "type": "bar"
           }
          ],
          "barpolar": [
           {
            "marker": {
             "line": {
              "color": "#E5ECF6",
              "width": 0.5
             }
            },
            "type": "barpolar"
           }
          ],
          "carpet": [
           {
            "aaxis": {
             "endlinecolor": "#2a3f5f",
             "gridcolor": "white",
             "linecolor": "white",
             "minorgridcolor": "white",
             "startlinecolor": "#2a3f5f"
            },
            "baxis": {
             "endlinecolor": "#2a3f5f",
             "gridcolor": "white",
             "linecolor": "white",
             "minorgridcolor": "white",
             "startlinecolor": "#2a3f5f"
            },
            "type": "carpet"
           }
          ],
          "choropleth": [
           {
            "colorbar": {
             "outlinewidth": 0,
             "ticks": ""
            },
            "type": "choropleth"
           }
          ],
          "contour": [
           {
            "colorbar": {
             "outlinewidth": 0,
             "ticks": ""
            },
            "colorscale": [
             [
              0,
              "#0d0887"
             ],
             [
              0.1111111111111111,
              "#46039f"
             ],
             [
              0.2222222222222222,
              "#7201a8"
             ],
             [
              0.3333333333333333,
              "#9c179e"
             ],
             [
              0.4444444444444444,
              "#bd3786"
             ],
             [
              0.5555555555555556,
              "#d8576b"
             ],
             [
              0.6666666666666666,
              "#ed7953"
             ],
             [
              0.7777777777777778,
              "#fb9f3a"
             ],
             [
              0.8888888888888888,
              "#fdca26"
             ],
             [
              1,
              "#f0f921"
             ]
            ],
            "type": "contour"
           }
          ],
          "contourcarpet": [
           {
            "colorbar": {
             "outlinewidth": 0,
             "ticks": ""
            },
            "type": "contourcarpet"
           }
          ],
          "heatmap": [
           {
            "colorbar": {
             "outlinewidth": 0,
             "ticks": ""
            },
            "colorscale": [
             [
              0,
              "#0d0887"
             ],
             [
              0.1111111111111111,
              "#46039f"
             ],
             [
              0.2222222222222222,
              "#7201a8"
             ],
             [
              0.3333333333333333,
              "#9c179e"
             ],
             [
              0.4444444444444444,
              "#bd3786"
             ],
             [
              0.5555555555555556,
              "#d8576b"
             ],
             [
              0.6666666666666666,
              "#ed7953"
             ],
             [
              0.7777777777777778,
              "#fb9f3a"
             ],
             [
              0.8888888888888888,
              "#fdca26"
             ],
             [
              1,
              "#f0f921"
             ]
            ],
            "type": "heatmap"
           }
          ],
          "heatmapgl": [
           {
            "colorbar": {
             "outlinewidth": 0,
             "ticks": ""
            },
            "colorscale": [
             [
              0,
              "#0d0887"
             ],
             [
              0.1111111111111111,
              "#46039f"
             ],
             [
              0.2222222222222222,
              "#7201a8"
             ],
             [
              0.3333333333333333,
              "#9c179e"
             ],
             [
              0.4444444444444444,
              "#bd3786"
             ],
             [
              0.5555555555555556,
              "#d8576b"
             ],
             [
              0.6666666666666666,
              "#ed7953"
             ],
             [
              0.7777777777777778,
              "#fb9f3a"
             ],
             [
              0.8888888888888888,
              "#fdca26"
             ],
             [
              1,
              "#f0f921"
             ]
            ],
            "type": "heatmapgl"
           }
          ],
          "histogram": [
           {
            "marker": {
             "colorbar": {
              "outlinewidth": 0,
              "ticks": ""
             }
            },
            "type": "histogram"
           }
          ],
          "histogram2d": [
           {
            "colorbar": {
             "outlinewidth": 0,
             "ticks": ""
            },
            "colorscale": [
             [
              0,
              "#0d0887"
             ],
             [
              0.1111111111111111,
              "#46039f"
             ],
             [
              0.2222222222222222,
              "#7201a8"
             ],
             [
              0.3333333333333333,
              "#9c179e"
             ],
             [
              0.4444444444444444,
              "#bd3786"
             ],
             [
              0.5555555555555556,
              "#d8576b"
             ],
             [
              0.6666666666666666,
              "#ed7953"
             ],
             [
              0.7777777777777778,
              "#fb9f3a"
             ],
             [
              0.8888888888888888,
              "#fdca26"
             ],
             [
              1,
              "#f0f921"
             ]
            ],
            "type": "histogram2d"
           }
          ],
          "histogram2dcontour": [
           {
            "colorbar": {
             "outlinewidth": 0,
             "ticks": ""
            },
            "colorscale": [
             [
              0,
              "#0d0887"
             ],
             [
              0.1111111111111111,
              "#46039f"
             ],
             [
              0.2222222222222222,
              "#7201a8"
             ],
             [
              0.3333333333333333,
              "#9c179e"
             ],
             [
              0.4444444444444444,
              "#bd3786"
             ],
             [
              0.5555555555555556,
              "#d8576b"
             ],
             [
              0.6666666666666666,
              "#ed7953"
             ],
             [
              0.7777777777777778,
              "#fb9f3a"
             ],
             [
              0.8888888888888888,
              "#fdca26"
             ],
             [
              1,
              "#f0f921"
             ]
            ],
            "type": "histogram2dcontour"
           }
          ],
          "mesh3d": [
           {
            "colorbar": {
             "outlinewidth": 0,
             "ticks": ""
            },
            "type": "mesh3d"
           }
          ],
          "parcoords": [
           {
            "line": {
             "colorbar": {
              "outlinewidth": 0,
              "ticks": ""
             }
            },
            "type": "parcoords"
           }
          ],
          "pie": [
           {
            "automargin": true,
            "type": "pie"
           }
          ],
          "scatter": [
           {
            "marker": {
             "colorbar": {
              "outlinewidth": 0,
              "ticks": ""
             }
            },
            "type": "scatter"
           }
          ],
          "scatter3d": [
           {
            "line": {
             "colorbar": {
              "outlinewidth": 0,
              "ticks": ""
             }
            },
            "marker": {
             "colorbar": {
              "outlinewidth": 0,
              "ticks": ""
             }
            },
            "type": "scatter3d"
           }
          ],
          "scattercarpet": [
           {
            "marker": {
             "colorbar": {
              "outlinewidth": 0,
              "ticks": ""
             }
            },
            "type": "scattercarpet"
           }
          ],
          "scattergeo": [
           {
            "marker": {
             "colorbar": {
              "outlinewidth": 0,
              "ticks": ""
             }
            },
            "type": "scattergeo"
           }
          ],
          "scattergl": [
           {
            "marker": {
             "colorbar": {
              "outlinewidth": 0,
              "ticks": ""
             }
            },
            "type": "scattergl"
           }
          ],
          "scattermapbox": [
           {
            "marker": {
             "colorbar": {
              "outlinewidth": 0,
              "ticks": ""
             }
            },
            "type": "scattermapbox"
           }
          ],
          "scatterpolar": [
           {
            "marker": {
             "colorbar": {
              "outlinewidth": 0,
              "ticks": ""
             }
            },
            "type": "scatterpolar"
           }
          ],
          "scatterpolargl": [
           {
            "marker": {
             "colorbar": {
              "outlinewidth": 0,
              "ticks": ""
             }
            },
            "type": "scatterpolargl"
           }
          ],
          "scatterternary": [
           {
            "marker": {
             "colorbar": {
              "outlinewidth": 0,
              "ticks": ""
             }
            },
            "type": "scatterternary"
           }
          ],
          "surface": [
           {
            "colorbar": {
             "outlinewidth": 0,
             "ticks": ""
            },
            "colorscale": [
             [
              0,
              "#0d0887"
             ],
             [
              0.1111111111111111,
              "#46039f"
             ],
             [
              0.2222222222222222,
              "#7201a8"
             ],
             [
              0.3333333333333333,
              "#9c179e"
             ],
             [
              0.4444444444444444,
              "#bd3786"
             ],
             [
              0.5555555555555556,
              "#d8576b"
             ],
             [
              0.6666666666666666,
              "#ed7953"
             ],
             [
              0.7777777777777778,
              "#fb9f3a"
             ],
             [
              0.8888888888888888,
              "#fdca26"
             ],
             [
              1,
              "#f0f921"
             ]
            ],
            "type": "surface"
           }
          ],
          "table": [
           {
            "cells": {
             "fill": {
              "color": "#EBF0F8"
             },
             "line": {
              "color": "white"
             }
            },
            "header": {
             "fill": {
              "color": "#C8D4E3"
             },
             "line": {
              "color": "white"
             }
            },
            "type": "table"
           }
          ]
         },
         "layout": {
          "annotationdefaults": {
           "arrowcolor": "#2a3f5f",
           "arrowhead": 0,
           "arrowwidth": 1
          },
          "autotypenumbers": "strict",
          "coloraxis": {
           "colorbar": {
            "outlinewidth": 0,
            "ticks": ""
           }
          },
          "colorscale": {
           "diverging": [
            [
             0,
             "#8e0152"
            ],
            [
             0.1,
             "#c51b7d"
            ],
            [
             0.2,
             "#de77ae"
            ],
            [
             0.3,
             "#f1b6da"
            ],
            [
             0.4,
             "#fde0ef"
            ],
            [
             0.5,
             "#f7f7f7"
            ],
            [
             0.6,
             "#e6f5d0"
            ],
            [
             0.7,
             "#b8e186"
            ],
            [
             0.8,
             "#7fbc41"
            ],
            [
             0.9,
             "#4d9221"
            ],
            [
             1,
             "#276419"
            ]
           ],
           "sequential": [
            [
             0,
             "#0d0887"
            ],
            [
             0.1111111111111111,
             "#46039f"
            ],
            [
             0.2222222222222222,
             "#7201a8"
            ],
            [
             0.3333333333333333,
             "#9c179e"
            ],
            [
             0.4444444444444444,
             "#bd3786"
            ],
            [
             0.5555555555555556,
             "#d8576b"
            ],
            [
             0.6666666666666666,
             "#ed7953"
            ],
            [
             0.7777777777777778,
             "#fb9f3a"
            ],
            [
             0.8888888888888888,
             "#fdca26"
            ],
            [
             1,
             "#f0f921"
            ]
           ],
           "sequentialminus": [
            [
             0,
             "#0d0887"
            ],
            [
             0.1111111111111111,
             "#46039f"
            ],
            [
             0.2222222222222222,
             "#7201a8"
            ],
            [
             0.3333333333333333,
             "#9c179e"
            ],
            [
             0.4444444444444444,
             "#bd3786"
            ],
            [
             0.5555555555555556,
             "#d8576b"
            ],
            [
             0.6666666666666666,
             "#ed7953"
            ],
            [
             0.7777777777777778,
             "#fb9f3a"
            ],
            [
             0.8888888888888888,
             "#fdca26"
            ],
            [
             1,
             "#f0f921"
            ]
           ]
          },
          "colorway": [
           "#636efa",
           "#EF553B",
           "#00cc96",
           "#ab63fa",
           "#FFA15A",
           "#19d3f3",
           "#FF6692",
           "#B6E880",
           "#FF97FF",
           "#FECB52"
          ],
          "font": {
           "color": "#2a3f5f"
          },
          "geo": {
           "bgcolor": "white",
           "lakecolor": "white",
           "landcolor": "#E5ECF6",
           "showlakes": true,
           "showland": true,
           "subunitcolor": "white"
          },
          "hoverlabel": {
           "align": "left"
          },
          "hovermode": "closest",
          "mapbox": {
           "style": "light"
          },
          "paper_bgcolor": "white",
          "plot_bgcolor": "#E5ECF6",
          "polar": {
           "angularaxis": {
            "gridcolor": "white",
            "linecolor": "white",
            "ticks": ""
           },
           "bgcolor": "#E5ECF6",
           "radialaxis": {
            "gridcolor": "white",
            "linecolor": "white",
            "ticks": ""
           }
          },
          "scene": {
           "xaxis": {
            "backgroundcolor": "#E5ECF6",
            "gridcolor": "white",
            "gridwidth": 2,
            "linecolor": "white",
            "showbackground": true,
            "ticks": "",
            "zerolinecolor": "white"
           },
           "yaxis": {
            "backgroundcolor": "#E5ECF6",
            "gridcolor": "white",
            "gridwidth": 2,
            "linecolor": "white",
            "showbackground": true,
            "ticks": "",
            "zerolinecolor": "white"
           },
           "zaxis": {
            "backgroundcolor": "#E5ECF6",
            "gridcolor": "white",
            "gridwidth": 2,
            "linecolor": "white",
            "showbackground": true,
            "ticks": "",
            "zerolinecolor": "white"
           }
          },
          "shapedefaults": {
           "line": {
            "color": "#2a3f5f"
           }
          },
          "ternary": {
           "aaxis": {
            "gridcolor": "white",
            "linecolor": "white",
            "ticks": ""
           },
           "baxis": {
            "gridcolor": "white",
            "linecolor": "white",
            "ticks": ""
           },
           "bgcolor": "#E5ECF6",
           "caxis": {
            "gridcolor": "white",
            "linecolor": "white",
            "ticks": ""
           }
          },
          "title": {
           "x": 0.05
          },
          "xaxis": {
           "automargin": true,
           "gridcolor": "white",
           "linecolor": "white",
           "ticks": "",
           "title": {
            "standoff": 15
           },
           "zerolinecolor": "white",
           "zerolinewidth": 2
          },
          "yaxis": {
           "automargin": true,
           "gridcolor": "white",
           "linecolor": "white",
           "ticks": "",
           "title": {
            "standoff": 15
           },
           "zerolinecolor": "white",
           "zerolinewidth": 2
          }
         }
        },
        "title": {
         "text": "Relationships between Page Views, Network Impressions and Spend variables - Aggregated Daily"
        }
       }
      },
      "text/html": [
<<<<<<< HEAD
       "<div>                            <div id=\"e19a5189-9c06-460f-9ff4-8d0e915d5dcc\" class=\"plotly-graph-div\" style=\"height:525px; width:100%;\"></div>            <script type=\"text/javascript\">                require([\"plotly\"], function(Plotly) {                    window.PLOTLYENV=window.PLOTLYENV || {};                                    if (document.getElementById(\"e19a5189-9c06-460f-9ff4-8d0e915d5dcc\")) {                    Plotly.newPlot(                        \"e19a5189-9c06-460f-9ff4-8d0e915d5dcc\",                        [{\"dimensions\": [{\"axis\": {\"matches\": true}, \"label\": \"Page Views\", \"values\": [3363]}, {\"axis\": {\"matches\": true}, \"label\": \"NetA_imp\", \"values\": [421]}, {\"axis\": {\"matches\": true}, \"label\": \"NetA_spd\", \"values\": [159]}, {\"axis\": {\"matches\": true}, \"label\": \"NetB_imp\", \"values\": [381]}, {\"axis\": {\"matches\": true}, \"label\": \"NetB_spd\", \"values\": [176]}], \"hovertemplate\": \"Date=2019-07-07<br>%{xaxis.title.text}=%{x}<br>%{yaxis.title.text}=%{y}<extra></extra>\", \"legendgroup\": \"2019-07-07\", \"marker\": {\"color\": \"#636efa\", \"symbol\": \"circle\"}, \"name\": \"2019-07-07\", \"showlegend\": true, \"type\": \"splom\"}, {\"dimensions\": [{\"axis\": {\"matches\": true}, \"label\": \"Page Views\", \"values\": [4160]}, {\"axis\": {\"matches\": true}, \"label\": \"NetA_imp\", \"values\": [392]}, {\"axis\": {\"matches\": true}, \"label\": \"NetA_spd\", \"values\": [1066]}, {\"axis\": {\"matches\": true}, \"label\": \"NetB_imp\", \"values\": [316]}, {\"axis\": {\"matches\": true}, \"label\": \"NetB_spd\", \"values\": [774]}], \"hovertemplate\": \"Date=2019-07-08<br>%{xaxis.title.text}=%{x}<br>%{yaxis.title.text}=%{y}<extra></extra>\", \"legendgroup\": \"2019-07-08\", \"marker\": {\"color\": \"#EF553B\", \"symbol\": \"circle\"}, \"name\": \"2019-07-08\", \"showlegend\": true, \"type\": \"splom\"}, {\"dimensions\": [{\"axis\": {\"matches\": true}, \"label\": \"Page Views\", \"values\": [3619]}, {\"axis\": {\"matches\": true}, \"label\": \"NetA_imp\", \"values\": [756]}, {\"axis\": {\"matches\": true}, \"label\": \"NetA_spd\", \"values\": [877]}, {\"axis\": {\"matches\": true}, \"label\": \"NetB_imp\", \"values\": [671]}, {\"axis\": {\"matches\": true}, \"label\": \"NetB_spd\", \"values\": [5010]}], \"hovertemplate\": \"Date=2019-07-09<br>%{xaxis.title.text}=%{x}<br>%{yaxis.title.text}=%{y}<extra></extra>\", \"legendgroup\": \"2019-07-09\", \"marker\": {\"color\": \"#00cc96\", \"symbol\": \"circle\"}, \"name\": \"2019-07-09\", \"showlegend\": true, \"type\": \"splom\"}, {\"dimensions\": [{\"axis\": {\"matches\": true}, \"label\": \"Page Views\", \"values\": [3474]}, {\"axis\": {\"matches\": true}, \"label\": \"NetA_imp\", \"values\": [128]}, {\"axis\": {\"matches\": true}, \"label\": \"NetA_spd\", \"values\": [130]}, {\"axis\": {\"matches\": true}, \"label\": \"NetB_imp\", \"values\": [401]}, {\"axis\": {\"matches\": true}, \"label\": \"NetB_spd\", \"values\": [492]}], \"hovertemplate\": \"Date=2019-07-10<br>%{xaxis.title.text}=%{x}<br>%{yaxis.title.text}=%{y}<extra></extra>\", \"legendgroup\": \"2019-07-10\", \"marker\": {\"color\": \"#ab63fa\", \"symbol\": \"circle\"}, \"name\": \"2019-07-10\", \"showlegend\": true, \"type\": \"splom\"}, {\"dimensions\": [{\"axis\": {\"matches\": true}, \"label\": \"Page Views\", \"values\": [3547]}, {\"axis\": {\"matches\": true}, \"label\": \"NetA_imp\", \"values\": [154]}, {\"axis\": {\"matches\": true}, \"label\": \"NetA_spd\", \"values\": [1994]}, {\"axis\": {\"matches\": true}, \"label\": \"NetB_imp\", \"values\": [182]}, {\"axis\": {\"matches\": true}, \"label\": \"NetB_spd\", \"values\": [230]}], \"hovertemplate\": \"Date=2019-07-11<br>%{xaxis.title.text}=%{x}<br>%{yaxis.title.text}=%{y}<extra></extra>\", \"legendgroup\": \"2019-07-11\", \"marker\": {\"color\": \"#FFA15A\", \"symbol\": \"circle\"}, \"name\": \"2019-07-11\", \"showlegend\": true, \"type\": \"splom\"}, {\"dimensions\": [{\"axis\": {\"matches\": true}, \"label\": \"Page Views\", \"values\": [3277]}, {\"axis\": {\"matches\": true}, \"label\": \"NetA_imp\", \"values\": [104]}, {\"axis\": {\"matches\": true}, \"label\": \"NetA_spd\", \"values\": [4740]}, {\"axis\": {\"matches\": true}, \"label\": \"NetB_imp\", \"values\": [365]}, {\"axis\": {\"matches\": true}, \"label\": \"NetB_spd\", \"values\": [1408]}], \"hovertemplate\": \"Date=2019-07-12<br>%{xaxis.title.text}=%{x}<br>%{yaxis.title.text}=%{y}<extra></extra>\", \"legendgroup\": \"2019-07-12\", \"marker\": {\"color\": \"#19d3f3\", \"symbol\": \"circle\"}, \"name\": \"2019-07-12\", \"showlegend\": true, \"type\": \"splom\"}, {\"dimensions\": [{\"axis\": {\"matches\": true}, \"label\": \"Page Views\", \"values\": [3332]}, {\"axis\": {\"matches\": true}, \"label\": \"NetA_imp\", \"values\": [65]}, {\"axis\": {\"matches\": true}, \"label\": \"NetA_spd\", \"values\": [993]}, {\"axis\": {\"matches\": true}, \"label\": \"NetB_imp\", \"values\": [450]}, {\"axis\": {\"matches\": true}, \"label\": \"NetB_spd\", \"values\": [1841]}], \"hovertemplate\": \"Date=2019-07-13<br>%{xaxis.title.text}=%{x}<br>%{yaxis.title.text}=%{y}<extra></extra>\", \"legendgroup\": \"2019-07-13\", \"marker\": {\"color\": \"#FF6692\", \"symbol\": \"circle\"}, \"name\": \"2019-07-13\", \"showlegend\": true, \"type\": \"splom\"}, {\"dimensions\": [{\"axis\": {\"matches\": true}, \"label\": \"Page Views\", \"values\": [3858]}, {\"axis\": {\"matches\": true}, \"label\": \"NetA_imp\", \"values\": [155]}, {\"axis\": {\"matches\": true}, \"label\": \"NetA_spd\", \"values\": [938]}, {\"axis\": {\"matches\": true}, \"label\": \"NetB_imp\", \"values\": [35]}, {\"axis\": {\"matches\": true}, \"label\": \"NetB_spd\", \"values\": [878]}], \"hovertemplate\": \"Date=2019-07-14<br>%{xaxis.title.text}=%{x}<br>%{yaxis.title.text}=%{y}<extra></extra>\", \"legendgroup\": \"2019-07-14\", \"marker\": {\"color\": \"#B6E880\", \"symbol\": \"circle\"}, \"name\": \"2019-07-14\", \"showlegend\": true, \"type\": \"splom\"}, {\"dimensions\": [{\"axis\": {\"matches\": true}, \"label\": \"Page Views\", \"values\": [4918]}, {\"axis\": {\"matches\": true}, \"label\": \"NetA_imp\", \"values\": [108]}, {\"axis\": {\"matches\": true}, \"label\": \"NetA_spd\", \"values\": [1777]}, {\"axis\": {\"matches\": true}, \"label\": \"NetB_imp\", \"values\": [63]}, {\"axis\": {\"matches\": true}, \"label\": \"NetB_spd\", \"values\": [2431]}], \"hovertemplate\": \"Date=2019-07-15<br>%{xaxis.title.text}=%{x}<br>%{yaxis.title.text}=%{y}<extra></extra>\", \"legendgroup\": \"2019-07-15\", \"marker\": {\"color\": \"#FF97FF\", \"symbol\": \"circle\"}, \"name\": \"2019-07-15\", \"showlegend\": true, \"type\": \"splom\"}, {\"dimensions\": [{\"axis\": {\"matches\": true}, \"label\": \"Page Views\", \"values\": [3939]}, {\"axis\": {\"matches\": true}, \"label\": \"NetA_imp\", \"values\": [117]}, {\"axis\": {\"matches\": true}, \"label\": \"NetA_spd\", \"values\": [974]}, {\"axis\": {\"matches\": true}, \"label\": \"NetB_imp\", \"values\": [2]}, {\"axis\": {\"matches\": true}, \"label\": \"NetB_spd\", \"values\": [73]}], \"hovertemplate\": \"Date=2019-07-16<br>%{xaxis.title.text}=%{x}<br>%{yaxis.title.text}=%{y}<extra></extra>\", \"legendgroup\": \"2019-07-16\", \"marker\": {\"color\": \"#FECB52\", \"symbol\": \"circle\"}, \"name\": \"2019-07-16\", \"showlegend\": true, \"type\": \"splom\"}, {\"dimensions\": [{\"axis\": {\"matches\": true}, \"label\": \"Page Views\", \"values\": [3763]}, {\"axis\": {\"matches\": true}, \"label\": \"NetA_imp\", \"values\": [185]}, {\"axis\": {\"matches\": true}, \"label\": \"NetA_spd\", \"values\": [4935]}, {\"axis\": {\"matches\": true}, \"label\": \"NetB_imp\", \"values\": [54]}, {\"axis\": {\"matches\": true}, \"label\": \"NetB_spd\", \"values\": [911]}], \"hovertemplate\": \"Date=2019-07-17<br>%{xaxis.title.text}=%{x}<br>%{yaxis.title.text}=%{y}<extra></extra>\", \"legendgroup\": \"2019-07-17\", \"marker\": {\"color\": \"#636efa\", \"symbol\": \"circle\"}, \"name\": \"2019-07-17\", \"showlegend\": true, \"type\": \"splom\"}, {\"dimensions\": [{\"axis\": {\"matches\": true}, \"label\": \"Page Views\", \"values\": [3691]}, {\"axis\": {\"matches\": true}, \"label\": \"NetA_imp\", \"values\": [212]}, {\"axis\": {\"matches\": true}, \"label\": \"NetA_spd\", \"values\": [2697]}, {\"axis\": {\"matches\": true}, \"label\": \"NetB_imp\", \"values\": [38]}, {\"axis\": {\"matches\": true}, \"label\": \"NetB_spd\", \"values\": [852]}], \"hovertemplate\": \"Date=2019-07-18<br>%{xaxis.title.text}=%{x}<br>%{yaxis.title.text}=%{y}<extra></extra>\", \"legendgroup\": \"2019-07-18\", \"marker\": {\"color\": \"#EF553B\", \"symbol\": \"circle\"}, \"name\": \"2019-07-18\", \"showlegend\": true, \"type\": \"splom\"}, {\"dimensions\": [{\"axis\": {\"matches\": true}, \"label\": \"Page Views\", \"values\": [3538]}, {\"axis\": {\"matches\": true}, \"label\": \"NetA_imp\", \"values\": [64]}, {\"axis\": {\"matches\": true}, \"label\": \"NetA_spd\", \"values\": [0]}, {\"axis\": {\"matches\": true}, \"label\": \"NetB_imp\", \"values\": [50]}, {\"axis\": {\"matches\": true}, \"label\": \"NetB_spd\", \"values\": [1845]}], \"hovertemplate\": \"Date=2019-07-19<br>%{xaxis.title.text}=%{x}<br>%{yaxis.title.text}=%{y}<extra></extra>\", \"legendgroup\": \"2019-07-19\", \"marker\": {\"color\": \"#00cc96\", \"symbol\": \"circle\"}, \"name\": \"2019-07-19\", \"showlegend\": true, \"type\": \"splom\"}, {\"dimensions\": [{\"axis\": {\"matches\": true}, \"label\": \"Page Views\", \"values\": [3430]}, {\"axis\": {\"matches\": true}, \"label\": \"NetA_imp\", \"values\": [155]}, {\"axis\": {\"matches\": true}, \"label\": \"NetA_spd\", \"values\": [210]}, {\"axis\": {\"matches\": true}, \"label\": \"NetB_imp\", \"values\": [54]}, {\"axis\": {\"matches\": true}, \"label\": \"NetB_spd\", \"values\": [1615]}], \"hovertemplate\": \"Date=2019-07-20<br>%{xaxis.title.text}=%{x}<br>%{yaxis.title.text}=%{y}<extra></extra>\", \"legendgroup\": \"2019-07-20\", \"marker\": {\"color\": \"#ab63fa\", \"symbol\": \"circle\"}, \"name\": \"2019-07-20\", \"showlegend\": true, \"type\": \"splom\"}, {\"dimensions\": [{\"axis\": {\"matches\": true}, \"label\": \"Page Views\", \"values\": [3841]}, {\"axis\": {\"matches\": true}, \"label\": \"NetA_imp\", \"values\": [62]}, {\"axis\": {\"matches\": true}, \"label\": \"NetA_spd\", \"values\": [827]}, {\"axis\": {\"matches\": true}, \"label\": \"NetB_imp\", \"values\": [103]}, {\"axis\": {\"matches\": true}, \"label\": \"NetB_spd\", \"values\": [3341]}], \"hovertemplate\": \"Date=2019-07-21<br>%{xaxis.title.text}=%{x}<br>%{yaxis.title.text}=%{y}<extra></extra>\", \"legendgroup\": \"2019-07-21\", \"marker\": {\"color\": \"#FFA15A\", \"symbol\": \"circle\"}, \"name\": \"2019-07-21\", \"showlegend\": true, \"type\": \"splom\"}, {\"dimensions\": [{\"axis\": {\"matches\": true}, \"label\": \"Page Views\", \"values\": [4199]}, {\"axis\": {\"matches\": true}, \"label\": \"NetA_imp\", \"values\": [118]}, {\"axis\": {\"matches\": true}, \"label\": \"NetA_spd\", \"values\": [4927]}, {\"axis\": {\"matches\": true}, \"label\": \"NetB_imp\", \"values\": [94]}, {\"axis\": {\"matches\": true}, \"label\": \"NetB_spd\", \"values\": [3398]}], \"hovertemplate\": \"Date=2019-07-22<br>%{xaxis.title.text}=%{x}<br>%{yaxis.title.text}=%{y}<extra></extra>\", \"legendgroup\": \"2019-07-22\", \"marker\": {\"color\": \"#19d3f3\", \"symbol\": \"circle\"}, \"name\": \"2019-07-22\", \"showlegend\": true, \"type\": \"splom\"}, {\"dimensions\": [{\"axis\": {\"matches\": true}, \"label\": \"Page Views\", \"values\": [3770]}, {\"axis\": {\"matches\": true}, \"label\": \"NetA_imp\", \"values\": [23]}, {\"axis\": {\"matches\": true}, \"label\": \"NetA_spd\", \"values\": [426]}, {\"axis\": {\"matches\": true}, \"label\": \"NetB_imp\", \"values\": [73]}, {\"axis\": {\"matches\": true}, \"label\": \"NetB_spd\", \"values\": [2768]}], \"hovertemplate\": \"Date=2019-07-23<br>%{xaxis.title.text}=%{x}<br>%{yaxis.title.text}=%{y}<extra></extra>\", \"legendgroup\": \"2019-07-23\", \"marker\": {\"color\": \"#FF6692\", \"symbol\": \"circle\"}, \"name\": \"2019-07-23\", \"showlegend\": true, \"type\": \"splom\"}, {\"dimensions\": [{\"axis\": {\"matches\": true}, \"label\": \"Page Views\", \"values\": [3458]}, {\"axis\": {\"matches\": true}, \"label\": \"NetA_imp\", \"values\": [62]}, {\"axis\": {\"matches\": true}, \"label\": \"NetA_spd\", \"values\": [3037]}, {\"axis\": {\"matches\": true}, \"label\": \"NetB_imp\", \"values\": [100]}, {\"axis\": {\"matches\": true}, \"label\": \"NetB_spd\", \"values\": [2825]}], \"hovertemplate\": \"Date=2019-07-24<br>%{xaxis.title.text}=%{x}<br>%{yaxis.title.text}=%{y}<extra></extra>\", \"legendgroup\": \"2019-07-24\", \"marker\": {\"color\": \"#B6E880\", \"symbol\": \"circle\"}, \"name\": \"2019-07-24\", \"showlegend\": true, \"type\": \"splom\"}, {\"dimensions\": [{\"axis\": {\"matches\": true}, \"label\": \"Page Views\", \"values\": [3631]}, {\"axis\": {\"matches\": true}, \"label\": \"NetA_imp\", \"values\": [26]}, {\"axis\": {\"matches\": true}, \"label\": \"NetA_spd\", \"values\": [939]}, {\"axis\": {\"matches\": true}, \"label\": \"NetB_imp\", \"values\": [20]}, {\"axis\": {\"matches\": true}, \"label\": \"NetB_spd\", \"values\": [362]}], \"hovertemplate\": \"Date=2019-07-25<br>%{xaxis.title.text}=%{x}<br>%{yaxis.title.text}=%{y}<extra></extra>\", \"legendgroup\": \"2019-07-25\", \"marker\": {\"color\": \"#FF97FF\", \"symbol\": \"circle\"}, \"name\": \"2019-07-25\", \"showlegend\": true, \"type\": \"splom\"}, {\"dimensions\": [{\"axis\": {\"matches\": true}, \"label\": \"Page Views\", \"values\": [3367]}, {\"axis\": {\"matches\": true}, \"label\": \"NetA_imp\", \"values\": [31]}, {\"axis\": {\"matches\": true}, \"label\": \"NetA_spd\", \"values\": [530]}, {\"axis\": {\"matches\": true}, \"label\": \"NetB_imp\", \"values\": [80]}, {\"axis\": {\"matches\": true}, \"label\": \"NetB_spd\", \"values\": [3123]}], \"hovertemplate\": \"Date=2019-07-26<br>%{xaxis.title.text}=%{x}<br>%{yaxis.title.text}=%{y}<extra></extra>\", \"legendgroup\": \"2019-07-26\", \"marker\": {\"color\": \"#FECB52\", \"symbol\": \"circle\"}, \"name\": \"2019-07-26\", \"showlegend\": true, \"type\": \"splom\"}, {\"dimensions\": [{\"axis\": {\"matches\": true}, \"label\": \"Page Views\", \"values\": [3410]}, {\"axis\": {\"matches\": true}, \"label\": \"NetA_imp\", \"values\": [49]}, {\"axis\": {\"matches\": true}, \"label\": \"NetA_spd\", \"values\": [567]}, {\"axis\": {\"matches\": true}, \"label\": \"NetB_imp\", \"values\": [47]}, {\"axis\": {\"matches\": true}, \"label\": \"NetB_spd\", \"values\": [993]}], \"hovertemplate\": \"Date=2019-07-27<br>%{xaxis.title.text}=%{x}<br>%{yaxis.title.text}=%{y}<extra></extra>\", \"legendgroup\": \"2019-07-27\", \"marker\": {\"color\": \"#636efa\", \"symbol\": \"circle\"}, \"name\": \"2019-07-27\", \"showlegend\": true, \"type\": \"splom\"}, {\"dimensions\": [{\"axis\": {\"matches\": true}, \"label\": \"Page Views\", \"values\": [3646]}, {\"axis\": {\"matches\": true}, \"label\": \"NetA_imp\", \"values\": [67]}, {\"axis\": {\"matches\": true}, \"label\": \"NetA_spd\", \"values\": [3455]}, {\"axis\": {\"matches\": true}, \"label\": \"NetB_imp\", \"values\": [63]}, {\"axis\": {\"matches\": true}, \"label\": \"NetB_spd\", \"values\": [3291]}], \"hovertemplate\": \"Date=2019-07-28<br>%{xaxis.title.text}=%{x}<br>%{yaxis.title.text}=%{y}<extra></extra>\", \"legendgroup\": \"2019-07-28\", \"marker\": {\"color\": \"#EF553B\", \"symbol\": \"circle\"}, \"name\": \"2019-07-28\", \"showlegend\": true, \"type\": \"splom\"}, {\"dimensions\": [{\"axis\": {\"matches\": true}, \"label\": \"Page Views\", \"values\": [3475]}, {\"axis\": {\"matches\": true}, \"label\": \"NetA_imp\", \"values\": [110]}, {\"axis\": {\"matches\": true}, \"label\": \"NetA_spd\", \"values\": [5890]}, {\"axis\": {\"matches\": true}, \"label\": \"NetB_imp\", \"values\": [80]}, {\"axis\": {\"matches\": true}, \"label\": \"NetB_spd\", \"values\": [3622]}], \"hovertemplate\": \"Date=2019-07-29<br>%{xaxis.title.text}=%{x}<br>%{yaxis.title.text}=%{y}<extra></extra>\", \"legendgroup\": \"2019-07-29\", \"marker\": {\"color\": \"#00cc96\", \"symbol\": \"circle\"}, \"name\": \"2019-07-29\", \"showlegend\": true, \"type\": \"splom\"}, {\"dimensions\": [{\"axis\": {\"matches\": true}, \"label\": \"Page Views\", \"values\": [3087]}, {\"axis\": {\"matches\": true}, \"label\": \"NetA_imp\", \"values\": [21]}, {\"axis\": {\"matches\": true}, \"label\": \"NetA_spd\", \"values\": [678]}, {\"axis\": {\"matches\": true}, \"label\": \"NetB_imp\", \"values\": [81]}, {\"axis\": {\"matches\": true}, \"label\": \"NetB_spd\", \"values\": [3903]}], \"hovertemplate\": \"Date=2019-07-30<br>%{xaxis.title.text}=%{x}<br>%{yaxis.title.text}=%{y}<extra></extra>\", \"legendgroup\": \"2019-07-30\", \"marker\": {\"color\": \"#ab63fa\", \"symbol\": \"circle\"}, \"name\": \"2019-07-30\", \"showlegend\": true, \"type\": \"splom\"}, {\"dimensions\": [{\"axis\": {\"matches\": true}, \"label\": \"Page Views\", \"values\": [2754]}, {\"axis\": {\"matches\": true}, \"label\": \"NetA_imp\", \"values\": [30]}, {\"axis\": {\"matches\": true}, \"label\": \"NetA_spd\", \"values\": [1264]}, {\"axis\": {\"matches\": true}, \"label\": \"NetB_imp\", \"values\": [47]}, {\"axis\": {\"matches\": true}, \"label\": \"NetB_spd\", \"values\": [1638]}], \"hovertemplate\": \"Date=2019-07-31<br>%{xaxis.title.text}=%{x}<br>%{yaxis.title.text}=%{y}<extra></extra>\", \"legendgroup\": \"2019-07-31\", \"marker\": {\"color\": \"#FFA15A\", \"symbol\": \"circle\"}, \"name\": \"2019-07-31\", \"showlegend\": true, \"type\": \"splom\"}, {\"dimensions\": [{\"axis\": {\"matches\": true}, \"label\": \"Page Views\", \"values\": [2783]}, {\"axis\": {\"matches\": true}, \"label\": \"NetA_imp\", \"values\": [2]}, {\"axis\": {\"matches\": true}, \"label\": \"NetA_spd\", \"values\": [137]}, {\"axis\": {\"matches\": true}, \"label\": \"NetB_imp\", \"values\": [33]}, {\"axis\": {\"matches\": true}, \"label\": \"NetB_spd\", \"values\": [913]}], \"hovertemplate\": \"Date=2019-08-01<br>%{xaxis.title.text}=%{x}<br>%{yaxis.title.text}=%{y}<extra></extra>\", \"legendgroup\": \"2019-08-01\", \"marker\": {\"color\": \"#19d3f3\", \"symbol\": \"circle\"}, \"name\": \"2019-08-01\", \"showlegend\": true, \"type\": \"splom\"}, {\"dimensions\": [{\"axis\": {\"matches\": true}, \"label\": \"Page Views\", \"values\": [2658]}, {\"axis\": {\"matches\": true}, \"label\": \"NetA_imp\", \"values\": [40]}, {\"axis\": {\"matches\": true}, \"label\": \"NetA_spd\", \"values\": [823]}, {\"axis\": {\"matches\": true}, \"label\": \"NetB_imp\", \"values\": [0]}, {\"axis\": {\"matches\": true}, \"label\": \"NetB_spd\", \"values\": [0]}], \"hovertemplate\": \"Date=2019-08-02<br>%{xaxis.title.text}=%{x}<br>%{yaxis.title.text}=%{y}<extra></extra>\", \"legendgroup\": \"2019-08-02\", \"marker\": {\"color\": \"#FF6692\", \"symbol\": \"circle\"}, \"name\": \"2019-08-02\", \"showlegend\": true, \"type\": \"splom\"}, {\"dimensions\": [{\"axis\": {\"matches\": true}, \"label\": \"Page Views\", \"values\": [2748]}, {\"axis\": {\"matches\": true}, \"label\": \"NetA_imp\", \"values\": [21]}, {\"axis\": {\"matches\": true}, \"label\": \"NetA_spd\", \"values\": [405]}, {\"axis\": {\"matches\": true}, \"label\": \"NetB_imp\", \"values\": [42]}, {\"axis\": {\"matches\": true}, \"label\": \"NetB_spd\", \"values\": [1170]}], \"hovertemplate\": \"Date=2019-08-03<br>%{xaxis.title.text}=%{x}<br>%{yaxis.title.text}=%{y}<extra></extra>\", \"legendgroup\": \"2019-08-03\", \"marker\": {\"color\": \"#B6E880\", \"symbol\": \"circle\"}, \"name\": \"2019-08-03\", \"showlegend\": true, \"type\": \"splom\"}, {\"dimensions\": [{\"axis\": {\"matches\": true}, \"label\": \"Page Views\", \"values\": [3000]}, {\"axis\": {\"matches\": true}, \"label\": \"NetA_imp\", \"values\": [83]}, {\"axis\": {\"matches\": true}, \"label\": \"NetA_spd\", \"values\": [2134]}, {\"axis\": {\"matches\": true}, \"label\": \"NetB_imp\", \"values\": [56]}, {\"axis\": {\"matches\": true}, \"label\": \"NetB_spd\", \"values\": [2018]}], \"hovertemplate\": \"Date=2019-08-04<br>%{xaxis.title.text}=%{x}<br>%{yaxis.title.text}=%{y}<extra></extra>\", \"legendgroup\": \"2019-08-04\", \"marker\": {\"color\": \"#FF97FF\", \"symbol\": \"circle\"}, \"name\": \"2019-08-04\", \"showlegend\": true, \"type\": \"splom\"}, {\"dimensions\": [{\"axis\": {\"matches\": true}, \"label\": \"Page Views\", \"values\": [3256]}, {\"axis\": {\"matches\": true}, \"label\": \"NetA_imp\", \"values\": [146]}, {\"axis\": {\"matches\": true}, \"label\": \"NetA_spd\", \"values\": [4025]}, {\"axis\": {\"matches\": true}, \"label\": \"NetB_imp\", \"values\": [218]}, {\"axis\": {\"matches\": true}, \"label\": \"NetB_spd\", \"values\": [7783]}], \"hovertemplate\": \"Date=2019-08-05<br>%{xaxis.title.text}=%{x}<br>%{yaxis.title.text}=%{y}<extra></extra>\", \"legendgroup\": \"2019-08-05\", \"marker\": {\"color\": \"#FECB52\", \"symbol\": \"circle\"}, \"name\": \"2019-08-05\", \"showlegend\": true, \"type\": \"splom\"}, {\"dimensions\": [{\"axis\": {\"matches\": true}, \"label\": \"Page Views\", \"values\": [2865]}, {\"axis\": {\"matches\": true}, \"label\": \"NetA_imp\", \"values\": [51]}, {\"axis\": {\"matches\": true}, \"label\": \"NetA_spd\", \"values\": [1363]}, {\"axis\": {\"matches\": true}, \"label\": \"NetB_imp\", \"values\": [170]}, {\"axis\": {\"matches\": true}, \"label\": \"NetB_spd\", \"values\": [5257]}], \"hovertemplate\": \"Date=2019-08-06<br>%{xaxis.title.text}=%{x}<br>%{yaxis.title.text}=%{y}<extra></extra>\", \"legendgroup\": \"2019-08-06\", \"marker\": {\"color\": \"#636efa\", \"symbol\": \"circle\"}, \"name\": \"2019-08-06\", \"showlegend\": true, \"type\": \"splom\"}, {\"dimensions\": [{\"axis\": {\"matches\": true}, \"label\": \"Page Views\", \"values\": [2693]}, {\"axis\": {\"matches\": true}, \"label\": \"NetA_imp\", \"values\": [84]}, {\"axis\": {\"matches\": true}, \"label\": \"NetA_spd\", \"values\": [2316]}, {\"axis\": {\"matches\": true}, \"label\": \"NetB_imp\", \"values\": [129]}, {\"axis\": {\"matches\": true}, \"label\": \"NetB_spd\", \"values\": [5960]}], \"hovertemplate\": \"Date=2019-08-07<br>%{xaxis.title.text}=%{x}<br>%{yaxis.title.text}=%{y}<extra></extra>\", \"legendgroup\": \"2019-08-07\", \"marker\": {\"color\": \"#EF553B\", \"symbol\": \"circle\"}, \"name\": \"2019-08-07\", \"showlegend\": true, \"type\": \"splom\"}, {\"dimensions\": [{\"axis\": {\"matches\": true}, \"label\": \"Page Views\", \"values\": [2629]}, {\"axis\": {\"matches\": true}, \"label\": \"NetA_imp\", \"values\": [193]}, {\"axis\": {\"matches\": true}, \"label\": \"NetA_spd\", \"values\": [10376]}, {\"axis\": {\"matches\": true}, \"label\": \"NetB_imp\", \"values\": [117]}, {\"axis\": {\"matches\": true}, \"label\": \"NetB_spd\", \"values\": [2744]}], \"hovertemplate\": \"Date=2019-08-08<br>%{xaxis.title.text}=%{x}<br>%{yaxis.title.text}=%{y}<extra></extra>\", \"legendgroup\": \"2019-08-08\", \"marker\": {\"color\": \"#00cc96\", \"symbol\": \"circle\"}, \"name\": \"2019-08-08\", \"showlegend\": true, \"type\": \"splom\"}, {\"dimensions\": [{\"axis\": {\"matches\": true}, \"label\": \"Page Views\", \"values\": [2922]}, {\"axis\": {\"matches\": true}, \"label\": \"NetA_imp\", \"values\": [49]}, {\"axis\": {\"matches\": true}, \"label\": \"NetA_spd\", \"values\": [1215]}, {\"axis\": {\"matches\": true}, \"label\": \"NetB_imp\", \"values\": [134]}, {\"axis\": {\"matches\": true}, \"label\": \"NetB_spd\", \"values\": [3807]}], \"hovertemplate\": \"Date=2019-08-09<br>%{xaxis.title.text}=%{x}<br>%{yaxis.title.text}=%{y}<extra></extra>\", \"legendgroup\": \"2019-08-09\", \"marker\": {\"color\": \"#ab63fa\", \"symbol\": \"circle\"}, \"name\": \"2019-08-09\", \"showlegend\": true, \"type\": \"splom\"}, {\"dimensions\": [{\"axis\": {\"matches\": true}, \"label\": \"Page Views\", \"values\": [2873]}, {\"axis\": {\"matches\": true}, \"label\": \"NetA_imp\", \"values\": [78]}, {\"axis\": {\"matches\": true}, \"label\": \"NetA_spd\", \"values\": [1578]}, {\"axis\": {\"matches\": true}, \"label\": \"NetB_imp\", \"values\": [90]}, {\"axis\": {\"matches\": true}, \"label\": \"NetB_spd\", \"values\": [1345]}], \"hovertemplate\": \"Date=2019-08-10<br>%{xaxis.title.text}=%{x}<br>%{yaxis.title.text}=%{y}<extra></extra>\", \"legendgroup\": \"2019-08-10\", \"marker\": {\"color\": \"#FFA15A\", \"symbol\": \"circle\"}, \"name\": \"2019-08-10\", \"showlegend\": true, \"type\": \"splom\"}, {\"dimensions\": [{\"axis\": {\"matches\": true}, \"label\": \"Page Views\", \"values\": [3057]}, {\"axis\": {\"matches\": true}, \"label\": \"NetA_imp\", \"values\": [158]}, {\"axis\": {\"matches\": true}, \"label\": \"NetA_spd\", \"values\": [6856]}, {\"axis\": {\"matches\": true}, \"label\": \"NetB_imp\", \"values\": [44]}, {\"axis\": {\"matches\": true}, \"label\": \"NetB_spd\", \"values\": [1081]}], \"hovertemplate\": \"Date=2019-08-11<br>%{xaxis.title.text}=%{x}<br>%{yaxis.title.text}=%{y}<extra></extra>\", \"legendgroup\": \"2019-08-11\", \"marker\": {\"color\": \"#19d3f3\", \"symbol\": \"circle\"}, \"name\": \"2019-08-11\", \"showlegend\": true, \"type\": \"splom\"}, {\"dimensions\": [{\"axis\": {\"matches\": true}, \"label\": \"Page Views\", \"values\": [3357]}, {\"axis\": {\"matches\": true}, \"label\": \"NetA_imp\", \"values\": [196]}, {\"axis\": {\"matches\": true}, \"label\": \"NetA_spd\", \"values\": [4946]}, {\"axis\": {\"matches\": true}, \"label\": \"NetB_imp\", \"values\": [130]}, {\"axis\": {\"matches\": true}, \"label\": \"NetB_spd\", \"values\": [3585]}], \"hovertemplate\": \"Date=2019-08-12<br>%{xaxis.title.text}=%{x}<br>%{yaxis.title.text}=%{y}<extra></extra>\", \"legendgroup\": \"2019-08-12\", \"marker\": {\"color\": \"#FF6692\", \"symbol\": \"circle\"}, \"name\": \"2019-08-12\", \"showlegend\": true, \"type\": \"splom\"}, {\"dimensions\": [{\"axis\": {\"matches\": true}, \"label\": \"Page Views\", \"values\": [3013]}, {\"axis\": {\"matches\": true}, \"label\": \"NetA_imp\", \"values\": [94]}, {\"axis\": {\"matches\": true}, \"label\": \"NetA_spd\", \"values\": [3042]}, {\"axis\": {\"matches\": true}, \"label\": \"NetB_imp\", \"values\": [187]}, {\"axis\": {\"matches\": true}, \"label\": \"NetB_spd\", \"values\": [5702]}], \"hovertemplate\": \"Date=2019-08-13<br>%{xaxis.title.text}=%{x}<br>%{yaxis.title.text}=%{y}<extra></extra>\", \"legendgroup\": \"2019-08-13\", \"marker\": {\"color\": \"#B6E880\", \"symbol\": \"circle\"}, \"name\": \"2019-08-13\", \"showlegend\": true, \"type\": \"splom\"}, {\"dimensions\": [{\"axis\": {\"matches\": true}, \"label\": \"Page Views\", \"values\": [3542]}, {\"axis\": {\"matches\": true}, \"label\": \"NetA_imp\", \"values\": [72]}, {\"axis\": {\"matches\": true}, \"label\": \"NetA_spd\", \"values\": [1472]}, {\"axis\": {\"matches\": true}, \"label\": \"NetB_imp\", \"values\": [178]}, {\"axis\": {\"matches\": true}, \"label\": \"NetB_spd\", \"values\": [5270]}], \"hovertemplate\": \"Date=2019-08-14<br>%{xaxis.title.text}=%{x}<br>%{yaxis.title.text}=%{y}<extra></extra>\", \"legendgroup\": \"2019-08-14\", \"marker\": {\"color\": \"#FF97FF\", \"symbol\": \"circle\"}, \"name\": \"2019-08-14\", \"showlegend\": true, \"type\": \"splom\"}, {\"dimensions\": [{\"axis\": {\"matches\": true}, \"label\": \"Page Views\", \"values\": [3093]}, {\"axis\": {\"matches\": true}, \"label\": \"NetA_imp\", \"values\": [208]}, {\"axis\": {\"matches\": true}, \"label\": \"NetA_spd\", \"values\": [8595]}, {\"axis\": {\"matches\": true}, \"label\": \"NetB_imp\", \"values\": [111]}, {\"axis\": {\"matches\": true}, \"label\": \"NetB_spd\", \"values\": [2740]}], \"hovertemplate\": \"Date=2019-08-15<br>%{xaxis.title.text}=%{x}<br>%{yaxis.title.text}=%{y}<extra></extra>\", \"legendgroup\": \"2019-08-15\", \"marker\": {\"color\": \"#FECB52\", \"symbol\": \"circle\"}, \"name\": \"2019-08-15\", \"showlegend\": true, \"type\": \"splom\"}, {\"dimensions\": [{\"axis\": {\"matches\": true}, \"label\": \"Page Views\", \"values\": [2714]}, {\"axis\": {\"matches\": true}, \"label\": \"NetA_imp\", \"values\": [24]}, {\"axis\": {\"matches\": true}, \"label\": \"NetA_spd\", \"values\": [607]}, {\"axis\": {\"matches\": true}, \"label\": \"NetB_imp\", \"values\": [110]}, {\"axis\": {\"matches\": true}, \"label\": \"NetB_spd\", \"values\": [4937]}], \"hovertemplate\": \"Date=2019-08-16<br>%{xaxis.title.text}=%{x}<br>%{yaxis.title.text}=%{y}<extra></extra>\", \"legendgroup\": \"2019-08-16\", \"marker\": {\"color\": \"#636efa\", \"symbol\": \"circle\"}, \"name\": \"2019-08-16\", \"showlegend\": true, \"type\": \"splom\"}, {\"dimensions\": [{\"axis\": {\"matches\": true}, \"label\": \"Page Views\", \"values\": [2809]}, {\"axis\": {\"matches\": true}, \"label\": \"NetA_imp\", \"values\": [52]}, {\"axis\": {\"matches\": true}, \"label\": \"NetA_spd\", \"values\": [465]}, {\"axis\": {\"matches\": true}, \"label\": \"NetB_imp\", \"values\": [123]}, {\"axis\": {\"matches\": true}, \"label\": \"NetB_spd\", \"values\": [3524]}], \"hovertemplate\": \"Date=2019-08-17<br>%{xaxis.title.text}=%{x}<br>%{yaxis.title.text}=%{y}<extra></extra>\", \"legendgroup\": \"2019-08-17\", \"marker\": {\"color\": \"#EF553B\", \"symbol\": \"circle\"}, \"name\": \"2019-08-17\", \"showlegend\": true, \"type\": \"splom\"}, {\"dimensions\": [{\"axis\": {\"matches\": true}, \"label\": \"Page Views\", \"values\": [3113]}, {\"axis\": {\"matches\": true}, \"label\": \"NetA_imp\", \"values\": [185]}, {\"axis\": {\"matches\": true}, \"label\": \"NetA_spd\", \"values\": [6226]}, {\"axis\": {\"matches\": true}, \"label\": \"NetB_imp\", \"values\": [156]}, {\"axis\": {\"matches\": true}, \"label\": \"NetB_spd\", \"values\": [6690]}], \"hovertemplate\": \"Date=2019-08-18<br>%{xaxis.title.text}=%{x}<br>%{yaxis.title.text}=%{y}<extra></extra>\", \"legendgroup\": \"2019-08-18\", \"marker\": {\"color\": \"#00cc96\", \"symbol\": \"circle\"}, \"name\": \"2019-08-18\", \"showlegend\": true, \"type\": \"splom\"}, {\"dimensions\": [{\"axis\": {\"matches\": true}, \"label\": \"Page Views\", \"values\": [3486]}, {\"axis\": {\"matches\": true}, \"label\": \"NetA_imp\", \"values\": [154]}, {\"axis\": {\"matches\": true}, \"label\": \"NetA_spd\", \"values\": [6174]}, {\"axis\": {\"matches\": true}, \"label\": \"NetB_imp\", \"values\": [103]}, {\"axis\": {\"matches\": true}, \"label\": \"NetB_spd\", \"values\": [3473]}], \"hovertemplate\": \"Date=2019-08-19<br>%{xaxis.title.text}=%{x}<br>%{yaxis.title.text}=%{y}<extra></extra>\", \"legendgroup\": \"2019-08-19\", \"marker\": {\"color\": \"#ab63fa\", \"symbol\": \"circle\"}, \"name\": \"2019-08-19\", \"showlegend\": true, \"type\": \"splom\"}, {\"dimensions\": [{\"axis\": {\"matches\": true}, \"label\": \"Page Views\", \"values\": [3425]}, {\"axis\": {\"matches\": true}, \"label\": \"NetA_imp\", \"values\": [71]}, {\"axis\": {\"matches\": true}, \"label\": \"NetA_spd\", \"values\": [2144]}, {\"axis\": {\"matches\": true}, \"label\": \"NetB_imp\", \"values\": [134]}, {\"axis\": {\"matches\": true}, \"label\": \"NetB_spd\", \"values\": [6624]}], \"hovertemplate\": \"Date=2019-08-20<br>%{xaxis.title.text}=%{x}<br>%{yaxis.title.text}=%{y}<extra></extra>\", \"legendgroup\": \"2019-08-20\", \"marker\": {\"color\": \"#FFA15A\", \"symbol\": \"circle\"}, \"name\": \"2019-08-20\", \"showlegend\": true, \"type\": \"splom\"}, {\"dimensions\": [{\"axis\": {\"matches\": true}, \"label\": \"Page Views\", \"values\": [4066]}, {\"axis\": {\"matches\": true}, \"label\": \"NetA_imp\", \"values\": [70]}, {\"axis\": {\"matches\": true}, \"label\": \"NetA_spd\", \"values\": [1663]}, {\"axis\": {\"matches\": true}, \"label\": \"NetB_imp\", \"values\": [136]}, {\"axis\": {\"matches\": true}, \"label\": \"NetB_spd\", \"values\": [2576]}], \"hovertemplate\": \"Date=2019-08-21<br>%{xaxis.title.text}=%{x}<br>%{yaxis.title.text}=%{y}<extra></extra>\", \"legendgroup\": \"2019-08-21\", \"marker\": {\"color\": \"#19d3f3\", \"symbol\": \"circle\"}, \"name\": \"2019-08-21\", \"showlegend\": true, \"type\": \"splom\"}, {\"dimensions\": [{\"axis\": {\"matches\": true}, \"label\": \"Page Views\", \"values\": [3167]}, {\"axis\": {\"matches\": true}, \"label\": \"NetA_imp\", \"values\": [84]}, {\"axis\": {\"matches\": true}, \"label\": \"NetA_spd\", \"values\": [2534]}, {\"axis\": {\"matches\": true}, \"label\": \"NetB_imp\", \"values\": [227]}, {\"axis\": {\"matches\": true}, \"label\": \"NetB_spd\", \"values\": [6867]}], \"hovertemplate\": \"Date=2019-08-22<br>%{xaxis.title.text}=%{x}<br>%{yaxis.title.text}=%{y}<extra></extra>\", \"legendgroup\": \"2019-08-22\", \"marker\": {\"color\": \"#FF6692\", \"symbol\": \"circle\"}, \"name\": \"2019-08-22\", \"showlegend\": true, \"type\": \"splom\"}, {\"dimensions\": [{\"axis\": {\"matches\": true}, \"label\": \"Page Views\", \"values\": [3031]}, {\"axis\": {\"matches\": true}, \"label\": \"NetA_imp\", \"values\": [140]}, {\"axis\": {\"matches\": true}, \"label\": \"NetA_spd\", \"values\": [6518]}, {\"axis\": {\"matches\": true}, \"label\": \"NetB_imp\", \"values\": [71]}, {\"axis\": {\"matches\": true}, \"label\": \"NetB_spd\", \"values\": [2432]}], \"hovertemplate\": \"Date=2019-08-23<br>%{xaxis.title.text}=%{x}<br>%{yaxis.title.text}=%{y}<extra></extra>\", \"legendgroup\": \"2019-08-23\", \"marker\": {\"color\": \"#B6E880\", \"symbol\": \"circle\"}, \"name\": \"2019-08-23\", \"showlegend\": true, \"type\": \"splom\"}, {\"dimensions\": [{\"axis\": {\"matches\": true}, \"label\": \"Page Views\", \"values\": [3107]}, {\"axis\": {\"matches\": true}, \"label\": \"NetA_imp\", \"values\": [94]}, {\"axis\": {\"matches\": true}, \"label\": \"NetA_spd\", \"values\": [2598]}, {\"axis\": {\"matches\": true}, \"label\": \"NetB_imp\", \"values\": [139]}, {\"axis\": {\"matches\": true}, \"label\": \"NetB_spd\", \"values\": [3953]}], \"hovertemplate\": \"Date=2019-08-24<br>%{xaxis.title.text}=%{x}<br>%{yaxis.title.text}=%{y}<extra></extra>\", \"legendgroup\": \"2019-08-24\", \"marker\": {\"color\": \"#FF97FF\", \"symbol\": \"circle\"}, \"name\": \"2019-08-24\", \"showlegend\": true, \"type\": \"splom\"}],                        {\"dragmode\": \"select\", \"legend\": {\"title\": {\"text\": \"Date\"}, \"tracegroupgap\": 0}, \"margin\": {\"t\": 60}, \"template\": {\"data\": {\"bar\": [{\"error_x\": {\"color\": \"#2a3f5f\"}, \"error_y\": {\"color\": \"#2a3f5f\"}, \"marker\": {\"line\": {\"color\": \"#E5ECF6\", \"width\": 0.5}}, \"type\": \"bar\"}], \"barpolar\": [{\"marker\": {\"line\": {\"color\": \"#E5ECF6\", \"width\": 0.5}}, \"type\": \"barpolar\"}], \"carpet\": [{\"aaxis\": {\"endlinecolor\": \"#2a3f5f\", \"gridcolor\": \"white\", \"linecolor\": \"white\", \"minorgridcolor\": \"white\", \"startlinecolor\": \"#2a3f5f\"}, \"baxis\": {\"endlinecolor\": \"#2a3f5f\", \"gridcolor\": \"white\", \"linecolor\": \"white\", \"minorgridcolor\": \"white\", \"startlinecolor\": \"#2a3f5f\"}, \"type\": \"carpet\"}], \"choropleth\": [{\"colorbar\": {\"outlinewidth\": 0, \"ticks\": \"\"}, \"type\": \"choropleth\"}], \"contour\": [{\"colorbar\": {\"outlinewidth\": 0, \"ticks\": \"\"}, \"colorscale\": [[0.0, \"#0d0887\"], [0.1111111111111111, \"#46039f\"], [0.2222222222222222, \"#7201a8\"], [0.3333333333333333, \"#9c179e\"], [0.4444444444444444, \"#bd3786\"], [0.5555555555555556, \"#d8576b\"], [0.6666666666666666, \"#ed7953\"], [0.7777777777777778, \"#fb9f3a\"], [0.8888888888888888, \"#fdca26\"], [1.0, \"#f0f921\"]], \"type\": \"contour\"}], \"contourcarpet\": [{\"colorbar\": {\"outlinewidth\": 0, \"ticks\": \"\"}, \"type\": \"contourcarpet\"}], \"heatmap\": [{\"colorbar\": {\"outlinewidth\": 0, \"ticks\": \"\"}, \"colorscale\": [[0.0, \"#0d0887\"], [0.1111111111111111, \"#46039f\"], [0.2222222222222222, \"#7201a8\"], [0.3333333333333333, \"#9c179e\"], [0.4444444444444444, \"#bd3786\"], [0.5555555555555556, \"#d8576b\"], [0.6666666666666666, \"#ed7953\"], [0.7777777777777778, \"#fb9f3a\"], [0.8888888888888888, \"#fdca26\"], [1.0, \"#f0f921\"]], \"type\": \"heatmap\"}], \"heatmapgl\": [{\"colorbar\": {\"outlinewidth\": 0, \"ticks\": \"\"}, \"colorscale\": [[0.0, \"#0d0887\"], [0.1111111111111111, \"#46039f\"], [0.2222222222222222, \"#7201a8\"], [0.3333333333333333, \"#9c179e\"], [0.4444444444444444, \"#bd3786\"], [0.5555555555555556, \"#d8576b\"], [0.6666666666666666, \"#ed7953\"], [0.7777777777777778, \"#fb9f3a\"], [0.8888888888888888, \"#fdca26\"], [1.0, \"#f0f921\"]], \"type\": \"heatmapgl\"}], \"histogram\": [{\"marker\": {\"colorbar\": {\"outlinewidth\": 0, \"ticks\": \"\"}}, \"type\": \"histogram\"}], \"histogram2d\": [{\"colorbar\": {\"outlinewidth\": 0, \"ticks\": \"\"}, \"colorscale\": [[0.0, \"#0d0887\"], [0.1111111111111111, \"#46039f\"], [0.2222222222222222, \"#7201a8\"], [0.3333333333333333, \"#9c179e\"], [0.4444444444444444, \"#bd3786\"], [0.5555555555555556, \"#d8576b\"], [0.6666666666666666, \"#ed7953\"], [0.7777777777777778, \"#fb9f3a\"], [0.8888888888888888, \"#fdca26\"], [1.0, \"#f0f921\"]], \"type\": \"histogram2d\"}], \"histogram2dcontour\": [{\"colorbar\": {\"outlinewidth\": 0, \"ticks\": \"\"}, \"colorscale\": [[0.0, \"#0d0887\"], [0.1111111111111111, \"#46039f\"], [0.2222222222222222, \"#7201a8\"], [0.3333333333333333, \"#9c179e\"], [0.4444444444444444, \"#bd3786\"], [0.5555555555555556, \"#d8576b\"], [0.6666666666666666, \"#ed7953\"], [0.7777777777777778, \"#fb9f3a\"], [0.8888888888888888, \"#fdca26\"], [1.0, \"#f0f921\"]], \"type\": \"histogram2dcontour\"}], \"mesh3d\": [{\"colorbar\": {\"outlinewidth\": 0, \"ticks\": \"\"}, \"type\": \"mesh3d\"}], \"parcoords\": [{\"line\": {\"colorbar\": {\"outlinewidth\": 0, \"ticks\": \"\"}}, \"type\": \"parcoords\"}], \"pie\": [{\"automargin\": true, \"type\": \"pie\"}], \"scatter\": [{\"marker\": {\"colorbar\": {\"outlinewidth\": 0, \"ticks\": \"\"}}, \"type\": \"scatter\"}], \"scatter3d\": [{\"line\": {\"colorbar\": {\"outlinewidth\": 0, \"ticks\": \"\"}}, \"marker\": {\"colorbar\": {\"outlinewidth\": 0, \"ticks\": \"\"}}, \"type\": \"scatter3d\"}], \"scattercarpet\": [{\"marker\": {\"colorbar\": {\"outlinewidth\": 0, \"ticks\": \"\"}}, \"type\": \"scattercarpet\"}], \"scattergeo\": [{\"marker\": {\"colorbar\": {\"outlinewidth\": 0, \"ticks\": \"\"}}, \"type\": \"scattergeo\"}], \"scattergl\": [{\"marker\": {\"colorbar\": {\"outlinewidth\": 0, \"ticks\": \"\"}}, \"type\": \"scattergl\"}], \"scattermapbox\": [{\"marker\": {\"colorbar\": {\"outlinewidth\": 0, \"ticks\": \"\"}}, \"type\": \"scattermapbox\"}], \"scatterpolar\": [{\"marker\": {\"colorbar\": {\"outlinewidth\": 0, \"ticks\": \"\"}}, \"type\": \"scatterpolar\"}], \"scatterpolargl\": [{\"marker\": {\"colorbar\": {\"outlinewidth\": 0, \"ticks\": \"\"}}, \"type\": \"scatterpolargl\"}], \"scatterternary\": [{\"marker\": {\"colorbar\": {\"outlinewidth\": 0, \"ticks\": \"\"}}, \"type\": \"scatterternary\"}], \"surface\": [{\"colorbar\": {\"outlinewidth\": 0, \"ticks\": \"\"}, \"colorscale\": [[0.0, \"#0d0887\"], [0.1111111111111111, \"#46039f\"], [0.2222222222222222, \"#7201a8\"], [0.3333333333333333, \"#9c179e\"], [0.4444444444444444, \"#bd3786\"], [0.5555555555555556, \"#d8576b\"], [0.6666666666666666, \"#ed7953\"], [0.7777777777777778, \"#fb9f3a\"], [0.8888888888888888, \"#fdca26\"], [1.0, \"#f0f921\"]], \"type\": \"surface\"}], \"table\": [{\"cells\": {\"fill\": {\"color\": \"#EBF0F8\"}, \"line\": {\"color\": \"white\"}}, \"header\": {\"fill\": {\"color\": \"#C8D4E3\"}, \"line\": {\"color\": \"white\"}}, \"type\": \"table\"}]}, \"layout\": {\"annotationdefaults\": {\"arrowcolor\": \"#2a3f5f\", \"arrowhead\": 0, \"arrowwidth\": 1}, \"autotypenumbers\": \"strict\", \"coloraxis\": {\"colorbar\": {\"outlinewidth\": 0, \"ticks\": \"\"}}, \"colorscale\": {\"diverging\": [[0, \"#8e0152\"], [0.1, \"#c51b7d\"], [0.2, \"#de77ae\"], [0.3, \"#f1b6da\"], [0.4, \"#fde0ef\"], [0.5, \"#f7f7f7\"], [0.6, \"#e6f5d0\"], [0.7, \"#b8e186\"], [0.8, \"#7fbc41\"], [0.9, \"#4d9221\"], [1, \"#276419\"]], \"sequential\": [[0.0, \"#0d0887\"], [0.1111111111111111, \"#46039f\"], [0.2222222222222222, \"#7201a8\"], [0.3333333333333333, \"#9c179e\"], [0.4444444444444444, \"#bd3786\"], [0.5555555555555556, \"#d8576b\"], [0.6666666666666666, \"#ed7953\"], [0.7777777777777778, \"#fb9f3a\"], [0.8888888888888888, \"#fdca26\"], [1.0, \"#f0f921\"]], \"sequentialminus\": [[0.0, \"#0d0887\"], [0.1111111111111111, \"#46039f\"], [0.2222222222222222, \"#7201a8\"], [0.3333333333333333, \"#9c179e\"], [0.4444444444444444, \"#bd3786\"], [0.5555555555555556, \"#d8576b\"], [0.6666666666666666, \"#ed7953\"], [0.7777777777777778, \"#fb9f3a\"], [0.8888888888888888, \"#fdca26\"], [1.0, \"#f0f921\"]]}, \"colorway\": [\"#636efa\", \"#EF553B\", \"#00cc96\", \"#ab63fa\", \"#FFA15A\", \"#19d3f3\", \"#FF6692\", \"#B6E880\", \"#FF97FF\", \"#FECB52\"], \"font\": {\"color\": \"#2a3f5f\"}, \"geo\": {\"bgcolor\": \"white\", \"lakecolor\": \"white\", \"landcolor\": \"#E5ECF6\", \"showlakes\": true, \"showland\": true, \"subunitcolor\": \"white\"}, \"hoverlabel\": {\"align\": \"left\"}, \"hovermode\": \"closest\", \"mapbox\": {\"style\": \"light\"}, \"paper_bgcolor\": \"white\", \"plot_bgcolor\": \"#E5ECF6\", \"polar\": {\"angularaxis\": {\"gridcolor\": \"white\", \"linecolor\": \"white\", \"ticks\": \"\"}, \"bgcolor\": \"#E5ECF6\", \"radialaxis\": {\"gridcolor\": \"white\", \"linecolor\": \"white\", \"ticks\": \"\"}}, \"scene\": {\"xaxis\": {\"backgroundcolor\": \"#E5ECF6\", \"gridcolor\": \"white\", \"gridwidth\": 2, \"linecolor\": \"white\", \"showbackground\": true, \"ticks\": \"\", \"zerolinecolor\": \"white\"}, \"yaxis\": {\"backgroundcolor\": \"#E5ECF6\", \"gridcolor\": \"white\", \"gridwidth\": 2, \"linecolor\": \"white\", \"showbackground\": true, \"ticks\": \"\", \"zerolinecolor\": \"white\"}, \"zaxis\": {\"backgroundcolor\": \"#E5ECF6\", \"gridcolor\": \"white\", \"gridwidth\": 2, \"linecolor\": \"white\", \"showbackground\": true, \"ticks\": \"\", \"zerolinecolor\": \"white\"}}, \"shapedefaults\": {\"line\": {\"color\": \"#2a3f5f\"}}, \"ternary\": {\"aaxis\": {\"gridcolor\": \"white\", \"linecolor\": \"white\", \"ticks\": \"\"}, \"baxis\": {\"gridcolor\": \"white\", \"linecolor\": \"white\", \"ticks\": \"\"}, \"bgcolor\": \"#E5ECF6\", \"caxis\": {\"gridcolor\": \"white\", \"linecolor\": \"white\", \"ticks\": \"\"}}, \"title\": {\"x\": 0.05}, \"xaxis\": {\"automargin\": true, \"gridcolor\": \"white\", \"linecolor\": \"white\", \"ticks\": \"\", \"title\": {\"standoff\": 15}, \"zerolinecolor\": \"white\", \"zerolinewidth\": 2}, \"yaxis\": {\"automargin\": true, \"gridcolor\": \"white\", \"linecolor\": \"white\", \"ticks\": \"\", \"title\": {\"standoff\": 15}, \"zerolinecolor\": \"white\", \"zerolinewidth\": 2}}}, \"title\": {\"text\": \"Relationships between Page Views, Network Impressions and Spend variables - Aggregated Daily\"}},                        {\"responsive\": true}                    ).then(function(){\n",
       "                            \n",
       "var gd = document.getElementById('e19a5189-9c06-460f-9ff4-8d0e915d5dcc');\n",
=======
<<<<<<< HEAD
       "<div>                            <div id=\"480e5b41-78ea-48b5-a30f-56b5aecff53a\" class=\"plotly-graph-div\" style=\"height:525px; width:100%;\"></div>            <script type=\"text/javascript\">                require([\"plotly\"], function(Plotly) {                    window.PLOTLYENV=window.PLOTLYENV || {};                                    if (document.getElementById(\"480e5b41-78ea-48b5-a30f-56b5aecff53a\")) {                    Plotly.newPlot(                        \"480e5b41-78ea-48b5-a30f-56b5aecff53a\",                        [{\"dimensions\": [{\"axis\": {\"matches\": true}, \"label\": \"Page Views\", \"values\": [3363]}, {\"axis\": {\"matches\": true}, \"label\": \"NetA_imp\", \"values\": [421]}, {\"axis\": {\"matches\": true}, \"label\": \"NetA_spd\", \"values\": [159]}, {\"axis\": {\"matches\": true}, \"label\": \"NetB_imp\", \"values\": [381]}, {\"axis\": {\"matches\": true}, \"label\": \"NetB_spd\", \"values\": [176]}], \"hovertemplate\": \"Date=2019-07-07<br>%{xaxis.title.text}=%{x}<br>%{yaxis.title.text}=%{y}<extra></extra>\", \"legendgroup\": \"2019-07-07\", \"marker\": {\"color\": \"#636efa\", \"symbol\": \"circle\"}, \"name\": \"2019-07-07\", \"showlegend\": true, \"type\": \"splom\"}, {\"dimensions\": [{\"axis\": {\"matches\": true}, \"label\": \"Page Views\", \"values\": [4160]}, {\"axis\": {\"matches\": true}, \"label\": \"NetA_imp\", \"values\": [392]}, {\"axis\": {\"matches\": true}, \"label\": \"NetA_spd\", \"values\": [1066]}, {\"axis\": {\"matches\": true}, \"label\": \"NetB_imp\", \"values\": [316]}, {\"axis\": {\"matches\": true}, \"label\": \"NetB_spd\", \"values\": [774]}], \"hovertemplate\": \"Date=2019-07-08<br>%{xaxis.title.text}=%{x}<br>%{yaxis.title.text}=%{y}<extra></extra>\", \"legendgroup\": \"2019-07-08\", \"marker\": {\"color\": \"#EF553B\", \"symbol\": \"circle\"}, \"name\": \"2019-07-08\", \"showlegend\": true, \"type\": \"splom\"}, {\"dimensions\": [{\"axis\": {\"matches\": true}, \"label\": \"Page Views\", \"values\": [3619]}, {\"axis\": {\"matches\": true}, \"label\": \"NetA_imp\", \"values\": [756]}, {\"axis\": {\"matches\": true}, \"label\": \"NetA_spd\", \"values\": [877]}, {\"axis\": {\"matches\": true}, \"label\": \"NetB_imp\", \"values\": [671]}, {\"axis\": {\"matches\": true}, \"label\": \"NetB_spd\", \"values\": [5010]}], \"hovertemplate\": \"Date=2019-07-09<br>%{xaxis.title.text}=%{x}<br>%{yaxis.title.text}=%{y}<extra></extra>\", \"legendgroup\": \"2019-07-09\", \"marker\": {\"color\": \"#00cc96\", \"symbol\": \"circle\"}, \"name\": \"2019-07-09\", \"showlegend\": true, \"type\": \"splom\"}, {\"dimensions\": [{\"axis\": {\"matches\": true}, \"label\": \"Page Views\", \"values\": [3474]}, {\"axis\": {\"matches\": true}, \"label\": \"NetA_imp\", \"values\": [128]}, {\"axis\": {\"matches\": true}, \"label\": \"NetA_spd\", \"values\": [130]}, {\"axis\": {\"matches\": true}, \"label\": \"NetB_imp\", \"values\": [401]}, {\"axis\": {\"matches\": true}, \"label\": \"NetB_spd\", \"values\": [492]}], \"hovertemplate\": \"Date=2019-07-10<br>%{xaxis.title.text}=%{x}<br>%{yaxis.title.text}=%{y}<extra></extra>\", \"legendgroup\": \"2019-07-10\", \"marker\": {\"color\": \"#ab63fa\", \"symbol\": \"circle\"}, \"name\": \"2019-07-10\", \"showlegend\": true, \"type\": \"splom\"}, {\"dimensions\": [{\"axis\": {\"matches\": true}, \"label\": \"Page Views\", \"values\": [3547]}, {\"axis\": {\"matches\": true}, \"label\": \"NetA_imp\", \"values\": [154]}, {\"axis\": {\"matches\": true}, \"label\": \"NetA_spd\", \"values\": [1994]}, {\"axis\": {\"matches\": true}, \"label\": \"NetB_imp\", \"values\": [182]}, {\"axis\": {\"matches\": true}, \"label\": \"NetB_spd\", \"values\": [230]}], \"hovertemplate\": \"Date=2019-07-11<br>%{xaxis.title.text}=%{x}<br>%{yaxis.title.text}=%{y}<extra></extra>\", \"legendgroup\": \"2019-07-11\", \"marker\": {\"color\": \"#FFA15A\", \"symbol\": \"circle\"}, \"name\": \"2019-07-11\", \"showlegend\": true, \"type\": \"splom\"}, {\"dimensions\": [{\"axis\": {\"matches\": true}, \"label\": \"Page Views\", \"values\": [3277]}, {\"axis\": {\"matches\": true}, \"label\": \"NetA_imp\", \"values\": [104]}, {\"axis\": {\"matches\": true}, \"label\": \"NetA_spd\", \"values\": [4740]}, {\"axis\": {\"matches\": true}, \"label\": \"NetB_imp\", \"values\": [365]}, {\"axis\": {\"matches\": true}, \"label\": \"NetB_spd\", \"values\": [1408]}], \"hovertemplate\": \"Date=2019-07-12<br>%{xaxis.title.text}=%{x}<br>%{yaxis.title.text}=%{y}<extra></extra>\", \"legendgroup\": \"2019-07-12\", \"marker\": {\"color\": \"#19d3f3\", \"symbol\": \"circle\"}, \"name\": \"2019-07-12\", \"showlegend\": true, \"type\": \"splom\"}, {\"dimensions\": [{\"axis\": {\"matches\": true}, \"label\": \"Page Views\", \"values\": [3332]}, {\"axis\": {\"matches\": true}, \"label\": \"NetA_imp\", \"values\": [65]}, {\"axis\": {\"matches\": true}, \"label\": \"NetA_spd\", \"values\": [993]}, {\"axis\": {\"matches\": true}, \"label\": \"NetB_imp\", \"values\": [450]}, {\"axis\": {\"matches\": true}, \"label\": \"NetB_spd\", \"values\": [1841]}], \"hovertemplate\": \"Date=2019-07-13<br>%{xaxis.title.text}=%{x}<br>%{yaxis.title.text}=%{y}<extra></extra>\", \"legendgroup\": \"2019-07-13\", \"marker\": {\"color\": \"#FF6692\", \"symbol\": \"circle\"}, \"name\": \"2019-07-13\", \"showlegend\": true, \"type\": \"splom\"}, {\"dimensions\": [{\"axis\": {\"matches\": true}, \"label\": \"Page Views\", \"values\": [3858]}, {\"axis\": {\"matches\": true}, \"label\": \"NetA_imp\", \"values\": [155]}, {\"axis\": {\"matches\": true}, \"label\": \"NetA_spd\", \"values\": [938]}, {\"axis\": {\"matches\": true}, \"label\": \"NetB_imp\", \"values\": [35]}, {\"axis\": {\"matches\": true}, \"label\": \"NetB_spd\", \"values\": [878]}], \"hovertemplate\": \"Date=2019-07-14<br>%{xaxis.title.text}=%{x}<br>%{yaxis.title.text}=%{y}<extra></extra>\", \"legendgroup\": \"2019-07-14\", \"marker\": {\"color\": \"#B6E880\", \"symbol\": \"circle\"}, \"name\": \"2019-07-14\", \"showlegend\": true, \"type\": \"splom\"}, {\"dimensions\": [{\"axis\": {\"matches\": true}, \"label\": \"Page Views\", \"values\": [4918]}, {\"axis\": {\"matches\": true}, \"label\": \"NetA_imp\", \"values\": [108]}, {\"axis\": {\"matches\": true}, \"label\": \"NetA_spd\", \"values\": [1777]}, {\"axis\": {\"matches\": true}, \"label\": \"NetB_imp\", \"values\": [63]}, {\"axis\": {\"matches\": true}, \"label\": \"NetB_spd\", \"values\": [2431]}], \"hovertemplate\": \"Date=2019-07-15<br>%{xaxis.title.text}=%{x}<br>%{yaxis.title.text}=%{y}<extra></extra>\", \"legendgroup\": \"2019-07-15\", \"marker\": {\"color\": \"#FF97FF\", \"symbol\": \"circle\"}, \"name\": \"2019-07-15\", \"showlegend\": true, \"type\": \"splom\"}, {\"dimensions\": [{\"axis\": {\"matches\": true}, \"label\": \"Page Views\", \"values\": [3939]}, {\"axis\": {\"matches\": true}, \"label\": \"NetA_imp\", \"values\": [117]}, {\"axis\": {\"matches\": true}, \"label\": \"NetA_spd\", \"values\": [974]}, {\"axis\": {\"matches\": true}, \"label\": \"NetB_imp\", \"values\": [2]}, {\"axis\": {\"matches\": true}, \"label\": \"NetB_spd\", \"values\": [73]}], \"hovertemplate\": \"Date=2019-07-16<br>%{xaxis.title.text}=%{x}<br>%{yaxis.title.text}=%{y}<extra></extra>\", \"legendgroup\": \"2019-07-16\", \"marker\": {\"color\": \"#FECB52\", \"symbol\": \"circle\"}, \"name\": \"2019-07-16\", \"showlegend\": true, \"type\": \"splom\"}, {\"dimensions\": [{\"axis\": {\"matches\": true}, \"label\": \"Page Views\", \"values\": [3763]}, {\"axis\": {\"matches\": true}, \"label\": \"NetA_imp\", \"values\": [185]}, {\"axis\": {\"matches\": true}, \"label\": \"NetA_spd\", \"values\": [4935]}, {\"axis\": {\"matches\": true}, \"label\": \"NetB_imp\", \"values\": [54]}, {\"axis\": {\"matches\": true}, \"label\": \"NetB_spd\", \"values\": [911]}], \"hovertemplate\": \"Date=2019-07-17<br>%{xaxis.title.text}=%{x}<br>%{yaxis.title.text}=%{y}<extra></extra>\", \"legendgroup\": \"2019-07-17\", \"marker\": {\"color\": \"#636efa\", \"symbol\": \"circle\"}, \"name\": \"2019-07-17\", \"showlegend\": true, \"type\": \"splom\"}, {\"dimensions\": [{\"axis\": {\"matches\": true}, \"label\": \"Page Views\", \"values\": [3691]}, {\"axis\": {\"matches\": true}, \"label\": \"NetA_imp\", \"values\": [212]}, {\"axis\": {\"matches\": true}, \"label\": \"NetA_spd\", \"values\": [2697]}, {\"axis\": {\"matches\": true}, \"label\": \"NetB_imp\", \"values\": [38]}, {\"axis\": {\"matches\": true}, \"label\": \"NetB_spd\", \"values\": [852]}], \"hovertemplate\": \"Date=2019-07-18<br>%{xaxis.title.text}=%{x}<br>%{yaxis.title.text}=%{y}<extra></extra>\", \"legendgroup\": \"2019-07-18\", \"marker\": {\"color\": \"#EF553B\", \"symbol\": \"circle\"}, \"name\": \"2019-07-18\", \"showlegend\": true, \"type\": \"splom\"}, {\"dimensions\": [{\"axis\": {\"matches\": true}, \"label\": \"Page Views\", \"values\": [3538]}, {\"axis\": {\"matches\": true}, \"label\": \"NetA_imp\", \"values\": [64]}, {\"axis\": {\"matches\": true}, \"label\": \"NetA_spd\", \"values\": [0]}, {\"axis\": {\"matches\": true}, \"label\": \"NetB_imp\", \"values\": [50]}, {\"axis\": {\"matches\": true}, \"label\": \"NetB_spd\", \"values\": [1845]}], \"hovertemplate\": \"Date=2019-07-19<br>%{xaxis.title.text}=%{x}<br>%{yaxis.title.text}=%{y}<extra></extra>\", \"legendgroup\": \"2019-07-19\", \"marker\": {\"color\": \"#00cc96\", \"symbol\": \"circle\"}, \"name\": \"2019-07-19\", \"showlegend\": true, \"type\": \"splom\"}, {\"dimensions\": [{\"axis\": {\"matches\": true}, \"label\": \"Page Views\", \"values\": [3430]}, {\"axis\": {\"matches\": true}, \"label\": \"NetA_imp\", \"values\": [155]}, {\"axis\": {\"matches\": true}, \"label\": \"NetA_spd\", \"values\": [210]}, {\"axis\": {\"matches\": true}, \"label\": \"NetB_imp\", \"values\": [54]}, {\"axis\": {\"matches\": true}, \"label\": \"NetB_spd\", \"values\": [1615]}], \"hovertemplate\": \"Date=2019-07-20<br>%{xaxis.title.text}=%{x}<br>%{yaxis.title.text}=%{y}<extra></extra>\", \"legendgroup\": \"2019-07-20\", \"marker\": {\"color\": \"#ab63fa\", \"symbol\": \"circle\"}, \"name\": \"2019-07-20\", \"showlegend\": true, \"type\": \"splom\"}, {\"dimensions\": [{\"axis\": {\"matches\": true}, \"label\": \"Page Views\", \"values\": [3841]}, {\"axis\": {\"matches\": true}, \"label\": \"NetA_imp\", \"values\": [62]}, {\"axis\": {\"matches\": true}, \"label\": \"NetA_spd\", \"values\": [827]}, {\"axis\": {\"matches\": true}, \"label\": \"NetB_imp\", \"values\": [103]}, {\"axis\": {\"matches\": true}, \"label\": \"NetB_spd\", \"values\": [3341]}], \"hovertemplate\": \"Date=2019-07-21<br>%{xaxis.title.text}=%{x}<br>%{yaxis.title.text}=%{y}<extra></extra>\", \"legendgroup\": \"2019-07-21\", \"marker\": {\"color\": \"#FFA15A\", \"symbol\": \"circle\"}, \"name\": \"2019-07-21\", \"showlegend\": true, \"type\": \"splom\"}, {\"dimensions\": [{\"axis\": {\"matches\": true}, \"label\": \"Page Views\", \"values\": [4199]}, {\"axis\": {\"matches\": true}, \"label\": \"NetA_imp\", \"values\": [118]}, {\"axis\": {\"matches\": true}, \"label\": \"NetA_spd\", \"values\": [4927]}, {\"axis\": {\"matches\": true}, \"label\": \"NetB_imp\", \"values\": [94]}, {\"axis\": {\"matches\": true}, \"label\": \"NetB_spd\", \"values\": [3398]}], \"hovertemplate\": \"Date=2019-07-22<br>%{xaxis.title.text}=%{x}<br>%{yaxis.title.text}=%{y}<extra></extra>\", \"legendgroup\": \"2019-07-22\", \"marker\": {\"color\": \"#19d3f3\", \"symbol\": \"circle\"}, \"name\": \"2019-07-22\", \"showlegend\": true, \"type\": \"splom\"}, {\"dimensions\": [{\"axis\": {\"matches\": true}, \"label\": \"Page Views\", \"values\": [3770]}, {\"axis\": {\"matches\": true}, \"label\": \"NetA_imp\", \"values\": [23]}, {\"axis\": {\"matches\": true}, \"label\": \"NetA_spd\", \"values\": [426]}, {\"axis\": {\"matches\": true}, \"label\": \"NetB_imp\", \"values\": [73]}, {\"axis\": {\"matches\": true}, \"label\": \"NetB_spd\", \"values\": [2768]}], \"hovertemplate\": \"Date=2019-07-23<br>%{xaxis.title.text}=%{x}<br>%{yaxis.title.text}=%{y}<extra></extra>\", \"legendgroup\": \"2019-07-23\", \"marker\": {\"color\": \"#FF6692\", \"symbol\": \"circle\"}, \"name\": \"2019-07-23\", \"showlegend\": true, \"type\": \"splom\"}, {\"dimensions\": [{\"axis\": {\"matches\": true}, \"label\": \"Page Views\", \"values\": [3458]}, {\"axis\": {\"matches\": true}, \"label\": \"NetA_imp\", \"values\": [62]}, {\"axis\": {\"matches\": true}, \"label\": \"NetA_spd\", \"values\": [3037]}, {\"axis\": {\"matches\": true}, \"label\": \"NetB_imp\", \"values\": [100]}, {\"axis\": {\"matches\": true}, \"label\": \"NetB_spd\", \"values\": [2825]}], \"hovertemplate\": \"Date=2019-07-24<br>%{xaxis.title.text}=%{x}<br>%{yaxis.title.text}=%{y}<extra></extra>\", \"legendgroup\": \"2019-07-24\", \"marker\": {\"color\": \"#B6E880\", \"symbol\": \"circle\"}, \"name\": \"2019-07-24\", \"showlegend\": true, \"type\": \"splom\"}, {\"dimensions\": [{\"axis\": {\"matches\": true}, \"label\": \"Page Views\", \"values\": [3631]}, {\"axis\": {\"matches\": true}, \"label\": \"NetA_imp\", \"values\": [26]}, {\"axis\": {\"matches\": true}, \"label\": \"NetA_spd\", \"values\": [939]}, {\"axis\": {\"matches\": true}, \"label\": \"NetB_imp\", \"values\": [20]}, {\"axis\": {\"matches\": true}, \"label\": \"NetB_spd\", \"values\": [362]}], \"hovertemplate\": \"Date=2019-07-25<br>%{xaxis.title.text}=%{x}<br>%{yaxis.title.text}=%{y}<extra></extra>\", \"legendgroup\": \"2019-07-25\", \"marker\": {\"color\": \"#FF97FF\", \"symbol\": \"circle\"}, \"name\": \"2019-07-25\", \"showlegend\": true, \"type\": \"splom\"}, {\"dimensions\": [{\"axis\": {\"matches\": true}, \"label\": \"Page Views\", \"values\": [3367]}, {\"axis\": {\"matches\": true}, \"label\": \"NetA_imp\", \"values\": [31]}, {\"axis\": {\"matches\": true}, \"label\": \"NetA_spd\", \"values\": [530]}, {\"axis\": {\"matches\": true}, \"label\": \"NetB_imp\", \"values\": [80]}, {\"axis\": {\"matches\": true}, \"label\": \"NetB_spd\", \"values\": [3123]}], \"hovertemplate\": \"Date=2019-07-26<br>%{xaxis.title.text}=%{x}<br>%{yaxis.title.text}=%{y}<extra></extra>\", \"legendgroup\": \"2019-07-26\", \"marker\": {\"color\": \"#FECB52\", \"symbol\": \"circle\"}, \"name\": \"2019-07-26\", \"showlegend\": true, \"type\": \"splom\"}, {\"dimensions\": [{\"axis\": {\"matches\": true}, \"label\": \"Page Views\", \"values\": [3410]}, {\"axis\": {\"matches\": true}, \"label\": \"NetA_imp\", \"values\": [49]}, {\"axis\": {\"matches\": true}, \"label\": \"NetA_spd\", \"values\": [567]}, {\"axis\": {\"matches\": true}, \"label\": \"NetB_imp\", \"values\": [47]}, {\"axis\": {\"matches\": true}, \"label\": \"NetB_spd\", \"values\": [993]}], \"hovertemplate\": \"Date=2019-07-27<br>%{xaxis.title.text}=%{x}<br>%{yaxis.title.text}=%{y}<extra></extra>\", \"legendgroup\": \"2019-07-27\", \"marker\": {\"color\": \"#636efa\", \"symbol\": \"circle\"}, \"name\": \"2019-07-27\", \"showlegend\": true, \"type\": \"splom\"}, {\"dimensions\": [{\"axis\": {\"matches\": true}, \"label\": \"Page Views\", \"values\": [3646]}, {\"axis\": {\"matches\": true}, \"label\": \"NetA_imp\", \"values\": [67]}, {\"axis\": {\"matches\": true}, \"label\": \"NetA_spd\", \"values\": [3455]}, {\"axis\": {\"matches\": true}, \"label\": \"NetB_imp\", \"values\": [63]}, {\"axis\": {\"matches\": true}, \"label\": \"NetB_spd\", \"values\": [3291]}], \"hovertemplate\": \"Date=2019-07-28<br>%{xaxis.title.text}=%{x}<br>%{yaxis.title.text}=%{y}<extra></extra>\", \"legendgroup\": \"2019-07-28\", \"marker\": {\"color\": \"#EF553B\", \"symbol\": \"circle\"}, \"name\": \"2019-07-28\", \"showlegend\": true, \"type\": \"splom\"}, {\"dimensions\": [{\"axis\": {\"matches\": true}, \"label\": \"Page Views\", \"values\": [3475]}, {\"axis\": {\"matches\": true}, \"label\": \"NetA_imp\", \"values\": [110]}, {\"axis\": {\"matches\": true}, \"label\": \"NetA_spd\", \"values\": [5890]}, {\"axis\": {\"matches\": true}, \"label\": \"NetB_imp\", \"values\": [80]}, {\"axis\": {\"matches\": true}, \"label\": \"NetB_spd\", \"values\": [3622]}], \"hovertemplate\": \"Date=2019-07-29<br>%{xaxis.title.text}=%{x}<br>%{yaxis.title.text}=%{y}<extra></extra>\", \"legendgroup\": \"2019-07-29\", \"marker\": {\"color\": \"#00cc96\", \"symbol\": \"circle\"}, \"name\": \"2019-07-29\", \"showlegend\": true, \"type\": \"splom\"}, {\"dimensions\": [{\"axis\": {\"matches\": true}, \"label\": \"Page Views\", \"values\": [3087]}, {\"axis\": {\"matches\": true}, \"label\": \"NetA_imp\", \"values\": [21]}, {\"axis\": {\"matches\": true}, \"label\": \"NetA_spd\", \"values\": [678]}, {\"axis\": {\"matches\": true}, \"label\": \"NetB_imp\", \"values\": [81]}, {\"axis\": {\"matches\": true}, \"label\": \"NetB_spd\", \"values\": [3903]}], \"hovertemplate\": \"Date=2019-07-30<br>%{xaxis.title.text}=%{x}<br>%{yaxis.title.text}=%{y}<extra></extra>\", \"legendgroup\": \"2019-07-30\", \"marker\": {\"color\": \"#ab63fa\", \"symbol\": \"circle\"}, \"name\": \"2019-07-30\", \"showlegend\": true, \"type\": \"splom\"}, {\"dimensions\": [{\"axis\": {\"matches\": true}, \"label\": \"Page Views\", \"values\": [2754]}, {\"axis\": {\"matches\": true}, \"label\": \"NetA_imp\", \"values\": [30]}, {\"axis\": {\"matches\": true}, \"label\": \"NetA_spd\", \"values\": [1264]}, {\"axis\": {\"matches\": true}, \"label\": \"NetB_imp\", \"values\": [47]}, {\"axis\": {\"matches\": true}, \"label\": \"NetB_spd\", \"values\": [1638]}], \"hovertemplate\": \"Date=2019-07-31<br>%{xaxis.title.text}=%{x}<br>%{yaxis.title.text}=%{y}<extra></extra>\", \"legendgroup\": \"2019-07-31\", \"marker\": {\"color\": \"#FFA15A\", \"symbol\": \"circle\"}, \"name\": \"2019-07-31\", \"showlegend\": true, \"type\": \"splom\"}, {\"dimensions\": [{\"axis\": {\"matches\": true}, \"label\": \"Page Views\", \"values\": [2783]}, {\"axis\": {\"matches\": true}, \"label\": \"NetA_imp\", \"values\": [2]}, {\"axis\": {\"matches\": true}, \"label\": \"NetA_spd\", \"values\": [137]}, {\"axis\": {\"matches\": true}, \"label\": \"NetB_imp\", \"values\": [33]}, {\"axis\": {\"matches\": true}, \"label\": \"NetB_spd\", \"values\": [913]}], \"hovertemplate\": \"Date=2019-08-01<br>%{xaxis.title.text}=%{x}<br>%{yaxis.title.text}=%{y}<extra></extra>\", \"legendgroup\": \"2019-08-01\", \"marker\": {\"color\": \"#19d3f3\", \"symbol\": \"circle\"}, \"name\": \"2019-08-01\", \"showlegend\": true, \"type\": \"splom\"}, {\"dimensions\": [{\"axis\": {\"matches\": true}, \"label\": \"Page Views\", \"values\": [2658]}, {\"axis\": {\"matches\": true}, \"label\": \"NetA_imp\", \"values\": [40]}, {\"axis\": {\"matches\": true}, \"label\": \"NetA_spd\", \"values\": [823]}, {\"axis\": {\"matches\": true}, \"label\": \"NetB_imp\", \"values\": [0]}, {\"axis\": {\"matches\": true}, \"label\": \"NetB_spd\", \"values\": [0]}], \"hovertemplate\": \"Date=2019-08-02<br>%{xaxis.title.text}=%{x}<br>%{yaxis.title.text}=%{y}<extra></extra>\", \"legendgroup\": \"2019-08-02\", \"marker\": {\"color\": \"#FF6692\", \"symbol\": \"circle\"}, \"name\": \"2019-08-02\", \"showlegend\": true, \"type\": \"splom\"}, {\"dimensions\": [{\"axis\": {\"matches\": true}, \"label\": \"Page Views\", \"values\": [2748]}, {\"axis\": {\"matches\": true}, \"label\": \"NetA_imp\", \"values\": [21]}, {\"axis\": {\"matches\": true}, \"label\": \"NetA_spd\", \"values\": [405]}, {\"axis\": {\"matches\": true}, \"label\": \"NetB_imp\", \"values\": [42]}, {\"axis\": {\"matches\": true}, \"label\": \"NetB_spd\", \"values\": [1170]}], \"hovertemplate\": \"Date=2019-08-03<br>%{xaxis.title.text}=%{x}<br>%{yaxis.title.text}=%{y}<extra></extra>\", \"legendgroup\": \"2019-08-03\", \"marker\": {\"color\": \"#B6E880\", \"symbol\": \"circle\"}, \"name\": \"2019-08-03\", \"showlegend\": true, \"type\": \"splom\"}, {\"dimensions\": [{\"axis\": {\"matches\": true}, \"label\": \"Page Views\", \"values\": [3000]}, {\"axis\": {\"matches\": true}, \"label\": \"NetA_imp\", \"values\": [83]}, {\"axis\": {\"matches\": true}, \"label\": \"NetA_spd\", \"values\": [2134]}, {\"axis\": {\"matches\": true}, \"label\": \"NetB_imp\", \"values\": [56]}, {\"axis\": {\"matches\": true}, \"label\": \"NetB_spd\", \"values\": [2018]}], \"hovertemplate\": \"Date=2019-08-04<br>%{xaxis.title.text}=%{x}<br>%{yaxis.title.text}=%{y}<extra></extra>\", \"legendgroup\": \"2019-08-04\", \"marker\": {\"color\": \"#FF97FF\", \"symbol\": \"circle\"}, \"name\": \"2019-08-04\", \"showlegend\": true, \"type\": \"splom\"}, {\"dimensions\": [{\"axis\": {\"matches\": true}, \"label\": \"Page Views\", \"values\": [3256]}, {\"axis\": {\"matches\": true}, \"label\": \"NetA_imp\", \"values\": [146]}, {\"axis\": {\"matches\": true}, \"label\": \"NetA_spd\", \"values\": [4025]}, {\"axis\": {\"matches\": true}, \"label\": \"NetB_imp\", \"values\": [218]}, {\"axis\": {\"matches\": true}, \"label\": \"NetB_spd\", \"values\": [7783]}], \"hovertemplate\": \"Date=2019-08-05<br>%{xaxis.title.text}=%{x}<br>%{yaxis.title.text}=%{y}<extra></extra>\", \"legendgroup\": \"2019-08-05\", \"marker\": {\"color\": \"#FECB52\", \"symbol\": \"circle\"}, \"name\": \"2019-08-05\", \"showlegend\": true, \"type\": \"splom\"}, {\"dimensions\": [{\"axis\": {\"matches\": true}, \"label\": \"Page Views\", \"values\": [2865]}, {\"axis\": {\"matches\": true}, \"label\": \"NetA_imp\", \"values\": [51]}, {\"axis\": {\"matches\": true}, \"label\": \"NetA_spd\", \"values\": [1363]}, {\"axis\": {\"matches\": true}, \"label\": \"NetB_imp\", \"values\": [170]}, {\"axis\": {\"matches\": true}, \"label\": \"NetB_spd\", \"values\": [5257]}], \"hovertemplate\": \"Date=2019-08-06<br>%{xaxis.title.text}=%{x}<br>%{yaxis.title.text}=%{y}<extra></extra>\", \"legendgroup\": \"2019-08-06\", \"marker\": {\"color\": \"#636efa\", \"symbol\": \"circle\"}, \"name\": \"2019-08-06\", \"showlegend\": true, \"type\": \"splom\"}, {\"dimensions\": [{\"axis\": {\"matches\": true}, \"label\": \"Page Views\", \"values\": [2693]}, {\"axis\": {\"matches\": true}, \"label\": \"NetA_imp\", \"values\": [84]}, {\"axis\": {\"matches\": true}, \"label\": \"NetA_spd\", \"values\": [2316]}, {\"axis\": {\"matches\": true}, \"label\": \"NetB_imp\", \"values\": [129]}, {\"axis\": {\"matches\": true}, \"label\": \"NetB_spd\", \"values\": [5960]}], \"hovertemplate\": \"Date=2019-08-07<br>%{xaxis.title.text}=%{x}<br>%{yaxis.title.text}=%{y}<extra></extra>\", \"legendgroup\": \"2019-08-07\", \"marker\": {\"color\": \"#EF553B\", \"symbol\": \"circle\"}, \"name\": \"2019-08-07\", \"showlegend\": true, \"type\": \"splom\"}, {\"dimensions\": [{\"axis\": {\"matches\": true}, \"label\": \"Page Views\", \"values\": [2629]}, {\"axis\": {\"matches\": true}, \"label\": \"NetA_imp\", \"values\": [193]}, {\"axis\": {\"matches\": true}, \"label\": \"NetA_spd\", \"values\": [10376]}, {\"axis\": {\"matches\": true}, \"label\": \"NetB_imp\", \"values\": [117]}, {\"axis\": {\"matches\": true}, \"label\": \"NetB_spd\", \"values\": [2744]}], \"hovertemplate\": \"Date=2019-08-08<br>%{xaxis.title.text}=%{x}<br>%{yaxis.title.text}=%{y}<extra></extra>\", \"legendgroup\": \"2019-08-08\", \"marker\": {\"color\": \"#00cc96\", \"symbol\": \"circle\"}, \"name\": \"2019-08-08\", \"showlegend\": true, \"type\": \"splom\"}, {\"dimensions\": [{\"axis\": {\"matches\": true}, \"label\": \"Page Views\", \"values\": [2922]}, {\"axis\": {\"matches\": true}, \"label\": \"NetA_imp\", \"values\": [49]}, {\"axis\": {\"matches\": true}, \"label\": \"NetA_spd\", \"values\": [1215]}, {\"axis\": {\"matches\": true}, \"label\": \"NetB_imp\", \"values\": [134]}, {\"axis\": {\"matches\": true}, \"label\": \"NetB_spd\", \"values\": [3807]}], \"hovertemplate\": \"Date=2019-08-09<br>%{xaxis.title.text}=%{x}<br>%{yaxis.title.text}=%{y}<extra></extra>\", \"legendgroup\": \"2019-08-09\", \"marker\": {\"color\": \"#ab63fa\", \"symbol\": \"circle\"}, \"name\": \"2019-08-09\", \"showlegend\": true, \"type\": \"splom\"}, {\"dimensions\": [{\"axis\": {\"matches\": true}, \"label\": \"Page Views\", \"values\": [2873]}, {\"axis\": {\"matches\": true}, \"label\": \"NetA_imp\", \"values\": [78]}, {\"axis\": {\"matches\": true}, \"label\": \"NetA_spd\", \"values\": [1578]}, {\"axis\": {\"matches\": true}, \"label\": \"NetB_imp\", \"values\": [90]}, {\"axis\": {\"matches\": true}, \"label\": \"NetB_spd\", \"values\": [1345]}], \"hovertemplate\": \"Date=2019-08-10<br>%{xaxis.title.text}=%{x}<br>%{yaxis.title.text}=%{y}<extra></extra>\", \"legendgroup\": \"2019-08-10\", \"marker\": {\"color\": \"#FFA15A\", \"symbol\": \"circle\"}, \"name\": \"2019-08-10\", \"showlegend\": true, \"type\": \"splom\"}, {\"dimensions\": [{\"axis\": {\"matches\": true}, \"label\": \"Page Views\", \"values\": [3057]}, {\"axis\": {\"matches\": true}, \"label\": \"NetA_imp\", \"values\": [158]}, {\"axis\": {\"matches\": true}, \"label\": \"NetA_spd\", \"values\": [6856]}, {\"axis\": {\"matches\": true}, \"label\": \"NetB_imp\", \"values\": [44]}, {\"axis\": {\"matches\": true}, \"label\": \"NetB_spd\", \"values\": [1081]}], \"hovertemplate\": \"Date=2019-08-11<br>%{xaxis.title.text}=%{x}<br>%{yaxis.title.text}=%{y}<extra></extra>\", \"legendgroup\": \"2019-08-11\", \"marker\": {\"color\": \"#19d3f3\", \"symbol\": \"circle\"}, \"name\": \"2019-08-11\", \"showlegend\": true, \"type\": \"splom\"}, {\"dimensions\": [{\"axis\": {\"matches\": true}, \"label\": \"Page Views\", \"values\": [3357]}, {\"axis\": {\"matches\": true}, \"label\": \"NetA_imp\", \"values\": [196]}, {\"axis\": {\"matches\": true}, \"label\": \"NetA_spd\", \"values\": [4946]}, {\"axis\": {\"matches\": true}, \"label\": \"NetB_imp\", \"values\": [130]}, {\"axis\": {\"matches\": true}, \"label\": \"NetB_spd\", \"values\": [3585]}], \"hovertemplate\": \"Date=2019-08-12<br>%{xaxis.title.text}=%{x}<br>%{yaxis.title.text}=%{y}<extra></extra>\", \"legendgroup\": \"2019-08-12\", \"marker\": {\"color\": \"#FF6692\", \"symbol\": \"circle\"}, \"name\": \"2019-08-12\", \"showlegend\": true, \"type\": \"splom\"}, {\"dimensions\": [{\"axis\": {\"matches\": true}, \"label\": \"Page Views\", \"values\": [3013]}, {\"axis\": {\"matches\": true}, \"label\": \"NetA_imp\", \"values\": [94]}, {\"axis\": {\"matches\": true}, \"label\": \"NetA_spd\", \"values\": [3042]}, {\"axis\": {\"matches\": true}, \"label\": \"NetB_imp\", \"values\": [187]}, {\"axis\": {\"matches\": true}, \"label\": \"NetB_spd\", \"values\": [5702]}], \"hovertemplate\": \"Date=2019-08-13<br>%{xaxis.title.text}=%{x}<br>%{yaxis.title.text}=%{y}<extra></extra>\", \"legendgroup\": \"2019-08-13\", \"marker\": {\"color\": \"#B6E880\", \"symbol\": \"circle\"}, \"name\": \"2019-08-13\", \"showlegend\": true, \"type\": \"splom\"}, {\"dimensions\": [{\"axis\": {\"matches\": true}, \"label\": \"Page Views\", \"values\": [3542]}, {\"axis\": {\"matches\": true}, \"label\": \"NetA_imp\", \"values\": [72]}, {\"axis\": {\"matches\": true}, \"label\": \"NetA_spd\", \"values\": [1472]}, {\"axis\": {\"matches\": true}, \"label\": \"NetB_imp\", \"values\": [178]}, {\"axis\": {\"matches\": true}, \"label\": \"NetB_spd\", \"values\": [5270]}], \"hovertemplate\": \"Date=2019-08-14<br>%{xaxis.title.text}=%{x}<br>%{yaxis.title.text}=%{y}<extra></extra>\", \"legendgroup\": \"2019-08-14\", \"marker\": {\"color\": \"#FF97FF\", \"symbol\": \"circle\"}, \"name\": \"2019-08-14\", \"showlegend\": true, \"type\": \"splom\"}, {\"dimensions\": [{\"axis\": {\"matches\": true}, \"label\": \"Page Views\", \"values\": [3093]}, {\"axis\": {\"matches\": true}, \"label\": \"NetA_imp\", \"values\": [208]}, {\"axis\": {\"matches\": true}, \"label\": \"NetA_spd\", \"values\": [8595]}, {\"axis\": {\"matches\": true}, \"label\": \"NetB_imp\", \"values\": [111]}, {\"axis\": {\"matches\": true}, \"label\": \"NetB_spd\", \"values\": [2740]}], \"hovertemplate\": \"Date=2019-08-15<br>%{xaxis.title.text}=%{x}<br>%{yaxis.title.text}=%{y}<extra></extra>\", \"legendgroup\": \"2019-08-15\", \"marker\": {\"color\": \"#FECB52\", \"symbol\": \"circle\"}, \"name\": \"2019-08-15\", \"showlegend\": true, \"type\": \"splom\"}, {\"dimensions\": [{\"axis\": {\"matches\": true}, \"label\": \"Page Views\", \"values\": [2714]}, {\"axis\": {\"matches\": true}, \"label\": \"NetA_imp\", \"values\": [24]}, {\"axis\": {\"matches\": true}, \"label\": \"NetA_spd\", \"values\": [607]}, {\"axis\": {\"matches\": true}, \"label\": \"NetB_imp\", \"values\": [110]}, {\"axis\": {\"matches\": true}, \"label\": \"NetB_spd\", \"values\": [4937]}], \"hovertemplate\": \"Date=2019-08-16<br>%{xaxis.title.text}=%{x}<br>%{yaxis.title.text}=%{y}<extra></extra>\", \"legendgroup\": \"2019-08-16\", \"marker\": {\"color\": \"#636efa\", \"symbol\": \"circle\"}, \"name\": \"2019-08-16\", \"showlegend\": true, \"type\": \"splom\"}, {\"dimensions\": [{\"axis\": {\"matches\": true}, \"label\": \"Page Views\", \"values\": [2809]}, {\"axis\": {\"matches\": true}, \"label\": \"NetA_imp\", \"values\": [52]}, {\"axis\": {\"matches\": true}, \"label\": \"NetA_spd\", \"values\": [465]}, {\"axis\": {\"matches\": true}, \"label\": \"NetB_imp\", \"values\": [123]}, {\"axis\": {\"matches\": true}, \"label\": \"NetB_spd\", \"values\": [3524]}], \"hovertemplate\": \"Date=2019-08-17<br>%{xaxis.title.text}=%{x}<br>%{yaxis.title.text}=%{y}<extra></extra>\", \"legendgroup\": \"2019-08-17\", \"marker\": {\"color\": \"#EF553B\", \"symbol\": \"circle\"}, \"name\": \"2019-08-17\", \"showlegend\": true, \"type\": \"splom\"}, {\"dimensions\": [{\"axis\": {\"matches\": true}, \"label\": \"Page Views\", \"values\": [3113]}, {\"axis\": {\"matches\": true}, \"label\": \"NetA_imp\", \"values\": [185]}, {\"axis\": {\"matches\": true}, \"label\": \"NetA_spd\", \"values\": [6226]}, {\"axis\": {\"matches\": true}, \"label\": \"NetB_imp\", \"values\": [156]}, {\"axis\": {\"matches\": true}, \"label\": \"NetB_spd\", \"values\": [6690]}], \"hovertemplate\": \"Date=2019-08-18<br>%{xaxis.title.text}=%{x}<br>%{yaxis.title.text}=%{y}<extra></extra>\", \"legendgroup\": \"2019-08-18\", \"marker\": {\"color\": \"#00cc96\", \"symbol\": \"circle\"}, \"name\": \"2019-08-18\", \"showlegend\": true, \"type\": \"splom\"}, {\"dimensions\": [{\"axis\": {\"matches\": true}, \"label\": \"Page Views\", \"values\": [3486]}, {\"axis\": {\"matches\": true}, \"label\": \"NetA_imp\", \"values\": [154]}, {\"axis\": {\"matches\": true}, \"label\": \"NetA_spd\", \"values\": [6174]}, {\"axis\": {\"matches\": true}, \"label\": \"NetB_imp\", \"values\": [103]}, {\"axis\": {\"matches\": true}, \"label\": \"NetB_spd\", \"values\": [3473]}], \"hovertemplate\": \"Date=2019-08-19<br>%{xaxis.title.text}=%{x}<br>%{yaxis.title.text}=%{y}<extra></extra>\", \"legendgroup\": \"2019-08-19\", \"marker\": {\"color\": \"#ab63fa\", \"symbol\": \"circle\"}, \"name\": \"2019-08-19\", \"showlegend\": true, \"type\": \"splom\"}, {\"dimensions\": [{\"axis\": {\"matches\": true}, \"label\": \"Page Views\", \"values\": [3425]}, {\"axis\": {\"matches\": true}, \"label\": \"NetA_imp\", \"values\": [71]}, {\"axis\": {\"matches\": true}, \"label\": \"NetA_spd\", \"values\": [2144]}, {\"axis\": {\"matches\": true}, \"label\": \"NetB_imp\", \"values\": [134]}, {\"axis\": {\"matches\": true}, \"label\": \"NetB_spd\", \"values\": [6624]}], \"hovertemplate\": \"Date=2019-08-20<br>%{xaxis.title.text}=%{x}<br>%{yaxis.title.text}=%{y}<extra></extra>\", \"legendgroup\": \"2019-08-20\", \"marker\": {\"color\": \"#FFA15A\", \"symbol\": \"circle\"}, \"name\": \"2019-08-20\", \"showlegend\": true, \"type\": \"splom\"}, {\"dimensions\": [{\"axis\": {\"matches\": true}, \"label\": \"Page Views\", \"values\": [4066]}, {\"axis\": {\"matches\": true}, \"label\": \"NetA_imp\", \"values\": [70]}, {\"axis\": {\"matches\": true}, \"label\": \"NetA_spd\", \"values\": [1663]}, {\"axis\": {\"matches\": true}, \"label\": \"NetB_imp\", \"values\": [136]}, {\"axis\": {\"matches\": true}, \"label\": \"NetB_spd\", \"values\": [2576]}], \"hovertemplate\": \"Date=2019-08-21<br>%{xaxis.title.text}=%{x}<br>%{yaxis.title.text}=%{y}<extra></extra>\", \"legendgroup\": \"2019-08-21\", \"marker\": {\"color\": \"#19d3f3\", \"symbol\": \"circle\"}, \"name\": \"2019-08-21\", \"showlegend\": true, \"type\": \"splom\"}, {\"dimensions\": [{\"axis\": {\"matches\": true}, \"label\": \"Page Views\", \"values\": [3167]}, {\"axis\": {\"matches\": true}, \"label\": \"NetA_imp\", \"values\": [84]}, {\"axis\": {\"matches\": true}, \"label\": \"NetA_spd\", \"values\": [2534]}, {\"axis\": {\"matches\": true}, \"label\": \"NetB_imp\", \"values\": [227]}, {\"axis\": {\"matches\": true}, \"label\": \"NetB_spd\", \"values\": [6867]}], \"hovertemplate\": \"Date=2019-08-22<br>%{xaxis.title.text}=%{x}<br>%{yaxis.title.text}=%{y}<extra></extra>\", \"legendgroup\": \"2019-08-22\", \"marker\": {\"color\": \"#FF6692\", \"symbol\": \"circle\"}, \"name\": \"2019-08-22\", \"showlegend\": true, \"type\": \"splom\"}, {\"dimensions\": [{\"axis\": {\"matches\": true}, \"label\": \"Page Views\", \"values\": [3031]}, {\"axis\": {\"matches\": true}, \"label\": \"NetA_imp\", \"values\": [140]}, {\"axis\": {\"matches\": true}, \"label\": \"NetA_spd\", \"values\": [6518]}, {\"axis\": {\"matches\": true}, \"label\": \"NetB_imp\", \"values\": [71]}, {\"axis\": {\"matches\": true}, \"label\": \"NetB_spd\", \"values\": [2432]}], \"hovertemplate\": \"Date=2019-08-23<br>%{xaxis.title.text}=%{x}<br>%{yaxis.title.text}=%{y}<extra></extra>\", \"legendgroup\": \"2019-08-23\", \"marker\": {\"color\": \"#B6E880\", \"symbol\": \"circle\"}, \"name\": \"2019-08-23\", \"showlegend\": true, \"type\": \"splom\"}, {\"dimensions\": [{\"axis\": {\"matches\": true}, \"label\": \"Page Views\", \"values\": [3107]}, {\"axis\": {\"matches\": true}, \"label\": \"NetA_imp\", \"values\": [94]}, {\"axis\": {\"matches\": true}, \"label\": \"NetA_spd\", \"values\": [2598]}, {\"axis\": {\"matches\": true}, \"label\": \"NetB_imp\", \"values\": [139]}, {\"axis\": {\"matches\": true}, \"label\": \"NetB_spd\", \"values\": [3953]}], \"hovertemplate\": \"Date=2019-08-24<br>%{xaxis.title.text}=%{x}<br>%{yaxis.title.text}=%{y}<extra></extra>\", \"legendgroup\": \"2019-08-24\", \"marker\": {\"color\": \"#FF97FF\", \"symbol\": \"circle\"}, \"name\": \"2019-08-24\", \"showlegend\": true, \"type\": \"splom\"}],                        {\"dragmode\": \"select\", \"legend\": {\"title\": {\"text\": \"Date\"}, \"tracegroupgap\": 0}, \"margin\": {\"t\": 60}, \"template\": {\"data\": {\"bar\": [{\"error_x\": {\"color\": \"#2a3f5f\"}, \"error_y\": {\"color\": \"#2a3f5f\"}, \"marker\": {\"line\": {\"color\": \"#E5ECF6\", \"width\": 0.5}}, \"type\": \"bar\"}], \"barpolar\": [{\"marker\": {\"line\": {\"color\": \"#E5ECF6\", \"width\": 0.5}}, \"type\": \"barpolar\"}], \"carpet\": [{\"aaxis\": {\"endlinecolor\": \"#2a3f5f\", \"gridcolor\": \"white\", \"linecolor\": \"white\", \"minorgridcolor\": \"white\", \"startlinecolor\": \"#2a3f5f\"}, \"baxis\": {\"endlinecolor\": \"#2a3f5f\", \"gridcolor\": \"white\", \"linecolor\": \"white\", \"minorgridcolor\": \"white\", \"startlinecolor\": \"#2a3f5f\"}, \"type\": \"carpet\"}], \"choropleth\": [{\"colorbar\": {\"outlinewidth\": 0, \"ticks\": \"\"}, \"type\": \"choropleth\"}], \"contour\": [{\"colorbar\": {\"outlinewidth\": 0, \"ticks\": \"\"}, \"colorscale\": [[0.0, \"#0d0887\"], [0.1111111111111111, \"#46039f\"], [0.2222222222222222, \"#7201a8\"], [0.3333333333333333, \"#9c179e\"], [0.4444444444444444, \"#bd3786\"], [0.5555555555555556, \"#d8576b\"], [0.6666666666666666, \"#ed7953\"], [0.7777777777777778, \"#fb9f3a\"], [0.8888888888888888, \"#fdca26\"], [1.0, \"#f0f921\"]], \"type\": \"contour\"}], \"contourcarpet\": [{\"colorbar\": {\"outlinewidth\": 0, \"ticks\": \"\"}, \"type\": \"contourcarpet\"}], \"heatmap\": [{\"colorbar\": {\"outlinewidth\": 0, \"ticks\": \"\"}, \"colorscale\": [[0.0, \"#0d0887\"], [0.1111111111111111, \"#46039f\"], [0.2222222222222222, \"#7201a8\"], [0.3333333333333333, \"#9c179e\"], [0.4444444444444444, \"#bd3786\"], [0.5555555555555556, \"#d8576b\"], [0.6666666666666666, \"#ed7953\"], [0.7777777777777778, \"#fb9f3a\"], [0.8888888888888888, \"#fdca26\"], [1.0, \"#f0f921\"]], \"type\": \"heatmap\"}], \"heatmapgl\": [{\"colorbar\": {\"outlinewidth\": 0, \"ticks\": \"\"}, \"colorscale\": [[0.0, \"#0d0887\"], [0.1111111111111111, \"#46039f\"], [0.2222222222222222, \"#7201a8\"], [0.3333333333333333, \"#9c179e\"], [0.4444444444444444, \"#bd3786\"], [0.5555555555555556, \"#d8576b\"], [0.6666666666666666, \"#ed7953\"], [0.7777777777777778, \"#fb9f3a\"], [0.8888888888888888, \"#fdca26\"], [1.0, \"#f0f921\"]], \"type\": \"heatmapgl\"}], \"histogram\": [{\"marker\": {\"colorbar\": {\"outlinewidth\": 0, \"ticks\": \"\"}}, \"type\": \"histogram\"}], \"histogram2d\": [{\"colorbar\": {\"outlinewidth\": 0, \"ticks\": \"\"}, \"colorscale\": [[0.0, \"#0d0887\"], [0.1111111111111111, \"#46039f\"], [0.2222222222222222, \"#7201a8\"], [0.3333333333333333, \"#9c179e\"], [0.4444444444444444, \"#bd3786\"], [0.5555555555555556, \"#d8576b\"], [0.6666666666666666, \"#ed7953\"], [0.7777777777777778, \"#fb9f3a\"], [0.8888888888888888, \"#fdca26\"], [1.0, \"#f0f921\"]], \"type\": \"histogram2d\"}], \"histogram2dcontour\": [{\"colorbar\": {\"outlinewidth\": 0, \"ticks\": \"\"}, \"colorscale\": [[0.0, \"#0d0887\"], [0.1111111111111111, \"#46039f\"], [0.2222222222222222, \"#7201a8\"], [0.3333333333333333, \"#9c179e\"], [0.4444444444444444, \"#bd3786\"], [0.5555555555555556, \"#d8576b\"], [0.6666666666666666, \"#ed7953\"], [0.7777777777777778, \"#fb9f3a\"], [0.8888888888888888, \"#fdca26\"], [1.0, \"#f0f921\"]], \"type\": \"histogram2dcontour\"}], \"mesh3d\": [{\"colorbar\": {\"outlinewidth\": 0, \"ticks\": \"\"}, \"type\": \"mesh3d\"}], \"parcoords\": [{\"line\": {\"colorbar\": {\"outlinewidth\": 0, \"ticks\": \"\"}}, \"type\": \"parcoords\"}], \"pie\": [{\"automargin\": true, \"type\": \"pie\"}], \"scatter\": [{\"marker\": {\"colorbar\": {\"outlinewidth\": 0, \"ticks\": \"\"}}, \"type\": \"scatter\"}], \"scatter3d\": [{\"line\": {\"colorbar\": {\"outlinewidth\": 0, \"ticks\": \"\"}}, \"marker\": {\"colorbar\": {\"outlinewidth\": 0, \"ticks\": \"\"}}, \"type\": \"scatter3d\"}], \"scattercarpet\": [{\"marker\": {\"colorbar\": {\"outlinewidth\": 0, \"ticks\": \"\"}}, \"type\": \"scattercarpet\"}], \"scattergeo\": [{\"marker\": {\"colorbar\": {\"outlinewidth\": 0, \"ticks\": \"\"}}, \"type\": \"scattergeo\"}], \"scattergl\": [{\"marker\": {\"colorbar\": {\"outlinewidth\": 0, \"ticks\": \"\"}}, \"type\": \"scattergl\"}], \"scattermapbox\": [{\"marker\": {\"colorbar\": {\"outlinewidth\": 0, \"ticks\": \"\"}}, \"type\": \"scattermapbox\"}], \"scatterpolar\": [{\"marker\": {\"colorbar\": {\"outlinewidth\": 0, \"ticks\": \"\"}}, \"type\": \"scatterpolar\"}], \"scatterpolargl\": [{\"marker\": {\"colorbar\": {\"outlinewidth\": 0, \"ticks\": \"\"}}, \"type\": \"scatterpolargl\"}], \"scatterternary\": [{\"marker\": {\"colorbar\": {\"outlinewidth\": 0, \"ticks\": \"\"}}, \"type\": \"scatterternary\"}], \"surface\": [{\"colorbar\": {\"outlinewidth\": 0, \"ticks\": \"\"}, \"colorscale\": [[0.0, \"#0d0887\"], [0.1111111111111111, \"#46039f\"], [0.2222222222222222, \"#7201a8\"], [0.3333333333333333, \"#9c179e\"], [0.4444444444444444, \"#bd3786\"], [0.5555555555555556, \"#d8576b\"], [0.6666666666666666, \"#ed7953\"], [0.7777777777777778, \"#fb9f3a\"], [0.8888888888888888, \"#fdca26\"], [1.0, \"#f0f921\"]], \"type\": \"surface\"}], \"table\": [{\"cells\": {\"fill\": {\"color\": \"#EBF0F8\"}, \"line\": {\"color\": \"white\"}}, \"header\": {\"fill\": {\"color\": \"#C8D4E3\"}, \"line\": {\"color\": \"white\"}}, \"type\": \"table\"}]}, \"layout\": {\"annotationdefaults\": {\"arrowcolor\": \"#2a3f5f\", \"arrowhead\": 0, \"arrowwidth\": 1}, \"autotypenumbers\": \"strict\", \"coloraxis\": {\"colorbar\": {\"outlinewidth\": 0, \"ticks\": \"\"}}, \"colorscale\": {\"diverging\": [[0, \"#8e0152\"], [0.1, \"#c51b7d\"], [0.2, \"#de77ae\"], [0.3, \"#f1b6da\"], [0.4, \"#fde0ef\"], [0.5, \"#f7f7f7\"], [0.6, \"#e6f5d0\"], [0.7, \"#b8e186\"], [0.8, \"#7fbc41\"], [0.9, \"#4d9221\"], [1, \"#276419\"]], \"sequential\": [[0.0, \"#0d0887\"], [0.1111111111111111, \"#46039f\"], [0.2222222222222222, \"#7201a8\"], [0.3333333333333333, \"#9c179e\"], [0.4444444444444444, \"#bd3786\"], [0.5555555555555556, \"#d8576b\"], [0.6666666666666666, \"#ed7953\"], [0.7777777777777778, \"#fb9f3a\"], [0.8888888888888888, \"#fdca26\"], [1.0, \"#f0f921\"]], \"sequentialminus\": [[0.0, \"#0d0887\"], [0.1111111111111111, \"#46039f\"], [0.2222222222222222, \"#7201a8\"], [0.3333333333333333, \"#9c179e\"], [0.4444444444444444, \"#bd3786\"], [0.5555555555555556, \"#d8576b\"], [0.6666666666666666, \"#ed7953\"], [0.7777777777777778, \"#fb9f3a\"], [0.8888888888888888, \"#fdca26\"], [1.0, \"#f0f921\"]]}, \"colorway\": [\"#636efa\", \"#EF553B\", \"#00cc96\", \"#ab63fa\", \"#FFA15A\", \"#19d3f3\", \"#FF6692\", \"#B6E880\", \"#FF97FF\", \"#FECB52\"], \"font\": {\"color\": \"#2a3f5f\"}, \"geo\": {\"bgcolor\": \"white\", \"lakecolor\": \"white\", \"landcolor\": \"#E5ECF6\", \"showlakes\": true, \"showland\": true, \"subunitcolor\": \"white\"}, \"hoverlabel\": {\"align\": \"left\"}, \"hovermode\": \"closest\", \"mapbox\": {\"style\": \"light\"}, \"paper_bgcolor\": \"white\", \"plot_bgcolor\": \"#E5ECF6\", \"polar\": {\"angularaxis\": {\"gridcolor\": \"white\", \"linecolor\": \"white\", \"ticks\": \"\"}, \"bgcolor\": \"#E5ECF6\", \"radialaxis\": {\"gridcolor\": \"white\", \"linecolor\": \"white\", \"ticks\": \"\"}}, \"scene\": {\"xaxis\": {\"backgroundcolor\": \"#E5ECF6\", \"gridcolor\": \"white\", \"gridwidth\": 2, \"linecolor\": \"white\", \"showbackground\": true, \"ticks\": \"\", \"zerolinecolor\": \"white\"}, \"yaxis\": {\"backgroundcolor\": \"#E5ECF6\", \"gridcolor\": \"white\", \"gridwidth\": 2, \"linecolor\": \"white\", \"showbackground\": true, \"ticks\": \"\", \"zerolinecolor\": \"white\"}, \"zaxis\": {\"backgroundcolor\": \"#E5ECF6\", \"gridcolor\": \"white\", \"gridwidth\": 2, \"linecolor\": \"white\", \"showbackground\": true, \"ticks\": \"\", \"zerolinecolor\": \"white\"}}, \"shapedefaults\": {\"line\": {\"color\": \"#2a3f5f\"}}, \"ternary\": {\"aaxis\": {\"gridcolor\": \"white\", \"linecolor\": \"white\", \"ticks\": \"\"}, \"baxis\": {\"gridcolor\": \"white\", \"linecolor\": \"white\", \"ticks\": \"\"}, \"bgcolor\": \"#E5ECF6\", \"caxis\": {\"gridcolor\": \"white\", \"linecolor\": \"white\", \"ticks\": \"\"}}, \"title\": {\"x\": 0.05}, \"xaxis\": {\"automargin\": true, \"gridcolor\": \"white\", \"linecolor\": \"white\", \"ticks\": \"\", \"title\": {\"standoff\": 15}, \"zerolinecolor\": \"white\", \"zerolinewidth\": 2}, \"yaxis\": {\"automargin\": true, \"gridcolor\": \"white\", \"linecolor\": \"white\", \"ticks\": \"\", \"title\": {\"standoff\": 15}, \"zerolinecolor\": \"white\", \"zerolinewidth\": 2}}}, \"title\": {\"text\": \"Relationships between Page Views, Network Impressions and Spend variables - Aggregated Daily\"}},                        {\"responsive\": true}                    ).then(function(){\n",
       "                            \n",
       "var gd = document.getElementById('480e5b41-78ea-48b5-a30f-56b5aecff53a');\n",
=======
       "<div>                            <div id=\"fac2455d-8c93-48c0-9056-79adc7e533b7\" class=\"plotly-graph-div\" style=\"height:525px; width:100%;\"></div>            <script type=\"text/javascript\">                require([\"plotly\"], function(Plotly) {                    window.PLOTLYENV=window.PLOTLYENV || {};                                    if (document.getElementById(\"fac2455d-8c93-48c0-9056-79adc7e533b7\")) {                    Plotly.newPlot(                        \"fac2455d-8c93-48c0-9056-79adc7e533b7\",                        [{\"dimensions\": [{\"axis\": {\"matches\": true}, \"label\": \"Page Views\", \"values\": [3363]}, {\"axis\": {\"matches\": true}, \"label\": \"NetA_imp\", \"values\": [421]}, {\"axis\": {\"matches\": true}, \"label\": \"NetA_spd\", \"values\": [159]}, {\"axis\": {\"matches\": true}, \"label\": \"NetB_imp\", \"values\": [381]}, {\"axis\": {\"matches\": true}, \"label\": \"NetB_spd\", \"values\": [176]}], \"hovertemplate\": \"Date=2019-07-07<br>%{xaxis.title.text}=%{x}<br>%{yaxis.title.text}=%{y}<extra></extra>\", \"legendgroup\": \"2019-07-07\", \"marker\": {\"color\": \"#636efa\", \"symbol\": \"circle\"}, \"name\": \"2019-07-07\", \"showlegend\": true, \"type\": \"splom\"}, {\"dimensions\": [{\"axis\": {\"matches\": true}, \"label\": \"Page Views\", \"values\": [4160]}, {\"axis\": {\"matches\": true}, \"label\": \"NetA_imp\", \"values\": [392]}, {\"axis\": {\"matches\": true}, \"label\": \"NetA_spd\", \"values\": [1066]}, {\"axis\": {\"matches\": true}, \"label\": \"NetB_imp\", \"values\": [316]}, {\"axis\": {\"matches\": true}, \"label\": \"NetB_spd\", \"values\": [774]}], \"hovertemplate\": \"Date=2019-07-08<br>%{xaxis.title.text}=%{x}<br>%{yaxis.title.text}=%{y}<extra></extra>\", \"legendgroup\": \"2019-07-08\", \"marker\": {\"color\": \"#EF553B\", \"symbol\": \"circle\"}, \"name\": \"2019-07-08\", \"showlegend\": true, \"type\": \"splom\"}, {\"dimensions\": [{\"axis\": {\"matches\": true}, \"label\": \"Page Views\", \"values\": [3619]}, {\"axis\": {\"matches\": true}, \"label\": \"NetA_imp\", \"values\": [756]}, {\"axis\": {\"matches\": true}, \"label\": \"NetA_spd\", \"values\": [877]}, {\"axis\": {\"matches\": true}, \"label\": \"NetB_imp\", \"values\": [671]}, {\"axis\": {\"matches\": true}, \"label\": \"NetB_spd\", \"values\": [5010]}], \"hovertemplate\": \"Date=2019-07-09<br>%{xaxis.title.text}=%{x}<br>%{yaxis.title.text}=%{y}<extra></extra>\", \"legendgroup\": \"2019-07-09\", \"marker\": {\"color\": \"#00cc96\", \"symbol\": \"circle\"}, \"name\": \"2019-07-09\", \"showlegend\": true, \"type\": \"splom\"}, {\"dimensions\": [{\"axis\": {\"matches\": true}, \"label\": \"Page Views\", \"values\": [3474]}, {\"axis\": {\"matches\": true}, \"label\": \"NetA_imp\", \"values\": [128]}, {\"axis\": {\"matches\": true}, \"label\": \"NetA_spd\", \"values\": [130]}, {\"axis\": {\"matches\": true}, \"label\": \"NetB_imp\", \"values\": [401]}, {\"axis\": {\"matches\": true}, \"label\": \"NetB_spd\", \"values\": [492]}], \"hovertemplate\": \"Date=2019-07-10<br>%{xaxis.title.text}=%{x}<br>%{yaxis.title.text}=%{y}<extra></extra>\", \"legendgroup\": \"2019-07-10\", \"marker\": {\"color\": \"#ab63fa\", \"symbol\": \"circle\"}, \"name\": \"2019-07-10\", \"showlegend\": true, \"type\": \"splom\"}, {\"dimensions\": [{\"axis\": {\"matches\": true}, \"label\": \"Page Views\", \"values\": [3547]}, {\"axis\": {\"matches\": true}, \"label\": \"NetA_imp\", \"values\": [154]}, {\"axis\": {\"matches\": true}, \"label\": \"NetA_spd\", \"values\": [1994]}, {\"axis\": {\"matches\": true}, \"label\": \"NetB_imp\", \"values\": [182]}, {\"axis\": {\"matches\": true}, \"label\": \"NetB_spd\", \"values\": [230]}], \"hovertemplate\": \"Date=2019-07-11<br>%{xaxis.title.text}=%{x}<br>%{yaxis.title.text}=%{y}<extra></extra>\", \"legendgroup\": \"2019-07-11\", \"marker\": {\"color\": \"#FFA15A\", \"symbol\": \"circle\"}, \"name\": \"2019-07-11\", \"showlegend\": true, \"type\": \"splom\"}, {\"dimensions\": [{\"axis\": {\"matches\": true}, \"label\": \"Page Views\", \"values\": [3277]}, {\"axis\": {\"matches\": true}, \"label\": \"NetA_imp\", \"values\": [104]}, {\"axis\": {\"matches\": true}, \"label\": \"NetA_spd\", \"values\": [4740]}, {\"axis\": {\"matches\": true}, \"label\": \"NetB_imp\", \"values\": [365]}, {\"axis\": {\"matches\": true}, \"label\": \"NetB_spd\", \"values\": [1408]}], \"hovertemplate\": \"Date=2019-07-12<br>%{xaxis.title.text}=%{x}<br>%{yaxis.title.text}=%{y}<extra></extra>\", \"legendgroup\": \"2019-07-12\", \"marker\": {\"color\": \"#19d3f3\", \"symbol\": \"circle\"}, \"name\": \"2019-07-12\", \"showlegend\": true, \"type\": \"splom\"}, {\"dimensions\": [{\"axis\": {\"matches\": true}, \"label\": \"Page Views\", \"values\": [3332]}, {\"axis\": {\"matches\": true}, \"label\": \"NetA_imp\", \"values\": [65]}, {\"axis\": {\"matches\": true}, \"label\": \"NetA_spd\", \"values\": [993]}, {\"axis\": {\"matches\": true}, \"label\": \"NetB_imp\", \"values\": [450]}, {\"axis\": {\"matches\": true}, \"label\": \"NetB_spd\", \"values\": [1841]}], \"hovertemplate\": \"Date=2019-07-13<br>%{xaxis.title.text}=%{x}<br>%{yaxis.title.text}=%{y}<extra></extra>\", \"legendgroup\": \"2019-07-13\", \"marker\": {\"color\": \"#FF6692\", \"symbol\": \"circle\"}, \"name\": \"2019-07-13\", \"showlegend\": true, \"type\": \"splom\"}, {\"dimensions\": [{\"axis\": {\"matches\": true}, \"label\": \"Page Views\", \"values\": [3858]}, {\"axis\": {\"matches\": true}, \"label\": \"NetA_imp\", \"values\": [155]}, {\"axis\": {\"matches\": true}, \"label\": \"NetA_spd\", \"values\": [938]}, {\"axis\": {\"matches\": true}, \"label\": \"NetB_imp\", \"values\": [35]}, {\"axis\": {\"matches\": true}, \"label\": \"NetB_spd\", \"values\": [878]}], \"hovertemplate\": \"Date=2019-07-14<br>%{xaxis.title.text}=%{x}<br>%{yaxis.title.text}=%{y}<extra></extra>\", \"legendgroup\": \"2019-07-14\", \"marker\": {\"color\": \"#B6E880\", \"symbol\": \"circle\"}, \"name\": \"2019-07-14\", \"showlegend\": true, \"type\": \"splom\"}, {\"dimensions\": [{\"axis\": {\"matches\": true}, \"label\": \"Page Views\", \"values\": [4918]}, {\"axis\": {\"matches\": true}, \"label\": \"NetA_imp\", \"values\": [108]}, {\"axis\": {\"matches\": true}, \"label\": \"NetA_spd\", \"values\": [1777]}, {\"axis\": {\"matches\": true}, \"label\": \"NetB_imp\", \"values\": [63]}, {\"axis\": {\"matches\": true}, \"label\": \"NetB_spd\", \"values\": [2431]}], \"hovertemplate\": \"Date=2019-07-15<br>%{xaxis.title.text}=%{x}<br>%{yaxis.title.text}=%{y}<extra></extra>\", \"legendgroup\": \"2019-07-15\", \"marker\": {\"color\": \"#FF97FF\", \"symbol\": \"circle\"}, \"name\": \"2019-07-15\", \"showlegend\": true, \"type\": \"splom\"}, {\"dimensions\": [{\"axis\": {\"matches\": true}, \"label\": \"Page Views\", \"values\": [3939]}, {\"axis\": {\"matches\": true}, \"label\": \"NetA_imp\", \"values\": [117]}, {\"axis\": {\"matches\": true}, \"label\": \"NetA_spd\", \"values\": [974]}, {\"axis\": {\"matches\": true}, \"label\": \"NetB_imp\", \"values\": [2]}, {\"axis\": {\"matches\": true}, \"label\": \"NetB_spd\", \"values\": [73]}], \"hovertemplate\": \"Date=2019-07-16<br>%{xaxis.title.text}=%{x}<br>%{yaxis.title.text}=%{y}<extra></extra>\", \"legendgroup\": \"2019-07-16\", \"marker\": {\"color\": \"#FECB52\", \"symbol\": \"circle\"}, \"name\": \"2019-07-16\", \"showlegend\": true, \"type\": \"splom\"}, {\"dimensions\": [{\"axis\": {\"matches\": true}, \"label\": \"Page Views\", \"values\": [3763]}, {\"axis\": {\"matches\": true}, \"label\": \"NetA_imp\", \"values\": [185]}, {\"axis\": {\"matches\": true}, \"label\": \"NetA_spd\", \"values\": [4935]}, {\"axis\": {\"matches\": true}, \"label\": \"NetB_imp\", \"values\": [54]}, {\"axis\": {\"matches\": true}, \"label\": \"NetB_spd\", \"values\": [911]}], \"hovertemplate\": \"Date=2019-07-17<br>%{xaxis.title.text}=%{x}<br>%{yaxis.title.text}=%{y}<extra></extra>\", \"legendgroup\": \"2019-07-17\", \"marker\": {\"color\": \"#636efa\", \"symbol\": \"circle\"}, \"name\": \"2019-07-17\", \"showlegend\": true, \"type\": \"splom\"}, {\"dimensions\": [{\"axis\": {\"matches\": true}, \"label\": \"Page Views\", \"values\": [3691]}, {\"axis\": {\"matches\": true}, \"label\": \"NetA_imp\", \"values\": [212]}, {\"axis\": {\"matches\": true}, \"label\": \"NetA_spd\", \"values\": [2697]}, {\"axis\": {\"matches\": true}, \"label\": \"NetB_imp\", \"values\": [38]}, {\"axis\": {\"matches\": true}, \"label\": \"NetB_spd\", \"values\": [852]}], \"hovertemplate\": \"Date=2019-07-18<br>%{xaxis.title.text}=%{x}<br>%{yaxis.title.text}=%{y}<extra></extra>\", \"legendgroup\": \"2019-07-18\", \"marker\": {\"color\": \"#EF553B\", \"symbol\": \"circle\"}, \"name\": \"2019-07-18\", \"showlegend\": true, \"type\": \"splom\"}, {\"dimensions\": [{\"axis\": {\"matches\": true}, \"label\": \"Page Views\", \"values\": [3538]}, {\"axis\": {\"matches\": true}, \"label\": \"NetA_imp\", \"values\": [64]}, {\"axis\": {\"matches\": true}, \"label\": \"NetA_spd\", \"values\": [0]}, {\"axis\": {\"matches\": true}, \"label\": \"NetB_imp\", \"values\": [50]}, {\"axis\": {\"matches\": true}, \"label\": \"NetB_spd\", \"values\": [1845]}], \"hovertemplate\": \"Date=2019-07-19<br>%{xaxis.title.text}=%{x}<br>%{yaxis.title.text}=%{y}<extra></extra>\", \"legendgroup\": \"2019-07-19\", \"marker\": {\"color\": \"#00cc96\", \"symbol\": \"circle\"}, \"name\": \"2019-07-19\", \"showlegend\": true, \"type\": \"splom\"}, {\"dimensions\": [{\"axis\": {\"matches\": true}, \"label\": \"Page Views\", \"values\": [3430]}, {\"axis\": {\"matches\": true}, \"label\": \"NetA_imp\", \"values\": [155]}, {\"axis\": {\"matches\": true}, \"label\": \"NetA_spd\", \"values\": [210]}, {\"axis\": {\"matches\": true}, \"label\": \"NetB_imp\", \"values\": [54]}, {\"axis\": {\"matches\": true}, \"label\": \"NetB_spd\", \"values\": [1615]}], \"hovertemplate\": \"Date=2019-07-20<br>%{xaxis.title.text}=%{x}<br>%{yaxis.title.text}=%{y}<extra></extra>\", \"legendgroup\": \"2019-07-20\", \"marker\": {\"color\": \"#ab63fa\", \"symbol\": \"circle\"}, \"name\": \"2019-07-20\", \"showlegend\": true, \"type\": \"splom\"}, {\"dimensions\": [{\"axis\": {\"matches\": true}, \"label\": \"Page Views\", \"values\": [3841]}, {\"axis\": {\"matches\": true}, \"label\": \"NetA_imp\", \"values\": [62]}, {\"axis\": {\"matches\": true}, \"label\": \"NetA_spd\", \"values\": [827]}, {\"axis\": {\"matches\": true}, \"label\": \"NetB_imp\", \"values\": [103]}, {\"axis\": {\"matches\": true}, \"label\": \"NetB_spd\", \"values\": [3341]}], \"hovertemplate\": \"Date=2019-07-21<br>%{xaxis.title.text}=%{x}<br>%{yaxis.title.text}=%{y}<extra></extra>\", \"legendgroup\": \"2019-07-21\", \"marker\": {\"color\": \"#FFA15A\", \"symbol\": \"circle\"}, \"name\": \"2019-07-21\", \"showlegend\": true, \"type\": \"splom\"}, {\"dimensions\": [{\"axis\": {\"matches\": true}, \"label\": \"Page Views\", \"values\": [4199]}, {\"axis\": {\"matches\": true}, \"label\": \"NetA_imp\", \"values\": [118]}, {\"axis\": {\"matches\": true}, \"label\": \"NetA_spd\", \"values\": [4927]}, {\"axis\": {\"matches\": true}, \"label\": \"NetB_imp\", \"values\": [94]}, {\"axis\": {\"matches\": true}, \"label\": \"NetB_spd\", \"values\": [3398]}], \"hovertemplate\": \"Date=2019-07-22<br>%{xaxis.title.text}=%{x}<br>%{yaxis.title.text}=%{y}<extra></extra>\", \"legendgroup\": \"2019-07-22\", \"marker\": {\"color\": \"#19d3f3\", \"symbol\": \"circle\"}, \"name\": \"2019-07-22\", \"showlegend\": true, \"type\": \"splom\"}, {\"dimensions\": [{\"axis\": {\"matches\": true}, \"label\": \"Page Views\", \"values\": [3770]}, {\"axis\": {\"matches\": true}, \"label\": \"NetA_imp\", \"values\": [23]}, {\"axis\": {\"matches\": true}, \"label\": \"NetA_spd\", \"values\": [426]}, {\"axis\": {\"matches\": true}, \"label\": \"NetB_imp\", \"values\": [73]}, {\"axis\": {\"matches\": true}, \"label\": \"NetB_spd\", \"values\": [2768]}], \"hovertemplate\": \"Date=2019-07-23<br>%{xaxis.title.text}=%{x}<br>%{yaxis.title.text}=%{y}<extra></extra>\", \"legendgroup\": \"2019-07-23\", \"marker\": {\"color\": \"#FF6692\", \"symbol\": \"circle\"}, \"name\": \"2019-07-23\", \"showlegend\": true, \"type\": \"splom\"}, {\"dimensions\": [{\"axis\": {\"matches\": true}, \"label\": \"Page Views\", \"values\": [3458]}, {\"axis\": {\"matches\": true}, \"label\": \"NetA_imp\", \"values\": [62]}, {\"axis\": {\"matches\": true}, \"label\": \"NetA_spd\", \"values\": [3037]}, {\"axis\": {\"matches\": true}, \"label\": \"NetB_imp\", \"values\": [100]}, {\"axis\": {\"matches\": true}, \"label\": \"NetB_spd\", \"values\": [2825]}], \"hovertemplate\": \"Date=2019-07-24<br>%{xaxis.title.text}=%{x}<br>%{yaxis.title.text}=%{y}<extra></extra>\", \"legendgroup\": \"2019-07-24\", \"marker\": {\"color\": \"#B6E880\", \"symbol\": \"circle\"}, \"name\": \"2019-07-24\", \"showlegend\": true, \"type\": \"splom\"}, {\"dimensions\": [{\"axis\": {\"matches\": true}, \"label\": \"Page Views\", \"values\": [3631]}, {\"axis\": {\"matches\": true}, \"label\": \"NetA_imp\", \"values\": [26]}, {\"axis\": {\"matches\": true}, \"label\": \"NetA_spd\", \"values\": [939]}, {\"axis\": {\"matches\": true}, \"label\": \"NetB_imp\", \"values\": [20]}, {\"axis\": {\"matches\": true}, \"label\": \"NetB_spd\", \"values\": [362]}], \"hovertemplate\": \"Date=2019-07-25<br>%{xaxis.title.text}=%{x}<br>%{yaxis.title.text}=%{y}<extra></extra>\", \"legendgroup\": \"2019-07-25\", \"marker\": {\"color\": \"#FF97FF\", \"symbol\": \"circle\"}, \"name\": \"2019-07-25\", \"showlegend\": true, \"type\": \"splom\"}, {\"dimensions\": [{\"axis\": {\"matches\": true}, \"label\": \"Page Views\", \"values\": [3367]}, {\"axis\": {\"matches\": true}, \"label\": \"NetA_imp\", \"values\": [31]}, {\"axis\": {\"matches\": true}, \"label\": \"NetA_spd\", \"values\": [530]}, {\"axis\": {\"matches\": true}, \"label\": \"NetB_imp\", \"values\": [80]}, {\"axis\": {\"matches\": true}, \"label\": \"NetB_spd\", \"values\": [3123]}], \"hovertemplate\": \"Date=2019-07-26<br>%{xaxis.title.text}=%{x}<br>%{yaxis.title.text}=%{y}<extra></extra>\", \"legendgroup\": \"2019-07-26\", \"marker\": {\"color\": \"#FECB52\", \"symbol\": \"circle\"}, \"name\": \"2019-07-26\", \"showlegend\": true, \"type\": \"splom\"}, {\"dimensions\": [{\"axis\": {\"matches\": true}, \"label\": \"Page Views\", \"values\": [3410]}, {\"axis\": {\"matches\": true}, \"label\": \"NetA_imp\", \"values\": [49]}, {\"axis\": {\"matches\": true}, \"label\": \"NetA_spd\", \"values\": [567]}, {\"axis\": {\"matches\": true}, \"label\": \"NetB_imp\", \"values\": [47]}, {\"axis\": {\"matches\": true}, \"label\": \"NetB_spd\", \"values\": [993]}], \"hovertemplate\": \"Date=2019-07-27<br>%{xaxis.title.text}=%{x}<br>%{yaxis.title.text}=%{y}<extra></extra>\", \"legendgroup\": \"2019-07-27\", \"marker\": {\"color\": \"#636efa\", \"symbol\": \"circle\"}, \"name\": \"2019-07-27\", \"showlegend\": true, \"type\": \"splom\"}, {\"dimensions\": [{\"axis\": {\"matches\": true}, \"label\": \"Page Views\", \"values\": [3646]}, {\"axis\": {\"matches\": true}, \"label\": \"NetA_imp\", \"values\": [67]}, {\"axis\": {\"matches\": true}, \"label\": \"NetA_spd\", \"values\": [3455]}, {\"axis\": {\"matches\": true}, \"label\": \"NetB_imp\", \"values\": [63]}, {\"axis\": {\"matches\": true}, \"label\": \"NetB_spd\", \"values\": [3291]}], \"hovertemplate\": \"Date=2019-07-28<br>%{xaxis.title.text}=%{x}<br>%{yaxis.title.text}=%{y}<extra></extra>\", \"legendgroup\": \"2019-07-28\", \"marker\": {\"color\": \"#EF553B\", \"symbol\": \"circle\"}, \"name\": \"2019-07-28\", \"showlegend\": true, \"type\": \"splom\"}, {\"dimensions\": [{\"axis\": {\"matches\": true}, \"label\": \"Page Views\", \"values\": [3475]}, {\"axis\": {\"matches\": true}, \"label\": \"NetA_imp\", \"values\": [110]}, {\"axis\": {\"matches\": true}, \"label\": \"NetA_spd\", \"values\": [5890]}, {\"axis\": {\"matches\": true}, \"label\": \"NetB_imp\", \"values\": [80]}, {\"axis\": {\"matches\": true}, \"label\": \"NetB_spd\", \"values\": [3622]}], \"hovertemplate\": \"Date=2019-07-29<br>%{xaxis.title.text}=%{x}<br>%{yaxis.title.text}=%{y}<extra></extra>\", \"legendgroup\": \"2019-07-29\", \"marker\": {\"color\": \"#00cc96\", \"symbol\": \"circle\"}, \"name\": \"2019-07-29\", \"showlegend\": true, \"type\": \"splom\"}, {\"dimensions\": [{\"axis\": {\"matches\": true}, \"label\": \"Page Views\", \"values\": [3087]}, {\"axis\": {\"matches\": true}, \"label\": \"NetA_imp\", \"values\": [21]}, {\"axis\": {\"matches\": true}, \"label\": \"NetA_spd\", \"values\": [678]}, {\"axis\": {\"matches\": true}, \"label\": \"NetB_imp\", \"values\": [81]}, {\"axis\": {\"matches\": true}, \"label\": \"NetB_spd\", \"values\": [3903]}], \"hovertemplate\": \"Date=2019-07-30<br>%{xaxis.title.text}=%{x}<br>%{yaxis.title.text}=%{y}<extra></extra>\", \"legendgroup\": \"2019-07-30\", \"marker\": {\"color\": \"#ab63fa\", \"symbol\": \"circle\"}, \"name\": \"2019-07-30\", \"showlegend\": true, \"type\": \"splom\"}, {\"dimensions\": [{\"axis\": {\"matches\": true}, \"label\": \"Page Views\", \"values\": [2754]}, {\"axis\": {\"matches\": true}, \"label\": \"NetA_imp\", \"values\": [30]}, {\"axis\": {\"matches\": true}, \"label\": \"NetA_spd\", \"values\": [1264]}, {\"axis\": {\"matches\": true}, \"label\": \"NetB_imp\", \"values\": [47]}, {\"axis\": {\"matches\": true}, \"label\": \"NetB_spd\", \"values\": [1638]}], \"hovertemplate\": \"Date=2019-07-31<br>%{xaxis.title.text}=%{x}<br>%{yaxis.title.text}=%{y}<extra></extra>\", \"legendgroup\": \"2019-07-31\", \"marker\": {\"color\": \"#FFA15A\", \"symbol\": \"circle\"}, \"name\": \"2019-07-31\", \"showlegend\": true, \"type\": \"splom\"}, {\"dimensions\": [{\"axis\": {\"matches\": true}, \"label\": \"Page Views\", \"values\": [2783]}, {\"axis\": {\"matches\": true}, \"label\": \"NetA_imp\", \"values\": [2]}, {\"axis\": {\"matches\": true}, \"label\": \"NetA_spd\", \"values\": [137]}, {\"axis\": {\"matches\": true}, \"label\": \"NetB_imp\", \"values\": [33]}, {\"axis\": {\"matches\": true}, \"label\": \"NetB_spd\", \"values\": [913]}], \"hovertemplate\": \"Date=2019-08-01<br>%{xaxis.title.text}=%{x}<br>%{yaxis.title.text}=%{y}<extra></extra>\", \"legendgroup\": \"2019-08-01\", \"marker\": {\"color\": \"#19d3f3\", \"symbol\": \"circle\"}, \"name\": \"2019-08-01\", \"showlegend\": true, \"type\": \"splom\"}, {\"dimensions\": [{\"axis\": {\"matches\": true}, \"label\": \"Page Views\", \"values\": [2658]}, {\"axis\": {\"matches\": true}, \"label\": \"NetA_imp\", \"values\": [40]}, {\"axis\": {\"matches\": true}, \"label\": \"NetA_spd\", \"values\": [823]}, {\"axis\": {\"matches\": true}, \"label\": \"NetB_imp\", \"values\": [0]}, {\"axis\": {\"matches\": true}, \"label\": \"NetB_spd\", \"values\": [0]}], \"hovertemplate\": \"Date=2019-08-02<br>%{xaxis.title.text}=%{x}<br>%{yaxis.title.text}=%{y}<extra></extra>\", \"legendgroup\": \"2019-08-02\", \"marker\": {\"color\": \"#FF6692\", \"symbol\": \"circle\"}, \"name\": \"2019-08-02\", \"showlegend\": true, \"type\": \"splom\"}, {\"dimensions\": [{\"axis\": {\"matches\": true}, \"label\": \"Page Views\", \"values\": [2748]}, {\"axis\": {\"matches\": true}, \"label\": \"NetA_imp\", \"values\": [21]}, {\"axis\": {\"matches\": true}, \"label\": \"NetA_spd\", \"values\": [405]}, {\"axis\": {\"matches\": true}, \"label\": \"NetB_imp\", \"values\": [42]}, {\"axis\": {\"matches\": true}, \"label\": \"NetB_spd\", \"values\": [1170]}], \"hovertemplate\": \"Date=2019-08-03<br>%{xaxis.title.text}=%{x}<br>%{yaxis.title.text}=%{y}<extra></extra>\", \"legendgroup\": \"2019-08-03\", \"marker\": {\"color\": \"#B6E880\", \"symbol\": \"circle\"}, \"name\": \"2019-08-03\", \"showlegend\": true, \"type\": \"splom\"}, {\"dimensions\": [{\"axis\": {\"matches\": true}, \"label\": \"Page Views\", \"values\": [3000]}, {\"axis\": {\"matches\": true}, \"label\": \"NetA_imp\", \"values\": [83]}, {\"axis\": {\"matches\": true}, \"label\": \"NetA_spd\", \"values\": [2134]}, {\"axis\": {\"matches\": true}, \"label\": \"NetB_imp\", \"values\": [56]}, {\"axis\": {\"matches\": true}, \"label\": \"NetB_spd\", \"values\": [2018]}], \"hovertemplate\": \"Date=2019-08-04<br>%{xaxis.title.text}=%{x}<br>%{yaxis.title.text}=%{y}<extra></extra>\", \"legendgroup\": \"2019-08-04\", \"marker\": {\"color\": \"#FF97FF\", \"symbol\": \"circle\"}, \"name\": \"2019-08-04\", \"showlegend\": true, \"type\": \"splom\"}, {\"dimensions\": [{\"axis\": {\"matches\": true}, \"label\": \"Page Views\", \"values\": [3256]}, {\"axis\": {\"matches\": true}, \"label\": \"NetA_imp\", \"values\": [146]}, {\"axis\": {\"matches\": true}, \"label\": \"NetA_spd\", \"values\": [4025]}, {\"axis\": {\"matches\": true}, \"label\": \"NetB_imp\", \"values\": [218]}, {\"axis\": {\"matches\": true}, \"label\": \"NetB_spd\", \"values\": [7783]}], \"hovertemplate\": \"Date=2019-08-05<br>%{xaxis.title.text}=%{x}<br>%{yaxis.title.text}=%{y}<extra></extra>\", \"legendgroup\": \"2019-08-05\", \"marker\": {\"color\": \"#FECB52\", \"symbol\": \"circle\"}, \"name\": \"2019-08-05\", \"showlegend\": true, \"type\": \"splom\"}, {\"dimensions\": [{\"axis\": {\"matches\": true}, \"label\": \"Page Views\", \"values\": [2865]}, {\"axis\": {\"matches\": true}, \"label\": \"NetA_imp\", \"values\": [51]}, {\"axis\": {\"matches\": true}, \"label\": \"NetA_spd\", \"values\": [1363]}, {\"axis\": {\"matches\": true}, \"label\": \"NetB_imp\", \"values\": [170]}, {\"axis\": {\"matches\": true}, \"label\": \"NetB_spd\", \"values\": [5257]}], \"hovertemplate\": \"Date=2019-08-06<br>%{xaxis.title.text}=%{x}<br>%{yaxis.title.text}=%{y}<extra></extra>\", \"legendgroup\": \"2019-08-06\", \"marker\": {\"color\": \"#636efa\", \"symbol\": \"circle\"}, \"name\": \"2019-08-06\", \"showlegend\": true, \"type\": \"splom\"}, {\"dimensions\": [{\"axis\": {\"matches\": true}, \"label\": \"Page Views\", \"values\": [2693]}, {\"axis\": {\"matches\": true}, \"label\": \"NetA_imp\", \"values\": [84]}, {\"axis\": {\"matches\": true}, \"label\": \"NetA_spd\", \"values\": [2316]}, {\"axis\": {\"matches\": true}, \"label\": \"NetB_imp\", \"values\": [129]}, {\"axis\": {\"matches\": true}, \"label\": \"NetB_spd\", \"values\": [5960]}], \"hovertemplate\": \"Date=2019-08-07<br>%{xaxis.title.text}=%{x}<br>%{yaxis.title.text}=%{y}<extra></extra>\", \"legendgroup\": \"2019-08-07\", \"marker\": {\"color\": \"#EF553B\", \"symbol\": \"circle\"}, \"name\": \"2019-08-07\", \"showlegend\": true, \"type\": \"splom\"}, {\"dimensions\": [{\"axis\": {\"matches\": true}, \"label\": \"Page Views\", \"values\": [2629]}, {\"axis\": {\"matches\": true}, \"label\": \"NetA_imp\", \"values\": [193]}, {\"axis\": {\"matches\": true}, \"label\": \"NetA_spd\", \"values\": [10376]}, {\"axis\": {\"matches\": true}, \"label\": \"NetB_imp\", \"values\": [117]}, {\"axis\": {\"matches\": true}, \"label\": \"NetB_spd\", \"values\": [2744]}], \"hovertemplate\": \"Date=2019-08-08<br>%{xaxis.title.text}=%{x}<br>%{yaxis.title.text}=%{y}<extra></extra>\", \"legendgroup\": \"2019-08-08\", \"marker\": {\"color\": \"#00cc96\", \"symbol\": \"circle\"}, \"name\": \"2019-08-08\", \"showlegend\": true, \"type\": \"splom\"}, {\"dimensions\": [{\"axis\": {\"matches\": true}, \"label\": \"Page Views\", \"values\": [2922]}, {\"axis\": {\"matches\": true}, \"label\": \"NetA_imp\", \"values\": [49]}, {\"axis\": {\"matches\": true}, \"label\": \"NetA_spd\", \"values\": [1215]}, {\"axis\": {\"matches\": true}, \"label\": \"NetB_imp\", \"values\": [134]}, {\"axis\": {\"matches\": true}, \"label\": \"NetB_spd\", \"values\": [3807]}], \"hovertemplate\": \"Date=2019-08-09<br>%{xaxis.title.text}=%{x}<br>%{yaxis.title.text}=%{y}<extra></extra>\", \"legendgroup\": \"2019-08-09\", \"marker\": {\"color\": \"#ab63fa\", \"symbol\": \"circle\"}, \"name\": \"2019-08-09\", \"showlegend\": true, \"type\": \"splom\"}, {\"dimensions\": [{\"axis\": {\"matches\": true}, \"label\": \"Page Views\", \"values\": [2873]}, {\"axis\": {\"matches\": true}, \"label\": \"NetA_imp\", \"values\": [78]}, {\"axis\": {\"matches\": true}, \"label\": \"NetA_spd\", \"values\": [1578]}, {\"axis\": {\"matches\": true}, \"label\": \"NetB_imp\", \"values\": [90]}, {\"axis\": {\"matches\": true}, \"label\": \"NetB_spd\", \"values\": [1345]}], \"hovertemplate\": \"Date=2019-08-10<br>%{xaxis.title.text}=%{x}<br>%{yaxis.title.text}=%{y}<extra></extra>\", \"legendgroup\": \"2019-08-10\", \"marker\": {\"color\": \"#FFA15A\", \"symbol\": \"circle\"}, \"name\": \"2019-08-10\", \"showlegend\": true, \"type\": \"splom\"}, {\"dimensions\": [{\"axis\": {\"matches\": true}, \"label\": \"Page Views\", \"values\": [3057]}, {\"axis\": {\"matches\": true}, \"label\": \"NetA_imp\", \"values\": [158]}, {\"axis\": {\"matches\": true}, \"label\": \"NetA_spd\", \"values\": [6856]}, {\"axis\": {\"matches\": true}, \"label\": \"NetB_imp\", \"values\": [44]}, {\"axis\": {\"matches\": true}, \"label\": \"NetB_spd\", \"values\": [1081]}], \"hovertemplate\": \"Date=2019-08-11<br>%{xaxis.title.text}=%{x}<br>%{yaxis.title.text}=%{y}<extra></extra>\", \"legendgroup\": \"2019-08-11\", \"marker\": {\"color\": \"#19d3f3\", \"symbol\": \"circle\"}, \"name\": \"2019-08-11\", \"showlegend\": true, \"type\": \"splom\"}, {\"dimensions\": [{\"axis\": {\"matches\": true}, \"label\": \"Page Views\", \"values\": [3357]}, {\"axis\": {\"matches\": true}, \"label\": \"NetA_imp\", \"values\": [196]}, {\"axis\": {\"matches\": true}, \"label\": \"NetA_spd\", \"values\": [4946]}, {\"axis\": {\"matches\": true}, \"label\": \"NetB_imp\", \"values\": [130]}, {\"axis\": {\"matches\": true}, \"label\": \"NetB_spd\", \"values\": [3585]}], \"hovertemplate\": \"Date=2019-08-12<br>%{xaxis.title.text}=%{x}<br>%{yaxis.title.text}=%{y}<extra></extra>\", \"legendgroup\": \"2019-08-12\", \"marker\": {\"color\": \"#FF6692\", \"symbol\": \"circle\"}, \"name\": \"2019-08-12\", \"showlegend\": true, \"type\": \"splom\"}, {\"dimensions\": [{\"axis\": {\"matches\": true}, \"label\": \"Page Views\", \"values\": [3013]}, {\"axis\": {\"matches\": true}, \"label\": \"NetA_imp\", \"values\": [94]}, {\"axis\": {\"matches\": true}, \"label\": \"NetA_spd\", \"values\": [3042]}, {\"axis\": {\"matches\": true}, \"label\": \"NetB_imp\", \"values\": [187]}, {\"axis\": {\"matches\": true}, \"label\": \"NetB_spd\", \"values\": [5702]}], \"hovertemplate\": \"Date=2019-08-13<br>%{xaxis.title.text}=%{x}<br>%{yaxis.title.text}=%{y}<extra></extra>\", \"legendgroup\": \"2019-08-13\", \"marker\": {\"color\": \"#B6E880\", \"symbol\": \"circle\"}, \"name\": \"2019-08-13\", \"showlegend\": true, \"type\": \"splom\"}, {\"dimensions\": [{\"axis\": {\"matches\": true}, \"label\": \"Page Views\", \"values\": [3542]}, {\"axis\": {\"matches\": true}, \"label\": \"NetA_imp\", \"values\": [72]}, {\"axis\": {\"matches\": true}, \"label\": \"NetA_spd\", \"values\": [1472]}, {\"axis\": {\"matches\": true}, \"label\": \"NetB_imp\", \"values\": [178]}, {\"axis\": {\"matches\": true}, \"label\": \"NetB_spd\", \"values\": [5270]}], \"hovertemplate\": \"Date=2019-08-14<br>%{xaxis.title.text}=%{x}<br>%{yaxis.title.text}=%{y}<extra></extra>\", \"legendgroup\": \"2019-08-14\", \"marker\": {\"color\": \"#FF97FF\", \"symbol\": \"circle\"}, \"name\": \"2019-08-14\", \"showlegend\": true, \"type\": \"splom\"}, {\"dimensions\": [{\"axis\": {\"matches\": true}, \"label\": \"Page Views\", \"values\": [3093]}, {\"axis\": {\"matches\": true}, \"label\": \"NetA_imp\", \"values\": [208]}, {\"axis\": {\"matches\": true}, \"label\": \"NetA_spd\", \"values\": [8595]}, {\"axis\": {\"matches\": true}, \"label\": \"NetB_imp\", \"values\": [111]}, {\"axis\": {\"matches\": true}, \"label\": \"NetB_spd\", \"values\": [2740]}], \"hovertemplate\": \"Date=2019-08-15<br>%{xaxis.title.text}=%{x}<br>%{yaxis.title.text}=%{y}<extra></extra>\", \"legendgroup\": \"2019-08-15\", \"marker\": {\"color\": \"#FECB52\", \"symbol\": \"circle\"}, \"name\": \"2019-08-15\", \"showlegend\": true, \"type\": \"splom\"}, {\"dimensions\": [{\"axis\": {\"matches\": true}, \"label\": \"Page Views\", \"values\": [2714]}, {\"axis\": {\"matches\": true}, \"label\": \"NetA_imp\", \"values\": [24]}, {\"axis\": {\"matches\": true}, \"label\": \"NetA_spd\", \"values\": [607]}, {\"axis\": {\"matches\": true}, \"label\": \"NetB_imp\", \"values\": [110]}, {\"axis\": {\"matches\": true}, \"label\": \"NetB_spd\", \"values\": [4937]}], \"hovertemplate\": \"Date=2019-08-16<br>%{xaxis.title.text}=%{x}<br>%{yaxis.title.text}=%{y}<extra></extra>\", \"legendgroup\": \"2019-08-16\", \"marker\": {\"color\": \"#636efa\", \"symbol\": \"circle\"}, \"name\": \"2019-08-16\", \"showlegend\": true, \"type\": \"splom\"}, {\"dimensions\": [{\"axis\": {\"matches\": true}, \"label\": \"Page Views\", \"values\": [2809]}, {\"axis\": {\"matches\": true}, \"label\": \"NetA_imp\", \"values\": [52]}, {\"axis\": {\"matches\": true}, \"label\": \"NetA_spd\", \"values\": [465]}, {\"axis\": {\"matches\": true}, \"label\": \"NetB_imp\", \"values\": [123]}, {\"axis\": {\"matches\": true}, \"label\": \"NetB_spd\", \"values\": [3524]}], \"hovertemplate\": \"Date=2019-08-17<br>%{xaxis.title.text}=%{x}<br>%{yaxis.title.text}=%{y}<extra></extra>\", \"legendgroup\": \"2019-08-17\", \"marker\": {\"color\": \"#EF553B\", \"symbol\": \"circle\"}, \"name\": \"2019-08-17\", \"showlegend\": true, \"type\": \"splom\"}, {\"dimensions\": [{\"axis\": {\"matches\": true}, \"label\": \"Page Views\", \"values\": [3113]}, {\"axis\": {\"matches\": true}, \"label\": \"NetA_imp\", \"values\": [185]}, {\"axis\": {\"matches\": true}, \"label\": \"NetA_spd\", \"values\": [6226]}, {\"axis\": {\"matches\": true}, \"label\": \"NetB_imp\", \"values\": [156]}, {\"axis\": {\"matches\": true}, \"label\": \"NetB_spd\", \"values\": [6690]}], \"hovertemplate\": \"Date=2019-08-18<br>%{xaxis.title.text}=%{x}<br>%{yaxis.title.text}=%{y}<extra></extra>\", \"legendgroup\": \"2019-08-18\", \"marker\": {\"color\": \"#00cc96\", \"symbol\": \"circle\"}, \"name\": \"2019-08-18\", \"showlegend\": true, \"type\": \"splom\"}, {\"dimensions\": [{\"axis\": {\"matches\": true}, \"label\": \"Page Views\", \"values\": [3486]}, {\"axis\": {\"matches\": true}, \"label\": \"NetA_imp\", \"values\": [154]}, {\"axis\": {\"matches\": true}, \"label\": \"NetA_spd\", \"values\": [6174]}, {\"axis\": {\"matches\": true}, \"label\": \"NetB_imp\", \"values\": [103]}, {\"axis\": {\"matches\": true}, \"label\": \"NetB_spd\", \"values\": [3473]}], \"hovertemplate\": \"Date=2019-08-19<br>%{xaxis.title.text}=%{x}<br>%{yaxis.title.text}=%{y}<extra></extra>\", \"legendgroup\": \"2019-08-19\", \"marker\": {\"color\": \"#ab63fa\", \"symbol\": \"circle\"}, \"name\": \"2019-08-19\", \"showlegend\": true, \"type\": \"splom\"}, {\"dimensions\": [{\"axis\": {\"matches\": true}, \"label\": \"Page Views\", \"values\": [3425]}, {\"axis\": {\"matches\": true}, \"label\": \"NetA_imp\", \"values\": [71]}, {\"axis\": {\"matches\": true}, \"label\": \"NetA_spd\", \"values\": [2144]}, {\"axis\": {\"matches\": true}, \"label\": \"NetB_imp\", \"values\": [134]}, {\"axis\": {\"matches\": true}, \"label\": \"NetB_spd\", \"values\": [6624]}], \"hovertemplate\": \"Date=2019-08-20<br>%{xaxis.title.text}=%{x}<br>%{yaxis.title.text}=%{y}<extra></extra>\", \"legendgroup\": \"2019-08-20\", \"marker\": {\"color\": \"#FFA15A\", \"symbol\": \"circle\"}, \"name\": \"2019-08-20\", \"showlegend\": true, \"type\": \"splom\"}, {\"dimensions\": [{\"axis\": {\"matches\": true}, \"label\": \"Page Views\", \"values\": [4066]}, {\"axis\": {\"matches\": true}, \"label\": \"NetA_imp\", \"values\": [70]}, {\"axis\": {\"matches\": true}, \"label\": \"NetA_spd\", \"values\": [1663]}, {\"axis\": {\"matches\": true}, \"label\": \"NetB_imp\", \"values\": [136]}, {\"axis\": {\"matches\": true}, \"label\": \"NetB_spd\", \"values\": [2576]}], \"hovertemplate\": \"Date=2019-08-21<br>%{xaxis.title.text}=%{x}<br>%{yaxis.title.text}=%{y}<extra></extra>\", \"legendgroup\": \"2019-08-21\", \"marker\": {\"color\": \"#19d3f3\", \"symbol\": \"circle\"}, \"name\": \"2019-08-21\", \"showlegend\": true, \"type\": \"splom\"}, {\"dimensions\": [{\"axis\": {\"matches\": true}, \"label\": \"Page Views\", \"values\": [3167]}, {\"axis\": {\"matches\": true}, \"label\": \"NetA_imp\", \"values\": [84]}, {\"axis\": {\"matches\": true}, \"label\": \"NetA_spd\", \"values\": [2534]}, {\"axis\": {\"matches\": true}, \"label\": \"NetB_imp\", \"values\": [227]}, {\"axis\": {\"matches\": true}, \"label\": \"NetB_spd\", \"values\": [6867]}], \"hovertemplate\": \"Date=2019-08-22<br>%{xaxis.title.text}=%{x}<br>%{yaxis.title.text}=%{y}<extra></extra>\", \"legendgroup\": \"2019-08-22\", \"marker\": {\"color\": \"#FF6692\", \"symbol\": \"circle\"}, \"name\": \"2019-08-22\", \"showlegend\": true, \"type\": \"splom\"}, {\"dimensions\": [{\"axis\": {\"matches\": true}, \"label\": \"Page Views\", \"values\": [3031]}, {\"axis\": {\"matches\": true}, \"label\": \"NetA_imp\", \"values\": [140]}, {\"axis\": {\"matches\": true}, \"label\": \"NetA_spd\", \"values\": [6518]}, {\"axis\": {\"matches\": true}, \"label\": \"NetB_imp\", \"values\": [71]}, {\"axis\": {\"matches\": true}, \"label\": \"NetB_spd\", \"values\": [2432]}], \"hovertemplate\": \"Date=2019-08-23<br>%{xaxis.title.text}=%{x}<br>%{yaxis.title.text}=%{y}<extra></extra>\", \"legendgroup\": \"2019-08-23\", \"marker\": {\"color\": \"#B6E880\", \"symbol\": \"circle\"}, \"name\": \"2019-08-23\", \"showlegend\": true, \"type\": \"splom\"}, {\"dimensions\": [{\"axis\": {\"matches\": true}, \"label\": \"Page Views\", \"values\": [3107]}, {\"axis\": {\"matches\": true}, \"label\": \"NetA_imp\", \"values\": [94]}, {\"axis\": {\"matches\": true}, \"label\": \"NetA_spd\", \"values\": [2598]}, {\"axis\": {\"matches\": true}, \"label\": \"NetB_imp\", \"values\": [139]}, {\"axis\": {\"matches\": true}, \"label\": \"NetB_spd\", \"values\": [3953]}], \"hovertemplate\": \"Date=2019-08-24<br>%{xaxis.title.text}=%{x}<br>%{yaxis.title.text}=%{y}<extra></extra>\", \"legendgroup\": \"2019-08-24\", \"marker\": {\"color\": \"#FF97FF\", \"symbol\": \"circle\"}, \"name\": \"2019-08-24\", \"showlegend\": true, \"type\": \"splom\"}],                        {\"dragmode\": \"select\", \"legend\": {\"title\": {\"text\": \"Date\"}, \"tracegroupgap\": 0}, \"margin\": {\"t\": 60}, \"template\": {\"data\": {\"bar\": [{\"error_x\": {\"color\": \"#2a3f5f\"}, \"error_y\": {\"color\": \"#2a3f5f\"}, \"marker\": {\"line\": {\"color\": \"#E5ECF6\", \"width\": 0.5}}, \"type\": \"bar\"}], \"barpolar\": [{\"marker\": {\"line\": {\"color\": \"#E5ECF6\", \"width\": 0.5}}, \"type\": \"barpolar\"}], \"carpet\": [{\"aaxis\": {\"endlinecolor\": \"#2a3f5f\", \"gridcolor\": \"white\", \"linecolor\": \"white\", \"minorgridcolor\": \"white\", \"startlinecolor\": \"#2a3f5f\"}, \"baxis\": {\"endlinecolor\": \"#2a3f5f\", \"gridcolor\": \"white\", \"linecolor\": \"white\", \"minorgridcolor\": \"white\", \"startlinecolor\": \"#2a3f5f\"}, \"type\": \"carpet\"}], \"choropleth\": [{\"colorbar\": {\"outlinewidth\": 0, \"ticks\": \"\"}, \"type\": \"choropleth\"}], \"contour\": [{\"colorbar\": {\"outlinewidth\": 0, \"ticks\": \"\"}, \"colorscale\": [[0.0, \"#0d0887\"], [0.1111111111111111, \"#46039f\"], [0.2222222222222222, \"#7201a8\"], [0.3333333333333333, \"#9c179e\"], [0.4444444444444444, \"#bd3786\"], [0.5555555555555556, \"#d8576b\"], [0.6666666666666666, \"#ed7953\"], [0.7777777777777778, \"#fb9f3a\"], [0.8888888888888888, \"#fdca26\"], [1.0, \"#f0f921\"]], \"type\": \"contour\"}], \"contourcarpet\": [{\"colorbar\": {\"outlinewidth\": 0, \"ticks\": \"\"}, \"type\": \"contourcarpet\"}], \"heatmap\": [{\"colorbar\": {\"outlinewidth\": 0, \"ticks\": \"\"}, \"colorscale\": [[0.0, \"#0d0887\"], [0.1111111111111111, \"#46039f\"], [0.2222222222222222, \"#7201a8\"], [0.3333333333333333, \"#9c179e\"], [0.4444444444444444, \"#bd3786\"], [0.5555555555555556, \"#d8576b\"], [0.6666666666666666, \"#ed7953\"], [0.7777777777777778, \"#fb9f3a\"], [0.8888888888888888, \"#fdca26\"], [1.0, \"#f0f921\"]], \"type\": \"heatmap\"}], \"heatmapgl\": [{\"colorbar\": {\"outlinewidth\": 0, \"ticks\": \"\"}, \"colorscale\": [[0.0, \"#0d0887\"], [0.1111111111111111, \"#46039f\"], [0.2222222222222222, \"#7201a8\"], [0.3333333333333333, \"#9c179e\"], [0.4444444444444444, \"#bd3786\"], [0.5555555555555556, \"#d8576b\"], [0.6666666666666666, \"#ed7953\"], [0.7777777777777778, \"#fb9f3a\"], [0.8888888888888888, \"#fdca26\"], [1.0, \"#f0f921\"]], \"type\": \"heatmapgl\"}], \"histogram\": [{\"marker\": {\"colorbar\": {\"outlinewidth\": 0, \"ticks\": \"\"}}, \"type\": \"histogram\"}], \"histogram2d\": [{\"colorbar\": {\"outlinewidth\": 0, \"ticks\": \"\"}, \"colorscale\": [[0.0, \"#0d0887\"], [0.1111111111111111, \"#46039f\"], [0.2222222222222222, \"#7201a8\"], [0.3333333333333333, \"#9c179e\"], [0.4444444444444444, \"#bd3786\"], [0.5555555555555556, \"#d8576b\"], [0.6666666666666666, \"#ed7953\"], [0.7777777777777778, \"#fb9f3a\"], [0.8888888888888888, \"#fdca26\"], [1.0, \"#f0f921\"]], \"type\": \"histogram2d\"}], \"histogram2dcontour\": [{\"colorbar\": {\"outlinewidth\": 0, \"ticks\": \"\"}, \"colorscale\": [[0.0, \"#0d0887\"], [0.1111111111111111, \"#46039f\"], [0.2222222222222222, \"#7201a8\"], [0.3333333333333333, \"#9c179e\"], [0.4444444444444444, \"#bd3786\"], [0.5555555555555556, \"#d8576b\"], [0.6666666666666666, \"#ed7953\"], [0.7777777777777778, \"#fb9f3a\"], [0.8888888888888888, \"#fdca26\"], [1.0, \"#f0f921\"]], \"type\": \"histogram2dcontour\"}], \"mesh3d\": [{\"colorbar\": {\"outlinewidth\": 0, \"ticks\": \"\"}, \"type\": \"mesh3d\"}], \"parcoords\": [{\"line\": {\"colorbar\": {\"outlinewidth\": 0, \"ticks\": \"\"}}, \"type\": \"parcoords\"}], \"pie\": [{\"automargin\": true, \"type\": \"pie\"}], \"scatter\": [{\"marker\": {\"colorbar\": {\"outlinewidth\": 0, \"ticks\": \"\"}}, \"type\": \"scatter\"}], \"scatter3d\": [{\"line\": {\"colorbar\": {\"outlinewidth\": 0, \"ticks\": \"\"}}, \"marker\": {\"colorbar\": {\"outlinewidth\": 0, \"ticks\": \"\"}}, \"type\": \"scatter3d\"}], \"scattercarpet\": [{\"marker\": {\"colorbar\": {\"outlinewidth\": 0, \"ticks\": \"\"}}, \"type\": \"scattercarpet\"}], \"scattergeo\": [{\"marker\": {\"colorbar\": {\"outlinewidth\": 0, \"ticks\": \"\"}}, \"type\": \"scattergeo\"}], \"scattergl\": [{\"marker\": {\"colorbar\": {\"outlinewidth\": 0, \"ticks\": \"\"}}, \"type\": \"scattergl\"}], \"scattermapbox\": [{\"marker\": {\"colorbar\": {\"outlinewidth\": 0, \"ticks\": \"\"}}, \"type\": \"scattermapbox\"}], \"scatterpolar\": [{\"marker\": {\"colorbar\": {\"outlinewidth\": 0, \"ticks\": \"\"}}, \"type\": \"scatterpolar\"}], \"scatterpolargl\": [{\"marker\": {\"colorbar\": {\"outlinewidth\": 0, \"ticks\": \"\"}}, \"type\": \"scatterpolargl\"}], \"scatterternary\": [{\"marker\": {\"colorbar\": {\"outlinewidth\": 0, \"ticks\": \"\"}}, \"type\": \"scatterternary\"}], \"surface\": [{\"colorbar\": {\"outlinewidth\": 0, \"ticks\": \"\"}, \"colorscale\": [[0.0, \"#0d0887\"], [0.1111111111111111, \"#46039f\"], [0.2222222222222222, \"#7201a8\"], [0.3333333333333333, \"#9c179e\"], [0.4444444444444444, \"#bd3786\"], [0.5555555555555556, \"#d8576b\"], [0.6666666666666666, \"#ed7953\"], [0.7777777777777778, \"#fb9f3a\"], [0.8888888888888888, \"#fdca26\"], [1.0, \"#f0f921\"]], \"type\": \"surface\"}], \"table\": [{\"cells\": {\"fill\": {\"color\": \"#EBF0F8\"}, \"line\": {\"color\": \"white\"}}, \"header\": {\"fill\": {\"color\": \"#C8D4E3\"}, \"line\": {\"color\": \"white\"}}, \"type\": \"table\"}]}, \"layout\": {\"annotationdefaults\": {\"arrowcolor\": \"#2a3f5f\", \"arrowhead\": 0, \"arrowwidth\": 1}, \"autotypenumbers\": \"strict\", \"coloraxis\": {\"colorbar\": {\"outlinewidth\": 0, \"ticks\": \"\"}}, \"colorscale\": {\"diverging\": [[0, \"#8e0152\"], [0.1, \"#c51b7d\"], [0.2, \"#de77ae\"], [0.3, \"#f1b6da\"], [0.4, \"#fde0ef\"], [0.5, \"#f7f7f7\"], [0.6, \"#e6f5d0\"], [0.7, \"#b8e186\"], [0.8, \"#7fbc41\"], [0.9, \"#4d9221\"], [1, \"#276419\"]], \"sequential\": [[0.0, \"#0d0887\"], [0.1111111111111111, \"#46039f\"], [0.2222222222222222, \"#7201a8\"], [0.3333333333333333, \"#9c179e\"], [0.4444444444444444, \"#bd3786\"], [0.5555555555555556, \"#d8576b\"], [0.6666666666666666, \"#ed7953\"], [0.7777777777777778, \"#fb9f3a\"], [0.8888888888888888, \"#fdca26\"], [1.0, \"#f0f921\"]], \"sequentialminus\": [[0.0, \"#0d0887\"], [0.1111111111111111, \"#46039f\"], [0.2222222222222222, \"#7201a8\"], [0.3333333333333333, \"#9c179e\"], [0.4444444444444444, \"#bd3786\"], [0.5555555555555556, \"#d8576b\"], [0.6666666666666666, \"#ed7953\"], [0.7777777777777778, \"#fb9f3a\"], [0.8888888888888888, \"#fdca26\"], [1.0, \"#f0f921\"]]}, \"colorway\": [\"#636efa\", \"#EF553B\", \"#00cc96\", \"#ab63fa\", \"#FFA15A\", \"#19d3f3\", \"#FF6692\", \"#B6E880\", \"#FF97FF\", \"#FECB52\"], \"font\": {\"color\": \"#2a3f5f\"}, \"geo\": {\"bgcolor\": \"white\", \"lakecolor\": \"white\", \"landcolor\": \"#E5ECF6\", \"showlakes\": true, \"showland\": true, \"subunitcolor\": \"white\"}, \"hoverlabel\": {\"align\": \"left\"}, \"hovermode\": \"closest\", \"mapbox\": {\"style\": \"light\"}, \"paper_bgcolor\": \"white\", \"plot_bgcolor\": \"#E5ECF6\", \"polar\": {\"angularaxis\": {\"gridcolor\": \"white\", \"linecolor\": \"white\", \"ticks\": \"\"}, \"bgcolor\": \"#E5ECF6\", \"radialaxis\": {\"gridcolor\": \"white\", \"linecolor\": \"white\", \"ticks\": \"\"}}, \"scene\": {\"xaxis\": {\"backgroundcolor\": \"#E5ECF6\", \"gridcolor\": \"white\", \"gridwidth\": 2, \"linecolor\": \"white\", \"showbackground\": true, \"ticks\": \"\", \"zerolinecolor\": \"white\"}, \"yaxis\": {\"backgroundcolor\": \"#E5ECF6\", \"gridcolor\": \"white\", \"gridwidth\": 2, \"linecolor\": \"white\", \"showbackground\": true, \"ticks\": \"\", \"zerolinecolor\": \"white\"}, \"zaxis\": {\"backgroundcolor\": \"#E5ECF6\", \"gridcolor\": \"white\", \"gridwidth\": 2, \"linecolor\": \"white\", \"showbackground\": true, \"ticks\": \"\", \"zerolinecolor\": \"white\"}}, \"shapedefaults\": {\"line\": {\"color\": \"#2a3f5f\"}}, \"ternary\": {\"aaxis\": {\"gridcolor\": \"white\", \"linecolor\": \"white\", \"ticks\": \"\"}, \"baxis\": {\"gridcolor\": \"white\", \"linecolor\": \"white\", \"ticks\": \"\"}, \"bgcolor\": \"#E5ECF6\", \"caxis\": {\"gridcolor\": \"white\", \"linecolor\": \"white\", \"ticks\": \"\"}}, \"title\": {\"x\": 0.05}, \"xaxis\": {\"automargin\": true, \"gridcolor\": \"white\", \"linecolor\": \"white\", \"ticks\": \"\", \"title\": {\"standoff\": 15}, \"zerolinecolor\": \"white\", \"zerolinewidth\": 2}, \"yaxis\": {\"automargin\": true, \"gridcolor\": \"white\", \"linecolor\": \"white\", \"ticks\": \"\", \"title\": {\"standoff\": 15}, \"zerolinecolor\": \"white\", \"zerolinewidth\": 2}}}, \"title\": {\"text\": \"Relationships between Page Views, Network Impressions and Spend variables - Aggregated Daily\"}},                        {\"responsive\": true}                    ).then(function(){\n",
       "                            \n",
       "var gd = document.getElementById('fac2455d-8c93-48c0-9056-79adc7e533b7');\n",
>>>>>>> main
>>>>>>> main
       "var x = new MutationObserver(function (mutations, observer) {{\n",
       "        var display = window.getComputedStyle(gd).display;\n",
       "        if (!display || display === 'none') {{\n",
       "            console.log([gd, 'removed!']);\n",
       "            Plotly.purge(gd);\n",
       "            observer.disconnect();\n",
       "        }}\n",
       "}});\n",
       "\n",
       "// Listen for the removal of the full notebook cells\n",
       "var notebookContainer = gd.closest('#notebook-container');\n",
       "if (notebookContainer) {{\n",
       "    x.observe(notebookContainer, {childList: true});\n",
       "}}\n",
       "\n",
       "// Listen for the clearing of the current output cell\n",
       "var outputEl = gd.closest('.output');\n",
       "if (outputEl) {{\n",
       "    x.observe(outputEl, {childList: true});\n",
       "}}\n",
       "\n",
       "                        })                };                });            </script>        </div>"
      ]
     },
     "metadata": {},
     "output_type": "display_data"
    }
   ],
   "source": [
    "fig = px.scatter_matrix(df_daily_agg, dimensions=['Page Views', 'NetA_imp','NetA_spd'\\\n",
    "                                         , 'NetB_imp', 'NetB_spd'],color='Date')\n",
    "fig.update_layout(title=\"Relationships between Page Views, Network Impressions and Spend variables - Aggregated Daily\")\n",
    "fig.show()"
   ]
  },
  {
   "cell_type": "code",
<<<<<<< HEAD
   "execution_count": 141,
=======
<<<<<<< HEAD
   "execution_count": 48,
=======
   "execution_count": 21,
>>>>>>> main
>>>>>>> main
   "id": "driven-morrison",
   "metadata": {},
   "outputs": [
    {
     "data": {
      "application/vnd.plotly.v1+json": {
       "config": {
        "plotlyServerURL": "https://plot.ly"
       },
       "data": [
        {
         "dimensions": [
          {
           "axis": {
            "matches": true
           },
           "label": "Page Views",
           "values": [
            26851
           ]
          },
          {
           "axis": {
            "matches": true
           },
           "label": "NetA_imp",
           "values": [
            1224
           ]
          },
          {
           "axis": {
            "matches": true
           },
           "label": "NetA_spd",
           "values": [
            28805
           ]
          },
          {
           "axis": {
            "matches": true
           },
           "label": "NetB_imp",
           "values": [
            1004
           ]
          },
          {
           "axis": {
            "matches": true
           },
           "label": "NetB_spd",
           "values": [
            25066
           ]
          }
         ],
         "hovertemplate": "Weekday=Mon<br>%{xaxis.title.text}=%{x}<br>%{yaxis.title.text}=%{y}<extra></extra>",
         "legendgroup": "Mon",
         "marker": {
          "color": "#636efa",
          "symbol": "circle"
         },
         "name": "Mon",
         "showlegend": true,
         "type": "splom"
        },
        {
         "dimensions": [
          {
           "axis": {
            "matches": true
           },
           "label": "Page Views",
           "values": [
            23718
           ]
          },
          {
           "axis": {
            "matches": true
           },
           "label": "NetA_imp",
           "values": [
            1133
           ]
          },
          {
           "axis": {
            "matches": true
           },
           "label": "NetA_spd",
           "values": [
            9504
           ]
          },
          {
           "axis": {
            "matches": true
           },
           "label": "NetB_imp",
           "values": [
            1318
           ]
          },
          {
           "axis": {
            "matches": true
           },
           "label": "NetB_spd",
           "values": [
            29337
           ]
          }
         ],
         "hovertemplate": "Weekday=Tue<br>%{xaxis.title.text}=%{x}<br>%{yaxis.title.text}=%{y}<extra></extra>",
         "legendgroup": "Tue",
         "marker": {
          "color": "#EF553B",
          "symbol": "circle"
         },
         "name": "Tue",
         "showlegend": true,
         "type": "splom"
        },
        {
         "dimensions": [
          {
           "axis": {
            "matches": true
           },
           "label": "Page Views",
           "values": [
            23750
           ]
          },
          {
           "axis": {
            "matches": true
           },
           "label": "NetA_imp",
           "values": [
            631
           ]
          },
          {
           "axis": {
            "matches": true
           },
           "label": "NetA_spd",
           "values": [
            14817
           ]
          },
          {
           "axis": {
            "matches": true
           },
           "label": "NetB_imp",
           "values": [
            1045
           ]
          },
          {
           "axis": {
            "matches": true
           },
           "label": "NetB_spd",
           "values": [
            19672
           ]
          }
         ],
         "hovertemplate": "Weekday=Wed<br>%{xaxis.title.text}=%{x}<br>%{yaxis.title.text}=%{y}<extra></extra>",
         "legendgroup": "Wed",
         "marker": {
          "color": "#00cc96",
          "symbol": "circle"
         },
         "name": "Wed",
         "showlegend": true,
         "type": "splom"
        },
        {
         "dimensions": [
          {
           "axis": {
            "matches": true
           },
           "label": "Page Views",
           "values": [
            22541
           ]
          },
          {
           "axis": {
            "matches": true
           },
           "label": "NetA_imp",
           "values": [
            879
           ]
          },
          {
           "axis": {
            "matches": true
           },
           "label": "NetA_spd",
           "values": [
            27272
           ]
          },
          {
           "axis": {
            "matches": true
           },
           "label": "NetB_imp",
           "values": [
            728
           ]
          },
          {
           "axis": {
            "matches": true
           },
           "label": "NetB_spd",
           "values": [
            14708
           ]
          }
         ],
         "hovertemplate": "Weekday=Thu<br>%{xaxis.title.text}=%{x}<br>%{yaxis.title.text}=%{y}<extra></extra>",
         "legendgroup": "Thu",
         "marker": {
          "color": "#ab63fa",
          "symbol": "circle"
         },
         "name": "Thu",
         "showlegend": true,
         "type": "splom"
        },
        {
         "dimensions": [
          {
           "axis": {
            "matches": true
           },
           "label": "Page Views",
           "values": [
            21507
           ]
          },
          {
           "axis": {
            "matches": true
           },
           "label": "NetA_imp",
           "values": [
            452
           ]
          },
          {
           "axis": {
            "matches": true
           },
           "label": "NetA_spd",
           "values": [
            14433
           ]
          },
          {
           "axis": {
            "matches": true
           },
           "label": "NetB_imp",
           "values": [
            810
           ]
          },
          {
           "axis": {
            "matches": true
           },
           "label": "NetB_spd",
           "values": [
            17552
           ]
          }
         ],
         "hovertemplate": "Weekday=Fri<br>%{xaxis.title.text}=%{x}<br>%{yaxis.title.text}=%{y}<extra></extra>",
         "legendgroup": "Fri",
         "marker": {
          "color": "#FFA15A",
          "symbol": "circle"
         },
         "name": "Fri",
         "showlegend": true,
         "type": "splom"
        },
        {
         "dimensions": [
          {
           "axis": {
            "matches": true
           },
           "label": "Page Views",
           "values": [
            21709
           ]
          },
          {
           "axis": {
            "matches": true
           },
           "label": "NetA_imp",
           "values": [
            514
           ]
          },
          {
           "axis": {
            "matches": true
           },
           "label": "NetA_spd",
           "values": [
            6816
           ]
          },
          {
           "axis": {
            "matches": true
           },
           "label": "NetB_imp",
           "values": [
            945
           ]
          },
          {
           "axis": {
            "matches": true
           },
           "label": "NetB_spd",
           "values": [
            14441
           ]
          }
         ],
         "hovertemplate": "Weekday=Sat<br>%{xaxis.title.text}=%{x}<br>%{yaxis.title.text}=%{y}<extra></extra>",
         "legendgroup": "Sat",
         "marker": {
          "color": "#19d3f3",
          "symbol": "circle"
         },
         "name": "Sat",
         "showlegend": true,
         "type": "splom"
        },
        {
         "dimensions": [
          {
           "axis": {
            "matches": true
           },
           "label": "Page Views",
           "values": [
            23878
           ]
          },
          {
           "axis": {
            "matches": true
           },
           "label": "NetA_imp",
           "values": [
            1131
           ]
          },
          {
           "axis": {
            "matches": true
           },
           "label": "NetA_spd",
           "values": [
            20595
           ]
          },
          {
           "axis": {
            "matches": true
           },
           "label": "NetB_imp",
           "values": [
            838
           ]
          },
          {
           "axis": {
            "matches": true
           },
           "label": "NetB_spd",
           "values": [
            17475
           ]
          }
         ],
         "hovertemplate": "Weekday=Sun<br>%{xaxis.title.text}=%{x}<br>%{yaxis.title.text}=%{y}<extra></extra>",
         "legendgroup": "Sun",
         "marker": {
          "color": "#FF6692",
          "symbol": "circle"
         },
         "name": "Sun",
         "showlegend": true,
         "type": "splom"
        }
       ],
       "layout": {
        "dragmode": "select",
        "legend": {
         "title": {
          "text": "Weekday"
         },
         "tracegroupgap": 0
        },
        "margin": {
         "t": 60
        },
        "template": {
         "data": {
          "bar": [
           {
            "error_x": {
             "color": "#2a3f5f"
            },
            "error_y": {
             "color": "#2a3f5f"
            },
            "marker": {
             "line": {
              "color": "#E5ECF6",
              "width": 0.5
             }
            },
            "type": "bar"
           }
          ],
          "barpolar": [
           {
            "marker": {
             "line": {
              "color": "#E5ECF6",
              "width": 0.5
             }
            },
            "type": "barpolar"
           }
          ],
          "carpet": [
           {
            "aaxis": {
             "endlinecolor": "#2a3f5f",
             "gridcolor": "white",
             "linecolor": "white",
             "minorgridcolor": "white",
             "startlinecolor": "#2a3f5f"
            },
            "baxis": {
             "endlinecolor": "#2a3f5f",
             "gridcolor": "white",
             "linecolor": "white",
             "minorgridcolor": "white",
             "startlinecolor": "#2a3f5f"
            },
            "type": "carpet"
           }
          ],
          "choropleth": [
           {
            "colorbar": {
             "outlinewidth": 0,
             "ticks": ""
            },
            "type": "choropleth"
           }
          ],
          "contour": [
           {
            "colorbar": {
             "outlinewidth": 0,
             "ticks": ""
            },
            "colorscale": [
             [
              0,
              "#0d0887"
             ],
             [
              0.1111111111111111,
              "#46039f"
             ],
             [
              0.2222222222222222,
              "#7201a8"
             ],
             [
              0.3333333333333333,
              "#9c179e"
             ],
             [
              0.4444444444444444,
              "#bd3786"
             ],
             [
              0.5555555555555556,
              "#d8576b"
             ],
             [
              0.6666666666666666,
              "#ed7953"
             ],
             [
              0.7777777777777778,
              "#fb9f3a"
             ],
             [
              0.8888888888888888,
              "#fdca26"
             ],
             [
              1,
              "#f0f921"
             ]
            ],
            "type": "contour"
           }
          ],
          "contourcarpet": [
           {
            "colorbar": {
             "outlinewidth": 0,
             "ticks": ""
            },
            "type": "contourcarpet"
           }
          ],
          "heatmap": [
           {
            "colorbar": {
             "outlinewidth": 0,
             "ticks": ""
            },
            "colorscale": [
             [
              0,
              "#0d0887"
             ],
             [
              0.1111111111111111,
              "#46039f"
             ],
             [
              0.2222222222222222,
              "#7201a8"
             ],
             [
              0.3333333333333333,
              "#9c179e"
             ],
             [
              0.4444444444444444,
              "#bd3786"
             ],
             [
              0.5555555555555556,
              "#d8576b"
             ],
             [
              0.6666666666666666,
              "#ed7953"
             ],
             [
              0.7777777777777778,
              "#fb9f3a"
             ],
             [
              0.8888888888888888,
              "#fdca26"
             ],
             [
              1,
              "#f0f921"
             ]
            ],
            "type": "heatmap"
           }
          ],
          "heatmapgl": [
           {
            "colorbar": {
             "outlinewidth": 0,
             "ticks": ""
            },
            "colorscale": [
             [
              0,
              "#0d0887"
             ],
             [
              0.1111111111111111,
              "#46039f"
             ],
             [
              0.2222222222222222,
              "#7201a8"
             ],
             [
              0.3333333333333333,
              "#9c179e"
             ],
             [
              0.4444444444444444,
              "#bd3786"
             ],
             [
              0.5555555555555556,
              "#d8576b"
             ],
             [
              0.6666666666666666,
              "#ed7953"
             ],
             [
              0.7777777777777778,
              "#fb9f3a"
             ],
             [
              0.8888888888888888,
              "#fdca26"
             ],
             [
              1,
              "#f0f921"
             ]
            ],
            "type": "heatmapgl"
           }
          ],
          "histogram": [
           {
            "marker": {
             "colorbar": {
              "outlinewidth": 0,
              "ticks": ""
             }
            },
            "type": "histogram"
           }
          ],
          "histogram2d": [
           {
            "colorbar": {
             "outlinewidth": 0,
             "ticks": ""
            },
            "colorscale": [
             [
              0,
              "#0d0887"
             ],
             [
              0.1111111111111111,
              "#46039f"
             ],
             [
              0.2222222222222222,
              "#7201a8"
             ],
             [
              0.3333333333333333,
              "#9c179e"
             ],
             [
              0.4444444444444444,
              "#bd3786"
             ],
             [
              0.5555555555555556,
              "#d8576b"
             ],
             [
              0.6666666666666666,
              "#ed7953"
             ],
             [
              0.7777777777777778,
              "#fb9f3a"
             ],
             [
              0.8888888888888888,
              "#fdca26"
             ],
             [
              1,
              "#f0f921"
             ]
            ],
            "type": "histogram2d"
           }
          ],
          "histogram2dcontour": [
           {
            "colorbar": {
             "outlinewidth": 0,
             "ticks": ""
            },
            "colorscale": [
             [
              0,
              "#0d0887"
             ],
             [
              0.1111111111111111,
              "#46039f"
             ],
             [
              0.2222222222222222,
              "#7201a8"
             ],
             [
              0.3333333333333333,
              "#9c179e"
             ],
             [
              0.4444444444444444,
              "#bd3786"
             ],
             [
              0.5555555555555556,
              "#d8576b"
             ],
             [
              0.6666666666666666,
              "#ed7953"
             ],
             [
              0.7777777777777778,
              "#fb9f3a"
             ],
             [
              0.8888888888888888,
              "#fdca26"
             ],
             [
              1,
              "#f0f921"
             ]
            ],
            "type": "histogram2dcontour"
           }
          ],
          "mesh3d": [
           {
            "colorbar": {
             "outlinewidth": 0,
             "ticks": ""
            },
            "type": "mesh3d"
           }
          ],
          "parcoords": [
           {
            "line": {
             "colorbar": {
              "outlinewidth": 0,
              "ticks": ""
             }
            },
            "type": "parcoords"
           }
          ],
          "pie": [
           {
            "automargin": true,
            "type": "pie"
           }
          ],
          "scatter": [
           {
            "marker": {
             "colorbar": {
              "outlinewidth": 0,
              "ticks": ""
             }
            },
            "type": "scatter"
           }
          ],
          "scatter3d": [
           {
            "line": {
             "colorbar": {
              "outlinewidth": 0,
              "ticks": ""
             }
            },
            "marker": {
             "colorbar": {
              "outlinewidth": 0,
              "ticks": ""
             }
            },
            "type": "scatter3d"
           }
          ],
          "scattercarpet": [
           {
            "marker": {
             "colorbar": {
              "outlinewidth": 0,
              "ticks": ""
             }
            },
            "type": "scattercarpet"
           }
          ],
          "scattergeo": [
           {
            "marker": {
             "colorbar": {
              "outlinewidth": 0,
              "ticks": ""
             }
            },
            "type": "scattergeo"
           }
          ],
          "scattergl": [
           {
            "marker": {
             "colorbar": {
              "outlinewidth": 0,
              "ticks": ""
             }
            },
            "type": "scattergl"
           }
          ],
          "scattermapbox": [
           {
            "marker": {
             "colorbar": {
              "outlinewidth": 0,
              "ticks": ""
             }
            },
            "type": "scattermapbox"
           }
          ],
          "scatterpolar": [
           {
            "marker": {
             "colorbar": {
              "outlinewidth": 0,
              "ticks": ""
             }
            },
            "type": "scatterpolar"
           }
          ],
          "scatterpolargl": [
           {
            "marker": {
             "colorbar": {
              "outlinewidth": 0,
              "ticks": ""
             }
            },
            "type": "scatterpolargl"
           }
          ],
          "scatterternary": [
           {
            "marker": {
             "colorbar": {
              "outlinewidth": 0,
              "ticks": ""
             }
            },
            "type": "scatterternary"
           }
          ],
          "surface": [
           {
            "colorbar": {
             "outlinewidth": 0,
             "ticks": ""
            },
            "colorscale": [
             [
              0,
              "#0d0887"
             ],
             [
              0.1111111111111111,
              "#46039f"
             ],
             [
              0.2222222222222222,
              "#7201a8"
             ],
             [
              0.3333333333333333,
              "#9c179e"
             ],
             [
              0.4444444444444444,
              "#bd3786"
             ],
             [
              0.5555555555555556,
              "#d8576b"
             ],
             [
              0.6666666666666666,
              "#ed7953"
             ],
             [
              0.7777777777777778,
              "#fb9f3a"
             ],
             [
              0.8888888888888888,
              "#fdca26"
             ],
             [
              1,
              "#f0f921"
             ]
            ],
            "type": "surface"
           }
          ],
          "table": [
           {
            "cells": {
             "fill": {
              "color": "#EBF0F8"
             },
             "line": {
              "color": "white"
             }
            },
            "header": {
             "fill": {
              "color": "#C8D4E3"
             },
             "line": {
              "color": "white"
             }
            },
            "type": "table"
           }
          ]
         },
         "layout": {
          "annotationdefaults": {
           "arrowcolor": "#2a3f5f",
           "arrowhead": 0,
           "arrowwidth": 1
          },
          "autotypenumbers": "strict",
          "coloraxis": {
           "colorbar": {
            "outlinewidth": 0,
            "ticks": ""
           }
          },
          "colorscale": {
           "diverging": [
            [
             0,
             "#8e0152"
            ],
            [
             0.1,
             "#c51b7d"
            ],
            [
             0.2,
             "#de77ae"
            ],
            [
             0.3,
             "#f1b6da"
            ],
            [
             0.4,
             "#fde0ef"
            ],
            [
             0.5,
             "#f7f7f7"
            ],
            [
             0.6,
             "#e6f5d0"
            ],
            [
             0.7,
             "#b8e186"
            ],
            [
             0.8,
             "#7fbc41"
            ],
            [
             0.9,
             "#4d9221"
            ],
            [
             1,
             "#276419"
            ]
           ],
           "sequential": [
            [
             0,
             "#0d0887"
            ],
            [
             0.1111111111111111,
             "#46039f"
            ],
            [
             0.2222222222222222,
             "#7201a8"
            ],
            [
             0.3333333333333333,
             "#9c179e"
            ],
            [
             0.4444444444444444,
             "#bd3786"
            ],
            [
             0.5555555555555556,
             "#d8576b"
            ],
            [
             0.6666666666666666,
             "#ed7953"
            ],
            [
             0.7777777777777778,
             "#fb9f3a"
            ],
            [
             0.8888888888888888,
             "#fdca26"
            ],
            [
             1,
             "#f0f921"
            ]
           ],
           "sequentialminus": [
            [
             0,
             "#0d0887"
            ],
            [
             0.1111111111111111,
             "#46039f"
            ],
            [
             0.2222222222222222,
             "#7201a8"
            ],
            [
             0.3333333333333333,
             "#9c179e"
            ],
            [
             0.4444444444444444,
             "#bd3786"
            ],
            [
             0.5555555555555556,
             "#d8576b"
            ],
            [
             0.6666666666666666,
             "#ed7953"
            ],
            [
             0.7777777777777778,
             "#fb9f3a"
            ],
            [
             0.8888888888888888,
             "#fdca26"
            ],
            [
             1,
             "#f0f921"
            ]
           ]
          },
          "colorway": [
           "#636efa",
           "#EF553B",
           "#00cc96",
           "#ab63fa",
           "#FFA15A",
           "#19d3f3",
           "#FF6692",
           "#B6E880",
           "#FF97FF",
           "#FECB52"
          ],
          "font": {
           "color": "#2a3f5f"
          },
          "geo": {
           "bgcolor": "white",
           "lakecolor": "white",
           "landcolor": "#E5ECF6",
           "showlakes": true,
           "showland": true,
           "subunitcolor": "white"
          },
          "hoverlabel": {
           "align": "left"
          },
          "hovermode": "closest",
          "mapbox": {
           "style": "light"
          },
          "paper_bgcolor": "white",
          "plot_bgcolor": "#E5ECF6",
          "polar": {
           "angularaxis": {
            "gridcolor": "white",
            "linecolor": "white",
            "ticks": ""
           },
           "bgcolor": "#E5ECF6",
           "radialaxis": {
            "gridcolor": "white",
            "linecolor": "white",
            "ticks": ""
           }
          },
          "scene": {
           "xaxis": {
            "backgroundcolor": "#E5ECF6",
            "gridcolor": "white",
            "gridwidth": 2,
            "linecolor": "white",
            "showbackground": true,
            "ticks": "",
            "zerolinecolor": "white"
           },
           "yaxis": {
            "backgroundcolor": "#E5ECF6",
            "gridcolor": "white",
            "gridwidth": 2,
            "linecolor": "white",
            "showbackground": true,
            "ticks": "",
            "zerolinecolor": "white"
           },
           "zaxis": {
            "backgroundcolor": "#E5ECF6",
            "gridcolor": "white",
            "gridwidth": 2,
            "linecolor": "white",
            "showbackground": true,
            "ticks": "",
            "zerolinecolor": "white"
           }
          },
          "shapedefaults": {
           "line": {
            "color": "#2a3f5f"
           }
          },
          "ternary": {
           "aaxis": {
            "gridcolor": "white",
            "linecolor": "white",
            "ticks": ""
           },
           "baxis": {
            "gridcolor": "white",
            "linecolor": "white",
            "ticks": ""
           },
           "bgcolor": "#E5ECF6",
           "caxis": {
            "gridcolor": "white",
            "linecolor": "white",
            "ticks": ""
           }
          },
          "title": {
           "x": 0.05
          },
          "xaxis": {
           "automargin": true,
           "gridcolor": "white",
           "linecolor": "white",
           "ticks": "",
           "title": {
            "standoff": 15
           },
           "zerolinecolor": "white",
           "zerolinewidth": 2
          },
          "yaxis": {
           "automargin": true,
           "gridcolor": "white",
           "linecolor": "white",
           "ticks": "",
           "title": {
            "standoff": 15
           },
           "zerolinecolor": "white",
           "zerolinewidth": 2
          }
         }
        },
        "title": {
         "text": "Relationships between Page Views, Network Impressions and Spend variables - Aggregated by Weekday"
        }
       }
      },
      "text/html": [
<<<<<<< HEAD
       "<div>                            <div id=\"64ebc3fa-a025-4767-ab89-3f7ecbffc663\" class=\"plotly-graph-div\" style=\"height:525px; width:100%;\"></div>            <script type=\"text/javascript\">                require([\"plotly\"], function(Plotly) {                    window.PLOTLYENV=window.PLOTLYENV || {};                                    if (document.getElementById(\"64ebc3fa-a025-4767-ab89-3f7ecbffc663\")) {                    Plotly.newPlot(                        \"64ebc3fa-a025-4767-ab89-3f7ecbffc663\",                        [{\"dimensions\": [{\"axis\": {\"matches\": true}, \"label\": \"Page Views\", \"values\": [26851]}, {\"axis\": {\"matches\": true}, \"label\": \"NetA_imp\", \"values\": [1224]}, {\"axis\": {\"matches\": true}, \"label\": \"NetA_spd\", \"values\": [28805]}, {\"axis\": {\"matches\": true}, \"label\": \"NetB_imp\", \"values\": [1004]}, {\"axis\": {\"matches\": true}, \"label\": \"NetB_spd\", \"values\": [25066]}], \"hovertemplate\": \"Weekday=Mon<br>%{xaxis.title.text}=%{x}<br>%{yaxis.title.text}=%{y}<extra></extra>\", \"legendgroup\": \"Mon\", \"marker\": {\"color\": \"#636efa\", \"symbol\": \"circle\"}, \"name\": \"Mon\", \"showlegend\": true, \"type\": \"splom\"}, {\"dimensions\": [{\"axis\": {\"matches\": true}, \"label\": \"Page Views\", \"values\": [23718]}, {\"axis\": {\"matches\": true}, \"label\": \"NetA_imp\", \"values\": [1133]}, {\"axis\": {\"matches\": true}, \"label\": \"NetA_spd\", \"values\": [9504]}, {\"axis\": {\"matches\": true}, \"label\": \"NetB_imp\", \"values\": [1318]}, {\"axis\": {\"matches\": true}, \"label\": \"NetB_spd\", \"values\": [29337]}], \"hovertemplate\": \"Weekday=Tue<br>%{xaxis.title.text}=%{x}<br>%{yaxis.title.text}=%{y}<extra></extra>\", \"legendgroup\": \"Tue\", \"marker\": {\"color\": \"#EF553B\", \"symbol\": \"circle\"}, \"name\": \"Tue\", \"showlegend\": true, \"type\": \"splom\"}, {\"dimensions\": [{\"axis\": {\"matches\": true}, \"label\": \"Page Views\", \"values\": [23750]}, {\"axis\": {\"matches\": true}, \"label\": \"NetA_imp\", \"values\": [631]}, {\"axis\": {\"matches\": true}, \"label\": \"NetA_spd\", \"values\": [14817]}, {\"axis\": {\"matches\": true}, \"label\": \"NetB_imp\", \"values\": [1045]}, {\"axis\": {\"matches\": true}, \"label\": \"NetB_spd\", \"values\": [19672]}], \"hovertemplate\": \"Weekday=Wed<br>%{xaxis.title.text}=%{x}<br>%{yaxis.title.text}=%{y}<extra></extra>\", \"legendgroup\": \"Wed\", \"marker\": {\"color\": \"#00cc96\", \"symbol\": \"circle\"}, \"name\": \"Wed\", \"showlegend\": true, \"type\": \"splom\"}, {\"dimensions\": [{\"axis\": {\"matches\": true}, \"label\": \"Page Views\", \"values\": [22541]}, {\"axis\": {\"matches\": true}, \"label\": \"NetA_imp\", \"values\": [879]}, {\"axis\": {\"matches\": true}, \"label\": \"NetA_spd\", \"values\": [27272]}, {\"axis\": {\"matches\": true}, \"label\": \"NetB_imp\", \"values\": [728]}, {\"axis\": {\"matches\": true}, \"label\": \"NetB_spd\", \"values\": [14708]}], \"hovertemplate\": \"Weekday=Thu<br>%{xaxis.title.text}=%{x}<br>%{yaxis.title.text}=%{y}<extra></extra>\", \"legendgroup\": \"Thu\", \"marker\": {\"color\": \"#ab63fa\", \"symbol\": \"circle\"}, \"name\": \"Thu\", \"showlegend\": true, \"type\": \"splom\"}, {\"dimensions\": [{\"axis\": {\"matches\": true}, \"label\": \"Page Views\", \"values\": [21507]}, {\"axis\": {\"matches\": true}, \"label\": \"NetA_imp\", \"values\": [452]}, {\"axis\": {\"matches\": true}, \"label\": \"NetA_spd\", \"values\": [14433]}, {\"axis\": {\"matches\": true}, \"label\": \"NetB_imp\", \"values\": [810]}, {\"axis\": {\"matches\": true}, \"label\": \"NetB_spd\", \"values\": [17552]}], \"hovertemplate\": \"Weekday=Fri<br>%{xaxis.title.text}=%{x}<br>%{yaxis.title.text}=%{y}<extra></extra>\", \"legendgroup\": \"Fri\", \"marker\": {\"color\": \"#FFA15A\", \"symbol\": \"circle\"}, \"name\": \"Fri\", \"showlegend\": true, \"type\": \"splom\"}, {\"dimensions\": [{\"axis\": {\"matches\": true}, \"label\": \"Page Views\", \"values\": [21709]}, {\"axis\": {\"matches\": true}, \"label\": \"NetA_imp\", \"values\": [514]}, {\"axis\": {\"matches\": true}, \"label\": \"NetA_spd\", \"values\": [6816]}, {\"axis\": {\"matches\": true}, \"label\": \"NetB_imp\", \"values\": [945]}, {\"axis\": {\"matches\": true}, \"label\": \"NetB_spd\", \"values\": [14441]}], \"hovertemplate\": \"Weekday=Sat<br>%{xaxis.title.text}=%{x}<br>%{yaxis.title.text}=%{y}<extra></extra>\", \"legendgroup\": \"Sat\", \"marker\": {\"color\": \"#19d3f3\", \"symbol\": \"circle\"}, \"name\": \"Sat\", \"showlegend\": true, \"type\": \"splom\"}, {\"dimensions\": [{\"axis\": {\"matches\": true}, \"label\": \"Page Views\", \"values\": [23878]}, {\"axis\": {\"matches\": true}, \"label\": \"NetA_imp\", \"values\": [1131]}, {\"axis\": {\"matches\": true}, \"label\": \"NetA_spd\", \"values\": [20595]}, {\"axis\": {\"matches\": true}, \"label\": \"NetB_imp\", \"values\": [838]}, {\"axis\": {\"matches\": true}, \"label\": \"NetB_spd\", \"values\": [17475]}], \"hovertemplate\": \"Weekday=Sun<br>%{xaxis.title.text}=%{x}<br>%{yaxis.title.text}=%{y}<extra></extra>\", \"legendgroup\": \"Sun\", \"marker\": {\"color\": \"#FF6692\", \"symbol\": \"circle\"}, \"name\": \"Sun\", \"showlegend\": true, \"type\": \"splom\"}],                        {\"dragmode\": \"select\", \"legend\": {\"title\": {\"text\": \"Weekday\"}, \"tracegroupgap\": 0}, \"margin\": {\"t\": 60}, \"template\": {\"data\": {\"bar\": [{\"error_x\": {\"color\": \"#2a3f5f\"}, \"error_y\": {\"color\": \"#2a3f5f\"}, \"marker\": {\"line\": {\"color\": \"#E5ECF6\", \"width\": 0.5}}, \"type\": \"bar\"}], \"barpolar\": [{\"marker\": {\"line\": {\"color\": \"#E5ECF6\", \"width\": 0.5}}, \"type\": \"barpolar\"}], \"carpet\": [{\"aaxis\": {\"endlinecolor\": \"#2a3f5f\", \"gridcolor\": \"white\", \"linecolor\": \"white\", \"minorgridcolor\": \"white\", \"startlinecolor\": \"#2a3f5f\"}, \"baxis\": {\"endlinecolor\": \"#2a3f5f\", \"gridcolor\": \"white\", \"linecolor\": \"white\", \"minorgridcolor\": \"white\", \"startlinecolor\": \"#2a3f5f\"}, \"type\": \"carpet\"}], \"choropleth\": [{\"colorbar\": {\"outlinewidth\": 0, \"ticks\": \"\"}, \"type\": \"choropleth\"}], \"contour\": [{\"colorbar\": {\"outlinewidth\": 0, \"ticks\": \"\"}, \"colorscale\": [[0.0, \"#0d0887\"], [0.1111111111111111, \"#46039f\"], [0.2222222222222222, \"#7201a8\"], [0.3333333333333333, \"#9c179e\"], [0.4444444444444444, \"#bd3786\"], [0.5555555555555556, \"#d8576b\"], [0.6666666666666666, \"#ed7953\"], [0.7777777777777778, \"#fb9f3a\"], [0.8888888888888888, \"#fdca26\"], [1.0, \"#f0f921\"]], \"type\": \"contour\"}], \"contourcarpet\": [{\"colorbar\": {\"outlinewidth\": 0, \"ticks\": \"\"}, \"type\": \"contourcarpet\"}], \"heatmap\": [{\"colorbar\": {\"outlinewidth\": 0, \"ticks\": \"\"}, \"colorscale\": [[0.0, \"#0d0887\"], [0.1111111111111111, \"#46039f\"], [0.2222222222222222, \"#7201a8\"], [0.3333333333333333, \"#9c179e\"], [0.4444444444444444, \"#bd3786\"], [0.5555555555555556, \"#d8576b\"], [0.6666666666666666, \"#ed7953\"], [0.7777777777777778, \"#fb9f3a\"], [0.8888888888888888, \"#fdca26\"], [1.0, \"#f0f921\"]], \"type\": \"heatmap\"}], \"heatmapgl\": [{\"colorbar\": {\"outlinewidth\": 0, \"ticks\": \"\"}, \"colorscale\": [[0.0, \"#0d0887\"], [0.1111111111111111, \"#46039f\"], [0.2222222222222222, \"#7201a8\"], [0.3333333333333333, \"#9c179e\"], [0.4444444444444444, \"#bd3786\"], [0.5555555555555556, \"#d8576b\"], [0.6666666666666666, \"#ed7953\"], [0.7777777777777778, \"#fb9f3a\"], [0.8888888888888888, \"#fdca26\"], [1.0, \"#f0f921\"]], \"type\": \"heatmapgl\"}], \"histogram\": [{\"marker\": {\"colorbar\": {\"outlinewidth\": 0, \"ticks\": \"\"}}, \"type\": \"histogram\"}], \"histogram2d\": [{\"colorbar\": {\"outlinewidth\": 0, \"ticks\": \"\"}, \"colorscale\": [[0.0, \"#0d0887\"], [0.1111111111111111, \"#46039f\"], [0.2222222222222222, \"#7201a8\"], [0.3333333333333333, \"#9c179e\"], [0.4444444444444444, \"#bd3786\"], [0.5555555555555556, \"#d8576b\"], [0.6666666666666666, \"#ed7953\"], [0.7777777777777778, \"#fb9f3a\"], [0.8888888888888888, \"#fdca26\"], [1.0, \"#f0f921\"]], \"type\": \"histogram2d\"}], \"histogram2dcontour\": [{\"colorbar\": {\"outlinewidth\": 0, \"ticks\": \"\"}, \"colorscale\": [[0.0, \"#0d0887\"], [0.1111111111111111, \"#46039f\"], [0.2222222222222222, \"#7201a8\"], [0.3333333333333333, \"#9c179e\"], [0.4444444444444444, \"#bd3786\"], [0.5555555555555556, \"#d8576b\"], [0.6666666666666666, \"#ed7953\"], [0.7777777777777778, \"#fb9f3a\"], [0.8888888888888888, \"#fdca26\"], [1.0, \"#f0f921\"]], \"type\": \"histogram2dcontour\"}], \"mesh3d\": [{\"colorbar\": {\"outlinewidth\": 0, \"ticks\": \"\"}, \"type\": \"mesh3d\"}], \"parcoords\": [{\"line\": {\"colorbar\": {\"outlinewidth\": 0, \"ticks\": \"\"}}, \"type\": \"parcoords\"}], \"pie\": [{\"automargin\": true, \"type\": \"pie\"}], \"scatter\": [{\"marker\": {\"colorbar\": {\"outlinewidth\": 0, \"ticks\": \"\"}}, \"type\": \"scatter\"}], \"scatter3d\": [{\"line\": {\"colorbar\": {\"outlinewidth\": 0, \"ticks\": \"\"}}, \"marker\": {\"colorbar\": {\"outlinewidth\": 0, \"ticks\": \"\"}}, \"type\": \"scatter3d\"}], \"scattercarpet\": [{\"marker\": {\"colorbar\": {\"outlinewidth\": 0, \"ticks\": \"\"}}, \"type\": \"scattercarpet\"}], \"scattergeo\": [{\"marker\": {\"colorbar\": {\"outlinewidth\": 0, \"ticks\": \"\"}}, \"type\": \"scattergeo\"}], \"scattergl\": [{\"marker\": {\"colorbar\": {\"outlinewidth\": 0, \"ticks\": \"\"}}, \"type\": \"scattergl\"}], \"scattermapbox\": [{\"marker\": {\"colorbar\": {\"outlinewidth\": 0, \"ticks\": \"\"}}, \"type\": \"scattermapbox\"}], \"scatterpolar\": [{\"marker\": {\"colorbar\": {\"outlinewidth\": 0, \"ticks\": \"\"}}, \"type\": \"scatterpolar\"}], \"scatterpolargl\": [{\"marker\": {\"colorbar\": {\"outlinewidth\": 0, \"ticks\": \"\"}}, \"type\": \"scatterpolargl\"}], \"scatterternary\": [{\"marker\": {\"colorbar\": {\"outlinewidth\": 0, \"ticks\": \"\"}}, \"type\": \"scatterternary\"}], \"surface\": [{\"colorbar\": {\"outlinewidth\": 0, \"ticks\": \"\"}, \"colorscale\": [[0.0, \"#0d0887\"], [0.1111111111111111, \"#46039f\"], [0.2222222222222222, \"#7201a8\"], [0.3333333333333333, \"#9c179e\"], [0.4444444444444444, \"#bd3786\"], [0.5555555555555556, \"#d8576b\"], [0.6666666666666666, \"#ed7953\"], [0.7777777777777778, \"#fb9f3a\"], [0.8888888888888888, \"#fdca26\"], [1.0, \"#f0f921\"]], \"type\": \"surface\"}], \"table\": [{\"cells\": {\"fill\": {\"color\": \"#EBF0F8\"}, \"line\": {\"color\": \"white\"}}, \"header\": {\"fill\": {\"color\": \"#C8D4E3\"}, \"line\": {\"color\": \"white\"}}, \"type\": \"table\"}]}, \"layout\": {\"annotationdefaults\": {\"arrowcolor\": \"#2a3f5f\", \"arrowhead\": 0, \"arrowwidth\": 1}, \"autotypenumbers\": \"strict\", \"coloraxis\": {\"colorbar\": {\"outlinewidth\": 0, \"ticks\": \"\"}}, \"colorscale\": {\"diverging\": [[0, \"#8e0152\"], [0.1, \"#c51b7d\"], [0.2, \"#de77ae\"], [0.3, \"#f1b6da\"], [0.4, \"#fde0ef\"], [0.5, \"#f7f7f7\"], [0.6, \"#e6f5d0\"], [0.7, \"#b8e186\"], [0.8, \"#7fbc41\"], [0.9, \"#4d9221\"], [1, \"#276419\"]], \"sequential\": [[0.0, \"#0d0887\"], [0.1111111111111111, \"#46039f\"], [0.2222222222222222, \"#7201a8\"], [0.3333333333333333, \"#9c179e\"], [0.4444444444444444, \"#bd3786\"], [0.5555555555555556, \"#d8576b\"], [0.6666666666666666, \"#ed7953\"], [0.7777777777777778, \"#fb9f3a\"], [0.8888888888888888, \"#fdca26\"], [1.0, \"#f0f921\"]], \"sequentialminus\": [[0.0, \"#0d0887\"], [0.1111111111111111, \"#46039f\"], [0.2222222222222222, \"#7201a8\"], [0.3333333333333333, \"#9c179e\"], [0.4444444444444444, \"#bd3786\"], [0.5555555555555556, \"#d8576b\"], [0.6666666666666666, \"#ed7953\"], [0.7777777777777778, \"#fb9f3a\"], [0.8888888888888888, \"#fdca26\"], [1.0, \"#f0f921\"]]}, \"colorway\": [\"#636efa\", \"#EF553B\", \"#00cc96\", \"#ab63fa\", \"#FFA15A\", \"#19d3f3\", \"#FF6692\", \"#B6E880\", \"#FF97FF\", \"#FECB52\"], \"font\": {\"color\": \"#2a3f5f\"}, \"geo\": {\"bgcolor\": \"white\", \"lakecolor\": \"white\", \"landcolor\": \"#E5ECF6\", \"showlakes\": true, \"showland\": true, \"subunitcolor\": \"white\"}, \"hoverlabel\": {\"align\": \"left\"}, \"hovermode\": \"closest\", \"mapbox\": {\"style\": \"light\"}, \"paper_bgcolor\": \"white\", \"plot_bgcolor\": \"#E5ECF6\", \"polar\": {\"angularaxis\": {\"gridcolor\": \"white\", \"linecolor\": \"white\", \"ticks\": \"\"}, \"bgcolor\": \"#E5ECF6\", \"radialaxis\": {\"gridcolor\": \"white\", \"linecolor\": \"white\", \"ticks\": \"\"}}, \"scene\": {\"xaxis\": {\"backgroundcolor\": \"#E5ECF6\", \"gridcolor\": \"white\", \"gridwidth\": 2, \"linecolor\": \"white\", \"showbackground\": true, \"ticks\": \"\", \"zerolinecolor\": \"white\"}, \"yaxis\": {\"backgroundcolor\": \"#E5ECF6\", \"gridcolor\": \"white\", \"gridwidth\": 2, \"linecolor\": \"white\", \"showbackground\": true, \"ticks\": \"\", \"zerolinecolor\": \"white\"}, \"zaxis\": {\"backgroundcolor\": \"#E5ECF6\", \"gridcolor\": \"white\", \"gridwidth\": 2, \"linecolor\": \"white\", \"showbackground\": true, \"ticks\": \"\", \"zerolinecolor\": \"white\"}}, \"shapedefaults\": {\"line\": {\"color\": \"#2a3f5f\"}}, \"ternary\": {\"aaxis\": {\"gridcolor\": \"white\", \"linecolor\": \"white\", \"ticks\": \"\"}, \"baxis\": {\"gridcolor\": \"white\", \"linecolor\": \"white\", \"ticks\": \"\"}, \"bgcolor\": \"#E5ECF6\", \"caxis\": {\"gridcolor\": \"white\", \"linecolor\": \"white\", \"ticks\": \"\"}}, \"title\": {\"x\": 0.05}, \"xaxis\": {\"automargin\": true, \"gridcolor\": \"white\", \"linecolor\": \"white\", \"ticks\": \"\", \"title\": {\"standoff\": 15}, \"zerolinecolor\": \"white\", \"zerolinewidth\": 2}, \"yaxis\": {\"automargin\": true, \"gridcolor\": \"white\", \"linecolor\": \"white\", \"ticks\": \"\", \"title\": {\"standoff\": 15}, \"zerolinecolor\": \"white\", \"zerolinewidth\": 2}}}, \"title\": {\"text\": \"Relationships between Page Views, Network Impressions and Spend variables - Aggregated by Weekday\"}},                        {\"responsive\": true}                    ).then(function(){\n",
       "                            \n",
       "var gd = document.getElementById('64ebc3fa-a025-4767-ab89-3f7ecbffc663');\n",
=======
<<<<<<< HEAD
       "<div>                            <div id=\"5c4e5081-a8a0-4a3c-a9ee-f03c6f3b1708\" class=\"plotly-graph-div\" style=\"height:525px; width:100%;\"></div>            <script type=\"text/javascript\">                require([\"plotly\"], function(Plotly) {                    window.PLOTLYENV=window.PLOTLYENV || {};                                    if (document.getElementById(\"5c4e5081-a8a0-4a3c-a9ee-f03c6f3b1708\")) {                    Plotly.newPlot(                        \"5c4e5081-a8a0-4a3c-a9ee-f03c6f3b1708\",                        [{\"dimensions\": [{\"axis\": {\"matches\": true}, \"label\": \"Page Views\", \"values\": [26851]}, {\"axis\": {\"matches\": true}, \"label\": \"NetA_imp\", \"values\": [1224]}, {\"axis\": {\"matches\": true}, \"label\": \"NetA_spd\", \"values\": [28805]}, {\"axis\": {\"matches\": true}, \"label\": \"NetB_imp\", \"values\": [1004]}, {\"axis\": {\"matches\": true}, \"label\": \"NetB_spd\", \"values\": [25066]}], \"hovertemplate\": \"Weekday=Mon<br>%{xaxis.title.text}=%{x}<br>%{yaxis.title.text}=%{y}<extra></extra>\", \"legendgroup\": \"Mon\", \"marker\": {\"color\": \"#636efa\", \"symbol\": \"circle\"}, \"name\": \"Mon\", \"showlegend\": true, \"type\": \"splom\"}, {\"dimensions\": [{\"axis\": {\"matches\": true}, \"label\": \"Page Views\", \"values\": [23718]}, {\"axis\": {\"matches\": true}, \"label\": \"NetA_imp\", \"values\": [1133]}, {\"axis\": {\"matches\": true}, \"label\": \"NetA_spd\", \"values\": [9504]}, {\"axis\": {\"matches\": true}, \"label\": \"NetB_imp\", \"values\": [1318]}, {\"axis\": {\"matches\": true}, \"label\": \"NetB_spd\", \"values\": [29337]}], \"hovertemplate\": \"Weekday=Tue<br>%{xaxis.title.text}=%{x}<br>%{yaxis.title.text}=%{y}<extra></extra>\", \"legendgroup\": \"Tue\", \"marker\": {\"color\": \"#EF553B\", \"symbol\": \"circle\"}, \"name\": \"Tue\", \"showlegend\": true, \"type\": \"splom\"}, {\"dimensions\": [{\"axis\": {\"matches\": true}, \"label\": \"Page Views\", \"values\": [23750]}, {\"axis\": {\"matches\": true}, \"label\": \"NetA_imp\", \"values\": [631]}, {\"axis\": {\"matches\": true}, \"label\": \"NetA_spd\", \"values\": [14817]}, {\"axis\": {\"matches\": true}, \"label\": \"NetB_imp\", \"values\": [1045]}, {\"axis\": {\"matches\": true}, \"label\": \"NetB_spd\", \"values\": [19672]}], \"hovertemplate\": \"Weekday=Wed<br>%{xaxis.title.text}=%{x}<br>%{yaxis.title.text}=%{y}<extra></extra>\", \"legendgroup\": \"Wed\", \"marker\": {\"color\": \"#00cc96\", \"symbol\": \"circle\"}, \"name\": \"Wed\", \"showlegend\": true, \"type\": \"splom\"}, {\"dimensions\": [{\"axis\": {\"matches\": true}, \"label\": \"Page Views\", \"values\": [22541]}, {\"axis\": {\"matches\": true}, \"label\": \"NetA_imp\", \"values\": [879]}, {\"axis\": {\"matches\": true}, \"label\": \"NetA_spd\", \"values\": [27272]}, {\"axis\": {\"matches\": true}, \"label\": \"NetB_imp\", \"values\": [728]}, {\"axis\": {\"matches\": true}, \"label\": \"NetB_spd\", \"values\": [14708]}], \"hovertemplate\": \"Weekday=Thu<br>%{xaxis.title.text}=%{x}<br>%{yaxis.title.text}=%{y}<extra></extra>\", \"legendgroup\": \"Thu\", \"marker\": {\"color\": \"#ab63fa\", \"symbol\": \"circle\"}, \"name\": \"Thu\", \"showlegend\": true, \"type\": \"splom\"}, {\"dimensions\": [{\"axis\": {\"matches\": true}, \"label\": \"Page Views\", \"values\": [21507]}, {\"axis\": {\"matches\": true}, \"label\": \"NetA_imp\", \"values\": [452]}, {\"axis\": {\"matches\": true}, \"label\": \"NetA_spd\", \"values\": [14433]}, {\"axis\": {\"matches\": true}, \"label\": \"NetB_imp\", \"values\": [810]}, {\"axis\": {\"matches\": true}, \"label\": \"NetB_spd\", \"values\": [17552]}], \"hovertemplate\": \"Weekday=Fri<br>%{xaxis.title.text}=%{x}<br>%{yaxis.title.text}=%{y}<extra></extra>\", \"legendgroup\": \"Fri\", \"marker\": {\"color\": \"#FFA15A\", \"symbol\": \"circle\"}, \"name\": \"Fri\", \"showlegend\": true, \"type\": \"splom\"}, {\"dimensions\": [{\"axis\": {\"matches\": true}, \"label\": \"Page Views\", \"values\": [21709]}, {\"axis\": {\"matches\": true}, \"label\": \"NetA_imp\", \"values\": [514]}, {\"axis\": {\"matches\": true}, \"label\": \"NetA_spd\", \"values\": [6816]}, {\"axis\": {\"matches\": true}, \"label\": \"NetB_imp\", \"values\": [945]}, {\"axis\": {\"matches\": true}, \"label\": \"NetB_spd\", \"values\": [14441]}], \"hovertemplate\": \"Weekday=Sat<br>%{xaxis.title.text}=%{x}<br>%{yaxis.title.text}=%{y}<extra></extra>\", \"legendgroup\": \"Sat\", \"marker\": {\"color\": \"#19d3f3\", \"symbol\": \"circle\"}, \"name\": \"Sat\", \"showlegend\": true, \"type\": \"splom\"}, {\"dimensions\": [{\"axis\": {\"matches\": true}, \"label\": \"Page Views\", \"values\": [23878]}, {\"axis\": {\"matches\": true}, \"label\": \"NetA_imp\", \"values\": [1131]}, {\"axis\": {\"matches\": true}, \"label\": \"NetA_spd\", \"values\": [20595]}, {\"axis\": {\"matches\": true}, \"label\": \"NetB_imp\", \"values\": [838]}, {\"axis\": {\"matches\": true}, \"label\": \"NetB_spd\", \"values\": [17475]}], \"hovertemplate\": \"Weekday=Sun<br>%{xaxis.title.text}=%{x}<br>%{yaxis.title.text}=%{y}<extra></extra>\", \"legendgroup\": \"Sun\", \"marker\": {\"color\": \"#FF6692\", \"symbol\": \"circle\"}, \"name\": \"Sun\", \"showlegend\": true, \"type\": \"splom\"}],                        {\"dragmode\": \"select\", \"legend\": {\"title\": {\"text\": \"Weekday\"}, \"tracegroupgap\": 0}, \"margin\": {\"t\": 60}, \"template\": {\"data\": {\"bar\": [{\"error_x\": {\"color\": \"#2a3f5f\"}, \"error_y\": {\"color\": \"#2a3f5f\"}, \"marker\": {\"line\": {\"color\": \"#E5ECF6\", \"width\": 0.5}}, \"type\": \"bar\"}], \"barpolar\": [{\"marker\": {\"line\": {\"color\": \"#E5ECF6\", \"width\": 0.5}}, \"type\": \"barpolar\"}], \"carpet\": [{\"aaxis\": {\"endlinecolor\": \"#2a3f5f\", \"gridcolor\": \"white\", \"linecolor\": \"white\", \"minorgridcolor\": \"white\", \"startlinecolor\": \"#2a3f5f\"}, \"baxis\": {\"endlinecolor\": \"#2a3f5f\", \"gridcolor\": \"white\", \"linecolor\": \"white\", \"minorgridcolor\": \"white\", \"startlinecolor\": \"#2a3f5f\"}, \"type\": \"carpet\"}], \"choropleth\": [{\"colorbar\": {\"outlinewidth\": 0, \"ticks\": \"\"}, \"type\": \"choropleth\"}], \"contour\": [{\"colorbar\": {\"outlinewidth\": 0, \"ticks\": \"\"}, \"colorscale\": [[0.0, \"#0d0887\"], [0.1111111111111111, \"#46039f\"], [0.2222222222222222, \"#7201a8\"], [0.3333333333333333, \"#9c179e\"], [0.4444444444444444, \"#bd3786\"], [0.5555555555555556, \"#d8576b\"], [0.6666666666666666, \"#ed7953\"], [0.7777777777777778, \"#fb9f3a\"], [0.8888888888888888, \"#fdca26\"], [1.0, \"#f0f921\"]], \"type\": \"contour\"}], \"contourcarpet\": [{\"colorbar\": {\"outlinewidth\": 0, \"ticks\": \"\"}, \"type\": \"contourcarpet\"}], \"heatmap\": [{\"colorbar\": {\"outlinewidth\": 0, \"ticks\": \"\"}, \"colorscale\": [[0.0, \"#0d0887\"], [0.1111111111111111, \"#46039f\"], [0.2222222222222222, \"#7201a8\"], [0.3333333333333333, \"#9c179e\"], [0.4444444444444444, \"#bd3786\"], [0.5555555555555556, \"#d8576b\"], [0.6666666666666666, \"#ed7953\"], [0.7777777777777778, \"#fb9f3a\"], [0.8888888888888888, \"#fdca26\"], [1.0, \"#f0f921\"]], \"type\": \"heatmap\"}], \"heatmapgl\": [{\"colorbar\": {\"outlinewidth\": 0, \"ticks\": \"\"}, \"colorscale\": [[0.0, \"#0d0887\"], [0.1111111111111111, \"#46039f\"], [0.2222222222222222, \"#7201a8\"], [0.3333333333333333, \"#9c179e\"], [0.4444444444444444, \"#bd3786\"], [0.5555555555555556, \"#d8576b\"], [0.6666666666666666, \"#ed7953\"], [0.7777777777777778, \"#fb9f3a\"], [0.8888888888888888, \"#fdca26\"], [1.0, \"#f0f921\"]], \"type\": \"heatmapgl\"}], \"histogram\": [{\"marker\": {\"colorbar\": {\"outlinewidth\": 0, \"ticks\": \"\"}}, \"type\": \"histogram\"}], \"histogram2d\": [{\"colorbar\": {\"outlinewidth\": 0, \"ticks\": \"\"}, \"colorscale\": [[0.0, \"#0d0887\"], [0.1111111111111111, \"#46039f\"], [0.2222222222222222, \"#7201a8\"], [0.3333333333333333, \"#9c179e\"], [0.4444444444444444, \"#bd3786\"], [0.5555555555555556, \"#d8576b\"], [0.6666666666666666, \"#ed7953\"], [0.7777777777777778, \"#fb9f3a\"], [0.8888888888888888, \"#fdca26\"], [1.0, \"#f0f921\"]], \"type\": \"histogram2d\"}], \"histogram2dcontour\": [{\"colorbar\": {\"outlinewidth\": 0, \"ticks\": \"\"}, \"colorscale\": [[0.0, \"#0d0887\"], [0.1111111111111111, \"#46039f\"], [0.2222222222222222, \"#7201a8\"], [0.3333333333333333, \"#9c179e\"], [0.4444444444444444, \"#bd3786\"], [0.5555555555555556, \"#d8576b\"], [0.6666666666666666, \"#ed7953\"], [0.7777777777777778, \"#fb9f3a\"], [0.8888888888888888, \"#fdca26\"], [1.0, \"#f0f921\"]], \"type\": \"histogram2dcontour\"}], \"mesh3d\": [{\"colorbar\": {\"outlinewidth\": 0, \"ticks\": \"\"}, \"type\": \"mesh3d\"}], \"parcoords\": [{\"line\": {\"colorbar\": {\"outlinewidth\": 0, \"ticks\": \"\"}}, \"type\": \"parcoords\"}], \"pie\": [{\"automargin\": true, \"type\": \"pie\"}], \"scatter\": [{\"marker\": {\"colorbar\": {\"outlinewidth\": 0, \"ticks\": \"\"}}, \"type\": \"scatter\"}], \"scatter3d\": [{\"line\": {\"colorbar\": {\"outlinewidth\": 0, \"ticks\": \"\"}}, \"marker\": {\"colorbar\": {\"outlinewidth\": 0, \"ticks\": \"\"}}, \"type\": \"scatter3d\"}], \"scattercarpet\": [{\"marker\": {\"colorbar\": {\"outlinewidth\": 0, \"ticks\": \"\"}}, \"type\": \"scattercarpet\"}], \"scattergeo\": [{\"marker\": {\"colorbar\": {\"outlinewidth\": 0, \"ticks\": \"\"}}, \"type\": \"scattergeo\"}], \"scattergl\": [{\"marker\": {\"colorbar\": {\"outlinewidth\": 0, \"ticks\": \"\"}}, \"type\": \"scattergl\"}], \"scattermapbox\": [{\"marker\": {\"colorbar\": {\"outlinewidth\": 0, \"ticks\": \"\"}}, \"type\": \"scattermapbox\"}], \"scatterpolar\": [{\"marker\": {\"colorbar\": {\"outlinewidth\": 0, \"ticks\": \"\"}}, \"type\": \"scatterpolar\"}], \"scatterpolargl\": [{\"marker\": {\"colorbar\": {\"outlinewidth\": 0, \"ticks\": \"\"}}, \"type\": \"scatterpolargl\"}], \"scatterternary\": [{\"marker\": {\"colorbar\": {\"outlinewidth\": 0, \"ticks\": \"\"}}, \"type\": \"scatterternary\"}], \"surface\": [{\"colorbar\": {\"outlinewidth\": 0, \"ticks\": \"\"}, \"colorscale\": [[0.0, \"#0d0887\"], [0.1111111111111111, \"#46039f\"], [0.2222222222222222, \"#7201a8\"], [0.3333333333333333, \"#9c179e\"], [0.4444444444444444, \"#bd3786\"], [0.5555555555555556, \"#d8576b\"], [0.6666666666666666, \"#ed7953\"], [0.7777777777777778, \"#fb9f3a\"], [0.8888888888888888, \"#fdca26\"], [1.0, \"#f0f921\"]], \"type\": \"surface\"}], \"table\": [{\"cells\": {\"fill\": {\"color\": \"#EBF0F8\"}, \"line\": {\"color\": \"white\"}}, \"header\": {\"fill\": {\"color\": \"#C8D4E3\"}, \"line\": {\"color\": \"white\"}}, \"type\": \"table\"}]}, \"layout\": {\"annotationdefaults\": {\"arrowcolor\": \"#2a3f5f\", \"arrowhead\": 0, \"arrowwidth\": 1}, \"autotypenumbers\": \"strict\", \"coloraxis\": {\"colorbar\": {\"outlinewidth\": 0, \"ticks\": \"\"}}, \"colorscale\": {\"diverging\": [[0, \"#8e0152\"], [0.1, \"#c51b7d\"], [0.2, \"#de77ae\"], [0.3, \"#f1b6da\"], [0.4, \"#fde0ef\"], [0.5, \"#f7f7f7\"], [0.6, \"#e6f5d0\"], [0.7, \"#b8e186\"], [0.8, \"#7fbc41\"], [0.9, \"#4d9221\"], [1, \"#276419\"]], \"sequential\": [[0.0, \"#0d0887\"], [0.1111111111111111, \"#46039f\"], [0.2222222222222222, \"#7201a8\"], [0.3333333333333333, \"#9c179e\"], [0.4444444444444444, \"#bd3786\"], [0.5555555555555556, \"#d8576b\"], [0.6666666666666666, \"#ed7953\"], [0.7777777777777778, \"#fb9f3a\"], [0.8888888888888888, \"#fdca26\"], [1.0, \"#f0f921\"]], \"sequentialminus\": [[0.0, \"#0d0887\"], [0.1111111111111111, \"#46039f\"], [0.2222222222222222, \"#7201a8\"], [0.3333333333333333, \"#9c179e\"], [0.4444444444444444, \"#bd3786\"], [0.5555555555555556, \"#d8576b\"], [0.6666666666666666, \"#ed7953\"], [0.7777777777777778, \"#fb9f3a\"], [0.8888888888888888, \"#fdca26\"], [1.0, \"#f0f921\"]]}, \"colorway\": [\"#636efa\", \"#EF553B\", \"#00cc96\", \"#ab63fa\", \"#FFA15A\", \"#19d3f3\", \"#FF6692\", \"#B6E880\", \"#FF97FF\", \"#FECB52\"], \"font\": {\"color\": \"#2a3f5f\"}, \"geo\": {\"bgcolor\": \"white\", \"lakecolor\": \"white\", \"landcolor\": \"#E5ECF6\", \"showlakes\": true, \"showland\": true, \"subunitcolor\": \"white\"}, \"hoverlabel\": {\"align\": \"left\"}, \"hovermode\": \"closest\", \"mapbox\": {\"style\": \"light\"}, \"paper_bgcolor\": \"white\", \"plot_bgcolor\": \"#E5ECF6\", \"polar\": {\"angularaxis\": {\"gridcolor\": \"white\", \"linecolor\": \"white\", \"ticks\": \"\"}, \"bgcolor\": \"#E5ECF6\", \"radialaxis\": {\"gridcolor\": \"white\", \"linecolor\": \"white\", \"ticks\": \"\"}}, \"scene\": {\"xaxis\": {\"backgroundcolor\": \"#E5ECF6\", \"gridcolor\": \"white\", \"gridwidth\": 2, \"linecolor\": \"white\", \"showbackground\": true, \"ticks\": \"\", \"zerolinecolor\": \"white\"}, \"yaxis\": {\"backgroundcolor\": \"#E5ECF6\", \"gridcolor\": \"white\", \"gridwidth\": 2, \"linecolor\": \"white\", \"showbackground\": true, \"ticks\": \"\", \"zerolinecolor\": \"white\"}, \"zaxis\": {\"backgroundcolor\": \"#E5ECF6\", \"gridcolor\": \"white\", \"gridwidth\": 2, \"linecolor\": \"white\", \"showbackground\": true, \"ticks\": \"\", \"zerolinecolor\": \"white\"}}, \"shapedefaults\": {\"line\": {\"color\": \"#2a3f5f\"}}, \"ternary\": {\"aaxis\": {\"gridcolor\": \"white\", \"linecolor\": \"white\", \"ticks\": \"\"}, \"baxis\": {\"gridcolor\": \"white\", \"linecolor\": \"white\", \"ticks\": \"\"}, \"bgcolor\": \"#E5ECF6\", \"caxis\": {\"gridcolor\": \"white\", \"linecolor\": \"white\", \"ticks\": \"\"}}, \"title\": {\"x\": 0.05}, \"xaxis\": {\"automargin\": true, \"gridcolor\": \"white\", \"linecolor\": \"white\", \"ticks\": \"\", \"title\": {\"standoff\": 15}, \"zerolinecolor\": \"white\", \"zerolinewidth\": 2}, \"yaxis\": {\"automargin\": true, \"gridcolor\": \"white\", \"linecolor\": \"white\", \"ticks\": \"\", \"title\": {\"standoff\": 15}, \"zerolinecolor\": \"white\", \"zerolinewidth\": 2}}}, \"title\": {\"text\": \"Relationships between Page Views, Network Impressions and Spend variables - Aggregated by Weekday\"}},                        {\"responsive\": true}                    ).then(function(){\n",
       "                            \n",
       "var gd = document.getElementById('5c4e5081-a8a0-4a3c-a9ee-f03c6f3b1708');\n",
=======
       "<div>                            <div id=\"43186162-8bd6-481c-bc4a-ceab10f1df78\" class=\"plotly-graph-div\" style=\"height:525px; width:100%;\"></div>            <script type=\"text/javascript\">                require([\"plotly\"], function(Plotly) {                    window.PLOTLYENV=window.PLOTLYENV || {};                                    if (document.getElementById(\"43186162-8bd6-481c-bc4a-ceab10f1df78\")) {                    Plotly.newPlot(                        \"43186162-8bd6-481c-bc4a-ceab10f1df78\",                        [{\"dimensions\": [{\"axis\": {\"matches\": true}, \"label\": \"Page Views\", \"values\": [26851]}, {\"axis\": {\"matches\": true}, \"label\": \"NetA_imp\", \"values\": [1224]}, {\"axis\": {\"matches\": true}, \"label\": \"NetA_spd\", \"values\": [28805]}, {\"axis\": {\"matches\": true}, \"label\": \"NetB_imp\", \"values\": [1004]}, {\"axis\": {\"matches\": true}, \"label\": \"NetB_spd\", \"values\": [25066]}], \"hovertemplate\": \"Weekday=Mon<br>%{xaxis.title.text}=%{x}<br>%{yaxis.title.text}=%{y}<extra></extra>\", \"legendgroup\": \"Mon\", \"marker\": {\"color\": \"#636efa\", \"symbol\": \"circle\"}, \"name\": \"Mon\", \"showlegend\": true, \"type\": \"splom\"}, {\"dimensions\": [{\"axis\": {\"matches\": true}, \"label\": \"Page Views\", \"values\": [23718]}, {\"axis\": {\"matches\": true}, \"label\": \"NetA_imp\", \"values\": [1133]}, {\"axis\": {\"matches\": true}, \"label\": \"NetA_spd\", \"values\": [9504]}, {\"axis\": {\"matches\": true}, \"label\": \"NetB_imp\", \"values\": [1318]}, {\"axis\": {\"matches\": true}, \"label\": \"NetB_spd\", \"values\": [29337]}], \"hovertemplate\": \"Weekday=Tue<br>%{xaxis.title.text}=%{x}<br>%{yaxis.title.text}=%{y}<extra></extra>\", \"legendgroup\": \"Tue\", \"marker\": {\"color\": \"#EF553B\", \"symbol\": \"circle\"}, \"name\": \"Tue\", \"showlegend\": true, \"type\": \"splom\"}, {\"dimensions\": [{\"axis\": {\"matches\": true}, \"label\": \"Page Views\", \"values\": [23750]}, {\"axis\": {\"matches\": true}, \"label\": \"NetA_imp\", \"values\": [631]}, {\"axis\": {\"matches\": true}, \"label\": \"NetA_spd\", \"values\": [14817]}, {\"axis\": {\"matches\": true}, \"label\": \"NetB_imp\", \"values\": [1045]}, {\"axis\": {\"matches\": true}, \"label\": \"NetB_spd\", \"values\": [19672]}], \"hovertemplate\": \"Weekday=Wed<br>%{xaxis.title.text}=%{x}<br>%{yaxis.title.text}=%{y}<extra></extra>\", \"legendgroup\": \"Wed\", \"marker\": {\"color\": \"#00cc96\", \"symbol\": \"circle\"}, \"name\": \"Wed\", \"showlegend\": true, \"type\": \"splom\"}, {\"dimensions\": [{\"axis\": {\"matches\": true}, \"label\": \"Page Views\", \"values\": [22541]}, {\"axis\": {\"matches\": true}, \"label\": \"NetA_imp\", \"values\": [879]}, {\"axis\": {\"matches\": true}, \"label\": \"NetA_spd\", \"values\": [27272]}, {\"axis\": {\"matches\": true}, \"label\": \"NetB_imp\", \"values\": [728]}, {\"axis\": {\"matches\": true}, \"label\": \"NetB_spd\", \"values\": [14708]}], \"hovertemplate\": \"Weekday=Thu<br>%{xaxis.title.text}=%{x}<br>%{yaxis.title.text}=%{y}<extra></extra>\", \"legendgroup\": \"Thu\", \"marker\": {\"color\": \"#ab63fa\", \"symbol\": \"circle\"}, \"name\": \"Thu\", \"showlegend\": true, \"type\": \"splom\"}, {\"dimensions\": [{\"axis\": {\"matches\": true}, \"label\": \"Page Views\", \"values\": [21507]}, {\"axis\": {\"matches\": true}, \"label\": \"NetA_imp\", \"values\": [452]}, {\"axis\": {\"matches\": true}, \"label\": \"NetA_spd\", \"values\": [14433]}, {\"axis\": {\"matches\": true}, \"label\": \"NetB_imp\", \"values\": [810]}, {\"axis\": {\"matches\": true}, \"label\": \"NetB_spd\", \"values\": [17552]}], \"hovertemplate\": \"Weekday=Fri<br>%{xaxis.title.text}=%{x}<br>%{yaxis.title.text}=%{y}<extra></extra>\", \"legendgroup\": \"Fri\", \"marker\": {\"color\": \"#FFA15A\", \"symbol\": \"circle\"}, \"name\": \"Fri\", \"showlegend\": true, \"type\": \"splom\"}, {\"dimensions\": [{\"axis\": {\"matches\": true}, \"label\": \"Page Views\", \"values\": [21709]}, {\"axis\": {\"matches\": true}, \"label\": \"NetA_imp\", \"values\": [514]}, {\"axis\": {\"matches\": true}, \"label\": \"NetA_spd\", \"values\": [6816]}, {\"axis\": {\"matches\": true}, \"label\": \"NetB_imp\", \"values\": [945]}, {\"axis\": {\"matches\": true}, \"label\": \"NetB_spd\", \"values\": [14441]}], \"hovertemplate\": \"Weekday=Sat<br>%{xaxis.title.text}=%{x}<br>%{yaxis.title.text}=%{y}<extra></extra>\", \"legendgroup\": \"Sat\", \"marker\": {\"color\": \"#19d3f3\", \"symbol\": \"circle\"}, \"name\": \"Sat\", \"showlegend\": true, \"type\": \"splom\"}, {\"dimensions\": [{\"axis\": {\"matches\": true}, \"label\": \"Page Views\", \"values\": [23878]}, {\"axis\": {\"matches\": true}, \"label\": \"NetA_imp\", \"values\": [1131]}, {\"axis\": {\"matches\": true}, \"label\": \"NetA_spd\", \"values\": [20595]}, {\"axis\": {\"matches\": true}, \"label\": \"NetB_imp\", \"values\": [838]}, {\"axis\": {\"matches\": true}, \"label\": \"NetB_spd\", \"values\": [17475]}], \"hovertemplate\": \"Weekday=Sun<br>%{xaxis.title.text}=%{x}<br>%{yaxis.title.text}=%{y}<extra></extra>\", \"legendgroup\": \"Sun\", \"marker\": {\"color\": \"#FF6692\", \"symbol\": \"circle\"}, \"name\": \"Sun\", \"showlegend\": true, \"type\": \"splom\"}],                        {\"dragmode\": \"select\", \"legend\": {\"title\": {\"text\": \"Weekday\"}, \"tracegroupgap\": 0}, \"margin\": {\"t\": 60}, \"template\": {\"data\": {\"bar\": [{\"error_x\": {\"color\": \"#2a3f5f\"}, \"error_y\": {\"color\": \"#2a3f5f\"}, \"marker\": {\"line\": {\"color\": \"#E5ECF6\", \"width\": 0.5}}, \"type\": \"bar\"}], \"barpolar\": [{\"marker\": {\"line\": {\"color\": \"#E5ECF6\", \"width\": 0.5}}, \"type\": \"barpolar\"}], \"carpet\": [{\"aaxis\": {\"endlinecolor\": \"#2a3f5f\", \"gridcolor\": \"white\", \"linecolor\": \"white\", \"minorgridcolor\": \"white\", \"startlinecolor\": \"#2a3f5f\"}, \"baxis\": {\"endlinecolor\": \"#2a3f5f\", \"gridcolor\": \"white\", \"linecolor\": \"white\", \"minorgridcolor\": \"white\", \"startlinecolor\": \"#2a3f5f\"}, \"type\": \"carpet\"}], \"choropleth\": [{\"colorbar\": {\"outlinewidth\": 0, \"ticks\": \"\"}, \"type\": \"choropleth\"}], \"contour\": [{\"colorbar\": {\"outlinewidth\": 0, \"ticks\": \"\"}, \"colorscale\": [[0.0, \"#0d0887\"], [0.1111111111111111, \"#46039f\"], [0.2222222222222222, \"#7201a8\"], [0.3333333333333333, \"#9c179e\"], [0.4444444444444444, \"#bd3786\"], [0.5555555555555556, \"#d8576b\"], [0.6666666666666666, \"#ed7953\"], [0.7777777777777778, \"#fb9f3a\"], [0.8888888888888888, \"#fdca26\"], [1.0, \"#f0f921\"]], \"type\": \"contour\"}], \"contourcarpet\": [{\"colorbar\": {\"outlinewidth\": 0, \"ticks\": \"\"}, \"type\": \"contourcarpet\"}], \"heatmap\": [{\"colorbar\": {\"outlinewidth\": 0, \"ticks\": \"\"}, \"colorscale\": [[0.0, \"#0d0887\"], [0.1111111111111111, \"#46039f\"], [0.2222222222222222, \"#7201a8\"], [0.3333333333333333, \"#9c179e\"], [0.4444444444444444, \"#bd3786\"], [0.5555555555555556, \"#d8576b\"], [0.6666666666666666, \"#ed7953\"], [0.7777777777777778, \"#fb9f3a\"], [0.8888888888888888, \"#fdca26\"], [1.0, \"#f0f921\"]], \"type\": \"heatmap\"}], \"heatmapgl\": [{\"colorbar\": {\"outlinewidth\": 0, \"ticks\": \"\"}, \"colorscale\": [[0.0, \"#0d0887\"], [0.1111111111111111, \"#46039f\"], [0.2222222222222222, \"#7201a8\"], [0.3333333333333333, \"#9c179e\"], [0.4444444444444444, \"#bd3786\"], [0.5555555555555556, \"#d8576b\"], [0.6666666666666666, \"#ed7953\"], [0.7777777777777778, \"#fb9f3a\"], [0.8888888888888888, \"#fdca26\"], [1.0, \"#f0f921\"]], \"type\": \"heatmapgl\"}], \"histogram\": [{\"marker\": {\"colorbar\": {\"outlinewidth\": 0, \"ticks\": \"\"}}, \"type\": \"histogram\"}], \"histogram2d\": [{\"colorbar\": {\"outlinewidth\": 0, \"ticks\": \"\"}, \"colorscale\": [[0.0, \"#0d0887\"], [0.1111111111111111, \"#46039f\"], [0.2222222222222222, \"#7201a8\"], [0.3333333333333333, \"#9c179e\"], [0.4444444444444444, \"#bd3786\"], [0.5555555555555556, \"#d8576b\"], [0.6666666666666666, \"#ed7953\"], [0.7777777777777778, \"#fb9f3a\"], [0.8888888888888888, \"#fdca26\"], [1.0, \"#f0f921\"]], \"type\": \"histogram2d\"}], \"histogram2dcontour\": [{\"colorbar\": {\"outlinewidth\": 0, \"ticks\": \"\"}, \"colorscale\": [[0.0, \"#0d0887\"], [0.1111111111111111, \"#46039f\"], [0.2222222222222222, \"#7201a8\"], [0.3333333333333333, \"#9c179e\"], [0.4444444444444444, \"#bd3786\"], [0.5555555555555556, \"#d8576b\"], [0.6666666666666666, \"#ed7953\"], [0.7777777777777778, \"#fb9f3a\"], [0.8888888888888888, \"#fdca26\"], [1.0, \"#f0f921\"]], \"type\": \"histogram2dcontour\"}], \"mesh3d\": [{\"colorbar\": {\"outlinewidth\": 0, \"ticks\": \"\"}, \"type\": \"mesh3d\"}], \"parcoords\": [{\"line\": {\"colorbar\": {\"outlinewidth\": 0, \"ticks\": \"\"}}, \"type\": \"parcoords\"}], \"pie\": [{\"automargin\": true, \"type\": \"pie\"}], \"scatter\": [{\"marker\": {\"colorbar\": {\"outlinewidth\": 0, \"ticks\": \"\"}}, \"type\": \"scatter\"}], \"scatter3d\": [{\"line\": {\"colorbar\": {\"outlinewidth\": 0, \"ticks\": \"\"}}, \"marker\": {\"colorbar\": {\"outlinewidth\": 0, \"ticks\": \"\"}}, \"type\": \"scatter3d\"}], \"scattercarpet\": [{\"marker\": {\"colorbar\": {\"outlinewidth\": 0, \"ticks\": \"\"}}, \"type\": \"scattercarpet\"}], \"scattergeo\": [{\"marker\": {\"colorbar\": {\"outlinewidth\": 0, \"ticks\": \"\"}}, \"type\": \"scattergeo\"}], \"scattergl\": [{\"marker\": {\"colorbar\": {\"outlinewidth\": 0, \"ticks\": \"\"}}, \"type\": \"scattergl\"}], \"scattermapbox\": [{\"marker\": {\"colorbar\": {\"outlinewidth\": 0, \"ticks\": \"\"}}, \"type\": \"scattermapbox\"}], \"scatterpolar\": [{\"marker\": {\"colorbar\": {\"outlinewidth\": 0, \"ticks\": \"\"}}, \"type\": \"scatterpolar\"}], \"scatterpolargl\": [{\"marker\": {\"colorbar\": {\"outlinewidth\": 0, \"ticks\": \"\"}}, \"type\": \"scatterpolargl\"}], \"scatterternary\": [{\"marker\": {\"colorbar\": {\"outlinewidth\": 0, \"ticks\": \"\"}}, \"type\": \"scatterternary\"}], \"surface\": [{\"colorbar\": {\"outlinewidth\": 0, \"ticks\": \"\"}, \"colorscale\": [[0.0, \"#0d0887\"], [0.1111111111111111, \"#46039f\"], [0.2222222222222222, \"#7201a8\"], [0.3333333333333333, \"#9c179e\"], [0.4444444444444444, \"#bd3786\"], [0.5555555555555556, \"#d8576b\"], [0.6666666666666666, \"#ed7953\"], [0.7777777777777778, \"#fb9f3a\"], [0.8888888888888888, \"#fdca26\"], [1.0, \"#f0f921\"]], \"type\": \"surface\"}], \"table\": [{\"cells\": {\"fill\": {\"color\": \"#EBF0F8\"}, \"line\": {\"color\": \"white\"}}, \"header\": {\"fill\": {\"color\": \"#C8D4E3\"}, \"line\": {\"color\": \"white\"}}, \"type\": \"table\"}]}, \"layout\": {\"annotationdefaults\": {\"arrowcolor\": \"#2a3f5f\", \"arrowhead\": 0, \"arrowwidth\": 1}, \"autotypenumbers\": \"strict\", \"coloraxis\": {\"colorbar\": {\"outlinewidth\": 0, \"ticks\": \"\"}}, \"colorscale\": {\"diverging\": [[0, \"#8e0152\"], [0.1, \"#c51b7d\"], [0.2, \"#de77ae\"], [0.3, \"#f1b6da\"], [0.4, \"#fde0ef\"], [0.5, \"#f7f7f7\"], [0.6, \"#e6f5d0\"], [0.7, \"#b8e186\"], [0.8, \"#7fbc41\"], [0.9, \"#4d9221\"], [1, \"#276419\"]], \"sequential\": [[0.0, \"#0d0887\"], [0.1111111111111111, \"#46039f\"], [0.2222222222222222, \"#7201a8\"], [0.3333333333333333, \"#9c179e\"], [0.4444444444444444, \"#bd3786\"], [0.5555555555555556, \"#d8576b\"], [0.6666666666666666, \"#ed7953\"], [0.7777777777777778, \"#fb9f3a\"], [0.8888888888888888, \"#fdca26\"], [1.0, \"#f0f921\"]], \"sequentialminus\": [[0.0, \"#0d0887\"], [0.1111111111111111, \"#46039f\"], [0.2222222222222222, \"#7201a8\"], [0.3333333333333333, \"#9c179e\"], [0.4444444444444444, \"#bd3786\"], [0.5555555555555556, \"#d8576b\"], [0.6666666666666666, \"#ed7953\"], [0.7777777777777778, \"#fb9f3a\"], [0.8888888888888888, \"#fdca26\"], [1.0, \"#f0f921\"]]}, \"colorway\": [\"#636efa\", \"#EF553B\", \"#00cc96\", \"#ab63fa\", \"#FFA15A\", \"#19d3f3\", \"#FF6692\", \"#B6E880\", \"#FF97FF\", \"#FECB52\"], \"font\": {\"color\": \"#2a3f5f\"}, \"geo\": {\"bgcolor\": \"white\", \"lakecolor\": \"white\", \"landcolor\": \"#E5ECF6\", \"showlakes\": true, \"showland\": true, \"subunitcolor\": \"white\"}, \"hoverlabel\": {\"align\": \"left\"}, \"hovermode\": \"closest\", \"mapbox\": {\"style\": \"light\"}, \"paper_bgcolor\": \"white\", \"plot_bgcolor\": \"#E5ECF6\", \"polar\": {\"angularaxis\": {\"gridcolor\": \"white\", \"linecolor\": \"white\", \"ticks\": \"\"}, \"bgcolor\": \"#E5ECF6\", \"radialaxis\": {\"gridcolor\": \"white\", \"linecolor\": \"white\", \"ticks\": \"\"}}, \"scene\": {\"xaxis\": {\"backgroundcolor\": \"#E5ECF6\", \"gridcolor\": \"white\", \"gridwidth\": 2, \"linecolor\": \"white\", \"showbackground\": true, \"ticks\": \"\", \"zerolinecolor\": \"white\"}, \"yaxis\": {\"backgroundcolor\": \"#E5ECF6\", \"gridcolor\": \"white\", \"gridwidth\": 2, \"linecolor\": \"white\", \"showbackground\": true, \"ticks\": \"\", \"zerolinecolor\": \"white\"}, \"zaxis\": {\"backgroundcolor\": \"#E5ECF6\", \"gridcolor\": \"white\", \"gridwidth\": 2, \"linecolor\": \"white\", \"showbackground\": true, \"ticks\": \"\", \"zerolinecolor\": \"white\"}}, \"shapedefaults\": {\"line\": {\"color\": \"#2a3f5f\"}}, \"ternary\": {\"aaxis\": {\"gridcolor\": \"white\", \"linecolor\": \"white\", \"ticks\": \"\"}, \"baxis\": {\"gridcolor\": \"white\", \"linecolor\": \"white\", \"ticks\": \"\"}, \"bgcolor\": \"#E5ECF6\", \"caxis\": {\"gridcolor\": \"white\", \"linecolor\": \"white\", \"ticks\": \"\"}}, \"title\": {\"x\": 0.05}, \"xaxis\": {\"automargin\": true, \"gridcolor\": \"white\", \"linecolor\": \"white\", \"ticks\": \"\", \"title\": {\"standoff\": 15}, \"zerolinecolor\": \"white\", \"zerolinewidth\": 2}, \"yaxis\": {\"automargin\": true, \"gridcolor\": \"white\", \"linecolor\": \"white\", \"ticks\": \"\", \"title\": {\"standoff\": 15}, \"zerolinecolor\": \"white\", \"zerolinewidth\": 2}}}, \"title\": {\"text\": \"Relationships between Page Views, Network Impressions and Spend variables - Aggregated by Weekday\"}},                        {\"responsive\": true}                    ).then(function(){\n",
       "                            \n",
       "var gd = document.getElementById('43186162-8bd6-481c-bc4a-ceab10f1df78');\n",
>>>>>>> main
>>>>>>> main
       "var x = new MutationObserver(function (mutations, observer) {{\n",
       "        var display = window.getComputedStyle(gd).display;\n",
       "        if (!display || display === 'none') {{\n",
       "            console.log([gd, 'removed!']);\n",
       "            Plotly.purge(gd);\n",
       "            observer.disconnect();\n",
       "        }}\n",
       "}});\n",
       "\n",
       "// Listen for the removal of the full notebook cells\n",
       "var notebookContainer = gd.closest('#notebook-container');\n",
       "if (notebookContainer) {{\n",
       "    x.observe(notebookContainer, {childList: true});\n",
       "}}\n",
       "\n",
       "// Listen for the clearing of the current output cell\n",
       "var outputEl = gd.closest('.output');\n",
       "if (outputEl) {{\n",
       "    x.observe(outputEl, {childList: true});\n",
       "}}\n",
       "\n",
       "                        })                };                });            </script>        </div>"
      ]
     },
     "metadata": {},
     "output_type": "display_data"
    }
   ],
   "source": [
    "fig = px.scatter_matrix(df_plot, dimensions=['Page Views', 'NetA_imp','NetA_spd'\\\n",
    "                                         , 'NetB_imp', 'NetB_spd'],color='Weekday')\n",
    "\n",
    "\n",
    "fig.update_layout(title=\"Relationships between Page Views, Network Impressions and Spend variables - Aggregated by Weekday\")\n",
    "\n",
    "fig.show()"
   ]
  },
  {
   "cell_type": "markdown",
   "id": "aquatic-parks",
   "metadata": {},
   "source": [
    "### Q3 - Visualise amount of variation of Page views at different parts of the day"
   ]
  },
  {
   "cell_type": "code",
<<<<<<< HEAD
   "execution_count": 142,
=======
<<<<<<< HEAD
   "execution_count": 49,
=======
   "execution_count": 22,
>>>>>>> main
>>>>>>> main
   "id": "nasty-court",
   "metadata": {},
   "outputs": [
    {
     "data": {
      "text/html": [
       "<div>\n",
       "<style scoped>\n",
       "    .dataframe tbody tr th:only-of-type {\n",
       "        vertical-align: middle;\n",
       "    }\n",
       "\n",
       "    .dataframe tbody tr th {\n",
       "        vertical-align: top;\n",
       "    }\n",
       "\n",
       "    .dataframe thead th {\n",
       "        text-align: right;\n",
       "    }\n",
       "</style>\n",
       "<table border=\"1\" class=\"dataframe\">\n",
       "  <thead>\n",
       "    <tr style=\"text-align: right;\">\n",
       "      <th></th>\n",
       "      <th>Month</th>\n",
       "      <th>Hour</th>\n",
       "      <th>Page Views</th>\n",
       "      <th>NetA_imp</th>\n",
       "      <th>NetA_spd</th>\n",
       "      <th>NetB_imp</th>\n",
       "      <th>NetB_spd</th>\n",
       "    </tr>\n",
       "  </thead>\n",
       "  <tbody>\n",
       "    <tr>\n",
       "      <th>0</th>\n",
       "      <td>Aug</td>\n",
       "      <td>0</td>\n",
       "      <td>1126</td>\n",
       "      <td>1</td>\n",
       "      <td>52</td>\n",
       "      <td>0</td>\n",
       "      <td>0</td>\n",
       "    </tr>\n",
       "    <tr>\n",
       "      <th>1</th>\n",
       "      <td>Aug</td>\n",
       "      <td>1</td>\n",
       "      <td>763</td>\n",
       "      <td>0</td>\n",
       "      <td>0</td>\n",
       "      <td>0</td>\n",
       "      <td>0</td>\n",
       "    </tr>\n",
       "    <tr>\n",
       "      <th>2</th>\n",
       "      <td>Aug</td>\n",
       "      <td>2</td>\n",
       "      <td>470</td>\n",
       "      <td>0</td>\n",
       "      <td>0</td>\n",
       "      <td>0</td>\n",
       "      <td>0</td>\n",
       "    </tr>\n",
       "    <tr>\n",
       "      <th>3</th>\n",
       "      <td>Aug</td>\n",
       "      <td>3</td>\n",
       "      <td>350</td>\n",
       "      <td>0</td>\n",
       "      <td>0</td>\n",
       "      <td>0</td>\n",
       "      <td>0</td>\n",
       "    </tr>\n",
       "    <tr>\n",
       "      <th>4</th>\n",
       "      <td>Aug</td>\n",
       "      <td>4</td>\n",
       "      <td>312</td>\n",
       "      <td>0</td>\n",
       "      <td>0</td>\n",
       "      <td>0</td>\n",
       "      <td>0</td>\n",
       "    </tr>\n",
       "    <tr>\n",
       "      <th>5</th>\n",
       "      <td>Aug</td>\n",
       "      <td>5</td>\n",
       "      <td>437</td>\n",
       "      <td>0</td>\n",
       "      <td>0</td>\n",
       "      <td>0</td>\n",
       "      <td>0</td>\n",
       "    </tr>\n",
       "    <tr>\n",
       "      <th>6</th>\n",
       "      <td>Aug</td>\n",
       "      <td>6</td>\n",
       "      <td>861</td>\n",
       "      <td>38</td>\n",
       "      <td>1068</td>\n",
       "      <td>0</td>\n",
       "      <td>0</td>\n",
       "    </tr>\n",
       "    <tr>\n",
       "      <th>7</th>\n",
       "      <td>Aug</td>\n",
       "      <td>7</td>\n",
       "      <td>1803</td>\n",
       "      <td>23</td>\n",
       "      <td>288</td>\n",
       "      <td>0</td>\n",
       "      <td>0</td>\n",
       "    </tr>\n",
       "    <tr>\n",
       "      <th>8</th>\n",
       "      <td>Aug</td>\n",
       "      <td>8</td>\n",
       "      <td>2808</td>\n",
       "      <td>63</td>\n",
       "      <td>1451</td>\n",
       "      <td>12</td>\n",
       "      <td>55</td>\n",
       "    </tr>\n",
       "    <tr>\n",
       "      <th>9</th>\n",
       "      <td>Aug</td>\n",
       "      <td>9</td>\n",
       "      <td>4248</td>\n",
       "      <td>23</td>\n",
       "      <td>568</td>\n",
       "      <td>1</td>\n",
       "      <td>29</td>\n",
       "    </tr>\n",
       "    <tr>\n",
       "      <th>10</th>\n",
       "      <td>Aug</td>\n",
       "      <td>10</td>\n",
       "      <td>5170</td>\n",
       "      <td>46</td>\n",
       "      <td>1434</td>\n",
       "      <td>1</td>\n",
       "      <td>29</td>\n",
       "    </tr>\n",
       "    <tr>\n",
       "      <th>11</th>\n",
       "      <td>Aug</td>\n",
       "      <td>11</td>\n",
       "      <td>5540</td>\n",
       "      <td>60</td>\n",
       "      <td>1893</td>\n",
       "      <td>2</td>\n",
       "      <td>14</td>\n",
       "    </tr>\n",
       "    <tr>\n",
       "      <th>12</th>\n",
       "      <td>Aug</td>\n",
       "      <td>12</td>\n",
       "      <td>5553</td>\n",
       "      <td>57</td>\n",
       "      <td>1317</td>\n",
       "      <td>84</td>\n",
       "      <td>1901</td>\n",
       "    </tr>\n",
       "    <tr>\n",
       "      <th>13</th>\n",
       "      <td>Aug</td>\n",
       "      <td>13</td>\n",
       "      <td>5201</td>\n",
       "      <td>54</td>\n",
       "      <td>950</td>\n",
       "      <td>73</td>\n",
       "      <td>1968</td>\n",
       "    </tr>\n",
       "    <tr>\n",
       "      <th>14</th>\n",
       "      <td>Aug</td>\n",
       "      <td>14</td>\n",
       "      <td>4980</td>\n",
       "      <td>31</td>\n",
       "      <td>719</td>\n",
       "      <td>103</td>\n",
       "      <td>2359</td>\n",
       "    </tr>\n",
       "    <tr>\n",
       "      <th>15</th>\n",
       "      <td>Aug</td>\n",
       "      <td>15</td>\n",
       "      <td>4965</td>\n",
       "      <td>127</td>\n",
       "      <td>1965</td>\n",
       "      <td>112</td>\n",
       "      <td>3207</td>\n",
       "    </tr>\n",
       "    <tr>\n",
       "      <th>16</th>\n",
       "      <td>Aug</td>\n",
       "      <td>16</td>\n",
       "      <td>5326</td>\n",
       "      <td>178</td>\n",
       "      <td>2901</td>\n",
       "      <td>72</td>\n",
       "      <td>1591</td>\n",
       "    </tr>\n",
       "    <tr>\n",
       "      <th>17</th>\n",
       "      <td>Aug</td>\n",
       "      <td>17</td>\n",
       "      <td>4052</td>\n",
       "      <td>376</td>\n",
       "      <td>8656</td>\n",
       "      <td>216</td>\n",
       "      <td>5075</td>\n",
       "    </tr>\n",
       "    <tr>\n",
       "      <th>18</th>\n",
       "      <td>Aug</td>\n",
       "      <td>18</td>\n",
       "      <td>3595</td>\n",
       "      <td>360</td>\n",
       "      <td>13698</td>\n",
       "      <td>586</td>\n",
       "      <td>19033</td>\n",
       "    </tr>\n",
       "    <tr>\n",
       "      <th>19</th>\n",
       "      <td>Aug</td>\n",
       "      <td>19</td>\n",
       "      <td>3729</td>\n",
       "      <td>319</td>\n",
       "      <td>15738</td>\n",
       "      <td>387</td>\n",
       "      <td>12562</td>\n",
       "    </tr>\n",
       "    <tr>\n",
       "      <th>20</th>\n",
       "      <td>Aug</td>\n",
       "      <td>20</td>\n",
       "      <td>3800</td>\n",
       "      <td>219</td>\n",
       "      <td>11329</td>\n",
       "      <td>731</td>\n",
       "      <td>25077</td>\n",
       "    </tr>\n",
       "    <tr>\n",
       "      <th>21</th>\n",
       "      <td>Aug</td>\n",
       "      <td>21</td>\n",
       "      <td>3673</td>\n",
       "      <td>208</td>\n",
       "      <td>7951</td>\n",
       "      <td>232</td>\n",
       "      <td>7077</td>\n",
       "    </tr>\n",
       "    <tr>\n",
       "      <th>22</th>\n",
       "      <td>Aug</td>\n",
       "      <td>22</td>\n",
       "      <td>2751</td>\n",
       "      <td>85</td>\n",
       "      <td>3463</td>\n",
       "      <td>174</td>\n",
       "      <td>9733</td>\n",
       "    </tr>\n",
       "    <tr>\n",
       "      <th>23</th>\n",
       "      <td>Aug</td>\n",
       "      <td>23</td>\n",
       "      <td>1894</td>\n",
       "      <td>81</td>\n",
       "      <td>2771</td>\n",
       "      <td>52</td>\n",
       "      <td>741</td>\n",
       "    </tr>\n",
       "    <tr>\n",
       "      <th>24</th>\n",
       "      <td>Jul</td>\n",
       "      <td>0</td>\n",
       "      <td>1335</td>\n",
       "      <td>12</td>\n",
       "      <td>0</td>\n",
       "      <td>258</td>\n",
       "      <td>0</td>\n",
       "    </tr>\n",
       "    <tr>\n",
       "      <th>25</th>\n",
       "      <td>Jul</td>\n",
       "      <td>1</td>\n",
       "      <td>900</td>\n",
       "      <td>0</td>\n",
       "      <td>0</td>\n",
       "      <td>91</td>\n",
       "      <td>0</td>\n",
       "    </tr>\n",
       "    <tr>\n",
       "      <th>26</th>\n",
       "      <td>Jul</td>\n",
       "      <td>2</td>\n",
       "      <td>530</td>\n",
       "      <td>0</td>\n",
       "      <td>0</td>\n",
       "      <td>114</td>\n",
       "      <td>0</td>\n",
       "    </tr>\n",
       "    <tr>\n",
       "      <th>27</th>\n",
       "      <td>Jul</td>\n",
       "      <td>3</td>\n",
       "      <td>444</td>\n",
       "      <td>0</td>\n",
       "      <td>0</td>\n",
       "      <td>112</td>\n",
       "      <td>0</td>\n",
       "    </tr>\n",
       "    <tr>\n",
       "      <th>28</th>\n",
       "      <td>Jul</td>\n",
       "      <td>4</td>\n",
       "      <td>318</td>\n",
       "      <td>0</td>\n",
       "      <td>0</td>\n",
       "      <td>64</td>\n",
       "      <td>0</td>\n",
       "    </tr>\n",
       "    <tr>\n",
       "      <th>29</th>\n",
       "      <td>Jul</td>\n",
       "      <td>5</td>\n",
       "      <td>492</td>\n",
       "      <td>0</td>\n",
       "      <td>0</td>\n",
       "      <td>45</td>\n",
       "      <td>0</td>\n",
       "    </tr>\n",
       "    <tr>\n",
       "      <th>30</th>\n",
       "      <td>Jul</td>\n",
       "      <td>6</td>\n",
       "      <td>868</td>\n",
       "      <td>18</td>\n",
       "      <td>198</td>\n",
       "      <td>18</td>\n",
       "      <td>0</td>\n",
       "    </tr>\n",
       "    <tr>\n",
       "      <th>31</th>\n",
       "      <td>Jul</td>\n",
       "      <td>7</td>\n",
       "      <td>1813</td>\n",
       "      <td>11</td>\n",
       "      <td>0</td>\n",
       "      <td>23</td>\n",
       "      <td>0</td>\n",
       "    </tr>\n",
       "    <tr>\n",
       "      <th>32</th>\n",
       "      <td>Jul</td>\n",
       "      <td>8</td>\n",
       "      <td>3341</td>\n",
       "      <td>56</td>\n",
       "      <td>604</td>\n",
       "      <td>22</td>\n",
       "      <td>12</td>\n",
       "    </tr>\n",
       "    <tr>\n",
       "      <th>33</th>\n",
       "      <td>Jul</td>\n",
       "      <td>9</td>\n",
       "      <td>5267</td>\n",
       "      <td>97</td>\n",
       "      <td>310</td>\n",
       "      <td>50</td>\n",
       "      <td>0</td>\n",
       "    </tr>\n",
       "    <tr>\n",
       "      <th>34</th>\n",
       "      <td>Jul</td>\n",
       "      <td>10</td>\n",
       "      <td>6498</td>\n",
       "      <td>68</td>\n",
       "      <td>817</td>\n",
       "      <td>43</td>\n",
       "      <td>0</td>\n",
       "    </tr>\n",
       "    <tr>\n",
       "      <th>35</th>\n",
       "      <td>Jul</td>\n",
       "      <td>11</td>\n",
       "      <td>6930</td>\n",
       "      <td>65</td>\n",
       "      <td>684</td>\n",
       "      <td>61</td>\n",
       "      <td>0</td>\n",
       "    </tr>\n",
       "    <tr>\n",
       "      <th>36</th>\n",
       "      <td>Jul</td>\n",
       "      <td>12</td>\n",
       "      <td>7008</td>\n",
       "      <td>126</td>\n",
       "      <td>973</td>\n",
       "      <td>78</td>\n",
       "      <td>203</td>\n",
       "    </tr>\n",
       "    <tr>\n",
       "      <th>37</th>\n",
       "      <td>Jul</td>\n",
       "      <td>13</td>\n",
       "      <td>6501</td>\n",
       "      <td>109</td>\n",
       "      <td>181</td>\n",
       "      <td>121</td>\n",
       "      <td>276</td>\n",
       "    </tr>\n",
       "    <tr>\n",
       "      <th>38</th>\n",
       "      <td>Jul</td>\n",
       "      <td>14</td>\n",
       "      <td>6395</td>\n",
       "      <td>121</td>\n",
       "      <td>102</td>\n",
       "      <td>117</td>\n",
       "      <td>1165</td>\n",
       "    </tr>\n",
       "    <tr>\n",
       "      <th>39</th>\n",
       "      <td>Jul</td>\n",
       "      <td>15</td>\n",
       "      <td>6356</td>\n",
       "      <td>203</td>\n",
       "      <td>1403</td>\n",
       "      <td>119</td>\n",
       "      <td>572</td>\n",
       "    </tr>\n",
       "    <tr>\n",
       "      <th>40</th>\n",
       "      <td>Jul</td>\n",
       "      <td>16</td>\n",
       "      <td>6374</td>\n",
       "      <td>235</td>\n",
       "      <td>2099</td>\n",
       "      <td>154</td>\n",
       "      <td>1389</td>\n",
       "    </tr>\n",
       "    <tr>\n",
       "      <th>41</th>\n",
       "      <td>Jul</td>\n",
       "      <td>17</td>\n",
       "      <td>5089</td>\n",
       "      <td>203</td>\n",
       "      <td>3301</td>\n",
       "      <td>424</td>\n",
       "      <td>6549</td>\n",
       "    </tr>\n",
       "    <tr>\n",
       "      <th>42</th>\n",
       "      <td>Jul</td>\n",
       "      <td>18</td>\n",
       "      <td>4492</td>\n",
       "      <td>232</td>\n",
       "      <td>1560</td>\n",
       "      <td>490</td>\n",
       "      <td>20460</td>\n",
       "    </tr>\n",
       "    <tr>\n",
       "      <th>43</th>\n",
       "      <td>Jul</td>\n",
       "      <td>19</td>\n",
       "      <td>4683</td>\n",
       "      <td>377</td>\n",
       "      <td>4572</td>\n",
       "      <td>223</td>\n",
       "      <td>2390</td>\n",
       "    </tr>\n",
       "    <tr>\n",
       "      <th>44</th>\n",
       "      <td>Jul</td>\n",
       "      <td>20</td>\n",
       "      <td>4464</td>\n",
       "      <td>698</td>\n",
       "      <td>8826</td>\n",
       "      <td>301</td>\n",
       "      <td>8124</td>\n",
       "    </tr>\n",
       "    <tr>\n",
       "      <th>45</th>\n",
       "      <td>Jul</td>\n",
       "      <td>21</td>\n",
       "      <td>4703</td>\n",
       "      <td>357</td>\n",
       "      <td>5974</td>\n",
       "      <td>297</td>\n",
       "      <td>4526</td>\n",
       "    </tr>\n",
       "    <tr>\n",
       "      <th>46</th>\n",
       "      <td>Jul</td>\n",
       "      <td>22</td>\n",
       "      <td>3461</td>\n",
       "      <td>456</td>\n",
       "      <td>10680</td>\n",
       "      <td>247</td>\n",
       "      <td>1626</td>\n",
       "    </tr>\n",
       "    <tr>\n",
       "      <th>47</th>\n",
       "      <td>Jul</td>\n",
       "      <td>23</td>\n",
       "      <td>2285</td>\n",
       "      <td>171</td>\n",
       "      <td>1746</td>\n",
       "      <td>378</td>\n",
       "      <td>508</td>\n",
       "    </tr>\n",
       "  </tbody>\n",
       "</table>\n",
       "</div>"
      ],
      "text/plain": [
       "   Month  Hour  Page Views  NetA_imp  NetA_spd  NetB_imp  NetB_spd\n",
       "0    Aug     0        1126         1        52         0         0\n",
       "1    Aug     1         763         0         0         0         0\n",
       "2    Aug     2         470         0         0         0         0\n",
       "3    Aug     3         350         0         0         0         0\n",
       "4    Aug     4         312         0         0         0         0\n",
       "5    Aug     5         437         0         0         0         0\n",
       "6    Aug     6         861        38      1068         0         0\n",
       "7    Aug     7        1803        23       288         0         0\n",
       "8    Aug     8        2808        63      1451        12        55\n",
       "9    Aug     9        4248        23       568         1        29\n",
       "10   Aug    10        5170        46      1434         1        29\n",
       "11   Aug    11        5540        60      1893         2        14\n",
       "12   Aug    12        5553        57      1317        84      1901\n",
       "13   Aug    13        5201        54       950        73      1968\n",
       "14   Aug    14        4980        31       719       103      2359\n",
       "15   Aug    15        4965       127      1965       112      3207\n",
       "16   Aug    16        5326       178      2901        72      1591\n",
       "17   Aug    17        4052       376      8656       216      5075\n",
       "18   Aug    18        3595       360     13698       586     19033\n",
       "19   Aug    19        3729       319     15738       387     12562\n",
       "20   Aug    20        3800       219     11329       731     25077\n",
       "21   Aug    21        3673       208      7951       232      7077\n",
       "22   Aug    22        2751        85      3463       174      9733\n",
       "23   Aug    23        1894        81      2771        52       741\n",
       "24   Jul     0        1335        12         0       258         0\n",
       "25   Jul     1         900         0         0        91         0\n",
       "26   Jul     2         530         0         0       114         0\n",
       "27   Jul     3         444         0         0       112         0\n",
       "28   Jul     4         318         0         0        64         0\n",
       "29   Jul     5         492         0         0        45         0\n",
       "30   Jul     6         868        18       198        18         0\n",
       "31   Jul     7        1813        11         0        23         0\n",
       "32   Jul     8        3341        56       604        22        12\n",
       "33   Jul     9        5267        97       310        50         0\n",
       "34   Jul    10        6498        68       817        43         0\n",
       "35   Jul    11        6930        65       684        61         0\n",
       "36   Jul    12        7008       126       973        78       203\n",
       "37   Jul    13        6501       109       181       121       276\n",
       "38   Jul    14        6395       121       102       117      1165\n",
       "39   Jul    15        6356       203      1403       119       572\n",
       "40   Jul    16        6374       235      2099       154      1389\n",
       "41   Jul    17        5089       203      3301       424      6549\n",
       "42   Jul    18        4492       232      1560       490     20460\n",
       "43   Jul    19        4683       377      4572       223      2390\n",
       "44   Jul    20        4464       698      8826       301      8124\n",
       "45   Jul    21        4703       357      5974       297      4526\n",
       "46   Jul    22        3461       456     10680       247      1626\n",
       "47   Jul    23        2285       171      1746       378       508"
      ]
     },
<<<<<<< HEAD
     "execution_count": 142,
=======
<<<<<<< HEAD
     "execution_count": 49,
=======
     "execution_count": 22,
>>>>>>> main
>>>>>>> main
     "metadata": {},
     "output_type": "execute_result"
    }
   ],
   "source": [
    "df_hour_agg=df.groupby(['Month','Hour'])[['Page Views', 'NetA_imp','NetA_spd'\\\n",
    "                                         , 'NetB_imp', 'NetB_spd']].sum().reset_index()\n",
    "\n",
    "df_hour_agg"
   ]
  },
  {
   "cell_type": "code",
<<<<<<< HEAD
   "execution_count": 143,
=======
<<<<<<< HEAD
   "execution_count": 50,
=======
   "execution_count": 23,
>>>>>>> main
>>>>>>> main
   "id": "marked-campus",
   "metadata": {},
   "outputs": [],
   "source": [
    "df_hour_agg=df_hour_agg.merge(df_daypart, left_on='Hour', right_on='Hour', how='inner')"
   ]
  },
  {
   "cell_type": "code",
<<<<<<< HEAD
   "execution_count": 144,
=======
<<<<<<< HEAD
   "execution_count": 51,
=======
   "execution_count": 24,
>>>>>>> main
>>>>>>> main
   "id": "mediterranean-andrew",
   "metadata": {},
   "outputs": [],
   "source": [
<<<<<<< HEAD
=======
<<<<<<< HEAD
=======
    "from pandas.api.types import CategoricalDtype\n",
    "\n",
>>>>>>> main
>>>>>>> main
    "cats = [ 'Late Night', 'Early Morning', 'Morning', 'Afternoon', 'Late Afternoon', 'Evening', 'Night']\n",
    "\n",
    "cat_type = CategoricalDtype(categories=cats, ordered=False)\n",
    "df_hour_agg['Day Part'] = df_hour_agg['Day Part'].astype(cat_type)"
   ]
  },
  {
   "cell_type": "code",
<<<<<<< HEAD
   "execution_count": 145,
=======
<<<<<<< HEAD
   "execution_count": 52,
=======
   "execution_count": 25,
>>>>>>> main
>>>>>>> main
   "id": "vital-burns",
   "metadata": {},
   "outputs": [
    {
     "data": {
      "text/html": [
       "<div>\n",
       "<style scoped>\n",
       "    .dataframe tbody tr th:only-of-type {\n",
       "        vertical-align: middle;\n",
       "    }\n",
       "\n",
       "    .dataframe tbody tr th {\n",
       "        vertical-align: top;\n",
       "    }\n",
       "\n",
       "    .dataframe thead th {\n",
       "        text-align: right;\n",
       "    }\n",
       "</style>\n",
       "<table border=\"1\" class=\"dataframe\">\n",
       "  <thead>\n",
       "    <tr style=\"text-align: right;\">\n",
       "      <th></th>\n",
       "      <th>Month</th>\n",
       "      <th>Day Part</th>\n",
       "      <th>Page Views</th>\n",
       "      <th>NetA_imp</th>\n",
       "      <th>NetA_spd</th>\n",
       "      <th>NetB_imp</th>\n",
       "      <th>NetB_spd</th>\n",
       "    </tr>\n",
       "  </thead>\n",
       "  <tbody>\n",
       "    <tr>\n",
       "      <th>0</th>\n",
       "      <td>Aug</td>\n",
       "      <td>Late Night</td>\n",
       "      <td>0</td>\n",
       "      <td>0</td>\n",
       "      <td>0</td>\n",
       "      <td>0</td>\n",
       "      <td>0</td>\n",
       "    </tr>\n",
       "    <tr>\n",
       "      <th>1</th>\n",
       "      <td>Aug</td>\n",
       "      <td>Early Morning</td>\n",
       "      <td>1610</td>\n",
       "      <td>38</td>\n",
       "      <td>1068</td>\n",
       "      <td>0</td>\n",
       "      <td>0</td>\n",
       "    </tr>\n",
       "    <tr>\n",
       "      <th>2</th>\n",
       "      <td>Aug</td>\n",
       "      <td>Morning</td>\n",
       "      <td>0</td>\n",
       "      <td>0</td>\n",
       "      <td>0</td>\n",
       "      <td>0</td>\n",
       "      <td>0</td>\n",
       "    </tr>\n",
       "    <tr>\n",
       "      <th>3</th>\n",
       "      <td>Aug</td>\n",
       "      <td>Afternoon</td>\n",
       "      <td>15734</td>\n",
       "      <td>142</td>\n",
       "      <td>2986</td>\n",
       "      <td>260</td>\n",
       "      <td>6228</td>\n",
       "    </tr>\n",
       "    <tr>\n",
       "      <th>4</th>\n",
       "      <td>Aug</td>\n",
       "      <td>Late Afternoon</td>\n",
       "      <td>10291</td>\n",
       "      <td>305</td>\n",
       "      <td>4866</td>\n",
       "      <td>184</td>\n",
       "      <td>4798</td>\n",
       "    </tr>\n",
       "    <tr>\n",
       "      <th>5</th>\n",
       "      <td>Aug</td>\n",
       "      <td>Evening</td>\n",
       "      <td>15176</td>\n",
       "      <td>1274</td>\n",
       "      <td>49421</td>\n",
       "      <td>1920</td>\n",
       "      <td>61747</td>\n",
       "    </tr>\n",
       "    <tr>\n",
       "      <th>6</th>\n",
       "      <td>Aug</td>\n",
       "      <td>Night</td>\n",
       "      <td>8318</td>\n",
       "      <td>374</td>\n",
       "      <td>14185</td>\n",
       "      <td>458</td>\n",
       "      <td>17551</td>\n",
       "    </tr>\n",
       "    <tr>\n",
       "      <th>7</th>\n",
       "      <td>Jul</td>\n",
       "      <td>Late Night</td>\n",
       "      <td>0</td>\n",
       "      <td>0</td>\n",
       "      <td>0</td>\n",
       "      <td>0</td>\n",
       "      <td>0</td>\n",
       "    </tr>\n",
       "    <tr>\n",
       "      <th>8</th>\n",
       "      <td>Jul</td>\n",
       "      <td>Early Morning</td>\n",
       "      <td>1678</td>\n",
       "      <td>18</td>\n",
       "      <td>198</td>\n",
       "      <td>127</td>\n",
       "      <td>0</td>\n",
       "    </tr>\n",
       "    <tr>\n",
       "      <th>9</th>\n",
       "      <td>Jul</td>\n",
       "      <td>Morning</td>\n",
       "      <td>0</td>\n",
       "      <td>0</td>\n",
       "      <td>0</td>\n",
       "      <td>0</td>\n",
       "      <td>0</td>\n",
       "    </tr>\n",
       "    <tr>\n",
       "      <th>10</th>\n",
       "      <td>Jul</td>\n",
       "      <td>Afternoon</td>\n",
       "      <td>19904</td>\n",
       "      <td>356</td>\n",
       "      <td>1256</td>\n",
       "      <td>316</td>\n",
       "      <td>1644</td>\n",
       "    </tr>\n",
       "    <tr>\n",
       "      <th>11</th>\n",
       "      <td>Jul</td>\n",
       "      <td>Late Afternoon</td>\n",
       "      <td>12730</td>\n",
       "      <td>438</td>\n",
       "      <td>3502</td>\n",
       "      <td>273</td>\n",
       "      <td>1961</td>\n",
       "    </tr>\n",
       "    <tr>\n",
       "      <th>12</th>\n",
       "      <td>Jul</td>\n",
       "      <td>Evening</td>\n",
       "      <td>18728</td>\n",
       "      <td>1510</td>\n",
       "      <td>18259</td>\n",
       "      <td>1438</td>\n",
       "      <td>37523</td>\n",
       "    </tr>\n",
       "    <tr>\n",
       "      <th>13</th>\n",
       "      <td>Jul</td>\n",
       "      <td>Night</td>\n",
       "      <td>10449</td>\n",
       "      <td>984</td>\n",
       "      <td>18400</td>\n",
       "      <td>922</td>\n",
       "      <td>6660</td>\n",
       "    </tr>\n",
       "  </tbody>\n",
       "</table>\n",
       "</div>"
      ],
      "text/plain": [
       "   Month        Day Part  Page Views  NetA_imp  NetA_spd  NetB_imp  NetB_spd\n",
       "0    Aug      Late Night           0         0         0         0         0\n",
       "1    Aug   Early Morning        1610        38      1068         0         0\n",
       "2    Aug         Morning           0         0         0         0         0\n",
       "3    Aug       Afternoon       15734       142      2986       260      6228\n",
       "4    Aug  Late Afternoon       10291       305      4866       184      4798\n",
       "5    Aug         Evening       15176      1274     49421      1920     61747\n",
       "6    Aug           Night        8318       374     14185       458     17551\n",
       "7    Jul      Late Night           0         0         0         0         0\n",
       "8    Jul   Early Morning        1678        18       198       127         0\n",
       "9    Jul         Morning           0         0         0         0         0\n",
       "10   Jul       Afternoon       19904       356      1256       316      1644\n",
       "11   Jul  Late Afternoon       12730       438      3502       273      1961\n",
       "12   Jul         Evening       18728      1510     18259      1438     37523\n",
       "13   Jul           Night       10449       984     18400       922      6660"
      ]
     },
<<<<<<< HEAD
     "execution_count": 145,
=======
<<<<<<< HEAD
     "execution_count": 52,
=======
     "execution_count": 25,
>>>>>>> main
>>>>>>> main
     "metadata": {},
     "output_type": "execute_result"
    }
   ],
   "source": [
    "df_dp_agg = df_hour_agg.groupby(['Month','Day Part'])[['Page Views', 'NetA_imp','NetA_spd'\\\n",
    "                                         , 'NetB_imp', 'NetB_spd']].sum().reset_index()\n",
    "df_dp_agg"
   ]
  },
  {
   "cell_type": "code",
<<<<<<< HEAD
   "execution_count": 146,
=======
<<<<<<< HEAD
   "execution_count": 53,
=======
   "execution_count": 29,
>>>>>>> main
>>>>>>> main
   "id": "connected-lightweight",
   "metadata": {},
   "outputs": [
    {
     "data": {
      "application/vnd.plotly.v1+json": {
       "config": {
        "plotlyServerURL": "https://plot.ly"
       },
       "data": [
        {
         "hovertemplate": "<b>%{hovertext}</b><br><br>Month=Aug<br>Day Part=%{x}<br>Page Views=%{y}<extra></extra>",
         "hovertext": [
          "Late Night",
          "Early Morning",
          "Morning",
          "Afternoon",
          "Late Afternoon",
          "Evening",
          "Night"
         ],
         "legendgroup": "Aug",
         "line": {
          "color": "#636efa",
          "dash": "solid"
         },
         "mode": "lines",
         "name": "Aug",
         "orientation": "v",
         "showlegend": true,
         "type": "scatter",
         "x": [
          "Late Night",
          "Early Morning",
          "Morning",
          "Afternoon",
          "Late Afternoon",
          "Evening",
          "Night"
         ],
         "xaxis": "x",
         "y": [
          0,
          1610,
          0,
          15734,
          10291,
          15176,
          8318
         ],
         "yaxis": "y"
        },
        {
         "hovertemplate": "<b>%{hovertext}</b><br><br>Month=Jul<br>Day Part=%{x}<br>Page Views=%{y}<extra></extra>",
         "hovertext": [
          "Late Night",
          "Early Morning",
          "Morning",
          "Afternoon",
          "Late Afternoon",
          "Evening",
          "Night"
         ],
         "legendgroup": "Jul",
         "line": {
          "color": "#EF553B",
          "dash": "solid"
         },
         "mode": "lines",
         "name": "Jul",
         "orientation": "v",
         "showlegend": true,
         "type": "scatter",
         "x": [
          "Late Night",
          "Early Morning",
          "Morning",
          "Afternoon",
          "Late Afternoon",
          "Evening",
          "Night"
         ],
         "xaxis": "x",
         "y": [
          0,
          1678,
          0,
          19904,
          12730,
          18728,
          10449
         ],
         "yaxis": "y"
        },
        {
         "mode": "markers",
         "name": "Marker",
         "type": "scatter",
         "x": [
          "Late Night",
          "Early Morning",
          "Morning",
          "Afternoon",
          "Late Afternoon",
          "Evening",
          "Night",
          "Late Night",
          "Early Morning",
          "Morning",
          "Afternoon",
          "Late Afternoon",
          "Evening",
          "Night"
         ],
         "y": [
          0,
          1610,
          0,
          15734,
          10291,
          15176,
          8318,
          0,
          1678,
          0,
          19904,
          12730,
          18728,
          10449
         ]
        }
       ],
       "layout": {
        "legend": {
         "title": {
          "text": "Month"
         },
         "tracegroupgap": 0
        },
        "margin": {
         "t": 60
        },
        "template": {
         "data": {
          "bar": [
           {
            "error_x": {
             "color": "#2a3f5f"
            },
            "error_y": {
             "color": "#2a3f5f"
            },
            "marker": {
             "line": {
              "color": "#E5ECF6",
              "width": 0.5
             }
            },
            "type": "bar"
           }
          ],
          "barpolar": [
           {
            "marker": {
             "line": {
              "color": "#E5ECF6",
              "width": 0.5
             }
            },
            "type": "barpolar"
           }
          ],
          "carpet": [
           {
            "aaxis": {
             "endlinecolor": "#2a3f5f",
             "gridcolor": "white",
             "linecolor": "white",
             "minorgridcolor": "white",
             "startlinecolor": "#2a3f5f"
            },
            "baxis": {
             "endlinecolor": "#2a3f5f",
             "gridcolor": "white",
             "linecolor": "white",
             "minorgridcolor": "white",
             "startlinecolor": "#2a3f5f"
            },
            "type": "carpet"
           }
          ],
          "choropleth": [
           {
            "colorbar": {
             "outlinewidth": 0,
             "ticks": ""
            },
            "type": "choropleth"
           }
          ],
          "contour": [
           {
            "colorbar": {
             "outlinewidth": 0,
             "ticks": ""
            },
            "colorscale": [
             [
              0,
              "#0d0887"
             ],
             [
              0.1111111111111111,
              "#46039f"
             ],
             [
              0.2222222222222222,
              "#7201a8"
             ],
             [
              0.3333333333333333,
              "#9c179e"
             ],
             [
              0.4444444444444444,
              "#bd3786"
             ],
             [
              0.5555555555555556,
              "#d8576b"
             ],
             [
              0.6666666666666666,
              "#ed7953"
             ],
             [
              0.7777777777777778,
              "#fb9f3a"
             ],
             [
              0.8888888888888888,
              "#fdca26"
             ],
             [
              1,
              "#f0f921"
             ]
            ],
            "type": "contour"
           }
          ],
          "contourcarpet": [
           {
            "colorbar": {
             "outlinewidth": 0,
             "ticks": ""
            },
            "type": "contourcarpet"
           }
          ],
          "heatmap": [
           {
            "colorbar": {
             "outlinewidth": 0,
             "ticks": ""
            },
            "colorscale": [
             [
              0,
              "#0d0887"
             ],
             [
              0.1111111111111111,
              "#46039f"
             ],
             [
              0.2222222222222222,
              "#7201a8"
             ],
             [
              0.3333333333333333,
              "#9c179e"
             ],
             [
              0.4444444444444444,
              "#bd3786"
             ],
             [
              0.5555555555555556,
              "#d8576b"
             ],
             [
              0.6666666666666666,
              "#ed7953"
             ],
             [
              0.7777777777777778,
              "#fb9f3a"
             ],
             [
              0.8888888888888888,
              "#fdca26"
             ],
             [
              1,
              "#f0f921"
             ]
            ],
            "type": "heatmap"
           }
          ],
          "heatmapgl": [
           {
            "colorbar": {
             "outlinewidth": 0,
             "ticks": ""
            },
            "colorscale": [
             [
              0,
              "#0d0887"
             ],
             [
              0.1111111111111111,
              "#46039f"
             ],
             [
              0.2222222222222222,
              "#7201a8"
             ],
             [
              0.3333333333333333,
              "#9c179e"
             ],
             [
              0.4444444444444444,
              "#bd3786"
             ],
             [
              0.5555555555555556,
              "#d8576b"
             ],
             [
              0.6666666666666666,
              "#ed7953"
             ],
             [
              0.7777777777777778,
              "#fb9f3a"
             ],
             [
              0.8888888888888888,
              "#fdca26"
             ],
             [
              1,
              "#f0f921"
             ]
            ],
            "type": "heatmapgl"
           }
          ],
          "histogram": [
           {
            "marker": {
             "colorbar": {
              "outlinewidth": 0,
              "ticks": ""
             }
            },
            "type": "histogram"
           }
          ],
          "histogram2d": [
           {
            "colorbar": {
             "outlinewidth": 0,
             "ticks": ""
            },
            "colorscale": [
             [
              0,
              "#0d0887"
             ],
             [
              0.1111111111111111,
              "#46039f"
             ],
             [
              0.2222222222222222,
              "#7201a8"
             ],
             [
              0.3333333333333333,
              "#9c179e"
             ],
             [
              0.4444444444444444,
              "#bd3786"
             ],
             [
              0.5555555555555556,
              "#d8576b"
             ],
             [
              0.6666666666666666,
              "#ed7953"
             ],
             [
              0.7777777777777778,
              "#fb9f3a"
             ],
             [
              0.8888888888888888,
              "#fdca26"
             ],
             [
              1,
              "#f0f921"
             ]
            ],
            "type": "histogram2d"
           }
          ],
          "histogram2dcontour": [
           {
            "colorbar": {
             "outlinewidth": 0,
             "ticks": ""
            },
            "colorscale": [
             [
              0,
              "#0d0887"
             ],
             [
              0.1111111111111111,
              "#46039f"
             ],
             [
              0.2222222222222222,
              "#7201a8"
             ],
             [
              0.3333333333333333,
              "#9c179e"
             ],
             [
              0.4444444444444444,
              "#bd3786"
             ],
             [
              0.5555555555555556,
              "#d8576b"
             ],
             [
              0.6666666666666666,
              "#ed7953"
             ],
             [
              0.7777777777777778,
              "#fb9f3a"
             ],
             [
              0.8888888888888888,
              "#fdca26"
             ],
             [
              1,
              "#f0f921"
             ]
            ],
            "type": "histogram2dcontour"
           }
          ],
          "mesh3d": [
           {
            "colorbar": {
             "outlinewidth": 0,
             "ticks": ""
            },
            "type": "mesh3d"
           }
          ],
          "parcoords": [
           {
            "line": {
             "colorbar": {
              "outlinewidth": 0,
              "ticks": ""
             }
            },
            "type": "parcoords"
           }
          ],
          "pie": [
           {
            "automargin": true,
            "type": "pie"
           }
          ],
          "scatter": [
           {
            "marker": {
             "colorbar": {
              "outlinewidth": 0,
              "ticks": ""
             }
            },
            "type": "scatter"
           }
          ],
          "scatter3d": [
           {
            "line": {
             "colorbar": {
              "outlinewidth": 0,
              "ticks": ""
             }
            },
            "marker": {
             "colorbar": {
              "outlinewidth": 0,
              "ticks": ""
             }
            },
            "type": "scatter3d"
           }
          ],
          "scattercarpet": [
           {
            "marker": {
             "colorbar": {
              "outlinewidth": 0,
              "ticks": ""
             }
            },
            "type": "scattercarpet"
           }
          ],
          "scattergeo": [
           {
            "marker": {
             "colorbar": {
              "outlinewidth": 0,
              "ticks": ""
             }
            },
            "type": "scattergeo"
           }
          ],
          "scattergl": [
           {
            "marker": {
             "colorbar": {
              "outlinewidth": 0,
              "ticks": ""
             }
            },
            "type": "scattergl"
           }
          ],
          "scattermapbox": [
           {
            "marker": {
             "colorbar": {
              "outlinewidth": 0,
              "ticks": ""
             }
            },
            "type": "scattermapbox"
           }
          ],
          "scatterpolar": [
           {
            "marker": {
             "colorbar": {
              "outlinewidth": 0,
              "ticks": ""
             }
            },
            "type": "scatterpolar"
           }
          ],
          "scatterpolargl": [
           {
            "marker": {
             "colorbar": {
              "outlinewidth": 0,
              "ticks": ""
             }
            },
            "type": "scatterpolargl"
           }
          ],
          "scatterternary": [
           {
            "marker": {
             "colorbar": {
              "outlinewidth": 0,
              "ticks": ""
             }
            },
            "type": "scatterternary"
           }
          ],
          "surface": [
           {
            "colorbar": {
             "outlinewidth": 0,
             "ticks": ""
            },
            "colorscale": [
             [
              0,
              "#0d0887"
             ],
             [
              0.1111111111111111,
              "#46039f"
             ],
             [
              0.2222222222222222,
              "#7201a8"
             ],
             [
              0.3333333333333333,
              "#9c179e"
             ],
             [
              0.4444444444444444,
              "#bd3786"
             ],
             [
              0.5555555555555556,
              "#d8576b"
             ],
             [
              0.6666666666666666,
              "#ed7953"
             ],
             [
              0.7777777777777778,
              "#fb9f3a"
             ],
             [
              0.8888888888888888,
              "#fdca26"
             ],
             [
              1,
              "#f0f921"
             ]
            ],
            "type": "surface"
           }
          ],
          "table": [
           {
            "cells": {
             "fill": {
              "color": "#EBF0F8"
             },
             "line": {
              "color": "white"
             }
            },
            "header": {
             "fill": {
              "color": "#C8D4E3"
             },
             "line": {
              "color": "white"
             }
            },
            "type": "table"
           }
          ]
         },
         "layout": {
          "annotationdefaults": {
           "arrowcolor": "#2a3f5f",
           "arrowhead": 0,
           "arrowwidth": 1
          },
          "autotypenumbers": "strict",
          "coloraxis": {
           "colorbar": {
            "outlinewidth": 0,
            "ticks": ""
           }
          },
          "colorscale": {
           "diverging": [
            [
             0,
             "#8e0152"
            ],
            [
             0.1,
             "#c51b7d"
            ],
            [
             0.2,
             "#de77ae"
            ],
            [
             0.3,
             "#f1b6da"
            ],
            [
             0.4,
             "#fde0ef"
            ],
            [
             0.5,
             "#f7f7f7"
            ],
            [
             0.6,
             "#e6f5d0"
            ],
            [
             0.7,
             "#b8e186"
            ],
            [
             0.8,
             "#7fbc41"
            ],
            [
             0.9,
             "#4d9221"
            ],
            [
             1,
             "#276419"
            ]
           ],
           "sequential": [
            [
             0,
             "#0d0887"
            ],
            [
             0.1111111111111111,
             "#46039f"
            ],
            [
             0.2222222222222222,
             "#7201a8"
            ],
            [
             0.3333333333333333,
             "#9c179e"
            ],
            [
             0.4444444444444444,
             "#bd3786"
            ],
            [
             0.5555555555555556,
             "#d8576b"
            ],
            [
             0.6666666666666666,
             "#ed7953"
            ],
            [
             0.7777777777777778,
             "#fb9f3a"
            ],
            [
             0.8888888888888888,
             "#fdca26"
            ],
            [
             1,
             "#f0f921"
            ]
           ],
           "sequentialminus": [
            [
             0,
             "#0d0887"
            ],
            [
             0.1111111111111111,
             "#46039f"
            ],
            [
             0.2222222222222222,
             "#7201a8"
            ],
            [
             0.3333333333333333,
             "#9c179e"
            ],
            [
             0.4444444444444444,
             "#bd3786"
            ],
            [
             0.5555555555555556,
             "#d8576b"
            ],
            [
             0.6666666666666666,
             "#ed7953"
            ],
            [
             0.7777777777777778,
             "#fb9f3a"
            ],
            [
             0.8888888888888888,
             "#fdca26"
            ],
            [
             1,
             "#f0f921"
            ]
           ]
          },
          "colorway": [
           "#636efa",
           "#EF553B",
           "#00cc96",
           "#ab63fa",
           "#FFA15A",
           "#19d3f3",
           "#FF6692",
           "#B6E880",
           "#FF97FF",
           "#FECB52"
          ],
          "font": {
           "color": "#2a3f5f"
          },
          "geo": {
           "bgcolor": "white",
           "lakecolor": "white",
           "landcolor": "#E5ECF6",
           "showlakes": true,
           "showland": true,
           "subunitcolor": "white"
          },
          "hoverlabel": {
           "align": "left"
          },
          "hovermode": "closest",
          "mapbox": {
           "style": "light"
          },
          "paper_bgcolor": "white",
          "plot_bgcolor": "#E5ECF6",
          "polar": {
           "angularaxis": {
            "gridcolor": "white",
            "linecolor": "white",
            "ticks": ""
           },
           "bgcolor": "#E5ECF6",
           "radialaxis": {
            "gridcolor": "white",
            "linecolor": "white",
            "ticks": ""
           }
          },
          "scene": {
           "xaxis": {
            "backgroundcolor": "#E5ECF6",
            "gridcolor": "white",
            "gridwidth": 2,
            "linecolor": "white",
            "showbackground": true,
            "ticks": "",
            "zerolinecolor": "white"
           },
           "yaxis": {
            "backgroundcolor": "#E5ECF6",
            "gridcolor": "white",
            "gridwidth": 2,
            "linecolor": "white",
            "showbackground": true,
            "ticks": "",
            "zerolinecolor": "white"
           },
           "zaxis": {
            "backgroundcolor": "#E5ECF6",
            "gridcolor": "white",
            "gridwidth": 2,
            "linecolor": "white",
            "showbackground": true,
            "ticks": "",
            "zerolinecolor": "white"
           }
          },
          "shapedefaults": {
           "line": {
            "color": "#2a3f5f"
           }
          },
          "ternary": {
           "aaxis": {
            "gridcolor": "white",
            "linecolor": "white",
            "ticks": ""
           },
           "baxis": {
            "gridcolor": "white",
            "linecolor": "white",
            "ticks": ""
           },
           "bgcolor": "#E5ECF6",
           "caxis": {
            "gridcolor": "white",
            "linecolor": "white",
            "ticks": ""
           }
          },
          "title": {
           "x": 0.05
          },
          "xaxis": {
           "automargin": true,
           "gridcolor": "white",
           "linecolor": "white",
           "ticks": "",
           "title": {
            "standoff": 15
           },
           "zerolinecolor": "white",
           "zerolinewidth": 2
          },
          "yaxis": {
           "automargin": true,
           "gridcolor": "white",
           "linecolor": "white",
           "ticks": "",
           "title": {
            "standoff": 15
           },
           "zerolinecolor": "white",
           "zerolinewidth": 2
          }
         }
        },
        "title": {
         "text": "Page views during the day for July and August 2019"
        },
        "xaxis": {
         "anchor": "y",
         "domain": [
          0,
          1
         ],
         "title": {
          "text": ""
         }
        },
        "yaxis": {
         "anchor": "x",
         "domain": [
          0,
          1
         ],
         "title": {
          "text": "Page Views"
         }
        }
       }
      },
      "text/html": [
<<<<<<< HEAD
       "<div>                            <div id=\"ce7cf337-a850-4875-aa31-48c907e0de23\" class=\"plotly-graph-div\" style=\"height:525px; width:100%;\"></div>            <script type=\"text/javascript\">                require([\"plotly\"], function(Plotly) {                    window.PLOTLYENV=window.PLOTLYENV || {};                                    if (document.getElementById(\"ce7cf337-a850-4875-aa31-48c907e0de23\")) {                    Plotly.newPlot(                        \"ce7cf337-a850-4875-aa31-48c907e0de23\",                        [{\"hovertemplate\": \"<b>%{hovertext}</b><br><br>Month=Aug<br>Day Part=%{x}<br>Page Views=%{y}<extra></extra>\", \"hovertext\": [\"Late Night\", \"Early Morning\", \"Morning\", \"Afternoon\", \"Late Afternoon\", \"Evening\", \"Night\"], \"legendgroup\": \"Aug\", \"line\": {\"color\": \"#636efa\", \"dash\": \"solid\"}, \"mode\": \"lines\", \"name\": \"Aug\", \"orientation\": \"v\", \"showlegend\": true, \"type\": \"scatter\", \"x\": [\"Late Night\", \"Early Morning\", \"Morning\", \"Afternoon\", \"Late Afternoon\", \"Evening\", \"Night\"], \"xaxis\": \"x\", \"y\": [0, 1610, 0, 15734, 10291, 15176, 8318], \"yaxis\": \"y\"}, {\"hovertemplate\": \"<b>%{hovertext}</b><br><br>Month=Jul<br>Day Part=%{x}<br>Page Views=%{y}<extra></extra>\", \"hovertext\": [\"Late Night\", \"Early Morning\", \"Morning\", \"Afternoon\", \"Late Afternoon\", \"Evening\", \"Night\"], \"legendgroup\": \"Jul\", \"line\": {\"color\": \"#EF553B\", \"dash\": \"solid\"}, \"mode\": \"lines\", \"name\": \"Jul\", \"orientation\": \"v\", \"showlegend\": true, \"type\": \"scatter\", \"x\": [\"Late Night\", \"Early Morning\", \"Morning\", \"Afternoon\", \"Late Afternoon\", \"Evening\", \"Night\"], \"xaxis\": \"x\", \"y\": [0, 1678, 0, 19904, 12730, 18728, 10449], \"yaxis\": \"y\"}, {\"mode\": \"markers\", \"name\": \"Marker\", \"type\": \"scatter\", \"x\": [\"Late Night\", \"Early Morning\", \"Morning\", \"Afternoon\", \"Late Afternoon\", \"Evening\", \"Night\", \"Late Night\", \"Early Morning\", \"Morning\", \"Afternoon\", \"Late Afternoon\", \"Evening\", \"Night\"], \"y\": [0, 1610, 0, 15734, 10291, 15176, 8318, 0, 1678, 0, 19904, 12730, 18728, 10449]}],                        {\"legend\": {\"title\": {\"text\": \"Month\"}, \"tracegroupgap\": 0}, \"margin\": {\"t\": 60}, \"template\": {\"data\": {\"bar\": [{\"error_x\": {\"color\": \"#2a3f5f\"}, \"error_y\": {\"color\": \"#2a3f5f\"}, \"marker\": {\"line\": {\"color\": \"#E5ECF6\", \"width\": 0.5}}, \"type\": \"bar\"}], \"barpolar\": [{\"marker\": {\"line\": {\"color\": \"#E5ECF6\", \"width\": 0.5}}, \"type\": \"barpolar\"}], \"carpet\": [{\"aaxis\": {\"endlinecolor\": \"#2a3f5f\", \"gridcolor\": \"white\", \"linecolor\": \"white\", \"minorgridcolor\": \"white\", \"startlinecolor\": \"#2a3f5f\"}, \"baxis\": {\"endlinecolor\": \"#2a3f5f\", \"gridcolor\": \"white\", \"linecolor\": \"white\", \"minorgridcolor\": \"white\", \"startlinecolor\": \"#2a3f5f\"}, \"type\": \"carpet\"}], \"choropleth\": [{\"colorbar\": {\"outlinewidth\": 0, \"ticks\": \"\"}, \"type\": \"choropleth\"}], \"contour\": [{\"colorbar\": {\"outlinewidth\": 0, \"ticks\": \"\"}, \"colorscale\": [[0.0, \"#0d0887\"], [0.1111111111111111, \"#46039f\"], [0.2222222222222222, \"#7201a8\"], [0.3333333333333333, \"#9c179e\"], [0.4444444444444444, \"#bd3786\"], [0.5555555555555556, \"#d8576b\"], [0.6666666666666666, \"#ed7953\"], [0.7777777777777778, \"#fb9f3a\"], [0.8888888888888888, \"#fdca26\"], [1.0, \"#f0f921\"]], \"type\": \"contour\"}], \"contourcarpet\": [{\"colorbar\": {\"outlinewidth\": 0, \"ticks\": \"\"}, \"type\": \"contourcarpet\"}], \"heatmap\": [{\"colorbar\": {\"outlinewidth\": 0, \"ticks\": \"\"}, \"colorscale\": [[0.0, \"#0d0887\"], [0.1111111111111111, \"#46039f\"], [0.2222222222222222, \"#7201a8\"], [0.3333333333333333, \"#9c179e\"], [0.4444444444444444, \"#bd3786\"], [0.5555555555555556, \"#d8576b\"], [0.6666666666666666, \"#ed7953\"], [0.7777777777777778, \"#fb9f3a\"], [0.8888888888888888, \"#fdca26\"], [1.0, \"#f0f921\"]], \"type\": \"heatmap\"}], \"heatmapgl\": [{\"colorbar\": {\"outlinewidth\": 0, \"ticks\": \"\"}, \"colorscale\": [[0.0, \"#0d0887\"], [0.1111111111111111, \"#46039f\"], [0.2222222222222222, \"#7201a8\"], [0.3333333333333333, \"#9c179e\"], [0.4444444444444444, \"#bd3786\"], [0.5555555555555556, \"#d8576b\"], [0.6666666666666666, \"#ed7953\"], [0.7777777777777778, \"#fb9f3a\"], [0.8888888888888888, \"#fdca26\"], [1.0, \"#f0f921\"]], \"type\": \"heatmapgl\"}], \"histogram\": [{\"marker\": {\"colorbar\": {\"outlinewidth\": 0, \"ticks\": \"\"}}, \"type\": \"histogram\"}], \"histogram2d\": [{\"colorbar\": {\"outlinewidth\": 0, \"ticks\": \"\"}, \"colorscale\": [[0.0, \"#0d0887\"], [0.1111111111111111, \"#46039f\"], [0.2222222222222222, \"#7201a8\"], [0.3333333333333333, \"#9c179e\"], [0.4444444444444444, \"#bd3786\"], [0.5555555555555556, \"#d8576b\"], [0.6666666666666666, \"#ed7953\"], [0.7777777777777778, \"#fb9f3a\"], [0.8888888888888888, \"#fdca26\"], [1.0, \"#f0f921\"]], \"type\": \"histogram2d\"}], \"histogram2dcontour\": [{\"colorbar\": {\"outlinewidth\": 0, \"ticks\": \"\"}, \"colorscale\": [[0.0, \"#0d0887\"], [0.1111111111111111, \"#46039f\"], [0.2222222222222222, \"#7201a8\"], [0.3333333333333333, \"#9c179e\"], [0.4444444444444444, \"#bd3786\"], [0.5555555555555556, \"#d8576b\"], [0.6666666666666666, \"#ed7953\"], [0.7777777777777778, \"#fb9f3a\"], [0.8888888888888888, \"#fdca26\"], [1.0, \"#f0f921\"]], \"type\": \"histogram2dcontour\"}], \"mesh3d\": [{\"colorbar\": {\"outlinewidth\": 0, \"ticks\": \"\"}, \"type\": \"mesh3d\"}], \"parcoords\": [{\"line\": {\"colorbar\": {\"outlinewidth\": 0, \"ticks\": \"\"}}, \"type\": \"parcoords\"}], \"pie\": [{\"automargin\": true, \"type\": \"pie\"}], \"scatter\": [{\"marker\": {\"colorbar\": {\"outlinewidth\": 0, \"ticks\": \"\"}}, \"type\": \"scatter\"}], \"scatter3d\": [{\"line\": {\"colorbar\": {\"outlinewidth\": 0, \"ticks\": \"\"}}, \"marker\": {\"colorbar\": {\"outlinewidth\": 0, \"ticks\": \"\"}}, \"type\": \"scatter3d\"}], \"scattercarpet\": [{\"marker\": {\"colorbar\": {\"outlinewidth\": 0, \"ticks\": \"\"}}, \"type\": \"scattercarpet\"}], \"scattergeo\": [{\"marker\": {\"colorbar\": {\"outlinewidth\": 0, \"ticks\": \"\"}}, \"type\": \"scattergeo\"}], \"scattergl\": [{\"marker\": {\"colorbar\": {\"outlinewidth\": 0, \"ticks\": \"\"}}, \"type\": \"scattergl\"}], \"scattermapbox\": [{\"marker\": {\"colorbar\": {\"outlinewidth\": 0, \"ticks\": \"\"}}, \"type\": \"scattermapbox\"}], \"scatterpolar\": [{\"marker\": {\"colorbar\": {\"outlinewidth\": 0, \"ticks\": \"\"}}, \"type\": \"scatterpolar\"}], \"scatterpolargl\": [{\"marker\": {\"colorbar\": {\"outlinewidth\": 0, \"ticks\": \"\"}}, \"type\": \"scatterpolargl\"}], \"scatterternary\": [{\"marker\": {\"colorbar\": {\"outlinewidth\": 0, \"ticks\": \"\"}}, \"type\": \"scatterternary\"}], \"surface\": [{\"colorbar\": {\"outlinewidth\": 0, \"ticks\": \"\"}, \"colorscale\": [[0.0, \"#0d0887\"], [0.1111111111111111, \"#46039f\"], [0.2222222222222222, \"#7201a8\"], [0.3333333333333333, \"#9c179e\"], [0.4444444444444444, \"#bd3786\"], [0.5555555555555556, \"#d8576b\"], [0.6666666666666666, \"#ed7953\"], [0.7777777777777778, \"#fb9f3a\"], [0.8888888888888888, \"#fdca26\"], [1.0, \"#f0f921\"]], \"type\": \"surface\"}], \"table\": [{\"cells\": {\"fill\": {\"color\": \"#EBF0F8\"}, \"line\": {\"color\": \"white\"}}, \"header\": {\"fill\": {\"color\": \"#C8D4E3\"}, \"line\": {\"color\": \"white\"}}, \"type\": \"table\"}]}, \"layout\": {\"annotationdefaults\": {\"arrowcolor\": \"#2a3f5f\", \"arrowhead\": 0, \"arrowwidth\": 1}, \"autotypenumbers\": \"strict\", \"coloraxis\": {\"colorbar\": {\"outlinewidth\": 0, \"ticks\": \"\"}}, \"colorscale\": {\"diverging\": [[0, \"#8e0152\"], [0.1, \"#c51b7d\"], [0.2, \"#de77ae\"], [0.3, \"#f1b6da\"], [0.4, \"#fde0ef\"], [0.5, \"#f7f7f7\"], [0.6, \"#e6f5d0\"], [0.7, \"#b8e186\"], [0.8, \"#7fbc41\"], [0.9, \"#4d9221\"], [1, \"#276419\"]], \"sequential\": [[0.0, \"#0d0887\"], [0.1111111111111111, \"#46039f\"], [0.2222222222222222, \"#7201a8\"], [0.3333333333333333, \"#9c179e\"], [0.4444444444444444, \"#bd3786\"], [0.5555555555555556, \"#d8576b\"], [0.6666666666666666, \"#ed7953\"], [0.7777777777777778, \"#fb9f3a\"], [0.8888888888888888, \"#fdca26\"], [1.0, \"#f0f921\"]], \"sequentialminus\": [[0.0, \"#0d0887\"], [0.1111111111111111, \"#46039f\"], [0.2222222222222222, \"#7201a8\"], [0.3333333333333333, \"#9c179e\"], [0.4444444444444444, \"#bd3786\"], [0.5555555555555556, \"#d8576b\"], [0.6666666666666666, \"#ed7953\"], [0.7777777777777778, \"#fb9f3a\"], [0.8888888888888888, \"#fdca26\"], [1.0, \"#f0f921\"]]}, \"colorway\": [\"#636efa\", \"#EF553B\", \"#00cc96\", \"#ab63fa\", \"#FFA15A\", \"#19d3f3\", \"#FF6692\", \"#B6E880\", \"#FF97FF\", \"#FECB52\"], \"font\": {\"color\": \"#2a3f5f\"}, \"geo\": {\"bgcolor\": \"white\", \"lakecolor\": \"white\", \"landcolor\": \"#E5ECF6\", \"showlakes\": true, \"showland\": true, \"subunitcolor\": \"white\"}, \"hoverlabel\": {\"align\": \"left\"}, \"hovermode\": \"closest\", \"mapbox\": {\"style\": \"light\"}, \"paper_bgcolor\": \"white\", \"plot_bgcolor\": \"#E5ECF6\", \"polar\": {\"angularaxis\": {\"gridcolor\": \"white\", \"linecolor\": \"white\", \"ticks\": \"\"}, \"bgcolor\": \"#E5ECF6\", \"radialaxis\": {\"gridcolor\": \"white\", \"linecolor\": \"white\", \"ticks\": \"\"}}, \"scene\": {\"xaxis\": {\"backgroundcolor\": \"#E5ECF6\", \"gridcolor\": \"white\", \"gridwidth\": 2, \"linecolor\": \"white\", \"showbackground\": true, \"ticks\": \"\", \"zerolinecolor\": \"white\"}, \"yaxis\": {\"backgroundcolor\": \"#E5ECF6\", \"gridcolor\": \"white\", \"gridwidth\": 2, \"linecolor\": \"white\", \"showbackground\": true, \"ticks\": \"\", \"zerolinecolor\": \"white\"}, \"zaxis\": {\"backgroundcolor\": \"#E5ECF6\", \"gridcolor\": \"white\", \"gridwidth\": 2, \"linecolor\": \"white\", \"showbackground\": true, \"ticks\": \"\", \"zerolinecolor\": \"white\"}}, \"shapedefaults\": {\"line\": {\"color\": \"#2a3f5f\"}}, \"ternary\": {\"aaxis\": {\"gridcolor\": \"white\", \"linecolor\": \"white\", \"ticks\": \"\"}, \"baxis\": {\"gridcolor\": \"white\", \"linecolor\": \"white\", \"ticks\": \"\"}, \"bgcolor\": \"#E5ECF6\", \"caxis\": {\"gridcolor\": \"white\", \"linecolor\": \"white\", \"ticks\": \"\"}}, \"title\": {\"x\": 0.05}, \"xaxis\": {\"automargin\": true, \"gridcolor\": \"white\", \"linecolor\": \"white\", \"ticks\": \"\", \"title\": {\"standoff\": 15}, \"zerolinecolor\": \"white\", \"zerolinewidth\": 2}, \"yaxis\": {\"automargin\": true, \"gridcolor\": \"white\", \"linecolor\": \"white\", \"ticks\": \"\", \"title\": {\"standoff\": 15}, \"zerolinecolor\": \"white\", \"zerolinewidth\": 2}}}, \"title\": {\"text\": \"Page views during the day for July and August 2019\"}, \"xaxis\": {\"anchor\": \"y\", \"domain\": [0.0, 1.0], \"title\": {\"text\": \"\"}}, \"yaxis\": {\"anchor\": \"x\", \"domain\": [0.0, 1.0], \"title\": {\"text\": \"Page Views\"}}},                        {\"responsive\": true}                    ).then(function(){\n",
       "                            \n",
       "var gd = document.getElementById('ce7cf337-a850-4875-aa31-48c907e0de23');\n",
=======
<<<<<<< HEAD
       "<div>                            <div id=\"1b588ecc-956f-468c-9287-f8f0916c04c2\" class=\"plotly-graph-div\" style=\"height:525px; width:100%;\"></div>            <script type=\"text/javascript\">                require([\"plotly\"], function(Plotly) {                    window.PLOTLYENV=window.PLOTLYENV || {};                                    if (document.getElementById(\"1b588ecc-956f-468c-9287-f8f0916c04c2\")) {                    Plotly.newPlot(                        \"1b588ecc-956f-468c-9287-f8f0916c04c2\",                        [{\"hovertemplate\": \"<b>%{hovertext}</b><br><br>Month=Aug<br>Day Part=%{x}<br>Page Views=%{y}<extra></extra>\", \"hovertext\": [\"Late Night\", \"Early Morning\", \"Morning\", \"Afternoon\", \"Late Afternoon\", \"Evening\", \"Night\"], \"legendgroup\": \"Aug\", \"line\": {\"color\": \"#636efa\", \"dash\": \"solid\"}, \"mode\": \"lines\", \"name\": \"Aug\", \"orientation\": \"v\", \"showlegend\": true, \"type\": \"scatter\", \"x\": [\"Late Night\", \"Early Morning\", \"Morning\", \"Afternoon\", \"Late Afternoon\", \"Evening\", \"Night\"], \"xaxis\": \"x\", \"y\": [0, 1610, 0, 15734, 10291, 15176, 8318], \"yaxis\": \"y\"}, {\"hovertemplate\": \"<b>%{hovertext}</b><br><br>Month=Jul<br>Day Part=%{x}<br>Page Views=%{y}<extra></extra>\", \"hovertext\": [\"Late Night\", \"Early Morning\", \"Morning\", \"Afternoon\", \"Late Afternoon\", \"Evening\", \"Night\"], \"legendgroup\": \"Jul\", \"line\": {\"color\": \"#EF553B\", \"dash\": \"solid\"}, \"mode\": \"lines\", \"name\": \"Jul\", \"orientation\": \"v\", \"showlegend\": true, \"type\": \"scatter\", \"x\": [\"Late Night\", \"Early Morning\", \"Morning\", \"Afternoon\", \"Late Afternoon\", \"Evening\", \"Night\"], \"xaxis\": \"x\", \"y\": [0, 1678, 0, 19904, 12730, 18728, 10449], \"yaxis\": \"y\"}, {\"mode\": \"markers\", \"name\": \"Marker\", \"type\": \"scatter\", \"x\": [\"Late Night\", \"Early Morning\", \"Morning\", \"Afternoon\", \"Late Afternoon\", \"Evening\", \"Night\", \"Late Night\", \"Early Morning\", \"Morning\", \"Afternoon\", \"Late Afternoon\", \"Evening\", \"Night\"], \"y\": [0, 1610, 0, 15734, 10291, 15176, 8318, 0, 1678, 0, 19904, 12730, 18728, 10449]}],                        {\"legend\": {\"title\": {\"text\": \"Month\"}, \"tracegroupgap\": 0}, \"margin\": {\"t\": 60}, \"template\": {\"data\": {\"bar\": [{\"error_x\": {\"color\": \"#2a3f5f\"}, \"error_y\": {\"color\": \"#2a3f5f\"}, \"marker\": {\"line\": {\"color\": \"#E5ECF6\", \"width\": 0.5}}, \"type\": \"bar\"}], \"barpolar\": [{\"marker\": {\"line\": {\"color\": \"#E5ECF6\", \"width\": 0.5}}, \"type\": \"barpolar\"}], \"carpet\": [{\"aaxis\": {\"endlinecolor\": \"#2a3f5f\", \"gridcolor\": \"white\", \"linecolor\": \"white\", \"minorgridcolor\": \"white\", \"startlinecolor\": \"#2a3f5f\"}, \"baxis\": {\"endlinecolor\": \"#2a3f5f\", \"gridcolor\": \"white\", \"linecolor\": \"white\", \"minorgridcolor\": \"white\", \"startlinecolor\": \"#2a3f5f\"}, \"type\": \"carpet\"}], \"choropleth\": [{\"colorbar\": {\"outlinewidth\": 0, \"ticks\": \"\"}, \"type\": \"choropleth\"}], \"contour\": [{\"colorbar\": {\"outlinewidth\": 0, \"ticks\": \"\"}, \"colorscale\": [[0.0, \"#0d0887\"], [0.1111111111111111, \"#46039f\"], [0.2222222222222222, \"#7201a8\"], [0.3333333333333333, \"#9c179e\"], [0.4444444444444444, \"#bd3786\"], [0.5555555555555556, \"#d8576b\"], [0.6666666666666666, \"#ed7953\"], [0.7777777777777778, \"#fb9f3a\"], [0.8888888888888888, \"#fdca26\"], [1.0, \"#f0f921\"]], \"type\": \"contour\"}], \"contourcarpet\": [{\"colorbar\": {\"outlinewidth\": 0, \"ticks\": \"\"}, \"type\": \"contourcarpet\"}], \"heatmap\": [{\"colorbar\": {\"outlinewidth\": 0, \"ticks\": \"\"}, \"colorscale\": [[0.0, \"#0d0887\"], [0.1111111111111111, \"#46039f\"], [0.2222222222222222, \"#7201a8\"], [0.3333333333333333, \"#9c179e\"], [0.4444444444444444, \"#bd3786\"], [0.5555555555555556, \"#d8576b\"], [0.6666666666666666, \"#ed7953\"], [0.7777777777777778, \"#fb9f3a\"], [0.8888888888888888, \"#fdca26\"], [1.0, \"#f0f921\"]], \"type\": \"heatmap\"}], \"heatmapgl\": [{\"colorbar\": {\"outlinewidth\": 0, \"ticks\": \"\"}, \"colorscale\": [[0.0, \"#0d0887\"], [0.1111111111111111, \"#46039f\"], [0.2222222222222222, \"#7201a8\"], [0.3333333333333333, \"#9c179e\"], [0.4444444444444444, \"#bd3786\"], [0.5555555555555556, \"#d8576b\"], [0.6666666666666666, \"#ed7953\"], [0.7777777777777778, \"#fb9f3a\"], [0.8888888888888888, \"#fdca26\"], [1.0, \"#f0f921\"]], \"type\": \"heatmapgl\"}], \"histogram\": [{\"marker\": {\"colorbar\": {\"outlinewidth\": 0, \"ticks\": \"\"}}, \"type\": \"histogram\"}], \"histogram2d\": [{\"colorbar\": {\"outlinewidth\": 0, \"ticks\": \"\"}, \"colorscale\": [[0.0, \"#0d0887\"], [0.1111111111111111, \"#46039f\"], [0.2222222222222222, \"#7201a8\"], [0.3333333333333333, \"#9c179e\"], [0.4444444444444444, \"#bd3786\"], [0.5555555555555556, \"#d8576b\"], [0.6666666666666666, \"#ed7953\"], [0.7777777777777778, \"#fb9f3a\"], [0.8888888888888888, \"#fdca26\"], [1.0, \"#f0f921\"]], \"type\": \"histogram2d\"}], \"histogram2dcontour\": [{\"colorbar\": {\"outlinewidth\": 0, \"ticks\": \"\"}, \"colorscale\": [[0.0, \"#0d0887\"], [0.1111111111111111, \"#46039f\"], [0.2222222222222222, \"#7201a8\"], [0.3333333333333333, \"#9c179e\"], [0.4444444444444444, \"#bd3786\"], [0.5555555555555556, \"#d8576b\"], [0.6666666666666666, \"#ed7953\"], [0.7777777777777778, \"#fb9f3a\"], [0.8888888888888888, \"#fdca26\"], [1.0, \"#f0f921\"]], \"type\": \"histogram2dcontour\"}], \"mesh3d\": [{\"colorbar\": {\"outlinewidth\": 0, \"ticks\": \"\"}, \"type\": \"mesh3d\"}], \"parcoords\": [{\"line\": {\"colorbar\": {\"outlinewidth\": 0, \"ticks\": \"\"}}, \"type\": \"parcoords\"}], \"pie\": [{\"automargin\": true, \"type\": \"pie\"}], \"scatter\": [{\"marker\": {\"colorbar\": {\"outlinewidth\": 0, \"ticks\": \"\"}}, \"type\": \"scatter\"}], \"scatter3d\": [{\"line\": {\"colorbar\": {\"outlinewidth\": 0, \"ticks\": \"\"}}, \"marker\": {\"colorbar\": {\"outlinewidth\": 0, \"ticks\": \"\"}}, \"type\": \"scatter3d\"}], \"scattercarpet\": [{\"marker\": {\"colorbar\": {\"outlinewidth\": 0, \"ticks\": \"\"}}, \"type\": \"scattercarpet\"}], \"scattergeo\": [{\"marker\": {\"colorbar\": {\"outlinewidth\": 0, \"ticks\": \"\"}}, \"type\": \"scattergeo\"}], \"scattergl\": [{\"marker\": {\"colorbar\": {\"outlinewidth\": 0, \"ticks\": \"\"}}, \"type\": \"scattergl\"}], \"scattermapbox\": [{\"marker\": {\"colorbar\": {\"outlinewidth\": 0, \"ticks\": \"\"}}, \"type\": \"scattermapbox\"}], \"scatterpolar\": [{\"marker\": {\"colorbar\": {\"outlinewidth\": 0, \"ticks\": \"\"}}, \"type\": \"scatterpolar\"}], \"scatterpolargl\": [{\"marker\": {\"colorbar\": {\"outlinewidth\": 0, \"ticks\": \"\"}}, \"type\": \"scatterpolargl\"}], \"scatterternary\": [{\"marker\": {\"colorbar\": {\"outlinewidth\": 0, \"ticks\": \"\"}}, \"type\": \"scatterternary\"}], \"surface\": [{\"colorbar\": {\"outlinewidth\": 0, \"ticks\": \"\"}, \"colorscale\": [[0.0, \"#0d0887\"], [0.1111111111111111, \"#46039f\"], [0.2222222222222222, \"#7201a8\"], [0.3333333333333333, \"#9c179e\"], [0.4444444444444444, \"#bd3786\"], [0.5555555555555556, \"#d8576b\"], [0.6666666666666666, \"#ed7953\"], [0.7777777777777778, \"#fb9f3a\"], [0.8888888888888888, \"#fdca26\"], [1.0, \"#f0f921\"]], \"type\": \"surface\"}], \"table\": [{\"cells\": {\"fill\": {\"color\": \"#EBF0F8\"}, \"line\": {\"color\": \"white\"}}, \"header\": {\"fill\": {\"color\": \"#C8D4E3\"}, \"line\": {\"color\": \"white\"}}, \"type\": \"table\"}]}, \"layout\": {\"annotationdefaults\": {\"arrowcolor\": \"#2a3f5f\", \"arrowhead\": 0, \"arrowwidth\": 1}, \"autotypenumbers\": \"strict\", \"coloraxis\": {\"colorbar\": {\"outlinewidth\": 0, \"ticks\": \"\"}}, \"colorscale\": {\"diverging\": [[0, \"#8e0152\"], [0.1, \"#c51b7d\"], [0.2, \"#de77ae\"], [0.3, \"#f1b6da\"], [0.4, \"#fde0ef\"], [0.5, \"#f7f7f7\"], [0.6, \"#e6f5d0\"], [0.7, \"#b8e186\"], [0.8, \"#7fbc41\"], [0.9, \"#4d9221\"], [1, \"#276419\"]], \"sequential\": [[0.0, \"#0d0887\"], [0.1111111111111111, \"#46039f\"], [0.2222222222222222, \"#7201a8\"], [0.3333333333333333, \"#9c179e\"], [0.4444444444444444, \"#bd3786\"], [0.5555555555555556, \"#d8576b\"], [0.6666666666666666, \"#ed7953\"], [0.7777777777777778, \"#fb9f3a\"], [0.8888888888888888, \"#fdca26\"], [1.0, \"#f0f921\"]], \"sequentialminus\": [[0.0, \"#0d0887\"], [0.1111111111111111, \"#46039f\"], [0.2222222222222222, \"#7201a8\"], [0.3333333333333333, \"#9c179e\"], [0.4444444444444444, \"#bd3786\"], [0.5555555555555556, \"#d8576b\"], [0.6666666666666666, \"#ed7953\"], [0.7777777777777778, \"#fb9f3a\"], [0.8888888888888888, \"#fdca26\"], [1.0, \"#f0f921\"]]}, \"colorway\": [\"#636efa\", \"#EF553B\", \"#00cc96\", \"#ab63fa\", \"#FFA15A\", \"#19d3f3\", \"#FF6692\", \"#B6E880\", \"#FF97FF\", \"#FECB52\"], \"font\": {\"color\": \"#2a3f5f\"}, \"geo\": {\"bgcolor\": \"white\", \"lakecolor\": \"white\", \"landcolor\": \"#E5ECF6\", \"showlakes\": true, \"showland\": true, \"subunitcolor\": \"white\"}, \"hoverlabel\": {\"align\": \"left\"}, \"hovermode\": \"closest\", \"mapbox\": {\"style\": \"light\"}, \"paper_bgcolor\": \"white\", \"plot_bgcolor\": \"#E5ECF6\", \"polar\": {\"angularaxis\": {\"gridcolor\": \"white\", \"linecolor\": \"white\", \"ticks\": \"\"}, \"bgcolor\": \"#E5ECF6\", \"radialaxis\": {\"gridcolor\": \"white\", \"linecolor\": \"white\", \"ticks\": \"\"}}, \"scene\": {\"xaxis\": {\"backgroundcolor\": \"#E5ECF6\", \"gridcolor\": \"white\", \"gridwidth\": 2, \"linecolor\": \"white\", \"showbackground\": true, \"ticks\": \"\", \"zerolinecolor\": \"white\"}, \"yaxis\": {\"backgroundcolor\": \"#E5ECF6\", \"gridcolor\": \"white\", \"gridwidth\": 2, \"linecolor\": \"white\", \"showbackground\": true, \"ticks\": \"\", \"zerolinecolor\": \"white\"}, \"zaxis\": {\"backgroundcolor\": \"#E5ECF6\", \"gridcolor\": \"white\", \"gridwidth\": 2, \"linecolor\": \"white\", \"showbackground\": true, \"ticks\": \"\", \"zerolinecolor\": \"white\"}}, \"shapedefaults\": {\"line\": {\"color\": \"#2a3f5f\"}}, \"ternary\": {\"aaxis\": {\"gridcolor\": \"white\", \"linecolor\": \"white\", \"ticks\": \"\"}, \"baxis\": {\"gridcolor\": \"white\", \"linecolor\": \"white\", \"ticks\": \"\"}, \"bgcolor\": \"#E5ECF6\", \"caxis\": {\"gridcolor\": \"white\", \"linecolor\": \"white\", \"ticks\": \"\"}}, \"title\": {\"x\": 0.05}, \"xaxis\": {\"automargin\": true, \"gridcolor\": \"white\", \"linecolor\": \"white\", \"ticks\": \"\", \"title\": {\"standoff\": 15}, \"zerolinecolor\": \"white\", \"zerolinewidth\": 2}, \"yaxis\": {\"automargin\": true, \"gridcolor\": \"white\", \"linecolor\": \"white\", \"ticks\": \"\", \"title\": {\"standoff\": 15}, \"zerolinecolor\": \"white\", \"zerolinewidth\": 2}}}, \"title\": {\"text\": \"Page views during the day for July and August 2019\"}, \"xaxis\": {\"anchor\": \"y\", \"domain\": [0.0, 1.0], \"title\": {\"text\": \"\"}}, \"yaxis\": {\"anchor\": \"x\", \"domain\": [0.0, 1.0], \"title\": {\"text\": \"Page Views\"}}},                        {\"responsive\": true}                    ).then(function(){\n",
       "                            \n",
       "var gd = document.getElementById('1b588ecc-956f-468c-9287-f8f0916c04c2');\n",
=======
       "<div>                            <div id=\"39586d32-5987-4477-b3c6-b483bcc58c32\" class=\"plotly-graph-div\" style=\"height:525px; width:100%;\"></div>            <script type=\"text/javascript\">                require([\"plotly\"], function(Plotly) {                    window.PLOTLYENV=window.PLOTLYENV || {};                                    if (document.getElementById(\"39586d32-5987-4477-b3c6-b483bcc58c32\")) {                    Plotly.newPlot(                        \"39586d32-5987-4477-b3c6-b483bcc58c32\",                        [{\"hovertemplate\": \"<b>%{hovertext}</b><br><br>Month=Aug<br>Day Part=%{x}<br>Page Views=%{y}<extra></extra>\", \"hovertext\": [\"Late Night\", \"Early Morning\", \"Morning\", \"Afternoon\", \"Late Afternoon\", \"Evening\", \"Night\"], \"legendgroup\": \"Aug\", \"line\": {\"color\": \"#636efa\", \"dash\": \"solid\"}, \"mode\": \"lines\", \"name\": \"Aug\", \"orientation\": \"v\", \"showlegend\": true, \"type\": \"scatter\", \"x\": [\"Late Night\", \"Early Morning\", \"Morning\", \"Afternoon\", \"Late Afternoon\", \"Evening\", \"Night\"], \"xaxis\": \"x\", \"y\": [0, 1610, 0, 15734, 10291, 15176, 8318], \"yaxis\": \"y\"}, {\"hovertemplate\": \"<b>%{hovertext}</b><br><br>Month=Jul<br>Day Part=%{x}<br>Page Views=%{y}<extra></extra>\", \"hovertext\": [\"Late Night\", \"Early Morning\", \"Morning\", \"Afternoon\", \"Late Afternoon\", \"Evening\", \"Night\"], \"legendgroup\": \"Jul\", \"line\": {\"color\": \"#EF553B\", \"dash\": \"solid\"}, \"mode\": \"lines\", \"name\": \"Jul\", \"orientation\": \"v\", \"showlegend\": true, \"type\": \"scatter\", \"x\": [\"Late Night\", \"Early Morning\", \"Morning\", \"Afternoon\", \"Late Afternoon\", \"Evening\", \"Night\"], \"xaxis\": \"x\", \"y\": [0, 1678, 0, 19904, 12730, 18728, 10449], \"yaxis\": \"y\"}, {\"mode\": \"markers\", \"name\": \"Marker\", \"type\": \"scatter\", \"x\": [\"Late Night\", \"Early Morning\", \"Morning\", \"Afternoon\", \"Late Afternoon\", \"Evening\", \"Night\", \"Late Night\", \"Early Morning\", \"Morning\", \"Afternoon\", \"Late Afternoon\", \"Evening\", \"Night\"], \"y\": [0, 1610, 0, 15734, 10291, 15176, 8318, 0, 1678, 0, 19904, 12730, 18728, 10449]}],                        {\"legend\": {\"title\": {\"text\": \"Month\"}, \"tracegroupgap\": 0}, \"margin\": {\"t\": 60}, \"template\": {\"data\": {\"bar\": [{\"error_x\": {\"color\": \"#2a3f5f\"}, \"error_y\": {\"color\": \"#2a3f5f\"}, \"marker\": {\"line\": {\"color\": \"#E5ECF6\", \"width\": 0.5}}, \"type\": \"bar\"}], \"barpolar\": [{\"marker\": {\"line\": {\"color\": \"#E5ECF6\", \"width\": 0.5}}, \"type\": \"barpolar\"}], \"carpet\": [{\"aaxis\": {\"endlinecolor\": \"#2a3f5f\", \"gridcolor\": \"white\", \"linecolor\": \"white\", \"minorgridcolor\": \"white\", \"startlinecolor\": \"#2a3f5f\"}, \"baxis\": {\"endlinecolor\": \"#2a3f5f\", \"gridcolor\": \"white\", \"linecolor\": \"white\", \"minorgridcolor\": \"white\", \"startlinecolor\": \"#2a3f5f\"}, \"type\": \"carpet\"}], \"choropleth\": [{\"colorbar\": {\"outlinewidth\": 0, \"ticks\": \"\"}, \"type\": \"choropleth\"}], \"contour\": [{\"colorbar\": {\"outlinewidth\": 0, \"ticks\": \"\"}, \"colorscale\": [[0.0, \"#0d0887\"], [0.1111111111111111, \"#46039f\"], [0.2222222222222222, \"#7201a8\"], [0.3333333333333333, \"#9c179e\"], [0.4444444444444444, \"#bd3786\"], [0.5555555555555556, \"#d8576b\"], [0.6666666666666666, \"#ed7953\"], [0.7777777777777778, \"#fb9f3a\"], [0.8888888888888888, \"#fdca26\"], [1.0, \"#f0f921\"]], \"type\": \"contour\"}], \"contourcarpet\": [{\"colorbar\": {\"outlinewidth\": 0, \"ticks\": \"\"}, \"type\": \"contourcarpet\"}], \"heatmap\": [{\"colorbar\": {\"outlinewidth\": 0, \"ticks\": \"\"}, \"colorscale\": [[0.0, \"#0d0887\"], [0.1111111111111111, \"#46039f\"], [0.2222222222222222, \"#7201a8\"], [0.3333333333333333, \"#9c179e\"], [0.4444444444444444, \"#bd3786\"], [0.5555555555555556, \"#d8576b\"], [0.6666666666666666, \"#ed7953\"], [0.7777777777777778, \"#fb9f3a\"], [0.8888888888888888, \"#fdca26\"], [1.0, \"#f0f921\"]], \"type\": \"heatmap\"}], \"heatmapgl\": [{\"colorbar\": {\"outlinewidth\": 0, \"ticks\": \"\"}, \"colorscale\": [[0.0, \"#0d0887\"], [0.1111111111111111, \"#46039f\"], [0.2222222222222222, \"#7201a8\"], [0.3333333333333333, \"#9c179e\"], [0.4444444444444444, \"#bd3786\"], [0.5555555555555556, \"#d8576b\"], [0.6666666666666666, \"#ed7953\"], [0.7777777777777778, \"#fb9f3a\"], [0.8888888888888888, \"#fdca26\"], [1.0, \"#f0f921\"]], \"type\": \"heatmapgl\"}], \"histogram\": [{\"marker\": {\"colorbar\": {\"outlinewidth\": 0, \"ticks\": \"\"}}, \"type\": \"histogram\"}], \"histogram2d\": [{\"colorbar\": {\"outlinewidth\": 0, \"ticks\": \"\"}, \"colorscale\": [[0.0, \"#0d0887\"], [0.1111111111111111, \"#46039f\"], [0.2222222222222222, \"#7201a8\"], [0.3333333333333333, \"#9c179e\"], [0.4444444444444444, \"#bd3786\"], [0.5555555555555556, \"#d8576b\"], [0.6666666666666666, \"#ed7953\"], [0.7777777777777778, \"#fb9f3a\"], [0.8888888888888888, \"#fdca26\"], [1.0, \"#f0f921\"]], \"type\": \"histogram2d\"}], \"histogram2dcontour\": [{\"colorbar\": {\"outlinewidth\": 0, \"ticks\": \"\"}, \"colorscale\": [[0.0, \"#0d0887\"], [0.1111111111111111, \"#46039f\"], [0.2222222222222222, \"#7201a8\"], [0.3333333333333333, \"#9c179e\"], [0.4444444444444444, \"#bd3786\"], [0.5555555555555556, \"#d8576b\"], [0.6666666666666666, \"#ed7953\"], [0.7777777777777778, \"#fb9f3a\"], [0.8888888888888888, \"#fdca26\"], [1.0, \"#f0f921\"]], \"type\": \"histogram2dcontour\"}], \"mesh3d\": [{\"colorbar\": {\"outlinewidth\": 0, \"ticks\": \"\"}, \"type\": \"mesh3d\"}], \"parcoords\": [{\"line\": {\"colorbar\": {\"outlinewidth\": 0, \"ticks\": \"\"}}, \"type\": \"parcoords\"}], \"pie\": [{\"automargin\": true, \"type\": \"pie\"}], \"scatter\": [{\"marker\": {\"colorbar\": {\"outlinewidth\": 0, \"ticks\": \"\"}}, \"type\": \"scatter\"}], \"scatter3d\": [{\"line\": {\"colorbar\": {\"outlinewidth\": 0, \"ticks\": \"\"}}, \"marker\": {\"colorbar\": {\"outlinewidth\": 0, \"ticks\": \"\"}}, \"type\": \"scatter3d\"}], \"scattercarpet\": [{\"marker\": {\"colorbar\": {\"outlinewidth\": 0, \"ticks\": \"\"}}, \"type\": \"scattercarpet\"}], \"scattergeo\": [{\"marker\": {\"colorbar\": {\"outlinewidth\": 0, \"ticks\": \"\"}}, \"type\": \"scattergeo\"}], \"scattergl\": [{\"marker\": {\"colorbar\": {\"outlinewidth\": 0, \"ticks\": \"\"}}, \"type\": \"scattergl\"}], \"scattermapbox\": [{\"marker\": {\"colorbar\": {\"outlinewidth\": 0, \"ticks\": \"\"}}, \"type\": \"scattermapbox\"}], \"scatterpolar\": [{\"marker\": {\"colorbar\": {\"outlinewidth\": 0, \"ticks\": \"\"}}, \"type\": \"scatterpolar\"}], \"scatterpolargl\": [{\"marker\": {\"colorbar\": {\"outlinewidth\": 0, \"ticks\": \"\"}}, \"type\": \"scatterpolargl\"}], \"scatterternary\": [{\"marker\": {\"colorbar\": {\"outlinewidth\": 0, \"ticks\": \"\"}}, \"type\": \"scatterternary\"}], \"surface\": [{\"colorbar\": {\"outlinewidth\": 0, \"ticks\": \"\"}, \"colorscale\": [[0.0, \"#0d0887\"], [0.1111111111111111, \"#46039f\"], [0.2222222222222222, \"#7201a8\"], [0.3333333333333333, \"#9c179e\"], [0.4444444444444444, \"#bd3786\"], [0.5555555555555556, \"#d8576b\"], [0.6666666666666666, \"#ed7953\"], [0.7777777777777778, \"#fb9f3a\"], [0.8888888888888888, \"#fdca26\"], [1.0, \"#f0f921\"]], \"type\": \"surface\"}], \"table\": [{\"cells\": {\"fill\": {\"color\": \"#EBF0F8\"}, \"line\": {\"color\": \"white\"}}, \"header\": {\"fill\": {\"color\": \"#C8D4E3\"}, \"line\": {\"color\": \"white\"}}, \"type\": \"table\"}]}, \"layout\": {\"annotationdefaults\": {\"arrowcolor\": \"#2a3f5f\", \"arrowhead\": 0, \"arrowwidth\": 1}, \"autotypenumbers\": \"strict\", \"coloraxis\": {\"colorbar\": {\"outlinewidth\": 0, \"ticks\": \"\"}}, \"colorscale\": {\"diverging\": [[0, \"#8e0152\"], [0.1, \"#c51b7d\"], [0.2, \"#de77ae\"], [0.3, \"#f1b6da\"], [0.4, \"#fde0ef\"], [0.5, \"#f7f7f7\"], [0.6, \"#e6f5d0\"], [0.7, \"#b8e186\"], [0.8, \"#7fbc41\"], [0.9, \"#4d9221\"], [1, \"#276419\"]], \"sequential\": [[0.0, \"#0d0887\"], [0.1111111111111111, \"#46039f\"], [0.2222222222222222, \"#7201a8\"], [0.3333333333333333, \"#9c179e\"], [0.4444444444444444, \"#bd3786\"], [0.5555555555555556, \"#d8576b\"], [0.6666666666666666, \"#ed7953\"], [0.7777777777777778, \"#fb9f3a\"], [0.8888888888888888, \"#fdca26\"], [1.0, \"#f0f921\"]], \"sequentialminus\": [[0.0, \"#0d0887\"], [0.1111111111111111, \"#46039f\"], [0.2222222222222222, \"#7201a8\"], [0.3333333333333333, \"#9c179e\"], [0.4444444444444444, \"#bd3786\"], [0.5555555555555556, \"#d8576b\"], [0.6666666666666666, \"#ed7953\"], [0.7777777777777778, \"#fb9f3a\"], [0.8888888888888888, \"#fdca26\"], [1.0, \"#f0f921\"]]}, \"colorway\": [\"#636efa\", \"#EF553B\", \"#00cc96\", \"#ab63fa\", \"#FFA15A\", \"#19d3f3\", \"#FF6692\", \"#B6E880\", \"#FF97FF\", \"#FECB52\"], \"font\": {\"color\": \"#2a3f5f\"}, \"geo\": {\"bgcolor\": \"white\", \"lakecolor\": \"white\", \"landcolor\": \"#E5ECF6\", \"showlakes\": true, \"showland\": true, \"subunitcolor\": \"white\"}, \"hoverlabel\": {\"align\": \"left\"}, \"hovermode\": \"closest\", \"mapbox\": {\"style\": \"light\"}, \"paper_bgcolor\": \"white\", \"plot_bgcolor\": \"#E5ECF6\", \"polar\": {\"angularaxis\": {\"gridcolor\": \"white\", \"linecolor\": \"white\", \"ticks\": \"\"}, \"bgcolor\": \"#E5ECF6\", \"radialaxis\": {\"gridcolor\": \"white\", \"linecolor\": \"white\", \"ticks\": \"\"}}, \"scene\": {\"xaxis\": {\"backgroundcolor\": \"#E5ECF6\", \"gridcolor\": \"white\", \"gridwidth\": 2, \"linecolor\": \"white\", \"showbackground\": true, \"ticks\": \"\", \"zerolinecolor\": \"white\"}, \"yaxis\": {\"backgroundcolor\": \"#E5ECF6\", \"gridcolor\": \"white\", \"gridwidth\": 2, \"linecolor\": \"white\", \"showbackground\": true, \"ticks\": \"\", \"zerolinecolor\": \"white\"}, \"zaxis\": {\"backgroundcolor\": \"#E5ECF6\", \"gridcolor\": \"white\", \"gridwidth\": 2, \"linecolor\": \"white\", \"showbackground\": true, \"ticks\": \"\", \"zerolinecolor\": \"white\"}}, \"shapedefaults\": {\"line\": {\"color\": \"#2a3f5f\"}}, \"ternary\": {\"aaxis\": {\"gridcolor\": \"white\", \"linecolor\": \"white\", \"ticks\": \"\"}, \"baxis\": {\"gridcolor\": \"white\", \"linecolor\": \"white\", \"ticks\": \"\"}, \"bgcolor\": \"#E5ECF6\", \"caxis\": {\"gridcolor\": \"white\", \"linecolor\": \"white\", \"ticks\": \"\"}}, \"title\": {\"x\": 0.05}, \"xaxis\": {\"automargin\": true, \"gridcolor\": \"white\", \"linecolor\": \"white\", \"ticks\": \"\", \"title\": {\"standoff\": 15}, \"zerolinecolor\": \"white\", \"zerolinewidth\": 2}, \"yaxis\": {\"automargin\": true, \"gridcolor\": \"white\", \"linecolor\": \"white\", \"ticks\": \"\", \"title\": {\"standoff\": 15}, \"zerolinecolor\": \"white\", \"zerolinewidth\": 2}}}, \"title\": {\"text\": \"Page views during the day for July and August 2019\"}, \"xaxis\": {\"anchor\": \"y\", \"domain\": [0.0, 1.0], \"title\": {\"text\": \"\"}}, \"yaxis\": {\"anchor\": \"x\", \"domain\": [0.0, 1.0], \"title\": {\"text\": \"Page Views\"}}},                        {\"responsive\": true}                    ).then(function(){\n",
       "                            \n",
       "var gd = document.getElementById('39586d32-5987-4477-b3c6-b483bcc58c32');\n",
>>>>>>> main
>>>>>>> main
       "var x = new MutationObserver(function (mutations, observer) {{\n",
       "        var display = window.getComputedStyle(gd).display;\n",
       "        if (!display || display === 'none') {{\n",
       "            console.log([gd, 'removed!']);\n",
       "            Plotly.purge(gd);\n",
       "            observer.disconnect();\n",
       "        }}\n",
       "}});\n",
       "\n",
       "// Listen for the removal of the full notebook cells\n",
       "var notebookContainer = gd.closest('#notebook-container');\n",
       "if (notebookContainer) {{\n",
       "    x.observe(notebookContainer, {childList: true});\n",
       "}}\n",
       "\n",
       "// Listen for the clearing of the current output cell\n",
       "var outputEl = gd.closest('.output');\n",
       "if (outputEl) {{\n",
       "    x.observe(outputEl, {childList: true});\n",
       "}}\n",
       "\n",
       "                        })                };                });            </script>        </div>"
      ]
     },
     "metadata": {},
     "output_type": "display_data"
    }
   ],
   "source": [
    "fig = px.line(df_dp_agg, x='Day Part', y='Page Views', color = \"Month\", hover_name=\"Day Part\")\n",
    "fig.update_layout(title='Page views during the day for July and August 2019', xaxis_title='',yaxis_title=\"Page Views\")\n",
    "fig.add_trace(go.Scatter(x=df_dp_agg['Day Part'], y=df_dp_agg['Page Views'],\n",
    "                    mode='markers',name='Marker'))\n",
    "fig.show()"
   ]
  },
  {
   "cell_type": "markdown",
   "id": "tender-headquarters",
   "metadata": {},
   "source": [
    "### Read data files - data Jul 07 - Jul 20 - Part1.xlsx"
   ]
  },
  {
   "cell_type": "code",
<<<<<<< HEAD
   "execution_count": 147,
   "id": "guilty-entrepreneur",
   "metadata": {},
   "outputs": [],
   "source": [
    "df_july_p1 = pd.read_excel('/home/shiva/Documents/UTS/02_Courses/DVN/DVN/AT2 Part1/Data/data Jul 07 - Jul 20 - Part1.xlsx')\n",
    "\n",
    "\n",
    "del df_july_p1['Unnamed: 7']"
   ]
  },
  {
   "cell_type": "code",
   "execution_count": 148,
   "id": "moral-receiver",
=======
<<<<<<< HEAD
   "execution_count": 57,
   "id": "guilty-entrepreneur",
>>>>>>> main
   "metadata": {},
   "outputs": [
    {
     "data": {
      "text/html": [
       "<div>\n",
       "<style scoped>\n",
       "    .dataframe tbody tr th:only-of-type {\n",
       "        vertical-align: middle;\n",
       "    }\n",
       "\n",
       "    .dataframe tbody tr th {\n",
       "        vertical-align: top;\n",
       "    }\n",
       "\n",
       "    .dataframe thead th {\n",
       "        text-align: right;\n",
       "    }\n",
       "</style>\n",
       "<table border=\"1\" class=\"dataframe\">\n",
       "  <thead>\n",
       "    <tr style=\"text-align: right;\">\n",
       "      <th></th>\n",
       "      <th>Date</th>\n",
       "      <th>Network</th>\n",
       "      <th>Channel</th>\n",
       "      <th>Contribution</th>\n",
       "      <th>Impression</th>\n",
       "      <th>Site Visits</th>\n",
       "      <th>Spend</th>\n",
       "    </tr>\n",
       "  </thead>\n",
       "  <tbody>\n",
       "    <tr>\n",
       "      <th>0</th>\n",
       "      <td>2019-07-07</td>\n",
       "      <td>NetA</td>\n",
       "      <td>ChannelA1</td>\n",
       "      <td>0.0</td>\n",
       "      <td>0</td>\n",
       "      <td>0.246914</td>\n",
       "      <td>0</td>\n",
       "    </tr>\n",
       "    <tr>\n",
       "      <th>1</th>\n",
       "      <td>2019-07-07</td>\n",
       "      <td>NetA</td>\n",
       "      <td>ChannelA1</td>\n",
       "      <td>0.0</td>\n",
       "      <td>0</td>\n",
       "      <td>0.259259</td>\n",
       "      <td>0</td>\n",
       "    </tr>\n",
       "    <tr>\n",
       "      <th>2</th>\n",
       "      <td>2019-07-07</td>\n",
       "      <td>NetA</td>\n",
       "      <td>ChannelA1</td>\n",
       "      <td>0.0</td>\n",
       "      <td>0</td>\n",
       "      <td>0.111111</td>\n",
       "      <td>0</td>\n",
       "    </tr>\n",
       "    <tr>\n",
       "      <th>3</th>\n",
       "      <td>2019-07-07</td>\n",
       "      <td>NetA</td>\n",
       "      <td>ChannelA1</td>\n",
       "      <td>0.0</td>\n",
       "      <td>0</td>\n",
       "      <td>0.074074</td>\n",
       "      <td>0</td>\n",
       "    </tr>\n",
       "    <tr>\n",
       "      <th>4</th>\n",
       "      <td>2019-07-07</td>\n",
       "      <td>NetA</td>\n",
       "      <td>ChannelA1</td>\n",
       "      <td>0.0</td>\n",
       "      <td>0</td>\n",
       "      <td>0.098765</td>\n",
       "      <td>0</td>\n",
       "    </tr>\n",
       "    <tr>\n",
       "      <th>...</th>\n",
       "      <td>...</td>\n",
       "      <td>...</td>\n",
       "      <td>...</td>\n",
       "      <td>...</td>\n",
       "      <td>...</td>\n",
       "      <td>...</td>\n",
       "      <td>...</td>\n",
       "    </tr>\n",
       "    <tr>\n",
       "      <th>136075</th>\n",
       "      <td>2019-07-20</td>\n",
       "      <td>NetB</td>\n",
       "      <td>ChannelB3</td>\n",
       "      <td>0.0</td>\n",
       "      <td>0</td>\n",
       "      <td>2.049383</td>\n",
       "      <td>0</td>\n",
       "    </tr>\n",
       "    <tr>\n",
       "      <th>136076</th>\n",
       "      <td>2019-07-20</td>\n",
       "      <td>NetB</td>\n",
       "      <td>ChannelB3</td>\n",
       "      <td>0.0</td>\n",
       "      <td>0</td>\n",
       "      <td>2.037037</td>\n",
       "      <td>0</td>\n",
       "    </tr>\n",
       "    <tr>\n",
       "      <th>136077</th>\n",
       "      <td>2019-07-20</td>\n",
       "      <td>NetB</td>\n",
       "      <td>ChannelB3</td>\n",
       "      <td>0.0</td>\n",
       "      <td>0</td>\n",
       "      <td>1.925926</td>\n",
       "      <td>0</td>\n",
       "    </tr>\n",
       "    <tr>\n",
       "      <th>136078</th>\n",
       "      <td>2019-07-20</td>\n",
       "      <td>NetB</td>\n",
       "      <td>ChannelB3</td>\n",
       "      <td>0.0</td>\n",
       "      <td>0</td>\n",
       "      <td>1.888889</td>\n",
       "      <td>0</td>\n",
       "    </tr>\n",
       "    <tr>\n",
       "      <th>136079</th>\n",
       "      <td>2019-07-20</td>\n",
       "      <td>NetB</td>\n",
       "      <td>ChannelB3</td>\n",
       "      <td>0.0</td>\n",
       "      <td>0</td>\n",
       "      <td>1.074074</td>\n",
       "      <td>0</td>\n",
       "    </tr>\n",
       "  </tbody>\n",
       "</table>\n",
       "<p>136080 rows × 7 columns</p>\n",
       "</div>"
      ],
      "text/plain": [
       "             Date Network    Channel  Contribution  Impression  Site Visits  \\\n",
       "0      2019-07-07    NetA  ChannelA1           0.0           0     0.246914   \n",
       "1      2019-07-07    NetA  ChannelA1           0.0           0     0.259259   \n",
       "2      2019-07-07    NetA  ChannelA1           0.0           0     0.111111   \n",
       "3      2019-07-07    NetA  ChannelA1           0.0           0     0.074074   \n",
       "4      2019-07-07    NetA  ChannelA1           0.0           0     0.098765   \n",
       "...           ...     ...        ...           ...         ...          ...   \n",
       "136075 2019-07-20    NetB  ChannelB3           0.0           0     2.049383   \n",
       "136076 2019-07-20    NetB  ChannelB3           0.0           0     2.037037   \n",
       "136077 2019-07-20    NetB  ChannelB3           0.0           0     1.925926   \n",
       "136078 2019-07-20    NetB  ChannelB3           0.0           0     1.888889   \n",
       "136079 2019-07-20    NetB  ChannelB3           0.0           0     1.074074   \n",
       "\n",
       "        Spend  \n",
       "0           0  \n",
       "1           0  \n",
       "2           0  \n",
       "3           0  \n",
       "4           0  \n",
       "...       ...  \n",
       "136075      0  \n",
       "136076      0  \n",
       "136077      0  \n",
       "136078      0  \n",
       "136079      0  \n",
       "\n",
       "[136080 rows x 7 columns]"
      ]
     },
     "execution_count": 148,
     "metadata": {},
     "output_type": "execute_result"
    }
   ],
   "source": [
    "df_july_p1"
   ]
  },
  {
   "cell_type": "code",
   "execution_count": 149,
   "id": "guilty-dressing",
   "metadata": {},
   "outputs": [],
   "source": [
    "### Read data files - data Jul 07 - Jul 20 - Part2.xlsx"
   ]
  },
  {
   "cell_type": "code",
   "execution_count": 150,
   "id": "worth-greece",
   "metadata": {},
   "outputs": [
    {
     "data": {
      "text/html": [
       "<div>\n",
       "<style scoped>\n",
       "    .dataframe tbody tr th:only-of-type {\n",
       "        vertical-align: middle;\n",
       "    }\n",
       "\n",
       "    .dataframe tbody tr th {\n",
       "        vertical-align: top;\n",
       "    }\n",
       "\n",
       "    .dataframe thead th {\n",
       "        text-align: right;\n",
       "    }\n",
       "</style>\n",
       "<table border=\"1\" class=\"dataframe\">\n",
       "  <thead>\n",
       "    <tr style=\"text-align: right;\">\n",
       "      <th></th>\n",
       "      <th>Hour</th>\n",
       "      <th>Weekday</th>\n",
       "      <th>Month</th>\n",
       "      <th>Market</th>\n",
       "      <th>Creative</th>\n",
       "      <th>Country</th>\n",
       "      <th>Product</th>\n",
       "    </tr>\n",
       "  </thead>\n",
       "  <tbody>\n",
       "    <tr>\n",
       "      <th>0</th>\n",
       "      <td>0</td>\n",
       "      <td>Sun</td>\n",
       "      <td>Jul</td>\n",
       "      <td>ADE</td>\n",
       "      <td>Creative1</td>\n",
       "      <td>AU</td>\n",
       "      <td>Product1</td>\n",
       "    </tr>\n",
       "    <tr>\n",
       "      <th>1</th>\n",
       "      <td>1</td>\n",
       "      <td>Sun</td>\n",
       "      <td>Jul</td>\n",
       "      <td>ADE</td>\n",
       "      <td>Creative1</td>\n",
       "      <td>AU</td>\n",
       "      <td>Product1</td>\n",
       "    </tr>\n",
       "    <tr>\n",
       "      <th>2</th>\n",
       "      <td>2</td>\n",
       "      <td>Sun</td>\n",
       "      <td>Jul</td>\n",
       "      <td>ADE</td>\n",
       "      <td>Creative1</td>\n",
       "      <td>AU</td>\n",
       "      <td>Product1</td>\n",
       "    </tr>\n",
       "    <tr>\n",
       "      <th>3</th>\n",
       "      <td>3</td>\n",
       "      <td>Sun</td>\n",
       "      <td>Jul</td>\n",
       "      <td>ADE</td>\n",
       "      <td>Creative1</td>\n",
       "      <td>AU</td>\n",
       "      <td>Product1</td>\n",
       "    </tr>\n",
       "    <tr>\n",
       "      <th>4</th>\n",
       "      <td>4</td>\n",
       "      <td>Sun</td>\n",
       "      <td>Jul</td>\n",
       "      <td>ADE</td>\n",
       "      <td>Creative1</td>\n",
       "      <td>AU</td>\n",
       "      <td>Product1</td>\n",
       "    </tr>\n",
       "    <tr>\n",
       "      <th>...</th>\n",
       "      <td>...</td>\n",
       "      <td>...</td>\n",
       "      <td>...</td>\n",
       "      <td>...</td>\n",
       "      <td>...</td>\n",
       "      <td>...</td>\n",
       "      <td>...</td>\n",
       "    </tr>\n",
       "    <tr>\n",
       "      <th>136075</th>\n",
       "      <td>19</td>\n",
       "      <td>Sat</td>\n",
       "      <td>Jul</td>\n",
       "      <td>SYD</td>\n",
       "      <td>Creative3</td>\n",
       "      <td>AU</td>\n",
       "      <td>Product5</td>\n",
       "    </tr>\n",
       "    <tr>\n",
       "      <th>136076</th>\n",
       "      <td>20</td>\n",
       "      <td>Sat</td>\n",
       "      <td>Jul</td>\n",
       "      <td>SYD</td>\n",
       "      <td>Creative3</td>\n",
       "      <td>AU</td>\n",
       "      <td>Product5</td>\n",
       "    </tr>\n",
       "    <tr>\n",
       "      <th>136077</th>\n",
       "      <td>21</td>\n",
       "      <td>Sat</td>\n",
       "      <td>Jul</td>\n",
       "      <td>SYD</td>\n",
       "      <td>Creative3</td>\n",
       "      <td>AU</td>\n",
       "      <td>Product5</td>\n",
       "    </tr>\n",
       "    <tr>\n",
       "      <th>136078</th>\n",
       "      <td>22</td>\n",
       "      <td>Sat</td>\n",
       "      <td>Jul</td>\n",
       "      <td>SYD</td>\n",
       "      <td>Creative3</td>\n",
       "      <td>AU</td>\n",
       "      <td>Product5</td>\n",
       "    </tr>\n",
       "    <tr>\n",
       "      <th>136079</th>\n",
       "      <td>23</td>\n",
       "      <td>Sat</td>\n",
       "      <td>Jul</td>\n",
       "      <td>SYD</td>\n",
       "      <td>Creative3</td>\n",
       "      <td>AU</td>\n",
       "      <td>Product5</td>\n",
       "    </tr>\n",
       "  </tbody>\n",
       "</table>\n",
       "<p>136080 rows × 7 columns</p>\n",
       "</div>"
      ],
      "text/plain": [
       "        Hour Weekday Month Market   Creative Country   Product\n",
       "0          0     Sun   Jul    ADE  Creative1      AU  Product1\n",
       "1          1     Sun   Jul    ADE  Creative1      AU  Product1\n",
       "2          2     Sun   Jul    ADE  Creative1      AU  Product1\n",
       "3          3     Sun   Jul    ADE  Creative1      AU  Product1\n",
       "4          4     Sun   Jul    ADE  Creative1      AU  Product1\n",
       "...      ...     ...   ...    ...        ...     ...       ...\n",
       "136075    19     Sat   Jul    SYD  Creative3      AU  Product5\n",
       "136076    20     Sat   Jul    SYD  Creative3      AU  Product5\n",
       "136077    21     Sat   Jul    SYD  Creative3      AU  Product5\n",
       "136078    22     Sat   Jul    SYD  Creative3      AU  Product5\n",
       "136079    23     Sat   Jul    SYD  Creative3      AU  Product5\n",
       "\n",
       "[136080 rows x 7 columns]"
      ]
     },
     "execution_count": 150,
     "metadata": {},
     "output_type": "execute_result"
    }
   ],
   "source": [
    "df_july_p2 = pd.read_excel('/home/shiva/Documents/UTS/02_Courses/DVN/DVN/AT2 Part1/Data/data Jul 07 - Jul 20 - Part2.xlsx')\n",
    "df_july_p2\n"
   ]
  },
  {
   "cell_type": "code",
   "execution_count": 151,
   "id": "continuing-procurement",
   "metadata": {},
   "outputs": [],
   "source": [
    "df_july=pd.merge(df_july_p1, df_july_p2, left_index=True, right_index=True)"
   ]
  },
  {
   "cell_type": "code",
   "execution_count": 152,
   "id": "lucky-rubber",
   "metadata": {},
   "outputs": [
    {
     "data": {
      "text/html": [
       "<div>\n",
       "<style scoped>\n",
       "    .dataframe tbody tr th:only-of-type {\n",
       "        vertical-align: middle;\n",
       "    }\n",
       "\n",
       "    .dataframe tbody tr th {\n",
       "        vertical-align: top;\n",
       "    }\n",
       "\n",
       "    .dataframe thead th {\n",
       "        text-align: right;\n",
       "    }\n",
       "</style>\n",
       "<table border=\"1\" class=\"dataframe\">\n",
       "  <thead>\n",
       "    <tr style=\"text-align: right;\">\n",
       "      <th></th>\n",
       "      <th>Date</th>\n",
       "      <th>Network</th>\n",
       "      <th>Channel</th>\n",
       "      <th>Contribution</th>\n",
       "      <th>Impression</th>\n",
       "      <th>Site Visits</th>\n",
       "      <th>Spend</th>\n",
       "      <th>Hour</th>\n",
       "      <th>Weekday</th>\n",
       "      <th>Month</th>\n",
       "      <th>Market</th>\n",
       "      <th>Creative</th>\n",
       "      <th>Country</th>\n",
       "      <th>Product</th>\n",
       "    </tr>\n",
       "  </thead>\n",
       "  <tbody>\n",
       "    <tr>\n",
       "      <th>0</th>\n",
       "      <td>2019-07-07</td>\n",
       "      <td>NetA</td>\n",
       "      <td>ChannelA1</td>\n",
       "      <td>0.0</td>\n",
       "      <td>0</td>\n",
       "      <td>0.246914</td>\n",
       "      <td>0</td>\n",
       "      <td>0</td>\n",
       "      <td>Sun</td>\n",
       "      <td>Jul</td>\n",
       "      <td>ADE</td>\n",
       "      <td>Creative1</td>\n",
       "      <td>AU</td>\n",
       "      <td>Product1</td>\n",
       "    </tr>\n",
       "    <tr>\n",
       "      <th>1</th>\n",
       "      <td>2019-07-07</td>\n",
       "      <td>NetA</td>\n",
       "      <td>ChannelA1</td>\n",
       "      <td>0.0</td>\n",
       "      <td>0</td>\n",
       "      <td>0.259259</td>\n",
       "      <td>0</td>\n",
       "      <td>1</td>\n",
       "      <td>Sun</td>\n",
       "      <td>Jul</td>\n",
       "      <td>ADE</td>\n",
       "      <td>Creative1</td>\n",
       "      <td>AU</td>\n",
       "      <td>Product1</td>\n",
       "    </tr>\n",
       "    <tr>\n",
       "      <th>2</th>\n",
       "      <td>2019-07-07</td>\n",
       "      <td>NetA</td>\n",
       "      <td>ChannelA1</td>\n",
       "      <td>0.0</td>\n",
       "      <td>0</td>\n",
       "      <td>0.111111</td>\n",
       "      <td>0</td>\n",
       "      <td>2</td>\n",
       "      <td>Sun</td>\n",
       "      <td>Jul</td>\n",
       "      <td>ADE</td>\n",
       "      <td>Creative1</td>\n",
       "      <td>AU</td>\n",
       "      <td>Product1</td>\n",
       "    </tr>\n",
       "    <tr>\n",
       "      <th>3</th>\n",
       "      <td>2019-07-07</td>\n",
       "      <td>NetA</td>\n",
       "      <td>ChannelA1</td>\n",
       "      <td>0.0</td>\n",
       "      <td>0</td>\n",
       "      <td>0.074074</td>\n",
       "      <td>0</td>\n",
       "      <td>3</td>\n",
       "      <td>Sun</td>\n",
       "      <td>Jul</td>\n",
       "      <td>ADE</td>\n",
       "      <td>Creative1</td>\n",
       "      <td>AU</td>\n",
       "      <td>Product1</td>\n",
       "    </tr>\n",
       "    <tr>\n",
       "      <th>4</th>\n",
       "      <td>2019-07-07</td>\n",
       "      <td>NetA</td>\n",
       "      <td>ChannelA1</td>\n",
       "      <td>0.0</td>\n",
       "      <td>0</td>\n",
       "      <td>0.098765</td>\n",
       "      <td>0</td>\n",
       "      <td>4</td>\n",
       "      <td>Sun</td>\n",
       "      <td>Jul</td>\n",
       "      <td>ADE</td>\n",
       "      <td>Creative1</td>\n",
       "      <td>AU</td>\n",
       "      <td>Product1</td>\n",
       "    </tr>\n",
       "    <tr>\n",
       "      <th>...</th>\n",
       "      <td>...</td>\n",
       "      <td>...</td>\n",
       "      <td>...</td>\n",
       "      <td>...</td>\n",
       "      <td>...</td>\n",
       "      <td>...</td>\n",
       "      <td>...</td>\n",
       "      <td>...</td>\n",
       "      <td>...</td>\n",
       "      <td>...</td>\n",
       "      <td>...</td>\n",
       "      <td>...</td>\n",
       "      <td>...</td>\n",
       "      <td>...</td>\n",
       "    </tr>\n",
       "    <tr>\n",
       "      <th>136075</th>\n",
       "      <td>2019-07-20</td>\n",
       "      <td>NetB</td>\n",
       "      <td>ChannelB3</td>\n",
       "      <td>0.0</td>\n",
       "      <td>0</td>\n",
       "      <td>2.049383</td>\n",
       "      <td>0</td>\n",
       "      <td>19</td>\n",
       "      <td>Sat</td>\n",
       "      <td>Jul</td>\n",
       "      <td>SYD</td>\n",
       "      <td>Creative3</td>\n",
       "      <td>AU</td>\n",
       "      <td>Product5</td>\n",
       "    </tr>\n",
       "    <tr>\n",
       "      <th>136076</th>\n",
       "      <td>2019-07-20</td>\n",
       "      <td>NetB</td>\n",
       "      <td>ChannelB3</td>\n",
       "      <td>0.0</td>\n",
       "      <td>0</td>\n",
       "      <td>2.037037</td>\n",
       "      <td>0</td>\n",
       "      <td>20</td>\n",
       "      <td>Sat</td>\n",
       "      <td>Jul</td>\n",
       "      <td>SYD</td>\n",
       "      <td>Creative3</td>\n",
       "      <td>AU</td>\n",
       "      <td>Product5</td>\n",
       "    </tr>\n",
       "    <tr>\n",
       "      <th>136077</th>\n",
       "      <td>2019-07-20</td>\n",
       "      <td>NetB</td>\n",
       "      <td>ChannelB3</td>\n",
       "      <td>0.0</td>\n",
       "      <td>0</td>\n",
       "      <td>1.925926</td>\n",
       "      <td>0</td>\n",
       "      <td>21</td>\n",
       "      <td>Sat</td>\n",
       "      <td>Jul</td>\n",
       "      <td>SYD</td>\n",
       "      <td>Creative3</td>\n",
       "      <td>AU</td>\n",
       "      <td>Product5</td>\n",
       "    </tr>\n",
       "    <tr>\n",
       "      <th>136078</th>\n",
       "      <td>2019-07-20</td>\n",
       "      <td>NetB</td>\n",
       "      <td>ChannelB3</td>\n",
       "      <td>0.0</td>\n",
       "      <td>0</td>\n",
       "      <td>1.888889</td>\n",
       "      <td>0</td>\n",
       "      <td>22</td>\n",
       "      <td>Sat</td>\n",
       "      <td>Jul</td>\n",
       "      <td>SYD</td>\n",
       "      <td>Creative3</td>\n",
       "      <td>AU</td>\n",
       "      <td>Product5</td>\n",
       "    </tr>\n",
       "    <tr>\n",
       "      <th>136079</th>\n",
       "      <td>2019-07-20</td>\n",
       "      <td>NetB</td>\n",
       "      <td>ChannelB3</td>\n",
       "      <td>0.0</td>\n",
       "      <td>0</td>\n",
       "      <td>1.074074</td>\n",
       "      <td>0</td>\n",
       "      <td>23</td>\n",
       "      <td>Sat</td>\n",
       "      <td>Jul</td>\n",
       "      <td>SYD</td>\n",
       "      <td>Creative3</td>\n",
       "      <td>AU</td>\n",
       "      <td>Product5</td>\n",
       "    </tr>\n",
       "  </tbody>\n",
       "</table>\n",
       "<p>136080 rows × 14 columns</p>\n",
       "</div>"
      ],
      "text/plain": [
       "             Date Network    Channel  Contribution  Impression  Site Visits  \\\n",
       "0      2019-07-07    NetA  ChannelA1           0.0           0     0.246914   \n",
       "1      2019-07-07    NetA  ChannelA1           0.0           0     0.259259   \n",
       "2      2019-07-07    NetA  ChannelA1           0.0           0     0.111111   \n",
       "3      2019-07-07    NetA  ChannelA1           0.0           0     0.074074   \n",
       "4      2019-07-07    NetA  ChannelA1           0.0           0     0.098765   \n",
       "...           ...     ...        ...           ...         ...          ...   \n",
       "136075 2019-07-20    NetB  ChannelB3           0.0           0     2.049383   \n",
       "136076 2019-07-20    NetB  ChannelB3           0.0           0     2.037037   \n",
       "136077 2019-07-20    NetB  ChannelB3           0.0           0     1.925926   \n",
       "136078 2019-07-20    NetB  ChannelB3           0.0           0     1.888889   \n",
       "136079 2019-07-20    NetB  ChannelB3           0.0           0     1.074074   \n",
       "\n",
       "        Spend  Hour Weekday Month Market   Creative Country   Product  \n",
       "0           0     0     Sun   Jul    ADE  Creative1      AU  Product1  \n",
       "1           0     1     Sun   Jul    ADE  Creative1      AU  Product1  \n",
       "2           0     2     Sun   Jul    ADE  Creative1      AU  Product1  \n",
       "3           0     3     Sun   Jul    ADE  Creative1      AU  Product1  \n",
       "4           0     4     Sun   Jul    ADE  Creative1      AU  Product1  \n",
       "...       ...   ...     ...   ...    ...        ...     ...       ...  \n",
       "136075      0    19     Sat   Jul    SYD  Creative3      AU  Product5  \n",
       "136076      0    20     Sat   Jul    SYD  Creative3      AU  Product5  \n",
       "136077      0    21     Sat   Jul    SYD  Creative3      AU  Product5  \n",
       "136078      0    22     Sat   Jul    SYD  Creative3      AU  Product5  \n",
       "136079      0    23     Sat   Jul    SYD  Creative3      AU  Product5  \n",
       "\n",
       "[136080 rows x 14 columns]"
      ]
     },
     "execution_count": 152,
     "metadata": {},
     "output_type": "execute_result"
    }
   ],
   "source": [
    "df_july"
   ]
  },
  {
   "cell_type": "markdown",
   "id": "sustainable-smooth",
   "metadata": {},
   "source": [
    "### Read data files - data Jul 21 - Aug 03 - Part2.xlsx"
   ]
  },
  {
   "cell_type": "code",
   "execution_count": 153,
   "id": "impressive-cylinder",
   "metadata": {},
   "outputs": [
    {
     "data": {
      "text/html": [
       "<div>\n",
       "<style scoped>\n",
       "    .dataframe tbody tr th:only-of-type {\n",
       "        vertical-align: middle;\n",
       "    }\n",
       "\n",
       "    .dataframe tbody tr th {\n",
       "        vertical-align: top;\n",
       "    }\n",
       "\n",
       "    .dataframe thead th {\n",
       "        text-align: right;\n",
       "    }\n",
       "</style>\n",
       "<table border=\"1\" class=\"dataframe\">\n",
       "  <thead>\n",
       "    <tr style=\"text-align: right;\">\n",
       "      <th></th>\n",
       "      <th>Date</th>\n",
       "      <th>Network</th>\n",
       "      <th>Channel</th>\n",
       "      <th>Contribution</th>\n",
       "      <th>Impression</th>\n",
       "      <th>Site Visits</th>\n",
       "      <th>Spend</th>\n",
       "      <th>Hour</th>\n",
       "      <th>Weekday</th>\n",
       "      <th>Month</th>\n",
       "      <th>Market</th>\n",
       "      <th>Creative</th>\n",
       "      <th>Country</th>\n",
       "      <th>Product</th>\n",
       "    </tr>\n",
       "  </thead>\n",
       "  <tbody>\n",
       "    <tr>\n",
       "      <th>0</th>\n",
       "      <td>2019-07-21</td>\n",
       "      <td>NetA</td>\n",
       "      <td>ChannelA2</td>\n",
       "      <td>0.0</td>\n",
       "      <td>0</td>\n",
       "      <td>0.375000</td>\n",
       "      <td>0</td>\n",
       "      <td>0</td>\n",
       "      <td>Sun</td>\n",
       "      <td>Jul</td>\n",
       "      <td>ADE</td>\n",
       "      <td>Creative2</td>\n",
       "      <td>AU</td>\n",
       "      <td>Product1</td>\n",
       "    </tr>\n",
       "    <tr>\n",
       "      <th>1</th>\n",
       "      <td>2019-07-21</td>\n",
       "      <td>NetA</td>\n",
       "      <td>ChannelA2</td>\n",
       "      <td>0.0</td>\n",
       "      <td>0</td>\n",
       "      <td>0.285714</td>\n",
       "      <td>0</td>\n",
       "      <td>1</td>\n",
       "      <td>Sun</td>\n",
       "      <td>Jul</td>\n",
       "      <td>ADE</td>\n",
       "      <td>Creative2</td>\n",
       "      <td>AU</td>\n",
       "      <td>Product1</td>\n",
       "    </tr>\n",
       "    <tr>\n",
       "      <th>2</th>\n",
       "      <td>2019-07-21</td>\n",
       "      <td>NetA</td>\n",
       "      <td>ChannelA2</td>\n",
       "      <td>0.0</td>\n",
       "      <td>0</td>\n",
       "      <td>0.321429</td>\n",
       "      <td>0</td>\n",
       "      <td>2</td>\n",
       "      <td>Sun</td>\n",
       "      <td>Jul</td>\n",
       "      <td>ADE</td>\n",
       "      <td>Creative2</td>\n",
       "      <td>AU</td>\n",
       "      <td>Product1</td>\n",
       "    </tr>\n",
       "    <tr>\n",
       "      <th>3</th>\n",
       "      <td>2019-07-21</td>\n",
       "      <td>NetA</td>\n",
       "      <td>ChannelA2</td>\n",
       "      <td>0.0</td>\n",
       "      <td>0</td>\n",
       "      <td>0.285714</td>\n",
       "      <td>0</td>\n",
       "      <td>3</td>\n",
       "      <td>Sun</td>\n",
       "      <td>Jul</td>\n",
       "      <td>ADE</td>\n",
       "      <td>Creative2</td>\n",
       "      <td>AU</td>\n",
       "      <td>Product1</td>\n",
       "    </tr>\n",
       "    <tr>\n",
       "      <th>4</th>\n",
       "      <td>2019-07-21</td>\n",
       "      <td>NetA</td>\n",
       "      <td>ChannelA2</td>\n",
       "      <td>0.0</td>\n",
       "      <td>0</td>\n",
       "      <td>0.160714</td>\n",
       "      <td>0</td>\n",
       "      <td>4</td>\n",
       "      <td>Sun</td>\n",
       "      <td>Jul</td>\n",
       "      <td>ADE</td>\n",
       "      <td>Creative2</td>\n",
       "      <td>AU</td>\n",
       "      <td>Product1</td>\n",
       "    </tr>\n",
       "    <tr>\n",
       "      <th>...</th>\n",
       "      <td>...</td>\n",
       "      <td>...</td>\n",
       "      <td>...</td>\n",
       "      <td>...</td>\n",
       "      <td>...</td>\n",
       "      <td>...</td>\n",
       "      <td>...</td>\n",
       "      <td>...</td>\n",
       "      <td>...</td>\n",
       "      <td>...</td>\n",
       "      <td>...</td>\n",
       "      <td>...</td>\n",
       "      <td>...</td>\n",
       "      <td>...</td>\n",
       "    </tr>\n",
       "    <tr>\n",
       "      <th>95755</th>\n",
       "      <td>2019-08-03</td>\n",
       "      <td>NetA</td>\n",
       "      <td>ChannelA3</td>\n",
       "      <td>0.0</td>\n",
       "      <td>0</td>\n",
       "      <td>0.000000</td>\n",
       "      <td>0</td>\n",
       "      <td>19</td>\n",
       "      <td>Sat</td>\n",
       "      <td>Aug</td>\n",
       "      <td>ADE</td>\n",
       "      <td>Creative2</td>\n",
       "      <td>AU</td>\n",
       "      <td>Product5</td>\n",
       "    </tr>\n",
       "    <tr>\n",
       "      <th>95756</th>\n",
       "      <td>2019-08-03</td>\n",
       "      <td>NetA</td>\n",
       "      <td>ChannelA3</td>\n",
       "      <td>0.0</td>\n",
       "      <td>0</td>\n",
       "      <td>0.000000</td>\n",
       "      <td>0</td>\n",
       "      <td>20</td>\n",
       "      <td>Sat</td>\n",
       "      <td>Aug</td>\n",
       "      <td>ADE</td>\n",
       "      <td>Creative2</td>\n",
       "      <td>AU</td>\n",
       "      <td>Product5</td>\n",
       "    </tr>\n",
       "    <tr>\n",
       "      <th>95757</th>\n",
       "      <td>2019-08-03</td>\n",
       "      <td>NetA</td>\n",
       "      <td>ChannelA3</td>\n",
       "      <td>0.0</td>\n",
       "      <td>0</td>\n",
       "      <td>0.000000</td>\n",
       "      <td>0</td>\n",
       "      <td>21</td>\n",
       "      <td>Sat</td>\n",
       "      <td>Aug</td>\n",
       "      <td>ADE</td>\n",
       "      <td>Creative2</td>\n",
       "      <td>AU</td>\n",
       "      <td>Product5</td>\n",
       "    </tr>\n",
       "    <tr>\n",
       "      <th>95758</th>\n",
       "      <td>2019-08-03</td>\n",
       "      <td>NetA</td>\n",
       "      <td>ChannelA3</td>\n",
       "      <td>0.0</td>\n",
       "      <td>0</td>\n",
       "      <td>0.000000</td>\n",
       "      <td>0</td>\n",
       "      <td>22</td>\n",
       "      <td>Sat</td>\n",
       "      <td>Aug</td>\n",
       "      <td>ADE</td>\n",
       "      <td>Creative2</td>\n",
       "      <td>AU</td>\n",
       "      <td>Product5</td>\n",
       "    </tr>\n",
       "    <tr>\n",
       "      <th>95759</th>\n",
       "      <td>2019-08-03</td>\n",
       "      <td>NetA</td>\n",
       "      <td>ChannelA3</td>\n",
       "      <td>0.0</td>\n",
       "      <td>0</td>\n",
       "      <td>0.000000</td>\n",
       "      <td>0</td>\n",
       "      <td>23</td>\n",
       "      <td>Sat</td>\n",
       "      <td>Aug</td>\n",
       "      <td>ADE</td>\n",
       "      <td>Creative2</td>\n",
       "      <td>AU</td>\n",
       "      <td>Product5</td>\n",
       "    </tr>\n",
       "  </tbody>\n",
       "</table>\n",
       "<p>95760 rows × 14 columns</p>\n",
       "</div>"
      ],
      "text/plain": [
       "            Date Network    Channel  Contribution  Impression  Site Visits  \\\n",
       "0     2019-07-21    NetA  ChannelA2           0.0           0     0.375000   \n",
       "1     2019-07-21    NetA  ChannelA2           0.0           0     0.285714   \n",
       "2     2019-07-21    NetA  ChannelA2           0.0           0     0.321429   \n",
       "3     2019-07-21    NetA  ChannelA2           0.0           0     0.285714   \n",
       "4     2019-07-21    NetA  ChannelA2           0.0           0     0.160714   \n",
       "...          ...     ...        ...           ...         ...          ...   \n",
       "95755 2019-08-03    NetA  ChannelA3           0.0           0     0.000000   \n",
       "95756 2019-08-03    NetA  ChannelA3           0.0           0     0.000000   \n",
       "95757 2019-08-03    NetA  ChannelA3           0.0           0     0.000000   \n",
       "95758 2019-08-03    NetA  ChannelA3           0.0           0     0.000000   \n",
       "95759 2019-08-03    NetA  ChannelA3           0.0           0     0.000000   \n",
       "\n",
       "       Spend  Hour Weekday Month Market   Creative Country   Product  \n",
       "0          0     0     Sun   Jul    ADE  Creative2      AU  Product1  \n",
       "1          0     1     Sun   Jul    ADE  Creative2      AU  Product1  \n",
       "2          0     2     Sun   Jul    ADE  Creative2      AU  Product1  \n",
       "3          0     3     Sun   Jul    ADE  Creative2      AU  Product1  \n",
       "4          0     4     Sun   Jul    ADE  Creative2      AU  Product1  \n",
       "...      ...   ...     ...   ...    ...        ...     ...       ...  \n",
       "95755      0    19     Sat   Aug    ADE  Creative2      AU  Product5  \n",
       "95756      0    20     Sat   Aug    ADE  Creative2      AU  Product5  \n",
       "95757      0    21     Sat   Aug    ADE  Creative2      AU  Product5  \n",
       "95758      0    22     Sat   Aug    ADE  Creative2      AU  Product5  \n",
       "95759      0    23     Sat   Aug    ADE  Creative2      AU  Product5  \n",
       "\n",
       "[95760 rows x 14 columns]"
      ]
     },
     "execution_count": 153,
     "metadata": {},
     "output_type": "execute_result"
    }
   ],
   "source": [
    "df_aug = pd.read_excel('/home/shiva/Documents/UTS/02_Courses/DVN/DVN/AT2 Part1/Data/data Jul 21 - Aug 03.xlsx')\n",
    "df_aug"
   ]
  },
  {
   "cell_type": "code",
   "execution_count": 154,
   "id": "crucial-harris",
   "metadata": {},
   "outputs": [],
   "source": [
    "df_july_aug = df_july.append(df_aug)"
   ]
  },
  {
   "cell_type": "code",
   "execution_count": 155,
   "id": "ignored-karaoke",
   "metadata": {},
   "outputs": [
    {
     "data": {
      "text/html": [
       "<div>\n",
       "<style scoped>\n",
       "    .dataframe tbody tr th:only-of-type {\n",
       "        vertical-align: middle;\n",
       "    }\n",
       "\n",
       "    .dataframe tbody tr th {\n",
       "        vertical-align: top;\n",
       "    }\n",
       "\n",
       "    .dataframe thead th {\n",
       "        text-align: right;\n",
       "    }\n",
       "</style>\n",
       "<table border=\"1\" class=\"dataframe\">\n",
       "  <thead>\n",
       "    <tr style=\"text-align: right;\">\n",
       "      <th></th>\n",
       "      <th>Date</th>\n",
       "      <th>Network</th>\n",
       "      <th>Channel</th>\n",
       "      <th>Contribution</th>\n",
       "      <th>Impression</th>\n",
       "      <th>Site Visits</th>\n",
       "      <th>Spend</th>\n",
       "      <th>Hour</th>\n",
       "      <th>Weekday</th>\n",
       "      <th>Month</th>\n",
       "      <th>Market</th>\n",
       "      <th>Creative</th>\n",
       "      <th>Country</th>\n",
       "      <th>Product</th>\n",
       "    </tr>\n",
       "  </thead>\n",
       "  <tbody>\n",
       "    <tr>\n",
       "      <th>0</th>\n",
       "      <td>2019-07-07</td>\n",
       "      <td>NetA</td>\n",
       "      <td>ChannelA1</td>\n",
       "      <td>0.0</td>\n",
       "      <td>0</td>\n",
       "      <td>0.246914</td>\n",
       "      <td>0</td>\n",
       "      <td>0</td>\n",
       "      <td>Sun</td>\n",
       "      <td>Jul</td>\n",
       "      <td>ADE</td>\n",
       "      <td>Creative1</td>\n",
       "      <td>AU</td>\n",
       "      <td>Product1</td>\n",
       "    </tr>\n",
       "    <tr>\n",
       "      <th>1</th>\n",
       "      <td>2019-07-07</td>\n",
       "      <td>NetA</td>\n",
       "      <td>ChannelA1</td>\n",
       "      <td>0.0</td>\n",
       "      <td>0</td>\n",
       "      <td>0.259259</td>\n",
       "      <td>0</td>\n",
       "      <td>1</td>\n",
       "      <td>Sun</td>\n",
       "      <td>Jul</td>\n",
       "      <td>ADE</td>\n",
       "      <td>Creative1</td>\n",
       "      <td>AU</td>\n",
       "      <td>Product1</td>\n",
       "    </tr>\n",
       "    <tr>\n",
       "      <th>2</th>\n",
       "      <td>2019-07-07</td>\n",
       "      <td>NetA</td>\n",
       "      <td>ChannelA1</td>\n",
       "      <td>0.0</td>\n",
       "      <td>0</td>\n",
       "      <td>0.111111</td>\n",
       "      <td>0</td>\n",
       "      <td>2</td>\n",
       "      <td>Sun</td>\n",
       "      <td>Jul</td>\n",
       "      <td>ADE</td>\n",
       "      <td>Creative1</td>\n",
       "      <td>AU</td>\n",
       "      <td>Product1</td>\n",
       "    </tr>\n",
       "    <tr>\n",
       "      <th>3</th>\n",
       "      <td>2019-07-07</td>\n",
       "      <td>NetA</td>\n",
       "      <td>ChannelA1</td>\n",
       "      <td>0.0</td>\n",
       "      <td>0</td>\n",
       "      <td>0.074074</td>\n",
       "      <td>0</td>\n",
       "      <td>3</td>\n",
       "      <td>Sun</td>\n",
       "      <td>Jul</td>\n",
       "      <td>ADE</td>\n",
       "      <td>Creative1</td>\n",
       "      <td>AU</td>\n",
       "      <td>Product1</td>\n",
       "    </tr>\n",
       "    <tr>\n",
       "      <th>4</th>\n",
       "      <td>2019-07-07</td>\n",
       "      <td>NetA</td>\n",
       "      <td>ChannelA1</td>\n",
       "      <td>0.0</td>\n",
       "      <td>0</td>\n",
       "      <td>0.098765</td>\n",
       "      <td>0</td>\n",
       "      <td>4</td>\n",
       "      <td>Sun</td>\n",
       "      <td>Jul</td>\n",
       "      <td>ADE</td>\n",
       "      <td>Creative1</td>\n",
       "      <td>AU</td>\n",
       "      <td>Product1</td>\n",
       "    </tr>\n",
       "    <tr>\n",
       "      <th>...</th>\n",
       "      <td>...</td>\n",
       "      <td>...</td>\n",
       "      <td>...</td>\n",
       "      <td>...</td>\n",
       "      <td>...</td>\n",
       "      <td>...</td>\n",
       "      <td>...</td>\n",
       "      <td>...</td>\n",
       "      <td>...</td>\n",
       "      <td>...</td>\n",
       "      <td>...</td>\n",
       "      <td>...</td>\n",
       "      <td>...</td>\n",
       "      <td>...</td>\n",
       "    </tr>\n",
       "    <tr>\n",
       "      <th>95755</th>\n",
       "      <td>2019-08-03</td>\n",
       "      <td>NetA</td>\n",
       "      <td>ChannelA3</td>\n",
       "      <td>0.0</td>\n",
       "      <td>0</td>\n",
       "      <td>0.000000</td>\n",
       "      <td>0</td>\n",
       "      <td>19</td>\n",
       "      <td>Sat</td>\n",
       "      <td>Aug</td>\n",
       "      <td>ADE</td>\n",
       "      <td>Creative2</td>\n",
       "      <td>AU</td>\n",
       "      <td>Product5</td>\n",
       "    </tr>\n",
       "    <tr>\n",
       "      <th>95756</th>\n",
       "      <td>2019-08-03</td>\n",
       "      <td>NetA</td>\n",
       "      <td>ChannelA3</td>\n",
       "      <td>0.0</td>\n",
       "      <td>0</td>\n",
       "      <td>0.000000</td>\n",
       "      <td>0</td>\n",
       "      <td>20</td>\n",
       "      <td>Sat</td>\n",
       "      <td>Aug</td>\n",
       "      <td>ADE</td>\n",
       "      <td>Creative2</td>\n",
       "      <td>AU</td>\n",
       "      <td>Product5</td>\n",
       "    </tr>\n",
       "    <tr>\n",
       "      <th>95757</th>\n",
       "      <td>2019-08-03</td>\n",
       "      <td>NetA</td>\n",
       "      <td>ChannelA3</td>\n",
       "      <td>0.0</td>\n",
       "      <td>0</td>\n",
       "      <td>0.000000</td>\n",
       "      <td>0</td>\n",
       "      <td>21</td>\n",
       "      <td>Sat</td>\n",
       "      <td>Aug</td>\n",
       "      <td>ADE</td>\n",
       "      <td>Creative2</td>\n",
       "      <td>AU</td>\n",
       "      <td>Product5</td>\n",
       "    </tr>\n",
       "    <tr>\n",
       "      <th>95758</th>\n",
       "      <td>2019-08-03</td>\n",
       "      <td>NetA</td>\n",
       "      <td>ChannelA3</td>\n",
       "      <td>0.0</td>\n",
       "      <td>0</td>\n",
       "      <td>0.000000</td>\n",
       "      <td>0</td>\n",
       "      <td>22</td>\n",
       "      <td>Sat</td>\n",
       "      <td>Aug</td>\n",
       "      <td>ADE</td>\n",
       "      <td>Creative2</td>\n",
       "      <td>AU</td>\n",
       "      <td>Product5</td>\n",
       "    </tr>\n",
       "    <tr>\n",
       "      <th>95759</th>\n",
       "      <td>2019-08-03</td>\n",
       "      <td>NetA</td>\n",
       "      <td>ChannelA3</td>\n",
       "      <td>0.0</td>\n",
       "      <td>0</td>\n",
       "      <td>0.000000</td>\n",
       "      <td>0</td>\n",
       "      <td>23</td>\n",
       "      <td>Sat</td>\n",
       "      <td>Aug</td>\n",
       "      <td>ADE</td>\n",
       "      <td>Creative2</td>\n",
       "      <td>AU</td>\n",
       "      <td>Product5</td>\n",
       "    </tr>\n",
       "  </tbody>\n",
       "</table>\n",
       "<p>231840 rows × 14 columns</p>\n",
       "</div>"
      ],
      "text/plain": [
       "            Date Network    Channel  Contribution  Impression  Site Visits  \\\n",
       "0     2019-07-07    NetA  ChannelA1           0.0           0     0.246914   \n",
       "1     2019-07-07    NetA  ChannelA1           0.0           0     0.259259   \n",
       "2     2019-07-07    NetA  ChannelA1           0.0           0     0.111111   \n",
       "3     2019-07-07    NetA  ChannelA1           0.0           0     0.074074   \n",
       "4     2019-07-07    NetA  ChannelA1           0.0           0     0.098765   \n",
       "...          ...     ...        ...           ...         ...          ...   \n",
       "95755 2019-08-03    NetA  ChannelA3           0.0           0     0.000000   \n",
       "95756 2019-08-03    NetA  ChannelA3           0.0           0     0.000000   \n",
       "95757 2019-08-03    NetA  ChannelA3           0.0           0     0.000000   \n",
       "95758 2019-08-03    NetA  ChannelA3           0.0           0     0.000000   \n",
       "95759 2019-08-03    NetA  ChannelA3           0.0           0     0.000000   \n",
       "\n",
       "       Spend  Hour Weekday Month Market   Creative Country   Product  \n",
       "0          0     0     Sun   Jul    ADE  Creative1      AU  Product1  \n",
       "1          0     1     Sun   Jul    ADE  Creative1      AU  Product1  \n",
       "2          0     2     Sun   Jul    ADE  Creative1      AU  Product1  \n",
       "3          0     3     Sun   Jul    ADE  Creative1      AU  Product1  \n",
       "4          0     4     Sun   Jul    ADE  Creative1      AU  Product1  \n",
       "...      ...   ...     ...   ...    ...        ...     ...       ...  \n",
       "95755      0    19     Sat   Aug    ADE  Creative2      AU  Product5  \n",
       "95756      0    20     Sat   Aug    ADE  Creative2      AU  Product5  \n",
       "95757      0    21     Sat   Aug    ADE  Creative2      AU  Product5  \n",
       "95758      0    22     Sat   Aug    ADE  Creative2      AU  Product5  \n",
       "95759      0    23     Sat   Aug    ADE  Creative2      AU  Product5  \n",
       "\n",
       "[231840 rows x 14 columns]"
      ]
     },
     "execution_count": 155,
     "metadata": {},
     "output_type": "execute_result"
    }
   ],
   "source": [
    "df_july_aug"
   ]
  },
  {
   "cell_type": "code",
   "execution_count": 156,
   "id": "banned-bacon",
   "metadata": {},
   "outputs": [
    {
     "data": {
      "text/html": [
       "<div>\n",
       "<style scoped>\n",
       "    .dataframe tbody tr th:only-of-type {\n",
       "        vertical-align: middle;\n",
       "    }\n",
       "\n",
       "    .dataframe tbody tr th {\n",
       "        vertical-align: top;\n",
       "    }\n",
       "\n",
       "    .dataframe thead th {\n",
       "        text-align: right;\n",
       "    }\n",
       "</style>\n",
       "<table border=\"1\" class=\"dataframe\">\n",
       "  <thead>\n",
       "    <tr style=\"text-align: right;\">\n",
       "      <th></th>\n",
       "      <th>Network</th>\n",
       "      <th>Channel</th>\n",
       "      <th>Site Visits</th>\n",
       "      <th>Impression</th>\n",
       "      <th>Spend</th>\n",
       "    </tr>\n",
       "  </thead>\n",
       "  <tbody>\n",
       "    <tr>\n",
       "      <th>0</th>\n",
       "      <td>NetA</td>\n",
       "      <td>ChannelA1</td>\n",
       "      <td>27106.074074</td>\n",
       "      <td>4090</td>\n",
       "      <td>0</td>\n",
       "    </tr>\n",
       "    <tr>\n",
       "      <th>1</th>\n",
       "      <td>NetA</td>\n",
       "      <td>ChannelA2</td>\n",
       "      <td>44395.231481</td>\n",
       "      <td>2870</td>\n",
       "      <td>39200</td>\n",
       "    </tr>\n",
       "    <tr>\n",
       "      <th>2</th>\n",
       "      <td>NetA</td>\n",
       "      <td>ChannelA3</td>\n",
       "      <td>32445.583333</td>\n",
       "      <td>655</td>\n",
       "      <td>8630</td>\n",
       "    </tr>\n",
       "    <tr>\n",
       "      <th>3</th>\n",
       "      <td>NetA</td>\n",
       "      <td>ChannelA4</td>\n",
       "      <td>44395.231481</td>\n",
       "      <td>8900</td>\n",
       "      <td>163550</td>\n",
       "    </tr>\n",
       "    <tr>\n",
       "      <th>4</th>\n",
       "      <td>NetA</td>\n",
       "      <td>ChannelA5</td>\n",
       "      <td>28006.060185</td>\n",
       "      <td>1875</td>\n",
       "      <td>15595</td>\n",
       "    </tr>\n",
       "    <tr>\n",
       "      <th>5</th>\n",
       "      <td>NetB</td>\n",
       "      <td>ChannelB1</td>\n",
       "      <td>44395.231481</td>\n",
       "      <td>3885</td>\n",
       "      <td>10645</td>\n",
       "    </tr>\n",
       "    <tr>\n",
       "      <th>6</th>\n",
       "      <td>NetB</td>\n",
       "      <td>ChannelB2</td>\n",
       "      <td>31878.356481</td>\n",
       "      <td>7125</td>\n",
       "      <td>11590</td>\n",
       "    </tr>\n",
       "    <tr>\n",
       "      <th>7</th>\n",
       "      <td>NetB</td>\n",
       "      <td>ChannelB3</td>\n",
       "      <td>44395.231481</td>\n",
       "      <td>8615</td>\n",
       "      <td>227180</td>\n",
       "    </tr>\n",
       "  </tbody>\n",
       "</table>\n",
       "</div>"
      ],
      "text/plain": [
       "  Network    Channel   Site Visits  Impression   Spend\n",
       "0    NetA  ChannelA1  27106.074074        4090       0\n",
       "1    NetA  ChannelA2  44395.231481        2870   39200\n",
       "2    NetA  ChannelA3  32445.583333         655    8630\n",
       "3    NetA  ChannelA4  44395.231481        8900  163550\n",
       "4    NetA  ChannelA5  28006.060185        1875   15595\n",
       "5    NetB  ChannelB1  44395.231481        3885   10645\n",
       "6    NetB  ChannelB2  31878.356481        7125   11590\n",
       "7    NetB  ChannelB3  44395.231481        8615  227180"
      ]
     },
     "execution_count": 156,
     "metadata": {},
     "output_type": "execute_result"
    }
   ],
   "source": [
    "df_july_aug_plot=df_july_aug.groupby(['Network','Channel'])[['Site Visits', 'Impression','Spend']].sum().reset_index()\n",
    "\n",
    "df_july_aug_plot"
   ]
  },
  {
   "cell_type": "code",
   "execution_count": 157,
   "id": "separate-benjamin",
   "metadata": {},
   "outputs": [],
   "source": [
    "df_july_aug_plot['PCT_Spend']=(df_july_aug_plot['Spend'] / df_july_aug_plot['Spend'].sum()) * 100"
   ]
  },
  {
   "cell_type": "code",
   "execution_count": 158,
   "id": "controversial-glossary",
   "metadata": {},
   "outputs": [],
   "source": [
    "df_july_aug_plot['PCT_Impression']=(df_july_aug_plot['Impression'] / df_july_aug_plot['Impression'].sum()) * 100"
   ]
  },
  {
   "cell_type": "code",
   "execution_count": 159,
   "id": "nuclear-creator",
   "metadata": {},
   "outputs": [
    {
     "data": {
      "text/html": [
       "<div>\n",
       "<style scoped>\n",
       "    .dataframe tbody tr th:only-of-type {\n",
       "        vertical-align: middle;\n",
       "    }\n",
       "\n",
       "    .dataframe tbody tr th {\n",
       "        vertical-align: top;\n",
       "    }\n",
       "\n",
       "    .dataframe thead th {\n",
       "        text-align: right;\n",
       "    }\n",
       "</style>\n",
       "<table border=\"1\" class=\"dataframe\">\n",
       "  <thead>\n",
       "    <tr style=\"text-align: right;\">\n",
       "      <th></th>\n",
       "      <th>Network</th>\n",
       "      <th>Channel</th>\n",
       "      <th>Site Visits</th>\n",
       "      <th>Impression</th>\n",
       "      <th>Spend</th>\n",
       "      <th>PCT_Spend</th>\n",
       "      <th>PCT_Impression</th>\n",
       "    </tr>\n",
       "  </thead>\n",
       "  <tbody>\n",
       "    <tr>\n",
       "      <th>0</th>\n",
       "      <td>NetA</td>\n",
       "      <td>ChannelA1</td>\n",
       "      <td>27106.074074</td>\n",
       "      <td>4090</td>\n",
       "      <td>0</td>\n",
       "      <td>0.000000</td>\n",
       "      <td>10.758911</td>\n",
       "    </tr>\n",
       "    <tr>\n",
       "      <th>1</th>\n",
       "      <td>NetA</td>\n",
       "      <td>ChannelA2</td>\n",
       "      <td>44395.231481</td>\n",
       "      <td>2870</td>\n",
       "      <td>39200</td>\n",
       "      <td>8.228552</td>\n",
       "      <td>7.549651</td>\n",
       "    </tr>\n",
       "    <tr>\n",
       "      <th>2</th>\n",
       "      <td>NetA</td>\n",
       "      <td>ChannelA3</td>\n",
       "      <td>32445.583333</td>\n",
       "      <td>655</td>\n",
       "      <td>8630</td>\n",
       "      <td>1.811541</td>\n",
       "      <td>1.723004</td>\n",
       "    </tr>\n",
       "    <tr>\n",
       "      <th>3</th>\n",
       "      <td>NetA</td>\n",
       "      <td>ChannelA4</td>\n",
       "      <td>44395.231481</td>\n",
       "      <td>8900</td>\n",
       "      <td>163550</td>\n",
       "      <td>34.331115</td>\n",
       "      <td>23.411811</td>\n",
       "    </tr>\n",
       "    <tr>\n",
       "      <th>4</th>\n",
       "      <td>NetA</td>\n",
       "      <td>ChannelA5</td>\n",
       "      <td>28006.060185</td>\n",
       "      <td>1875</td>\n",
       "      <td>15595</td>\n",
       "      <td>3.273578</td>\n",
       "      <td>4.932264</td>\n",
       "    </tr>\n",
       "    <tr>\n",
       "      <th>5</th>\n",
       "      <td>NetB</td>\n",
       "      <td>ChannelB1</td>\n",
       "      <td>44395.231481</td>\n",
       "      <td>3885</td>\n",
       "      <td>10645</td>\n",
       "      <td>2.234514</td>\n",
       "      <td>10.219650</td>\n",
       "    </tr>\n",
       "    <tr>\n",
       "      <th>6</th>\n",
       "      <td>NetB</td>\n",
       "      <td>ChannelB2</td>\n",
       "      <td>31878.356481</td>\n",
       "      <td>7125</td>\n",
       "      <td>11590</td>\n",
       "      <td>2.432881</td>\n",
       "      <td>18.742602</td>\n",
       "    </tr>\n",
       "    <tr>\n",
       "      <th>7</th>\n",
       "      <td>NetB</td>\n",
       "      <td>ChannelB3</td>\n",
       "      <td>44395.231481</td>\n",
       "      <td>8615</td>\n",
       "      <td>227180</td>\n",
       "      <td>47.687819</td>\n",
       "      <td>22.662107</td>\n",
       "    </tr>\n",
       "  </tbody>\n",
       "</table>\n",
       "</div>"
      ],
      "text/plain": [
       "  Network    Channel   Site Visits  Impression   Spend  PCT_Spend  \\\n",
       "0    NetA  ChannelA1  27106.074074        4090       0   0.000000   \n",
       "1    NetA  ChannelA2  44395.231481        2870   39200   8.228552   \n",
       "2    NetA  ChannelA3  32445.583333         655    8630   1.811541   \n",
       "3    NetA  ChannelA4  44395.231481        8900  163550  34.331115   \n",
       "4    NetA  ChannelA5  28006.060185        1875   15595   3.273578   \n",
       "5    NetB  ChannelB1  44395.231481        3885   10645   2.234514   \n",
       "6    NetB  ChannelB2  31878.356481        7125   11590   2.432881   \n",
       "7    NetB  ChannelB3  44395.231481        8615  227180  47.687819   \n",
       "\n",
       "   PCT_Impression  \n",
       "0       10.758911  \n",
       "1        7.549651  \n",
       "2        1.723004  \n",
       "3       23.411811  \n",
       "4        4.932264  \n",
       "5       10.219650  \n",
       "6       18.742602  \n",
       "7       22.662107  "
      ]
     },
     "execution_count": 159,
     "metadata": {},
     "output_type": "execute_result"
    }
   ],
   "source": [
    "df_july_aug_plot"
   ]
  },
  {
   "cell_type": "markdown",
   "id": "sweet-program",
   "metadata": {},
   "source": [
    "### Q4 - Visualise the percentage variation of spend and impressions across all channels for the period 07/07/2019 to 03/08/2019"
   ]
  },
  {
   "cell_type": "code",
   "execution_count": 160,
   "id": "dietary-individual",
   "metadata": {},
   "outputs": [
    {
     "data": {
      "application/vnd.plotly.v1+json": {
       "config": {
        "plotlyServerURL": "https://plot.ly"
       },
       "data": [
        {
         "marker": {
          "color": "rgba(10, 78, 139, 0.6)",
          "line": {
           "color": "rgba(10, 78, 139, 1.0)",
           "width": 3
          }
         },
         "name": "%Spend",
         "text": [
          0,
          8,
          2,
          34,
          3,
          2,
          2,
          48
         ],
         "textposition": "auto",
         "type": "bar",
         "x": [
          "ChannelA1",
          "ChannelA2",
          "ChannelA3",
          "ChannelA4",
          "ChannelA5",
          "ChannelB1",
          "ChannelB2",
          "ChannelB3"
         ],
         "y": [
          0,
          8,
          2,
          34,
          3,
          2,
          2,
          48
         ]
        },
        {
         "marker": {
          "color": "rgba(58, 71, 80, 0.6)",
          "line": {
           "color": "rgba(58, 71, 80, 1.0)",
           "width": 3
          }
         },
         "name": "%Impression",
         "text": [
          11,
          8,
          2,
          23,
          5,
          10,
          19,
          23
         ],
         "textposition": "auto",
         "type": "bar",
         "x": [
          "ChannelA1",
          "ChannelA2",
          "ChannelA3",
          "ChannelA4",
          "ChannelA5",
          "ChannelB1",
          "ChannelB2",
          "ChannelB3"
         ],
         "y": [
          11,
          8,
          2,
          23,
          5,
          10,
          19,
          23
         ]
        }
       ],
       "layout": {
        "barmode": "group",
        "template": {
         "data": {
          "bar": [
           {
            "error_x": {
             "color": "#2a3f5f"
            },
            "error_y": {
             "color": "#2a3f5f"
            },
            "marker": {
             "line": {
              "color": "#E5ECF6",
              "width": 0.5
             }
            },
            "type": "bar"
           }
          ],
          "barpolar": [
           {
            "marker": {
             "line": {
              "color": "#E5ECF6",
              "width": 0.5
             }
            },
            "type": "barpolar"
           }
          ],
          "carpet": [
           {
            "aaxis": {
             "endlinecolor": "#2a3f5f",
             "gridcolor": "white",
             "linecolor": "white",
             "minorgridcolor": "white",
             "startlinecolor": "#2a3f5f"
            },
            "baxis": {
             "endlinecolor": "#2a3f5f",
             "gridcolor": "white",
             "linecolor": "white",
             "minorgridcolor": "white",
             "startlinecolor": "#2a3f5f"
            },
            "type": "carpet"
           }
          ],
          "choropleth": [
           {
            "colorbar": {
             "outlinewidth": 0,
             "ticks": ""
            },
            "type": "choropleth"
           }
          ],
          "contour": [
           {
            "colorbar": {
             "outlinewidth": 0,
             "ticks": ""
            },
            "colorscale": [
             [
              0,
              "#0d0887"
             ],
             [
              0.1111111111111111,
              "#46039f"
             ],
             [
              0.2222222222222222,
              "#7201a8"
             ],
             [
              0.3333333333333333,
              "#9c179e"
             ],
             [
              0.4444444444444444,
              "#bd3786"
             ],
             [
              0.5555555555555556,
              "#d8576b"
             ],
             [
              0.6666666666666666,
              "#ed7953"
             ],
             [
              0.7777777777777778,
              "#fb9f3a"
             ],
             [
              0.8888888888888888,
              "#fdca26"
             ],
             [
              1,
              "#f0f921"
             ]
            ],
            "type": "contour"
           }
          ],
          "contourcarpet": [
           {
            "colorbar": {
             "outlinewidth": 0,
             "ticks": ""
            },
            "type": "contourcarpet"
           }
          ],
          "heatmap": [
           {
            "colorbar": {
             "outlinewidth": 0,
             "ticks": ""
            },
            "colorscale": [
             [
              0,
              "#0d0887"
             ],
             [
              0.1111111111111111,
              "#46039f"
             ],
             [
              0.2222222222222222,
              "#7201a8"
             ],
             [
              0.3333333333333333,
              "#9c179e"
             ],
             [
              0.4444444444444444,
              "#bd3786"
             ],
             [
              0.5555555555555556,
              "#d8576b"
             ],
             [
              0.6666666666666666,
              "#ed7953"
             ],
             [
              0.7777777777777778,
              "#fb9f3a"
             ],
             [
              0.8888888888888888,
              "#fdca26"
             ],
             [
              1,
              "#f0f921"
             ]
            ],
            "type": "heatmap"
           }
          ],
          "heatmapgl": [
           {
            "colorbar": {
             "outlinewidth": 0,
             "ticks": ""
            },
            "colorscale": [
             [
              0,
              "#0d0887"
             ],
             [
              0.1111111111111111,
              "#46039f"
             ],
             [
              0.2222222222222222,
              "#7201a8"
             ],
             [
              0.3333333333333333,
              "#9c179e"
             ],
             [
              0.4444444444444444,
              "#bd3786"
             ],
             [
              0.5555555555555556,
              "#d8576b"
             ],
             [
              0.6666666666666666,
              "#ed7953"
             ],
             [
              0.7777777777777778,
              "#fb9f3a"
             ],
             [
              0.8888888888888888,
              "#fdca26"
             ],
             [
              1,
              "#f0f921"
             ]
            ],
            "type": "heatmapgl"
           }
          ],
          "histogram": [
           {
            "marker": {
             "colorbar": {
              "outlinewidth": 0,
              "ticks": ""
             }
            },
            "type": "histogram"
           }
          ],
          "histogram2d": [
           {
            "colorbar": {
             "outlinewidth": 0,
             "ticks": ""
            },
            "colorscale": [
             [
              0,
              "#0d0887"
             ],
             [
              0.1111111111111111,
              "#46039f"
             ],
             [
              0.2222222222222222,
              "#7201a8"
             ],
             [
              0.3333333333333333,
              "#9c179e"
             ],
             [
              0.4444444444444444,
              "#bd3786"
             ],
             [
              0.5555555555555556,
              "#d8576b"
             ],
             [
              0.6666666666666666,
              "#ed7953"
             ],
             [
              0.7777777777777778,
              "#fb9f3a"
             ],
             [
              0.8888888888888888,
              "#fdca26"
             ],
             [
              1,
              "#f0f921"
             ]
            ],
            "type": "histogram2d"
           }
          ],
          "histogram2dcontour": [
           {
            "colorbar": {
             "outlinewidth": 0,
             "ticks": ""
            },
            "colorscale": [
             [
              0,
              "#0d0887"
             ],
             [
              0.1111111111111111,
              "#46039f"
             ],
             [
              0.2222222222222222,
              "#7201a8"
             ],
             [
              0.3333333333333333,
              "#9c179e"
             ],
             [
              0.4444444444444444,
              "#bd3786"
             ],
             [
              0.5555555555555556,
              "#d8576b"
             ],
             [
              0.6666666666666666,
              "#ed7953"
             ],
             [
              0.7777777777777778,
              "#fb9f3a"
             ],
             [
              0.8888888888888888,
              "#fdca26"
             ],
             [
              1,
              "#f0f921"
             ]
            ],
            "type": "histogram2dcontour"
           }
          ],
          "mesh3d": [
           {
            "colorbar": {
             "outlinewidth": 0,
             "ticks": ""
            },
            "type": "mesh3d"
           }
          ],
          "parcoords": [
           {
            "line": {
             "colorbar": {
              "outlinewidth": 0,
              "ticks": ""
             }
            },
            "type": "parcoords"
           }
          ],
          "pie": [
           {
            "automargin": true,
            "type": "pie"
           }
          ],
          "scatter": [
           {
            "marker": {
             "colorbar": {
              "outlinewidth": 0,
              "ticks": ""
             }
            },
            "type": "scatter"
           }
          ],
          "scatter3d": [
           {
            "line": {
             "colorbar": {
              "outlinewidth": 0,
              "ticks": ""
             }
            },
            "marker": {
             "colorbar": {
              "outlinewidth": 0,
              "ticks": ""
             }
            },
            "type": "scatter3d"
           }
          ],
          "scattercarpet": [
           {
            "marker": {
             "colorbar": {
              "outlinewidth": 0,
              "ticks": ""
             }
            },
            "type": "scattercarpet"
           }
          ],
          "scattergeo": [
           {
            "marker": {
             "colorbar": {
              "outlinewidth": 0,
              "ticks": ""
             }
            },
            "type": "scattergeo"
           }
          ],
          "scattergl": [
           {
            "marker": {
             "colorbar": {
              "outlinewidth": 0,
              "ticks": ""
             }
            },
            "type": "scattergl"
           }
          ],
          "scattermapbox": [
           {
            "marker": {
             "colorbar": {
              "outlinewidth": 0,
              "ticks": ""
             }
            },
            "type": "scattermapbox"
           }
          ],
          "scatterpolar": [
           {
            "marker": {
             "colorbar": {
              "outlinewidth": 0,
              "ticks": ""
             }
            },
            "type": "scatterpolar"
           }
          ],
          "scatterpolargl": [
           {
            "marker": {
             "colorbar": {
              "outlinewidth": 0,
              "ticks": ""
             }
            },
            "type": "scatterpolargl"
           }
          ],
          "scatterternary": [
           {
            "marker": {
             "colorbar": {
              "outlinewidth": 0,
              "ticks": ""
             }
            },
            "type": "scatterternary"
           }
          ],
          "surface": [
           {
            "colorbar": {
             "outlinewidth": 0,
             "ticks": ""
            },
            "colorscale": [
             [
              0,
              "#0d0887"
             ],
             [
              0.1111111111111111,
              "#46039f"
             ],
             [
              0.2222222222222222,
              "#7201a8"
             ],
             [
              0.3333333333333333,
              "#9c179e"
             ],
             [
              0.4444444444444444,
              "#bd3786"
             ],
             [
              0.5555555555555556,
              "#d8576b"
             ],
             [
              0.6666666666666666,
              "#ed7953"
             ],
             [
              0.7777777777777778,
              "#fb9f3a"
             ],
             [
              0.8888888888888888,
              "#fdca26"
             ],
             [
              1,
              "#f0f921"
             ]
            ],
            "type": "surface"
           }
          ],
          "table": [
           {
            "cells": {
             "fill": {
              "color": "#EBF0F8"
             },
             "line": {
              "color": "white"
             }
            },
            "header": {
             "fill": {
              "color": "#C8D4E3"
             },
             "line": {
              "color": "white"
             }
            },
            "type": "table"
           }
          ]
         },
         "layout": {
          "annotationdefaults": {
           "arrowcolor": "#2a3f5f",
           "arrowhead": 0,
           "arrowwidth": 1
          },
          "autotypenumbers": "strict",
          "coloraxis": {
           "colorbar": {
            "outlinewidth": 0,
            "ticks": ""
           }
          },
          "colorscale": {
           "diverging": [
            [
             0,
             "#8e0152"
            ],
            [
             0.1,
             "#c51b7d"
            ],
            [
             0.2,
             "#de77ae"
            ],
            [
             0.3,
             "#f1b6da"
            ],
            [
             0.4,
             "#fde0ef"
            ],
            [
             0.5,
             "#f7f7f7"
            ],
            [
             0.6,
             "#e6f5d0"
            ],
            [
             0.7,
             "#b8e186"
            ],
            [
             0.8,
             "#7fbc41"
            ],
            [
             0.9,
             "#4d9221"
            ],
            [
             1,
             "#276419"
            ]
           ],
           "sequential": [
            [
             0,
             "#0d0887"
            ],
            [
             0.1111111111111111,
             "#46039f"
            ],
            [
             0.2222222222222222,
             "#7201a8"
            ],
            [
             0.3333333333333333,
             "#9c179e"
            ],
            [
             0.4444444444444444,
             "#bd3786"
            ],
            [
             0.5555555555555556,
             "#d8576b"
            ],
            [
             0.6666666666666666,
             "#ed7953"
            ],
            [
             0.7777777777777778,
             "#fb9f3a"
            ],
            [
             0.8888888888888888,
             "#fdca26"
            ],
            [
             1,
             "#f0f921"
            ]
           ],
           "sequentialminus": [
            [
             0,
             "#0d0887"
            ],
            [
             0.1111111111111111,
             "#46039f"
            ],
            [
             0.2222222222222222,
             "#7201a8"
            ],
            [
             0.3333333333333333,
             "#9c179e"
            ],
            [
             0.4444444444444444,
             "#bd3786"
            ],
            [
             0.5555555555555556,
             "#d8576b"
            ],
            [
             0.6666666666666666,
             "#ed7953"
            ],
            [
             0.7777777777777778,
             "#fb9f3a"
            ],
            [
             0.8888888888888888,
             "#fdca26"
            ],
            [
             1,
             "#f0f921"
            ]
           ]
          },
          "colorway": [
           "#636efa",
           "#EF553B",
           "#00cc96",
           "#ab63fa",
           "#FFA15A",
           "#19d3f3",
           "#FF6692",
           "#B6E880",
           "#FF97FF",
           "#FECB52"
          ],
          "font": {
           "color": "#2a3f5f"
          },
          "geo": {
           "bgcolor": "white",
           "lakecolor": "white",
           "landcolor": "#E5ECF6",
           "showlakes": true,
           "showland": true,
           "subunitcolor": "white"
          },
          "hoverlabel": {
           "align": "left"
          },
          "hovermode": "closest",
          "mapbox": {
           "style": "light"
          },
          "paper_bgcolor": "white",
          "plot_bgcolor": "#E5ECF6",
          "polar": {
           "angularaxis": {
            "gridcolor": "white",
            "linecolor": "white",
            "ticks": ""
           },
           "bgcolor": "#E5ECF6",
           "radialaxis": {
            "gridcolor": "white",
            "linecolor": "white",
            "ticks": ""
           }
          },
          "scene": {
           "xaxis": {
            "backgroundcolor": "#E5ECF6",
            "gridcolor": "white",
            "gridwidth": 2,
            "linecolor": "white",
            "showbackground": true,
            "ticks": "",
            "zerolinecolor": "white"
           },
           "yaxis": {
            "backgroundcolor": "#E5ECF6",
            "gridcolor": "white",
            "gridwidth": 2,
            "linecolor": "white",
            "showbackground": true,
            "ticks": "",
            "zerolinecolor": "white"
           },
           "zaxis": {
            "backgroundcolor": "#E5ECF6",
            "gridcolor": "white",
            "gridwidth": 2,
            "linecolor": "white",
            "showbackground": true,
            "ticks": "",
            "zerolinecolor": "white"
           }
          },
          "shapedefaults": {
           "line": {
            "color": "#2a3f5f"
           }
          },
          "ternary": {
           "aaxis": {
            "gridcolor": "white",
            "linecolor": "white",
            "ticks": ""
           },
           "baxis": {
            "gridcolor": "white",
            "linecolor": "white",
            "ticks": ""
           },
           "bgcolor": "#E5ECF6",
           "caxis": {
            "gridcolor": "white",
            "linecolor": "white",
            "ticks": ""
           }
          },
          "title": {
           "x": 0.05
          },
          "xaxis": {
           "automargin": true,
           "gridcolor": "white",
           "linecolor": "white",
           "ticks": "",
           "title": {
            "standoff": 15
           },
           "zerolinecolor": "white",
           "zerolinewidth": 2
          },
          "yaxis": {
           "automargin": true,
           "gridcolor": "white",
           "linecolor": "white",
           "ticks": "",
           "title": {
            "standoff": 15
           },
           "zerolinecolor": "white",
           "zerolinewidth": 2
          }
         }
        },
        "title": {
         "text": "% Variation of Spend and Impressions across channels for July and Aug 2019"
        },
        "yaxis": {
         "title": {
          "text": "Percentage(%)"
         }
        }
       }
      },
      "text/html": [
       "<div>                            <div id=\"f7fbbfa3-c438-486e-9d5b-41ffdc630b00\" class=\"plotly-graph-div\" style=\"height:525px; width:100%;\"></div>            <script type=\"text/javascript\">                require([\"plotly\"], function(Plotly) {                    window.PLOTLYENV=window.PLOTLYENV || {};                                    if (document.getElementById(\"f7fbbfa3-c438-486e-9d5b-41ffdc630b00\")) {                    Plotly.newPlot(                        \"f7fbbfa3-c438-486e-9d5b-41ffdc630b00\",                        [{\"marker\": {\"color\": \"rgba(10, 78, 139, 0.6)\", \"line\": {\"color\": \"rgba(10, 78, 139, 1.0)\", \"width\": 3}}, \"name\": \"%Spend\", \"text\": [0.0, 8.0, 2.0, 34.0, 3.0, 2.0, 2.0, 48.0], \"textposition\": \"auto\", \"type\": \"bar\", \"x\": [\"ChannelA1\", \"ChannelA2\", \"ChannelA3\", \"ChannelA4\", \"ChannelA5\", \"ChannelB1\", \"ChannelB2\", \"ChannelB3\"], \"y\": [0.0, 8.0, 2.0, 34.0, 3.0, 2.0, 2.0, 48.0]}, {\"marker\": {\"color\": \"rgba(58, 71, 80, 0.6)\", \"line\": {\"color\": \"rgba(58, 71, 80, 1.0)\", \"width\": 3}}, \"name\": \"%Impression\", \"text\": [11.0, 8.0, 2.0, 23.0, 5.0, 10.0, 19.0, 23.0], \"textposition\": \"auto\", \"type\": \"bar\", \"x\": [\"ChannelA1\", \"ChannelA2\", \"ChannelA3\", \"ChannelA4\", \"ChannelA5\", \"ChannelB1\", \"ChannelB2\", \"ChannelB3\"], \"y\": [11.0, 8.0, 2.0, 23.0, 5.0, 10.0, 19.0, 23.0]}],                        {\"barmode\": \"group\", \"template\": {\"data\": {\"bar\": [{\"error_x\": {\"color\": \"#2a3f5f\"}, \"error_y\": {\"color\": \"#2a3f5f\"}, \"marker\": {\"line\": {\"color\": \"#E5ECF6\", \"width\": 0.5}}, \"type\": \"bar\"}], \"barpolar\": [{\"marker\": {\"line\": {\"color\": \"#E5ECF6\", \"width\": 0.5}}, \"type\": \"barpolar\"}], \"carpet\": [{\"aaxis\": {\"endlinecolor\": \"#2a3f5f\", \"gridcolor\": \"white\", \"linecolor\": \"white\", \"minorgridcolor\": \"white\", \"startlinecolor\": \"#2a3f5f\"}, \"baxis\": {\"endlinecolor\": \"#2a3f5f\", \"gridcolor\": \"white\", \"linecolor\": \"white\", \"minorgridcolor\": \"white\", \"startlinecolor\": \"#2a3f5f\"}, \"type\": \"carpet\"}], \"choropleth\": [{\"colorbar\": {\"outlinewidth\": 0, \"ticks\": \"\"}, \"type\": \"choropleth\"}], \"contour\": [{\"colorbar\": {\"outlinewidth\": 0, \"ticks\": \"\"}, \"colorscale\": [[0.0, \"#0d0887\"], [0.1111111111111111, \"#46039f\"], [0.2222222222222222, \"#7201a8\"], [0.3333333333333333, \"#9c179e\"], [0.4444444444444444, \"#bd3786\"], [0.5555555555555556, \"#d8576b\"], [0.6666666666666666, \"#ed7953\"], [0.7777777777777778, \"#fb9f3a\"], [0.8888888888888888, \"#fdca26\"], [1.0, \"#f0f921\"]], \"type\": \"contour\"}], \"contourcarpet\": [{\"colorbar\": {\"outlinewidth\": 0, \"ticks\": \"\"}, \"type\": \"contourcarpet\"}], \"heatmap\": [{\"colorbar\": {\"outlinewidth\": 0, \"ticks\": \"\"}, \"colorscale\": [[0.0, \"#0d0887\"], [0.1111111111111111, \"#46039f\"], [0.2222222222222222, \"#7201a8\"], [0.3333333333333333, \"#9c179e\"], [0.4444444444444444, \"#bd3786\"], [0.5555555555555556, \"#d8576b\"], [0.6666666666666666, \"#ed7953\"], [0.7777777777777778, \"#fb9f3a\"], [0.8888888888888888, \"#fdca26\"], [1.0, \"#f0f921\"]], \"type\": \"heatmap\"}], \"heatmapgl\": [{\"colorbar\": {\"outlinewidth\": 0, \"ticks\": \"\"}, \"colorscale\": [[0.0, \"#0d0887\"], [0.1111111111111111, \"#46039f\"], [0.2222222222222222, \"#7201a8\"], [0.3333333333333333, \"#9c179e\"], [0.4444444444444444, \"#bd3786\"], [0.5555555555555556, \"#d8576b\"], [0.6666666666666666, \"#ed7953\"], [0.7777777777777778, \"#fb9f3a\"], [0.8888888888888888, \"#fdca26\"], [1.0, \"#f0f921\"]], \"type\": \"heatmapgl\"}], \"histogram\": [{\"marker\": {\"colorbar\": {\"outlinewidth\": 0, \"ticks\": \"\"}}, \"type\": \"histogram\"}], \"histogram2d\": [{\"colorbar\": {\"outlinewidth\": 0, \"ticks\": \"\"}, \"colorscale\": [[0.0, \"#0d0887\"], [0.1111111111111111, \"#46039f\"], [0.2222222222222222, \"#7201a8\"], [0.3333333333333333, \"#9c179e\"], [0.4444444444444444, \"#bd3786\"], [0.5555555555555556, \"#d8576b\"], [0.6666666666666666, \"#ed7953\"], [0.7777777777777778, \"#fb9f3a\"], [0.8888888888888888, \"#fdca26\"], [1.0, \"#f0f921\"]], \"type\": \"histogram2d\"}], \"histogram2dcontour\": [{\"colorbar\": {\"outlinewidth\": 0, \"ticks\": \"\"}, \"colorscale\": [[0.0, \"#0d0887\"], [0.1111111111111111, \"#46039f\"], [0.2222222222222222, \"#7201a8\"], [0.3333333333333333, \"#9c179e\"], [0.4444444444444444, \"#bd3786\"], [0.5555555555555556, \"#d8576b\"], [0.6666666666666666, \"#ed7953\"], [0.7777777777777778, \"#fb9f3a\"], [0.8888888888888888, \"#fdca26\"], [1.0, \"#f0f921\"]], \"type\": \"histogram2dcontour\"}], \"mesh3d\": [{\"colorbar\": {\"outlinewidth\": 0, \"ticks\": \"\"}, \"type\": \"mesh3d\"}], \"parcoords\": [{\"line\": {\"colorbar\": {\"outlinewidth\": 0, \"ticks\": \"\"}}, \"type\": \"parcoords\"}], \"pie\": [{\"automargin\": true, \"type\": \"pie\"}], \"scatter\": [{\"marker\": {\"colorbar\": {\"outlinewidth\": 0, \"ticks\": \"\"}}, \"type\": \"scatter\"}], \"scatter3d\": [{\"line\": {\"colorbar\": {\"outlinewidth\": 0, \"ticks\": \"\"}}, \"marker\": {\"colorbar\": {\"outlinewidth\": 0, \"ticks\": \"\"}}, \"type\": \"scatter3d\"}], \"scattercarpet\": [{\"marker\": {\"colorbar\": {\"outlinewidth\": 0, \"ticks\": \"\"}}, \"type\": \"scattercarpet\"}], \"scattergeo\": [{\"marker\": {\"colorbar\": {\"outlinewidth\": 0, \"ticks\": \"\"}}, \"type\": \"scattergeo\"}], \"scattergl\": [{\"marker\": {\"colorbar\": {\"outlinewidth\": 0, \"ticks\": \"\"}}, \"type\": \"scattergl\"}], \"scattermapbox\": [{\"marker\": {\"colorbar\": {\"outlinewidth\": 0, \"ticks\": \"\"}}, \"type\": \"scattermapbox\"}], \"scatterpolar\": [{\"marker\": {\"colorbar\": {\"outlinewidth\": 0, \"ticks\": \"\"}}, \"type\": \"scatterpolar\"}], \"scatterpolargl\": [{\"marker\": {\"colorbar\": {\"outlinewidth\": 0, \"ticks\": \"\"}}, \"type\": \"scatterpolargl\"}], \"scatterternary\": [{\"marker\": {\"colorbar\": {\"outlinewidth\": 0, \"ticks\": \"\"}}, \"type\": \"scatterternary\"}], \"surface\": [{\"colorbar\": {\"outlinewidth\": 0, \"ticks\": \"\"}, \"colorscale\": [[0.0, \"#0d0887\"], [0.1111111111111111, \"#46039f\"], [0.2222222222222222, \"#7201a8\"], [0.3333333333333333, \"#9c179e\"], [0.4444444444444444, \"#bd3786\"], [0.5555555555555556, \"#d8576b\"], [0.6666666666666666, \"#ed7953\"], [0.7777777777777778, \"#fb9f3a\"], [0.8888888888888888, \"#fdca26\"], [1.0, \"#f0f921\"]], \"type\": \"surface\"}], \"table\": [{\"cells\": {\"fill\": {\"color\": \"#EBF0F8\"}, \"line\": {\"color\": \"white\"}}, \"header\": {\"fill\": {\"color\": \"#C8D4E3\"}, \"line\": {\"color\": \"white\"}}, \"type\": \"table\"}]}, \"layout\": {\"annotationdefaults\": {\"arrowcolor\": \"#2a3f5f\", \"arrowhead\": 0, \"arrowwidth\": 1}, \"autotypenumbers\": \"strict\", \"coloraxis\": {\"colorbar\": {\"outlinewidth\": 0, \"ticks\": \"\"}}, \"colorscale\": {\"diverging\": [[0, \"#8e0152\"], [0.1, \"#c51b7d\"], [0.2, \"#de77ae\"], [0.3, \"#f1b6da\"], [0.4, \"#fde0ef\"], [0.5, \"#f7f7f7\"], [0.6, \"#e6f5d0\"], [0.7, \"#b8e186\"], [0.8, \"#7fbc41\"], [0.9, \"#4d9221\"], [1, \"#276419\"]], \"sequential\": [[0.0, \"#0d0887\"], [0.1111111111111111, \"#46039f\"], [0.2222222222222222, \"#7201a8\"], [0.3333333333333333, \"#9c179e\"], [0.4444444444444444, \"#bd3786\"], [0.5555555555555556, \"#d8576b\"], [0.6666666666666666, \"#ed7953\"], [0.7777777777777778, \"#fb9f3a\"], [0.8888888888888888, \"#fdca26\"], [1.0, \"#f0f921\"]], \"sequentialminus\": [[0.0, \"#0d0887\"], [0.1111111111111111, \"#46039f\"], [0.2222222222222222, \"#7201a8\"], [0.3333333333333333, \"#9c179e\"], [0.4444444444444444, \"#bd3786\"], [0.5555555555555556, \"#d8576b\"], [0.6666666666666666, \"#ed7953\"], [0.7777777777777778, \"#fb9f3a\"], [0.8888888888888888, \"#fdca26\"], [1.0, \"#f0f921\"]]}, \"colorway\": [\"#636efa\", \"#EF553B\", \"#00cc96\", \"#ab63fa\", \"#FFA15A\", \"#19d3f3\", \"#FF6692\", \"#B6E880\", \"#FF97FF\", \"#FECB52\"], \"font\": {\"color\": \"#2a3f5f\"}, \"geo\": {\"bgcolor\": \"white\", \"lakecolor\": \"white\", \"landcolor\": \"#E5ECF6\", \"showlakes\": true, \"showland\": true, \"subunitcolor\": \"white\"}, \"hoverlabel\": {\"align\": \"left\"}, \"hovermode\": \"closest\", \"mapbox\": {\"style\": \"light\"}, \"paper_bgcolor\": \"white\", \"plot_bgcolor\": \"#E5ECF6\", \"polar\": {\"angularaxis\": {\"gridcolor\": \"white\", \"linecolor\": \"white\", \"ticks\": \"\"}, \"bgcolor\": \"#E5ECF6\", \"radialaxis\": {\"gridcolor\": \"white\", \"linecolor\": \"white\", \"ticks\": \"\"}}, \"scene\": {\"xaxis\": {\"backgroundcolor\": \"#E5ECF6\", \"gridcolor\": \"white\", \"gridwidth\": 2, \"linecolor\": \"white\", \"showbackground\": true, \"ticks\": \"\", \"zerolinecolor\": \"white\"}, \"yaxis\": {\"backgroundcolor\": \"#E5ECF6\", \"gridcolor\": \"white\", \"gridwidth\": 2, \"linecolor\": \"white\", \"showbackground\": true, \"ticks\": \"\", \"zerolinecolor\": \"white\"}, \"zaxis\": {\"backgroundcolor\": \"#E5ECF6\", \"gridcolor\": \"white\", \"gridwidth\": 2, \"linecolor\": \"white\", \"showbackground\": true, \"ticks\": \"\", \"zerolinecolor\": \"white\"}}, \"shapedefaults\": {\"line\": {\"color\": \"#2a3f5f\"}}, \"ternary\": {\"aaxis\": {\"gridcolor\": \"white\", \"linecolor\": \"white\", \"ticks\": \"\"}, \"baxis\": {\"gridcolor\": \"white\", \"linecolor\": \"white\", \"ticks\": \"\"}, \"bgcolor\": \"#E5ECF6\", \"caxis\": {\"gridcolor\": \"white\", \"linecolor\": \"white\", \"ticks\": \"\"}}, \"title\": {\"x\": 0.05}, \"xaxis\": {\"automargin\": true, \"gridcolor\": \"white\", \"linecolor\": \"white\", \"ticks\": \"\", \"title\": {\"standoff\": 15}, \"zerolinecolor\": \"white\", \"zerolinewidth\": 2}, \"yaxis\": {\"automargin\": true, \"gridcolor\": \"white\", \"linecolor\": \"white\", \"ticks\": \"\", \"title\": {\"standoff\": 15}, \"zerolinecolor\": \"white\", \"zerolinewidth\": 2}}}, \"title\": {\"text\": \"% Variation of Spend and Impressions across channels for July and Aug 2019\"}, \"yaxis\": {\"title\": {\"text\": \"Percentage(%)\"}}},                        {\"responsive\": true}                    ).then(function(){\n",
       "                            \n",
       "var gd = document.getElementById('f7fbbfa3-c438-486e-9d5b-41ffdc630b00');\n",
       "var x = new MutationObserver(function (mutations, observer) {{\n",
       "        var display = window.getComputedStyle(gd).display;\n",
       "        if (!display || display === 'none') {{\n",
       "            console.log([gd, 'removed!']);\n",
       "            Plotly.purge(gd);\n",
       "            observer.disconnect();\n",
       "        }}\n",
       "}});\n",
       "\n",
       "// Listen for the removal of the full notebook cells\n",
       "var notebookContainer = gd.closest('#notebook-container');\n",
       "if (notebookContainer) {{\n",
       "    x.observe(notebookContainer, {childList: true});\n",
       "}}\n",
       "\n",
       "// Listen for the clearing of the current output cell\n",
       "var outputEl = gd.closest('.output');\n",
       "if (outputEl) {{\n",
       "    x.observe(outputEl, {childList: true});\n",
       "}}\n",
       "\n",
       "                        })                };                });            </script>        </div>"
      ]
     },
     "metadata": {},
     "output_type": "display_data"
    }
   ],
   "source": [
    "fig = go.Figure(data=[go.Bar(name=\"%Spend\",\n",
    "            x=df_july_aug_plot['Channel'], y=df_july_aug_plot['PCT_Spend'].round(0),text=df_july_aug_plot['PCT_Spend'].round(0),\n",
    "            textposition='auto',marker=dict(\n",
    "        color='rgba(10, 78, 139, 0.6)',\n",
    "        line=dict(color='rgba(10, 78, 139, 1.0)', width=3))\n",
    "                            ),\n",
    "            go.Bar(name=\"%Impression\",\n",
    "            x=df_july_aug_plot['Channel'], y=df_july_aug_plot['PCT_Impression'].round(0),text=df_july_aug_plot['PCT_Impression'].round(0),\n",
    "            textposition='auto',marker=dict(\n",
    "        color='rgba(58, 71, 80, 0.6)',\n",
    "        line=dict(color='rgba(58, 71, 80, 1.0)', width=3)\n",
    "    )\n",
    "                  \n",
    "                  ),          \n",
    "            \n",
    "        ])\n",
    "\n",
    "fig.update_layout(title=\"% Variation of Spend and Impressions across channels for July and Aug 2019\",\n",
    "    yaxis_title=\"Percentage(%)\",barmode='group')\n",
    "fig.show()"
   ]
  },
  {
   "cell_type": "code",
   "execution_count": null,
<<<<<<< HEAD
   "id": "renewable-amsterdam",
=======
   "id": "official-graphics",
=======
   "execution_count": null,
   "id": "guilty-entrepreneur",
>>>>>>> main
>>>>>>> main
   "metadata": {},
   "outputs": [],
   "source": []
  }
 ],
 "metadata": {
  "kernelspec": {
   "display_name": "Python 3",
   "language": "python",
   "name": "python3"
  },
  "language_info": {
   "codemirror_mode": {
    "name": "ipython",
    "version": 3
   },
   "file_extension": ".py",
   "mimetype": "text/x-python",
   "name": "python",
   "nbconvert_exporter": "python",
   "pygments_lexer": "ipython3",
   "version": "3.8.8"
  }
 },
 "nbformat": 4,
 "nbformat_minor": 5
}
