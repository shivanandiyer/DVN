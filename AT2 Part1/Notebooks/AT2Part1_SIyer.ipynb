{
 "cells": [
  {
   "cell_type": "markdown",
   "id": "noticed-upgrade",
   "metadata": {},
   "source": [
    "### Import Libraries"
   ]
  },
  {
   "cell_type": "code",
   "execution_count": 126,
   "id": "fancy-karen",
   "metadata": {},
   "outputs": [
    {
     "data": {
      "text/html": [
       "        <script type=\"text/javascript\">\n",
       "        window.PlotlyConfig = {MathJaxConfig: 'local'};\n",
       "        if (window.MathJax) {MathJax.Hub.Config({SVG: {font: \"STIX-Web\"}});}\n",
       "        if (typeof require !== 'undefined') {\n",
       "        require.undef(\"plotly\");\n",
       "        requirejs.config({\n",
       "            paths: {\n",
       "                'plotly': ['https://cdn.plot.ly/plotly-latest.min']\n",
       "            }\n",
       "        });\n",
       "        require(['plotly'], function(Plotly) {\n",
       "            window._Plotly = Plotly;\n",
       "        });\n",
       "        }\n",
       "        </script>\n",
       "        "
      ]
     },
     "metadata": {},
     "output_type": "display_data"
    },
    {
     "data": {
      "text/html": [
       "        <script type=\"text/javascript\">\n",
       "        window.PlotlyConfig = {MathJaxConfig: 'local'};\n",
       "        if (window.MathJax) {MathJax.Hub.Config({SVG: {font: \"STIX-Web\"}});}\n",
       "        if (typeof require !== 'undefined') {\n",
       "        require.undef(\"plotly\");\n",
       "        requirejs.config({\n",
       "            paths: {\n",
       "                'plotly': ['https://cdn.plot.ly/plotly-latest.min']\n",
       "            }\n",
       "        });\n",
       "        require(['plotly'], function(Plotly) {\n",
       "            window._Plotly = Plotly;\n",
       "        });\n",
       "        }\n",
       "        </script>\n",
       "        "
      ]
     },
     "metadata": {},
     "output_type": "display_data"
    }
   ],
   "source": [
    "import pandas as pd\n",
    "from pandas.api.types import CategoricalDtype\n",
    "import matplotlib.pyplot as plt\n",
    "%matplotlib inline\n",
    "\n",
    "\n",
    "import chart_studio.plotly as py\n",
    "import plotly.graph_objs as go\n",
    "from plotly.offline import iplot, init_notebook_mode\n",
    "import plotly.express as px\n",
    "\n",
    "import cufflinks\n",
    "cufflinks.go_offline(connected=True)\n",
    "init_notebook_mode(connected=True)"
   ]
  },
  {
   "cell_type": "markdown",
   "id": "induced-redhead",
   "metadata": {},
   "source": [
    "### Read Data File : Data_PV_SP_IMP.xlsx"
   ]
  },
  {
   "cell_type": "code",
   "execution_count": 127,
   "id": "parental-angola",
   "metadata": {},
   "outputs": [],
   "source": [
    "df = pd.read_excel('/home/shiva/Documents/UTS/02_Courses/DVN/DVN/AT2 Part1/Data/Data PV SP IMP.xlsx')"
   ]
  },
  {
   "cell_type": "code",
   "execution_count": 128,
   "id": "ultimate-bottom",
   "metadata": {},
   "outputs": [
    {
     "name": "stdout",
     "output_type": "stream",
     "text": [
      "<class 'pandas.core.frame.DataFrame'>\n",
      "RangeIndex: 1176 entries, 0 to 1175\n",
      "Data columns (total 9 columns):\n",
      " #   Column      Non-Null Count  Dtype         \n",
      "---  ------      --------------  -----         \n",
      " 0   Date        1176 non-null   datetime64[ns]\n",
      " 1   Hour        1176 non-null   int64         \n",
      " 2   Page Views  1176 non-null   int64         \n",
      " 3   Weekday     1176 non-null   object        \n",
      " 4   Month       1176 non-null   object        \n",
      " 5   NetA_imp    1176 non-null   int64         \n",
      " 6   NetA_spd    1176 non-null   int64         \n",
      " 7   NetB_imp    1176 non-null   int64         \n",
      " 8   NetB_spd    1176 non-null   int64         \n",
      "dtypes: datetime64[ns](1), int64(6), object(2)\n",
      "memory usage: 82.8+ KB\n"
     ]
    }
   ],
   "source": [
    "df.info()"
   ]
  },
  {
   "cell_type": "markdown",
   "id": "approved-cleaners",
   "metadata": {},
   "source": [
    "### Parse Date"
   ]
  },
  {
   "cell_type": "code",
   "execution_count": 129,
   "id": "graduate-disclaimer",
   "metadata": {},
   "outputs": [],
   "source": [
    "df['Date']=df.Date.apply(lambda x: x.strftime(format=\"%Y-%m-%d\"))"
   ]
  },
  {
   "cell_type": "code",
   "execution_count": 130,
   "id": "future-hands",
   "metadata": {},
   "outputs": [
    {
     "data": {
      "text/plain": [
       "array(['2019-07-07', '2019-07-08', '2019-07-09', '2019-07-10',\n",
       "       '2019-07-11', '2019-07-12', '2019-07-13', '2019-07-14',\n",
       "       '2019-07-15', '2019-07-16', '2019-07-17', '2019-07-18',\n",
       "       '2019-07-19', '2019-07-20', '2019-07-21', '2019-07-22',\n",
       "       '2019-07-23', '2019-07-24', '2019-07-25', '2019-07-26',\n",
       "       '2019-07-27', '2019-07-28', '2019-07-29', '2019-07-30',\n",
       "       '2019-07-31', '2019-08-01', '2019-08-02', '2019-08-03',\n",
       "       '2019-08-04', '2019-08-05', '2019-08-06', '2019-08-07',\n",
       "       '2019-08-08', '2019-08-09', '2019-08-10', '2019-08-11',\n",
       "       '2019-08-12', '2019-08-13', '2019-08-14', '2019-08-15',\n",
       "       '2019-08-16', '2019-08-17', '2019-08-18', '2019-08-19',\n",
       "       '2019-08-20', '2019-08-21', '2019-08-22', '2019-08-23',\n",
       "       '2019-08-24'], dtype=object)"
      ]
     },
     "execution_count": 130,
     "metadata": {},
     "output_type": "execute_result"
    }
   ],
   "source": [
    "df['Date'].unique()"
   ]
  },
  {
   "cell_type": "code",
   "execution_count": 131,
   "id": "loved-pennsylvania",
   "metadata": {},
   "outputs": [
    {
     "name": "stdout",
     "output_type": "stream",
     "text": [
      "<class 'pandas.core.frame.DataFrame'>\n",
      "RangeIndex: 1176 entries, 0 to 1175\n",
      "Data columns (total 9 columns):\n",
      " #   Column      Non-Null Count  Dtype \n",
      "---  ------      --------------  ----- \n",
      " 0   Date        1176 non-null   object\n",
      " 1   Hour        1176 non-null   int64 \n",
      " 2   Page Views  1176 non-null   int64 \n",
      " 3   Weekday     1176 non-null   object\n",
      " 4   Month       1176 non-null   object\n",
      " 5   NetA_imp    1176 non-null   int64 \n",
      " 6   NetA_spd    1176 non-null   int64 \n",
      " 7   NetB_imp    1176 non-null   int64 \n",
      " 8   NetB_spd    1176 non-null   int64 \n",
      "dtypes: int64(6), object(3)\n",
      "memory usage: 82.8+ KB\n"
     ]
    }
   ],
   "source": [
    "df.info()"
   ]
  },
  {
   "cell_type": "markdown",
   "id": "alternative-organic",
   "metadata": {},
   "source": [
    "### Read Daypart file into dataframe"
   ]
  },
  {
   "cell_type": "code",
   "execution_count": 132,
   "id": "thousand-highway",
   "metadata": {},
   "outputs": [
    {
     "data": {
      "text/html": [
       "<div>\n",
       "<style scoped>\n",
       "    .dataframe tbody tr th:only-of-type {\n",
       "        vertical-align: middle;\n",
       "    }\n",
       "\n",
       "    .dataframe tbody tr th {\n",
       "        vertical-align: top;\n",
       "    }\n",
       "\n",
       "    .dataframe thead th {\n",
       "        text-align: right;\n",
       "    }\n",
       "</style>\n",
       "<table border=\"1\" class=\"dataframe\">\n",
       "  <thead>\n",
       "    <tr style=\"text-align: right;\">\n",
       "      <th></th>\n",
       "      <th>Hour</th>\n",
       "      <th>Day Part</th>\n",
       "    </tr>\n",
       "  </thead>\n",
       "  <tbody>\n",
       "    <tr>\n",
       "      <th>0</th>\n",
       "      <td>0</td>\n",
       "      <td>Late night</td>\n",
       "    </tr>\n",
       "    <tr>\n",
       "      <th>1</th>\n",
       "      <td>1</td>\n",
       "      <td>Late night</td>\n",
       "    </tr>\n",
       "    <tr>\n",
       "      <th>2</th>\n",
       "      <td>2</td>\n",
       "      <td>Late night</td>\n",
       "    </tr>\n",
       "    <tr>\n",
       "      <th>3</th>\n",
       "      <td>3</td>\n",
       "      <td>Late night</td>\n",
       "    </tr>\n",
       "    <tr>\n",
       "      <th>4</th>\n",
       "      <td>4</td>\n",
       "      <td>Early Morning</td>\n",
       "    </tr>\n",
       "    <tr>\n",
       "      <th>5</th>\n",
       "      <td>5</td>\n",
       "      <td>Early Morning</td>\n",
       "    </tr>\n",
       "    <tr>\n",
       "      <th>6</th>\n",
       "      <td>6</td>\n",
       "      <td>Early Morning</td>\n",
       "    </tr>\n",
       "    <tr>\n",
       "      <th>7</th>\n",
       "      <td>7</td>\n",
       "      <td>Morning</td>\n",
       "    </tr>\n",
       "    <tr>\n",
       "      <th>8</th>\n",
       "      <td>8</td>\n",
       "      <td>Morning</td>\n",
       "    </tr>\n",
       "    <tr>\n",
       "      <th>9</th>\n",
       "      <td>9</td>\n",
       "      <td>Morning</td>\n",
       "    </tr>\n",
       "    <tr>\n",
       "      <th>10</th>\n",
       "      <td>10</td>\n",
       "      <td>Morning</td>\n",
       "    </tr>\n",
       "    <tr>\n",
       "      <th>11</th>\n",
       "      <td>11</td>\n",
       "      <td>Morning</td>\n",
       "    </tr>\n",
       "    <tr>\n",
       "      <th>12</th>\n",
       "      <td>12</td>\n",
       "      <td>Afternoon</td>\n",
       "    </tr>\n",
       "    <tr>\n",
       "      <th>13</th>\n",
       "      <td>13</td>\n",
       "      <td>Afternoon</td>\n",
       "    </tr>\n",
       "    <tr>\n",
       "      <th>14</th>\n",
       "      <td>14</td>\n",
       "      <td>Afternoon</td>\n",
       "    </tr>\n",
       "    <tr>\n",
       "      <th>15</th>\n",
       "      <td>15</td>\n",
       "      <td>Late Afternoon</td>\n",
       "    </tr>\n",
       "    <tr>\n",
       "      <th>16</th>\n",
       "      <td>16</td>\n",
       "      <td>Late Afternoon</td>\n",
       "    </tr>\n",
       "    <tr>\n",
       "      <th>17</th>\n",
       "      <td>17</td>\n",
       "      <td>Evening</td>\n",
       "    </tr>\n",
       "    <tr>\n",
       "      <th>18</th>\n",
       "      <td>18</td>\n",
       "      <td>Evening</td>\n",
       "    </tr>\n",
       "    <tr>\n",
       "      <th>19</th>\n",
       "      <td>19</td>\n",
       "      <td>Evening</td>\n",
       "    </tr>\n",
       "    <tr>\n",
       "      <th>20</th>\n",
       "      <td>20</td>\n",
       "      <td>Evening</td>\n",
       "    </tr>\n",
       "    <tr>\n",
       "      <th>21</th>\n",
       "      <td>21</td>\n",
       "      <td>Night</td>\n",
       "    </tr>\n",
       "    <tr>\n",
       "      <th>22</th>\n",
       "      <td>22</td>\n",
       "      <td>Night</td>\n",
       "    </tr>\n",
       "    <tr>\n",
       "      <th>23</th>\n",
       "      <td>23</td>\n",
       "      <td>Night</td>\n",
       "    </tr>\n",
       "  </tbody>\n",
       "</table>\n",
       "</div>"
      ],
      "text/plain": [
       "    Hour        Day Part\n",
       "0      0      Late night\n",
       "1      1      Late night\n",
       "2      2      Late night\n",
       "3      3      Late night\n",
       "4      4   Early Morning\n",
       "5      5   Early Morning\n",
       "6      6   Early Morning\n",
       "7      7        Morning \n",
       "8      8        Morning \n",
       "9      9        Morning \n",
       "10    10        Morning \n",
       "11    11        Morning \n",
       "12    12       Afternoon\n",
       "13    13       Afternoon\n",
       "14    14       Afternoon\n",
       "15    15  Late Afternoon\n",
       "16    16  Late Afternoon\n",
       "17    17         Evening\n",
       "18    18         Evening\n",
       "19    19         Evening\n",
       "20    20         Evening\n",
       "21    21           Night\n",
       "22    22           Night\n",
       "23    23           Night"
      ]
     },
     "execution_count": 132,
     "metadata": {},
     "output_type": "execute_result"
    }
   ],
   "source": [
    "df_daypart = pd.read_excel('/home/shiva/Documents/UTS/02_Courses/DVN/DVN/AT2 Part1/Data/Daypart.xlsx')\n",
    "df_daypart"
   ]
  },
  {
   "cell_type": "code",
   "execution_count": 133,
   "id": "hollow-glenn",
   "metadata": {},
   "outputs": [],
   "source": [
    "cats = [ 'Mon', 'Tue', 'Wed', 'Thu', 'Fri', 'Sat', 'Sun']\n",
    "\n",
    "cat_type = CategoricalDtype(categories=cats, ordered=True)\n",
    "df['Weekday'] = df['Weekday'].astype(cat_type)\n",
    "\n",
    "\n",
    "#df['Weekday'] = df['Weekday'].astype('category', categories=cats, ordered=True)"
   ]
  },
  {
   "cell_type": "markdown",
   "id": "scientific-assessment",
   "metadata": {},
   "source": [
    "### Prepare data for plotting - Summarise Weekly Avg's"
   ]
  },
  {
   "cell_type": "code",
   "execution_count": 134,
   "id": "approximate-sentence",
   "metadata": {},
   "outputs": [],
   "source": [
    "df_plot=df.groupby(['Weekday'])[['Page Views', 'NetA_imp','NetA_spd'\\\n",
    "                                         , 'NetB_imp', 'NetB_spd']].mean().round(2).reset_index()"
   ]
  },
  {
   "cell_type": "code",
   "execution_count": 135,
   "id": "continuous-caution",
   "metadata": {},
   "outputs": [
    {
     "data": {
      "text/html": [
       "<div>\n",
       "<style scoped>\n",
       "    .dataframe tbody tr th:only-of-type {\n",
       "        vertical-align: middle;\n",
       "    }\n",
       "\n",
       "    .dataframe tbody tr th {\n",
       "        vertical-align: top;\n",
       "    }\n",
       "\n",
       "    .dataframe thead th {\n",
       "        text-align: right;\n",
       "    }\n",
       "</style>\n",
       "<table border=\"1\" class=\"dataframe\">\n",
       "  <thead>\n",
       "    <tr style=\"text-align: right;\">\n",
       "      <th></th>\n",
       "      <th>Weekday</th>\n",
       "      <th>Page Views</th>\n",
       "      <th>NetA_imp</th>\n",
       "      <th>NetA_spd</th>\n",
       "      <th>NetB_imp</th>\n",
       "      <th>NetB_spd</th>\n",
       "    </tr>\n",
       "  </thead>\n",
       "  <tbody>\n",
       "    <tr>\n",
       "      <th>0</th>\n",
       "      <td>Mon</td>\n",
       "      <td>159.83</td>\n",
       "      <td>7.29</td>\n",
       "      <td>171.46</td>\n",
       "      <td>5.98</td>\n",
       "      <td>149.20</td>\n",
       "    </tr>\n",
       "    <tr>\n",
       "      <th>1</th>\n",
       "      <td>Tue</td>\n",
       "      <td>141.18</td>\n",
       "      <td>6.74</td>\n",
       "      <td>56.57</td>\n",
       "      <td>7.85</td>\n",
       "      <td>174.62</td>\n",
       "    </tr>\n",
       "    <tr>\n",
       "      <th>2</th>\n",
       "      <td>Wed</td>\n",
       "      <td>141.37</td>\n",
       "      <td>3.76</td>\n",
       "      <td>88.20</td>\n",
       "      <td>6.22</td>\n",
       "      <td>117.10</td>\n",
       "    </tr>\n",
       "    <tr>\n",
       "      <th>3</th>\n",
       "      <td>Thu</td>\n",
       "      <td>134.17</td>\n",
       "      <td>5.23</td>\n",
       "      <td>162.33</td>\n",
       "      <td>4.33</td>\n",
       "      <td>87.55</td>\n",
       "    </tr>\n",
       "    <tr>\n",
       "      <th>4</th>\n",
       "      <td>Fri</td>\n",
       "      <td>128.02</td>\n",
       "      <td>2.69</td>\n",
       "      <td>85.91</td>\n",
       "      <td>4.82</td>\n",
       "      <td>104.48</td>\n",
       "    </tr>\n",
       "  </tbody>\n",
       "</table>\n",
       "</div>"
      ],
      "text/plain": [
       "  Weekday  Page Views  NetA_imp  NetA_spd  NetB_imp  NetB_spd\n",
       "0     Mon      159.83      7.29    171.46      5.98    149.20\n",
       "1     Tue      141.18      6.74     56.57      7.85    174.62\n",
       "2     Wed      141.37      3.76     88.20      6.22    117.10\n",
       "3     Thu      134.17      5.23    162.33      4.33     87.55\n",
       "4     Fri      128.02      2.69     85.91      4.82    104.48"
      ]
     },
     "execution_count": 135,
     "metadata": {},
     "output_type": "execute_result"
    }
   ],
   "source": [
    "df_plot.head()"
   ]
  },
  {
   "cell_type": "markdown",
   "id": "legislative-mathematics",
   "metadata": {},
   "source": [
    "### Prepare data for plotting - Summarise by Date(Sum)"
   ]
  },
  {
   "cell_type": "code",
   "execution_count": 136,
   "id": "heavy-seventh",
   "metadata": {},
   "outputs": [
    {
     "data": {
      "text/html": [
       "<div>\n",
       "<style scoped>\n",
       "    .dataframe tbody tr th:only-of-type {\n",
       "        vertical-align: middle;\n",
       "    }\n",
       "\n",
       "    .dataframe tbody tr th {\n",
       "        vertical-align: top;\n",
       "    }\n",
       "\n",
       "    .dataframe thead th {\n",
       "        text-align: right;\n",
       "    }\n",
       "</style>\n",
       "<table border=\"1\" class=\"dataframe\">\n",
       "  <thead>\n",
       "    <tr style=\"text-align: right;\">\n",
       "      <th></th>\n",
       "      <th>Date</th>\n",
       "      <th>Page Views</th>\n",
       "      <th>NetA_imp</th>\n",
       "      <th>NetA_spd</th>\n",
       "      <th>NetB_imp</th>\n",
       "      <th>NetB_spd</th>\n",
       "    </tr>\n",
       "  </thead>\n",
       "  <tbody>\n",
       "    <tr>\n",
       "      <th>25</th>\n",
       "      <td>2019-08-01</td>\n",
       "      <td>2783</td>\n",
       "      <td>2</td>\n",
       "      <td>137</td>\n",
       "      <td>33</td>\n",
       "      <td>913</td>\n",
       "    </tr>\n",
       "    <tr>\n",
       "      <th>26</th>\n",
       "      <td>2019-08-02</td>\n",
       "      <td>2658</td>\n",
       "      <td>40</td>\n",
       "      <td>823</td>\n",
       "      <td>0</td>\n",
       "      <td>0</td>\n",
       "    </tr>\n",
       "    <tr>\n",
       "      <th>27</th>\n",
       "      <td>2019-08-03</td>\n",
       "      <td>2748</td>\n",
       "      <td>21</td>\n",
       "      <td>405</td>\n",
       "      <td>42</td>\n",
       "      <td>1170</td>\n",
       "    </tr>\n",
       "    <tr>\n",
       "      <th>28</th>\n",
       "      <td>2019-08-04</td>\n",
       "      <td>3000</td>\n",
       "      <td>83</td>\n",
       "      <td>2134</td>\n",
       "      <td>56</td>\n",
       "      <td>2018</td>\n",
       "    </tr>\n",
       "    <tr>\n",
       "      <th>29</th>\n",
       "      <td>2019-08-05</td>\n",
       "      <td>3256</td>\n",
       "      <td>146</td>\n",
       "      <td>4025</td>\n",
       "      <td>218</td>\n",
       "      <td>7783</td>\n",
       "    </tr>\n",
       "  </tbody>\n",
       "</table>\n",
       "</div>"
      ],
      "text/plain": [
       "          Date  Page Views  NetA_imp  NetA_spd  NetB_imp  NetB_spd\n",
       "25  2019-08-01        2783         2       137        33       913\n",
       "26  2019-08-02        2658        40       823         0         0\n",
       "27  2019-08-03        2748        21       405        42      1170\n",
       "28  2019-08-04        3000        83      2134        56      2018\n",
       "29  2019-08-05        3256       146      4025       218      7783"
      ]
     },
     "execution_count": 136,
     "metadata": {},
     "output_type": "execute_result"
    }
   ],
   "source": [
    "df_daily_agg=df.groupby(['Date'])[['Page Views', 'NetA_imp','NetA_spd'\\\n",
    "                                         , 'NetB_imp', 'NetB_spd']].sum().reset_index()\n",
    "\n",
    "df_daily_agg_aug = df_daily_agg[df_daily_agg['Date'] >= '2019-08-01']\n",
    "\n",
    "df_daily_agg_aug.head()"
   ]
  },
  {
   "cell_type": "markdown",
   "id": "social-grass",
   "metadata": {},
   "source": [
    "### Q1 - Total Impressions For Aug 2019"
   ]
  },
  {
   "cell_type": "code",
   "execution_count": 137,
   "id": "jewish-while",
   "metadata": {},
   "outputs": [
    {
     "data": {
      "application/vnd.plotly.v1+json": {
       "config": {
        "plotlyServerURL": "https://plot.ly"
       },
       "data": [
        {
         "marker": {
          "color": "rgba(100, 78, 139, 0.6)",
          "line": {
           "color": "rgba(100, 78, 139, 1.0)",
           "width": 3
          }
         },
         "name": "NetA_imp",
         "text": [
          2,
          40,
          21,
          83,
          146,
          51,
          84,
          193,
          49,
          78,
          158,
          196,
          94,
          72,
          208,
          24,
          52,
          185,
          154,
          71,
          70,
          84,
          140,
          94
         ],
         "textposition": "auto",
         "type": "bar",
         "x": [
          "2019-08-01",
          "2019-08-02",
          "2019-08-03",
          "2019-08-04",
          "2019-08-05",
          "2019-08-06",
          "2019-08-07",
          "2019-08-08",
          "2019-08-09",
          "2019-08-10",
          "2019-08-11",
          "2019-08-12",
          "2019-08-13",
          "2019-08-14",
          "2019-08-15",
          "2019-08-16",
          "2019-08-17",
          "2019-08-18",
          "2019-08-19",
          "2019-08-20",
          "2019-08-21",
          "2019-08-22",
          "2019-08-23",
          "2019-08-24"
         ],
         "y": [
          2,
          40,
          21,
          83,
          146,
          51,
          84,
          193,
          49,
          78,
          158,
          196,
          94,
          72,
          208,
          24,
          52,
          185,
          154,
          71,
          70,
          84,
          140,
          94
         ]
        },
        {
         "marker": {
          "color": "rgba(58, 71, 80, 0.6)",
          "line": {
           "color": "rgba(58, 71, 80, 1.0)",
           "width": 3
          }
         },
         "name": "NetB_imp",
         "text": [
          33,
          0,
          42,
          56,
          218,
          170,
          129,
          117,
          134,
          90,
          44,
          130,
          187,
          178,
          111,
          110,
          123,
          156,
          103,
          134,
          136,
          227,
          71,
          139
         ],
         "textposition": "auto",
         "type": "bar",
         "x": [
          "2019-08-01",
          "2019-08-02",
          "2019-08-03",
          "2019-08-04",
          "2019-08-05",
          "2019-08-06",
          "2019-08-07",
          "2019-08-08",
          "2019-08-09",
          "2019-08-10",
          "2019-08-11",
          "2019-08-12",
          "2019-08-13",
          "2019-08-14",
          "2019-08-15",
          "2019-08-16",
          "2019-08-17",
          "2019-08-18",
          "2019-08-19",
          "2019-08-20",
          "2019-08-21",
          "2019-08-22",
          "2019-08-23",
          "2019-08-24"
         ],
         "y": [
          33,
          0,
          42,
          56,
          218,
          170,
          129,
          117,
          134,
          90,
          44,
          130,
          187,
          178,
          111,
          110,
          123,
          156,
          103,
          134,
          136,
          227,
          71,
          139
         ]
        }
       ],
       "layout": {
        "barmode": "stack",
        "template": {
         "data": {
          "bar": [
           {
            "error_x": {
             "color": "#2a3f5f"
            },
            "error_y": {
             "color": "#2a3f5f"
            },
            "marker": {
             "line": {
              "color": "#E5ECF6",
              "width": 0.5
             }
            },
            "type": "bar"
           }
          ],
          "barpolar": [
           {
            "marker": {
             "line": {
              "color": "#E5ECF6",
              "width": 0.5
             }
            },
            "type": "barpolar"
           }
          ],
          "carpet": [
           {
            "aaxis": {
             "endlinecolor": "#2a3f5f",
             "gridcolor": "white",
             "linecolor": "white",
             "minorgridcolor": "white",
             "startlinecolor": "#2a3f5f"
            },
            "baxis": {
             "endlinecolor": "#2a3f5f",
             "gridcolor": "white",
             "linecolor": "white",
             "minorgridcolor": "white",
             "startlinecolor": "#2a3f5f"
            },
            "type": "carpet"
           }
          ],
          "choropleth": [
           {
            "colorbar": {
             "outlinewidth": 0,
             "ticks": ""
            },
            "type": "choropleth"
           }
          ],
          "contour": [
           {
            "colorbar": {
             "outlinewidth": 0,
             "ticks": ""
            },
            "colorscale": [
             [
              0,
              "#0d0887"
             ],
             [
              0.1111111111111111,
              "#46039f"
             ],
             [
              0.2222222222222222,
              "#7201a8"
             ],
             [
              0.3333333333333333,
              "#9c179e"
             ],
             [
              0.4444444444444444,
              "#bd3786"
             ],
             [
              0.5555555555555556,
              "#d8576b"
             ],
             [
              0.6666666666666666,
              "#ed7953"
             ],
             [
              0.7777777777777778,
              "#fb9f3a"
             ],
             [
              0.8888888888888888,
              "#fdca26"
             ],
             [
              1,
              "#f0f921"
             ]
            ],
            "type": "contour"
           }
          ],
          "contourcarpet": [
           {
            "colorbar": {
             "outlinewidth": 0,
             "ticks": ""
            },
            "type": "contourcarpet"
           }
          ],
          "heatmap": [
           {
            "colorbar": {
             "outlinewidth": 0,
             "ticks": ""
            },
            "colorscale": [
             [
              0,
              "#0d0887"
             ],
             [
              0.1111111111111111,
              "#46039f"
             ],
             [
              0.2222222222222222,
              "#7201a8"
             ],
             [
              0.3333333333333333,
              "#9c179e"
             ],
             [
              0.4444444444444444,
              "#bd3786"
             ],
             [
              0.5555555555555556,
              "#d8576b"
             ],
             [
              0.6666666666666666,
              "#ed7953"
             ],
             [
              0.7777777777777778,
              "#fb9f3a"
             ],
             [
              0.8888888888888888,
              "#fdca26"
             ],
             [
              1,
              "#f0f921"
             ]
            ],
            "type": "heatmap"
           }
          ],
          "heatmapgl": [
           {
            "colorbar": {
             "outlinewidth": 0,
             "ticks": ""
            },
            "colorscale": [
             [
              0,
              "#0d0887"
             ],
             [
              0.1111111111111111,
              "#46039f"
             ],
             [
              0.2222222222222222,
              "#7201a8"
             ],
             [
              0.3333333333333333,
              "#9c179e"
             ],
             [
              0.4444444444444444,
              "#bd3786"
             ],
             [
              0.5555555555555556,
              "#d8576b"
             ],
             [
              0.6666666666666666,
              "#ed7953"
             ],
             [
              0.7777777777777778,
              "#fb9f3a"
             ],
             [
              0.8888888888888888,
              "#fdca26"
             ],
             [
              1,
              "#f0f921"
             ]
            ],
            "type": "heatmapgl"
           }
          ],
          "histogram": [
           {
            "marker": {
             "colorbar": {
              "outlinewidth": 0,
              "ticks": ""
             }
            },
            "type": "histogram"
           }
          ],
          "histogram2d": [
           {
            "colorbar": {
             "outlinewidth": 0,
             "ticks": ""
            },
            "colorscale": [
             [
              0,
              "#0d0887"
             ],
             [
              0.1111111111111111,
              "#46039f"
             ],
             [
              0.2222222222222222,
              "#7201a8"
             ],
             [
              0.3333333333333333,
              "#9c179e"
             ],
             [
              0.4444444444444444,
              "#bd3786"
             ],
             [
              0.5555555555555556,
              "#d8576b"
             ],
             [
              0.6666666666666666,
              "#ed7953"
             ],
             [
              0.7777777777777778,
              "#fb9f3a"
             ],
             [
              0.8888888888888888,
              "#fdca26"
             ],
             [
              1,
              "#f0f921"
             ]
            ],
            "type": "histogram2d"
           }
          ],
          "histogram2dcontour": [
           {
            "colorbar": {
             "outlinewidth": 0,
             "ticks": ""
            },
            "colorscale": [
             [
              0,
              "#0d0887"
             ],
             [
              0.1111111111111111,
              "#46039f"
             ],
             [
              0.2222222222222222,
              "#7201a8"
             ],
             [
              0.3333333333333333,
              "#9c179e"
             ],
             [
              0.4444444444444444,
              "#bd3786"
             ],
             [
              0.5555555555555556,
              "#d8576b"
             ],
             [
              0.6666666666666666,
              "#ed7953"
             ],
             [
              0.7777777777777778,
              "#fb9f3a"
             ],
             [
              0.8888888888888888,
              "#fdca26"
             ],
             [
              1,
              "#f0f921"
             ]
            ],
            "type": "histogram2dcontour"
           }
          ],
          "mesh3d": [
           {
            "colorbar": {
             "outlinewidth": 0,
             "ticks": ""
            },
            "type": "mesh3d"
           }
          ],
          "parcoords": [
           {
            "line": {
             "colorbar": {
              "outlinewidth": 0,
              "ticks": ""
             }
            },
            "type": "parcoords"
           }
          ],
          "pie": [
           {
            "automargin": true,
            "type": "pie"
           }
          ],
          "scatter": [
           {
            "marker": {
             "colorbar": {
              "outlinewidth": 0,
              "ticks": ""
             }
            },
            "type": "scatter"
           }
          ],
          "scatter3d": [
           {
            "line": {
             "colorbar": {
              "outlinewidth": 0,
              "ticks": ""
             }
            },
            "marker": {
             "colorbar": {
              "outlinewidth": 0,
              "ticks": ""
             }
            },
            "type": "scatter3d"
           }
          ],
          "scattercarpet": [
           {
            "marker": {
             "colorbar": {
              "outlinewidth": 0,
              "ticks": ""
             }
            },
            "type": "scattercarpet"
           }
          ],
          "scattergeo": [
           {
            "marker": {
             "colorbar": {
              "outlinewidth": 0,
              "ticks": ""
             }
            },
            "type": "scattergeo"
           }
          ],
          "scattergl": [
           {
            "marker": {
             "colorbar": {
              "outlinewidth": 0,
              "ticks": ""
             }
            },
            "type": "scattergl"
           }
          ],
          "scattermapbox": [
           {
            "marker": {
             "colorbar": {
              "outlinewidth": 0,
              "ticks": ""
             }
            },
            "type": "scattermapbox"
           }
          ],
          "scatterpolar": [
           {
            "marker": {
             "colorbar": {
              "outlinewidth": 0,
              "ticks": ""
             }
            },
            "type": "scatterpolar"
           }
          ],
          "scatterpolargl": [
           {
            "marker": {
             "colorbar": {
              "outlinewidth": 0,
              "ticks": ""
             }
            },
            "type": "scatterpolargl"
           }
          ],
          "scatterternary": [
           {
            "marker": {
             "colorbar": {
              "outlinewidth": 0,
              "ticks": ""
             }
            },
            "type": "scatterternary"
           }
          ],
          "surface": [
           {
            "colorbar": {
             "outlinewidth": 0,
             "ticks": ""
            },
            "colorscale": [
             [
              0,
              "#0d0887"
             ],
             [
              0.1111111111111111,
              "#46039f"
             ],
             [
              0.2222222222222222,
              "#7201a8"
             ],
             [
              0.3333333333333333,
              "#9c179e"
             ],
             [
              0.4444444444444444,
              "#bd3786"
             ],
             [
              0.5555555555555556,
              "#d8576b"
             ],
             [
              0.6666666666666666,
              "#ed7953"
             ],
             [
              0.7777777777777778,
              "#fb9f3a"
             ],
             [
              0.8888888888888888,
              "#fdca26"
             ],
             [
              1,
              "#f0f921"
             ]
            ],
            "type": "surface"
           }
          ],
          "table": [
           {
            "cells": {
             "fill": {
              "color": "#EBF0F8"
             },
             "line": {
              "color": "white"
             }
            },
            "header": {
             "fill": {
              "color": "#C8D4E3"
             },
             "line": {
              "color": "white"
             }
            },
            "type": "table"
           }
          ]
         },
         "layout": {
          "annotationdefaults": {
           "arrowcolor": "#2a3f5f",
           "arrowhead": 0,
           "arrowwidth": 1
          },
          "autotypenumbers": "strict",
          "coloraxis": {
           "colorbar": {
            "outlinewidth": 0,
            "ticks": ""
           }
          },
          "colorscale": {
           "diverging": [
            [
             0,
             "#8e0152"
            ],
            [
             0.1,
             "#c51b7d"
            ],
            [
             0.2,
             "#de77ae"
            ],
            [
             0.3,
             "#f1b6da"
            ],
            [
             0.4,
             "#fde0ef"
            ],
            [
             0.5,
             "#f7f7f7"
            ],
            [
             0.6,
             "#e6f5d0"
            ],
            [
             0.7,
             "#b8e186"
            ],
            [
             0.8,
             "#7fbc41"
            ],
            [
             0.9,
             "#4d9221"
            ],
            [
             1,
             "#276419"
            ]
           ],
           "sequential": [
            [
             0,
             "#0d0887"
            ],
            [
             0.1111111111111111,
             "#46039f"
            ],
            [
             0.2222222222222222,
             "#7201a8"
            ],
            [
             0.3333333333333333,
             "#9c179e"
            ],
            [
             0.4444444444444444,
             "#bd3786"
            ],
            [
             0.5555555555555556,
             "#d8576b"
            ],
            [
             0.6666666666666666,
             "#ed7953"
            ],
            [
             0.7777777777777778,
             "#fb9f3a"
            ],
            [
             0.8888888888888888,
             "#fdca26"
            ],
            [
             1,
             "#f0f921"
            ]
           ],
           "sequentialminus": [
            [
             0,
             "#0d0887"
            ],
            [
             0.1111111111111111,
             "#46039f"
            ],
            [
             0.2222222222222222,
             "#7201a8"
            ],
            [
             0.3333333333333333,
             "#9c179e"
            ],
            [
             0.4444444444444444,
             "#bd3786"
            ],
            [
             0.5555555555555556,
             "#d8576b"
            ],
            [
             0.6666666666666666,
             "#ed7953"
            ],
            [
             0.7777777777777778,
             "#fb9f3a"
            ],
            [
             0.8888888888888888,
             "#fdca26"
            ],
            [
             1,
             "#f0f921"
            ]
           ]
          },
          "colorway": [
           "#636efa",
           "#EF553B",
           "#00cc96",
           "#ab63fa",
           "#FFA15A",
           "#19d3f3",
           "#FF6692",
           "#B6E880",
           "#FF97FF",
           "#FECB52"
          ],
          "font": {
           "color": "#2a3f5f"
          },
          "geo": {
           "bgcolor": "white",
           "lakecolor": "white",
           "landcolor": "#E5ECF6",
           "showlakes": true,
           "showland": true,
           "subunitcolor": "white"
          },
          "hoverlabel": {
           "align": "left"
          },
          "hovermode": "closest",
          "mapbox": {
           "style": "light"
          },
          "paper_bgcolor": "white",
          "plot_bgcolor": "#E5ECF6",
          "polar": {
           "angularaxis": {
            "gridcolor": "white",
            "linecolor": "white",
            "ticks": ""
           },
           "bgcolor": "#E5ECF6",
           "radialaxis": {
            "gridcolor": "white",
            "linecolor": "white",
            "ticks": ""
           }
          },
          "scene": {
           "xaxis": {
            "backgroundcolor": "#E5ECF6",
            "gridcolor": "white",
            "gridwidth": 2,
            "linecolor": "white",
            "showbackground": true,
            "ticks": "",
            "zerolinecolor": "white"
           },
           "yaxis": {
            "backgroundcolor": "#E5ECF6",
            "gridcolor": "white",
            "gridwidth": 2,
            "linecolor": "white",
            "showbackground": true,
            "ticks": "",
            "zerolinecolor": "white"
           },
           "zaxis": {
            "backgroundcolor": "#E5ECF6",
            "gridcolor": "white",
            "gridwidth": 2,
            "linecolor": "white",
            "showbackground": true,
            "ticks": "",
            "zerolinecolor": "white"
           }
          },
          "shapedefaults": {
           "line": {
            "color": "#2a3f5f"
           }
          },
          "ternary": {
           "aaxis": {
            "gridcolor": "white",
            "linecolor": "white",
            "ticks": ""
           },
           "baxis": {
            "gridcolor": "white",
            "linecolor": "white",
            "ticks": ""
           },
           "bgcolor": "#E5ECF6",
           "caxis": {
            "gridcolor": "white",
            "linecolor": "white",
            "ticks": ""
           }
          },
          "title": {
           "x": 0.05
          },
          "xaxis": {
           "automargin": true,
           "gridcolor": "white",
           "linecolor": "white",
           "ticks": "",
           "title": {
            "standoff": 15
           },
           "zerolinecolor": "white",
           "zerolinewidth": 2
          },
          "yaxis": {
           "automargin": true,
           "gridcolor": "white",
           "linecolor": "white",
           "ticks": "",
           "title": {
            "standoff": 15
           },
           "zerolinecolor": "white",
           "zerolinewidth": 2
          }
         }
        },
        "title": {
         "text": "Acquired Impressions on networks For August 2019"
        },
        "xaxis": {
         "title": {
          "text": "2019"
         }
        },
        "yaxis": {
         "title": {
          "text": "Impressions (Sum Total)"
         }
        }
       }
      },
      "text/html": [
       "<div>                            <div id=\"50cb9d5c-2814-430e-b159-a518d49dba06\" class=\"plotly-graph-div\" style=\"height:525px; width:100%;\"></div>            <script type=\"text/javascript\">                require([\"plotly\"], function(Plotly) {                    window.PLOTLYENV=window.PLOTLYENV || {};                                    if (document.getElementById(\"50cb9d5c-2814-430e-b159-a518d49dba06\")) {                    Plotly.newPlot(                        \"50cb9d5c-2814-430e-b159-a518d49dba06\",                        [{\"marker\": {\"color\": \"rgba(100, 78, 139, 0.6)\", \"line\": {\"color\": \"rgba(100, 78, 139, 1.0)\", \"width\": 3}}, \"name\": \"NetA_imp\", \"text\": [2.0, 40.0, 21.0, 83.0, 146.0, 51.0, 84.0, 193.0, 49.0, 78.0, 158.0, 196.0, 94.0, 72.0, 208.0, 24.0, 52.0, 185.0, 154.0, 71.0, 70.0, 84.0, 140.0, 94.0], \"textposition\": \"auto\", \"type\": \"bar\", \"x\": [\"2019-08-01\", \"2019-08-02\", \"2019-08-03\", \"2019-08-04\", \"2019-08-05\", \"2019-08-06\", \"2019-08-07\", \"2019-08-08\", \"2019-08-09\", \"2019-08-10\", \"2019-08-11\", \"2019-08-12\", \"2019-08-13\", \"2019-08-14\", \"2019-08-15\", \"2019-08-16\", \"2019-08-17\", \"2019-08-18\", \"2019-08-19\", \"2019-08-20\", \"2019-08-21\", \"2019-08-22\", \"2019-08-23\", \"2019-08-24\"], \"y\": [2, 40, 21, 83, 146, 51, 84, 193, 49, 78, 158, 196, 94, 72, 208, 24, 52, 185, 154, 71, 70, 84, 140, 94]}, {\"marker\": {\"color\": \"rgba(58, 71, 80, 0.6)\", \"line\": {\"color\": \"rgba(58, 71, 80, 1.0)\", \"width\": 3}}, \"name\": \"NetB_imp\", \"text\": [33.0, 0.0, 42.0, 56.0, 218.0, 170.0, 129.0, 117.0, 134.0, 90.0, 44.0, 130.0, 187.0, 178.0, 111.0, 110.0, 123.0, 156.0, 103.0, 134.0, 136.0, 227.0, 71.0, 139.0], \"textposition\": \"auto\", \"type\": \"bar\", \"x\": [\"2019-08-01\", \"2019-08-02\", \"2019-08-03\", \"2019-08-04\", \"2019-08-05\", \"2019-08-06\", \"2019-08-07\", \"2019-08-08\", \"2019-08-09\", \"2019-08-10\", \"2019-08-11\", \"2019-08-12\", \"2019-08-13\", \"2019-08-14\", \"2019-08-15\", \"2019-08-16\", \"2019-08-17\", \"2019-08-18\", \"2019-08-19\", \"2019-08-20\", \"2019-08-21\", \"2019-08-22\", \"2019-08-23\", \"2019-08-24\"], \"y\": [33, 0, 42, 56, 218, 170, 129, 117, 134, 90, 44, 130, 187, 178, 111, 110, 123, 156, 103, 134, 136, 227, 71, 139]}],                        {\"barmode\": \"stack\", \"template\": {\"data\": {\"bar\": [{\"error_x\": {\"color\": \"#2a3f5f\"}, \"error_y\": {\"color\": \"#2a3f5f\"}, \"marker\": {\"line\": {\"color\": \"#E5ECF6\", \"width\": 0.5}}, \"type\": \"bar\"}], \"barpolar\": [{\"marker\": {\"line\": {\"color\": \"#E5ECF6\", \"width\": 0.5}}, \"type\": \"barpolar\"}], \"carpet\": [{\"aaxis\": {\"endlinecolor\": \"#2a3f5f\", \"gridcolor\": \"white\", \"linecolor\": \"white\", \"minorgridcolor\": \"white\", \"startlinecolor\": \"#2a3f5f\"}, \"baxis\": {\"endlinecolor\": \"#2a3f5f\", \"gridcolor\": \"white\", \"linecolor\": \"white\", \"minorgridcolor\": \"white\", \"startlinecolor\": \"#2a3f5f\"}, \"type\": \"carpet\"}], \"choropleth\": [{\"colorbar\": {\"outlinewidth\": 0, \"ticks\": \"\"}, \"type\": \"choropleth\"}], \"contour\": [{\"colorbar\": {\"outlinewidth\": 0, \"ticks\": \"\"}, \"colorscale\": [[0.0, \"#0d0887\"], [0.1111111111111111, \"#46039f\"], [0.2222222222222222, \"#7201a8\"], [0.3333333333333333, \"#9c179e\"], [0.4444444444444444, \"#bd3786\"], [0.5555555555555556, \"#d8576b\"], [0.6666666666666666, \"#ed7953\"], [0.7777777777777778, \"#fb9f3a\"], [0.8888888888888888, \"#fdca26\"], [1.0, \"#f0f921\"]], \"type\": \"contour\"}], \"contourcarpet\": [{\"colorbar\": {\"outlinewidth\": 0, \"ticks\": \"\"}, \"type\": \"contourcarpet\"}], \"heatmap\": [{\"colorbar\": {\"outlinewidth\": 0, \"ticks\": \"\"}, \"colorscale\": [[0.0, \"#0d0887\"], [0.1111111111111111, \"#46039f\"], [0.2222222222222222, \"#7201a8\"], [0.3333333333333333, \"#9c179e\"], [0.4444444444444444, \"#bd3786\"], [0.5555555555555556, \"#d8576b\"], [0.6666666666666666, \"#ed7953\"], [0.7777777777777778, \"#fb9f3a\"], [0.8888888888888888, \"#fdca26\"], [1.0, \"#f0f921\"]], \"type\": \"heatmap\"}], \"heatmapgl\": [{\"colorbar\": {\"outlinewidth\": 0, \"ticks\": \"\"}, \"colorscale\": [[0.0, \"#0d0887\"], [0.1111111111111111, \"#46039f\"], [0.2222222222222222, \"#7201a8\"], [0.3333333333333333, \"#9c179e\"], [0.4444444444444444, \"#bd3786\"], [0.5555555555555556, \"#d8576b\"], [0.6666666666666666, \"#ed7953\"], [0.7777777777777778, \"#fb9f3a\"], [0.8888888888888888, \"#fdca26\"], [1.0, \"#f0f921\"]], \"type\": \"heatmapgl\"}], \"histogram\": [{\"marker\": {\"colorbar\": {\"outlinewidth\": 0, \"ticks\": \"\"}}, \"type\": \"histogram\"}], \"histogram2d\": [{\"colorbar\": {\"outlinewidth\": 0, \"ticks\": \"\"}, \"colorscale\": [[0.0, \"#0d0887\"], [0.1111111111111111, \"#46039f\"], [0.2222222222222222, \"#7201a8\"], [0.3333333333333333, \"#9c179e\"], [0.4444444444444444, \"#bd3786\"], [0.5555555555555556, \"#d8576b\"], [0.6666666666666666, \"#ed7953\"], [0.7777777777777778, \"#fb9f3a\"], [0.8888888888888888, \"#fdca26\"], [1.0, \"#f0f921\"]], \"type\": \"histogram2d\"}], \"histogram2dcontour\": [{\"colorbar\": {\"outlinewidth\": 0, \"ticks\": \"\"}, \"colorscale\": [[0.0, \"#0d0887\"], [0.1111111111111111, \"#46039f\"], [0.2222222222222222, \"#7201a8\"], [0.3333333333333333, \"#9c179e\"], [0.4444444444444444, \"#bd3786\"], [0.5555555555555556, \"#d8576b\"], [0.6666666666666666, \"#ed7953\"], [0.7777777777777778, \"#fb9f3a\"], [0.8888888888888888, \"#fdca26\"], [1.0, \"#f0f921\"]], \"type\": \"histogram2dcontour\"}], \"mesh3d\": [{\"colorbar\": {\"outlinewidth\": 0, \"ticks\": \"\"}, \"type\": \"mesh3d\"}], \"parcoords\": [{\"line\": {\"colorbar\": {\"outlinewidth\": 0, \"ticks\": \"\"}}, \"type\": \"parcoords\"}], \"pie\": [{\"automargin\": true, \"type\": \"pie\"}], \"scatter\": [{\"marker\": {\"colorbar\": {\"outlinewidth\": 0, \"ticks\": \"\"}}, \"type\": \"scatter\"}], \"scatter3d\": [{\"line\": {\"colorbar\": {\"outlinewidth\": 0, \"ticks\": \"\"}}, \"marker\": {\"colorbar\": {\"outlinewidth\": 0, \"ticks\": \"\"}}, \"type\": \"scatter3d\"}], \"scattercarpet\": [{\"marker\": {\"colorbar\": {\"outlinewidth\": 0, \"ticks\": \"\"}}, \"type\": \"scattercarpet\"}], \"scattergeo\": [{\"marker\": {\"colorbar\": {\"outlinewidth\": 0, \"ticks\": \"\"}}, \"type\": \"scattergeo\"}], \"scattergl\": [{\"marker\": {\"colorbar\": {\"outlinewidth\": 0, \"ticks\": \"\"}}, \"type\": \"scattergl\"}], \"scattermapbox\": [{\"marker\": {\"colorbar\": {\"outlinewidth\": 0, \"ticks\": \"\"}}, \"type\": \"scattermapbox\"}], \"scatterpolar\": [{\"marker\": {\"colorbar\": {\"outlinewidth\": 0, \"ticks\": \"\"}}, \"type\": \"scatterpolar\"}], \"scatterpolargl\": [{\"marker\": {\"colorbar\": {\"outlinewidth\": 0, \"ticks\": \"\"}}, \"type\": \"scatterpolargl\"}], \"scatterternary\": [{\"marker\": {\"colorbar\": {\"outlinewidth\": 0, \"ticks\": \"\"}}, \"type\": \"scatterternary\"}], \"surface\": [{\"colorbar\": {\"outlinewidth\": 0, \"ticks\": \"\"}, \"colorscale\": [[0.0, \"#0d0887\"], [0.1111111111111111, \"#46039f\"], [0.2222222222222222, \"#7201a8\"], [0.3333333333333333, \"#9c179e\"], [0.4444444444444444, \"#bd3786\"], [0.5555555555555556, \"#d8576b\"], [0.6666666666666666, \"#ed7953\"], [0.7777777777777778, \"#fb9f3a\"], [0.8888888888888888, \"#fdca26\"], [1.0, \"#f0f921\"]], \"type\": \"surface\"}], \"table\": [{\"cells\": {\"fill\": {\"color\": \"#EBF0F8\"}, \"line\": {\"color\": \"white\"}}, \"header\": {\"fill\": {\"color\": \"#C8D4E3\"}, \"line\": {\"color\": \"white\"}}, \"type\": \"table\"}]}, \"layout\": {\"annotationdefaults\": {\"arrowcolor\": \"#2a3f5f\", \"arrowhead\": 0, \"arrowwidth\": 1}, \"autotypenumbers\": \"strict\", \"coloraxis\": {\"colorbar\": {\"outlinewidth\": 0, \"ticks\": \"\"}}, \"colorscale\": {\"diverging\": [[0, \"#8e0152\"], [0.1, \"#c51b7d\"], [0.2, \"#de77ae\"], [0.3, \"#f1b6da\"], [0.4, \"#fde0ef\"], [0.5, \"#f7f7f7\"], [0.6, \"#e6f5d0\"], [0.7, \"#b8e186\"], [0.8, \"#7fbc41\"], [0.9, \"#4d9221\"], [1, \"#276419\"]], \"sequential\": [[0.0, \"#0d0887\"], [0.1111111111111111, \"#46039f\"], [0.2222222222222222, \"#7201a8\"], [0.3333333333333333, \"#9c179e\"], [0.4444444444444444, \"#bd3786\"], [0.5555555555555556, \"#d8576b\"], [0.6666666666666666, \"#ed7953\"], [0.7777777777777778, \"#fb9f3a\"], [0.8888888888888888, \"#fdca26\"], [1.0, \"#f0f921\"]], \"sequentialminus\": [[0.0, \"#0d0887\"], [0.1111111111111111, \"#46039f\"], [0.2222222222222222, \"#7201a8\"], [0.3333333333333333, \"#9c179e\"], [0.4444444444444444, \"#bd3786\"], [0.5555555555555556, \"#d8576b\"], [0.6666666666666666, \"#ed7953\"], [0.7777777777777778, \"#fb9f3a\"], [0.8888888888888888, \"#fdca26\"], [1.0, \"#f0f921\"]]}, \"colorway\": [\"#636efa\", \"#EF553B\", \"#00cc96\", \"#ab63fa\", \"#FFA15A\", \"#19d3f3\", \"#FF6692\", \"#B6E880\", \"#FF97FF\", \"#FECB52\"], \"font\": {\"color\": \"#2a3f5f\"}, \"geo\": {\"bgcolor\": \"white\", \"lakecolor\": \"white\", \"landcolor\": \"#E5ECF6\", \"showlakes\": true, \"showland\": true, \"subunitcolor\": \"white\"}, \"hoverlabel\": {\"align\": \"left\"}, \"hovermode\": \"closest\", \"mapbox\": {\"style\": \"light\"}, \"paper_bgcolor\": \"white\", \"plot_bgcolor\": \"#E5ECF6\", \"polar\": {\"angularaxis\": {\"gridcolor\": \"white\", \"linecolor\": \"white\", \"ticks\": \"\"}, \"bgcolor\": \"#E5ECF6\", \"radialaxis\": {\"gridcolor\": \"white\", \"linecolor\": \"white\", \"ticks\": \"\"}}, \"scene\": {\"xaxis\": {\"backgroundcolor\": \"#E5ECF6\", \"gridcolor\": \"white\", \"gridwidth\": 2, \"linecolor\": \"white\", \"showbackground\": true, \"ticks\": \"\", \"zerolinecolor\": \"white\"}, \"yaxis\": {\"backgroundcolor\": \"#E5ECF6\", \"gridcolor\": \"white\", \"gridwidth\": 2, \"linecolor\": \"white\", \"showbackground\": true, \"ticks\": \"\", \"zerolinecolor\": \"white\"}, \"zaxis\": {\"backgroundcolor\": \"#E5ECF6\", \"gridcolor\": \"white\", \"gridwidth\": 2, \"linecolor\": \"white\", \"showbackground\": true, \"ticks\": \"\", \"zerolinecolor\": \"white\"}}, \"shapedefaults\": {\"line\": {\"color\": \"#2a3f5f\"}}, \"ternary\": {\"aaxis\": {\"gridcolor\": \"white\", \"linecolor\": \"white\", \"ticks\": \"\"}, \"baxis\": {\"gridcolor\": \"white\", \"linecolor\": \"white\", \"ticks\": \"\"}, \"bgcolor\": \"#E5ECF6\", \"caxis\": {\"gridcolor\": \"white\", \"linecolor\": \"white\", \"ticks\": \"\"}}, \"title\": {\"x\": 0.05}, \"xaxis\": {\"automargin\": true, \"gridcolor\": \"white\", \"linecolor\": \"white\", \"ticks\": \"\", \"title\": {\"standoff\": 15}, \"zerolinecolor\": \"white\", \"zerolinewidth\": 2}, \"yaxis\": {\"automargin\": true, \"gridcolor\": \"white\", \"linecolor\": \"white\", \"ticks\": \"\", \"title\": {\"standoff\": 15}, \"zerolinecolor\": \"white\", \"zerolinewidth\": 2}}}, \"title\": {\"text\": \"Acquired Impressions on networks For August 2019\"}, \"xaxis\": {\"title\": {\"text\": \"2019\"}}, \"yaxis\": {\"title\": {\"text\": \"Impressions (Sum Total)\"}}},                        {\"responsive\": true}                    ).then(function(){\n",
       "                            \n",
       "var gd = document.getElementById('50cb9d5c-2814-430e-b159-a518d49dba06');\n",
       "var x = new MutationObserver(function (mutations, observer) {{\n",
       "        var display = window.getComputedStyle(gd).display;\n",
       "        if (!display || display === 'none') {{\n",
       "            console.log([gd, 'removed!']);\n",
       "            Plotly.purge(gd);\n",
       "            observer.disconnect();\n",
       "        }}\n",
       "}});\n",
       "\n",
       "// Listen for the removal of the full notebook cells\n",
       "var notebookContainer = gd.closest('#notebook-container');\n",
       "if (notebookContainer) {{\n",
       "    x.observe(notebookContainer, {childList: true});\n",
       "}}\n",
       "\n",
       "// Listen for the clearing of the current output cell\n",
       "var outputEl = gd.closest('.output');\n",
       "if (outputEl) {{\n",
       "    x.observe(outputEl, {childList: true});\n",
       "}}\n",
       "\n",
       "                        })                };                });            </script>        </div>"
      ]
     },
     "metadata": {},
     "output_type": "display_data"
    }
   ],
   "source": [
    "fig = go.Figure(data=[go.Bar(name=\"NetA_imp\",\n",
    "            x=df_daily_agg_aug['Date'], y=df_daily_agg_aug['NetA_imp'],text=df_daily_agg_aug['NetA_imp'],\n",
    "            textposition='auto',marker=dict(\n",
    "        color='rgba(100, 78, 139, 0.6)',\n",
    "        line=dict(color='rgba(100, 78, 139, 1.0)', width=3))\n",
    "                            ),\n",
    "            go.Bar(name=\"NetB_imp\",\n",
    "            x=df_daily_agg_aug['Date'], y=df_daily_agg_aug['NetB_imp'],text=df_daily_agg_aug['NetB_imp'],\n",
    "            textposition='auto',marker=dict(\n",
    "        color='rgba(58, 71, 80, 0.6)',\n",
    "        line=dict(color='rgba(58, 71, 80, 1.0)', width=3)\n",
    "    )\n",
    "                  \n",
    "                  ),          \n",
    "            \n",
    "        ])\n",
    "\n",
    "fig.update_layout(title=\"Acquired Impressions on networks For August 2019\",\n",
    "    yaxis_title=\"Impressions (Sum Total)\",xaxis_title='2019',barmode='stack')\n",
    "fig.show()"
   ]
  },
  {
   "cell_type": "markdown",
   "id": "endangered-resident",
   "metadata": {},
   "source": [
    "### Q1 - Average Network Spend"
   ]
  },
  {
   "cell_type": "code",
   "execution_count": 138,
   "id": "amazing-looking",
   "metadata": {},
   "outputs": [
    {
     "data": {
      "application/vnd.plotly.v1+json": {
       "config": {
        "plotlyServerURL": "https://plot.ly"
       },
       "data": [
        {
         "marker": {
          "color": "rgba(100, 78, 139, 0.6)",
          "line": {
           "color": "rgba(100, 78, 139, 1.0)",
           "width": 3
          }
         },
         "name": "NetA_spd",
         "text": [
          171.46,
          56.57,
          88.2,
          162.33,
          85.91,
          40.57,
          122.59
         ],
         "textposition": "auto",
         "type": "bar",
         "x": [
          "Mon",
          "Tue",
          "Wed",
          "Thu",
          "Fri",
          "Sat",
          "Sun"
         ],
         "y": [
          171.46,
          56.57,
          88.2,
          162.33,
          85.91,
          40.57,
          122.59
         ]
        },
        {
         "marker": {
          "color": "rgba(58, 71, 80, 0.6)",
          "line": {
           "color": "rgba(58, 71, 80, 1.0)",
           "width": 3
          }
         },
         "name": "NetB_spd",
         "text": [
          149.2,
          174.62,
          117.1,
          87.55,
          104.48,
          85.96,
          104.02
         ],
         "textposition": "auto",
         "type": "bar",
         "x": [
          "Mon",
          "Tue",
          "Wed",
          "Thu",
          "Fri",
          "Sat",
          "Sun"
         ],
         "y": [
          149.2,
          174.62,
          117.1,
          87.55,
          104.48,
          85.96,
          104.02
         ]
        }
       ],
       "layout": {
        "barmode": "stack",
        "template": {
         "data": {
          "bar": [
           {
            "error_x": {
             "color": "#2a3f5f"
            },
            "error_y": {
             "color": "#2a3f5f"
            },
            "marker": {
             "line": {
              "color": "#E5ECF6",
              "width": 0.5
             }
            },
            "type": "bar"
           }
          ],
          "barpolar": [
           {
            "marker": {
             "line": {
              "color": "#E5ECF6",
              "width": 0.5
             }
            },
            "type": "barpolar"
           }
          ],
          "carpet": [
           {
            "aaxis": {
             "endlinecolor": "#2a3f5f",
             "gridcolor": "white",
             "linecolor": "white",
             "minorgridcolor": "white",
             "startlinecolor": "#2a3f5f"
            },
            "baxis": {
             "endlinecolor": "#2a3f5f",
             "gridcolor": "white",
             "linecolor": "white",
             "minorgridcolor": "white",
             "startlinecolor": "#2a3f5f"
            },
            "type": "carpet"
           }
          ],
          "choropleth": [
           {
            "colorbar": {
             "outlinewidth": 0,
             "ticks": ""
            },
            "type": "choropleth"
           }
          ],
          "contour": [
           {
            "colorbar": {
             "outlinewidth": 0,
             "ticks": ""
            },
            "colorscale": [
             [
              0,
              "#0d0887"
             ],
             [
              0.1111111111111111,
              "#46039f"
             ],
             [
              0.2222222222222222,
              "#7201a8"
             ],
             [
              0.3333333333333333,
              "#9c179e"
             ],
             [
              0.4444444444444444,
              "#bd3786"
             ],
             [
              0.5555555555555556,
              "#d8576b"
             ],
             [
              0.6666666666666666,
              "#ed7953"
             ],
             [
              0.7777777777777778,
              "#fb9f3a"
             ],
             [
              0.8888888888888888,
              "#fdca26"
             ],
             [
              1,
              "#f0f921"
             ]
            ],
            "type": "contour"
           }
          ],
          "contourcarpet": [
           {
            "colorbar": {
             "outlinewidth": 0,
             "ticks": ""
            },
            "type": "contourcarpet"
           }
          ],
          "heatmap": [
           {
            "colorbar": {
             "outlinewidth": 0,
             "ticks": ""
            },
            "colorscale": [
             [
              0,
              "#0d0887"
             ],
             [
              0.1111111111111111,
              "#46039f"
             ],
             [
              0.2222222222222222,
              "#7201a8"
             ],
             [
              0.3333333333333333,
              "#9c179e"
             ],
             [
              0.4444444444444444,
              "#bd3786"
             ],
             [
              0.5555555555555556,
              "#d8576b"
             ],
             [
              0.6666666666666666,
              "#ed7953"
             ],
             [
              0.7777777777777778,
              "#fb9f3a"
             ],
             [
              0.8888888888888888,
              "#fdca26"
             ],
             [
              1,
              "#f0f921"
             ]
            ],
            "type": "heatmap"
           }
          ],
          "heatmapgl": [
           {
            "colorbar": {
             "outlinewidth": 0,
             "ticks": ""
            },
            "colorscale": [
             [
              0,
              "#0d0887"
             ],
             [
              0.1111111111111111,
              "#46039f"
             ],
             [
              0.2222222222222222,
              "#7201a8"
             ],
             [
              0.3333333333333333,
              "#9c179e"
             ],
             [
              0.4444444444444444,
              "#bd3786"
             ],
             [
              0.5555555555555556,
              "#d8576b"
             ],
             [
              0.6666666666666666,
              "#ed7953"
             ],
             [
              0.7777777777777778,
              "#fb9f3a"
             ],
             [
              0.8888888888888888,
              "#fdca26"
             ],
             [
              1,
              "#f0f921"
             ]
            ],
            "type": "heatmapgl"
           }
          ],
          "histogram": [
           {
            "marker": {
             "colorbar": {
              "outlinewidth": 0,
              "ticks": ""
             }
            },
            "type": "histogram"
           }
          ],
          "histogram2d": [
           {
            "colorbar": {
             "outlinewidth": 0,
             "ticks": ""
            },
            "colorscale": [
             [
              0,
              "#0d0887"
             ],
             [
              0.1111111111111111,
              "#46039f"
             ],
             [
              0.2222222222222222,
              "#7201a8"
             ],
             [
              0.3333333333333333,
              "#9c179e"
             ],
             [
              0.4444444444444444,
              "#bd3786"
             ],
             [
              0.5555555555555556,
              "#d8576b"
             ],
             [
              0.6666666666666666,
              "#ed7953"
             ],
             [
              0.7777777777777778,
              "#fb9f3a"
             ],
             [
              0.8888888888888888,
              "#fdca26"
             ],
             [
              1,
              "#f0f921"
             ]
            ],
            "type": "histogram2d"
           }
          ],
          "histogram2dcontour": [
           {
            "colorbar": {
             "outlinewidth": 0,
             "ticks": ""
            },
            "colorscale": [
             [
              0,
              "#0d0887"
             ],
             [
              0.1111111111111111,
              "#46039f"
             ],
             [
              0.2222222222222222,
              "#7201a8"
             ],
             [
              0.3333333333333333,
              "#9c179e"
             ],
             [
              0.4444444444444444,
              "#bd3786"
             ],
             [
              0.5555555555555556,
              "#d8576b"
             ],
             [
              0.6666666666666666,
              "#ed7953"
             ],
             [
              0.7777777777777778,
              "#fb9f3a"
             ],
             [
              0.8888888888888888,
              "#fdca26"
             ],
             [
              1,
              "#f0f921"
             ]
            ],
            "type": "histogram2dcontour"
           }
          ],
          "mesh3d": [
           {
            "colorbar": {
             "outlinewidth": 0,
             "ticks": ""
            },
            "type": "mesh3d"
           }
          ],
          "parcoords": [
           {
            "line": {
             "colorbar": {
              "outlinewidth": 0,
              "ticks": ""
             }
            },
            "type": "parcoords"
           }
          ],
          "pie": [
           {
            "automargin": true,
            "type": "pie"
           }
          ],
          "scatter": [
           {
            "marker": {
             "colorbar": {
              "outlinewidth": 0,
              "ticks": ""
             }
            },
            "type": "scatter"
           }
          ],
          "scatter3d": [
           {
            "line": {
             "colorbar": {
              "outlinewidth": 0,
              "ticks": ""
             }
            },
            "marker": {
             "colorbar": {
              "outlinewidth": 0,
              "ticks": ""
             }
            },
            "type": "scatter3d"
           }
          ],
          "scattercarpet": [
           {
            "marker": {
             "colorbar": {
              "outlinewidth": 0,
              "ticks": ""
             }
            },
            "type": "scattercarpet"
           }
          ],
          "scattergeo": [
           {
            "marker": {
             "colorbar": {
              "outlinewidth": 0,
              "ticks": ""
             }
            },
            "type": "scattergeo"
           }
          ],
          "scattergl": [
           {
            "marker": {
             "colorbar": {
              "outlinewidth": 0,
              "ticks": ""
             }
            },
            "type": "scattergl"
           }
          ],
          "scattermapbox": [
           {
            "marker": {
             "colorbar": {
              "outlinewidth": 0,
              "ticks": ""
             }
            },
            "type": "scattermapbox"
           }
          ],
          "scatterpolar": [
           {
            "marker": {
             "colorbar": {
              "outlinewidth": 0,
              "ticks": ""
             }
            },
            "type": "scatterpolar"
           }
          ],
          "scatterpolargl": [
           {
            "marker": {
             "colorbar": {
              "outlinewidth": 0,
              "ticks": ""
             }
            },
            "type": "scatterpolargl"
           }
          ],
          "scatterternary": [
           {
            "marker": {
             "colorbar": {
              "outlinewidth": 0,
              "ticks": ""
             }
            },
            "type": "scatterternary"
           }
          ],
          "surface": [
           {
            "colorbar": {
             "outlinewidth": 0,
             "ticks": ""
            },
            "colorscale": [
             [
              0,
              "#0d0887"
             ],
             [
              0.1111111111111111,
              "#46039f"
             ],
             [
              0.2222222222222222,
              "#7201a8"
             ],
             [
              0.3333333333333333,
              "#9c179e"
             ],
             [
              0.4444444444444444,
              "#bd3786"
             ],
             [
              0.5555555555555556,
              "#d8576b"
             ],
             [
              0.6666666666666666,
              "#ed7953"
             ],
             [
              0.7777777777777778,
              "#fb9f3a"
             ],
             [
              0.8888888888888888,
              "#fdca26"
             ],
             [
              1,
              "#f0f921"
             ]
            ],
            "type": "surface"
           }
          ],
          "table": [
           {
            "cells": {
             "fill": {
              "color": "#EBF0F8"
             },
             "line": {
              "color": "white"
             }
            },
            "header": {
             "fill": {
              "color": "#C8D4E3"
             },
             "line": {
              "color": "white"
             }
            },
            "type": "table"
           }
          ]
         },
         "layout": {
          "annotationdefaults": {
           "arrowcolor": "#2a3f5f",
           "arrowhead": 0,
           "arrowwidth": 1
          },
          "autotypenumbers": "strict",
          "coloraxis": {
           "colorbar": {
            "outlinewidth": 0,
            "ticks": ""
           }
          },
          "colorscale": {
           "diverging": [
            [
             0,
             "#8e0152"
            ],
            [
             0.1,
             "#c51b7d"
            ],
            [
             0.2,
             "#de77ae"
            ],
            [
             0.3,
             "#f1b6da"
            ],
            [
             0.4,
             "#fde0ef"
            ],
            [
             0.5,
             "#f7f7f7"
            ],
            [
             0.6,
             "#e6f5d0"
            ],
            [
             0.7,
             "#b8e186"
            ],
            [
             0.8,
             "#7fbc41"
            ],
            [
             0.9,
             "#4d9221"
            ],
            [
             1,
             "#276419"
            ]
           ],
           "sequential": [
            [
             0,
             "#0d0887"
            ],
            [
             0.1111111111111111,
             "#46039f"
            ],
            [
             0.2222222222222222,
             "#7201a8"
            ],
            [
             0.3333333333333333,
             "#9c179e"
            ],
            [
             0.4444444444444444,
             "#bd3786"
            ],
            [
             0.5555555555555556,
             "#d8576b"
            ],
            [
             0.6666666666666666,
             "#ed7953"
            ],
            [
             0.7777777777777778,
             "#fb9f3a"
            ],
            [
             0.8888888888888888,
             "#fdca26"
            ],
            [
             1,
             "#f0f921"
            ]
           ],
           "sequentialminus": [
            [
             0,
             "#0d0887"
            ],
            [
             0.1111111111111111,
             "#46039f"
            ],
            [
             0.2222222222222222,
             "#7201a8"
            ],
            [
             0.3333333333333333,
             "#9c179e"
            ],
            [
             0.4444444444444444,
             "#bd3786"
            ],
            [
             0.5555555555555556,
             "#d8576b"
            ],
            [
             0.6666666666666666,
             "#ed7953"
            ],
            [
             0.7777777777777778,
             "#fb9f3a"
            ],
            [
             0.8888888888888888,
             "#fdca26"
            ],
            [
             1,
             "#f0f921"
            ]
           ]
          },
          "colorway": [
           "#636efa",
           "#EF553B",
           "#00cc96",
           "#ab63fa",
           "#FFA15A",
           "#19d3f3",
           "#FF6692",
           "#B6E880",
           "#FF97FF",
           "#FECB52"
          ],
          "font": {
           "color": "#2a3f5f"
          },
          "geo": {
           "bgcolor": "white",
           "lakecolor": "white",
           "landcolor": "#E5ECF6",
           "showlakes": true,
           "showland": true,
           "subunitcolor": "white"
          },
          "hoverlabel": {
           "align": "left"
          },
          "hovermode": "closest",
          "mapbox": {
           "style": "light"
          },
          "paper_bgcolor": "white",
          "plot_bgcolor": "#E5ECF6",
          "polar": {
           "angularaxis": {
            "gridcolor": "white",
            "linecolor": "white",
            "ticks": ""
           },
           "bgcolor": "#E5ECF6",
           "radialaxis": {
            "gridcolor": "white",
            "linecolor": "white",
            "ticks": ""
           }
          },
          "scene": {
           "xaxis": {
            "backgroundcolor": "#E5ECF6",
            "gridcolor": "white",
            "gridwidth": 2,
            "linecolor": "white",
            "showbackground": true,
            "ticks": "",
            "zerolinecolor": "white"
           },
           "yaxis": {
            "backgroundcolor": "#E5ECF6",
            "gridcolor": "white",
            "gridwidth": 2,
            "linecolor": "white",
            "showbackground": true,
            "ticks": "",
            "zerolinecolor": "white"
           },
           "zaxis": {
            "backgroundcolor": "#E5ECF6",
            "gridcolor": "white",
            "gridwidth": 2,
            "linecolor": "white",
            "showbackground": true,
            "ticks": "",
            "zerolinecolor": "white"
           }
          },
          "shapedefaults": {
           "line": {
            "color": "#2a3f5f"
           }
          },
          "ternary": {
           "aaxis": {
            "gridcolor": "white",
            "linecolor": "white",
            "ticks": ""
           },
           "baxis": {
            "gridcolor": "white",
            "linecolor": "white",
            "ticks": ""
           },
           "bgcolor": "#E5ECF6",
           "caxis": {
            "gridcolor": "white",
            "linecolor": "white",
            "ticks": ""
           }
          },
          "title": {
           "x": 0.05
          },
          "xaxis": {
           "automargin": true,
           "gridcolor": "white",
           "linecolor": "white",
           "ticks": "",
           "title": {
            "standoff": 15
           },
           "zerolinecolor": "white",
           "zerolinewidth": 2
          },
          "yaxis": {
           "automargin": true,
           "gridcolor": "white",
           "linecolor": "white",
           "ticks": "",
           "title": {
            "standoff": 15
           },
           "zerolinecolor": "white",
           "zerolinewidth": 2
          }
         }
        },
        "title": {
         "text": "Average Network Spend during the week"
        },
        "xaxis": {
         "title": {
          "text": "Weekdays"
         }
        },
        "yaxis": {
         "title": {
          "text": "Spend"
         }
        }
       }
      },
      "text/html": [
       "<div>                            <div id=\"7eb801af-75e4-4a4f-a19c-8ec328a2f14d\" class=\"plotly-graph-div\" style=\"height:525px; width:100%;\"></div>            <script type=\"text/javascript\">                require([\"plotly\"], function(Plotly) {                    window.PLOTLYENV=window.PLOTLYENV || {};                                    if (document.getElementById(\"7eb801af-75e4-4a4f-a19c-8ec328a2f14d\")) {                    Plotly.newPlot(                        \"7eb801af-75e4-4a4f-a19c-8ec328a2f14d\",                        [{\"marker\": {\"color\": \"rgba(100, 78, 139, 0.6)\", \"line\": {\"color\": \"rgba(100, 78, 139, 1.0)\", \"width\": 3}}, \"name\": \"NetA_spd\", \"text\": [171.46, 56.57, 88.2, 162.33, 85.91, 40.57, 122.59], \"textposition\": \"auto\", \"type\": \"bar\", \"x\": [\"Mon\", \"Tue\", \"Wed\", \"Thu\", \"Fri\", \"Sat\", \"Sun\"], \"y\": [171.46, 56.57, 88.2, 162.33, 85.91, 40.57, 122.59]}, {\"marker\": {\"color\": \"rgba(58, 71, 80, 0.6)\", \"line\": {\"color\": \"rgba(58, 71, 80, 1.0)\", \"width\": 3}}, \"name\": \"NetB_spd\", \"text\": [149.2, 174.62, 117.1, 87.55, 104.48, 85.96, 104.02], \"textposition\": \"auto\", \"type\": \"bar\", \"x\": [\"Mon\", \"Tue\", \"Wed\", \"Thu\", \"Fri\", \"Sat\", \"Sun\"], \"y\": [149.2, 174.62, 117.1, 87.55, 104.48, 85.96, 104.02]}],                        {\"barmode\": \"stack\", \"template\": {\"data\": {\"bar\": [{\"error_x\": {\"color\": \"#2a3f5f\"}, \"error_y\": {\"color\": \"#2a3f5f\"}, \"marker\": {\"line\": {\"color\": \"#E5ECF6\", \"width\": 0.5}}, \"type\": \"bar\"}], \"barpolar\": [{\"marker\": {\"line\": {\"color\": \"#E5ECF6\", \"width\": 0.5}}, \"type\": \"barpolar\"}], \"carpet\": [{\"aaxis\": {\"endlinecolor\": \"#2a3f5f\", \"gridcolor\": \"white\", \"linecolor\": \"white\", \"minorgridcolor\": \"white\", \"startlinecolor\": \"#2a3f5f\"}, \"baxis\": {\"endlinecolor\": \"#2a3f5f\", \"gridcolor\": \"white\", \"linecolor\": \"white\", \"minorgridcolor\": \"white\", \"startlinecolor\": \"#2a3f5f\"}, \"type\": \"carpet\"}], \"choropleth\": [{\"colorbar\": {\"outlinewidth\": 0, \"ticks\": \"\"}, \"type\": \"choropleth\"}], \"contour\": [{\"colorbar\": {\"outlinewidth\": 0, \"ticks\": \"\"}, \"colorscale\": [[0.0, \"#0d0887\"], [0.1111111111111111, \"#46039f\"], [0.2222222222222222, \"#7201a8\"], [0.3333333333333333, \"#9c179e\"], [0.4444444444444444, \"#bd3786\"], [0.5555555555555556, \"#d8576b\"], [0.6666666666666666, \"#ed7953\"], [0.7777777777777778, \"#fb9f3a\"], [0.8888888888888888, \"#fdca26\"], [1.0, \"#f0f921\"]], \"type\": \"contour\"}], \"contourcarpet\": [{\"colorbar\": {\"outlinewidth\": 0, \"ticks\": \"\"}, \"type\": \"contourcarpet\"}], \"heatmap\": [{\"colorbar\": {\"outlinewidth\": 0, \"ticks\": \"\"}, \"colorscale\": [[0.0, \"#0d0887\"], [0.1111111111111111, \"#46039f\"], [0.2222222222222222, \"#7201a8\"], [0.3333333333333333, \"#9c179e\"], [0.4444444444444444, \"#bd3786\"], [0.5555555555555556, \"#d8576b\"], [0.6666666666666666, \"#ed7953\"], [0.7777777777777778, \"#fb9f3a\"], [0.8888888888888888, \"#fdca26\"], [1.0, \"#f0f921\"]], \"type\": \"heatmap\"}], \"heatmapgl\": [{\"colorbar\": {\"outlinewidth\": 0, \"ticks\": \"\"}, \"colorscale\": [[0.0, \"#0d0887\"], [0.1111111111111111, \"#46039f\"], [0.2222222222222222, \"#7201a8\"], [0.3333333333333333, \"#9c179e\"], [0.4444444444444444, \"#bd3786\"], [0.5555555555555556, \"#d8576b\"], [0.6666666666666666, \"#ed7953\"], [0.7777777777777778, \"#fb9f3a\"], [0.8888888888888888, \"#fdca26\"], [1.0, \"#f0f921\"]], \"type\": \"heatmapgl\"}], \"histogram\": [{\"marker\": {\"colorbar\": {\"outlinewidth\": 0, \"ticks\": \"\"}}, \"type\": \"histogram\"}], \"histogram2d\": [{\"colorbar\": {\"outlinewidth\": 0, \"ticks\": \"\"}, \"colorscale\": [[0.0, \"#0d0887\"], [0.1111111111111111, \"#46039f\"], [0.2222222222222222, \"#7201a8\"], [0.3333333333333333, \"#9c179e\"], [0.4444444444444444, \"#bd3786\"], [0.5555555555555556, \"#d8576b\"], [0.6666666666666666, \"#ed7953\"], [0.7777777777777778, \"#fb9f3a\"], [0.8888888888888888, \"#fdca26\"], [1.0, \"#f0f921\"]], \"type\": \"histogram2d\"}], \"histogram2dcontour\": [{\"colorbar\": {\"outlinewidth\": 0, \"ticks\": \"\"}, \"colorscale\": [[0.0, \"#0d0887\"], [0.1111111111111111, \"#46039f\"], [0.2222222222222222, \"#7201a8\"], [0.3333333333333333, \"#9c179e\"], [0.4444444444444444, \"#bd3786\"], [0.5555555555555556, \"#d8576b\"], [0.6666666666666666, \"#ed7953\"], [0.7777777777777778, \"#fb9f3a\"], [0.8888888888888888, \"#fdca26\"], [1.0, \"#f0f921\"]], \"type\": \"histogram2dcontour\"}], \"mesh3d\": [{\"colorbar\": {\"outlinewidth\": 0, \"ticks\": \"\"}, \"type\": \"mesh3d\"}], \"parcoords\": [{\"line\": {\"colorbar\": {\"outlinewidth\": 0, \"ticks\": \"\"}}, \"type\": \"parcoords\"}], \"pie\": [{\"automargin\": true, \"type\": \"pie\"}], \"scatter\": [{\"marker\": {\"colorbar\": {\"outlinewidth\": 0, \"ticks\": \"\"}}, \"type\": \"scatter\"}], \"scatter3d\": [{\"line\": {\"colorbar\": {\"outlinewidth\": 0, \"ticks\": \"\"}}, \"marker\": {\"colorbar\": {\"outlinewidth\": 0, \"ticks\": \"\"}}, \"type\": \"scatter3d\"}], \"scattercarpet\": [{\"marker\": {\"colorbar\": {\"outlinewidth\": 0, \"ticks\": \"\"}}, \"type\": \"scattercarpet\"}], \"scattergeo\": [{\"marker\": {\"colorbar\": {\"outlinewidth\": 0, \"ticks\": \"\"}}, \"type\": \"scattergeo\"}], \"scattergl\": [{\"marker\": {\"colorbar\": {\"outlinewidth\": 0, \"ticks\": \"\"}}, \"type\": \"scattergl\"}], \"scattermapbox\": [{\"marker\": {\"colorbar\": {\"outlinewidth\": 0, \"ticks\": \"\"}}, \"type\": \"scattermapbox\"}], \"scatterpolar\": [{\"marker\": {\"colorbar\": {\"outlinewidth\": 0, \"ticks\": \"\"}}, \"type\": \"scatterpolar\"}], \"scatterpolargl\": [{\"marker\": {\"colorbar\": {\"outlinewidth\": 0, \"ticks\": \"\"}}, \"type\": \"scatterpolargl\"}], \"scatterternary\": [{\"marker\": {\"colorbar\": {\"outlinewidth\": 0, \"ticks\": \"\"}}, \"type\": \"scatterternary\"}], \"surface\": [{\"colorbar\": {\"outlinewidth\": 0, \"ticks\": \"\"}, \"colorscale\": [[0.0, \"#0d0887\"], [0.1111111111111111, \"#46039f\"], [0.2222222222222222, \"#7201a8\"], [0.3333333333333333, \"#9c179e\"], [0.4444444444444444, \"#bd3786\"], [0.5555555555555556, \"#d8576b\"], [0.6666666666666666, \"#ed7953\"], [0.7777777777777778, \"#fb9f3a\"], [0.8888888888888888, \"#fdca26\"], [1.0, \"#f0f921\"]], \"type\": \"surface\"}], \"table\": [{\"cells\": {\"fill\": {\"color\": \"#EBF0F8\"}, \"line\": {\"color\": \"white\"}}, \"header\": {\"fill\": {\"color\": \"#C8D4E3\"}, \"line\": {\"color\": \"white\"}}, \"type\": \"table\"}]}, \"layout\": {\"annotationdefaults\": {\"arrowcolor\": \"#2a3f5f\", \"arrowhead\": 0, \"arrowwidth\": 1}, \"autotypenumbers\": \"strict\", \"coloraxis\": {\"colorbar\": {\"outlinewidth\": 0, \"ticks\": \"\"}}, \"colorscale\": {\"diverging\": [[0, \"#8e0152\"], [0.1, \"#c51b7d\"], [0.2, \"#de77ae\"], [0.3, \"#f1b6da\"], [0.4, \"#fde0ef\"], [0.5, \"#f7f7f7\"], [0.6, \"#e6f5d0\"], [0.7, \"#b8e186\"], [0.8, \"#7fbc41\"], [0.9, \"#4d9221\"], [1, \"#276419\"]], \"sequential\": [[0.0, \"#0d0887\"], [0.1111111111111111, \"#46039f\"], [0.2222222222222222, \"#7201a8\"], [0.3333333333333333, \"#9c179e\"], [0.4444444444444444, \"#bd3786\"], [0.5555555555555556, \"#d8576b\"], [0.6666666666666666, \"#ed7953\"], [0.7777777777777778, \"#fb9f3a\"], [0.8888888888888888, \"#fdca26\"], [1.0, \"#f0f921\"]], \"sequentialminus\": [[0.0, \"#0d0887\"], [0.1111111111111111, \"#46039f\"], [0.2222222222222222, \"#7201a8\"], [0.3333333333333333, \"#9c179e\"], [0.4444444444444444, \"#bd3786\"], [0.5555555555555556, \"#d8576b\"], [0.6666666666666666, \"#ed7953\"], [0.7777777777777778, \"#fb9f3a\"], [0.8888888888888888, \"#fdca26\"], [1.0, \"#f0f921\"]]}, \"colorway\": [\"#636efa\", \"#EF553B\", \"#00cc96\", \"#ab63fa\", \"#FFA15A\", \"#19d3f3\", \"#FF6692\", \"#B6E880\", \"#FF97FF\", \"#FECB52\"], \"font\": {\"color\": \"#2a3f5f\"}, \"geo\": {\"bgcolor\": \"white\", \"lakecolor\": \"white\", \"landcolor\": \"#E5ECF6\", \"showlakes\": true, \"showland\": true, \"subunitcolor\": \"white\"}, \"hoverlabel\": {\"align\": \"left\"}, \"hovermode\": \"closest\", \"mapbox\": {\"style\": \"light\"}, \"paper_bgcolor\": \"white\", \"plot_bgcolor\": \"#E5ECF6\", \"polar\": {\"angularaxis\": {\"gridcolor\": \"white\", \"linecolor\": \"white\", \"ticks\": \"\"}, \"bgcolor\": \"#E5ECF6\", \"radialaxis\": {\"gridcolor\": \"white\", \"linecolor\": \"white\", \"ticks\": \"\"}}, \"scene\": {\"xaxis\": {\"backgroundcolor\": \"#E5ECF6\", \"gridcolor\": \"white\", \"gridwidth\": 2, \"linecolor\": \"white\", \"showbackground\": true, \"ticks\": \"\", \"zerolinecolor\": \"white\"}, \"yaxis\": {\"backgroundcolor\": \"#E5ECF6\", \"gridcolor\": \"white\", \"gridwidth\": 2, \"linecolor\": \"white\", \"showbackground\": true, \"ticks\": \"\", \"zerolinecolor\": \"white\"}, \"zaxis\": {\"backgroundcolor\": \"#E5ECF6\", \"gridcolor\": \"white\", \"gridwidth\": 2, \"linecolor\": \"white\", \"showbackground\": true, \"ticks\": \"\", \"zerolinecolor\": \"white\"}}, \"shapedefaults\": {\"line\": {\"color\": \"#2a3f5f\"}}, \"ternary\": {\"aaxis\": {\"gridcolor\": \"white\", \"linecolor\": \"white\", \"ticks\": \"\"}, \"baxis\": {\"gridcolor\": \"white\", \"linecolor\": \"white\", \"ticks\": \"\"}, \"bgcolor\": \"#E5ECF6\", \"caxis\": {\"gridcolor\": \"white\", \"linecolor\": \"white\", \"ticks\": \"\"}}, \"title\": {\"x\": 0.05}, \"xaxis\": {\"automargin\": true, \"gridcolor\": \"white\", \"linecolor\": \"white\", \"ticks\": \"\", \"title\": {\"standoff\": 15}, \"zerolinecolor\": \"white\", \"zerolinewidth\": 2}, \"yaxis\": {\"automargin\": true, \"gridcolor\": \"white\", \"linecolor\": \"white\", \"ticks\": \"\", \"title\": {\"standoff\": 15}, \"zerolinecolor\": \"white\", \"zerolinewidth\": 2}}}, \"title\": {\"text\": \"Average Network Spend during the week\"}, \"xaxis\": {\"title\": {\"text\": \"Weekdays\"}}, \"yaxis\": {\"title\": {\"text\": \"Spend\"}}},                        {\"responsive\": true}                    ).then(function(){\n",
       "                            \n",
       "var gd = document.getElementById('7eb801af-75e4-4a4f-a19c-8ec328a2f14d');\n",
       "var x = new MutationObserver(function (mutations, observer) {{\n",
       "        var display = window.getComputedStyle(gd).display;\n",
       "        if (!display || display === 'none') {{\n",
       "            console.log([gd, 'removed!']);\n",
       "            Plotly.purge(gd);\n",
       "            observer.disconnect();\n",
       "        }}\n",
       "}});\n",
       "\n",
       "// Listen for the removal of the full notebook cells\n",
       "var notebookContainer = gd.closest('#notebook-container');\n",
       "if (notebookContainer) {{\n",
       "    x.observe(notebookContainer, {childList: true});\n",
       "}}\n",
       "\n",
       "// Listen for the clearing of the current output cell\n",
       "var outputEl = gd.closest('.output');\n",
       "if (outputEl) {{\n",
       "    x.observe(outputEl, {childList: true});\n",
       "}}\n",
       "\n",
       "                        })                };                });            </script>        </div>"
      ]
     },
     "metadata": {},
     "output_type": "display_data"
    }
   ],
   "source": [
    "fig = go.Figure(data=[go.Bar(name=\"NetA_spd\",\n",
    "            x=df_plot['Weekday'], y=df_plot['NetA_spd'],text=df_plot['NetA_spd'],\n",
    "            textposition='auto',marker=dict(\n",
    "        color='rgba(100, 78, 139, 0.6)',\n",
    "        line=dict(color='rgba(100, 78, 139, 1.0)', width=3))\n",
    "                            ),\n",
    "            go.Bar(name=\"NetB_spd\",\n",
    "            x=df_plot['Weekday'], y=df_plot['NetB_spd'],text=df_plot['NetB_spd'],\n",
    "            textposition='auto',marker=dict(\n",
    "        color='rgba(58, 71, 80, 0.6)',\n",
    "        line=dict(color='rgba(58, 71, 80, 1.0)', width=3)\n",
    "    )\n",
    "                  \n",
    "                  ),          \n",
    "            \n",
    "        ])\n",
    "\n",
    "fig.update_layout(title=\"Average Network Spend during the week\",xaxis_title=\"Weekdays\",\n",
    "    yaxis_title=\"Spend\",barmode='stack')\n",
    "fig.show()"
   ]
  },
  {
   "cell_type": "markdown",
   "id": "informative-progress",
   "metadata": {},
   "source": [
    "### Q1 - Acquired Network Impressions of A and B(Average)"
   ]
  },
  {
   "cell_type": "code",
   "execution_count": 139,
   "id": "mighty-conditions",
   "metadata": {},
   "outputs": [
    {
     "data": {
      "application/vnd.plotly.v1+json": {
       "config": {
        "plotlyServerURL": "https://plot.ly"
       },
       "data": [
        {
         "marker": {
          "color": "rgba(10, 78, 139, 0.6)",
          "line": {
           "color": "rgba(10, 78, 139, 1.0)",
           "width": 3
          }
         },
         "name": "NetA_imp",
         "text": [
          7.29,
          6.74,
          3.76,
          5.23,
          2.69,
          3.06,
          6.73
         ],
         "textposition": "auto",
         "type": "bar",
         "x": [
          "Mon",
          "Tue",
          "Wed",
          "Thu",
          "Fri",
          "Sat",
          "Sun"
         ],
         "y": [
          7.29,
          6.74,
          3.76,
          5.23,
          2.69,
          3.06,
          6.73
         ]
        },
        {
         "marker": {
          "color": "rgba(58, 71, 80, 0.6)",
          "line": {
           "color": "rgba(58, 71, 80, 1.0)",
           "width": 3
          }
         },
         "name": "NetB_imp",
         "text": [
          5.98,
          7.85,
          6.22,
          4.33,
          4.82,
          5.62,
          4.99
         ],
         "textposition": "auto",
         "type": "bar",
         "x": [
          "Mon",
          "Tue",
          "Wed",
          "Thu",
          "Fri",
          "Sat",
          "Sun"
         ],
         "y": [
          5.98,
          7.85,
          6.22,
          4.33,
          4.82,
          5.62,
          4.99
         ]
        }
       ],
       "layout": {
        "barmode": "group",
        "template": {
         "data": {
          "bar": [
           {
            "error_x": {
             "color": "#2a3f5f"
            },
            "error_y": {
             "color": "#2a3f5f"
            },
            "marker": {
             "line": {
              "color": "#E5ECF6",
              "width": 0.5
             }
            },
            "type": "bar"
           }
          ],
          "barpolar": [
           {
            "marker": {
             "line": {
              "color": "#E5ECF6",
              "width": 0.5
             }
            },
            "type": "barpolar"
           }
          ],
          "carpet": [
           {
            "aaxis": {
             "endlinecolor": "#2a3f5f",
             "gridcolor": "white",
             "linecolor": "white",
             "minorgridcolor": "white",
             "startlinecolor": "#2a3f5f"
            },
            "baxis": {
             "endlinecolor": "#2a3f5f",
             "gridcolor": "white",
             "linecolor": "white",
             "minorgridcolor": "white",
             "startlinecolor": "#2a3f5f"
            },
            "type": "carpet"
           }
          ],
          "choropleth": [
           {
            "colorbar": {
             "outlinewidth": 0,
             "ticks": ""
            },
            "type": "choropleth"
           }
          ],
          "contour": [
           {
            "colorbar": {
             "outlinewidth": 0,
             "ticks": ""
            },
            "colorscale": [
             [
              0,
              "#0d0887"
             ],
             [
              0.1111111111111111,
              "#46039f"
             ],
             [
              0.2222222222222222,
              "#7201a8"
             ],
             [
              0.3333333333333333,
              "#9c179e"
             ],
             [
              0.4444444444444444,
              "#bd3786"
             ],
             [
              0.5555555555555556,
              "#d8576b"
             ],
             [
              0.6666666666666666,
              "#ed7953"
             ],
             [
              0.7777777777777778,
              "#fb9f3a"
             ],
             [
              0.8888888888888888,
              "#fdca26"
             ],
             [
              1,
              "#f0f921"
             ]
            ],
            "type": "contour"
           }
          ],
          "contourcarpet": [
           {
            "colorbar": {
             "outlinewidth": 0,
             "ticks": ""
            },
            "type": "contourcarpet"
           }
          ],
          "heatmap": [
           {
            "colorbar": {
             "outlinewidth": 0,
             "ticks": ""
            },
            "colorscale": [
             [
              0,
              "#0d0887"
             ],
             [
              0.1111111111111111,
              "#46039f"
             ],
             [
              0.2222222222222222,
              "#7201a8"
             ],
             [
              0.3333333333333333,
              "#9c179e"
             ],
             [
              0.4444444444444444,
              "#bd3786"
             ],
             [
              0.5555555555555556,
              "#d8576b"
             ],
             [
              0.6666666666666666,
              "#ed7953"
             ],
             [
              0.7777777777777778,
              "#fb9f3a"
             ],
             [
              0.8888888888888888,
              "#fdca26"
             ],
             [
              1,
              "#f0f921"
             ]
            ],
            "type": "heatmap"
           }
          ],
          "heatmapgl": [
           {
            "colorbar": {
             "outlinewidth": 0,
             "ticks": ""
            },
            "colorscale": [
             [
              0,
              "#0d0887"
             ],
             [
              0.1111111111111111,
              "#46039f"
             ],
             [
              0.2222222222222222,
              "#7201a8"
             ],
             [
              0.3333333333333333,
              "#9c179e"
             ],
             [
              0.4444444444444444,
              "#bd3786"
             ],
             [
              0.5555555555555556,
              "#d8576b"
             ],
             [
              0.6666666666666666,
              "#ed7953"
             ],
             [
              0.7777777777777778,
              "#fb9f3a"
             ],
             [
              0.8888888888888888,
              "#fdca26"
             ],
             [
              1,
              "#f0f921"
             ]
            ],
            "type": "heatmapgl"
           }
          ],
          "histogram": [
           {
            "marker": {
             "colorbar": {
              "outlinewidth": 0,
              "ticks": ""
             }
            },
            "type": "histogram"
           }
          ],
          "histogram2d": [
           {
            "colorbar": {
             "outlinewidth": 0,
             "ticks": ""
            },
            "colorscale": [
             [
              0,
              "#0d0887"
             ],
             [
              0.1111111111111111,
              "#46039f"
             ],
             [
              0.2222222222222222,
              "#7201a8"
             ],
             [
              0.3333333333333333,
              "#9c179e"
             ],
             [
              0.4444444444444444,
              "#bd3786"
             ],
             [
              0.5555555555555556,
              "#d8576b"
             ],
             [
              0.6666666666666666,
              "#ed7953"
             ],
             [
              0.7777777777777778,
              "#fb9f3a"
             ],
             [
              0.8888888888888888,
              "#fdca26"
             ],
             [
              1,
              "#f0f921"
             ]
            ],
            "type": "histogram2d"
           }
          ],
          "histogram2dcontour": [
           {
            "colorbar": {
             "outlinewidth": 0,
             "ticks": ""
            },
            "colorscale": [
             [
              0,
              "#0d0887"
             ],
             [
              0.1111111111111111,
              "#46039f"
             ],
             [
              0.2222222222222222,
              "#7201a8"
             ],
             [
              0.3333333333333333,
              "#9c179e"
             ],
             [
              0.4444444444444444,
              "#bd3786"
             ],
             [
              0.5555555555555556,
              "#d8576b"
             ],
             [
              0.6666666666666666,
              "#ed7953"
             ],
             [
              0.7777777777777778,
              "#fb9f3a"
             ],
             [
              0.8888888888888888,
              "#fdca26"
             ],
             [
              1,
              "#f0f921"
             ]
            ],
            "type": "histogram2dcontour"
           }
          ],
          "mesh3d": [
           {
            "colorbar": {
             "outlinewidth": 0,
             "ticks": ""
            },
            "type": "mesh3d"
           }
          ],
          "parcoords": [
           {
            "line": {
             "colorbar": {
              "outlinewidth": 0,
              "ticks": ""
             }
            },
            "type": "parcoords"
           }
          ],
          "pie": [
           {
            "automargin": true,
            "type": "pie"
           }
          ],
          "scatter": [
           {
            "marker": {
             "colorbar": {
              "outlinewidth": 0,
              "ticks": ""
             }
            },
            "type": "scatter"
           }
          ],
          "scatter3d": [
           {
            "line": {
             "colorbar": {
              "outlinewidth": 0,
              "ticks": ""
             }
            },
            "marker": {
             "colorbar": {
              "outlinewidth": 0,
              "ticks": ""
             }
            },
            "type": "scatter3d"
           }
          ],
          "scattercarpet": [
           {
            "marker": {
             "colorbar": {
              "outlinewidth": 0,
              "ticks": ""
             }
            },
            "type": "scattercarpet"
           }
          ],
          "scattergeo": [
           {
            "marker": {
             "colorbar": {
              "outlinewidth": 0,
              "ticks": ""
             }
            },
            "type": "scattergeo"
           }
          ],
          "scattergl": [
           {
            "marker": {
             "colorbar": {
              "outlinewidth": 0,
              "ticks": ""
             }
            },
            "type": "scattergl"
           }
          ],
          "scattermapbox": [
           {
            "marker": {
             "colorbar": {
              "outlinewidth": 0,
              "ticks": ""
             }
            },
            "type": "scattermapbox"
           }
          ],
          "scatterpolar": [
           {
            "marker": {
             "colorbar": {
              "outlinewidth": 0,
              "ticks": ""
             }
            },
            "type": "scatterpolar"
           }
          ],
          "scatterpolargl": [
           {
            "marker": {
             "colorbar": {
              "outlinewidth": 0,
              "ticks": ""
             }
            },
            "type": "scatterpolargl"
           }
          ],
          "scatterternary": [
           {
            "marker": {
             "colorbar": {
              "outlinewidth": 0,
              "ticks": ""
             }
            },
            "type": "scatterternary"
           }
          ],
          "surface": [
           {
            "colorbar": {
             "outlinewidth": 0,
             "ticks": ""
            },
            "colorscale": [
             [
              0,
              "#0d0887"
             ],
             [
              0.1111111111111111,
              "#46039f"
             ],
             [
              0.2222222222222222,
              "#7201a8"
             ],
             [
              0.3333333333333333,
              "#9c179e"
             ],
             [
              0.4444444444444444,
              "#bd3786"
             ],
             [
              0.5555555555555556,
              "#d8576b"
             ],
             [
              0.6666666666666666,
              "#ed7953"
             ],
             [
              0.7777777777777778,
              "#fb9f3a"
             ],
             [
              0.8888888888888888,
              "#fdca26"
             ],
             [
              1,
              "#f0f921"
             ]
            ],
            "type": "surface"
           }
          ],
          "table": [
           {
            "cells": {
             "fill": {
              "color": "#EBF0F8"
             },
             "line": {
              "color": "white"
             }
            },
            "header": {
             "fill": {
              "color": "#C8D4E3"
             },
             "line": {
              "color": "white"
             }
            },
            "type": "table"
           }
          ]
         },
         "layout": {
          "annotationdefaults": {
           "arrowcolor": "#2a3f5f",
           "arrowhead": 0,
           "arrowwidth": 1
          },
          "autotypenumbers": "strict",
          "coloraxis": {
           "colorbar": {
            "outlinewidth": 0,
            "ticks": ""
           }
          },
          "colorscale": {
           "diverging": [
            [
             0,
             "#8e0152"
            ],
            [
             0.1,
             "#c51b7d"
            ],
            [
             0.2,
             "#de77ae"
            ],
            [
             0.3,
             "#f1b6da"
            ],
            [
             0.4,
             "#fde0ef"
            ],
            [
             0.5,
             "#f7f7f7"
            ],
            [
             0.6,
             "#e6f5d0"
            ],
            [
             0.7,
             "#b8e186"
            ],
            [
             0.8,
             "#7fbc41"
            ],
            [
             0.9,
             "#4d9221"
            ],
            [
             1,
             "#276419"
            ]
           ],
           "sequential": [
            [
             0,
             "#0d0887"
            ],
            [
             0.1111111111111111,
             "#46039f"
            ],
            [
             0.2222222222222222,
             "#7201a8"
            ],
            [
             0.3333333333333333,
             "#9c179e"
            ],
            [
             0.4444444444444444,
             "#bd3786"
            ],
            [
             0.5555555555555556,
             "#d8576b"
            ],
            [
             0.6666666666666666,
             "#ed7953"
            ],
            [
             0.7777777777777778,
             "#fb9f3a"
            ],
            [
             0.8888888888888888,
             "#fdca26"
            ],
            [
             1,
             "#f0f921"
            ]
           ],
           "sequentialminus": [
            [
             0,
             "#0d0887"
            ],
            [
             0.1111111111111111,
             "#46039f"
            ],
            [
             0.2222222222222222,
             "#7201a8"
            ],
            [
             0.3333333333333333,
             "#9c179e"
            ],
            [
             0.4444444444444444,
             "#bd3786"
            ],
            [
             0.5555555555555556,
             "#d8576b"
            ],
            [
             0.6666666666666666,
             "#ed7953"
            ],
            [
             0.7777777777777778,
             "#fb9f3a"
            ],
            [
             0.8888888888888888,
             "#fdca26"
            ],
            [
             1,
             "#f0f921"
            ]
           ]
          },
          "colorway": [
           "#636efa",
           "#EF553B",
           "#00cc96",
           "#ab63fa",
           "#FFA15A",
           "#19d3f3",
           "#FF6692",
           "#B6E880",
           "#FF97FF",
           "#FECB52"
          ],
          "font": {
           "color": "#2a3f5f"
          },
          "geo": {
           "bgcolor": "white",
           "lakecolor": "white",
           "landcolor": "#E5ECF6",
           "showlakes": true,
           "showland": true,
           "subunitcolor": "white"
          },
          "hoverlabel": {
           "align": "left"
          },
          "hovermode": "closest",
          "mapbox": {
           "style": "light"
          },
          "paper_bgcolor": "white",
          "plot_bgcolor": "#E5ECF6",
          "polar": {
           "angularaxis": {
            "gridcolor": "white",
            "linecolor": "white",
            "ticks": ""
           },
           "bgcolor": "#E5ECF6",
           "radialaxis": {
            "gridcolor": "white",
            "linecolor": "white",
            "ticks": ""
           }
          },
          "scene": {
           "xaxis": {
            "backgroundcolor": "#E5ECF6",
            "gridcolor": "white",
            "gridwidth": 2,
            "linecolor": "white",
            "showbackground": true,
            "ticks": "",
            "zerolinecolor": "white"
           },
           "yaxis": {
            "backgroundcolor": "#E5ECF6",
            "gridcolor": "white",
            "gridwidth": 2,
            "linecolor": "white",
            "showbackground": true,
            "ticks": "",
            "zerolinecolor": "white"
           },
           "zaxis": {
            "backgroundcolor": "#E5ECF6",
            "gridcolor": "white",
            "gridwidth": 2,
            "linecolor": "white",
            "showbackground": true,
            "ticks": "",
            "zerolinecolor": "white"
           }
          },
          "shapedefaults": {
           "line": {
            "color": "#2a3f5f"
           }
          },
          "ternary": {
           "aaxis": {
            "gridcolor": "white",
            "linecolor": "white",
            "ticks": ""
           },
           "baxis": {
            "gridcolor": "white",
            "linecolor": "white",
            "ticks": ""
           },
           "bgcolor": "#E5ECF6",
           "caxis": {
            "gridcolor": "white",
            "linecolor": "white",
            "ticks": ""
           }
          },
          "title": {
           "x": 0.05
          },
          "xaxis": {
           "automargin": true,
           "gridcolor": "white",
           "linecolor": "white",
           "ticks": "",
           "title": {
            "standoff": 15
           },
           "zerolinecolor": "white",
           "zerolinewidth": 2
          },
          "yaxis": {
           "automargin": true,
           "gridcolor": "white",
           "linecolor": "white",
           "ticks": "",
           "title": {
            "standoff": 15
           },
           "zerolinecolor": "white",
           "zerolinewidth": 2
          }
         }
        },
        "title": {
         "text": "Average Network Impressions of Net A vs Net B during the week"
        },
        "yaxis": {
         "title": {
          "text": "Impressions"
         }
        }
       }
      },
      "text/html": [
       "<div>                            <div id=\"d4039d48-2867-4075-8765-1592d9f0ed9f\" class=\"plotly-graph-div\" style=\"height:525px; width:100%;\"></div>            <script type=\"text/javascript\">                require([\"plotly\"], function(Plotly) {                    window.PLOTLYENV=window.PLOTLYENV || {};                                    if (document.getElementById(\"d4039d48-2867-4075-8765-1592d9f0ed9f\")) {                    Plotly.newPlot(                        \"d4039d48-2867-4075-8765-1592d9f0ed9f\",                        [{\"marker\": {\"color\": \"rgba(10, 78, 139, 0.6)\", \"line\": {\"color\": \"rgba(10, 78, 139, 1.0)\", \"width\": 3}}, \"name\": \"NetA_imp\", \"text\": [7.29, 6.74, 3.76, 5.23, 2.69, 3.06, 6.73], \"textposition\": \"auto\", \"type\": \"bar\", \"x\": [\"Mon\", \"Tue\", \"Wed\", \"Thu\", \"Fri\", \"Sat\", \"Sun\"], \"y\": [7.29, 6.74, 3.76, 5.23, 2.69, 3.06, 6.73]}, {\"marker\": {\"color\": \"rgba(58, 71, 80, 0.6)\", \"line\": {\"color\": \"rgba(58, 71, 80, 1.0)\", \"width\": 3}}, \"name\": \"NetB_imp\", \"text\": [5.98, 7.85, 6.22, 4.33, 4.82, 5.62, 4.99], \"textposition\": \"auto\", \"type\": \"bar\", \"x\": [\"Mon\", \"Tue\", \"Wed\", \"Thu\", \"Fri\", \"Sat\", \"Sun\"], \"y\": [5.98, 7.85, 6.22, 4.33, 4.82, 5.62, 4.99]}],                        {\"barmode\": \"group\", \"template\": {\"data\": {\"bar\": [{\"error_x\": {\"color\": \"#2a3f5f\"}, \"error_y\": {\"color\": \"#2a3f5f\"}, \"marker\": {\"line\": {\"color\": \"#E5ECF6\", \"width\": 0.5}}, \"type\": \"bar\"}], \"barpolar\": [{\"marker\": {\"line\": {\"color\": \"#E5ECF6\", \"width\": 0.5}}, \"type\": \"barpolar\"}], \"carpet\": [{\"aaxis\": {\"endlinecolor\": \"#2a3f5f\", \"gridcolor\": \"white\", \"linecolor\": \"white\", \"minorgridcolor\": \"white\", \"startlinecolor\": \"#2a3f5f\"}, \"baxis\": {\"endlinecolor\": \"#2a3f5f\", \"gridcolor\": \"white\", \"linecolor\": \"white\", \"minorgridcolor\": \"white\", \"startlinecolor\": \"#2a3f5f\"}, \"type\": \"carpet\"}], \"choropleth\": [{\"colorbar\": {\"outlinewidth\": 0, \"ticks\": \"\"}, \"type\": \"choropleth\"}], \"contour\": [{\"colorbar\": {\"outlinewidth\": 0, \"ticks\": \"\"}, \"colorscale\": [[0.0, \"#0d0887\"], [0.1111111111111111, \"#46039f\"], [0.2222222222222222, \"#7201a8\"], [0.3333333333333333, \"#9c179e\"], [0.4444444444444444, \"#bd3786\"], [0.5555555555555556, \"#d8576b\"], [0.6666666666666666, \"#ed7953\"], [0.7777777777777778, \"#fb9f3a\"], [0.8888888888888888, \"#fdca26\"], [1.0, \"#f0f921\"]], \"type\": \"contour\"}], \"contourcarpet\": [{\"colorbar\": {\"outlinewidth\": 0, \"ticks\": \"\"}, \"type\": \"contourcarpet\"}], \"heatmap\": [{\"colorbar\": {\"outlinewidth\": 0, \"ticks\": \"\"}, \"colorscale\": [[0.0, \"#0d0887\"], [0.1111111111111111, \"#46039f\"], [0.2222222222222222, \"#7201a8\"], [0.3333333333333333, \"#9c179e\"], [0.4444444444444444, \"#bd3786\"], [0.5555555555555556, \"#d8576b\"], [0.6666666666666666, \"#ed7953\"], [0.7777777777777778, \"#fb9f3a\"], [0.8888888888888888, \"#fdca26\"], [1.0, \"#f0f921\"]], \"type\": \"heatmap\"}], \"heatmapgl\": [{\"colorbar\": {\"outlinewidth\": 0, \"ticks\": \"\"}, \"colorscale\": [[0.0, \"#0d0887\"], [0.1111111111111111, \"#46039f\"], [0.2222222222222222, \"#7201a8\"], [0.3333333333333333, \"#9c179e\"], [0.4444444444444444, \"#bd3786\"], [0.5555555555555556, \"#d8576b\"], [0.6666666666666666, \"#ed7953\"], [0.7777777777777778, \"#fb9f3a\"], [0.8888888888888888, \"#fdca26\"], [1.0, \"#f0f921\"]], \"type\": \"heatmapgl\"}], \"histogram\": [{\"marker\": {\"colorbar\": {\"outlinewidth\": 0, \"ticks\": \"\"}}, \"type\": \"histogram\"}], \"histogram2d\": [{\"colorbar\": {\"outlinewidth\": 0, \"ticks\": \"\"}, \"colorscale\": [[0.0, \"#0d0887\"], [0.1111111111111111, \"#46039f\"], [0.2222222222222222, \"#7201a8\"], [0.3333333333333333, \"#9c179e\"], [0.4444444444444444, \"#bd3786\"], [0.5555555555555556, \"#d8576b\"], [0.6666666666666666, \"#ed7953\"], [0.7777777777777778, \"#fb9f3a\"], [0.8888888888888888, \"#fdca26\"], [1.0, \"#f0f921\"]], \"type\": \"histogram2d\"}], \"histogram2dcontour\": [{\"colorbar\": {\"outlinewidth\": 0, \"ticks\": \"\"}, \"colorscale\": [[0.0, \"#0d0887\"], [0.1111111111111111, \"#46039f\"], [0.2222222222222222, \"#7201a8\"], [0.3333333333333333, \"#9c179e\"], [0.4444444444444444, \"#bd3786\"], [0.5555555555555556, \"#d8576b\"], [0.6666666666666666, \"#ed7953\"], [0.7777777777777778, \"#fb9f3a\"], [0.8888888888888888, \"#fdca26\"], [1.0, \"#f0f921\"]], \"type\": \"histogram2dcontour\"}], \"mesh3d\": [{\"colorbar\": {\"outlinewidth\": 0, \"ticks\": \"\"}, \"type\": \"mesh3d\"}], \"parcoords\": [{\"line\": {\"colorbar\": {\"outlinewidth\": 0, \"ticks\": \"\"}}, \"type\": \"parcoords\"}], \"pie\": [{\"automargin\": true, \"type\": \"pie\"}], \"scatter\": [{\"marker\": {\"colorbar\": {\"outlinewidth\": 0, \"ticks\": \"\"}}, \"type\": \"scatter\"}], \"scatter3d\": [{\"line\": {\"colorbar\": {\"outlinewidth\": 0, \"ticks\": \"\"}}, \"marker\": {\"colorbar\": {\"outlinewidth\": 0, \"ticks\": \"\"}}, \"type\": \"scatter3d\"}], \"scattercarpet\": [{\"marker\": {\"colorbar\": {\"outlinewidth\": 0, \"ticks\": \"\"}}, \"type\": \"scattercarpet\"}], \"scattergeo\": [{\"marker\": {\"colorbar\": {\"outlinewidth\": 0, \"ticks\": \"\"}}, \"type\": \"scattergeo\"}], \"scattergl\": [{\"marker\": {\"colorbar\": {\"outlinewidth\": 0, \"ticks\": \"\"}}, \"type\": \"scattergl\"}], \"scattermapbox\": [{\"marker\": {\"colorbar\": {\"outlinewidth\": 0, \"ticks\": \"\"}}, \"type\": \"scattermapbox\"}], \"scatterpolar\": [{\"marker\": {\"colorbar\": {\"outlinewidth\": 0, \"ticks\": \"\"}}, \"type\": \"scatterpolar\"}], \"scatterpolargl\": [{\"marker\": {\"colorbar\": {\"outlinewidth\": 0, \"ticks\": \"\"}}, \"type\": \"scatterpolargl\"}], \"scatterternary\": [{\"marker\": {\"colorbar\": {\"outlinewidth\": 0, \"ticks\": \"\"}}, \"type\": \"scatterternary\"}], \"surface\": [{\"colorbar\": {\"outlinewidth\": 0, \"ticks\": \"\"}, \"colorscale\": [[0.0, \"#0d0887\"], [0.1111111111111111, \"#46039f\"], [0.2222222222222222, \"#7201a8\"], [0.3333333333333333, \"#9c179e\"], [0.4444444444444444, \"#bd3786\"], [0.5555555555555556, \"#d8576b\"], [0.6666666666666666, \"#ed7953\"], [0.7777777777777778, \"#fb9f3a\"], [0.8888888888888888, \"#fdca26\"], [1.0, \"#f0f921\"]], \"type\": \"surface\"}], \"table\": [{\"cells\": {\"fill\": {\"color\": \"#EBF0F8\"}, \"line\": {\"color\": \"white\"}}, \"header\": {\"fill\": {\"color\": \"#C8D4E3\"}, \"line\": {\"color\": \"white\"}}, \"type\": \"table\"}]}, \"layout\": {\"annotationdefaults\": {\"arrowcolor\": \"#2a3f5f\", \"arrowhead\": 0, \"arrowwidth\": 1}, \"autotypenumbers\": \"strict\", \"coloraxis\": {\"colorbar\": {\"outlinewidth\": 0, \"ticks\": \"\"}}, \"colorscale\": {\"diverging\": [[0, \"#8e0152\"], [0.1, \"#c51b7d\"], [0.2, \"#de77ae\"], [0.3, \"#f1b6da\"], [0.4, \"#fde0ef\"], [0.5, \"#f7f7f7\"], [0.6, \"#e6f5d0\"], [0.7, \"#b8e186\"], [0.8, \"#7fbc41\"], [0.9, \"#4d9221\"], [1, \"#276419\"]], \"sequential\": [[0.0, \"#0d0887\"], [0.1111111111111111, \"#46039f\"], [0.2222222222222222, \"#7201a8\"], [0.3333333333333333, \"#9c179e\"], [0.4444444444444444, \"#bd3786\"], [0.5555555555555556, \"#d8576b\"], [0.6666666666666666, \"#ed7953\"], [0.7777777777777778, \"#fb9f3a\"], [0.8888888888888888, \"#fdca26\"], [1.0, \"#f0f921\"]], \"sequentialminus\": [[0.0, \"#0d0887\"], [0.1111111111111111, \"#46039f\"], [0.2222222222222222, \"#7201a8\"], [0.3333333333333333, \"#9c179e\"], [0.4444444444444444, \"#bd3786\"], [0.5555555555555556, \"#d8576b\"], [0.6666666666666666, \"#ed7953\"], [0.7777777777777778, \"#fb9f3a\"], [0.8888888888888888, \"#fdca26\"], [1.0, \"#f0f921\"]]}, \"colorway\": [\"#636efa\", \"#EF553B\", \"#00cc96\", \"#ab63fa\", \"#FFA15A\", \"#19d3f3\", \"#FF6692\", \"#B6E880\", \"#FF97FF\", \"#FECB52\"], \"font\": {\"color\": \"#2a3f5f\"}, \"geo\": {\"bgcolor\": \"white\", \"lakecolor\": \"white\", \"landcolor\": \"#E5ECF6\", \"showlakes\": true, \"showland\": true, \"subunitcolor\": \"white\"}, \"hoverlabel\": {\"align\": \"left\"}, \"hovermode\": \"closest\", \"mapbox\": {\"style\": \"light\"}, \"paper_bgcolor\": \"white\", \"plot_bgcolor\": \"#E5ECF6\", \"polar\": {\"angularaxis\": {\"gridcolor\": \"white\", \"linecolor\": \"white\", \"ticks\": \"\"}, \"bgcolor\": \"#E5ECF6\", \"radialaxis\": {\"gridcolor\": \"white\", \"linecolor\": \"white\", \"ticks\": \"\"}}, \"scene\": {\"xaxis\": {\"backgroundcolor\": \"#E5ECF6\", \"gridcolor\": \"white\", \"gridwidth\": 2, \"linecolor\": \"white\", \"showbackground\": true, \"ticks\": \"\", \"zerolinecolor\": \"white\"}, \"yaxis\": {\"backgroundcolor\": \"#E5ECF6\", \"gridcolor\": \"white\", \"gridwidth\": 2, \"linecolor\": \"white\", \"showbackground\": true, \"ticks\": \"\", \"zerolinecolor\": \"white\"}, \"zaxis\": {\"backgroundcolor\": \"#E5ECF6\", \"gridcolor\": \"white\", \"gridwidth\": 2, \"linecolor\": \"white\", \"showbackground\": true, \"ticks\": \"\", \"zerolinecolor\": \"white\"}}, \"shapedefaults\": {\"line\": {\"color\": \"#2a3f5f\"}}, \"ternary\": {\"aaxis\": {\"gridcolor\": \"white\", \"linecolor\": \"white\", \"ticks\": \"\"}, \"baxis\": {\"gridcolor\": \"white\", \"linecolor\": \"white\", \"ticks\": \"\"}, \"bgcolor\": \"#E5ECF6\", \"caxis\": {\"gridcolor\": \"white\", \"linecolor\": \"white\", \"ticks\": \"\"}}, \"title\": {\"x\": 0.05}, \"xaxis\": {\"automargin\": true, \"gridcolor\": \"white\", \"linecolor\": \"white\", \"ticks\": \"\", \"title\": {\"standoff\": 15}, \"zerolinecolor\": \"white\", \"zerolinewidth\": 2}, \"yaxis\": {\"automargin\": true, \"gridcolor\": \"white\", \"linecolor\": \"white\", \"ticks\": \"\", \"title\": {\"standoff\": 15}, \"zerolinecolor\": \"white\", \"zerolinewidth\": 2}}}, \"title\": {\"text\": \"Average Network Impressions of Net A vs Net B during the week\"}, \"yaxis\": {\"title\": {\"text\": \"Impressions\"}}},                        {\"responsive\": true}                    ).then(function(){\n",
       "                            \n",
       "var gd = document.getElementById('d4039d48-2867-4075-8765-1592d9f0ed9f');\n",
       "var x = new MutationObserver(function (mutations, observer) {{\n",
       "        var display = window.getComputedStyle(gd).display;\n",
       "        if (!display || display === 'none') {{\n",
       "            console.log([gd, 'removed!']);\n",
       "            Plotly.purge(gd);\n",
       "            observer.disconnect();\n",
       "        }}\n",
       "}});\n",
       "\n",
       "// Listen for the removal of the full notebook cells\n",
       "var notebookContainer = gd.closest('#notebook-container');\n",
       "if (notebookContainer) {{\n",
       "    x.observe(notebookContainer, {childList: true});\n",
       "}}\n",
       "\n",
       "// Listen for the clearing of the current output cell\n",
       "var outputEl = gd.closest('.output');\n",
       "if (outputEl) {{\n",
       "    x.observe(outputEl, {childList: true});\n",
       "}}\n",
       "\n",
       "                        })                };                });            </script>        </div>"
      ]
     },
     "metadata": {},
     "output_type": "display_data"
    }
   ],
   "source": [
    "fig = go.Figure(data=[go.Bar(name=\"NetA_imp\",\n",
    "            x=df_plot['Weekday'], y=df_plot['NetA_imp'],text=df_plot['NetA_imp'],\n",
    "            textposition='auto',marker=dict(\n",
    "        color='rgba(10, 78, 139, 0.6)',\n",
    "        line=dict(color='rgba(10, 78, 139, 1.0)', width=3))\n",
    "                            ),\n",
    "            go.Bar(name=\"NetB_imp\",\n",
    "            x=df_plot['Weekday'], y=df_plot['NetB_imp'],text=df_plot['NetB_imp'],\n",
    "            textposition='auto',marker=dict(\n",
    "        color='rgba(58, 71, 80, 0.6)',\n",
    "        line=dict(color='rgba(58, 71, 80, 1.0)', width=3)\n",
    "    )\n",
    "                  \n",
    "                  ),          \n",
    "            \n",
    "        ])\n",
    "\n",
    "fig.update_layout(title=\"Average Network Impressions of Net A vs Net B during the week\",\n",
    "    yaxis_title=\"Impressions\",barmode='group')\n",
    "fig.show()"
   ]
  },
  {
   "cell_type": "code",
   "execution_count": 140,
   "id": "exceptional-giant",
   "metadata": {},
   "outputs": [
    {
     "data": {
      "text/html": [
       "<div>\n",
       "<style scoped>\n",
       "    .dataframe tbody tr th:only-of-type {\n",
       "        vertical-align: middle;\n",
       "    }\n",
       "\n",
       "    .dataframe tbody tr th {\n",
       "        vertical-align: top;\n",
       "    }\n",
       "\n",
       "    .dataframe thead th {\n",
       "        text-align: right;\n",
       "    }\n",
       "</style>\n",
       "<table border=\"1\" class=\"dataframe\">\n",
       "  <thead>\n",
       "    <tr style=\"text-align: right;\">\n",
       "      <th></th>\n",
       "      <th>Date</th>\n",
       "      <th>Page Views</th>\n",
       "      <th>NetA_imp</th>\n",
       "      <th>NetA_spd</th>\n",
       "      <th>NetB_imp</th>\n",
       "      <th>NetB_spd</th>\n",
       "    </tr>\n",
       "  </thead>\n",
       "  <tbody>\n",
       "    <tr>\n",
       "      <th>0</th>\n",
       "      <td>2019-07-07</td>\n",
       "      <td>3363</td>\n",
       "      <td>421</td>\n",
       "      <td>159</td>\n",
       "      <td>381</td>\n",
       "      <td>176</td>\n",
       "    </tr>\n",
       "    <tr>\n",
       "      <th>1</th>\n",
       "      <td>2019-07-08</td>\n",
       "      <td>4160</td>\n",
       "      <td>392</td>\n",
       "      <td>1066</td>\n",
       "      <td>316</td>\n",
       "      <td>774</td>\n",
       "    </tr>\n",
       "    <tr>\n",
       "      <th>2</th>\n",
       "      <td>2019-07-09</td>\n",
       "      <td>3619</td>\n",
       "      <td>756</td>\n",
       "      <td>877</td>\n",
       "      <td>671</td>\n",
       "      <td>5010</td>\n",
       "    </tr>\n",
       "    <tr>\n",
       "      <th>3</th>\n",
       "      <td>2019-07-10</td>\n",
       "      <td>3474</td>\n",
       "      <td>128</td>\n",
       "      <td>130</td>\n",
       "      <td>401</td>\n",
       "      <td>492</td>\n",
       "    </tr>\n",
       "    <tr>\n",
       "      <th>4</th>\n",
       "      <td>2019-07-11</td>\n",
       "      <td>3547</td>\n",
       "      <td>154</td>\n",
       "      <td>1994</td>\n",
       "      <td>182</td>\n",
       "      <td>230</td>\n",
       "    </tr>\n",
       "  </tbody>\n",
       "</table>\n",
       "</div>"
      ],
      "text/plain": [
       "         Date  Page Views  NetA_imp  NetA_spd  NetB_imp  NetB_spd\n",
       "0  2019-07-07        3363       421       159       381       176\n",
       "1  2019-07-08        4160       392      1066       316       774\n",
       "2  2019-07-09        3619       756       877       671      5010\n",
       "3  2019-07-10        3474       128       130       401       492\n",
       "4  2019-07-11        3547       154      1994       182       230"
      ]
     },
     "execution_count": 140,
     "metadata": {},
     "output_type": "execute_result"
    }
   ],
   "source": [
    "df_daily_agg.head()"
   ]
  },
  {
   "cell_type": "markdown",
   "id": "mechanical-sugar",
   "metadata": {},
   "source": [
    "### Q2 - Explorary Analysis of Feature relationships"
   ]
  },
  {
   "cell_type": "code",
   "execution_count": 141,
   "id": "rolled-kennedy",
   "metadata": {},
   "outputs": [
    {
     "data": {
      "application/vnd.plotly.v1+json": {
       "config": {
        "plotlyServerURL": "https://plot.ly"
       },
       "data": [
        {
         "dimensions": [
          {
           "axis": {
            "matches": true
           },
           "label": "Page Views",
           "values": [
            3363
           ]
          },
          {
           "axis": {
            "matches": true
           },
           "label": "NetA_imp",
           "values": [
            421
           ]
          },
          {
           "axis": {
            "matches": true
           },
           "label": "NetA_spd",
           "values": [
            159
           ]
          },
          {
           "axis": {
            "matches": true
           },
           "label": "NetB_imp",
           "values": [
            381
           ]
          },
          {
           "axis": {
            "matches": true
           },
           "label": "NetB_spd",
           "values": [
            176
           ]
          }
         ],
         "hovertemplate": "Date=2019-07-07<br>%{xaxis.title.text}=%{x}<br>%{yaxis.title.text}=%{y}<extra></extra>",
         "legendgroup": "2019-07-07",
         "marker": {
          "color": "#636efa",
          "symbol": "circle"
         },
         "name": "2019-07-07",
         "showlegend": true,
         "type": "splom"
        },
        {
         "dimensions": [
          {
           "axis": {
            "matches": true
           },
           "label": "Page Views",
           "values": [
            4160
           ]
          },
          {
           "axis": {
            "matches": true
           },
           "label": "NetA_imp",
           "values": [
            392
           ]
          },
          {
           "axis": {
            "matches": true
           },
           "label": "NetA_spd",
           "values": [
            1066
           ]
          },
          {
           "axis": {
            "matches": true
           },
           "label": "NetB_imp",
           "values": [
            316
           ]
          },
          {
           "axis": {
            "matches": true
           },
           "label": "NetB_spd",
           "values": [
            774
           ]
          }
         ],
         "hovertemplate": "Date=2019-07-08<br>%{xaxis.title.text}=%{x}<br>%{yaxis.title.text}=%{y}<extra></extra>",
         "legendgroup": "2019-07-08",
         "marker": {
          "color": "#EF553B",
          "symbol": "circle"
         },
         "name": "2019-07-08",
         "showlegend": true,
         "type": "splom"
        },
        {
         "dimensions": [
          {
           "axis": {
            "matches": true
           },
           "label": "Page Views",
           "values": [
            3619
           ]
          },
          {
           "axis": {
            "matches": true
           },
           "label": "NetA_imp",
           "values": [
            756
           ]
          },
          {
           "axis": {
            "matches": true
           },
           "label": "NetA_spd",
           "values": [
            877
           ]
          },
          {
           "axis": {
            "matches": true
           },
           "label": "NetB_imp",
           "values": [
            671
           ]
          },
          {
           "axis": {
            "matches": true
           },
           "label": "NetB_spd",
           "values": [
            5010
           ]
          }
         ],
         "hovertemplate": "Date=2019-07-09<br>%{xaxis.title.text}=%{x}<br>%{yaxis.title.text}=%{y}<extra></extra>",
         "legendgroup": "2019-07-09",
         "marker": {
          "color": "#00cc96",
          "symbol": "circle"
         },
         "name": "2019-07-09",
         "showlegend": true,
         "type": "splom"
        },
        {
         "dimensions": [
          {
           "axis": {
            "matches": true
           },
           "label": "Page Views",
           "values": [
            3474
           ]
          },
          {
           "axis": {
            "matches": true
           },
           "label": "NetA_imp",
           "values": [
            128
           ]
          },
          {
           "axis": {
            "matches": true
           },
           "label": "NetA_spd",
           "values": [
            130
           ]
          },
          {
           "axis": {
            "matches": true
           },
           "label": "NetB_imp",
           "values": [
            401
           ]
          },
          {
           "axis": {
            "matches": true
           },
           "label": "NetB_spd",
           "values": [
            492
           ]
          }
         ],
         "hovertemplate": "Date=2019-07-10<br>%{xaxis.title.text}=%{x}<br>%{yaxis.title.text}=%{y}<extra></extra>",
         "legendgroup": "2019-07-10",
         "marker": {
          "color": "#ab63fa",
          "symbol": "circle"
         },
         "name": "2019-07-10",
         "showlegend": true,
         "type": "splom"
        },
        {
         "dimensions": [
          {
           "axis": {
            "matches": true
           },
           "label": "Page Views",
           "values": [
            3547
           ]
          },
          {
           "axis": {
            "matches": true
           },
           "label": "NetA_imp",
           "values": [
            154
           ]
          },
          {
           "axis": {
            "matches": true
           },
           "label": "NetA_spd",
           "values": [
            1994
           ]
          },
          {
           "axis": {
            "matches": true
           },
           "label": "NetB_imp",
           "values": [
            182
           ]
          },
          {
           "axis": {
            "matches": true
           },
           "label": "NetB_spd",
           "values": [
            230
           ]
          }
         ],
         "hovertemplate": "Date=2019-07-11<br>%{xaxis.title.text}=%{x}<br>%{yaxis.title.text}=%{y}<extra></extra>",
         "legendgroup": "2019-07-11",
         "marker": {
          "color": "#FFA15A",
          "symbol": "circle"
         },
         "name": "2019-07-11",
         "showlegend": true,
         "type": "splom"
        },
        {
         "dimensions": [
          {
           "axis": {
            "matches": true
           },
           "label": "Page Views",
           "values": [
            3277
           ]
          },
          {
           "axis": {
            "matches": true
           },
           "label": "NetA_imp",
           "values": [
            104
           ]
          },
          {
           "axis": {
            "matches": true
           },
           "label": "NetA_spd",
           "values": [
            4740
           ]
          },
          {
           "axis": {
            "matches": true
           },
           "label": "NetB_imp",
           "values": [
            365
           ]
          },
          {
           "axis": {
            "matches": true
           },
           "label": "NetB_spd",
           "values": [
            1408
           ]
          }
         ],
         "hovertemplate": "Date=2019-07-12<br>%{xaxis.title.text}=%{x}<br>%{yaxis.title.text}=%{y}<extra></extra>",
         "legendgroup": "2019-07-12",
         "marker": {
          "color": "#19d3f3",
          "symbol": "circle"
         },
         "name": "2019-07-12",
         "showlegend": true,
         "type": "splom"
        },
        {
         "dimensions": [
          {
           "axis": {
            "matches": true
           },
           "label": "Page Views",
           "values": [
            3332
           ]
          },
          {
           "axis": {
            "matches": true
           },
           "label": "NetA_imp",
           "values": [
            65
           ]
          },
          {
           "axis": {
            "matches": true
           },
           "label": "NetA_spd",
           "values": [
            993
           ]
          },
          {
           "axis": {
            "matches": true
           },
           "label": "NetB_imp",
           "values": [
            450
           ]
          },
          {
           "axis": {
            "matches": true
           },
           "label": "NetB_spd",
           "values": [
            1841
           ]
          }
         ],
         "hovertemplate": "Date=2019-07-13<br>%{xaxis.title.text}=%{x}<br>%{yaxis.title.text}=%{y}<extra></extra>",
         "legendgroup": "2019-07-13",
         "marker": {
          "color": "#FF6692",
          "symbol": "circle"
         },
         "name": "2019-07-13",
         "showlegend": true,
         "type": "splom"
        },
        {
         "dimensions": [
          {
           "axis": {
            "matches": true
           },
           "label": "Page Views",
           "values": [
            3858
           ]
          },
          {
           "axis": {
            "matches": true
           },
           "label": "NetA_imp",
           "values": [
            155
           ]
          },
          {
           "axis": {
            "matches": true
           },
           "label": "NetA_spd",
           "values": [
            938
           ]
          },
          {
           "axis": {
            "matches": true
           },
           "label": "NetB_imp",
           "values": [
            35
           ]
          },
          {
           "axis": {
            "matches": true
           },
           "label": "NetB_spd",
           "values": [
            878
           ]
          }
         ],
         "hovertemplate": "Date=2019-07-14<br>%{xaxis.title.text}=%{x}<br>%{yaxis.title.text}=%{y}<extra></extra>",
         "legendgroup": "2019-07-14",
         "marker": {
          "color": "#B6E880",
          "symbol": "circle"
         },
         "name": "2019-07-14",
         "showlegend": true,
         "type": "splom"
        },
        {
         "dimensions": [
          {
           "axis": {
            "matches": true
           },
           "label": "Page Views",
           "values": [
            4918
           ]
          },
          {
           "axis": {
            "matches": true
           },
           "label": "NetA_imp",
           "values": [
            108
           ]
          },
          {
           "axis": {
            "matches": true
           },
           "label": "NetA_spd",
           "values": [
            1777
           ]
          },
          {
           "axis": {
            "matches": true
           },
           "label": "NetB_imp",
           "values": [
            63
           ]
          },
          {
           "axis": {
            "matches": true
           },
           "label": "NetB_spd",
           "values": [
            2431
           ]
          }
         ],
         "hovertemplate": "Date=2019-07-15<br>%{xaxis.title.text}=%{x}<br>%{yaxis.title.text}=%{y}<extra></extra>",
         "legendgroup": "2019-07-15",
         "marker": {
          "color": "#FF97FF",
          "symbol": "circle"
         },
         "name": "2019-07-15",
         "showlegend": true,
         "type": "splom"
        },
        {
         "dimensions": [
          {
           "axis": {
            "matches": true
           },
           "label": "Page Views",
           "values": [
            3939
           ]
          },
          {
           "axis": {
            "matches": true
           },
           "label": "NetA_imp",
           "values": [
            117
           ]
          },
          {
           "axis": {
            "matches": true
           },
           "label": "NetA_spd",
           "values": [
            974
           ]
          },
          {
           "axis": {
            "matches": true
           },
           "label": "NetB_imp",
           "values": [
            2
           ]
          },
          {
           "axis": {
            "matches": true
           },
           "label": "NetB_spd",
           "values": [
            73
           ]
          }
         ],
         "hovertemplate": "Date=2019-07-16<br>%{xaxis.title.text}=%{x}<br>%{yaxis.title.text}=%{y}<extra></extra>",
         "legendgroup": "2019-07-16",
         "marker": {
          "color": "#FECB52",
          "symbol": "circle"
         },
         "name": "2019-07-16",
         "showlegend": true,
         "type": "splom"
        },
        {
         "dimensions": [
          {
           "axis": {
            "matches": true
           },
           "label": "Page Views",
           "values": [
            3763
           ]
          },
          {
           "axis": {
            "matches": true
           },
           "label": "NetA_imp",
           "values": [
            185
           ]
          },
          {
           "axis": {
            "matches": true
           },
           "label": "NetA_spd",
           "values": [
            4935
           ]
          },
          {
           "axis": {
            "matches": true
           },
           "label": "NetB_imp",
           "values": [
            54
           ]
          },
          {
           "axis": {
            "matches": true
           },
           "label": "NetB_spd",
           "values": [
            911
           ]
          }
         ],
         "hovertemplate": "Date=2019-07-17<br>%{xaxis.title.text}=%{x}<br>%{yaxis.title.text}=%{y}<extra></extra>",
         "legendgroup": "2019-07-17",
         "marker": {
          "color": "#636efa",
          "symbol": "circle"
         },
         "name": "2019-07-17",
         "showlegend": true,
         "type": "splom"
        },
        {
         "dimensions": [
          {
           "axis": {
            "matches": true
           },
           "label": "Page Views",
           "values": [
            3691
           ]
          },
          {
           "axis": {
            "matches": true
           },
           "label": "NetA_imp",
           "values": [
            212
           ]
          },
          {
           "axis": {
            "matches": true
           },
           "label": "NetA_spd",
           "values": [
            2697
           ]
          },
          {
           "axis": {
            "matches": true
           },
           "label": "NetB_imp",
           "values": [
            38
           ]
          },
          {
           "axis": {
            "matches": true
           },
           "label": "NetB_spd",
           "values": [
            852
           ]
          }
         ],
         "hovertemplate": "Date=2019-07-18<br>%{xaxis.title.text}=%{x}<br>%{yaxis.title.text}=%{y}<extra></extra>",
         "legendgroup": "2019-07-18",
         "marker": {
          "color": "#EF553B",
          "symbol": "circle"
         },
         "name": "2019-07-18",
         "showlegend": true,
         "type": "splom"
        },
        {
         "dimensions": [
          {
           "axis": {
            "matches": true
           },
           "label": "Page Views",
           "values": [
            3538
           ]
          },
          {
           "axis": {
            "matches": true
           },
           "label": "NetA_imp",
           "values": [
            64
           ]
          },
          {
           "axis": {
            "matches": true
           },
           "label": "NetA_spd",
           "values": [
            0
           ]
          },
          {
           "axis": {
            "matches": true
           },
           "label": "NetB_imp",
           "values": [
            50
           ]
          },
          {
           "axis": {
            "matches": true
           },
           "label": "NetB_spd",
           "values": [
            1845
           ]
          }
         ],
         "hovertemplate": "Date=2019-07-19<br>%{xaxis.title.text}=%{x}<br>%{yaxis.title.text}=%{y}<extra></extra>",
         "legendgroup": "2019-07-19",
         "marker": {
          "color": "#00cc96",
          "symbol": "circle"
         },
         "name": "2019-07-19",
         "showlegend": true,
         "type": "splom"
        },
        {
         "dimensions": [
          {
           "axis": {
            "matches": true
           },
           "label": "Page Views",
           "values": [
            3430
           ]
          },
          {
           "axis": {
            "matches": true
           },
           "label": "NetA_imp",
           "values": [
            155
           ]
          },
          {
           "axis": {
            "matches": true
           },
           "label": "NetA_spd",
           "values": [
            210
           ]
          },
          {
           "axis": {
            "matches": true
           },
           "label": "NetB_imp",
           "values": [
            54
           ]
          },
          {
           "axis": {
            "matches": true
           },
           "label": "NetB_spd",
           "values": [
            1615
           ]
          }
         ],
         "hovertemplate": "Date=2019-07-20<br>%{xaxis.title.text}=%{x}<br>%{yaxis.title.text}=%{y}<extra></extra>",
         "legendgroup": "2019-07-20",
         "marker": {
          "color": "#ab63fa",
          "symbol": "circle"
         },
         "name": "2019-07-20",
         "showlegend": true,
         "type": "splom"
        },
        {
         "dimensions": [
          {
           "axis": {
            "matches": true
           },
           "label": "Page Views",
           "values": [
            3841
           ]
          },
          {
           "axis": {
            "matches": true
           },
           "label": "NetA_imp",
           "values": [
            62
           ]
          },
          {
           "axis": {
            "matches": true
           },
           "label": "NetA_spd",
           "values": [
            827
           ]
          },
          {
           "axis": {
            "matches": true
           },
           "label": "NetB_imp",
           "values": [
            103
           ]
          },
          {
           "axis": {
            "matches": true
           },
           "label": "NetB_spd",
           "values": [
            3341
           ]
          }
         ],
         "hovertemplate": "Date=2019-07-21<br>%{xaxis.title.text}=%{x}<br>%{yaxis.title.text}=%{y}<extra></extra>",
         "legendgroup": "2019-07-21",
         "marker": {
          "color": "#FFA15A",
          "symbol": "circle"
         },
         "name": "2019-07-21",
         "showlegend": true,
         "type": "splom"
        },
        {
         "dimensions": [
          {
           "axis": {
            "matches": true
           },
           "label": "Page Views",
           "values": [
            4199
           ]
          },
          {
           "axis": {
            "matches": true
           },
           "label": "NetA_imp",
           "values": [
            118
           ]
          },
          {
           "axis": {
            "matches": true
           },
           "label": "NetA_spd",
           "values": [
            4927
           ]
          },
          {
           "axis": {
            "matches": true
           },
           "label": "NetB_imp",
           "values": [
            94
           ]
          },
          {
           "axis": {
            "matches": true
           },
           "label": "NetB_spd",
           "values": [
            3398
           ]
          }
         ],
         "hovertemplate": "Date=2019-07-22<br>%{xaxis.title.text}=%{x}<br>%{yaxis.title.text}=%{y}<extra></extra>",
         "legendgroup": "2019-07-22",
         "marker": {
          "color": "#19d3f3",
          "symbol": "circle"
         },
         "name": "2019-07-22",
         "showlegend": true,
         "type": "splom"
        },
        {
         "dimensions": [
          {
           "axis": {
            "matches": true
           },
           "label": "Page Views",
           "values": [
            3770
           ]
          },
          {
           "axis": {
            "matches": true
           },
           "label": "NetA_imp",
           "values": [
            23
           ]
          },
          {
           "axis": {
            "matches": true
           },
           "label": "NetA_spd",
           "values": [
            426
           ]
          },
          {
           "axis": {
            "matches": true
           },
           "label": "NetB_imp",
           "values": [
            73
           ]
          },
          {
           "axis": {
            "matches": true
           },
           "label": "NetB_spd",
           "values": [
            2768
           ]
          }
         ],
         "hovertemplate": "Date=2019-07-23<br>%{xaxis.title.text}=%{x}<br>%{yaxis.title.text}=%{y}<extra></extra>",
         "legendgroup": "2019-07-23",
         "marker": {
          "color": "#FF6692",
          "symbol": "circle"
         },
         "name": "2019-07-23",
         "showlegend": true,
         "type": "splom"
        },
        {
         "dimensions": [
          {
           "axis": {
            "matches": true
           },
           "label": "Page Views",
           "values": [
            3458
           ]
          },
          {
           "axis": {
            "matches": true
           },
           "label": "NetA_imp",
           "values": [
            62
           ]
          },
          {
           "axis": {
            "matches": true
           },
           "label": "NetA_spd",
           "values": [
            3037
           ]
          },
          {
           "axis": {
            "matches": true
           },
           "label": "NetB_imp",
           "values": [
            100
           ]
          },
          {
           "axis": {
            "matches": true
           },
           "label": "NetB_spd",
           "values": [
            2825
           ]
          }
         ],
         "hovertemplate": "Date=2019-07-24<br>%{xaxis.title.text}=%{x}<br>%{yaxis.title.text}=%{y}<extra></extra>",
         "legendgroup": "2019-07-24",
         "marker": {
          "color": "#B6E880",
          "symbol": "circle"
         },
         "name": "2019-07-24",
         "showlegend": true,
         "type": "splom"
        },
        {
         "dimensions": [
          {
           "axis": {
            "matches": true
           },
           "label": "Page Views",
           "values": [
            3631
           ]
          },
          {
           "axis": {
            "matches": true
           },
           "label": "NetA_imp",
           "values": [
            26
           ]
          },
          {
           "axis": {
            "matches": true
           },
           "label": "NetA_spd",
           "values": [
            939
           ]
          },
          {
           "axis": {
            "matches": true
           },
           "label": "NetB_imp",
           "values": [
            20
           ]
          },
          {
           "axis": {
            "matches": true
           },
           "label": "NetB_spd",
           "values": [
            362
           ]
          }
         ],
         "hovertemplate": "Date=2019-07-25<br>%{xaxis.title.text}=%{x}<br>%{yaxis.title.text}=%{y}<extra></extra>",
         "legendgroup": "2019-07-25",
         "marker": {
          "color": "#FF97FF",
          "symbol": "circle"
         },
         "name": "2019-07-25",
         "showlegend": true,
         "type": "splom"
        },
        {
         "dimensions": [
          {
           "axis": {
            "matches": true
           },
           "label": "Page Views",
           "values": [
            3367
           ]
          },
          {
           "axis": {
            "matches": true
           },
           "label": "NetA_imp",
           "values": [
            31
           ]
          },
          {
           "axis": {
            "matches": true
           },
           "label": "NetA_spd",
           "values": [
            530
           ]
          },
          {
           "axis": {
            "matches": true
           },
           "label": "NetB_imp",
           "values": [
            80
           ]
          },
          {
           "axis": {
            "matches": true
           },
           "label": "NetB_spd",
           "values": [
            3123
           ]
          }
         ],
         "hovertemplate": "Date=2019-07-26<br>%{xaxis.title.text}=%{x}<br>%{yaxis.title.text}=%{y}<extra></extra>",
         "legendgroup": "2019-07-26",
         "marker": {
          "color": "#FECB52",
          "symbol": "circle"
         },
         "name": "2019-07-26",
         "showlegend": true,
         "type": "splom"
        },
        {
         "dimensions": [
          {
           "axis": {
            "matches": true
           },
           "label": "Page Views",
           "values": [
            3410
           ]
          },
          {
           "axis": {
            "matches": true
           },
           "label": "NetA_imp",
           "values": [
            49
           ]
          },
          {
           "axis": {
            "matches": true
           },
           "label": "NetA_spd",
           "values": [
            567
           ]
          },
          {
           "axis": {
            "matches": true
           },
           "label": "NetB_imp",
           "values": [
            47
           ]
          },
          {
           "axis": {
            "matches": true
           },
           "label": "NetB_spd",
           "values": [
            993
           ]
          }
         ],
         "hovertemplate": "Date=2019-07-27<br>%{xaxis.title.text}=%{x}<br>%{yaxis.title.text}=%{y}<extra></extra>",
         "legendgroup": "2019-07-27",
         "marker": {
          "color": "#636efa",
          "symbol": "circle"
         },
         "name": "2019-07-27",
         "showlegend": true,
         "type": "splom"
        },
        {
         "dimensions": [
          {
           "axis": {
            "matches": true
           },
           "label": "Page Views",
           "values": [
            3646
           ]
          },
          {
           "axis": {
            "matches": true
           },
           "label": "NetA_imp",
           "values": [
            67
           ]
          },
          {
           "axis": {
            "matches": true
           },
           "label": "NetA_spd",
           "values": [
            3455
           ]
          },
          {
           "axis": {
            "matches": true
           },
           "label": "NetB_imp",
           "values": [
            63
           ]
          },
          {
           "axis": {
            "matches": true
           },
           "label": "NetB_spd",
           "values": [
            3291
           ]
          }
         ],
         "hovertemplate": "Date=2019-07-28<br>%{xaxis.title.text}=%{x}<br>%{yaxis.title.text}=%{y}<extra></extra>",
         "legendgroup": "2019-07-28",
         "marker": {
          "color": "#EF553B",
          "symbol": "circle"
         },
         "name": "2019-07-28",
         "showlegend": true,
         "type": "splom"
        },
        {
         "dimensions": [
          {
           "axis": {
            "matches": true
           },
           "label": "Page Views",
           "values": [
            3475
           ]
          },
          {
           "axis": {
            "matches": true
           },
           "label": "NetA_imp",
           "values": [
            110
           ]
          },
          {
           "axis": {
            "matches": true
           },
           "label": "NetA_spd",
           "values": [
            5890
           ]
          },
          {
           "axis": {
            "matches": true
           },
           "label": "NetB_imp",
           "values": [
            80
           ]
          },
          {
           "axis": {
            "matches": true
           },
           "label": "NetB_spd",
           "values": [
            3622
           ]
          }
         ],
         "hovertemplate": "Date=2019-07-29<br>%{xaxis.title.text}=%{x}<br>%{yaxis.title.text}=%{y}<extra></extra>",
         "legendgroup": "2019-07-29",
         "marker": {
          "color": "#00cc96",
          "symbol": "circle"
         },
         "name": "2019-07-29",
         "showlegend": true,
         "type": "splom"
        },
        {
         "dimensions": [
          {
           "axis": {
            "matches": true
           },
           "label": "Page Views",
           "values": [
            3087
           ]
          },
          {
           "axis": {
            "matches": true
           },
           "label": "NetA_imp",
           "values": [
            21
           ]
          },
          {
           "axis": {
            "matches": true
           },
           "label": "NetA_spd",
           "values": [
            678
           ]
          },
          {
           "axis": {
            "matches": true
           },
           "label": "NetB_imp",
           "values": [
            81
           ]
          },
          {
           "axis": {
            "matches": true
           },
           "label": "NetB_spd",
           "values": [
            3903
           ]
          }
         ],
         "hovertemplate": "Date=2019-07-30<br>%{xaxis.title.text}=%{x}<br>%{yaxis.title.text}=%{y}<extra></extra>",
         "legendgroup": "2019-07-30",
         "marker": {
          "color": "#ab63fa",
          "symbol": "circle"
         },
         "name": "2019-07-30",
         "showlegend": true,
         "type": "splom"
        },
        {
         "dimensions": [
          {
           "axis": {
            "matches": true
           },
           "label": "Page Views",
           "values": [
            2754
           ]
          },
          {
           "axis": {
            "matches": true
           },
           "label": "NetA_imp",
           "values": [
            30
           ]
          },
          {
           "axis": {
            "matches": true
           },
           "label": "NetA_spd",
           "values": [
            1264
           ]
          },
          {
           "axis": {
            "matches": true
           },
           "label": "NetB_imp",
           "values": [
            47
           ]
          },
          {
           "axis": {
            "matches": true
           },
           "label": "NetB_spd",
           "values": [
            1638
           ]
          }
         ],
         "hovertemplate": "Date=2019-07-31<br>%{xaxis.title.text}=%{x}<br>%{yaxis.title.text}=%{y}<extra></extra>",
         "legendgroup": "2019-07-31",
         "marker": {
          "color": "#FFA15A",
          "symbol": "circle"
         },
         "name": "2019-07-31",
         "showlegend": true,
         "type": "splom"
        },
        {
         "dimensions": [
          {
           "axis": {
            "matches": true
           },
           "label": "Page Views",
           "values": [
            2783
           ]
          },
          {
           "axis": {
            "matches": true
           },
           "label": "NetA_imp",
           "values": [
            2
           ]
          },
          {
           "axis": {
            "matches": true
           },
           "label": "NetA_spd",
           "values": [
            137
           ]
          },
          {
           "axis": {
            "matches": true
           },
           "label": "NetB_imp",
           "values": [
            33
           ]
          },
          {
           "axis": {
            "matches": true
           },
           "label": "NetB_spd",
           "values": [
            913
           ]
          }
         ],
         "hovertemplate": "Date=2019-08-01<br>%{xaxis.title.text}=%{x}<br>%{yaxis.title.text}=%{y}<extra></extra>",
         "legendgroup": "2019-08-01",
         "marker": {
          "color": "#19d3f3",
          "symbol": "circle"
         },
         "name": "2019-08-01",
         "showlegend": true,
         "type": "splom"
        },
        {
         "dimensions": [
          {
           "axis": {
            "matches": true
           },
           "label": "Page Views",
           "values": [
            2658
           ]
          },
          {
           "axis": {
            "matches": true
           },
           "label": "NetA_imp",
           "values": [
            40
           ]
          },
          {
           "axis": {
            "matches": true
           },
           "label": "NetA_spd",
           "values": [
            823
           ]
          },
          {
           "axis": {
            "matches": true
           },
           "label": "NetB_imp",
           "values": [
            0
           ]
          },
          {
           "axis": {
            "matches": true
           },
           "label": "NetB_spd",
           "values": [
            0
           ]
          }
         ],
         "hovertemplate": "Date=2019-08-02<br>%{xaxis.title.text}=%{x}<br>%{yaxis.title.text}=%{y}<extra></extra>",
         "legendgroup": "2019-08-02",
         "marker": {
          "color": "#FF6692",
          "symbol": "circle"
         },
         "name": "2019-08-02",
         "showlegend": true,
         "type": "splom"
        },
        {
         "dimensions": [
          {
           "axis": {
            "matches": true
           },
           "label": "Page Views",
           "values": [
            2748
           ]
          },
          {
           "axis": {
            "matches": true
           },
           "label": "NetA_imp",
           "values": [
            21
           ]
          },
          {
           "axis": {
            "matches": true
           },
           "label": "NetA_spd",
           "values": [
            405
           ]
          },
          {
           "axis": {
            "matches": true
           },
           "label": "NetB_imp",
           "values": [
            42
           ]
          },
          {
           "axis": {
            "matches": true
           },
           "label": "NetB_spd",
           "values": [
            1170
           ]
          }
         ],
         "hovertemplate": "Date=2019-08-03<br>%{xaxis.title.text}=%{x}<br>%{yaxis.title.text}=%{y}<extra></extra>",
         "legendgroup": "2019-08-03",
         "marker": {
          "color": "#B6E880",
          "symbol": "circle"
         },
         "name": "2019-08-03",
         "showlegend": true,
         "type": "splom"
        },
        {
         "dimensions": [
          {
           "axis": {
            "matches": true
           },
           "label": "Page Views",
           "values": [
            3000
           ]
          },
          {
           "axis": {
            "matches": true
           },
           "label": "NetA_imp",
           "values": [
            83
           ]
          },
          {
           "axis": {
            "matches": true
           },
           "label": "NetA_spd",
           "values": [
            2134
           ]
          },
          {
           "axis": {
            "matches": true
           },
           "label": "NetB_imp",
           "values": [
            56
           ]
          },
          {
           "axis": {
            "matches": true
           },
           "label": "NetB_spd",
           "values": [
            2018
           ]
          }
         ],
         "hovertemplate": "Date=2019-08-04<br>%{xaxis.title.text}=%{x}<br>%{yaxis.title.text}=%{y}<extra></extra>",
         "legendgroup": "2019-08-04",
         "marker": {
          "color": "#FF97FF",
          "symbol": "circle"
         },
         "name": "2019-08-04",
         "showlegend": true,
         "type": "splom"
        },
        {
         "dimensions": [
          {
           "axis": {
            "matches": true
           },
           "label": "Page Views",
           "values": [
            3256
           ]
          },
          {
           "axis": {
            "matches": true
           },
           "label": "NetA_imp",
           "values": [
            146
           ]
          },
          {
           "axis": {
            "matches": true
           },
           "label": "NetA_spd",
           "values": [
            4025
           ]
          },
          {
           "axis": {
            "matches": true
           },
           "label": "NetB_imp",
           "values": [
            218
           ]
          },
          {
           "axis": {
            "matches": true
           },
           "label": "NetB_spd",
           "values": [
            7783
           ]
          }
         ],
         "hovertemplate": "Date=2019-08-05<br>%{xaxis.title.text}=%{x}<br>%{yaxis.title.text}=%{y}<extra></extra>",
         "legendgroup": "2019-08-05",
         "marker": {
          "color": "#FECB52",
          "symbol": "circle"
         },
         "name": "2019-08-05",
         "showlegend": true,
         "type": "splom"
        },
        {
         "dimensions": [
          {
           "axis": {
            "matches": true
           },
           "label": "Page Views",
           "values": [
            2865
           ]
          },
          {
           "axis": {
            "matches": true
           },
           "label": "NetA_imp",
           "values": [
            51
           ]
          },
          {
           "axis": {
            "matches": true
           },
           "label": "NetA_spd",
           "values": [
            1363
           ]
          },
          {
           "axis": {
            "matches": true
           },
           "label": "NetB_imp",
           "values": [
            170
           ]
          },
          {
           "axis": {
            "matches": true
           },
           "label": "NetB_spd",
           "values": [
            5257
           ]
          }
         ],
         "hovertemplate": "Date=2019-08-06<br>%{xaxis.title.text}=%{x}<br>%{yaxis.title.text}=%{y}<extra></extra>",
         "legendgroup": "2019-08-06",
         "marker": {
          "color": "#636efa",
          "symbol": "circle"
         },
         "name": "2019-08-06",
         "showlegend": true,
         "type": "splom"
        },
        {
         "dimensions": [
          {
           "axis": {
            "matches": true
           },
           "label": "Page Views",
           "values": [
            2693
           ]
          },
          {
           "axis": {
            "matches": true
           },
           "label": "NetA_imp",
           "values": [
            84
           ]
          },
          {
           "axis": {
            "matches": true
           },
           "label": "NetA_spd",
           "values": [
            2316
           ]
          },
          {
           "axis": {
            "matches": true
           },
           "label": "NetB_imp",
           "values": [
            129
           ]
          },
          {
           "axis": {
            "matches": true
           },
           "label": "NetB_spd",
           "values": [
            5960
           ]
          }
         ],
         "hovertemplate": "Date=2019-08-07<br>%{xaxis.title.text}=%{x}<br>%{yaxis.title.text}=%{y}<extra></extra>",
         "legendgroup": "2019-08-07",
         "marker": {
          "color": "#EF553B",
          "symbol": "circle"
         },
         "name": "2019-08-07",
         "showlegend": true,
         "type": "splom"
        },
        {
         "dimensions": [
          {
           "axis": {
            "matches": true
           },
           "label": "Page Views",
           "values": [
            2629
           ]
          },
          {
           "axis": {
            "matches": true
           },
           "label": "NetA_imp",
           "values": [
            193
           ]
          },
          {
           "axis": {
            "matches": true
           },
           "label": "NetA_spd",
           "values": [
            10376
           ]
          },
          {
           "axis": {
            "matches": true
           },
           "label": "NetB_imp",
           "values": [
            117
           ]
          },
          {
           "axis": {
            "matches": true
           },
           "label": "NetB_spd",
           "values": [
            2744
           ]
          }
         ],
         "hovertemplate": "Date=2019-08-08<br>%{xaxis.title.text}=%{x}<br>%{yaxis.title.text}=%{y}<extra></extra>",
         "legendgroup": "2019-08-08",
         "marker": {
          "color": "#00cc96",
          "symbol": "circle"
         },
         "name": "2019-08-08",
         "showlegend": true,
         "type": "splom"
        },
        {
         "dimensions": [
          {
           "axis": {
            "matches": true
           },
           "label": "Page Views",
           "values": [
            2922
           ]
          },
          {
           "axis": {
            "matches": true
           },
           "label": "NetA_imp",
           "values": [
            49
           ]
          },
          {
           "axis": {
            "matches": true
           },
           "label": "NetA_spd",
           "values": [
            1215
           ]
          },
          {
           "axis": {
            "matches": true
           },
           "label": "NetB_imp",
           "values": [
            134
           ]
          },
          {
           "axis": {
            "matches": true
           },
           "label": "NetB_spd",
           "values": [
            3807
           ]
          }
         ],
         "hovertemplate": "Date=2019-08-09<br>%{xaxis.title.text}=%{x}<br>%{yaxis.title.text}=%{y}<extra></extra>",
         "legendgroup": "2019-08-09",
         "marker": {
          "color": "#ab63fa",
          "symbol": "circle"
         },
         "name": "2019-08-09",
         "showlegend": true,
         "type": "splom"
        },
        {
         "dimensions": [
          {
           "axis": {
            "matches": true
           },
           "label": "Page Views",
           "values": [
            2873
           ]
          },
          {
           "axis": {
            "matches": true
           },
           "label": "NetA_imp",
           "values": [
            78
           ]
          },
          {
           "axis": {
            "matches": true
           },
           "label": "NetA_spd",
           "values": [
            1578
           ]
          },
          {
           "axis": {
            "matches": true
           },
           "label": "NetB_imp",
           "values": [
            90
           ]
          },
          {
           "axis": {
            "matches": true
           },
           "label": "NetB_spd",
           "values": [
            1345
           ]
          }
         ],
         "hovertemplate": "Date=2019-08-10<br>%{xaxis.title.text}=%{x}<br>%{yaxis.title.text}=%{y}<extra></extra>",
         "legendgroup": "2019-08-10",
         "marker": {
          "color": "#FFA15A",
          "symbol": "circle"
         },
         "name": "2019-08-10",
         "showlegend": true,
         "type": "splom"
        },
        {
         "dimensions": [
          {
           "axis": {
            "matches": true
           },
           "label": "Page Views",
           "values": [
            3057
           ]
          },
          {
           "axis": {
            "matches": true
           },
           "label": "NetA_imp",
           "values": [
            158
           ]
          },
          {
           "axis": {
            "matches": true
           },
           "label": "NetA_spd",
           "values": [
            6856
           ]
          },
          {
           "axis": {
            "matches": true
           },
           "label": "NetB_imp",
           "values": [
            44
           ]
          },
          {
           "axis": {
            "matches": true
           },
           "label": "NetB_spd",
           "values": [
            1081
           ]
          }
         ],
         "hovertemplate": "Date=2019-08-11<br>%{xaxis.title.text}=%{x}<br>%{yaxis.title.text}=%{y}<extra></extra>",
         "legendgroup": "2019-08-11",
         "marker": {
          "color": "#19d3f3",
          "symbol": "circle"
         },
         "name": "2019-08-11",
         "showlegend": true,
         "type": "splom"
        },
        {
         "dimensions": [
          {
           "axis": {
            "matches": true
           },
           "label": "Page Views",
           "values": [
            3357
           ]
          },
          {
           "axis": {
            "matches": true
           },
           "label": "NetA_imp",
           "values": [
            196
           ]
          },
          {
           "axis": {
            "matches": true
           },
           "label": "NetA_spd",
           "values": [
            4946
           ]
          },
          {
           "axis": {
            "matches": true
           },
           "label": "NetB_imp",
           "values": [
            130
           ]
          },
          {
           "axis": {
            "matches": true
           },
           "label": "NetB_spd",
           "values": [
            3585
           ]
          }
         ],
         "hovertemplate": "Date=2019-08-12<br>%{xaxis.title.text}=%{x}<br>%{yaxis.title.text}=%{y}<extra></extra>",
         "legendgroup": "2019-08-12",
         "marker": {
          "color": "#FF6692",
          "symbol": "circle"
         },
         "name": "2019-08-12",
         "showlegend": true,
         "type": "splom"
        },
        {
         "dimensions": [
          {
           "axis": {
            "matches": true
           },
           "label": "Page Views",
           "values": [
            3013
           ]
          },
          {
           "axis": {
            "matches": true
           },
           "label": "NetA_imp",
           "values": [
            94
           ]
          },
          {
           "axis": {
            "matches": true
           },
           "label": "NetA_spd",
           "values": [
            3042
           ]
          },
          {
           "axis": {
            "matches": true
           },
           "label": "NetB_imp",
           "values": [
            187
           ]
          },
          {
           "axis": {
            "matches": true
           },
           "label": "NetB_spd",
           "values": [
            5702
           ]
          }
         ],
         "hovertemplate": "Date=2019-08-13<br>%{xaxis.title.text}=%{x}<br>%{yaxis.title.text}=%{y}<extra></extra>",
         "legendgroup": "2019-08-13",
         "marker": {
          "color": "#B6E880",
          "symbol": "circle"
         },
         "name": "2019-08-13",
         "showlegend": true,
         "type": "splom"
        },
        {
         "dimensions": [
          {
           "axis": {
            "matches": true
           },
           "label": "Page Views",
           "values": [
            3542
           ]
          },
          {
           "axis": {
            "matches": true
           },
           "label": "NetA_imp",
           "values": [
            72
           ]
          },
          {
           "axis": {
            "matches": true
           },
           "label": "NetA_spd",
           "values": [
            1472
           ]
          },
          {
           "axis": {
            "matches": true
           },
           "label": "NetB_imp",
           "values": [
            178
           ]
          },
          {
           "axis": {
            "matches": true
           },
           "label": "NetB_spd",
           "values": [
            5270
           ]
          }
         ],
         "hovertemplate": "Date=2019-08-14<br>%{xaxis.title.text}=%{x}<br>%{yaxis.title.text}=%{y}<extra></extra>",
         "legendgroup": "2019-08-14",
         "marker": {
          "color": "#FF97FF",
          "symbol": "circle"
         },
         "name": "2019-08-14",
         "showlegend": true,
         "type": "splom"
        },
        {
         "dimensions": [
          {
           "axis": {
            "matches": true
           },
           "label": "Page Views",
           "values": [
            3093
           ]
          },
          {
           "axis": {
            "matches": true
           },
           "label": "NetA_imp",
           "values": [
            208
           ]
          },
          {
           "axis": {
            "matches": true
           },
           "label": "NetA_spd",
           "values": [
            8595
           ]
          },
          {
           "axis": {
            "matches": true
           },
           "label": "NetB_imp",
           "values": [
            111
           ]
          },
          {
           "axis": {
            "matches": true
           },
           "label": "NetB_spd",
           "values": [
            2740
           ]
          }
         ],
         "hovertemplate": "Date=2019-08-15<br>%{xaxis.title.text}=%{x}<br>%{yaxis.title.text}=%{y}<extra></extra>",
         "legendgroup": "2019-08-15",
         "marker": {
          "color": "#FECB52",
          "symbol": "circle"
         },
         "name": "2019-08-15",
         "showlegend": true,
         "type": "splom"
        },
        {
         "dimensions": [
          {
           "axis": {
            "matches": true
           },
           "label": "Page Views",
           "values": [
            2714
           ]
          },
          {
           "axis": {
            "matches": true
           },
           "label": "NetA_imp",
           "values": [
            24
           ]
          },
          {
           "axis": {
            "matches": true
           },
           "label": "NetA_spd",
           "values": [
            607
           ]
          },
          {
           "axis": {
            "matches": true
           },
           "label": "NetB_imp",
           "values": [
            110
           ]
          },
          {
           "axis": {
            "matches": true
           },
           "label": "NetB_spd",
           "values": [
            4937
           ]
          }
         ],
         "hovertemplate": "Date=2019-08-16<br>%{xaxis.title.text}=%{x}<br>%{yaxis.title.text}=%{y}<extra></extra>",
         "legendgroup": "2019-08-16",
         "marker": {
          "color": "#636efa",
          "symbol": "circle"
         },
         "name": "2019-08-16",
         "showlegend": true,
         "type": "splom"
        },
        {
         "dimensions": [
          {
           "axis": {
            "matches": true
           },
           "label": "Page Views",
           "values": [
            2809
           ]
          },
          {
           "axis": {
            "matches": true
           },
           "label": "NetA_imp",
           "values": [
            52
           ]
          },
          {
           "axis": {
            "matches": true
           },
           "label": "NetA_spd",
           "values": [
            465
           ]
          },
          {
           "axis": {
            "matches": true
           },
           "label": "NetB_imp",
           "values": [
            123
           ]
          },
          {
           "axis": {
            "matches": true
           },
           "label": "NetB_spd",
           "values": [
            3524
           ]
          }
         ],
         "hovertemplate": "Date=2019-08-17<br>%{xaxis.title.text}=%{x}<br>%{yaxis.title.text}=%{y}<extra></extra>",
         "legendgroup": "2019-08-17",
         "marker": {
          "color": "#EF553B",
          "symbol": "circle"
         },
         "name": "2019-08-17",
         "showlegend": true,
         "type": "splom"
        },
        {
         "dimensions": [
          {
           "axis": {
            "matches": true
           },
           "label": "Page Views",
           "values": [
            3113
           ]
          },
          {
           "axis": {
            "matches": true
           },
           "label": "NetA_imp",
           "values": [
            185
           ]
          },
          {
           "axis": {
            "matches": true
           },
           "label": "NetA_spd",
           "values": [
            6226
           ]
          },
          {
           "axis": {
            "matches": true
           },
           "label": "NetB_imp",
           "values": [
            156
           ]
          },
          {
           "axis": {
            "matches": true
           },
           "label": "NetB_spd",
           "values": [
            6690
           ]
          }
         ],
         "hovertemplate": "Date=2019-08-18<br>%{xaxis.title.text}=%{x}<br>%{yaxis.title.text}=%{y}<extra></extra>",
         "legendgroup": "2019-08-18",
         "marker": {
          "color": "#00cc96",
          "symbol": "circle"
         },
         "name": "2019-08-18",
         "showlegend": true,
         "type": "splom"
        },
        {
         "dimensions": [
          {
           "axis": {
            "matches": true
           },
           "label": "Page Views",
           "values": [
            3486
           ]
          },
          {
           "axis": {
            "matches": true
           },
           "label": "NetA_imp",
           "values": [
            154
           ]
          },
          {
           "axis": {
            "matches": true
           },
           "label": "NetA_spd",
           "values": [
            6174
           ]
          },
          {
           "axis": {
            "matches": true
           },
           "label": "NetB_imp",
           "values": [
            103
           ]
          },
          {
           "axis": {
            "matches": true
           },
           "label": "NetB_spd",
           "values": [
            3473
           ]
          }
         ],
         "hovertemplate": "Date=2019-08-19<br>%{xaxis.title.text}=%{x}<br>%{yaxis.title.text}=%{y}<extra></extra>",
         "legendgroup": "2019-08-19",
         "marker": {
          "color": "#ab63fa",
          "symbol": "circle"
         },
         "name": "2019-08-19",
         "showlegend": true,
         "type": "splom"
        },
        {
         "dimensions": [
          {
           "axis": {
            "matches": true
           },
           "label": "Page Views",
           "values": [
            3425
           ]
          },
          {
           "axis": {
            "matches": true
           },
           "label": "NetA_imp",
           "values": [
            71
           ]
          },
          {
           "axis": {
            "matches": true
           },
           "label": "NetA_spd",
           "values": [
            2144
           ]
          },
          {
           "axis": {
            "matches": true
           },
           "label": "NetB_imp",
           "values": [
            134
           ]
          },
          {
           "axis": {
            "matches": true
           },
           "label": "NetB_spd",
           "values": [
            6624
           ]
          }
         ],
         "hovertemplate": "Date=2019-08-20<br>%{xaxis.title.text}=%{x}<br>%{yaxis.title.text}=%{y}<extra></extra>",
         "legendgroup": "2019-08-20",
         "marker": {
          "color": "#FFA15A",
          "symbol": "circle"
         },
         "name": "2019-08-20",
         "showlegend": true,
         "type": "splom"
        },
        {
         "dimensions": [
          {
           "axis": {
            "matches": true
           },
           "label": "Page Views",
           "values": [
            4066
           ]
          },
          {
           "axis": {
            "matches": true
           },
           "label": "NetA_imp",
           "values": [
            70
           ]
          },
          {
           "axis": {
            "matches": true
           },
           "label": "NetA_spd",
           "values": [
            1663
           ]
          },
          {
           "axis": {
            "matches": true
           },
           "label": "NetB_imp",
           "values": [
            136
           ]
          },
          {
           "axis": {
            "matches": true
           },
           "label": "NetB_spd",
           "values": [
            2576
           ]
          }
         ],
         "hovertemplate": "Date=2019-08-21<br>%{xaxis.title.text}=%{x}<br>%{yaxis.title.text}=%{y}<extra></extra>",
         "legendgroup": "2019-08-21",
         "marker": {
          "color": "#19d3f3",
          "symbol": "circle"
         },
         "name": "2019-08-21",
         "showlegend": true,
         "type": "splom"
        },
        {
         "dimensions": [
          {
           "axis": {
            "matches": true
           },
           "label": "Page Views",
           "values": [
            3167
           ]
          },
          {
           "axis": {
            "matches": true
           },
           "label": "NetA_imp",
           "values": [
            84
           ]
          },
          {
           "axis": {
            "matches": true
           },
           "label": "NetA_spd",
           "values": [
            2534
           ]
          },
          {
           "axis": {
            "matches": true
           },
           "label": "NetB_imp",
           "values": [
            227
           ]
          },
          {
           "axis": {
            "matches": true
           },
           "label": "NetB_spd",
           "values": [
            6867
           ]
          }
         ],
         "hovertemplate": "Date=2019-08-22<br>%{xaxis.title.text}=%{x}<br>%{yaxis.title.text}=%{y}<extra></extra>",
         "legendgroup": "2019-08-22",
         "marker": {
          "color": "#FF6692",
          "symbol": "circle"
         },
         "name": "2019-08-22",
         "showlegend": true,
         "type": "splom"
        },
        {
         "dimensions": [
          {
           "axis": {
            "matches": true
           },
           "label": "Page Views",
           "values": [
            3031
           ]
          },
          {
           "axis": {
            "matches": true
           },
           "label": "NetA_imp",
           "values": [
            140
           ]
          },
          {
           "axis": {
            "matches": true
           },
           "label": "NetA_spd",
           "values": [
            6518
           ]
          },
          {
           "axis": {
            "matches": true
           },
           "label": "NetB_imp",
           "values": [
            71
           ]
          },
          {
           "axis": {
            "matches": true
           },
           "label": "NetB_spd",
           "values": [
            2432
           ]
          }
         ],
         "hovertemplate": "Date=2019-08-23<br>%{xaxis.title.text}=%{x}<br>%{yaxis.title.text}=%{y}<extra></extra>",
         "legendgroup": "2019-08-23",
         "marker": {
          "color": "#B6E880",
          "symbol": "circle"
         },
         "name": "2019-08-23",
         "showlegend": true,
         "type": "splom"
        },
        {
         "dimensions": [
          {
           "axis": {
            "matches": true
           },
           "label": "Page Views",
           "values": [
            3107
           ]
          },
          {
           "axis": {
            "matches": true
           },
           "label": "NetA_imp",
           "values": [
            94
           ]
          },
          {
           "axis": {
            "matches": true
           },
           "label": "NetA_spd",
           "values": [
            2598
           ]
          },
          {
           "axis": {
            "matches": true
           },
           "label": "NetB_imp",
           "values": [
            139
           ]
          },
          {
           "axis": {
            "matches": true
           },
           "label": "NetB_spd",
           "values": [
            3953
           ]
          }
         ],
         "hovertemplate": "Date=2019-08-24<br>%{xaxis.title.text}=%{x}<br>%{yaxis.title.text}=%{y}<extra></extra>",
         "legendgroup": "2019-08-24",
         "marker": {
          "color": "#FF97FF",
          "symbol": "circle"
         },
         "name": "2019-08-24",
         "showlegend": true,
         "type": "splom"
        }
       ],
       "layout": {
        "dragmode": "select",
        "legend": {
         "title": {
          "text": "Date"
         },
         "tracegroupgap": 0
        },
        "margin": {
         "t": 60
        },
        "template": {
         "data": {
          "bar": [
           {
            "error_x": {
             "color": "#2a3f5f"
            },
            "error_y": {
             "color": "#2a3f5f"
            },
            "marker": {
             "line": {
              "color": "#E5ECF6",
              "width": 0.5
             }
            },
            "type": "bar"
           }
          ],
          "barpolar": [
           {
            "marker": {
             "line": {
              "color": "#E5ECF6",
              "width": 0.5
             }
            },
            "type": "barpolar"
           }
          ],
          "carpet": [
           {
            "aaxis": {
             "endlinecolor": "#2a3f5f",
             "gridcolor": "white",
             "linecolor": "white",
             "minorgridcolor": "white",
             "startlinecolor": "#2a3f5f"
            },
            "baxis": {
             "endlinecolor": "#2a3f5f",
             "gridcolor": "white",
             "linecolor": "white",
             "minorgridcolor": "white",
             "startlinecolor": "#2a3f5f"
            },
            "type": "carpet"
           }
          ],
          "choropleth": [
           {
            "colorbar": {
             "outlinewidth": 0,
             "ticks": ""
            },
            "type": "choropleth"
           }
          ],
          "contour": [
           {
            "colorbar": {
             "outlinewidth": 0,
             "ticks": ""
            },
            "colorscale": [
             [
              0,
              "#0d0887"
             ],
             [
              0.1111111111111111,
              "#46039f"
             ],
             [
              0.2222222222222222,
              "#7201a8"
             ],
             [
              0.3333333333333333,
              "#9c179e"
             ],
             [
              0.4444444444444444,
              "#bd3786"
             ],
             [
              0.5555555555555556,
              "#d8576b"
             ],
             [
              0.6666666666666666,
              "#ed7953"
             ],
             [
              0.7777777777777778,
              "#fb9f3a"
             ],
             [
              0.8888888888888888,
              "#fdca26"
             ],
             [
              1,
              "#f0f921"
             ]
            ],
            "type": "contour"
           }
          ],
          "contourcarpet": [
           {
            "colorbar": {
             "outlinewidth": 0,
             "ticks": ""
            },
            "type": "contourcarpet"
           }
          ],
          "heatmap": [
           {
            "colorbar": {
             "outlinewidth": 0,
             "ticks": ""
            },
            "colorscale": [
             [
              0,
              "#0d0887"
             ],
             [
              0.1111111111111111,
              "#46039f"
             ],
             [
              0.2222222222222222,
              "#7201a8"
             ],
             [
              0.3333333333333333,
              "#9c179e"
             ],
             [
              0.4444444444444444,
              "#bd3786"
             ],
             [
              0.5555555555555556,
              "#d8576b"
             ],
             [
              0.6666666666666666,
              "#ed7953"
             ],
             [
              0.7777777777777778,
              "#fb9f3a"
             ],
             [
              0.8888888888888888,
              "#fdca26"
             ],
             [
              1,
              "#f0f921"
             ]
            ],
            "type": "heatmap"
           }
          ],
          "heatmapgl": [
           {
            "colorbar": {
             "outlinewidth": 0,
             "ticks": ""
            },
            "colorscale": [
             [
              0,
              "#0d0887"
             ],
             [
              0.1111111111111111,
              "#46039f"
             ],
             [
              0.2222222222222222,
              "#7201a8"
             ],
             [
              0.3333333333333333,
              "#9c179e"
             ],
             [
              0.4444444444444444,
              "#bd3786"
             ],
             [
              0.5555555555555556,
              "#d8576b"
             ],
             [
              0.6666666666666666,
              "#ed7953"
             ],
             [
              0.7777777777777778,
              "#fb9f3a"
             ],
             [
              0.8888888888888888,
              "#fdca26"
             ],
             [
              1,
              "#f0f921"
             ]
            ],
            "type": "heatmapgl"
           }
          ],
          "histogram": [
           {
            "marker": {
             "colorbar": {
              "outlinewidth": 0,
              "ticks": ""
             }
            },
            "type": "histogram"
           }
          ],
          "histogram2d": [
           {
            "colorbar": {
             "outlinewidth": 0,
             "ticks": ""
            },
            "colorscale": [
             [
              0,
              "#0d0887"
             ],
             [
              0.1111111111111111,
              "#46039f"
             ],
             [
              0.2222222222222222,
              "#7201a8"
             ],
             [
              0.3333333333333333,
              "#9c179e"
             ],
             [
              0.4444444444444444,
              "#bd3786"
             ],
             [
              0.5555555555555556,
              "#d8576b"
             ],
             [
              0.6666666666666666,
              "#ed7953"
             ],
             [
              0.7777777777777778,
              "#fb9f3a"
             ],
             [
              0.8888888888888888,
              "#fdca26"
             ],
             [
              1,
              "#f0f921"
             ]
            ],
            "type": "histogram2d"
           }
          ],
          "histogram2dcontour": [
           {
            "colorbar": {
             "outlinewidth": 0,
             "ticks": ""
            },
            "colorscale": [
             [
              0,
              "#0d0887"
             ],
             [
              0.1111111111111111,
              "#46039f"
             ],
             [
              0.2222222222222222,
              "#7201a8"
             ],
             [
              0.3333333333333333,
              "#9c179e"
             ],
             [
              0.4444444444444444,
              "#bd3786"
             ],
             [
              0.5555555555555556,
              "#d8576b"
             ],
             [
              0.6666666666666666,
              "#ed7953"
             ],
             [
              0.7777777777777778,
              "#fb9f3a"
             ],
             [
              0.8888888888888888,
              "#fdca26"
             ],
             [
              1,
              "#f0f921"
             ]
            ],
            "type": "histogram2dcontour"
           }
          ],
          "mesh3d": [
           {
            "colorbar": {
             "outlinewidth": 0,
             "ticks": ""
            },
            "type": "mesh3d"
           }
          ],
          "parcoords": [
           {
            "line": {
             "colorbar": {
              "outlinewidth": 0,
              "ticks": ""
             }
            },
            "type": "parcoords"
           }
          ],
          "pie": [
           {
            "automargin": true,
            "type": "pie"
           }
          ],
          "scatter": [
           {
            "marker": {
             "colorbar": {
              "outlinewidth": 0,
              "ticks": ""
             }
            },
            "type": "scatter"
           }
          ],
          "scatter3d": [
           {
            "line": {
             "colorbar": {
              "outlinewidth": 0,
              "ticks": ""
             }
            },
            "marker": {
             "colorbar": {
              "outlinewidth": 0,
              "ticks": ""
             }
            },
            "type": "scatter3d"
           }
          ],
          "scattercarpet": [
           {
            "marker": {
             "colorbar": {
              "outlinewidth": 0,
              "ticks": ""
             }
            },
            "type": "scattercarpet"
           }
          ],
          "scattergeo": [
           {
            "marker": {
             "colorbar": {
              "outlinewidth": 0,
              "ticks": ""
             }
            },
            "type": "scattergeo"
           }
          ],
          "scattergl": [
           {
            "marker": {
             "colorbar": {
              "outlinewidth": 0,
              "ticks": ""
             }
            },
            "type": "scattergl"
           }
          ],
          "scattermapbox": [
           {
            "marker": {
             "colorbar": {
              "outlinewidth": 0,
              "ticks": ""
             }
            },
            "type": "scattermapbox"
           }
          ],
          "scatterpolar": [
           {
            "marker": {
             "colorbar": {
              "outlinewidth": 0,
              "ticks": ""
             }
            },
            "type": "scatterpolar"
           }
          ],
          "scatterpolargl": [
           {
            "marker": {
             "colorbar": {
              "outlinewidth": 0,
              "ticks": ""
             }
            },
            "type": "scatterpolargl"
           }
          ],
          "scatterternary": [
           {
            "marker": {
             "colorbar": {
              "outlinewidth": 0,
              "ticks": ""
             }
            },
            "type": "scatterternary"
           }
          ],
          "surface": [
           {
            "colorbar": {
             "outlinewidth": 0,
             "ticks": ""
            },
            "colorscale": [
             [
              0,
              "#0d0887"
             ],
             [
              0.1111111111111111,
              "#46039f"
             ],
             [
              0.2222222222222222,
              "#7201a8"
             ],
             [
              0.3333333333333333,
              "#9c179e"
             ],
             [
              0.4444444444444444,
              "#bd3786"
             ],
             [
              0.5555555555555556,
              "#d8576b"
             ],
             [
              0.6666666666666666,
              "#ed7953"
             ],
             [
              0.7777777777777778,
              "#fb9f3a"
             ],
             [
              0.8888888888888888,
              "#fdca26"
             ],
             [
              1,
              "#f0f921"
             ]
            ],
            "type": "surface"
           }
          ],
          "table": [
           {
            "cells": {
             "fill": {
              "color": "#EBF0F8"
             },
             "line": {
              "color": "white"
             }
            },
            "header": {
             "fill": {
              "color": "#C8D4E3"
             },
             "line": {
              "color": "white"
             }
            },
            "type": "table"
           }
          ]
         },
         "layout": {
          "annotationdefaults": {
           "arrowcolor": "#2a3f5f",
           "arrowhead": 0,
           "arrowwidth": 1
          },
          "autotypenumbers": "strict",
          "coloraxis": {
           "colorbar": {
            "outlinewidth": 0,
            "ticks": ""
           }
          },
          "colorscale": {
           "diverging": [
            [
             0,
             "#8e0152"
            ],
            [
             0.1,
             "#c51b7d"
            ],
            [
             0.2,
             "#de77ae"
            ],
            [
             0.3,
             "#f1b6da"
            ],
            [
             0.4,
             "#fde0ef"
            ],
            [
             0.5,
             "#f7f7f7"
            ],
            [
             0.6,
             "#e6f5d0"
            ],
            [
             0.7,
             "#b8e186"
            ],
            [
             0.8,
             "#7fbc41"
            ],
            [
             0.9,
             "#4d9221"
            ],
            [
             1,
             "#276419"
            ]
           ],
           "sequential": [
            [
             0,
             "#0d0887"
            ],
            [
             0.1111111111111111,
             "#46039f"
            ],
            [
             0.2222222222222222,
             "#7201a8"
            ],
            [
             0.3333333333333333,
             "#9c179e"
            ],
            [
             0.4444444444444444,
             "#bd3786"
            ],
            [
             0.5555555555555556,
             "#d8576b"
            ],
            [
             0.6666666666666666,
             "#ed7953"
            ],
            [
             0.7777777777777778,
             "#fb9f3a"
            ],
            [
             0.8888888888888888,
             "#fdca26"
            ],
            [
             1,
             "#f0f921"
            ]
           ],
           "sequentialminus": [
            [
             0,
             "#0d0887"
            ],
            [
             0.1111111111111111,
             "#46039f"
            ],
            [
             0.2222222222222222,
             "#7201a8"
            ],
            [
             0.3333333333333333,
             "#9c179e"
            ],
            [
             0.4444444444444444,
             "#bd3786"
            ],
            [
             0.5555555555555556,
             "#d8576b"
            ],
            [
             0.6666666666666666,
             "#ed7953"
            ],
            [
             0.7777777777777778,
             "#fb9f3a"
            ],
            [
             0.8888888888888888,
             "#fdca26"
            ],
            [
             1,
             "#f0f921"
            ]
           ]
          },
          "colorway": [
           "#636efa",
           "#EF553B",
           "#00cc96",
           "#ab63fa",
           "#FFA15A",
           "#19d3f3",
           "#FF6692",
           "#B6E880",
           "#FF97FF",
           "#FECB52"
          ],
          "font": {
           "color": "#2a3f5f"
          },
          "geo": {
           "bgcolor": "white",
           "lakecolor": "white",
           "landcolor": "#E5ECF6",
           "showlakes": true,
           "showland": true,
           "subunitcolor": "white"
          },
          "hoverlabel": {
           "align": "left"
          },
          "hovermode": "closest",
          "mapbox": {
           "style": "light"
          },
          "paper_bgcolor": "white",
          "plot_bgcolor": "#E5ECF6",
          "polar": {
           "angularaxis": {
            "gridcolor": "white",
            "linecolor": "white",
            "ticks": ""
           },
           "bgcolor": "#E5ECF6",
           "radialaxis": {
            "gridcolor": "white",
            "linecolor": "white",
            "ticks": ""
           }
          },
          "scene": {
           "xaxis": {
            "backgroundcolor": "#E5ECF6",
            "gridcolor": "white",
            "gridwidth": 2,
            "linecolor": "white",
            "showbackground": true,
            "ticks": "",
            "zerolinecolor": "white"
           },
           "yaxis": {
            "backgroundcolor": "#E5ECF6",
            "gridcolor": "white",
            "gridwidth": 2,
            "linecolor": "white",
            "showbackground": true,
            "ticks": "",
            "zerolinecolor": "white"
           },
           "zaxis": {
            "backgroundcolor": "#E5ECF6",
            "gridcolor": "white",
            "gridwidth": 2,
            "linecolor": "white",
            "showbackground": true,
            "ticks": "",
            "zerolinecolor": "white"
           }
          },
          "shapedefaults": {
           "line": {
            "color": "#2a3f5f"
           }
          },
          "ternary": {
           "aaxis": {
            "gridcolor": "white",
            "linecolor": "white",
            "ticks": ""
           },
           "baxis": {
            "gridcolor": "white",
            "linecolor": "white",
            "ticks": ""
           },
           "bgcolor": "#E5ECF6",
           "caxis": {
            "gridcolor": "white",
            "linecolor": "white",
            "ticks": ""
           }
          },
          "title": {
           "x": 0.05
          },
          "xaxis": {
           "automargin": true,
           "gridcolor": "white",
           "linecolor": "white",
           "ticks": "",
           "title": {
            "standoff": 15
           },
           "zerolinecolor": "white",
           "zerolinewidth": 2
          },
          "yaxis": {
           "automargin": true,
           "gridcolor": "white",
           "linecolor": "white",
           "ticks": "",
           "title": {
            "standoff": 15
           },
           "zerolinecolor": "white",
           "zerolinewidth": 2
          }
         }
        },
        "title": {
         "text": "Relationships between Page Views, Network Impressions and Spend variables - Aggregated Daily Sum"
        }
       }
      },
      "text/html": [
       "<div>                            <div id=\"e170a18b-6986-47e9-87be-bef8c9544d9d\" class=\"plotly-graph-div\" style=\"height:525px; width:100%;\"></div>            <script type=\"text/javascript\">                require([\"plotly\"], function(Plotly) {                    window.PLOTLYENV=window.PLOTLYENV || {};                                    if (document.getElementById(\"e170a18b-6986-47e9-87be-bef8c9544d9d\")) {                    Plotly.newPlot(                        \"e170a18b-6986-47e9-87be-bef8c9544d9d\",                        [{\"dimensions\": [{\"axis\": {\"matches\": true}, \"label\": \"Page Views\", \"values\": [3363]}, {\"axis\": {\"matches\": true}, \"label\": \"NetA_imp\", \"values\": [421]}, {\"axis\": {\"matches\": true}, \"label\": \"NetA_spd\", \"values\": [159]}, {\"axis\": {\"matches\": true}, \"label\": \"NetB_imp\", \"values\": [381]}, {\"axis\": {\"matches\": true}, \"label\": \"NetB_spd\", \"values\": [176]}], \"hovertemplate\": \"Date=2019-07-07<br>%{xaxis.title.text}=%{x}<br>%{yaxis.title.text}=%{y}<extra></extra>\", \"legendgroup\": \"2019-07-07\", \"marker\": {\"color\": \"#636efa\", \"symbol\": \"circle\"}, \"name\": \"2019-07-07\", \"showlegend\": true, \"type\": \"splom\"}, {\"dimensions\": [{\"axis\": {\"matches\": true}, \"label\": \"Page Views\", \"values\": [4160]}, {\"axis\": {\"matches\": true}, \"label\": \"NetA_imp\", \"values\": [392]}, {\"axis\": {\"matches\": true}, \"label\": \"NetA_spd\", \"values\": [1066]}, {\"axis\": {\"matches\": true}, \"label\": \"NetB_imp\", \"values\": [316]}, {\"axis\": {\"matches\": true}, \"label\": \"NetB_spd\", \"values\": [774]}], \"hovertemplate\": \"Date=2019-07-08<br>%{xaxis.title.text}=%{x}<br>%{yaxis.title.text}=%{y}<extra></extra>\", \"legendgroup\": \"2019-07-08\", \"marker\": {\"color\": \"#EF553B\", \"symbol\": \"circle\"}, \"name\": \"2019-07-08\", \"showlegend\": true, \"type\": \"splom\"}, {\"dimensions\": [{\"axis\": {\"matches\": true}, \"label\": \"Page Views\", \"values\": [3619]}, {\"axis\": {\"matches\": true}, \"label\": \"NetA_imp\", \"values\": [756]}, {\"axis\": {\"matches\": true}, \"label\": \"NetA_spd\", \"values\": [877]}, {\"axis\": {\"matches\": true}, \"label\": \"NetB_imp\", \"values\": [671]}, {\"axis\": {\"matches\": true}, \"label\": \"NetB_spd\", \"values\": [5010]}], \"hovertemplate\": \"Date=2019-07-09<br>%{xaxis.title.text}=%{x}<br>%{yaxis.title.text}=%{y}<extra></extra>\", \"legendgroup\": \"2019-07-09\", \"marker\": {\"color\": \"#00cc96\", \"symbol\": \"circle\"}, \"name\": \"2019-07-09\", \"showlegend\": true, \"type\": \"splom\"}, {\"dimensions\": [{\"axis\": {\"matches\": true}, \"label\": \"Page Views\", \"values\": [3474]}, {\"axis\": {\"matches\": true}, \"label\": \"NetA_imp\", \"values\": [128]}, {\"axis\": {\"matches\": true}, \"label\": \"NetA_spd\", \"values\": [130]}, {\"axis\": {\"matches\": true}, \"label\": \"NetB_imp\", \"values\": [401]}, {\"axis\": {\"matches\": true}, \"label\": \"NetB_spd\", \"values\": [492]}], \"hovertemplate\": \"Date=2019-07-10<br>%{xaxis.title.text}=%{x}<br>%{yaxis.title.text}=%{y}<extra></extra>\", \"legendgroup\": \"2019-07-10\", \"marker\": {\"color\": \"#ab63fa\", \"symbol\": \"circle\"}, \"name\": \"2019-07-10\", \"showlegend\": true, \"type\": \"splom\"}, {\"dimensions\": [{\"axis\": {\"matches\": true}, \"label\": \"Page Views\", \"values\": [3547]}, {\"axis\": {\"matches\": true}, \"label\": \"NetA_imp\", \"values\": [154]}, {\"axis\": {\"matches\": true}, \"label\": \"NetA_spd\", \"values\": [1994]}, {\"axis\": {\"matches\": true}, \"label\": \"NetB_imp\", \"values\": [182]}, {\"axis\": {\"matches\": true}, \"label\": \"NetB_spd\", \"values\": [230]}], \"hovertemplate\": \"Date=2019-07-11<br>%{xaxis.title.text}=%{x}<br>%{yaxis.title.text}=%{y}<extra></extra>\", \"legendgroup\": \"2019-07-11\", \"marker\": {\"color\": \"#FFA15A\", \"symbol\": \"circle\"}, \"name\": \"2019-07-11\", \"showlegend\": true, \"type\": \"splom\"}, {\"dimensions\": [{\"axis\": {\"matches\": true}, \"label\": \"Page Views\", \"values\": [3277]}, {\"axis\": {\"matches\": true}, \"label\": \"NetA_imp\", \"values\": [104]}, {\"axis\": {\"matches\": true}, \"label\": \"NetA_spd\", \"values\": [4740]}, {\"axis\": {\"matches\": true}, \"label\": \"NetB_imp\", \"values\": [365]}, {\"axis\": {\"matches\": true}, \"label\": \"NetB_spd\", \"values\": [1408]}], \"hovertemplate\": \"Date=2019-07-12<br>%{xaxis.title.text}=%{x}<br>%{yaxis.title.text}=%{y}<extra></extra>\", \"legendgroup\": \"2019-07-12\", \"marker\": {\"color\": \"#19d3f3\", \"symbol\": \"circle\"}, \"name\": \"2019-07-12\", \"showlegend\": true, \"type\": \"splom\"}, {\"dimensions\": [{\"axis\": {\"matches\": true}, \"label\": \"Page Views\", \"values\": [3332]}, {\"axis\": {\"matches\": true}, \"label\": \"NetA_imp\", \"values\": [65]}, {\"axis\": {\"matches\": true}, \"label\": \"NetA_spd\", \"values\": [993]}, {\"axis\": {\"matches\": true}, \"label\": \"NetB_imp\", \"values\": [450]}, {\"axis\": {\"matches\": true}, \"label\": \"NetB_spd\", \"values\": [1841]}], \"hovertemplate\": \"Date=2019-07-13<br>%{xaxis.title.text}=%{x}<br>%{yaxis.title.text}=%{y}<extra></extra>\", \"legendgroup\": \"2019-07-13\", \"marker\": {\"color\": \"#FF6692\", \"symbol\": \"circle\"}, \"name\": \"2019-07-13\", \"showlegend\": true, \"type\": \"splom\"}, {\"dimensions\": [{\"axis\": {\"matches\": true}, \"label\": \"Page Views\", \"values\": [3858]}, {\"axis\": {\"matches\": true}, \"label\": \"NetA_imp\", \"values\": [155]}, {\"axis\": {\"matches\": true}, \"label\": \"NetA_spd\", \"values\": [938]}, {\"axis\": {\"matches\": true}, \"label\": \"NetB_imp\", \"values\": [35]}, {\"axis\": {\"matches\": true}, \"label\": \"NetB_spd\", \"values\": [878]}], \"hovertemplate\": \"Date=2019-07-14<br>%{xaxis.title.text}=%{x}<br>%{yaxis.title.text}=%{y}<extra></extra>\", \"legendgroup\": \"2019-07-14\", \"marker\": {\"color\": \"#B6E880\", \"symbol\": \"circle\"}, \"name\": \"2019-07-14\", \"showlegend\": true, \"type\": \"splom\"}, {\"dimensions\": [{\"axis\": {\"matches\": true}, \"label\": \"Page Views\", \"values\": [4918]}, {\"axis\": {\"matches\": true}, \"label\": \"NetA_imp\", \"values\": [108]}, {\"axis\": {\"matches\": true}, \"label\": \"NetA_spd\", \"values\": [1777]}, {\"axis\": {\"matches\": true}, \"label\": \"NetB_imp\", \"values\": [63]}, {\"axis\": {\"matches\": true}, \"label\": \"NetB_spd\", \"values\": [2431]}], \"hovertemplate\": \"Date=2019-07-15<br>%{xaxis.title.text}=%{x}<br>%{yaxis.title.text}=%{y}<extra></extra>\", \"legendgroup\": \"2019-07-15\", \"marker\": {\"color\": \"#FF97FF\", \"symbol\": \"circle\"}, \"name\": \"2019-07-15\", \"showlegend\": true, \"type\": \"splom\"}, {\"dimensions\": [{\"axis\": {\"matches\": true}, \"label\": \"Page Views\", \"values\": [3939]}, {\"axis\": {\"matches\": true}, \"label\": \"NetA_imp\", \"values\": [117]}, {\"axis\": {\"matches\": true}, \"label\": \"NetA_spd\", \"values\": [974]}, {\"axis\": {\"matches\": true}, \"label\": \"NetB_imp\", \"values\": [2]}, {\"axis\": {\"matches\": true}, \"label\": \"NetB_spd\", \"values\": [73]}], \"hovertemplate\": \"Date=2019-07-16<br>%{xaxis.title.text}=%{x}<br>%{yaxis.title.text}=%{y}<extra></extra>\", \"legendgroup\": \"2019-07-16\", \"marker\": {\"color\": \"#FECB52\", \"symbol\": \"circle\"}, \"name\": \"2019-07-16\", \"showlegend\": true, \"type\": \"splom\"}, {\"dimensions\": [{\"axis\": {\"matches\": true}, \"label\": \"Page Views\", \"values\": [3763]}, {\"axis\": {\"matches\": true}, \"label\": \"NetA_imp\", \"values\": [185]}, {\"axis\": {\"matches\": true}, \"label\": \"NetA_spd\", \"values\": [4935]}, {\"axis\": {\"matches\": true}, \"label\": \"NetB_imp\", \"values\": [54]}, {\"axis\": {\"matches\": true}, \"label\": \"NetB_spd\", \"values\": [911]}], \"hovertemplate\": \"Date=2019-07-17<br>%{xaxis.title.text}=%{x}<br>%{yaxis.title.text}=%{y}<extra></extra>\", \"legendgroup\": \"2019-07-17\", \"marker\": {\"color\": \"#636efa\", \"symbol\": \"circle\"}, \"name\": \"2019-07-17\", \"showlegend\": true, \"type\": \"splom\"}, {\"dimensions\": [{\"axis\": {\"matches\": true}, \"label\": \"Page Views\", \"values\": [3691]}, {\"axis\": {\"matches\": true}, \"label\": \"NetA_imp\", \"values\": [212]}, {\"axis\": {\"matches\": true}, \"label\": \"NetA_spd\", \"values\": [2697]}, {\"axis\": {\"matches\": true}, \"label\": \"NetB_imp\", \"values\": [38]}, {\"axis\": {\"matches\": true}, \"label\": \"NetB_spd\", \"values\": [852]}], \"hovertemplate\": \"Date=2019-07-18<br>%{xaxis.title.text}=%{x}<br>%{yaxis.title.text}=%{y}<extra></extra>\", \"legendgroup\": \"2019-07-18\", \"marker\": {\"color\": \"#EF553B\", \"symbol\": \"circle\"}, \"name\": \"2019-07-18\", \"showlegend\": true, \"type\": \"splom\"}, {\"dimensions\": [{\"axis\": {\"matches\": true}, \"label\": \"Page Views\", \"values\": [3538]}, {\"axis\": {\"matches\": true}, \"label\": \"NetA_imp\", \"values\": [64]}, {\"axis\": {\"matches\": true}, \"label\": \"NetA_spd\", \"values\": [0]}, {\"axis\": {\"matches\": true}, \"label\": \"NetB_imp\", \"values\": [50]}, {\"axis\": {\"matches\": true}, \"label\": \"NetB_spd\", \"values\": [1845]}], \"hovertemplate\": \"Date=2019-07-19<br>%{xaxis.title.text}=%{x}<br>%{yaxis.title.text}=%{y}<extra></extra>\", \"legendgroup\": \"2019-07-19\", \"marker\": {\"color\": \"#00cc96\", \"symbol\": \"circle\"}, \"name\": \"2019-07-19\", \"showlegend\": true, \"type\": \"splom\"}, {\"dimensions\": [{\"axis\": {\"matches\": true}, \"label\": \"Page Views\", \"values\": [3430]}, {\"axis\": {\"matches\": true}, \"label\": \"NetA_imp\", \"values\": [155]}, {\"axis\": {\"matches\": true}, \"label\": \"NetA_spd\", \"values\": [210]}, {\"axis\": {\"matches\": true}, \"label\": \"NetB_imp\", \"values\": [54]}, {\"axis\": {\"matches\": true}, \"label\": \"NetB_spd\", \"values\": [1615]}], \"hovertemplate\": \"Date=2019-07-20<br>%{xaxis.title.text}=%{x}<br>%{yaxis.title.text}=%{y}<extra></extra>\", \"legendgroup\": \"2019-07-20\", \"marker\": {\"color\": \"#ab63fa\", \"symbol\": \"circle\"}, \"name\": \"2019-07-20\", \"showlegend\": true, \"type\": \"splom\"}, {\"dimensions\": [{\"axis\": {\"matches\": true}, \"label\": \"Page Views\", \"values\": [3841]}, {\"axis\": {\"matches\": true}, \"label\": \"NetA_imp\", \"values\": [62]}, {\"axis\": {\"matches\": true}, \"label\": \"NetA_spd\", \"values\": [827]}, {\"axis\": {\"matches\": true}, \"label\": \"NetB_imp\", \"values\": [103]}, {\"axis\": {\"matches\": true}, \"label\": \"NetB_spd\", \"values\": [3341]}], \"hovertemplate\": \"Date=2019-07-21<br>%{xaxis.title.text}=%{x}<br>%{yaxis.title.text}=%{y}<extra></extra>\", \"legendgroup\": \"2019-07-21\", \"marker\": {\"color\": \"#FFA15A\", \"symbol\": \"circle\"}, \"name\": \"2019-07-21\", \"showlegend\": true, \"type\": \"splom\"}, {\"dimensions\": [{\"axis\": {\"matches\": true}, \"label\": \"Page Views\", \"values\": [4199]}, {\"axis\": {\"matches\": true}, \"label\": \"NetA_imp\", \"values\": [118]}, {\"axis\": {\"matches\": true}, \"label\": \"NetA_spd\", \"values\": [4927]}, {\"axis\": {\"matches\": true}, \"label\": \"NetB_imp\", \"values\": [94]}, {\"axis\": {\"matches\": true}, \"label\": \"NetB_spd\", \"values\": [3398]}], \"hovertemplate\": \"Date=2019-07-22<br>%{xaxis.title.text}=%{x}<br>%{yaxis.title.text}=%{y}<extra></extra>\", \"legendgroup\": \"2019-07-22\", \"marker\": {\"color\": \"#19d3f3\", \"symbol\": \"circle\"}, \"name\": \"2019-07-22\", \"showlegend\": true, \"type\": \"splom\"}, {\"dimensions\": [{\"axis\": {\"matches\": true}, \"label\": \"Page Views\", \"values\": [3770]}, {\"axis\": {\"matches\": true}, \"label\": \"NetA_imp\", \"values\": [23]}, {\"axis\": {\"matches\": true}, \"label\": \"NetA_spd\", \"values\": [426]}, {\"axis\": {\"matches\": true}, \"label\": \"NetB_imp\", \"values\": [73]}, {\"axis\": {\"matches\": true}, \"label\": \"NetB_spd\", \"values\": [2768]}], \"hovertemplate\": \"Date=2019-07-23<br>%{xaxis.title.text}=%{x}<br>%{yaxis.title.text}=%{y}<extra></extra>\", \"legendgroup\": \"2019-07-23\", \"marker\": {\"color\": \"#FF6692\", \"symbol\": \"circle\"}, \"name\": \"2019-07-23\", \"showlegend\": true, \"type\": \"splom\"}, {\"dimensions\": [{\"axis\": {\"matches\": true}, \"label\": \"Page Views\", \"values\": [3458]}, {\"axis\": {\"matches\": true}, \"label\": \"NetA_imp\", \"values\": [62]}, {\"axis\": {\"matches\": true}, \"label\": \"NetA_spd\", \"values\": [3037]}, {\"axis\": {\"matches\": true}, \"label\": \"NetB_imp\", \"values\": [100]}, {\"axis\": {\"matches\": true}, \"label\": \"NetB_spd\", \"values\": [2825]}], \"hovertemplate\": \"Date=2019-07-24<br>%{xaxis.title.text}=%{x}<br>%{yaxis.title.text}=%{y}<extra></extra>\", \"legendgroup\": \"2019-07-24\", \"marker\": {\"color\": \"#B6E880\", \"symbol\": \"circle\"}, \"name\": \"2019-07-24\", \"showlegend\": true, \"type\": \"splom\"}, {\"dimensions\": [{\"axis\": {\"matches\": true}, \"label\": \"Page Views\", \"values\": [3631]}, {\"axis\": {\"matches\": true}, \"label\": \"NetA_imp\", \"values\": [26]}, {\"axis\": {\"matches\": true}, \"label\": \"NetA_spd\", \"values\": [939]}, {\"axis\": {\"matches\": true}, \"label\": \"NetB_imp\", \"values\": [20]}, {\"axis\": {\"matches\": true}, \"label\": \"NetB_spd\", \"values\": [362]}], \"hovertemplate\": \"Date=2019-07-25<br>%{xaxis.title.text}=%{x}<br>%{yaxis.title.text}=%{y}<extra></extra>\", \"legendgroup\": \"2019-07-25\", \"marker\": {\"color\": \"#FF97FF\", \"symbol\": \"circle\"}, \"name\": \"2019-07-25\", \"showlegend\": true, \"type\": \"splom\"}, {\"dimensions\": [{\"axis\": {\"matches\": true}, \"label\": \"Page Views\", \"values\": [3367]}, {\"axis\": {\"matches\": true}, \"label\": \"NetA_imp\", \"values\": [31]}, {\"axis\": {\"matches\": true}, \"label\": \"NetA_spd\", \"values\": [530]}, {\"axis\": {\"matches\": true}, \"label\": \"NetB_imp\", \"values\": [80]}, {\"axis\": {\"matches\": true}, \"label\": \"NetB_spd\", \"values\": [3123]}], \"hovertemplate\": \"Date=2019-07-26<br>%{xaxis.title.text}=%{x}<br>%{yaxis.title.text}=%{y}<extra></extra>\", \"legendgroup\": \"2019-07-26\", \"marker\": {\"color\": \"#FECB52\", \"symbol\": \"circle\"}, \"name\": \"2019-07-26\", \"showlegend\": true, \"type\": \"splom\"}, {\"dimensions\": [{\"axis\": {\"matches\": true}, \"label\": \"Page Views\", \"values\": [3410]}, {\"axis\": {\"matches\": true}, \"label\": \"NetA_imp\", \"values\": [49]}, {\"axis\": {\"matches\": true}, \"label\": \"NetA_spd\", \"values\": [567]}, {\"axis\": {\"matches\": true}, \"label\": \"NetB_imp\", \"values\": [47]}, {\"axis\": {\"matches\": true}, \"label\": \"NetB_spd\", \"values\": [993]}], \"hovertemplate\": \"Date=2019-07-27<br>%{xaxis.title.text}=%{x}<br>%{yaxis.title.text}=%{y}<extra></extra>\", \"legendgroup\": \"2019-07-27\", \"marker\": {\"color\": \"#636efa\", \"symbol\": \"circle\"}, \"name\": \"2019-07-27\", \"showlegend\": true, \"type\": \"splom\"}, {\"dimensions\": [{\"axis\": {\"matches\": true}, \"label\": \"Page Views\", \"values\": [3646]}, {\"axis\": {\"matches\": true}, \"label\": \"NetA_imp\", \"values\": [67]}, {\"axis\": {\"matches\": true}, \"label\": \"NetA_spd\", \"values\": [3455]}, {\"axis\": {\"matches\": true}, \"label\": \"NetB_imp\", \"values\": [63]}, {\"axis\": {\"matches\": true}, \"label\": \"NetB_spd\", \"values\": [3291]}], \"hovertemplate\": \"Date=2019-07-28<br>%{xaxis.title.text}=%{x}<br>%{yaxis.title.text}=%{y}<extra></extra>\", \"legendgroup\": \"2019-07-28\", \"marker\": {\"color\": \"#EF553B\", \"symbol\": \"circle\"}, \"name\": \"2019-07-28\", \"showlegend\": true, \"type\": \"splom\"}, {\"dimensions\": [{\"axis\": {\"matches\": true}, \"label\": \"Page Views\", \"values\": [3475]}, {\"axis\": {\"matches\": true}, \"label\": \"NetA_imp\", \"values\": [110]}, {\"axis\": {\"matches\": true}, \"label\": \"NetA_spd\", \"values\": [5890]}, {\"axis\": {\"matches\": true}, \"label\": \"NetB_imp\", \"values\": [80]}, {\"axis\": {\"matches\": true}, \"label\": \"NetB_spd\", \"values\": [3622]}], \"hovertemplate\": \"Date=2019-07-29<br>%{xaxis.title.text}=%{x}<br>%{yaxis.title.text}=%{y}<extra></extra>\", \"legendgroup\": \"2019-07-29\", \"marker\": {\"color\": \"#00cc96\", \"symbol\": \"circle\"}, \"name\": \"2019-07-29\", \"showlegend\": true, \"type\": \"splom\"}, {\"dimensions\": [{\"axis\": {\"matches\": true}, \"label\": \"Page Views\", \"values\": [3087]}, {\"axis\": {\"matches\": true}, \"label\": \"NetA_imp\", \"values\": [21]}, {\"axis\": {\"matches\": true}, \"label\": \"NetA_spd\", \"values\": [678]}, {\"axis\": {\"matches\": true}, \"label\": \"NetB_imp\", \"values\": [81]}, {\"axis\": {\"matches\": true}, \"label\": \"NetB_spd\", \"values\": [3903]}], \"hovertemplate\": \"Date=2019-07-30<br>%{xaxis.title.text}=%{x}<br>%{yaxis.title.text}=%{y}<extra></extra>\", \"legendgroup\": \"2019-07-30\", \"marker\": {\"color\": \"#ab63fa\", \"symbol\": \"circle\"}, \"name\": \"2019-07-30\", \"showlegend\": true, \"type\": \"splom\"}, {\"dimensions\": [{\"axis\": {\"matches\": true}, \"label\": \"Page Views\", \"values\": [2754]}, {\"axis\": {\"matches\": true}, \"label\": \"NetA_imp\", \"values\": [30]}, {\"axis\": {\"matches\": true}, \"label\": \"NetA_spd\", \"values\": [1264]}, {\"axis\": {\"matches\": true}, \"label\": \"NetB_imp\", \"values\": [47]}, {\"axis\": {\"matches\": true}, \"label\": \"NetB_spd\", \"values\": [1638]}], \"hovertemplate\": \"Date=2019-07-31<br>%{xaxis.title.text}=%{x}<br>%{yaxis.title.text}=%{y}<extra></extra>\", \"legendgroup\": \"2019-07-31\", \"marker\": {\"color\": \"#FFA15A\", \"symbol\": \"circle\"}, \"name\": \"2019-07-31\", \"showlegend\": true, \"type\": \"splom\"}, {\"dimensions\": [{\"axis\": {\"matches\": true}, \"label\": \"Page Views\", \"values\": [2783]}, {\"axis\": {\"matches\": true}, \"label\": \"NetA_imp\", \"values\": [2]}, {\"axis\": {\"matches\": true}, \"label\": \"NetA_spd\", \"values\": [137]}, {\"axis\": {\"matches\": true}, \"label\": \"NetB_imp\", \"values\": [33]}, {\"axis\": {\"matches\": true}, \"label\": \"NetB_spd\", \"values\": [913]}], \"hovertemplate\": \"Date=2019-08-01<br>%{xaxis.title.text}=%{x}<br>%{yaxis.title.text}=%{y}<extra></extra>\", \"legendgroup\": \"2019-08-01\", \"marker\": {\"color\": \"#19d3f3\", \"symbol\": \"circle\"}, \"name\": \"2019-08-01\", \"showlegend\": true, \"type\": \"splom\"}, {\"dimensions\": [{\"axis\": {\"matches\": true}, \"label\": \"Page Views\", \"values\": [2658]}, {\"axis\": {\"matches\": true}, \"label\": \"NetA_imp\", \"values\": [40]}, {\"axis\": {\"matches\": true}, \"label\": \"NetA_spd\", \"values\": [823]}, {\"axis\": {\"matches\": true}, \"label\": \"NetB_imp\", \"values\": [0]}, {\"axis\": {\"matches\": true}, \"label\": \"NetB_spd\", \"values\": [0]}], \"hovertemplate\": \"Date=2019-08-02<br>%{xaxis.title.text}=%{x}<br>%{yaxis.title.text}=%{y}<extra></extra>\", \"legendgroup\": \"2019-08-02\", \"marker\": {\"color\": \"#FF6692\", \"symbol\": \"circle\"}, \"name\": \"2019-08-02\", \"showlegend\": true, \"type\": \"splom\"}, {\"dimensions\": [{\"axis\": {\"matches\": true}, \"label\": \"Page Views\", \"values\": [2748]}, {\"axis\": {\"matches\": true}, \"label\": \"NetA_imp\", \"values\": [21]}, {\"axis\": {\"matches\": true}, \"label\": \"NetA_spd\", \"values\": [405]}, {\"axis\": {\"matches\": true}, \"label\": \"NetB_imp\", \"values\": [42]}, {\"axis\": {\"matches\": true}, \"label\": \"NetB_spd\", \"values\": [1170]}], \"hovertemplate\": \"Date=2019-08-03<br>%{xaxis.title.text}=%{x}<br>%{yaxis.title.text}=%{y}<extra></extra>\", \"legendgroup\": \"2019-08-03\", \"marker\": {\"color\": \"#B6E880\", \"symbol\": \"circle\"}, \"name\": \"2019-08-03\", \"showlegend\": true, \"type\": \"splom\"}, {\"dimensions\": [{\"axis\": {\"matches\": true}, \"label\": \"Page Views\", \"values\": [3000]}, {\"axis\": {\"matches\": true}, \"label\": \"NetA_imp\", \"values\": [83]}, {\"axis\": {\"matches\": true}, \"label\": \"NetA_spd\", \"values\": [2134]}, {\"axis\": {\"matches\": true}, \"label\": \"NetB_imp\", \"values\": [56]}, {\"axis\": {\"matches\": true}, \"label\": \"NetB_spd\", \"values\": [2018]}], \"hovertemplate\": \"Date=2019-08-04<br>%{xaxis.title.text}=%{x}<br>%{yaxis.title.text}=%{y}<extra></extra>\", \"legendgroup\": \"2019-08-04\", \"marker\": {\"color\": \"#FF97FF\", \"symbol\": \"circle\"}, \"name\": \"2019-08-04\", \"showlegend\": true, \"type\": \"splom\"}, {\"dimensions\": [{\"axis\": {\"matches\": true}, \"label\": \"Page Views\", \"values\": [3256]}, {\"axis\": {\"matches\": true}, \"label\": \"NetA_imp\", \"values\": [146]}, {\"axis\": {\"matches\": true}, \"label\": \"NetA_spd\", \"values\": [4025]}, {\"axis\": {\"matches\": true}, \"label\": \"NetB_imp\", \"values\": [218]}, {\"axis\": {\"matches\": true}, \"label\": \"NetB_spd\", \"values\": [7783]}], \"hovertemplate\": \"Date=2019-08-05<br>%{xaxis.title.text}=%{x}<br>%{yaxis.title.text}=%{y}<extra></extra>\", \"legendgroup\": \"2019-08-05\", \"marker\": {\"color\": \"#FECB52\", \"symbol\": \"circle\"}, \"name\": \"2019-08-05\", \"showlegend\": true, \"type\": \"splom\"}, {\"dimensions\": [{\"axis\": {\"matches\": true}, \"label\": \"Page Views\", \"values\": [2865]}, {\"axis\": {\"matches\": true}, \"label\": \"NetA_imp\", \"values\": [51]}, {\"axis\": {\"matches\": true}, \"label\": \"NetA_spd\", \"values\": [1363]}, {\"axis\": {\"matches\": true}, \"label\": \"NetB_imp\", \"values\": [170]}, {\"axis\": {\"matches\": true}, \"label\": \"NetB_spd\", \"values\": [5257]}], \"hovertemplate\": \"Date=2019-08-06<br>%{xaxis.title.text}=%{x}<br>%{yaxis.title.text}=%{y}<extra></extra>\", \"legendgroup\": \"2019-08-06\", \"marker\": {\"color\": \"#636efa\", \"symbol\": \"circle\"}, \"name\": \"2019-08-06\", \"showlegend\": true, \"type\": \"splom\"}, {\"dimensions\": [{\"axis\": {\"matches\": true}, \"label\": \"Page Views\", \"values\": [2693]}, {\"axis\": {\"matches\": true}, \"label\": \"NetA_imp\", \"values\": [84]}, {\"axis\": {\"matches\": true}, \"label\": \"NetA_spd\", \"values\": [2316]}, {\"axis\": {\"matches\": true}, \"label\": \"NetB_imp\", \"values\": [129]}, {\"axis\": {\"matches\": true}, \"label\": \"NetB_spd\", \"values\": [5960]}], \"hovertemplate\": \"Date=2019-08-07<br>%{xaxis.title.text}=%{x}<br>%{yaxis.title.text}=%{y}<extra></extra>\", \"legendgroup\": \"2019-08-07\", \"marker\": {\"color\": \"#EF553B\", \"symbol\": \"circle\"}, \"name\": \"2019-08-07\", \"showlegend\": true, \"type\": \"splom\"}, {\"dimensions\": [{\"axis\": {\"matches\": true}, \"label\": \"Page Views\", \"values\": [2629]}, {\"axis\": {\"matches\": true}, \"label\": \"NetA_imp\", \"values\": [193]}, {\"axis\": {\"matches\": true}, \"label\": \"NetA_spd\", \"values\": [10376]}, {\"axis\": {\"matches\": true}, \"label\": \"NetB_imp\", \"values\": [117]}, {\"axis\": {\"matches\": true}, \"label\": \"NetB_spd\", \"values\": [2744]}], \"hovertemplate\": \"Date=2019-08-08<br>%{xaxis.title.text}=%{x}<br>%{yaxis.title.text}=%{y}<extra></extra>\", \"legendgroup\": \"2019-08-08\", \"marker\": {\"color\": \"#00cc96\", \"symbol\": \"circle\"}, \"name\": \"2019-08-08\", \"showlegend\": true, \"type\": \"splom\"}, {\"dimensions\": [{\"axis\": {\"matches\": true}, \"label\": \"Page Views\", \"values\": [2922]}, {\"axis\": {\"matches\": true}, \"label\": \"NetA_imp\", \"values\": [49]}, {\"axis\": {\"matches\": true}, \"label\": \"NetA_spd\", \"values\": [1215]}, {\"axis\": {\"matches\": true}, \"label\": \"NetB_imp\", \"values\": [134]}, {\"axis\": {\"matches\": true}, \"label\": \"NetB_spd\", \"values\": [3807]}], \"hovertemplate\": \"Date=2019-08-09<br>%{xaxis.title.text}=%{x}<br>%{yaxis.title.text}=%{y}<extra></extra>\", \"legendgroup\": \"2019-08-09\", \"marker\": {\"color\": \"#ab63fa\", \"symbol\": \"circle\"}, \"name\": \"2019-08-09\", \"showlegend\": true, \"type\": \"splom\"}, {\"dimensions\": [{\"axis\": {\"matches\": true}, \"label\": \"Page Views\", \"values\": [2873]}, {\"axis\": {\"matches\": true}, \"label\": \"NetA_imp\", \"values\": [78]}, {\"axis\": {\"matches\": true}, \"label\": \"NetA_spd\", \"values\": [1578]}, {\"axis\": {\"matches\": true}, \"label\": \"NetB_imp\", \"values\": [90]}, {\"axis\": {\"matches\": true}, \"label\": \"NetB_spd\", \"values\": [1345]}], \"hovertemplate\": \"Date=2019-08-10<br>%{xaxis.title.text}=%{x}<br>%{yaxis.title.text}=%{y}<extra></extra>\", \"legendgroup\": \"2019-08-10\", \"marker\": {\"color\": \"#FFA15A\", \"symbol\": \"circle\"}, \"name\": \"2019-08-10\", \"showlegend\": true, \"type\": \"splom\"}, {\"dimensions\": [{\"axis\": {\"matches\": true}, \"label\": \"Page Views\", \"values\": [3057]}, {\"axis\": {\"matches\": true}, \"label\": \"NetA_imp\", \"values\": [158]}, {\"axis\": {\"matches\": true}, \"label\": \"NetA_spd\", \"values\": [6856]}, {\"axis\": {\"matches\": true}, \"label\": \"NetB_imp\", \"values\": [44]}, {\"axis\": {\"matches\": true}, \"label\": \"NetB_spd\", \"values\": [1081]}], \"hovertemplate\": \"Date=2019-08-11<br>%{xaxis.title.text}=%{x}<br>%{yaxis.title.text}=%{y}<extra></extra>\", \"legendgroup\": \"2019-08-11\", \"marker\": {\"color\": \"#19d3f3\", \"symbol\": \"circle\"}, \"name\": \"2019-08-11\", \"showlegend\": true, \"type\": \"splom\"}, {\"dimensions\": [{\"axis\": {\"matches\": true}, \"label\": \"Page Views\", \"values\": [3357]}, {\"axis\": {\"matches\": true}, \"label\": \"NetA_imp\", \"values\": [196]}, {\"axis\": {\"matches\": true}, \"label\": \"NetA_spd\", \"values\": [4946]}, {\"axis\": {\"matches\": true}, \"label\": \"NetB_imp\", \"values\": [130]}, {\"axis\": {\"matches\": true}, \"label\": \"NetB_spd\", \"values\": [3585]}], \"hovertemplate\": \"Date=2019-08-12<br>%{xaxis.title.text}=%{x}<br>%{yaxis.title.text}=%{y}<extra></extra>\", \"legendgroup\": \"2019-08-12\", \"marker\": {\"color\": \"#FF6692\", \"symbol\": \"circle\"}, \"name\": \"2019-08-12\", \"showlegend\": true, \"type\": \"splom\"}, {\"dimensions\": [{\"axis\": {\"matches\": true}, \"label\": \"Page Views\", \"values\": [3013]}, {\"axis\": {\"matches\": true}, \"label\": \"NetA_imp\", \"values\": [94]}, {\"axis\": {\"matches\": true}, \"label\": \"NetA_spd\", \"values\": [3042]}, {\"axis\": {\"matches\": true}, \"label\": \"NetB_imp\", \"values\": [187]}, {\"axis\": {\"matches\": true}, \"label\": \"NetB_spd\", \"values\": [5702]}], \"hovertemplate\": \"Date=2019-08-13<br>%{xaxis.title.text}=%{x}<br>%{yaxis.title.text}=%{y}<extra></extra>\", \"legendgroup\": \"2019-08-13\", \"marker\": {\"color\": \"#B6E880\", \"symbol\": \"circle\"}, \"name\": \"2019-08-13\", \"showlegend\": true, \"type\": \"splom\"}, {\"dimensions\": [{\"axis\": {\"matches\": true}, \"label\": \"Page Views\", \"values\": [3542]}, {\"axis\": {\"matches\": true}, \"label\": \"NetA_imp\", \"values\": [72]}, {\"axis\": {\"matches\": true}, \"label\": \"NetA_spd\", \"values\": [1472]}, {\"axis\": {\"matches\": true}, \"label\": \"NetB_imp\", \"values\": [178]}, {\"axis\": {\"matches\": true}, \"label\": \"NetB_spd\", \"values\": [5270]}], \"hovertemplate\": \"Date=2019-08-14<br>%{xaxis.title.text}=%{x}<br>%{yaxis.title.text}=%{y}<extra></extra>\", \"legendgroup\": \"2019-08-14\", \"marker\": {\"color\": \"#FF97FF\", \"symbol\": \"circle\"}, \"name\": \"2019-08-14\", \"showlegend\": true, \"type\": \"splom\"}, {\"dimensions\": [{\"axis\": {\"matches\": true}, \"label\": \"Page Views\", \"values\": [3093]}, {\"axis\": {\"matches\": true}, \"label\": \"NetA_imp\", \"values\": [208]}, {\"axis\": {\"matches\": true}, \"label\": \"NetA_spd\", \"values\": [8595]}, {\"axis\": {\"matches\": true}, \"label\": \"NetB_imp\", \"values\": [111]}, {\"axis\": {\"matches\": true}, \"label\": \"NetB_spd\", \"values\": [2740]}], \"hovertemplate\": \"Date=2019-08-15<br>%{xaxis.title.text}=%{x}<br>%{yaxis.title.text}=%{y}<extra></extra>\", \"legendgroup\": \"2019-08-15\", \"marker\": {\"color\": \"#FECB52\", \"symbol\": \"circle\"}, \"name\": \"2019-08-15\", \"showlegend\": true, \"type\": \"splom\"}, {\"dimensions\": [{\"axis\": {\"matches\": true}, \"label\": \"Page Views\", \"values\": [2714]}, {\"axis\": {\"matches\": true}, \"label\": \"NetA_imp\", \"values\": [24]}, {\"axis\": {\"matches\": true}, \"label\": \"NetA_spd\", \"values\": [607]}, {\"axis\": {\"matches\": true}, \"label\": \"NetB_imp\", \"values\": [110]}, {\"axis\": {\"matches\": true}, \"label\": \"NetB_spd\", \"values\": [4937]}], \"hovertemplate\": \"Date=2019-08-16<br>%{xaxis.title.text}=%{x}<br>%{yaxis.title.text}=%{y}<extra></extra>\", \"legendgroup\": \"2019-08-16\", \"marker\": {\"color\": \"#636efa\", \"symbol\": \"circle\"}, \"name\": \"2019-08-16\", \"showlegend\": true, \"type\": \"splom\"}, {\"dimensions\": [{\"axis\": {\"matches\": true}, \"label\": \"Page Views\", \"values\": [2809]}, {\"axis\": {\"matches\": true}, \"label\": \"NetA_imp\", \"values\": [52]}, {\"axis\": {\"matches\": true}, \"label\": \"NetA_spd\", \"values\": [465]}, {\"axis\": {\"matches\": true}, \"label\": \"NetB_imp\", \"values\": [123]}, {\"axis\": {\"matches\": true}, \"label\": \"NetB_spd\", \"values\": [3524]}], \"hovertemplate\": \"Date=2019-08-17<br>%{xaxis.title.text}=%{x}<br>%{yaxis.title.text}=%{y}<extra></extra>\", \"legendgroup\": \"2019-08-17\", \"marker\": {\"color\": \"#EF553B\", \"symbol\": \"circle\"}, \"name\": \"2019-08-17\", \"showlegend\": true, \"type\": \"splom\"}, {\"dimensions\": [{\"axis\": {\"matches\": true}, \"label\": \"Page Views\", \"values\": [3113]}, {\"axis\": {\"matches\": true}, \"label\": \"NetA_imp\", \"values\": [185]}, {\"axis\": {\"matches\": true}, \"label\": \"NetA_spd\", \"values\": [6226]}, {\"axis\": {\"matches\": true}, \"label\": \"NetB_imp\", \"values\": [156]}, {\"axis\": {\"matches\": true}, \"label\": \"NetB_spd\", \"values\": [6690]}], \"hovertemplate\": \"Date=2019-08-18<br>%{xaxis.title.text}=%{x}<br>%{yaxis.title.text}=%{y}<extra></extra>\", \"legendgroup\": \"2019-08-18\", \"marker\": {\"color\": \"#00cc96\", \"symbol\": \"circle\"}, \"name\": \"2019-08-18\", \"showlegend\": true, \"type\": \"splom\"}, {\"dimensions\": [{\"axis\": {\"matches\": true}, \"label\": \"Page Views\", \"values\": [3486]}, {\"axis\": {\"matches\": true}, \"label\": \"NetA_imp\", \"values\": [154]}, {\"axis\": {\"matches\": true}, \"label\": \"NetA_spd\", \"values\": [6174]}, {\"axis\": {\"matches\": true}, \"label\": \"NetB_imp\", \"values\": [103]}, {\"axis\": {\"matches\": true}, \"label\": \"NetB_spd\", \"values\": [3473]}], \"hovertemplate\": \"Date=2019-08-19<br>%{xaxis.title.text}=%{x}<br>%{yaxis.title.text}=%{y}<extra></extra>\", \"legendgroup\": \"2019-08-19\", \"marker\": {\"color\": \"#ab63fa\", \"symbol\": \"circle\"}, \"name\": \"2019-08-19\", \"showlegend\": true, \"type\": \"splom\"}, {\"dimensions\": [{\"axis\": {\"matches\": true}, \"label\": \"Page Views\", \"values\": [3425]}, {\"axis\": {\"matches\": true}, \"label\": \"NetA_imp\", \"values\": [71]}, {\"axis\": {\"matches\": true}, \"label\": \"NetA_spd\", \"values\": [2144]}, {\"axis\": {\"matches\": true}, \"label\": \"NetB_imp\", \"values\": [134]}, {\"axis\": {\"matches\": true}, \"label\": \"NetB_spd\", \"values\": [6624]}], \"hovertemplate\": \"Date=2019-08-20<br>%{xaxis.title.text}=%{x}<br>%{yaxis.title.text}=%{y}<extra></extra>\", \"legendgroup\": \"2019-08-20\", \"marker\": {\"color\": \"#FFA15A\", \"symbol\": \"circle\"}, \"name\": \"2019-08-20\", \"showlegend\": true, \"type\": \"splom\"}, {\"dimensions\": [{\"axis\": {\"matches\": true}, \"label\": \"Page Views\", \"values\": [4066]}, {\"axis\": {\"matches\": true}, \"label\": \"NetA_imp\", \"values\": [70]}, {\"axis\": {\"matches\": true}, \"label\": \"NetA_spd\", \"values\": [1663]}, {\"axis\": {\"matches\": true}, \"label\": \"NetB_imp\", \"values\": [136]}, {\"axis\": {\"matches\": true}, \"label\": \"NetB_spd\", \"values\": [2576]}], \"hovertemplate\": \"Date=2019-08-21<br>%{xaxis.title.text}=%{x}<br>%{yaxis.title.text}=%{y}<extra></extra>\", \"legendgroup\": \"2019-08-21\", \"marker\": {\"color\": \"#19d3f3\", \"symbol\": \"circle\"}, \"name\": \"2019-08-21\", \"showlegend\": true, \"type\": \"splom\"}, {\"dimensions\": [{\"axis\": {\"matches\": true}, \"label\": \"Page Views\", \"values\": [3167]}, {\"axis\": {\"matches\": true}, \"label\": \"NetA_imp\", \"values\": [84]}, {\"axis\": {\"matches\": true}, \"label\": \"NetA_spd\", \"values\": [2534]}, {\"axis\": {\"matches\": true}, \"label\": \"NetB_imp\", \"values\": [227]}, {\"axis\": {\"matches\": true}, \"label\": \"NetB_spd\", \"values\": [6867]}], \"hovertemplate\": \"Date=2019-08-22<br>%{xaxis.title.text}=%{x}<br>%{yaxis.title.text}=%{y}<extra></extra>\", \"legendgroup\": \"2019-08-22\", \"marker\": {\"color\": \"#FF6692\", \"symbol\": \"circle\"}, \"name\": \"2019-08-22\", \"showlegend\": true, \"type\": \"splom\"}, {\"dimensions\": [{\"axis\": {\"matches\": true}, \"label\": \"Page Views\", \"values\": [3031]}, {\"axis\": {\"matches\": true}, \"label\": \"NetA_imp\", \"values\": [140]}, {\"axis\": {\"matches\": true}, \"label\": \"NetA_spd\", \"values\": [6518]}, {\"axis\": {\"matches\": true}, \"label\": \"NetB_imp\", \"values\": [71]}, {\"axis\": {\"matches\": true}, \"label\": \"NetB_spd\", \"values\": [2432]}], \"hovertemplate\": \"Date=2019-08-23<br>%{xaxis.title.text}=%{x}<br>%{yaxis.title.text}=%{y}<extra></extra>\", \"legendgroup\": \"2019-08-23\", \"marker\": {\"color\": \"#B6E880\", \"symbol\": \"circle\"}, \"name\": \"2019-08-23\", \"showlegend\": true, \"type\": \"splom\"}, {\"dimensions\": [{\"axis\": {\"matches\": true}, \"label\": \"Page Views\", \"values\": [3107]}, {\"axis\": {\"matches\": true}, \"label\": \"NetA_imp\", \"values\": [94]}, {\"axis\": {\"matches\": true}, \"label\": \"NetA_spd\", \"values\": [2598]}, {\"axis\": {\"matches\": true}, \"label\": \"NetB_imp\", \"values\": [139]}, {\"axis\": {\"matches\": true}, \"label\": \"NetB_spd\", \"values\": [3953]}], \"hovertemplate\": \"Date=2019-08-24<br>%{xaxis.title.text}=%{x}<br>%{yaxis.title.text}=%{y}<extra></extra>\", \"legendgroup\": \"2019-08-24\", \"marker\": {\"color\": \"#FF97FF\", \"symbol\": \"circle\"}, \"name\": \"2019-08-24\", \"showlegend\": true, \"type\": \"splom\"}],                        {\"dragmode\": \"select\", \"legend\": {\"title\": {\"text\": \"Date\"}, \"tracegroupgap\": 0}, \"margin\": {\"t\": 60}, \"template\": {\"data\": {\"bar\": [{\"error_x\": {\"color\": \"#2a3f5f\"}, \"error_y\": {\"color\": \"#2a3f5f\"}, \"marker\": {\"line\": {\"color\": \"#E5ECF6\", \"width\": 0.5}}, \"type\": \"bar\"}], \"barpolar\": [{\"marker\": {\"line\": {\"color\": \"#E5ECF6\", \"width\": 0.5}}, \"type\": \"barpolar\"}], \"carpet\": [{\"aaxis\": {\"endlinecolor\": \"#2a3f5f\", \"gridcolor\": \"white\", \"linecolor\": \"white\", \"minorgridcolor\": \"white\", \"startlinecolor\": \"#2a3f5f\"}, \"baxis\": {\"endlinecolor\": \"#2a3f5f\", \"gridcolor\": \"white\", \"linecolor\": \"white\", \"minorgridcolor\": \"white\", \"startlinecolor\": \"#2a3f5f\"}, \"type\": \"carpet\"}], \"choropleth\": [{\"colorbar\": {\"outlinewidth\": 0, \"ticks\": \"\"}, \"type\": \"choropleth\"}], \"contour\": [{\"colorbar\": {\"outlinewidth\": 0, \"ticks\": \"\"}, \"colorscale\": [[0.0, \"#0d0887\"], [0.1111111111111111, \"#46039f\"], [0.2222222222222222, \"#7201a8\"], [0.3333333333333333, \"#9c179e\"], [0.4444444444444444, \"#bd3786\"], [0.5555555555555556, \"#d8576b\"], [0.6666666666666666, \"#ed7953\"], [0.7777777777777778, \"#fb9f3a\"], [0.8888888888888888, \"#fdca26\"], [1.0, \"#f0f921\"]], \"type\": \"contour\"}], \"contourcarpet\": [{\"colorbar\": {\"outlinewidth\": 0, \"ticks\": \"\"}, \"type\": \"contourcarpet\"}], \"heatmap\": [{\"colorbar\": {\"outlinewidth\": 0, \"ticks\": \"\"}, \"colorscale\": [[0.0, \"#0d0887\"], [0.1111111111111111, \"#46039f\"], [0.2222222222222222, \"#7201a8\"], [0.3333333333333333, \"#9c179e\"], [0.4444444444444444, \"#bd3786\"], [0.5555555555555556, \"#d8576b\"], [0.6666666666666666, \"#ed7953\"], [0.7777777777777778, \"#fb9f3a\"], [0.8888888888888888, \"#fdca26\"], [1.0, \"#f0f921\"]], \"type\": \"heatmap\"}], \"heatmapgl\": [{\"colorbar\": {\"outlinewidth\": 0, \"ticks\": \"\"}, \"colorscale\": [[0.0, \"#0d0887\"], [0.1111111111111111, \"#46039f\"], [0.2222222222222222, \"#7201a8\"], [0.3333333333333333, \"#9c179e\"], [0.4444444444444444, \"#bd3786\"], [0.5555555555555556, \"#d8576b\"], [0.6666666666666666, \"#ed7953\"], [0.7777777777777778, \"#fb9f3a\"], [0.8888888888888888, \"#fdca26\"], [1.0, \"#f0f921\"]], \"type\": \"heatmapgl\"}], \"histogram\": [{\"marker\": {\"colorbar\": {\"outlinewidth\": 0, \"ticks\": \"\"}}, \"type\": \"histogram\"}], \"histogram2d\": [{\"colorbar\": {\"outlinewidth\": 0, \"ticks\": \"\"}, \"colorscale\": [[0.0, \"#0d0887\"], [0.1111111111111111, \"#46039f\"], [0.2222222222222222, \"#7201a8\"], [0.3333333333333333, \"#9c179e\"], [0.4444444444444444, \"#bd3786\"], [0.5555555555555556, \"#d8576b\"], [0.6666666666666666, \"#ed7953\"], [0.7777777777777778, \"#fb9f3a\"], [0.8888888888888888, \"#fdca26\"], [1.0, \"#f0f921\"]], \"type\": \"histogram2d\"}], \"histogram2dcontour\": [{\"colorbar\": {\"outlinewidth\": 0, \"ticks\": \"\"}, \"colorscale\": [[0.0, \"#0d0887\"], [0.1111111111111111, \"#46039f\"], [0.2222222222222222, \"#7201a8\"], [0.3333333333333333, \"#9c179e\"], [0.4444444444444444, \"#bd3786\"], [0.5555555555555556, \"#d8576b\"], [0.6666666666666666, \"#ed7953\"], [0.7777777777777778, \"#fb9f3a\"], [0.8888888888888888, \"#fdca26\"], [1.0, \"#f0f921\"]], \"type\": \"histogram2dcontour\"}], \"mesh3d\": [{\"colorbar\": {\"outlinewidth\": 0, \"ticks\": \"\"}, \"type\": \"mesh3d\"}], \"parcoords\": [{\"line\": {\"colorbar\": {\"outlinewidth\": 0, \"ticks\": \"\"}}, \"type\": \"parcoords\"}], \"pie\": [{\"automargin\": true, \"type\": \"pie\"}], \"scatter\": [{\"marker\": {\"colorbar\": {\"outlinewidth\": 0, \"ticks\": \"\"}}, \"type\": \"scatter\"}], \"scatter3d\": [{\"line\": {\"colorbar\": {\"outlinewidth\": 0, \"ticks\": \"\"}}, \"marker\": {\"colorbar\": {\"outlinewidth\": 0, \"ticks\": \"\"}}, \"type\": \"scatter3d\"}], \"scattercarpet\": [{\"marker\": {\"colorbar\": {\"outlinewidth\": 0, \"ticks\": \"\"}}, \"type\": \"scattercarpet\"}], \"scattergeo\": [{\"marker\": {\"colorbar\": {\"outlinewidth\": 0, \"ticks\": \"\"}}, \"type\": \"scattergeo\"}], \"scattergl\": [{\"marker\": {\"colorbar\": {\"outlinewidth\": 0, \"ticks\": \"\"}}, \"type\": \"scattergl\"}], \"scattermapbox\": [{\"marker\": {\"colorbar\": {\"outlinewidth\": 0, \"ticks\": \"\"}}, \"type\": \"scattermapbox\"}], \"scatterpolar\": [{\"marker\": {\"colorbar\": {\"outlinewidth\": 0, \"ticks\": \"\"}}, \"type\": \"scatterpolar\"}], \"scatterpolargl\": [{\"marker\": {\"colorbar\": {\"outlinewidth\": 0, \"ticks\": \"\"}}, \"type\": \"scatterpolargl\"}], \"scatterternary\": [{\"marker\": {\"colorbar\": {\"outlinewidth\": 0, \"ticks\": \"\"}}, \"type\": \"scatterternary\"}], \"surface\": [{\"colorbar\": {\"outlinewidth\": 0, \"ticks\": \"\"}, \"colorscale\": [[0.0, \"#0d0887\"], [0.1111111111111111, \"#46039f\"], [0.2222222222222222, \"#7201a8\"], [0.3333333333333333, \"#9c179e\"], [0.4444444444444444, \"#bd3786\"], [0.5555555555555556, \"#d8576b\"], [0.6666666666666666, \"#ed7953\"], [0.7777777777777778, \"#fb9f3a\"], [0.8888888888888888, \"#fdca26\"], [1.0, \"#f0f921\"]], \"type\": \"surface\"}], \"table\": [{\"cells\": {\"fill\": {\"color\": \"#EBF0F8\"}, \"line\": {\"color\": \"white\"}}, \"header\": {\"fill\": {\"color\": \"#C8D4E3\"}, \"line\": {\"color\": \"white\"}}, \"type\": \"table\"}]}, \"layout\": {\"annotationdefaults\": {\"arrowcolor\": \"#2a3f5f\", \"arrowhead\": 0, \"arrowwidth\": 1}, \"autotypenumbers\": \"strict\", \"coloraxis\": {\"colorbar\": {\"outlinewidth\": 0, \"ticks\": \"\"}}, \"colorscale\": {\"diverging\": [[0, \"#8e0152\"], [0.1, \"#c51b7d\"], [0.2, \"#de77ae\"], [0.3, \"#f1b6da\"], [0.4, \"#fde0ef\"], [0.5, \"#f7f7f7\"], [0.6, \"#e6f5d0\"], [0.7, \"#b8e186\"], [0.8, \"#7fbc41\"], [0.9, \"#4d9221\"], [1, \"#276419\"]], \"sequential\": [[0.0, \"#0d0887\"], [0.1111111111111111, \"#46039f\"], [0.2222222222222222, \"#7201a8\"], [0.3333333333333333, \"#9c179e\"], [0.4444444444444444, \"#bd3786\"], [0.5555555555555556, \"#d8576b\"], [0.6666666666666666, \"#ed7953\"], [0.7777777777777778, \"#fb9f3a\"], [0.8888888888888888, \"#fdca26\"], [1.0, \"#f0f921\"]], \"sequentialminus\": [[0.0, \"#0d0887\"], [0.1111111111111111, \"#46039f\"], [0.2222222222222222, \"#7201a8\"], [0.3333333333333333, \"#9c179e\"], [0.4444444444444444, \"#bd3786\"], [0.5555555555555556, \"#d8576b\"], [0.6666666666666666, \"#ed7953\"], [0.7777777777777778, \"#fb9f3a\"], [0.8888888888888888, \"#fdca26\"], [1.0, \"#f0f921\"]]}, \"colorway\": [\"#636efa\", \"#EF553B\", \"#00cc96\", \"#ab63fa\", \"#FFA15A\", \"#19d3f3\", \"#FF6692\", \"#B6E880\", \"#FF97FF\", \"#FECB52\"], \"font\": {\"color\": \"#2a3f5f\"}, \"geo\": {\"bgcolor\": \"white\", \"lakecolor\": \"white\", \"landcolor\": \"#E5ECF6\", \"showlakes\": true, \"showland\": true, \"subunitcolor\": \"white\"}, \"hoverlabel\": {\"align\": \"left\"}, \"hovermode\": \"closest\", \"mapbox\": {\"style\": \"light\"}, \"paper_bgcolor\": \"white\", \"plot_bgcolor\": \"#E5ECF6\", \"polar\": {\"angularaxis\": {\"gridcolor\": \"white\", \"linecolor\": \"white\", \"ticks\": \"\"}, \"bgcolor\": \"#E5ECF6\", \"radialaxis\": {\"gridcolor\": \"white\", \"linecolor\": \"white\", \"ticks\": \"\"}}, \"scene\": {\"xaxis\": {\"backgroundcolor\": \"#E5ECF6\", \"gridcolor\": \"white\", \"gridwidth\": 2, \"linecolor\": \"white\", \"showbackground\": true, \"ticks\": \"\", \"zerolinecolor\": \"white\"}, \"yaxis\": {\"backgroundcolor\": \"#E5ECF6\", \"gridcolor\": \"white\", \"gridwidth\": 2, \"linecolor\": \"white\", \"showbackground\": true, \"ticks\": \"\", \"zerolinecolor\": \"white\"}, \"zaxis\": {\"backgroundcolor\": \"#E5ECF6\", \"gridcolor\": \"white\", \"gridwidth\": 2, \"linecolor\": \"white\", \"showbackground\": true, \"ticks\": \"\", \"zerolinecolor\": \"white\"}}, \"shapedefaults\": {\"line\": {\"color\": \"#2a3f5f\"}}, \"ternary\": {\"aaxis\": {\"gridcolor\": \"white\", \"linecolor\": \"white\", \"ticks\": \"\"}, \"baxis\": {\"gridcolor\": \"white\", \"linecolor\": \"white\", \"ticks\": \"\"}, \"bgcolor\": \"#E5ECF6\", \"caxis\": {\"gridcolor\": \"white\", \"linecolor\": \"white\", \"ticks\": \"\"}}, \"title\": {\"x\": 0.05}, \"xaxis\": {\"automargin\": true, \"gridcolor\": \"white\", \"linecolor\": \"white\", \"ticks\": \"\", \"title\": {\"standoff\": 15}, \"zerolinecolor\": \"white\", \"zerolinewidth\": 2}, \"yaxis\": {\"automargin\": true, \"gridcolor\": \"white\", \"linecolor\": \"white\", \"ticks\": \"\", \"title\": {\"standoff\": 15}, \"zerolinecolor\": \"white\", \"zerolinewidth\": 2}}}, \"title\": {\"text\": \"Relationships between Page Views, Network Impressions and Spend variables - Aggregated Daily Sum\"}},                        {\"responsive\": true}                    ).then(function(){\n",
       "                            \n",
       "var gd = document.getElementById('e170a18b-6986-47e9-87be-bef8c9544d9d');\n",
       "var x = new MutationObserver(function (mutations, observer) {{\n",
       "        var display = window.getComputedStyle(gd).display;\n",
       "        if (!display || display === 'none') {{\n",
       "            console.log([gd, 'removed!']);\n",
       "            Plotly.purge(gd);\n",
       "            observer.disconnect();\n",
       "        }}\n",
       "}});\n",
       "\n",
       "// Listen for the removal of the full notebook cells\n",
       "var notebookContainer = gd.closest('#notebook-container');\n",
       "if (notebookContainer) {{\n",
       "    x.observe(notebookContainer, {childList: true});\n",
       "}}\n",
       "\n",
       "// Listen for the clearing of the current output cell\n",
       "var outputEl = gd.closest('.output');\n",
       "if (outputEl) {{\n",
       "    x.observe(outputEl, {childList: true});\n",
       "}}\n",
       "\n",
       "                        })                };                });            </script>        </div>"
      ]
     },
     "metadata": {},
     "output_type": "display_data"
    }
   ],
   "source": [
    "fig = px.scatter_matrix(df_daily_agg, dimensions=['Page Views', 'NetA_imp','NetA_spd'\\\n",
    "                                         , 'NetB_imp', 'NetB_spd'],color='Date')\n",
    "fig.update_layout(title=\"Relationships between Page Views, Network Impressions and Spend variables - Aggregated Daily Sum\")\n",
    "fig.show()"
   ]
  },
  {
   "cell_type": "code",
   "execution_count": 142,
   "id": "driven-morrison",
   "metadata": {},
   "outputs": [
    {
     "data": {
      "application/vnd.plotly.v1+json": {
       "config": {
        "plotlyServerURL": "https://plot.ly"
       },
       "data": [
        {
         "dimensions": [
          {
           "axis": {
            "matches": true
           },
           "label": "Page Views",
           "values": [
            159.83
           ]
          },
          {
           "axis": {
            "matches": true
           },
           "label": "NetA_imp",
           "values": [
            7.29
           ]
          },
          {
           "axis": {
            "matches": true
           },
           "label": "NetA_spd",
           "values": [
            171.46
           ]
          },
          {
           "axis": {
            "matches": true
           },
           "label": "NetB_imp",
           "values": [
            5.98
           ]
          },
          {
           "axis": {
            "matches": true
           },
           "label": "NetB_spd",
           "values": [
            149.2
           ]
          }
         ],
         "hovertemplate": "Weekday=Mon<br>%{xaxis.title.text}=%{x}<br>%{yaxis.title.text}=%{y}<extra></extra>",
         "legendgroup": "Mon",
         "marker": {
          "color": "#636efa",
          "symbol": "circle"
         },
         "name": "Mon",
         "showlegend": true,
         "type": "splom"
        },
        {
         "dimensions": [
          {
           "axis": {
            "matches": true
           },
           "label": "Page Views",
           "values": [
            141.18
           ]
          },
          {
           "axis": {
            "matches": true
           },
           "label": "NetA_imp",
           "values": [
            6.74
           ]
          },
          {
           "axis": {
            "matches": true
           },
           "label": "NetA_spd",
           "values": [
            56.57
           ]
          },
          {
           "axis": {
            "matches": true
           },
           "label": "NetB_imp",
           "values": [
            7.85
           ]
          },
          {
           "axis": {
            "matches": true
           },
           "label": "NetB_spd",
           "values": [
            174.62
           ]
          }
         ],
         "hovertemplate": "Weekday=Tue<br>%{xaxis.title.text}=%{x}<br>%{yaxis.title.text}=%{y}<extra></extra>",
         "legendgroup": "Tue",
         "marker": {
          "color": "#EF553B",
          "symbol": "circle"
         },
         "name": "Tue",
         "showlegend": true,
         "type": "splom"
        },
        {
         "dimensions": [
          {
           "axis": {
            "matches": true
           },
           "label": "Page Views",
           "values": [
            141.37
           ]
          },
          {
           "axis": {
            "matches": true
           },
           "label": "NetA_imp",
           "values": [
            3.76
           ]
          },
          {
           "axis": {
            "matches": true
           },
           "label": "NetA_spd",
           "values": [
            88.2
           ]
          },
          {
           "axis": {
            "matches": true
           },
           "label": "NetB_imp",
           "values": [
            6.22
           ]
          },
          {
           "axis": {
            "matches": true
           },
           "label": "NetB_spd",
           "values": [
            117.1
           ]
          }
         ],
         "hovertemplate": "Weekday=Wed<br>%{xaxis.title.text}=%{x}<br>%{yaxis.title.text}=%{y}<extra></extra>",
         "legendgroup": "Wed",
         "marker": {
          "color": "#00cc96",
          "symbol": "circle"
         },
         "name": "Wed",
         "showlegend": true,
         "type": "splom"
        },
        {
         "dimensions": [
          {
           "axis": {
            "matches": true
           },
           "label": "Page Views",
           "values": [
            134.17
           ]
          },
          {
           "axis": {
            "matches": true
           },
           "label": "NetA_imp",
           "values": [
            5.23
           ]
          },
          {
           "axis": {
            "matches": true
           },
           "label": "NetA_spd",
           "values": [
            162.33
           ]
          },
          {
           "axis": {
            "matches": true
           },
           "label": "NetB_imp",
           "values": [
            4.33
           ]
          },
          {
           "axis": {
            "matches": true
           },
           "label": "NetB_spd",
           "values": [
            87.55
           ]
          }
         ],
         "hovertemplate": "Weekday=Thu<br>%{xaxis.title.text}=%{x}<br>%{yaxis.title.text}=%{y}<extra></extra>",
         "legendgroup": "Thu",
         "marker": {
          "color": "#ab63fa",
          "symbol": "circle"
         },
         "name": "Thu",
         "showlegend": true,
         "type": "splom"
        },
        {
         "dimensions": [
          {
           "axis": {
            "matches": true
           },
           "label": "Page Views",
           "values": [
            128.02
           ]
          },
          {
           "axis": {
            "matches": true
           },
           "label": "NetA_imp",
           "values": [
            2.69
           ]
          },
          {
           "axis": {
            "matches": true
           },
           "label": "NetA_spd",
           "values": [
            85.91
           ]
          },
          {
           "axis": {
            "matches": true
           },
           "label": "NetB_imp",
           "values": [
            4.82
           ]
          },
          {
           "axis": {
            "matches": true
           },
           "label": "NetB_spd",
           "values": [
            104.48
           ]
          }
         ],
         "hovertemplate": "Weekday=Fri<br>%{xaxis.title.text}=%{x}<br>%{yaxis.title.text}=%{y}<extra></extra>",
         "legendgroup": "Fri",
         "marker": {
          "color": "#FFA15A",
          "symbol": "circle"
         },
         "name": "Fri",
         "showlegend": true,
         "type": "splom"
        },
        {
         "dimensions": [
          {
           "axis": {
            "matches": true
           },
           "label": "Page Views",
           "values": [
            129.22
           ]
          },
          {
           "axis": {
            "matches": true
           },
           "label": "NetA_imp",
           "values": [
            3.06
           ]
          },
          {
           "axis": {
            "matches": true
           },
           "label": "NetA_spd",
           "values": [
            40.57
           ]
          },
          {
           "axis": {
            "matches": true
           },
           "label": "NetB_imp",
           "values": [
            5.62
           ]
          },
          {
           "axis": {
            "matches": true
           },
           "label": "NetB_spd",
           "values": [
            85.96
           ]
          }
         ],
         "hovertemplate": "Weekday=Sat<br>%{xaxis.title.text}=%{x}<br>%{yaxis.title.text}=%{y}<extra></extra>",
         "legendgroup": "Sat",
         "marker": {
          "color": "#19d3f3",
          "symbol": "circle"
         },
         "name": "Sat",
         "showlegend": true,
         "type": "splom"
        },
        {
         "dimensions": [
          {
           "axis": {
            "matches": true
           },
           "label": "Page Views",
           "values": [
            142.13
           ]
          },
          {
           "axis": {
            "matches": true
           },
           "label": "NetA_imp",
           "values": [
            6.73
           ]
          },
          {
           "axis": {
            "matches": true
           },
           "label": "NetA_spd",
           "values": [
            122.59
           ]
          },
          {
           "axis": {
            "matches": true
           },
           "label": "NetB_imp",
           "values": [
            4.99
           ]
          },
          {
           "axis": {
            "matches": true
           },
           "label": "NetB_spd",
           "values": [
            104.02
           ]
          }
         ],
         "hovertemplate": "Weekday=Sun<br>%{xaxis.title.text}=%{x}<br>%{yaxis.title.text}=%{y}<extra></extra>",
         "legendgroup": "Sun",
         "marker": {
          "color": "#FF6692",
          "symbol": "circle"
         },
         "name": "Sun",
         "showlegend": true,
         "type": "splom"
        }
       ],
       "layout": {
        "dragmode": "select",
        "legend": {
         "title": {
          "text": "Weekday"
         },
         "tracegroupgap": 0
        },
        "margin": {
         "t": 60
        },
        "template": {
         "data": {
          "bar": [
           {
            "error_x": {
             "color": "#2a3f5f"
            },
            "error_y": {
             "color": "#2a3f5f"
            },
            "marker": {
             "line": {
              "color": "#E5ECF6",
              "width": 0.5
             }
            },
            "type": "bar"
           }
          ],
          "barpolar": [
           {
            "marker": {
             "line": {
              "color": "#E5ECF6",
              "width": 0.5
             }
            },
            "type": "barpolar"
           }
          ],
          "carpet": [
           {
            "aaxis": {
             "endlinecolor": "#2a3f5f",
             "gridcolor": "white",
             "linecolor": "white",
             "minorgridcolor": "white",
             "startlinecolor": "#2a3f5f"
            },
            "baxis": {
             "endlinecolor": "#2a3f5f",
             "gridcolor": "white",
             "linecolor": "white",
             "minorgridcolor": "white",
             "startlinecolor": "#2a3f5f"
            },
            "type": "carpet"
           }
          ],
          "choropleth": [
           {
            "colorbar": {
             "outlinewidth": 0,
             "ticks": ""
            },
            "type": "choropleth"
           }
          ],
          "contour": [
           {
            "colorbar": {
             "outlinewidth": 0,
             "ticks": ""
            },
            "colorscale": [
             [
              0,
              "#0d0887"
             ],
             [
              0.1111111111111111,
              "#46039f"
             ],
             [
              0.2222222222222222,
              "#7201a8"
             ],
             [
              0.3333333333333333,
              "#9c179e"
             ],
             [
              0.4444444444444444,
              "#bd3786"
             ],
             [
              0.5555555555555556,
              "#d8576b"
             ],
             [
              0.6666666666666666,
              "#ed7953"
             ],
             [
              0.7777777777777778,
              "#fb9f3a"
             ],
             [
              0.8888888888888888,
              "#fdca26"
             ],
             [
              1,
              "#f0f921"
             ]
            ],
            "type": "contour"
           }
          ],
          "contourcarpet": [
           {
            "colorbar": {
             "outlinewidth": 0,
             "ticks": ""
            },
            "type": "contourcarpet"
           }
          ],
          "heatmap": [
           {
            "colorbar": {
             "outlinewidth": 0,
             "ticks": ""
            },
            "colorscale": [
             [
              0,
              "#0d0887"
             ],
             [
              0.1111111111111111,
              "#46039f"
             ],
             [
              0.2222222222222222,
              "#7201a8"
             ],
             [
              0.3333333333333333,
              "#9c179e"
             ],
             [
              0.4444444444444444,
              "#bd3786"
             ],
             [
              0.5555555555555556,
              "#d8576b"
             ],
             [
              0.6666666666666666,
              "#ed7953"
             ],
             [
              0.7777777777777778,
              "#fb9f3a"
             ],
             [
              0.8888888888888888,
              "#fdca26"
             ],
             [
              1,
              "#f0f921"
             ]
            ],
            "type": "heatmap"
           }
          ],
          "heatmapgl": [
           {
            "colorbar": {
             "outlinewidth": 0,
             "ticks": ""
            },
            "colorscale": [
             [
              0,
              "#0d0887"
             ],
             [
              0.1111111111111111,
              "#46039f"
             ],
             [
              0.2222222222222222,
              "#7201a8"
             ],
             [
              0.3333333333333333,
              "#9c179e"
             ],
             [
              0.4444444444444444,
              "#bd3786"
             ],
             [
              0.5555555555555556,
              "#d8576b"
             ],
             [
              0.6666666666666666,
              "#ed7953"
             ],
             [
              0.7777777777777778,
              "#fb9f3a"
             ],
             [
              0.8888888888888888,
              "#fdca26"
             ],
             [
              1,
              "#f0f921"
             ]
            ],
            "type": "heatmapgl"
           }
          ],
          "histogram": [
           {
            "marker": {
             "colorbar": {
              "outlinewidth": 0,
              "ticks": ""
             }
            },
            "type": "histogram"
           }
          ],
          "histogram2d": [
           {
            "colorbar": {
             "outlinewidth": 0,
             "ticks": ""
            },
            "colorscale": [
             [
              0,
              "#0d0887"
             ],
             [
              0.1111111111111111,
              "#46039f"
             ],
             [
              0.2222222222222222,
              "#7201a8"
             ],
             [
              0.3333333333333333,
              "#9c179e"
             ],
             [
              0.4444444444444444,
              "#bd3786"
             ],
             [
              0.5555555555555556,
              "#d8576b"
             ],
             [
              0.6666666666666666,
              "#ed7953"
             ],
             [
              0.7777777777777778,
              "#fb9f3a"
             ],
             [
              0.8888888888888888,
              "#fdca26"
             ],
             [
              1,
              "#f0f921"
             ]
            ],
            "type": "histogram2d"
           }
          ],
          "histogram2dcontour": [
           {
            "colorbar": {
             "outlinewidth": 0,
             "ticks": ""
            },
            "colorscale": [
             [
              0,
              "#0d0887"
             ],
             [
              0.1111111111111111,
              "#46039f"
             ],
             [
              0.2222222222222222,
              "#7201a8"
             ],
             [
              0.3333333333333333,
              "#9c179e"
             ],
             [
              0.4444444444444444,
              "#bd3786"
             ],
             [
              0.5555555555555556,
              "#d8576b"
             ],
             [
              0.6666666666666666,
              "#ed7953"
             ],
             [
              0.7777777777777778,
              "#fb9f3a"
             ],
             [
              0.8888888888888888,
              "#fdca26"
             ],
             [
              1,
              "#f0f921"
             ]
            ],
            "type": "histogram2dcontour"
           }
          ],
          "mesh3d": [
           {
            "colorbar": {
             "outlinewidth": 0,
             "ticks": ""
            },
            "type": "mesh3d"
           }
          ],
          "parcoords": [
           {
            "line": {
             "colorbar": {
              "outlinewidth": 0,
              "ticks": ""
             }
            },
            "type": "parcoords"
           }
          ],
          "pie": [
           {
            "automargin": true,
            "type": "pie"
           }
          ],
          "scatter": [
           {
            "marker": {
             "colorbar": {
              "outlinewidth": 0,
              "ticks": ""
             }
            },
            "type": "scatter"
           }
          ],
          "scatter3d": [
           {
            "line": {
             "colorbar": {
              "outlinewidth": 0,
              "ticks": ""
             }
            },
            "marker": {
             "colorbar": {
              "outlinewidth": 0,
              "ticks": ""
             }
            },
            "type": "scatter3d"
           }
          ],
          "scattercarpet": [
           {
            "marker": {
             "colorbar": {
              "outlinewidth": 0,
              "ticks": ""
             }
            },
            "type": "scattercarpet"
           }
          ],
          "scattergeo": [
           {
            "marker": {
             "colorbar": {
              "outlinewidth": 0,
              "ticks": ""
             }
            },
            "type": "scattergeo"
           }
          ],
          "scattergl": [
           {
            "marker": {
             "colorbar": {
              "outlinewidth": 0,
              "ticks": ""
             }
            },
            "type": "scattergl"
           }
          ],
          "scattermapbox": [
           {
            "marker": {
             "colorbar": {
              "outlinewidth": 0,
              "ticks": ""
             }
            },
            "type": "scattermapbox"
           }
          ],
          "scatterpolar": [
           {
            "marker": {
             "colorbar": {
              "outlinewidth": 0,
              "ticks": ""
             }
            },
            "type": "scatterpolar"
           }
          ],
          "scatterpolargl": [
           {
            "marker": {
             "colorbar": {
              "outlinewidth": 0,
              "ticks": ""
             }
            },
            "type": "scatterpolargl"
           }
          ],
          "scatterternary": [
           {
            "marker": {
             "colorbar": {
              "outlinewidth": 0,
              "ticks": ""
             }
            },
            "type": "scatterternary"
           }
          ],
          "surface": [
           {
            "colorbar": {
             "outlinewidth": 0,
             "ticks": ""
            },
            "colorscale": [
             [
              0,
              "#0d0887"
             ],
             [
              0.1111111111111111,
              "#46039f"
             ],
             [
              0.2222222222222222,
              "#7201a8"
             ],
             [
              0.3333333333333333,
              "#9c179e"
             ],
             [
              0.4444444444444444,
              "#bd3786"
             ],
             [
              0.5555555555555556,
              "#d8576b"
             ],
             [
              0.6666666666666666,
              "#ed7953"
             ],
             [
              0.7777777777777778,
              "#fb9f3a"
             ],
             [
              0.8888888888888888,
              "#fdca26"
             ],
             [
              1,
              "#f0f921"
             ]
            ],
            "type": "surface"
           }
          ],
          "table": [
           {
            "cells": {
             "fill": {
              "color": "#EBF0F8"
             },
             "line": {
              "color": "white"
             }
            },
            "header": {
             "fill": {
              "color": "#C8D4E3"
             },
             "line": {
              "color": "white"
             }
            },
            "type": "table"
           }
          ]
         },
         "layout": {
          "annotationdefaults": {
           "arrowcolor": "#2a3f5f",
           "arrowhead": 0,
           "arrowwidth": 1
          },
          "autotypenumbers": "strict",
          "coloraxis": {
           "colorbar": {
            "outlinewidth": 0,
            "ticks": ""
           }
          },
          "colorscale": {
           "diverging": [
            [
             0,
             "#8e0152"
            ],
            [
             0.1,
             "#c51b7d"
            ],
            [
             0.2,
             "#de77ae"
            ],
            [
             0.3,
             "#f1b6da"
            ],
            [
             0.4,
             "#fde0ef"
            ],
            [
             0.5,
             "#f7f7f7"
            ],
            [
             0.6,
             "#e6f5d0"
            ],
            [
             0.7,
             "#b8e186"
            ],
            [
             0.8,
             "#7fbc41"
            ],
            [
             0.9,
             "#4d9221"
            ],
            [
             1,
             "#276419"
            ]
           ],
           "sequential": [
            [
             0,
             "#0d0887"
            ],
            [
             0.1111111111111111,
             "#46039f"
            ],
            [
             0.2222222222222222,
             "#7201a8"
            ],
            [
             0.3333333333333333,
             "#9c179e"
            ],
            [
             0.4444444444444444,
             "#bd3786"
            ],
            [
             0.5555555555555556,
             "#d8576b"
            ],
            [
             0.6666666666666666,
             "#ed7953"
            ],
            [
             0.7777777777777778,
             "#fb9f3a"
            ],
            [
             0.8888888888888888,
             "#fdca26"
            ],
            [
             1,
             "#f0f921"
            ]
           ],
           "sequentialminus": [
            [
             0,
             "#0d0887"
            ],
            [
             0.1111111111111111,
             "#46039f"
            ],
            [
             0.2222222222222222,
             "#7201a8"
            ],
            [
             0.3333333333333333,
             "#9c179e"
            ],
            [
             0.4444444444444444,
             "#bd3786"
            ],
            [
             0.5555555555555556,
             "#d8576b"
            ],
            [
             0.6666666666666666,
             "#ed7953"
            ],
            [
             0.7777777777777778,
             "#fb9f3a"
            ],
            [
             0.8888888888888888,
             "#fdca26"
            ],
            [
             1,
             "#f0f921"
            ]
           ]
          },
          "colorway": [
           "#636efa",
           "#EF553B",
           "#00cc96",
           "#ab63fa",
           "#FFA15A",
           "#19d3f3",
           "#FF6692",
           "#B6E880",
           "#FF97FF",
           "#FECB52"
          ],
          "font": {
           "color": "#2a3f5f"
          },
          "geo": {
           "bgcolor": "white",
           "lakecolor": "white",
           "landcolor": "#E5ECF6",
           "showlakes": true,
           "showland": true,
           "subunitcolor": "white"
          },
          "hoverlabel": {
           "align": "left"
          },
          "hovermode": "closest",
          "mapbox": {
           "style": "light"
          },
          "paper_bgcolor": "white",
          "plot_bgcolor": "#E5ECF6",
          "polar": {
           "angularaxis": {
            "gridcolor": "white",
            "linecolor": "white",
            "ticks": ""
           },
           "bgcolor": "#E5ECF6",
           "radialaxis": {
            "gridcolor": "white",
            "linecolor": "white",
            "ticks": ""
           }
          },
          "scene": {
           "xaxis": {
            "backgroundcolor": "#E5ECF6",
            "gridcolor": "white",
            "gridwidth": 2,
            "linecolor": "white",
            "showbackground": true,
            "ticks": "",
            "zerolinecolor": "white"
           },
           "yaxis": {
            "backgroundcolor": "#E5ECF6",
            "gridcolor": "white",
            "gridwidth": 2,
            "linecolor": "white",
            "showbackground": true,
            "ticks": "",
            "zerolinecolor": "white"
           },
           "zaxis": {
            "backgroundcolor": "#E5ECF6",
            "gridcolor": "white",
            "gridwidth": 2,
            "linecolor": "white",
            "showbackground": true,
            "ticks": "",
            "zerolinecolor": "white"
           }
          },
          "shapedefaults": {
           "line": {
            "color": "#2a3f5f"
           }
          },
          "ternary": {
           "aaxis": {
            "gridcolor": "white",
            "linecolor": "white",
            "ticks": ""
           },
           "baxis": {
            "gridcolor": "white",
            "linecolor": "white",
            "ticks": ""
           },
           "bgcolor": "#E5ECF6",
           "caxis": {
            "gridcolor": "white",
            "linecolor": "white",
            "ticks": ""
           }
          },
          "title": {
           "x": 0.05
          },
          "xaxis": {
           "automargin": true,
           "gridcolor": "white",
           "linecolor": "white",
           "ticks": "",
           "title": {
            "standoff": 15
           },
           "zerolinecolor": "white",
           "zerolinewidth": 2
          },
          "yaxis": {
           "automargin": true,
           "gridcolor": "white",
           "linecolor": "white",
           "ticks": "",
           "title": {
            "standoff": 15
           },
           "zerolinecolor": "white",
           "zerolinewidth": 2
          }
         }
        },
        "title": {
         "text": "Relationships between Page Views, Network Impressions and Spend variables - Avg by Weekday"
        }
       }
      },
      "text/html": [
       "<div>                            <div id=\"dc1b3594-fc83-4ce6-b340-3d58fc1182e8\" class=\"plotly-graph-div\" style=\"height:525px; width:100%;\"></div>            <script type=\"text/javascript\">                require([\"plotly\"], function(Plotly) {                    window.PLOTLYENV=window.PLOTLYENV || {};                                    if (document.getElementById(\"dc1b3594-fc83-4ce6-b340-3d58fc1182e8\")) {                    Plotly.newPlot(                        \"dc1b3594-fc83-4ce6-b340-3d58fc1182e8\",                        [{\"dimensions\": [{\"axis\": {\"matches\": true}, \"label\": \"Page Views\", \"values\": [159.83]}, {\"axis\": {\"matches\": true}, \"label\": \"NetA_imp\", \"values\": [7.29]}, {\"axis\": {\"matches\": true}, \"label\": \"NetA_spd\", \"values\": [171.46]}, {\"axis\": {\"matches\": true}, \"label\": \"NetB_imp\", \"values\": [5.98]}, {\"axis\": {\"matches\": true}, \"label\": \"NetB_spd\", \"values\": [149.2]}], \"hovertemplate\": \"Weekday=Mon<br>%{xaxis.title.text}=%{x}<br>%{yaxis.title.text}=%{y}<extra></extra>\", \"legendgroup\": \"Mon\", \"marker\": {\"color\": \"#636efa\", \"symbol\": \"circle\"}, \"name\": \"Mon\", \"showlegend\": true, \"type\": \"splom\"}, {\"dimensions\": [{\"axis\": {\"matches\": true}, \"label\": \"Page Views\", \"values\": [141.18]}, {\"axis\": {\"matches\": true}, \"label\": \"NetA_imp\", \"values\": [6.74]}, {\"axis\": {\"matches\": true}, \"label\": \"NetA_spd\", \"values\": [56.57]}, {\"axis\": {\"matches\": true}, \"label\": \"NetB_imp\", \"values\": [7.85]}, {\"axis\": {\"matches\": true}, \"label\": \"NetB_spd\", \"values\": [174.62]}], \"hovertemplate\": \"Weekday=Tue<br>%{xaxis.title.text}=%{x}<br>%{yaxis.title.text}=%{y}<extra></extra>\", \"legendgroup\": \"Tue\", \"marker\": {\"color\": \"#EF553B\", \"symbol\": \"circle\"}, \"name\": \"Tue\", \"showlegend\": true, \"type\": \"splom\"}, {\"dimensions\": [{\"axis\": {\"matches\": true}, \"label\": \"Page Views\", \"values\": [141.37]}, {\"axis\": {\"matches\": true}, \"label\": \"NetA_imp\", \"values\": [3.76]}, {\"axis\": {\"matches\": true}, \"label\": \"NetA_spd\", \"values\": [88.2]}, {\"axis\": {\"matches\": true}, \"label\": \"NetB_imp\", \"values\": [6.22]}, {\"axis\": {\"matches\": true}, \"label\": \"NetB_spd\", \"values\": [117.1]}], \"hovertemplate\": \"Weekday=Wed<br>%{xaxis.title.text}=%{x}<br>%{yaxis.title.text}=%{y}<extra></extra>\", \"legendgroup\": \"Wed\", \"marker\": {\"color\": \"#00cc96\", \"symbol\": \"circle\"}, \"name\": \"Wed\", \"showlegend\": true, \"type\": \"splom\"}, {\"dimensions\": [{\"axis\": {\"matches\": true}, \"label\": \"Page Views\", \"values\": [134.17]}, {\"axis\": {\"matches\": true}, \"label\": \"NetA_imp\", \"values\": [5.23]}, {\"axis\": {\"matches\": true}, \"label\": \"NetA_spd\", \"values\": [162.33]}, {\"axis\": {\"matches\": true}, \"label\": \"NetB_imp\", \"values\": [4.33]}, {\"axis\": {\"matches\": true}, \"label\": \"NetB_spd\", \"values\": [87.55]}], \"hovertemplate\": \"Weekday=Thu<br>%{xaxis.title.text}=%{x}<br>%{yaxis.title.text}=%{y}<extra></extra>\", \"legendgroup\": \"Thu\", \"marker\": {\"color\": \"#ab63fa\", \"symbol\": \"circle\"}, \"name\": \"Thu\", \"showlegend\": true, \"type\": \"splom\"}, {\"dimensions\": [{\"axis\": {\"matches\": true}, \"label\": \"Page Views\", \"values\": [128.02]}, {\"axis\": {\"matches\": true}, \"label\": \"NetA_imp\", \"values\": [2.69]}, {\"axis\": {\"matches\": true}, \"label\": \"NetA_spd\", \"values\": [85.91]}, {\"axis\": {\"matches\": true}, \"label\": \"NetB_imp\", \"values\": [4.82]}, {\"axis\": {\"matches\": true}, \"label\": \"NetB_spd\", \"values\": [104.48]}], \"hovertemplate\": \"Weekday=Fri<br>%{xaxis.title.text}=%{x}<br>%{yaxis.title.text}=%{y}<extra></extra>\", \"legendgroup\": \"Fri\", \"marker\": {\"color\": \"#FFA15A\", \"symbol\": \"circle\"}, \"name\": \"Fri\", \"showlegend\": true, \"type\": \"splom\"}, {\"dimensions\": [{\"axis\": {\"matches\": true}, \"label\": \"Page Views\", \"values\": [129.22]}, {\"axis\": {\"matches\": true}, \"label\": \"NetA_imp\", \"values\": [3.06]}, {\"axis\": {\"matches\": true}, \"label\": \"NetA_spd\", \"values\": [40.57]}, {\"axis\": {\"matches\": true}, \"label\": \"NetB_imp\", \"values\": [5.62]}, {\"axis\": {\"matches\": true}, \"label\": \"NetB_spd\", \"values\": [85.96]}], \"hovertemplate\": \"Weekday=Sat<br>%{xaxis.title.text}=%{x}<br>%{yaxis.title.text}=%{y}<extra></extra>\", \"legendgroup\": \"Sat\", \"marker\": {\"color\": \"#19d3f3\", \"symbol\": \"circle\"}, \"name\": \"Sat\", \"showlegend\": true, \"type\": \"splom\"}, {\"dimensions\": [{\"axis\": {\"matches\": true}, \"label\": \"Page Views\", \"values\": [142.13]}, {\"axis\": {\"matches\": true}, \"label\": \"NetA_imp\", \"values\": [6.73]}, {\"axis\": {\"matches\": true}, \"label\": \"NetA_spd\", \"values\": [122.59]}, {\"axis\": {\"matches\": true}, \"label\": \"NetB_imp\", \"values\": [4.99]}, {\"axis\": {\"matches\": true}, \"label\": \"NetB_spd\", \"values\": [104.02]}], \"hovertemplate\": \"Weekday=Sun<br>%{xaxis.title.text}=%{x}<br>%{yaxis.title.text}=%{y}<extra></extra>\", \"legendgroup\": \"Sun\", \"marker\": {\"color\": \"#FF6692\", \"symbol\": \"circle\"}, \"name\": \"Sun\", \"showlegend\": true, \"type\": \"splom\"}],                        {\"dragmode\": \"select\", \"legend\": {\"title\": {\"text\": \"Weekday\"}, \"tracegroupgap\": 0}, \"margin\": {\"t\": 60}, \"template\": {\"data\": {\"bar\": [{\"error_x\": {\"color\": \"#2a3f5f\"}, \"error_y\": {\"color\": \"#2a3f5f\"}, \"marker\": {\"line\": {\"color\": \"#E5ECF6\", \"width\": 0.5}}, \"type\": \"bar\"}], \"barpolar\": [{\"marker\": {\"line\": {\"color\": \"#E5ECF6\", \"width\": 0.5}}, \"type\": \"barpolar\"}], \"carpet\": [{\"aaxis\": {\"endlinecolor\": \"#2a3f5f\", \"gridcolor\": \"white\", \"linecolor\": \"white\", \"minorgridcolor\": \"white\", \"startlinecolor\": \"#2a3f5f\"}, \"baxis\": {\"endlinecolor\": \"#2a3f5f\", \"gridcolor\": \"white\", \"linecolor\": \"white\", \"minorgridcolor\": \"white\", \"startlinecolor\": \"#2a3f5f\"}, \"type\": \"carpet\"}], \"choropleth\": [{\"colorbar\": {\"outlinewidth\": 0, \"ticks\": \"\"}, \"type\": \"choropleth\"}], \"contour\": [{\"colorbar\": {\"outlinewidth\": 0, \"ticks\": \"\"}, \"colorscale\": [[0.0, \"#0d0887\"], [0.1111111111111111, \"#46039f\"], [0.2222222222222222, \"#7201a8\"], [0.3333333333333333, \"#9c179e\"], [0.4444444444444444, \"#bd3786\"], [0.5555555555555556, \"#d8576b\"], [0.6666666666666666, \"#ed7953\"], [0.7777777777777778, \"#fb9f3a\"], [0.8888888888888888, \"#fdca26\"], [1.0, \"#f0f921\"]], \"type\": \"contour\"}], \"contourcarpet\": [{\"colorbar\": {\"outlinewidth\": 0, \"ticks\": \"\"}, \"type\": \"contourcarpet\"}], \"heatmap\": [{\"colorbar\": {\"outlinewidth\": 0, \"ticks\": \"\"}, \"colorscale\": [[0.0, \"#0d0887\"], [0.1111111111111111, \"#46039f\"], [0.2222222222222222, \"#7201a8\"], [0.3333333333333333, \"#9c179e\"], [0.4444444444444444, \"#bd3786\"], [0.5555555555555556, \"#d8576b\"], [0.6666666666666666, \"#ed7953\"], [0.7777777777777778, \"#fb9f3a\"], [0.8888888888888888, \"#fdca26\"], [1.0, \"#f0f921\"]], \"type\": \"heatmap\"}], \"heatmapgl\": [{\"colorbar\": {\"outlinewidth\": 0, \"ticks\": \"\"}, \"colorscale\": [[0.0, \"#0d0887\"], [0.1111111111111111, \"#46039f\"], [0.2222222222222222, \"#7201a8\"], [0.3333333333333333, \"#9c179e\"], [0.4444444444444444, \"#bd3786\"], [0.5555555555555556, \"#d8576b\"], [0.6666666666666666, \"#ed7953\"], [0.7777777777777778, \"#fb9f3a\"], [0.8888888888888888, \"#fdca26\"], [1.0, \"#f0f921\"]], \"type\": \"heatmapgl\"}], \"histogram\": [{\"marker\": {\"colorbar\": {\"outlinewidth\": 0, \"ticks\": \"\"}}, \"type\": \"histogram\"}], \"histogram2d\": [{\"colorbar\": {\"outlinewidth\": 0, \"ticks\": \"\"}, \"colorscale\": [[0.0, \"#0d0887\"], [0.1111111111111111, \"#46039f\"], [0.2222222222222222, \"#7201a8\"], [0.3333333333333333, \"#9c179e\"], [0.4444444444444444, \"#bd3786\"], [0.5555555555555556, \"#d8576b\"], [0.6666666666666666, \"#ed7953\"], [0.7777777777777778, \"#fb9f3a\"], [0.8888888888888888, \"#fdca26\"], [1.0, \"#f0f921\"]], \"type\": \"histogram2d\"}], \"histogram2dcontour\": [{\"colorbar\": {\"outlinewidth\": 0, \"ticks\": \"\"}, \"colorscale\": [[0.0, \"#0d0887\"], [0.1111111111111111, \"#46039f\"], [0.2222222222222222, \"#7201a8\"], [0.3333333333333333, \"#9c179e\"], [0.4444444444444444, \"#bd3786\"], [0.5555555555555556, \"#d8576b\"], [0.6666666666666666, \"#ed7953\"], [0.7777777777777778, \"#fb9f3a\"], [0.8888888888888888, \"#fdca26\"], [1.0, \"#f0f921\"]], \"type\": \"histogram2dcontour\"}], \"mesh3d\": [{\"colorbar\": {\"outlinewidth\": 0, \"ticks\": \"\"}, \"type\": \"mesh3d\"}], \"parcoords\": [{\"line\": {\"colorbar\": {\"outlinewidth\": 0, \"ticks\": \"\"}}, \"type\": \"parcoords\"}], \"pie\": [{\"automargin\": true, \"type\": \"pie\"}], \"scatter\": [{\"marker\": {\"colorbar\": {\"outlinewidth\": 0, \"ticks\": \"\"}}, \"type\": \"scatter\"}], \"scatter3d\": [{\"line\": {\"colorbar\": {\"outlinewidth\": 0, \"ticks\": \"\"}}, \"marker\": {\"colorbar\": {\"outlinewidth\": 0, \"ticks\": \"\"}}, \"type\": \"scatter3d\"}], \"scattercarpet\": [{\"marker\": {\"colorbar\": {\"outlinewidth\": 0, \"ticks\": \"\"}}, \"type\": \"scattercarpet\"}], \"scattergeo\": [{\"marker\": {\"colorbar\": {\"outlinewidth\": 0, \"ticks\": \"\"}}, \"type\": \"scattergeo\"}], \"scattergl\": [{\"marker\": {\"colorbar\": {\"outlinewidth\": 0, \"ticks\": \"\"}}, \"type\": \"scattergl\"}], \"scattermapbox\": [{\"marker\": {\"colorbar\": {\"outlinewidth\": 0, \"ticks\": \"\"}}, \"type\": \"scattermapbox\"}], \"scatterpolar\": [{\"marker\": {\"colorbar\": {\"outlinewidth\": 0, \"ticks\": \"\"}}, \"type\": \"scatterpolar\"}], \"scatterpolargl\": [{\"marker\": {\"colorbar\": {\"outlinewidth\": 0, \"ticks\": \"\"}}, \"type\": \"scatterpolargl\"}], \"scatterternary\": [{\"marker\": {\"colorbar\": {\"outlinewidth\": 0, \"ticks\": \"\"}}, \"type\": \"scatterternary\"}], \"surface\": [{\"colorbar\": {\"outlinewidth\": 0, \"ticks\": \"\"}, \"colorscale\": [[0.0, \"#0d0887\"], [0.1111111111111111, \"#46039f\"], [0.2222222222222222, \"#7201a8\"], [0.3333333333333333, \"#9c179e\"], [0.4444444444444444, \"#bd3786\"], [0.5555555555555556, \"#d8576b\"], [0.6666666666666666, \"#ed7953\"], [0.7777777777777778, \"#fb9f3a\"], [0.8888888888888888, \"#fdca26\"], [1.0, \"#f0f921\"]], \"type\": \"surface\"}], \"table\": [{\"cells\": {\"fill\": {\"color\": \"#EBF0F8\"}, \"line\": {\"color\": \"white\"}}, \"header\": {\"fill\": {\"color\": \"#C8D4E3\"}, \"line\": {\"color\": \"white\"}}, \"type\": \"table\"}]}, \"layout\": {\"annotationdefaults\": {\"arrowcolor\": \"#2a3f5f\", \"arrowhead\": 0, \"arrowwidth\": 1}, \"autotypenumbers\": \"strict\", \"coloraxis\": {\"colorbar\": {\"outlinewidth\": 0, \"ticks\": \"\"}}, \"colorscale\": {\"diverging\": [[0, \"#8e0152\"], [0.1, \"#c51b7d\"], [0.2, \"#de77ae\"], [0.3, \"#f1b6da\"], [0.4, \"#fde0ef\"], [0.5, \"#f7f7f7\"], [0.6, \"#e6f5d0\"], [0.7, \"#b8e186\"], [0.8, \"#7fbc41\"], [0.9, \"#4d9221\"], [1, \"#276419\"]], \"sequential\": [[0.0, \"#0d0887\"], [0.1111111111111111, \"#46039f\"], [0.2222222222222222, \"#7201a8\"], [0.3333333333333333, \"#9c179e\"], [0.4444444444444444, \"#bd3786\"], [0.5555555555555556, \"#d8576b\"], [0.6666666666666666, \"#ed7953\"], [0.7777777777777778, \"#fb9f3a\"], [0.8888888888888888, \"#fdca26\"], [1.0, \"#f0f921\"]], \"sequentialminus\": [[0.0, \"#0d0887\"], [0.1111111111111111, \"#46039f\"], [0.2222222222222222, \"#7201a8\"], [0.3333333333333333, \"#9c179e\"], [0.4444444444444444, \"#bd3786\"], [0.5555555555555556, \"#d8576b\"], [0.6666666666666666, \"#ed7953\"], [0.7777777777777778, \"#fb9f3a\"], [0.8888888888888888, \"#fdca26\"], [1.0, \"#f0f921\"]]}, \"colorway\": [\"#636efa\", \"#EF553B\", \"#00cc96\", \"#ab63fa\", \"#FFA15A\", \"#19d3f3\", \"#FF6692\", \"#B6E880\", \"#FF97FF\", \"#FECB52\"], \"font\": {\"color\": \"#2a3f5f\"}, \"geo\": {\"bgcolor\": \"white\", \"lakecolor\": \"white\", \"landcolor\": \"#E5ECF6\", \"showlakes\": true, \"showland\": true, \"subunitcolor\": \"white\"}, \"hoverlabel\": {\"align\": \"left\"}, \"hovermode\": \"closest\", \"mapbox\": {\"style\": \"light\"}, \"paper_bgcolor\": \"white\", \"plot_bgcolor\": \"#E5ECF6\", \"polar\": {\"angularaxis\": {\"gridcolor\": \"white\", \"linecolor\": \"white\", \"ticks\": \"\"}, \"bgcolor\": \"#E5ECF6\", \"radialaxis\": {\"gridcolor\": \"white\", \"linecolor\": \"white\", \"ticks\": \"\"}}, \"scene\": {\"xaxis\": {\"backgroundcolor\": \"#E5ECF6\", \"gridcolor\": \"white\", \"gridwidth\": 2, \"linecolor\": \"white\", \"showbackground\": true, \"ticks\": \"\", \"zerolinecolor\": \"white\"}, \"yaxis\": {\"backgroundcolor\": \"#E5ECF6\", \"gridcolor\": \"white\", \"gridwidth\": 2, \"linecolor\": \"white\", \"showbackground\": true, \"ticks\": \"\", \"zerolinecolor\": \"white\"}, \"zaxis\": {\"backgroundcolor\": \"#E5ECF6\", \"gridcolor\": \"white\", \"gridwidth\": 2, \"linecolor\": \"white\", \"showbackground\": true, \"ticks\": \"\", \"zerolinecolor\": \"white\"}}, \"shapedefaults\": {\"line\": {\"color\": \"#2a3f5f\"}}, \"ternary\": {\"aaxis\": {\"gridcolor\": \"white\", \"linecolor\": \"white\", \"ticks\": \"\"}, \"baxis\": {\"gridcolor\": \"white\", \"linecolor\": \"white\", \"ticks\": \"\"}, \"bgcolor\": \"#E5ECF6\", \"caxis\": {\"gridcolor\": \"white\", \"linecolor\": \"white\", \"ticks\": \"\"}}, \"title\": {\"x\": 0.05}, \"xaxis\": {\"automargin\": true, \"gridcolor\": \"white\", \"linecolor\": \"white\", \"ticks\": \"\", \"title\": {\"standoff\": 15}, \"zerolinecolor\": \"white\", \"zerolinewidth\": 2}, \"yaxis\": {\"automargin\": true, \"gridcolor\": \"white\", \"linecolor\": \"white\", \"ticks\": \"\", \"title\": {\"standoff\": 15}, \"zerolinecolor\": \"white\", \"zerolinewidth\": 2}}}, \"title\": {\"text\": \"Relationships between Page Views, Network Impressions and Spend variables - Avg by Weekday\"}},                        {\"responsive\": true}                    ).then(function(){\n",
       "                            \n",
       "var gd = document.getElementById('dc1b3594-fc83-4ce6-b340-3d58fc1182e8');\n",
       "var x = new MutationObserver(function (mutations, observer) {{\n",
       "        var display = window.getComputedStyle(gd).display;\n",
       "        if (!display || display === 'none') {{\n",
       "            console.log([gd, 'removed!']);\n",
       "            Plotly.purge(gd);\n",
       "            observer.disconnect();\n",
       "        }}\n",
       "}});\n",
       "\n",
       "// Listen for the removal of the full notebook cells\n",
       "var notebookContainer = gd.closest('#notebook-container');\n",
       "if (notebookContainer) {{\n",
       "    x.observe(notebookContainer, {childList: true});\n",
       "}}\n",
       "\n",
       "// Listen for the clearing of the current output cell\n",
       "var outputEl = gd.closest('.output');\n",
       "if (outputEl) {{\n",
       "    x.observe(outputEl, {childList: true});\n",
       "}}\n",
       "\n",
       "                        })                };                });            </script>        </div>"
      ]
     },
     "metadata": {},
     "output_type": "display_data"
    }
   ],
   "source": [
    "fig = px.scatter_matrix(df_plot, dimensions=['Page Views', 'NetA_imp','NetA_spd'\\\n",
    "                                         , 'NetB_imp', 'NetB_spd'],color='Weekday')\n",
    "\n",
    "\n",
    "fig.update_layout(title=\"Relationships between Page Views, Network Impressions and Spend variables - Avg by Weekday\")\n",
    "\n",
    "fig.show()"
   ]
  },
  {
   "cell_type": "markdown",
   "id": "aquatic-parks",
   "metadata": {},
   "source": [
    "### Q3 - Visualise amount of variation of Page views at different parts of the day"
   ]
  },
  {
   "cell_type": "code",
   "execution_count": 143,
   "id": "nasty-court",
   "metadata": {},
   "outputs": [
    {
     "data": {
      "text/html": [
       "<div>\n",
       "<style scoped>\n",
       "    .dataframe tbody tr th:only-of-type {\n",
       "        vertical-align: middle;\n",
       "    }\n",
       "\n",
       "    .dataframe tbody tr th {\n",
       "        vertical-align: top;\n",
       "    }\n",
       "\n",
       "    .dataframe thead th {\n",
       "        text-align: right;\n",
       "    }\n",
       "</style>\n",
       "<table border=\"1\" class=\"dataframe\">\n",
       "  <thead>\n",
       "    <tr style=\"text-align: right;\">\n",
       "      <th></th>\n",
       "      <th>Month</th>\n",
       "      <th>Hour</th>\n",
       "      <th>Page Views</th>\n",
       "      <th>NetA_imp</th>\n",
       "      <th>NetA_spd</th>\n",
       "      <th>NetB_imp</th>\n",
       "      <th>NetB_spd</th>\n",
       "    </tr>\n",
       "  </thead>\n",
       "  <tbody>\n",
       "    <tr>\n",
       "      <th>0</th>\n",
       "      <td>Aug</td>\n",
       "      <td>0</td>\n",
       "      <td>1126</td>\n",
       "      <td>1</td>\n",
       "      <td>52</td>\n",
       "      <td>0</td>\n",
       "      <td>0</td>\n",
       "    </tr>\n",
       "    <tr>\n",
       "      <th>1</th>\n",
       "      <td>Aug</td>\n",
       "      <td>1</td>\n",
       "      <td>763</td>\n",
       "      <td>0</td>\n",
       "      <td>0</td>\n",
       "      <td>0</td>\n",
       "      <td>0</td>\n",
       "    </tr>\n",
       "    <tr>\n",
       "      <th>2</th>\n",
       "      <td>Aug</td>\n",
       "      <td>2</td>\n",
       "      <td>470</td>\n",
       "      <td>0</td>\n",
       "      <td>0</td>\n",
       "      <td>0</td>\n",
       "      <td>0</td>\n",
       "    </tr>\n",
       "    <tr>\n",
       "      <th>3</th>\n",
       "      <td>Aug</td>\n",
       "      <td>3</td>\n",
       "      <td>350</td>\n",
       "      <td>0</td>\n",
       "      <td>0</td>\n",
       "      <td>0</td>\n",
       "      <td>0</td>\n",
       "    </tr>\n",
       "    <tr>\n",
       "      <th>4</th>\n",
       "      <td>Aug</td>\n",
       "      <td>4</td>\n",
       "      <td>312</td>\n",
       "      <td>0</td>\n",
       "      <td>0</td>\n",
       "      <td>0</td>\n",
       "      <td>0</td>\n",
       "    </tr>\n",
       "  </tbody>\n",
       "</table>\n",
       "</div>"
      ],
      "text/plain": [
       "  Month  Hour  Page Views  NetA_imp  NetA_spd  NetB_imp  NetB_spd\n",
       "0   Aug     0        1126         1        52         0         0\n",
       "1   Aug     1         763         0         0         0         0\n",
       "2   Aug     2         470         0         0         0         0\n",
       "3   Aug     3         350         0         0         0         0\n",
       "4   Aug     4         312         0         0         0         0"
      ]
     },
     "execution_count": 143,
     "metadata": {},
     "output_type": "execute_result"
    }
   ],
   "source": [
    "df_hour_agg=df.groupby(['Month','Hour'])[['Page Views', 'NetA_imp','NetA_spd'\\\n",
    "                                         , 'NetB_imp', 'NetB_spd']].sum().reset_index()\n",
    "\n",
    "df_hour_agg.head()"
   ]
  },
  {
   "cell_type": "code",
   "execution_count": 144,
   "id": "marked-campus",
   "metadata": {},
   "outputs": [],
   "source": [
    "df_hour_agg=df_hour_agg.merge(df_daypart, left_on='Hour', right_on='Hour', how='inner')"
   ]
  },
  {
   "cell_type": "code",
   "execution_count": 145,
   "id": "mediterranean-andrew",
   "metadata": {},
   "outputs": [],
   "source": [
    "cats = [ 'Late Night', 'Early Morning', 'Morning', 'Afternoon', 'Late Afternoon', 'Evening', 'Night']\n",
    "\n",
    "cat_type = CategoricalDtype(categories=cats, ordered=False)\n",
    "df_hour_agg['Day Part'] = df_hour_agg['Day Part'].astype(cat_type)"
   ]
  },
  {
   "cell_type": "code",
   "execution_count": 146,
   "id": "vital-burns",
   "metadata": {},
   "outputs": [
    {
     "data": {
      "text/html": [
       "<div>\n",
       "<style scoped>\n",
       "    .dataframe tbody tr th:only-of-type {\n",
       "        vertical-align: middle;\n",
       "    }\n",
       "\n",
       "    .dataframe tbody tr th {\n",
       "        vertical-align: top;\n",
       "    }\n",
       "\n",
       "    .dataframe thead th {\n",
       "        text-align: right;\n",
       "    }\n",
       "</style>\n",
       "<table border=\"1\" class=\"dataframe\">\n",
       "  <thead>\n",
       "    <tr style=\"text-align: right;\">\n",
       "      <th></th>\n",
       "      <th>Month</th>\n",
       "      <th>Day Part</th>\n",
       "      <th>Page Views</th>\n",
       "      <th>NetA_imp</th>\n",
       "      <th>NetA_spd</th>\n",
       "      <th>NetB_imp</th>\n",
       "      <th>NetB_spd</th>\n",
       "    </tr>\n",
       "  </thead>\n",
       "  <tbody>\n",
       "    <tr>\n",
       "      <th>0</th>\n",
       "      <td>Aug</td>\n",
       "      <td>Late Night</td>\n",
       "      <td>0</td>\n",
       "      <td>0</td>\n",
       "      <td>0</td>\n",
       "      <td>0</td>\n",
       "      <td>0</td>\n",
       "    </tr>\n",
       "    <tr>\n",
       "      <th>1</th>\n",
       "      <td>Aug</td>\n",
       "      <td>Early Morning</td>\n",
       "      <td>1610</td>\n",
       "      <td>38</td>\n",
       "      <td>1068</td>\n",
       "      <td>0</td>\n",
       "      <td>0</td>\n",
       "    </tr>\n",
       "    <tr>\n",
       "      <th>2</th>\n",
       "      <td>Aug</td>\n",
       "      <td>Morning</td>\n",
       "      <td>0</td>\n",
       "      <td>0</td>\n",
       "      <td>0</td>\n",
       "      <td>0</td>\n",
       "      <td>0</td>\n",
       "    </tr>\n",
       "    <tr>\n",
       "      <th>3</th>\n",
       "      <td>Aug</td>\n",
       "      <td>Afternoon</td>\n",
       "      <td>15734</td>\n",
       "      <td>142</td>\n",
       "      <td>2986</td>\n",
       "      <td>260</td>\n",
       "      <td>6228</td>\n",
       "    </tr>\n",
       "    <tr>\n",
       "      <th>4</th>\n",
       "      <td>Aug</td>\n",
       "      <td>Late Afternoon</td>\n",
       "      <td>10291</td>\n",
       "      <td>305</td>\n",
       "      <td>4866</td>\n",
       "      <td>184</td>\n",
       "      <td>4798</td>\n",
       "    </tr>\n",
       "  </tbody>\n",
       "</table>\n",
       "</div>"
      ],
      "text/plain": [
       "  Month        Day Part  Page Views  NetA_imp  NetA_spd  NetB_imp  NetB_spd\n",
       "0   Aug      Late Night           0         0         0         0         0\n",
       "1   Aug   Early Morning        1610        38      1068         0         0\n",
       "2   Aug         Morning           0         0         0         0         0\n",
       "3   Aug       Afternoon       15734       142      2986       260      6228\n",
       "4   Aug  Late Afternoon       10291       305      4866       184      4798"
      ]
     },
     "execution_count": 146,
     "metadata": {},
     "output_type": "execute_result"
    }
   ],
   "source": [
    "df_dp_agg = df_hour_agg.groupby(['Month','Day Part'])[['Page Views', 'NetA_imp','NetA_spd'\\\n",
    "                                         , 'NetB_imp', 'NetB_spd']].sum().reset_index()\n",
    "df_dp_agg.head()"
   ]
  },
  {
   "cell_type": "code",
   "execution_count": 147,
   "id": "connected-lightweight",
   "metadata": {},
   "outputs": [
    {
     "data": {
      "application/vnd.plotly.v1+json": {
       "config": {
        "plotlyServerURL": "https://plot.ly"
       },
       "data": [
        {
         "hovertemplate": "<b>%{hovertext}</b><br><br>Month=Aug<br>Day Part=%{x}<br>Page Views=%{y}<extra></extra>",
         "hovertext": [
          "Late Night",
          "Early Morning",
          "Morning",
          "Afternoon",
          "Late Afternoon",
          "Evening",
          "Night"
         ],
         "legendgroup": "Aug",
         "line": {
          "color": "#636efa",
          "dash": "solid"
         },
         "mode": "lines",
         "name": "Aug",
         "orientation": "v",
         "showlegend": true,
         "type": "scatter",
         "x": [
          "Late Night",
          "Early Morning",
          "Morning",
          "Afternoon",
          "Late Afternoon",
          "Evening",
          "Night"
         ],
         "xaxis": "x",
         "y": [
          0,
          1610,
          0,
          15734,
          10291,
          15176,
          8318
         ],
         "yaxis": "y"
        },
        {
         "hovertemplate": "<b>%{hovertext}</b><br><br>Month=Jul<br>Day Part=%{x}<br>Page Views=%{y}<extra></extra>",
         "hovertext": [
          "Late Night",
          "Early Morning",
          "Morning",
          "Afternoon",
          "Late Afternoon",
          "Evening",
          "Night"
         ],
         "legendgroup": "Jul",
         "line": {
          "color": "#EF553B",
          "dash": "solid"
         },
         "mode": "lines",
         "name": "Jul",
         "orientation": "v",
         "showlegend": true,
         "type": "scatter",
         "x": [
          "Late Night",
          "Early Morning",
          "Morning",
          "Afternoon",
          "Late Afternoon",
          "Evening",
          "Night"
         ],
         "xaxis": "x",
         "y": [
          0,
          1678,
          0,
          19904,
          12730,
          18728,
          10449
         ],
         "yaxis": "y"
        },
        {
         "mode": "markers",
         "name": "Marker",
         "type": "scatter",
         "x": [
          "Late Night",
          "Early Morning",
          "Morning",
          "Afternoon",
          "Late Afternoon",
          "Evening",
          "Night",
          "Late Night",
          "Early Morning",
          "Morning",
          "Afternoon",
          "Late Afternoon",
          "Evening",
          "Night"
         ],
         "y": [
          0,
          1610,
          0,
          15734,
          10291,
          15176,
          8318,
          0,
          1678,
          0,
          19904,
          12730,
          18728,
          10449
         ]
        }
       ],
       "layout": {
        "legend": {
         "title": {
          "text": "Month"
         },
         "tracegroupgap": 0
        },
        "margin": {
         "t": 60
        },
        "template": {
         "data": {
          "bar": [
           {
            "error_x": {
             "color": "#2a3f5f"
            },
            "error_y": {
             "color": "#2a3f5f"
            },
            "marker": {
             "line": {
              "color": "#E5ECF6",
              "width": 0.5
             }
            },
            "type": "bar"
           }
          ],
          "barpolar": [
           {
            "marker": {
             "line": {
              "color": "#E5ECF6",
              "width": 0.5
             }
            },
            "type": "barpolar"
           }
          ],
          "carpet": [
           {
            "aaxis": {
             "endlinecolor": "#2a3f5f",
             "gridcolor": "white",
             "linecolor": "white",
             "minorgridcolor": "white",
             "startlinecolor": "#2a3f5f"
            },
            "baxis": {
             "endlinecolor": "#2a3f5f",
             "gridcolor": "white",
             "linecolor": "white",
             "minorgridcolor": "white",
             "startlinecolor": "#2a3f5f"
            },
            "type": "carpet"
           }
          ],
          "choropleth": [
           {
            "colorbar": {
             "outlinewidth": 0,
             "ticks": ""
            },
            "type": "choropleth"
           }
          ],
          "contour": [
           {
            "colorbar": {
             "outlinewidth": 0,
             "ticks": ""
            },
            "colorscale": [
             [
              0,
              "#0d0887"
             ],
             [
              0.1111111111111111,
              "#46039f"
             ],
             [
              0.2222222222222222,
              "#7201a8"
             ],
             [
              0.3333333333333333,
              "#9c179e"
             ],
             [
              0.4444444444444444,
              "#bd3786"
             ],
             [
              0.5555555555555556,
              "#d8576b"
             ],
             [
              0.6666666666666666,
              "#ed7953"
             ],
             [
              0.7777777777777778,
              "#fb9f3a"
             ],
             [
              0.8888888888888888,
              "#fdca26"
             ],
             [
              1,
              "#f0f921"
             ]
            ],
            "type": "contour"
           }
          ],
          "contourcarpet": [
           {
            "colorbar": {
             "outlinewidth": 0,
             "ticks": ""
            },
            "type": "contourcarpet"
           }
          ],
          "heatmap": [
           {
            "colorbar": {
             "outlinewidth": 0,
             "ticks": ""
            },
            "colorscale": [
             [
              0,
              "#0d0887"
             ],
             [
              0.1111111111111111,
              "#46039f"
             ],
             [
              0.2222222222222222,
              "#7201a8"
             ],
             [
              0.3333333333333333,
              "#9c179e"
             ],
             [
              0.4444444444444444,
              "#bd3786"
             ],
             [
              0.5555555555555556,
              "#d8576b"
             ],
             [
              0.6666666666666666,
              "#ed7953"
             ],
             [
              0.7777777777777778,
              "#fb9f3a"
             ],
             [
              0.8888888888888888,
              "#fdca26"
             ],
             [
              1,
              "#f0f921"
             ]
            ],
            "type": "heatmap"
           }
          ],
          "heatmapgl": [
           {
            "colorbar": {
             "outlinewidth": 0,
             "ticks": ""
            },
            "colorscale": [
             [
              0,
              "#0d0887"
             ],
             [
              0.1111111111111111,
              "#46039f"
             ],
             [
              0.2222222222222222,
              "#7201a8"
             ],
             [
              0.3333333333333333,
              "#9c179e"
             ],
             [
              0.4444444444444444,
              "#bd3786"
             ],
             [
              0.5555555555555556,
              "#d8576b"
             ],
             [
              0.6666666666666666,
              "#ed7953"
             ],
             [
              0.7777777777777778,
              "#fb9f3a"
             ],
             [
              0.8888888888888888,
              "#fdca26"
             ],
             [
              1,
              "#f0f921"
             ]
            ],
            "type": "heatmapgl"
           }
          ],
          "histogram": [
           {
            "marker": {
             "colorbar": {
              "outlinewidth": 0,
              "ticks": ""
             }
            },
            "type": "histogram"
           }
          ],
          "histogram2d": [
           {
            "colorbar": {
             "outlinewidth": 0,
             "ticks": ""
            },
            "colorscale": [
             [
              0,
              "#0d0887"
             ],
             [
              0.1111111111111111,
              "#46039f"
             ],
             [
              0.2222222222222222,
              "#7201a8"
             ],
             [
              0.3333333333333333,
              "#9c179e"
             ],
             [
              0.4444444444444444,
              "#bd3786"
             ],
             [
              0.5555555555555556,
              "#d8576b"
             ],
             [
              0.6666666666666666,
              "#ed7953"
             ],
             [
              0.7777777777777778,
              "#fb9f3a"
             ],
             [
              0.8888888888888888,
              "#fdca26"
             ],
             [
              1,
              "#f0f921"
             ]
            ],
            "type": "histogram2d"
           }
          ],
          "histogram2dcontour": [
           {
            "colorbar": {
             "outlinewidth": 0,
             "ticks": ""
            },
            "colorscale": [
             [
              0,
              "#0d0887"
             ],
             [
              0.1111111111111111,
              "#46039f"
             ],
             [
              0.2222222222222222,
              "#7201a8"
             ],
             [
              0.3333333333333333,
              "#9c179e"
             ],
             [
              0.4444444444444444,
              "#bd3786"
             ],
             [
              0.5555555555555556,
              "#d8576b"
             ],
             [
              0.6666666666666666,
              "#ed7953"
             ],
             [
              0.7777777777777778,
              "#fb9f3a"
             ],
             [
              0.8888888888888888,
              "#fdca26"
             ],
             [
              1,
              "#f0f921"
             ]
            ],
            "type": "histogram2dcontour"
           }
          ],
          "mesh3d": [
           {
            "colorbar": {
             "outlinewidth": 0,
             "ticks": ""
            },
            "type": "mesh3d"
           }
          ],
          "parcoords": [
           {
            "line": {
             "colorbar": {
              "outlinewidth": 0,
              "ticks": ""
             }
            },
            "type": "parcoords"
           }
          ],
          "pie": [
           {
            "automargin": true,
            "type": "pie"
           }
          ],
          "scatter": [
           {
            "marker": {
             "colorbar": {
              "outlinewidth": 0,
              "ticks": ""
             }
            },
            "type": "scatter"
           }
          ],
          "scatter3d": [
           {
            "line": {
             "colorbar": {
              "outlinewidth": 0,
              "ticks": ""
             }
            },
            "marker": {
             "colorbar": {
              "outlinewidth": 0,
              "ticks": ""
             }
            },
            "type": "scatter3d"
           }
          ],
          "scattercarpet": [
           {
            "marker": {
             "colorbar": {
              "outlinewidth": 0,
              "ticks": ""
             }
            },
            "type": "scattercarpet"
           }
          ],
          "scattergeo": [
           {
            "marker": {
             "colorbar": {
              "outlinewidth": 0,
              "ticks": ""
             }
            },
            "type": "scattergeo"
           }
          ],
          "scattergl": [
           {
            "marker": {
             "colorbar": {
              "outlinewidth": 0,
              "ticks": ""
             }
            },
            "type": "scattergl"
           }
          ],
          "scattermapbox": [
           {
            "marker": {
             "colorbar": {
              "outlinewidth": 0,
              "ticks": ""
             }
            },
            "type": "scattermapbox"
           }
          ],
          "scatterpolar": [
           {
            "marker": {
             "colorbar": {
              "outlinewidth": 0,
              "ticks": ""
             }
            },
            "type": "scatterpolar"
           }
          ],
          "scatterpolargl": [
           {
            "marker": {
             "colorbar": {
              "outlinewidth": 0,
              "ticks": ""
             }
            },
            "type": "scatterpolargl"
           }
          ],
          "scatterternary": [
           {
            "marker": {
             "colorbar": {
              "outlinewidth": 0,
              "ticks": ""
             }
            },
            "type": "scatterternary"
           }
          ],
          "surface": [
           {
            "colorbar": {
             "outlinewidth": 0,
             "ticks": ""
            },
            "colorscale": [
             [
              0,
              "#0d0887"
             ],
             [
              0.1111111111111111,
              "#46039f"
             ],
             [
              0.2222222222222222,
              "#7201a8"
             ],
             [
              0.3333333333333333,
              "#9c179e"
             ],
             [
              0.4444444444444444,
              "#bd3786"
             ],
             [
              0.5555555555555556,
              "#d8576b"
             ],
             [
              0.6666666666666666,
              "#ed7953"
             ],
             [
              0.7777777777777778,
              "#fb9f3a"
             ],
             [
              0.8888888888888888,
              "#fdca26"
             ],
             [
              1,
              "#f0f921"
             ]
            ],
            "type": "surface"
           }
          ],
          "table": [
           {
            "cells": {
             "fill": {
              "color": "#EBF0F8"
             },
             "line": {
              "color": "white"
             }
            },
            "header": {
             "fill": {
              "color": "#C8D4E3"
             },
             "line": {
              "color": "white"
             }
            },
            "type": "table"
           }
          ]
         },
         "layout": {
          "annotationdefaults": {
           "arrowcolor": "#2a3f5f",
           "arrowhead": 0,
           "arrowwidth": 1
          },
          "autotypenumbers": "strict",
          "coloraxis": {
           "colorbar": {
            "outlinewidth": 0,
            "ticks": ""
           }
          },
          "colorscale": {
           "diverging": [
            [
             0,
             "#8e0152"
            ],
            [
             0.1,
             "#c51b7d"
            ],
            [
             0.2,
             "#de77ae"
            ],
            [
             0.3,
             "#f1b6da"
            ],
            [
             0.4,
             "#fde0ef"
            ],
            [
             0.5,
             "#f7f7f7"
            ],
            [
             0.6,
             "#e6f5d0"
            ],
            [
             0.7,
             "#b8e186"
            ],
            [
             0.8,
             "#7fbc41"
            ],
            [
             0.9,
             "#4d9221"
            ],
            [
             1,
             "#276419"
            ]
           ],
           "sequential": [
            [
             0,
             "#0d0887"
            ],
            [
             0.1111111111111111,
             "#46039f"
            ],
            [
             0.2222222222222222,
             "#7201a8"
            ],
            [
             0.3333333333333333,
             "#9c179e"
            ],
            [
             0.4444444444444444,
             "#bd3786"
            ],
            [
             0.5555555555555556,
             "#d8576b"
            ],
            [
             0.6666666666666666,
             "#ed7953"
            ],
            [
             0.7777777777777778,
             "#fb9f3a"
            ],
            [
             0.8888888888888888,
             "#fdca26"
            ],
            [
             1,
             "#f0f921"
            ]
           ],
           "sequentialminus": [
            [
             0,
             "#0d0887"
            ],
            [
             0.1111111111111111,
             "#46039f"
            ],
            [
             0.2222222222222222,
             "#7201a8"
            ],
            [
             0.3333333333333333,
             "#9c179e"
            ],
            [
             0.4444444444444444,
             "#bd3786"
            ],
            [
             0.5555555555555556,
             "#d8576b"
            ],
            [
             0.6666666666666666,
             "#ed7953"
            ],
            [
             0.7777777777777778,
             "#fb9f3a"
            ],
            [
             0.8888888888888888,
             "#fdca26"
            ],
            [
             1,
             "#f0f921"
            ]
           ]
          },
          "colorway": [
           "#636efa",
           "#EF553B",
           "#00cc96",
           "#ab63fa",
           "#FFA15A",
           "#19d3f3",
           "#FF6692",
           "#B6E880",
           "#FF97FF",
           "#FECB52"
          ],
          "font": {
           "color": "#2a3f5f"
          },
          "geo": {
           "bgcolor": "white",
           "lakecolor": "white",
           "landcolor": "#E5ECF6",
           "showlakes": true,
           "showland": true,
           "subunitcolor": "white"
          },
          "hoverlabel": {
           "align": "left"
          },
          "hovermode": "closest",
          "mapbox": {
           "style": "light"
          },
          "paper_bgcolor": "white",
          "plot_bgcolor": "#E5ECF6",
          "polar": {
           "angularaxis": {
            "gridcolor": "white",
            "linecolor": "white",
            "ticks": ""
           },
           "bgcolor": "#E5ECF6",
           "radialaxis": {
            "gridcolor": "white",
            "linecolor": "white",
            "ticks": ""
           }
          },
          "scene": {
           "xaxis": {
            "backgroundcolor": "#E5ECF6",
            "gridcolor": "white",
            "gridwidth": 2,
            "linecolor": "white",
            "showbackground": true,
            "ticks": "",
            "zerolinecolor": "white"
           },
           "yaxis": {
            "backgroundcolor": "#E5ECF6",
            "gridcolor": "white",
            "gridwidth": 2,
            "linecolor": "white",
            "showbackground": true,
            "ticks": "",
            "zerolinecolor": "white"
           },
           "zaxis": {
            "backgroundcolor": "#E5ECF6",
            "gridcolor": "white",
            "gridwidth": 2,
            "linecolor": "white",
            "showbackground": true,
            "ticks": "",
            "zerolinecolor": "white"
           }
          },
          "shapedefaults": {
           "line": {
            "color": "#2a3f5f"
           }
          },
          "ternary": {
           "aaxis": {
            "gridcolor": "white",
            "linecolor": "white",
            "ticks": ""
           },
           "baxis": {
            "gridcolor": "white",
            "linecolor": "white",
            "ticks": ""
           },
           "bgcolor": "#E5ECF6",
           "caxis": {
            "gridcolor": "white",
            "linecolor": "white",
            "ticks": ""
           }
          },
          "title": {
           "x": 0.05
          },
          "xaxis": {
           "automargin": true,
           "gridcolor": "white",
           "linecolor": "white",
           "ticks": "",
           "title": {
            "standoff": 15
           },
           "zerolinecolor": "white",
           "zerolinewidth": 2
          },
          "yaxis": {
           "automargin": true,
           "gridcolor": "white",
           "linecolor": "white",
           "ticks": "",
           "title": {
            "standoff": 15
           },
           "zerolinecolor": "white",
           "zerolinewidth": 2
          }
         }
        },
        "title": {
         "text": "Page views during the day for July and August 2019"
        },
        "xaxis": {
         "anchor": "y",
         "domain": [
          0,
          1
         ],
         "title": {
          "text": ""
         }
        },
        "yaxis": {
         "anchor": "x",
         "domain": [
          0,
          1
         ],
         "title": {
          "text": "Page Views(Total)"
         }
        }
       }
      },
      "text/html": [
       "<div>                            <div id=\"723d8ac3-824f-4fc9-bb2a-c34ec5e546cf\" class=\"plotly-graph-div\" style=\"height:525px; width:100%;\"></div>            <script type=\"text/javascript\">                require([\"plotly\"], function(Plotly) {                    window.PLOTLYENV=window.PLOTLYENV || {};                                    if (document.getElementById(\"723d8ac3-824f-4fc9-bb2a-c34ec5e546cf\")) {                    Plotly.newPlot(                        \"723d8ac3-824f-4fc9-bb2a-c34ec5e546cf\",                        [{\"hovertemplate\": \"<b>%{hovertext}</b><br><br>Month=Aug<br>Day Part=%{x}<br>Page Views=%{y}<extra></extra>\", \"hovertext\": [\"Late Night\", \"Early Morning\", \"Morning\", \"Afternoon\", \"Late Afternoon\", \"Evening\", \"Night\"], \"legendgroup\": \"Aug\", \"line\": {\"color\": \"#636efa\", \"dash\": \"solid\"}, \"mode\": \"lines\", \"name\": \"Aug\", \"orientation\": \"v\", \"showlegend\": true, \"type\": \"scatter\", \"x\": [\"Late Night\", \"Early Morning\", \"Morning\", \"Afternoon\", \"Late Afternoon\", \"Evening\", \"Night\"], \"xaxis\": \"x\", \"y\": [0, 1610, 0, 15734, 10291, 15176, 8318], \"yaxis\": \"y\"}, {\"hovertemplate\": \"<b>%{hovertext}</b><br><br>Month=Jul<br>Day Part=%{x}<br>Page Views=%{y}<extra></extra>\", \"hovertext\": [\"Late Night\", \"Early Morning\", \"Morning\", \"Afternoon\", \"Late Afternoon\", \"Evening\", \"Night\"], \"legendgroup\": \"Jul\", \"line\": {\"color\": \"#EF553B\", \"dash\": \"solid\"}, \"mode\": \"lines\", \"name\": \"Jul\", \"orientation\": \"v\", \"showlegend\": true, \"type\": \"scatter\", \"x\": [\"Late Night\", \"Early Morning\", \"Morning\", \"Afternoon\", \"Late Afternoon\", \"Evening\", \"Night\"], \"xaxis\": \"x\", \"y\": [0, 1678, 0, 19904, 12730, 18728, 10449], \"yaxis\": \"y\"}, {\"mode\": \"markers\", \"name\": \"Marker\", \"type\": \"scatter\", \"x\": [\"Late Night\", \"Early Morning\", \"Morning\", \"Afternoon\", \"Late Afternoon\", \"Evening\", \"Night\", \"Late Night\", \"Early Morning\", \"Morning\", \"Afternoon\", \"Late Afternoon\", \"Evening\", \"Night\"], \"y\": [0, 1610, 0, 15734, 10291, 15176, 8318, 0, 1678, 0, 19904, 12730, 18728, 10449]}],                        {\"legend\": {\"title\": {\"text\": \"Month\"}, \"tracegroupgap\": 0}, \"margin\": {\"t\": 60}, \"template\": {\"data\": {\"bar\": [{\"error_x\": {\"color\": \"#2a3f5f\"}, \"error_y\": {\"color\": \"#2a3f5f\"}, \"marker\": {\"line\": {\"color\": \"#E5ECF6\", \"width\": 0.5}}, \"type\": \"bar\"}], \"barpolar\": [{\"marker\": {\"line\": {\"color\": \"#E5ECF6\", \"width\": 0.5}}, \"type\": \"barpolar\"}], \"carpet\": [{\"aaxis\": {\"endlinecolor\": \"#2a3f5f\", \"gridcolor\": \"white\", \"linecolor\": \"white\", \"minorgridcolor\": \"white\", \"startlinecolor\": \"#2a3f5f\"}, \"baxis\": {\"endlinecolor\": \"#2a3f5f\", \"gridcolor\": \"white\", \"linecolor\": \"white\", \"minorgridcolor\": \"white\", \"startlinecolor\": \"#2a3f5f\"}, \"type\": \"carpet\"}], \"choropleth\": [{\"colorbar\": {\"outlinewidth\": 0, \"ticks\": \"\"}, \"type\": \"choropleth\"}], \"contour\": [{\"colorbar\": {\"outlinewidth\": 0, \"ticks\": \"\"}, \"colorscale\": [[0.0, \"#0d0887\"], [0.1111111111111111, \"#46039f\"], [0.2222222222222222, \"#7201a8\"], [0.3333333333333333, \"#9c179e\"], [0.4444444444444444, \"#bd3786\"], [0.5555555555555556, \"#d8576b\"], [0.6666666666666666, \"#ed7953\"], [0.7777777777777778, \"#fb9f3a\"], [0.8888888888888888, \"#fdca26\"], [1.0, \"#f0f921\"]], \"type\": \"contour\"}], \"contourcarpet\": [{\"colorbar\": {\"outlinewidth\": 0, \"ticks\": \"\"}, \"type\": \"contourcarpet\"}], \"heatmap\": [{\"colorbar\": {\"outlinewidth\": 0, \"ticks\": \"\"}, \"colorscale\": [[0.0, \"#0d0887\"], [0.1111111111111111, \"#46039f\"], [0.2222222222222222, \"#7201a8\"], [0.3333333333333333, \"#9c179e\"], [0.4444444444444444, \"#bd3786\"], [0.5555555555555556, \"#d8576b\"], [0.6666666666666666, \"#ed7953\"], [0.7777777777777778, \"#fb9f3a\"], [0.8888888888888888, \"#fdca26\"], [1.0, \"#f0f921\"]], \"type\": \"heatmap\"}], \"heatmapgl\": [{\"colorbar\": {\"outlinewidth\": 0, \"ticks\": \"\"}, \"colorscale\": [[0.0, \"#0d0887\"], [0.1111111111111111, \"#46039f\"], [0.2222222222222222, \"#7201a8\"], [0.3333333333333333, \"#9c179e\"], [0.4444444444444444, \"#bd3786\"], [0.5555555555555556, \"#d8576b\"], [0.6666666666666666, \"#ed7953\"], [0.7777777777777778, \"#fb9f3a\"], [0.8888888888888888, \"#fdca26\"], [1.0, \"#f0f921\"]], \"type\": \"heatmapgl\"}], \"histogram\": [{\"marker\": {\"colorbar\": {\"outlinewidth\": 0, \"ticks\": \"\"}}, \"type\": \"histogram\"}], \"histogram2d\": [{\"colorbar\": {\"outlinewidth\": 0, \"ticks\": \"\"}, \"colorscale\": [[0.0, \"#0d0887\"], [0.1111111111111111, \"#46039f\"], [0.2222222222222222, \"#7201a8\"], [0.3333333333333333, \"#9c179e\"], [0.4444444444444444, \"#bd3786\"], [0.5555555555555556, \"#d8576b\"], [0.6666666666666666, \"#ed7953\"], [0.7777777777777778, \"#fb9f3a\"], [0.8888888888888888, \"#fdca26\"], [1.0, \"#f0f921\"]], \"type\": \"histogram2d\"}], \"histogram2dcontour\": [{\"colorbar\": {\"outlinewidth\": 0, \"ticks\": \"\"}, \"colorscale\": [[0.0, \"#0d0887\"], [0.1111111111111111, \"#46039f\"], [0.2222222222222222, \"#7201a8\"], [0.3333333333333333, \"#9c179e\"], [0.4444444444444444, \"#bd3786\"], [0.5555555555555556, \"#d8576b\"], [0.6666666666666666, \"#ed7953\"], [0.7777777777777778, \"#fb9f3a\"], [0.8888888888888888, \"#fdca26\"], [1.0, \"#f0f921\"]], \"type\": \"histogram2dcontour\"}], \"mesh3d\": [{\"colorbar\": {\"outlinewidth\": 0, \"ticks\": \"\"}, \"type\": \"mesh3d\"}], \"parcoords\": [{\"line\": {\"colorbar\": {\"outlinewidth\": 0, \"ticks\": \"\"}}, \"type\": \"parcoords\"}], \"pie\": [{\"automargin\": true, \"type\": \"pie\"}], \"scatter\": [{\"marker\": {\"colorbar\": {\"outlinewidth\": 0, \"ticks\": \"\"}}, \"type\": \"scatter\"}], \"scatter3d\": [{\"line\": {\"colorbar\": {\"outlinewidth\": 0, \"ticks\": \"\"}}, \"marker\": {\"colorbar\": {\"outlinewidth\": 0, \"ticks\": \"\"}}, \"type\": \"scatter3d\"}], \"scattercarpet\": [{\"marker\": {\"colorbar\": {\"outlinewidth\": 0, \"ticks\": \"\"}}, \"type\": \"scattercarpet\"}], \"scattergeo\": [{\"marker\": {\"colorbar\": {\"outlinewidth\": 0, \"ticks\": \"\"}}, \"type\": \"scattergeo\"}], \"scattergl\": [{\"marker\": {\"colorbar\": {\"outlinewidth\": 0, \"ticks\": \"\"}}, \"type\": \"scattergl\"}], \"scattermapbox\": [{\"marker\": {\"colorbar\": {\"outlinewidth\": 0, \"ticks\": \"\"}}, \"type\": \"scattermapbox\"}], \"scatterpolar\": [{\"marker\": {\"colorbar\": {\"outlinewidth\": 0, \"ticks\": \"\"}}, \"type\": \"scatterpolar\"}], \"scatterpolargl\": [{\"marker\": {\"colorbar\": {\"outlinewidth\": 0, \"ticks\": \"\"}}, \"type\": \"scatterpolargl\"}], \"scatterternary\": [{\"marker\": {\"colorbar\": {\"outlinewidth\": 0, \"ticks\": \"\"}}, \"type\": \"scatterternary\"}], \"surface\": [{\"colorbar\": {\"outlinewidth\": 0, \"ticks\": \"\"}, \"colorscale\": [[0.0, \"#0d0887\"], [0.1111111111111111, \"#46039f\"], [0.2222222222222222, \"#7201a8\"], [0.3333333333333333, \"#9c179e\"], [0.4444444444444444, \"#bd3786\"], [0.5555555555555556, \"#d8576b\"], [0.6666666666666666, \"#ed7953\"], [0.7777777777777778, \"#fb9f3a\"], [0.8888888888888888, \"#fdca26\"], [1.0, \"#f0f921\"]], \"type\": \"surface\"}], \"table\": [{\"cells\": {\"fill\": {\"color\": \"#EBF0F8\"}, \"line\": {\"color\": \"white\"}}, \"header\": {\"fill\": {\"color\": \"#C8D4E3\"}, \"line\": {\"color\": \"white\"}}, \"type\": \"table\"}]}, \"layout\": {\"annotationdefaults\": {\"arrowcolor\": \"#2a3f5f\", \"arrowhead\": 0, \"arrowwidth\": 1}, \"autotypenumbers\": \"strict\", \"coloraxis\": {\"colorbar\": {\"outlinewidth\": 0, \"ticks\": \"\"}}, \"colorscale\": {\"diverging\": [[0, \"#8e0152\"], [0.1, \"#c51b7d\"], [0.2, \"#de77ae\"], [0.3, \"#f1b6da\"], [0.4, \"#fde0ef\"], [0.5, \"#f7f7f7\"], [0.6, \"#e6f5d0\"], [0.7, \"#b8e186\"], [0.8, \"#7fbc41\"], [0.9, \"#4d9221\"], [1, \"#276419\"]], \"sequential\": [[0.0, \"#0d0887\"], [0.1111111111111111, \"#46039f\"], [0.2222222222222222, \"#7201a8\"], [0.3333333333333333, \"#9c179e\"], [0.4444444444444444, \"#bd3786\"], [0.5555555555555556, \"#d8576b\"], [0.6666666666666666, \"#ed7953\"], [0.7777777777777778, \"#fb9f3a\"], [0.8888888888888888, \"#fdca26\"], [1.0, \"#f0f921\"]], \"sequentialminus\": [[0.0, \"#0d0887\"], [0.1111111111111111, \"#46039f\"], [0.2222222222222222, \"#7201a8\"], [0.3333333333333333, \"#9c179e\"], [0.4444444444444444, \"#bd3786\"], [0.5555555555555556, \"#d8576b\"], [0.6666666666666666, \"#ed7953\"], [0.7777777777777778, \"#fb9f3a\"], [0.8888888888888888, \"#fdca26\"], [1.0, \"#f0f921\"]]}, \"colorway\": [\"#636efa\", \"#EF553B\", \"#00cc96\", \"#ab63fa\", \"#FFA15A\", \"#19d3f3\", \"#FF6692\", \"#B6E880\", \"#FF97FF\", \"#FECB52\"], \"font\": {\"color\": \"#2a3f5f\"}, \"geo\": {\"bgcolor\": \"white\", \"lakecolor\": \"white\", \"landcolor\": \"#E5ECF6\", \"showlakes\": true, \"showland\": true, \"subunitcolor\": \"white\"}, \"hoverlabel\": {\"align\": \"left\"}, \"hovermode\": \"closest\", \"mapbox\": {\"style\": \"light\"}, \"paper_bgcolor\": \"white\", \"plot_bgcolor\": \"#E5ECF6\", \"polar\": {\"angularaxis\": {\"gridcolor\": \"white\", \"linecolor\": \"white\", \"ticks\": \"\"}, \"bgcolor\": \"#E5ECF6\", \"radialaxis\": {\"gridcolor\": \"white\", \"linecolor\": \"white\", \"ticks\": \"\"}}, \"scene\": {\"xaxis\": {\"backgroundcolor\": \"#E5ECF6\", \"gridcolor\": \"white\", \"gridwidth\": 2, \"linecolor\": \"white\", \"showbackground\": true, \"ticks\": \"\", \"zerolinecolor\": \"white\"}, \"yaxis\": {\"backgroundcolor\": \"#E5ECF6\", \"gridcolor\": \"white\", \"gridwidth\": 2, \"linecolor\": \"white\", \"showbackground\": true, \"ticks\": \"\", \"zerolinecolor\": \"white\"}, \"zaxis\": {\"backgroundcolor\": \"#E5ECF6\", \"gridcolor\": \"white\", \"gridwidth\": 2, \"linecolor\": \"white\", \"showbackground\": true, \"ticks\": \"\", \"zerolinecolor\": \"white\"}}, \"shapedefaults\": {\"line\": {\"color\": \"#2a3f5f\"}}, \"ternary\": {\"aaxis\": {\"gridcolor\": \"white\", \"linecolor\": \"white\", \"ticks\": \"\"}, \"baxis\": {\"gridcolor\": \"white\", \"linecolor\": \"white\", \"ticks\": \"\"}, \"bgcolor\": \"#E5ECF6\", \"caxis\": {\"gridcolor\": \"white\", \"linecolor\": \"white\", \"ticks\": \"\"}}, \"title\": {\"x\": 0.05}, \"xaxis\": {\"automargin\": true, \"gridcolor\": \"white\", \"linecolor\": \"white\", \"ticks\": \"\", \"title\": {\"standoff\": 15}, \"zerolinecolor\": \"white\", \"zerolinewidth\": 2}, \"yaxis\": {\"automargin\": true, \"gridcolor\": \"white\", \"linecolor\": \"white\", \"ticks\": \"\", \"title\": {\"standoff\": 15}, \"zerolinecolor\": \"white\", \"zerolinewidth\": 2}}}, \"title\": {\"text\": \"Page views during the day for July and August 2019\"}, \"xaxis\": {\"anchor\": \"y\", \"domain\": [0.0, 1.0], \"title\": {\"text\": \"\"}}, \"yaxis\": {\"anchor\": \"x\", \"domain\": [0.0, 1.0], \"title\": {\"text\": \"Page Views(Total)\"}}},                        {\"responsive\": true}                    ).then(function(){\n",
       "                            \n",
       "var gd = document.getElementById('723d8ac3-824f-4fc9-bb2a-c34ec5e546cf');\n",
       "var x = new MutationObserver(function (mutations, observer) {{\n",
       "        var display = window.getComputedStyle(gd).display;\n",
       "        if (!display || display === 'none') {{\n",
       "            console.log([gd, 'removed!']);\n",
       "            Plotly.purge(gd);\n",
       "            observer.disconnect();\n",
       "        }}\n",
       "}});\n",
       "\n",
       "// Listen for the removal of the full notebook cells\n",
       "var notebookContainer = gd.closest('#notebook-container');\n",
       "if (notebookContainer) {{\n",
       "    x.observe(notebookContainer, {childList: true});\n",
       "}}\n",
       "\n",
       "// Listen for the clearing of the current output cell\n",
       "var outputEl = gd.closest('.output');\n",
       "if (outputEl) {{\n",
       "    x.observe(outputEl, {childList: true});\n",
       "}}\n",
       "\n",
       "                        })                };                });            </script>        </div>"
      ]
     },
     "metadata": {},
     "output_type": "display_data"
    }
   ],
   "source": [
    "fig = px.line(df_dp_agg, x='Day Part', y='Page Views', color = \"Month\", hover_name=\"Day Part\")\n",
    "fig.update_layout(title='Page views during the day for July and August 2019', xaxis_title='',yaxis_title=\"Page Views(Total)\")\n",
    "fig.add_trace(go.Scatter(x=df_dp_agg['Day Part'], y=df_dp_agg['Page Views'],\n",
    "                    mode='markers',name='Marker'))\n",
    "fig.show()"
   ]
  },
  {
   "cell_type": "markdown",
   "id": "tender-headquarters",
   "metadata": {},
   "source": [
    "### Read data files - data Jul 07 - Jul 20 - Part1.xlsx"
   ]
  },
  {
   "cell_type": "code",
   "execution_count": 148,
   "id": "guilty-entrepreneur",
   "metadata": {},
   "outputs": [],
   "source": [
    "df_july_p1 = pd.read_excel('/home/shiva/Documents/UTS/02_Courses/DVN/DVN/AT2 Part1/Data/data Jul 07 - Jul 20 - Part1.xlsx')\n",
    "\n",
    "\n",
    "del df_july_p1['Unnamed: 7']"
   ]
  },
  {
   "cell_type": "code",
   "execution_count": 149,
   "id": "moral-receiver",
   "metadata": {},
   "outputs": [
    {
     "data": {
      "text/html": [
       "<div>\n",
       "<style scoped>\n",
       "    .dataframe tbody tr th:only-of-type {\n",
       "        vertical-align: middle;\n",
       "    }\n",
       "\n",
       "    .dataframe tbody tr th {\n",
       "        vertical-align: top;\n",
       "    }\n",
       "\n",
       "    .dataframe thead th {\n",
       "        text-align: right;\n",
       "    }\n",
       "</style>\n",
       "<table border=\"1\" class=\"dataframe\">\n",
       "  <thead>\n",
       "    <tr style=\"text-align: right;\">\n",
       "      <th></th>\n",
       "      <th>Date</th>\n",
       "      <th>Network</th>\n",
       "      <th>Channel</th>\n",
       "      <th>Contribution</th>\n",
       "      <th>Impression</th>\n",
       "      <th>Site Visits</th>\n",
       "      <th>Spend</th>\n",
       "    </tr>\n",
       "  </thead>\n",
       "  <tbody>\n",
       "    <tr>\n",
       "      <th>0</th>\n",
       "      <td>2019-07-07</td>\n",
       "      <td>NetA</td>\n",
       "      <td>ChannelA1</td>\n",
       "      <td>0.0</td>\n",
       "      <td>0</td>\n",
       "      <td>0.246914</td>\n",
       "      <td>0</td>\n",
       "    </tr>\n",
       "    <tr>\n",
       "      <th>1</th>\n",
       "      <td>2019-07-07</td>\n",
       "      <td>NetA</td>\n",
       "      <td>ChannelA1</td>\n",
       "      <td>0.0</td>\n",
       "      <td>0</td>\n",
       "      <td>0.259259</td>\n",
       "      <td>0</td>\n",
       "    </tr>\n",
       "    <tr>\n",
       "      <th>2</th>\n",
       "      <td>2019-07-07</td>\n",
       "      <td>NetA</td>\n",
       "      <td>ChannelA1</td>\n",
       "      <td>0.0</td>\n",
       "      <td>0</td>\n",
       "      <td>0.111111</td>\n",
       "      <td>0</td>\n",
       "    </tr>\n",
       "    <tr>\n",
       "      <th>3</th>\n",
       "      <td>2019-07-07</td>\n",
       "      <td>NetA</td>\n",
       "      <td>ChannelA1</td>\n",
       "      <td>0.0</td>\n",
       "      <td>0</td>\n",
       "      <td>0.074074</td>\n",
       "      <td>0</td>\n",
       "    </tr>\n",
       "    <tr>\n",
       "      <th>4</th>\n",
       "      <td>2019-07-07</td>\n",
       "      <td>NetA</td>\n",
       "      <td>ChannelA1</td>\n",
       "      <td>0.0</td>\n",
       "      <td>0</td>\n",
       "      <td>0.098765</td>\n",
       "      <td>0</td>\n",
       "    </tr>\n",
       "  </tbody>\n",
       "</table>\n",
       "</div>"
      ],
      "text/plain": [
       "        Date Network    Channel  Contribution  Impression  Site Visits  Spend\n",
       "0 2019-07-07    NetA  ChannelA1           0.0           0     0.246914      0\n",
       "1 2019-07-07    NetA  ChannelA1           0.0           0     0.259259      0\n",
       "2 2019-07-07    NetA  ChannelA1           0.0           0     0.111111      0\n",
       "3 2019-07-07    NetA  ChannelA1           0.0           0     0.074074      0\n",
       "4 2019-07-07    NetA  ChannelA1           0.0           0     0.098765      0"
      ]
     },
     "execution_count": 149,
     "metadata": {},
     "output_type": "execute_result"
    }
   ],
   "source": [
    "df_july_p1.head()"
   ]
  },
  {
   "cell_type": "code",
   "execution_count": 150,
   "id": "guilty-dressing",
   "metadata": {},
   "outputs": [],
   "source": [
    "### Read data files - data Jul 07 - Jul 20 - Part2.xlsx"
   ]
  },
  {
   "cell_type": "code",
   "execution_count": 151,
   "id": "worth-greece",
   "metadata": {},
   "outputs": [
    {
     "data": {
      "text/html": [
       "<div>\n",
       "<style scoped>\n",
       "    .dataframe tbody tr th:only-of-type {\n",
       "        vertical-align: middle;\n",
       "    }\n",
       "\n",
       "    .dataframe tbody tr th {\n",
       "        vertical-align: top;\n",
       "    }\n",
       "\n",
       "    .dataframe thead th {\n",
       "        text-align: right;\n",
       "    }\n",
       "</style>\n",
       "<table border=\"1\" class=\"dataframe\">\n",
       "  <thead>\n",
       "    <tr style=\"text-align: right;\">\n",
       "      <th></th>\n",
       "      <th>Hour</th>\n",
       "      <th>Weekday</th>\n",
       "      <th>Month</th>\n",
       "      <th>Market</th>\n",
       "      <th>Creative</th>\n",
       "      <th>Country</th>\n",
       "      <th>Product</th>\n",
       "    </tr>\n",
       "  </thead>\n",
       "  <tbody>\n",
       "    <tr>\n",
       "      <th>0</th>\n",
       "      <td>0</td>\n",
       "      <td>Sun</td>\n",
       "      <td>Jul</td>\n",
       "      <td>ADE</td>\n",
       "      <td>Creative1</td>\n",
       "      <td>AU</td>\n",
       "      <td>Product1</td>\n",
       "    </tr>\n",
       "    <tr>\n",
       "      <th>1</th>\n",
       "      <td>1</td>\n",
       "      <td>Sun</td>\n",
       "      <td>Jul</td>\n",
       "      <td>ADE</td>\n",
       "      <td>Creative1</td>\n",
       "      <td>AU</td>\n",
       "      <td>Product1</td>\n",
       "    </tr>\n",
       "    <tr>\n",
       "      <th>2</th>\n",
       "      <td>2</td>\n",
       "      <td>Sun</td>\n",
       "      <td>Jul</td>\n",
       "      <td>ADE</td>\n",
       "      <td>Creative1</td>\n",
       "      <td>AU</td>\n",
       "      <td>Product1</td>\n",
       "    </tr>\n",
       "    <tr>\n",
       "      <th>3</th>\n",
       "      <td>3</td>\n",
       "      <td>Sun</td>\n",
       "      <td>Jul</td>\n",
       "      <td>ADE</td>\n",
       "      <td>Creative1</td>\n",
       "      <td>AU</td>\n",
       "      <td>Product1</td>\n",
       "    </tr>\n",
       "    <tr>\n",
       "      <th>4</th>\n",
       "      <td>4</td>\n",
       "      <td>Sun</td>\n",
       "      <td>Jul</td>\n",
       "      <td>ADE</td>\n",
       "      <td>Creative1</td>\n",
       "      <td>AU</td>\n",
       "      <td>Product1</td>\n",
       "    </tr>\n",
       "    <tr>\n",
       "      <th>...</th>\n",
       "      <td>...</td>\n",
       "      <td>...</td>\n",
       "      <td>...</td>\n",
       "      <td>...</td>\n",
       "      <td>...</td>\n",
       "      <td>...</td>\n",
       "      <td>...</td>\n",
       "    </tr>\n",
       "    <tr>\n",
       "      <th>136075</th>\n",
       "      <td>19</td>\n",
       "      <td>Sat</td>\n",
       "      <td>Jul</td>\n",
       "      <td>SYD</td>\n",
       "      <td>Creative3</td>\n",
       "      <td>AU</td>\n",
       "      <td>Product5</td>\n",
       "    </tr>\n",
       "    <tr>\n",
       "      <th>136076</th>\n",
       "      <td>20</td>\n",
       "      <td>Sat</td>\n",
       "      <td>Jul</td>\n",
       "      <td>SYD</td>\n",
       "      <td>Creative3</td>\n",
       "      <td>AU</td>\n",
       "      <td>Product5</td>\n",
       "    </tr>\n",
       "    <tr>\n",
       "      <th>136077</th>\n",
       "      <td>21</td>\n",
       "      <td>Sat</td>\n",
       "      <td>Jul</td>\n",
       "      <td>SYD</td>\n",
       "      <td>Creative3</td>\n",
       "      <td>AU</td>\n",
       "      <td>Product5</td>\n",
       "    </tr>\n",
       "    <tr>\n",
       "      <th>136078</th>\n",
       "      <td>22</td>\n",
       "      <td>Sat</td>\n",
       "      <td>Jul</td>\n",
       "      <td>SYD</td>\n",
       "      <td>Creative3</td>\n",
       "      <td>AU</td>\n",
       "      <td>Product5</td>\n",
       "    </tr>\n",
       "    <tr>\n",
       "      <th>136079</th>\n",
       "      <td>23</td>\n",
       "      <td>Sat</td>\n",
       "      <td>Jul</td>\n",
       "      <td>SYD</td>\n",
       "      <td>Creative3</td>\n",
       "      <td>AU</td>\n",
       "      <td>Product5</td>\n",
       "    </tr>\n",
       "  </tbody>\n",
       "</table>\n",
       "<p>136080 rows × 7 columns</p>\n",
       "</div>"
      ],
      "text/plain": [
       "        Hour Weekday Month Market   Creative Country   Product\n",
       "0          0     Sun   Jul    ADE  Creative1      AU  Product1\n",
       "1          1     Sun   Jul    ADE  Creative1      AU  Product1\n",
       "2          2     Sun   Jul    ADE  Creative1      AU  Product1\n",
       "3          3     Sun   Jul    ADE  Creative1      AU  Product1\n",
       "4          4     Sun   Jul    ADE  Creative1      AU  Product1\n",
       "...      ...     ...   ...    ...        ...     ...       ...\n",
       "136075    19     Sat   Jul    SYD  Creative3      AU  Product5\n",
       "136076    20     Sat   Jul    SYD  Creative3      AU  Product5\n",
       "136077    21     Sat   Jul    SYD  Creative3      AU  Product5\n",
       "136078    22     Sat   Jul    SYD  Creative3      AU  Product5\n",
       "136079    23     Sat   Jul    SYD  Creative3      AU  Product5\n",
       "\n",
       "[136080 rows x 7 columns]"
      ]
     },
     "execution_count": 151,
     "metadata": {},
     "output_type": "execute_result"
    }
   ],
   "source": [
    "df_july_p2 = pd.read_excel('/home/shiva/Documents/UTS/02_Courses/DVN/DVN/AT2 Part1/Data/data Jul 07 - Jul 20 - Part2.xlsx')\n",
    "df_july_p2\n"
   ]
  },
  {
   "cell_type": "code",
   "execution_count": 152,
   "id": "continuing-procurement",
   "metadata": {},
   "outputs": [],
   "source": [
    "df_july=pd.merge(df_july_p1, df_july_p2, left_index=True, right_index=True)"
   ]
  },
  {
   "cell_type": "code",
   "execution_count": 153,
   "id": "lucky-rubber",
   "metadata": {},
   "outputs": [
    {
     "data": {
      "text/html": [
       "<div>\n",
       "<style scoped>\n",
       "    .dataframe tbody tr th:only-of-type {\n",
       "        vertical-align: middle;\n",
       "    }\n",
       "\n",
       "    .dataframe tbody tr th {\n",
       "        vertical-align: top;\n",
       "    }\n",
       "\n",
       "    .dataframe thead th {\n",
       "        text-align: right;\n",
       "    }\n",
       "</style>\n",
       "<table border=\"1\" class=\"dataframe\">\n",
       "  <thead>\n",
       "    <tr style=\"text-align: right;\">\n",
       "      <th></th>\n",
       "      <th>Date</th>\n",
       "      <th>Network</th>\n",
       "      <th>Channel</th>\n",
       "      <th>Contribution</th>\n",
       "      <th>Impression</th>\n",
       "      <th>Site Visits</th>\n",
       "      <th>Spend</th>\n",
       "      <th>Hour</th>\n",
       "      <th>Weekday</th>\n",
       "      <th>Month</th>\n",
       "      <th>Market</th>\n",
       "      <th>Creative</th>\n",
       "      <th>Country</th>\n",
       "      <th>Product</th>\n",
       "    </tr>\n",
       "  </thead>\n",
       "  <tbody>\n",
       "    <tr>\n",
       "      <th>0</th>\n",
       "      <td>2019-07-07</td>\n",
       "      <td>NetA</td>\n",
       "      <td>ChannelA1</td>\n",
       "      <td>0.0</td>\n",
       "      <td>0</td>\n",
       "      <td>0.246914</td>\n",
       "      <td>0</td>\n",
       "      <td>0</td>\n",
       "      <td>Sun</td>\n",
       "      <td>Jul</td>\n",
       "      <td>ADE</td>\n",
       "      <td>Creative1</td>\n",
       "      <td>AU</td>\n",
       "      <td>Product1</td>\n",
       "    </tr>\n",
       "    <tr>\n",
       "      <th>1</th>\n",
       "      <td>2019-07-07</td>\n",
       "      <td>NetA</td>\n",
       "      <td>ChannelA1</td>\n",
       "      <td>0.0</td>\n",
       "      <td>0</td>\n",
       "      <td>0.259259</td>\n",
       "      <td>0</td>\n",
       "      <td>1</td>\n",
       "      <td>Sun</td>\n",
       "      <td>Jul</td>\n",
       "      <td>ADE</td>\n",
       "      <td>Creative1</td>\n",
       "      <td>AU</td>\n",
       "      <td>Product1</td>\n",
       "    </tr>\n",
       "    <tr>\n",
       "      <th>2</th>\n",
       "      <td>2019-07-07</td>\n",
       "      <td>NetA</td>\n",
       "      <td>ChannelA1</td>\n",
       "      <td>0.0</td>\n",
       "      <td>0</td>\n",
       "      <td>0.111111</td>\n",
       "      <td>0</td>\n",
       "      <td>2</td>\n",
       "      <td>Sun</td>\n",
       "      <td>Jul</td>\n",
       "      <td>ADE</td>\n",
       "      <td>Creative1</td>\n",
       "      <td>AU</td>\n",
       "      <td>Product1</td>\n",
       "    </tr>\n",
       "    <tr>\n",
       "      <th>3</th>\n",
       "      <td>2019-07-07</td>\n",
       "      <td>NetA</td>\n",
       "      <td>ChannelA1</td>\n",
       "      <td>0.0</td>\n",
       "      <td>0</td>\n",
       "      <td>0.074074</td>\n",
       "      <td>0</td>\n",
       "      <td>3</td>\n",
       "      <td>Sun</td>\n",
       "      <td>Jul</td>\n",
       "      <td>ADE</td>\n",
       "      <td>Creative1</td>\n",
       "      <td>AU</td>\n",
       "      <td>Product1</td>\n",
       "    </tr>\n",
       "    <tr>\n",
       "      <th>4</th>\n",
       "      <td>2019-07-07</td>\n",
       "      <td>NetA</td>\n",
       "      <td>ChannelA1</td>\n",
       "      <td>0.0</td>\n",
       "      <td>0</td>\n",
       "      <td>0.098765</td>\n",
       "      <td>0</td>\n",
       "      <td>4</td>\n",
       "      <td>Sun</td>\n",
       "      <td>Jul</td>\n",
       "      <td>ADE</td>\n",
       "      <td>Creative1</td>\n",
       "      <td>AU</td>\n",
       "      <td>Product1</td>\n",
       "    </tr>\n",
       "    <tr>\n",
       "      <th>...</th>\n",
       "      <td>...</td>\n",
       "      <td>...</td>\n",
       "      <td>...</td>\n",
       "      <td>...</td>\n",
       "      <td>...</td>\n",
       "      <td>...</td>\n",
       "      <td>...</td>\n",
       "      <td>...</td>\n",
       "      <td>...</td>\n",
       "      <td>...</td>\n",
       "      <td>...</td>\n",
       "      <td>...</td>\n",
       "      <td>...</td>\n",
       "      <td>...</td>\n",
       "    </tr>\n",
       "    <tr>\n",
       "      <th>136075</th>\n",
       "      <td>2019-07-20</td>\n",
       "      <td>NetB</td>\n",
       "      <td>ChannelB3</td>\n",
       "      <td>0.0</td>\n",
       "      <td>0</td>\n",
       "      <td>2.049383</td>\n",
       "      <td>0</td>\n",
       "      <td>19</td>\n",
       "      <td>Sat</td>\n",
       "      <td>Jul</td>\n",
       "      <td>SYD</td>\n",
       "      <td>Creative3</td>\n",
       "      <td>AU</td>\n",
       "      <td>Product5</td>\n",
       "    </tr>\n",
       "    <tr>\n",
       "      <th>136076</th>\n",
       "      <td>2019-07-20</td>\n",
       "      <td>NetB</td>\n",
       "      <td>ChannelB3</td>\n",
       "      <td>0.0</td>\n",
       "      <td>0</td>\n",
       "      <td>2.037037</td>\n",
       "      <td>0</td>\n",
       "      <td>20</td>\n",
       "      <td>Sat</td>\n",
       "      <td>Jul</td>\n",
       "      <td>SYD</td>\n",
       "      <td>Creative3</td>\n",
       "      <td>AU</td>\n",
       "      <td>Product5</td>\n",
       "    </tr>\n",
       "    <tr>\n",
       "      <th>136077</th>\n",
       "      <td>2019-07-20</td>\n",
       "      <td>NetB</td>\n",
       "      <td>ChannelB3</td>\n",
       "      <td>0.0</td>\n",
       "      <td>0</td>\n",
       "      <td>1.925926</td>\n",
       "      <td>0</td>\n",
       "      <td>21</td>\n",
       "      <td>Sat</td>\n",
       "      <td>Jul</td>\n",
       "      <td>SYD</td>\n",
       "      <td>Creative3</td>\n",
       "      <td>AU</td>\n",
       "      <td>Product5</td>\n",
       "    </tr>\n",
       "    <tr>\n",
       "      <th>136078</th>\n",
       "      <td>2019-07-20</td>\n",
       "      <td>NetB</td>\n",
       "      <td>ChannelB3</td>\n",
       "      <td>0.0</td>\n",
       "      <td>0</td>\n",
       "      <td>1.888889</td>\n",
       "      <td>0</td>\n",
       "      <td>22</td>\n",
       "      <td>Sat</td>\n",
       "      <td>Jul</td>\n",
       "      <td>SYD</td>\n",
       "      <td>Creative3</td>\n",
       "      <td>AU</td>\n",
       "      <td>Product5</td>\n",
       "    </tr>\n",
       "    <tr>\n",
       "      <th>136079</th>\n",
       "      <td>2019-07-20</td>\n",
       "      <td>NetB</td>\n",
       "      <td>ChannelB3</td>\n",
       "      <td>0.0</td>\n",
       "      <td>0</td>\n",
       "      <td>1.074074</td>\n",
       "      <td>0</td>\n",
       "      <td>23</td>\n",
       "      <td>Sat</td>\n",
       "      <td>Jul</td>\n",
       "      <td>SYD</td>\n",
       "      <td>Creative3</td>\n",
       "      <td>AU</td>\n",
       "      <td>Product5</td>\n",
       "    </tr>\n",
       "  </tbody>\n",
       "</table>\n",
       "<p>136080 rows × 14 columns</p>\n",
       "</div>"
      ],
      "text/plain": [
       "             Date Network    Channel  Contribution  Impression  Site Visits  \\\n",
       "0      2019-07-07    NetA  ChannelA1           0.0           0     0.246914   \n",
       "1      2019-07-07    NetA  ChannelA1           0.0           0     0.259259   \n",
       "2      2019-07-07    NetA  ChannelA1           0.0           0     0.111111   \n",
       "3      2019-07-07    NetA  ChannelA1           0.0           0     0.074074   \n",
       "4      2019-07-07    NetA  ChannelA1           0.0           0     0.098765   \n",
       "...           ...     ...        ...           ...         ...          ...   \n",
       "136075 2019-07-20    NetB  ChannelB3           0.0           0     2.049383   \n",
       "136076 2019-07-20    NetB  ChannelB3           0.0           0     2.037037   \n",
       "136077 2019-07-20    NetB  ChannelB3           0.0           0     1.925926   \n",
       "136078 2019-07-20    NetB  ChannelB3           0.0           0     1.888889   \n",
       "136079 2019-07-20    NetB  ChannelB3           0.0           0     1.074074   \n",
       "\n",
       "        Spend  Hour Weekday Month Market   Creative Country   Product  \n",
       "0           0     0     Sun   Jul    ADE  Creative1      AU  Product1  \n",
       "1           0     1     Sun   Jul    ADE  Creative1      AU  Product1  \n",
       "2           0     2     Sun   Jul    ADE  Creative1      AU  Product1  \n",
       "3           0     3     Sun   Jul    ADE  Creative1      AU  Product1  \n",
       "4           0     4     Sun   Jul    ADE  Creative1      AU  Product1  \n",
       "...       ...   ...     ...   ...    ...        ...     ...       ...  \n",
       "136075      0    19     Sat   Jul    SYD  Creative3      AU  Product5  \n",
       "136076      0    20     Sat   Jul    SYD  Creative3      AU  Product5  \n",
       "136077      0    21     Sat   Jul    SYD  Creative3      AU  Product5  \n",
       "136078      0    22     Sat   Jul    SYD  Creative3      AU  Product5  \n",
       "136079      0    23     Sat   Jul    SYD  Creative3      AU  Product5  \n",
       "\n",
       "[136080 rows x 14 columns]"
      ]
     },
     "execution_count": 153,
     "metadata": {},
     "output_type": "execute_result"
    }
   ],
   "source": [
    "df_july"
   ]
  },
  {
   "cell_type": "markdown",
   "id": "sustainable-smooth",
   "metadata": {},
   "source": [
    "### Read data files - data Jul 21 - Aug 03 - Part2.xlsx"
   ]
  },
  {
   "cell_type": "code",
   "execution_count": 154,
   "id": "impressive-cylinder",
   "metadata": {},
   "outputs": [
    {
     "data": {
      "text/html": [
       "<div>\n",
       "<style scoped>\n",
       "    .dataframe tbody tr th:only-of-type {\n",
       "        vertical-align: middle;\n",
       "    }\n",
       "\n",
       "    .dataframe tbody tr th {\n",
       "        vertical-align: top;\n",
       "    }\n",
       "\n",
       "    .dataframe thead th {\n",
       "        text-align: right;\n",
       "    }\n",
       "</style>\n",
       "<table border=\"1\" class=\"dataframe\">\n",
       "  <thead>\n",
       "    <tr style=\"text-align: right;\">\n",
       "      <th></th>\n",
       "      <th>Date</th>\n",
       "      <th>Network</th>\n",
       "      <th>Channel</th>\n",
       "      <th>Contribution</th>\n",
       "      <th>Impression</th>\n",
       "      <th>Site Visits</th>\n",
       "      <th>Spend</th>\n",
       "      <th>Hour</th>\n",
       "      <th>Weekday</th>\n",
       "      <th>Month</th>\n",
       "      <th>Market</th>\n",
       "      <th>Creative</th>\n",
       "      <th>Country</th>\n",
       "      <th>Product</th>\n",
       "    </tr>\n",
       "  </thead>\n",
       "  <tbody>\n",
       "    <tr>\n",
       "      <th>0</th>\n",
       "      <td>2019-07-21</td>\n",
       "      <td>NetA</td>\n",
       "      <td>ChannelA2</td>\n",
       "      <td>0.0</td>\n",
       "      <td>0</td>\n",
       "      <td>0.375000</td>\n",
       "      <td>0</td>\n",
       "      <td>0</td>\n",
       "      <td>Sun</td>\n",
       "      <td>Jul</td>\n",
       "      <td>ADE</td>\n",
       "      <td>Creative2</td>\n",
       "      <td>AU</td>\n",
       "      <td>Product1</td>\n",
       "    </tr>\n",
       "    <tr>\n",
       "      <th>1</th>\n",
       "      <td>2019-07-21</td>\n",
       "      <td>NetA</td>\n",
       "      <td>ChannelA2</td>\n",
       "      <td>0.0</td>\n",
       "      <td>0</td>\n",
       "      <td>0.285714</td>\n",
       "      <td>0</td>\n",
       "      <td>1</td>\n",
       "      <td>Sun</td>\n",
       "      <td>Jul</td>\n",
       "      <td>ADE</td>\n",
       "      <td>Creative2</td>\n",
       "      <td>AU</td>\n",
       "      <td>Product1</td>\n",
       "    </tr>\n",
       "    <tr>\n",
       "      <th>2</th>\n",
       "      <td>2019-07-21</td>\n",
       "      <td>NetA</td>\n",
       "      <td>ChannelA2</td>\n",
       "      <td>0.0</td>\n",
       "      <td>0</td>\n",
       "      <td>0.321429</td>\n",
       "      <td>0</td>\n",
       "      <td>2</td>\n",
       "      <td>Sun</td>\n",
       "      <td>Jul</td>\n",
       "      <td>ADE</td>\n",
       "      <td>Creative2</td>\n",
       "      <td>AU</td>\n",
       "      <td>Product1</td>\n",
       "    </tr>\n",
       "    <tr>\n",
       "      <th>3</th>\n",
       "      <td>2019-07-21</td>\n",
       "      <td>NetA</td>\n",
       "      <td>ChannelA2</td>\n",
       "      <td>0.0</td>\n",
       "      <td>0</td>\n",
       "      <td>0.285714</td>\n",
       "      <td>0</td>\n",
       "      <td>3</td>\n",
       "      <td>Sun</td>\n",
       "      <td>Jul</td>\n",
       "      <td>ADE</td>\n",
       "      <td>Creative2</td>\n",
       "      <td>AU</td>\n",
       "      <td>Product1</td>\n",
       "    </tr>\n",
       "    <tr>\n",
       "      <th>4</th>\n",
       "      <td>2019-07-21</td>\n",
       "      <td>NetA</td>\n",
       "      <td>ChannelA2</td>\n",
       "      <td>0.0</td>\n",
       "      <td>0</td>\n",
       "      <td>0.160714</td>\n",
       "      <td>0</td>\n",
       "      <td>4</td>\n",
       "      <td>Sun</td>\n",
       "      <td>Jul</td>\n",
       "      <td>ADE</td>\n",
       "      <td>Creative2</td>\n",
       "      <td>AU</td>\n",
       "      <td>Product1</td>\n",
       "    </tr>\n",
       "    <tr>\n",
       "      <th>...</th>\n",
       "      <td>...</td>\n",
       "      <td>...</td>\n",
       "      <td>...</td>\n",
       "      <td>...</td>\n",
       "      <td>...</td>\n",
       "      <td>...</td>\n",
       "      <td>...</td>\n",
       "      <td>...</td>\n",
       "      <td>...</td>\n",
       "      <td>...</td>\n",
       "      <td>...</td>\n",
       "      <td>...</td>\n",
       "      <td>...</td>\n",
       "      <td>...</td>\n",
       "    </tr>\n",
       "    <tr>\n",
       "      <th>95755</th>\n",
       "      <td>2019-08-03</td>\n",
       "      <td>NetA</td>\n",
       "      <td>ChannelA3</td>\n",
       "      <td>0.0</td>\n",
       "      <td>0</td>\n",
       "      <td>0.000000</td>\n",
       "      <td>0</td>\n",
       "      <td>19</td>\n",
       "      <td>Sat</td>\n",
       "      <td>Aug</td>\n",
       "      <td>ADE</td>\n",
       "      <td>Creative2</td>\n",
       "      <td>AU</td>\n",
       "      <td>Product5</td>\n",
       "    </tr>\n",
       "    <tr>\n",
       "      <th>95756</th>\n",
       "      <td>2019-08-03</td>\n",
       "      <td>NetA</td>\n",
       "      <td>ChannelA3</td>\n",
       "      <td>0.0</td>\n",
       "      <td>0</td>\n",
       "      <td>0.000000</td>\n",
       "      <td>0</td>\n",
       "      <td>20</td>\n",
       "      <td>Sat</td>\n",
       "      <td>Aug</td>\n",
       "      <td>ADE</td>\n",
       "      <td>Creative2</td>\n",
       "      <td>AU</td>\n",
       "      <td>Product5</td>\n",
       "    </tr>\n",
       "    <tr>\n",
       "      <th>95757</th>\n",
       "      <td>2019-08-03</td>\n",
       "      <td>NetA</td>\n",
       "      <td>ChannelA3</td>\n",
       "      <td>0.0</td>\n",
       "      <td>0</td>\n",
       "      <td>0.000000</td>\n",
       "      <td>0</td>\n",
       "      <td>21</td>\n",
       "      <td>Sat</td>\n",
       "      <td>Aug</td>\n",
       "      <td>ADE</td>\n",
       "      <td>Creative2</td>\n",
       "      <td>AU</td>\n",
       "      <td>Product5</td>\n",
       "    </tr>\n",
       "    <tr>\n",
       "      <th>95758</th>\n",
       "      <td>2019-08-03</td>\n",
       "      <td>NetA</td>\n",
       "      <td>ChannelA3</td>\n",
       "      <td>0.0</td>\n",
       "      <td>0</td>\n",
       "      <td>0.000000</td>\n",
       "      <td>0</td>\n",
       "      <td>22</td>\n",
       "      <td>Sat</td>\n",
       "      <td>Aug</td>\n",
       "      <td>ADE</td>\n",
       "      <td>Creative2</td>\n",
       "      <td>AU</td>\n",
       "      <td>Product5</td>\n",
       "    </tr>\n",
       "    <tr>\n",
       "      <th>95759</th>\n",
       "      <td>2019-08-03</td>\n",
       "      <td>NetA</td>\n",
       "      <td>ChannelA3</td>\n",
       "      <td>0.0</td>\n",
       "      <td>0</td>\n",
       "      <td>0.000000</td>\n",
       "      <td>0</td>\n",
       "      <td>23</td>\n",
       "      <td>Sat</td>\n",
       "      <td>Aug</td>\n",
       "      <td>ADE</td>\n",
       "      <td>Creative2</td>\n",
       "      <td>AU</td>\n",
       "      <td>Product5</td>\n",
       "    </tr>\n",
       "  </tbody>\n",
       "</table>\n",
       "<p>95760 rows × 14 columns</p>\n",
       "</div>"
      ],
      "text/plain": [
       "            Date Network    Channel  Contribution  Impression  Site Visits  \\\n",
       "0     2019-07-21    NetA  ChannelA2           0.0           0     0.375000   \n",
       "1     2019-07-21    NetA  ChannelA2           0.0           0     0.285714   \n",
       "2     2019-07-21    NetA  ChannelA2           0.0           0     0.321429   \n",
       "3     2019-07-21    NetA  ChannelA2           0.0           0     0.285714   \n",
       "4     2019-07-21    NetA  ChannelA2           0.0           0     0.160714   \n",
       "...          ...     ...        ...           ...         ...          ...   \n",
       "95755 2019-08-03    NetA  ChannelA3           0.0           0     0.000000   \n",
       "95756 2019-08-03    NetA  ChannelA3           0.0           0     0.000000   \n",
       "95757 2019-08-03    NetA  ChannelA3           0.0           0     0.000000   \n",
       "95758 2019-08-03    NetA  ChannelA3           0.0           0     0.000000   \n",
       "95759 2019-08-03    NetA  ChannelA3           0.0           0     0.000000   \n",
       "\n",
       "       Spend  Hour Weekday Month Market   Creative Country   Product  \n",
       "0          0     0     Sun   Jul    ADE  Creative2      AU  Product1  \n",
       "1          0     1     Sun   Jul    ADE  Creative2      AU  Product1  \n",
       "2          0     2     Sun   Jul    ADE  Creative2      AU  Product1  \n",
       "3          0     3     Sun   Jul    ADE  Creative2      AU  Product1  \n",
       "4          0     4     Sun   Jul    ADE  Creative2      AU  Product1  \n",
       "...      ...   ...     ...   ...    ...        ...     ...       ...  \n",
       "95755      0    19     Sat   Aug    ADE  Creative2      AU  Product5  \n",
       "95756      0    20     Sat   Aug    ADE  Creative2      AU  Product5  \n",
       "95757      0    21     Sat   Aug    ADE  Creative2      AU  Product5  \n",
       "95758      0    22     Sat   Aug    ADE  Creative2      AU  Product5  \n",
       "95759      0    23     Sat   Aug    ADE  Creative2      AU  Product5  \n",
       "\n",
       "[95760 rows x 14 columns]"
      ]
     },
     "execution_count": 154,
     "metadata": {},
     "output_type": "execute_result"
    }
   ],
   "source": [
    "df_aug = pd.read_excel('/home/shiva/Documents/UTS/02_Courses/DVN/DVN/AT2 Part1/Data/data Jul 21 - Aug 03.xlsx')\n",
    "df_aug"
   ]
  },
  {
   "cell_type": "code",
   "execution_count": 155,
   "id": "crucial-harris",
   "metadata": {},
   "outputs": [],
   "source": [
    "df_july_aug = df_july.append(df_aug)"
   ]
  },
  {
   "cell_type": "code",
   "execution_count": 156,
   "id": "ignored-karaoke",
   "metadata": {},
   "outputs": [
    {
     "data": {
      "text/html": [
       "<div>\n",
       "<style scoped>\n",
       "    .dataframe tbody tr th:only-of-type {\n",
       "        vertical-align: middle;\n",
       "    }\n",
       "\n",
       "    .dataframe tbody tr th {\n",
       "        vertical-align: top;\n",
       "    }\n",
       "\n",
       "    .dataframe thead th {\n",
       "        text-align: right;\n",
       "    }\n",
       "</style>\n",
       "<table border=\"1\" class=\"dataframe\">\n",
       "  <thead>\n",
       "    <tr style=\"text-align: right;\">\n",
       "      <th></th>\n",
       "      <th>Date</th>\n",
       "      <th>Network</th>\n",
       "      <th>Channel</th>\n",
       "      <th>Contribution</th>\n",
       "      <th>Impression</th>\n",
       "      <th>Site Visits</th>\n",
       "      <th>Spend</th>\n",
       "      <th>Hour</th>\n",
       "      <th>Weekday</th>\n",
       "      <th>Month</th>\n",
       "      <th>Market</th>\n",
       "      <th>Creative</th>\n",
       "      <th>Country</th>\n",
       "      <th>Product</th>\n",
       "    </tr>\n",
       "  </thead>\n",
       "  <tbody>\n",
       "    <tr>\n",
       "      <th>0</th>\n",
       "      <td>2019-07-07</td>\n",
       "      <td>NetA</td>\n",
       "      <td>ChannelA1</td>\n",
       "      <td>0.0</td>\n",
       "      <td>0</td>\n",
       "      <td>0.246914</td>\n",
       "      <td>0</td>\n",
       "      <td>0</td>\n",
       "      <td>Sun</td>\n",
       "      <td>Jul</td>\n",
       "      <td>ADE</td>\n",
       "      <td>Creative1</td>\n",
       "      <td>AU</td>\n",
       "      <td>Product1</td>\n",
       "    </tr>\n",
       "    <tr>\n",
       "      <th>1</th>\n",
       "      <td>2019-07-07</td>\n",
       "      <td>NetA</td>\n",
       "      <td>ChannelA1</td>\n",
       "      <td>0.0</td>\n",
       "      <td>0</td>\n",
       "      <td>0.259259</td>\n",
       "      <td>0</td>\n",
       "      <td>1</td>\n",
       "      <td>Sun</td>\n",
       "      <td>Jul</td>\n",
       "      <td>ADE</td>\n",
       "      <td>Creative1</td>\n",
       "      <td>AU</td>\n",
       "      <td>Product1</td>\n",
       "    </tr>\n",
       "    <tr>\n",
       "      <th>2</th>\n",
       "      <td>2019-07-07</td>\n",
       "      <td>NetA</td>\n",
       "      <td>ChannelA1</td>\n",
       "      <td>0.0</td>\n",
       "      <td>0</td>\n",
       "      <td>0.111111</td>\n",
       "      <td>0</td>\n",
       "      <td>2</td>\n",
       "      <td>Sun</td>\n",
       "      <td>Jul</td>\n",
       "      <td>ADE</td>\n",
       "      <td>Creative1</td>\n",
       "      <td>AU</td>\n",
       "      <td>Product1</td>\n",
       "    </tr>\n",
       "    <tr>\n",
       "      <th>3</th>\n",
       "      <td>2019-07-07</td>\n",
       "      <td>NetA</td>\n",
       "      <td>ChannelA1</td>\n",
       "      <td>0.0</td>\n",
       "      <td>0</td>\n",
       "      <td>0.074074</td>\n",
       "      <td>0</td>\n",
       "      <td>3</td>\n",
       "      <td>Sun</td>\n",
       "      <td>Jul</td>\n",
       "      <td>ADE</td>\n",
       "      <td>Creative1</td>\n",
       "      <td>AU</td>\n",
       "      <td>Product1</td>\n",
       "    </tr>\n",
       "    <tr>\n",
       "      <th>4</th>\n",
       "      <td>2019-07-07</td>\n",
       "      <td>NetA</td>\n",
       "      <td>ChannelA1</td>\n",
       "      <td>0.0</td>\n",
       "      <td>0</td>\n",
       "      <td>0.098765</td>\n",
       "      <td>0</td>\n",
       "      <td>4</td>\n",
       "      <td>Sun</td>\n",
       "      <td>Jul</td>\n",
       "      <td>ADE</td>\n",
       "      <td>Creative1</td>\n",
       "      <td>AU</td>\n",
       "      <td>Product1</td>\n",
       "    </tr>\n",
       "    <tr>\n",
       "      <th>...</th>\n",
       "      <td>...</td>\n",
       "      <td>...</td>\n",
       "      <td>...</td>\n",
       "      <td>...</td>\n",
       "      <td>...</td>\n",
       "      <td>...</td>\n",
       "      <td>...</td>\n",
       "      <td>...</td>\n",
       "      <td>...</td>\n",
       "      <td>...</td>\n",
       "      <td>...</td>\n",
       "      <td>...</td>\n",
       "      <td>...</td>\n",
       "      <td>...</td>\n",
       "    </tr>\n",
       "    <tr>\n",
       "      <th>95755</th>\n",
       "      <td>2019-08-03</td>\n",
       "      <td>NetA</td>\n",
       "      <td>ChannelA3</td>\n",
       "      <td>0.0</td>\n",
       "      <td>0</td>\n",
       "      <td>0.000000</td>\n",
       "      <td>0</td>\n",
       "      <td>19</td>\n",
       "      <td>Sat</td>\n",
       "      <td>Aug</td>\n",
       "      <td>ADE</td>\n",
       "      <td>Creative2</td>\n",
       "      <td>AU</td>\n",
       "      <td>Product5</td>\n",
       "    </tr>\n",
       "    <tr>\n",
       "      <th>95756</th>\n",
       "      <td>2019-08-03</td>\n",
       "      <td>NetA</td>\n",
       "      <td>ChannelA3</td>\n",
       "      <td>0.0</td>\n",
       "      <td>0</td>\n",
       "      <td>0.000000</td>\n",
       "      <td>0</td>\n",
       "      <td>20</td>\n",
       "      <td>Sat</td>\n",
       "      <td>Aug</td>\n",
       "      <td>ADE</td>\n",
       "      <td>Creative2</td>\n",
       "      <td>AU</td>\n",
       "      <td>Product5</td>\n",
       "    </tr>\n",
       "    <tr>\n",
       "      <th>95757</th>\n",
       "      <td>2019-08-03</td>\n",
       "      <td>NetA</td>\n",
       "      <td>ChannelA3</td>\n",
       "      <td>0.0</td>\n",
       "      <td>0</td>\n",
       "      <td>0.000000</td>\n",
       "      <td>0</td>\n",
       "      <td>21</td>\n",
       "      <td>Sat</td>\n",
       "      <td>Aug</td>\n",
       "      <td>ADE</td>\n",
       "      <td>Creative2</td>\n",
       "      <td>AU</td>\n",
       "      <td>Product5</td>\n",
       "    </tr>\n",
       "    <tr>\n",
       "      <th>95758</th>\n",
       "      <td>2019-08-03</td>\n",
       "      <td>NetA</td>\n",
       "      <td>ChannelA3</td>\n",
       "      <td>0.0</td>\n",
       "      <td>0</td>\n",
       "      <td>0.000000</td>\n",
       "      <td>0</td>\n",
       "      <td>22</td>\n",
       "      <td>Sat</td>\n",
       "      <td>Aug</td>\n",
       "      <td>ADE</td>\n",
       "      <td>Creative2</td>\n",
       "      <td>AU</td>\n",
       "      <td>Product5</td>\n",
       "    </tr>\n",
       "    <tr>\n",
       "      <th>95759</th>\n",
       "      <td>2019-08-03</td>\n",
       "      <td>NetA</td>\n",
       "      <td>ChannelA3</td>\n",
       "      <td>0.0</td>\n",
       "      <td>0</td>\n",
       "      <td>0.000000</td>\n",
       "      <td>0</td>\n",
       "      <td>23</td>\n",
       "      <td>Sat</td>\n",
       "      <td>Aug</td>\n",
       "      <td>ADE</td>\n",
       "      <td>Creative2</td>\n",
       "      <td>AU</td>\n",
       "      <td>Product5</td>\n",
       "    </tr>\n",
       "  </tbody>\n",
       "</table>\n",
       "<p>231840 rows × 14 columns</p>\n",
       "</div>"
      ],
      "text/plain": [
       "            Date Network    Channel  Contribution  Impression  Site Visits  \\\n",
       "0     2019-07-07    NetA  ChannelA1           0.0           0     0.246914   \n",
       "1     2019-07-07    NetA  ChannelA1           0.0           0     0.259259   \n",
       "2     2019-07-07    NetA  ChannelA1           0.0           0     0.111111   \n",
       "3     2019-07-07    NetA  ChannelA1           0.0           0     0.074074   \n",
       "4     2019-07-07    NetA  ChannelA1           0.0           0     0.098765   \n",
       "...          ...     ...        ...           ...         ...          ...   \n",
       "95755 2019-08-03    NetA  ChannelA3           0.0           0     0.000000   \n",
       "95756 2019-08-03    NetA  ChannelA3           0.0           0     0.000000   \n",
       "95757 2019-08-03    NetA  ChannelA3           0.0           0     0.000000   \n",
       "95758 2019-08-03    NetA  ChannelA3           0.0           0     0.000000   \n",
       "95759 2019-08-03    NetA  ChannelA3           0.0           0     0.000000   \n",
       "\n",
       "       Spend  Hour Weekday Month Market   Creative Country   Product  \n",
       "0          0     0     Sun   Jul    ADE  Creative1      AU  Product1  \n",
       "1          0     1     Sun   Jul    ADE  Creative1      AU  Product1  \n",
       "2          0     2     Sun   Jul    ADE  Creative1      AU  Product1  \n",
       "3          0     3     Sun   Jul    ADE  Creative1      AU  Product1  \n",
       "4          0     4     Sun   Jul    ADE  Creative1      AU  Product1  \n",
       "...      ...   ...     ...   ...    ...        ...     ...       ...  \n",
       "95755      0    19     Sat   Aug    ADE  Creative2      AU  Product5  \n",
       "95756      0    20     Sat   Aug    ADE  Creative2      AU  Product5  \n",
       "95757      0    21     Sat   Aug    ADE  Creative2      AU  Product5  \n",
       "95758      0    22     Sat   Aug    ADE  Creative2      AU  Product5  \n",
       "95759      0    23     Sat   Aug    ADE  Creative2      AU  Product5  \n",
       "\n",
       "[231840 rows x 14 columns]"
      ]
     },
     "execution_count": 156,
     "metadata": {},
     "output_type": "execute_result"
    }
   ],
   "source": [
    "df_july_aug"
   ]
  },
  {
   "cell_type": "code",
   "execution_count": 157,
   "id": "banned-bacon",
   "metadata": {},
   "outputs": [
    {
     "data": {
      "text/html": [
       "<div>\n",
       "<style scoped>\n",
       "    .dataframe tbody tr th:only-of-type {\n",
       "        vertical-align: middle;\n",
       "    }\n",
       "\n",
       "    .dataframe tbody tr th {\n",
       "        vertical-align: top;\n",
       "    }\n",
       "\n",
       "    .dataframe thead th {\n",
       "        text-align: right;\n",
       "    }\n",
       "</style>\n",
       "<table border=\"1\" class=\"dataframe\">\n",
       "  <thead>\n",
       "    <tr style=\"text-align: right;\">\n",
       "      <th></th>\n",
       "      <th>Network</th>\n",
       "      <th>Channel</th>\n",
       "      <th>Site Visits</th>\n",
       "      <th>Impression</th>\n",
       "      <th>Spend</th>\n",
       "    </tr>\n",
       "  </thead>\n",
       "  <tbody>\n",
       "    <tr>\n",
       "      <th>0</th>\n",
       "      <td>NetA</td>\n",
       "      <td>ChannelA1</td>\n",
       "      <td>27106.074074</td>\n",
       "      <td>4090</td>\n",
       "      <td>0</td>\n",
       "    </tr>\n",
       "    <tr>\n",
       "      <th>1</th>\n",
       "      <td>NetA</td>\n",
       "      <td>ChannelA2</td>\n",
       "      <td>44395.231481</td>\n",
       "      <td>2870</td>\n",
       "      <td>39200</td>\n",
       "    </tr>\n",
       "    <tr>\n",
       "      <th>2</th>\n",
       "      <td>NetA</td>\n",
       "      <td>ChannelA3</td>\n",
       "      <td>32445.583333</td>\n",
       "      <td>655</td>\n",
       "      <td>8630</td>\n",
       "    </tr>\n",
       "    <tr>\n",
       "      <th>3</th>\n",
       "      <td>NetA</td>\n",
       "      <td>ChannelA4</td>\n",
       "      <td>44395.231481</td>\n",
       "      <td>8900</td>\n",
       "      <td>163550</td>\n",
       "    </tr>\n",
       "    <tr>\n",
       "      <th>4</th>\n",
       "      <td>NetA</td>\n",
       "      <td>ChannelA5</td>\n",
       "      <td>28006.060185</td>\n",
       "      <td>1875</td>\n",
       "      <td>15595</td>\n",
       "    </tr>\n",
       "    <tr>\n",
       "      <th>5</th>\n",
       "      <td>NetB</td>\n",
       "      <td>ChannelB1</td>\n",
       "      <td>44395.231481</td>\n",
       "      <td>3885</td>\n",
       "      <td>10645</td>\n",
       "    </tr>\n",
       "    <tr>\n",
       "      <th>6</th>\n",
       "      <td>NetB</td>\n",
       "      <td>ChannelB2</td>\n",
       "      <td>31878.356481</td>\n",
       "      <td>7125</td>\n",
       "      <td>11590</td>\n",
       "    </tr>\n",
       "    <tr>\n",
       "      <th>7</th>\n",
       "      <td>NetB</td>\n",
       "      <td>ChannelB3</td>\n",
       "      <td>44395.231481</td>\n",
       "      <td>8615</td>\n",
       "      <td>227180</td>\n",
       "    </tr>\n",
       "  </tbody>\n",
       "</table>\n",
       "</div>"
      ],
      "text/plain": [
       "  Network    Channel   Site Visits  Impression   Spend\n",
       "0    NetA  ChannelA1  27106.074074        4090       0\n",
       "1    NetA  ChannelA2  44395.231481        2870   39200\n",
       "2    NetA  ChannelA3  32445.583333         655    8630\n",
       "3    NetA  ChannelA4  44395.231481        8900  163550\n",
       "4    NetA  ChannelA5  28006.060185        1875   15595\n",
       "5    NetB  ChannelB1  44395.231481        3885   10645\n",
       "6    NetB  ChannelB2  31878.356481        7125   11590\n",
       "7    NetB  ChannelB3  44395.231481        8615  227180"
      ]
     },
     "execution_count": 157,
     "metadata": {},
     "output_type": "execute_result"
    }
   ],
   "source": [
    "df_july_aug_plot=df_july_aug.groupby(['Network','Channel'])[['Site Visits', 'Impression','Spend']].sum().reset_index()\n",
    "\n",
    "df_july_aug_plot"
   ]
  },
  {
   "cell_type": "code",
   "execution_count": 158,
   "id": "separate-benjamin",
   "metadata": {},
   "outputs": [],
   "source": [
    "df_july_aug_plot['PCT_Spend']=(df_july_aug_plot['Spend'] / df_july_aug_plot['Spend'].sum()) * 100"
   ]
  },
  {
   "cell_type": "code",
   "execution_count": 159,
   "id": "controversial-glossary",
   "metadata": {},
   "outputs": [],
   "source": [
    "df_july_aug_plot['PCT_Impression']=(df_july_aug_plot['Impression'] / df_july_aug_plot['Impression'].sum()) * 100"
   ]
  },
  {
   "cell_type": "code",
   "execution_count": 160,
   "id": "nuclear-creator",
   "metadata": {},
   "outputs": [
    {
     "data": {
      "text/html": [
       "<div>\n",
       "<style scoped>\n",
       "    .dataframe tbody tr th:only-of-type {\n",
       "        vertical-align: middle;\n",
       "    }\n",
       "\n",
       "    .dataframe tbody tr th {\n",
       "        vertical-align: top;\n",
       "    }\n",
       "\n",
       "    .dataframe thead th {\n",
       "        text-align: right;\n",
       "    }\n",
       "</style>\n",
       "<table border=\"1\" class=\"dataframe\">\n",
       "  <thead>\n",
       "    <tr style=\"text-align: right;\">\n",
       "      <th></th>\n",
       "      <th>Network</th>\n",
       "      <th>Channel</th>\n",
       "      <th>Site Visits</th>\n",
       "      <th>Impression</th>\n",
       "      <th>Spend</th>\n",
       "      <th>PCT_Spend</th>\n",
       "      <th>PCT_Impression</th>\n",
       "    </tr>\n",
       "  </thead>\n",
       "  <tbody>\n",
       "    <tr>\n",
       "      <th>0</th>\n",
       "      <td>NetA</td>\n",
       "      <td>ChannelA1</td>\n",
       "      <td>27106.074074</td>\n",
       "      <td>4090</td>\n",
       "      <td>0</td>\n",
       "      <td>0.000000</td>\n",
       "      <td>10.758911</td>\n",
       "    </tr>\n",
       "    <tr>\n",
       "      <th>1</th>\n",
       "      <td>NetA</td>\n",
       "      <td>ChannelA2</td>\n",
       "      <td>44395.231481</td>\n",
       "      <td>2870</td>\n",
       "      <td>39200</td>\n",
       "      <td>8.228552</td>\n",
       "      <td>7.549651</td>\n",
       "    </tr>\n",
       "    <tr>\n",
       "      <th>2</th>\n",
       "      <td>NetA</td>\n",
       "      <td>ChannelA3</td>\n",
       "      <td>32445.583333</td>\n",
       "      <td>655</td>\n",
       "      <td>8630</td>\n",
       "      <td>1.811541</td>\n",
       "      <td>1.723004</td>\n",
       "    </tr>\n",
       "    <tr>\n",
       "      <th>3</th>\n",
       "      <td>NetA</td>\n",
       "      <td>ChannelA4</td>\n",
       "      <td>44395.231481</td>\n",
       "      <td>8900</td>\n",
       "      <td>163550</td>\n",
       "      <td>34.331115</td>\n",
       "      <td>23.411811</td>\n",
       "    </tr>\n",
       "    <tr>\n",
       "      <th>4</th>\n",
       "      <td>NetA</td>\n",
       "      <td>ChannelA5</td>\n",
       "      <td>28006.060185</td>\n",
       "      <td>1875</td>\n",
       "      <td>15595</td>\n",
       "      <td>3.273578</td>\n",
       "      <td>4.932264</td>\n",
       "    </tr>\n",
       "    <tr>\n",
       "      <th>5</th>\n",
       "      <td>NetB</td>\n",
       "      <td>ChannelB1</td>\n",
       "      <td>44395.231481</td>\n",
       "      <td>3885</td>\n",
       "      <td>10645</td>\n",
       "      <td>2.234514</td>\n",
       "      <td>10.219650</td>\n",
       "    </tr>\n",
       "    <tr>\n",
       "      <th>6</th>\n",
       "      <td>NetB</td>\n",
       "      <td>ChannelB2</td>\n",
       "      <td>31878.356481</td>\n",
       "      <td>7125</td>\n",
       "      <td>11590</td>\n",
       "      <td>2.432881</td>\n",
       "      <td>18.742602</td>\n",
       "    </tr>\n",
       "    <tr>\n",
       "      <th>7</th>\n",
       "      <td>NetB</td>\n",
       "      <td>ChannelB3</td>\n",
       "      <td>44395.231481</td>\n",
       "      <td>8615</td>\n",
       "      <td>227180</td>\n",
       "      <td>47.687819</td>\n",
       "      <td>22.662107</td>\n",
       "    </tr>\n",
       "  </tbody>\n",
       "</table>\n",
       "</div>"
      ],
      "text/plain": [
       "  Network    Channel   Site Visits  Impression   Spend  PCT_Spend  \\\n",
       "0    NetA  ChannelA1  27106.074074        4090       0   0.000000   \n",
       "1    NetA  ChannelA2  44395.231481        2870   39200   8.228552   \n",
       "2    NetA  ChannelA3  32445.583333         655    8630   1.811541   \n",
       "3    NetA  ChannelA4  44395.231481        8900  163550  34.331115   \n",
       "4    NetA  ChannelA5  28006.060185        1875   15595   3.273578   \n",
       "5    NetB  ChannelB1  44395.231481        3885   10645   2.234514   \n",
       "6    NetB  ChannelB2  31878.356481        7125   11590   2.432881   \n",
       "7    NetB  ChannelB3  44395.231481        8615  227180  47.687819   \n",
       "\n",
       "   PCT_Impression  \n",
       "0       10.758911  \n",
       "1        7.549651  \n",
       "2        1.723004  \n",
       "3       23.411811  \n",
       "4        4.932264  \n",
       "5       10.219650  \n",
       "6       18.742602  \n",
       "7       22.662107  "
      ]
     },
     "execution_count": 160,
     "metadata": {},
     "output_type": "execute_result"
    }
   ],
   "source": [
    "df_july_aug_plot"
   ]
  },
  {
   "cell_type": "markdown",
   "id": "sweet-program",
   "metadata": {},
   "source": [
    "### Q4 - Visualise the percentage variation of spend and impressions across all channels for the period 07/07/2019 to 03/08/2019"
   ]
  },
  {
   "cell_type": "code",
   "execution_count": 161,
   "id": "dietary-individual",
   "metadata": {},
   "outputs": [
    {
     "data": {
      "application/vnd.plotly.v1+json": {
       "config": {
        "plotlyServerURL": "https://plot.ly"
       },
       "data": [
        {
         "marker": {
          "color": "rgba(10, 78, 139, 0.6)",
          "line": {
           "color": "rgba(10, 78, 139, 1.0)",
           "width": 3
          }
         },
         "name": "%Spend",
         "text": [
          0,
          8,
          2,
          34,
          3,
          2,
          2,
          48
         ],
         "textposition": "auto",
         "type": "bar",
         "x": [
          "ChannelA1",
          "ChannelA2",
          "ChannelA3",
          "ChannelA4",
          "ChannelA5",
          "ChannelB1",
          "ChannelB2",
          "ChannelB3"
         ],
         "y": [
          0,
          8,
          2,
          34,
          3,
          2,
          2,
          48
         ]
        },
        {
         "marker": {
          "color": "rgba(58, 71, 80, 0.6)",
          "line": {
           "color": "rgba(58, 71, 80, 1.0)",
           "width": 3
          }
         },
         "name": "%Impression",
         "text": [
          11,
          8,
          2,
          23,
          5,
          10,
          19,
          23
         ],
         "textposition": "auto",
         "type": "bar",
         "x": [
          "ChannelA1",
          "ChannelA2",
          "ChannelA3",
          "ChannelA4",
          "ChannelA5",
          "ChannelB1",
          "ChannelB2",
          "ChannelB3"
         ],
         "y": [
          11,
          8,
          2,
          23,
          5,
          10,
          19,
          23
         ]
        }
       ],
       "layout": {
        "barmode": "group",
        "template": {
         "data": {
          "bar": [
           {
            "error_x": {
             "color": "#2a3f5f"
            },
            "error_y": {
             "color": "#2a3f5f"
            },
            "marker": {
             "line": {
              "color": "#E5ECF6",
              "width": 0.5
             }
            },
            "type": "bar"
           }
          ],
          "barpolar": [
           {
            "marker": {
             "line": {
              "color": "#E5ECF6",
              "width": 0.5
             }
            },
            "type": "barpolar"
           }
          ],
          "carpet": [
           {
            "aaxis": {
             "endlinecolor": "#2a3f5f",
             "gridcolor": "white",
             "linecolor": "white",
             "minorgridcolor": "white",
             "startlinecolor": "#2a3f5f"
            },
            "baxis": {
             "endlinecolor": "#2a3f5f",
             "gridcolor": "white",
             "linecolor": "white",
             "minorgridcolor": "white",
             "startlinecolor": "#2a3f5f"
            },
            "type": "carpet"
           }
          ],
          "choropleth": [
           {
            "colorbar": {
             "outlinewidth": 0,
             "ticks": ""
            },
            "type": "choropleth"
           }
          ],
          "contour": [
           {
            "colorbar": {
             "outlinewidth": 0,
             "ticks": ""
            },
            "colorscale": [
             [
              0,
              "#0d0887"
             ],
             [
              0.1111111111111111,
              "#46039f"
             ],
             [
              0.2222222222222222,
              "#7201a8"
             ],
             [
              0.3333333333333333,
              "#9c179e"
             ],
             [
              0.4444444444444444,
              "#bd3786"
             ],
             [
              0.5555555555555556,
              "#d8576b"
             ],
             [
              0.6666666666666666,
              "#ed7953"
             ],
             [
              0.7777777777777778,
              "#fb9f3a"
             ],
             [
              0.8888888888888888,
              "#fdca26"
             ],
             [
              1,
              "#f0f921"
             ]
            ],
            "type": "contour"
           }
          ],
          "contourcarpet": [
           {
            "colorbar": {
             "outlinewidth": 0,
             "ticks": ""
            },
            "type": "contourcarpet"
           }
          ],
          "heatmap": [
           {
            "colorbar": {
             "outlinewidth": 0,
             "ticks": ""
            },
            "colorscale": [
             [
              0,
              "#0d0887"
             ],
             [
              0.1111111111111111,
              "#46039f"
             ],
             [
              0.2222222222222222,
              "#7201a8"
             ],
             [
              0.3333333333333333,
              "#9c179e"
             ],
             [
              0.4444444444444444,
              "#bd3786"
             ],
             [
              0.5555555555555556,
              "#d8576b"
             ],
             [
              0.6666666666666666,
              "#ed7953"
             ],
             [
              0.7777777777777778,
              "#fb9f3a"
             ],
             [
              0.8888888888888888,
              "#fdca26"
             ],
             [
              1,
              "#f0f921"
             ]
            ],
            "type": "heatmap"
           }
          ],
          "heatmapgl": [
           {
            "colorbar": {
             "outlinewidth": 0,
             "ticks": ""
            },
            "colorscale": [
             [
              0,
              "#0d0887"
             ],
             [
              0.1111111111111111,
              "#46039f"
             ],
             [
              0.2222222222222222,
              "#7201a8"
             ],
             [
              0.3333333333333333,
              "#9c179e"
             ],
             [
              0.4444444444444444,
              "#bd3786"
             ],
             [
              0.5555555555555556,
              "#d8576b"
             ],
             [
              0.6666666666666666,
              "#ed7953"
             ],
             [
              0.7777777777777778,
              "#fb9f3a"
             ],
             [
              0.8888888888888888,
              "#fdca26"
             ],
             [
              1,
              "#f0f921"
             ]
            ],
            "type": "heatmapgl"
           }
          ],
          "histogram": [
           {
            "marker": {
             "colorbar": {
              "outlinewidth": 0,
              "ticks": ""
             }
            },
            "type": "histogram"
           }
          ],
          "histogram2d": [
           {
            "colorbar": {
             "outlinewidth": 0,
             "ticks": ""
            },
            "colorscale": [
             [
              0,
              "#0d0887"
             ],
             [
              0.1111111111111111,
              "#46039f"
             ],
             [
              0.2222222222222222,
              "#7201a8"
             ],
             [
              0.3333333333333333,
              "#9c179e"
             ],
             [
              0.4444444444444444,
              "#bd3786"
             ],
             [
              0.5555555555555556,
              "#d8576b"
             ],
             [
              0.6666666666666666,
              "#ed7953"
             ],
             [
              0.7777777777777778,
              "#fb9f3a"
             ],
             [
              0.8888888888888888,
              "#fdca26"
             ],
             [
              1,
              "#f0f921"
             ]
            ],
            "type": "histogram2d"
           }
          ],
          "histogram2dcontour": [
           {
            "colorbar": {
             "outlinewidth": 0,
             "ticks": ""
            },
            "colorscale": [
             [
              0,
              "#0d0887"
             ],
             [
              0.1111111111111111,
              "#46039f"
             ],
             [
              0.2222222222222222,
              "#7201a8"
             ],
             [
              0.3333333333333333,
              "#9c179e"
             ],
             [
              0.4444444444444444,
              "#bd3786"
             ],
             [
              0.5555555555555556,
              "#d8576b"
             ],
             [
              0.6666666666666666,
              "#ed7953"
             ],
             [
              0.7777777777777778,
              "#fb9f3a"
             ],
             [
              0.8888888888888888,
              "#fdca26"
             ],
             [
              1,
              "#f0f921"
             ]
            ],
            "type": "histogram2dcontour"
           }
          ],
          "mesh3d": [
           {
            "colorbar": {
             "outlinewidth": 0,
             "ticks": ""
            },
            "type": "mesh3d"
           }
          ],
          "parcoords": [
           {
            "line": {
             "colorbar": {
              "outlinewidth": 0,
              "ticks": ""
             }
            },
            "type": "parcoords"
           }
          ],
          "pie": [
           {
            "automargin": true,
            "type": "pie"
           }
          ],
          "scatter": [
           {
            "marker": {
             "colorbar": {
              "outlinewidth": 0,
              "ticks": ""
             }
            },
            "type": "scatter"
           }
          ],
          "scatter3d": [
           {
            "line": {
             "colorbar": {
              "outlinewidth": 0,
              "ticks": ""
             }
            },
            "marker": {
             "colorbar": {
              "outlinewidth": 0,
              "ticks": ""
             }
            },
            "type": "scatter3d"
           }
          ],
          "scattercarpet": [
           {
            "marker": {
             "colorbar": {
              "outlinewidth": 0,
              "ticks": ""
             }
            },
            "type": "scattercarpet"
           }
          ],
          "scattergeo": [
           {
            "marker": {
             "colorbar": {
              "outlinewidth": 0,
              "ticks": ""
             }
            },
            "type": "scattergeo"
           }
          ],
          "scattergl": [
           {
            "marker": {
             "colorbar": {
              "outlinewidth": 0,
              "ticks": ""
             }
            },
            "type": "scattergl"
           }
          ],
          "scattermapbox": [
           {
            "marker": {
             "colorbar": {
              "outlinewidth": 0,
              "ticks": ""
             }
            },
            "type": "scattermapbox"
           }
          ],
          "scatterpolar": [
           {
            "marker": {
             "colorbar": {
              "outlinewidth": 0,
              "ticks": ""
             }
            },
            "type": "scatterpolar"
           }
          ],
          "scatterpolargl": [
           {
            "marker": {
             "colorbar": {
              "outlinewidth": 0,
              "ticks": ""
             }
            },
            "type": "scatterpolargl"
           }
          ],
          "scatterternary": [
           {
            "marker": {
             "colorbar": {
              "outlinewidth": 0,
              "ticks": ""
             }
            },
            "type": "scatterternary"
           }
          ],
          "surface": [
           {
            "colorbar": {
             "outlinewidth": 0,
             "ticks": ""
            },
            "colorscale": [
             [
              0,
              "#0d0887"
             ],
             [
              0.1111111111111111,
              "#46039f"
             ],
             [
              0.2222222222222222,
              "#7201a8"
             ],
             [
              0.3333333333333333,
              "#9c179e"
             ],
             [
              0.4444444444444444,
              "#bd3786"
             ],
             [
              0.5555555555555556,
              "#d8576b"
             ],
             [
              0.6666666666666666,
              "#ed7953"
             ],
             [
              0.7777777777777778,
              "#fb9f3a"
             ],
             [
              0.8888888888888888,
              "#fdca26"
             ],
             [
              1,
              "#f0f921"
             ]
            ],
            "type": "surface"
           }
          ],
          "table": [
           {
            "cells": {
             "fill": {
              "color": "#EBF0F8"
             },
             "line": {
              "color": "white"
             }
            },
            "header": {
             "fill": {
              "color": "#C8D4E3"
             },
             "line": {
              "color": "white"
             }
            },
            "type": "table"
           }
          ]
         },
         "layout": {
          "annotationdefaults": {
           "arrowcolor": "#2a3f5f",
           "arrowhead": 0,
           "arrowwidth": 1
          },
          "autotypenumbers": "strict",
          "coloraxis": {
           "colorbar": {
            "outlinewidth": 0,
            "ticks": ""
           }
          },
          "colorscale": {
           "diverging": [
            [
             0,
             "#8e0152"
            ],
            [
             0.1,
             "#c51b7d"
            ],
            [
             0.2,
             "#de77ae"
            ],
            [
             0.3,
             "#f1b6da"
            ],
            [
             0.4,
             "#fde0ef"
            ],
            [
             0.5,
             "#f7f7f7"
            ],
            [
             0.6,
             "#e6f5d0"
            ],
            [
             0.7,
             "#b8e186"
            ],
            [
             0.8,
             "#7fbc41"
            ],
            [
             0.9,
             "#4d9221"
            ],
            [
             1,
             "#276419"
            ]
           ],
           "sequential": [
            [
             0,
             "#0d0887"
            ],
            [
             0.1111111111111111,
             "#46039f"
            ],
            [
             0.2222222222222222,
             "#7201a8"
            ],
            [
             0.3333333333333333,
             "#9c179e"
            ],
            [
             0.4444444444444444,
             "#bd3786"
            ],
            [
             0.5555555555555556,
             "#d8576b"
            ],
            [
             0.6666666666666666,
             "#ed7953"
            ],
            [
             0.7777777777777778,
             "#fb9f3a"
            ],
            [
             0.8888888888888888,
             "#fdca26"
            ],
            [
             1,
             "#f0f921"
            ]
           ],
           "sequentialminus": [
            [
             0,
             "#0d0887"
            ],
            [
             0.1111111111111111,
             "#46039f"
            ],
            [
             0.2222222222222222,
             "#7201a8"
            ],
            [
             0.3333333333333333,
             "#9c179e"
            ],
            [
             0.4444444444444444,
             "#bd3786"
            ],
            [
             0.5555555555555556,
             "#d8576b"
            ],
            [
             0.6666666666666666,
             "#ed7953"
            ],
            [
             0.7777777777777778,
             "#fb9f3a"
            ],
            [
             0.8888888888888888,
             "#fdca26"
            ],
            [
             1,
             "#f0f921"
            ]
           ]
          },
          "colorway": [
           "#636efa",
           "#EF553B",
           "#00cc96",
           "#ab63fa",
           "#FFA15A",
           "#19d3f3",
           "#FF6692",
           "#B6E880",
           "#FF97FF",
           "#FECB52"
          ],
          "font": {
           "color": "#2a3f5f"
          },
          "geo": {
           "bgcolor": "white",
           "lakecolor": "white",
           "landcolor": "#E5ECF6",
           "showlakes": true,
           "showland": true,
           "subunitcolor": "white"
          },
          "hoverlabel": {
           "align": "left"
          },
          "hovermode": "closest",
          "mapbox": {
           "style": "light"
          },
          "paper_bgcolor": "white",
          "plot_bgcolor": "#E5ECF6",
          "polar": {
           "angularaxis": {
            "gridcolor": "white",
            "linecolor": "white",
            "ticks": ""
           },
           "bgcolor": "#E5ECF6",
           "radialaxis": {
            "gridcolor": "white",
            "linecolor": "white",
            "ticks": ""
           }
          },
          "scene": {
           "xaxis": {
            "backgroundcolor": "#E5ECF6",
            "gridcolor": "white",
            "gridwidth": 2,
            "linecolor": "white",
            "showbackground": true,
            "ticks": "",
            "zerolinecolor": "white"
           },
           "yaxis": {
            "backgroundcolor": "#E5ECF6",
            "gridcolor": "white",
            "gridwidth": 2,
            "linecolor": "white",
            "showbackground": true,
            "ticks": "",
            "zerolinecolor": "white"
           },
           "zaxis": {
            "backgroundcolor": "#E5ECF6",
            "gridcolor": "white",
            "gridwidth": 2,
            "linecolor": "white",
            "showbackground": true,
            "ticks": "",
            "zerolinecolor": "white"
           }
          },
          "shapedefaults": {
           "line": {
            "color": "#2a3f5f"
           }
          },
          "ternary": {
           "aaxis": {
            "gridcolor": "white",
            "linecolor": "white",
            "ticks": ""
           },
           "baxis": {
            "gridcolor": "white",
            "linecolor": "white",
            "ticks": ""
           },
           "bgcolor": "#E5ECF6",
           "caxis": {
            "gridcolor": "white",
            "linecolor": "white",
            "ticks": ""
           }
          },
          "title": {
           "x": 0.05
          },
          "xaxis": {
           "automargin": true,
           "gridcolor": "white",
           "linecolor": "white",
           "ticks": "",
           "title": {
            "standoff": 15
           },
           "zerolinecolor": "white",
           "zerolinewidth": 2
          },
          "yaxis": {
           "automargin": true,
           "gridcolor": "white",
           "linecolor": "white",
           "ticks": "",
           "title": {
            "standoff": 15
           },
           "zerolinecolor": "white",
           "zerolinewidth": 2
          }
         }
        },
        "title": {
         "text": "% Variation of Spend and Impressions across channels for July and Aug 2019"
        },
        "xaxis": {
         "title": {
          "text": "Channel"
         }
        },
        "yaxis": {
         "title": {
          "text": "Percentage(%)"
         }
        }
       }
      },
      "text/html": [
       "<div>                            <div id=\"b80f22b7-5286-435e-9fc8-bca439e71b94\" class=\"plotly-graph-div\" style=\"height:525px; width:100%;\"></div>            <script type=\"text/javascript\">                require([\"plotly\"], function(Plotly) {                    window.PLOTLYENV=window.PLOTLYENV || {};                                    if (document.getElementById(\"b80f22b7-5286-435e-9fc8-bca439e71b94\")) {                    Plotly.newPlot(                        \"b80f22b7-5286-435e-9fc8-bca439e71b94\",                        [{\"marker\": {\"color\": \"rgba(10, 78, 139, 0.6)\", \"line\": {\"color\": \"rgba(10, 78, 139, 1.0)\", \"width\": 3}}, \"name\": \"%Spend\", \"text\": [0.0, 8.0, 2.0, 34.0, 3.0, 2.0, 2.0, 48.0], \"textposition\": \"auto\", \"type\": \"bar\", \"x\": [\"ChannelA1\", \"ChannelA2\", \"ChannelA3\", \"ChannelA4\", \"ChannelA5\", \"ChannelB1\", \"ChannelB2\", \"ChannelB3\"], \"y\": [0.0, 8.0, 2.0, 34.0, 3.0, 2.0, 2.0, 48.0]}, {\"marker\": {\"color\": \"rgba(58, 71, 80, 0.6)\", \"line\": {\"color\": \"rgba(58, 71, 80, 1.0)\", \"width\": 3}}, \"name\": \"%Impression\", \"text\": [11.0, 8.0, 2.0, 23.0, 5.0, 10.0, 19.0, 23.0], \"textposition\": \"auto\", \"type\": \"bar\", \"x\": [\"ChannelA1\", \"ChannelA2\", \"ChannelA3\", \"ChannelA4\", \"ChannelA5\", \"ChannelB1\", \"ChannelB2\", \"ChannelB3\"], \"y\": [11.0, 8.0, 2.0, 23.0, 5.0, 10.0, 19.0, 23.0]}],                        {\"barmode\": \"group\", \"template\": {\"data\": {\"bar\": [{\"error_x\": {\"color\": \"#2a3f5f\"}, \"error_y\": {\"color\": \"#2a3f5f\"}, \"marker\": {\"line\": {\"color\": \"#E5ECF6\", \"width\": 0.5}}, \"type\": \"bar\"}], \"barpolar\": [{\"marker\": {\"line\": {\"color\": \"#E5ECF6\", \"width\": 0.5}}, \"type\": \"barpolar\"}], \"carpet\": [{\"aaxis\": {\"endlinecolor\": \"#2a3f5f\", \"gridcolor\": \"white\", \"linecolor\": \"white\", \"minorgridcolor\": \"white\", \"startlinecolor\": \"#2a3f5f\"}, \"baxis\": {\"endlinecolor\": \"#2a3f5f\", \"gridcolor\": \"white\", \"linecolor\": \"white\", \"minorgridcolor\": \"white\", \"startlinecolor\": \"#2a3f5f\"}, \"type\": \"carpet\"}], \"choropleth\": [{\"colorbar\": {\"outlinewidth\": 0, \"ticks\": \"\"}, \"type\": \"choropleth\"}], \"contour\": [{\"colorbar\": {\"outlinewidth\": 0, \"ticks\": \"\"}, \"colorscale\": [[0.0, \"#0d0887\"], [0.1111111111111111, \"#46039f\"], [0.2222222222222222, \"#7201a8\"], [0.3333333333333333, \"#9c179e\"], [0.4444444444444444, \"#bd3786\"], [0.5555555555555556, \"#d8576b\"], [0.6666666666666666, \"#ed7953\"], [0.7777777777777778, \"#fb9f3a\"], [0.8888888888888888, \"#fdca26\"], [1.0, \"#f0f921\"]], \"type\": \"contour\"}], \"contourcarpet\": [{\"colorbar\": {\"outlinewidth\": 0, \"ticks\": \"\"}, \"type\": \"contourcarpet\"}], \"heatmap\": [{\"colorbar\": {\"outlinewidth\": 0, \"ticks\": \"\"}, \"colorscale\": [[0.0, \"#0d0887\"], [0.1111111111111111, \"#46039f\"], [0.2222222222222222, \"#7201a8\"], [0.3333333333333333, \"#9c179e\"], [0.4444444444444444, \"#bd3786\"], [0.5555555555555556, \"#d8576b\"], [0.6666666666666666, \"#ed7953\"], [0.7777777777777778, \"#fb9f3a\"], [0.8888888888888888, \"#fdca26\"], [1.0, \"#f0f921\"]], \"type\": \"heatmap\"}], \"heatmapgl\": [{\"colorbar\": {\"outlinewidth\": 0, \"ticks\": \"\"}, \"colorscale\": [[0.0, \"#0d0887\"], [0.1111111111111111, \"#46039f\"], [0.2222222222222222, \"#7201a8\"], [0.3333333333333333, \"#9c179e\"], [0.4444444444444444, \"#bd3786\"], [0.5555555555555556, \"#d8576b\"], [0.6666666666666666, \"#ed7953\"], [0.7777777777777778, \"#fb9f3a\"], [0.8888888888888888, \"#fdca26\"], [1.0, \"#f0f921\"]], \"type\": \"heatmapgl\"}], \"histogram\": [{\"marker\": {\"colorbar\": {\"outlinewidth\": 0, \"ticks\": \"\"}}, \"type\": \"histogram\"}], \"histogram2d\": [{\"colorbar\": {\"outlinewidth\": 0, \"ticks\": \"\"}, \"colorscale\": [[0.0, \"#0d0887\"], [0.1111111111111111, \"#46039f\"], [0.2222222222222222, \"#7201a8\"], [0.3333333333333333, \"#9c179e\"], [0.4444444444444444, \"#bd3786\"], [0.5555555555555556, \"#d8576b\"], [0.6666666666666666, \"#ed7953\"], [0.7777777777777778, \"#fb9f3a\"], [0.8888888888888888, \"#fdca26\"], [1.0, \"#f0f921\"]], \"type\": \"histogram2d\"}], \"histogram2dcontour\": [{\"colorbar\": {\"outlinewidth\": 0, \"ticks\": \"\"}, \"colorscale\": [[0.0, \"#0d0887\"], [0.1111111111111111, \"#46039f\"], [0.2222222222222222, \"#7201a8\"], [0.3333333333333333, \"#9c179e\"], [0.4444444444444444, \"#bd3786\"], [0.5555555555555556, \"#d8576b\"], [0.6666666666666666, \"#ed7953\"], [0.7777777777777778, \"#fb9f3a\"], [0.8888888888888888, \"#fdca26\"], [1.0, \"#f0f921\"]], \"type\": \"histogram2dcontour\"}], \"mesh3d\": [{\"colorbar\": {\"outlinewidth\": 0, \"ticks\": \"\"}, \"type\": \"mesh3d\"}], \"parcoords\": [{\"line\": {\"colorbar\": {\"outlinewidth\": 0, \"ticks\": \"\"}}, \"type\": \"parcoords\"}], \"pie\": [{\"automargin\": true, \"type\": \"pie\"}], \"scatter\": [{\"marker\": {\"colorbar\": {\"outlinewidth\": 0, \"ticks\": \"\"}}, \"type\": \"scatter\"}], \"scatter3d\": [{\"line\": {\"colorbar\": {\"outlinewidth\": 0, \"ticks\": \"\"}}, \"marker\": {\"colorbar\": {\"outlinewidth\": 0, \"ticks\": \"\"}}, \"type\": \"scatter3d\"}], \"scattercarpet\": [{\"marker\": {\"colorbar\": {\"outlinewidth\": 0, \"ticks\": \"\"}}, \"type\": \"scattercarpet\"}], \"scattergeo\": [{\"marker\": {\"colorbar\": {\"outlinewidth\": 0, \"ticks\": \"\"}}, \"type\": \"scattergeo\"}], \"scattergl\": [{\"marker\": {\"colorbar\": {\"outlinewidth\": 0, \"ticks\": \"\"}}, \"type\": \"scattergl\"}], \"scattermapbox\": [{\"marker\": {\"colorbar\": {\"outlinewidth\": 0, \"ticks\": \"\"}}, \"type\": \"scattermapbox\"}], \"scatterpolar\": [{\"marker\": {\"colorbar\": {\"outlinewidth\": 0, \"ticks\": \"\"}}, \"type\": \"scatterpolar\"}], \"scatterpolargl\": [{\"marker\": {\"colorbar\": {\"outlinewidth\": 0, \"ticks\": \"\"}}, \"type\": \"scatterpolargl\"}], \"scatterternary\": [{\"marker\": {\"colorbar\": {\"outlinewidth\": 0, \"ticks\": \"\"}}, \"type\": \"scatterternary\"}], \"surface\": [{\"colorbar\": {\"outlinewidth\": 0, \"ticks\": \"\"}, \"colorscale\": [[0.0, \"#0d0887\"], [0.1111111111111111, \"#46039f\"], [0.2222222222222222, \"#7201a8\"], [0.3333333333333333, \"#9c179e\"], [0.4444444444444444, \"#bd3786\"], [0.5555555555555556, \"#d8576b\"], [0.6666666666666666, \"#ed7953\"], [0.7777777777777778, \"#fb9f3a\"], [0.8888888888888888, \"#fdca26\"], [1.0, \"#f0f921\"]], \"type\": \"surface\"}], \"table\": [{\"cells\": {\"fill\": {\"color\": \"#EBF0F8\"}, \"line\": {\"color\": \"white\"}}, \"header\": {\"fill\": {\"color\": \"#C8D4E3\"}, \"line\": {\"color\": \"white\"}}, \"type\": \"table\"}]}, \"layout\": {\"annotationdefaults\": {\"arrowcolor\": \"#2a3f5f\", \"arrowhead\": 0, \"arrowwidth\": 1}, \"autotypenumbers\": \"strict\", \"coloraxis\": {\"colorbar\": {\"outlinewidth\": 0, \"ticks\": \"\"}}, \"colorscale\": {\"diverging\": [[0, \"#8e0152\"], [0.1, \"#c51b7d\"], [0.2, \"#de77ae\"], [0.3, \"#f1b6da\"], [0.4, \"#fde0ef\"], [0.5, \"#f7f7f7\"], [0.6, \"#e6f5d0\"], [0.7, \"#b8e186\"], [0.8, \"#7fbc41\"], [0.9, \"#4d9221\"], [1, \"#276419\"]], \"sequential\": [[0.0, \"#0d0887\"], [0.1111111111111111, \"#46039f\"], [0.2222222222222222, \"#7201a8\"], [0.3333333333333333, \"#9c179e\"], [0.4444444444444444, \"#bd3786\"], [0.5555555555555556, \"#d8576b\"], [0.6666666666666666, \"#ed7953\"], [0.7777777777777778, \"#fb9f3a\"], [0.8888888888888888, \"#fdca26\"], [1.0, \"#f0f921\"]], \"sequentialminus\": [[0.0, \"#0d0887\"], [0.1111111111111111, \"#46039f\"], [0.2222222222222222, \"#7201a8\"], [0.3333333333333333, \"#9c179e\"], [0.4444444444444444, \"#bd3786\"], [0.5555555555555556, \"#d8576b\"], [0.6666666666666666, \"#ed7953\"], [0.7777777777777778, \"#fb9f3a\"], [0.8888888888888888, \"#fdca26\"], [1.0, \"#f0f921\"]]}, \"colorway\": [\"#636efa\", \"#EF553B\", \"#00cc96\", \"#ab63fa\", \"#FFA15A\", \"#19d3f3\", \"#FF6692\", \"#B6E880\", \"#FF97FF\", \"#FECB52\"], \"font\": {\"color\": \"#2a3f5f\"}, \"geo\": {\"bgcolor\": \"white\", \"lakecolor\": \"white\", \"landcolor\": \"#E5ECF6\", \"showlakes\": true, \"showland\": true, \"subunitcolor\": \"white\"}, \"hoverlabel\": {\"align\": \"left\"}, \"hovermode\": \"closest\", \"mapbox\": {\"style\": \"light\"}, \"paper_bgcolor\": \"white\", \"plot_bgcolor\": \"#E5ECF6\", \"polar\": {\"angularaxis\": {\"gridcolor\": \"white\", \"linecolor\": \"white\", \"ticks\": \"\"}, \"bgcolor\": \"#E5ECF6\", \"radialaxis\": {\"gridcolor\": \"white\", \"linecolor\": \"white\", \"ticks\": \"\"}}, \"scene\": {\"xaxis\": {\"backgroundcolor\": \"#E5ECF6\", \"gridcolor\": \"white\", \"gridwidth\": 2, \"linecolor\": \"white\", \"showbackground\": true, \"ticks\": \"\", \"zerolinecolor\": \"white\"}, \"yaxis\": {\"backgroundcolor\": \"#E5ECF6\", \"gridcolor\": \"white\", \"gridwidth\": 2, \"linecolor\": \"white\", \"showbackground\": true, \"ticks\": \"\", \"zerolinecolor\": \"white\"}, \"zaxis\": {\"backgroundcolor\": \"#E5ECF6\", \"gridcolor\": \"white\", \"gridwidth\": 2, \"linecolor\": \"white\", \"showbackground\": true, \"ticks\": \"\", \"zerolinecolor\": \"white\"}}, \"shapedefaults\": {\"line\": {\"color\": \"#2a3f5f\"}}, \"ternary\": {\"aaxis\": {\"gridcolor\": \"white\", \"linecolor\": \"white\", \"ticks\": \"\"}, \"baxis\": {\"gridcolor\": \"white\", \"linecolor\": \"white\", \"ticks\": \"\"}, \"bgcolor\": \"#E5ECF6\", \"caxis\": {\"gridcolor\": \"white\", \"linecolor\": \"white\", \"ticks\": \"\"}}, \"title\": {\"x\": 0.05}, \"xaxis\": {\"automargin\": true, \"gridcolor\": \"white\", \"linecolor\": \"white\", \"ticks\": \"\", \"title\": {\"standoff\": 15}, \"zerolinecolor\": \"white\", \"zerolinewidth\": 2}, \"yaxis\": {\"automargin\": true, \"gridcolor\": \"white\", \"linecolor\": \"white\", \"ticks\": \"\", \"title\": {\"standoff\": 15}, \"zerolinecolor\": \"white\", \"zerolinewidth\": 2}}}, \"title\": {\"text\": \"% Variation of Spend and Impressions across channels for July and Aug 2019\"}, \"xaxis\": {\"title\": {\"text\": \"Channel\"}}, \"yaxis\": {\"title\": {\"text\": \"Percentage(%)\"}}},                        {\"responsive\": true}                    ).then(function(){\n",
       "                            \n",
       "var gd = document.getElementById('b80f22b7-5286-435e-9fc8-bca439e71b94');\n",
       "var x = new MutationObserver(function (mutations, observer) {{\n",
       "        var display = window.getComputedStyle(gd).display;\n",
       "        if (!display || display === 'none') {{\n",
       "            console.log([gd, 'removed!']);\n",
       "            Plotly.purge(gd);\n",
       "            observer.disconnect();\n",
       "        }}\n",
       "}});\n",
       "\n",
       "// Listen for the removal of the full notebook cells\n",
       "var notebookContainer = gd.closest('#notebook-container');\n",
       "if (notebookContainer) {{\n",
       "    x.observe(notebookContainer, {childList: true});\n",
       "}}\n",
       "\n",
       "// Listen for the clearing of the current output cell\n",
       "var outputEl = gd.closest('.output');\n",
       "if (outputEl) {{\n",
       "    x.observe(outputEl, {childList: true});\n",
       "}}\n",
       "\n",
       "                        })                };                });            </script>        </div>"
      ]
     },
     "metadata": {},
     "output_type": "display_data"
    }
   ],
   "source": [
    "fig = go.Figure(data=[go.Bar(name=\"%Spend\",\n",
    "            x=df_july_aug_plot['Channel'], y=df_july_aug_plot['PCT_Spend'].round(0),text=df_july_aug_plot['PCT_Spend'].round(0),\n",
    "            textposition='auto',marker=dict(\n",
    "        color='rgba(10, 78, 139, 0.6)',\n",
    "        line=dict(color='rgba(10, 78, 139, 1.0)', width=3))\n",
    "                            ),\n",
    "            go.Bar(name=\"%Impression\",\n",
    "            x=df_july_aug_plot['Channel'], y=df_july_aug_plot['PCT_Impression'].round(0),text=df_july_aug_plot['PCT_Impression'].round(0),\n",
    "            textposition='auto',marker=dict(\n",
    "        color='rgba(58, 71, 80, 0.6)',\n",
    "        line=dict(color='rgba(58, 71, 80, 1.0)', width=3)\n",
    "    )\n",
    "                  \n",
    "                  ),          \n",
    "            \n",
    "        ])\n",
    "\n",
    "fig.update_layout(title=\"% Variation of Spend and Impressions across channels for July and Aug 2019\",\n",
    "    yaxis_title=\"Percentage(%)\",xaxis_title=\"Channel\",barmode='group')\n",
    "fig.show()"
   ]
  }
 ],
 "metadata": {
  "kernelspec": {
   "display_name": "Python 3",
   "language": "python",
   "name": "python3"
  },
  "language_info": {
   "codemirror_mode": {
    "name": "ipython",
    "version": 3
   },
   "file_extension": ".py",
   "mimetype": "text/x-python",
   "name": "python",
   "nbconvert_exporter": "python",
   "pygments_lexer": "ipython3",
   "version": "3.8.8"
  }
 },
 "nbformat": 4,
 "nbformat_minor": 5
}
