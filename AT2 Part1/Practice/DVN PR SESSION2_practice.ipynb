{
 "cells": [
  {
   "cell_type": "markdown",
   "metadata": {},
   "source": [
    "## Import libraries"
   ]
  },
  {
   "cell_type": "code",
   "execution_count": 1,
   "metadata": {},
   "outputs": [],
   "source": [
    "import pandas as pd\n",
    "\n",
    "import matplotlib.pyplot as plt\n",
    "%matplotlib inline"
   ]
  },
  {
   "cell_type": "markdown",
   "metadata": {},
   "source": [
    "## Load data"
   ]
  },
  {
   "cell_type": "code",
   "execution_count": 19,
   "metadata": {},
   "outputs": [],
   "source": [
    "#path=\"Data/\"\n",
    "#file=\"Data_PV_SP_IMP.xlsx\"\n",
    "#df=pd.read_excel(path+file)\n",
    "\n",
    "\n",
    "df = pd.read_excel('/home/shiva/Documents/UTS/02_Courses/DVN/AT2 Part1/Data/Data_PV_SP_IMP.xlsx')\n",
    "#,parse_dates=['Date']) "
   ]
  },
  {
   "cell_type": "code",
   "execution_count": 20,
   "metadata": {},
   "outputs": [
    {
     "data": {
      "text/plain": [
       "Date          datetime64[ns]\n",
       "Hour                   int64\n",
       "Page Views             int64\n",
       "Weekday               object\n",
       "Month                 object\n",
       "NetA_imp               int64\n",
       "NetA_spd               int64\n",
       "NetB_imp               int64\n",
       "NetB_spd               int64\n",
       "dtype: object"
      ]
     },
     "execution_count": 20,
     "metadata": {},
     "output_type": "execute_result"
    }
   ],
   "source": [
    "df.dtypes"
   ]
  },
  {
   "cell_type": "code",
   "execution_count": 21,
   "metadata": {},
   "outputs": [
    {
     "data": {
      "text/plain": [
       "Timestamp('2019-07-07 00:00:00')"
      ]
     },
     "execution_count": 21,
     "metadata": {},
     "output_type": "execute_result"
    }
   ],
   "source": [
    "df.Date[4]"
   ]
  },
  {
   "cell_type": "code",
   "execution_count": 22,
   "metadata": {},
   "outputs": [],
   "source": [
    "df['Date']=df.Date.apply(lambda x: x.strftime(format=\"%Y-%m-%d\"))"
   ]
  },
  {
   "cell_type": "code",
   "execution_count": 23,
   "metadata": {},
   "outputs": [
    {
     "data": {
      "text/html": [
       "<div>\n",
       "<style scoped>\n",
       "    .dataframe tbody tr th:only-of-type {\n",
       "        vertical-align: middle;\n",
       "    }\n",
       "\n",
       "    .dataframe tbody tr th {\n",
       "        vertical-align: top;\n",
       "    }\n",
       "\n",
       "    .dataframe thead th {\n",
       "        text-align: right;\n",
       "    }\n",
       "</style>\n",
       "<table border=\"1\" class=\"dataframe\">\n",
       "  <thead>\n",
       "    <tr style=\"text-align: right;\">\n",
       "      <th></th>\n",
       "      <th>Date</th>\n",
       "      <th>Hour</th>\n",
       "      <th>Page Views</th>\n",
       "      <th>Weekday</th>\n",
       "      <th>Month</th>\n",
       "      <th>NetA_imp</th>\n",
       "      <th>NetA_spd</th>\n",
       "      <th>NetB_imp</th>\n",
       "      <th>NetB_spd</th>\n",
       "    </tr>\n",
       "  </thead>\n",
       "  <tbody>\n",
       "    <tr>\n",
       "      <th>0</th>\n",
       "      <td>2019-07-07</td>\n",
       "      <td>0</td>\n",
       "      <td>62</td>\n",
       "      <td>Sun</td>\n",
       "      <td>Jul</td>\n",
       "      <td>11</td>\n",
       "      <td>0</td>\n",
       "      <td>32</td>\n",
       "      <td>0</td>\n",
       "    </tr>\n",
       "    <tr>\n",
       "      <th>1</th>\n",
       "      <td>2019-07-07</td>\n",
       "      <td>1</td>\n",
       "      <td>33</td>\n",
       "      <td>Sun</td>\n",
       "      <td>Jul</td>\n",
       "      <td>0</td>\n",
       "      <td>0</td>\n",
       "      <td>10</td>\n",
       "      <td>0</td>\n",
       "    </tr>\n",
       "    <tr>\n",
       "      <th>2</th>\n",
       "      <td>2019-07-07</td>\n",
       "      <td>2</td>\n",
       "      <td>15</td>\n",
       "      <td>Sun</td>\n",
       "      <td>Jul</td>\n",
       "      <td>0</td>\n",
       "      <td>0</td>\n",
       "      <td>16</td>\n",
       "      <td>0</td>\n",
       "    </tr>\n",
       "    <tr>\n",
       "      <th>3</th>\n",
       "      <td>2019-07-07</td>\n",
       "      <td>3</td>\n",
       "      <td>17</td>\n",
       "      <td>Sun</td>\n",
       "      <td>Jul</td>\n",
       "      <td>0</td>\n",
       "      <td>0</td>\n",
       "      <td>18</td>\n",
       "      <td>0</td>\n",
       "    </tr>\n",
       "    <tr>\n",
       "      <th>4</th>\n",
       "      <td>2019-07-07</td>\n",
       "      <td>4</td>\n",
       "      <td>12</td>\n",
       "      <td>Sun</td>\n",
       "      <td>Jul</td>\n",
       "      <td>0</td>\n",
       "      <td>0</td>\n",
       "      <td>9</td>\n",
       "      <td>0</td>\n",
       "    </tr>\n",
       "    <tr>\n",
       "      <th>...</th>\n",
       "      <td>...</td>\n",
       "      <td>...</td>\n",
       "      <td>...</td>\n",
       "      <td>...</td>\n",
       "      <td>...</td>\n",
       "      <td>...</td>\n",
       "      <td>...</td>\n",
       "      <td>...</td>\n",
       "      <td>...</td>\n",
       "    </tr>\n",
       "    <tr>\n",
       "      <th>1171</th>\n",
       "      <td>2019-08-24</td>\n",
       "      <td>19</td>\n",
       "      <td>148</td>\n",
       "      <td>Sat</td>\n",
       "      <td>Aug</td>\n",
       "      <td>0</td>\n",
       "      <td>0</td>\n",
       "      <td>25</td>\n",
       "      <td>656</td>\n",
       "    </tr>\n",
       "    <tr>\n",
       "      <th>1172</th>\n",
       "      <td>2019-08-24</td>\n",
       "      <td>20</td>\n",
       "      <td>153</td>\n",
       "      <td>Sat</td>\n",
       "      <td>Aug</td>\n",
       "      <td>1</td>\n",
       "      <td>60</td>\n",
       "      <td>0</td>\n",
       "      <td>0</td>\n",
       "    </tr>\n",
       "    <tr>\n",
       "      <th>1173</th>\n",
       "      <td>2019-08-24</td>\n",
       "      <td>21</td>\n",
       "      <td>134</td>\n",
       "      <td>Sat</td>\n",
       "      <td>Aug</td>\n",
       "      <td>57</td>\n",
       "      <td>1418</td>\n",
       "      <td>14</td>\n",
       "      <td>935</td>\n",
       "    </tr>\n",
       "    <tr>\n",
       "      <th>1174</th>\n",
       "      <td>2019-08-24</td>\n",
       "      <td>22</td>\n",
       "      <td>89</td>\n",
       "      <td>Sat</td>\n",
       "      <td>Aug</td>\n",
       "      <td>0</td>\n",
       "      <td>0</td>\n",
       "      <td>15</td>\n",
       "      <td>0</td>\n",
       "    </tr>\n",
       "    <tr>\n",
       "      <th>1175</th>\n",
       "      <td>2019-08-24</td>\n",
       "      <td>23</td>\n",
       "      <td>73</td>\n",
       "      <td>Sat</td>\n",
       "      <td>Aug</td>\n",
       "      <td>8</td>\n",
       "      <td>320</td>\n",
       "      <td>0</td>\n",
       "      <td>0</td>\n",
       "    </tr>\n",
       "  </tbody>\n",
       "</table>\n",
       "<p>1176 rows × 9 columns</p>\n",
       "</div>"
      ],
      "text/plain": [
       "            Date  Hour  Page Views Weekday Month  NetA_imp  NetA_spd  \\\n",
       "0     2019-07-07     0          62     Sun   Jul        11         0   \n",
       "1     2019-07-07     1          33     Sun   Jul         0         0   \n",
       "2     2019-07-07     2          15     Sun   Jul         0         0   \n",
       "3     2019-07-07     3          17     Sun   Jul         0         0   \n",
       "4     2019-07-07     4          12     Sun   Jul         0         0   \n",
       "...          ...   ...         ...     ...   ...       ...       ...   \n",
       "1171  2019-08-24    19         148     Sat   Aug         0         0   \n",
       "1172  2019-08-24    20         153     Sat   Aug         1        60   \n",
       "1173  2019-08-24    21         134     Sat   Aug        57      1418   \n",
       "1174  2019-08-24    22          89     Sat   Aug         0         0   \n",
       "1175  2019-08-24    23          73     Sat   Aug         8       320   \n",
       "\n",
       "      NetB_imp  NetB_spd  \n",
       "0           32         0  \n",
       "1           10         0  \n",
       "2           16         0  \n",
       "3           18         0  \n",
       "4            9         0  \n",
       "...        ...       ...  \n",
       "1171        25       656  \n",
       "1172         0         0  \n",
       "1173        14       935  \n",
       "1174        15         0  \n",
       "1175         0         0  \n",
       "\n",
       "[1176 rows x 9 columns]"
      ]
     },
     "execution_count": 23,
     "metadata": {},
     "output_type": "execute_result"
    }
   ],
   "source": [
    "df"
   ]
  },
  {
   "cell_type": "markdown",
   "metadata": {},
   "source": [
    "## Static plots using matplotlib"
   ]
  },
  {
   "cell_type": "raw",
   "metadata": {},
   "source": [
    "Demonstration: line and bar plots "
   ]
  },
  {
   "cell_type": "code",
   "execution_count": 7,
   "metadata": {},
   "outputs": [
    {
     "data": {
      "text/html": [
       "<div>\n",
       "<style scoped>\n",
       "    .dataframe tbody tr th:only-of-type {\n",
       "        vertical-align: middle;\n",
       "    }\n",
       "\n",
       "    .dataframe tbody tr th {\n",
       "        vertical-align: top;\n",
       "    }\n",
       "\n",
       "    .dataframe thead th {\n",
       "        text-align: right;\n",
       "    }\n",
       "</style>\n",
       "<table border=\"1\" class=\"dataframe\">\n",
       "  <thead>\n",
       "    <tr style=\"text-align: right;\">\n",
       "      <th></th>\n",
       "      <th>Date</th>\n",
       "      <th>Hour</th>\n",
       "      <th>Page Views</th>\n",
       "      <th>Weekday</th>\n",
       "      <th>Month</th>\n",
       "      <th>NetA_imp</th>\n",
       "      <th>NetA_spd</th>\n",
       "      <th>NetB_imp</th>\n",
       "      <th>NetB_spd</th>\n",
       "    </tr>\n",
       "  </thead>\n",
       "  <tbody>\n",
       "    <tr>\n",
       "      <th>0</th>\n",
       "      <td>2019-07-07</td>\n",
       "      <td>0</td>\n",
       "      <td>62</td>\n",
       "      <td>Sun</td>\n",
       "      <td>Jul</td>\n",
       "      <td>11</td>\n",
       "      <td>0</td>\n",
       "      <td>32</td>\n",
       "      <td>0</td>\n",
       "    </tr>\n",
       "    <tr>\n",
       "      <th>1</th>\n",
       "      <td>2019-07-07</td>\n",
       "      <td>1</td>\n",
       "      <td>33</td>\n",
       "      <td>Sun</td>\n",
       "      <td>Jul</td>\n",
       "      <td>0</td>\n",
       "      <td>0</td>\n",
       "      <td>10</td>\n",
       "      <td>0</td>\n",
       "    </tr>\n",
       "    <tr>\n",
       "      <th>2</th>\n",
       "      <td>2019-07-07</td>\n",
       "      <td>2</td>\n",
       "      <td>15</td>\n",
       "      <td>Sun</td>\n",
       "      <td>Jul</td>\n",
       "      <td>0</td>\n",
       "      <td>0</td>\n",
       "      <td>16</td>\n",
       "      <td>0</td>\n",
       "    </tr>\n",
       "    <tr>\n",
       "      <th>3</th>\n",
       "      <td>2019-07-07</td>\n",
       "      <td>3</td>\n",
       "      <td>17</td>\n",
       "      <td>Sun</td>\n",
       "      <td>Jul</td>\n",
       "      <td>0</td>\n",
       "      <td>0</td>\n",
       "      <td>18</td>\n",
       "      <td>0</td>\n",
       "    </tr>\n",
       "    <tr>\n",
       "      <th>4</th>\n",
       "      <td>2019-07-07</td>\n",
       "      <td>4</td>\n",
       "      <td>12</td>\n",
       "      <td>Sun</td>\n",
       "      <td>Jul</td>\n",
       "      <td>0</td>\n",
       "      <td>0</td>\n",
       "      <td>9</td>\n",
       "      <td>0</td>\n",
       "    </tr>\n",
       "  </tbody>\n",
       "</table>\n",
       "</div>"
      ],
      "text/plain": [
       "         Date  Hour  Page Views Weekday Month  NetA_imp  NetA_spd  NetB_imp  \\\n",
       "0  2019-07-07     0          62     Sun   Jul        11         0        32   \n",
       "1  2019-07-07     1          33     Sun   Jul         0         0        10   \n",
       "2  2019-07-07     2          15     Sun   Jul         0         0        16   \n",
       "3  2019-07-07     3          17     Sun   Jul         0         0        18   \n",
       "4  2019-07-07     4          12     Sun   Jul         0         0         9   \n",
       "\n",
       "   NetB_spd  \n",
       "0         0  \n",
       "1         0  \n",
       "2         0  \n",
       "3         0  \n",
       "4         0  "
      ]
     },
     "execution_count": 7,
     "metadata": {},
     "output_type": "execute_result"
    }
   ],
   "source": [
    "df.head()"
   ]
  },
  {
   "cell_type": "code",
   "execution_count": 8,
   "metadata": {},
   "outputs": [],
   "source": [
    "## to plot Date along x axis\n",
    "df.set_index('Date', inplace=True)"
   ]
  },
  {
   "cell_type": "markdown",
   "metadata": {},
   "source": [
    "### Line plot"
   ]
  },
  {
   "cell_type": "code",
   "execution_count": 23,
   "metadata": {},
   "outputs": [
    {
     "data": {
      "image/png": "[encoded data removed]",
      "text/plain": [
       "<Figure size 576x288 with 1 Axes>"
      ]
     },
     "metadata": {
      "needs_background": "light"
     },
     "output_type": "display_data"
    }
   ],
   "source": [
    "fig, ax=plt.subplots(figsize = (8,4))\n",
    "ax = df[['Page Views', 'NetA_imp']].plot(ax=ax,kind='line',marker='')\n",
    "ax.set_ylabel('Value')\n",
    "plt.title('Impressions vs Page views')\n",
    "#plt.savefig(path+'test00.png')\n",
    "#plt.grid()\n",
    "plt.show()"
   ]
  },
  {
   "cell_type": "code",
   "execution_count": 10,
   "metadata": {},
   "outputs": [
    {
     "data": {
      "text/html": [
       "<div>\n",
       "<style scoped>\n",
       "    .dataframe tbody tr th:only-of-type {\n",
       "        vertical-align: middle;\n",
       "    }\n",
       "\n",
       "    .dataframe tbody tr th {\n",
       "        vertical-align: top;\n",
       "    }\n",
       "\n",
       "    .dataframe thead th {\n",
       "        text-align: right;\n",
       "    }\n",
       "</style>\n",
       "<table border=\"1\" class=\"dataframe\">\n",
       "  <thead>\n",
       "    <tr style=\"text-align: right;\">\n",
       "      <th></th>\n",
       "      <th>Date</th>\n",
       "      <th>Page Views</th>\n",
       "      <th>NetA_imp</th>\n",
       "      <th>NetA_spd</th>\n",
       "      <th>NetB_imp</th>\n",
       "      <th>NetB_spd</th>\n",
       "    </tr>\n",
       "  </thead>\n",
       "  <tbody>\n",
       "    <tr>\n",
       "      <th>0</th>\n",
       "      <td>2019-07-07</td>\n",
       "      <td>3363</td>\n",
       "      <td>421</td>\n",
       "      <td>159</td>\n",
       "      <td>381</td>\n",
       "      <td>176</td>\n",
       "    </tr>\n",
       "    <tr>\n",
       "      <th>1</th>\n",
       "      <td>2019-07-08</td>\n",
       "      <td>4160</td>\n",
       "      <td>392</td>\n",
       "      <td>1066</td>\n",
       "      <td>316</td>\n",
       "      <td>774</td>\n",
       "    </tr>\n",
       "    <tr>\n",
       "      <th>2</th>\n",
       "      <td>2019-07-09</td>\n",
       "      <td>3619</td>\n",
       "      <td>756</td>\n",
       "      <td>877</td>\n",
       "      <td>671</td>\n",
       "      <td>5010</td>\n",
       "    </tr>\n",
       "    <tr>\n",
       "      <th>3</th>\n",
       "      <td>2019-07-10</td>\n",
       "      <td>3474</td>\n",
       "      <td>128</td>\n",
       "      <td>130</td>\n",
       "      <td>401</td>\n",
       "      <td>492</td>\n",
       "    </tr>\n",
       "    <tr>\n",
       "      <th>4</th>\n",
       "      <td>2019-07-11</td>\n",
       "      <td>3547</td>\n",
       "      <td>154</td>\n",
       "      <td>1994</td>\n",
       "      <td>182</td>\n",
       "      <td>230</td>\n",
       "    </tr>\n",
       "    <tr>\n",
       "      <th>5</th>\n",
       "      <td>2019-07-12</td>\n",
       "      <td>3277</td>\n",
       "      <td>104</td>\n",
       "      <td>4740</td>\n",
       "      <td>365</td>\n",
       "      <td>1408</td>\n",
       "    </tr>\n",
       "    <tr>\n",
       "      <th>6</th>\n",
       "      <td>2019-07-13</td>\n",
       "      <td>3332</td>\n",
       "      <td>65</td>\n",
       "      <td>993</td>\n",
       "      <td>450</td>\n",
       "      <td>1841</td>\n",
       "    </tr>\n",
       "    <tr>\n",
       "      <th>7</th>\n",
       "      <td>2019-07-14</td>\n",
       "      <td>3858</td>\n",
       "      <td>155</td>\n",
       "      <td>938</td>\n",
       "      <td>35</td>\n",
       "      <td>878</td>\n",
       "    </tr>\n",
       "    <tr>\n",
       "      <th>8</th>\n",
       "      <td>2019-07-15</td>\n",
       "      <td>4918</td>\n",
       "      <td>108</td>\n",
       "      <td>1777</td>\n",
       "      <td>63</td>\n",
       "      <td>2431</td>\n",
       "    </tr>\n",
       "    <tr>\n",
       "      <th>9</th>\n",
       "      <td>2019-07-16</td>\n",
       "      <td>3939</td>\n",
       "      <td>117</td>\n",
       "      <td>974</td>\n",
       "      <td>2</td>\n",
       "      <td>73</td>\n",
       "    </tr>\n",
       "    <tr>\n",
       "      <th>10</th>\n",
       "      <td>2019-07-17</td>\n",
       "      <td>3763</td>\n",
       "      <td>185</td>\n",
       "      <td>4935</td>\n",
       "      <td>54</td>\n",
       "      <td>911</td>\n",
       "    </tr>\n",
       "    <tr>\n",
       "      <th>11</th>\n",
       "      <td>2019-07-18</td>\n",
       "      <td>3691</td>\n",
       "      <td>212</td>\n",
       "      <td>2697</td>\n",
       "      <td>38</td>\n",
       "      <td>852</td>\n",
       "    </tr>\n",
       "    <tr>\n",
       "      <th>12</th>\n",
       "      <td>2019-07-19</td>\n",
       "      <td>3538</td>\n",
       "      <td>64</td>\n",
       "      <td>0</td>\n",
       "      <td>50</td>\n",
       "      <td>1845</td>\n",
       "    </tr>\n",
       "    <tr>\n",
       "      <th>13</th>\n",
       "      <td>2019-07-20</td>\n",
       "      <td>3430</td>\n",
       "      <td>155</td>\n",
       "      <td>210</td>\n",
       "      <td>54</td>\n",
       "      <td>1615</td>\n",
       "    </tr>\n",
       "    <tr>\n",
       "      <th>14</th>\n",
       "      <td>2019-07-21</td>\n",
       "      <td>3841</td>\n",
       "      <td>62</td>\n",
       "      <td>827</td>\n",
       "      <td>103</td>\n",
       "      <td>3341</td>\n",
       "    </tr>\n",
       "    <tr>\n",
       "      <th>15</th>\n",
       "      <td>2019-07-22</td>\n",
       "      <td>4199</td>\n",
       "      <td>118</td>\n",
       "      <td>4927</td>\n",
       "      <td>94</td>\n",
       "      <td>3398</td>\n",
       "    </tr>\n",
       "    <tr>\n",
       "      <th>16</th>\n",
       "      <td>2019-07-23</td>\n",
       "      <td>3770</td>\n",
       "      <td>23</td>\n",
       "      <td>426</td>\n",
       "      <td>73</td>\n",
       "      <td>2768</td>\n",
       "    </tr>\n",
       "    <tr>\n",
       "      <th>17</th>\n",
       "      <td>2019-07-24</td>\n",
       "      <td>3458</td>\n",
       "      <td>62</td>\n",
       "      <td>3037</td>\n",
       "      <td>100</td>\n",
       "      <td>2825</td>\n",
       "    </tr>\n",
       "    <tr>\n",
       "      <th>18</th>\n",
       "      <td>2019-07-25</td>\n",
       "      <td>3631</td>\n",
       "      <td>26</td>\n",
       "      <td>939</td>\n",
       "      <td>20</td>\n",
       "      <td>362</td>\n",
       "    </tr>\n",
       "    <tr>\n",
       "      <th>19</th>\n",
       "      <td>2019-07-26</td>\n",
       "      <td>3367</td>\n",
       "      <td>31</td>\n",
       "      <td>530</td>\n",
       "      <td>80</td>\n",
       "      <td>3123</td>\n",
       "    </tr>\n",
       "    <tr>\n",
       "      <th>20</th>\n",
       "      <td>2019-07-27</td>\n",
       "      <td>3410</td>\n",
       "      <td>49</td>\n",
       "      <td>567</td>\n",
       "      <td>47</td>\n",
       "      <td>993</td>\n",
       "    </tr>\n",
       "    <tr>\n",
       "      <th>21</th>\n",
       "      <td>2019-07-28</td>\n",
       "      <td>3646</td>\n",
       "      <td>67</td>\n",
       "      <td>3455</td>\n",
       "      <td>63</td>\n",
       "      <td>3291</td>\n",
       "    </tr>\n",
       "    <tr>\n",
       "      <th>22</th>\n",
       "      <td>2019-07-29</td>\n",
       "      <td>3475</td>\n",
       "      <td>110</td>\n",
       "      <td>5890</td>\n",
       "      <td>80</td>\n",
       "      <td>3622</td>\n",
       "    </tr>\n",
       "    <tr>\n",
       "      <th>23</th>\n",
       "      <td>2019-07-30</td>\n",
       "      <td>3087</td>\n",
       "      <td>21</td>\n",
       "      <td>678</td>\n",
       "      <td>81</td>\n",
       "      <td>3903</td>\n",
       "    </tr>\n",
       "    <tr>\n",
       "      <th>24</th>\n",
       "      <td>2019-07-31</td>\n",
       "      <td>2754</td>\n",
       "      <td>30</td>\n",
       "      <td>1264</td>\n",
       "      <td>47</td>\n",
       "      <td>1638</td>\n",
       "    </tr>\n",
       "    <tr>\n",
       "      <th>25</th>\n",
       "      <td>2019-08-01</td>\n",
       "      <td>2783</td>\n",
       "      <td>2</td>\n",
       "      <td>137</td>\n",
       "      <td>33</td>\n",
       "      <td>913</td>\n",
       "    </tr>\n",
       "    <tr>\n",
       "      <th>26</th>\n",
       "      <td>2019-08-02</td>\n",
       "      <td>2658</td>\n",
       "      <td>40</td>\n",
       "      <td>823</td>\n",
       "      <td>0</td>\n",
       "      <td>0</td>\n",
       "    </tr>\n",
       "    <tr>\n",
       "      <th>27</th>\n",
       "      <td>2019-08-03</td>\n",
       "      <td>2748</td>\n",
       "      <td>21</td>\n",
       "      <td>405</td>\n",
       "      <td>42</td>\n",
       "      <td>1170</td>\n",
       "    </tr>\n",
       "    <tr>\n",
       "      <th>28</th>\n",
       "      <td>2019-08-04</td>\n",
       "      <td>3000</td>\n",
       "      <td>83</td>\n",
       "      <td>2134</td>\n",
       "      <td>56</td>\n",
       "      <td>2018</td>\n",
       "    </tr>\n",
       "    <tr>\n",
       "      <th>29</th>\n",
       "      <td>2019-08-05</td>\n",
       "      <td>3256</td>\n",
       "      <td>146</td>\n",
       "      <td>4025</td>\n",
       "      <td>218</td>\n",
       "      <td>7783</td>\n",
       "    </tr>\n",
       "    <tr>\n",
       "      <th>30</th>\n",
       "      <td>2019-08-06</td>\n",
       "      <td>2865</td>\n",
       "      <td>51</td>\n",
       "      <td>1363</td>\n",
       "      <td>170</td>\n",
       "      <td>5257</td>\n",
       "    </tr>\n",
       "    <tr>\n",
       "      <th>31</th>\n",
       "      <td>2019-08-07</td>\n",
       "      <td>2693</td>\n",
       "      <td>84</td>\n",
       "      <td>2316</td>\n",
       "      <td>129</td>\n",
       "      <td>5960</td>\n",
       "    </tr>\n",
       "    <tr>\n",
       "      <th>32</th>\n",
       "      <td>2019-08-08</td>\n",
       "      <td>2629</td>\n",
       "      <td>193</td>\n",
       "      <td>10376</td>\n",
       "      <td>117</td>\n",
       "      <td>2744</td>\n",
       "    </tr>\n",
       "    <tr>\n",
       "      <th>33</th>\n",
       "      <td>2019-08-09</td>\n",
       "      <td>2922</td>\n",
       "      <td>49</td>\n",
       "      <td>1215</td>\n",
       "      <td>134</td>\n",
       "      <td>3807</td>\n",
       "    </tr>\n",
       "    <tr>\n",
       "      <th>34</th>\n",
       "      <td>2019-08-10</td>\n",
       "      <td>2873</td>\n",
       "      <td>78</td>\n",
       "      <td>1578</td>\n",
       "      <td>90</td>\n",
       "      <td>1345</td>\n",
       "    </tr>\n",
       "    <tr>\n",
       "      <th>35</th>\n",
       "      <td>2019-08-11</td>\n",
       "      <td>3057</td>\n",
       "      <td>158</td>\n",
       "      <td>6856</td>\n",
       "      <td>44</td>\n",
       "      <td>1081</td>\n",
       "    </tr>\n",
       "    <tr>\n",
       "      <th>36</th>\n",
       "      <td>2019-08-12</td>\n",
       "      <td>3357</td>\n",
       "      <td>196</td>\n",
       "      <td>4946</td>\n",
       "      <td>130</td>\n",
       "      <td>3585</td>\n",
       "    </tr>\n",
       "    <tr>\n",
       "      <th>37</th>\n",
       "      <td>2019-08-13</td>\n",
       "      <td>3013</td>\n",
       "      <td>94</td>\n",
       "      <td>3042</td>\n",
       "      <td>187</td>\n",
       "      <td>5702</td>\n",
       "    </tr>\n",
       "    <tr>\n",
       "      <th>38</th>\n",
       "      <td>2019-08-14</td>\n",
       "      <td>3542</td>\n",
       "      <td>72</td>\n",
       "      <td>1472</td>\n",
       "      <td>178</td>\n",
       "      <td>5270</td>\n",
       "    </tr>\n",
       "    <tr>\n",
       "      <th>39</th>\n",
       "      <td>2019-08-15</td>\n",
       "      <td>3093</td>\n",
       "      <td>208</td>\n",
       "      <td>8595</td>\n",
       "      <td>111</td>\n",
       "      <td>2740</td>\n",
       "    </tr>\n",
       "    <tr>\n",
       "      <th>40</th>\n",
       "      <td>2019-08-16</td>\n",
       "      <td>2714</td>\n",
       "      <td>24</td>\n",
       "      <td>607</td>\n",
       "      <td>110</td>\n",
       "      <td>4937</td>\n",
       "    </tr>\n",
       "    <tr>\n",
       "      <th>41</th>\n",
       "      <td>2019-08-17</td>\n",
       "      <td>2809</td>\n",
       "      <td>52</td>\n",
       "      <td>465</td>\n",
       "      <td>123</td>\n",
       "      <td>3524</td>\n",
       "    </tr>\n",
       "    <tr>\n",
       "      <th>42</th>\n",
       "      <td>2019-08-18</td>\n",
       "      <td>3113</td>\n",
       "      <td>185</td>\n",
       "      <td>6226</td>\n",
       "      <td>156</td>\n",
       "      <td>6690</td>\n",
       "    </tr>\n",
       "    <tr>\n",
       "      <th>43</th>\n",
       "      <td>2019-08-19</td>\n",
       "      <td>3486</td>\n",
       "      <td>154</td>\n",
       "      <td>6174</td>\n",
       "      <td>103</td>\n",
       "      <td>3473</td>\n",
       "    </tr>\n",
       "    <tr>\n",
       "      <th>44</th>\n",
       "      <td>2019-08-20</td>\n",
       "      <td>3425</td>\n",
       "      <td>71</td>\n",
       "      <td>2144</td>\n",
       "      <td>134</td>\n",
       "      <td>6624</td>\n",
       "    </tr>\n",
       "    <tr>\n",
       "      <th>45</th>\n",
       "      <td>2019-08-21</td>\n",
       "      <td>4066</td>\n",
       "      <td>70</td>\n",
       "      <td>1663</td>\n",
       "      <td>136</td>\n",
       "      <td>2576</td>\n",
       "    </tr>\n",
       "    <tr>\n",
       "      <th>46</th>\n",
       "      <td>2019-08-22</td>\n",
       "      <td>3167</td>\n",
       "      <td>84</td>\n",
       "      <td>2534</td>\n",
       "      <td>227</td>\n",
       "      <td>6867</td>\n",
       "    </tr>\n",
       "    <tr>\n",
       "      <th>47</th>\n",
       "      <td>2019-08-23</td>\n",
       "      <td>3031</td>\n",
       "      <td>140</td>\n",
       "      <td>6518</td>\n",
       "      <td>71</td>\n",
       "      <td>2432</td>\n",
       "    </tr>\n",
       "    <tr>\n",
       "      <th>48</th>\n",
       "      <td>2019-08-24</td>\n",
       "      <td>3107</td>\n",
       "      <td>94</td>\n",
       "      <td>2598</td>\n",
       "      <td>139</td>\n",
       "      <td>3953</td>\n",
       "    </tr>\n",
       "  </tbody>\n",
       "</table>\n",
       "</div>"
      ],
      "text/plain": [
       "          Date  Page Views  NetA_imp  NetA_spd  NetB_imp  NetB_spd\n",
       "0   2019-07-07        3363       421       159       381       176\n",
       "1   2019-07-08        4160       392      1066       316       774\n",
       "2   2019-07-09        3619       756       877       671      5010\n",
       "3   2019-07-10        3474       128       130       401       492\n",
       "4   2019-07-11        3547       154      1994       182       230\n",
       "5   2019-07-12        3277       104      4740       365      1408\n",
       "6   2019-07-13        3332        65       993       450      1841\n",
       "7   2019-07-14        3858       155       938        35       878\n",
       "8   2019-07-15        4918       108      1777        63      2431\n",
       "9   2019-07-16        3939       117       974         2        73\n",
       "10  2019-07-17        3763       185      4935        54       911\n",
       "11  2019-07-18        3691       212      2697        38       852\n",
       "12  2019-07-19        3538        64         0        50      1845\n",
       "13  2019-07-20        3430       155       210        54      1615\n",
       "14  2019-07-21        3841        62       827       103      3341\n",
       "15  2019-07-22        4199       118      4927        94      3398\n",
       "16  2019-07-23        3770        23       426        73      2768\n",
       "17  2019-07-24        3458        62      3037       100      2825\n",
       "18  2019-07-25        3631        26       939        20       362\n",
       "19  2019-07-26        3367        31       530        80      3123\n",
       "20  2019-07-27        3410        49       567        47       993\n",
       "21  2019-07-28        3646        67      3455        63      3291\n",
       "22  2019-07-29        3475       110      5890        80      3622\n",
       "23  2019-07-30        3087        21       678        81      3903\n",
       "24  2019-07-31        2754        30      1264        47      1638\n",
       "25  2019-08-01        2783         2       137        33       913\n",
       "26  2019-08-02        2658        40       823         0         0\n",
       "27  2019-08-03        2748        21       405        42      1170\n",
       "28  2019-08-04        3000        83      2134        56      2018\n",
       "29  2019-08-05        3256       146      4025       218      7783\n",
       "30  2019-08-06        2865        51      1363       170      5257\n",
       "31  2019-08-07        2693        84      2316       129      5960\n",
       "32  2019-08-08        2629       193     10376       117      2744\n",
       "33  2019-08-09        2922        49      1215       134      3807\n",
       "34  2019-08-10        2873        78      1578        90      1345\n",
       "35  2019-08-11        3057       158      6856        44      1081\n",
       "36  2019-08-12        3357       196      4946       130      3585\n",
       "37  2019-08-13        3013        94      3042       187      5702\n",
       "38  2019-08-14        3542        72      1472       178      5270\n",
       "39  2019-08-15        3093       208      8595       111      2740\n",
       "40  2019-08-16        2714        24       607       110      4937\n",
       "41  2019-08-17        2809        52       465       123      3524\n",
       "42  2019-08-18        3113       185      6226       156      6690\n",
       "43  2019-08-19        3486       154      6174       103      3473\n",
       "44  2019-08-20        3425        71      2144       134      6624\n",
       "45  2019-08-21        4066        70      1663       136      2576\n",
       "46  2019-08-22        3167        84      2534       227      6867\n",
       "47  2019-08-23        3031       140      6518        71      2432\n",
       "48  2019-08-24        3107        94      2598       139      3953"
      ]
     },
     "execution_count": 10,
     "metadata": {},
     "output_type": "execute_result"
    }
   ],
   "source": [
    "df.groupby('Date')[['Page Views','NetA_imp',\n",
    "       'NetA_spd', 'NetB_imp', 'NetB_spd']].sum().reset_index()"
   ]
  },
  {
   "cell_type": "code",
   "execution_count": 12,
   "metadata": {},
   "outputs": [],
   "source": [
    "df1=df.groupby('Date')[['Page Views','NetA_imp',\n",
    "       'NetA_spd', 'NetB_imp', 'NetB_spd']].sum().reset_index()"
   ]
  },
  {
   "cell_type": "code",
   "execution_count": 13,
   "metadata": {},
   "outputs": [],
   "source": [
    "df1.set_index('Date', inplace=True)"
   ]
  },
  {
   "cell_type": "code",
   "execution_count": 14,
   "metadata": {},
   "outputs": [
    {
     "data": {
      "image/png": "[encoded data removed]",
      "text/plain": [
       "<Figure size 1080x576 with 1 Axes>"
      ]
     },
     "metadata": {
      "needs_background": "light"
     },
     "output_type": "display_data"
    }
   ],
   "source": [
    "fig, ax=plt.subplots(figsize = (15,8))\n",
    "ax = df1[['Page Views', 'NetA_imp']].plot(ax=ax, kind='line', marker='')\n",
    "ax.set_ylabel('Value')\n",
    "plt.title('Impressions vs Page views')\n",
    "#plt.savefig(path+'test00.png')\n",
    "#plt.grid()\n",
    "plt.show()"
   ]
  },
  {
   "cell_type": "markdown",
   "metadata": {},
   "source": [
    "### Bar plot"
   ]
  },
  {
   "cell_type": "code",
   "execution_count": 22,
   "metadata": {},
   "outputs": [
    {
     "data": {
      "image/png": "[encoded data removed]",
      "text/plain": [
       "<Figure size 864x288 with 1 Axes>"
      ]
     },
     "metadata": {
      "needs_background": "light"
     },
     "output_type": "display_data"
    }
   ],
   "source": [
    "fig, ax=plt.subplots(figsize = (12,4))\n",
    "df1[[\"NetA_imp\", \"NetB_imp\"]].plot(ax= ax, kind=\"bar\",stacked=True,color=['r','g'], legend=True)\n",
    "ax.set_xticklabels(df1.index,rotation=90, ha='right')\n",
    "ax.set_ylabel('Impressions')\n",
    "plt.title('Impressions')\n",
    "#ax.set_xlim([-1, 10.5])\n",
    "#ax.set_ylim([0, 100])\n",
    "plt.show()"
   ]
  },
  {
   "cell_type": "markdown",
   "metadata": {},
   "source": [
    "## Interactive plot using Plotly"
   ]
  },
  {
   "cell_type": "code",
   "execution_count": 11,
   "metadata": {},
   "outputs": [
    {
     "data": {
      "text/html": [
       "        <script type=\"text/javascript\">\n",
       "        window.PlotlyConfig = {MathJaxConfig: 'local'};\n",
       "        if (window.MathJax) {MathJax.Hub.Config({SVG: {font: \"STIX-Web\"}});}\n",
       "        if (typeof require !== 'undefined') {\n",
       "        require.undef(\"plotly\");\n",
       "        requirejs.config({\n",
       "            paths: {\n",
       "                'plotly': ['https://cdn.plot.ly/plotly-latest.min']\n",
       "            }\n",
       "        });\n",
       "        require(['plotly'], function(Plotly) {\n",
       "            window._Plotly = Plotly;\n",
       "        });\n",
       "        }\n",
       "        </script>\n",
       "        "
      ]
     },
     "metadata": {},
     "output_type": "display_data"
    },
    {
     "data": {
      "text/html": [
       "        <script type=\"text/javascript\">\n",
       "        window.PlotlyConfig = {MathJaxConfig: 'local'};\n",
       "        if (window.MathJax) {MathJax.Hub.Config({SVG: {font: \"STIX-Web\"}});}\n",
       "        if (typeof require !== 'undefined') {\n",
       "        require.undef(\"plotly\");\n",
       "        requirejs.config({\n",
       "            paths: {\n",
       "                'plotly': ['https://cdn.plot.ly/plotly-latest.min']\n",
       "            }\n",
       "        });\n",
       "        require(['plotly'], function(Plotly) {\n",
       "            window._Plotly = Plotly;\n",
       "        });\n",
       "        }\n",
       "        </script>\n",
       "        "
      ]
     },
     "metadata": {},
     "output_type": "display_data"
    }
   ],
   "source": [
    "import chart_studio.plotly as py\n",
    "import plotly.graph_objs as go\n",
    "from plotly.offline import iplot, init_notebook_mode\n",
    "import plotly.express as px\n",
    "\n",
    "import cufflinks\n",
    "cufflinks.go_offline(connected=True)\n",
    "init_notebook_mode(connected=True)"
   ]
  },
  {
   "cell_type": "raw",
   "metadata": {},
   "source": [
    "Demonstration: scatter, scatter matrix, various bar plots, line plots and combined line & bar plots"
   ]
  },
  {
   "cell_type": "markdown",
   "metadata": {},
   "source": [
    "### Scatter plots"
   ]
  },
  {
   "cell_type": "code",
   "execution_count": 12,
   "metadata": {},
   "outputs": [
    {
     "data": {
      "application/vnd.plotly.v1+json": {
       "config": {
        "plotlyServerURL": "https://plot.ly"
       },
       "data": [
        {
         "customdata": [
          [
           "Jul"
          ],
          [
           "Jul"
          ],
          [
           "Jul"
          ],
          [
           "Jul"
          ],
          [
           "Jul"
          ],
          [
           "Jul"
          ],
          [
           "Jul"
          ],
          [
           "Jul"
          ],
          [
           "Jul"
          ],
          [
           "Jul"
          ],
          [
           "Jul"
          ],
          [
           "Jul"
          ],
          [
           "Jul"
          ],
          [
           "Jul"
          ],
          [
           "Jul"
          ],
          [
           "Jul"
          ],
          [
           "Jul"
          ],
          [
           "Jul"
          ],
          [
           "Jul"
          ],
          [
           "Jul"
          ],
          [
           "Jul"
          ],
          [
           "Jul"
          ],
          [
           "Jul"
          ],
          [
           "Jul"
          ],
          [
           "Jul"
          ],
          [
           "Jul"
          ],
          [
           "Jul"
          ],
          [
           "Jul"
          ],
          [
           "Jul"
          ],
          [
           "Jul"
          ],
          [
           "Jul"
          ],
          [
           "Jul"
          ],
          [
           "Jul"
          ],
          [
           "Jul"
          ],
          [
           "Jul"
          ],
          [
           "Jul"
          ],
          [
           "Jul"
          ],
          [
           "Jul"
          ],
          [
           "Jul"
          ],
          [
           "Jul"
          ],
          [
           "Jul"
          ],
          [
           "Jul"
          ],
          [
           "Jul"
          ],
          [
           "Jul"
          ],
          [
           "Jul"
          ],
          [
           "Jul"
          ],
          [
           "Jul"
          ],
          [
           "Jul"
          ],
          [
           "Jul"
          ],
          [
           "Jul"
          ],
          [
           "Jul"
          ],
          [
           "Jul"
          ],
          [
           "Jul"
          ],
          [
           "Jul"
          ],
          [
           "Jul"
          ],
          [
           "Jul"
          ],
          [
           "Jul"
          ],
          [
           "Jul"
          ],
          [
           "Jul"
          ],
          [
           "Jul"
          ],
          [
           "Jul"
          ],
          [
           "Jul"
          ],
          [
           "Jul"
          ],
          [
           "Jul"
          ],
          [
           "Jul"
          ],
          [
           "Jul"
          ],
          [
           "Jul"
          ],
          [
           "Jul"
          ],
          [
           "Jul"
          ],
          [
           "Jul"
          ],
          [
           "Jul"
          ],
          [
           "Jul"
          ],
          [
           "Jul"
          ],
          [
           "Jul"
          ],
          [
           "Jul"
          ],
          [
           "Jul"
          ],
          [
           "Jul"
          ],
          [
           "Jul"
          ],
          [
           "Jul"
          ],
          [
           "Jul"
          ],
          [
           "Jul"
          ],
          [
           "Jul"
          ],
          [
           "Jul"
          ],
          [
           "Jul"
          ],
          [
           "Jul"
          ],
          [
           "Jul"
          ],
          [
           "Jul"
          ],
          [
           "Jul"
          ],
          [
           "Jul"
          ],
          [
           "Jul"
          ],
          [
           "Jul"
          ],
          [
           "Jul"
          ],
          [
           "Jul"
          ],
          [
           "Jul"
          ],
          [
           "Jul"
          ],
          [
           "Jul"
          ],
          [
           "Aug"
          ],
          [
           "Aug"
          ],
          [
           "Aug"
          ],
          [
           "Aug"
          ],
          [
           "Aug"
          ],
          [
           "Aug"
          ],
          [
           "Aug"
          ],
          [
           "Aug"
          ],
          [
           "Aug"
          ],
          [
           "Aug"
          ],
          [
           "Aug"
          ],
          [
           "Aug"
          ],
          [
           "Aug"
          ],
          [
           "Aug"
          ],
          [
           "Aug"
          ],
          [
           "Aug"
          ],
          [
           "Aug"
          ],
          [
           "Aug"
          ],
          [
           "Aug"
          ],
          [
           "Aug"
          ],
          [
           "Aug"
          ],
          [
           "Aug"
          ],
          [
           "Aug"
          ],
          [
           "Aug"
          ],
          [
           "Aug"
          ],
          [
           "Aug"
          ],
          [
           "Aug"
          ],
          [
           "Aug"
          ],
          [
           "Aug"
          ],
          [
           "Aug"
          ],
          [
           "Aug"
          ],
          [
           "Aug"
          ],
          [
           "Aug"
          ],
          [
           "Aug"
          ],
          [
           "Aug"
          ],
          [
           "Aug"
          ],
          [
           "Aug"
          ],
          [
           "Aug"
          ],
          [
           "Aug"
          ],
          [
           "Aug"
          ],
          [
           "Aug"
          ],
          [
           "Aug"
          ],
          [
           "Aug"
          ],
          [
           "Aug"
          ],
          [
           "Aug"
          ],
          [
           "Aug"
          ],
          [
           "Aug"
          ],
          [
           "Aug"
          ],
          [
           "Aug"
          ],
          [
           "Aug"
          ],
          [
           "Aug"
          ],
          [
           "Aug"
          ],
          [
           "Aug"
          ],
          [
           "Aug"
          ],
          [
           "Aug"
          ],
          [
           "Aug"
          ],
          [
           "Aug"
          ],
          [
           "Aug"
          ],
          [
           "Aug"
          ],
          [
           "Aug"
          ],
          [
           "Aug"
          ],
          [
           "Aug"
          ],
          [
           "Aug"
          ],
          [
           "Aug"
          ],
          [
           "Aug"
          ],
          [
           "Aug"
          ],
          [
           "Aug"
          ],
          [
           "Aug"
          ],
          [
           "Aug"
          ],
          [
           "Aug"
          ],
          [
           "Aug"
          ],
          [
           "Aug"
          ]
         ],
         "hovertemplate": "Weekday=Sun<br>Page Views=%{x}<br>NetA_imp=%{marker.size}<br>Month=%{customdata[0]}<extra></extra>",
         "legendgroup": "Sun",
         "marker": {
          "color": "#636efa",
          "size": [
           11,
           0,
           0,
           0,
           0,
           0,
           4,
           0,
           0,
           12,
           10,
           0,
           16,
           7,
           10,
           17,
           12,
           2,
           3,
           33,
           125,
           33,
           92,
           34,
           0,
           0,
           0,
           0,
           0,
           0,
           2,
           4,
           6,
           7,
           6,
           6,
           10,
           12,
           16,
           6,
           6,
           6,
           0,
           22,
           6,
           31,
           9,
           0,
           0,
           0,
           0,
           0,
           0,
           0,
           0,
           0,
           0,
           0,
           7,
           0,
           0,
           0,
           0,
           8,
           38,
           9,
           0,
           0,
           0,
           0,
           0,
           0,
           0,
           0,
           0,
           0,
           0,
           0,
           0,
           0,
           0,
           0,
           0,
           0,
           0,
           0,
           0,
           0,
           9,
           6,
           3,
           0,
           49,
           0,
           0,
           0,
           0,
           0,
           0,
           0,
           0,
           0,
           0,
           0,
           0,
           0,
           0,
           12,
           4,
           0,
           0,
           20,
           2,
           29,
           2,
           0,
           0,
           14,
           0,
           0,
           0,
           0,
           0,
           0,
           0,
           0,
           0,
           0,
           0,
           0,
           0,
           0,
           5,
           0,
           0,
           0,
           22,
           39,
           0,
           0,
           92,
           0,
           0,
           0,
           0,
           0,
           0,
           0,
           0,
           0,
           0,
           0,
           0,
           23,
           0,
           0,
           0,
           0,
           0,
           5,
           38,
           27,
           90,
           2,
           0,
           0,
           0,
           0
          ],
          "sizemode": "area",
          "sizeref": 0.6125,
          "symbol": "circle"
         },
         "mode": "markers",
         "name": "Sun",
         "showlegend": true,
         "type": "scattergl",
         "x": [
          62,
          33,
          15,
          17,
          12,
          9,
          20,
          46,
          106,
          190,
          244,
          247,
          260,
          260,
          218,
          229,
          204,
          232,
          190,
          175,
          168,
          187,
          148,
          91,
          40,
          50,
          21,
          17,
          9,
          15,
          20,
          77,
          112,
          170,
          243,
          261,
          299,
          281,
          303,
          311,
          277,
          225,
          214,
          213,
          216,
          205,
          158,
          121,
          55,
          24,
          25,
          18,
          4,
          16,
          26,
          53,
          139,
          246,
          307,
          274,
          249,
          287,
          261,
          305,
          251,
          242,
          213,
          234,
          183,
          182,
          133,
          114,
          58,
          44,
          29,
          13,
          13,
          12,
          26,
          55,
          135,
          196,
          260,
          289,
          245,
          223,
          248,
          245,
          217,
          235,
          214,
          221,
          210,
          175,
          172,
          111,
          46,
          47,
          21,
          8,
          16,
          16,
          30,
          65,
          114,
          149,
          206,
          218,
          215,
          211,
          189,
          243,
          236,
          159,
          168,
          171,
          144,
          138,
          98,
          92,
          58,
          31,
          25,
          17,
          10,
          17,
          25,
          56,
          113,
          127,
          233,
          226,
          256,
          228,
          263,
          219,
          217,
          156,
          144,
          139,
          150,
          159,
          116,
          72,
          53,
          29,
          34,
          14,
          13,
          16,
          36,
          69,
          115,
          157,
          231,
          243,
          247,
          203,
          214,
          191,
          224,
          194,
          179,
          159,
          154,
          147,
          116,
          75
         ],
         "xaxis": "x",
         "y": [
          11,
          0,
          0,
          0,
          0,
          0,
          4,
          0,
          0,
          12,
          10,
          0,
          16,
          7,
          10,
          17,
          12,
          2,
          3,
          33,
          125,
          33,
          92,
          34,
          0,
          0,
          0,
          0,
          0,
          0,
          2,
          4,
          6,
          7,
          6,
          6,
          10,
          12,
          16,
          6,
          6,
          6,
          0,
          22,
          6,
          31,
          9,
          0,
          0,
          0,
          0,
          0,
          0,
          0,
          0,
          0,
          0,
          0,
          7,
          0,
          0,
          0,
          0,
          8,
          38,
          9,
          0,
          0,
          0,
          0,
          0,
          0,
          0,
          0,
          0,
          0,
          0,
          0,
          0,
          0,
          0,
          0,
          0,
          0,
          0,
          0,
          0,
          0,
          9,
          6,
          3,
          0,
          49,
          0,
          0,
          0,
          0,
          0,
          0,
          0,
          0,
          0,
          0,
          0,
          0,
          0,
          0,
          12,
          4,
          0,
          0,
          20,
          2,
          29,
          2,
          0,
          0,
          14,
          0,
          0,
          0,
          0,
          0,
          0,
          0,
          0,
          0,
          0,
          0,
          0,
          0,
          0,
          5,
          0,
          0,
          0,
          22,
          39,
          0,
          0,
          92,
          0,
          0,
          0,
          0,
          0,
          0,
          0,
          0,
          0,
          0,
          0,
          0,
          23,
          0,
          0,
          0,
          0,
          0,
          5,
          38,
          27,
          90,
          2,
          0,
          0,
          0,
          0
         ],
         "yaxis": "y"
        },
        {
         "customdata": [
          [
           "Jul"
          ],
          [
           "Jul"
          ],
          [
           "Jul"
          ],
          [
           "Jul"
          ],
          [
           "Jul"
          ],
          [
           "Jul"
          ],
          [
           "Jul"
          ],
          [
           "Jul"
          ],
          [
           "Jul"
          ],
          [
           "Jul"
          ],
          [
           "Jul"
          ],
          [
           "Jul"
          ],
          [
           "Jul"
          ],
          [
           "Jul"
          ],
          [
           "Jul"
          ],
          [
           "Jul"
          ],
          [
           "Jul"
          ],
          [
           "Jul"
          ],
          [
           "Jul"
          ],
          [
           "Jul"
          ],
          [
           "Jul"
          ],
          [
           "Jul"
          ],
          [
           "Jul"
          ],
          [
           "Jul"
          ],
          [
           "Jul"
          ],
          [
           "Jul"
          ],
          [
           "Jul"
          ],
          [
           "Jul"
          ],
          [
           "Jul"
          ],
          [
           "Jul"
          ],
          [
           "Jul"
          ],
          [
           "Jul"
          ],
          [
           "Jul"
          ],
          [
           "Jul"
          ],
          [
           "Jul"
          ],
          [
           "Jul"
          ],
          [
           "Jul"
          ],
          [
           "Jul"
          ],
          [
           "Jul"
          ],
          [
           "Jul"
          ],
          [
           "Jul"
          ],
          [
           "Jul"
          ],
          [
           "Jul"
          ],
          [
           "Jul"
          ],
          [
           "Jul"
          ],
          [
           "Jul"
          ],
          [
           "Jul"
          ],
          [
           "Jul"
          ],
          [
           "Jul"
          ],
          [
           "Jul"
          ],
          [
           "Jul"
          ],
          [
           "Jul"
          ],
          [
           "Jul"
          ],
          [
           "Jul"
          ],
          [
           "Jul"
          ],
          [
           "Jul"
          ],
          [
           "Jul"
          ],
          [
           "Jul"
          ],
          [
           "Jul"
          ],
          [
           "Jul"
          ],
          [
           "Jul"
          ],
          [
           "Jul"
          ],
          [
           "Jul"
          ],
          [
           "Jul"
          ],
          [
           "Jul"
          ],
          [
           "Jul"
          ],
          [
           "Jul"
          ],
          [
           "Jul"
          ],
          [
           "Jul"
          ],
          [
           "Jul"
          ],
          [
           "Jul"
          ],
          [
           "Jul"
          ],
          [
           "Jul"
          ],
          [
           "Jul"
          ],
          [
           "Jul"
          ],
          [
           "Jul"
          ],
          [
           "Jul"
          ],
          [
           "Jul"
          ],
          [
           "Jul"
          ],
          [
           "Jul"
          ],
          [
           "Jul"
          ],
          [
           "Jul"
          ],
          [
           "Jul"
          ],
          [
           "Jul"
          ],
          [
           "Jul"
          ],
          [
           "Jul"
          ],
          [
           "Jul"
          ],
          [
           "Jul"
          ],
          [
           "Jul"
          ],
          [
           "Jul"
          ],
          [
           "Jul"
          ],
          [
           "Jul"
          ],
          [
           "Jul"
          ],
          [
           "Jul"
          ],
          [
           "Jul"
          ],
          [
           "Jul"
          ],
          [
           "Aug"
          ],
          [
           "Aug"
          ],
          [
           "Aug"
          ],
          [
           "Aug"
          ],
          [
           "Aug"
          ],
          [
           "Aug"
          ],
          [
           "Aug"
          ],
          [
           "Aug"
          ],
          [
           "Aug"
          ],
          [
           "Aug"
          ],
          [
           "Aug"
          ],
          [
           "Aug"
          ],
          [
           "Aug"
          ],
          [
           "Aug"
          ],
          [
           "Aug"
          ],
          [
           "Aug"
          ],
          [
           "Aug"
          ],
          [
           "Aug"
          ],
          [
           "Aug"
          ],
          [
           "Aug"
          ],
          [
           "Aug"
          ],
          [
           "Aug"
          ],
          [
           "Aug"
          ],
          [
           "Aug"
          ],
          [
           "Aug"
          ],
          [
           "Aug"
          ],
          [
           "Aug"
          ],
          [
           "Aug"
          ],
          [
           "Aug"
          ],
          [
           "Aug"
          ],
          [
           "Aug"
          ],
          [
           "Aug"
          ],
          [
           "Aug"
          ],
          [
           "Aug"
          ],
          [
           "Aug"
          ],
          [
           "Aug"
          ],
          [
           "Aug"
          ],
          [
           "Aug"
          ],
          [
           "Aug"
          ],
          [
           "Aug"
          ],
          [
           "Aug"
          ],
          [
           "Aug"
          ],
          [
           "Aug"
          ],
          [
           "Aug"
          ],
          [
           "Aug"
          ],
          [
           "Aug"
          ],
          [
           "Aug"
          ],
          [
           "Aug"
          ],
          [
           "Aug"
          ],
          [
           "Aug"
          ],
          [
           "Aug"
          ],
          [
           "Aug"
          ],
          [
           "Aug"
          ],
          [
           "Aug"
          ],
          [
           "Aug"
          ],
          [
           "Aug"
          ],
          [
           "Aug"
          ],
          [
           "Aug"
          ],
          [
           "Aug"
          ],
          [
           "Aug"
          ],
          [
           "Aug"
          ],
          [
           "Aug"
          ],
          [
           "Aug"
          ],
          [
           "Aug"
          ],
          [
           "Aug"
          ],
          [
           "Aug"
          ],
          [
           "Aug"
          ],
          [
           "Aug"
          ],
          [
           "Aug"
          ],
          [
           "Aug"
          ],
          [
           "Aug"
          ],
          [
           "Aug"
          ]
         ],
         "hovertemplate": "Weekday=Mon<br>Page Views=%{x}<br>NetA_imp=%{marker.size}<br>Month=%{customdata[0]}<extra></extra>",
         "legendgroup": "Mon",
         "marker": {
          "color": "#EF553B",
          "size": [
           0,
           0,
           0,
           0,
           0,
           0,
           0,
           3,
           2,
           0,
           0,
           9,
           10,
           11,
           17,
           13,
           16,
           12,
           77,
           75,
           59,
           32,
           34,
           22,
           0,
           0,
           0,
           0,
           0,
           0,
           0,
           0,
           0,
           0,
           0,
           12,
           0,
           3,
           6,
           13,
           7,
           10,
           0,
           22,
           13,
           0,
           11,
           11,
           0,
           0,
           0,
           0,
           0,
           0,
           0,
           0,
           0,
           0,
           0,
           2,
           11,
           0,
           0,
           14,
           34,
           9,
           0,
           0,
           0,
           0,
           46,
           2,
           0,
           0,
           0,
           0,
           0,
           0,
           0,
           0,
           0,
           0,
           8,
           0,
           0,
           0,
           0,
           1,
           24,
           0,
           15,
           22,
           0,
           40,
           0,
           0,
           0,
           0,
           0,
           0,
           0,
           0,
           17,
           0,
           0,
           0,
           0,
           5,
           0,
           21,
           4,
           0,
           9,
           61,
           0,
           18,
           0,
           0,
           8,
           3,
           0,
           0,
           0,
           0,
           0,
           0,
           0,
           0,
           0,
           0,
           16,
           10,
           0,
           16,
           0,
           0,
           15,
           60,
           0,
           52,
           2,
           0,
           17,
           8,
           0,
           0,
           0,
           0,
           0,
           0,
           0,
           0,
           0,
           0,
           0,
           10,
           8,
           11,
           0,
           0,
           17,
           0,
           81,
           26,
           1,
           0,
           0,
           0
          ],
          "sizemode": "area",
          "sizeref": 0.6125,
          "symbol": "circle"
         },
         "mode": "markers",
         "name": "Mon",
         "showlegend": true,
         "type": "scattergl",
         "x": [
          46,
          25,
          22,
          11,
          12,
          16,
          50,
          77,
          130,
          311,
          359,
          353,
          346,
          281,
          290,
          304,
          276,
          186,
          180,
          176,
          195,
          240,
          167,
          107,
          67,
          54,
          32,
          22,
          9,
          23,
          39,
          66,
          151,
          264,
          453,
          580,
          419,
          353,
          338,
          267,
          312,
          270,
          241,
          238,
          218,
          234,
          161,
          107,
          53,
          26,
          30,
          21,
          12,
          20,
          36,
          74,
          158,
          272,
          288,
          353,
          318,
          288,
          263,
          300,
          285,
          248,
          209,
          216,
          216,
          268,
          147,
          98,
          41,
          45,
          28,
          14,
          11,
          14,
          46,
          68,
          105,
          198,
          257,
          225,
          290,
          275,
          236,
          317,
          285,
          161,
          139,
          156,
          167,
          210,
          117,
          70,
          47,
          30,
          20,
          20,
          24,
          18,
          37,
          62,
          109,
          215,
          266,
          232,
          218,
          210,
          228,
          217,
          219,
          187,
          155,
          188,
          189,
          155,
          127,
          83,
          44,
          22,
          13,
          16,
          14,
          16,
          49,
          85,
          130,
          234,
          251,
          254,
          275,
          260,
          227,
          174,
          253,
          163,
          169,
          174,
          169,
          191,
          116,
          58,
          43,
          42,
          10,
          15,
          10,
          19,
          22,
          83,
          125,
          193,
          259,
          233,
          231,
          276,
          260,
          225,
          241,
          259,
          148,
          190,
          174,
          202,
          129,
          97
         ],
         "xaxis": "x",
         "y": [
          0,
          0,
          0,
          0,
          0,
          0,
          0,
          3,
          2,
          0,
          0,
          9,
          10,
          11,
          17,
          13,
          16,
          12,
          77,
          75,
          59,
          32,
          34,
          22,
          0,
          0,
          0,
          0,
          0,
          0,
          0,
          0,
          0,
          0,
          0,
          12,
          0,
          3,
          6,
          13,
          7,
          10,
          0,
          22,
          13,
          0,
          11,
          11,
          0,
          0,
          0,
          0,
          0,
          0,
          0,
          0,
          0,
          0,
          0,
          2,
          11,
          0,
          0,
          14,
          34,
          9,
          0,
          0,
          0,
          0,
          46,
          2,
          0,
          0,
          0,
          0,
          0,
          0,
          0,
          0,
          0,
          0,
          8,
          0,
          0,
          0,
          0,
          1,
          24,
          0,
          15,
          22,
          0,
          40,
          0,
          0,
          0,
          0,
          0,
          0,
          0,
          0,
          17,
          0,
          0,
          0,
          0,
          5,
          0,
          21,
          4,
          0,
          9,
          61,
          0,
          18,
          0,
          0,
          8,
          3,
          0,
          0,
          0,
          0,
          0,
          0,
          0,
          0,
          0,
          0,
          16,
          10,
          0,
          16,
          0,
          0,
          15,
          60,
          0,
          52,
          2,
          0,
          17,
          8,
          0,
          0,
          0,
          0,
          0,
          0,
          0,
          0,
          0,
          0,
          0,
          10,
          8,
          11,
          0,
          0,
          17,
          0,
          81,
          26,
          1,
          0,
          0,
          0
         ],
         "yaxis": "y"
        },
        {
         "customdata": [
          [
           "Jul"
          ],
          [
           "Jul"
          ],
          [
           "Jul"
          ],
          [
           "Jul"
          ],
          [
           "Jul"
          ],
          [
           "Jul"
          ],
          [
           "Jul"
          ],
          [
           "Jul"
          ],
          [
           "Jul"
          ],
          [
           "Jul"
          ],
          [
           "Jul"
          ],
          [
           "Jul"
          ],
          [
           "Jul"
          ],
          [
           "Jul"
          ],
          [
           "Jul"
          ],
          [
           "Jul"
          ],
          [
           "Jul"
          ],
          [
           "Jul"
          ],
          [
           "Jul"
          ],
          [
           "Jul"
          ],
          [
           "Jul"
          ],
          [
           "Jul"
          ],
          [
           "Jul"
          ],
          [
           "Jul"
          ],
          [
           "Jul"
          ],
          [
           "Jul"
          ],
          [
           "Jul"
          ],
          [
           "Jul"
          ],
          [
           "Jul"
          ],
          [
           "Jul"
          ],
          [
           "Jul"
          ],
          [
           "Jul"
          ],
          [
           "Jul"
          ],
          [
           "Jul"
          ],
          [
           "Jul"
          ],
          [
           "Jul"
          ],
          [
           "Jul"
          ],
          [
           "Jul"
          ],
          [
           "Jul"
          ],
          [
           "Jul"
          ],
          [
           "Jul"
          ],
          [
           "Jul"
          ],
          [
           "Jul"
          ],
          [
           "Jul"
          ],
          [
           "Jul"
          ],
          [
           "Jul"
          ],
          [
           "Jul"
          ],
          [
           "Jul"
          ],
          [
           "Jul"
          ],
          [
           "Jul"
          ],
          [
           "Jul"
          ],
          [
           "Jul"
          ],
          [
           "Jul"
          ],
          [
           "Jul"
          ],
          [
           "Jul"
          ],
          [
           "Jul"
          ],
          [
           "Jul"
          ],
          [
           "Jul"
          ],
          [
           "Jul"
          ],
          [
           "Jul"
          ],
          [
           "Jul"
          ],
          [
           "Jul"
          ],
          [
           "Jul"
          ],
          [
           "Jul"
          ],
          [
           "Jul"
          ],
          [
           "Jul"
          ],
          [
           "Jul"
          ],
          [
           "Jul"
          ],
          [
           "Jul"
          ],
          [
           "Jul"
          ],
          [
           "Jul"
          ],
          [
           "Jul"
          ],
          [
           "Jul"
          ],
          [
           "Jul"
          ],
          [
           "Jul"
          ],
          [
           "Jul"
          ],
          [
           "Jul"
          ],
          [
           "Jul"
          ],
          [
           "Jul"
          ],
          [
           "Jul"
          ],
          [
           "Jul"
          ],
          [
           "Jul"
          ],
          [
           "Jul"
          ],
          [
           "Jul"
          ],
          [
           "Jul"
          ],
          [
           "Jul"
          ],
          [
           "Jul"
          ],
          [
           "Jul"
          ],
          [
           "Jul"
          ],
          [
           "Jul"
          ],
          [
           "Jul"
          ],
          [
           "Jul"
          ],
          [
           "Jul"
          ],
          [
           "Jul"
          ],
          [
           "Jul"
          ],
          [
           "Jul"
          ],
          [
           "Aug"
          ],
          [
           "Aug"
          ],
          [
           "Aug"
          ],
          [
           "Aug"
          ],
          [
           "Aug"
          ],
          [
           "Aug"
          ],
          [
           "Aug"
          ],
          [
           "Aug"
          ],
          [
           "Aug"
          ],
          [
           "Aug"
          ],
          [
           "Aug"
          ],
          [
           "Aug"
          ],
          [
           "Aug"
          ],
          [
           "Aug"
          ],
          [
           "Aug"
          ],
          [
           "Aug"
          ],
          [
           "Aug"
          ],
          [
           "Aug"
          ],
          [
           "Aug"
          ],
          [
           "Aug"
          ],
          [
           "Aug"
          ],
          [
           "Aug"
          ],
          [
           "Aug"
          ],
          [
           "Aug"
          ],
          [
           "Aug"
          ],
          [
           "Aug"
          ],
          [
           "Aug"
          ],
          [
           "Aug"
          ],
          [
           "Aug"
          ],
          [
           "Aug"
          ],
          [
           "Aug"
          ],
          [
           "Aug"
          ],
          [
           "Aug"
          ],
          [
           "Aug"
          ],
          [
           "Aug"
          ],
          [
           "Aug"
          ],
          [
           "Aug"
          ],
          [
           "Aug"
          ],
          [
           "Aug"
          ],
          [
           "Aug"
          ],
          [
           "Aug"
          ],
          [
           "Aug"
          ],
          [
           "Aug"
          ],
          [
           "Aug"
          ],
          [
           "Aug"
          ],
          [
           "Aug"
          ],
          [
           "Aug"
          ],
          [
           "Aug"
          ],
          [
           "Aug"
          ],
          [
           "Aug"
          ],
          [
           "Aug"
          ],
          [
           "Aug"
          ],
          [
           "Aug"
          ],
          [
           "Aug"
          ],
          [
           "Aug"
          ],
          [
           "Aug"
          ],
          [
           "Aug"
          ],
          [
           "Aug"
          ],
          [
           "Aug"
          ],
          [
           "Aug"
          ],
          [
           "Aug"
          ],
          [
           "Aug"
          ],
          [
           "Aug"
          ],
          [
           "Aug"
          ],
          [
           "Aug"
          ],
          [
           "Aug"
          ],
          [
           "Aug"
          ],
          [
           "Aug"
          ],
          [
           "Aug"
          ],
          [
           "Aug"
          ],
          [
           "Aug"
          ],
          [
           "Aug"
          ]
         ],
         "hovertemplate": "Weekday=Tue<br>Page Views=%{x}<br>NetA_imp=%{marker.size}<br>Month=%{customdata[0]}<extra></extra>",
         "legendgroup": "Tue",
         "marker": {
          "color": "#00cc96",
          "size": [
           1,
           0,
           0,
           0,
           0,
           0,
           0,
           2,
           2,
           31,
           4,
           5,
           12,
           23,
           19,
           12,
           2,
           14,
           86,
           92,
           245,
           93,
           41,
           72,
           0,
           0,
           0,
           0,
           0,
           0,
           1,
           0,
           2,
           4,
           4,
           2,
           13,
           8,
           6,
           0,
           3,
           0,
           1,
           5,
           13,
           33,
           15,
           7,
           0,
           0,
           0,
           0,
           0,
           0,
           0,
           0,
           0,
           10,
           0,
           1,
           7,
           0,
           0,
           0,
           0,
           0,
           0,
           0,
           0,
           0,
           0,
           5,
           0,
           0,
           0,
           0,
           0,
           0,
           0,
           0,
           0,
           0,
           10,
           0,
           0,
           0,
           0,
           0,
           0,
           0,
           0,
           0,
           9,
           0,
           0,
           2,
           0,
           0,
           0,
           0,
           0,
           0,
           0,
           20,
           0,
           0,
           1,
           9,
           8,
           0,
           4,
           0,
           5,
           4,
           0,
           0,
           0,
           0,
           0,
           0,
           0,
           0,
           0,
           0,
           0,
           0,
           0,
           0,
           0,
           0,
           0,
           8,
           0,
           0,
           0,
           0,
           0,
           5,
           12,
           0,
           0,
           63,
           6,
           0,
           0,
           0,
           0,
           0,
           0,
           0,
           0,
           0,
           0,
           0,
           1,
           0,
           0,
           0,
           0,
           13,
           2,
           34,
           7,
           14,
           0,
           0,
           0,
           0
          ],
          "sizemode": "area",
          "sizeref": 0.6125,
          "symbol": "circle"
         },
         "mode": "markers",
         "name": "Tue",
         "showlegend": true,
         "type": "scattergl",
         "x": [
          55,
          32,
          26,
          14,
          11,
          19,
          36,
          88,
          125,
          206,
          271,
          309,
          260,
          261,
          274,
          236,
          276,
          210,
          155,
          169,
          193,
          183,
          118,
          92,
          63,
          40,
          19,
          34,
          14,
          33,
          39,
          89,
          138,
          220,
          247,
          255,
          282,
          283,
          234,
          318,
          355,
          238,
          195,
          240,
          169,
          186,
          146,
          102,
          38,
          31,
          26,
          27,
          17,
          22,
          48,
          90,
          138,
          239,
          301,
          247,
          293,
          260,
          263,
          234,
          236,
          217,
          184,
          217,
          200,
          230,
          145,
          67,
          49,
          24,
          15,
          14,
          10,
          25,
          28,
          55,
          98,
          159,
          203,
          198,
          216,
          235,
          207,
          192,
          261,
          167,
          184,
          164,
          185,
          186,
          144,
          68,
          40,
          43,
          20,
          14,
          9,
          14,
          49,
          83,
          116,
          152,
          205,
          171,
          220,
          203,
          199,
          190,
          203,
          145,
          155,
          135,
          151,
          154,
          112,
          82,
          36,
          39,
          20,
          11,
          11,
          17,
          35,
          67,
          102,
          188,
          194,
          220,
          204,
          217,
          247,
          175,
          269,
          127,
          142,
          170,
          175,
          160,
          123,
          64,
          54,
          23,
          20,
          14,
          13,
          24,
          37,
          75,
          102,
          187,
          240,
          281,
          286,
          231,
          191,
          224,
          254,
          169,
          165,
          196,
          218,
          192,
          145,
          84
         ],
         "xaxis": "x",
         "y": [
          1,
          0,
          0,
          0,
          0,
          0,
          0,
          2,
          2,
          31,
          4,
          5,
          12,
          23,
          19,
          12,
          2,
          14,
          86,
          92,
          245,
          93,
          41,
          72,
          0,
          0,
          0,
          0,
          0,
          0,
          1,
          0,
          2,
          4,
          4,
          2,
          13,
          8,
          6,
          0,
          3,
          0,
          1,
          5,
          13,
          33,
          15,
          7,
          0,
          0,
          0,
          0,
          0,
          0,
          0,
          0,
          0,
          10,
          0,
          1,
          7,
          0,
          0,
          0,
          0,
          0,
          0,
          0,
          0,
          0,
          0,
          5,
          0,
          0,
          0,
          0,
          0,
          0,
          0,
          0,
          0,
          0,
          10,
          0,
          0,
          0,
          0,
          0,
          0,
          0,
          0,
          0,
          9,
          0,
          0,
          2,
          0,
          0,
          0,
          0,
          0,
          0,
          0,
          20,
          0,
          0,
          1,
          9,
          8,
          0,
          4,
          0,
          5,
          4,
          0,
          0,
          0,
          0,
          0,
          0,
          0,
          0,
          0,
          0,
          0,
          0,
          0,
          0,
          0,
          0,
          0,
          8,
          0,
          0,
          0,
          0,
          0,
          5,
          12,
          0,
          0,
          63,
          6,
          0,
          0,
          0,
          0,
          0,
          0,
          0,
          0,
          0,
          0,
          0,
          1,
          0,
          0,
          0,
          0,
          13,
          2,
          34,
          7,
          14,
          0,
          0,
          0,
          0
         ],
         "yaxis": "y"
        },
        {
         "customdata": [
          [
           "Jul"
          ],
          [
           "Jul"
          ],
          [
           "Jul"
          ],
          [
           "Jul"
          ],
          [
           "Jul"
          ],
          [
           "Jul"
          ],
          [
           "Jul"
          ],
          [
           "Jul"
          ],
          [
           "Jul"
          ],
          [
           "Jul"
          ],
          [
           "Jul"
          ],
          [
           "Jul"
          ],
          [
           "Jul"
          ],
          [
           "Jul"
          ],
          [
           "Jul"
          ],
          [
           "Jul"
          ],
          [
           "Jul"
          ],
          [
           "Jul"
          ],
          [
           "Jul"
          ],
          [
           "Jul"
          ],
          [
           "Jul"
          ],
          [
           "Jul"
          ],
          [
           "Jul"
          ],
          [
           "Jul"
          ],
          [
           "Jul"
          ],
          [
           "Jul"
          ],
          [
           "Jul"
          ],
          [
           "Jul"
          ],
          [
           "Jul"
          ],
          [
           "Jul"
          ],
          [
           "Jul"
          ],
          [
           "Jul"
          ],
          [
           "Jul"
          ],
          [
           "Jul"
          ],
          [
           "Jul"
          ],
          [
           "Jul"
          ],
          [
           "Jul"
          ],
          [
           "Jul"
          ],
          [
           "Jul"
          ],
          [
           "Jul"
          ],
          [
           "Jul"
          ],
          [
           "Jul"
          ],
          [
           "Jul"
          ],
          [
           "Jul"
          ],
          [
           "Jul"
          ],
          [
           "Jul"
          ],
          [
           "Jul"
          ],
          [
           "Jul"
          ],
          [
           "Jul"
          ],
          [
           "Jul"
          ],
          [
           "Jul"
          ],
          [
           "Jul"
          ],
          [
           "Jul"
          ],
          [
           "Jul"
          ],
          [
           "Jul"
          ],
          [
           "Jul"
          ],
          [
           "Jul"
          ],
          [
           "Jul"
          ],
          [
           "Jul"
          ],
          [
           "Jul"
          ],
          [
           "Jul"
          ],
          [
           "Jul"
          ],
          [
           "Jul"
          ],
          [
           "Jul"
          ],
          [
           "Jul"
          ],
          [
           "Jul"
          ],
          [
           "Jul"
          ],
          [
           "Jul"
          ],
          [
           "Jul"
          ],
          [
           "Jul"
          ],
          [
           "Jul"
          ],
          [
           "Jul"
          ],
          [
           "Jul"
          ],
          [
           "Jul"
          ],
          [
           "Jul"
          ],
          [
           "Jul"
          ],
          [
           "Jul"
          ],
          [
           "Jul"
          ],
          [
           "Jul"
          ],
          [
           "Jul"
          ],
          [
           "Jul"
          ],
          [
           "Jul"
          ],
          [
           "Jul"
          ],
          [
           "Jul"
          ],
          [
           "Jul"
          ],
          [
           "Jul"
          ],
          [
           "Jul"
          ],
          [
           "Jul"
          ],
          [
           "Jul"
          ],
          [
           "Jul"
          ],
          [
           "Jul"
          ],
          [
           "Jul"
          ],
          [
           "Jul"
          ],
          [
           "Jul"
          ],
          [
           "Jul"
          ],
          [
           "Jul"
          ],
          [
           "Aug"
          ],
          [
           "Aug"
          ],
          [
           "Aug"
          ],
          [
           "Aug"
          ],
          [
           "Aug"
          ],
          [
           "Aug"
          ],
          [
           "Aug"
          ],
          [
           "Aug"
          ],
          [
           "Aug"
          ],
          [
           "Aug"
          ],
          [
           "Aug"
          ],
          [
           "Aug"
          ],
          [
           "Aug"
          ],
          [
           "Aug"
          ],
          [
           "Aug"
          ],
          [
           "Aug"
          ],
          [
           "Aug"
          ],
          [
           "Aug"
          ],
          [
           "Aug"
          ],
          [
           "Aug"
          ],
          [
           "Aug"
          ],
          [
           "Aug"
          ],
          [
           "Aug"
          ],
          [
           "Aug"
          ],
          [
           "Aug"
          ],
          [
           "Aug"
          ],
          [
           "Aug"
          ],
          [
           "Aug"
          ],
          [
           "Aug"
          ],
          [
           "Aug"
          ],
          [
           "Aug"
          ],
          [
           "Aug"
          ],
          [
           "Aug"
          ],
          [
           "Aug"
          ],
          [
           "Aug"
          ],
          [
           "Aug"
          ],
          [
           "Aug"
          ],
          [
           "Aug"
          ],
          [
           "Aug"
          ],
          [
           "Aug"
          ],
          [
           "Aug"
          ],
          [
           "Aug"
          ],
          [
           "Aug"
          ],
          [
           "Aug"
          ],
          [
           "Aug"
          ],
          [
           "Aug"
          ],
          [
           "Aug"
          ],
          [
           "Aug"
          ],
          [
           "Aug"
          ],
          [
           "Aug"
          ],
          [
           "Aug"
          ],
          [
           "Aug"
          ],
          [
           "Aug"
          ],
          [
           "Aug"
          ],
          [
           "Aug"
          ],
          [
           "Aug"
          ],
          [
           "Aug"
          ],
          [
           "Aug"
          ],
          [
           "Aug"
          ],
          [
           "Aug"
          ],
          [
           "Aug"
          ],
          [
           "Aug"
          ],
          [
           "Aug"
          ],
          [
           "Aug"
          ],
          [
           "Aug"
          ],
          [
           "Aug"
          ],
          [
           "Aug"
          ],
          [
           "Aug"
          ],
          [
           "Aug"
          ],
          [
           "Aug"
          ],
          [
           "Aug"
          ],
          [
           "Aug"
          ]
         ],
         "hovertemplate": "Weekday=Wed<br>Page Views=%{x}<br>NetA_imp=%{marker.size}<br>Month=%{customdata[0]}<extra></extra>",
         "legendgroup": "Wed",
         "marker": {
          "color": "#ab63fa",
          "size": [
           0,
           0,
           0,
           0,
           0,
           0,
           0,
           0,
           0,
           3,
           0,
           4,
           0,
           3,
           0,
           3,
           3,
           1,
           0,
           8,
           72,
           0,
           31,
           0,
           0,
           0,
           0,
           0,
           0,
           0,
           0,
           0,
           21,
           2,
           7,
           3,
           2,
           8,
           4,
           27,
           23,
           7,
           0,
           5,
           7,
           5,
           62,
           2,
           0,
           0,
           0,
           0,
           0,
           0,
           0,
           0,
           0,
           0,
           0,
           0,
           0,
           9,
           1,
           29,
           0,
           0,
           0,
           4,
           0,
           0,
           18,
           1,
           0,
           0,
           0,
           0,
           0,
           0,
           8,
           0,
           0,
           0,
           0,
           0,
           0,
           0,
           0,
           0,
           0,
           0,
           0,
           5,
           0,
           11,
           6,
           0,
           0,
           0,
           0,
           0,
           0,
           0,
           0,
           0,
           0,
           0,
           9,
           0,
           15,
           0,
           0,
           10,
           4,
           9,
           14,
           14,
           0,
           0,
           0,
           9,
           0,
           0,
           0,
           0,
           0,
           0,
           0,
           0,
           0,
           0,
           0,
           3,
           0,
           0,
           0,
           7,
           0,
           31,
           0,
           2,
           7,
           0,
           0,
           22,
           1,
           0,
           0,
           0,
           0,
           0,
           0,
           0,
           38,
           0,
           0,
           0,
           0,
           0,
           0,
           0,
           11,
           0,
           0,
           0,
           6,
           0,
           0,
           14
          ],
          "sizemode": "area",
          "sizeref": 0.6125,
          "symbol": "circle"
         },
         "mode": "markers",
         "name": "Wed",
         "showlegend": true,
         "type": "scattergl",
         "x": [
          44,
          38,
          14,
          23,
          12,
          17,
          40,
          85,
          143,
          197,
          220,
          255,
          295,
          286,
          268,
          240,
          211,
          177,
          159,
          152,
          165,
          197,
          144,
          92,
          46,
          25,
          18,
          16,
          17,
          25,
          33,
          92,
          159,
          208,
          239,
          292,
          320,
          276,
          292,
          221,
          275,
          203,
          178,
          191,
          212,
          205,
          130,
          90,
          49,
          45,
          13,
          17,
          8,
          17,
          41,
          65,
          148,
          210,
          215,
          263,
          276,
          244,
          250,
          237,
          252,
          182,
          167,
          207,
          138,
          184,
          143,
          87,
          45,
          37,
          25,
          6,
          13,
          24,
          24,
          66,
          108,
          206,
          182,
          174,
          189,
          172,
          174,
          164,
          204,
          162,
          152,
          174,
          141,
          137,
          120,
          55,
          41,
          26,
          18,
          11,
          16,
          25,
          29,
          78,
          93,
          133,
          219,
          238,
          212,
          184,
          148,
          169,
          184,
          148,
          162,
          114,
          143,
          123,
          112,
          67,
          50,
          23,
          32,
          13,
          10,
          14,
          40,
          60,
          120,
          223,
          251,
          290,
          263,
          292,
          210,
          254,
          219,
          206,
          183,
          181,
          203,
          178,
          137,
          90,
          55,
          38,
          20,
          16,
          22,
          21,
          55,
          117,
          158,
          229,
          252,
          338,
          338,
          290,
          286,
          248,
          315,
          234,
          189,
          178,
          235,
          200,
          139,
          93
         ],
         "xaxis": "x",
         "y": [
          0,
          0,
          0,
          0,
          0,
          0,
          0,
          0,
          0,
          3,
          0,
          4,
          0,
          3,
          0,
          3,
          3,
          1,
          0,
          8,
          72,
          0,
          31,
          0,
          0,
          0,
          0,
          0,
          0,
          0,
          0,
          0,
          21,
          2,
          7,
          3,
          2,
          8,
          4,
          27,
          23,
          7,
          0,
          5,
          7,
          5,
          62,
          2,
          0,
          0,
          0,
          0,
          0,
          0,
          0,
          0,
          0,
          0,
          0,
          0,
          0,
          9,
          1,
          29,
          0,
          0,
          0,
          4,
          0,
          0,
          18,
          1,
          0,
          0,
          0,
          0,
          0,
          0,
          8,
          0,
          0,
          0,
          0,
          0,
          0,
          0,
          0,
          0,
          0,
          0,
          0,
          5,
          0,
          11,
          6,
          0,
          0,
          0,
          0,
          0,
          0,
          0,
          0,
          0,
          0,
          0,
          9,
          0,
          15,
          0,
          0,
          10,
          4,
          9,
          14,
          14,
          0,
          0,
          0,
          9,
          0,
          0,
          0,
          0,
          0,
          0,
          0,
          0,
          0,
          0,
          0,
          3,
          0,
          0,
          0,
          7,
          0,
          31,
          0,
          2,
          7,
          0,
          0,
          22,
          1,
          0,
          0,
          0,
          0,
          0,
          0,
          0,
          38,
          0,
          0,
          0,
          0,
          0,
          0,
          0,
          11,
          0,
          0,
          0,
          6,
          0,
          0,
          14
         ],
         "yaxis": "y"
        },
        {
         "customdata": [
          [
           "Jul"
          ],
          [
           "Jul"
          ],
          [
           "Jul"
          ],
          [
           "Jul"
          ],
          [
           "Jul"
          ],
          [
           "Jul"
          ],
          [
           "Jul"
          ],
          [
           "Jul"
          ],
          [
           "Jul"
          ],
          [
           "Jul"
          ],
          [
           "Jul"
          ],
          [
           "Jul"
          ],
          [
           "Jul"
          ],
          [
           "Jul"
          ],
          [
           "Jul"
          ],
          [
           "Jul"
          ],
          [
           "Jul"
          ],
          [
           "Jul"
          ],
          [
           "Jul"
          ],
          [
           "Jul"
          ],
          [
           "Jul"
          ],
          [
           "Jul"
          ],
          [
           "Jul"
          ],
          [
           "Jul"
          ],
          [
           "Jul"
          ],
          [
           "Jul"
          ],
          [
           "Jul"
          ],
          [
           "Jul"
          ],
          [
           "Jul"
          ],
          [
           "Jul"
          ],
          [
           "Jul"
          ],
          [
           "Jul"
          ],
          [
           "Jul"
          ],
          [
           "Jul"
          ],
          [
           "Jul"
          ],
          [
           "Jul"
          ],
          [
           "Jul"
          ],
          [
           "Jul"
          ],
          [
           "Jul"
          ],
          [
           "Jul"
          ],
          [
           "Jul"
          ],
          [
           "Jul"
          ],
          [
           "Jul"
          ],
          [
           "Jul"
          ],
          [
           "Jul"
          ],
          [
           "Jul"
          ],
          [
           "Jul"
          ],
          [
           "Jul"
          ],
          [
           "Jul"
          ],
          [
           "Jul"
          ],
          [
           "Jul"
          ],
          [
           "Jul"
          ],
          [
           "Jul"
          ],
          [
           "Jul"
          ],
          [
           "Jul"
          ],
          [
           "Jul"
          ],
          [
           "Jul"
          ],
          [
           "Jul"
          ],
          [
           "Jul"
          ],
          [
           "Jul"
          ],
          [
           "Jul"
          ],
          [
           "Jul"
          ],
          [
           "Jul"
          ],
          [
           "Jul"
          ],
          [
           "Jul"
          ],
          [
           "Jul"
          ],
          [
           "Jul"
          ],
          [
           "Jul"
          ],
          [
           "Jul"
          ],
          [
           "Jul"
          ],
          [
           "Jul"
          ],
          [
           "Jul"
          ],
          [
           "Aug"
          ],
          [
           "Aug"
          ],
          [
           "Aug"
          ],
          [
           "Aug"
          ],
          [
           "Aug"
          ],
          [
           "Aug"
          ],
          [
           "Aug"
          ],
          [
           "Aug"
          ],
          [
           "Aug"
          ],
          [
           "Aug"
          ],
          [
           "Aug"
          ],
          [
           "Aug"
          ],
          [
           "Aug"
          ],
          [
           "Aug"
          ],
          [
           "Aug"
          ],
          [
           "Aug"
          ],
          [
           "Aug"
          ],
          [
           "Aug"
          ],
          [
           "Aug"
          ],
          [
           "Aug"
          ],
          [
           "Aug"
          ],
          [
           "Aug"
          ],
          [
           "Aug"
          ],
          [
           "Aug"
          ],
          [
           "Aug"
          ],
          [
           "Aug"
          ],
          [
           "Aug"
          ],
          [
           "Aug"
          ],
          [
           "Aug"
          ],
          [
           "Aug"
          ],
          [
           "Aug"
          ],
          [
           "Aug"
          ],
          [
           "Aug"
          ],
          [
           "Aug"
          ],
          [
           "Aug"
          ],
          [
           "Aug"
          ],
          [
           "Aug"
          ],
          [
           "Aug"
          ],
          [
           "Aug"
          ],
          [
           "Aug"
          ],
          [
           "Aug"
          ],
          [
           "Aug"
          ],
          [
           "Aug"
          ],
          [
           "Aug"
          ],
          [
           "Aug"
          ],
          [
           "Aug"
          ],
          [
           "Aug"
          ],
          [
           "Aug"
          ],
          [
           "Aug"
          ],
          [
           "Aug"
          ],
          [
           "Aug"
          ],
          [
           "Aug"
          ],
          [
           "Aug"
          ],
          [
           "Aug"
          ],
          [
           "Aug"
          ],
          [
           "Aug"
          ],
          [
           "Aug"
          ],
          [
           "Aug"
          ],
          [
           "Aug"
          ],
          [
           "Aug"
          ],
          [
           "Aug"
          ],
          [
           "Aug"
          ],
          [
           "Aug"
          ],
          [
           "Aug"
          ],
          [
           "Aug"
          ],
          [
           "Aug"
          ],
          [
           "Aug"
          ],
          [
           "Aug"
          ],
          [
           "Aug"
          ],
          [
           "Aug"
          ],
          [
           "Aug"
          ],
          [
           "Aug"
          ],
          [
           "Aug"
          ],
          [
           "Aug"
          ],
          [
           "Aug"
          ],
          [
           "Aug"
          ],
          [
           "Aug"
          ],
          [
           "Aug"
          ],
          [
           "Aug"
          ],
          [
           "Aug"
          ],
          [
           "Aug"
          ],
          [
           "Aug"
          ],
          [
           "Aug"
          ],
          [
           "Aug"
          ],
          [
           "Aug"
          ],
          [
           "Aug"
          ],
          [
           "Aug"
          ],
          [
           "Aug"
          ],
          [
           "Aug"
          ],
          [
           "Aug"
          ],
          [
           "Aug"
          ],
          [
           "Aug"
          ],
          [
           "Aug"
          ],
          [
           "Aug"
          ],
          [
           "Aug"
          ],
          [
           "Aug"
          ]
         ],
         "hovertemplate": "Weekday=Thu<br>Page Views=%{x}<br>NetA_imp=%{marker.size}<br>Month=%{customdata[0]}<extra></extra>",
         "legendgroup": "Thu",
         "marker": {
          "color": "#FFA15A",
          "size": [
           0,
           0,
           0,
           0,
           0,
           0,
           3,
           0,
           3,
           15,
           2,
           14,
           16,
           1,
           0,
           16,
           4,
           0,
           0,
           26,
           0,
           37,
           17,
           0,
           0,
           0,
           0,
           0,
           0,
           0,
           0,
           0,
           2,
           2,
           1,
           0,
           9,
           11,
           18,
           8,
           3,
           29,
           0,
           44,
           36,
           0,
           48,
           1,
           0,
           0,
           0,
           0,
           0,
           0,
           0,
           0,
           6,
           0,
           0,
           0,
           0,
           0,
           0,
           0,
           0,
           6,
           14,
           0,
           0,
           0,
           0,
           0,
           0,
           0,
           0,
           0,
           0,
           0,
           0,
           0,
           0,
           0,
           0,
           0,
           0,
           0,
           0,
           0,
           2,
           0,
           0,
           0,
           0,
           0,
           0,
           0,
           0,
           0,
           0,
           0,
           0,
           0,
           0,
           0,
           8,
           0,
           0,
           0,
           0,
           0,
           5,
           11,
           0,
           3,
           0,
           53,
           90,
           0,
           18,
           5,
           0,
           0,
           0,
           0,
           0,
           0,
           0,
           0,
           0,
           0,
           0,
           3,
           0,
           0,
           0,
           0,
           0,
           8,
           72,
           54,
           0,
           69,
           0,
           2,
           0,
           0,
           0,
           0,
           0,
           0,
           0,
           0,
           0,
           0,
           7,
           0,
           0,
           0,
           0,
           0,
           0,
           2,
           17,
           31,
           19,
           5,
           3,
           0
          ],
          "sizemode": "area",
          "sizeref": 0.6125,
          "symbol": "circle"
         },
         "mode": "markers",
         "name": "Thu",
         "showlegend": true,
         "type": "scattergl",
         "x": [
          60,
          25,
          18,
          17,
          12,
          16,
          29,
          65,
          137,
          197,
          244,
          278,
          280,
          269,
          226,
          264,
          250,
          187,
          185,
          175,
          173,
          186,
          157,
          97,
          53,
          40,
          16,
          20,
          10,
          26,
          35,
          76,
          124,
          204,
          246,
          264,
          264,
          276,
          273,
          257,
          256,
          205,
          187,
          214,
          207,
          208,
          141,
          89,
          63,
          43,
          20,
          10,
          18,
          19,
          32,
          76,
          129,
          198,
          230,
          250,
          280,
          230,
          253,
          255,
          232,
          222,
          186,
          201,
          187,
          250,
          142,
          105,
          39,
          33,
          19,
          10,
          4,
          13,
          32,
          69,
          103,
          160,
          179,
          199,
          162,
          171,
          190,
          227,
          191,
          153,
          152,
          174,
          177,
          140,
          102,
          84,
          45,
          31,
          8,
          15,
          10,
          17,
          40,
          73,
          107,
          143,
          171,
          163,
          220,
          167,
          176,
          172,
          213,
          166,
          128,
          127,
          146,
          132,
          89,
          70,
          40,
          30,
          20,
          15,
          8,
          17,
          32,
          96,
          101,
          182,
          220,
          217,
          274,
          174,
          249,
          191,
          190,
          163,
          146,
          160,
          175,
          178,
          128,
          87,
          54,
          44,
          28,
          17,
          13,
          29,
          58,
          98,
          103,
          172,
          202,
          180,
          222,
          219,
          188,
          200,
          208,
          185,
          166,
          183,
          159,
          216,
          157,
          66
         ],
         "xaxis": "x",
         "y": [
          0,
          0,
          0,
          0,
          0,
          0,
          3,
          0,
          3,
          15,
          2,
          14,
          16,
          1,
          0,
          16,
          4,
          0,
          0,
          26,
          0,
          37,
          17,
          0,
          0,
          0,
          0,
          0,
          0,
          0,
          0,
          0,
          2,
          2,
          1,
          0,
          9,
          11,
          18,
          8,
          3,
          29,
          0,
          44,
          36,
          0,
          48,
          1,
          0,
          0,
          0,
          0,
          0,
          0,
          0,
          0,
          6,
          0,
          0,
          0,
          0,
          0,
          0,
          0,
          0,
          6,
          14,
          0,
          0,
          0,
          0,
          0,
          0,
          0,
          0,
          0,
          0,
          0,
          0,
          0,
          0,
          0,
          0,
          0,
          0,
          0,
          0,
          0,
          2,
          0,
          0,
          0,
          0,
          0,
          0,
          0,
          0,
          0,
          0,
          0,
          0,
          0,
          0,
          0,
          8,
          0,
          0,
          0,
          0,
          0,
          5,
          11,
          0,
          3,
          0,
          53,
          90,
          0,
          18,
          5,
          0,
          0,
          0,
          0,
          0,
          0,
          0,
          0,
          0,
          0,
          0,
          3,
          0,
          0,
          0,
          0,
          0,
          8,
          72,
          54,
          0,
          69,
          0,
          2,
          0,
          0,
          0,
          0,
          0,
          0,
          0,
          0,
          0,
          0,
          7,
          0,
          0,
          0,
          0,
          0,
          0,
          2,
          17,
          31,
          19,
          5,
          3,
          0
         ],
         "yaxis": "y"
        },
        {
         "customdata": [
          [
           "Jul"
          ],
          [
           "Jul"
          ],
          [
           "Jul"
          ],
          [
           "Jul"
          ],
          [
           "Jul"
          ],
          [
           "Jul"
          ],
          [
           "Jul"
          ],
          [
           "Jul"
          ],
          [
           "Jul"
          ],
          [
           "Jul"
          ],
          [
           "Jul"
          ],
          [
           "Jul"
          ],
          [
           "Jul"
          ],
          [
           "Jul"
          ],
          [
           "Jul"
          ],
          [
           "Jul"
          ],
          [
           "Jul"
          ],
          [
           "Jul"
          ],
          [
           "Jul"
          ],
          [
           "Jul"
          ],
          [
           "Jul"
          ],
          [
           "Jul"
          ],
          [
           "Jul"
          ],
          [
           "Jul"
          ],
          [
           "Jul"
          ],
          [
           "Jul"
          ],
          [
           "Jul"
          ],
          [
           "Jul"
          ],
          [
           "Jul"
          ],
          [
           "Jul"
          ],
          [
           "Jul"
          ],
          [
           "Jul"
          ],
          [
           "Jul"
          ],
          [
           "Jul"
          ],
          [
           "Jul"
          ],
          [
           "Jul"
          ],
          [
           "Jul"
          ],
          [
           "Jul"
          ],
          [
           "Jul"
          ],
          [
           "Jul"
          ],
          [
           "Jul"
          ],
          [
           "Jul"
          ],
          [
           "Jul"
          ],
          [
           "Jul"
          ],
          [
           "Jul"
          ],
          [
           "Jul"
          ],
          [
           "Jul"
          ],
          [
           "Jul"
          ],
          [
           "Jul"
          ],
          [
           "Jul"
          ],
          [
           "Jul"
          ],
          [
           "Jul"
          ],
          [
           "Jul"
          ],
          [
           "Jul"
          ],
          [
           "Jul"
          ],
          [
           "Jul"
          ],
          [
           "Jul"
          ],
          [
           "Jul"
          ],
          [
           "Jul"
          ],
          [
           "Jul"
          ],
          [
           "Jul"
          ],
          [
           "Jul"
          ],
          [
           "Jul"
          ],
          [
           "Jul"
          ],
          [
           "Jul"
          ],
          [
           "Jul"
          ],
          [
           "Jul"
          ],
          [
           "Jul"
          ],
          [
           "Jul"
          ],
          [
           "Jul"
          ],
          [
           "Jul"
          ],
          [
           "Jul"
          ],
          [
           "Aug"
          ],
          [
           "Aug"
          ],
          [
           "Aug"
          ],
          [
           "Aug"
          ],
          [
           "Aug"
          ],
          [
           "Aug"
          ],
          [
           "Aug"
          ],
          [
           "Aug"
          ],
          [
           "Aug"
          ],
          [
           "Aug"
          ],
          [
           "Aug"
          ],
          [
           "Aug"
          ],
          [
           "Aug"
          ],
          [
           "Aug"
          ],
          [
           "Aug"
          ],
          [
           "Aug"
          ],
          [
           "Aug"
          ],
          [
           "Aug"
          ],
          [
           "Aug"
          ],
          [
           "Aug"
          ],
          [
           "Aug"
          ],
          [
           "Aug"
          ],
          [
           "Aug"
          ],
          [
           "Aug"
          ],
          [
           "Aug"
          ],
          [
           "Aug"
          ],
          [
           "Aug"
          ],
          [
           "Aug"
          ],
          [
           "Aug"
          ],
          [
           "Aug"
          ],
          [
           "Aug"
          ],
          [
           "Aug"
          ],
          [
           "Aug"
          ],
          [
           "Aug"
          ],
          [
           "Aug"
          ],
          [
           "Aug"
          ],
          [
           "Aug"
          ],
          [
           "Aug"
          ],
          [
           "Aug"
          ],
          [
           "Aug"
          ],
          [
           "Aug"
          ],
          [
           "Aug"
          ],
          [
           "Aug"
          ],
          [
           "Aug"
          ],
          [
           "Aug"
          ],
          [
           "Aug"
          ],
          [
           "Aug"
          ],
          [
           "Aug"
          ],
          [
           "Aug"
          ],
          [
           "Aug"
          ],
          [
           "Aug"
          ],
          [
           "Aug"
          ],
          [
           "Aug"
          ],
          [
           "Aug"
          ],
          [
           "Aug"
          ],
          [
           "Aug"
          ],
          [
           "Aug"
          ],
          [
           "Aug"
          ],
          [
           "Aug"
          ],
          [
           "Aug"
          ],
          [
           "Aug"
          ],
          [
           "Aug"
          ],
          [
           "Aug"
          ],
          [
           "Aug"
          ],
          [
           "Aug"
          ],
          [
           "Aug"
          ],
          [
           "Aug"
          ],
          [
           "Aug"
          ],
          [
           "Aug"
          ],
          [
           "Aug"
          ],
          [
           "Aug"
          ],
          [
           "Aug"
          ],
          [
           "Aug"
          ],
          [
           "Aug"
          ],
          [
           "Aug"
          ],
          [
           "Aug"
          ],
          [
           "Aug"
          ],
          [
           "Aug"
          ],
          [
           "Aug"
          ],
          [
           "Aug"
          ],
          [
           "Aug"
          ],
          [
           "Aug"
          ],
          [
           "Aug"
          ],
          [
           "Aug"
          ],
          [
           "Aug"
          ],
          [
           "Aug"
          ],
          [
           "Aug"
          ],
          [
           "Aug"
          ],
          [
           "Aug"
          ],
          [
           "Aug"
          ],
          [
           "Aug"
          ],
          [
           "Aug"
          ],
          [
           "Aug"
          ],
          [
           "Aug"
          ],
          [
           "Aug"
          ],
          [
           "Aug"
          ]
         ],
         "hovertemplate": "Weekday=Fri<br>Page Views=%{x}<br>NetA_imp=%{marker.size}<br>Month=%{customdata[0]}<extra></extra>",
         "legendgroup": "Fri",
         "marker": {
          "color": "#19d3f3",
          "size": [
           0,
           0,
           0,
           0,
           0,
           0,
           0,
           0,
           0,
           0,
           0,
           5,
           12,
           0,
           0,
           0,
           0,
           30,
           0,
           0,
           30,
           27,
           0,
           0,
           0,
           0,
           0,
           0,
           0,
           0,
           0,
           2,
           0,
           3,
           6,
           0,
           3,
           4,
           6,
           2,
           2,
           6,
           7,
           2,
           5,
           12,
           4,
           0,
           0,
           0,
           0,
           0,
           0,
           0,
           0,
           0,
           0,
           0,
           0,
           0,
           0,
           0,
           0,
           8,
           2,
           7,
           0,
           0,
           0,
           0,
           7,
           7,
           0,
           0,
           0,
           0,
           0,
           0,
           0,
           0,
           0,
           0,
           0,
           0,
           0,
           0,
           0,
           6,
           0,
           0,
           0,
           0,
           0,
           0,
           29,
           5,
           0,
           0,
           0,
           0,
           0,
           0,
           0,
           0,
           0,
           0,
           0,
           0,
           0,
           0,
           0,
           15,
           10,
           0,
           24,
           0,
           0,
           0,
           0,
           0,
           0,
           0,
           0,
           0,
           0,
           0,
           0,
           0,
           0,
           0,
           0,
           0,
           8,
           0,
           0,
           0,
           9,
           0,
           2,
           0,
           0,
           0,
           2,
           3,
           0,
           0,
           0,
           0,
           0,
           0,
           21,
           0,
           17,
           0,
           0,
           0,
           0,
           6,
           0,
           15,
           3,
           0,
           24,
           53,
           1,
           0,
           0,
           0
          ],
          "sizemode": "area",
          "sizeref": 0.6125,
          "symbol": "circle"
         },
         "mode": "markers",
         "name": "Fri",
         "showlegend": true,
         "type": "scattergl",
         "x": [
          53,
          31,
          18,
          13,
          18,
          21,
          42,
          63,
          158,
          196,
          248,
          258,
          279,
          226,
          249,
          246,
          212,
          159,
          135,
          168,
          144,
          161,
          110,
          69,
          52,
          40,
          21,
          26,
          16,
          26,
          23,
          63,
          135,
          230,
          269,
          263,
          267,
          241,
          275,
          269,
          291,
          201,
          176,
          170,
          152,
          128,
          117,
          87,
          60,
          45,
          18,
          21,
          21,
          21,
          56,
          75,
          139,
          206,
          223,
          248,
          258,
          233,
          210,
          225,
          219,
          178,
          175,
          153,
          183,
          170,
          126,
          104,
          37,
          38,
          15,
          18,
          18,
          25,
          34,
          54,
          113,
          147,
          183,
          201,
          189,
          204,
          154,
          191,
          196,
          143,
          124,
          139,
          101,
          126,
          138,
          70,
          38,
          36,
          28,
          28,
          19,
          18,
          33,
          63,
          109,
          196,
          184,
          220,
          251,
          210,
          216,
          192,
          208,
          169,
          142,
          146,
          130,
          129,
          83,
          74,
          42,
          17,
          11,
          9,
          12,
          26,
          54,
          109,
          126,
          192,
          172,
          189,
          229,
          198,
          169,
          186,
          211,
          115,
          130,
          127,
          130,
          91,
          101,
          68,
          51,
          30,
          22,
          16,
          11,
          10,
          24,
          81,
          117,
          174,
          202,
          252,
          203,
          225,
          189,
          213,
          246,
          177,
          128,
          147,
          155,
          157,
          114,
          87
         ],
         "xaxis": "x",
         "y": [
          0,
          0,
          0,
          0,
          0,
          0,
          0,
          0,
          0,
          0,
          0,
          5,
          12,
          0,
          0,
          0,
          0,
          30,
          0,
          0,
          30,
          27,
          0,
          0,
          0,
          0,
          0,
          0,
          0,
          0,
          0,
          2,
          0,
          3,
          6,
          0,
          3,
          4,
          6,
          2,
          2,
          6,
          7,
          2,
          5,
          12,
          4,
          0,
          0,
          0,
          0,
          0,
          0,
          0,
          0,
          0,
          0,
          0,
          0,
          0,
          0,
          0,
          0,
          8,
          2,
          7,
          0,
          0,
          0,
          0,
          7,
          7,
          0,
          0,
          0,
          0,
          0,
          0,
          0,
          0,
          0,
          0,
          0,
          0,
          0,
          0,
          0,
          6,
          0,
          0,
          0,
          0,
          0,
          0,
          29,
          5,
          0,
          0,
          0,
          0,
          0,
          0,
          0,
          0,
          0,
          0,
          0,
          0,
          0,
          0,
          0,
          15,
          10,
          0,
          24,
          0,
          0,
          0,
          0,
          0,
          0,
          0,
          0,
          0,
          0,
          0,
          0,
          0,
          0,
          0,
          0,
          0,
          8,
          0,
          0,
          0,
          9,
          0,
          2,
          0,
          0,
          0,
          2,
          3,
          0,
          0,
          0,
          0,
          0,
          0,
          21,
          0,
          17,
          0,
          0,
          0,
          0,
          6,
          0,
          15,
          3,
          0,
          24,
          53,
          1,
          0,
          0,
          0
         ],
         "yaxis": "y"
        },
        {
         "customdata": [
          [
           "Jul"
          ],
          [
           "Jul"
          ],
          [
           "Jul"
          ],
          [
           "Jul"
          ],
          [
           "Jul"
          ],
          [
           "Jul"
          ],
          [
           "Jul"
          ],
          [
           "Jul"
          ],
          [
           "Jul"
          ],
          [
           "Jul"
          ],
          [
           "Jul"
          ],
          [
           "Jul"
          ],
          [
           "Jul"
          ],
          [
           "Jul"
          ],
          [
           "Jul"
          ],
          [
           "Jul"
          ],
          [
           "Jul"
          ],
          [
           "Jul"
          ],
          [
           "Jul"
          ],
          [
           "Jul"
          ],
          [
           "Jul"
          ],
          [
           "Jul"
          ],
          [
           "Jul"
          ],
          [
           "Jul"
          ],
          [
           "Jul"
          ],
          [
           "Jul"
          ],
          [
           "Jul"
          ],
          [
           "Jul"
          ],
          [
           "Jul"
          ],
          [
           "Jul"
          ],
          [
           "Jul"
          ],
          [
           "Jul"
          ],
          [
           "Jul"
          ],
          [
           "Jul"
          ],
          [
           "Jul"
          ],
          [
           "Jul"
          ],
          [
           "Jul"
          ],
          [
           "Jul"
          ],
          [
           "Jul"
          ],
          [
           "Jul"
          ],
          [
           "Jul"
          ],
          [
           "Jul"
          ],
          [
           "Jul"
          ],
          [
           "Jul"
          ],
          [
           "Jul"
          ],
          [
           "Jul"
          ],
          [
           "Jul"
          ],
          [
           "Jul"
          ],
          [
           "Jul"
          ],
          [
           "Jul"
          ],
          [
           "Jul"
          ],
          [
           "Jul"
          ],
          [
           "Jul"
          ],
          [
           "Jul"
          ],
          [
           "Jul"
          ],
          [
           "Jul"
          ],
          [
           "Jul"
          ],
          [
           "Jul"
          ],
          [
           "Jul"
          ],
          [
           "Jul"
          ],
          [
           "Jul"
          ],
          [
           "Jul"
          ],
          [
           "Jul"
          ],
          [
           "Jul"
          ],
          [
           "Jul"
          ],
          [
           "Jul"
          ],
          [
           "Jul"
          ],
          [
           "Jul"
          ],
          [
           "Jul"
          ],
          [
           "Jul"
          ],
          [
           "Jul"
          ],
          [
           "Jul"
          ],
          [
           "Aug"
          ],
          [
           "Aug"
          ],
          [
           "Aug"
          ],
          [
           "Aug"
          ],
          [
           "Aug"
          ],
          [
           "Aug"
          ],
          [
           "Aug"
          ],
          [
           "Aug"
          ],
          [
           "Aug"
          ],
          [
           "Aug"
          ],
          [
           "Aug"
          ],
          [
           "Aug"
          ],
          [
           "Aug"
          ],
          [
           "Aug"
          ],
          [
           "Aug"
          ],
          [
           "Aug"
          ],
          [
           "Aug"
          ],
          [
           "Aug"
          ],
          [
           "Aug"
          ],
          [
           "Aug"
          ],
          [
           "Aug"
          ],
          [
           "Aug"
          ],
          [
           "Aug"
          ],
          [
           "Aug"
          ],
          [
           "Aug"
          ],
          [
           "Aug"
          ],
          [
           "Aug"
          ],
          [
           "Aug"
          ],
          [
           "Aug"
          ],
          [
           "Aug"
          ],
          [
           "Aug"
          ],
          [
           "Aug"
          ],
          [
           "Aug"
          ],
          [
           "Aug"
          ],
          [
           "Aug"
          ],
          [
           "Aug"
          ],
          [
           "Aug"
          ],
          [
           "Aug"
          ],
          [
           "Aug"
          ],
          [
           "Aug"
          ],
          [
           "Aug"
          ],
          [
           "Aug"
          ],
          [
           "Aug"
          ],
          [
           "Aug"
          ],
          [
           "Aug"
          ],
          [
           "Aug"
          ],
          [
           "Aug"
          ],
          [
           "Aug"
          ],
          [
           "Aug"
          ],
          [
           "Aug"
          ],
          [
           "Aug"
          ],
          [
           "Aug"
          ],
          [
           "Aug"
          ],
          [
           "Aug"
          ],
          [
           "Aug"
          ],
          [
           "Aug"
          ],
          [
           "Aug"
          ],
          [
           "Aug"
          ],
          [
           "Aug"
          ],
          [
           "Aug"
          ],
          [
           "Aug"
          ],
          [
           "Aug"
          ],
          [
           "Aug"
          ],
          [
           "Aug"
          ],
          [
           "Aug"
          ],
          [
           "Aug"
          ],
          [
           "Aug"
          ],
          [
           "Aug"
          ],
          [
           "Aug"
          ],
          [
           "Aug"
          ],
          [
           "Aug"
          ],
          [
           "Aug"
          ],
          [
           "Aug"
          ],
          [
           "Aug"
          ],
          [
           "Aug"
          ],
          [
           "Aug"
          ],
          [
           "Aug"
          ],
          [
           "Aug"
          ],
          [
           "Aug"
          ],
          [
           "Aug"
          ],
          [
           "Aug"
          ],
          [
           "Aug"
          ],
          [
           "Aug"
          ],
          [
           "Aug"
          ],
          [
           "Aug"
          ],
          [
           "Aug"
          ],
          [
           "Aug"
          ],
          [
           "Aug"
          ],
          [
           "Aug"
          ],
          [
           "Aug"
          ],
          [
           "Aug"
          ],
          [
           "Aug"
          ],
          [
           "Aug"
          ],
          [
           "Aug"
          ],
          [
           "Aug"
          ],
          [
           "Aug"
          ]
         ],
         "hovertemplate": "Weekday=Sat<br>Page Views=%{x}<br>NetA_imp=%{marker.size}<br>Month=%{customdata[0]}<extra></extra>",
         "legendgroup": "Sat",
         "marker": {
          "color": "#FF6692",
          "size": [
           0,
           0,
           0,
           0,
           0,
           0,
           0,
           0,
           0,
           0,
           0,
           2,
           0,
           7,
           0,
           0,
           2,
           32,
           0,
           0,
           22,
           0,
           0,
           0,
           0,
           0,
           0,
           0,
           0,
           0,
           0,
           0,
           12,
           8,
           3,
           0,
           1,
           2,
           13,
           23,
           30,
           4,
           17,
           12,
           7,
           3,
           15,
           5,
           0,
           0,
           0,
           0,
           0,
           0,
           0,
           0,
           0,
           0,
           0,
           0,
           4,
           0,
           5,
           3,
           15,
           13,
           9,
           0,
           0,
           0,
           0,
           0,
           0,
           0,
           0,
           0,
           0,
           0,
           0,
           3,
           0,
           0,
           0,
           0,
           0,
           0,
           10,
           6,
           0,
           0,
           2,
           0,
           0,
           0,
           0,
           0,
           0,
           0,
           0,
           0,
           0,
           0,
           0,
           0,
           0,
           0,
           7,
           0,
           0,
           0,
           8,
           0,
           21,
           38,
           1,
           0,
           0,
           0,
           2,
           1,
           0,
           0,
           0,
           0,
           0,
           0,
           0,
           0,
           0,
           0,
           0,
           0,
           0,
           0,
           0,
           10,
           8,
           22,
           11,
           0,
           0,
           0,
           0,
           1,
           0,
           0,
           0,
           0,
           0,
           0,
           0,
           0,
           0,
           0,
           5,
           0,
           9,
           0,
           0,
           9,
           0,
           4,
           1,
           0,
           1,
           57,
           0,
           8
          ],
          "sizemode": "area",
          "sizeref": 0.6125,
          "symbol": "circle"
         },
         "mode": "markers",
         "name": "Sat",
         "showlegend": true,
         "type": "scattergl",
         "x": [
          59,
          34,
          17,
          12,
          12,
          11,
          29,
          86,
          135,
          178,
          226,
          254,
          272,
          247,
          304,
          254,
          261,
          192,
          143,
          162,
          127,
          130,
          110,
          77,
          57,
          32,
          20,
          20,
          11,
          33,
          26,
          73,
          145,
          171,
          249,
          260,
          259,
          270,
          266,
          241,
          239,
          193,
          161,
          157,
          169,
          138,
          140,
          100,
          67,
          37,
          24,
          21,
          16,
          12,
          44,
          90,
          146,
          195,
          274,
          280,
          292,
          244,
          220,
          225,
          237,
          197,
          170,
          140,
          146,
          123,
          125,
          85,
          52,
          31,
          12,
          13,
          13,
          15,
          33,
          55,
          153,
          163,
          186,
          222,
          217,
          209,
          160,
          168,
          222,
          135,
          121,
          121,
          129,
          118,
          108,
          92,
          43,
          25,
          20,
          6,
          7,
          17,
          24,
          58,
          137,
          170,
          209,
          270,
          231,
          188,
          183,
          246,
          221,
          148,
          125,
          141,
          107,
          115,
          80,
          102,
          67,
          27,
          9,
          14,
          18,
          16,
          18,
          66,
          106,
          189,
          240,
          252,
          176,
          190,
          200,
          212,
          180,
          155,
          126,
          121,
          133,
          138,
          92,
          64,
          51,
          28,
          25,
          20,
          11,
          17,
          35,
          81,
          136,
          173,
          215,
          231,
          214,
          241,
          244,
          238,
          206,
          196,
          148,
          148,
          153,
          134,
          89,
          73
         ],
         "xaxis": "x",
         "y": [
          0,
          0,
          0,
          0,
          0,
          0,
          0,
          0,
          0,
          0,
          0,
          2,
          0,
          7,
          0,
          0,
          2,
          32,
          0,
          0,
          22,
          0,
          0,
          0,
          0,
          0,
          0,
          0,
          0,
          0,
          0,
          0,
          12,
          8,
          3,
          0,
          1,
          2,
          13,
          23,
          30,
          4,
          17,
          12,
          7,
          3,
          15,
          5,
          0,
          0,
          0,
          0,
          0,
          0,
          0,
          0,
          0,
          0,
          0,
          0,
          4,
          0,
          5,
          3,
          15,
          13,
          9,
          0,
          0,
          0,
          0,
          0,
          0,
          0,
          0,
          0,
          0,
          0,
          0,
          3,
          0,
          0,
          0,
          0,
          0,
          0,
          10,
          6,
          0,
          0,
          2,
          0,
          0,
          0,
          0,
          0,
          0,
          0,
          0,
          0,
          0,
          0,
          0,
          0,
          0,
          0,
          7,
          0,
          0,
          0,
          8,
          0,
          21,
          38,
          1,
          0,
          0,
          0,
          2,
          1,
          0,
          0,
          0,
          0,
          0,
          0,
          0,
          0,
          0,
          0,
          0,
          0,
          0,
          0,
          0,
          10,
          8,
          22,
          11,
          0,
          0,
          0,
          0,
          1,
          0,
          0,
          0,
          0,
          0,
          0,
          0,
          0,
          0,
          0,
          5,
          0,
          9,
          0,
          0,
          9,
          0,
          4,
          1,
          0,
          1,
          57,
          0,
          8
         ],
         "yaxis": "y"
        }
       ],
       "layout": {
        "legend": {
         "itemsizing": "constant",
         "title": {
          "text": "Weekday"
         },
         "tracegroupgap": 0
        },
        "margin": {
         "t": 60
        },
        "template": {
         "data": {
          "bar": [
           {
            "error_x": {
             "color": "#2a3f5f"
            },
            "error_y": {
             "color": "#2a3f5f"
            },
            "marker": {
             "line": {
              "color": "#E5ECF6",
              "width": 0.5
             }
            },
            "type": "bar"
           }
          ],
          "barpolar": [
           {
            "marker": {
             "line": {
              "color": "#E5ECF6",
              "width": 0.5
             }
            },
            "type": "barpolar"
           }
          ],
          "carpet": [
           {
            "aaxis": {
             "endlinecolor": "#2a3f5f",
             "gridcolor": "white",
             "linecolor": "white",
             "minorgridcolor": "white",
             "startlinecolor": "#2a3f5f"
            },
            "baxis": {
             "endlinecolor": "#2a3f5f",
             "gridcolor": "white",
             "linecolor": "white",
             "minorgridcolor": "white",
             "startlinecolor": "#2a3f5f"
            },
            "type": "carpet"
           }
          ],
          "choropleth": [
           {
            "colorbar": {
             "outlinewidth": 0,
             "ticks": ""
            },
            "type": "choropleth"
           }
          ],
          "contour": [
           {
            "colorbar": {
             "outlinewidth": 0,
             "ticks": ""
            },
            "colorscale": [
             [
              0,
              "#0d0887"
             ],
             [
              0.1111111111111111,
              "#46039f"
             ],
             [
              0.2222222222222222,
              "#7201a8"
             ],
             [
              0.3333333333333333,
              "#9c179e"
             ],
             [
              0.4444444444444444,
              "#bd3786"
             ],
             [
              0.5555555555555556,
              "#d8576b"
             ],
             [
              0.6666666666666666,
              "#ed7953"
             ],
             [
              0.7777777777777778,
              "#fb9f3a"
             ],
             [
              0.8888888888888888,
              "#fdca26"
             ],
             [
              1,
              "#f0f921"
             ]
            ],
            "type": "contour"
           }
          ],
          "contourcarpet": [
           {
            "colorbar": {
             "outlinewidth": 0,
             "ticks": ""
            },
            "type": "contourcarpet"
           }
          ],
          "heatmap": [
           {
            "colorbar": {
             "outlinewidth": 0,
             "ticks": ""
            },
            "colorscale": [
             [
              0,
              "#0d0887"
             ],
             [
              0.1111111111111111,
              "#46039f"
             ],
             [
              0.2222222222222222,
              "#7201a8"
             ],
             [
              0.3333333333333333,
              "#9c179e"
             ],
             [
              0.4444444444444444,
              "#bd3786"
             ],
             [
              0.5555555555555556,
              "#d8576b"
             ],
             [
              0.6666666666666666,
              "#ed7953"
             ],
             [
              0.7777777777777778,
              "#fb9f3a"
             ],
             [
              0.8888888888888888,
              "#fdca26"
             ],
             [
              1,
              "#f0f921"
             ]
            ],
            "type": "heatmap"
           }
          ],
          "heatmapgl": [
           {
            "colorbar": {
             "outlinewidth": 0,
             "ticks": ""
            },
            "colorscale": [
             [
              0,
              "#0d0887"
             ],
             [
              0.1111111111111111,
              "#46039f"
             ],
             [
              0.2222222222222222,
              "#7201a8"
             ],
             [
              0.3333333333333333,
              "#9c179e"
             ],
             [
              0.4444444444444444,
              "#bd3786"
             ],
             [
              0.5555555555555556,
              "#d8576b"
             ],
             [
              0.6666666666666666,
              "#ed7953"
             ],
             [
              0.7777777777777778,
              "#fb9f3a"
             ],
             [
              0.8888888888888888,
              "#fdca26"
             ],
             [
              1,
              "#f0f921"
             ]
            ],
            "type": "heatmapgl"
           }
          ],
          "histogram": [
           {
            "marker": {
             "colorbar": {
              "outlinewidth": 0,
              "ticks": ""
             }
            },
            "type": "histogram"
           }
          ],
          "histogram2d": [
           {
            "colorbar": {
             "outlinewidth": 0,
             "ticks": ""
            },
            "colorscale": [
             [
              0,
              "#0d0887"
             ],
             [
              0.1111111111111111,
              "#46039f"
             ],
             [
              0.2222222222222222,
              "#7201a8"
             ],
             [
              0.3333333333333333,
              "#9c179e"
             ],
             [
              0.4444444444444444,
              "#bd3786"
             ],
             [
              0.5555555555555556,
              "#d8576b"
             ],
             [
              0.6666666666666666,
              "#ed7953"
             ],
             [
              0.7777777777777778,
              "#fb9f3a"
             ],
             [
              0.8888888888888888,
              "#fdca26"
             ],
             [
              1,
              "#f0f921"
             ]
            ],
            "type": "histogram2d"
           }
          ],
          "histogram2dcontour": [
           {
            "colorbar": {
             "outlinewidth": 0,
             "ticks": ""
            },
            "colorscale": [
             [
              0,
              "#0d0887"
             ],
             [
              0.1111111111111111,
              "#46039f"
             ],
             [
              0.2222222222222222,
              "#7201a8"
             ],
             [
              0.3333333333333333,
              "#9c179e"
             ],
             [
              0.4444444444444444,
              "#bd3786"
             ],
             [
              0.5555555555555556,
              "#d8576b"
             ],
             [
              0.6666666666666666,
              "#ed7953"
             ],
             [
              0.7777777777777778,
              "#fb9f3a"
             ],
             [
              0.8888888888888888,
              "#fdca26"
             ],
             [
              1,
              "#f0f921"
             ]
            ],
            "type": "histogram2dcontour"
           }
          ],
          "mesh3d": [
           {
            "colorbar": {
             "outlinewidth": 0,
             "ticks": ""
            },
            "type": "mesh3d"
           }
          ],
          "parcoords": [
           {
            "line": {
             "colorbar": {
              "outlinewidth": 0,
              "ticks": ""
             }
            },
            "type": "parcoords"
           }
          ],
          "pie": [
           {
            "automargin": true,
            "type": "pie"
           }
          ],
          "scatter": [
           {
            "marker": {
             "colorbar": {
              "outlinewidth": 0,
              "ticks": ""
             }
            },
            "type": "scatter"
           }
          ],
          "scatter3d": [
           {
            "line": {
             "colorbar": {
              "outlinewidth": 0,
              "ticks": ""
             }
            },
            "marker": {
             "colorbar": {
              "outlinewidth": 0,
              "ticks": ""
             }
            },
            "type": "scatter3d"
           }
          ],
          "scattercarpet": [
           {
            "marker": {
             "colorbar": {
              "outlinewidth": 0,
              "ticks": ""
             }
            },
            "type": "scattercarpet"
           }
          ],
          "scattergeo": [
           {
            "marker": {
             "colorbar": {
              "outlinewidth": 0,
              "ticks": ""
             }
            },
            "type": "scattergeo"
           }
          ],
          "scattergl": [
           {
            "marker": {
             "colorbar": {
              "outlinewidth": 0,
              "ticks": ""
             }
            },
            "type": "scattergl"
           }
          ],
          "scattermapbox": [
           {
            "marker": {
             "colorbar": {
              "outlinewidth": 0,
              "ticks": ""
             }
            },
            "type": "scattermapbox"
           }
          ],
          "scatterpolar": [
           {
            "marker": {
             "colorbar": {
              "outlinewidth": 0,
              "ticks": ""
             }
            },
            "type": "scatterpolar"
           }
          ],
          "scatterpolargl": [
           {
            "marker": {
             "colorbar": {
              "outlinewidth": 0,
              "ticks": ""
             }
            },
            "type": "scatterpolargl"
           }
          ],
          "scatterternary": [
           {
            "marker": {
             "colorbar": {
              "outlinewidth": 0,
              "ticks": ""
             }
            },
            "type": "scatterternary"
           }
          ],
          "surface": [
           {
            "colorbar": {
             "outlinewidth": 0,
             "ticks": ""
            },
            "colorscale": [
             [
              0,
              "#0d0887"
             ],
             [
              0.1111111111111111,
              "#46039f"
             ],
             [
              0.2222222222222222,
              "#7201a8"
             ],
             [
              0.3333333333333333,
              "#9c179e"
             ],
             [
              0.4444444444444444,
              "#bd3786"
             ],
             [
              0.5555555555555556,
              "#d8576b"
             ],
             [
              0.6666666666666666,
              "#ed7953"
             ],
             [
              0.7777777777777778,
              "#fb9f3a"
             ],
             [
              0.8888888888888888,
              "#fdca26"
             ],
             [
              1,
              "#f0f921"
             ]
            ],
            "type": "surface"
           }
          ],
          "table": [
           {
            "cells": {
             "fill": {
              "color": "#EBF0F8"
             },
             "line": {
              "color": "white"
             }
            },
            "header": {
             "fill": {
              "color": "#C8D4E3"
             },
             "line": {
              "color": "white"
             }
            },
            "type": "table"
           }
          ]
         },
         "layout": {
          "annotationdefaults": {
           "arrowcolor": "#2a3f5f",
           "arrowhead": 0,
           "arrowwidth": 1
          },
          "autotypenumbers": "strict",
          "coloraxis": {
           "colorbar": {
            "outlinewidth": 0,
            "ticks": ""
           }
          },
          "colorscale": {
           "diverging": [
            [
             0,
             "#8e0152"
            ],
            [
             0.1,
             "#c51b7d"
            ],
            [
             0.2,
             "#de77ae"
            ],
            [
             0.3,
             "#f1b6da"
            ],
            [
             0.4,
             "#fde0ef"
            ],
            [
             0.5,
             "#f7f7f7"
            ],
            [
             0.6,
             "#e6f5d0"
            ],
            [
             0.7,
             "#b8e186"
            ],
            [
             0.8,
             "#7fbc41"
            ],
            [
             0.9,
             "#4d9221"
            ],
            [
             1,
             "#276419"
            ]
           ],
           "sequential": [
            [
             0,
             "#0d0887"
            ],
            [
             0.1111111111111111,
             "#46039f"
            ],
            [
             0.2222222222222222,
             "#7201a8"
            ],
            [
             0.3333333333333333,
             "#9c179e"
            ],
            [
             0.4444444444444444,
             "#bd3786"
            ],
            [
             0.5555555555555556,
             "#d8576b"
            ],
            [
             0.6666666666666666,
             "#ed7953"
            ],
            [
             0.7777777777777778,
             "#fb9f3a"
            ],
            [
             0.8888888888888888,
             "#fdca26"
            ],
            [
             1,
             "#f0f921"
            ]
           ],
           "sequentialminus": [
            [
             0,
             "#0d0887"
            ],
            [
             0.1111111111111111,
             "#46039f"
            ],
            [
             0.2222222222222222,
             "#7201a8"
            ],
            [
             0.3333333333333333,
             "#9c179e"
            ],
            [
             0.4444444444444444,
             "#bd3786"
            ],
            [
             0.5555555555555556,
             "#d8576b"
            ],
            [
             0.6666666666666666,
             "#ed7953"
            ],
            [
             0.7777777777777778,
             "#fb9f3a"
            ],
            [
             0.8888888888888888,
             "#fdca26"
            ],
            [
             1,
             "#f0f921"
            ]
           ]
          },
          "colorway": [
           "#636efa",
           "#EF553B",
           "#00cc96",
           "#ab63fa",
           "#FFA15A",
           "#19d3f3",
           "#FF6692",
           "#B6E880",
           "#FF97FF",
           "#FECB52"
          ],
          "font": {
           "color": "#2a3f5f"
          },
          "geo": {
           "bgcolor": "white",
           "lakecolor": "white",
           "landcolor": "#E5ECF6",
           "showlakes": true,
           "showland": true,
           "subunitcolor": "white"
          },
          "hoverlabel": {
           "align": "left"
          },
          "hovermode": "closest",
          "mapbox": {
           "style": "light"
          },
          "paper_bgcolor": "white",
          "plot_bgcolor": "#E5ECF6",
          "polar": {
           "angularaxis": {
            "gridcolor": "white",
            "linecolor": "white",
            "ticks": ""
           },
           "bgcolor": "#E5ECF6",
           "radialaxis": {
            "gridcolor": "white",
            "linecolor": "white",
            "ticks": ""
           }
          },
          "scene": {
           "xaxis": {
            "backgroundcolor": "#E5ECF6",
            "gridcolor": "white",
            "gridwidth": 2,
            "linecolor": "white",
            "showbackground": true,
            "ticks": "",
            "zerolinecolor": "white"
           },
           "yaxis": {
            "backgroundcolor": "#E5ECF6",
            "gridcolor": "white",
            "gridwidth": 2,
            "linecolor": "white",
            "showbackground": true,
            "ticks": "",
            "zerolinecolor": "white"
           },
           "zaxis": {
            "backgroundcolor": "#E5ECF6",
            "gridcolor": "white",
            "gridwidth": 2,
            "linecolor": "white",
            "showbackground": true,
            "ticks": "",
            "zerolinecolor": "white"
           }
          },
          "shapedefaults": {
           "line": {
            "color": "#2a3f5f"
           }
          },
          "ternary": {
           "aaxis": {
            "gridcolor": "white",
            "linecolor": "white",
            "ticks": ""
           },
           "baxis": {
            "gridcolor": "white",
            "linecolor": "white",
            "ticks": ""
           },
           "bgcolor": "#E5ECF6",
           "caxis": {
            "gridcolor": "white",
            "linecolor": "white",
            "ticks": ""
           }
          },
          "title": {
           "x": 0.05
          },
          "xaxis": {
           "automargin": true,
           "gridcolor": "white",
           "linecolor": "white",
           "ticks": "",
           "title": {
            "standoff": 15
           },
           "zerolinecolor": "white",
           "zerolinewidth": 2
          },
          "yaxis": {
           "automargin": true,
           "gridcolor": "white",
           "linecolor": "white",
           "ticks": "",
           "title": {
            "standoff": 15
           },
           "zerolinecolor": "white",
           "zerolinewidth": 2
          }
         }
        },
        "title": {
         "text": "Impressions vs Page views"
        },
        "xaxis": {
         "anchor": "y",
         "domain": [
          0,
          1
         ],
         "tickangle": 45,
         "tickfont": {
          "color": "crimson",
          "family": "Rockwell",
          "size": 14
         },
         "title": {
          "text": "Page views"
         }
        },
        "yaxis": {
         "anchor": "x",
         "domain": [
          0,
          1
         ],
         "title": {
          "text": "Impressions"
         }
        }
       }
      },
      "text/html": [
       "<div>                            <div id=\"ff68eb94-2e1f-427f-b406-5a1ca6f28c4c\" class=\"plotly-graph-div\" style=\"height:525px; width:100%;\"></div>            <script type=\"text/javascript\">                require([\"plotly\"], function(Plotly) {                    window.PLOTLYENV=window.PLOTLYENV || {};                                    if (document.getElementById(\"ff68eb94-2e1f-427f-b406-5a1ca6f28c4c\")) {                    Plotly.newPlot(                        \"ff68eb94-2e1f-427f-b406-5a1ca6f28c4c\",                        [{\"customdata\": [[\"Jul\"], [\"Jul\"], [\"Jul\"], [\"Jul\"], [\"Jul\"], [\"Jul\"], [\"Jul\"], [\"Jul\"], [\"Jul\"], [\"Jul\"], [\"Jul\"], [\"Jul\"], [\"Jul\"], [\"Jul\"], [\"Jul\"], [\"Jul\"], [\"Jul\"], [\"Jul\"], [\"Jul\"], [\"Jul\"], [\"Jul\"], [\"Jul\"], [\"Jul\"], [\"Jul\"], [\"Jul\"], [\"Jul\"], [\"Jul\"], [\"Jul\"], [\"Jul\"], [\"Jul\"], [\"Jul\"], [\"Jul\"], [\"Jul\"], [\"Jul\"], [\"Jul\"], [\"Jul\"], [\"Jul\"], [\"Jul\"], [\"Jul\"], [\"Jul\"], [\"Jul\"], [\"Jul\"], [\"Jul\"], [\"Jul\"], [\"Jul\"], [\"Jul\"], [\"Jul\"], [\"Jul\"], [\"Jul\"], [\"Jul\"], [\"Jul\"], [\"Jul\"], [\"Jul\"], [\"Jul\"], [\"Jul\"], [\"Jul\"], [\"Jul\"], [\"Jul\"], [\"Jul\"], [\"Jul\"], [\"Jul\"], [\"Jul\"], [\"Jul\"], [\"Jul\"], [\"Jul\"], [\"Jul\"], [\"Jul\"], [\"Jul\"], [\"Jul\"], [\"Jul\"], [\"Jul\"], [\"Jul\"], [\"Jul\"], [\"Jul\"], [\"Jul\"], [\"Jul\"], [\"Jul\"], [\"Jul\"], [\"Jul\"], [\"Jul\"], [\"Jul\"], [\"Jul\"], [\"Jul\"], [\"Jul\"], [\"Jul\"], [\"Jul\"], [\"Jul\"], [\"Jul\"], [\"Jul\"], [\"Jul\"], [\"Jul\"], [\"Jul\"], [\"Jul\"], [\"Jul\"], [\"Jul\"], [\"Jul\"], [\"Aug\"], [\"Aug\"], [\"Aug\"], [\"Aug\"], [\"Aug\"], [\"Aug\"], [\"Aug\"], [\"Aug\"], [\"Aug\"], [\"Aug\"], [\"Aug\"], [\"Aug\"], [\"Aug\"], [\"Aug\"], [\"Aug\"], [\"Aug\"], [\"Aug\"], [\"Aug\"], [\"Aug\"], [\"Aug\"], [\"Aug\"], [\"Aug\"], [\"Aug\"], [\"Aug\"], [\"Aug\"], [\"Aug\"], [\"Aug\"], [\"Aug\"], [\"Aug\"], [\"Aug\"], [\"Aug\"], [\"Aug\"], [\"Aug\"], [\"Aug\"], [\"Aug\"], [\"Aug\"], [\"Aug\"], [\"Aug\"], [\"Aug\"], [\"Aug\"], [\"Aug\"], [\"Aug\"], [\"Aug\"], [\"Aug\"], [\"Aug\"], [\"Aug\"], [\"Aug\"], [\"Aug\"], [\"Aug\"], [\"Aug\"], [\"Aug\"], [\"Aug\"], [\"Aug\"], [\"Aug\"], [\"Aug\"], [\"Aug\"], [\"Aug\"], [\"Aug\"], [\"Aug\"], [\"Aug\"], [\"Aug\"], [\"Aug\"], [\"Aug\"], [\"Aug\"], [\"Aug\"], [\"Aug\"], [\"Aug\"], [\"Aug\"], [\"Aug\"], [\"Aug\"], [\"Aug\"], [\"Aug\"]], \"hovertemplate\": \"Weekday=Sun<br>Page Views=%{x}<br>NetA_imp=%{marker.size}<br>Month=%{customdata[0]}<extra></extra>\", \"legendgroup\": \"Sun\", \"marker\": {\"color\": \"#636efa\", \"size\": [11, 0, 0, 0, 0, 0, 4, 0, 0, 12, 10, 0, 16, 7, 10, 17, 12, 2, 3, 33, 125, 33, 92, 34, 0, 0, 0, 0, 0, 0, 2, 4, 6, 7, 6, 6, 10, 12, 16, 6, 6, 6, 0, 22, 6, 31, 9, 0, 0, 0, 0, 0, 0, 0, 0, 0, 0, 0, 7, 0, 0, 0, 0, 8, 38, 9, 0, 0, 0, 0, 0, 0, 0, 0, 0, 0, 0, 0, 0, 0, 0, 0, 0, 0, 0, 0, 0, 0, 9, 6, 3, 0, 49, 0, 0, 0, 0, 0, 0, 0, 0, 0, 0, 0, 0, 0, 0, 12, 4, 0, 0, 20, 2, 29, 2, 0, 0, 14, 0, 0, 0, 0, 0, 0, 0, 0, 0, 0, 0, 0, 0, 0, 5, 0, 0, 0, 22, 39, 0, 0, 92, 0, 0, 0, 0, 0, 0, 0, 0, 0, 0, 0, 0, 23, 0, 0, 0, 0, 0, 5, 38, 27, 90, 2, 0, 0, 0, 0], \"sizemode\": \"area\", \"sizeref\": 0.6125, \"symbol\": \"circle\"}, \"mode\": \"markers\", \"name\": \"Sun\", \"showlegend\": true, \"type\": \"scattergl\", \"x\": [62, 33, 15, 17, 12, 9, 20, 46, 106, 190, 244, 247, 260, 260, 218, 229, 204, 232, 190, 175, 168, 187, 148, 91, 40, 50, 21, 17, 9, 15, 20, 77, 112, 170, 243, 261, 299, 281, 303, 311, 277, 225, 214, 213, 216, 205, 158, 121, 55, 24, 25, 18, 4, 16, 26, 53, 139, 246, 307, 274, 249, 287, 261, 305, 251, 242, 213, 234, 183, 182, 133, 114, 58, 44, 29, 13, 13, 12, 26, 55, 135, 196, 260, 289, 245, 223, 248, 245, 217, 235, 214, 221, 210, 175, 172, 111, 46, 47, 21, 8, 16, 16, 30, 65, 114, 149, 206, 218, 215, 211, 189, 243, 236, 159, 168, 171, 144, 138, 98, 92, 58, 31, 25, 17, 10, 17, 25, 56, 113, 127, 233, 226, 256, 228, 263, 219, 217, 156, 144, 139, 150, 159, 116, 72, 53, 29, 34, 14, 13, 16, 36, 69, 115, 157, 231, 243, 247, 203, 214, 191, 224, 194, 179, 159, 154, 147, 116, 75], \"xaxis\": \"x\", \"y\": [11, 0, 0, 0, 0, 0, 4, 0, 0, 12, 10, 0, 16, 7, 10, 17, 12, 2, 3, 33, 125, 33, 92, 34, 0, 0, 0, 0, 0, 0, 2, 4, 6, 7, 6, 6, 10, 12, 16, 6, 6, 6, 0, 22, 6, 31, 9, 0, 0, 0, 0, 0, 0, 0, 0, 0, 0, 0, 7, 0, 0, 0, 0, 8, 38, 9, 0, 0, 0, 0, 0, 0, 0, 0, 0, 0, 0, 0, 0, 0, 0, 0, 0, 0, 0, 0, 0, 0, 9, 6, 3, 0, 49, 0, 0, 0, 0, 0, 0, 0, 0, 0, 0, 0, 0, 0, 0, 12, 4, 0, 0, 20, 2, 29, 2, 0, 0, 14, 0, 0, 0, 0, 0, 0, 0, 0, 0, 0, 0, 0, 0, 0, 5, 0, 0, 0, 22, 39, 0, 0, 92, 0, 0, 0, 0, 0, 0, 0, 0, 0, 0, 0, 0, 23, 0, 0, 0, 0, 0, 5, 38, 27, 90, 2, 0, 0, 0, 0], \"yaxis\": \"y\"}, {\"customdata\": [[\"Jul\"], [\"Jul\"], [\"Jul\"], [\"Jul\"], [\"Jul\"], [\"Jul\"], [\"Jul\"], [\"Jul\"], [\"Jul\"], [\"Jul\"], [\"Jul\"], [\"Jul\"], [\"Jul\"], [\"Jul\"], [\"Jul\"], [\"Jul\"], [\"Jul\"], [\"Jul\"], [\"Jul\"], [\"Jul\"], [\"Jul\"], [\"Jul\"], [\"Jul\"], [\"Jul\"], [\"Jul\"], [\"Jul\"], [\"Jul\"], [\"Jul\"], [\"Jul\"], [\"Jul\"], [\"Jul\"], [\"Jul\"], [\"Jul\"], [\"Jul\"], [\"Jul\"], [\"Jul\"], [\"Jul\"], [\"Jul\"], [\"Jul\"], [\"Jul\"], [\"Jul\"], [\"Jul\"], [\"Jul\"], [\"Jul\"], [\"Jul\"], [\"Jul\"], [\"Jul\"], [\"Jul\"], [\"Jul\"], [\"Jul\"], [\"Jul\"], [\"Jul\"], [\"Jul\"], [\"Jul\"], [\"Jul\"], [\"Jul\"], [\"Jul\"], [\"Jul\"], [\"Jul\"], [\"Jul\"], [\"Jul\"], [\"Jul\"], [\"Jul\"], [\"Jul\"], [\"Jul\"], [\"Jul\"], [\"Jul\"], [\"Jul\"], [\"Jul\"], [\"Jul\"], [\"Jul\"], [\"Jul\"], [\"Jul\"], [\"Jul\"], [\"Jul\"], [\"Jul\"], [\"Jul\"], [\"Jul\"], [\"Jul\"], [\"Jul\"], [\"Jul\"], [\"Jul\"], [\"Jul\"], [\"Jul\"], [\"Jul\"], [\"Jul\"], [\"Jul\"], [\"Jul\"], [\"Jul\"], [\"Jul\"], [\"Jul\"], [\"Jul\"], [\"Jul\"], [\"Jul\"], [\"Jul\"], [\"Jul\"], [\"Aug\"], [\"Aug\"], [\"Aug\"], [\"Aug\"], [\"Aug\"], [\"Aug\"], [\"Aug\"], [\"Aug\"], [\"Aug\"], [\"Aug\"], [\"Aug\"], [\"Aug\"], [\"Aug\"], [\"Aug\"], [\"Aug\"], [\"Aug\"], [\"Aug\"], [\"Aug\"], [\"Aug\"], [\"Aug\"], [\"Aug\"], [\"Aug\"], [\"Aug\"], [\"Aug\"], [\"Aug\"], [\"Aug\"], [\"Aug\"], [\"Aug\"], [\"Aug\"], [\"Aug\"], [\"Aug\"], [\"Aug\"], [\"Aug\"], [\"Aug\"], [\"Aug\"], [\"Aug\"], [\"Aug\"], [\"Aug\"], [\"Aug\"], [\"Aug\"], [\"Aug\"], [\"Aug\"], [\"Aug\"], [\"Aug\"], [\"Aug\"], [\"Aug\"], [\"Aug\"], [\"Aug\"], [\"Aug\"], [\"Aug\"], [\"Aug\"], [\"Aug\"], [\"Aug\"], [\"Aug\"], [\"Aug\"], [\"Aug\"], [\"Aug\"], [\"Aug\"], [\"Aug\"], [\"Aug\"], [\"Aug\"], [\"Aug\"], [\"Aug\"], [\"Aug\"], [\"Aug\"], [\"Aug\"], [\"Aug\"], [\"Aug\"], [\"Aug\"], [\"Aug\"], [\"Aug\"], [\"Aug\"]], \"hovertemplate\": \"Weekday=Mon<br>Page Views=%{x}<br>NetA_imp=%{marker.size}<br>Month=%{customdata[0]}<extra></extra>\", \"legendgroup\": \"Mon\", \"marker\": {\"color\": \"#EF553B\", \"size\": [0, 0, 0, 0, 0, 0, 0, 3, 2, 0, 0, 9, 10, 11, 17, 13, 16, 12, 77, 75, 59, 32, 34, 22, 0, 0, 0, 0, 0, 0, 0, 0, 0, 0, 0, 12, 0, 3, 6, 13, 7, 10, 0, 22, 13, 0, 11, 11, 0, 0, 0, 0, 0, 0, 0, 0, 0, 0, 0, 2, 11, 0, 0, 14, 34, 9, 0, 0, 0, 0, 46, 2, 0, 0, 0, 0, 0, 0, 0, 0, 0, 0, 8, 0, 0, 0, 0, 1, 24, 0, 15, 22, 0, 40, 0, 0, 0, 0, 0, 0, 0, 0, 17, 0, 0, 0, 0, 5, 0, 21, 4, 0, 9, 61, 0, 18, 0, 0, 8, 3, 0, 0, 0, 0, 0, 0, 0, 0, 0, 0, 16, 10, 0, 16, 0, 0, 15, 60, 0, 52, 2, 0, 17, 8, 0, 0, 0, 0, 0, 0, 0, 0, 0, 0, 0, 10, 8, 11, 0, 0, 17, 0, 81, 26, 1, 0, 0, 0], \"sizemode\": \"area\", \"sizeref\": 0.6125, \"symbol\": \"circle\"}, \"mode\": \"markers\", \"name\": \"Mon\", \"showlegend\": true, \"type\": \"scattergl\", \"x\": [46, 25, 22, 11, 12, 16, 50, 77, 130, 311, 359, 353, 346, 281, 290, 304, 276, 186, 180, 176, 195, 240, 167, 107, 67, 54, 32, 22, 9, 23, 39, 66, 151, 264, 453, 580, 419, 353, 338, 267, 312, 270, 241, 238, 218, 234, 161, 107, 53, 26, 30, 21, 12, 20, 36, 74, 158, 272, 288, 353, 318, 288, 263, 300, 285, 248, 209, 216, 216, 268, 147, 98, 41, 45, 28, 14, 11, 14, 46, 68, 105, 198, 257, 225, 290, 275, 236, 317, 285, 161, 139, 156, 167, 210, 117, 70, 47, 30, 20, 20, 24, 18, 37, 62, 109, 215, 266, 232, 218, 210, 228, 217, 219, 187, 155, 188, 189, 155, 127, 83, 44, 22, 13, 16, 14, 16, 49, 85, 130, 234, 251, 254, 275, 260, 227, 174, 253, 163, 169, 174, 169, 191, 116, 58, 43, 42, 10, 15, 10, 19, 22, 83, 125, 193, 259, 233, 231, 276, 260, 225, 241, 259, 148, 190, 174, 202, 129, 97], \"xaxis\": \"x\", \"y\": [0, 0, 0, 0, 0, 0, 0, 3, 2, 0, 0, 9, 10, 11, 17, 13, 16, 12, 77, 75, 59, 32, 34, 22, 0, 0, 0, 0, 0, 0, 0, 0, 0, 0, 0, 12, 0, 3, 6, 13, 7, 10, 0, 22, 13, 0, 11, 11, 0, 0, 0, 0, 0, 0, 0, 0, 0, 0, 0, 2, 11, 0, 0, 14, 34, 9, 0, 0, 0, 0, 46, 2, 0, 0, 0, 0, 0, 0, 0, 0, 0, 0, 8, 0, 0, 0, 0, 1, 24, 0, 15, 22, 0, 40, 0, 0, 0, 0, 0, 0, 0, 0, 17, 0, 0, 0, 0, 5, 0, 21, 4, 0, 9, 61, 0, 18, 0, 0, 8, 3, 0, 0, 0, 0, 0, 0, 0, 0, 0, 0, 16, 10, 0, 16, 0, 0, 15, 60, 0, 52, 2, 0, 17, 8, 0, 0, 0, 0, 0, 0, 0, 0, 0, 0, 0, 10, 8, 11, 0, 0, 17, 0, 81, 26, 1, 0, 0, 0], \"yaxis\": \"y\"}, {\"customdata\": [[\"Jul\"], [\"Jul\"], [\"Jul\"], [\"Jul\"], [\"Jul\"], [\"Jul\"], [\"Jul\"], [\"Jul\"], [\"Jul\"], [\"Jul\"], [\"Jul\"], [\"Jul\"], [\"Jul\"], [\"Jul\"], [\"Jul\"], [\"Jul\"], [\"Jul\"], [\"Jul\"], [\"Jul\"], [\"Jul\"], [\"Jul\"], [\"Jul\"], [\"Jul\"], [\"Jul\"], [\"Jul\"], [\"Jul\"], [\"Jul\"], [\"Jul\"], [\"Jul\"], [\"Jul\"], [\"Jul\"], [\"Jul\"], [\"Jul\"], [\"Jul\"], [\"Jul\"], [\"Jul\"], [\"Jul\"], [\"Jul\"], [\"Jul\"], [\"Jul\"], [\"Jul\"], [\"Jul\"], [\"Jul\"], [\"Jul\"], [\"Jul\"], [\"Jul\"], [\"Jul\"], [\"Jul\"], [\"Jul\"], [\"Jul\"], [\"Jul\"], [\"Jul\"], [\"Jul\"], [\"Jul\"], [\"Jul\"], [\"Jul\"], [\"Jul\"], [\"Jul\"], [\"Jul\"], [\"Jul\"], [\"Jul\"], [\"Jul\"], [\"Jul\"], [\"Jul\"], [\"Jul\"], [\"Jul\"], [\"Jul\"], [\"Jul\"], [\"Jul\"], [\"Jul\"], [\"Jul\"], [\"Jul\"], [\"Jul\"], [\"Jul\"], [\"Jul\"], [\"Jul\"], [\"Jul\"], [\"Jul\"], [\"Jul\"], [\"Jul\"], [\"Jul\"], [\"Jul\"], [\"Jul\"], [\"Jul\"], [\"Jul\"], [\"Jul\"], [\"Jul\"], [\"Jul\"], [\"Jul\"], [\"Jul\"], [\"Jul\"], [\"Jul\"], [\"Jul\"], [\"Jul\"], [\"Jul\"], [\"Jul\"], [\"Aug\"], [\"Aug\"], [\"Aug\"], [\"Aug\"], [\"Aug\"], [\"Aug\"], [\"Aug\"], [\"Aug\"], [\"Aug\"], [\"Aug\"], [\"Aug\"], [\"Aug\"], [\"Aug\"], [\"Aug\"], [\"Aug\"], [\"Aug\"], [\"Aug\"], [\"Aug\"], [\"Aug\"], [\"Aug\"], [\"Aug\"], [\"Aug\"], [\"Aug\"], [\"Aug\"], [\"Aug\"], [\"Aug\"], [\"Aug\"], [\"Aug\"], [\"Aug\"], [\"Aug\"], [\"Aug\"], [\"Aug\"], [\"Aug\"], [\"Aug\"], [\"Aug\"], [\"Aug\"], [\"Aug\"], [\"Aug\"], [\"Aug\"], [\"Aug\"], [\"Aug\"], [\"Aug\"], [\"Aug\"], [\"Aug\"], [\"Aug\"], [\"Aug\"], [\"Aug\"], [\"Aug\"], [\"Aug\"], [\"Aug\"], [\"Aug\"], [\"Aug\"], [\"Aug\"], [\"Aug\"], [\"Aug\"], [\"Aug\"], [\"Aug\"], [\"Aug\"], [\"Aug\"], [\"Aug\"], [\"Aug\"], [\"Aug\"], [\"Aug\"], [\"Aug\"], [\"Aug\"], [\"Aug\"], [\"Aug\"], [\"Aug\"], [\"Aug\"], [\"Aug\"], [\"Aug\"], [\"Aug\"]], \"hovertemplate\": \"Weekday=Tue<br>Page Views=%{x}<br>NetA_imp=%{marker.size}<br>Month=%{customdata[0]}<extra></extra>\", \"legendgroup\": \"Tue\", \"marker\": {\"color\": \"#00cc96\", \"size\": [1, 0, 0, 0, 0, 0, 0, 2, 2, 31, 4, 5, 12, 23, 19, 12, 2, 14, 86, 92, 245, 93, 41, 72, 0, 0, 0, 0, 0, 0, 1, 0, 2, 4, 4, 2, 13, 8, 6, 0, 3, 0, 1, 5, 13, 33, 15, 7, 0, 0, 0, 0, 0, 0, 0, 0, 0, 10, 0, 1, 7, 0, 0, 0, 0, 0, 0, 0, 0, 0, 0, 5, 0, 0, 0, 0, 0, 0, 0, 0, 0, 0, 10, 0, 0, 0, 0, 0, 0, 0, 0, 0, 9, 0, 0, 2, 0, 0, 0, 0, 0, 0, 0, 20, 0, 0, 1, 9, 8, 0, 4, 0, 5, 4, 0, 0, 0, 0, 0, 0, 0, 0, 0, 0, 0, 0, 0, 0, 0, 0, 0, 8, 0, 0, 0, 0, 0, 5, 12, 0, 0, 63, 6, 0, 0, 0, 0, 0, 0, 0, 0, 0, 0, 0, 1, 0, 0, 0, 0, 13, 2, 34, 7, 14, 0, 0, 0, 0], \"sizemode\": \"area\", \"sizeref\": 0.6125, \"symbol\": \"circle\"}, \"mode\": \"markers\", \"name\": \"Tue\", \"showlegend\": true, \"type\": \"scattergl\", \"x\": [55, 32, 26, 14, 11, 19, 36, 88, 125, 206, 271, 309, 260, 261, 274, 236, 276, 210, 155, 169, 193, 183, 118, 92, 63, 40, 19, 34, 14, 33, 39, 89, 138, 220, 247, 255, 282, 283, 234, 318, 355, 238, 195, 240, 169, 186, 146, 102, 38, 31, 26, 27, 17, 22, 48, 90, 138, 239, 301, 247, 293, 260, 263, 234, 236, 217, 184, 217, 200, 230, 145, 67, 49, 24, 15, 14, 10, 25, 28, 55, 98, 159, 203, 198, 216, 235, 207, 192, 261, 167, 184, 164, 185, 186, 144, 68, 40, 43, 20, 14, 9, 14, 49, 83, 116, 152, 205, 171, 220, 203, 199, 190, 203, 145, 155, 135, 151, 154, 112, 82, 36, 39, 20, 11, 11, 17, 35, 67, 102, 188, 194, 220, 204, 217, 247, 175, 269, 127, 142, 170, 175, 160, 123, 64, 54, 23, 20, 14, 13, 24, 37, 75, 102, 187, 240, 281, 286, 231, 191, 224, 254, 169, 165, 196, 218, 192, 145, 84], \"xaxis\": \"x\", \"y\": [1, 0, 0, 0, 0, 0, 0, 2, 2, 31, 4, 5, 12, 23, 19, 12, 2, 14, 86, 92, 245, 93, 41, 72, 0, 0, 0, 0, 0, 0, 1, 0, 2, 4, 4, 2, 13, 8, 6, 0, 3, 0, 1, 5, 13, 33, 15, 7, 0, 0, 0, 0, 0, 0, 0, 0, 0, 10, 0, 1, 7, 0, 0, 0, 0, 0, 0, 0, 0, 0, 0, 5, 0, 0, 0, 0, 0, 0, 0, 0, 0, 0, 10, 0, 0, 0, 0, 0, 0, 0, 0, 0, 9, 0, 0, 2, 0, 0, 0, 0, 0, 0, 0, 20, 0, 0, 1, 9, 8, 0, 4, 0, 5, 4, 0, 0, 0, 0, 0, 0, 0, 0, 0, 0, 0, 0, 0, 0, 0, 0, 0, 8, 0, 0, 0, 0, 0, 5, 12, 0, 0, 63, 6, 0, 0, 0, 0, 0, 0, 0, 0, 0, 0, 0, 1, 0, 0, 0, 0, 13, 2, 34, 7, 14, 0, 0, 0, 0], \"yaxis\": \"y\"}, {\"customdata\": [[\"Jul\"], [\"Jul\"], [\"Jul\"], [\"Jul\"], [\"Jul\"], [\"Jul\"], [\"Jul\"], [\"Jul\"], [\"Jul\"], [\"Jul\"], [\"Jul\"], [\"Jul\"], [\"Jul\"], [\"Jul\"], [\"Jul\"], [\"Jul\"], [\"Jul\"], [\"Jul\"], [\"Jul\"], [\"Jul\"], [\"Jul\"], [\"Jul\"], [\"Jul\"], [\"Jul\"], [\"Jul\"], [\"Jul\"], [\"Jul\"], [\"Jul\"], [\"Jul\"], [\"Jul\"], [\"Jul\"], [\"Jul\"], [\"Jul\"], [\"Jul\"], [\"Jul\"], [\"Jul\"], [\"Jul\"], [\"Jul\"], [\"Jul\"], [\"Jul\"], [\"Jul\"], [\"Jul\"], [\"Jul\"], [\"Jul\"], [\"Jul\"], [\"Jul\"], [\"Jul\"], [\"Jul\"], [\"Jul\"], [\"Jul\"], [\"Jul\"], [\"Jul\"], [\"Jul\"], [\"Jul\"], [\"Jul\"], [\"Jul\"], [\"Jul\"], [\"Jul\"], [\"Jul\"], [\"Jul\"], [\"Jul\"], [\"Jul\"], [\"Jul\"], [\"Jul\"], [\"Jul\"], [\"Jul\"], [\"Jul\"], [\"Jul\"], [\"Jul\"], [\"Jul\"], [\"Jul\"], [\"Jul\"], [\"Jul\"], [\"Jul\"], [\"Jul\"], [\"Jul\"], [\"Jul\"], [\"Jul\"], [\"Jul\"], [\"Jul\"], [\"Jul\"], [\"Jul\"], [\"Jul\"], [\"Jul\"], [\"Jul\"], [\"Jul\"], [\"Jul\"], [\"Jul\"], [\"Jul\"], [\"Jul\"], [\"Jul\"], [\"Jul\"], [\"Jul\"], [\"Jul\"], [\"Jul\"], [\"Jul\"], [\"Aug\"], [\"Aug\"], [\"Aug\"], [\"Aug\"], [\"Aug\"], [\"Aug\"], [\"Aug\"], [\"Aug\"], [\"Aug\"], [\"Aug\"], [\"Aug\"], [\"Aug\"], [\"Aug\"], [\"Aug\"], [\"Aug\"], [\"Aug\"], [\"Aug\"], [\"Aug\"], [\"Aug\"], [\"Aug\"], [\"Aug\"], [\"Aug\"], [\"Aug\"], [\"Aug\"], [\"Aug\"], [\"Aug\"], [\"Aug\"], [\"Aug\"], [\"Aug\"], [\"Aug\"], [\"Aug\"], [\"Aug\"], [\"Aug\"], [\"Aug\"], [\"Aug\"], [\"Aug\"], [\"Aug\"], [\"Aug\"], [\"Aug\"], [\"Aug\"], [\"Aug\"], [\"Aug\"], [\"Aug\"], [\"Aug\"], [\"Aug\"], [\"Aug\"], [\"Aug\"], [\"Aug\"], [\"Aug\"], [\"Aug\"], [\"Aug\"], [\"Aug\"], [\"Aug\"], [\"Aug\"], [\"Aug\"], [\"Aug\"], [\"Aug\"], [\"Aug\"], [\"Aug\"], [\"Aug\"], [\"Aug\"], [\"Aug\"], [\"Aug\"], [\"Aug\"], [\"Aug\"], [\"Aug\"], [\"Aug\"], [\"Aug\"], [\"Aug\"], [\"Aug\"], [\"Aug\"], [\"Aug\"]], \"hovertemplate\": \"Weekday=Wed<br>Page Views=%{x}<br>NetA_imp=%{marker.size}<br>Month=%{customdata[0]}<extra></extra>\", \"legendgroup\": \"Wed\", \"marker\": {\"color\": \"#ab63fa\", \"size\": [0, 0, 0, 0, 0, 0, 0, 0, 0, 3, 0, 4, 0, 3, 0, 3, 3, 1, 0, 8, 72, 0, 31, 0, 0, 0, 0, 0, 0, 0, 0, 0, 21, 2, 7, 3, 2, 8, 4, 27, 23, 7, 0, 5, 7, 5, 62, 2, 0, 0, 0, 0, 0, 0, 0, 0, 0, 0, 0, 0, 0, 9, 1, 29, 0, 0, 0, 4, 0, 0, 18, 1, 0, 0, 0, 0, 0, 0, 8, 0, 0, 0, 0, 0, 0, 0, 0, 0, 0, 0, 0, 5, 0, 11, 6, 0, 0, 0, 0, 0, 0, 0, 0, 0, 0, 0, 9, 0, 15, 0, 0, 10, 4, 9, 14, 14, 0, 0, 0, 9, 0, 0, 0, 0, 0, 0, 0, 0, 0, 0, 0, 3, 0, 0, 0, 7, 0, 31, 0, 2, 7, 0, 0, 22, 1, 0, 0, 0, 0, 0, 0, 0, 38, 0, 0, 0, 0, 0, 0, 0, 11, 0, 0, 0, 6, 0, 0, 14], \"sizemode\": \"area\", \"sizeref\": 0.6125, \"symbol\": \"circle\"}, \"mode\": \"markers\", \"name\": \"Wed\", \"showlegend\": true, \"type\": \"scattergl\", \"x\": [44, 38, 14, 23, 12, 17, 40, 85, 143, 197, 220, 255, 295, 286, 268, 240, 211, 177, 159, 152, 165, 197, 144, 92, 46, 25, 18, 16, 17, 25, 33, 92, 159, 208, 239, 292, 320, 276, 292, 221, 275, 203, 178, 191, 212, 205, 130, 90, 49, 45, 13, 17, 8, 17, 41, 65, 148, 210, 215, 263, 276, 244, 250, 237, 252, 182, 167, 207, 138, 184, 143, 87, 45, 37, 25, 6, 13, 24, 24, 66, 108, 206, 182, 174, 189, 172, 174, 164, 204, 162, 152, 174, 141, 137, 120, 55, 41, 26, 18, 11, 16, 25, 29, 78, 93, 133, 219, 238, 212, 184, 148, 169, 184, 148, 162, 114, 143, 123, 112, 67, 50, 23, 32, 13, 10, 14, 40, 60, 120, 223, 251, 290, 263, 292, 210, 254, 219, 206, 183, 181, 203, 178, 137, 90, 55, 38, 20, 16, 22, 21, 55, 117, 158, 229, 252, 338, 338, 290, 286, 248, 315, 234, 189, 178, 235, 200, 139, 93], \"xaxis\": \"x\", \"y\": [0, 0, 0, 0, 0, 0, 0, 0, 0, 3, 0, 4, 0, 3, 0, 3, 3, 1, 0, 8, 72, 0, 31, 0, 0, 0, 0, 0, 0, 0, 0, 0, 21, 2, 7, 3, 2, 8, 4, 27, 23, 7, 0, 5, 7, 5, 62, 2, 0, 0, 0, 0, 0, 0, 0, 0, 0, 0, 0, 0, 0, 9, 1, 29, 0, 0, 0, 4, 0, 0, 18, 1, 0, 0, 0, 0, 0, 0, 8, 0, 0, 0, 0, 0, 0, 0, 0, 0, 0, 0, 0, 5, 0, 11, 6, 0, 0, 0, 0, 0, 0, 0, 0, 0, 0, 0, 9, 0, 15, 0, 0, 10, 4, 9, 14, 14, 0, 0, 0, 9, 0, 0, 0, 0, 0, 0, 0, 0, 0, 0, 0, 3, 0, 0, 0, 7, 0, 31, 0, 2, 7, 0, 0, 22, 1, 0, 0, 0, 0, 0, 0, 0, 38, 0, 0, 0, 0, 0, 0, 0, 11, 0, 0, 0, 6, 0, 0, 14], \"yaxis\": \"y\"}, {\"customdata\": [[\"Jul\"], [\"Jul\"], [\"Jul\"], [\"Jul\"], [\"Jul\"], [\"Jul\"], [\"Jul\"], [\"Jul\"], [\"Jul\"], [\"Jul\"], [\"Jul\"], [\"Jul\"], [\"Jul\"], [\"Jul\"], [\"Jul\"], [\"Jul\"], [\"Jul\"], [\"Jul\"], [\"Jul\"], [\"Jul\"], [\"Jul\"], [\"Jul\"], [\"Jul\"], [\"Jul\"], [\"Jul\"], [\"Jul\"], [\"Jul\"], [\"Jul\"], [\"Jul\"], [\"Jul\"], [\"Jul\"], [\"Jul\"], [\"Jul\"], [\"Jul\"], [\"Jul\"], [\"Jul\"], [\"Jul\"], [\"Jul\"], [\"Jul\"], [\"Jul\"], [\"Jul\"], [\"Jul\"], [\"Jul\"], [\"Jul\"], [\"Jul\"], [\"Jul\"], [\"Jul\"], [\"Jul\"], [\"Jul\"], [\"Jul\"], [\"Jul\"], [\"Jul\"], [\"Jul\"], [\"Jul\"], [\"Jul\"], [\"Jul\"], [\"Jul\"], [\"Jul\"], [\"Jul\"], [\"Jul\"], [\"Jul\"], [\"Jul\"], [\"Jul\"], [\"Jul\"], [\"Jul\"], [\"Jul\"], [\"Jul\"], [\"Jul\"], [\"Jul\"], [\"Jul\"], [\"Jul\"], [\"Jul\"], [\"Aug\"], [\"Aug\"], [\"Aug\"], [\"Aug\"], [\"Aug\"], [\"Aug\"], [\"Aug\"], [\"Aug\"], [\"Aug\"], [\"Aug\"], [\"Aug\"], [\"Aug\"], [\"Aug\"], [\"Aug\"], [\"Aug\"], [\"Aug\"], [\"Aug\"], [\"Aug\"], [\"Aug\"], [\"Aug\"], [\"Aug\"], [\"Aug\"], [\"Aug\"], [\"Aug\"], [\"Aug\"], [\"Aug\"], [\"Aug\"], [\"Aug\"], [\"Aug\"], [\"Aug\"], [\"Aug\"], [\"Aug\"], [\"Aug\"], [\"Aug\"], [\"Aug\"], [\"Aug\"], [\"Aug\"], [\"Aug\"], [\"Aug\"], [\"Aug\"], [\"Aug\"], [\"Aug\"], [\"Aug\"], [\"Aug\"], [\"Aug\"], [\"Aug\"], [\"Aug\"], [\"Aug\"], [\"Aug\"], [\"Aug\"], [\"Aug\"], [\"Aug\"], [\"Aug\"], [\"Aug\"], [\"Aug\"], [\"Aug\"], [\"Aug\"], [\"Aug\"], [\"Aug\"], [\"Aug\"], [\"Aug\"], [\"Aug\"], [\"Aug\"], [\"Aug\"], [\"Aug\"], [\"Aug\"], [\"Aug\"], [\"Aug\"], [\"Aug\"], [\"Aug\"], [\"Aug\"], [\"Aug\"], [\"Aug\"], [\"Aug\"], [\"Aug\"], [\"Aug\"], [\"Aug\"], [\"Aug\"], [\"Aug\"], [\"Aug\"], [\"Aug\"], [\"Aug\"], [\"Aug\"], [\"Aug\"], [\"Aug\"], [\"Aug\"], [\"Aug\"], [\"Aug\"], [\"Aug\"], [\"Aug\"], [\"Aug\"], [\"Aug\"], [\"Aug\"], [\"Aug\"], [\"Aug\"], [\"Aug\"]], \"hovertemplate\": \"Weekday=Thu<br>Page Views=%{x}<br>NetA_imp=%{marker.size}<br>Month=%{customdata[0]}<extra></extra>\", \"legendgroup\": \"Thu\", \"marker\": {\"color\": \"#FFA15A\", \"size\": [0, 0, 0, 0, 0, 0, 3, 0, 3, 15, 2, 14, 16, 1, 0, 16, 4, 0, 0, 26, 0, 37, 17, 0, 0, 0, 0, 0, 0, 0, 0, 0, 2, 2, 1, 0, 9, 11, 18, 8, 3, 29, 0, 44, 36, 0, 48, 1, 0, 0, 0, 0, 0, 0, 0, 0, 6, 0, 0, 0, 0, 0, 0, 0, 0, 6, 14, 0, 0, 0, 0, 0, 0, 0, 0, 0, 0, 0, 0, 0, 0, 0, 0, 0, 0, 0, 0, 0, 2, 0, 0, 0, 0, 0, 0, 0, 0, 0, 0, 0, 0, 0, 0, 0, 8, 0, 0, 0, 0, 0, 5, 11, 0, 3, 0, 53, 90, 0, 18, 5, 0, 0, 0, 0, 0, 0, 0, 0, 0, 0, 0, 3, 0, 0, 0, 0, 0, 8, 72, 54, 0, 69, 0, 2, 0, 0, 0, 0, 0, 0, 0, 0, 0, 0, 7, 0, 0, 0, 0, 0, 0, 2, 17, 31, 19, 5, 3, 0], \"sizemode\": \"area\", \"sizeref\": 0.6125, \"symbol\": \"circle\"}, \"mode\": \"markers\", \"name\": \"Thu\", \"showlegend\": true, \"type\": \"scattergl\", \"x\": [60, 25, 18, 17, 12, 16, 29, 65, 137, 197, 244, 278, 280, 269, 226, 264, 250, 187, 185, 175, 173, 186, 157, 97, 53, 40, 16, 20, 10, 26, 35, 76, 124, 204, 246, 264, 264, 276, 273, 257, 256, 205, 187, 214, 207, 208, 141, 89, 63, 43, 20, 10, 18, 19, 32, 76, 129, 198, 230, 250, 280, 230, 253, 255, 232, 222, 186, 201, 187, 250, 142, 105, 39, 33, 19, 10, 4, 13, 32, 69, 103, 160, 179, 199, 162, 171, 190, 227, 191, 153, 152, 174, 177, 140, 102, 84, 45, 31, 8, 15, 10, 17, 40, 73, 107, 143, 171, 163, 220, 167, 176, 172, 213, 166, 128, 127, 146, 132, 89, 70, 40, 30, 20, 15, 8, 17, 32, 96, 101, 182, 220, 217, 274, 174, 249, 191, 190, 163, 146, 160, 175, 178, 128, 87, 54, 44, 28, 17, 13, 29, 58, 98, 103, 172, 202, 180, 222, 219, 188, 200, 208, 185, 166, 183, 159, 216, 157, 66], \"xaxis\": \"x\", \"y\": [0, 0, 0, 0, 0, 0, 3, 0, 3, 15, 2, 14, 16, 1, 0, 16, 4, 0, 0, 26, 0, 37, 17, 0, 0, 0, 0, 0, 0, 0, 0, 0, 2, 2, 1, 0, 9, 11, 18, 8, 3, 29, 0, 44, 36, 0, 48, 1, 0, 0, 0, 0, 0, 0, 0, 0, 6, 0, 0, 0, 0, 0, 0, 0, 0, 6, 14, 0, 0, 0, 0, 0, 0, 0, 0, 0, 0, 0, 0, 0, 0, 0, 0, 0, 0, 0, 0, 0, 2, 0, 0, 0, 0, 0, 0, 0, 0, 0, 0, 0, 0, 0, 0, 0, 8, 0, 0, 0, 0, 0, 5, 11, 0, 3, 0, 53, 90, 0, 18, 5, 0, 0, 0, 0, 0, 0, 0, 0, 0, 0, 0, 3, 0, 0, 0, 0, 0, 8, 72, 54, 0, 69, 0, 2, 0, 0, 0, 0, 0, 0, 0, 0, 0, 0, 7, 0, 0, 0, 0, 0, 0, 2, 17, 31, 19, 5, 3, 0], \"yaxis\": \"y\"}, {\"customdata\": [[\"Jul\"], [\"Jul\"], [\"Jul\"], [\"Jul\"], [\"Jul\"], [\"Jul\"], [\"Jul\"], [\"Jul\"], [\"Jul\"], [\"Jul\"], [\"Jul\"], [\"Jul\"], [\"Jul\"], [\"Jul\"], [\"Jul\"], [\"Jul\"], [\"Jul\"], [\"Jul\"], [\"Jul\"], [\"Jul\"], [\"Jul\"], [\"Jul\"], [\"Jul\"], [\"Jul\"], [\"Jul\"], [\"Jul\"], [\"Jul\"], [\"Jul\"], [\"Jul\"], [\"Jul\"], [\"Jul\"], [\"Jul\"], [\"Jul\"], [\"Jul\"], [\"Jul\"], [\"Jul\"], [\"Jul\"], [\"Jul\"], [\"Jul\"], [\"Jul\"], [\"Jul\"], [\"Jul\"], [\"Jul\"], [\"Jul\"], [\"Jul\"], [\"Jul\"], [\"Jul\"], [\"Jul\"], [\"Jul\"], [\"Jul\"], [\"Jul\"], [\"Jul\"], [\"Jul\"], [\"Jul\"], [\"Jul\"], [\"Jul\"], [\"Jul\"], [\"Jul\"], [\"Jul\"], [\"Jul\"], [\"Jul\"], [\"Jul\"], [\"Jul\"], [\"Jul\"], [\"Jul\"], [\"Jul\"], [\"Jul\"], [\"Jul\"], [\"Jul\"], [\"Jul\"], [\"Jul\"], [\"Jul\"], [\"Aug\"], [\"Aug\"], [\"Aug\"], [\"Aug\"], [\"Aug\"], [\"Aug\"], [\"Aug\"], [\"Aug\"], [\"Aug\"], [\"Aug\"], [\"Aug\"], [\"Aug\"], [\"Aug\"], [\"Aug\"], [\"Aug\"], [\"Aug\"], [\"Aug\"], [\"Aug\"], [\"Aug\"], [\"Aug\"], [\"Aug\"], [\"Aug\"], [\"Aug\"], [\"Aug\"], [\"Aug\"], [\"Aug\"], [\"Aug\"], [\"Aug\"], [\"Aug\"], [\"Aug\"], [\"Aug\"], [\"Aug\"], [\"Aug\"], [\"Aug\"], [\"Aug\"], [\"Aug\"], [\"Aug\"], [\"Aug\"], [\"Aug\"], [\"Aug\"], [\"Aug\"], [\"Aug\"], [\"Aug\"], [\"Aug\"], [\"Aug\"], [\"Aug\"], [\"Aug\"], [\"Aug\"], [\"Aug\"], [\"Aug\"], [\"Aug\"], [\"Aug\"], [\"Aug\"], [\"Aug\"], [\"Aug\"], [\"Aug\"], [\"Aug\"], [\"Aug\"], [\"Aug\"], [\"Aug\"], [\"Aug\"], [\"Aug\"], [\"Aug\"], [\"Aug\"], [\"Aug\"], [\"Aug\"], [\"Aug\"], [\"Aug\"], [\"Aug\"], [\"Aug\"], [\"Aug\"], [\"Aug\"], [\"Aug\"], [\"Aug\"], [\"Aug\"], [\"Aug\"], [\"Aug\"], [\"Aug\"], [\"Aug\"], [\"Aug\"], [\"Aug\"], [\"Aug\"], [\"Aug\"], [\"Aug\"], [\"Aug\"], [\"Aug\"], [\"Aug\"], [\"Aug\"], [\"Aug\"], [\"Aug\"], [\"Aug\"], [\"Aug\"], [\"Aug\"], [\"Aug\"], [\"Aug\"], [\"Aug\"]], \"hovertemplate\": \"Weekday=Fri<br>Page Views=%{x}<br>NetA_imp=%{marker.size}<br>Month=%{customdata[0]}<extra></extra>\", \"legendgroup\": \"Fri\", \"marker\": {\"color\": \"#19d3f3\", \"size\": [0, 0, 0, 0, 0, 0, 0, 0, 0, 0, 0, 5, 12, 0, 0, 0, 0, 30, 0, 0, 30, 27, 0, 0, 0, 0, 0, 0, 0, 0, 0, 2, 0, 3, 6, 0, 3, 4, 6, 2, 2, 6, 7, 2, 5, 12, 4, 0, 0, 0, 0, 0, 0, 0, 0, 0, 0, 0, 0, 0, 0, 0, 0, 8, 2, 7, 0, 0, 0, 0, 7, 7, 0, 0, 0, 0, 0, 0, 0, 0, 0, 0, 0, 0, 0, 0, 0, 6, 0, 0, 0, 0, 0, 0, 29, 5, 0, 0, 0, 0, 0, 0, 0, 0, 0, 0, 0, 0, 0, 0, 0, 15, 10, 0, 24, 0, 0, 0, 0, 0, 0, 0, 0, 0, 0, 0, 0, 0, 0, 0, 0, 0, 8, 0, 0, 0, 9, 0, 2, 0, 0, 0, 2, 3, 0, 0, 0, 0, 0, 0, 21, 0, 17, 0, 0, 0, 0, 6, 0, 15, 3, 0, 24, 53, 1, 0, 0, 0], \"sizemode\": \"area\", \"sizeref\": 0.6125, \"symbol\": \"circle\"}, \"mode\": \"markers\", \"name\": \"Fri\", \"showlegend\": true, \"type\": \"scattergl\", \"x\": [53, 31, 18, 13, 18, 21, 42, 63, 158, 196, 248, 258, 279, 226, 249, 246, 212, 159, 135, 168, 144, 161, 110, 69, 52, 40, 21, 26, 16, 26, 23, 63, 135, 230, 269, 263, 267, 241, 275, 269, 291, 201, 176, 170, 152, 128, 117, 87, 60, 45, 18, 21, 21, 21, 56, 75, 139, 206, 223, 248, 258, 233, 210, 225, 219, 178, 175, 153, 183, 170, 126, 104, 37, 38, 15, 18, 18, 25, 34, 54, 113, 147, 183, 201, 189, 204, 154, 191, 196, 143, 124, 139, 101, 126, 138, 70, 38, 36, 28, 28, 19, 18, 33, 63, 109, 196, 184, 220, 251, 210, 216, 192, 208, 169, 142, 146, 130, 129, 83, 74, 42, 17, 11, 9, 12, 26, 54, 109, 126, 192, 172, 189, 229, 198, 169, 186, 211, 115, 130, 127, 130, 91, 101, 68, 51, 30, 22, 16, 11, 10, 24, 81, 117, 174, 202, 252, 203, 225, 189, 213, 246, 177, 128, 147, 155, 157, 114, 87], \"xaxis\": \"x\", \"y\": [0, 0, 0, 0, 0, 0, 0, 0, 0, 0, 0, 5, 12, 0, 0, 0, 0, 30, 0, 0, 30, 27, 0, 0, 0, 0, 0, 0, 0, 0, 0, 2, 0, 3, 6, 0, 3, 4, 6, 2, 2, 6, 7, 2, 5, 12, 4, 0, 0, 0, 0, 0, 0, 0, 0, 0, 0, 0, 0, 0, 0, 0, 0, 8, 2, 7, 0, 0, 0, 0, 7, 7, 0, 0, 0, 0, 0, 0, 0, 0, 0, 0, 0, 0, 0, 0, 0, 6, 0, 0, 0, 0, 0, 0, 29, 5, 0, 0, 0, 0, 0, 0, 0, 0, 0, 0, 0, 0, 0, 0, 0, 15, 10, 0, 24, 0, 0, 0, 0, 0, 0, 0, 0, 0, 0, 0, 0, 0, 0, 0, 0, 0, 8, 0, 0, 0, 9, 0, 2, 0, 0, 0, 2, 3, 0, 0, 0, 0, 0, 0, 21, 0, 17, 0, 0, 0, 0, 6, 0, 15, 3, 0, 24, 53, 1, 0, 0, 0], \"yaxis\": \"y\"}, {\"customdata\": [[\"Jul\"], [\"Jul\"], [\"Jul\"], [\"Jul\"], [\"Jul\"], [\"Jul\"], [\"Jul\"], [\"Jul\"], [\"Jul\"], [\"Jul\"], [\"Jul\"], [\"Jul\"], [\"Jul\"], [\"Jul\"], [\"Jul\"], [\"Jul\"], [\"Jul\"], [\"Jul\"], [\"Jul\"], [\"Jul\"], [\"Jul\"], [\"Jul\"], [\"Jul\"], [\"Jul\"], [\"Jul\"], [\"Jul\"], [\"Jul\"], [\"Jul\"], [\"Jul\"], [\"Jul\"], [\"Jul\"], [\"Jul\"], [\"Jul\"], [\"Jul\"], [\"Jul\"], [\"Jul\"], [\"Jul\"], [\"Jul\"], [\"Jul\"], [\"Jul\"], [\"Jul\"], [\"Jul\"], [\"Jul\"], [\"Jul\"], [\"Jul\"], [\"Jul\"], [\"Jul\"], [\"Jul\"], [\"Jul\"], [\"Jul\"], [\"Jul\"], [\"Jul\"], [\"Jul\"], [\"Jul\"], [\"Jul\"], [\"Jul\"], [\"Jul\"], [\"Jul\"], [\"Jul\"], [\"Jul\"], [\"Jul\"], [\"Jul\"], [\"Jul\"], [\"Jul\"], [\"Jul\"], [\"Jul\"], [\"Jul\"], [\"Jul\"], [\"Jul\"], [\"Jul\"], [\"Jul\"], [\"Jul\"], [\"Aug\"], [\"Aug\"], [\"Aug\"], [\"Aug\"], [\"Aug\"], [\"Aug\"], [\"Aug\"], [\"Aug\"], [\"Aug\"], [\"Aug\"], [\"Aug\"], [\"Aug\"], [\"Aug\"], [\"Aug\"], [\"Aug\"], [\"Aug\"], [\"Aug\"], [\"Aug\"], [\"Aug\"], [\"Aug\"], [\"Aug\"], [\"Aug\"], [\"Aug\"], [\"Aug\"], [\"Aug\"], [\"Aug\"], [\"Aug\"], [\"Aug\"], [\"Aug\"], [\"Aug\"], [\"Aug\"], [\"Aug\"], [\"Aug\"], [\"Aug\"], [\"Aug\"], [\"Aug\"], [\"Aug\"], [\"Aug\"], [\"Aug\"], [\"Aug\"], [\"Aug\"], [\"Aug\"], [\"Aug\"], [\"Aug\"], [\"Aug\"], [\"Aug\"], [\"Aug\"], [\"Aug\"], [\"Aug\"], [\"Aug\"], [\"Aug\"], [\"Aug\"], [\"Aug\"], [\"Aug\"], [\"Aug\"], [\"Aug\"], [\"Aug\"], [\"Aug\"], [\"Aug\"], [\"Aug\"], [\"Aug\"], [\"Aug\"], [\"Aug\"], [\"Aug\"], [\"Aug\"], [\"Aug\"], [\"Aug\"], [\"Aug\"], [\"Aug\"], [\"Aug\"], [\"Aug\"], [\"Aug\"], [\"Aug\"], [\"Aug\"], [\"Aug\"], [\"Aug\"], [\"Aug\"], [\"Aug\"], [\"Aug\"], [\"Aug\"], [\"Aug\"], [\"Aug\"], [\"Aug\"], [\"Aug\"], [\"Aug\"], [\"Aug\"], [\"Aug\"], [\"Aug\"], [\"Aug\"], [\"Aug\"], [\"Aug\"], [\"Aug\"], [\"Aug\"], [\"Aug\"], [\"Aug\"], [\"Aug\"]], \"hovertemplate\": \"Weekday=Sat<br>Page Views=%{x}<br>NetA_imp=%{marker.size}<br>Month=%{customdata[0]}<extra></extra>\", \"legendgroup\": \"Sat\", \"marker\": {\"color\": \"#FF6692\", \"size\": [0, 0, 0, 0, 0, 0, 0, 0, 0, 0, 0, 2, 0, 7, 0, 0, 2, 32, 0, 0, 22, 0, 0, 0, 0, 0, 0, 0, 0, 0, 0, 0, 12, 8, 3, 0, 1, 2, 13, 23, 30, 4, 17, 12, 7, 3, 15, 5, 0, 0, 0, 0, 0, 0, 0, 0, 0, 0, 0, 0, 4, 0, 5, 3, 15, 13, 9, 0, 0, 0, 0, 0, 0, 0, 0, 0, 0, 0, 0, 3, 0, 0, 0, 0, 0, 0, 10, 6, 0, 0, 2, 0, 0, 0, 0, 0, 0, 0, 0, 0, 0, 0, 0, 0, 0, 0, 7, 0, 0, 0, 8, 0, 21, 38, 1, 0, 0, 0, 2, 1, 0, 0, 0, 0, 0, 0, 0, 0, 0, 0, 0, 0, 0, 0, 0, 10, 8, 22, 11, 0, 0, 0, 0, 1, 0, 0, 0, 0, 0, 0, 0, 0, 0, 0, 5, 0, 9, 0, 0, 9, 0, 4, 1, 0, 1, 57, 0, 8], \"sizemode\": \"area\", \"sizeref\": 0.6125, \"symbol\": \"circle\"}, \"mode\": \"markers\", \"name\": \"Sat\", \"showlegend\": true, \"type\": \"scattergl\", \"x\": [59, 34, 17, 12, 12, 11, 29, 86, 135, 178, 226, 254, 272, 247, 304, 254, 261, 192, 143, 162, 127, 130, 110, 77, 57, 32, 20, 20, 11, 33, 26, 73, 145, 171, 249, 260, 259, 270, 266, 241, 239, 193, 161, 157, 169, 138, 140, 100, 67, 37, 24, 21, 16, 12, 44, 90, 146, 195, 274, 280, 292, 244, 220, 225, 237, 197, 170, 140, 146, 123, 125, 85, 52, 31, 12, 13, 13, 15, 33, 55, 153, 163, 186, 222, 217, 209, 160, 168, 222, 135, 121, 121, 129, 118, 108, 92, 43, 25, 20, 6, 7, 17, 24, 58, 137, 170, 209, 270, 231, 188, 183, 246, 221, 148, 125, 141, 107, 115, 80, 102, 67, 27, 9, 14, 18, 16, 18, 66, 106, 189, 240, 252, 176, 190, 200, 212, 180, 155, 126, 121, 133, 138, 92, 64, 51, 28, 25, 20, 11, 17, 35, 81, 136, 173, 215, 231, 214, 241, 244, 238, 206, 196, 148, 148, 153, 134, 89, 73], \"xaxis\": \"x\", \"y\": [0, 0, 0, 0, 0, 0, 0, 0, 0, 0, 0, 2, 0, 7, 0, 0, 2, 32, 0, 0, 22, 0, 0, 0, 0, 0, 0, 0, 0, 0, 0, 0, 12, 8, 3, 0, 1, 2, 13, 23, 30, 4, 17, 12, 7, 3, 15, 5, 0, 0, 0, 0, 0, 0, 0, 0, 0, 0, 0, 0, 4, 0, 5, 3, 15, 13, 9, 0, 0, 0, 0, 0, 0, 0, 0, 0, 0, 0, 0, 3, 0, 0, 0, 0, 0, 0, 10, 6, 0, 0, 2, 0, 0, 0, 0, 0, 0, 0, 0, 0, 0, 0, 0, 0, 0, 0, 7, 0, 0, 0, 8, 0, 21, 38, 1, 0, 0, 0, 2, 1, 0, 0, 0, 0, 0, 0, 0, 0, 0, 0, 0, 0, 0, 0, 0, 10, 8, 22, 11, 0, 0, 0, 0, 1, 0, 0, 0, 0, 0, 0, 0, 0, 0, 0, 5, 0, 9, 0, 0, 9, 0, 4, 1, 0, 1, 57, 0, 8], \"yaxis\": \"y\"}],                        {\"legend\": {\"itemsizing\": \"constant\", \"title\": {\"text\": \"Weekday\"}, \"tracegroupgap\": 0}, \"margin\": {\"t\": 60}, \"template\": {\"data\": {\"bar\": [{\"error_x\": {\"color\": \"#2a3f5f\"}, \"error_y\": {\"color\": \"#2a3f5f\"}, \"marker\": {\"line\": {\"color\": \"#E5ECF6\", \"width\": 0.5}}, \"type\": \"bar\"}], \"barpolar\": [{\"marker\": {\"line\": {\"color\": \"#E5ECF6\", \"width\": 0.5}}, \"type\": \"barpolar\"}], \"carpet\": [{\"aaxis\": {\"endlinecolor\": \"#2a3f5f\", \"gridcolor\": \"white\", \"linecolor\": \"white\", \"minorgridcolor\": \"white\", \"startlinecolor\": \"#2a3f5f\"}, \"baxis\": {\"endlinecolor\": \"#2a3f5f\", \"gridcolor\": \"white\", \"linecolor\": \"white\", \"minorgridcolor\": \"white\", \"startlinecolor\": \"#2a3f5f\"}, \"type\": \"carpet\"}], \"choropleth\": [{\"colorbar\": {\"outlinewidth\": 0, \"ticks\": \"\"}, \"type\": \"choropleth\"}], \"contour\": [{\"colorbar\": {\"outlinewidth\": 0, \"ticks\": \"\"}, \"colorscale\": [[0.0, \"#0d0887\"], [0.1111111111111111, \"#46039f\"], [0.2222222222222222, \"#7201a8\"], [0.3333333333333333, \"#9c179e\"], [0.4444444444444444, \"#bd3786\"], [0.5555555555555556, \"#d8576b\"], [0.6666666666666666, \"#ed7953\"], [0.7777777777777778, \"#fb9f3a\"], [0.8888888888888888, \"#fdca26\"], [1.0, \"#f0f921\"]], \"type\": \"contour\"}], \"contourcarpet\": [{\"colorbar\": {\"outlinewidth\": 0, \"ticks\": \"\"}, \"type\": \"contourcarpet\"}], \"heatmap\": [{\"colorbar\": {\"outlinewidth\": 0, \"ticks\": \"\"}, \"colorscale\": [[0.0, \"#0d0887\"], [0.1111111111111111, \"#46039f\"], [0.2222222222222222, \"#7201a8\"], [0.3333333333333333, \"#9c179e\"], [0.4444444444444444, \"#bd3786\"], [0.5555555555555556, \"#d8576b\"], [0.6666666666666666, \"#ed7953\"], [0.7777777777777778, \"#fb9f3a\"], [0.8888888888888888, \"#fdca26\"], [1.0, \"#f0f921\"]], \"type\": \"heatmap\"}], \"heatmapgl\": [{\"colorbar\": {\"outlinewidth\": 0, \"ticks\": \"\"}, \"colorscale\": [[0.0, \"#0d0887\"], [0.1111111111111111, \"#46039f\"], [0.2222222222222222, \"#7201a8\"], [0.3333333333333333, \"#9c179e\"], [0.4444444444444444, \"#bd3786\"], [0.5555555555555556, \"#d8576b\"], [0.6666666666666666, \"#ed7953\"], [0.7777777777777778, \"#fb9f3a\"], [0.8888888888888888, \"#fdca26\"], [1.0, \"#f0f921\"]], \"type\": \"heatmapgl\"}], \"histogram\": [{\"marker\": {\"colorbar\": {\"outlinewidth\": 0, \"ticks\": \"\"}}, \"type\": \"histogram\"}], \"histogram2d\": [{\"colorbar\": {\"outlinewidth\": 0, \"ticks\": \"\"}, \"colorscale\": [[0.0, \"#0d0887\"], [0.1111111111111111, \"#46039f\"], [0.2222222222222222, \"#7201a8\"], [0.3333333333333333, \"#9c179e\"], [0.4444444444444444, \"#bd3786\"], [0.5555555555555556, \"#d8576b\"], [0.6666666666666666, \"#ed7953\"], [0.7777777777777778, \"#fb9f3a\"], [0.8888888888888888, \"#fdca26\"], [1.0, \"#f0f921\"]], \"type\": \"histogram2d\"}], \"histogram2dcontour\": [{\"colorbar\": {\"outlinewidth\": 0, \"ticks\": \"\"}, \"colorscale\": [[0.0, \"#0d0887\"], [0.1111111111111111, \"#46039f\"], [0.2222222222222222, \"#7201a8\"], [0.3333333333333333, \"#9c179e\"], [0.4444444444444444, \"#bd3786\"], [0.5555555555555556, \"#d8576b\"], [0.6666666666666666, \"#ed7953\"], [0.7777777777777778, \"#fb9f3a\"], [0.8888888888888888, \"#fdca26\"], [1.0, \"#f0f921\"]], \"type\": \"histogram2dcontour\"}], \"mesh3d\": [{\"colorbar\": {\"outlinewidth\": 0, \"ticks\": \"\"}, \"type\": \"mesh3d\"}], \"parcoords\": [{\"line\": {\"colorbar\": {\"outlinewidth\": 0, \"ticks\": \"\"}}, \"type\": \"parcoords\"}], \"pie\": [{\"automargin\": true, \"type\": \"pie\"}], \"scatter\": [{\"marker\": {\"colorbar\": {\"outlinewidth\": 0, \"ticks\": \"\"}}, \"type\": \"scatter\"}], \"scatter3d\": [{\"line\": {\"colorbar\": {\"outlinewidth\": 0, \"ticks\": \"\"}}, \"marker\": {\"colorbar\": {\"outlinewidth\": 0, \"ticks\": \"\"}}, \"type\": \"scatter3d\"}], \"scattercarpet\": [{\"marker\": {\"colorbar\": {\"outlinewidth\": 0, \"ticks\": \"\"}}, \"type\": \"scattercarpet\"}], \"scattergeo\": [{\"marker\": {\"colorbar\": {\"outlinewidth\": 0, \"ticks\": \"\"}}, \"type\": \"scattergeo\"}], \"scattergl\": [{\"marker\": {\"colorbar\": {\"outlinewidth\": 0, \"ticks\": \"\"}}, \"type\": \"scattergl\"}], \"scattermapbox\": [{\"marker\": {\"colorbar\": {\"outlinewidth\": 0, \"ticks\": \"\"}}, \"type\": \"scattermapbox\"}], \"scatterpolar\": [{\"marker\": {\"colorbar\": {\"outlinewidth\": 0, \"ticks\": \"\"}}, \"type\": \"scatterpolar\"}], \"scatterpolargl\": [{\"marker\": {\"colorbar\": {\"outlinewidth\": 0, \"ticks\": \"\"}}, \"type\": \"scatterpolargl\"}], \"scatterternary\": [{\"marker\": {\"colorbar\": {\"outlinewidth\": 0, \"ticks\": \"\"}}, \"type\": \"scatterternary\"}], \"surface\": [{\"colorbar\": {\"outlinewidth\": 0, \"ticks\": \"\"}, \"colorscale\": [[0.0, \"#0d0887\"], [0.1111111111111111, \"#46039f\"], [0.2222222222222222, \"#7201a8\"], [0.3333333333333333, \"#9c179e\"], [0.4444444444444444, \"#bd3786\"], [0.5555555555555556, \"#d8576b\"], [0.6666666666666666, \"#ed7953\"], [0.7777777777777778, \"#fb9f3a\"], [0.8888888888888888, \"#fdca26\"], [1.0, \"#f0f921\"]], \"type\": \"surface\"}], \"table\": [{\"cells\": {\"fill\": {\"color\": \"#EBF0F8\"}, \"line\": {\"color\": \"white\"}}, \"header\": {\"fill\": {\"color\": \"#C8D4E3\"}, \"line\": {\"color\": \"white\"}}, \"type\": \"table\"}]}, \"layout\": {\"annotationdefaults\": {\"arrowcolor\": \"#2a3f5f\", \"arrowhead\": 0, \"arrowwidth\": 1}, \"autotypenumbers\": \"strict\", \"coloraxis\": {\"colorbar\": {\"outlinewidth\": 0, \"ticks\": \"\"}}, \"colorscale\": {\"diverging\": [[0, \"#8e0152\"], [0.1, \"#c51b7d\"], [0.2, \"#de77ae\"], [0.3, \"#f1b6da\"], [0.4, \"#fde0ef\"], [0.5, \"#f7f7f7\"], [0.6, \"#e6f5d0\"], [0.7, \"#b8e186\"], [0.8, \"#7fbc41\"], [0.9, \"#4d9221\"], [1, \"#276419\"]], \"sequential\": [[0.0, \"#0d0887\"], [0.1111111111111111, \"#46039f\"], [0.2222222222222222, \"#7201a8\"], [0.3333333333333333, \"#9c179e\"], [0.4444444444444444, \"#bd3786\"], [0.5555555555555556, \"#d8576b\"], [0.6666666666666666, \"#ed7953\"], [0.7777777777777778, \"#fb9f3a\"], [0.8888888888888888, \"#fdca26\"], [1.0, \"#f0f921\"]], \"sequentialminus\": [[0.0, \"#0d0887\"], [0.1111111111111111, \"#46039f\"], [0.2222222222222222, \"#7201a8\"], [0.3333333333333333, \"#9c179e\"], [0.4444444444444444, \"#bd3786\"], [0.5555555555555556, \"#d8576b\"], [0.6666666666666666, \"#ed7953\"], [0.7777777777777778, \"#fb9f3a\"], [0.8888888888888888, \"#fdca26\"], [1.0, \"#f0f921\"]]}, \"colorway\": [\"#636efa\", \"#EF553B\", \"#00cc96\", \"#ab63fa\", \"#FFA15A\", \"#19d3f3\", \"#FF6692\", \"#B6E880\", \"#FF97FF\", \"#FECB52\"], \"font\": {\"color\": \"#2a3f5f\"}, \"geo\": {\"bgcolor\": \"white\", \"lakecolor\": \"white\", \"landcolor\": \"#E5ECF6\", \"showlakes\": true, \"showland\": true, \"subunitcolor\": \"white\"}, \"hoverlabel\": {\"align\": \"left\"}, \"hovermode\": \"closest\", \"mapbox\": {\"style\": \"light\"}, \"paper_bgcolor\": \"white\", \"plot_bgcolor\": \"#E5ECF6\", \"polar\": {\"angularaxis\": {\"gridcolor\": \"white\", \"linecolor\": \"white\", \"ticks\": \"\"}, \"bgcolor\": \"#E5ECF6\", \"radialaxis\": {\"gridcolor\": \"white\", \"linecolor\": \"white\", \"ticks\": \"\"}}, \"scene\": {\"xaxis\": {\"backgroundcolor\": \"#E5ECF6\", \"gridcolor\": \"white\", \"gridwidth\": 2, \"linecolor\": \"white\", \"showbackground\": true, \"ticks\": \"\", \"zerolinecolor\": \"white\"}, \"yaxis\": {\"backgroundcolor\": \"#E5ECF6\", \"gridcolor\": \"white\", \"gridwidth\": 2, \"linecolor\": \"white\", \"showbackground\": true, \"ticks\": \"\", \"zerolinecolor\": \"white\"}, \"zaxis\": {\"backgroundcolor\": \"#E5ECF6\", \"gridcolor\": \"white\", \"gridwidth\": 2, \"linecolor\": \"white\", \"showbackground\": true, \"ticks\": \"\", \"zerolinecolor\": \"white\"}}, \"shapedefaults\": {\"line\": {\"color\": \"#2a3f5f\"}}, \"ternary\": {\"aaxis\": {\"gridcolor\": \"white\", \"linecolor\": \"white\", \"ticks\": \"\"}, \"baxis\": {\"gridcolor\": \"white\", \"linecolor\": \"white\", \"ticks\": \"\"}, \"bgcolor\": \"#E5ECF6\", \"caxis\": {\"gridcolor\": \"white\", \"linecolor\": \"white\", \"ticks\": \"\"}}, \"title\": {\"x\": 0.05}, \"xaxis\": {\"automargin\": true, \"gridcolor\": \"white\", \"linecolor\": \"white\", \"ticks\": \"\", \"title\": {\"standoff\": 15}, \"zerolinecolor\": \"white\", \"zerolinewidth\": 2}, \"yaxis\": {\"automargin\": true, \"gridcolor\": \"white\", \"linecolor\": \"white\", \"ticks\": \"\", \"title\": {\"standoff\": 15}, \"zerolinecolor\": \"white\", \"zerolinewidth\": 2}}}, \"title\": {\"text\": \"Impressions vs Page views\"}, \"xaxis\": {\"anchor\": \"y\", \"domain\": [0.0, 1.0], \"tickangle\": 45, \"tickfont\": {\"color\": \"crimson\", \"family\": \"Rockwell\", \"size\": 14}, \"title\": {\"text\": \"Page views\"}}, \"yaxis\": {\"anchor\": \"x\", \"domain\": [0.0, 1.0], \"title\": {\"text\": \"Impressions\"}}},                        {\"responsive\": true}                    ).then(function(){\n",
       "                            \n",
       "var gd = document.getElementById('ff68eb94-2e1f-427f-b406-5a1ca6f28c4c');\n",
       "var x = new MutationObserver(function (mutations, observer) {{\n",
       "        var display = window.getComputedStyle(gd).display;\n",
       "        if (!display || display === 'none') {{\n",
       "            console.log([gd, 'removed!']);\n",
       "            Plotly.purge(gd);\n",
       "            observer.disconnect();\n",
       "        }}\n",
       "}});\n",
       "\n",
       "// Listen for the removal of the full notebook cells\n",
       "var notebookContainer = gd.closest('#notebook-container');\n",
       "if (notebookContainer) {{\n",
       "    x.observe(notebookContainer, {childList: true});\n",
       "}}\n",
       "\n",
       "// Listen for the clearing of the current output cell\n",
       "var outputEl = gd.closest('.output');\n",
       "if (outputEl) {{\n",
       "    x.observe(outputEl, {childList: true});\n",
       "}}\n",
       "\n",
       "                        })                };                });            </script>        </div>"
      ]
     },
     "metadata": {},
     "output_type": "display_data"
    }
   ],
   "source": [
    "fig = px.scatter(df, x=\"Page Views\", y=\"NetA_imp\",\n",
    "                 size='NetA_imp',color=\"Weekday\",                                                    \n",
    "                 hover_data=['Month'])#\n",
    "fig.update_layout(title='Impressions vs Page views',xaxis_title='Page views', yaxis_title=\"Impressions\")\n",
    "fig.update_xaxes(tickangle=45, tickfont=dict(family='Rockwell', color='crimson', size=14))\n",
    "fig.show()"
   ]
  },
  {
   "cell_type": "code",
   "execution_count": 13,
   "metadata": {},
   "outputs": [],
   "source": [
    "df2=df.groupby(['Date', 'Month'])[['Page Views', 'NetA_imp','NetA_spd'\\\n",
    "                                         , 'NetB_imp', 'NetB_spd']].sum().reset_index()"
   ]
  },
  {
   "cell_type": "code",
   "execution_count": 36,
   "metadata": {},
   "outputs": [],
   "source": [
    "#df3=df2[(df2.Date>\"2019-07-13\") & (df2.Date<\"2019-08-01\")]"
   ]
  },
  {
   "cell_type": "code",
   "execution_count": 14,
   "metadata": {},
   "outputs": [
    {
     "data": {
      "text/html": [
       "<div>\n",
       "<style scoped>\n",
       "    .dataframe tbody tr th:only-of-type {\n",
       "        vertical-align: middle;\n",
       "    }\n",
       "\n",
       "    .dataframe tbody tr th {\n",
       "        vertical-align: top;\n",
       "    }\n",
       "\n",
       "    .dataframe thead th {\n",
       "        text-align: right;\n",
       "    }\n",
       "</style>\n",
       "<table border=\"1\" class=\"dataframe\">\n",
       "  <thead>\n",
       "    <tr style=\"text-align: right;\">\n",
       "      <th></th>\n",
       "      <th>Date</th>\n",
       "      <th>Month</th>\n",
       "      <th>Page Views</th>\n",
       "      <th>NetA_imp</th>\n",
       "      <th>NetA_spd</th>\n",
       "      <th>NetB_imp</th>\n",
       "      <th>NetB_spd</th>\n",
       "    </tr>\n",
       "  </thead>\n",
       "  <tbody>\n",
       "    <tr>\n",
       "      <th>0</th>\n",
       "      <td>2019-07-07</td>\n",
       "      <td>Jul</td>\n",
       "      <td>3363</td>\n",
       "      <td>421</td>\n",
       "      <td>159</td>\n",
       "      <td>381</td>\n",
       "      <td>176</td>\n",
       "    </tr>\n",
       "    <tr>\n",
       "      <th>1</th>\n",
       "      <td>2019-07-08</td>\n",
       "      <td>Jul</td>\n",
       "      <td>4160</td>\n",
       "      <td>392</td>\n",
       "      <td>1066</td>\n",
       "      <td>316</td>\n",
       "      <td>774</td>\n",
       "    </tr>\n",
       "    <tr>\n",
       "      <th>2</th>\n",
       "      <td>2019-07-09</td>\n",
       "      <td>Jul</td>\n",
       "      <td>3619</td>\n",
       "      <td>756</td>\n",
       "      <td>877</td>\n",
       "      <td>671</td>\n",
       "      <td>5010</td>\n",
       "    </tr>\n",
       "    <tr>\n",
       "      <th>3</th>\n",
       "      <td>2019-07-10</td>\n",
       "      <td>Jul</td>\n",
       "      <td>3474</td>\n",
       "      <td>128</td>\n",
       "      <td>130</td>\n",
       "      <td>401</td>\n",
       "      <td>492</td>\n",
       "    </tr>\n",
       "    <tr>\n",
       "      <th>4</th>\n",
       "      <td>2019-07-11</td>\n",
       "      <td>Jul</td>\n",
       "      <td>3547</td>\n",
       "      <td>154</td>\n",
       "      <td>1994</td>\n",
       "      <td>182</td>\n",
       "      <td>230</td>\n",
       "    </tr>\n",
       "  </tbody>\n",
       "</table>\n",
       "</div>"
      ],
      "text/plain": [
       "        Date Month  Page Views  NetA_imp  NetA_spd  NetB_imp  NetB_spd\n",
       "0 2019-07-07   Jul        3363       421       159       381       176\n",
       "1 2019-07-08   Jul        4160       392      1066       316       774\n",
       "2 2019-07-09   Jul        3619       756       877       671      5010\n",
       "3 2019-07-10   Jul        3474       128       130       401       492\n",
       "4 2019-07-11   Jul        3547       154      1994       182       230"
      ]
     },
     "execution_count": 14,
     "metadata": {},
     "output_type": "execute_result"
    }
   ],
   "source": [
    "df2.head()"
   ]
  },
  {
   "cell_type": "code",
   "execution_count": 15,
   "metadata": {},
   "outputs": [
    {
     "data": {
      "application/vnd.plotly.v1+json": {
       "config": {
        "plotlyServerURL": "https://plot.ly"
       },
       "data": [
        {
         "dimensions": [
          {
           "axis": {
            "matches": true
           },
           "label": "Page Views",
           "values": [
            3363,
            4160,
            3619,
            3474,
            3547,
            3277,
            3332,
            3858,
            4918,
            3939,
            3763,
            3691,
            3538,
            3430,
            3841,
            4199,
            3770,
            3458,
            3631,
            3367,
            3410,
            3646,
            3475,
            3087,
            2754
           ]
          },
          {
           "axis": {
            "matches": true
           },
           "label": "NetA_imp",
           "values": [
            421,
            392,
            756,
            128,
            154,
            104,
            65,
            155,
            108,
            117,
            185,
            212,
            64,
            155,
            62,
            118,
            23,
            62,
            26,
            31,
            49,
            67,
            110,
            21,
            30
           ]
          },
          {
           "axis": {
            "matches": true
           },
           "label": "NetA_spd",
           "values": [
            159,
            1066,
            877,
            130,
            1994,
            4740,
            993,
            938,
            1777,
            974,
            4935,
            2697,
            0,
            210,
            827,
            4927,
            426,
            3037,
            939,
            530,
            567,
            3455,
            5890,
            678,
            1264
           ]
          },
          {
           "axis": {
            "matches": true
           },
           "label": "NetB_imp",
           "values": [
            381,
            316,
            671,
            401,
            182,
            365,
            450,
            35,
            63,
            2,
            54,
            38,
            50,
            54,
            103,
            94,
            73,
            100,
            20,
            80,
            47,
            63,
            80,
            81,
            47
           ]
          },
          {
           "axis": {
            "matches": true
           },
           "label": "NetB_spd",
           "values": [
            176,
            774,
            5010,
            492,
            230,
            1408,
            1841,
            878,
            2431,
            73,
            911,
            852,
            1845,
            1615,
            3341,
            3398,
            2768,
            2825,
            362,
            3123,
            993,
            3291,
            3622,
            3903,
            1638
           ]
          }
         ],
         "hovertemplate": "Month=Jul<br>%{xaxis.title.text}=%{x}<br>%{yaxis.title.text}=%{y}<extra></extra>",
         "legendgroup": "Jul",
         "marker": {
          "color": "#636efa",
          "symbol": "circle"
         },
         "name": "Jul",
         "showlegend": true,
         "type": "splom"
        },
        {
         "dimensions": [
          {
           "axis": {
            "matches": true
           },
           "label": "Page Views",
           "values": [
            2783,
            2658,
            2748,
            3000,
            3256,
            2865,
            2693,
            2629,
            2922,
            2873,
            3057,
            3357,
            3013,
            3542,
            3093,
            2714,
            2809,
            3113,
            3486,
            3425,
            4066,
            3167,
            3031,
            3107
           ]
          },
          {
           "axis": {
            "matches": true
           },
           "label": "NetA_imp",
           "values": [
            2,
            40,
            21,
            83,
            146,
            51,
            84,
            193,
            49,
            78,
            158,
            196,
            94,
            72,
            208,
            24,
            52,
            185,
            154,
            71,
            70,
            84,
            140,
            94
           ]
          },
          {
           "axis": {
            "matches": true
           },
           "label": "NetA_spd",
           "values": [
            137,
            823,
            405,
            2134,
            4025,
            1363,
            2316,
            10376,
            1215,
            1578,
            6856,
            4946,
            3042,
            1472,
            8595,
            607,
            465,
            6226,
            6174,
            2144,
            1663,
            2534,
            6518,
            2598
           ]
          },
          {
           "axis": {
            "matches": true
           },
           "label": "NetB_imp",
           "values": [
            33,
            0,
            42,
            56,
            218,
            170,
            129,
            117,
            134,
            90,
            44,
            130,
            187,
            178,
            111,
            110,
            123,
            156,
            103,
            134,
            136,
            227,
            71,
            139
           ]
          },
          {
           "axis": {
            "matches": true
           },
           "label": "NetB_spd",
           "values": [
            913,
            0,
            1170,
            2018,
            7783,
            5257,
            5960,
            2744,
            3807,
            1345,
            1081,
            3585,
            5702,
            5270,
            2740,
            4937,
            3524,
            6690,
            3473,
            6624,
            2576,
            6867,
            2432,
            3953
           ]
          }
         ],
         "hovertemplate": "Month=Aug<br>%{xaxis.title.text}=%{x}<br>%{yaxis.title.text}=%{y}<extra></extra>",
         "legendgroup": "Aug",
         "marker": {
          "color": "#EF553B",
          "symbol": "circle"
         },
         "name": "Aug",
         "showlegend": true,
         "type": "splom"
        }
       ],
       "layout": {
        "dragmode": "select",
        "legend": {
         "title": {
          "text": "Month"
         },
         "tracegroupgap": 0
        },
        "margin": {
         "t": 60
        },
        "template": {
         "data": {
          "bar": [
           {
            "error_x": {
             "color": "#2a3f5f"
            },
            "error_y": {
             "color": "#2a3f5f"
            },
            "marker": {
             "line": {
              "color": "#E5ECF6",
              "width": 0.5
             }
            },
            "type": "bar"
           }
          ],
          "barpolar": [
           {
            "marker": {
             "line": {
              "color": "#E5ECF6",
              "width": 0.5
             }
            },
            "type": "barpolar"
           }
          ],
          "carpet": [
           {
            "aaxis": {
             "endlinecolor": "#2a3f5f",
             "gridcolor": "white",
             "linecolor": "white",
             "minorgridcolor": "white",
             "startlinecolor": "#2a3f5f"
            },
            "baxis": {
             "endlinecolor": "#2a3f5f",
             "gridcolor": "white",
             "linecolor": "white",
             "minorgridcolor": "white",
             "startlinecolor": "#2a3f5f"
            },
            "type": "carpet"
           }
          ],
          "choropleth": [
           {
            "colorbar": {
             "outlinewidth": 0,
             "ticks": ""
            },
            "type": "choropleth"
           }
          ],
          "contour": [
           {
            "colorbar": {
             "outlinewidth": 0,
             "ticks": ""
            },
            "colorscale": [
             [
              0,
              "#0d0887"
             ],
             [
              0.1111111111111111,
              "#46039f"
             ],
             [
              0.2222222222222222,
              "#7201a8"
             ],
             [
              0.3333333333333333,
              "#9c179e"
             ],
             [
              0.4444444444444444,
              "#bd3786"
             ],
             [
              0.5555555555555556,
              "#d8576b"
             ],
             [
              0.6666666666666666,
              "#ed7953"
             ],
             [
              0.7777777777777778,
              "#fb9f3a"
             ],
             [
              0.8888888888888888,
              "#fdca26"
             ],
             [
              1,
              "#f0f921"
             ]
            ],
            "type": "contour"
           }
          ],
          "contourcarpet": [
           {
            "colorbar": {
             "outlinewidth": 0,
             "ticks": ""
            },
            "type": "contourcarpet"
           }
          ],
          "heatmap": [
           {
            "colorbar": {
             "outlinewidth": 0,
             "ticks": ""
            },
            "colorscale": [
             [
              0,
              "#0d0887"
             ],
             [
              0.1111111111111111,
              "#46039f"
             ],
             [
              0.2222222222222222,
              "#7201a8"
             ],
             [
              0.3333333333333333,
              "#9c179e"
             ],
             [
              0.4444444444444444,
              "#bd3786"
             ],
             [
              0.5555555555555556,
              "#d8576b"
             ],
             [
              0.6666666666666666,
              "#ed7953"
             ],
             [
              0.7777777777777778,
              "#fb9f3a"
             ],
             [
              0.8888888888888888,
              "#fdca26"
             ],
             [
              1,
              "#f0f921"
             ]
            ],
            "type": "heatmap"
           }
          ],
          "heatmapgl": [
           {
            "colorbar": {
             "outlinewidth": 0,
             "ticks": ""
            },
            "colorscale": [
             [
              0,
              "#0d0887"
             ],
             [
              0.1111111111111111,
              "#46039f"
             ],
             [
              0.2222222222222222,
              "#7201a8"
             ],
             [
              0.3333333333333333,
              "#9c179e"
             ],
             [
              0.4444444444444444,
              "#bd3786"
             ],
             [
              0.5555555555555556,
              "#d8576b"
             ],
             [
              0.6666666666666666,
              "#ed7953"
             ],
             [
              0.7777777777777778,
              "#fb9f3a"
             ],
             [
              0.8888888888888888,
              "#fdca26"
             ],
             [
              1,
              "#f0f921"
             ]
            ],
            "type": "heatmapgl"
           }
          ],
          "histogram": [
           {
            "marker": {
             "colorbar": {
              "outlinewidth": 0,
              "ticks": ""
             }
            },
            "type": "histogram"
           }
          ],
          "histogram2d": [
           {
            "colorbar": {
             "outlinewidth": 0,
             "ticks": ""
            },
            "colorscale": [
             [
              0,
              "#0d0887"
             ],
             [
              0.1111111111111111,
              "#46039f"
             ],
             [
              0.2222222222222222,
              "#7201a8"
             ],
             [
              0.3333333333333333,
              "#9c179e"
             ],
             [
              0.4444444444444444,
              "#bd3786"
             ],
             [
              0.5555555555555556,
              "#d8576b"
             ],
             [
              0.6666666666666666,
              "#ed7953"
             ],
             [
              0.7777777777777778,
              "#fb9f3a"
             ],
             [
              0.8888888888888888,
              "#fdca26"
             ],
             [
              1,
              "#f0f921"
             ]
            ],
            "type": "histogram2d"
           }
          ],
          "histogram2dcontour": [
           {
            "colorbar": {
             "outlinewidth": 0,
             "ticks": ""
            },
            "colorscale": [
             [
              0,
              "#0d0887"
             ],
             [
              0.1111111111111111,
              "#46039f"
             ],
             [
              0.2222222222222222,
              "#7201a8"
             ],
             [
              0.3333333333333333,
              "#9c179e"
             ],
             [
              0.4444444444444444,
              "#bd3786"
             ],
             [
              0.5555555555555556,
              "#d8576b"
             ],
             [
              0.6666666666666666,
              "#ed7953"
             ],
             [
              0.7777777777777778,
              "#fb9f3a"
             ],
             [
              0.8888888888888888,
              "#fdca26"
             ],
             [
              1,
              "#f0f921"
             ]
            ],
            "type": "histogram2dcontour"
           }
          ],
          "mesh3d": [
           {
            "colorbar": {
             "outlinewidth": 0,
             "ticks": ""
            },
            "type": "mesh3d"
           }
          ],
          "parcoords": [
           {
            "line": {
             "colorbar": {
              "outlinewidth": 0,
              "ticks": ""
             }
            },
            "type": "parcoords"
           }
          ],
          "pie": [
           {
            "automargin": true,
            "type": "pie"
           }
          ],
          "scatter": [
           {
            "marker": {
             "colorbar": {
              "outlinewidth": 0,
              "ticks": ""
             }
            },
            "type": "scatter"
           }
          ],
          "scatter3d": [
           {
            "line": {
             "colorbar": {
              "outlinewidth": 0,
              "ticks": ""
             }
            },
            "marker": {
             "colorbar": {
              "outlinewidth": 0,
              "ticks": ""
             }
            },
            "type": "scatter3d"
           }
          ],
          "scattercarpet": [
           {
            "marker": {
             "colorbar": {
              "outlinewidth": 0,
              "ticks": ""
             }
            },
            "type": "scattercarpet"
           }
          ],
          "scattergeo": [
           {
            "marker": {
             "colorbar": {
              "outlinewidth": 0,
              "ticks": ""
             }
            },
            "type": "scattergeo"
           }
          ],
          "scattergl": [
           {
            "marker": {
             "colorbar": {
              "outlinewidth": 0,
              "ticks": ""
             }
            },
            "type": "scattergl"
           }
          ],
          "scattermapbox": [
           {
            "marker": {
             "colorbar": {
              "outlinewidth": 0,
              "ticks": ""
             }
            },
            "type": "scattermapbox"
           }
          ],
          "scatterpolar": [
           {
            "marker": {
             "colorbar": {
              "outlinewidth": 0,
              "ticks": ""
             }
            },
            "type": "scatterpolar"
           }
          ],
          "scatterpolargl": [
           {
            "marker": {
             "colorbar": {
              "outlinewidth": 0,
              "ticks": ""
             }
            },
            "type": "scatterpolargl"
           }
          ],
          "scatterternary": [
           {
            "marker": {
             "colorbar": {
              "outlinewidth": 0,
              "ticks": ""
             }
            },
            "type": "scatterternary"
           }
          ],
          "surface": [
           {
            "colorbar": {
             "outlinewidth": 0,
             "ticks": ""
            },
            "colorscale": [
             [
              0,
              "#0d0887"
             ],
             [
              0.1111111111111111,
              "#46039f"
             ],
             [
              0.2222222222222222,
              "#7201a8"
             ],
             [
              0.3333333333333333,
              "#9c179e"
             ],
             [
              0.4444444444444444,
              "#bd3786"
             ],
             [
              0.5555555555555556,
              "#d8576b"
             ],
             [
              0.6666666666666666,
              "#ed7953"
             ],
             [
              0.7777777777777778,
              "#fb9f3a"
             ],
             [
              0.8888888888888888,
              "#fdca26"
             ],
             [
              1,
              "#f0f921"
             ]
            ],
            "type": "surface"
           }
          ],
          "table": [
           {
            "cells": {
             "fill": {
              "color": "#EBF0F8"
             },
             "line": {
              "color": "white"
             }
            },
            "header": {
             "fill": {
              "color": "#C8D4E3"
             },
             "line": {
              "color": "white"
             }
            },
            "type": "table"
           }
          ]
         },
         "layout": {
          "annotationdefaults": {
           "arrowcolor": "#2a3f5f",
           "arrowhead": 0,
           "arrowwidth": 1
          },
          "autotypenumbers": "strict",
          "coloraxis": {
           "colorbar": {
            "outlinewidth": 0,
            "ticks": ""
           }
          },
          "colorscale": {
           "diverging": [
            [
             0,
             "#8e0152"
            ],
            [
             0.1,
             "#c51b7d"
            ],
            [
             0.2,
             "#de77ae"
            ],
            [
             0.3,
             "#f1b6da"
            ],
            [
             0.4,
             "#fde0ef"
            ],
            [
             0.5,
             "#f7f7f7"
            ],
            [
             0.6,
             "#e6f5d0"
            ],
            [
             0.7,
             "#b8e186"
            ],
            [
             0.8,
             "#7fbc41"
            ],
            [
             0.9,
             "#4d9221"
            ],
            [
             1,
             "#276419"
            ]
           ],
           "sequential": [
            [
             0,
             "#0d0887"
            ],
            [
             0.1111111111111111,
             "#46039f"
            ],
            [
             0.2222222222222222,
             "#7201a8"
            ],
            [
             0.3333333333333333,
             "#9c179e"
            ],
            [
             0.4444444444444444,
             "#bd3786"
            ],
            [
             0.5555555555555556,
             "#d8576b"
            ],
            [
             0.6666666666666666,
             "#ed7953"
            ],
            [
             0.7777777777777778,
             "#fb9f3a"
            ],
            [
             0.8888888888888888,
             "#fdca26"
            ],
            [
             1,
             "#f0f921"
            ]
           ],
           "sequentialminus": [
            [
             0,
             "#0d0887"
            ],
            [
             0.1111111111111111,
             "#46039f"
            ],
            [
             0.2222222222222222,
             "#7201a8"
            ],
            [
             0.3333333333333333,
             "#9c179e"
            ],
            [
             0.4444444444444444,
             "#bd3786"
            ],
            [
             0.5555555555555556,
             "#d8576b"
            ],
            [
             0.6666666666666666,
             "#ed7953"
            ],
            [
             0.7777777777777778,
             "#fb9f3a"
            ],
            [
             0.8888888888888888,
             "#fdca26"
            ],
            [
             1,
             "#f0f921"
            ]
           ]
          },
          "colorway": [
           "#636efa",
           "#EF553B",
           "#00cc96",
           "#ab63fa",
           "#FFA15A",
           "#19d3f3",
           "#FF6692",
           "#B6E880",
           "#FF97FF",
           "#FECB52"
          ],
          "font": {
           "color": "#2a3f5f"
          },
          "geo": {
           "bgcolor": "white",
           "lakecolor": "white",
           "landcolor": "#E5ECF6",
           "showlakes": true,
           "showland": true,
           "subunitcolor": "white"
          },
          "hoverlabel": {
           "align": "left"
          },
          "hovermode": "closest",
          "mapbox": {
           "style": "light"
          },
          "paper_bgcolor": "white",
          "plot_bgcolor": "#E5ECF6",
          "polar": {
           "angularaxis": {
            "gridcolor": "white",
            "linecolor": "white",
            "ticks": ""
           },
           "bgcolor": "#E5ECF6",
           "radialaxis": {
            "gridcolor": "white",
            "linecolor": "white",
            "ticks": ""
           }
          },
          "scene": {
           "xaxis": {
            "backgroundcolor": "#E5ECF6",
            "gridcolor": "white",
            "gridwidth": 2,
            "linecolor": "white",
            "showbackground": true,
            "ticks": "",
            "zerolinecolor": "white"
           },
           "yaxis": {
            "backgroundcolor": "#E5ECF6",
            "gridcolor": "white",
            "gridwidth": 2,
            "linecolor": "white",
            "showbackground": true,
            "ticks": "",
            "zerolinecolor": "white"
           },
           "zaxis": {
            "backgroundcolor": "#E5ECF6",
            "gridcolor": "white",
            "gridwidth": 2,
            "linecolor": "white",
            "showbackground": true,
            "ticks": "",
            "zerolinecolor": "white"
           }
          },
          "shapedefaults": {
           "line": {
            "color": "#2a3f5f"
           }
          },
          "ternary": {
           "aaxis": {
            "gridcolor": "white",
            "linecolor": "white",
            "ticks": ""
           },
           "baxis": {
            "gridcolor": "white",
            "linecolor": "white",
            "ticks": ""
           },
           "bgcolor": "#E5ECF6",
           "caxis": {
            "gridcolor": "white",
            "linecolor": "white",
            "ticks": ""
           }
          },
          "title": {
           "x": 0.05
          },
          "xaxis": {
           "automargin": true,
           "gridcolor": "white",
           "linecolor": "white",
           "ticks": "",
           "title": {
            "standoff": 15
           },
           "zerolinecolor": "white",
           "zerolinewidth": 2
          },
          "yaxis": {
           "automargin": true,
           "gridcolor": "white",
           "linecolor": "white",
           "ticks": "",
           "title": {
            "standoff": 15
           },
           "zerolinecolor": "white",
           "zerolinewidth": 2
          }
         }
        }
       }
      },
      "text/html": [
       "<div>                            <div id=\"048681f0-abcc-4a15-8181-574fa090838d\" class=\"plotly-graph-div\" style=\"height:525px; width:100%;\"></div>            <script type=\"text/javascript\">                require([\"plotly\"], function(Plotly) {                    window.PLOTLYENV=window.PLOTLYENV || {};                                    if (document.getElementById(\"048681f0-abcc-4a15-8181-574fa090838d\")) {                    Plotly.newPlot(                        \"048681f0-abcc-4a15-8181-574fa090838d\",                        [{\"dimensions\": [{\"axis\": {\"matches\": true}, \"label\": \"Page Views\", \"values\": [3363, 4160, 3619, 3474, 3547, 3277, 3332, 3858, 4918, 3939, 3763, 3691, 3538, 3430, 3841, 4199, 3770, 3458, 3631, 3367, 3410, 3646, 3475, 3087, 2754]}, {\"axis\": {\"matches\": true}, \"label\": \"NetA_imp\", \"values\": [421, 392, 756, 128, 154, 104, 65, 155, 108, 117, 185, 212, 64, 155, 62, 118, 23, 62, 26, 31, 49, 67, 110, 21, 30]}, {\"axis\": {\"matches\": true}, \"label\": \"NetA_spd\", \"values\": [159, 1066, 877, 130, 1994, 4740, 993, 938, 1777, 974, 4935, 2697, 0, 210, 827, 4927, 426, 3037, 939, 530, 567, 3455, 5890, 678, 1264]}, {\"axis\": {\"matches\": true}, \"label\": \"NetB_imp\", \"values\": [381, 316, 671, 401, 182, 365, 450, 35, 63, 2, 54, 38, 50, 54, 103, 94, 73, 100, 20, 80, 47, 63, 80, 81, 47]}, {\"axis\": {\"matches\": true}, \"label\": \"NetB_spd\", \"values\": [176, 774, 5010, 492, 230, 1408, 1841, 878, 2431, 73, 911, 852, 1845, 1615, 3341, 3398, 2768, 2825, 362, 3123, 993, 3291, 3622, 3903, 1638]}], \"hovertemplate\": \"Month=Jul<br>%{xaxis.title.text}=%{x}<br>%{yaxis.title.text}=%{y}<extra></extra>\", \"legendgroup\": \"Jul\", \"marker\": {\"color\": \"#636efa\", \"symbol\": \"circle\"}, \"name\": \"Jul\", \"showlegend\": true, \"type\": \"splom\"}, {\"dimensions\": [{\"axis\": {\"matches\": true}, \"label\": \"Page Views\", \"values\": [2783, 2658, 2748, 3000, 3256, 2865, 2693, 2629, 2922, 2873, 3057, 3357, 3013, 3542, 3093, 2714, 2809, 3113, 3486, 3425, 4066, 3167, 3031, 3107]}, {\"axis\": {\"matches\": true}, \"label\": \"NetA_imp\", \"values\": [2, 40, 21, 83, 146, 51, 84, 193, 49, 78, 158, 196, 94, 72, 208, 24, 52, 185, 154, 71, 70, 84, 140, 94]}, {\"axis\": {\"matches\": true}, \"label\": \"NetA_spd\", \"values\": [137, 823, 405, 2134, 4025, 1363, 2316, 10376, 1215, 1578, 6856, 4946, 3042, 1472, 8595, 607, 465, 6226, 6174, 2144, 1663, 2534, 6518, 2598]}, {\"axis\": {\"matches\": true}, \"label\": \"NetB_imp\", \"values\": [33, 0, 42, 56, 218, 170, 129, 117, 134, 90, 44, 130, 187, 178, 111, 110, 123, 156, 103, 134, 136, 227, 71, 139]}, {\"axis\": {\"matches\": true}, \"label\": \"NetB_spd\", \"values\": [913, 0, 1170, 2018, 7783, 5257, 5960, 2744, 3807, 1345, 1081, 3585, 5702, 5270, 2740, 4937, 3524, 6690, 3473, 6624, 2576, 6867, 2432, 3953]}], \"hovertemplate\": \"Month=Aug<br>%{xaxis.title.text}=%{x}<br>%{yaxis.title.text}=%{y}<extra></extra>\", \"legendgroup\": \"Aug\", \"marker\": {\"color\": \"#EF553B\", \"symbol\": \"circle\"}, \"name\": \"Aug\", \"showlegend\": true, \"type\": \"splom\"}],                        {\"dragmode\": \"select\", \"legend\": {\"title\": {\"text\": \"Month\"}, \"tracegroupgap\": 0}, \"margin\": {\"t\": 60}, \"template\": {\"data\": {\"bar\": [{\"error_x\": {\"color\": \"#2a3f5f\"}, \"error_y\": {\"color\": \"#2a3f5f\"}, \"marker\": {\"line\": {\"color\": \"#E5ECF6\", \"width\": 0.5}}, \"type\": \"bar\"}], \"barpolar\": [{\"marker\": {\"line\": {\"color\": \"#E5ECF6\", \"width\": 0.5}}, \"type\": \"barpolar\"}], \"carpet\": [{\"aaxis\": {\"endlinecolor\": \"#2a3f5f\", \"gridcolor\": \"white\", \"linecolor\": \"white\", \"minorgridcolor\": \"white\", \"startlinecolor\": \"#2a3f5f\"}, \"baxis\": {\"endlinecolor\": \"#2a3f5f\", \"gridcolor\": \"white\", \"linecolor\": \"white\", \"minorgridcolor\": \"white\", \"startlinecolor\": \"#2a3f5f\"}, \"type\": \"carpet\"}], \"choropleth\": [{\"colorbar\": {\"outlinewidth\": 0, \"ticks\": \"\"}, \"type\": \"choropleth\"}], \"contour\": [{\"colorbar\": {\"outlinewidth\": 0, \"ticks\": \"\"}, \"colorscale\": [[0.0, \"#0d0887\"], [0.1111111111111111, \"#46039f\"], [0.2222222222222222, \"#7201a8\"], [0.3333333333333333, \"#9c179e\"], [0.4444444444444444, \"#bd3786\"], [0.5555555555555556, \"#d8576b\"], [0.6666666666666666, \"#ed7953\"], [0.7777777777777778, \"#fb9f3a\"], [0.8888888888888888, \"#fdca26\"], [1.0, \"#f0f921\"]], \"type\": \"contour\"}], \"contourcarpet\": [{\"colorbar\": {\"outlinewidth\": 0, \"ticks\": \"\"}, \"type\": \"contourcarpet\"}], \"heatmap\": [{\"colorbar\": {\"outlinewidth\": 0, \"ticks\": \"\"}, \"colorscale\": [[0.0, \"#0d0887\"], [0.1111111111111111, \"#46039f\"], [0.2222222222222222, \"#7201a8\"], [0.3333333333333333, \"#9c179e\"], [0.4444444444444444, \"#bd3786\"], [0.5555555555555556, \"#d8576b\"], [0.6666666666666666, \"#ed7953\"], [0.7777777777777778, \"#fb9f3a\"], [0.8888888888888888, \"#fdca26\"], [1.0, \"#f0f921\"]], \"type\": \"heatmap\"}], \"heatmapgl\": [{\"colorbar\": {\"outlinewidth\": 0, \"ticks\": \"\"}, \"colorscale\": [[0.0, \"#0d0887\"], [0.1111111111111111, \"#46039f\"], [0.2222222222222222, \"#7201a8\"], [0.3333333333333333, \"#9c179e\"], [0.4444444444444444, \"#bd3786\"], [0.5555555555555556, \"#d8576b\"], [0.6666666666666666, \"#ed7953\"], [0.7777777777777778, \"#fb9f3a\"], [0.8888888888888888, \"#fdca26\"], [1.0, \"#f0f921\"]], \"type\": \"heatmapgl\"}], \"histogram\": [{\"marker\": {\"colorbar\": {\"outlinewidth\": 0, \"ticks\": \"\"}}, \"type\": \"histogram\"}], \"histogram2d\": [{\"colorbar\": {\"outlinewidth\": 0, \"ticks\": \"\"}, \"colorscale\": [[0.0, \"#0d0887\"], [0.1111111111111111, \"#46039f\"], [0.2222222222222222, \"#7201a8\"], [0.3333333333333333, \"#9c179e\"], [0.4444444444444444, \"#bd3786\"], [0.5555555555555556, \"#d8576b\"], [0.6666666666666666, \"#ed7953\"], [0.7777777777777778, \"#fb9f3a\"], [0.8888888888888888, \"#fdca26\"], [1.0, \"#f0f921\"]], \"type\": \"histogram2d\"}], \"histogram2dcontour\": [{\"colorbar\": {\"outlinewidth\": 0, \"ticks\": \"\"}, \"colorscale\": [[0.0, \"#0d0887\"], [0.1111111111111111, \"#46039f\"], [0.2222222222222222, \"#7201a8\"], [0.3333333333333333, \"#9c179e\"], [0.4444444444444444, \"#bd3786\"], [0.5555555555555556, \"#d8576b\"], [0.6666666666666666, \"#ed7953\"], [0.7777777777777778, \"#fb9f3a\"], [0.8888888888888888, \"#fdca26\"], [1.0, \"#f0f921\"]], \"type\": \"histogram2dcontour\"}], \"mesh3d\": [{\"colorbar\": {\"outlinewidth\": 0, \"ticks\": \"\"}, \"type\": \"mesh3d\"}], \"parcoords\": [{\"line\": {\"colorbar\": {\"outlinewidth\": 0, \"ticks\": \"\"}}, \"type\": \"parcoords\"}], \"pie\": [{\"automargin\": true, \"type\": \"pie\"}], \"scatter\": [{\"marker\": {\"colorbar\": {\"outlinewidth\": 0, \"ticks\": \"\"}}, \"type\": \"scatter\"}], \"scatter3d\": [{\"line\": {\"colorbar\": {\"outlinewidth\": 0, \"ticks\": \"\"}}, \"marker\": {\"colorbar\": {\"outlinewidth\": 0, \"ticks\": \"\"}}, \"type\": \"scatter3d\"}], \"scattercarpet\": [{\"marker\": {\"colorbar\": {\"outlinewidth\": 0, \"ticks\": \"\"}}, \"type\": \"scattercarpet\"}], \"scattergeo\": [{\"marker\": {\"colorbar\": {\"outlinewidth\": 0, \"ticks\": \"\"}}, \"type\": \"scattergeo\"}], \"scattergl\": [{\"marker\": {\"colorbar\": {\"outlinewidth\": 0, \"ticks\": \"\"}}, \"type\": \"scattergl\"}], \"scattermapbox\": [{\"marker\": {\"colorbar\": {\"outlinewidth\": 0, \"ticks\": \"\"}}, \"type\": \"scattermapbox\"}], \"scatterpolar\": [{\"marker\": {\"colorbar\": {\"outlinewidth\": 0, \"ticks\": \"\"}}, \"type\": \"scatterpolar\"}], \"scatterpolargl\": [{\"marker\": {\"colorbar\": {\"outlinewidth\": 0, \"ticks\": \"\"}}, \"type\": \"scatterpolargl\"}], \"scatterternary\": [{\"marker\": {\"colorbar\": {\"outlinewidth\": 0, \"ticks\": \"\"}}, \"type\": \"scatterternary\"}], \"surface\": [{\"colorbar\": {\"outlinewidth\": 0, \"ticks\": \"\"}, \"colorscale\": [[0.0, \"#0d0887\"], [0.1111111111111111, \"#46039f\"], [0.2222222222222222, \"#7201a8\"], [0.3333333333333333, \"#9c179e\"], [0.4444444444444444, \"#bd3786\"], [0.5555555555555556, \"#d8576b\"], [0.6666666666666666, \"#ed7953\"], [0.7777777777777778, \"#fb9f3a\"], [0.8888888888888888, \"#fdca26\"], [1.0, \"#f0f921\"]], \"type\": \"surface\"}], \"table\": [{\"cells\": {\"fill\": {\"color\": \"#EBF0F8\"}, \"line\": {\"color\": \"white\"}}, \"header\": {\"fill\": {\"color\": \"#C8D4E3\"}, \"line\": {\"color\": \"white\"}}, \"type\": \"table\"}]}, \"layout\": {\"annotationdefaults\": {\"arrowcolor\": \"#2a3f5f\", \"arrowhead\": 0, \"arrowwidth\": 1}, \"autotypenumbers\": \"strict\", \"coloraxis\": {\"colorbar\": {\"outlinewidth\": 0, \"ticks\": \"\"}}, \"colorscale\": {\"diverging\": [[0, \"#8e0152\"], [0.1, \"#c51b7d\"], [0.2, \"#de77ae\"], [0.3, \"#f1b6da\"], [0.4, \"#fde0ef\"], [0.5, \"#f7f7f7\"], [0.6, \"#e6f5d0\"], [0.7, \"#b8e186\"], [0.8, \"#7fbc41\"], [0.9, \"#4d9221\"], [1, \"#276419\"]], \"sequential\": [[0.0, \"#0d0887\"], [0.1111111111111111, \"#46039f\"], [0.2222222222222222, \"#7201a8\"], [0.3333333333333333, \"#9c179e\"], [0.4444444444444444, \"#bd3786\"], [0.5555555555555556, \"#d8576b\"], [0.6666666666666666, \"#ed7953\"], [0.7777777777777778, \"#fb9f3a\"], [0.8888888888888888, \"#fdca26\"], [1.0, \"#f0f921\"]], \"sequentialminus\": [[0.0, \"#0d0887\"], [0.1111111111111111, \"#46039f\"], [0.2222222222222222, \"#7201a8\"], [0.3333333333333333, \"#9c179e\"], [0.4444444444444444, \"#bd3786\"], [0.5555555555555556, \"#d8576b\"], [0.6666666666666666, \"#ed7953\"], [0.7777777777777778, \"#fb9f3a\"], [0.8888888888888888, \"#fdca26\"], [1.0, \"#f0f921\"]]}, \"colorway\": [\"#636efa\", \"#EF553B\", \"#00cc96\", \"#ab63fa\", \"#FFA15A\", \"#19d3f3\", \"#FF6692\", \"#B6E880\", \"#FF97FF\", \"#FECB52\"], \"font\": {\"color\": \"#2a3f5f\"}, \"geo\": {\"bgcolor\": \"white\", \"lakecolor\": \"white\", \"landcolor\": \"#E5ECF6\", \"showlakes\": true, \"showland\": true, \"subunitcolor\": \"white\"}, \"hoverlabel\": {\"align\": \"left\"}, \"hovermode\": \"closest\", \"mapbox\": {\"style\": \"light\"}, \"paper_bgcolor\": \"white\", \"plot_bgcolor\": \"#E5ECF6\", \"polar\": {\"angularaxis\": {\"gridcolor\": \"white\", \"linecolor\": \"white\", \"ticks\": \"\"}, \"bgcolor\": \"#E5ECF6\", \"radialaxis\": {\"gridcolor\": \"white\", \"linecolor\": \"white\", \"ticks\": \"\"}}, \"scene\": {\"xaxis\": {\"backgroundcolor\": \"#E5ECF6\", \"gridcolor\": \"white\", \"gridwidth\": 2, \"linecolor\": \"white\", \"showbackground\": true, \"ticks\": \"\", \"zerolinecolor\": \"white\"}, \"yaxis\": {\"backgroundcolor\": \"#E5ECF6\", \"gridcolor\": \"white\", \"gridwidth\": 2, \"linecolor\": \"white\", \"showbackground\": true, \"ticks\": \"\", \"zerolinecolor\": \"white\"}, \"zaxis\": {\"backgroundcolor\": \"#E5ECF6\", \"gridcolor\": \"white\", \"gridwidth\": 2, \"linecolor\": \"white\", \"showbackground\": true, \"ticks\": \"\", \"zerolinecolor\": \"white\"}}, \"shapedefaults\": {\"line\": {\"color\": \"#2a3f5f\"}}, \"ternary\": {\"aaxis\": {\"gridcolor\": \"white\", \"linecolor\": \"white\", \"ticks\": \"\"}, \"baxis\": {\"gridcolor\": \"white\", \"linecolor\": \"white\", \"ticks\": \"\"}, \"bgcolor\": \"#E5ECF6\", \"caxis\": {\"gridcolor\": \"white\", \"linecolor\": \"white\", \"ticks\": \"\"}}, \"title\": {\"x\": 0.05}, \"xaxis\": {\"automargin\": true, \"gridcolor\": \"white\", \"linecolor\": \"white\", \"ticks\": \"\", \"title\": {\"standoff\": 15}, \"zerolinecolor\": \"white\", \"zerolinewidth\": 2}, \"yaxis\": {\"automargin\": true, \"gridcolor\": \"white\", \"linecolor\": \"white\", \"ticks\": \"\", \"title\": {\"standoff\": 15}, \"zerolinecolor\": \"white\", \"zerolinewidth\": 2}}}},                        {\"responsive\": true}                    ).then(function(){\n",
       "                            \n",
       "var gd = document.getElementById('048681f0-abcc-4a15-8181-574fa090838d');\n",
       "var x = new MutationObserver(function (mutations, observer) {{\n",
       "        var display = window.getComputedStyle(gd).display;\n",
       "        if (!display || display === 'none') {{\n",
       "            console.log([gd, 'removed!']);\n",
       "            Plotly.purge(gd);\n",
       "            observer.disconnect();\n",
       "        }}\n",
       "}});\n",
       "\n",
       "// Listen for the removal of the full notebook cells\n",
       "var notebookContainer = gd.closest('#notebook-container');\n",
       "if (notebookContainer) {{\n",
       "    x.observe(notebookContainer, {childList: true});\n",
       "}}\n",
       "\n",
       "// Listen for the clearing of the current output cell\n",
       "var outputEl = gd.closest('.output');\n",
       "if (outputEl) {{\n",
       "    x.observe(outputEl, {childList: true});\n",
       "}}\n",
       "\n",
       "                        })                };                });            </script>        </div>"
      ]
     },
     "metadata": {},
     "output_type": "display_data"
    }
   ],
   "source": [
    "fig = px.scatter_matrix(df2, dimensions=['Page Views', 'NetA_imp','NetA_spd'\\\n",
    "                                         , 'NetB_imp', 'NetB_spd'],color='Month')\n",
    "fig.show()"
   ]
  },
  {
   "cell_type": "markdown",
   "metadata": {},
   "source": [
    "### Line plots"
   ]
  },
  {
   "cell_type": "code",
   "execution_count": 38,
   "metadata": {},
   "outputs": [],
   "source": [
    "s_file=\"Data - Historical Sales.xlsx\"\n",
    "df_s=pd.read_excel(path+s_file)"
   ]
  },
  {
   "cell_type": "code",
   "execution_count": 43,
   "metadata": {},
   "outputs": [
    {
     "data": {
      "text/html": [
       "<div>\n",
       "<style scoped>\n",
       "    .dataframe tbody tr th:only-of-type {\n",
       "        vertical-align: middle;\n",
       "    }\n",
       "\n",
       "    .dataframe tbody tr th {\n",
       "        vertical-align: top;\n",
       "    }\n",
       "\n",
       "    .dataframe thead th {\n",
       "        text-align: right;\n",
       "    }\n",
       "</style>\n",
       "<table border=\"1\" class=\"dataframe\">\n",
       "  <thead>\n",
       "    <tr style=\"text-align: right;\">\n",
       "      <th></th>\n",
       "      <th>Financial Year</th>\n",
       "      <th>WC Date</th>\n",
       "      <th>State</th>\n",
       "      <th>Sales</th>\n",
       "      <th>Month</th>\n",
       "    </tr>\n",
       "  </thead>\n",
       "  <tbody>\n",
       "    <tr>\n",
       "      <th>0</th>\n",
       "      <td>FY18</td>\n",
       "      <td>2017-09-03</td>\n",
       "      <td>ACT</td>\n",
       "      <td>454505.537543</td>\n",
       "      <td>Sep</td>\n",
       "    </tr>\n",
       "    <tr>\n",
       "      <th>1</th>\n",
       "      <td>FY18</td>\n",
       "      <td>2017-09-10</td>\n",
       "      <td>ACT</td>\n",
       "      <td>480922.468131</td>\n",
       "      <td>Sep</td>\n",
       "    </tr>\n",
       "    <tr>\n",
       "      <th>2</th>\n",
       "      <td>FY18</td>\n",
       "      <td>2017-09-17</td>\n",
       "      <td>ACT</td>\n",
       "      <td>442120.957001</td>\n",
       "      <td>Sep</td>\n",
       "    </tr>\n",
       "    <tr>\n",
       "      <th>3</th>\n",
       "      <td>FY18</td>\n",
       "      <td>2017-09-24</td>\n",
       "      <td>ACT</td>\n",
       "      <td>614161.328056</td>\n",
       "      <td>Sep</td>\n",
       "    </tr>\n",
       "    <tr>\n",
       "      <th>4</th>\n",
       "      <td>FY18</td>\n",
       "      <td>2017-10-01</td>\n",
       "      <td>ACT</td>\n",
       "      <td>573988.744290</td>\n",
       "      <td>Oct</td>\n",
       "    </tr>\n",
       "  </tbody>\n",
       "</table>\n",
       "</div>"
      ],
      "text/plain": [
       "  Financial Year    WC Date State          Sales Month\n",
       "0           FY18 2017-09-03   ACT  454505.537543   Sep\n",
       "1           FY18 2017-09-10   ACT  480922.468131   Sep\n",
       "2           FY18 2017-09-17   ACT  442120.957001   Sep\n",
       "3           FY18 2017-09-24   ACT  614161.328056   Sep\n",
       "4           FY18 2017-10-01   ACT  573988.744290   Oct"
      ]
     },
     "execution_count": 43,
     "metadata": {},
     "output_type": "execute_result"
    }
   ],
   "source": [
    "df_s.head()"
   ]
  },
  {
   "cell_type": "code",
   "execution_count": 39,
   "metadata": {},
   "outputs": [
    {
     "data": {
      "application/vnd.plotly.v1+json": {
       "config": {
        "plotlyServerURL": "https://plot.ly"
       },
       "data": [
        {
         "hovertemplate": "<b>%{hovertext}</b><br><br>State=ACT<br>WC Date=%{x}<br>Sales=%{y}<extra></extra>",
         "hovertext": [
          "Sep",
          "Sep",
          "Sep",
          "Sep",
          "Oct",
          "Oct",
          "Oct",
          "Oct",
          "Oct",
          "Nov",
          "Nov",
          "Nov",
          "Nov",
          "Dec",
          "Dec",
          "Dec",
          "Dec",
          "Dec",
          "Jan",
          "Jan",
          "Jan",
          "Jan",
          "Feb",
          "Feb",
          "Feb",
          "Feb",
          "Mar",
          "Mar",
          "Mar",
          "Mar",
          "Apr",
          "Apr",
          "Apr",
          "Apr",
          "Apr",
          "May",
          "May",
          "May",
          "May",
          "Jun",
          "Jun",
          "Jun",
          "Jun",
          "Jul",
          "Jul",
          "Jul",
          "Jul",
          "Jul",
          "Aug",
          "Aug",
          "Aug",
          "Aug",
          "Sep",
          "Sep",
          "Sep",
          "Sep",
          "Sep",
          "Oct",
          "Oct",
          "Oct",
          "Oct",
          "Nov",
          "Nov",
          "Nov",
          "Nov",
          "Dec",
          "Dec",
          "Dec",
          "Dec",
          "Dec",
          "Jan",
          "Jan",
          "Jan",
          "Jan",
          "Feb",
          "Feb",
          "Feb",
          "Feb",
          "Mar",
          "Mar",
          "Mar",
          "Mar",
          "Mar",
          "Apr",
          "Apr",
          "Apr",
          "Apr",
          "May",
          "May",
          "May",
          "May",
          "Jun",
          "Jun",
          "Jun",
          "Jun",
          "Jun",
          "Jul",
          "Jul",
          "Jul",
          "Jul",
          "Aug",
          "Aug",
          "Aug",
          "Aug",
          "Sep",
          "Sep",
          "Sep",
          "Sep",
          "Sep",
          "Oct",
          "Oct",
          "Oct",
          "Oct",
          "Nov",
          "Nov",
          "Nov",
          "Nov",
          "Dec",
          "Dec",
          "Dec",
          "Dec",
          "Dec",
          "Jan",
          "Jan",
          "Jan",
          "Jan",
          "Feb",
          "Feb",
          "Feb",
          "Feb",
          "Mar",
          "Mar",
          "Mar",
          "Mar",
          "Mar",
          "Apr",
          "Apr",
          "Apr",
          "Apr",
          "May",
          "May",
          "May",
          "May",
          "May",
          "Jun",
          "Jun",
          "Jun",
          "Jun",
          "Jul",
          "Jul",
          "Jul",
          "Jul",
          "Aug",
          "Aug",
          "Aug",
          "Aug"
         ],
         "legendgroup": "ACT",
         "line": {
          "color": "#636efa",
          "dash": "solid"
         },
         "mode": "lines",
         "name": "ACT",
         "orientation": "v",
         "showlegend": true,
         "type": "scatter",
         "x": [
          "2017-09-03T00:00:00",
          "2017-09-10T00:00:00",
          "2017-09-17T00:00:00",
          "2017-09-24T00:00:00",
          "2017-10-01T00:00:00",
          "2017-10-08T00:00:00",
          "2017-10-15T00:00:00",
          "2017-10-22T00:00:00",
          "2017-10-29T00:00:00",
          "2017-11-05T00:00:00",
          "2017-11-12T00:00:00",
          "2017-11-19T00:00:00",
          "2017-11-26T00:00:00",
          "2017-12-03T00:00:00",
          "2017-12-10T00:00:00",
          "2017-12-17T00:00:00",
          "2017-12-24T00:00:00",
          "2017-12-31T00:00:00",
          "2018-01-07T00:00:00",
          "2018-01-14T00:00:00",
          "2018-01-21T00:00:00",
          "2018-01-28T00:00:00",
          "2018-02-04T00:00:00",
          "2018-02-11T00:00:00",
          "2018-02-18T00:00:00",
          "2018-02-25T00:00:00",
          "2018-03-04T00:00:00",
          "2018-03-11T00:00:00",
          "2018-03-18T00:00:00",
          "2018-03-25T00:00:00",
          "2018-04-01T00:00:00",
          "2018-04-08T00:00:00",
          "2018-04-15T00:00:00",
          "2018-04-22T00:00:00",
          "2018-04-29T00:00:00",
          "2018-05-06T00:00:00",
          "2018-05-13T00:00:00",
          "2018-05-20T00:00:00",
          "2018-05-27T00:00:00",
          "2018-06-03T00:00:00",
          "2018-06-10T00:00:00",
          "2018-06-17T00:00:00",
          "2018-06-24T00:00:00",
          "2018-07-01T00:00:00",
          "2018-07-08T00:00:00",
          "2018-07-15T00:00:00",
          "2018-07-22T00:00:00",
          "2018-07-29T00:00:00",
          "2018-08-05T00:00:00",
          "2018-08-12T00:00:00",
          "2018-08-19T00:00:00",
          "2018-08-26T00:00:00",
          "2018-09-02T00:00:00",
          "2018-09-09T00:00:00",
          "2018-09-16T00:00:00",
          "2018-09-23T00:00:00",
          "2018-09-30T00:00:00",
          "2018-10-07T00:00:00",
          "2018-10-14T00:00:00",
          "2018-10-21T00:00:00",
          "2018-10-28T00:00:00",
          "2018-11-04T00:00:00",
          "2018-11-11T00:00:00",
          "2018-11-18T00:00:00",
          "2018-11-25T00:00:00",
          "2018-12-02T00:00:00",
          "2018-12-09T00:00:00",
          "2018-12-16T00:00:00",
          "2018-12-23T00:00:00",
          "2018-12-30T00:00:00",
          "2019-01-06T00:00:00",
          "2019-01-13T00:00:00",
          "2019-01-20T00:00:00",
          "2019-01-27T00:00:00",
          "2019-02-03T00:00:00",
          "2019-02-10T00:00:00",
          "2019-02-17T00:00:00",
          "2019-02-24T00:00:00",
          "2019-03-03T00:00:00",
          "2019-03-10T00:00:00",
          "2019-03-17T00:00:00",
          "2019-03-24T00:00:00",
          "2019-03-31T00:00:00",
          "2019-04-07T00:00:00",
          "2019-04-14T00:00:00",
          "2019-04-21T00:00:00",
          "2019-04-28T00:00:00",
          "2019-05-05T00:00:00",
          "2019-05-12T00:00:00",
          "2019-05-19T00:00:00",
          "2019-05-26T00:00:00",
          "2019-06-02T00:00:00",
          "2019-06-09T00:00:00",
          "2019-06-16T00:00:00",
          "2019-06-23T00:00:00",
          "2019-06-30T00:00:00",
          "2019-07-07T00:00:00",
          "2019-07-14T00:00:00",
          "2019-07-21T00:00:00",
          "2019-07-28T00:00:00",
          "2019-08-04T00:00:00",
          "2019-08-11T00:00:00",
          "2019-08-18T00:00:00",
          "2019-08-25T00:00:00",
          "2019-09-01T00:00:00",
          "2019-09-08T00:00:00",
          "2019-09-15T00:00:00",
          "2019-09-22T00:00:00",
          "2019-09-29T00:00:00",
          "2019-10-06T00:00:00",
          "2019-10-13T00:00:00",
          "2019-10-20T00:00:00",
          "2019-10-27T00:00:00",
          "2019-11-03T00:00:00",
          "2019-11-10T00:00:00",
          "2019-11-17T00:00:00",
          "2019-11-24T00:00:00",
          "2019-12-01T00:00:00",
          "2019-12-08T00:00:00",
          "2019-12-15T00:00:00",
          "2019-12-22T00:00:00",
          "2019-12-29T00:00:00",
          "2020-01-05T00:00:00",
          "2020-01-12T00:00:00",
          "2020-01-19T00:00:00",
          "2020-01-26T00:00:00",
          "2020-02-02T00:00:00",
          "2020-02-09T00:00:00",
          "2020-02-16T00:00:00",
          "2020-02-23T00:00:00",
          "2020-03-01T00:00:00",
          "2020-03-08T00:00:00",
          "2020-03-15T00:00:00",
          "2020-03-22T00:00:00",
          "2020-03-29T00:00:00",
          "2020-04-05T00:00:00",
          "2020-04-12T00:00:00",
          "2020-04-19T00:00:00",
          "2020-04-26T00:00:00",
          "2020-05-03T00:00:00",
          "2020-05-10T00:00:00",
          "2020-05-17T00:00:00",
          "2020-05-24T00:00:00",
          "2020-05-31T00:00:00",
          "2020-06-07T00:00:00",
          "2020-06-14T00:00:00",
          "2020-06-21T00:00:00",
          "2020-06-28T00:00:00",
          "2020-07-05T00:00:00",
          "2020-07-12T00:00:00",
          "2020-07-19T00:00:00",
          "2020-07-26T00:00:00",
          "2020-08-02T00:00:00",
          "2020-08-09T00:00:00",
          "2020-08-16T00:00:00",
          "2020-08-23T00:00:00"
         ],
         "xaxis": "x",
         "y": [
          454505.5375427785,
          480922.4681314023,
          442120.9570010478,
          614161.3280557629,
          573988.744290248,
          466411.4873569101,
          575677.5519533862,
          478536.0738202567,
          490950.1306416955,
          458841.7608109359,
          497614.0522966317,
          522541.6338910526,
          512728.5092110469,
          581790.933971901,
          538689.7785409833,
          603831.8797390879,
          611642.3336761048,
          661256.3544514364,
          614483.7512476275,
          564046.6048345199,
          599849.9407278548,
          563327.6385958384,
          539383.2226870244,
          465661.0216568092,
          495986.7961048419,
          448421.5997257916,
          446623.6534469067,
          501089.937816209,
          414056.4131695812,
          436317.2794909275,
          499790.5147760394,
          439945.471144305,
          497025.4832934965,
          515167.1689122569,
          431483.3375085416,
          433090.4202947091,
          418630.337470207,
          421646.6221637158,
          473770.0059273121,
          452811.1176765992,
          528988.6824766202,
          479178.7790022149,
          543856.9887167324,
          502527.8904788496,
          550195.8717375096,
          587563.7122998445,
          493150.7197184591,
          471170.2589023164,
          468857.9123391861,
          484581.3811286866,
          447790.5176692519,
          450784.944274955,
          474514.7134835325,
          455111.5185876278,
          452136.8047693413,
          526127.1978056179,
          615581.7485535417,
          526651.524694211,
          547165.6119281005,
          486649.649130376,
          436648.2935190714,
          469922.9821370994,
          490827.1380079355,
          537654.2014947773,
          536135.1115711568,
          478120.8636629163,
          505845.549018945,
          546843.3845500132,
          573997.5241050302,
          693788.4703966628,
          588263.4749914716,
          533921.2071996923,
          509951.1510951616,
          577920.775327574,
          490068.311036153,
          498857.0690016284,
          490396.819260065,
          465314.0320098262,
          439179.3469201128,
          484016.3841036099,
          432037.6295649954,
          455095.069215073,
          454306.03814332,
          471657.3229200958,
          501081.0906050984,
          618648.6788841161,
          404869.9758945088,
          394396.9488975088,
          393897.592566198,
          396753.2021103232,
          476042.5303707364,
          414711.4887495788,
          476687.766147064,
          462354.1917032981,
          506840.8604006143,
          484262.601927169,
          542177.4352041754,
          571389.540798124,
          453069.6618826015,
          468326.5044342316,
          444568.4755300839,
          448361.8619566447,
          442939.0744452621,
          443413.7061418867,
          431621.8937506067,
          438662.8536481229,
          442381.892346695,
          421946.1367129548,
          536924.4162539764,
          551575.1313889401,
          452742.9401760062,
          440671.8113022766,
          438424.2405207276,
          524237.6436420939,
          502986.2430753183,
          523678.2536080267,
          544077.9283634855,
          485728.1837003603,
          475301.3365999425,
          499375.4026998025,
          556849.2358228553,
          597075.0136013681,
          521536.4506043365,
          565854.2128038037,
          501635.7704362937,
          514592.0318385925,
          502951.3917628974,
          493995.8218335877,
          462329.0693709616,
          462619.2424788662,
          447645.9068106326,
          480412.0799410933,
          479545.515253911,
          478174.5515566735,
          345116.3429841545,
          368523.036063622,
          436571.0538314994,
          455092.7219214196,
          572520.6357611774,
          517235.2849160776,
          539847.2519793534,
          608463.0848899594,
          609804.8748353553,
          562637.7265698756,
          562835.2360615823,
          563458.8424821763,
          623480.4126546595,
          647100.0067067127,
          635751.0916838956,
          641562.153849845,
          561381.8813274757,
          563310.2900264057,
          568197.1793650365,
          592292.52902208,
          587753.1335696278,
          571834.0986081482
         ],
         "yaxis": "y"
        },
        {
         "hovertemplate": "<b>%{hovertext}</b><br><br>State=NSW<br>WC Date=%{x}<br>Sales=%{y}<extra></extra>",
         "hovertext": [
          "Sep",
          "Sep",
          "Sep",
          "Sep",
          "Oct",
          "Oct",
          "Oct",
          "Oct",
          "Oct",
          "Nov",
          "Nov",
          "Nov",
          "Nov",
          "Dec",
          "Dec",
          "Dec",
          "Dec",
          "Dec",
          "Jan",
          "Jan",
          "Jan",
          "Jan",
          "Feb",
          "Feb",
          "Feb",
          "Feb",
          "Mar",
          "Mar",
          "Mar",
          "Mar",
          "Apr",
          "Apr",
          "Apr",
          "Apr",
          "Apr",
          "May",
          "May",
          "May",
          "May",
          "Jun",
          "Jun",
          "Jun",
          "Jun",
          "Jul",
          "Jul",
          "Jul",
          "Jul",
          "Jul",
          "Aug",
          "Aug",
          "Aug",
          "Aug",
          "Sep",
          "Sep",
          "Sep",
          "Sep",
          "Sep",
          "Oct",
          "Oct",
          "Oct",
          "Oct",
          "Nov",
          "Nov",
          "Nov",
          "Nov",
          "Dec",
          "Dec",
          "Dec",
          "Dec",
          "Dec",
          "Jan",
          "Jan",
          "Jan",
          "Jan",
          "Feb",
          "Feb",
          "Feb",
          "Feb",
          "Mar",
          "Mar",
          "Mar",
          "Mar",
          "Mar",
          "Apr",
          "Apr",
          "Apr",
          "Apr",
          "May",
          "May",
          "May",
          "May",
          "Jun",
          "Jun",
          "Jun",
          "Jun",
          "Jun",
          "Jul",
          "Jul",
          "Jul",
          "Jul",
          "Aug",
          "Aug",
          "Aug",
          "Aug",
          "Sep",
          "Sep",
          "Sep",
          "Sep",
          "Sep",
          "Oct",
          "Oct",
          "Oct",
          "Oct",
          "Nov",
          "Nov",
          "Nov",
          "Nov",
          "Dec",
          "Dec",
          "Dec",
          "Dec",
          "Dec",
          "Jan",
          "Jan",
          "Jan",
          "Jan",
          "Feb",
          "Feb",
          "Feb",
          "Feb",
          "Mar",
          "Mar",
          "Mar",
          "Mar",
          "Mar",
          "Apr",
          "Apr",
          "Apr",
          "Apr",
          "May",
          "May",
          "May",
          "May",
          "May",
          "Jun",
          "Jun",
          "Jun",
          "Jun",
          "Jul",
          "Jul",
          "Jul",
          "Jul",
          "Aug",
          "Aug",
          "Aug",
          "Aug"
         ],
         "legendgroup": "NSW",
         "line": {
          "color": "#EF553B",
          "dash": "solid"
         },
         "mode": "lines",
         "name": "NSW",
         "orientation": "v",
         "showlegend": true,
         "type": "scatter",
         "x": [
          "2017-09-03T00:00:00",
          "2017-09-10T00:00:00",
          "2017-09-17T00:00:00",
          "2017-09-24T00:00:00",
          "2017-10-01T00:00:00",
          "2017-10-08T00:00:00",
          "2017-10-15T00:00:00",
          "2017-10-22T00:00:00",
          "2017-10-29T00:00:00",
          "2017-11-05T00:00:00",
          "2017-11-12T00:00:00",
          "2017-11-19T00:00:00",
          "2017-11-26T00:00:00",
          "2017-12-03T00:00:00",
          "2017-12-10T00:00:00",
          "2017-12-17T00:00:00",
          "2017-12-24T00:00:00",
          "2017-12-31T00:00:00",
          "2018-01-07T00:00:00",
          "2018-01-14T00:00:00",
          "2018-01-21T00:00:00",
          "2018-01-28T00:00:00",
          "2018-02-04T00:00:00",
          "2018-02-11T00:00:00",
          "2018-02-18T00:00:00",
          "2018-02-25T00:00:00",
          "2018-03-04T00:00:00",
          "2018-03-11T00:00:00",
          "2018-03-18T00:00:00",
          "2018-03-25T00:00:00",
          "2018-04-01T00:00:00",
          "2018-04-08T00:00:00",
          "2018-04-15T00:00:00",
          "2018-04-22T00:00:00",
          "2018-04-29T00:00:00",
          "2018-05-06T00:00:00",
          "2018-05-13T00:00:00",
          "2018-05-20T00:00:00",
          "2018-05-27T00:00:00",
          "2018-06-03T00:00:00",
          "2018-06-10T00:00:00",
          "2018-06-17T00:00:00",
          "2018-06-24T00:00:00",
          "2018-07-01T00:00:00",
          "2018-07-08T00:00:00",
          "2018-07-15T00:00:00",
          "2018-07-22T00:00:00",
          "2018-07-29T00:00:00",
          "2018-08-05T00:00:00",
          "2018-08-12T00:00:00",
          "2018-08-19T00:00:00",
          "2018-08-26T00:00:00",
          "2018-09-02T00:00:00",
          "2018-09-09T00:00:00",
          "2018-09-16T00:00:00",
          "2018-09-23T00:00:00",
          "2018-09-30T00:00:00",
          "2018-10-07T00:00:00",
          "2018-10-14T00:00:00",
          "2018-10-21T00:00:00",
          "2018-10-28T00:00:00",
          "2018-11-04T00:00:00",
          "2018-11-11T00:00:00",
          "2018-11-18T00:00:00",
          "2018-11-25T00:00:00",
          "2018-12-02T00:00:00",
          "2018-12-09T00:00:00",
          "2018-12-16T00:00:00",
          "2018-12-23T00:00:00",
          "2018-12-30T00:00:00",
          "2019-01-06T00:00:00",
          "2019-01-13T00:00:00",
          "2019-01-20T00:00:00",
          "2019-01-27T00:00:00",
          "2019-02-03T00:00:00",
          "2019-02-10T00:00:00",
          "2019-02-17T00:00:00",
          "2019-02-24T00:00:00",
          "2019-03-03T00:00:00",
          "2019-03-10T00:00:00",
          "2019-03-17T00:00:00",
          "2019-03-24T00:00:00",
          "2019-03-31T00:00:00",
          "2019-04-07T00:00:00",
          "2019-04-14T00:00:00",
          "2019-04-21T00:00:00",
          "2019-04-28T00:00:00",
          "2019-05-05T00:00:00",
          "2019-05-12T00:00:00",
          "2019-05-19T00:00:00",
          "2019-05-26T00:00:00",
          "2019-06-02T00:00:00",
          "2019-06-09T00:00:00",
          "2019-06-16T00:00:00",
          "2019-06-23T00:00:00",
          "2019-06-30T00:00:00",
          "2019-07-07T00:00:00",
          "2019-07-14T00:00:00",
          "2019-07-21T00:00:00",
          "2019-07-28T00:00:00",
          "2019-08-04T00:00:00",
          "2019-08-11T00:00:00",
          "2019-08-18T00:00:00",
          "2019-08-25T00:00:00",
          "2019-09-01T00:00:00",
          "2019-09-08T00:00:00",
          "2019-09-15T00:00:00",
          "2019-09-22T00:00:00",
          "2019-09-29T00:00:00",
          "2019-10-06T00:00:00",
          "2019-10-13T00:00:00",
          "2019-10-20T00:00:00",
          "2019-10-27T00:00:00",
          "2019-11-03T00:00:00",
          "2019-11-10T00:00:00",
          "2019-11-17T00:00:00",
          "2019-11-24T00:00:00",
          "2019-12-01T00:00:00",
          "2019-12-08T00:00:00",
          "2019-12-15T00:00:00",
          "2019-12-22T00:00:00",
          "2019-12-29T00:00:00",
          "2020-01-05T00:00:00",
          "2020-01-12T00:00:00",
          "2020-01-19T00:00:00",
          "2020-01-26T00:00:00",
          "2020-02-02T00:00:00",
          "2020-02-09T00:00:00",
          "2020-02-16T00:00:00",
          "2020-02-23T00:00:00",
          "2020-03-01T00:00:00",
          "2020-03-08T00:00:00",
          "2020-03-15T00:00:00",
          "2020-03-22T00:00:00",
          "2020-03-29T00:00:00",
          "2020-04-05T00:00:00",
          "2020-04-12T00:00:00",
          "2020-04-19T00:00:00",
          "2020-04-26T00:00:00",
          "2020-05-03T00:00:00",
          "2020-05-10T00:00:00",
          "2020-05-17T00:00:00",
          "2020-05-24T00:00:00",
          "2020-05-31T00:00:00",
          "2020-06-07T00:00:00",
          "2020-06-14T00:00:00",
          "2020-06-21T00:00:00",
          "2020-06-28T00:00:00",
          "2020-07-05T00:00:00",
          "2020-07-12T00:00:00",
          "2020-07-19T00:00:00",
          "2020-07-26T00:00:00",
          "2020-08-02T00:00:00",
          "2020-08-09T00:00:00",
          "2020-08-16T00:00:00",
          "2020-08-23T00:00:00"
         ],
         "xaxis": "x",
         "y": [
          2634368.840183024,
          2760182.669930118,
          2770334.092689774,
          3176641.243278258,
          3264356.044595119,
          2869931.609129978,
          3324068.967269962,
          2932100.11279284,
          2833044.190054961,
          2711729.268880063,
          2769392.027306489,
          2685361.008361685,
          2708259.27072389,
          2708928.649296758,
          2591538.293501503,
          2824538.681211269,
          3139001.982756743,
          3267604.434809093,
          2967120.845967592,
          2955578.98849901,
          2972358.186651,
          2685321.195192046,
          2606375.65915893,
          2535183.676399176,
          2720039.218890184,
          2874615.231815928,
          2718254.401503748,
          2588530.159090815,
          2425536.830097856,
          2373594.915467833,
          2277273.849680846,
          2342689.724580286,
          2626058.708062707,
          2885867.13373568,
          2480101.899251407,
          2396998.95681908,
          2206241.951593115,
          2267188.962317278,
          2306777.045018571,
          2466560.851095221,
          2698677.587325904,
          2585387.279373,
          2902648.542579825,
          2635355.652642215,
          3003952.570769249,
          3107060.768167735,
          2614437.290611091,
          2533028.918811129,
          2503232.052811027,
          2407668.718695499,
          2568656.467749375,
          2566002.860443762,
          2637542.77230812,
          2497129.139631405,
          2582038.535615719,
          2721972.898203935,
          3194284.660691672,
          2849754.134712133,
          2976573.543000213,
          2641698.312798798,
          2473220.947057426,
          2489937.094243774,
          2628412.960279277,
          2777864.045104836,
          2743092.531527222,
          2479732.522722125,
          2498179.236194718,
          2650415.988756866,
          2829730.337627514,
          3199229.247254669,
          2965153.067095987,
          2700601.323781384,
          2752983.760156098,
          2908017.642712957,
          2393248.815399134,
          2601796.372923764,
          2816764.091487347,
          2706821.881260899,
          2488000.731786813,
          2431546.562163545,
          2293915.175271454,
          2374437.704836953,
          2290643.888921742,
          2303084.746520452,
          2667261.281390637,
          2926976.797311885,
          2246979.393866457,
          2194879.158025778,
          2074167.188045989,
          2189993.905197012,
          2192346.341715035,
          2283798.333151146,
          2474775.642198499,
          2258362.0058612,
          2612628.542620118,
          2498177.779799757,
          2779525.406261482,
          2831082.299887066,
          2400010.702203261,
          2431621.266151989,
          2416853.005066616,
          2343154.215106094,
          2310535.502308555,
          2453948.263104522,
          2297872.454003762,
          2419297.036745709,
          2402847.39247223,
          2492744.652081301,
          2867760.597305155,
          2973968.438278548,
          2334842.709824163,
          2309118.541051005,
          2285584.819806868,
          2603077.282701191,
          2551206.870508204,
          2526078.735916106,
          2657056.073255902,
          2513572.914824786,
          2429701.081540268,
          2614876.439223284,
          2882788.294725833,
          3284553.828919528,
          2881038.699104385,
          2859809.100474077,
          2731322.770021687,
          2404740.069038821,
          2431564.151396827,
          2377516.143491353,
          2608994.743909604,
          2516576.09839022,
          2379023.177337916,
          2315196.40272791,
          2456017.720800763,
          2220530.568650034,
          1701011.572556342,
          1761310.019759649,
          2001726.815884218,
          2301765.934298746,
          2651172.772551851,
          2743252.038333858,
          2853330.470262835,
          3140282.498625233,
          3233130.237391281,
          2837332.082418947,
          3159768.506027024,
          3069332.639419259,
          3235238.668231891,
          3293143.103421631,
          3428334.409442499,
          3409453.198293967,
          2749988.691673775,
          2761366.61097433,
          2873655.990786887,
          2773094.180603982,
          2718479.208870341,
          2785053.865600151
         ],
         "yaxis": "y"
        },
        {
         "hovertemplate": "<b>%{hovertext}</b><br><br>State=QLD<br>WC Date=%{x}<br>Sales=%{y}<extra></extra>",
         "hovertext": [
          "Sep",
          "Sep",
          "Sep",
          "Sep",
          "Oct",
          "Oct",
          "Oct",
          "Oct",
          "Oct",
          "Nov",
          "Nov",
          "Nov",
          "Nov",
          "Dec",
          "Dec",
          "Dec",
          "Dec",
          "Dec",
          "Jan",
          "Jan",
          "Jan",
          "Jan",
          "Feb",
          "Feb",
          "Feb",
          "Feb",
          "Mar",
          "Mar",
          "Mar",
          "Mar",
          "Apr",
          "Apr",
          "Apr",
          "Apr",
          "Apr",
          "May",
          "May",
          "May",
          "May",
          "Jun",
          "Jun",
          "Jun",
          "Jun",
          "Jul",
          "Jul",
          "Jul",
          "Jul",
          "Jul",
          "Aug",
          "Aug",
          "Aug",
          "Aug",
          "Sep",
          "Sep",
          "Sep",
          "Sep",
          "Sep",
          "Oct",
          "Oct",
          "Oct",
          "Oct",
          "Nov",
          "Nov",
          "Nov",
          "Nov",
          "Dec",
          "Dec",
          "Dec",
          "Dec",
          "Dec",
          "Jan",
          "Jan",
          "Jan",
          "Jan",
          "Feb",
          "Feb",
          "Feb",
          "Feb",
          "Mar",
          "Mar",
          "Mar",
          "Mar",
          "Mar",
          "Apr",
          "Apr",
          "Apr",
          "Apr",
          "May",
          "May",
          "May",
          "May",
          "Jun",
          "Jun",
          "Jun",
          "Jun",
          "Jun",
          "Jul",
          "Jul",
          "Jul",
          "Jul",
          "Aug",
          "Aug",
          "Aug",
          "Aug",
          "Sep",
          "Sep",
          "Sep",
          "Sep",
          "Sep",
          "Oct",
          "Oct",
          "Oct",
          "Oct",
          "Nov",
          "Nov",
          "Nov",
          "Nov",
          "Dec",
          "Dec",
          "Dec",
          "Dec",
          "Dec",
          "Jan",
          "Jan",
          "Jan",
          "Jan",
          "Feb",
          "Feb",
          "Feb",
          "Feb",
          "Mar",
          "Mar",
          "Mar",
          "Mar",
          "Mar",
          "Apr",
          "Apr",
          "Apr",
          "Apr",
          "May",
          "May",
          "May",
          "May",
          "May",
          "Jun",
          "Jun",
          "Jun",
          "Jun",
          "Jul",
          "Jul",
          "Jul",
          "Jul",
          "Aug",
          "Aug",
          "Aug",
          "Aug"
         ],
         "legendgroup": "QLD",
         "line": {
          "color": "#00cc96",
          "dash": "solid"
         },
         "mode": "lines",
         "name": "QLD",
         "orientation": "v",
         "showlegend": true,
         "type": "scatter",
         "x": [
          "2017-09-03T00:00:00",
          "2017-09-10T00:00:00",
          "2017-09-17T00:00:00",
          "2017-09-24T00:00:00",
          "2017-10-01T00:00:00",
          "2017-10-08T00:00:00",
          "2017-10-15T00:00:00",
          "2017-10-22T00:00:00",
          "2017-10-29T00:00:00",
          "2017-11-05T00:00:00",
          "2017-11-12T00:00:00",
          "2017-11-19T00:00:00",
          "2017-11-26T00:00:00",
          "2017-12-03T00:00:00",
          "2017-12-10T00:00:00",
          "2017-12-17T00:00:00",
          "2017-12-24T00:00:00",
          "2017-12-31T00:00:00",
          "2018-01-07T00:00:00",
          "2018-01-14T00:00:00",
          "2018-01-21T00:00:00",
          "2018-01-28T00:00:00",
          "2018-02-04T00:00:00",
          "2018-02-11T00:00:00",
          "2018-02-18T00:00:00",
          "2018-02-25T00:00:00",
          "2018-03-04T00:00:00",
          "2018-03-11T00:00:00",
          "2018-03-18T00:00:00",
          "2018-03-25T00:00:00",
          "2018-04-01T00:00:00",
          "2018-04-08T00:00:00",
          "2018-04-15T00:00:00",
          "2018-04-22T00:00:00",
          "2018-04-29T00:00:00",
          "2018-05-06T00:00:00",
          "2018-05-13T00:00:00",
          "2018-05-20T00:00:00",
          "2018-05-27T00:00:00",
          "2018-06-03T00:00:00",
          "2018-06-10T00:00:00",
          "2018-06-17T00:00:00",
          "2018-06-24T00:00:00",
          "2018-07-01T00:00:00",
          "2018-07-08T00:00:00",
          "2018-07-15T00:00:00",
          "2018-07-22T00:00:00",
          "2018-07-29T00:00:00",
          "2018-08-05T00:00:00",
          "2018-08-12T00:00:00",
          "2018-08-19T00:00:00",
          "2018-08-26T00:00:00",
          "2018-09-02T00:00:00",
          "2018-09-09T00:00:00",
          "2018-09-16T00:00:00",
          "2018-09-23T00:00:00",
          "2018-09-30T00:00:00",
          "2018-10-07T00:00:00",
          "2018-10-14T00:00:00",
          "2018-10-21T00:00:00",
          "2018-10-28T00:00:00",
          "2018-11-04T00:00:00",
          "2018-11-11T00:00:00",
          "2018-11-18T00:00:00",
          "2018-11-25T00:00:00",
          "2018-12-02T00:00:00",
          "2018-12-09T00:00:00",
          "2018-12-16T00:00:00",
          "2018-12-23T00:00:00",
          "2018-12-30T00:00:00",
          "2019-01-06T00:00:00",
          "2019-01-13T00:00:00",
          "2019-01-20T00:00:00",
          "2019-01-27T00:00:00",
          "2019-02-03T00:00:00",
          "2019-02-10T00:00:00",
          "2019-02-17T00:00:00",
          "2019-02-24T00:00:00",
          "2019-03-03T00:00:00",
          "2019-03-10T00:00:00",
          "2019-03-17T00:00:00",
          "2019-03-24T00:00:00",
          "2019-03-31T00:00:00",
          "2019-04-07T00:00:00",
          "2019-04-14T00:00:00",
          "2019-04-21T00:00:00",
          "2019-04-28T00:00:00",
          "2019-05-05T00:00:00",
          "2019-05-12T00:00:00",
          "2019-05-19T00:00:00",
          "2019-05-26T00:00:00",
          "2019-06-02T00:00:00",
          "2019-06-09T00:00:00",
          "2019-06-16T00:00:00",
          "2019-06-23T00:00:00",
          "2019-06-30T00:00:00",
          "2019-07-07T00:00:00",
          "2019-07-14T00:00:00",
          "2019-07-21T00:00:00",
          "2019-07-28T00:00:00",
          "2019-08-04T00:00:00",
          "2019-08-11T00:00:00",
          "2019-08-18T00:00:00",
          "2019-08-25T00:00:00",
          "2019-09-01T00:00:00",
          "2019-09-08T00:00:00",
          "2019-09-15T00:00:00",
          "2019-09-22T00:00:00",
          "2019-09-29T00:00:00",
          "2019-10-06T00:00:00",
          "2019-10-13T00:00:00",
          "2019-10-20T00:00:00",
          "2019-10-27T00:00:00",
          "2019-11-03T00:00:00",
          "2019-11-10T00:00:00",
          "2019-11-17T00:00:00",
          "2019-11-24T00:00:00",
          "2019-12-01T00:00:00",
          "2019-12-08T00:00:00",
          "2019-12-15T00:00:00",
          "2019-12-22T00:00:00",
          "2019-12-29T00:00:00",
          "2020-01-05T00:00:00",
          "2020-01-12T00:00:00",
          "2020-01-19T00:00:00",
          "2020-01-26T00:00:00",
          "2020-02-02T00:00:00",
          "2020-02-09T00:00:00",
          "2020-02-16T00:00:00",
          "2020-02-23T00:00:00",
          "2020-03-01T00:00:00",
          "2020-03-08T00:00:00",
          "2020-03-15T00:00:00",
          "2020-03-22T00:00:00",
          "2020-03-29T00:00:00",
          "2020-04-05T00:00:00",
          "2020-04-12T00:00:00",
          "2020-04-19T00:00:00",
          "2020-04-26T00:00:00",
          "2020-05-03T00:00:00",
          "2020-05-10T00:00:00",
          "2020-05-17T00:00:00",
          "2020-05-24T00:00:00",
          "2020-05-31T00:00:00",
          "2020-06-07T00:00:00",
          "2020-06-14T00:00:00",
          "2020-06-21T00:00:00",
          "2020-06-28T00:00:00",
          "2020-07-05T00:00:00",
          "2020-07-12T00:00:00",
          "2020-07-19T00:00:00",
          "2020-07-26T00:00:00",
          "2020-08-02T00:00:00",
          "2020-08-09T00:00:00",
          "2020-08-16T00:00:00",
          "2020-08-23T00:00:00"
         ],
         "xaxis": "x",
         "y": [
          1456749.821680669,
          1534787.689347492,
          1774839.88347618,
          1753178.898349389,
          1691050.513187018,
          1507033.432421429,
          1956695.427289216,
          1648118.386818791,
          1534104.740191472,
          1568471.932253168,
          1688016.093833182,
          1605426.150268957,
          1638023.181773366,
          1610021.26414592,
          1665792.631000376,
          1655232.307499588,
          1815848.869384465,
          1968391.071732298,
          1755162.380699401,
          1629537.189071234,
          1595061.987089272,
          1543900.35979147,
          1622902.254502431,
          1469509.094261891,
          1555863.718180119,
          1472956.492495561,
          1503381.881944096,
          1526487.825585188,
          1421150.949279774,
          1375277.156382017,
          1642219.133245151,
          1531576.404075768,
          1342945.324496384,
          1333821.055650478,
          1426081.783077653,
          1189413.185666636,
          1309141.164662231,
          1328817.968454379,
          1403321.867336487,
          1416861.672395708,
          1397492.448613371,
          1602144.160934377,
          1797459.868533632,
          1827154.183807981,
          1967372.385809524,
          1639003.453335985,
          1544004.085250225,
          1535332.476008081,
          1462526.615880833,
          1633045.715241883,
          1453677.514997708,
          1566857.324099025,
          1507040.970986787,
          1500157.605232932,
          1470746.067295998,
          1795086.600222788,
          1846409.386916161,
          1482298.166746099,
          1858735.458407412,
          1454633.223085482,
          1359207.536770366,
          1463013.997196933,
          1490896.909712704,
          1763867.974841653,
          1532319.95840338,
          1449834.925151109,
          1458036.880449054,
          1558378.200347072,
          1605247.042552714,
          2002828.751784388,
          1657915.737934858,
          1601454.993859546,
          1483636.053363327,
          1567159.868827462,
          1438329.882629128,
          1374760.422996332,
          1492654.393962838,
          1461048.638665069,
          1327976.341461795,
          1334490.303921555,
          1316664.331294548,
          1373770.744418486,
          1323576.782596606,
          1654427.42205194,
          1594175.910451714,
          1676458.619381744,
          1375497.584773819,
          1187534.732224661,
          1224850.262441781,
          1229307.00406177,
          1208459.536688026,
          1343753.958270939,
          1323108.100584083,
          1379676.677990926,
          1632373.080446712,
          1656075.311820859,
          1709375.744867692,
          1603322.806574652,
          1479491.473559025,
          1477875.569902922,
          1415485.685571061,
          1528399.089550004,
          1386056.499767869,
          1435886.342924406,
          1278234.415688925,
          1330873.566445217,
          1404568.937617396,
          1604997.169882492,
          1666193.96166078,
          1561122.32832615,
          1402166.074982404,
          1388613.046347617,
          1406763.730186666,
          1511576.258024004,
          1512120.27588973,
          1475401.951366117,
          1543189.18018134,
          1484399.693175397,
          1467696.625796469,
          1537257.299141634,
          1581484.646226852,
          2056957.858462906,
          1628218.821743747,
          1695370.622457228,
          1561296.683547747,
          1410114.362203361,
          1408628.515268111,
          1412105.905554767,
          1409634.897464058,
          1418293.485998195,
          1305164.304014362,
          1302575.473703268,
          1201520.335257932,
          1110406.118750007,
          922123.1204248591,
          944317.2157832992,
          1186213.619117522,
          1074705.012568912,
          1702624.973825812,
          1669242.69398891,
          1725955.375488056,
          2053087.684033857,
          2013970.126972645,
          1904467.812753475,
          1910878.373662383,
          1904510.761670838,
          2086928.612175911,
          2184875.449400435,
          2187607.983157181,
          2234889.898019568,
          2223249.674250581,
          2027476.864124658,
          1857994.951040521,
          2158145.842390456,
          1874397.593467169,
          1592760.490111639
         ],
         "yaxis": "y"
        },
        {
         "hovertemplate": "<b>%{hovertext}</b><br><br>State=SA<br>WC Date=%{x}<br>Sales=%{y}<extra></extra>",
         "hovertext": [
          "Apr",
          "Apr",
          "Apr",
          "Apr",
          "May",
          "May",
          "May",
          "May",
          "Jun",
          "Jun",
          "Jun",
          "Jun",
          "Jul",
          "Jul",
          "Jul",
          "Jul",
          "Jul",
          "Aug",
          "Aug",
          "Aug",
          "Aug",
          "Sep",
          "Sep",
          "Sep",
          "Sep",
          "Sep",
          "Oct",
          "Oct",
          "Oct",
          "Oct",
          "Nov",
          "Nov",
          "Nov",
          "Nov",
          "Dec",
          "Dec",
          "Dec",
          "Dec",
          "Dec",
          "Jan",
          "Jan",
          "Jan",
          "Jan",
          "Feb",
          "Feb",
          "Feb",
          "Feb",
          "Mar",
          "Mar",
          "Mar",
          "Mar",
          "Mar",
          "Apr",
          "Apr",
          "Apr",
          "Apr",
          "May",
          "May",
          "May",
          "May",
          "Jun",
          "Jun",
          "Jun",
          "Jun",
          "Jun",
          "Jul",
          "Jul",
          "Jul",
          "Jul",
          "Aug",
          "Aug",
          "Aug",
          "Aug",
          "Sep",
          "Sep",
          "Sep",
          "Sep",
          "Sep",
          "Oct",
          "Oct",
          "Oct",
          "Oct",
          "Nov",
          "Nov",
          "Nov",
          "Nov",
          "Dec",
          "Dec",
          "Dec",
          "Dec",
          "Dec",
          "Jan",
          "Jan",
          "Jan",
          "Jan",
          "Feb",
          "Feb",
          "Feb",
          "Feb",
          "Mar",
          "Mar",
          "Mar",
          "Mar",
          "Mar",
          "Apr",
          "Apr",
          "Apr",
          "Apr",
          "May",
          "May",
          "May",
          "May",
          "May",
          "Jun",
          "Jun",
          "Jun",
          "Jun",
          "Jul",
          "Jul",
          "Jul",
          "Jul",
          "Aug",
          "Aug",
          "Aug",
          "Aug"
         ],
         "legendgroup": "SA",
         "line": {
          "color": "#ab63fa",
          "dash": "solid"
         },
         "mode": "lines",
         "name": "SA",
         "orientation": "v",
         "showlegend": true,
         "type": "scatter",
         "x": [
          "2018-04-08T00:00:00",
          "2018-04-15T00:00:00",
          "2018-04-22T00:00:00",
          "2018-04-29T00:00:00",
          "2018-05-06T00:00:00",
          "2018-05-13T00:00:00",
          "2018-05-20T00:00:00",
          "2018-05-27T00:00:00",
          "2018-06-03T00:00:00",
          "2018-06-10T00:00:00",
          "2018-06-17T00:00:00",
          "2018-06-24T00:00:00",
          "2018-07-01T00:00:00",
          "2018-07-08T00:00:00",
          "2018-07-15T00:00:00",
          "2018-07-22T00:00:00",
          "2018-07-29T00:00:00",
          "2018-08-05T00:00:00",
          "2018-08-12T00:00:00",
          "2018-08-19T00:00:00",
          "2018-08-26T00:00:00",
          "2018-09-02T00:00:00",
          "2018-09-09T00:00:00",
          "2018-09-16T00:00:00",
          "2018-09-23T00:00:00",
          "2018-09-30T00:00:00",
          "2018-10-07T00:00:00",
          "2018-10-14T00:00:00",
          "2018-10-21T00:00:00",
          "2018-10-28T00:00:00",
          "2018-11-04T00:00:00",
          "2018-11-11T00:00:00",
          "2018-11-18T00:00:00",
          "2018-11-25T00:00:00",
          "2018-12-02T00:00:00",
          "2018-12-09T00:00:00",
          "2018-12-16T00:00:00",
          "2018-12-23T00:00:00",
          "2018-12-30T00:00:00",
          "2019-01-06T00:00:00",
          "2019-01-13T00:00:00",
          "2019-01-20T00:00:00",
          "2019-01-27T00:00:00",
          "2019-02-03T00:00:00",
          "2019-02-10T00:00:00",
          "2019-02-17T00:00:00",
          "2019-02-24T00:00:00",
          "2019-03-03T00:00:00",
          "2019-03-10T00:00:00",
          "2019-03-17T00:00:00",
          "2019-03-24T00:00:00",
          "2019-03-31T00:00:00",
          "2019-04-07T00:00:00",
          "2019-04-14T00:00:00",
          "2019-04-21T00:00:00",
          "2019-04-28T00:00:00",
          "2019-05-05T00:00:00",
          "2019-05-12T00:00:00",
          "2019-05-19T00:00:00",
          "2019-05-26T00:00:00",
          "2019-06-02T00:00:00",
          "2019-06-09T00:00:00",
          "2019-06-16T00:00:00",
          "2019-06-23T00:00:00",
          "2019-06-30T00:00:00",
          "2019-07-07T00:00:00",
          "2019-07-14T00:00:00",
          "2019-07-21T00:00:00",
          "2019-07-28T00:00:00",
          "2019-08-04T00:00:00",
          "2019-08-11T00:00:00",
          "2019-08-18T00:00:00",
          "2019-08-25T00:00:00",
          "2019-09-01T00:00:00",
          "2019-09-08T00:00:00",
          "2019-09-15T00:00:00",
          "2019-09-22T00:00:00",
          "2019-09-29T00:00:00",
          "2019-10-06T00:00:00",
          "2019-10-13T00:00:00",
          "2019-10-20T00:00:00",
          "2019-10-27T00:00:00",
          "2019-11-03T00:00:00",
          "2019-11-10T00:00:00",
          "2019-11-17T00:00:00",
          "2019-11-24T00:00:00",
          "2019-12-01T00:00:00",
          "2019-12-08T00:00:00",
          "2019-12-15T00:00:00",
          "2019-12-22T00:00:00",
          "2019-12-29T00:00:00",
          "2020-01-05T00:00:00",
          "2020-01-12T00:00:00",
          "2020-01-19T00:00:00",
          "2020-01-26T00:00:00",
          "2020-02-02T00:00:00",
          "2020-02-09T00:00:00",
          "2020-02-16T00:00:00",
          "2020-02-23T00:00:00",
          "2020-03-01T00:00:00",
          "2020-03-08T00:00:00",
          "2020-03-15T00:00:00",
          "2020-03-22T00:00:00",
          "2020-03-29T00:00:00",
          "2020-04-05T00:00:00",
          "2020-04-12T00:00:00",
          "2020-04-19T00:00:00",
          "2020-04-26T00:00:00",
          "2020-05-03T00:00:00",
          "2020-05-10T00:00:00",
          "2020-05-17T00:00:00",
          "2020-05-24T00:00:00",
          "2020-05-31T00:00:00",
          "2020-06-07T00:00:00",
          "2020-06-14T00:00:00",
          "2020-06-21T00:00:00",
          "2020-06-28T00:00:00",
          "2020-07-05T00:00:00",
          "2020-07-12T00:00:00",
          "2020-07-19T00:00:00",
          "2020-07-26T00:00:00",
          "2020-08-02T00:00:00",
          "2020-08-09T00:00:00",
          "2020-08-16T00:00:00",
          "2020-08-23T00:00:00"
         ],
         "xaxis": "x",
         "y": [
          400865.5942368279,
          657233.7868671131,
          663677.2143339734,
          586027.4336904192,
          549508.9887556235,
          561596.514841827,
          538847.9890731517,
          580693.5707913288,
          611636.3615496675,
          730999.3000280409,
          620624.6182406824,
          673308.7695076725,
          640879.9332476843,
          835080.9209669736,
          809889.1239521452,
          644632.8203335684,
          623623.6896600793,
          601153.6528157123,
          669096.4673406447,
          656940.5545830046,
          651868.7782019061,
          610145.5960299784,
          616001.7629429558,
          643527.1579614445,
          662525.5101869374,
          767026.4713161901,
          669035.780101513,
          759179.1255445003,
          635173.1038493847,
          579860.9171817292,
          646444.6614734804,
          642961.0204111884,
          686086.3042189177,
          676449.4860504445,
          636530.8240177674,
          661589.6985084334,
          764980.9053404232,
          685639.1505879486,
          859353.8958398572,
          776983.283209589,
          706731.9468155468,
          689287.5108206666,
          719564.5447115924,
          649520.7273119265,
          612474.2216339682,
          636954.4281801987,
          612651.6904970894,
          574001.8347836128,
          657814.5355982888,
          550170.7159371822,
          606711.5232173917,
          575770.9589081992,
          585792.345872728,
          627905.9280798291,
          761489.2692836208,
          554482.4095072198,
          547822.3661821211,
          510171.4485890071,
          528341.5983173335,
          562660.9114362687,
          595025.6970072171,
          620087.1045860146,
          574527.2682491948,
          607934.0837037407,
          639633.0362748061,
          787467.9700340193,
          846392.3945183943,
          651181.922916776,
          622997.8517348194,
          604555.8197024338,
          591304.7999840134,
          587226.9912214716,
          606485.5090474456,
          556901.9528593548,
          596379.967943838,
          596801.0934227039,
          609629.2295615955,
          718871.6587508591,
          757114.8489928043,
          592081.1603419567,
          576436.2141359748,
          594374.417906475,
          673934.1718955361,
          655740.7612358754,
          575697.6414526319,
          689475.940551434,
          626931.51197009,
          656033.5183385262,
          650507.5085346429,
          682928.09250898,
          862438.1379979082,
          783664.6525817156,
          735173.3584425402,
          733682.57217429,
          649208.8228957779,
          624552.8081683754,
          626204.594176703,
          628911.0188964136,
          641206.752238481,
          616955.852229958,
          645876.0196360071,
          550431.5057676043,
          519699.6367647689,
          434968.4837425775,
          463984.1050517507,
          572831.4525708881,
          662540.9371899619,
          795170.2510771989,
          760702.1941571732,
          733559.4535173527,
          831052.0951193497,
          793419.3120327003,
          718261.8280106776,
          724039.3751556986,
          768001.7118540583,
          782321.9921927159,
          851777.2232811713,
          947364.0192535142,
          994487.5326324198,
          867503.7458149143,
          803199.6537399931,
          806256.3294526666,
          833751.1414029963,
          853024.7153598325,
          756391.4052443217
         ],
         "yaxis": "y"
        },
        {
         "hovertemplate": "<b>%{hovertext}</b><br><br>State=VIC<br>WC Date=%{x}<br>Sales=%{y}<extra></extra>",
         "hovertext": [
          "Sep",
          "Sep",
          "Sep",
          "Sep",
          "Oct",
          "Oct",
          "Oct",
          "Oct",
          "Oct",
          "Nov",
          "Nov",
          "Nov",
          "Nov",
          "Dec",
          "Dec",
          "Dec",
          "Dec",
          "Dec",
          "Jan",
          "Jan",
          "Jan",
          "Jan",
          "Feb",
          "Feb",
          "Feb",
          "Feb",
          "Mar",
          "Mar",
          "Mar",
          "Mar",
          "Apr",
          "Apr",
          "Apr",
          "Apr",
          "Apr",
          "May",
          "May",
          "May",
          "May",
          "Jun",
          "Jun",
          "Jun",
          "Jun",
          "Jul",
          "Jul",
          "Jul",
          "Jul",
          "Jul",
          "Aug",
          "Aug",
          "Aug",
          "Aug",
          "Sep",
          "Sep",
          "Sep",
          "Sep",
          "Sep",
          "Oct",
          "Oct",
          "Oct",
          "Oct",
          "Nov",
          "Nov",
          "Nov",
          "Nov",
          "Dec",
          "Dec",
          "Dec",
          "Dec",
          "Dec",
          "Jan",
          "Jan",
          "Jan",
          "Jan",
          "Feb",
          "Feb",
          "Feb",
          "Feb",
          "Mar",
          "Mar",
          "Mar",
          "Mar",
          "Mar",
          "Apr",
          "Apr",
          "Apr",
          "Apr",
          "May",
          "May",
          "May",
          "May",
          "Jun",
          "Jun",
          "Jun",
          "Jun",
          "Jun",
          "Jul",
          "Jul",
          "Jul",
          "Jul",
          "Aug",
          "Aug",
          "Aug",
          "Aug",
          "Sep",
          "Sep",
          "Sep",
          "Sep",
          "Sep",
          "Oct",
          "Oct",
          "Oct",
          "Oct",
          "Nov",
          "Nov",
          "Nov",
          "Nov",
          "Dec",
          "Dec",
          "Dec",
          "Dec",
          "Dec",
          "Jan",
          "Jan",
          "Jan",
          "Jan",
          "Feb",
          "Feb",
          "Feb",
          "Feb",
          "Mar",
          "Mar",
          "Mar",
          "Mar",
          "Mar",
          "Apr",
          "Apr",
          "Apr",
          "Apr",
          "May",
          "May",
          "May",
          "May",
          "May",
          "Jun",
          "Jun",
          "Jun",
          "Jun",
          "Jul",
          "Jul",
          "Jul",
          "Jul",
          "Aug",
          "Aug",
          "Aug",
          "Aug"
         ],
         "legendgroup": "VIC",
         "line": {
          "color": "#FFA15A",
          "dash": "solid"
         },
         "mode": "lines",
         "name": "VIC",
         "orientation": "v",
         "showlegend": true,
         "type": "scatter",
         "x": [
          "2017-09-03T00:00:00",
          "2017-09-10T00:00:00",
          "2017-09-17T00:00:00",
          "2017-09-24T00:00:00",
          "2017-10-01T00:00:00",
          "2017-10-08T00:00:00",
          "2017-10-15T00:00:00",
          "2017-10-22T00:00:00",
          "2017-10-29T00:00:00",
          "2017-11-05T00:00:00",
          "2017-11-12T00:00:00",
          "2017-11-19T00:00:00",
          "2017-11-26T00:00:00",
          "2017-12-03T00:00:00",
          "2017-12-10T00:00:00",
          "2017-12-17T00:00:00",
          "2017-12-24T00:00:00",
          "2017-12-31T00:00:00",
          "2018-01-07T00:00:00",
          "2018-01-14T00:00:00",
          "2018-01-21T00:00:00",
          "2018-01-28T00:00:00",
          "2018-02-04T00:00:00",
          "2018-02-11T00:00:00",
          "2018-02-18T00:00:00",
          "2018-02-25T00:00:00",
          "2018-03-04T00:00:00",
          "2018-03-11T00:00:00",
          "2018-03-18T00:00:00",
          "2018-03-25T00:00:00",
          "2018-04-01T00:00:00",
          "2018-04-08T00:00:00",
          "2018-04-15T00:00:00",
          "2018-04-22T00:00:00",
          "2018-04-29T00:00:00",
          "2018-05-06T00:00:00",
          "2018-05-13T00:00:00",
          "2018-05-20T00:00:00",
          "2018-05-27T00:00:00",
          "2018-06-03T00:00:00",
          "2018-06-10T00:00:00",
          "2018-06-17T00:00:00",
          "2018-06-24T00:00:00",
          "2018-07-01T00:00:00",
          "2018-07-08T00:00:00",
          "2018-07-15T00:00:00",
          "2018-07-22T00:00:00",
          "2018-07-29T00:00:00",
          "2018-08-05T00:00:00",
          "2018-08-12T00:00:00",
          "2018-08-19T00:00:00",
          "2018-08-26T00:00:00",
          "2018-09-02T00:00:00",
          "2018-09-09T00:00:00",
          "2018-09-16T00:00:00",
          "2018-09-23T00:00:00",
          "2018-09-30T00:00:00",
          "2018-10-07T00:00:00",
          "2018-10-14T00:00:00",
          "2018-10-21T00:00:00",
          "2018-10-28T00:00:00",
          "2018-11-04T00:00:00",
          "2018-11-11T00:00:00",
          "2018-11-18T00:00:00",
          "2018-11-25T00:00:00",
          "2018-12-02T00:00:00",
          "2018-12-09T00:00:00",
          "2018-12-16T00:00:00",
          "2018-12-23T00:00:00",
          "2018-12-30T00:00:00",
          "2019-01-06T00:00:00",
          "2019-01-13T00:00:00",
          "2019-01-20T00:00:00",
          "2019-01-27T00:00:00",
          "2019-02-03T00:00:00",
          "2019-02-10T00:00:00",
          "2019-02-17T00:00:00",
          "2019-02-24T00:00:00",
          "2019-03-03T00:00:00",
          "2019-03-10T00:00:00",
          "2019-03-17T00:00:00",
          "2019-03-24T00:00:00",
          "2019-03-31T00:00:00",
          "2019-04-07T00:00:00",
          "2019-04-14T00:00:00",
          "2019-04-21T00:00:00",
          "2019-04-28T00:00:00",
          "2019-05-05T00:00:00",
          "2019-05-12T00:00:00",
          "2019-05-19T00:00:00",
          "2019-05-26T00:00:00",
          "2019-06-02T00:00:00",
          "2019-06-09T00:00:00",
          "2019-06-16T00:00:00",
          "2019-06-23T00:00:00",
          "2019-06-30T00:00:00",
          "2019-07-07T00:00:00",
          "2019-07-14T00:00:00",
          "2019-07-21T00:00:00",
          "2019-07-28T00:00:00",
          "2019-08-04T00:00:00",
          "2019-08-11T00:00:00",
          "2019-08-18T00:00:00",
          "2019-08-25T00:00:00",
          "2019-09-01T00:00:00",
          "2019-09-08T00:00:00",
          "2019-09-15T00:00:00",
          "2019-09-22T00:00:00",
          "2019-09-29T00:00:00",
          "2019-10-06T00:00:00",
          "2019-10-13T00:00:00",
          "2019-10-20T00:00:00",
          "2019-10-27T00:00:00",
          "2019-11-03T00:00:00",
          "2019-11-10T00:00:00",
          "2019-11-17T00:00:00",
          "2019-11-24T00:00:00",
          "2019-12-01T00:00:00",
          "2019-12-08T00:00:00",
          "2019-12-15T00:00:00",
          "2019-12-22T00:00:00",
          "2019-12-29T00:00:00",
          "2020-01-05T00:00:00",
          "2020-01-12T00:00:00",
          "2020-01-19T00:00:00",
          "2020-01-26T00:00:00",
          "2020-02-02T00:00:00",
          "2020-02-09T00:00:00",
          "2020-02-16T00:00:00",
          "2020-02-23T00:00:00",
          "2020-03-01T00:00:00",
          "2020-03-08T00:00:00",
          "2020-03-15T00:00:00",
          "2020-03-22T00:00:00",
          "2020-03-29T00:00:00",
          "2020-04-05T00:00:00",
          "2020-04-12T00:00:00",
          "2020-04-19T00:00:00",
          "2020-04-26T00:00:00",
          "2020-05-03T00:00:00",
          "2020-05-10T00:00:00",
          "2020-05-17T00:00:00",
          "2020-05-24T00:00:00",
          "2020-05-31T00:00:00",
          "2020-06-07T00:00:00",
          "2020-06-14T00:00:00",
          "2020-06-21T00:00:00",
          "2020-06-28T00:00:00",
          "2020-07-05T00:00:00",
          "2020-07-12T00:00:00",
          "2020-07-19T00:00:00",
          "2020-07-26T00:00:00",
          "2020-08-02T00:00:00",
          "2020-08-09T00:00:00",
          "2020-08-16T00:00:00",
          "2020-08-23T00:00:00"
         ],
         "xaxis": "x",
         "y": [
          2173977.032103576,
          2155545.919121663,
          2094841.011162552,
          2535675.241826159,
          2277493.607088,
          2090769.646315287,
          2406385.618249251,
          2321607.038115114,
          2227304.303168017,
          2474567.442304043,
          2079246.102508494,
          2155092.972983506,
          2170995.596594645,
          2311007.000114306,
          2200351.355759795,
          2226552.999406351,
          2569976.924285516,
          2703696.420633273,
          2633425.684279039,
          2441590.702176922,
          2550230.036771949,
          2319860.821588857,
          2305724.717296751,
          2370859.551373887,
          2451106.908758114,
          2273881.087206302,
          2201063.984329701,
          2401900.135853213,
          2020154.924455441,
          1982375.328382093,
          2483149.658817093,
          2142913.399136052,
          1944490.194422666,
          2147764.540921825,
          1992149.34962534,
          1959592.491759138,
          1847383.400213798,
          1910937.959403426,
          1898237.871921008,
          2007181.390823723,
          2222416.604624206,
          2111350.165408474,
          2509343.295742664,
          2450833.459168972,
          2550019.662793044,
          2313008.254098248,
          2196070.137978665,
          2132653.526082675,
          2135261.484636801,
          2096010.598244163,
          1928359.995514112,
          1961862.905673692,
          1928044.768737992,
          2027238.264860422,
          1988308.729183352,
          2651288.257257362,
          2211910.062609156,
          1841606.550781404,
          2340974.309839563,
          2081153.584779695,
          1945009.321956953,
          2376393.022871379,
          2039072.683144861,
          2124476.198871993,
          2075552.517656174,
          2055818.186120559,
          2034019.500056891,
          2113241.845557682,
          2187942.357937597,
          2682474.05173244,
          2272346.405283296,
          2168463.14515707,
          2178356.796107219,
          2317152.911697342,
          1985256.803878911,
          2057109.750094871,
          2258835.510022541,
          2216759.019099752,
          1997952.079035663,
          2147760.302149362,
          1787288.858660694,
          1914185.829273157,
          1865379.410202064,
          2094467.535230382,
          2018008.918502097,
          2568052.56824491,
          1779656.909040528,
          1722448.613671838,
          1657780.992908588,
          1752500.806801457,
          1782254.168300464,
          1847675.897674954,
          2033234.377621999,
          1862298.878673657,
          2051178.251334092,
          2151699.536727613,
          2256548.294197786,
          2086616.765145305,
          1978913.478295632,
          1946932.960311908,
          1963266.508336586,
          1854653.479729932,
          1836769.413827782,
          1849765.487929735,
          1859628.511194323,
          1916279.930440686,
          1910292.637399483,
          2300727.711495953,
          2090430.435594788,
          1806228.030073318,
          1879606.812678967,
          1904957.147936894,
          1947752.964673786,
          2557737.929951426,
          2036592.755721962,
          1984176.779989305,
          2069824.944404338,
          2051208.77507349,
          2030062.480177317,
          2026438.780978565,
          2317947.2075929,
          2699077.634855784,
          2459248.99120319,
          2304847.776112456,
          2259382.09983543,
          2169872.786042465,
          2056900.449469137,
          2131372.68290389,
          2186388.187919467,
          2129710.107863768,
          1974105.614269987,
          2089247.921319393,
          1872791.91739453,
          1612683.336626691,
          1235302.134948292,
          1294007.234255016,
          1456142.571636864,
          1494888.586703174,
          1838797.679825191,
          1820176.199552675,
          1992516.726593521,
          2380274.942899977,
          2474395.449158682,
          2366523.295919454,
          2414120.51889532,
          2393014.988591331,
          2410339.456042459,
          2452462.002642554,
          2052963.758172008,
          1748782.736679036,
          1474484.029808089,
          1534077.680473221,
          923406.3721405836,
          101105.8778725927,
          137552.9633831789,
          77309.11116223564
         ],
         "yaxis": "y"
        },
        {
         "hovertemplate": "<b>%{hovertext}</b><br><br>State=WA<br>WC Date=%{x}<br>Sales=%{y}<extra></extra>",
         "hovertext": [
          "Apr",
          "Apr",
          "Apr",
          "Apr",
          "Apr",
          "May",
          "May",
          "May",
          "May",
          "Jun",
          "Jun",
          "Jun",
          "Jun",
          "Jul",
          "Jul",
          "Jul",
          "Jul",
          "Jul",
          "Aug",
          "Aug",
          "Aug",
          "Aug",
          "Sep",
          "Sep",
          "Sep",
          "Sep",
          "Sep",
          "Oct",
          "Oct",
          "Oct",
          "Oct",
          "Nov",
          "Nov",
          "Nov",
          "Nov",
          "Dec",
          "Dec",
          "Dec",
          "Dec",
          "Dec",
          "Jan",
          "Jan",
          "Jan",
          "Jan",
          "Feb",
          "Feb",
          "Feb",
          "Feb",
          "Mar",
          "Mar",
          "Mar",
          "Mar",
          "Mar",
          "Apr",
          "Apr",
          "Apr",
          "Apr",
          "May",
          "May",
          "May",
          "May",
          "Jun",
          "Jun",
          "Jun",
          "Jun",
          "Jun",
          "Jul",
          "Jul",
          "Jul",
          "Jul",
          "Aug",
          "Aug",
          "Aug",
          "Aug",
          "Sep",
          "Sep",
          "Sep",
          "Sep",
          "Sep",
          "Oct",
          "Oct",
          "Oct",
          "Oct",
          "Nov",
          "Nov",
          "Nov",
          "Nov",
          "Dec",
          "Dec",
          "Dec",
          "Dec",
          "Dec",
          "Jan",
          "Jan",
          "Jan",
          "Jan",
          "Feb",
          "Feb",
          "Feb",
          "Feb",
          "Mar",
          "Mar",
          "Mar",
          "Mar",
          "Mar",
          "Apr",
          "Apr",
          "Apr",
          "Apr",
          "May",
          "May",
          "May",
          "May",
          "May",
          "Jun",
          "Jun",
          "Jun",
          "Jun",
          "Jul",
          "Jul",
          "Jul",
          "Jul",
          "Aug",
          "Aug",
          "Aug",
          "Aug"
         ],
         "legendgroup": "WA",
         "line": {
          "color": "#19d3f3",
          "dash": "solid"
         },
         "mode": "lines",
         "name": "WA",
         "orientation": "v",
         "showlegend": true,
         "type": "scatter",
         "x": [
          "2018-04-01T00:00:00",
          "2018-04-08T00:00:00",
          "2018-04-15T00:00:00",
          "2018-04-22T00:00:00",
          "2018-04-29T00:00:00",
          "2018-05-06T00:00:00",
          "2018-05-13T00:00:00",
          "2018-05-20T00:00:00",
          "2018-05-27T00:00:00",
          "2018-06-03T00:00:00",
          "2018-06-10T00:00:00",
          "2018-06-17T00:00:00",
          "2018-06-24T00:00:00",
          "2018-07-01T00:00:00",
          "2018-07-08T00:00:00",
          "2018-07-15T00:00:00",
          "2018-07-22T00:00:00",
          "2018-07-29T00:00:00",
          "2018-08-05T00:00:00",
          "2018-08-12T00:00:00",
          "2018-08-19T00:00:00",
          "2018-08-26T00:00:00",
          "2018-09-02T00:00:00",
          "2018-09-09T00:00:00",
          "2018-09-16T00:00:00",
          "2018-09-23T00:00:00",
          "2018-09-30T00:00:00",
          "2018-10-07T00:00:00",
          "2018-10-14T00:00:00",
          "2018-10-21T00:00:00",
          "2018-10-28T00:00:00",
          "2018-11-04T00:00:00",
          "2018-11-11T00:00:00",
          "2018-11-18T00:00:00",
          "2018-11-25T00:00:00",
          "2018-12-02T00:00:00",
          "2018-12-09T00:00:00",
          "2018-12-16T00:00:00",
          "2018-12-23T00:00:00",
          "2018-12-30T00:00:00",
          "2019-01-06T00:00:00",
          "2019-01-13T00:00:00",
          "2019-01-20T00:00:00",
          "2019-01-27T00:00:00",
          "2019-02-03T00:00:00",
          "2019-02-10T00:00:00",
          "2019-02-17T00:00:00",
          "2019-02-24T00:00:00",
          "2019-03-03T00:00:00",
          "2019-03-10T00:00:00",
          "2019-03-17T00:00:00",
          "2019-03-24T00:00:00",
          "2019-03-31T00:00:00",
          "2019-04-07T00:00:00",
          "2019-04-14T00:00:00",
          "2019-04-21T00:00:00",
          "2019-04-28T00:00:00",
          "2019-05-05T00:00:00",
          "2019-05-12T00:00:00",
          "2019-05-19T00:00:00",
          "2019-05-26T00:00:00",
          "2019-06-02T00:00:00",
          "2019-06-09T00:00:00",
          "2019-06-16T00:00:00",
          "2019-06-23T00:00:00",
          "2019-06-30T00:00:00",
          "2019-07-07T00:00:00",
          "2019-07-14T00:00:00",
          "2019-07-21T00:00:00",
          "2019-07-28T00:00:00",
          "2019-08-04T00:00:00",
          "2019-08-11T00:00:00",
          "2019-08-18T00:00:00",
          "2019-08-25T00:00:00",
          "2019-09-01T00:00:00",
          "2019-09-08T00:00:00",
          "2019-09-15T00:00:00",
          "2019-09-22T00:00:00",
          "2019-09-29T00:00:00",
          "2019-10-06T00:00:00",
          "2019-10-13T00:00:00",
          "2019-10-20T00:00:00",
          "2019-10-27T00:00:00",
          "2019-11-03T00:00:00",
          "2019-11-10T00:00:00",
          "2019-11-17T00:00:00",
          "2019-11-24T00:00:00",
          "2019-12-01T00:00:00",
          "2019-12-08T00:00:00",
          "2019-12-15T00:00:00",
          "2019-12-22T00:00:00",
          "2019-12-29T00:00:00",
          "2020-01-05T00:00:00",
          "2020-01-12T00:00:00",
          "2020-01-19T00:00:00",
          "2020-01-26T00:00:00",
          "2020-02-02T00:00:00",
          "2020-02-09T00:00:00",
          "2020-02-16T00:00:00",
          "2020-02-23T00:00:00",
          "2020-03-01T00:00:00",
          "2020-03-08T00:00:00",
          "2020-03-15T00:00:00",
          "2020-03-22T00:00:00",
          "2020-03-29T00:00:00",
          "2020-04-05T00:00:00",
          "2020-04-12T00:00:00",
          "2020-04-19T00:00:00",
          "2020-04-26T00:00:00",
          "2020-05-03T00:00:00",
          "2020-05-10T00:00:00",
          "2020-05-17T00:00:00",
          "2020-05-24T00:00:00",
          "2020-05-31T00:00:00",
          "2020-06-07T00:00:00",
          "2020-06-14T00:00:00",
          "2020-06-21T00:00:00",
          "2020-06-28T00:00:00",
          "2020-07-05T00:00:00",
          "2020-07-12T00:00:00",
          "2020-07-19T00:00:00",
          "2020-07-26T00:00:00",
          "2020-08-02T00:00:00",
          "2020-08-09T00:00:00",
          "2020-08-16T00:00:00",
          "2020-08-23T00:00:00"
         ],
         "xaxis": "x",
         "y": [
          770294.9737615981,
          919437.2439854394,
          1129704.862070959,
          1027685.613751038,
          976021.2941384722,
          947474.3031400068,
          926734.7707004084,
          939314.2848296785,
          1037653.165741358,
          1042241.692120809,
          1007671.178662462,
          1064820.623453255,
          1134927.541729526,
          1202726.947343207,
          1265155.285260032,
          1193814.781499005,
          1112481.24125399,
          1125611.966440368,
          1075246.459425593,
          1016763.425038738,
          1028741.205776156,
          1031974.520451041,
          1012854.154555203,
          1014292.057015475,
          1020549.691470501,
          1229749.169073341,
          1178092.272604025,
          1037496.322159593,
          1231892.204782497,
          1062318.022969897,
          1007305.492034842,
          1062245.747119074,
          1117332.776382334,
          1242202.556330491,
          1175279.438227872,
          1062804.266890284,
          1028223.62901654,
          1113662.653377824,
          1093936.478538533,
          1314052.538065806,
          1099475.609432149,
          1165249.310981606,
          1143605.144547776,
          1135066.174054666,
          988897.9696313373,
          983359.7467489883,
          1006985.418135264,
          1004537.895405184,
          1031682.322477833,
          933298.0515579176,
          918947.4262138959,
          963878.3890463642,
          999712.7315019409,
          1033663.180163449,
          1122749.257956435,
          1163351.558520483,
          966267.9037711167,
          937348.7476006718,
          912838.2353666924,
          919850.7362910638,
          965972.2002541064,
          962986.4003331241,
          950394.8417318636,
          971775.7984825049,
          1071445.144963326,
          1054347.983245121,
          1224086.549076284,
          1254587.65174255,
          1086151.76788414,
          1074235.608999317,
          1044329.951975798,
          1008600.558081617,
          1026179.868181753,
          1024166.182240155,
          990612.4935780433,
          968021.0489546586,
          962613.9683998523,
          1024338.940097731,
          1198266.047125181,
          1134747.252044384,
          1017575.810739616,
          1018053.610999822,
          1002744.028979319,
          1075291.176284906,
          1102402.460359027,
          1098636.599916505,
          1097397.594211326,
          1020380.036712058,
          1053366.402333025,
          1043146.891437367,
          1033827.500736153,
          1412568.351994483,
          1152209.454915632,
          1120015.964468578,
          1188675.190409752,
          1028121.740348111,
          1042965.415979692,
          1024707.311044681,
          1023792.988866948,
          1003042.477310696,
          1019547.988475308,
          924003.8583653866,
          978775.95326941,
          901311.0198578313,
          663962.0612222215,
          686500.575832631,
          866084.044033757,
          782932.9481527813,
          1161703.651907744,
          1096142.996858809,
          1108498.679264195,
          1229172.47358018,
          1145625.471834579,
          1167187.236680397,
          1109709.715788086,
          1186871.637307797,
          1259688.225141553,
          1316347.087654828,
          1449490.280263191,
          1495237.554726775,
          1418697.254347753,
          1364894.742805736,
          1351591.411319429,
          1385729.187643929,
          1362193.248057242,
          1271019.578751108
         ],
         "yaxis": "y"
        }
       ],
       "layout": {
        "legend": {
         "title": {
          "text": "State"
         },
         "tracegroupgap": 0
        },
        "margin": {
         "t": 60
        },
        "template": {
         "data": {
          "bar": [
           {
            "error_x": {
             "color": "#2a3f5f"
            },
            "error_y": {
             "color": "#2a3f5f"
            },
            "marker": {
             "line": {
              "color": "#E5ECF6",
              "width": 0.5
             }
            },
            "type": "bar"
           }
          ],
          "barpolar": [
           {
            "marker": {
             "line": {
              "color": "#E5ECF6",
              "width": 0.5
             }
            },
            "type": "barpolar"
           }
          ],
          "carpet": [
           {
            "aaxis": {
             "endlinecolor": "#2a3f5f",
             "gridcolor": "white",
             "linecolor": "white",
             "minorgridcolor": "white",
             "startlinecolor": "#2a3f5f"
            },
            "baxis": {
             "endlinecolor": "#2a3f5f",
             "gridcolor": "white",
             "linecolor": "white",
             "minorgridcolor": "white",
             "startlinecolor": "#2a3f5f"
            },
            "type": "carpet"
           }
          ],
          "choropleth": [
           {
            "colorbar": {
             "outlinewidth": 0,
             "ticks": ""
            },
            "type": "choropleth"
           }
          ],
          "contour": [
           {
            "colorbar": {
             "outlinewidth": 0,
             "ticks": ""
            },
            "colorscale": [
             [
              0,
              "#0d0887"
             ],
             [
              0.1111111111111111,
              "#46039f"
             ],
             [
              0.2222222222222222,
              "#7201a8"
             ],
             [
              0.3333333333333333,
              "#9c179e"
             ],
             [
              0.4444444444444444,
              "#bd3786"
             ],
             [
              0.5555555555555556,
              "#d8576b"
             ],
             [
              0.6666666666666666,
              "#ed7953"
             ],
             [
              0.7777777777777778,
              "#fb9f3a"
             ],
             [
              0.8888888888888888,
              "#fdca26"
             ],
             [
              1,
              "#f0f921"
             ]
            ],
            "type": "contour"
           }
          ],
          "contourcarpet": [
           {
            "colorbar": {
             "outlinewidth": 0,
             "ticks": ""
            },
            "type": "contourcarpet"
           }
          ],
          "heatmap": [
           {
            "colorbar": {
             "outlinewidth": 0,
             "ticks": ""
            },
            "colorscale": [
             [
              0,
              "#0d0887"
             ],
             [
              0.1111111111111111,
              "#46039f"
             ],
             [
              0.2222222222222222,
              "#7201a8"
             ],
             [
              0.3333333333333333,
              "#9c179e"
             ],
             [
              0.4444444444444444,
              "#bd3786"
             ],
             [
              0.5555555555555556,
              "#d8576b"
             ],
             [
              0.6666666666666666,
              "#ed7953"
             ],
             [
              0.7777777777777778,
              "#fb9f3a"
             ],
             [
              0.8888888888888888,
              "#fdca26"
             ],
             [
              1,
              "#f0f921"
             ]
            ],
            "type": "heatmap"
           }
          ],
          "heatmapgl": [
           {
            "colorbar": {
             "outlinewidth": 0,
             "ticks": ""
            },
            "colorscale": [
             [
              0,
              "#0d0887"
             ],
             [
              0.1111111111111111,
              "#46039f"
             ],
             [
              0.2222222222222222,
              "#7201a8"
             ],
             [
              0.3333333333333333,
              "#9c179e"
             ],
             [
              0.4444444444444444,
              "#bd3786"
             ],
             [
              0.5555555555555556,
              "#d8576b"
             ],
             [
              0.6666666666666666,
              "#ed7953"
             ],
             [
              0.7777777777777778,
              "#fb9f3a"
             ],
             [
              0.8888888888888888,
              "#fdca26"
             ],
             [
              1,
              "#f0f921"
             ]
            ],
            "type": "heatmapgl"
           }
          ],
          "histogram": [
           {
            "marker": {
             "colorbar": {
              "outlinewidth": 0,
              "ticks": ""
             }
            },
            "type": "histogram"
           }
          ],
          "histogram2d": [
           {
            "colorbar": {
             "outlinewidth": 0,
             "ticks": ""
            },
            "colorscale": [
             [
              0,
              "#0d0887"
             ],
             [
              0.1111111111111111,
              "#46039f"
             ],
             [
              0.2222222222222222,
              "#7201a8"
             ],
             [
              0.3333333333333333,
              "#9c179e"
             ],
             [
              0.4444444444444444,
              "#bd3786"
             ],
             [
              0.5555555555555556,
              "#d8576b"
             ],
             [
              0.6666666666666666,
              "#ed7953"
             ],
             [
              0.7777777777777778,
              "#fb9f3a"
             ],
             [
              0.8888888888888888,
              "#fdca26"
             ],
             [
              1,
              "#f0f921"
             ]
            ],
            "type": "histogram2d"
           }
          ],
          "histogram2dcontour": [
           {
            "colorbar": {
             "outlinewidth": 0,
             "ticks": ""
            },
            "colorscale": [
             [
              0,
              "#0d0887"
             ],
             [
              0.1111111111111111,
              "#46039f"
             ],
             [
              0.2222222222222222,
              "#7201a8"
             ],
             [
              0.3333333333333333,
              "#9c179e"
             ],
             [
              0.4444444444444444,
              "#bd3786"
             ],
             [
              0.5555555555555556,
              "#d8576b"
             ],
             [
              0.6666666666666666,
              "#ed7953"
             ],
             [
              0.7777777777777778,
              "#fb9f3a"
             ],
             [
              0.8888888888888888,
              "#fdca26"
             ],
             [
              1,
              "#f0f921"
             ]
            ],
            "type": "histogram2dcontour"
           }
          ],
          "mesh3d": [
           {
            "colorbar": {
             "outlinewidth": 0,
             "ticks": ""
            },
            "type": "mesh3d"
           }
          ],
          "parcoords": [
           {
            "line": {
             "colorbar": {
              "outlinewidth": 0,
              "ticks": ""
             }
            },
            "type": "parcoords"
           }
          ],
          "pie": [
           {
            "automargin": true,
            "type": "pie"
           }
          ],
          "scatter": [
           {
            "marker": {
             "colorbar": {
              "outlinewidth": 0,
              "ticks": ""
             }
            },
            "type": "scatter"
           }
          ],
          "scatter3d": [
           {
            "line": {
             "colorbar": {
              "outlinewidth": 0,
              "ticks": ""
             }
            },
            "marker": {
             "colorbar": {
              "outlinewidth": 0,
              "ticks": ""
             }
            },
            "type": "scatter3d"
           }
          ],
          "scattercarpet": [
           {
            "marker": {
             "colorbar": {
              "outlinewidth": 0,
              "ticks": ""
             }
            },
            "type": "scattercarpet"
           }
          ],
          "scattergeo": [
           {
            "marker": {
             "colorbar": {
              "outlinewidth": 0,
              "ticks": ""
             }
            },
            "type": "scattergeo"
           }
          ],
          "scattergl": [
           {
            "marker": {
             "colorbar": {
              "outlinewidth": 0,
              "ticks": ""
             }
            },
            "type": "scattergl"
           }
          ],
          "scattermapbox": [
           {
            "marker": {
             "colorbar": {
              "outlinewidth": 0,
              "ticks": ""
             }
            },
            "type": "scattermapbox"
           }
          ],
          "scatterpolar": [
           {
            "marker": {
             "colorbar": {
              "outlinewidth": 0,
              "ticks": ""
             }
            },
            "type": "scatterpolar"
           }
          ],
          "scatterpolargl": [
           {
            "marker": {
             "colorbar": {
              "outlinewidth": 0,
              "ticks": ""
             }
            },
            "type": "scatterpolargl"
           }
          ],
          "scatterternary": [
           {
            "marker": {
             "colorbar": {
              "outlinewidth": 0,
              "ticks": ""
             }
            },
            "type": "scatterternary"
           }
          ],
          "surface": [
           {
            "colorbar": {
             "outlinewidth": 0,
             "ticks": ""
            },
            "colorscale": [
             [
              0,
              "#0d0887"
             ],
             [
              0.1111111111111111,
              "#46039f"
             ],
             [
              0.2222222222222222,
              "#7201a8"
             ],
             [
              0.3333333333333333,
              "#9c179e"
             ],
             [
              0.4444444444444444,
              "#bd3786"
             ],
             [
              0.5555555555555556,
              "#d8576b"
             ],
             [
              0.6666666666666666,
              "#ed7953"
             ],
             [
              0.7777777777777778,
              "#fb9f3a"
             ],
             [
              0.8888888888888888,
              "#fdca26"
             ],
             [
              1,
              "#f0f921"
             ]
            ],
            "type": "surface"
           }
          ],
          "table": [
           {
            "cells": {
             "fill": {
              "color": "#EBF0F8"
             },
             "line": {
              "color": "white"
             }
            },
            "header": {
             "fill": {
              "color": "#C8D4E3"
             },
             "line": {
              "color": "white"
             }
            },
            "type": "table"
           }
          ]
         },
         "layout": {
          "annotationdefaults": {
           "arrowcolor": "#2a3f5f",
           "arrowhead": 0,
           "arrowwidth": 1
          },
          "autotypenumbers": "strict",
          "coloraxis": {
           "colorbar": {
            "outlinewidth": 0,
            "ticks": ""
           }
          },
          "colorscale": {
           "diverging": [
            [
             0,
             "#8e0152"
            ],
            [
             0.1,
             "#c51b7d"
            ],
            [
             0.2,
             "#de77ae"
            ],
            [
             0.3,
             "#f1b6da"
            ],
            [
             0.4,
             "#fde0ef"
            ],
            [
             0.5,
             "#f7f7f7"
            ],
            [
             0.6,
             "#e6f5d0"
            ],
            [
             0.7,
             "#b8e186"
            ],
            [
             0.8,
             "#7fbc41"
            ],
            [
             0.9,
             "#4d9221"
            ],
            [
             1,
             "#276419"
            ]
           ],
           "sequential": [
            [
             0,
             "#0d0887"
            ],
            [
             0.1111111111111111,
             "#46039f"
            ],
            [
             0.2222222222222222,
             "#7201a8"
            ],
            [
             0.3333333333333333,
             "#9c179e"
            ],
            [
             0.4444444444444444,
             "#bd3786"
            ],
            [
             0.5555555555555556,
             "#d8576b"
            ],
            [
             0.6666666666666666,
             "#ed7953"
            ],
            [
             0.7777777777777778,
             "#fb9f3a"
            ],
            [
             0.8888888888888888,
             "#fdca26"
            ],
            [
             1,
             "#f0f921"
            ]
           ],
           "sequentialminus": [
            [
             0,
             "#0d0887"
            ],
            [
             0.1111111111111111,
             "#46039f"
            ],
            [
             0.2222222222222222,
             "#7201a8"
            ],
            [
             0.3333333333333333,
             "#9c179e"
            ],
            [
             0.4444444444444444,
             "#bd3786"
            ],
            [
             0.5555555555555556,
             "#d8576b"
            ],
            [
             0.6666666666666666,
             "#ed7953"
            ],
            [
             0.7777777777777778,
             "#fb9f3a"
            ],
            [
             0.8888888888888888,
             "#fdca26"
            ],
            [
             1,
             "#f0f921"
            ]
           ]
          },
          "colorway": [
           "#636efa",
           "#EF553B",
           "#00cc96",
           "#ab63fa",
           "#FFA15A",
           "#19d3f3",
           "#FF6692",
           "#B6E880",
           "#FF97FF",
           "#FECB52"
          ],
          "font": {
           "color": "#2a3f5f"
          },
          "geo": {
           "bgcolor": "white",
           "lakecolor": "white",
           "landcolor": "#E5ECF6",
           "showlakes": true,
           "showland": true,
           "subunitcolor": "white"
          },
          "hoverlabel": {
           "align": "left"
          },
          "hovermode": "closest",
          "mapbox": {
           "style": "light"
          },
          "paper_bgcolor": "white",
          "plot_bgcolor": "#E5ECF6",
          "polar": {
           "angularaxis": {
            "gridcolor": "white",
            "linecolor": "white",
            "ticks": ""
           },
           "bgcolor": "#E5ECF6",
           "radialaxis": {
            "gridcolor": "white",
            "linecolor": "white",
            "ticks": ""
           }
          },
          "scene": {
           "xaxis": {
            "backgroundcolor": "#E5ECF6",
            "gridcolor": "white",
            "gridwidth": 2,
            "linecolor": "white",
            "showbackground": true,
            "ticks": "",
            "zerolinecolor": "white"
           },
           "yaxis": {
            "backgroundcolor": "#E5ECF6",
            "gridcolor": "white",
            "gridwidth": 2,
            "linecolor": "white",
            "showbackground": true,
            "ticks": "",
            "zerolinecolor": "white"
           },
           "zaxis": {
            "backgroundcolor": "#E5ECF6",
            "gridcolor": "white",
            "gridwidth": 2,
            "linecolor": "white",
            "showbackground": true,
            "ticks": "",
            "zerolinecolor": "white"
           }
          },
          "shapedefaults": {
           "line": {
            "color": "#2a3f5f"
           }
          },
          "ternary": {
           "aaxis": {
            "gridcolor": "white",
            "linecolor": "white",
            "ticks": ""
           },
           "baxis": {
            "gridcolor": "white",
            "linecolor": "white",
            "ticks": ""
           },
           "bgcolor": "#E5ECF6",
           "caxis": {
            "gridcolor": "white",
            "linecolor": "white",
            "ticks": ""
           }
          },
          "title": {
           "x": 0.05
          },
          "xaxis": {
           "automargin": true,
           "gridcolor": "white",
           "linecolor": "white",
           "ticks": "",
           "title": {
            "standoff": 15
           },
           "zerolinecolor": "white",
           "zerolinewidth": 2
          },
          "yaxis": {
           "automargin": true,
           "gridcolor": "white",
           "linecolor": "white",
           "ticks": "",
           "title": {
            "standoff": 15
           },
           "zerolinecolor": "white",
           "zerolinewidth": 2
          }
         }
        },
        "title": {
         "text": "Weekly Sales"
        },
        "xaxis": {
         "anchor": "y",
         "domain": [
          0,
          1
         ],
         "title": {
          "text": "WC Date"
         }
        },
        "yaxis": {
         "anchor": "x",
         "domain": [
          0,
          1
         ],
         "title": {
          "text": "Sales $"
         }
        }
       }
      },
      "text/html": [
       "<div>                            <div id=\"12f1ad54-4b1e-4c7c-9ea5-60e48a1fc4a2\" class=\"plotly-graph-div\" style=\"height:525px; width:100%;\"></div>            <script type=\"text/javascript\">                require([\"plotly\"], function(Plotly) {                    window.PLOTLYENV=window.PLOTLYENV || {};                                    if (document.getElementById(\"12f1ad54-4b1e-4c7c-9ea5-60e48a1fc4a2\")) {                    Plotly.newPlot(                        \"12f1ad54-4b1e-4c7c-9ea5-60e48a1fc4a2\",                        [{\"hovertemplate\": \"<b>%{hovertext}</b><br><br>State=ACT<br>WC Date=%{x}<br>Sales=%{y}<extra></extra>\", \"hovertext\": [\"Sep\", \"Sep\", \"Sep\", \"Sep\", \"Oct\", \"Oct\", \"Oct\", \"Oct\", \"Oct\", \"Nov\", \"Nov\", \"Nov\", \"Nov\", \"Dec\", \"Dec\", \"Dec\", \"Dec\", \"Dec\", \"Jan\", \"Jan\", \"Jan\", \"Jan\", \"Feb\", \"Feb\", \"Feb\", \"Feb\", \"Mar\", \"Mar\", \"Mar\", \"Mar\", \"Apr\", \"Apr\", \"Apr\", \"Apr\", \"Apr\", \"May\", \"May\", \"May\", \"May\", \"Jun\", \"Jun\", \"Jun\", \"Jun\", \"Jul\", \"Jul\", \"Jul\", \"Jul\", \"Jul\", \"Aug\", \"Aug\", \"Aug\", \"Aug\", \"Sep\", \"Sep\", \"Sep\", \"Sep\", \"Sep\", \"Oct\", \"Oct\", \"Oct\", \"Oct\", \"Nov\", \"Nov\", \"Nov\", \"Nov\", \"Dec\", \"Dec\", \"Dec\", \"Dec\", \"Dec\", \"Jan\", \"Jan\", \"Jan\", \"Jan\", \"Feb\", \"Feb\", \"Feb\", \"Feb\", \"Mar\", \"Mar\", \"Mar\", \"Mar\", \"Mar\", \"Apr\", \"Apr\", \"Apr\", \"Apr\", \"May\", \"May\", \"May\", \"May\", \"Jun\", \"Jun\", \"Jun\", \"Jun\", \"Jun\", \"Jul\", \"Jul\", \"Jul\", \"Jul\", \"Aug\", \"Aug\", \"Aug\", \"Aug\", \"Sep\", \"Sep\", \"Sep\", \"Sep\", \"Sep\", \"Oct\", \"Oct\", \"Oct\", \"Oct\", \"Nov\", \"Nov\", \"Nov\", \"Nov\", \"Dec\", \"Dec\", \"Dec\", \"Dec\", \"Dec\", \"Jan\", \"Jan\", \"Jan\", \"Jan\", \"Feb\", \"Feb\", \"Feb\", \"Feb\", \"Mar\", \"Mar\", \"Mar\", \"Mar\", \"Mar\", \"Apr\", \"Apr\", \"Apr\", \"Apr\", \"May\", \"May\", \"May\", \"May\", \"May\", \"Jun\", \"Jun\", \"Jun\", \"Jun\", \"Jul\", \"Jul\", \"Jul\", \"Jul\", \"Aug\", \"Aug\", \"Aug\", \"Aug\"], \"legendgroup\": \"ACT\", \"line\": {\"color\": \"#636efa\", \"dash\": \"solid\"}, \"mode\": \"lines\", \"name\": \"ACT\", \"orientation\": \"v\", \"showlegend\": true, \"type\": \"scatter\", \"x\": [\"2017-09-03T00:00:00\", \"2017-09-10T00:00:00\", \"2017-09-17T00:00:00\", \"2017-09-24T00:00:00\", \"2017-10-01T00:00:00\", \"2017-10-08T00:00:00\", \"2017-10-15T00:00:00\", \"2017-10-22T00:00:00\", \"2017-10-29T00:00:00\", \"2017-11-05T00:00:00\", \"2017-11-12T00:00:00\", \"2017-11-19T00:00:00\", \"2017-11-26T00:00:00\", \"2017-12-03T00:00:00\", \"2017-12-10T00:00:00\", \"2017-12-17T00:00:00\", \"2017-12-24T00:00:00\", \"2017-12-31T00:00:00\", \"2018-01-07T00:00:00\", \"2018-01-14T00:00:00\", \"2018-01-21T00:00:00\", \"2018-01-28T00:00:00\", \"2018-02-04T00:00:00\", \"2018-02-11T00:00:00\", \"2018-02-18T00:00:00\", \"2018-02-25T00:00:00\", \"2018-03-04T00:00:00\", \"2018-03-11T00:00:00\", \"2018-03-18T00:00:00\", \"2018-03-25T00:00:00\", \"2018-04-01T00:00:00\", \"2018-04-08T00:00:00\", \"2018-04-15T00:00:00\", \"2018-04-22T00:00:00\", \"2018-04-29T00:00:00\", \"2018-05-06T00:00:00\", \"2018-05-13T00:00:00\", \"2018-05-20T00:00:00\", \"2018-05-27T00:00:00\", \"2018-06-03T00:00:00\", \"2018-06-10T00:00:00\", \"2018-06-17T00:00:00\", \"2018-06-24T00:00:00\", \"2018-07-01T00:00:00\", \"2018-07-08T00:00:00\", \"2018-07-15T00:00:00\", \"2018-07-22T00:00:00\", \"2018-07-29T00:00:00\", \"2018-08-05T00:00:00\", \"2018-08-12T00:00:00\", \"2018-08-19T00:00:00\", \"2018-08-26T00:00:00\", \"2018-09-02T00:00:00\", \"2018-09-09T00:00:00\", \"2018-09-16T00:00:00\", \"2018-09-23T00:00:00\", \"2018-09-30T00:00:00\", \"2018-10-07T00:00:00\", \"2018-10-14T00:00:00\", \"2018-10-21T00:00:00\", \"2018-10-28T00:00:00\", \"2018-11-04T00:00:00\", \"2018-11-11T00:00:00\", \"2018-11-18T00:00:00\", \"2018-11-25T00:00:00\", \"2018-12-02T00:00:00\", \"2018-12-09T00:00:00\", \"2018-12-16T00:00:00\", \"2018-12-23T00:00:00\", \"2018-12-30T00:00:00\", \"2019-01-06T00:00:00\", \"2019-01-13T00:00:00\", \"2019-01-20T00:00:00\", \"2019-01-27T00:00:00\", \"2019-02-03T00:00:00\", \"2019-02-10T00:00:00\", \"2019-02-17T00:00:00\", \"2019-02-24T00:00:00\", \"2019-03-03T00:00:00\", \"2019-03-10T00:00:00\", \"2019-03-17T00:00:00\", \"2019-03-24T00:00:00\", \"2019-03-31T00:00:00\", \"2019-04-07T00:00:00\", \"2019-04-14T00:00:00\", \"2019-04-21T00:00:00\", \"2019-04-28T00:00:00\", \"2019-05-05T00:00:00\", \"2019-05-12T00:00:00\", \"2019-05-19T00:00:00\", \"2019-05-26T00:00:00\", \"2019-06-02T00:00:00\", \"2019-06-09T00:00:00\", \"2019-06-16T00:00:00\", \"2019-06-23T00:00:00\", \"2019-06-30T00:00:00\", \"2019-07-07T00:00:00\", \"2019-07-14T00:00:00\", \"2019-07-21T00:00:00\", \"2019-07-28T00:00:00\", \"2019-08-04T00:00:00\", \"2019-08-11T00:00:00\", \"2019-08-18T00:00:00\", \"2019-08-25T00:00:00\", \"2019-09-01T00:00:00\", \"2019-09-08T00:00:00\", \"2019-09-15T00:00:00\", \"2019-09-22T00:00:00\", \"2019-09-29T00:00:00\", \"2019-10-06T00:00:00\", \"2019-10-13T00:00:00\", \"2019-10-20T00:00:00\", \"2019-10-27T00:00:00\", \"2019-11-03T00:00:00\", \"2019-11-10T00:00:00\", \"2019-11-17T00:00:00\", \"2019-11-24T00:00:00\", \"2019-12-01T00:00:00\", \"2019-12-08T00:00:00\", \"2019-12-15T00:00:00\", \"2019-12-22T00:00:00\", \"2019-12-29T00:00:00\", \"2020-01-05T00:00:00\", \"2020-01-12T00:00:00\", \"2020-01-19T00:00:00\", \"2020-01-26T00:00:00\", \"2020-02-02T00:00:00\", \"2020-02-09T00:00:00\", \"2020-02-16T00:00:00\", \"2020-02-23T00:00:00\", \"2020-03-01T00:00:00\", \"2020-03-08T00:00:00\", \"2020-03-15T00:00:00\", \"2020-03-22T00:00:00\", \"2020-03-29T00:00:00\", \"2020-04-05T00:00:00\", \"2020-04-12T00:00:00\", \"2020-04-19T00:00:00\", \"2020-04-26T00:00:00\", \"2020-05-03T00:00:00\", \"2020-05-10T00:00:00\", \"2020-05-17T00:00:00\", \"2020-05-24T00:00:00\", \"2020-05-31T00:00:00\", \"2020-06-07T00:00:00\", \"2020-06-14T00:00:00\", \"2020-06-21T00:00:00\", \"2020-06-28T00:00:00\", \"2020-07-05T00:00:00\", \"2020-07-12T00:00:00\", \"2020-07-19T00:00:00\", \"2020-07-26T00:00:00\", \"2020-08-02T00:00:00\", \"2020-08-09T00:00:00\", \"2020-08-16T00:00:00\", \"2020-08-23T00:00:00\"], \"xaxis\": \"x\", \"y\": [454505.5375427785, 480922.4681314023, 442120.9570010478, 614161.3280557629, 573988.744290248, 466411.4873569101, 575677.5519533862, 478536.0738202567, 490950.1306416955, 458841.7608109359, 497614.0522966317, 522541.6338910526, 512728.5092110469, 581790.933971901, 538689.7785409833, 603831.8797390879, 611642.3336761048, 661256.3544514364, 614483.7512476275, 564046.6048345199, 599849.9407278548, 563327.6385958384, 539383.2226870244, 465661.0216568092, 495986.7961048419, 448421.5997257916, 446623.6534469067, 501089.937816209, 414056.4131695812, 436317.2794909275, 499790.5147760394, 439945.471144305, 497025.4832934965, 515167.1689122569, 431483.3375085416, 433090.4202947091, 418630.337470207, 421646.6221637158, 473770.0059273121, 452811.1176765992, 528988.6824766202, 479178.7790022149, 543856.9887167324, 502527.8904788496, 550195.8717375096, 587563.7122998445, 493150.7197184591, 471170.2589023164, 468857.9123391861, 484581.3811286866, 447790.5176692519, 450784.944274955, 474514.7134835325, 455111.5185876278, 452136.8047693413, 526127.1978056179, 615581.7485535417, 526651.524694211, 547165.6119281005, 486649.649130376, 436648.2935190714, 469922.9821370994, 490827.1380079355, 537654.2014947773, 536135.1115711568, 478120.8636629163, 505845.549018945, 546843.3845500132, 573997.5241050302, 693788.4703966628, 588263.4749914716, 533921.2071996923, 509951.1510951616, 577920.775327574, 490068.311036153, 498857.0690016284, 490396.819260065, 465314.0320098262, 439179.3469201128, 484016.3841036099, 432037.6295649954, 455095.069215073, 454306.03814332, 471657.3229200958, 501081.0906050984, 618648.6788841161, 404869.9758945088, 394396.9488975088, 393897.592566198, 396753.2021103232, 476042.5303707364, 414711.4887495788, 476687.766147064, 462354.1917032981, 506840.8604006143, 484262.601927169, 542177.4352041754, 571389.540798124, 453069.6618826015, 468326.5044342316, 444568.4755300839, 448361.8619566447, 442939.0744452621, 443413.7061418867, 431621.8937506067, 438662.8536481229, 442381.892346695, 421946.1367129548, 536924.4162539764, 551575.1313889401, 452742.9401760062, 440671.8113022766, 438424.2405207276, 524237.6436420939, 502986.2430753183, 523678.2536080267, 544077.9283634855, 485728.1837003603, 475301.3365999425, 499375.4026998025, 556849.2358228553, 597075.0136013681, 521536.4506043365, 565854.2128038037, 501635.7704362937, 514592.0318385925, 502951.3917628974, 493995.8218335877, 462329.0693709616, 462619.2424788662, 447645.9068106326, 480412.0799410933, 479545.515253911, 478174.5515566735, 345116.3429841545, 368523.036063622, 436571.0538314994, 455092.7219214196, 572520.6357611774, 517235.2849160776, 539847.2519793534, 608463.0848899594, 609804.8748353553, 562637.7265698756, 562835.2360615823, 563458.8424821763, 623480.4126546595, 647100.0067067127, 635751.0916838956, 641562.153849845, 561381.8813274757, 563310.2900264057, 568197.1793650365, 592292.52902208, 587753.1335696278, 571834.0986081482], \"yaxis\": \"y\"}, {\"hovertemplate\": \"<b>%{hovertext}</b><br><br>State=NSW<br>WC Date=%{x}<br>Sales=%{y}<extra></extra>\", \"hovertext\": [\"Sep\", \"Sep\", \"Sep\", \"Sep\", \"Oct\", \"Oct\", \"Oct\", \"Oct\", \"Oct\", \"Nov\", \"Nov\", \"Nov\", \"Nov\", \"Dec\", \"Dec\", \"Dec\", \"Dec\", \"Dec\", \"Jan\", \"Jan\", \"Jan\", \"Jan\", \"Feb\", \"Feb\", \"Feb\", \"Feb\", \"Mar\", \"Mar\", \"Mar\", \"Mar\", \"Apr\", \"Apr\", \"Apr\", \"Apr\", \"Apr\", \"May\", \"May\", \"May\", \"May\", \"Jun\", \"Jun\", \"Jun\", \"Jun\", \"Jul\", \"Jul\", \"Jul\", \"Jul\", \"Jul\", \"Aug\", \"Aug\", \"Aug\", \"Aug\", \"Sep\", \"Sep\", \"Sep\", \"Sep\", \"Sep\", \"Oct\", \"Oct\", \"Oct\", \"Oct\", \"Nov\", \"Nov\", \"Nov\", \"Nov\", \"Dec\", \"Dec\", \"Dec\", \"Dec\", \"Dec\", \"Jan\", \"Jan\", \"Jan\", \"Jan\", \"Feb\", \"Feb\", \"Feb\", \"Feb\", \"Mar\", \"Mar\", \"Mar\", \"Mar\", \"Mar\", \"Apr\", \"Apr\", \"Apr\", \"Apr\", \"May\", \"May\", \"May\", \"May\", \"Jun\", \"Jun\", \"Jun\", \"Jun\", \"Jun\", \"Jul\", \"Jul\", \"Jul\", \"Jul\", \"Aug\", \"Aug\", \"Aug\", \"Aug\", \"Sep\", \"Sep\", \"Sep\", \"Sep\", \"Sep\", \"Oct\", \"Oct\", \"Oct\", \"Oct\", \"Nov\", \"Nov\", \"Nov\", \"Nov\", \"Dec\", \"Dec\", \"Dec\", \"Dec\", \"Dec\", \"Jan\", \"Jan\", \"Jan\", \"Jan\", \"Feb\", \"Feb\", \"Feb\", \"Feb\", \"Mar\", \"Mar\", \"Mar\", \"Mar\", \"Mar\", \"Apr\", \"Apr\", \"Apr\", \"Apr\", \"May\", \"May\", \"May\", \"May\", \"May\", \"Jun\", \"Jun\", \"Jun\", \"Jun\", \"Jul\", \"Jul\", \"Jul\", \"Jul\", \"Aug\", \"Aug\", \"Aug\", \"Aug\"], \"legendgroup\": \"NSW\", \"line\": {\"color\": \"#EF553B\", \"dash\": \"solid\"}, \"mode\": \"lines\", \"name\": \"NSW\", \"orientation\": \"v\", \"showlegend\": true, \"type\": \"scatter\", \"x\": [\"2017-09-03T00:00:00\", \"2017-09-10T00:00:00\", \"2017-09-17T00:00:00\", \"2017-09-24T00:00:00\", \"2017-10-01T00:00:00\", \"2017-10-08T00:00:00\", \"2017-10-15T00:00:00\", \"2017-10-22T00:00:00\", \"2017-10-29T00:00:00\", \"2017-11-05T00:00:00\", \"2017-11-12T00:00:00\", \"2017-11-19T00:00:00\", \"2017-11-26T00:00:00\", \"2017-12-03T00:00:00\", \"2017-12-10T00:00:00\", \"2017-12-17T00:00:00\", \"2017-12-24T00:00:00\", \"2017-12-31T00:00:00\", \"2018-01-07T00:00:00\", \"2018-01-14T00:00:00\", \"2018-01-21T00:00:00\", \"2018-01-28T00:00:00\", \"2018-02-04T00:00:00\", \"2018-02-11T00:00:00\", \"2018-02-18T00:00:00\", \"2018-02-25T00:00:00\", \"2018-03-04T00:00:00\", \"2018-03-11T00:00:00\", \"2018-03-18T00:00:00\", \"2018-03-25T00:00:00\", \"2018-04-01T00:00:00\", \"2018-04-08T00:00:00\", \"2018-04-15T00:00:00\", \"2018-04-22T00:00:00\", \"2018-04-29T00:00:00\", \"2018-05-06T00:00:00\", \"2018-05-13T00:00:00\", \"2018-05-20T00:00:00\", \"2018-05-27T00:00:00\", \"2018-06-03T00:00:00\", \"2018-06-10T00:00:00\", \"2018-06-17T00:00:00\", \"2018-06-24T00:00:00\", \"2018-07-01T00:00:00\", \"2018-07-08T00:00:00\", \"2018-07-15T00:00:00\", \"2018-07-22T00:00:00\", \"2018-07-29T00:00:00\", \"2018-08-05T00:00:00\", \"2018-08-12T00:00:00\", \"2018-08-19T00:00:00\", \"2018-08-26T00:00:00\", \"2018-09-02T00:00:00\", \"2018-09-09T00:00:00\", \"2018-09-16T00:00:00\", \"2018-09-23T00:00:00\", \"2018-09-30T00:00:00\", \"2018-10-07T00:00:00\", \"2018-10-14T00:00:00\", \"2018-10-21T00:00:00\", \"2018-10-28T00:00:00\", \"2018-11-04T00:00:00\", \"2018-11-11T00:00:00\", \"2018-11-18T00:00:00\", \"2018-11-25T00:00:00\", \"2018-12-02T00:00:00\", \"2018-12-09T00:00:00\", \"2018-12-16T00:00:00\", \"2018-12-23T00:00:00\", \"2018-12-30T00:00:00\", \"2019-01-06T00:00:00\", \"2019-01-13T00:00:00\", \"2019-01-20T00:00:00\", \"2019-01-27T00:00:00\", \"2019-02-03T00:00:00\", \"2019-02-10T00:00:00\", \"2019-02-17T00:00:00\", \"2019-02-24T00:00:00\", \"2019-03-03T00:00:00\", \"2019-03-10T00:00:00\", \"2019-03-17T00:00:00\", \"2019-03-24T00:00:00\", \"2019-03-31T00:00:00\", \"2019-04-07T00:00:00\", \"2019-04-14T00:00:00\", \"2019-04-21T00:00:00\", \"2019-04-28T00:00:00\", \"2019-05-05T00:00:00\", \"2019-05-12T00:00:00\", \"2019-05-19T00:00:00\", \"2019-05-26T00:00:00\", \"2019-06-02T00:00:00\", \"2019-06-09T00:00:00\", \"2019-06-16T00:00:00\", \"2019-06-23T00:00:00\", \"2019-06-30T00:00:00\", \"2019-07-07T00:00:00\", \"2019-07-14T00:00:00\", \"2019-07-21T00:00:00\", \"2019-07-28T00:00:00\", \"2019-08-04T00:00:00\", \"2019-08-11T00:00:00\", \"2019-08-18T00:00:00\", \"2019-08-25T00:00:00\", \"2019-09-01T00:00:00\", \"2019-09-08T00:00:00\", \"2019-09-15T00:00:00\", \"2019-09-22T00:00:00\", \"2019-09-29T00:00:00\", \"2019-10-06T00:00:00\", \"2019-10-13T00:00:00\", \"2019-10-20T00:00:00\", \"2019-10-27T00:00:00\", \"2019-11-03T00:00:00\", \"2019-11-10T00:00:00\", \"2019-11-17T00:00:00\", \"2019-11-24T00:00:00\", \"2019-12-01T00:00:00\", \"2019-12-08T00:00:00\", \"2019-12-15T00:00:00\", \"2019-12-22T00:00:00\", \"2019-12-29T00:00:00\", \"2020-01-05T00:00:00\", \"2020-01-12T00:00:00\", \"2020-01-19T00:00:00\", \"2020-01-26T00:00:00\", \"2020-02-02T00:00:00\", \"2020-02-09T00:00:00\", \"2020-02-16T00:00:00\", \"2020-02-23T00:00:00\", \"2020-03-01T00:00:00\", \"2020-03-08T00:00:00\", \"2020-03-15T00:00:00\", \"2020-03-22T00:00:00\", \"2020-03-29T00:00:00\", \"2020-04-05T00:00:00\", \"2020-04-12T00:00:00\", \"2020-04-19T00:00:00\", \"2020-04-26T00:00:00\", \"2020-05-03T00:00:00\", \"2020-05-10T00:00:00\", \"2020-05-17T00:00:00\", \"2020-05-24T00:00:00\", \"2020-05-31T00:00:00\", \"2020-06-07T00:00:00\", \"2020-06-14T00:00:00\", \"2020-06-21T00:00:00\", \"2020-06-28T00:00:00\", \"2020-07-05T00:00:00\", \"2020-07-12T00:00:00\", \"2020-07-19T00:00:00\", \"2020-07-26T00:00:00\", \"2020-08-02T00:00:00\", \"2020-08-09T00:00:00\", \"2020-08-16T00:00:00\", \"2020-08-23T00:00:00\"], \"xaxis\": \"x\", \"y\": [2634368.840183024, 2760182.669930118, 2770334.092689774, 3176641.243278258, 3264356.044595119, 2869931.609129978, 3324068.967269962, 2932100.11279284, 2833044.190054961, 2711729.268880063, 2769392.027306489, 2685361.008361685, 2708259.27072389, 2708928.649296758, 2591538.293501503, 2824538.681211269, 3139001.982756743, 3267604.434809093, 2967120.845967592, 2955578.98849901, 2972358.186651, 2685321.195192046, 2606375.65915893, 2535183.676399176, 2720039.218890184, 2874615.231815928, 2718254.401503748, 2588530.159090815, 2425536.830097856, 2373594.915467833, 2277273.849680846, 2342689.724580286, 2626058.708062707, 2885867.13373568, 2480101.899251407, 2396998.95681908, 2206241.951593115, 2267188.962317278, 2306777.045018571, 2466560.851095221, 2698677.587325904, 2585387.279373, 2902648.542579825, 2635355.652642215, 3003952.570769249, 3107060.768167735, 2614437.290611091, 2533028.918811129, 2503232.052811027, 2407668.718695499, 2568656.467749375, 2566002.860443762, 2637542.77230812, 2497129.139631405, 2582038.535615719, 2721972.898203935, 3194284.660691672, 2849754.134712133, 2976573.543000213, 2641698.312798798, 2473220.947057426, 2489937.094243774, 2628412.960279277, 2777864.045104836, 2743092.531527222, 2479732.522722125, 2498179.236194718, 2650415.988756866, 2829730.337627514, 3199229.247254669, 2965153.067095987, 2700601.323781384, 2752983.760156098, 2908017.642712957, 2393248.815399134, 2601796.372923764, 2816764.091487347, 2706821.881260899, 2488000.731786813, 2431546.562163545, 2293915.175271454, 2374437.704836953, 2290643.888921742, 2303084.746520452, 2667261.281390637, 2926976.797311885, 2246979.393866457, 2194879.158025778, 2074167.188045989, 2189993.905197012, 2192346.341715035, 2283798.333151146, 2474775.642198499, 2258362.0058612, 2612628.542620118, 2498177.779799757, 2779525.406261482, 2831082.299887066, 2400010.702203261, 2431621.266151989, 2416853.005066616, 2343154.215106094, 2310535.502308555, 2453948.263104522, 2297872.454003762, 2419297.036745709, 2402847.39247223, 2492744.652081301, 2867760.597305155, 2973968.438278548, 2334842.709824163, 2309118.541051005, 2285584.819806868, 2603077.282701191, 2551206.870508204, 2526078.735916106, 2657056.073255902, 2513572.914824786, 2429701.081540268, 2614876.439223284, 2882788.294725833, 3284553.828919528, 2881038.699104385, 2859809.100474077, 2731322.770021687, 2404740.069038821, 2431564.151396827, 2377516.143491353, 2608994.743909604, 2516576.09839022, 2379023.177337916, 2315196.40272791, 2456017.720800763, 2220530.568650034, 1701011.572556342, 1761310.019759649, 2001726.815884218, 2301765.934298746, 2651172.772551851, 2743252.038333858, 2853330.470262835, 3140282.498625233, 3233130.237391281, 2837332.082418947, 3159768.506027024, 3069332.639419259, 3235238.668231891, 3293143.103421631, 3428334.409442499, 3409453.198293967, 2749988.691673775, 2761366.61097433, 2873655.990786887, 2773094.180603982, 2718479.208870341, 2785053.865600151], \"yaxis\": \"y\"}, {\"hovertemplate\": \"<b>%{hovertext}</b><br><br>State=QLD<br>WC Date=%{x}<br>Sales=%{y}<extra></extra>\", \"hovertext\": [\"Sep\", \"Sep\", \"Sep\", \"Sep\", \"Oct\", \"Oct\", \"Oct\", \"Oct\", \"Oct\", \"Nov\", \"Nov\", \"Nov\", \"Nov\", \"Dec\", \"Dec\", \"Dec\", \"Dec\", \"Dec\", \"Jan\", \"Jan\", \"Jan\", \"Jan\", \"Feb\", \"Feb\", \"Feb\", \"Feb\", \"Mar\", \"Mar\", \"Mar\", \"Mar\", \"Apr\", \"Apr\", \"Apr\", \"Apr\", \"Apr\", \"May\", \"May\", \"May\", \"May\", \"Jun\", \"Jun\", \"Jun\", \"Jun\", \"Jul\", \"Jul\", \"Jul\", \"Jul\", \"Jul\", \"Aug\", \"Aug\", \"Aug\", \"Aug\", \"Sep\", \"Sep\", \"Sep\", \"Sep\", \"Sep\", \"Oct\", \"Oct\", \"Oct\", \"Oct\", \"Nov\", \"Nov\", \"Nov\", \"Nov\", \"Dec\", \"Dec\", \"Dec\", \"Dec\", \"Dec\", \"Jan\", \"Jan\", \"Jan\", \"Jan\", \"Feb\", \"Feb\", \"Feb\", \"Feb\", \"Mar\", \"Mar\", \"Mar\", \"Mar\", \"Mar\", \"Apr\", \"Apr\", \"Apr\", \"Apr\", \"May\", \"May\", \"May\", \"May\", \"Jun\", \"Jun\", \"Jun\", \"Jun\", \"Jun\", \"Jul\", \"Jul\", \"Jul\", \"Jul\", \"Aug\", \"Aug\", \"Aug\", \"Aug\", \"Sep\", \"Sep\", \"Sep\", \"Sep\", \"Sep\", \"Oct\", \"Oct\", \"Oct\", \"Oct\", \"Nov\", \"Nov\", \"Nov\", \"Nov\", \"Dec\", \"Dec\", \"Dec\", \"Dec\", \"Dec\", \"Jan\", \"Jan\", \"Jan\", \"Jan\", \"Feb\", \"Feb\", \"Feb\", \"Feb\", \"Mar\", \"Mar\", \"Mar\", \"Mar\", \"Mar\", \"Apr\", \"Apr\", \"Apr\", \"Apr\", \"May\", \"May\", \"May\", \"May\", \"May\", \"Jun\", \"Jun\", \"Jun\", \"Jun\", \"Jul\", \"Jul\", \"Jul\", \"Jul\", \"Aug\", \"Aug\", \"Aug\", \"Aug\"], \"legendgroup\": \"QLD\", \"line\": {\"color\": \"#00cc96\", \"dash\": \"solid\"}, \"mode\": \"lines\", \"name\": \"QLD\", \"orientation\": \"v\", \"showlegend\": true, \"type\": \"scatter\", \"x\": [\"2017-09-03T00:00:00\", \"2017-09-10T00:00:00\", \"2017-09-17T00:00:00\", \"2017-09-24T00:00:00\", \"2017-10-01T00:00:00\", \"2017-10-08T00:00:00\", \"2017-10-15T00:00:00\", \"2017-10-22T00:00:00\", \"2017-10-29T00:00:00\", \"2017-11-05T00:00:00\", \"2017-11-12T00:00:00\", \"2017-11-19T00:00:00\", \"2017-11-26T00:00:00\", \"2017-12-03T00:00:00\", \"2017-12-10T00:00:00\", \"2017-12-17T00:00:00\", \"2017-12-24T00:00:00\", \"2017-12-31T00:00:00\", \"2018-01-07T00:00:00\", \"2018-01-14T00:00:00\", \"2018-01-21T00:00:00\", \"2018-01-28T00:00:00\", \"2018-02-04T00:00:00\", \"2018-02-11T00:00:00\", \"2018-02-18T00:00:00\", \"2018-02-25T00:00:00\", \"2018-03-04T00:00:00\", \"2018-03-11T00:00:00\", \"2018-03-18T00:00:00\", \"2018-03-25T00:00:00\", \"2018-04-01T00:00:00\", \"2018-04-08T00:00:00\", \"2018-04-15T00:00:00\", \"2018-04-22T00:00:00\", \"2018-04-29T00:00:00\", \"2018-05-06T00:00:00\", \"2018-05-13T00:00:00\", \"2018-05-20T00:00:00\", \"2018-05-27T00:00:00\", \"2018-06-03T00:00:00\", \"2018-06-10T00:00:00\", \"2018-06-17T00:00:00\", \"2018-06-24T00:00:00\", \"2018-07-01T00:00:00\", \"2018-07-08T00:00:00\", \"2018-07-15T00:00:00\", \"2018-07-22T00:00:00\", \"2018-07-29T00:00:00\", \"2018-08-05T00:00:00\", \"2018-08-12T00:00:00\", \"2018-08-19T00:00:00\", \"2018-08-26T00:00:00\", \"2018-09-02T00:00:00\", \"2018-09-09T00:00:00\", \"2018-09-16T00:00:00\", \"2018-09-23T00:00:00\", \"2018-09-30T00:00:00\", \"2018-10-07T00:00:00\", \"2018-10-14T00:00:00\", \"2018-10-21T00:00:00\", \"2018-10-28T00:00:00\", \"2018-11-04T00:00:00\", \"2018-11-11T00:00:00\", \"2018-11-18T00:00:00\", \"2018-11-25T00:00:00\", \"2018-12-02T00:00:00\", \"2018-12-09T00:00:00\", \"2018-12-16T00:00:00\", \"2018-12-23T00:00:00\", \"2018-12-30T00:00:00\", \"2019-01-06T00:00:00\", \"2019-01-13T00:00:00\", \"2019-01-20T00:00:00\", \"2019-01-27T00:00:00\", \"2019-02-03T00:00:00\", \"2019-02-10T00:00:00\", \"2019-02-17T00:00:00\", \"2019-02-24T00:00:00\", \"2019-03-03T00:00:00\", \"2019-03-10T00:00:00\", \"2019-03-17T00:00:00\", \"2019-03-24T00:00:00\", \"2019-03-31T00:00:00\", \"2019-04-07T00:00:00\", \"2019-04-14T00:00:00\", \"2019-04-21T00:00:00\", \"2019-04-28T00:00:00\", \"2019-05-05T00:00:00\", \"2019-05-12T00:00:00\", \"2019-05-19T00:00:00\", \"2019-05-26T00:00:00\", \"2019-06-02T00:00:00\", \"2019-06-09T00:00:00\", \"2019-06-16T00:00:00\", \"2019-06-23T00:00:00\", \"2019-06-30T00:00:00\", \"2019-07-07T00:00:00\", \"2019-07-14T00:00:00\", \"2019-07-21T00:00:00\", \"2019-07-28T00:00:00\", \"2019-08-04T00:00:00\", \"2019-08-11T00:00:00\", \"2019-08-18T00:00:00\", \"2019-08-25T00:00:00\", \"2019-09-01T00:00:00\", \"2019-09-08T00:00:00\", \"2019-09-15T00:00:00\", \"2019-09-22T00:00:00\", \"2019-09-29T00:00:00\", \"2019-10-06T00:00:00\", \"2019-10-13T00:00:00\", \"2019-10-20T00:00:00\", \"2019-10-27T00:00:00\", \"2019-11-03T00:00:00\", \"2019-11-10T00:00:00\", \"2019-11-17T00:00:00\", \"2019-11-24T00:00:00\", \"2019-12-01T00:00:00\", \"2019-12-08T00:00:00\", \"2019-12-15T00:00:00\", \"2019-12-22T00:00:00\", \"2019-12-29T00:00:00\", \"2020-01-05T00:00:00\", \"2020-01-12T00:00:00\", \"2020-01-19T00:00:00\", \"2020-01-26T00:00:00\", \"2020-02-02T00:00:00\", \"2020-02-09T00:00:00\", \"2020-02-16T00:00:00\", \"2020-02-23T00:00:00\", \"2020-03-01T00:00:00\", \"2020-03-08T00:00:00\", \"2020-03-15T00:00:00\", \"2020-03-22T00:00:00\", \"2020-03-29T00:00:00\", \"2020-04-05T00:00:00\", \"2020-04-12T00:00:00\", \"2020-04-19T00:00:00\", \"2020-04-26T00:00:00\", \"2020-05-03T00:00:00\", \"2020-05-10T00:00:00\", \"2020-05-17T00:00:00\", \"2020-05-24T00:00:00\", \"2020-05-31T00:00:00\", \"2020-06-07T00:00:00\", \"2020-06-14T00:00:00\", \"2020-06-21T00:00:00\", \"2020-06-28T00:00:00\", \"2020-07-05T00:00:00\", \"2020-07-12T00:00:00\", \"2020-07-19T00:00:00\", \"2020-07-26T00:00:00\", \"2020-08-02T00:00:00\", \"2020-08-09T00:00:00\", \"2020-08-16T00:00:00\", \"2020-08-23T00:00:00\"], \"xaxis\": \"x\", \"y\": [1456749.821680669, 1534787.689347492, 1774839.88347618, 1753178.898349389, 1691050.513187018, 1507033.432421429, 1956695.427289216, 1648118.386818791, 1534104.740191472, 1568471.932253168, 1688016.093833182, 1605426.150268957, 1638023.181773366, 1610021.26414592, 1665792.631000376, 1655232.307499588, 1815848.869384465, 1968391.071732298, 1755162.380699401, 1629537.189071234, 1595061.987089272, 1543900.35979147, 1622902.254502431, 1469509.094261891, 1555863.718180119, 1472956.492495561, 1503381.881944096, 1526487.825585188, 1421150.949279774, 1375277.156382017, 1642219.133245151, 1531576.404075768, 1342945.324496384, 1333821.055650478, 1426081.783077653, 1189413.185666636, 1309141.164662231, 1328817.968454379, 1403321.867336487, 1416861.672395708, 1397492.448613371, 1602144.160934377, 1797459.868533632, 1827154.183807981, 1967372.385809524, 1639003.453335985, 1544004.085250225, 1535332.476008081, 1462526.615880833, 1633045.715241883, 1453677.514997708, 1566857.324099025, 1507040.970986787, 1500157.605232932, 1470746.067295998, 1795086.600222788, 1846409.386916161, 1482298.166746099, 1858735.458407412, 1454633.223085482, 1359207.536770366, 1463013.997196933, 1490896.909712704, 1763867.974841653, 1532319.95840338, 1449834.925151109, 1458036.880449054, 1558378.200347072, 1605247.042552714, 2002828.751784388, 1657915.737934858, 1601454.993859546, 1483636.053363327, 1567159.868827462, 1438329.882629128, 1374760.422996332, 1492654.393962838, 1461048.638665069, 1327976.341461795, 1334490.303921555, 1316664.331294548, 1373770.744418486, 1323576.782596606, 1654427.42205194, 1594175.910451714, 1676458.619381744, 1375497.584773819, 1187534.732224661, 1224850.262441781, 1229307.00406177, 1208459.536688026, 1343753.958270939, 1323108.100584083, 1379676.677990926, 1632373.080446712, 1656075.311820859, 1709375.744867692, 1603322.806574652, 1479491.473559025, 1477875.569902922, 1415485.685571061, 1528399.089550004, 1386056.499767869, 1435886.342924406, 1278234.415688925, 1330873.566445217, 1404568.937617396, 1604997.169882492, 1666193.96166078, 1561122.32832615, 1402166.074982404, 1388613.046347617, 1406763.730186666, 1511576.258024004, 1512120.27588973, 1475401.951366117, 1543189.18018134, 1484399.693175397, 1467696.625796469, 1537257.299141634, 1581484.646226852, 2056957.858462906, 1628218.821743747, 1695370.622457228, 1561296.683547747, 1410114.362203361, 1408628.515268111, 1412105.905554767, 1409634.897464058, 1418293.485998195, 1305164.304014362, 1302575.473703268, 1201520.335257932, 1110406.118750007, 922123.1204248591, 944317.2157832992, 1186213.619117522, 1074705.012568912, 1702624.973825812, 1669242.69398891, 1725955.375488056, 2053087.684033857, 2013970.126972645, 1904467.812753475, 1910878.373662383, 1904510.761670838, 2086928.612175911, 2184875.449400435, 2187607.983157181, 2234889.898019568, 2223249.674250581, 2027476.864124658, 1857994.951040521, 2158145.842390456, 1874397.593467169, 1592760.490111639], \"yaxis\": \"y\"}, {\"hovertemplate\": \"<b>%{hovertext}</b><br><br>State=SA<br>WC Date=%{x}<br>Sales=%{y}<extra></extra>\", \"hovertext\": [\"Apr\", \"Apr\", \"Apr\", \"Apr\", \"May\", \"May\", \"May\", \"May\", \"Jun\", \"Jun\", \"Jun\", \"Jun\", \"Jul\", \"Jul\", \"Jul\", \"Jul\", \"Jul\", \"Aug\", \"Aug\", \"Aug\", \"Aug\", \"Sep\", \"Sep\", \"Sep\", \"Sep\", \"Sep\", \"Oct\", \"Oct\", \"Oct\", \"Oct\", \"Nov\", \"Nov\", \"Nov\", \"Nov\", \"Dec\", \"Dec\", \"Dec\", \"Dec\", \"Dec\", \"Jan\", \"Jan\", \"Jan\", \"Jan\", \"Feb\", \"Feb\", \"Feb\", \"Feb\", \"Mar\", \"Mar\", \"Mar\", \"Mar\", \"Mar\", \"Apr\", \"Apr\", \"Apr\", \"Apr\", \"May\", \"May\", \"May\", \"May\", \"Jun\", \"Jun\", \"Jun\", \"Jun\", \"Jun\", \"Jul\", \"Jul\", \"Jul\", \"Jul\", \"Aug\", \"Aug\", \"Aug\", \"Aug\", \"Sep\", \"Sep\", \"Sep\", \"Sep\", \"Sep\", \"Oct\", \"Oct\", \"Oct\", \"Oct\", \"Nov\", \"Nov\", \"Nov\", \"Nov\", \"Dec\", \"Dec\", \"Dec\", \"Dec\", \"Dec\", \"Jan\", \"Jan\", \"Jan\", \"Jan\", \"Feb\", \"Feb\", \"Feb\", \"Feb\", \"Mar\", \"Mar\", \"Mar\", \"Mar\", \"Mar\", \"Apr\", \"Apr\", \"Apr\", \"Apr\", \"May\", \"May\", \"May\", \"May\", \"May\", \"Jun\", \"Jun\", \"Jun\", \"Jun\", \"Jul\", \"Jul\", \"Jul\", \"Jul\", \"Aug\", \"Aug\", \"Aug\", \"Aug\"], \"legendgroup\": \"SA\", \"line\": {\"color\": \"#ab63fa\", \"dash\": \"solid\"}, \"mode\": \"lines\", \"name\": \"SA\", \"orientation\": \"v\", \"showlegend\": true, \"type\": \"scatter\", \"x\": [\"2018-04-08T00:00:00\", \"2018-04-15T00:00:00\", \"2018-04-22T00:00:00\", \"2018-04-29T00:00:00\", \"2018-05-06T00:00:00\", \"2018-05-13T00:00:00\", \"2018-05-20T00:00:00\", \"2018-05-27T00:00:00\", \"2018-06-03T00:00:00\", \"2018-06-10T00:00:00\", \"2018-06-17T00:00:00\", \"2018-06-24T00:00:00\", \"2018-07-01T00:00:00\", \"2018-07-08T00:00:00\", \"2018-07-15T00:00:00\", \"2018-07-22T00:00:00\", \"2018-07-29T00:00:00\", \"2018-08-05T00:00:00\", \"2018-08-12T00:00:00\", \"2018-08-19T00:00:00\", \"2018-08-26T00:00:00\", \"2018-09-02T00:00:00\", \"2018-09-09T00:00:00\", \"2018-09-16T00:00:00\", \"2018-09-23T00:00:00\", \"2018-09-30T00:00:00\", \"2018-10-07T00:00:00\", \"2018-10-14T00:00:00\", \"2018-10-21T00:00:00\", \"2018-10-28T00:00:00\", \"2018-11-04T00:00:00\", \"2018-11-11T00:00:00\", \"2018-11-18T00:00:00\", \"2018-11-25T00:00:00\", \"2018-12-02T00:00:00\", \"2018-12-09T00:00:00\", \"2018-12-16T00:00:00\", \"2018-12-23T00:00:00\", \"2018-12-30T00:00:00\", \"2019-01-06T00:00:00\", \"2019-01-13T00:00:00\", \"2019-01-20T00:00:00\", \"2019-01-27T00:00:00\", \"2019-02-03T00:00:00\", \"2019-02-10T00:00:00\", \"2019-02-17T00:00:00\", \"2019-02-24T00:00:00\", \"2019-03-03T00:00:00\", \"2019-03-10T00:00:00\", \"2019-03-17T00:00:00\", \"2019-03-24T00:00:00\", \"2019-03-31T00:00:00\", \"2019-04-07T00:00:00\", \"2019-04-14T00:00:00\", \"2019-04-21T00:00:00\", \"2019-04-28T00:00:00\", \"2019-05-05T00:00:00\", \"2019-05-12T00:00:00\", \"2019-05-19T00:00:00\", \"2019-05-26T00:00:00\", \"2019-06-02T00:00:00\", \"2019-06-09T00:00:00\", \"2019-06-16T00:00:00\", \"2019-06-23T00:00:00\", \"2019-06-30T00:00:00\", \"2019-07-07T00:00:00\", \"2019-07-14T00:00:00\", \"2019-07-21T00:00:00\", \"2019-07-28T00:00:00\", \"2019-08-04T00:00:00\", \"2019-08-11T00:00:00\", \"2019-08-18T00:00:00\", \"2019-08-25T00:00:00\", \"2019-09-01T00:00:00\", \"2019-09-08T00:00:00\", \"2019-09-15T00:00:00\", \"2019-09-22T00:00:00\", \"2019-09-29T00:00:00\", \"2019-10-06T00:00:00\", \"2019-10-13T00:00:00\", \"2019-10-20T00:00:00\", \"2019-10-27T00:00:00\", \"2019-11-03T00:00:00\", \"2019-11-10T00:00:00\", \"2019-11-17T00:00:00\", \"2019-11-24T00:00:00\", \"2019-12-01T00:00:00\", \"2019-12-08T00:00:00\", \"2019-12-15T00:00:00\", \"2019-12-22T00:00:00\", \"2019-12-29T00:00:00\", \"2020-01-05T00:00:00\", \"2020-01-12T00:00:00\", \"2020-01-19T00:00:00\", \"2020-01-26T00:00:00\", \"2020-02-02T00:00:00\", \"2020-02-09T00:00:00\", \"2020-02-16T00:00:00\", \"2020-02-23T00:00:00\", \"2020-03-01T00:00:00\", \"2020-03-08T00:00:00\", \"2020-03-15T00:00:00\", \"2020-03-22T00:00:00\", \"2020-03-29T00:00:00\", \"2020-04-05T00:00:00\", \"2020-04-12T00:00:00\", \"2020-04-19T00:00:00\", \"2020-04-26T00:00:00\", \"2020-05-03T00:00:00\", \"2020-05-10T00:00:00\", \"2020-05-17T00:00:00\", \"2020-05-24T00:00:00\", \"2020-05-31T00:00:00\", \"2020-06-07T00:00:00\", \"2020-06-14T00:00:00\", \"2020-06-21T00:00:00\", \"2020-06-28T00:00:00\", \"2020-07-05T00:00:00\", \"2020-07-12T00:00:00\", \"2020-07-19T00:00:00\", \"2020-07-26T00:00:00\", \"2020-08-02T00:00:00\", \"2020-08-09T00:00:00\", \"2020-08-16T00:00:00\", \"2020-08-23T00:00:00\"], \"xaxis\": \"x\", \"y\": [400865.5942368279, 657233.7868671131, 663677.2143339734, 586027.4336904192, 549508.9887556235, 561596.514841827, 538847.9890731517, 580693.5707913288, 611636.3615496675, 730999.3000280409, 620624.6182406824, 673308.7695076725, 640879.9332476843, 835080.9209669736, 809889.1239521452, 644632.8203335684, 623623.6896600793, 601153.6528157123, 669096.4673406447, 656940.5545830046, 651868.7782019061, 610145.5960299784, 616001.7629429558, 643527.1579614445, 662525.5101869374, 767026.4713161901, 669035.780101513, 759179.1255445003, 635173.1038493847, 579860.9171817292, 646444.6614734804, 642961.0204111884, 686086.3042189177, 676449.4860504445, 636530.8240177674, 661589.6985084334, 764980.9053404232, 685639.1505879486, 859353.8958398572, 776983.283209589, 706731.9468155468, 689287.5108206666, 719564.5447115924, 649520.7273119265, 612474.2216339682, 636954.4281801987, 612651.6904970894, 574001.8347836128, 657814.5355982888, 550170.7159371822, 606711.5232173917, 575770.9589081992, 585792.345872728, 627905.9280798291, 761489.2692836208, 554482.4095072198, 547822.3661821211, 510171.4485890071, 528341.5983173335, 562660.9114362687, 595025.6970072171, 620087.1045860146, 574527.2682491948, 607934.0837037407, 639633.0362748061, 787467.9700340193, 846392.3945183943, 651181.922916776, 622997.8517348194, 604555.8197024338, 591304.7999840134, 587226.9912214716, 606485.5090474456, 556901.9528593548, 596379.967943838, 596801.0934227039, 609629.2295615955, 718871.6587508591, 757114.8489928043, 592081.1603419567, 576436.2141359748, 594374.417906475, 673934.1718955361, 655740.7612358754, 575697.6414526319, 689475.940551434, 626931.51197009, 656033.5183385262, 650507.5085346429, 682928.09250898, 862438.1379979082, 783664.6525817156, 735173.3584425402, 733682.57217429, 649208.8228957779, 624552.8081683754, 626204.594176703, 628911.0188964136, 641206.752238481, 616955.852229958, 645876.0196360071, 550431.5057676043, 519699.6367647689, 434968.4837425775, 463984.1050517507, 572831.4525708881, 662540.9371899619, 795170.2510771989, 760702.1941571732, 733559.4535173527, 831052.0951193497, 793419.3120327003, 718261.8280106776, 724039.3751556986, 768001.7118540583, 782321.9921927159, 851777.2232811713, 947364.0192535142, 994487.5326324198, 867503.7458149143, 803199.6537399931, 806256.3294526666, 833751.1414029963, 853024.7153598325, 756391.4052443217], \"yaxis\": \"y\"}, {\"hovertemplate\": \"<b>%{hovertext}</b><br><br>State=VIC<br>WC Date=%{x}<br>Sales=%{y}<extra></extra>\", \"hovertext\": [\"Sep\", \"Sep\", \"Sep\", \"Sep\", \"Oct\", \"Oct\", \"Oct\", \"Oct\", \"Oct\", \"Nov\", \"Nov\", \"Nov\", \"Nov\", \"Dec\", \"Dec\", \"Dec\", \"Dec\", \"Dec\", \"Jan\", \"Jan\", \"Jan\", \"Jan\", \"Feb\", \"Feb\", \"Feb\", \"Feb\", \"Mar\", \"Mar\", \"Mar\", \"Mar\", \"Apr\", \"Apr\", \"Apr\", \"Apr\", \"Apr\", \"May\", \"May\", \"May\", \"May\", \"Jun\", \"Jun\", \"Jun\", \"Jun\", \"Jul\", \"Jul\", \"Jul\", \"Jul\", \"Jul\", \"Aug\", \"Aug\", \"Aug\", \"Aug\", \"Sep\", \"Sep\", \"Sep\", \"Sep\", \"Sep\", \"Oct\", \"Oct\", \"Oct\", \"Oct\", \"Nov\", \"Nov\", \"Nov\", \"Nov\", \"Dec\", \"Dec\", \"Dec\", \"Dec\", \"Dec\", \"Jan\", \"Jan\", \"Jan\", \"Jan\", \"Feb\", \"Feb\", \"Feb\", \"Feb\", \"Mar\", \"Mar\", \"Mar\", \"Mar\", \"Mar\", \"Apr\", \"Apr\", \"Apr\", \"Apr\", \"May\", \"May\", \"May\", \"May\", \"Jun\", \"Jun\", \"Jun\", \"Jun\", \"Jun\", \"Jul\", \"Jul\", \"Jul\", \"Jul\", \"Aug\", \"Aug\", \"Aug\", \"Aug\", \"Sep\", \"Sep\", \"Sep\", \"Sep\", \"Sep\", \"Oct\", \"Oct\", \"Oct\", \"Oct\", \"Nov\", \"Nov\", \"Nov\", \"Nov\", \"Dec\", \"Dec\", \"Dec\", \"Dec\", \"Dec\", \"Jan\", \"Jan\", \"Jan\", \"Jan\", \"Feb\", \"Feb\", \"Feb\", \"Feb\", \"Mar\", \"Mar\", \"Mar\", \"Mar\", \"Mar\", \"Apr\", \"Apr\", \"Apr\", \"Apr\", \"May\", \"May\", \"May\", \"May\", \"May\", \"Jun\", \"Jun\", \"Jun\", \"Jun\", \"Jul\", \"Jul\", \"Jul\", \"Jul\", \"Aug\", \"Aug\", \"Aug\", \"Aug\"], \"legendgroup\": \"VIC\", \"line\": {\"color\": \"#FFA15A\", \"dash\": \"solid\"}, \"mode\": \"lines\", \"name\": \"VIC\", \"orientation\": \"v\", \"showlegend\": true, \"type\": \"scatter\", \"x\": [\"2017-09-03T00:00:00\", \"2017-09-10T00:00:00\", \"2017-09-17T00:00:00\", \"2017-09-24T00:00:00\", \"2017-10-01T00:00:00\", \"2017-10-08T00:00:00\", \"2017-10-15T00:00:00\", \"2017-10-22T00:00:00\", \"2017-10-29T00:00:00\", \"2017-11-05T00:00:00\", \"2017-11-12T00:00:00\", \"2017-11-19T00:00:00\", \"2017-11-26T00:00:00\", \"2017-12-03T00:00:00\", \"2017-12-10T00:00:00\", \"2017-12-17T00:00:00\", \"2017-12-24T00:00:00\", \"2017-12-31T00:00:00\", \"2018-01-07T00:00:00\", \"2018-01-14T00:00:00\", \"2018-01-21T00:00:00\", \"2018-01-28T00:00:00\", \"2018-02-04T00:00:00\", \"2018-02-11T00:00:00\", \"2018-02-18T00:00:00\", \"2018-02-25T00:00:00\", \"2018-03-04T00:00:00\", \"2018-03-11T00:00:00\", \"2018-03-18T00:00:00\", \"2018-03-25T00:00:00\", \"2018-04-01T00:00:00\", \"2018-04-08T00:00:00\", \"2018-04-15T00:00:00\", \"2018-04-22T00:00:00\", \"2018-04-29T00:00:00\", \"2018-05-06T00:00:00\", \"2018-05-13T00:00:00\", \"2018-05-20T00:00:00\", \"2018-05-27T00:00:00\", \"2018-06-03T00:00:00\", \"2018-06-10T00:00:00\", \"2018-06-17T00:00:00\", \"2018-06-24T00:00:00\", \"2018-07-01T00:00:00\", \"2018-07-08T00:00:00\", \"2018-07-15T00:00:00\", \"2018-07-22T00:00:00\", \"2018-07-29T00:00:00\", \"2018-08-05T00:00:00\", \"2018-08-12T00:00:00\", \"2018-08-19T00:00:00\", \"2018-08-26T00:00:00\", \"2018-09-02T00:00:00\", \"2018-09-09T00:00:00\", \"2018-09-16T00:00:00\", \"2018-09-23T00:00:00\", \"2018-09-30T00:00:00\", \"2018-10-07T00:00:00\", \"2018-10-14T00:00:00\", \"2018-10-21T00:00:00\", \"2018-10-28T00:00:00\", \"2018-11-04T00:00:00\", \"2018-11-11T00:00:00\", \"2018-11-18T00:00:00\", \"2018-11-25T00:00:00\", \"2018-12-02T00:00:00\", \"2018-12-09T00:00:00\", \"2018-12-16T00:00:00\", \"2018-12-23T00:00:00\", \"2018-12-30T00:00:00\", \"2019-01-06T00:00:00\", \"2019-01-13T00:00:00\", \"2019-01-20T00:00:00\", \"2019-01-27T00:00:00\", \"2019-02-03T00:00:00\", \"2019-02-10T00:00:00\", \"2019-02-17T00:00:00\", \"2019-02-24T00:00:00\", \"2019-03-03T00:00:00\", \"2019-03-10T00:00:00\", \"2019-03-17T00:00:00\", \"2019-03-24T00:00:00\", \"2019-03-31T00:00:00\", \"2019-04-07T00:00:00\", \"2019-04-14T00:00:00\", \"2019-04-21T00:00:00\", \"2019-04-28T00:00:00\", \"2019-05-05T00:00:00\", \"2019-05-12T00:00:00\", \"2019-05-19T00:00:00\", \"2019-05-26T00:00:00\", \"2019-06-02T00:00:00\", \"2019-06-09T00:00:00\", \"2019-06-16T00:00:00\", \"2019-06-23T00:00:00\", \"2019-06-30T00:00:00\", \"2019-07-07T00:00:00\", \"2019-07-14T00:00:00\", \"2019-07-21T00:00:00\", \"2019-07-28T00:00:00\", \"2019-08-04T00:00:00\", \"2019-08-11T00:00:00\", \"2019-08-18T00:00:00\", \"2019-08-25T00:00:00\", \"2019-09-01T00:00:00\", \"2019-09-08T00:00:00\", \"2019-09-15T00:00:00\", \"2019-09-22T00:00:00\", \"2019-09-29T00:00:00\", \"2019-10-06T00:00:00\", \"2019-10-13T00:00:00\", \"2019-10-20T00:00:00\", \"2019-10-27T00:00:00\", \"2019-11-03T00:00:00\", \"2019-11-10T00:00:00\", \"2019-11-17T00:00:00\", \"2019-11-24T00:00:00\", \"2019-12-01T00:00:00\", \"2019-12-08T00:00:00\", \"2019-12-15T00:00:00\", \"2019-12-22T00:00:00\", \"2019-12-29T00:00:00\", \"2020-01-05T00:00:00\", \"2020-01-12T00:00:00\", \"2020-01-19T00:00:00\", \"2020-01-26T00:00:00\", \"2020-02-02T00:00:00\", \"2020-02-09T00:00:00\", \"2020-02-16T00:00:00\", \"2020-02-23T00:00:00\", \"2020-03-01T00:00:00\", \"2020-03-08T00:00:00\", \"2020-03-15T00:00:00\", \"2020-03-22T00:00:00\", \"2020-03-29T00:00:00\", \"2020-04-05T00:00:00\", \"2020-04-12T00:00:00\", \"2020-04-19T00:00:00\", \"2020-04-26T00:00:00\", \"2020-05-03T00:00:00\", \"2020-05-10T00:00:00\", \"2020-05-17T00:00:00\", \"2020-05-24T00:00:00\", \"2020-05-31T00:00:00\", \"2020-06-07T00:00:00\", \"2020-06-14T00:00:00\", \"2020-06-21T00:00:00\", \"2020-06-28T00:00:00\", \"2020-07-05T00:00:00\", \"2020-07-12T00:00:00\", \"2020-07-19T00:00:00\", \"2020-07-26T00:00:00\", \"2020-08-02T00:00:00\", \"2020-08-09T00:00:00\", \"2020-08-16T00:00:00\", \"2020-08-23T00:00:00\"], \"xaxis\": \"x\", \"y\": [2173977.032103576, 2155545.919121663, 2094841.011162552, 2535675.241826159, 2277493.607088, 2090769.646315287, 2406385.618249251, 2321607.038115114, 2227304.303168017, 2474567.442304043, 2079246.102508494, 2155092.972983506, 2170995.596594645, 2311007.000114306, 2200351.355759795, 2226552.999406351, 2569976.924285516, 2703696.420633273, 2633425.684279039, 2441590.702176922, 2550230.036771949, 2319860.821588857, 2305724.717296751, 2370859.551373887, 2451106.908758114, 2273881.087206302, 2201063.984329701, 2401900.135853213, 2020154.924455441, 1982375.328382093, 2483149.658817093, 2142913.399136052, 1944490.194422666, 2147764.540921825, 1992149.34962534, 1959592.491759138, 1847383.400213798, 1910937.959403426, 1898237.871921008, 2007181.390823723, 2222416.604624206, 2111350.165408474, 2509343.295742664, 2450833.459168972, 2550019.662793044, 2313008.254098248, 2196070.137978665, 2132653.526082675, 2135261.484636801, 2096010.598244163, 1928359.995514112, 1961862.905673692, 1928044.768737992, 2027238.264860422, 1988308.729183352, 2651288.257257362, 2211910.062609156, 1841606.550781404, 2340974.309839563, 2081153.584779695, 1945009.321956953, 2376393.022871379, 2039072.683144861, 2124476.198871993, 2075552.517656174, 2055818.186120559, 2034019.500056891, 2113241.845557682, 2187942.357937597, 2682474.05173244, 2272346.405283296, 2168463.14515707, 2178356.796107219, 2317152.911697342, 1985256.803878911, 2057109.750094871, 2258835.510022541, 2216759.019099752, 1997952.079035663, 2147760.302149362, 1787288.858660694, 1914185.829273157, 1865379.410202064, 2094467.535230382, 2018008.918502097, 2568052.56824491, 1779656.909040528, 1722448.613671838, 1657780.992908588, 1752500.806801457, 1782254.168300464, 1847675.897674954, 2033234.377621999, 1862298.878673657, 2051178.251334092, 2151699.536727613, 2256548.294197786, 2086616.765145305, 1978913.478295632, 1946932.960311908, 1963266.508336586, 1854653.479729932, 1836769.413827782, 1849765.487929735, 1859628.511194323, 1916279.930440686, 1910292.637399483, 2300727.711495953, 2090430.435594788, 1806228.030073318, 1879606.812678967, 1904957.147936894, 1947752.964673786, 2557737.929951426, 2036592.755721962, 1984176.779989305, 2069824.944404338, 2051208.77507349, 2030062.480177317, 2026438.780978565, 2317947.2075929, 2699077.634855784, 2459248.99120319, 2304847.776112456, 2259382.09983543, 2169872.786042465, 2056900.449469137, 2131372.68290389, 2186388.187919467, 2129710.107863768, 1974105.614269987, 2089247.921319393, 1872791.91739453, 1612683.336626691, 1235302.134948292, 1294007.234255016, 1456142.571636864, 1494888.586703174, 1838797.679825191, 1820176.199552675, 1992516.726593521, 2380274.942899977, 2474395.449158682, 2366523.295919454, 2414120.51889532, 2393014.988591331, 2410339.456042459, 2452462.002642554, 2052963.758172008, 1748782.736679036, 1474484.029808089, 1534077.680473221, 923406.3721405836, 101105.8778725927, 137552.9633831789, 77309.11116223564], \"yaxis\": \"y\"}, {\"hovertemplate\": \"<b>%{hovertext}</b><br><br>State=WA<br>WC Date=%{x}<br>Sales=%{y}<extra></extra>\", \"hovertext\": [\"Apr\", \"Apr\", \"Apr\", \"Apr\", \"Apr\", \"May\", \"May\", \"May\", \"May\", \"Jun\", \"Jun\", \"Jun\", \"Jun\", \"Jul\", \"Jul\", \"Jul\", \"Jul\", \"Jul\", \"Aug\", \"Aug\", \"Aug\", \"Aug\", \"Sep\", \"Sep\", \"Sep\", \"Sep\", \"Sep\", \"Oct\", \"Oct\", \"Oct\", \"Oct\", \"Nov\", \"Nov\", \"Nov\", \"Nov\", \"Dec\", \"Dec\", \"Dec\", \"Dec\", \"Dec\", \"Jan\", \"Jan\", \"Jan\", \"Jan\", \"Feb\", \"Feb\", \"Feb\", \"Feb\", \"Mar\", \"Mar\", \"Mar\", \"Mar\", \"Mar\", \"Apr\", \"Apr\", \"Apr\", \"Apr\", \"May\", \"May\", \"May\", \"May\", \"Jun\", \"Jun\", \"Jun\", \"Jun\", \"Jun\", \"Jul\", \"Jul\", \"Jul\", \"Jul\", \"Aug\", \"Aug\", \"Aug\", \"Aug\", \"Sep\", \"Sep\", \"Sep\", \"Sep\", \"Sep\", \"Oct\", \"Oct\", \"Oct\", \"Oct\", \"Nov\", \"Nov\", \"Nov\", \"Nov\", \"Dec\", \"Dec\", \"Dec\", \"Dec\", \"Dec\", \"Jan\", \"Jan\", \"Jan\", \"Jan\", \"Feb\", \"Feb\", \"Feb\", \"Feb\", \"Mar\", \"Mar\", \"Mar\", \"Mar\", \"Mar\", \"Apr\", \"Apr\", \"Apr\", \"Apr\", \"May\", \"May\", \"May\", \"May\", \"May\", \"Jun\", \"Jun\", \"Jun\", \"Jun\", \"Jul\", \"Jul\", \"Jul\", \"Jul\", \"Aug\", \"Aug\", \"Aug\", \"Aug\"], \"legendgroup\": \"WA\", \"line\": {\"color\": \"#19d3f3\", \"dash\": \"solid\"}, \"mode\": \"lines\", \"name\": \"WA\", \"orientation\": \"v\", \"showlegend\": true, \"type\": \"scatter\", \"x\": [\"2018-04-01T00:00:00\", \"2018-04-08T00:00:00\", \"2018-04-15T00:00:00\", \"2018-04-22T00:00:00\", \"2018-04-29T00:00:00\", \"2018-05-06T00:00:00\", \"2018-05-13T00:00:00\", \"2018-05-20T00:00:00\", \"2018-05-27T00:00:00\", \"2018-06-03T00:00:00\", \"2018-06-10T00:00:00\", \"2018-06-17T00:00:00\", \"2018-06-24T00:00:00\", \"2018-07-01T00:00:00\", \"2018-07-08T00:00:00\", \"2018-07-15T00:00:00\", \"2018-07-22T00:00:00\", \"2018-07-29T00:00:00\", \"2018-08-05T00:00:00\", \"2018-08-12T00:00:00\", \"2018-08-19T00:00:00\", \"2018-08-26T00:00:00\", \"2018-09-02T00:00:00\", \"2018-09-09T00:00:00\", \"2018-09-16T00:00:00\", \"2018-09-23T00:00:00\", \"2018-09-30T00:00:00\", \"2018-10-07T00:00:00\", \"2018-10-14T00:00:00\", \"2018-10-21T00:00:00\", \"2018-10-28T00:00:00\", \"2018-11-04T00:00:00\", \"2018-11-11T00:00:00\", \"2018-11-18T00:00:00\", \"2018-11-25T00:00:00\", \"2018-12-02T00:00:00\", \"2018-12-09T00:00:00\", \"2018-12-16T00:00:00\", \"2018-12-23T00:00:00\", \"2018-12-30T00:00:00\", \"2019-01-06T00:00:00\", \"2019-01-13T00:00:00\", \"2019-01-20T00:00:00\", \"2019-01-27T00:00:00\", \"2019-02-03T00:00:00\", \"2019-02-10T00:00:00\", \"2019-02-17T00:00:00\", \"2019-02-24T00:00:00\", \"2019-03-03T00:00:00\", \"2019-03-10T00:00:00\", \"2019-03-17T00:00:00\", \"2019-03-24T00:00:00\", \"2019-03-31T00:00:00\", \"2019-04-07T00:00:00\", \"2019-04-14T00:00:00\", \"2019-04-21T00:00:00\", \"2019-04-28T00:00:00\", \"2019-05-05T00:00:00\", \"2019-05-12T00:00:00\", \"2019-05-19T00:00:00\", \"2019-05-26T00:00:00\", \"2019-06-02T00:00:00\", \"2019-06-09T00:00:00\", \"2019-06-16T00:00:00\", \"2019-06-23T00:00:00\", \"2019-06-30T00:00:00\", \"2019-07-07T00:00:00\", \"2019-07-14T00:00:00\", \"2019-07-21T00:00:00\", \"2019-07-28T00:00:00\", \"2019-08-04T00:00:00\", \"2019-08-11T00:00:00\", \"2019-08-18T00:00:00\", \"2019-08-25T00:00:00\", \"2019-09-01T00:00:00\", \"2019-09-08T00:00:00\", \"2019-09-15T00:00:00\", \"2019-09-22T00:00:00\", \"2019-09-29T00:00:00\", \"2019-10-06T00:00:00\", \"2019-10-13T00:00:00\", \"2019-10-20T00:00:00\", \"2019-10-27T00:00:00\", \"2019-11-03T00:00:00\", \"2019-11-10T00:00:00\", \"2019-11-17T00:00:00\", \"2019-11-24T00:00:00\", \"2019-12-01T00:00:00\", \"2019-12-08T00:00:00\", \"2019-12-15T00:00:00\", \"2019-12-22T00:00:00\", \"2019-12-29T00:00:00\", \"2020-01-05T00:00:00\", \"2020-01-12T00:00:00\", \"2020-01-19T00:00:00\", \"2020-01-26T00:00:00\", \"2020-02-02T00:00:00\", \"2020-02-09T00:00:00\", \"2020-02-16T00:00:00\", \"2020-02-23T00:00:00\", \"2020-03-01T00:00:00\", \"2020-03-08T00:00:00\", \"2020-03-15T00:00:00\", \"2020-03-22T00:00:00\", \"2020-03-29T00:00:00\", \"2020-04-05T00:00:00\", \"2020-04-12T00:00:00\", \"2020-04-19T00:00:00\", \"2020-04-26T00:00:00\", \"2020-05-03T00:00:00\", \"2020-05-10T00:00:00\", \"2020-05-17T00:00:00\", \"2020-05-24T00:00:00\", \"2020-05-31T00:00:00\", \"2020-06-07T00:00:00\", \"2020-06-14T00:00:00\", \"2020-06-21T00:00:00\", \"2020-06-28T00:00:00\", \"2020-07-05T00:00:00\", \"2020-07-12T00:00:00\", \"2020-07-19T00:00:00\", \"2020-07-26T00:00:00\", \"2020-08-02T00:00:00\", \"2020-08-09T00:00:00\", \"2020-08-16T00:00:00\", \"2020-08-23T00:00:00\"], \"xaxis\": \"x\", \"y\": [770294.9737615981, 919437.2439854394, 1129704.862070959, 1027685.613751038, 976021.2941384722, 947474.3031400068, 926734.7707004084, 939314.2848296785, 1037653.165741358, 1042241.692120809, 1007671.178662462, 1064820.623453255, 1134927.541729526, 1202726.947343207, 1265155.285260032, 1193814.781499005, 1112481.24125399, 1125611.966440368, 1075246.459425593, 1016763.425038738, 1028741.205776156, 1031974.520451041, 1012854.154555203, 1014292.057015475, 1020549.691470501, 1229749.169073341, 1178092.272604025, 1037496.322159593, 1231892.204782497, 1062318.022969897, 1007305.492034842, 1062245.747119074, 1117332.776382334, 1242202.556330491, 1175279.438227872, 1062804.266890284, 1028223.62901654, 1113662.653377824, 1093936.478538533, 1314052.538065806, 1099475.609432149, 1165249.310981606, 1143605.144547776, 1135066.174054666, 988897.9696313373, 983359.7467489883, 1006985.418135264, 1004537.895405184, 1031682.322477833, 933298.0515579176, 918947.4262138959, 963878.3890463642, 999712.7315019409, 1033663.180163449, 1122749.257956435, 1163351.558520483, 966267.9037711167, 937348.7476006718, 912838.2353666924, 919850.7362910638, 965972.2002541064, 962986.4003331241, 950394.8417318636, 971775.7984825049, 1071445.144963326, 1054347.983245121, 1224086.549076284, 1254587.65174255, 1086151.76788414, 1074235.608999317, 1044329.951975798, 1008600.558081617, 1026179.868181753, 1024166.182240155, 990612.4935780433, 968021.0489546586, 962613.9683998523, 1024338.940097731, 1198266.047125181, 1134747.252044384, 1017575.810739616, 1018053.610999822, 1002744.028979319, 1075291.176284906, 1102402.460359027, 1098636.599916505, 1097397.594211326, 1020380.036712058, 1053366.402333025, 1043146.891437367, 1033827.500736153, 1412568.351994483, 1152209.454915632, 1120015.964468578, 1188675.190409752, 1028121.740348111, 1042965.415979692, 1024707.311044681, 1023792.988866948, 1003042.477310696, 1019547.988475308, 924003.8583653866, 978775.95326941, 901311.0198578313, 663962.0612222215, 686500.575832631, 866084.044033757, 782932.9481527813, 1161703.651907744, 1096142.996858809, 1108498.679264195, 1229172.47358018, 1145625.471834579, 1167187.236680397, 1109709.715788086, 1186871.637307797, 1259688.225141553, 1316347.087654828, 1449490.280263191, 1495237.554726775, 1418697.254347753, 1364894.742805736, 1351591.411319429, 1385729.187643929, 1362193.248057242, 1271019.578751108], \"yaxis\": \"y\"}],                        {\"legend\": {\"title\": {\"text\": \"State\"}, \"tracegroupgap\": 0}, \"margin\": {\"t\": 60}, \"template\": {\"data\": {\"bar\": [{\"error_x\": {\"color\": \"#2a3f5f\"}, \"error_y\": {\"color\": \"#2a3f5f\"}, \"marker\": {\"line\": {\"color\": \"#E5ECF6\", \"width\": 0.5}}, \"type\": \"bar\"}], \"barpolar\": [{\"marker\": {\"line\": {\"color\": \"#E5ECF6\", \"width\": 0.5}}, \"type\": \"barpolar\"}], \"carpet\": [{\"aaxis\": {\"endlinecolor\": \"#2a3f5f\", \"gridcolor\": \"white\", \"linecolor\": \"white\", \"minorgridcolor\": \"white\", \"startlinecolor\": \"#2a3f5f\"}, \"baxis\": {\"endlinecolor\": \"#2a3f5f\", \"gridcolor\": \"white\", \"linecolor\": \"white\", \"minorgridcolor\": \"white\", \"startlinecolor\": \"#2a3f5f\"}, \"type\": \"carpet\"}], \"choropleth\": [{\"colorbar\": {\"outlinewidth\": 0, \"ticks\": \"\"}, \"type\": \"choropleth\"}], \"contour\": [{\"colorbar\": {\"outlinewidth\": 0, \"ticks\": \"\"}, \"colorscale\": [[0.0, \"#0d0887\"], [0.1111111111111111, \"#46039f\"], [0.2222222222222222, \"#7201a8\"], [0.3333333333333333, \"#9c179e\"], [0.4444444444444444, \"#bd3786\"], [0.5555555555555556, \"#d8576b\"], [0.6666666666666666, \"#ed7953\"], [0.7777777777777778, \"#fb9f3a\"], [0.8888888888888888, \"#fdca26\"], [1.0, \"#f0f921\"]], \"type\": \"contour\"}], \"contourcarpet\": [{\"colorbar\": {\"outlinewidth\": 0, \"ticks\": \"\"}, \"type\": \"contourcarpet\"}], \"heatmap\": [{\"colorbar\": {\"outlinewidth\": 0, \"ticks\": \"\"}, \"colorscale\": [[0.0, \"#0d0887\"], [0.1111111111111111, \"#46039f\"], [0.2222222222222222, \"#7201a8\"], [0.3333333333333333, \"#9c179e\"], [0.4444444444444444, \"#bd3786\"], [0.5555555555555556, \"#d8576b\"], [0.6666666666666666, \"#ed7953\"], [0.7777777777777778, \"#fb9f3a\"], [0.8888888888888888, \"#fdca26\"], [1.0, \"#f0f921\"]], \"type\": \"heatmap\"}], \"heatmapgl\": [{\"colorbar\": {\"outlinewidth\": 0, \"ticks\": \"\"}, \"colorscale\": [[0.0, \"#0d0887\"], [0.1111111111111111, \"#46039f\"], [0.2222222222222222, \"#7201a8\"], [0.3333333333333333, \"#9c179e\"], [0.4444444444444444, \"#bd3786\"], [0.5555555555555556, \"#d8576b\"], [0.6666666666666666, \"#ed7953\"], [0.7777777777777778, \"#fb9f3a\"], [0.8888888888888888, \"#fdca26\"], [1.0, \"#f0f921\"]], \"type\": \"heatmapgl\"}], \"histogram\": [{\"marker\": {\"colorbar\": {\"outlinewidth\": 0, \"ticks\": \"\"}}, \"type\": \"histogram\"}], \"histogram2d\": [{\"colorbar\": {\"outlinewidth\": 0, \"ticks\": \"\"}, \"colorscale\": [[0.0, \"#0d0887\"], [0.1111111111111111, \"#46039f\"], [0.2222222222222222, \"#7201a8\"], [0.3333333333333333, \"#9c179e\"], [0.4444444444444444, \"#bd3786\"], [0.5555555555555556, \"#d8576b\"], [0.6666666666666666, \"#ed7953\"], [0.7777777777777778, \"#fb9f3a\"], [0.8888888888888888, \"#fdca26\"], [1.0, \"#f0f921\"]], \"type\": \"histogram2d\"}], \"histogram2dcontour\": [{\"colorbar\": {\"outlinewidth\": 0, \"ticks\": \"\"}, \"colorscale\": [[0.0, \"#0d0887\"], [0.1111111111111111, \"#46039f\"], [0.2222222222222222, \"#7201a8\"], [0.3333333333333333, \"#9c179e\"], [0.4444444444444444, \"#bd3786\"], [0.5555555555555556, \"#d8576b\"], [0.6666666666666666, \"#ed7953\"], [0.7777777777777778, \"#fb9f3a\"], [0.8888888888888888, \"#fdca26\"], [1.0, \"#f0f921\"]], \"type\": \"histogram2dcontour\"}], \"mesh3d\": [{\"colorbar\": {\"outlinewidth\": 0, \"ticks\": \"\"}, \"type\": \"mesh3d\"}], \"parcoords\": [{\"line\": {\"colorbar\": {\"outlinewidth\": 0, \"ticks\": \"\"}}, \"type\": \"parcoords\"}], \"pie\": [{\"automargin\": true, \"type\": \"pie\"}], \"scatter\": [{\"marker\": {\"colorbar\": {\"outlinewidth\": 0, \"ticks\": \"\"}}, \"type\": \"scatter\"}], \"scatter3d\": [{\"line\": {\"colorbar\": {\"outlinewidth\": 0, \"ticks\": \"\"}}, \"marker\": {\"colorbar\": {\"outlinewidth\": 0, \"ticks\": \"\"}}, \"type\": \"scatter3d\"}], \"scattercarpet\": [{\"marker\": {\"colorbar\": {\"outlinewidth\": 0, \"ticks\": \"\"}}, \"type\": \"scattercarpet\"}], \"scattergeo\": [{\"marker\": {\"colorbar\": {\"outlinewidth\": 0, \"ticks\": \"\"}}, \"type\": \"scattergeo\"}], \"scattergl\": [{\"marker\": {\"colorbar\": {\"outlinewidth\": 0, \"ticks\": \"\"}}, \"type\": \"scattergl\"}], \"scattermapbox\": [{\"marker\": {\"colorbar\": {\"outlinewidth\": 0, \"ticks\": \"\"}}, \"type\": \"scattermapbox\"}], \"scatterpolar\": [{\"marker\": {\"colorbar\": {\"outlinewidth\": 0, \"ticks\": \"\"}}, \"type\": \"scatterpolar\"}], \"scatterpolargl\": [{\"marker\": {\"colorbar\": {\"outlinewidth\": 0, \"ticks\": \"\"}}, \"type\": \"scatterpolargl\"}], \"scatterternary\": [{\"marker\": {\"colorbar\": {\"outlinewidth\": 0, \"ticks\": \"\"}}, \"type\": \"scatterternary\"}], \"surface\": [{\"colorbar\": {\"outlinewidth\": 0, \"ticks\": \"\"}, \"colorscale\": [[0.0, \"#0d0887\"], [0.1111111111111111, \"#46039f\"], [0.2222222222222222, \"#7201a8\"], [0.3333333333333333, \"#9c179e\"], [0.4444444444444444, \"#bd3786\"], [0.5555555555555556, \"#d8576b\"], [0.6666666666666666, \"#ed7953\"], [0.7777777777777778, \"#fb9f3a\"], [0.8888888888888888, \"#fdca26\"], [1.0, \"#f0f921\"]], \"type\": \"surface\"}], \"table\": [{\"cells\": {\"fill\": {\"color\": \"#EBF0F8\"}, \"line\": {\"color\": \"white\"}}, \"header\": {\"fill\": {\"color\": \"#C8D4E3\"}, \"line\": {\"color\": \"white\"}}, \"type\": \"table\"}]}, \"layout\": {\"annotationdefaults\": {\"arrowcolor\": \"#2a3f5f\", \"arrowhead\": 0, \"arrowwidth\": 1}, \"autotypenumbers\": \"strict\", \"coloraxis\": {\"colorbar\": {\"outlinewidth\": 0, \"ticks\": \"\"}}, \"colorscale\": {\"diverging\": [[0, \"#8e0152\"], [0.1, \"#c51b7d\"], [0.2, \"#de77ae\"], [0.3, \"#f1b6da\"], [0.4, \"#fde0ef\"], [0.5, \"#f7f7f7\"], [0.6, \"#e6f5d0\"], [0.7, \"#b8e186\"], [0.8, \"#7fbc41\"], [0.9, \"#4d9221\"], [1, \"#276419\"]], \"sequential\": [[0.0, \"#0d0887\"], [0.1111111111111111, \"#46039f\"], [0.2222222222222222, \"#7201a8\"], [0.3333333333333333, \"#9c179e\"], [0.4444444444444444, \"#bd3786\"], [0.5555555555555556, \"#d8576b\"], [0.6666666666666666, \"#ed7953\"], [0.7777777777777778, \"#fb9f3a\"], [0.8888888888888888, \"#fdca26\"], [1.0, \"#f0f921\"]], \"sequentialminus\": [[0.0, \"#0d0887\"], [0.1111111111111111, \"#46039f\"], [0.2222222222222222, \"#7201a8\"], [0.3333333333333333, \"#9c179e\"], [0.4444444444444444, \"#bd3786\"], [0.5555555555555556, \"#d8576b\"], [0.6666666666666666, \"#ed7953\"], [0.7777777777777778, \"#fb9f3a\"], [0.8888888888888888, \"#fdca26\"], [1.0, \"#f0f921\"]]}, \"colorway\": [\"#636efa\", \"#EF553B\", \"#00cc96\", \"#ab63fa\", \"#FFA15A\", \"#19d3f3\", \"#FF6692\", \"#B6E880\", \"#FF97FF\", \"#FECB52\"], \"font\": {\"color\": \"#2a3f5f\"}, \"geo\": {\"bgcolor\": \"white\", \"lakecolor\": \"white\", \"landcolor\": \"#E5ECF6\", \"showlakes\": true, \"showland\": true, \"subunitcolor\": \"white\"}, \"hoverlabel\": {\"align\": \"left\"}, \"hovermode\": \"closest\", \"mapbox\": {\"style\": \"light\"}, \"paper_bgcolor\": \"white\", \"plot_bgcolor\": \"#E5ECF6\", \"polar\": {\"angularaxis\": {\"gridcolor\": \"white\", \"linecolor\": \"white\", \"ticks\": \"\"}, \"bgcolor\": \"#E5ECF6\", \"radialaxis\": {\"gridcolor\": \"white\", \"linecolor\": \"white\", \"ticks\": \"\"}}, \"scene\": {\"xaxis\": {\"backgroundcolor\": \"#E5ECF6\", \"gridcolor\": \"white\", \"gridwidth\": 2, \"linecolor\": \"white\", \"showbackground\": true, \"ticks\": \"\", \"zerolinecolor\": \"white\"}, \"yaxis\": {\"backgroundcolor\": \"#E5ECF6\", \"gridcolor\": \"white\", \"gridwidth\": 2, \"linecolor\": \"white\", \"showbackground\": true, \"ticks\": \"\", \"zerolinecolor\": \"white\"}, \"zaxis\": {\"backgroundcolor\": \"#E5ECF6\", \"gridcolor\": \"white\", \"gridwidth\": 2, \"linecolor\": \"white\", \"showbackground\": true, \"ticks\": \"\", \"zerolinecolor\": \"white\"}}, \"shapedefaults\": {\"line\": {\"color\": \"#2a3f5f\"}}, \"ternary\": {\"aaxis\": {\"gridcolor\": \"white\", \"linecolor\": \"white\", \"ticks\": \"\"}, \"baxis\": {\"gridcolor\": \"white\", \"linecolor\": \"white\", \"ticks\": \"\"}, \"bgcolor\": \"#E5ECF6\", \"caxis\": {\"gridcolor\": \"white\", \"linecolor\": \"white\", \"ticks\": \"\"}}, \"title\": {\"x\": 0.05}, \"xaxis\": {\"automargin\": true, \"gridcolor\": \"white\", \"linecolor\": \"white\", \"ticks\": \"\", \"title\": {\"standoff\": 15}, \"zerolinecolor\": \"white\", \"zerolinewidth\": 2}, \"yaxis\": {\"automargin\": true, \"gridcolor\": \"white\", \"linecolor\": \"white\", \"ticks\": \"\", \"title\": {\"standoff\": 15}, \"zerolinecolor\": \"white\", \"zerolinewidth\": 2}}}, \"title\": {\"text\": \"Weekly Sales\"}, \"xaxis\": {\"anchor\": \"y\", \"domain\": [0.0, 1.0], \"title\": {\"text\": \"WC Date\"}}, \"yaxis\": {\"anchor\": \"x\", \"domain\": [0.0, 1.0], \"title\": {\"text\": \"Sales $\"}}},                        {\"responsive\": true}                    ).then(function(){\n",
       "                            \n",
       "var gd = document.getElementById('12f1ad54-4b1e-4c7c-9ea5-60e48a1fc4a2');\n",
       "var x = new MutationObserver(function (mutations, observer) {{\n",
       "        var display = window.getComputedStyle(gd).display;\n",
       "        if (!display || display === 'none') {{\n",
       "            console.log([gd, 'removed!']);\n",
       "            Plotly.purge(gd);\n",
       "            observer.disconnect();\n",
       "        }}\n",
       "}});\n",
       "\n",
       "// Listen for the removal of the full notebook cells\n",
       "var notebookContainer = gd.closest('#notebook-container');\n",
       "if (notebookContainer) {{\n",
       "    x.observe(notebookContainer, {childList: true});\n",
       "}}\n",
       "\n",
       "// Listen for the clearing of the current output cell\n",
       "var outputEl = gd.closest('.output');\n",
       "if (outputEl) {{\n",
       "    x.observe(outputEl, {childList: true});\n",
       "}}\n",
       "\n",
       "                        })                };                });            </script>        </div>"
      ]
     },
     "metadata": {},
     "output_type": "display_data"
    }
   ],
   "source": [
    "fig = px.line(df_s, x='WC Date', y='Sales', color=\"State\",line_group=\"State\", hover_name=\"Month\")\n",
    "fig.update_layout(title='Weekly Sales',xaxis_title='WC Date',yaxis_title=\"Sales $\")\n",
    "fig.show()"
   ]
  },
  {
   "cell_type": "code",
   "execution_count": 40,
   "metadata": {},
   "outputs": [
    {
     "data": {
      "application/vnd.plotly.v1+json": {
       "config": {
        "plotlyServerURL": "https://plot.ly"
       },
       "data": [
        {
         "hovertemplate": "<b>%{hovertext}</b><br><br>State=VIC<br>WC Date=%{x}<br>Sales=%{y}<extra></extra>",
         "hovertext": [
          "Sep",
          "Sep",
          "Sep",
          "Sep",
          "Oct",
          "Oct",
          "Oct",
          "Oct",
          "Oct",
          "Nov",
          "Nov",
          "Nov",
          "Nov",
          "Dec",
          "Dec",
          "Dec",
          "Dec",
          "Dec",
          "Jan",
          "Jan",
          "Jan",
          "Jan",
          "Feb",
          "Feb",
          "Feb",
          "Feb",
          "Mar",
          "Mar",
          "Mar",
          "Mar",
          "Apr",
          "Apr",
          "Apr",
          "Apr",
          "Apr",
          "May",
          "May",
          "May",
          "May",
          "Jun",
          "Jun",
          "Jun",
          "Jun",
          "Jul",
          "Jul",
          "Jul",
          "Jul",
          "Jul",
          "Aug",
          "Aug",
          "Aug",
          "Aug",
          "Sep",
          "Sep",
          "Sep",
          "Sep",
          "Sep",
          "Oct",
          "Oct",
          "Oct",
          "Oct",
          "Nov",
          "Nov",
          "Nov",
          "Nov",
          "Dec",
          "Dec",
          "Dec",
          "Dec",
          "Dec",
          "Jan",
          "Jan",
          "Jan",
          "Jan",
          "Feb",
          "Feb",
          "Feb",
          "Feb",
          "Mar",
          "Mar",
          "Mar",
          "Mar",
          "Mar",
          "Apr",
          "Apr",
          "Apr",
          "Apr",
          "May",
          "May",
          "May",
          "May",
          "Jun",
          "Jun",
          "Jun",
          "Jun",
          "Jun",
          "Jul",
          "Jul",
          "Jul",
          "Jul",
          "Aug",
          "Aug",
          "Aug",
          "Aug",
          "Sep",
          "Sep",
          "Sep",
          "Sep",
          "Sep",
          "Oct",
          "Oct",
          "Oct",
          "Oct",
          "Nov",
          "Nov",
          "Nov",
          "Nov",
          "Dec",
          "Dec",
          "Dec",
          "Dec",
          "Dec",
          "Jan",
          "Jan",
          "Jan",
          "Jan",
          "Feb",
          "Feb",
          "Feb",
          "Feb",
          "Mar",
          "Mar",
          "Mar",
          "Mar",
          "Mar",
          "Apr",
          "Apr",
          "Apr",
          "Apr",
          "May",
          "May",
          "May",
          "May",
          "May",
          "Jun",
          "Jun",
          "Jun",
          "Jun",
          "Jul",
          "Jul",
          "Jul",
          "Jul",
          "Aug",
          "Aug",
          "Aug",
          "Aug"
         ],
         "legendgroup": "VIC",
         "line": {
          "color": "#636efa",
          "dash": "solid"
         },
         "mode": "lines",
         "name": "VIC",
         "orientation": "v",
         "showlegend": true,
         "type": "scatter",
         "x": [
          "2017-09-03T00:00:00",
          "2017-09-10T00:00:00",
          "2017-09-17T00:00:00",
          "2017-09-24T00:00:00",
          "2017-10-01T00:00:00",
          "2017-10-08T00:00:00",
          "2017-10-15T00:00:00",
          "2017-10-22T00:00:00",
          "2017-10-29T00:00:00",
          "2017-11-05T00:00:00",
          "2017-11-12T00:00:00",
          "2017-11-19T00:00:00",
          "2017-11-26T00:00:00",
          "2017-12-03T00:00:00",
          "2017-12-10T00:00:00",
          "2017-12-17T00:00:00",
          "2017-12-24T00:00:00",
          "2017-12-31T00:00:00",
          "2018-01-07T00:00:00",
          "2018-01-14T00:00:00",
          "2018-01-21T00:00:00",
          "2018-01-28T00:00:00",
          "2018-02-04T00:00:00",
          "2018-02-11T00:00:00",
          "2018-02-18T00:00:00",
          "2018-02-25T00:00:00",
          "2018-03-04T00:00:00",
          "2018-03-11T00:00:00",
          "2018-03-18T00:00:00",
          "2018-03-25T00:00:00",
          "2018-04-01T00:00:00",
          "2018-04-08T00:00:00",
          "2018-04-15T00:00:00",
          "2018-04-22T00:00:00",
          "2018-04-29T00:00:00",
          "2018-05-06T00:00:00",
          "2018-05-13T00:00:00",
          "2018-05-20T00:00:00",
          "2018-05-27T00:00:00",
          "2018-06-03T00:00:00",
          "2018-06-10T00:00:00",
          "2018-06-17T00:00:00",
          "2018-06-24T00:00:00",
          "2018-07-01T00:00:00",
          "2018-07-08T00:00:00",
          "2018-07-15T00:00:00",
          "2018-07-22T00:00:00",
          "2018-07-29T00:00:00",
          "2018-08-05T00:00:00",
          "2018-08-12T00:00:00",
          "2018-08-19T00:00:00",
          "2018-08-26T00:00:00",
          "2018-09-02T00:00:00",
          "2018-09-09T00:00:00",
          "2018-09-16T00:00:00",
          "2018-09-23T00:00:00",
          "2018-09-30T00:00:00",
          "2018-10-07T00:00:00",
          "2018-10-14T00:00:00",
          "2018-10-21T00:00:00",
          "2018-10-28T00:00:00",
          "2018-11-04T00:00:00",
          "2018-11-11T00:00:00",
          "2018-11-18T00:00:00",
          "2018-11-25T00:00:00",
          "2018-12-02T00:00:00",
          "2018-12-09T00:00:00",
          "2018-12-16T00:00:00",
          "2018-12-23T00:00:00",
          "2018-12-30T00:00:00",
          "2019-01-06T00:00:00",
          "2019-01-13T00:00:00",
          "2019-01-20T00:00:00",
          "2019-01-27T00:00:00",
          "2019-02-03T00:00:00",
          "2019-02-10T00:00:00",
          "2019-02-17T00:00:00",
          "2019-02-24T00:00:00",
          "2019-03-03T00:00:00",
          "2019-03-10T00:00:00",
          "2019-03-17T00:00:00",
          "2019-03-24T00:00:00",
          "2019-03-31T00:00:00",
          "2019-04-07T00:00:00",
          "2019-04-14T00:00:00",
          "2019-04-21T00:00:00",
          "2019-04-28T00:00:00",
          "2019-05-05T00:00:00",
          "2019-05-12T00:00:00",
          "2019-05-19T00:00:00",
          "2019-05-26T00:00:00",
          "2019-06-02T00:00:00",
          "2019-06-09T00:00:00",
          "2019-06-16T00:00:00",
          "2019-06-23T00:00:00",
          "2019-06-30T00:00:00",
          "2019-07-07T00:00:00",
          "2019-07-14T00:00:00",
          "2019-07-21T00:00:00",
          "2019-07-28T00:00:00",
          "2019-08-04T00:00:00",
          "2019-08-11T00:00:00",
          "2019-08-18T00:00:00",
          "2019-08-25T00:00:00",
          "2019-09-01T00:00:00",
          "2019-09-08T00:00:00",
          "2019-09-15T00:00:00",
          "2019-09-22T00:00:00",
          "2019-09-29T00:00:00",
          "2019-10-06T00:00:00",
          "2019-10-13T00:00:00",
          "2019-10-20T00:00:00",
          "2019-10-27T00:00:00",
          "2019-11-03T00:00:00",
          "2019-11-10T00:00:00",
          "2019-11-17T00:00:00",
          "2019-11-24T00:00:00",
          "2019-12-01T00:00:00",
          "2019-12-08T00:00:00",
          "2019-12-15T00:00:00",
          "2019-12-22T00:00:00",
          "2019-12-29T00:00:00",
          "2020-01-05T00:00:00",
          "2020-01-12T00:00:00",
          "2020-01-19T00:00:00",
          "2020-01-26T00:00:00",
          "2020-02-02T00:00:00",
          "2020-02-09T00:00:00",
          "2020-02-16T00:00:00",
          "2020-02-23T00:00:00",
          "2020-03-01T00:00:00",
          "2020-03-08T00:00:00",
          "2020-03-15T00:00:00",
          "2020-03-22T00:00:00",
          "2020-03-29T00:00:00",
          "2020-04-05T00:00:00",
          "2020-04-12T00:00:00",
          "2020-04-19T00:00:00",
          "2020-04-26T00:00:00",
          "2020-05-03T00:00:00",
          "2020-05-10T00:00:00",
          "2020-05-17T00:00:00",
          "2020-05-24T00:00:00",
          "2020-05-31T00:00:00",
          "2020-06-07T00:00:00",
          "2020-06-14T00:00:00",
          "2020-06-21T00:00:00",
          "2020-06-28T00:00:00",
          "2020-07-05T00:00:00",
          "2020-07-12T00:00:00",
          "2020-07-19T00:00:00",
          "2020-07-26T00:00:00",
          "2020-08-02T00:00:00",
          "2020-08-09T00:00:00",
          "2020-08-16T00:00:00",
          "2020-08-23T00:00:00"
         ],
         "xaxis": "x",
         "y": [
          2173977.032103576,
          2155545.919121663,
          2094841.011162552,
          2535675.241826159,
          2277493.607088,
          2090769.646315287,
          2406385.618249251,
          2321607.038115114,
          2227304.303168017,
          2474567.442304043,
          2079246.102508494,
          2155092.972983506,
          2170995.596594645,
          2311007.000114306,
          2200351.355759795,
          2226552.999406351,
          2569976.924285516,
          2703696.420633273,
          2633425.684279039,
          2441590.702176922,
          2550230.036771949,
          2319860.821588857,
          2305724.717296751,
          2370859.551373887,
          2451106.908758114,
          2273881.087206302,
          2201063.984329701,
          2401900.135853213,
          2020154.924455441,
          1982375.328382093,
          2483149.658817093,
          2142913.399136052,
          1944490.194422666,
          2147764.540921825,
          1992149.34962534,
          1959592.491759138,
          1847383.400213798,
          1910937.959403426,
          1898237.871921008,
          2007181.390823723,
          2222416.604624206,
          2111350.165408474,
          2509343.295742664,
          2450833.459168972,
          2550019.662793044,
          2313008.254098248,
          2196070.137978665,
          2132653.526082675,
          2135261.484636801,
          2096010.598244163,
          1928359.995514112,
          1961862.905673692,
          1928044.768737992,
          2027238.264860422,
          1988308.729183352,
          2651288.257257362,
          2211910.062609156,
          1841606.550781404,
          2340974.309839563,
          2081153.584779695,
          1945009.321956953,
          2376393.022871379,
          2039072.683144861,
          2124476.198871993,
          2075552.517656174,
          2055818.186120559,
          2034019.500056891,
          2113241.845557682,
          2187942.357937597,
          2682474.05173244,
          2272346.405283296,
          2168463.14515707,
          2178356.796107219,
          2317152.911697342,
          1985256.803878911,
          2057109.750094871,
          2258835.510022541,
          2216759.019099752,
          1997952.079035663,
          2147760.302149362,
          1787288.858660694,
          1914185.829273157,
          1865379.410202064,
          2094467.535230382,
          2018008.918502097,
          2568052.56824491,
          1779656.909040528,
          1722448.613671838,
          1657780.992908588,
          1752500.806801457,
          1782254.168300464,
          1847675.897674954,
          2033234.377621999,
          1862298.878673657,
          2051178.251334092,
          2151699.536727613,
          2256548.294197786,
          2086616.765145305,
          1978913.478295632,
          1946932.960311908,
          1963266.508336586,
          1854653.479729932,
          1836769.413827782,
          1849765.487929735,
          1859628.511194323,
          1916279.930440686,
          1910292.637399483,
          2300727.711495953,
          2090430.435594788,
          1806228.030073318,
          1879606.812678967,
          1904957.147936894,
          1947752.964673786,
          2557737.929951426,
          2036592.755721962,
          1984176.779989305,
          2069824.944404338,
          2051208.77507349,
          2030062.480177317,
          2026438.780978565,
          2317947.2075929,
          2699077.634855784,
          2459248.99120319,
          2304847.776112456,
          2259382.09983543,
          2169872.786042465,
          2056900.449469137,
          2131372.68290389,
          2186388.187919467,
          2129710.107863768,
          1974105.614269987,
          2089247.921319393,
          1872791.91739453,
          1612683.336626691,
          1235302.134948292,
          1294007.234255016,
          1456142.571636864,
          1494888.586703174,
          1838797.679825191,
          1820176.199552675,
          1992516.726593521,
          2380274.942899977,
          2474395.449158682,
          2366523.295919454,
          2414120.51889532,
          2393014.988591331,
          2410339.456042459,
          2452462.002642554,
          2052963.758172008,
          1748782.736679036,
          1474484.029808089,
          1534077.680473221,
          923406.3721405836,
          101105.8778725927,
          137552.9633831789,
          77309.11116223564
         ],
         "yaxis": "y"
        }
       ],
       "layout": {
        "legend": {
         "title": {
          "text": "State"
         },
         "tracegroupgap": 0
        },
        "margin": {
         "t": 60
        },
        "template": {
         "data": {
          "bar": [
           {
            "error_x": {
             "color": "#2a3f5f"
            },
            "error_y": {
             "color": "#2a3f5f"
            },
            "marker": {
             "line": {
              "color": "#E5ECF6",
              "width": 0.5
             }
            },
            "type": "bar"
           }
          ],
          "barpolar": [
           {
            "marker": {
             "line": {
              "color": "#E5ECF6",
              "width": 0.5
             }
            },
            "type": "barpolar"
           }
          ],
          "carpet": [
           {
            "aaxis": {
             "endlinecolor": "#2a3f5f",
             "gridcolor": "white",
             "linecolor": "white",
             "minorgridcolor": "white",
             "startlinecolor": "#2a3f5f"
            },
            "baxis": {
             "endlinecolor": "#2a3f5f",
             "gridcolor": "white",
             "linecolor": "white",
             "minorgridcolor": "white",
             "startlinecolor": "#2a3f5f"
            },
            "type": "carpet"
           }
          ],
          "choropleth": [
           {
            "colorbar": {
             "outlinewidth": 0,
             "ticks": ""
            },
            "type": "choropleth"
           }
          ],
          "contour": [
           {
            "colorbar": {
             "outlinewidth": 0,
             "ticks": ""
            },
            "colorscale": [
             [
              0,
              "#0d0887"
             ],
             [
              0.1111111111111111,
              "#46039f"
             ],
             [
              0.2222222222222222,
              "#7201a8"
             ],
             [
              0.3333333333333333,
              "#9c179e"
             ],
             [
              0.4444444444444444,
              "#bd3786"
             ],
             [
              0.5555555555555556,
              "#d8576b"
             ],
             [
              0.6666666666666666,
              "#ed7953"
             ],
             [
              0.7777777777777778,
              "#fb9f3a"
             ],
             [
              0.8888888888888888,
              "#fdca26"
             ],
             [
              1,
              "#f0f921"
             ]
            ],
            "type": "contour"
           }
          ],
          "contourcarpet": [
           {
            "colorbar": {
             "outlinewidth": 0,
             "ticks": ""
            },
            "type": "contourcarpet"
           }
          ],
          "heatmap": [
           {
            "colorbar": {
             "outlinewidth": 0,
             "ticks": ""
            },
            "colorscale": [
             [
              0,
              "#0d0887"
             ],
             [
              0.1111111111111111,
              "#46039f"
             ],
             [
              0.2222222222222222,
              "#7201a8"
             ],
             [
              0.3333333333333333,
              "#9c179e"
             ],
             [
              0.4444444444444444,
              "#bd3786"
             ],
             [
              0.5555555555555556,
              "#d8576b"
             ],
             [
              0.6666666666666666,
              "#ed7953"
             ],
             [
              0.7777777777777778,
              "#fb9f3a"
             ],
             [
              0.8888888888888888,
              "#fdca26"
             ],
             [
              1,
              "#f0f921"
             ]
            ],
            "type": "heatmap"
           }
          ],
          "heatmapgl": [
           {
            "colorbar": {
             "outlinewidth": 0,
             "ticks": ""
            },
            "colorscale": [
             [
              0,
              "#0d0887"
             ],
             [
              0.1111111111111111,
              "#46039f"
             ],
             [
              0.2222222222222222,
              "#7201a8"
             ],
             [
              0.3333333333333333,
              "#9c179e"
             ],
             [
              0.4444444444444444,
              "#bd3786"
             ],
             [
              0.5555555555555556,
              "#d8576b"
             ],
             [
              0.6666666666666666,
              "#ed7953"
             ],
             [
              0.7777777777777778,
              "#fb9f3a"
             ],
             [
              0.8888888888888888,
              "#fdca26"
             ],
             [
              1,
              "#f0f921"
             ]
            ],
            "type": "heatmapgl"
           }
          ],
          "histogram": [
           {
            "marker": {
             "colorbar": {
              "outlinewidth": 0,
              "ticks": ""
             }
            },
            "type": "histogram"
           }
          ],
          "histogram2d": [
           {
            "colorbar": {
             "outlinewidth": 0,
             "ticks": ""
            },
            "colorscale": [
             [
              0,
              "#0d0887"
             ],
             [
              0.1111111111111111,
              "#46039f"
             ],
             [
              0.2222222222222222,
              "#7201a8"
             ],
             [
              0.3333333333333333,
              "#9c179e"
             ],
             [
              0.4444444444444444,
              "#bd3786"
             ],
             [
              0.5555555555555556,
              "#d8576b"
             ],
             [
              0.6666666666666666,
              "#ed7953"
             ],
             [
              0.7777777777777778,
              "#fb9f3a"
             ],
             [
              0.8888888888888888,
              "#fdca26"
             ],
             [
              1,
              "#f0f921"
             ]
            ],
            "type": "histogram2d"
           }
          ],
          "histogram2dcontour": [
           {
            "colorbar": {
             "outlinewidth": 0,
             "ticks": ""
            },
            "colorscale": [
             [
              0,
              "#0d0887"
             ],
             [
              0.1111111111111111,
              "#46039f"
             ],
             [
              0.2222222222222222,
              "#7201a8"
             ],
             [
              0.3333333333333333,
              "#9c179e"
             ],
             [
              0.4444444444444444,
              "#bd3786"
             ],
             [
              0.5555555555555556,
              "#d8576b"
             ],
             [
              0.6666666666666666,
              "#ed7953"
             ],
             [
              0.7777777777777778,
              "#fb9f3a"
             ],
             [
              0.8888888888888888,
              "#fdca26"
             ],
             [
              1,
              "#f0f921"
             ]
            ],
            "type": "histogram2dcontour"
           }
          ],
          "mesh3d": [
           {
            "colorbar": {
             "outlinewidth": 0,
             "ticks": ""
            },
            "type": "mesh3d"
           }
          ],
          "parcoords": [
           {
            "line": {
             "colorbar": {
              "outlinewidth": 0,
              "ticks": ""
             }
            },
            "type": "parcoords"
           }
          ],
          "pie": [
           {
            "automargin": true,
            "type": "pie"
           }
          ],
          "scatter": [
           {
            "marker": {
             "colorbar": {
              "outlinewidth": 0,
              "ticks": ""
             }
            },
            "type": "scatter"
           }
          ],
          "scatter3d": [
           {
            "line": {
             "colorbar": {
              "outlinewidth": 0,
              "ticks": ""
             }
            },
            "marker": {
             "colorbar": {
              "outlinewidth": 0,
              "ticks": ""
             }
            },
            "type": "scatter3d"
           }
          ],
          "scattercarpet": [
           {
            "marker": {
             "colorbar": {
              "outlinewidth": 0,
              "ticks": ""
             }
            },
            "type": "scattercarpet"
           }
          ],
          "scattergeo": [
           {
            "marker": {
             "colorbar": {
              "outlinewidth": 0,
              "ticks": ""
             }
            },
            "type": "scattergeo"
           }
          ],
          "scattergl": [
           {
            "marker": {
             "colorbar": {
              "outlinewidth": 0,
              "ticks": ""
             }
            },
            "type": "scattergl"
           }
          ],
          "scattermapbox": [
           {
            "marker": {
             "colorbar": {
              "outlinewidth": 0,
              "ticks": ""
             }
            },
            "type": "scattermapbox"
           }
          ],
          "scatterpolar": [
           {
            "marker": {
             "colorbar": {
              "outlinewidth": 0,
              "ticks": ""
             }
            },
            "type": "scatterpolar"
           }
          ],
          "scatterpolargl": [
           {
            "marker": {
             "colorbar": {
              "outlinewidth": 0,
              "ticks": ""
             }
            },
            "type": "scatterpolargl"
           }
          ],
          "scatterternary": [
           {
            "marker": {
             "colorbar": {
              "outlinewidth": 0,
              "ticks": ""
             }
            },
            "type": "scatterternary"
           }
          ],
          "surface": [
           {
            "colorbar": {
             "outlinewidth": 0,
             "ticks": ""
            },
            "colorscale": [
             [
              0,
              "#0d0887"
             ],
             [
              0.1111111111111111,
              "#46039f"
             ],
             [
              0.2222222222222222,
              "#7201a8"
             ],
             [
              0.3333333333333333,
              "#9c179e"
             ],
             [
              0.4444444444444444,
              "#bd3786"
             ],
             [
              0.5555555555555556,
              "#d8576b"
             ],
             [
              0.6666666666666666,
              "#ed7953"
             ],
             [
              0.7777777777777778,
              "#fb9f3a"
             ],
             [
              0.8888888888888888,
              "#fdca26"
             ],
             [
              1,
              "#f0f921"
             ]
            ],
            "type": "surface"
           }
          ],
          "table": [
           {
            "cells": {
             "fill": {
              "color": "#EBF0F8"
             },
             "line": {
              "color": "white"
             }
            },
            "header": {
             "fill": {
              "color": "#C8D4E3"
             },
             "line": {
              "color": "white"
             }
            },
            "type": "table"
           }
          ]
         },
         "layout": {
          "annotationdefaults": {
           "arrowcolor": "#2a3f5f",
           "arrowhead": 0,
           "arrowwidth": 1
          },
          "autotypenumbers": "strict",
          "coloraxis": {
           "colorbar": {
            "outlinewidth": 0,
            "ticks": ""
           }
          },
          "colorscale": {
           "diverging": [
            [
             0,
             "#8e0152"
            ],
            [
             0.1,
             "#c51b7d"
            ],
            [
             0.2,
             "#de77ae"
            ],
            [
             0.3,
             "#f1b6da"
            ],
            [
             0.4,
             "#fde0ef"
            ],
            [
             0.5,
             "#f7f7f7"
            ],
            [
             0.6,
             "#e6f5d0"
            ],
            [
             0.7,
             "#b8e186"
            ],
            [
             0.8,
             "#7fbc41"
            ],
            [
             0.9,
             "#4d9221"
            ],
            [
             1,
             "#276419"
            ]
           ],
           "sequential": [
            [
             0,
             "#0d0887"
            ],
            [
             0.1111111111111111,
             "#46039f"
            ],
            [
             0.2222222222222222,
             "#7201a8"
            ],
            [
             0.3333333333333333,
             "#9c179e"
            ],
            [
             0.4444444444444444,
             "#bd3786"
            ],
            [
             0.5555555555555556,
             "#d8576b"
            ],
            [
             0.6666666666666666,
             "#ed7953"
            ],
            [
             0.7777777777777778,
             "#fb9f3a"
            ],
            [
             0.8888888888888888,
             "#fdca26"
            ],
            [
             1,
             "#f0f921"
            ]
           ],
           "sequentialminus": [
            [
             0,
             "#0d0887"
            ],
            [
             0.1111111111111111,
             "#46039f"
            ],
            [
             0.2222222222222222,
             "#7201a8"
            ],
            [
             0.3333333333333333,
             "#9c179e"
            ],
            [
             0.4444444444444444,
             "#bd3786"
            ],
            [
             0.5555555555555556,
             "#d8576b"
            ],
            [
             0.6666666666666666,
             "#ed7953"
            ],
            [
             0.7777777777777778,
             "#fb9f3a"
            ],
            [
             0.8888888888888888,
             "#fdca26"
            ],
            [
             1,
             "#f0f921"
            ]
           ]
          },
          "colorway": [
           "#636efa",
           "#EF553B",
           "#00cc96",
           "#ab63fa",
           "#FFA15A",
           "#19d3f3",
           "#FF6692",
           "#B6E880",
           "#FF97FF",
           "#FECB52"
          ],
          "font": {
           "color": "#2a3f5f"
          },
          "geo": {
           "bgcolor": "white",
           "lakecolor": "white",
           "landcolor": "#E5ECF6",
           "showlakes": true,
           "showland": true,
           "subunitcolor": "white"
          },
          "hoverlabel": {
           "align": "left"
          },
          "hovermode": "closest",
          "mapbox": {
           "style": "light"
          },
          "paper_bgcolor": "white",
          "plot_bgcolor": "#E5ECF6",
          "polar": {
           "angularaxis": {
            "gridcolor": "white",
            "linecolor": "white",
            "ticks": ""
           },
           "bgcolor": "#E5ECF6",
           "radialaxis": {
            "gridcolor": "white",
            "linecolor": "white",
            "ticks": ""
           }
          },
          "scene": {
           "xaxis": {
            "backgroundcolor": "#E5ECF6",
            "gridcolor": "white",
            "gridwidth": 2,
            "linecolor": "white",
            "showbackground": true,
            "ticks": "",
            "zerolinecolor": "white"
           },
           "yaxis": {
            "backgroundcolor": "#E5ECF6",
            "gridcolor": "white",
            "gridwidth": 2,
            "linecolor": "white",
            "showbackground": true,
            "ticks": "",
            "zerolinecolor": "white"
           },
           "zaxis": {
            "backgroundcolor": "#E5ECF6",
            "gridcolor": "white",
            "gridwidth": 2,
            "linecolor": "white",
            "showbackground": true,
            "ticks": "",
            "zerolinecolor": "white"
           }
          },
          "shapedefaults": {
           "line": {
            "color": "#2a3f5f"
           }
          },
          "ternary": {
           "aaxis": {
            "gridcolor": "white",
            "linecolor": "white",
            "ticks": ""
           },
           "baxis": {
            "gridcolor": "white",
            "linecolor": "white",
            "ticks": ""
           },
           "bgcolor": "#E5ECF6",
           "caxis": {
            "gridcolor": "white",
            "linecolor": "white",
            "ticks": ""
           }
          },
          "title": {
           "x": 0.05
          },
          "xaxis": {
           "automargin": true,
           "gridcolor": "white",
           "linecolor": "white",
           "ticks": "",
           "title": {
            "standoff": 15
           },
           "zerolinecolor": "white",
           "zerolinewidth": 2
          },
          "yaxis": {
           "automargin": true,
           "gridcolor": "white",
           "linecolor": "white",
           "ticks": "",
           "title": {
            "standoff": 15
           },
           "zerolinecolor": "white",
           "zerolinewidth": 2
          }
         }
        },
        "title": {
         "text": "Weekly Sales"
        },
        "xaxis": {
         "anchor": "y",
         "domain": [
          0,
          1
         ],
         "title": {
          "text": "WC Date"
         }
        },
        "yaxis": {
         "anchor": "x",
         "domain": [
          0,
          1
         ],
         "title": {
          "text": "Sales $"
         }
        }
       }
      },
      "text/html": [
       "<div>                            <div id=\"1508e064-3cb5-4227-9f48-d6b69d7eb562\" class=\"plotly-graph-div\" style=\"height:525px; width:100%;\"></div>            <script type=\"text/javascript\">                require([\"plotly\"], function(Plotly) {                    window.PLOTLYENV=window.PLOTLYENV || {};                                    if (document.getElementById(\"1508e064-3cb5-4227-9f48-d6b69d7eb562\")) {                    Plotly.newPlot(                        \"1508e064-3cb5-4227-9f48-d6b69d7eb562\",                        [{\"hovertemplate\": \"<b>%{hovertext}</b><br><br>State=VIC<br>WC Date=%{x}<br>Sales=%{y}<extra></extra>\", \"hovertext\": [\"Sep\", \"Sep\", \"Sep\", \"Sep\", \"Oct\", \"Oct\", \"Oct\", \"Oct\", \"Oct\", \"Nov\", \"Nov\", \"Nov\", \"Nov\", \"Dec\", \"Dec\", \"Dec\", \"Dec\", \"Dec\", \"Jan\", \"Jan\", \"Jan\", \"Jan\", \"Feb\", \"Feb\", \"Feb\", \"Feb\", \"Mar\", \"Mar\", \"Mar\", \"Mar\", \"Apr\", \"Apr\", \"Apr\", \"Apr\", \"Apr\", \"May\", \"May\", \"May\", \"May\", \"Jun\", \"Jun\", \"Jun\", \"Jun\", \"Jul\", \"Jul\", \"Jul\", \"Jul\", \"Jul\", \"Aug\", \"Aug\", \"Aug\", \"Aug\", \"Sep\", \"Sep\", \"Sep\", \"Sep\", \"Sep\", \"Oct\", \"Oct\", \"Oct\", \"Oct\", \"Nov\", \"Nov\", \"Nov\", \"Nov\", \"Dec\", \"Dec\", \"Dec\", \"Dec\", \"Dec\", \"Jan\", \"Jan\", \"Jan\", \"Jan\", \"Feb\", \"Feb\", \"Feb\", \"Feb\", \"Mar\", \"Mar\", \"Mar\", \"Mar\", \"Mar\", \"Apr\", \"Apr\", \"Apr\", \"Apr\", \"May\", \"May\", \"May\", \"May\", \"Jun\", \"Jun\", \"Jun\", \"Jun\", \"Jun\", \"Jul\", \"Jul\", \"Jul\", \"Jul\", \"Aug\", \"Aug\", \"Aug\", \"Aug\", \"Sep\", \"Sep\", \"Sep\", \"Sep\", \"Sep\", \"Oct\", \"Oct\", \"Oct\", \"Oct\", \"Nov\", \"Nov\", \"Nov\", \"Nov\", \"Dec\", \"Dec\", \"Dec\", \"Dec\", \"Dec\", \"Jan\", \"Jan\", \"Jan\", \"Jan\", \"Feb\", \"Feb\", \"Feb\", \"Feb\", \"Mar\", \"Mar\", \"Mar\", \"Mar\", \"Mar\", \"Apr\", \"Apr\", \"Apr\", \"Apr\", \"May\", \"May\", \"May\", \"May\", \"May\", \"Jun\", \"Jun\", \"Jun\", \"Jun\", \"Jul\", \"Jul\", \"Jul\", \"Jul\", \"Aug\", \"Aug\", \"Aug\", \"Aug\"], \"legendgroup\": \"VIC\", \"line\": {\"color\": \"#636efa\", \"dash\": \"solid\"}, \"mode\": \"lines\", \"name\": \"VIC\", \"orientation\": \"v\", \"showlegend\": true, \"type\": \"scatter\", \"x\": [\"2017-09-03T00:00:00\", \"2017-09-10T00:00:00\", \"2017-09-17T00:00:00\", \"2017-09-24T00:00:00\", \"2017-10-01T00:00:00\", \"2017-10-08T00:00:00\", \"2017-10-15T00:00:00\", \"2017-10-22T00:00:00\", \"2017-10-29T00:00:00\", \"2017-11-05T00:00:00\", \"2017-11-12T00:00:00\", \"2017-11-19T00:00:00\", \"2017-11-26T00:00:00\", \"2017-12-03T00:00:00\", \"2017-12-10T00:00:00\", \"2017-12-17T00:00:00\", \"2017-12-24T00:00:00\", \"2017-12-31T00:00:00\", \"2018-01-07T00:00:00\", \"2018-01-14T00:00:00\", \"2018-01-21T00:00:00\", \"2018-01-28T00:00:00\", \"2018-02-04T00:00:00\", \"2018-02-11T00:00:00\", \"2018-02-18T00:00:00\", \"2018-02-25T00:00:00\", \"2018-03-04T00:00:00\", \"2018-03-11T00:00:00\", \"2018-03-18T00:00:00\", \"2018-03-25T00:00:00\", \"2018-04-01T00:00:00\", \"2018-04-08T00:00:00\", \"2018-04-15T00:00:00\", \"2018-04-22T00:00:00\", \"2018-04-29T00:00:00\", \"2018-05-06T00:00:00\", \"2018-05-13T00:00:00\", \"2018-05-20T00:00:00\", \"2018-05-27T00:00:00\", \"2018-06-03T00:00:00\", \"2018-06-10T00:00:00\", \"2018-06-17T00:00:00\", \"2018-06-24T00:00:00\", \"2018-07-01T00:00:00\", \"2018-07-08T00:00:00\", \"2018-07-15T00:00:00\", \"2018-07-22T00:00:00\", \"2018-07-29T00:00:00\", \"2018-08-05T00:00:00\", \"2018-08-12T00:00:00\", \"2018-08-19T00:00:00\", \"2018-08-26T00:00:00\", \"2018-09-02T00:00:00\", \"2018-09-09T00:00:00\", \"2018-09-16T00:00:00\", \"2018-09-23T00:00:00\", \"2018-09-30T00:00:00\", \"2018-10-07T00:00:00\", \"2018-10-14T00:00:00\", \"2018-10-21T00:00:00\", \"2018-10-28T00:00:00\", \"2018-11-04T00:00:00\", \"2018-11-11T00:00:00\", \"2018-11-18T00:00:00\", \"2018-11-25T00:00:00\", \"2018-12-02T00:00:00\", \"2018-12-09T00:00:00\", \"2018-12-16T00:00:00\", \"2018-12-23T00:00:00\", \"2018-12-30T00:00:00\", \"2019-01-06T00:00:00\", \"2019-01-13T00:00:00\", \"2019-01-20T00:00:00\", \"2019-01-27T00:00:00\", \"2019-02-03T00:00:00\", \"2019-02-10T00:00:00\", \"2019-02-17T00:00:00\", \"2019-02-24T00:00:00\", \"2019-03-03T00:00:00\", \"2019-03-10T00:00:00\", \"2019-03-17T00:00:00\", \"2019-03-24T00:00:00\", \"2019-03-31T00:00:00\", \"2019-04-07T00:00:00\", \"2019-04-14T00:00:00\", \"2019-04-21T00:00:00\", \"2019-04-28T00:00:00\", \"2019-05-05T00:00:00\", \"2019-05-12T00:00:00\", \"2019-05-19T00:00:00\", \"2019-05-26T00:00:00\", \"2019-06-02T00:00:00\", \"2019-06-09T00:00:00\", \"2019-06-16T00:00:00\", \"2019-06-23T00:00:00\", \"2019-06-30T00:00:00\", \"2019-07-07T00:00:00\", \"2019-07-14T00:00:00\", \"2019-07-21T00:00:00\", \"2019-07-28T00:00:00\", \"2019-08-04T00:00:00\", \"2019-08-11T00:00:00\", \"2019-08-18T00:00:00\", \"2019-08-25T00:00:00\", \"2019-09-01T00:00:00\", \"2019-09-08T00:00:00\", \"2019-09-15T00:00:00\", \"2019-09-22T00:00:00\", \"2019-09-29T00:00:00\", \"2019-10-06T00:00:00\", \"2019-10-13T00:00:00\", \"2019-10-20T00:00:00\", \"2019-10-27T00:00:00\", \"2019-11-03T00:00:00\", \"2019-11-10T00:00:00\", \"2019-11-17T00:00:00\", \"2019-11-24T00:00:00\", \"2019-12-01T00:00:00\", \"2019-12-08T00:00:00\", \"2019-12-15T00:00:00\", \"2019-12-22T00:00:00\", \"2019-12-29T00:00:00\", \"2020-01-05T00:00:00\", \"2020-01-12T00:00:00\", \"2020-01-19T00:00:00\", \"2020-01-26T00:00:00\", \"2020-02-02T00:00:00\", \"2020-02-09T00:00:00\", \"2020-02-16T00:00:00\", \"2020-02-23T00:00:00\", \"2020-03-01T00:00:00\", \"2020-03-08T00:00:00\", \"2020-03-15T00:00:00\", \"2020-03-22T00:00:00\", \"2020-03-29T00:00:00\", \"2020-04-05T00:00:00\", \"2020-04-12T00:00:00\", \"2020-04-19T00:00:00\", \"2020-04-26T00:00:00\", \"2020-05-03T00:00:00\", \"2020-05-10T00:00:00\", \"2020-05-17T00:00:00\", \"2020-05-24T00:00:00\", \"2020-05-31T00:00:00\", \"2020-06-07T00:00:00\", \"2020-06-14T00:00:00\", \"2020-06-21T00:00:00\", \"2020-06-28T00:00:00\", \"2020-07-05T00:00:00\", \"2020-07-12T00:00:00\", \"2020-07-19T00:00:00\", \"2020-07-26T00:00:00\", \"2020-08-02T00:00:00\", \"2020-08-09T00:00:00\", \"2020-08-16T00:00:00\", \"2020-08-23T00:00:00\"], \"xaxis\": \"x\", \"y\": [2173977.032103576, 2155545.919121663, 2094841.011162552, 2535675.241826159, 2277493.607088, 2090769.646315287, 2406385.618249251, 2321607.038115114, 2227304.303168017, 2474567.442304043, 2079246.102508494, 2155092.972983506, 2170995.596594645, 2311007.000114306, 2200351.355759795, 2226552.999406351, 2569976.924285516, 2703696.420633273, 2633425.684279039, 2441590.702176922, 2550230.036771949, 2319860.821588857, 2305724.717296751, 2370859.551373887, 2451106.908758114, 2273881.087206302, 2201063.984329701, 2401900.135853213, 2020154.924455441, 1982375.328382093, 2483149.658817093, 2142913.399136052, 1944490.194422666, 2147764.540921825, 1992149.34962534, 1959592.491759138, 1847383.400213798, 1910937.959403426, 1898237.871921008, 2007181.390823723, 2222416.604624206, 2111350.165408474, 2509343.295742664, 2450833.459168972, 2550019.662793044, 2313008.254098248, 2196070.137978665, 2132653.526082675, 2135261.484636801, 2096010.598244163, 1928359.995514112, 1961862.905673692, 1928044.768737992, 2027238.264860422, 1988308.729183352, 2651288.257257362, 2211910.062609156, 1841606.550781404, 2340974.309839563, 2081153.584779695, 1945009.321956953, 2376393.022871379, 2039072.683144861, 2124476.198871993, 2075552.517656174, 2055818.186120559, 2034019.500056891, 2113241.845557682, 2187942.357937597, 2682474.05173244, 2272346.405283296, 2168463.14515707, 2178356.796107219, 2317152.911697342, 1985256.803878911, 2057109.750094871, 2258835.510022541, 2216759.019099752, 1997952.079035663, 2147760.302149362, 1787288.858660694, 1914185.829273157, 1865379.410202064, 2094467.535230382, 2018008.918502097, 2568052.56824491, 1779656.909040528, 1722448.613671838, 1657780.992908588, 1752500.806801457, 1782254.168300464, 1847675.897674954, 2033234.377621999, 1862298.878673657, 2051178.251334092, 2151699.536727613, 2256548.294197786, 2086616.765145305, 1978913.478295632, 1946932.960311908, 1963266.508336586, 1854653.479729932, 1836769.413827782, 1849765.487929735, 1859628.511194323, 1916279.930440686, 1910292.637399483, 2300727.711495953, 2090430.435594788, 1806228.030073318, 1879606.812678967, 1904957.147936894, 1947752.964673786, 2557737.929951426, 2036592.755721962, 1984176.779989305, 2069824.944404338, 2051208.77507349, 2030062.480177317, 2026438.780978565, 2317947.2075929, 2699077.634855784, 2459248.99120319, 2304847.776112456, 2259382.09983543, 2169872.786042465, 2056900.449469137, 2131372.68290389, 2186388.187919467, 2129710.107863768, 1974105.614269987, 2089247.921319393, 1872791.91739453, 1612683.336626691, 1235302.134948292, 1294007.234255016, 1456142.571636864, 1494888.586703174, 1838797.679825191, 1820176.199552675, 1992516.726593521, 2380274.942899977, 2474395.449158682, 2366523.295919454, 2414120.51889532, 2393014.988591331, 2410339.456042459, 2452462.002642554, 2052963.758172008, 1748782.736679036, 1474484.029808089, 1534077.680473221, 923406.3721405836, 101105.8778725927, 137552.9633831789, 77309.11116223564], \"yaxis\": \"y\"}],                        {\"legend\": {\"title\": {\"text\": \"State\"}, \"tracegroupgap\": 0}, \"margin\": {\"t\": 60}, \"template\": {\"data\": {\"bar\": [{\"error_x\": {\"color\": \"#2a3f5f\"}, \"error_y\": {\"color\": \"#2a3f5f\"}, \"marker\": {\"line\": {\"color\": \"#E5ECF6\", \"width\": 0.5}}, \"type\": \"bar\"}], \"barpolar\": [{\"marker\": {\"line\": {\"color\": \"#E5ECF6\", \"width\": 0.5}}, \"type\": \"barpolar\"}], \"carpet\": [{\"aaxis\": {\"endlinecolor\": \"#2a3f5f\", \"gridcolor\": \"white\", \"linecolor\": \"white\", \"minorgridcolor\": \"white\", \"startlinecolor\": \"#2a3f5f\"}, \"baxis\": {\"endlinecolor\": \"#2a3f5f\", \"gridcolor\": \"white\", \"linecolor\": \"white\", \"minorgridcolor\": \"white\", \"startlinecolor\": \"#2a3f5f\"}, \"type\": \"carpet\"}], \"choropleth\": [{\"colorbar\": {\"outlinewidth\": 0, \"ticks\": \"\"}, \"type\": \"choropleth\"}], \"contour\": [{\"colorbar\": {\"outlinewidth\": 0, \"ticks\": \"\"}, \"colorscale\": [[0.0, \"#0d0887\"], [0.1111111111111111, \"#46039f\"], [0.2222222222222222, \"#7201a8\"], [0.3333333333333333, \"#9c179e\"], [0.4444444444444444, \"#bd3786\"], [0.5555555555555556, \"#d8576b\"], [0.6666666666666666, \"#ed7953\"], [0.7777777777777778, \"#fb9f3a\"], [0.8888888888888888, \"#fdca26\"], [1.0, \"#f0f921\"]], \"type\": \"contour\"}], \"contourcarpet\": [{\"colorbar\": {\"outlinewidth\": 0, \"ticks\": \"\"}, \"type\": \"contourcarpet\"}], \"heatmap\": [{\"colorbar\": {\"outlinewidth\": 0, \"ticks\": \"\"}, \"colorscale\": [[0.0, \"#0d0887\"], [0.1111111111111111, \"#46039f\"], [0.2222222222222222, \"#7201a8\"], [0.3333333333333333, \"#9c179e\"], [0.4444444444444444, \"#bd3786\"], [0.5555555555555556, \"#d8576b\"], [0.6666666666666666, \"#ed7953\"], [0.7777777777777778, \"#fb9f3a\"], [0.8888888888888888, \"#fdca26\"], [1.0, \"#f0f921\"]], \"type\": \"heatmap\"}], \"heatmapgl\": [{\"colorbar\": {\"outlinewidth\": 0, \"ticks\": \"\"}, \"colorscale\": [[0.0, \"#0d0887\"], [0.1111111111111111, \"#46039f\"], [0.2222222222222222, \"#7201a8\"], [0.3333333333333333, \"#9c179e\"], [0.4444444444444444, \"#bd3786\"], [0.5555555555555556, \"#d8576b\"], [0.6666666666666666, \"#ed7953\"], [0.7777777777777778, \"#fb9f3a\"], [0.8888888888888888, \"#fdca26\"], [1.0, \"#f0f921\"]], \"type\": \"heatmapgl\"}], \"histogram\": [{\"marker\": {\"colorbar\": {\"outlinewidth\": 0, \"ticks\": \"\"}}, \"type\": \"histogram\"}], \"histogram2d\": [{\"colorbar\": {\"outlinewidth\": 0, \"ticks\": \"\"}, \"colorscale\": [[0.0, \"#0d0887\"], [0.1111111111111111, \"#46039f\"], [0.2222222222222222, \"#7201a8\"], [0.3333333333333333, \"#9c179e\"], [0.4444444444444444, \"#bd3786\"], [0.5555555555555556, \"#d8576b\"], [0.6666666666666666, \"#ed7953\"], [0.7777777777777778, \"#fb9f3a\"], [0.8888888888888888, \"#fdca26\"], [1.0, \"#f0f921\"]], \"type\": \"histogram2d\"}], \"histogram2dcontour\": [{\"colorbar\": {\"outlinewidth\": 0, \"ticks\": \"\"}, \"colorscale\": [[0.0, \"#0d0887\"], [0.1111111111111111, \"#46039f\"], [0.2222222222222222, \"#7201a8\"], [0.3333333333333333, \"#9c179e\"], [0.4444444444444444, \"#bd3786\"], [0.5555555555555556, \"#d8576b\"], [0.6666666666666666, \"#ed7953\"], [0.7777777777777778, \"#fb9f3a\"], [0.8888888888888888, \"#fdca26\"], [1.0, \"#f0f921\"]], \"type\": \"histogram2dcontour\"}], \"mesh3d\": [{\"colorbar\": {\"outlinewidth\": 0, \"ticks\": \"\"}, \"type\": \"mesh3d\"}], \"parcoords\": [{\"line\": {\"colorbar\": {\"outlinewidth\": 0, \"ticks\": \"\"}}, \"type\": \"parcoords\"}], \"pie\": [{\"automargin\": true, \"type\": \"pie\"}], \"scatter\": [{\"marker\": {\"colorbar\": {\"outlinewidth\": 0, \"ticks\": \"\"}}, \"type\": \"scatter\"}], \"scatter3d\": [{\"line\": {\"colorbar\": {\"outlinewidth\": 0, \"ticks\": \"\"}}, \"marker\": {\"colorbar\": {\"outlinewidth\": 0, \"ticks\": \"\"}}, \"type\": \"scatter3d\"}], \"scattercarpet\": [{\"marker\": {\"colorbar\": {\"outlinewidth\": 0, \"ticks\": \"\"}}, \"type\": \"scattercarpet\"}], \"scattergeo\": [{\"marker\": {\"colorbar\": {\"outlinewidth\": 0, \"ticks\": \"\"}}, \"type\": \"scattergeo\"}], \"scattergl\": [{\"marker\": {\"colorbar\": {\"outlinewidth\": 0, \"ticks\": \"\"}}, \"type\": \"scattergl\"}], \"scattermapbox\": [{\"marker\": {\"colorbar\": {\"outlinewidth\": 0, \"ticks\": \"\"}}, \"type\": \"scattermapbox\"}], \"scatterpolar\": [{\"marker\": {\"colorbar\": {\"outlinewidth\": 0, \"ticks\": \"\"}}, \"type\": \"scatterpolar\"}], \"scatterpolargl\": [{\"marker\": {\"colorbar\": {\"outlinewidth\": 0, \"ticks\": \"\"}}, \"type\": \"scatterpolargl\"}], \"scatterternary\": [{\"marker\": {\"colorbar\": {\"outlinewidth\": 0, \"ticks\": \"\"}}, \"type\": \"scatterternary\"}], \"surface\": [{\"colorbar\": {\"outlinewidth\": 0, \"ticks\": \"\"}, \"colorscale\": [[0.0, \"#0d0887\"], [0.1111111111111111, \"#46039f\"], [0.2222222222222222, \"#7201a8\"], [0.3333333333333333, \"#9c179e\"], [0.4444444444444444, \"#bd3786\"], [0.5555555555555556, \"#d8576b\"], [0.6666666666666666, \"#ed7953\"], [0.7777777777777778, \"#fb9f3a\"], [0.8888888888888888, \"#fdca26\"], [1.0, \"#f0f921\"]], \"type\": \"surface\"}], \"table\": [{\"cells\": {\"fill\": {\"color\": \"#EBF0F8\"}, \"line\": {\"color\": \"white\"}}, \"header\": {\"fill\": {\"color\": \"#C8D4E3\"}, \"line\": {\"color\": \"white\"}}, \"type\": \"table\"}]}, \"layout\": {\"annotationdefaults\": {\"arrowcolor\": \"#2a3f5f\", \"arrowhead\": 0, \"arrowwidth\": 1}, \"autotypenumbers\": \"strict\", \"coloraxis\": {\"colorbar\": {\"outlinewidth\": 0, \"ticks\": \"\"}}, \"colorscale\": {\"diverging\": [[0, \"#8e0152\"], [0.1, \"#c51b7d\"], [0.2, \"#de77ae\"], [0.3, \"#f1b6da\"], [0.4, \"#fde0ef\"], [0.5, \"#f7f7f7\"], [0.6, \"#e6f5d0\"], [0.7, \"#b8e186\"], [0.8, \"#7fbc41\"], [0.9, \"#4d9221\"], [1, \"#276419\"]], \"sequential\": [[0.0, \"#0d0887\"], [0.1111111111111111, \"#46039f\"], [0.2222222222222222, \"#7201a8\"], [0.3333333333333333, \"#9c179e\"], [0.4444444444444444, \"#bd3786\"], [0.5555555555555556, \"#d8576b\"], [0.6666666666666666, \"#ed7953\"], [0.7777777777777778, \"#fb9f3a\"], [0.8888888888888888, \"#fdca26\"], [1.0, \"#f0f921\"]], \"sequentialminus\": [[0.0, \"#0d0887\"], [0.1111111111111111, \"#46039f\"], [0.2222222222222222, \"#7201a8\"], [0.3333333333333333, \"#9c179e\"], [0.4444444444444444, \"#bd3786\"], [0.5555555555555556, \"#d8576b\"], [0.6666666666666666, \"#ed7953\"], [0.7777777777777778, \"#fb9f3a\"], [0.8888888888888888, \"#fdca26\"], [1.0, \"#f0f921\"]]}, \"colorway\": [\"#636efa\", \"#EF553B\", \"#00cc96\", \"#ab63fa\", \"#FFA15A\", \"#19d3f3\", \"#FF6692\", \"#B6E880\", \"#FF97FF\", \"#FECB52\"], \"font\": {\"color\": \"#2a3f5f\"}, \"geo\": {\"bgcolor\": \"white\", \"lakecolor\": \"white\", \"landcolor\": \"#E5ECF6\", \"showlakes\": true, \"showland\": true, \"subunitcolor\": \"white\"}, \"hoverlabel\": {\"align\": \"left\"}, \"hovermode\": \"closest\", \"mapbox\": {\"style\": \"light\"}, \"paper_bgcolor\": \"white\", \"plot_bgcolor\": \"#E5ECF6\", \"polar\": {\"angularaxis\": {\"gridcolor\": \"white\", \"linecolor\": \"white\", \"ticks\": \"\"}, \"bgcolor\": \"#E5ECF6\", \"radialaxis\": {\"gridcolor\": \"white\", \"linecolor\": \"white\", \"ticks\": \"\"}}, \"scene\": {\"xaxis\": {\"backgroundcolor\": \"#E5ECF6\", \"gridcolor\": \"white\", \"gridwidth\": 2, \"linecolor\": \"white\", \"showbackground\": true, \"ticks\": \"\", \"zerolinecolor\": \"white\"}, \"yaxis\": {\"backgroundcolor\": \"#E5ECF6\", \"gridcolor\": \"white\", \"gridwidth\": 2, \"linecolor\": \"white\", \"showbackground\": true, \"ticks\": \"\", \"zerolinecolor\": \"white\"}, \"zaxis\": {\"backgroundcolor\": \"#E5ECF6\", \"gridcolor\": \"white\", \"gridwidth\": 2, \"linecolor\": \"white\", \"showbackground\": true, \"ticks\": \"\", \"zerolinecolor\": \"white\"}}, \"shapedefaults\": {\"line\": {\"color\": \"#2a3f5f\"}}, \"ternary\": {\"aaxis\": {\"gridcolor\": \"white\", \"linecolor\": \"white\", \"ticks\": \"\"}, \"baxis\": {\"gridcolor\": \"white\", \"linecolor\": \"white\", \"ticks\": \"\"}, \"bgcolor\": \"#E5ECF6\", \"caxis\": {\"gridcolor\": \"white\", \"linecolor\": \"white\", \"ticks\": \"\"}}, \"title\": {\"x\": 0.05}, \"xaxis\": {\"automargin\": true, \"gridcolor\": \"white\", \"linecolor\": \"white\", \"ticks\": \"\", \"title\": {\"standoff\": 15}, \"zerolinecolor\": \"white\", \"zerolinewidth\": 2}, \"yaxis\": {\"automargin\": true, \"gridcolor\": \"white\", \"linecolor\": \"white\", \"ticks\": \"\", \"title\": {\"standoff\": 15}, \"zerolinecolor\": \"white\", \"zerolinewidth\": 2}}}, \"title\": {\"text\": \"Weekly Sales\"}, \"xaxis\": {\"anchor\": \"y\", \"domain\": [0.0, 1.0], \"title\": {\"text\": \"WC Date\"}}, \"yaxis\": {\"anchor\": \"x\", \"domain\": [0.0, 1.0], \"title\": {\"text\": \"Sales $\"}}},                        {\"responsive\": true}                    ).then(function(){\n",
       "                            \n",
       "var gd = document.getElementById('1508e064-3cb5-4227-9f48-d6b69d7eb562');\n",
       "var x = new MutationObserver(function (mutations, observer) {{\n",
       "        var display = window.getComputedStyle(gd).display;\n",
       "        if (!display || display === 'none') {{\n",
       "            console.log([gd, 'removed!']);\n",
       "            Plotly.purge(gd);\n",
       "            observer.disconnect();\n",
       "        }}\n",
       "}});\n",
       "\n",
       "// Listen for the removal of the full notebook cells\n",
       "var notebookContainer = gd.closest('#notebook-container');\n",
       "if (notebookContainer) {{\n",
       "    x.observe(notebookContainer, {childList: true});\n",
       "}}\n",
       "\n",
       "// Listen for the clearing of the current output cell\n",
       "var outputEl = gd.closest('.output');\n",
       "if (outputEl) {{\n",
       "    x.observe(outputEl, {childList: true});\n",
       "}}\n",
       "\n",
       "                        })                };                });            </script>        </div>"
      ]
     },
     "metadata": {},
     "output_type": "display_data"
    }
   ],
   "source": [
    "fig = px.line(df_s[df_s['State']=='VIC'], x='WC Date', y='Sales', color=\"State\",line_group=\"State\", hover_name=\"Month\")\n",
    "fig.update_layout(title='Weekly Sales',xaxis_title='WC Date',yaxis_title=\"Sales $\")\n",
    "fig.show()"
   ]
  },
  {
   "cell_type": "code",
   "execution_count": 41,
   "metadata": {},
   "outputs": [
    {
     "data": {
      "application/vnd.plotly.v1+json": {
       "config": {
        "plotlyServerURL": "https://plot.ly"
       },
       "data": [
        {
         "hovertemplate": "<b>%{hovertext}</b><br><br>State=ACT<br>WC Date=%{x}<br>Sales=%{y}<extra></extra>",
         "hovertext": [
          "Sep",
          "Sep",
          "Sep",
          "Sep",
          "Oct",
          "Oct",
          "Oct",
          "Oct",
          "Oct",
          "Nov",
          "Nov",
          "Nov",
          "Nov",
          "Dec",
          "Dec",
          "Dec",
          "Dec",
          "Dec",
          "Jan",
          "Jan",
          "Jan",
          "Jan",
          "Feb",
          "Feb",
          "Feb",
          "Feb",
          "Mar",
          "Mar",
          "Mar",
          "Mar",
          "Apr",
          "Apr",
          "Apr",
          "Apr",
          "Apr",
          "May",
          "May",
          "May",
          "May",
          "Jun",
          "Jun",
          "Jun",
          "Jun",
          "Jul",
          "Jul",
          "Jul",
          "Jul",
          "Jul",
          "Aug",
          "Aug",
          "Aug",
          "Aug",
          "Sep",
          "Sep",
          "Sep",
          "Sep",
          "Sep",
          "Oct",
          "Oct",
          "Oct",
          "Oct",
          "Nov",
          "Nov",
          "Nov",
          "Nov",
          "Dec",
          "Dec",
          "Dec",
          "Dec",
          "Dec",
          "Jan",
          "Jan",
          "Jan",
          "Jan",
          "Feb",
          "Feb",
          "Feb",
          "Feb",
          "Mar",
          "Mar",
          "Mar",
          "Mar",
          "Mar",
          "Apr",
          "Apr",
          "Apr",
          "Apr",
          "May",
          "May",
          "May",
          "May",
          "Jun",
          "Jun",
          "Jun",
          "Jun",
          "Jun",
          "Jul",
          "Jul",
          "Jul",
          "Jul",
          "Aug",
          "Aug",
          "Aug",
          "Aug",
          "Sep",
          "Sep",
          "Sep",
          "Sep",
          "Sep",
          "Oct",
          "Oct",
          "Oct",
          "Oct",
          "Nov",
          "Nov",
          "Nov",
          "Nov",
          "Dec",
          "Dec",
          "Dec",
          "Dec",
          "Dec",
          "Jan",
          "Jan",
          "Jan",
          "Jan",
          "Feb",
          "Feb",
          "Feb",
          "Feb",
          "Mar",
          "Mar",
          "Mar",
          "Mar",
          "Mar",
          "Apr",
          "Apr",
          "Apr",
          "Apr",
          "May",
          "May",
          "May",
          "May",
          "May",
          "Jun",
          "Jun",
          "Jun",
          "Jun",
          "Jul",
          "Jul",
          "Jul",
          "Jul",
          "Aug",
          "Aug",
          "Aug",
          "Aug"
         ],
         "legendgroup": "ACT",
         "line": {
          "color": "#00cc96",
          "dash": "solid"
         },
         "mode": "lines",
         "name": "ACT",
         "orientation": "v",
         "showlegend": true,
         "type": "scatter",
         "x": [
          "2017-09-03T00:00:00",
          "2017-09-10T00:00:00",
          "2017-09-17T00:00:00",
          "2017-09-24T00:00:00",
          "2017-10-01T00:00:00",
          "2017-10-08T00:00:00",
          "2017-10-15T00:00:00",
          "2017-10-22T00:00:00",
          "2017-10-29T00:00:00",
          "2017-11-05T00:00:00",
          "2017-11-12T00:00:00",
          "2017-11-19T00:00:00",
          "2017-11-26T00:00:00",
          "2017-12-03T00:00:00",
          "2017-12-10T00:00:00",
          "2017-12-17T00:00:00",
          "2017-12-24T00:00:00",
          "2017-12-31T00:00:00",
          "2018-01-07T00:00:00",
          "2018-01-14T00:00:00",
          "2018-01-21T00:00:00",
          "2018-01-28T00:00:00",
          "2018-02-04T00:00:00",
          "2018-02-11T00:00:00",
          "2018-02-18T00:00:00",
          "2018-02-25T00:00:00",
          "2018-03-04T00:00:00",
          "2018-03-11T00:00:00",
          "2018-03-18T00:00:00",
          "2018-03-25T00:00:00",
          "2018-04-01T00:00:00",
          "2018-04-08T00:00:00",
          "2018-04-15T00:00:00",
          "2018-04-22T00:00:00",
          "2018-04-29T00:00:00",
          "2018-05-06T00:00:00",
          "2018-05-13T00:00:00",
          "2018-05-20T00:00:00",
          "2018-05-27T00:00:00",
          "2018-06-03T00:00:00",
          "2018-06-10T00:00:00",
          "2018-06-17T00:00:00",
          "2018-06-24T00:00:00",
          "2018-07-01T00:00:00",
          "2018-07-08T00:00:00",
          "2018-07-15T00:00:00",
          "2018-07-22T00:00:00",
          "2018-07-29T00:00:00",
          "2018-08-05T00:00:00",
          "2018-08-12T00:00:00",
          "2018-08-19T00:00:00",
          "2018-08-26T00:00:00",
          "2018-09-02T00:00:00",
          "2018-09-09T00:00:00",
          "2018-09-16T00:00:00",
          "2018-09-23T00:00:00",
          "2018-09-30T00:00:00",
          "2018-10-07T00:00:00",
          "2018-10-14T00:00:00",
          "2018-10-21T00:00:00",
          "2018-10-28T00:00:00",
          "2018-11-04T00:00:00",
          "2018-11-11T00:00:00",
          "2018-11-18T00:00:00",
          "2018-11-25T00:00:00",
          "2018-12-02T00:00:00",
          "2018-12-09T00:00:00",
          "2018-12-16T00:00:00",
          "2018-12-23T00:00:00",
          "2018-12-30T00:00:00",
          "2019-01-06T00:00:00",
          "2019-01-13T00:00:00",
          "2019-01-20T00:00:00",
          "2019-01-27T00:00:00",
          "2019-02-03T00:00:00",
          "2019-02-10T00:00:00",
          "2019-02-17T00:00:00",
          "2019-02-24T00:00:00",
          "2019-03-03T00:00:00",
          "2019-03-10T00:00:00",
          "2019-03-17T00:00:00",
          "2019-03-24T00:00:00",
          "2019-03-31T00:00:00",
          "2019-04-07T00:00:00",
          "2019-04-14T00:00:00",
          "2019-04-21T00:00:00",
          "2019-04-28T00:00:00",
          "2019-05-05T00:00:00",
          "2019-05-12T00:00:00",
          "2019-05-19T00:00:00",
          "2019-05-26T00:00:00",
          "2019-06-02T00:00:00",
          "2019-06-09T00:00:00",
          "2019-06-16T00:00:00",
          "2019-06-23T00:00:00",
          "2019-06-30T00:00:00",
          "2019-07-07T00:00:00",
          "2019-07-14T00:00:00",
          "2019-07-21T00:00:00",
          "2019-07-28T00:00:00",
          "2019-08-04T00:00:00",
          "2019-08-11T00:00:00",
          "2019-08-18T00:00:00",
          "2019-08-25T00:00:00",
          "2019-09-01T00:00:00",
          "2019-09-08T00:00:00",
          "2019-09-15T00:00:00",
          "2019-09-22T00:00:00",
          "2019-09-29T00:00:00",
          "2019-10-06T00:00:00",
          "2019-10-13T00:00:00",
          "2019-10-20T00:00:00",
          "2019-10-27T00:00:00",
          "2019-11-03T00:00:00",
          "2019-11-10T00:00:00",
          "2019-11-17T00:00:00",
          "2019-11-24T00:00:00",
          "2019-12-01T00:00:00",
          "2019-12-08T00:00:00",
          "2019-12-15T00:00:00",
          "2019-12-22T00:00:00",
          "2019-12-29T00:00:00",
          "2020-01-05T00:00:00",
          "2020-01-12T00:00:00",
          "2020-01-19T00:00:00",
          "2020-01-26T00:00:00",
          "2020-02-02T00:00:00",
          "2020-02-09T00:00:00",
          "2020-02-16T00:00:00",
          "2020-02-23T00:00:00",
          "2020-03-01T00:00:00",
          "2020-03-08T00:00:00",
          "2020-03-15T00:00:00",
          "2020-03-22T00:00:00",
          "2020-03-29T00:00:00",
          "2020-04-05T00:00:00",
          "2020-04-12T00:00:00",
          "2020-04-19T00:00:00",
          "2020-04-26T00:00:00",
          "2020-05-03T00:00:00",
          "2020-05-10T00:00:00",
          "2020-05-17T00:00:00",
          "2020-05-24T00:00:00",
          "2020-05-31T00:00:00",
          "2020-06-07T00:00:00",
          "2020-06-14T00:00:00",
          "2020-06-21T00:00:00",
          "2020-06-28T00:00:00",
          "2020-07-05T00:00:00",
          "2020-07-12T00:00:00",
          "2020-07-19T00:00:00",
          "2020-07-26T00:00:00",
          "2020-08-02T00:00:00",
          "2020-08-09T00:00:00",
          "2020-08-16T00:00:00",
          "2020-08-23T00:00:00"
         ],
         "xaxis": "x",
         "y": [
          454505.5375427785,
          480922.4681314023,
          442120.9570010478,
          614161.3280557629,
          573988.744290248,
          466411.4873569101,
          575677.5519533862,
          478536.0738202567,
          490950.1306416955,
          458841.7608109359,
          497614.0522966317,
          522541.6338910526,
          512728.5092110469,
          581790.933971901,
          538689.7785409833,
          603831.8797390879,
          611642.3336761048,
          661256.3544514364,
          614483.7512476275,
          564046.6048345199,
          599849.9407278548,
          563327.6385958384,
          539383.2226870244,
          465661.0216568092,
          495986.7961048419,
          448421.5997257916,
          446623.6534469067,
          501089.937816209,
          414056.4131695812,
          436317.2794909275,
          499790.5147760394,
          439945.471144305,
          497025.4832934965,
          515167.1689122569,
          431483.3375085416,
          433090.4202947091,
          418630.337470207,
          421646.6221637158,
          473770.0059273121,
          452811.1176765992,
          528988.6824766202,
          479178.7790022149,
          543856.9887167324,
          502527.8904788496,
          550195.8717375096,
          587563.7122998445,
          493150.7197184591,
          471170.2589023164,
          468857.9123391861,
          484581.3811286866,
          447790.5176692519,
          450784.944274955,
          474514.7134835325,
          455111.5185876278,
          452136.8047693413,
          526127.1978056179,
          615581.7485535417,
          526651.524694211,
          547165.6119281005,
          486649.649130376,
          436648.2935190714,
          469922.9821370994,
          490827.1380079355,
          537654.2014947773,
          536135.1115711568,
          478120.8636629163,
          505845.549018945,
          546843.3845500132,
          573997.5241050302,
          693788.4703966628,
          588263.4749914716,
          533921.2071996923,
          509951.1510951616,
          577920.775327574,
          490068.311036153,
          498857.0690016284,
          490396.819260065,
          465314.0320098262,
          439179.3469201128,
          484016.3841036099,
          432037.6295649954,
          455095.069215073,
          454306.03814332,
          471657.3229200958,
          501081.0906050984,
          618648.6788841161,
          404869.9758945088,
          394396.9488975088,
          393897.592566198,
          396753.2021103232,
          476042.5303707364,
          414711.4887495788,
          476687.766147064,
          462354.1917032981,
          506840.8604006143,
          484262.601927169,
          542177.4352041754,
          571389.540798124,
          453069.6618826015,
          468326.5044342316,
          444568.4755300839,
          448361.8619566447,
          442939.0744452621,
          443413.7061418867,
          431621.8937506067,
          438662.8536481229,
          442381.892346695,
          421946.1367129548,
          536924.4162539764,
          551575.1313889401,
          452742.9401760062,
          440671.8113022766,
          438424.2405207276,
          524237.6436420939,
          502986.2430753183,
          523678.2536080267,
          544077.9283634855,
          485728.1837003603,
          475301.3365999425,
          499375.4026998025,
          556849.2358228553,
          597075.0136013681,
          521536.4506043365,
          565854.2128038037,
          501635.7704362937,
          514592.0318385925,
          502951.3917628974,
          493995.8218335877,
          462329.0693709616,
          462619.2424788662,
          447645.9068106326,
          480412.0799410933,
          479545.515253911,
          478174.5515566735,
          345116.3429841545,
          368523.036063622,
          436571.0538314994,
          455092.7219214196,
          572520.6357611774,
          517235.2849160776,
          539847.2519793534,
          608463.0848899594,
          609804.8748353553,
          562637.7265698756,
          562835.2360615823,
          563458.8424821763,
          623480.4126546595,
          647100.0067067127,
          635751.0916838956,
          641562.153849845,
          561381.8813274757,
          563310.2900264057,
          568197.1793650365,
          592292.52902208,
          587753.1335696278,
          571834.0986081482
         ],
         "yaxis": "y"
        },
        {
         "hovertemplate": "<b>%{hovertext}</b><br><br>State=NSW<br>WC Date=%{x}<br>Sales=%{y}<extra></extra>",
         "hovertext": [
          "Sep",
          "Sep",
          "Sep",
          "Sep",
          "Oct",
          "Oct",
          "Oct",
          "Oct",
          "Oct",
          "Nov",
          "Nov",
          "Nov",
          "Nov",
          "Dec",
          "Dec",
          "Dec",
          "Dec",
          "Dec",
          "Jan",
          "Jan",
          "Jan",
          "Jan",
          "Feb",
          "Feb",
          "Feb",
          "Feb",
          "Mar",
          "Mar",
          "Mar",
          "Mar",
          "Apr",
          "Apr",
          "Apr",
          "Apr",
          "Apr",
          "May",
          "May",
          "May",
          "May",
          "Jun",
          "Jun",
          "Jun",
          "Jun",
          "Jul",
          "Jul",
          "Jul",
          "Jul",
          "Jul",
          "Aug",
          "Aug",
          "Aug",
          "Aug",
          "Sep",
          "Sep",
          "Sep",
          "Sep",
          "Sep",
          "Oct",
          "Oct",
          "Oct",
          "Oct",
          "Nov",
          "Nov",
          "Nov",
          "Nov",
          "Dec",
          "Dec",
          "Dec",
          "Dec",
          "Dec",
          "Jan",
          "Jan",
          "Jan",
          "Jan",
          "Feb",
          "Feb",
          "Feb",
          "Feb",
          "Mar",
          "Mar",
          "Mar",
          "Mar",
          "Mar",
          "Apr",
          "Apr",
          "Apr",
          "Apr",
          "May",
          "May",
          "May",
          "May",
          "Jun",
          "Jun",
          "Jun",
          "Jun",
          "Jun",
          "Jul",
          "Jul",
          "Jul",
          "Jul",
          "Aug",
          "Aug",
          "Aug",
          "Aug",
          "Sep",
          "Sep",
          "Sep",
          "Sep",
          "Sep",
          "Oct",
          "Oct",
          "Oct",
          "Oct",
          "Nov",
          "Nov",
          "Nov",
          "Nov",
          "Dec",
          "Dec",
          "Dec",
          "Dec",
          "Dec",
          "Jan",
          "Jan",
          "Jan",
          "Jan",
          "Feb",
          "Feb",
          "Feb",
          "Feb",
          "Mar",
          "Mar",
          "Mar",
          "Mar",
          "Mar",
          "Apr",
          "Apr",
          "Apr",
          "Apr",
          "May",
          "May",
          "May",
          "May",
          "May",
          "Jun",
          "Jun",
          "Jun",
          "Jun",
          "Jul",
          "Jul",
          "Jul",
          "Jul",
          "Aug",
          "Aug",
          "Aug",
          "Aug"
         ],
         "legendgroup": "NSW",
         "line": {
          "color": "#456987",
          "dash": "solid"
         },
         "mode": "lines",
         "name": "NSW",
         "orientation": "v",
         "showlegend": true,
         "type": "scatter",
         "x": [
          "2017-09-03T00:00:00",
          "2017-09-10T00:00:00",
          "2017-09-17T00:00:00",
          "2017-09-24T00:00:00",
          "2017-10-01T00:00:00",
          "2017-10-08T00:00:00",
          "2017-10-15T00:00:00",
          "2017-10-22T00:00:00",
          "2017-10-29T00:00:00",
          "2017-11-05T00:00:00",
          "2017-11-12T00:00:00",
          "2017-11-19T00:00:00",
          "2017-11-26T00:00:00",
          "2017-12-03T00:00:00",
          "2017-12-10T00:00:00",
          "2017-12-17T00:00:00",
          "2017-12-24T00:00:00",
          "2017-12-31T00:00:00",
          "2018-01-07T00:00:00",
          "2018-01-14T00:00:00",
          "2018-01-21T00:00:00",
          "2018-01-28T00:00:00",
          "2018-02-04T00:00:00",
          "2018-02-11T00:00:00",
          "2018-02-18T00:00:00",
          "2018-02-25T00:00:00",
          "2018-03-04T00:00:00",
          "2018-03-11T00:00:00",
          "2018-03-18T00:00:00",
          "2018-03-25T00:00:00",
          "2018-04-01T00:00:00",
          "2018-04-08T00:00:00",
          "2018-04-15T00:00:00",
          "2018-04-22T00:00:00",
          "2018-04-29T00:00:00",
          "2018-05-06T00:00:00",
          "2018-05-13T00:00:00",
          "2018-05-20T00:00:00",
          "2018-05-27T00:00:00",
          "2018-06-03T00:00:00",
          "2018-06-10T00:00:00",
          "2018-06-17T00:00:00",
          "2018-06-24T00:00:00",
          "2018-07-01T00:00:00",
          "2018-07-08T00:00:00",
          "2018-07-15T00:00:00",
          "2018-07-22T00:00:00",
          "2018-07-29T00:00:00",
          "2018-08-05T00:00:00",
          "2018-08-12T00:00:00",
          "2018-08-19T00:00:00",
          "2018-08-26T00:00:00",
          "2018-09-02T00:00:00",
          "2018-09-09T00:00:00",
          "2018-09-16T00:00:00",
          "2018-09-23T00:00:00",
          "2018-09-30T00:00:00",
          "2018-10-07T00:00:00",
          "2018-10-14T00:00:00",
          "2018-10-21T00:00:00",
          "2018-10-28T00:00:00",
          "2018-11-04T00:00:00",
          "2018-11-11T00:00:00",
          "2018-11-18T00:00:00",
          "2018-11-25T00:00:00",
          "2018-12-02T00:00:00",
          "2018-12-09T00:00:00",
          "2018-12-16T00:00:00",
          "2018-12-23T00:00:00",
          "2018-12-30T00:00:00",
          "2019-01-06T00:00:00",
          "2019-01-13T00:00:00",
          "2019-01-20T00:00:00",
          "2019-01-27T00:00:00",
          "2019-02-03T00:00:00",
          "2019-02-10T00:00:00",
          "2019-02-17T00:00:00",
          "2019-02-24T00:00:00",
          "2019-03-03T00:00:00",
          "2019-03-10T00:00:00",
          "2019-03-17T00:00:00",
          "2019-03-24T00:00:00",
          "2019-03-31T00:00:00",
          "2019-04-07T00:00:00",
          "2019-04-14T00:00:00",
          "2019-04-21T00:00:00",
          "2019-04-28T00:00:00",
          "2019-05-05T00:00:00",
          "2019-05-12T00:00:00",
          "2019-05-19T00:00:00",
          "2019-05-26T00:00:00",
          "2019-06-02T00:00:00",
          "2019-06-09T00:00:00",
          "2019-06-16T00:00:00",
          "2019-06-23T00:00:00",
          "2019-06-30T00:00:00",
          "2019-07-07T00:00:00",
          "2019-07-14T00:00:00",
          "2019-07-21T00:00:00",
          "2019-07-28T00:00:00",
          "2019-08-04T00:00:00",
          "2019-08-11T00:00:00",
          "2019-08-18T00:00:00",
          "2019-08-25T00:00:00",
          "2019-09-01T00:00:00",
          "2019-09-08T00:00:00",
          "2019-09-15T00:00:00",
          "2019-09-22T00:00:00",
          "2019-09-29T00:00:00",
          "2019-10-06T00:00:00",
          "2019-10-13T00:00:00",
          "2019-10-20T00:00:00",
          "2019-10-27T00:00:00",
          "2019-11-03T00:00:00",
          "2019-11-10T00:00:00",
          "2019-11-17T00:00:00",
          "2019-11-24T00:00:00",
          "2019-12-01T00:00:00",
          "2019-12-08T00:00:00",
          "2019-12-15T00:00:00",
          "2019-12-22T00:00:00",
          "2019-12-29T00:00:00",
          "2020-01-05T00:00:00",
          "2020-01-12T00:00:00",
          "2020-01-19T00:00:00",
          "2020-01-26T00:00:00",
          "2020-02-02T00:00:00",
          "2020-02-09T00:00:00",
          "2020-02-16T00:00:00",
          "2020-02-23T00:00:00",
          "2020-03-01T00:00:00",
          "2020-03-08T00:00:00",
          "2020-03-15T00:00:00",
          "2020-03-22T00:00:00",
          "2020-03-29T00:00:00",
          "2020-04-05T00:00:00",
          "2020-04-12T00:00:00",
          "2020-04-19T00:00:00",
          "2020-04-26T00:00:00",
          "2020-05-03T00:00:00",
          "2020-05-10T00:00:00",
          "2020-05-17T00:00:00",
          "2020-05-24T00:00:00",
          "2020-05-31T00:00:00",
          "2020-06-07T00:00:00",
          "2020-06-14T00:00:00",
          "2020-06-21T00:00:00",
          "2020-06-28T00:00:00",
          "2020-07-05T00:00:00",
          "2020-07-12T00:00:00",
          "2020-07-19T00:00:00",
          "2020-07-26T00:00:00",
          "2020-08-02T00:00:00",
          "2020-08-09T00:00:00",
          "2020-08-16T00:00:00",
          "2020-08-23T00:00:00"
         ],
         "xaxis": "x",
         "y": [
          2634368.840183024,
          2760182.669930118,
          2770334.092689774,
          3176641.243278258,
          3264356.044595119,
          2869931.609129978,
          3324068.967269962,
          2932100.11279284,
          2833044.190054961,
          2711729.268880063,
          2769392.027306489,
          2685361.008361685,
          2708259.27072389,
          2708928.649296758,
          2591538.293501503,
          2824538.681211269,
          3139001.982756743,
          3267604.434809093,
          2967120.845967592,
          2955578.98849901,
          2972358.186651,
          2685321.195192046,
          2606375.65915893,
          2535183.676399176,
          2720039.218890184,
          2874615.231815928,
          2718254.401503748,
          2588530.159090815,
          2425536.830097856,
          2373594.915467833,
          2277273.849680846,
          2342689.724580286,
          2626058.708062707,
          2885867.13373568,
          2480101.899251407,
          2396998.95681908,
          2206241.951593115,
          2267188.962317278,
          2306777.045018571,
          2466560.851095221,
          2698677.587325904,
          2585387.279373,
          2902648.542579825,
          2635355.652642215,
          3003952.570769249,
          3107060.768167735,
          2614437.290611091,
          2533028.918811129,
          2503232.052811027,
          2407668.718695499,
          2568656.467749375,
          2566002.860443762,
          2637542.77230812,
          2497129.139631405,
          2582038.535615719,
          2721972.898203935,
          3194284.660691672,
          2849754.134712133,
          2976573.543000213,
          2641698.312798798,
          2473220.947057426,
          2489937.094243774,
          2628412.960279277,
          2777864.045104836,
          2743092.531527222,
          2479732.522722125,
          2498179.236194718,
          2650415.988756866,
          2829730.337627514,
          3199229.247254669,
          2965153.067095987,
          2700601.323781384,
          2752983.760156098,
          2908017.642712957,
          2393248.815399134,
          2601796.372923764,
          2816764.091487347,
          2706821.881260899,
          2488000.731786813,
          2431546.562163545,
          2293915.175271454,
          2374437.704836953,
          2290643.888921742,
          2303084.746520452,
          2667261.281390637,
          2926976.797311885,
          2246979.393866457,
          2194879.158025778,
          2074167.188045989,
          2189993.905197012,
          2192346.341715035,
          2283798.333151146,
          2474775.642198499,
          2258362.0058612,
          2612628.542620118,
          2498177.779799757,
          2779525.406261482,
          2831082.299887066,
          2400010.702203261,
          2431621.266151989,
          2416853.005066616,
          2343154.215106094,
          2310535.502308555,
          2453948.263104522,
          2297872.454003762,
          2419297.036745709,
          2402847.39247223,
          2492744.652081301,
          2867760.597305155,
          2973968.438278548,
          2334842.709824163,
          2309118.541051005,
          2285584.819806868,
          2603077.282701191,
          2551206.870508204,
          2526078.735916106,
          2657056.073255902,
          2513572.914824786,
          2429701.081540268,
          2614876.439223284,
          2882788.294725833,
          3284553.828919528,
          2881038.699104385,
          2859809.100474077,
          2731322.770021687,
          2404740.069038821,
          2431564.151396827,
          2377516.143491353,
          2608994.743909604,
          2516576.09839022,
          2379023.177337916,
          2315196.40272791,
          2456017.720800763,
          2220530.568650034,
          1701011.572556342,
          1761310.019759649,
          2001726.815884218,
          2301765.934298746,
          2651172.772551851,
          2743252.038333858,
          2853330.470262835,
          3140282.498625233,
          3233130.237391281,
          2837332.082418947,
          3159768.506027024,
          3069332.639419259,
          3235238.668231891,
          3293143.103421631,
          3428334.409442499,
          3409453.198293967,
          2749988.691673775,
          2761366.61097433,
          2873655.990786887,
          2773094.180603982,
          2718479.208870341,
          2785053.865600151
         ],
         "yaxis": "y"
        },
        {
         "hovertemplate": "<b>%{hovertext}</b><br><br>State=QLD<br>WC Date=%{x}<br>Sales=%{y}<extra></extra>",
         "hovertext": [
          "Sep",
          "Sep",
          "Sep",
          "Sep",
          "Oct",
          "Oct",
          "Oct",
          "Oct",
          "Oct",
          "Nov",
          "Nov",
          "Nov",
          "Nov",
          "Dec",
          "Dec",
          "Dec",
          "Dec",
          "Dec",
          "Jan",
          "Jan",
          "Jan",
          "Jan",
          "Feb",
          "Feb",
          "Feb",
          "Feb",
          "Mar",
          "Mar",
          "Mar",
          "Mar",
          "Apr",
          "Apr",
          "Apr",
          "Apr",
          "Apr",
          "May",
          "May",
          "May",
          "May",
          "Jun",
          "Jun",
          "Jun",
          "Jun",
          "Jul",
          "Jul",
          "Jul",
          "Jul",
          "Jul",
          "Aug",
          "Aug",
          "Aug",
          "Aug",
          "Sep",
          "Sep",
          "Sep",
          "Sep",
          "Sep",
          "Oct",
          "Oct",
          "Oct",
          "Oct",
          "Nov",
          "Nov",
          "Nov",
          "Nov",
          "Dec",
          "Dec",
          "Dec",
          "Dec",
          "Dec",
          "Jan",
          "Jan",
          "Jan",
          "Jan",
          "Feb",
          "Feb",
          "Feb",
          "Feb",
          "Mar",
          "Mar",
          "Mar",
          "Mar",
          "Mar",
          "Apr",
          "Apr",
          "Apr",
          "Apr",
          "May",
          "May",
          "May",
          "May",
          "Jun",
          "Jun",
          "Jun",
          "Jun",
          "Jun",
          "Jul",
          "Jul",
          "Jul",
          "Jul",
          "Aug",
          "Aug",
          "Aug",
          "Aug",
          "Sep",
          "Sep",
          "Sep",
          "Sep",
          "Sep",
          "Oct",
          "Oct",
          "Oct",
          "Oct",
          "Nov",
          "Nov",
          "Nov",
          "Nov",
          "Dec",
          "Dec",
          "Dec",
          "Dec",
          "Dec",
          "Jan",
          "Jan",
          "Jan",
          "Jan",
          "Feb",
          "Feb",
          "Feb",
          "Feb",
          "Mar",
          "Mar",
          "Mar",
          "Mar",
          "Mar",
          "Apr",
          "Apr",
          "Apr",
          "Apr",
          "May",
          "May",
          "May",
          "May",
          "May",
          "Jun",
          "Jun",
          "Jun",
          "Jun",
          "Jul",
          "Jul",
          "Jul",
          "Jul",
          "Aug",
          "Aug",
          "Aug",
          "Aug"
         ],
         "legendgroup": "QLD",
         "line": {
          "color": "#ab63fa",
          "dash": "solid"
         },
         "mode": "lines",
         "name": "QLD",
         "orientation": "v",
         "showlegend": true,
         "type": "scatter",
         "x": [
          "2017-09-03T00:00:00",
          "2017-09-10T00:00:00",
          "2017-09-17T00:00:00",
          "2017-09-24T00:00:00",
          "2017-10-01T00:00:00",
          "2017-10-08T00:00:00",
          "2017-10-15T00:00:00",
          "2017-10-22T00:00:00",
          "2017-10-29T00:00:00",
          "2017-11-05T00:00:00",
          "2017-11-12T00:00:00",
          "2017-11-19T00:00:00",
          "2017-11-26T00:00:00",
          "2017-12-03T00:00:00",
          "2017-12-10T00:00:00",
          "2017-12-17T00:00:00",
          "2017-12-24T00:00:00",
          "2017-12-31T00:00:00",
          "2018-01-07T00:00:00",
          "2018-01-14T00:00:00",
          "2018-01-21T00:00:00",
          "2018-01-28T00:00:00",
          "2018-02-04T00:00:00",
          "2018-02-11T00:00:00",
          "2018-02-18T00:00:00",
          "2018-02-25T00:00:00",
          "2018-03-04T00:00:00",
          "2018-03-11T00:00:00",
          "2018-03-18T00:00:00",
          "2018-03-25T00:00:00",
          "2018-04-01T00:00:00",
          "2018-04-08T00:00:00",
          "2018-04-15T00:00:00",
          "2018-04-22T00:00:00",
          "2018-04-29T00:00:00",
          "2018-05-06T00:00:00",
          "2018-05-13T00:00:00",
          "2018-05-20T00:00:00",
          "2018-05-27T00:00:00",
          "2018-06-03T00:00:00",
          "2018-06-10T00:00:00",
          "2018-06-17T00:00:00",
          "2018-06-24T00:00:00",
          "2018-07-01T00:00:00",
          "2018-07-08T00:00:00",
          "2018-07-15T00:00:00",
          "2018-07-22T00:00:00",
          "2018-07-29T00:00:00",
          "2018-08-05T00:00:00",
          "2018-08-12T00:00:00",
          "2018-08-19T00:00:00",
          "2018-08-26T00:00:00",
          "2018-09-02T00:00:00",
          "2018-09-09T00:00:00",
          "2018-09-16T00:00:00",
          "2018-09-23T00:00:00",
          "2018-09-30T00:00:00",
          "2018-10-07T00:00:00",
          "2018-10-14T00:00:00",
          "2018-10-21T00:00:00",
          "2018-10-28T00:00:00",
          "2018-11-04T00:00:00",
          "2018-11-11T00:00:00",
          "2018-11-18T00:00:00",
          "2018-11-25T00:00:00",
          "2018-12-02T00:00:00",
          "2018-12-09T00:00:00",
          "2018-12-16T00:00:00",
          "2018-12-23T00:00:00",
          "2018-12-30T00:00:00",
          "2019-01-06T00:00:00",
          "2019-01-13T00:00:00",
          "2019-01-20T00:00:00",
          "2019-01-27T00:00:00",
          "2019-02-03T00:00:00",
          "2019-02-10T00:00:00",
          "2019-02-17T00:00:00",
          "2019-02-24T00:00:00",
          "2019-03-03T00:00:00",
          "2019-03-10T00:00:00",
          "2019-03-17T00:00:00",
          "2019-03-24T00:00:00",
          "2019-03-31T00:00:00",
          "2019-04-07T00:00:00",
          "2019-04-14T00:00:00",
          "2019-04-21T00:00:00",
          "2019-04-28T00:00:00",
          "2019-05-05T00:00:00",
          "2019-05-12T00:00:00",
          "2019-05-19T00:00:00",
          "2019-05-26T00:00:00",
          "2019-06-02T00:00:00",
          "2019-06-09T00:00:00",
          "2019-06-16T00:00:00",
          "2019-06-23T00:00:00",
          "2019-06-30T00:00:00",
          "2019-07-07T00:00:00",
          "2019-07-14T00:00:00",
          "2019-07-21T00:00:00",
          "2019-07-28T00:00:00",
          "2019-08-04T00:00:00",
          "2019-08-11T00:00:00",
          "2019-08-18T00:00:00",
          "2019-08-25T00:00:00",
          "2019-09-01T00:00:00",
          "2019-09-08T00:00:00",
          "2019-09-15T00:00:00",
          "2019-09-22T00:00:00",
          "2019-09-29T00:00:00",
          "2019-10-06T00:00:00",
          "2019-10-13T00:00:00",
          "2019-10-20T00:00:00",
          "2019-10-27T00:00:00",
          "2019-11-03T00:00:00",
          "2019-11-10T00:00:00",
          "2019-11-17T00:00:00",
          "2019-11-24T00:00:00",
          "2019-12-01T00:00:00",
          "2019-12-08T00:00:00",
          "2019-12-15T00:00:00",
          "2019-12-22T00:00:00",
          "2019-12-29T00:00:00",
          "2020-01-05T00:00:00",
          "2020-01-12T00:00:00",
          "2020-01-19T00:00:00",
          "2020-01-26T00:00:00",
          "2020-02-02T00:00:00",
          "2020-02-09T00:00:00",
          "2020-02-16T00:00:00",
          "2020-02-23T00:00:00",
          "2020-03-01T00:00:00",
          "2020-03-08T00:00:00",
          "2020-03-15T00:00:00",
          "2020-03-22T00:00:00",
          "2020-03-29T00:00:00",
          "2020-04-05T00:00:00",
          "2020-04-12T00:00:00",
          "2020-04-19T00:00:00",
          "2020-04-26T00:00:00",
          "2020-05-03T00:00:00",
          "2020-05-10T00:00:00",
          "2020-05-17T00:00:00",
          "2020-05-24T00:00:00",
          "2020-05-31T00:00:00",
          "2020-06-07T00:00:00",
          "2020-06-14T00:00:00",
          "2020-06-21T00:00:00",
          "2020-06-28T00:00:00",
          "2020-07-05T00:00:00",
          "2020-07-12T00:00:00",
          "2020-07-19T00:00:00",
          "2020-07-26T00:00:00",
          "2020-08-02T00:00:00",
          "2020-08-09T00:00:00",
          "2020-08-16T00:00:00",
          "2020-08-23T00:00:00"
         ],
         "xaxis": "x",
         "y": [
          1456749.821680669,
          1534787.689347492,
          1774839.88347618,
          1753178.898349389,
          1691050.513187018,
          1507033.432421429,
          1956695.427289216,
          1648118.386818791,
          1534104.740191472,
          1568471.932253168,
          1688016.093833182,
          1605426.150268957,
          1638023.181773366,
          1610021.26414592,
          1665792.631000376,
          1655232.307499588,
          1815848.869384465,
          1968391.071732298,
          1755162.380699401,
          1629537.189071234,
          1595061.987089272,
          1543900.35979147,
          1622902.254502431,
          1469509.094261891,
          1555863.718180119,
          1472956.492495561,
          1503381.881944096,
          1526487.825585188,
          1421150.949279774,
          1375277.156382017,
          1642219.133245151,
          1531576.404075768,
          1342945.324496384,
          1333821.055650478,
          1426081.783077653,
          1189413.185666636,
          1309141.164662231,
          1328817.968454379,
          1403321.867336487,
          1416861.672395708,
          1397492.448613371,
          1602144.160934377,
          1797459.868533632,
          1827154.183807981,
          1967372.385809524,
          1639003.453335985,
          1544004.085250225,
          1535332.476008081,
          1462526.615880833,
          1633045.715241883,
          1453677.514997708,
          1566857.324099025,
          1507040.970986787,
          1500157.605232932,
          1470746.067295998,
          1795086.600222788,
          1846409.386916161,
          1482298.166746099,
          1858735.458407412,
          1454633.223085482,
          1359207.536770366,
          1463013.997196933,
          1490896.909712704,
          1763867.974841653,
          1532319.95840338,
          1449834.925151109,
          1458036.880449054,
          1558378.200347072,
          1605247.042552714,
          2002828.751784388,
          1657915.737934858,
          1601454.993859546,
          1483636.053363327,
          1567159.868827462,
          1438329.882629128,
          1374760.422996332,
          1492654.393962838,
          1461048.638665069,
          1327976.341461795,
          1334490.303921555,
          1316664.331294548,
          1373770.744418486,
          1323576.782596606,
          1654427.42205194,
          1594175.910451714,
          1676458.619381744,
          1375497.584773819,
          1187534.732224661,
          1224850.262441781,
          1229307.00406177,
          1208459.536688026,
          1343753.958270939,
          1323108.100584083,
          1379676.677990926,
          1632373.080446712,
          1656075.311820859,
          1709375.744867692,
          1603322.806574652,
          1479491.473559025,
          1477875.569902922,
          1415485.685571061,
          1528399.089550004,
          1386056.499767869,
          1435886.342924406,
          1278234.415688925,
          1330873.566445217,
          1404568.937617396,
          1604997.169882492,
          1666193.96166078,
          1561122.32832615,
          1402166.074982404,
          1388613.046347617,
          1406763.730186666,
          1511576.258024004,
          1512120.27588973,
          1475401.951366117,
          1543189.18018134,
          1484399.693175397,
          1467696.625796469,
          1537257.299141634,
          1581484.646226852,
          2056957.858462906,
          1628218.821743747,
          1695370.622457228,
          1561296.683547747,
          1410114.362203361,
          1408628.515268111,
          1412105.905554767,
          1409634.897464058,
          1418293.485998195,
          1305164.304014362,
          1302575.473703268,
          1201520.335257932,
          1110406.118750007,
          922123.1204248591,
          944317.2157832992,
          1186213.619117522,
          1074705.012568912,
          1702624.973825812,
          1669242.69398891,
          1725955.375488056,
          2053087.684033857,
          2013970.126972645,
          1904467.812753475,
          1910878.373662383,
          1904510.761670838,
          2086928.612175911,
          2184875.449400435,
          2187607.983157181,
          2234889.898019568,
          2223249.674250581,
          2027476.864124658,
          1857994.951040521,
          2158145.842390456,
          1874397.593467169,
          1592760.490111639
         ],
         "yaxis": "y"
        },
        {
         "hovertemplate": "<b>%{hovertext}</b><br><br>State=SA<br>WC Date=%{x}<br>Sales=%{y}<extra></extra>",
         "hovertext": [
          "Apr",
          "Apr",
          "Apr",
          "Apr",
          "May",
          "May",
          "May",
          "May",
          "Jun",
          "Jun",
          "Jun",
          "Jun",
          "Jul",
          "Jul",
          "Jul",
          "Jul",
          "Jul",
          "Aug",
          "Aug",
          "Aug",
          "Aug",
          "Sep",
          "Sep",
          "Sep",
          "Sep",
          "Sep",
          "Oct",
          "Oct",
          "Oct",
          "Oct",
          "Nov",
          "Nov",
          "Nov",
          "Nov",
          "Dec",
          "Dec",
          "Dec",
          "Dec",
          "Dec",
          "Jan",
          "Jan",
          "Jan",
          "Jan",
          "Feb",
          "Feb",
          "Feb",
          "Feb",
          "Mar",
          "Mar",
          "Mar",
          "Mar",
          "Mar",
          "Apr",
          "Apr",
          "Apr",
          "Apr",
          "May",
          "May",
          "May",
          "May",
          "Jun",
          "Jun",
          "Jun",
          "Jun",
          "Jun",
          "Jul",
          "Jul",
          "Jul",
          "Jul",
          "Aug",
          "Aug",
          "Aug",
          "Aug",
          "Sep",
          "Sep",
          "Sep",
          "Sep",
          "Sep",
          "Oct",
          "Oct",
          "Oct",
          "Oct",
          "Nov",
          "Nov",
          "Nov",
          "Nov",
          "Dec",
          "Dec",
          "Dec",
          "Dec",
          "Dec",
          "Jan",
          "Jan",
          "Jan",
          "Jan",
          "Feb",
          "Feb",
          "Feb",
          "Feb",
          "Mar",
          "Mar",
          "Mar",
          "Mar",
          "Mar",
          "Apr",
          "Apr",
          "Apr",
          "Apr",
          "May",
          "May",
          "May",
          "May",
          "May",
          "Jun",
          "Jun",
          "Jun",
          "Jun",
          "Jul",
          "Jul",
          "Jul",
          "Jul",
          "Aug",
          "Aug",
          "Aug",
          "Aug"
         ],
         "legendgroup": "SA",
         "line": {
          "color": "#FFA15A",
          "dash": "solid"
         },
         "mode": "lines",
         "name": "SA",
         "orientation": "v",
         "showlegend": true,
         "type": "scatter",
         "x": [
          "2018-04-08T00:00:00",
          "2018-04-15T00:00:00",
          "2018-04-22T00:00:00",
          "2018-04-29T00:00:00",
          "2018-05-06T00:00:00",
          "2018-05-13T00:00:00",
          "2018-05-20T00:00:00",
          "2018-05-27T00:00:00",
          "2018-06-03T00:00:00",
          "2018-06-10T00:00:00",
          "2018-06-17T00:00:00",
          "2018-06-24T00:00:00",
          "2018-07-01T00:00:00",
          "2018-07-08T00:00:00",
          "2018-07-15T00:00:00",
          "2018-07-22T00:00:00",
          "2018-07-29T00:00:00",
          "2018-08-05T00:00:00",
          "2018-08-12T00:00:00",
          "2018-08-19T00:00:00",
          "2018-08-26T00:00:00",
          "2018-09-02T00:00:00",
          "2018-09-09T00:00:00",
          "2018-09-16T00:00:00",
          "2018-09-23T00:00:00",
          "2018-09-30T00:00:00",
          "2018-10-07T00:00:00",
          "2018-10-14T00:00:00",
          "2018-10-21T00:00:00",
          "2018-10-28T00:00:00",
          "2018-11-04T00:00:00",
          "2018-11-11T00:00:00",
          "2018-11-18T00:00:00",
          "2018-11-25T00:00:00",
          "2018-12-02T00:00:00",
          "2018-12-09T00:00:00",
          "2018-12-16T00:00:00",
          "2018-12-23T00:00:00",
          "2018-12-30T00:00:00",
          "2019-01-06T00:00:00",
          "2019-01-13T00:00:00",
          "2019-01-20T00:00:00",
          "2019-01-27T00:00:00",
          "2019-02-03T00:00:00",
          "2019-02-10T00:00:00",
          "2019-02-17T00:00:00",
          "2019-02-24T00:00:00",
          "2019-03-03T00:00:00",
          "2019-03-10T00:00:00",
          "2019-03-17T00:00:00",
          "2019-03-24T00:00:00",
          "2019-03-31T00:00:00",
          "2019-04-07T00:00:00",
          "2019-04-14T00:00:00",
          "2019-04-21T00:00:00",
          "2019-04-28T00:00:00",
          "2019-05-05T00:00:00",
          "2019-05-12T00:00:00",
          "2019-05-19T00:00:00",
          "2019-05-26T00:00:00",
          "2019-06-02T00:00:00",
          "2019-06-09T00:00:00",
          "2019-06-16T00:00:00",
          "2019-06-23T00:00:00",
          "2019-06-30T00:00:00",
          "2019-07-07T00:00:00",
          "2019-07-14T00:00:00",
          "2019-07-21T00:00:00",
          "2019-07-28T00:00:00",
          "2019-08-04T00:00:00",
          "2019-08-11T00:00:00",
          "2019-08-18T00:00:00",
          "2019-08-25T00:00:00",
          "2019-09-01T00:00:00",
          "2019-09-08T00:00:00",
          "2019-09-15T00:00:00",
          "2019-09-22T00:00:00",
          "2019-09-29T00:00:00",
          "2019-10-06T00:00:00",
          "2019-10-13T00:00:00",
          "2019-10-20T00:00:00",
          "2019-10-27T00:00:00",
          "2019-11-03T00:00:00",
          "2019-11-10T00:00:00",
          "2019-11-17T00:00:00",
          "2019-11-24T00:00:00",
          "2019-12-01T00:00:00",
          "2019-12-08T00:00:00",
          "2019-12-15T00:00:00",
          "2019-12-22T00:00:00",
          "2019-12-29T00:00:00",
          "2020-01-05T00:00:00",
          "2020-01-12T00:00:00",
          "2020-01-19T00:00:00",
          "2020-01-26T00:00:00",
          "2020-02-02T00:00:00",
          "2020-02-09T00:00:00",
          "2020-02-16T00:00:00",
          "2020-02-23T00:00:00",
          "2020-03-01T00:00:00",
          "2020-03-08T00:00:00",
          "2020-03-15T00:00:00",
          "2020-03-22T00:00:00",
          "2020-03-29T00:00:00",
          "2020-04-05T00:00:00",
          "2020-04-12T00:00:00",
          "2020-04-19T00:00:00",
          "2020-04-26T00:00:00",
          "2020-05-03T00:00:00",
          "2020-05-10T00:00:00",
          "2020-05-17T00:00:00",
          "2020-05-24T00:00:00",
          "2020-05-31T00:00:00",
          "2020-06-07T00:00:00",
          "2020-06-14T00:00:00",
          "2020-06-21T00:00:00",
          "2020-06-28T00:00:00",
          "2020-07-05T00:00:00",
          "2020-07-12T00:00:00",
          "2020-07-19T00:00:00",
          "2020-07-26T00:00:00",
          "2020-08-02T00:00:00",
          "2020-08-09T00:00:00",
          "2020-08-16T00:00:00",
          "2020-08-23T00:00:00"
         ],
         "xaxis": "x",
         "y": [
          400865.5942368279,
          657233.7868671131,
          663677.2143339734,
          586027.4336904192,
          549508.9887556235,
          561596.514841827,
          538847.9890731517,
          580693.5707913288,
          611636.3615496675,
          730999.3000280409,
          620624.6182406824,
          673308.7695076725,
          640879.9332476843,
          835080.9209669736,
          809889.1239521452,
          644632.8203335684,
          623623.6896600793,
          601153.6528157123,
          669096.4673406447,
          656940.5545830046,
          651868.7782019061,
          610145.5960299784,
          616001.7629429558,
          643527.1579614445,
          662525.5101869374,
          767026.4713161901,
          669035.780101513,
          759179.1255445003,
          635173.1038493847,
          579860.9171817292,
          646444.6614734804,
          642961.0204111884,
          686086.3042189177,
          676449.4860504445,
          636530.8240177674,
          661589.6985084334,
          764980.9053404232,
          685639.1505879486,
          859353.8958398572,
          776983.283209589,
          706731.9468155468,
          689287.5108206666,
          719564.5447115924,
          649520.7273119265,
          612474.2216339682,
          636954.4281801987,
          612651.6904970894,
          574001.8347836128,
          657814.5355982888,
          550170.7159371822,
          606711.5232173917,
          575770.9589081992,
          585792.345872728,
          627905.9280798291,
          761489.2692836208,
          554482.4095072198,
          547822.3661821211,
          510171.4485890071,
          528341.5983173335,
          562660.9114362687,
          595025.6970072171,
          620087.1045860146,
          574527.2682491948,
          607934.0837037407,
          639633.0362748061,
          787467.9700340193,
          846392.3945183943,
          651181.922916776,
          622997.8517348194,
          604555.8197024338,
          591304.7999840134,
          587226.9912214716,
          606485.5090474456,
          556901.9528593548,
          596379.967943838,
          596801.0934227039,
          609629.2295615955,
          718871.6587508591,
          757114.8489928043,
          592081.1603419567,
          576436.2141359748,
          594374.417906475,
          673934.1718955361,
          655740.7612358754,
          575697.6414526319,
          689475.940551434,
          626931.51197009,
          656033.5183385262,
          650507.5085346429,
          682928.09250898,
          862438.1379979082,
          783664.6525817156,
          735173.3584425402,
          733682.57217429,
          649208.8228957779,
          624552.8081683754,
          626204.594176703,
          628911.0188964136,
          641206.752238481,
          616955.852229958,
          645876.0196360071,
          550431.5057676043,
          519699.6367647689,
          434968.4837425775,
          463984.1050517507,
          572831.4525708881,
          662540.9371899619,
          795170.2510771989,
          760702.1941571732,
          733559.4535173527,
          831052.0951193497,
          793419.3120327003,
          718261.8280106776,
          724039.3751556986,
          768001.7118540583,
          782321.9921927159,
          851777.2232811713,
          947364.0192535142,
          994487.5326324198,
          867503.7458149143,
          803199.6537399931,
          806256.3294526666,
          833751.1414029963,
          853024.7153598325,
          756391.4052443217
         ],
         "yaxis": "y"
        },
        {
         "hovertemplate": "<b>%{hovertext}</b><br><br>State=VIC<br>WC Date=%{x}<br>Sales=%{y}<extra></extra>",
         "hovertext": [
          "Sep",
          "Sep",
          "Sep",
          "Sep",
          "Oct",
          "Oct",
          "Oct",
          "Oct",
          "Oct",
          "Nov",
          "Nov",
          "Nov",
          "Nov",
          "Dec",
          "Dec",
          "Dec",
          "Dec",
          "Dec",
          "Jan",
          "Jan",
          "Jan",
          "Jan",
          "Feb",
          "Feb",
          "Feb",
          "Feb",
          "Mar",
          "Mar",
          "Mar",
          "Mar",
          "Apr",
          "Apr",
          "Apr",
          "Apr",
          "Apr",
          "May",
          "May",
          "May",
          "May",
          "Jun",
          "Jun",
          "Jun",
          "Jun",
          "Jul",
          "Jul",
          "Jul",
          "Jul",
          "Jul",
          "Aug",
          "Aug",
          "Aug",
          "Aug",
          "Sep",
          "Sep",
          "Sep",
          "Sep",
          "Sep",
          "Oct",
          "Oct",
          "Oct",
          "Oct",
          "Nov",
          "Nov",
          "Nov",
          "Nov",
          "Dec",
          "Dec",
          "Dec",
          "Dec",
          "Dec",
          "Jan",
          "Jan",
          "Jan",
          "Jan",
          "Feb",
          "Feb",
          "Feb",
          "Feb",
          "Mar",
          "Mar",
          "Mar",
          "Mar",
          "Mar",
          "Apr",
          "Apr",
          "Apr",
          "Apr",
          "May",
          "May",
          "May",
          "May",
          "Jun",
          "Jun",
          "Jun",
          "Jun",
          "Jun",
          "Jul",
          "Jul",
          "Jul",
          "Jul",
          "Aug",
          "Aug",
          "Aug",
          "Aug",
          "Sep",
          "Sep",
          "Sep",
          "Sep",
          "Sep",
          "Oct",
          "Oct",
          "Oct",
          "Oct",
          "Nov",
          "Nov",
          "Nov",
          "Nov",
          "Dec",
          "Dec",
          "Dec",
          "Dec",
          "Dec",
          "Jan",
          "Jan",
          "Jan",
          "Jan",
          "Feb",
          "Feb",
          "Feb",
          "Feb",
          "Mar",
          "Mar",
          "Mar",
          "Mar",
          "Mar",
          "Apr",
          "Apr",
          "Apr",
          "Apr",
          "May",
          "May",
          "May",
          "May",
          "May",
          "Jun",
          "Jun",
          "Jun",
          "Jun",
          "Jul",
          "Jul",
          "Jul",
          "Jul",
          "Aug",
          "Aug",
          "Aug",
          "Aug"
         ],
         "legendgroup": "VIC",
         "line": {
          "color": "#147852",
          "dash": "solid"
         },
         "mode": "lines",
         "name": "VIC",
         "orientation": "v",
         "showlegend": true,
         "type": "scatter",
         "x": [
          "2017-09-03T00:00:00",
          "2017-09-10T00:00:00",
          "2017-09-17T00:00:00",
          "2017-09-24T00:00:00",
          "2017-10-01T00:00:00",
          "2017-10-08T00:00:00",
          "2017-10-15T00:00:00",
          "2017-10-22T00:00:00",
          "2017-10-29T00:00:00",
          "2017-11-05T00:00:00",
          "2017-11-12T00:00:00",
          "2017-11-19T00:00:00",
          "2017-11-26T00:00:00",
          "2017-12-03T00:00:00",
          "2017-12-10T00:00:00",
          "2017-12-17T00:00:00",
          "2017-12-24T00:00:00",
          "2017-12-31T00:00:00",
          "2018-01-07T00:00:00",
          "2018-01-14T00:00:00",
          "2018-01-21T00:00:00",
          "2018-01-28T00:00:00",
          "2018-02-04T00:00:00",
          "2018-02-11T00:00:00",
          "2018-02-18T00:00:00",
          "2018-02-25T00:00:00",
          "2018-03-04T00:00:00",
          "2018-03-11T00:00:00",
          "2018-03-18T00:00:00",
          "2018-03-25T00:00:00",
          "2018-04-01T00:00:00",
          "2018-04-08T00:00:00",
          "2018-04-15T00:00:00",
          "2018-04-22T00:00:00",
          "2018-04-29T00:00:00",
          "2018-05-06T00:00:00",
          "2018-05-13T00:00:00",
          "2018-05-20T00:00:00",
          "2018-05-27T00:00:00",
          "2018-06-03T00:00:00",
          "2018-06-10T00:00:00",
          "2018-06-17T00:00:00",
          "2018-06-24T00:00:00",
          "2018-07-01T00:00:00",
          "2018-07-08T00:00:00",
          "2018-07-15T00:00:00",
          "2018-07-22T00:00:00",
          "2018-07-29T00:00:00",
          "2018-08-05T00:00:00",
          "2018-08-12T00:00:00",
          "2018-08-19T00:00:00",
          "2018-08-26T00:00:00",
          "2018-09-02T00:00:00",
          "2018-09-09T00:00:00",
          "2018-09-16T00:00:00",
          "2018-09-23T00:00:00",
          "2018-09-30T00:00:00",
          "2018-10-07T00:00:00",
          "2018-10-14T00:00:00",
          "2018-10-21T00:00:00",
          "2018-10-28T00:00:00",
          "2018-11-04T00:00:00",
          "2018-11-11T00:00:00",
          "2018-11-18T00:00:00",
          "2018-11-25T00:00:00",
          "2018-12-02T00:00:00",
          "2018-12-09T00:00:00",
          "2018-12-16T00:00:00",
          "2018-12-23T00:00:00",
          "2018-12-30T00:00:00",
          "2019-01-06T00:00:00",
          "2019-01-13T00:00:00",
          "2019-01-20T00:00:00",
          "2019-01-27T00:00:00",
          "2019-02-03T00:00:00",
          "2019-02-10T00:00:00",
          "2019-02-17T00:00:00",
          "2019-02-24T00:00:00",
          "2019-03-03T00:00:00",
          "2019-03-10T00:00:00",
          "2019-03-17T00:00:00",
          "2019-03-24T00:00:00",
          "2019-03-31T00:00:00",
          "2019-04-07T00:00:00",
          "2019-04-14T00:00:00",
          "2019-04-21T00:00:00",
          "2019-04-28T00:00:00",
          "2019-05-05T00:00:00",
          "2019-05-12T00:00:00",
          "2019-05-19T00:00:00",
          "2019-05-26T00:00:00",
          "2019-06-02T00:00:00",
          "2019-06-09T00:00:00",
          "2019-06-16T00:00:00",
          "2019-06-23T00:00:00",
          "2019-06-30T00:00:00",
          "2019-07-07T00:00:00",
          "2019-07-14T00:00:00",
          "2019-07-21T00:00:00",
          "2019-07-28T00:00:00",
          "2019-08-04T00:00:00",
          "2019-08-11T00:00:00",
          "2019-08-18T00:00:00",
          "2019-08-25T00:00:00",
          "2019-09-01T00:00:00",
          "2019-09-08T00:00:00",
          "2019-09-15T00:00:00",
          "2019-09-22T00:00:00",
          "2019-09-29T00:00:00",
          "2019-10-06T00:00:00",
          "2019-10-13T00:00:00",
          "2019-10-20T00:00:00",
          "2019-10-27T00:00:00",
          "2019-11-03T00:00:00",
          "2019-11-10T00:00:00",
          "2019-11-17T00:00:00",
          "2019-11-24T00:00:00",
          "2019-12-01T00:00:00",
          "2019-12-08T00:00:00",
          "2019-12-15T00:00:00",
          "2019-12-22T00:00:00",
          "2019-12-29T00:00:00",
          "2020-01-05T00:00:00",
          "2020-01-12T00:00:00",
          "2020-01-19T00:00:00",
          "2020-01-26T00:00:00",
          "2020-02-02T00:00:00",
          "2020-02-09T00:00:00",
          "2020-02-16T00:00:00",
          "2020-02-23T00:00:00",
          "2020-03-01T00:00:00",
          "2020-03-08T00:00:00",
          "2020-03-15T00:00:00",
          "2020-03-22T00:00:00",
          "2020-03-29T00:00:00",
          "2020-04-05T00:00:00",
          "2020-04-12T00:00:00",
          "2020-04-19T00:00:00",
          "2020-04-26T00:00:00",
          "2020-05-03T00:00:00",
          "2020-05-10T00:00:00",
          "2020-05-17T00:00:00",
          "2020-05-24T00:00:00",
          "2020-05-31T00:00:00",
          "2020-06-07T00:00:00",
          "2020-06-14T00:00:00",
          "2020-06-21T00:00:00",
          "2020-06-28T00:00:00",
          "2020-07-05T00:00:00",
          "2020-07-12T00:00:00",
          "2020-07-19T00:00:00",
          "2020-07-26T00:00:00",
          "2020-08-02T00:00:00",
          "2020-08-09T00:00:00",
          "2020-08-16T00:00:00",
          "2020-08-23T00:00:00"
         ],
         "xaxis": "x",
         "y": [
          2173977.032103576,
          2155545.919121663,
          2094841.011162552,
          2535675.241826159,
          2277493.607088,
          2090769.646315287,
          2406385.618249251,
          2321607.038115114,
          2227304.303168017,
          2474567.442304043,
          2079246.102508494,
          2155092.972983506,
          2170995.596594645,
          2311007.000114306,
          2200351.355759795,
          2226552.999406351,
          2569976.924285516,
          2703696.420633273,
          2633425.684279039,
          2441590.702176922,
          2550230.036771949,
          2319860.821588857,
          2305724.717296751,
          2370859.551373887,
          2451106.908758114,
          2273881.087206302,
          2201063.984329701,
          2401900.135853213,
          2020154.924455441,
          1982375.328382093,
          2483149.658817093,
          2142913.399136052,
          1944490.194422666,
          2147764.540921825,
          1992149.34962534,
          1959592.491759138,
          1847383.400213798,
          1910937.959403426,
          1898237.871921008,
          2007181.390823723,
          2222416.604624206,
          2111350.165408474,
          2509343.295742664,
          2450833.459168972,
          2550019.662793044,
          2313008.254098248,
          2196070.137978665,
          2132653.526082675,
          2135261.484636801,
          2096010.598244163,
          1928359.995514112,
          1961862.905673692,
          1928044.768737992,
          2027238.264860422,
          1988308.729183352,
          2651288.257257362,
          2211910.062609156,
          1841606.550781404,
          2340974.309839563,
          2081153.584779695,
          1945009.321956953,
          2376393.022871379,
          2039072.683144861,
          2124476.198871993,
          2075552.517656174,
          2055818.186120559,
          2034019.500056891,
          2113241.845557682,
          2187942.357937597,
          2682474.05173244,
          2272346.405283296,
          2168463.14515707,
          2178356.796107219,
          2317152.911697342,
          1985256.803878911,
          2057109.750094871,
          2258835.510022541,
          2216759.019099752,
          1997952.079035663,
          2147760.302149362,
          1787288.858660694,
          1914185.829273157,
          1865379.410202064,
          2094467.535230382,
          2018008.918502097,
          2568052.56824491,
          1779656.909040528,
          1722448.613671838,
          1657780.992908588,
          1752500.806801457,
          1782254.168300464,
          1847675.897674954,
          2033234.377621999,
          1862298.878673657,
          2051178.251334092,
          2151699.536727613,
          2256548.294197786,
          2086616.765145305,
          1978913.478295632,
          1946932.960311908,
          1963266.508336586,
          1854653.479729932,
          1836769.413827782,
          1849765.487929735,
          1859628.511194323,
          1916279.930440686,
          1910292.637399483,
          2300727.711495953,
          2090430.435594788,
          1806228.030073318,
          1879606.812678967,
          1904957.147936894,
          1947752.964673786,
          2557737.929951426,
          2036592.755721962,
          1984176.779989305,
          2069824.944404338,
          2051208.77507349,
          2030062.480177317,
          2026438.780978565,
          2317947.2075929,
          2699077.634855784,
          2459248.99120319,
          2304847.776112456,
          2259382.09983543,
          2169872.786042465,
          2056900.449469137,
          2131372.68290389,
          2186388.187919467,
          2129710.107863768,
          1974105.614269987,
          2089247.921319393,
          1872791.91739453,
          1612683.336626691,
          1235302.134948292,
          1294007.234255016,
          1456142.571636864,
          1494888.586703174,
          1838797.679825191,
          1820176.199552675,
          1992516.726593521,
          2380274.942899977,
          2474395.449158682,
          2366523.295919454,
          2414120.51889532,
          2393014.988591331,
          2410339.456042459,
          2452462.002642554,
          2052963.758172008,
          1748782.736679036,
          1474484.029808089,
          1534077.680473221,
          923406.3721405836,
          101105.8778725927,
          137552.9633831789,
          77309.11116223564
         ],
         "yaxis": "y"
        },
        {
         "hovertemplate": "<b>%{hovertext}</b><br><br>State=WA<br>WC Date=%{x}<br>Sales=%{y}<extra></extra>",
         "hovertext": [
          "Apr",
          "Apr",
          "Apr",
          "Apr",
          "Apr",
          "May",
          "May",
          "May",
          "May",
          "Jun",
          "Jun",
          "Jun",
          "Jun",
          "Jul",
          "Jul",
          "Jul",
          "Jul",
          "Jul",
          "Aug",
          "Aug",
          "Aug",
          "Aug",
          "Sep",
          "Sep",
          "Sep",
          "Sep",
          "Sep",
          "Oct",
          "Oct",
          "Oct",
          "Oct",
          "Nov",
          "Nov",
          "Nov",
          "Nov",
          "Dec",
          "Dec",
          "Dec",
          "Dec",
          "Dec",
          "Jan",
          "Jan",
          "Jan",
          "Jan",
          "Feb",
          "Feb",
          "Feb",
          "Feb",
          "Mar",
          "Mar",
          "Mar",
          "Mar",
          "Mar",
          "Apr",
          "Apr",
          "Apr",
          "Apr",
          "May",
          "May",
          "May",
          "May",
          "Jun",
          "Jun",
          "Jun",
          "Jun",
          "Jun",
          "Jul",
          "Jul",
          "Jul",
          "Jul",
          "Aug",
          "Aug",
          "Aug",
          "Aug",
          "Sep",
          "Sep",
          "Sep",
          "Sep",
          "Sep",
          "Oct",
          "Oct",
          "Oct",
          "Oct",
          "Nov",
          "Nov",
          "Nov",
          "Nov",
          "Dec",
          "Dec",
          "Dec",
          "Dec",
          "Dec",
          "Jan",
          "Jan",
          "Jan",
          "Jan",
          "Feb",
          "Feb",
          "Feb",
          "Feb",
          "Mar",
          "Mar",
          "Mar",
          "Mar",
          "Mar",
          "Apr",
          "Apr",
          "Apr",
          "Apr",
          "May",
          "May",
          "May",
          "May",
          "May",
          "Jun",
          "Jun",
          "Jun",
          "Jun",
          "Jul",
          "Jul",
          "Jul",
          "Jul",
          "Aug",
          "Aug",
          "Aug",
          "Aug"
         ],
         "legendgroup": "WA",
         "line": {
          "color": "#19d3f3",
          "dash": "solid"
         },
         "mode": "lines",
         "name": "WA",
         "orientation": "v",
         "showlegend": true,
         "type": "scatter",
         "x": [
          "2018-04-01T00:00:00",
          "2018-04-08T00:00:00",
          "2018-04-15T00:00:00",
          "2018-04-22T00:00:00",
          "2018-04-29T00:00:00",
          "2018-05-06T00:00:00",
          "2018-05-13T00:00:00",
          "2018-05-20T00:00:00",
          "2018-05-27T00:00:00",
          "2018-06-03T00:00:00",
          "2018-06-10T00:00:00",
          "2018-06-17T00:00:00",
          "2018-06-24T00:00:00",
          "2018-07-01T00:00:00",
          "2018-07-08T00:00:00",
          "2018-07-15T00:00:00",
          "2018-07-22T00:00:00",
          "2018-07-29T00:00:00",
          "2018-08-05T00:00:00",
          "2018-08-12T00:00:00",
          "2018-08-19T00:00:00",
          "2018-08-26T00:00:00",
          "2018-09-02T00:00:00",
          "2018-09-09T00:00:00",
          "2018-09-16T00:00:00",
          "2018-09-23T00:00:00",
          "2018-09-30T00:00:00",
          "2018-10-07T00:00:00",
          "2018-10-14T00:00:00",
          "2018-10-21T00:00:00",
          "2018-10-28T00:00:00",
          "2018-11-04T00:00:00",
          "2018-11-11T00:00:00",
          "2018-11-18T00:00:00",
          "2018-11-25T00:00:00",
          "2018-12-02T00:00:00",
          "2018-12-09T00:00:00",
          "2018-12-16T00:00:00",
          "2018-12-23T00:00:00",
          "2018-12-30T00:00:00",
          "2019-01-06T00:00:00",
          "2019-01-13T00:00:00",
          "2019-01-20T00:00:00",
          "2019-01-27T00:00:00",
          "2019-02-03T00:00:00",
          "2019-02-10T00:00:00",
          "2019-02-17T00:00:00",
          "2019-02-24T00:00:00",
          "2019-03-03T00:00:00",
          "2019-03-10T00:00:00",
          "2019-03-17T00:00:00",
          "2019-03-24T00:00:00",
          "2019-03-31T00:00:00",
          "2019-04-07T00:00:00",
          "2019-04-14T00:00:00",
          "2019-04-21T00:00:00",
          "2019-04-28T00:00:00",
          "2019-05-05T00:00:00",
          "2019-05-12T00:00:00",
          "2019-05-19T00:00:00",
          "2019-05-26T00:00:00",
          "2019-06-02T00:00:00",
          "2019-06-09T00:00:00",
          "2019-06-16T00:00:00",
          "2019-06-23T00:00:00",
          "2019-06-30T00:00:00",
          "2019-07-07T00:00:00",
          "2019-07-14T00:00:00",
          "2019-07-21T00:00:00",
          "2019-07-28T00:00:00",
          "2019-08-04T00:00:00",
          "2019-08-11T00:00:00",
          "2019-08-18T00:00:00",
          "2019-08-25T00:00:00",
          "2019-09-01T00:00:00",
          "2019-09-08T00:00:00",
          "2019-09-15T00:00:00",
          "2019-09-22T00:00:00",
          "2019-09-29T00:00:00",
          "2019-10-06T00:00:00",
          "2019-10-13T00:00:00",
          "2019-10-20T00:00:00",
          "2019-10-27T00:00:00",
          "2019-11-03T00:00:00",
          "2019-11-10T00:00:00",
          "2019-11-17T00:00:00",
          "2019-11-24T00:00:00",
          "2019-12-01T00:00:00",
          "2019-12-08T00:00:00",
          "2019-12-15T00:00:00",
          "2019-12-22T00:00:00",
          "2019-12-29T00:00:00",
          "2020-01-05T00:00:00",
          "2020-01-12T00:00:00",
          "2020-01-19T00:00:00",
          "2020-01-26T00:00:00",
          "2020-02-02T00:00:00",
          "2020-02-09T00:00:00",
          "2020-02-16T00:00:00",
          "2020-02-23T00:00:00",
          "2020-03-01T00:00:00",
          "2020-03-08T00:00:00",
          "2020-03-15T00:00:00",
          "2020-03-22T00:00:00",
          "2020-03-29T00:00:00",
          "2020-04-05T00:00:00",
          "2020-04-12T00:00:00",
          "2020-04-19T00:00:00",
          "2020-04-26T00:00:00",
          "2020-05-03T00:00:00",
          "2020-05-10T00:00:00",
          "2020-05-17T00:00:00",
          "2020-05-24T00:00:00",
          "2020-05-31T00:00:00",
          "2020-06-07T00:00:00",
          "2020-06-14T00:00:00",
          "2020-06-21T00:00:00",
          "2020-06-28T00:00:00",
          "2020-07-05T00:00:00",
          "2020-07-12T00:00:00",
          "2020-07-19T00:00:00",
          "2020-07-26T00:00:00",
          "2020-08-02T00:00:00",
          "2020-08-09T00:00:00",
          "2020-08-16T00:00:00",
          "2020-08-23T00:00:00"
         ],
         "xaxis": "x",
         "y": [
          770294.9737615981,
          919437.2439854394,
          1129704.862070959,
          1027685.613751038,
          976021.2941384722,
          947474.3031400068,
          926734.7707004084,
          939314.2848296785,
          1037653.165741358,
          1042241.692120809,
          1007671.178662462,
          1064820.623453255,
          1134927.541729526,
          1202726.947343207,
          1265155.285260032,
          1193814.781499005,
          1112481.24125399,
          1125611.966440368,
          1075246.459425593,
          1016763.425038738,
          1028741.205776156,
          1031974.520451041,
          1012854.154555203,
          1014292.057015475,
          1020549.691470501,
          1229749.169073341,
          1178092.272604025,
          1037496.322159593,
          1231892.204782497,
          1062318.022969897,
          1007305.492034842,
          1062245.747119074,
          1117332.776382334,
          1242202.556330491,
          1175279.438227872,
          1062804.266890284,
          1028223.62901654,
          1113662.653377824,
          1093936.478538533,
          1314052.538065806,
          1099475.609432149,
          1165249.310981606,
          1143605.144547776,
          1135066.174054666,
          988897.9696313373,
          983359.7467489883,
          1006985.418135264,
          1004537.895405184,
          1031682.322477833,
          933298.0515579176,
          918947.4262138959,
          963878.3890463642,
          999712.7315019409,
          1033663.180163449,
          1122749.257956435,
          1163351.558520483,
          966267.9037711167,
          937348.7476006718,
          912838.2353666924,
          919850.7362910638,
          965972.2002541064,
          962986.4003331241,
          950394.8417318636,
          971775.7984825049,
          1071445.144963326,
          1054347.983245121,
          1224086.549076284,
          1254587.65174255,
          1086151.76788414,
          1074235.608999317,
          1044329.951975798,
          1008600.558081617,
          1026179.868181753,
          1024166.182240155,
          990612.4935780433,
          968021.0489546586,
          962613.9683998523,
          1024338.940097731,
          1198266.047125181,
          1134747.252044384,
          1017575.810739616,
          1018053.610999822,
          1002744.028979319,
          1075291.176284906,
          1102402.460359027,
          1098636.599916505,
          1097397.594211326,
          1020380.036712058,
          1053366.402333025,
          1043146.891437367,
          1033827.500736153,
          1412568.351994483,
          1152209.454915632,
          1120015.964468578,
          1188675.190409752,
          1028121.740348111,
          1042965.415979692,
          1024707.311044681,
          1023792.988866948,
          1003042.477310696,
          1019547.988475308,
          924003.8583653866,
          978775.95326941,
          901311.0198578313,
          663962.0612222215,
          686500.575832631,
          866084.044033757,
          782932.9481527813,
          1161703.651907744,
          1096142.996858809,
          1108498.679264195,
          1229172.47358018,
          1145625.471834579,
          1167187.236680397,
          1109709.715788086,
          1186871.637307797,
          1259688.225141553,
          1316347.087654828,
          1449490.280263191,
          1495237.554726775,
          1418697.254347753,
          1364894.742805736,
          1351591.411319429,
          1385729.187643929,
          1362193.248057242,
          1271019.578751108
         ],
         "yaxis": "y"
        }
       ],
       "layout": {
        "legend": {
         "title": {
          "text": "State"
         },
         "tracegroupgap": 0
        },
        "margin": {
         "t": 60
        },
        "template": {
         "data": {
          "bar": [
           {
            "error_x": {
             "color": "#2a3f5f"
            },
            "error_y": {
             "color": "#2a3f5f"
            },
            "marker": {
             "line": {
              "color": "#E5ECF6",
              "width": 0.5
             }
            },
            "type": "bar"
           }
          ],
          "barpolar": [
           {
            "marker": {
             "line": {
              "color": "#E5ECF6",
              "width": 0.5
             }
            },
            "type": "barpolar"
           }
          ],
          "carpet": [
           {
            "aaxis": {
             "endlinecolor": "#2a3f5f",
             "gridcolor": "white",
             "linecolor": "white",
             "minorgridcolor": "white",
             "startlinecolor": "#2a3f5f"
            },
            "baxis": {
             "endlinecolor": "#2a3f5f",
             "gridcolor": "white",
             "linecolor": "white",
             "minorgridcolor": "white",
             "startlinecolor": "#2a3f5f"
            },
            "type": "carpet"
           }
          ],
          "choropleth": [
           {
            "colorbar": {
             "outlinewidth": 0,
             "ticks": ""
            },
            "type": "choropleth"
           }
          ],
          "contour": [
           {
            "colorbar": {
             "outlinewidth": 0,
             "ticks": ""
            },
            "colorscale": [
             [
              0,
              "#0d0887"
             ],
             [
              0.1111111111111111,
              "#46039f"
             ],
             [
              0.2222222222222222,
              "#7201a8"
             ],
             [
              0.3333333333333333,
              "#9c179e"
             ],
             [
              0.4444444444444444,
              "#bd3786"
             ],
             [
              0.5555555555555556,
              "#d8576b"
             ],
             [
              0.6666666666666666,
              "#ed7953"
             ],
             [
              0.7777777777777778,
              "#fb9f3a"
             ],
             [
              0.8888888888888888,
              "#fdca26"
             ],
             [
              1,
              "#f0f921"
             ]
            ],
            "type": "contour"
           }
          ],
          "contourcarpet": [
           {
            "colorbar": {
             "outlinewidth": 0,
             "ticks": ""
            },
            "type": "contourcarpet"
           }
          ],
          "heatmap": [
           {
            "colorbar": {
             "outlinewidth": 0,
             "ticks": ""
            },
            "colorscale": [
             [
              0,
              "#0d0887"
             ],
             [
              0.1111111111111111,
              "#46039f"
             ],
             [
              0.2222222222222222,
              "#7201a8"
             ],
             [
              0.3333333333333333,
              "#9c179e"
             ],
             [
              0.4444444444444444,
              "#bd3786"
             ],
             [
              0.5555555555555556,
              "#d8576b"
             ],
             [
              0.6666666666666666,
              "#ed7953"
             ],
             [
              0.7777777777777778,
              "#fb9f3a"
             ],
             [
              0.8888888888888888,
              "#fdca26"
             ],
             [
              1,
              "#f0f921"
             ]
            ],
            "type": "heatmap"
           }
          ],
          "heatmapgl": [
           {
            "colorbar": {
             "outlinewidth": 0,
             "ticks": ""
            },
            "colorscale": [
             [
              0,
              "#0d0887"
             ],
             [
              0.1111111111111111,
              "#46039f"
             ],
             [
              0.2222222222222222,
              "#7201a8"
             ],
             [
              0.3333333333333333,
              "#9c179e"
             ],
             [
              0.4444444444444444,
              "#bd3786"
             ],
             [
              0.5555555555555556,
              "#d8576b"
             ],
             [
              0.6666666666666666,
              "#ed7953"
             ],
             [
              0.7777777777777778,
              "#fb9f3a"
             ],
             [
              0.8888888888888888,
              "#fdca26"
             ],
             [
              1,
              "#f0f921"
             ]
            ],
            "type": "heatmapgl"
           }
          ],
          "histogram": [
           {
            "marker": {
             "colorbar": {
              "outlinewidth": 0,
              "ticks": ""
             }
            },
            "type": "histogram"
           }
          ],
          "histogram2d": [
           {
            "colorbar": {
             "outlinewidth": 0,
             "ticks": ""
            },
            "colorscale": [
             [
              0,
              "#0d0887"
             ],
             [
              0.1111111111111111,
              "#46039f"
             ],
             [
              0.2222222222222222,
              "#7201a8"
             ],
             [
              0.3333333333333333,
              "#9c179e"
             ],
             [
              0.4444444444444444,
              "#bd3786"
             ],
             [
              0.5555555555555556,
              "#d8576b"
             ],
             [
              0.6666666666666666,
              "#ed7953"
             ],
             [
              0.7777777777777778,
              "#fb9f3a"
             ],
             [
              0.8888888888888888,
              "#fdca26"
             ],
             [
              1,
              "#f0f921"
             ]
            ],
            "type": "histogram2d"
           }
          ],
          "histogram2dcontour": [
           {
            "colorbar": {
             "outlinewidth": 0,
             "ticks": ""
            },
            "colorscale": [
             [
              0,
              "#0d0887"
             ],
             [
              0.1111111111111111,
              "#46039f"
             ],
             [
              0.2222222222222222,
              "#7201a8"
             ],
             [
              0.3333333333333333,
              "#9c179e"
             ],
             [
              0.4444444444444444,
              "#bd3786"
             ],
             [
              0.5555555555555556,
              "#d8576b"
             ],
             [
              0.6666666666666666,
              "#ed7953"
             ],
             [
              0.7777777777777778,
              "#fb9f3a"
             ],
             [
              0.8888888888888888,
              "#fdca26"
             ],
             [
              1,
              "#f0f921"
             ]
            ],
            "type": "histogram2dcontour"
           }
          ],
          "mesh3d": [
           {
            "colorbar": {
             "outlinewidth": 0,
             "ticks": ""
            },
            "type": "mesh3d"
           }
          ],
          "parcoords": [
           {
            "line": {
             "colorbar": {
              "outlinewidth": 0,
              "ticks": ""
             }
            },
            "type": "parcoords"
           }
          ],
          "pie": [
           {
            "automargin": true,
            "type": "pie"
           }
          ],
          "scatter": [
           {
            "marker": {
             "colorbar": {
              "outlinewidth": 0,
              "ticks": ""
             }
            },
            "type": "scatter"
           }
          ],
          "scatter3d": [
           {
            "line": {
             "colorbar": {
              "outlinewidth": 0,
              "ticks": ""
             }
            },
            "marker": {
             "colorbar": {
              "outlinewidth": 0,
              "ticks": ""
             }
            },
            "type": "scatter3d"
           }
          ],
          "scattercarpet": [
           {
            "marker": {
             "colorbar": {
              "outlinewidth": 0,
              "ticks": ""
             }
            },
            "type": "scattercarpet"
           }
          ],
          "scattergeo": [
           {
            "marker": {
             "colorbar": {
              "outlinewidth": 0,
              "ticks": ""
             }
            },
            "type": "scattergeo"
           }
          ],
          "scattergl": [
           {
            "marker": {
             "colorbar": {
              "outlinewidth": 0,
              "ticks": ""
             }
            },
            "type": "scattergl"
           }
          ],
          "scattermapbox": [
           {
            "marker": {
             "colorbar": {
              "outlinewidth": 0,
              "ticks": ""
             }
            },
            "type": "scattermapbox"
           }
          ],
          "scatterpolar": [
           {
            "marker": {
             "colorbar": {
              "outlinewidth": 0,
              "ticks": ""
             }
            },
            "type": "scatterpolar"
           }
          ],
          "scatterpolargl": [
           {
            "marker": {
             "colorbar": {
              "outlinewidth": 0,
              "ticks": ""
             }
            },
            "type": "scatterpolargl"
           }
          ],
          "scatterternary": [
           {
            "marker": {
             "colorbar": {
              "outlinewidth": 0,
              "ticks": ""
             }
            },
            "type": "scatterternary"
           }
          ],
          "surface": [
           {
            "colorbar": {
             "outlinewidth": 0,
             "ticks": ""
            },
            "colorscale": [
             [
              0,
              "#0d0887"
             ],
             [
              0.1111111111111111,
              "#46039f"
             ],
             [
              0.2222222222222222,
              "#7201a8"
             ],
             [
              0.3333333333333333,
              "#9c179e"
             ],
             [
              0.4444444444444444,
              "#bd3786"
             ],
             [
              0.5555555555555556,
              "#d8576b"
             ],
             [
              0.6666666666666666,
              "#ed7953"
             ],
             [
              0.7777777777777778,
              "#fb9f3a"
             ],
             [
              0.8888888888888888,
              "#fdca26"
             ],
             [
              1,
              "#f0f921"
             ]
            ],
            "type": "surface"
           }
          ],
          "table": [
           {
            "cells": {
             "fill": {
              "color": "#EBF0F8"
             },
             "line": {
              "color": "white"
             }
            },
            "header": {
             "fill": {
              "color": "#C8D4E3"
             },
             "line": {
              "color": "white"
             }
            },
            "type": "table"
           }
          ]
         },
         "layout": {
          "annotationdefaults": {
           "arrowcolor": "#2a3f5f",
           "arrowhead": 0,
           "arrowwidth": 1
          },
          "autotypenumbers": "strict",
          "coloraxis": {
           "colorbar": {
            "outlinewidth": 0,
            "ticks": ""
           }
          },
          "colorscale": {
           "diverging": [
            [
             0,
             "#8e0152"
            ],
            [
             0.1,
             "#c51b7d"
            ],
            [
             0.2,
             "#de77ae"
            ],
            [
             0.3,
             "#f1b6da"
            ],
            [
             0.4,
             "#fde0ef"
            ],
            [
             0.5,
             "#f7f7f7"
            ],
            [
             0.6,
             "#e6f5d0"
            ],
            [
             0.7,
             "#b8e186"
            ],
            [
             0.8,
             "#7fbc41"
            ],
            [
             0.9,
             "#4d9221"
            ],
            [
             1,
             "#276419"
            ]
           ],
           "sequential": [
            [
             0,
             "#0d0887"
            ],
            [
             0.1111111111111111,
             "#46039f"
            ],
            [
             0.2222222222222222,
             "#7201a8"
            ],
            [
             0.3333333333333333,
             "#9c179e"
            ],
            [
             0.4444444444444444,
             "#bd3786"
            ],
            [
             0.5555555555555556,
             "#d8576b"
            ],
            [
             0.6666666666666666,
             "#ed7953"
            ],
            [
             0.7777777777777778,
             "#fb9f3a"
            ],
            [
             0.8888888888888888,
             "#fdca26"
            ],
            [
             1,
             "#f0f921"
            ]
           ],
           "sequentialminus": [
            [
             0,
             "#0d0887"
            ],
            [
             0.1111111111111111,
             "#46039f"
            ],
            [
             0.2222222222222222,
             "#7201a8"
            ],
            [
             0.3333333333333333,
             "#9c179e"
            ],
            [
             0.4444444444444444,
             "#bd3786"
            ],
            [
             0.5555555555555556,
             "#d8576b"
            ],
            [
             0.6666666666666666,
             "#ed7953"
            ],
            [
             0.7777777777777778,
             "#fb9f3a"
            ],
            [
             0.8888888888888888,
             "#fdca26"
            ],
            [
             1,
             "#f0f921"
            ]
           ]
          },
          "colorway": [
           "#636efa",
           "#EF553B",
           "#00cc96",
           "#ab63fa",
           "#FFA15A",
           "#19d3f3",
           "#FF6692",
           "#B6E880",
           "#FF97FF",
           "#FECB52"
          ],
          "font": {
           "color": "#2a3f5f"
          },
          "geo": {
           "bgcolor": "white",
           "lakecolor": "white",
           "landcolor": "#E5ECF6",
           "showlakes": true,
           "showland": true,
           "subunitcolor": "white"
          },
          "hoverlabel": {
           "align": "left"
          },
          "hovermode": "closest",
          "mapbox": {
           "style": "light"
          },
          "paper_bgcolor": "white",
          "plot_bgcolor": "#E5ECF6",
          "polar": {
           "angularaxis": {
            "gridcolor": "white",
            "linecolor": "white",
            "ticks": ""
           },
           "bgcolor": "#E5ECF6",
           "radialaxis": {
            "gridcolor": "white",
            "linecolor": "white",
            "ticks": ""
           }
          },
          "scene": {
           "xaxis": {
            "backgroundcolor": "#E5ECF6",
            "gridcolor": "white",
            "gridwidth": 2,
            "linecolor": "white",
            "showbackground": true,
            "ticks": "",
            "zerolinecolor": "white"
           },
           "yaxis": {
            "backgroundcolor": "#E5ECF6",
            "gridcolor": "white",
            "gridwidth": 2,
            "linecolor": "white",
            "showbackground": true,
            "ticks": "",
            "zerolinecolor": "white"
           },
           "zaxis": {
            "backgroundcolor": "#E5ECF6",
            "gridcolor": "white",
            "gridwidth": 2,
            "linecolor": "white",
            "showbackground": true,
            "ticks": "",
            "zerolinecolor": "white"
           }
          },
          "shapedefaults": {
           "line": {
            "color": "#2a3f5f"
           }
          },
          "ternary": {
           "aaxis": {
            "gridcolor": "white",
            "linecolor": "white",
            "ticks": ""
           },
           "baxis": {
            "gridcolor": "white",
            "linecolor": "white",
            "ticks": ""
           },
           "bgcolor": "#E5ECF6",
           "caxis": {
            "gridcolor": "white",
            "linecolor": "white",
            "ticks": ""
           }
          },
          "title": {
           "x": 0.05
          },
          "xaxis": {
           "automargin": true,
           "gridcolor": "white",
           "linecolor": "white",
           "ticks": "",
           "title": {
            "standoff": 15
           },
           "zerolinecolor": "white",
           "zerolinewidth": 2
          },
          "yaxis": {
           "automargin": true,
           "gridcolor": "white",
           "linecolor": "white",
           "ticks": "",
           "title": {
            "standoff": 15
           },
           "zerolinecolor": "white",
           "zerolinewidth": 2
          }
         }
        },
        "title": {
         "text": "Weekly Sales"
        },
        "xaxis": {
         "anchor": "y",
         "domain": [
          0,
          1
         ],
         "title": {
          "text": "WC Date"
         }
        },
        "yaxis": {
         "anchor": "x",
         "domain": [
          0,
          1
         ],
         "title": {
          "text": "Sales $"
         }
        }
       }
      },
      "text/html": [
       "<div>                            <div id=\"f5152bdf-313b-4af5-bfc8-a74ec697f51e\" class=\"plotly-graph-div\" style=\"height:525px; width:100%;\"></div>            <script type=\"text/javascript\">                require([\"plotly\"], function(Plotly) {                    window.PLOTLYENV=window.PLOTLYENV || {};                                    if (document.getElementById(\"f5152bdf-313b-4af5-bfc8-a74ec697f51e\")) {                    Plotly.newPlot(                        \"f5152bdf-313b-4af5-bfc8-a74ec697f51e\",                        [{\"hovertemplate\": \"<b>%{hovertext}</b><br><br>State=ACT<br>WC Date=%{x}<br>Sales=%{y}<extra></extra>\", \"hovertext\": [\"Sep\", \"Sep\", \"Sep\", \"Sep\", \"Oct\", \"Oct\", \"Oct\", \"Oct\", \"Oct\", \"Nov\", \"Nov\", \"Nov\", \"Nov\", \"Dec\", \"Dec\", \"Dec\", \"Dec\", \"Dec\", \"Jan\", \"Jan\", \"Jan\", \"Jan\", \"Feb\", \"Feb\", \"Feb\", \"Feb\", \"Mar\", \"Mar\", \"Mar\", \"Mar\", \"Apr\", \"Apr\", \"Apr\", \"Apr\", \"Apr\", \"May\", \"May\", \"May\", \"May\", \"Jun\", \"Jun\", \"Jun\", \"Jun\", \"Jul\", \"Jul\", \"Jul\", \"Jul\", \"Jul\", \"Aug\", \"Aug\", \"Aug\", \"Aug\", \"Sep\", \"Sep\", \"Sep\", \"Sep\", \"Sep\", \"Oct\", \"Oct\", \"Oct\", \"Oct\", \"Nov\", \"Nov\", \"Nov\", \"Nov\", \"Dec\", \"Dec\", \"Dec\", \"Dec\", \"Dec\", \"Jan\", \"Jan\", \"Jan\", \"Jan\", \"Feb\", \"Feb\", \"Feb\", \"Feb\", \"Mar\", \"Mar\", \"Mar\", \"Mar\", \"Mar\", \"Apr\", \"Apr\", \"Apr\", \"Apr\", \"May\", \"May\", \"May\", \"May\", \"Jun\", \"Jun\", \"Jun\", \"Jun\", \"Jun\", \"Jul\", \"Jul\", \"Jul\", \"Jul\", \"Aug\", \"Aug\", \"Aug\", \"Aug\", \"Sep\", \"Sep\", \"Sep\", \"Sep\", \"Sep\", \"Oct\", \"Oct\", \"Oct\", \"Oct\", \"Nov\", \"Nov\", \"Nov\", \"Nov\", \"Dec\", \"Dec\", \"Dec\", \"Dec\", \"Dec\", \"Jan\", \"Jan\", \"Jan\", \"Jan\", \"Feb\", \"Feb\", \"Feb\", \"Feb\", \"Mar\", \"Mar\", \"Mar\", \"Mar\", \"Mar\", \"Apr\", \"Apr\", \"Apr\", \"Apr\", \"May\", \"May\", \"May\", \"May\", \"May\", \"Jun\", \"Jun\", \"Jun\", \"Jun\", \"Jul\", \"Jul\", \"Jul\", \"Jul\", \"Aug\", \"Aug\", \"Aug\", \"Aug\"], \"legendgroup\": \"ACT\", \"line\": {\"color\": \"#00cc96\", \"dash\": \"solid\"}, \"mode\": \"lines\", \"name\": \"ACT\", \"orientation\": \"v\", \"showlegend\": true, \"type\": \"scatter\", \"x\": [\"2017-09-03T00:00:00\", \"2017-09-10T00:00:00\", \"2017-09-17T00:00:00\", \"2017-09-24T00:00:00\", \"2017-10-01T00:00:00\", \"2017-10-08T00:00:00\", \"2017-10-15T00:00:00\", \"2017-10-22T00:00:00\", \"2017-10-29T00:00:00\", \"2017-11-05T00:00:00\", \"2017-11-12T00:00:00\", \"2017-11-19T00:00:00\", \"2017-11-26T00:00:00\", \"2017-12-03T00:00:00\", \"2017-12-10T00:00:00\", \"2017-12-17T00:00:00\", \"2017-12-24T00:00:00\", \"2017-12-31T00:00:00\", \"2018-01-07T00:00:00\", \"2018-01-14T00:00:00\", \"2018-01-21T00:00:00\", \"2018-01-28T00:00:00\", \"2018-02-04T00:00:00\", \"2018-02-11T00:00:00\", \"2018-02-18T00:00:00\", \"2018-02-25T00:00:00\", \"2018-03-04T00:00:00\", \"2018-03-11T00:00:00\", \"2018-03-18T00:00:00\", \"2018-03-25T00:00:00\", \"2018-04-01T00:00:00\", \"2018-04-08T00:00:00\", \"2018-04-15T00:00:00\", \"2018-04-22T00:00:00\", \"2018-04-29T00:00:00\", \"2018-05-06T00:00:00\", \"2018-05-13T00:00:00\", \"2018-05-20T00:00:00\", \"2018-05-27T00:00:00\", \"2018-06-03T00:00:00\", \"2018-06-10T00:00:00\", \"2018-06-17T00:00:00\", \"2018-06-24T00:00:00\", \"2018-07-01T00:00:00\", \"2018-07-08T00:00:00\", \"2018-07-15T00:00:00\", \"2018-07-22T00:00:00\", \"2018-07-29T00:00:00\", \"2018-08-05T00:00:00\", \"2018-08-12T00:00:00\", \"2018-08-19T00:00:00\", \"2018-08-26T00:00:00\", \"2018-09-02T00:00:00\", \"2018-09-09T00:00:00\", \"2018-09-16T00:00:00\", \"2018-09-23T00:00:00\", \"2018-09-30T00:00:00\", \"2018-10-07T00:00:00\", \"2018-10-14T00:00:00\", \"2018-10-21T00:00:00\", \"2018-10-28T00:00:00\", \"2018-11-04T00:00:00\", \"2018-11-11T00:00:00\", \"2018-11-18T00:00:00\", \"2018-11-25T00:00:00\", \"2018-12-02T00:00:00\", \"2018-12-09T00:00:00\", \"2018-12-16T00:00:00\", \"2018-12-23T00:00:00\", \"2018-12-30T00:00:00\", \"2019-01-06T00:00:00\", \"2019-01-13T00:00:00\", \"2019-01-20T00:00:00\", \"2019-01-27T00:00:00\", \"2019-02-03T00:00:00\", \"2019-02-10T00:00:00\", \"2019-02-17T00:00:00\", \"2019-02-24T00:00:00\", \"2019-03-03T00:00:00\", \"2019-03-10T00:00:00\", \"2019-03-17T00:00:00\", \"2019-03-24T00:00:00\", \"2019-03-31T00:00:00\", \"2019-04-07T00:00:00\", \"2019-04-14T00:00:00\", \"2019-04-21T00:00:00\", \"2019-04-28T00:00:00\", \"2019-05-05T00:00:00\", \"2019-05-12T00:00:00\", \"2019-05-19T00:00:00\", \"2019-05-26T00:00:00\", \"2019-06-02T00:00:00\", \"2019-06-09T00:00:00\", \"2019-06-16T00:00:00\", \"2019-06-23T00:00:00\", \"2019-06-30T00:00:00\", \"2019-07-07T00:00:00\", \"2019-07-14T00:00:00\", \"2019-07-21T00:00:00\", \"2019-07-28T00:00:00\", \"2019-08-04T00:00:00\", \"2019-08-11T00:00:00\", \"2019-08-18T00:00:00\", \"2019-08-25T00:00:00\", \"2019-09-01T00:00:00\", \"2019-09-08T00:00:00\", \"2019-09-15T00:00:00\", \"2019-09-22T00:00:00\", \"2019-09-29T00:00:00\", \"2019-10-06T00:00:00\", \"2019-10-13T00:00:00\", \"2019-10-20T00:00:00\", \"2019-10-27T00:00:00\", \"2019-11-03T00:00:00\", \"2019-11-10T00:00:00\", \"2019-11-17T00:00:00\", \"2019-11-24T00:00:00\", \"2019-12-01T00:00:00\", \"2019-12-08T00:00:00\", \"2019-12-15T00:00:00\", \"2019-12-22T00:00:00\", \"2019-12-29T00:00:00\", \"2020-01-05T00:00:00\", \"2020-01-12T00:00:00\", \"2020-01-19T00:00:00\", \"2020-01-26T00:00:00\", \"2020-02-02T00:00:00\", \"2020-02-09T00:00:00\", \"2020-02-16T00:00:00\", \"2020-02-23T00:00:00\", \"2020-03-01T00:00:00\", \"2020-03-08T00:00:00\", \"2020-03-15T00:00:00\", \"2020-03-22T00:00:00\", \"2020-03-29T00:00:00\", \"2020-04-05T00:00:00\", \"2020-04-12T00:00:00\", \"2020-04-19T00:00:00\", \"2020-04-26T00:00:00\", \"2020-05-03T00:00:00\", \"2020-05-10T00:00:00\", \"2020-05-17T00:00:00\", \"2020-05-24T00:00:00\", \"2020-05-31T00:00:00\", \"2020-06-07T00:00:00\", \"2020-06-14T00:00:00\", \"2020-06-21T00:00:00\", \"2020-06-28T00:00:00\", \"2020-07-05T00:00:00\", \"2020-07-12T00:00:00\", \"2020-07-19T00:00:00\", \"2020-07-26T00:00:00\", \"2020-08-02T00:00:00\", \"2020-08-09T00:00:00\", \"2020-08-16T00:00:00\", \"2020-08-23T00:00:00\"], \"xaxis\": \"x\", \"y\": [454505.5375427785, 480922.4681314023, 442120.9570010478, 614161.3280557629, 573988.744290248, 466411.4873569101, 575677.5519533862, 478536.0738202567, 490950.1306416955, 458841.7608109359, 497614.0522966317, 522541.6338910526, 512728.5092110469, 581790.933971901, 538689.7785409833, 603831.8797390879, 611642.3336761048, 661256.3544514364, 614483.7512476275, 564046.6048345199, 599849.9407278548, 563327.6385958384, 539383.2226870244, 465661.0216568092, 495986.7961048419, 448421.5997257916, 446623.6534469067, 501089.937816209, 414056.4131695812, 436317.2794909275, 499790.5147760394, 439945.471144305, 497025.4832934965, 515167.1689122569, 431483.3375085416, 433090.4202947091, 418630.337470207, 421646.6221637158, 473770.0059273121, 452811.1176765992, 528988.6824766202, 479178.7790022149, 543856.9887167324, 502527.8904788496, 550195.8717375096, 587563.7122998445, 493150.7197184591, 471170.2589023164, 468857.9123391861, 484581.3811286866, 447790.5176692519, 450784.944274955, 474514.7134835325, 455111.5185876278, 452136.8047693413, 526127.1978056179, 615581.7485535417, 526651.524694211, 547165.6119281005, 486649.649130376, 436648.2935190714, 469922.9821370994, 490827.1380079355, 537654.2014947773, 536135.1115711568, 478120.8636629163, 505845.549018945, 546843.3845500132, 573997.5241050302, 693788.4703966628, 588263.4749914716, 533921.2071996923, 509951.1510951616, 577920.775327574, 490068.311036153, 498857.0690016284, 490396.819260065, 465314.0320098262, 439179.3469201128, 484016.3841036099, 432037.6295649954, 455095.069215073, 454306.03814332, 471657.3229200958, 501081.0906050984, 618648.6788841161, 404869.9758945088, 394396.9488975088, 393897.592566198, 396753.2021103232, 476042.5303707364, 414711.4887495788, 476687.766147064, 462354.1917032981, 506840.8604006143, 484262.601927169, 542177.4352041754, 571389.540798124, 453069.6618826015, 468326.5044342316, 444568.4755300839, 448361.8619566447, 442939.0744452621, 443413.7061418867, 431621.8937506067, 438662.8536481229, 442381.892346695, 421946.1367129548, 536924.4162539764, 551575.1313889401, 452742.9401760062, 440671.8113022766, 438424.2405207276, 524237.6436420939, 502986.2430753183, 523678.2536080267, 544077.9283634855, 485728.1837003603, 475301.3365999425, 499375.4026998025, 556849.2358228553, 597075.0136013681, 521536.4506043365, 565854.2128038037, 501635.7704362937, 514592.0318385925, 502951.3917628974, 493995.8218335877, 462329.0693709616, 462619.2424788662, 447645.9068106326, 480412.0799410933, 479545.515253911, 478174.5515566735, 345116.3429841545, 368523.036063622, 436571.0538314994, 455092.7219214196, 572520.6357611774, 517235.2849160776, 539847.2519793534, 608463.0848899594, 609804.8748353553, 562637.7265698756, 562835.2360615823, 563458.8424821763, 623480.4126546595, 647100.0067067127, 635751.0916838956, 641562.153849845, 561381.8813274757, 563310.2900264057, 568197.1793650365, 592292.52902208, 587753.1335696278, 571834.0986081482], \"yaxis\": \"y\"}, {\"hovertemplate\": \"<b>%{hovertext}</b><br><br>State=NSW<br>WC Date=%{x}<br>Sales=%{y}<extra></extra>\", \"hovertext\": [\"Sep\", \"Sep\", \"Sep\", \"Sep\", \"Oct\", \"Oct\", \"Oct\", \"Oct\", \"Oct\", \"Nov\", \"Nov\", \"Nov\", \"Nov\", \"Dec\", \"Dec\", \"Dec\", \"Dec\", \"Dec\", \"Jan\", \"Jan\", \"Jan\", \"Jan\", \"Feb\", \"Feb\", \"Feb\", \"Feb\", \"Mar\", \"Mar\", \"Mar\", \"Mar\", \"Apr\", \"Apr\", \"Apr\", \"Apr\", \"Apr\", \"May\", \"May\", \"May\", \"May\", \"Jun\", \"Jun\", \"Jun\", \"Jun\", \"Jul\", \"Jul\", \"Jul\", \"Jul\", \"Jul\", \"Aug\", \"Aug\", \"Aug\", \"Aug\", \"Sep\", \"Sep\", \"Sep\", \"Sep\", \"Sep\", \"Oct\", \"Oct\", \"Oct\", \"Oct\", \"Nov\", \"Nov\", \"Nov\", \"Nov\", \"Dec\", \"Dec\", \"Dec\", \"Dec\", \"Dec\", \"Jan\", \"Jan\", \"Jan\", \"Jan\", \"Feb\", \"Feb\", \"Feb\", \"Feb\", \"Mar\", \"Mar\", \"Mar\", \"Mar\", \"Mar\", \"Apr\", \"Apr\", \"Apr\", \"Apr\", \"May\", \"May\", \"May\", \"May\", \"Jun\", \"Jun\", \"Jun\", \"Jun\", \"Jun\", \"Jul\", \"Jul\", \"Jul\", \"Jul\", \"Aug\", \"Aug\", \"Aug\", \"Aug\", \"Sep\", \"Sep\", \"Sep\", \"Sep\", \"Sep\", \"Oct\", \"Oct\", \"Oct\", \"Oct\", \"Nov\", \"Nov\", \"Nov\", \"Nov\", \"Dec\", \"Dec\", \"Dec\", \"Dec\", \"Dec\", \"Jan\", \"Jan\", \"Jan\", \"Jan\", \"Feb\", \"Feb\", \"Feb\", \"Feb\", \"Mar\", \"Mar\", \"Mar\", \"Mar\", \"Mar\", \"Apr\", \"Apr\", \"Apr\", \"Apr\", \"May\", \"May\", \"May\", \"May\", \"May\", \"Jun\", \"Jun\", \"Jun\", \"Jun\", \"Jul\", \"Jul\", \"Jul\", \"Jul\", \"Aug\", \"Aug\", \"Aug\", \"Aug\"], \"legendgroup\": \"NSW\", \"line\": {\"color\": \"#456987\", \"dash\": \"solid\"}, \"mode\": \"lines\", \"name\": \"NSW\", \"orientation\": \"v\", \"showlegend\": true, \"type\": \"scatter\", \"x\": [\"2017-09-03T00:00:00\", \"2017-09-10T00:00:00\", \"2017-09-17T00:00:00\", \"2017-09-24T00:00:00\", \"2017-10-01T00:00:00\", \"2017-10-08T00:00:00\", \"2017-10-15T00:00:00\", \"2017-10-22T00:00:00\", \"2017-10-29T00:00:00\", \"2017-11-05T00:00:00\", \"2017-11-12T00:00:00\", \"2017-11-19T00:00:00\", \"2017-11-26T00:00:00\", \"2017-12-03T00:00:00\", \"2017-12-10T00:00:00\", \"2017-12-17T00:00:00\", \"2017-12-24T00:00:00\", \"2017-12-31T00:00:00\", \"2018-01-07T00:00:00\", \"2018-01-14T00:00:00\", \"2018-01-21T00:00:00\", \"2018-01-28T00:00:00\", \"2018-02-04T00:00:00\", \"2018-02-11T00:00:00\", \"2018-02-18T00:00:00\", \"2018-02-25T00:00:00\", \"2018-03-04T00:00:00\", \"2018-03-11T00:00:00\", \"2018-03-18T00:00:00\", \"2018-03-25T00:00:00\", \"2018-04-01T00:00:00\", \"2018-04-08T00:00:00\", \"2018-04-15T00:00:00\", \"2018-04-22T00:00:00\", \"2018-04-29T00:00:00\", \"2018-05-06T00:00:00\", \"2018-05-13T00:00:00\", \"2018-05-20T00:00:00\", \"2018-05-27T00:00:00\", \"2018-06-03T00:00:00\", \"2018-06-10T00:00:00\", \"2018-06-17T00:00:00\", \"2018-06-24T00:00:00\", \"2018-07-01T00:00:00\", \"2018-07-08T00:00:00\", \"2018-07-15T00:00:00\", \"2018-07-22T00:00:00\", \"2018-07-29T00:00:00\", \"2018-08-05T00:00:00\", \"2018-08-12T00:00:00\", \"2018-08-19T00:00:00\", \"2018-08-26T00:00:00\", \"2018-09-02T00:00:00\", \"2018-09-09T00:00:00\", \"2018-09-16T00:00:00\", \"2018-09-23T00:00:00\", \"2018-09-30T00:00:00\", \"2018-10-07T00:00:00\", \"2018-10-14T00:00:00\", \"2018-10-21T00:00:00\", \"2018-10-28T00:00:00\", \"2018-11-04T00:00:00\", \"2018-11-11T00:00:00\", \"2018-11-18T00:00:00\", \"2018-11-25T00:00:00\", \"2018-12-02T00:00:00\", \"2018-12-09T00:00:00\", \"2018-12-16T00:00:00\", \"2018-12-23T00:00:00\", \"2018-12-30T00:00:00\", \"2019-01-06T00:00:00\", \"2019-01-13T00:00:00\", \"2019-01-20T00:00:00\", \"2019-01-27T00:00:00\", \"2019-02-03T00:00:00\", \"2019-02-10T00:00:00\", \"2019-02-17T00:00:00\", \"2019-02-24T00:00:00\", \"2019-03-03T00:00:00\", \"2019-03-10T00:00:00\", \"2019-03-17T00:00:00\", \"2019-03-24T00:00:00\", \"2019-03-31T00:00:00\", \"2019-04-07T00:00:00\", \"2019-04-14T00:00:00\", \"2019-04-21T00:00:00\", \"2019-04-28T00:00:00\", \"2019-05-05T00:00:00\", \"2019-05-12T00:00:00\", \"2019-05-19T00:00:00\", \"2019-05-26T00:00:00\", \"2019-06-02T00:00:00\", \"2019-06-09T00:00:00\", \"2019-06-16T00:00:00\", \"2019-06-23T00:00:00\", \"2019-06-30T00:00:00\", \"2019-07-07T00:00:00\", \"2019-07-14T00:00:00\", \"2019-07-21T00:00:00\", \"2019-07-28T00:00:00\", \"2019-08-04T00:00:00\", \"2019-08-11T00:00:00\", \"2019-08-18T00:00:00\", \"2019-08-25T00:00:00\", \"2019-09-01T00:00:00\", \"2019-09-08T00:00:00\", \"2019-09-15T00:00:00\", \"2019-09-22T00:00:00\", \"2019-09-29T00:00:00\", \"2019-10-06T00:00:00\", \"2019-10-13T00:00:00\", \"2019-10-20T00:00:00\", \"2019-10-27T00:00:00\", \"2019-11-03T00:00:00\", \"2019-11-10T00:00:00\", \"2019-11-17T00:00:00\", \"2019-11-24T00:00:00\", \"2019-12-01T00:00:00\", \"2019-12-08T00:00:00\", \"2019-12-15T00:00:00\", \"2019-12-22T00:00:00\", \"2019-12-29T00:00:00\", \"2020-01-05T00:00:00\", \"2020-01-12T00:00:00\", \"2020-01-19T00:00:00\", \"2020-01-26T00:00:00\", \"2020-02-02T00:00:00\", \"2020-02-09T00:00:00\", \"2020-02-16T00:00:00\", \"2020-02-23T00:00:00\", \"2020-03-01T00:00:00\", \"2020-03-08T00:00:00\", \"2020-03-15T00:00:00\", \"2020-03-22T00:00:00\", \"2020-03-29T00:00:00\", \"2020-04-05T00:00:00\", \"2020-04-12T00:00:00\", \"2020-04-19T00:00:00\", \"2020-04-26T00:00:00\", \"2020-05-03T00:00:00\", \"2020-05-10T00:00:00\", \"2020-05-17T00:00:00\", \"2020-05-24T00:00:00\", \"2020-05-31T00:00:00\", \"2020-06-07T00:00:00\", \"2020-06-14T00:00:00\", \"2020-06-21T00:00:00\", \"2020-06-28T00:00:00\", \"2020-07-05T00:00:00\", \"2020-07-12T00:00:00\", \"2020-07-19T00:00:00\", \"2020-07-26T00:00:00\", \"2020-08-02T00:00:00\", \"2020-08-09T00:00:00\", \"2020-08-16T00:00:00\", \"2020-08-23T00:00:00\"], \"xaxis\": \"x\", \"y\": [2634368.840183024, 2760182.669930118, 2770334.092689774, 3176641.243278258, 3264356.044595119, 2869931.609129978, 3324068.967269962, 2932100.11279284, 2833044.190054961, 2711729.268880063, 2769392.027306489, 2685361.008361685, 2708259.27072389, 2708928.649296758, 2591538.293501503, 2824538.681211269, 3139001.982756743, 3267604.434809093, 2967120.845967592, 2955578.98849901, 2972358.186651, 2685321.195192046, 2606375.65915893, 2535183.676399176, 2720039.218890184, 2874615.231815928, 2718254.401503748, 2588530.159090815, 2425536.830097856, 2373594.915467833, 2277273.849680846, 2342689.724580286, 2626058.708062707, 2885867.13373568, 2480101.899251407, 2396998.95681908, 2206241.951593115, 2267188.962317278, 2306777.045018571, 2466560.851095221, 2698677.587325904, 2585387.279373, 2902648.542579825, 2635355.652642215, 3003952.570769249, 3107060.768167735, 2614437.290611091, 2533028.918811129, 2503232.052811027, 2407668.718695499, 2568656.467749375, 2566002.860443762, 2637542.77230812, 2497129.139631405, 2582038.535615719, 2721972.898203935, 3194284.660691672, 2849754.134712133, 2976573.543000213, 2641698.312798798, 2473220.947057426, 2489937.094243774, 2628412.960279277, 2777864.045104836, 2743092.531527222, 2479732.522722125, 2498179.236194718, 2650415.988756866, 2829730.337627514, 3199229.247254669, 2965153.067095987, 2700601.323781384, 2752983.760156098, 2908017.642712957, 2393248.815399134, 2601796.372923764, 2816764.091487347, 2706821.881260899, 2488000.731786813, 2431546.562163545, 2293915.175271454, 2374437.704836953, 2290643.888921742, 2303084.746520452, 2667261.281390637, 2926976.797311885, 2246979.393866457, 2194879.158025778, 2074167.188045989, 2189993.905197012, 2192346.341715035, 2283798.333151146, 2474775.642198499, 2258362.0058612, 2612628.542620118, 2498177.779799757, 2779525.406261482, 2831082.299887066, 2400010.702203261, 2431621.266151989, 2416853.005066616, 2343154.215106094, 2310535.502308555, 2453948.263104522, 2297872.454003762, 2419297.036745709, 2402847.39247223, 2492744.652081301, 2867760.597305155, 2973968.438278548, 2334842.709824163, 2309118.541051005, 2285584.819806868, 2603077.282701191, 2551206.870508204, 2526078.735916106, 2657056.073255902, 2513572.914824786, 2429701.081540268, 2614876.439223284, 2882788.294725833, 3284553.828919528, 2881038.699104385, 2859809.100474077, 2731322.770021687, 2404740.069038821, 2431564.151396827, 2377516.143491353, 2608994.743909604, 2516576.09839022, 2379023.177337916, 2315196.40272791, 2456017.720800763, 2220530.568650034, 1701011.572556342, 1761310.019759649, 2001726.815884218, 2301765.934298746, 2651172.772551851, 2743252.038333858, 2853330.470262835, 3140282.498625233, 3233130.237391281, 2837332.082418947, 3159768.506027024, 3069332.639419259, 3235238.668231891, 3293143.103421631, 3428334.409442499, 3409453.198293967, 2749988.691673775, 2761366.61097433, 2873655.990786887, 2773094.180603982, 2718479.208870341, 2785053.865600151], \"yaxis\": \"y\"}, {\"hovertemplate\": \"<b>%{hovertext}</b><br><br>State=QLD<br>WC Date=%{x}<br>Sales=%{y}<extra></extra>\", \"hovertext\": [\"Sep\", \"Sep\", \"Sep\", \"Sep\", \"Oct\", \"Oct\", \"Oct\", \"Oct\", \"Oct\", \"Nov\", \"Nov\", \"Nov\", \"Nov\", \"Dec\", \"Dec\", \"Dec\", \"Dec\", \"Dec\", \"Jan\", \"Jan\", \"Jan\", \"Jan\", \"Feb\", \"Feb\", \"Feb\", \"Feb\", \"Mar\", \"Mar\", \"Mar\", \"Mar\", \"Apr\", \"Apr\", \"Apr\", \"Apr\", \"Apr\", \"May\", \"May\", \"May\", \"May\", \"Jun\", \"Jun\", \"Jun\", \"Jun\", \"Jul\", \"Jul\", \"Jul\", \"Jul\", \"Jul\", \"Aug\", \"Aug\", \"Aug\", \"Aug\", \"Sep\", \"Sep\", \"Sep\", \"Sep\", \"Sep\", \"Oct\", \"Oct\", \"Oct\", \"Oct\", \"Nov\", \"Nov\", \"Nov\", \"Nov\", \"Dec\", \"Dec\", \"Dec\", \"Dec\", \"Dec\", \"Jan\", \"Jan\", \"Jan\", \"Jan\", \"Feb\", \"Feb\", \"Feb\", \"Feb\", \"Mar\", \"Mar\", \"Mar\", \"Mar\", \"Mar\", \"Apr\", \"Apr\", \"Apr\", \"Apr\", \"May\", \"May\", \"May\", \"May\", \"Jun\", \"Jun\", \"Jun\", \"Jun\", \"Jun\", \"Jul\", \"Jul\", \"Jul\", \"Jul\", \"Aug\", \"Aug\", \"Aug\", \"Aug\", \"Sep\", \"Sep\", \"Sep\", \"Sep\", \"Sep\", \"Oct\", \"Oct\", \"Oct\", \"Oct\", \"Nov\", \"Nov\", \"Nov\", \"Nov\", \"Dec\", \"Dec\", \"Dec\", \"Dec\", \"Dec\", \"Jan\", \"Jan\", \"Jan\", \"Jan\", \"Feb\", \"Feb\", \"Feb\", \"Feb\", \"Mar\", \"Mar\", \"Mar\", \"Mar\", \"Mar\", \"Apr\", \"Apr\", \"Apr\", \"Apr\", \"May\", \"May\", \"May\", \"May\", \"May\", \"Jun\", \"Jun\", \"Jun\", \"Jun\", \"Jul\", \"Jul\", \"Jul\", \"Jul\", \"Aug\", \"Aug\", \"Aug\", \"Aug\"], \"legendgroup\": \"QLD\", \"line\": {\"color\": \"#ab63fa\", \"dash\": \"solid\"}, \"mode\": \"lines\", \"name\": \"QLD\", \"orientation\": \"v\", \"showlegend\": true, \"type\": \"scatter\", \"x\": [\"2017-09-03T00:00:00\", \"2017-09-10T00:00:00\", \"2017-09-17T00:00:00\", \"2017-09-24T00:00:00\", \"2017-10-01T00:00:00\", \"2017-10-08T00:00:00\", \"2017-10-15T00:00:00\", \"2017-10-22T00:00:00\", \"2017-10-29T00:00:00\", \"2017-11-05T00:00:00\", \"2017-11-12T00:00:00\", \"2017-11-19T00:00:00\", \"2017-11-26T00:00:00\", \"2017-12-03T00:00:00\", \"2017-12-10T00:00:00\", \"2017-12-17T00:00:00\", \"2017-12-24T00:00:00\", \"2017-12-31T00:00:00\", \"2018-01-07T00:00:00\", \"2018-01-14T00:00:00\", \"2018-01-21T00:00:00\", \"2018-01-28T00:00:00\", \"2018-02-04T00:00:00\", \"2018-02-11T00:00:00\", \"2018-02-18T00:00:00\", \"2018-02-25T00:00:00\", \"2018-03-04T00:00:00\", \"2018-03-11T00:00:00\", \"2018-03-18T00:00:00\", \"2018-03-25T00:00:00\", \"2018-04-01T00:00:00\", \"2018-04-08T00:00:00\", \"2018-04-15T00:00:00\", \"2018-04-22T00:00:00\", \"2018-04-29T00:00:00\", \"2018-05-06T00:00:00\", \"2018-05-13T00:00:00\", \"2018-05-20T00:00:00\", \"2018-05-27T00:00:00\", \"2018-06-03T00:00:00\", \"2018-06-10T00:00:00\", \"2018-06-17T00:00:00\", \"2018-06-24T00:00:00\", \"2018-07-01T00:00:00\", \"2018-07-08T00:00:00\", \"2018-07-15T00:00:00\", \"2018-07-22T00:00:00\", \"2018-07-29T00:00:00\", \"2018-08-05T00:00:00\", \"2018-08-12T00:00:00\", \"2018-08-19T00:00:00\", \"2018-08-26T00:00:00\", \"2018-09-02T00:00:00\", \"2018-09-09T00:00:00\", \"2018-09-16T00:00:00\", \"2018-09-23T00:00:00\", \"2018-09-30T00:00:00\", \"2018-10-07T00:00:00\", \"2018-10-14T00:00:00\", \"2018-10-21T00:00:00\", \"2018-10-28T00:00:00\", \"2018-11-04T00:00:00\", \"2018-11-11T00:00:00\", \"2018-11-18T00:00:00\", \"2018-11-25T00:00:00\", \"2018-12-02T00:00:00\", \"2018-12-09T00:00:00\", \"2018-12-16T00:00:00\", \"2018-12-23T00:00:00\", \"2018-12-30T00:00:00\", \"2019-01-06T00:00:00\", \"2019-01-13T00:00:00\", \"2019-01-20T00:00:00\", \"2019-01-27T00:00:00\", \"2019-02-03T00:00:00\", \"2019-02-10T00:00:00\", \"2019-02-17T00:00:00\", \"2019-02-24T00:00:00\", \"2019-03-03T00:00:00\", \"2019-03-10T00:00:00\", \"2019-03-17T00:00:00\", \"2019-03-24T00:00:00\", \"2019-03-31T00:00:00\", \"2019-04-07T00:00:00\", \"2019-04-14T00:00:00\", \"2019-04-21T00:00:00\", \"2019-04-28T00:00:00\", \"2019-05-05T00:00:00\", \"2019-05-12T00:00:00\", \"2019-05-19T00:00:00\", \"2019-05-26T00:00:00\", \"2019-06-02T00:00:00\", \"2019-06-09T00:00:00\", \"2019-06-16T00:00:00\", \"2019-06-23T00:00:00\", \"2019-06-30T00:00:00\", \"2019-07-07T00:00:00\", \"2019-07-14T00:00:00\", \"2019-07-21T00:00:00\", \"2019-07-28T00:00:00\", \"2019-08-04T00:00:00\", \"2019-08-11T00:00:00\", \"2019-08-18T00:00:00\", \"2019-08-25T00:00:00\", \"2019-09-01T00:00:00\", \"2019-09-08T00:00:00\", \"2019-09-15T00:00:00\", \"2019-09-22T00:00:00\", \"2019-09-29T00:00:00\", \"2019-10-06T00:00:00\", \"2019-10-13T00:00:00\", \"2019-10-20T00:00:00\", \"2019-10-27T00:00:00\", \"2019-11-03T00:00:00\", \"2019-11-10T00:00:00\", \"2019-11-17T00:00:00\", \"2019-11-24T00:00:00\", \"2019-12-01T00:00:00\", \"2019-12-08T00:00:00\", \"2019-12-15T00:00:00\", \"2019-12-22T00:00:00\", \"2019-12-29T00:00:00\", \"2020-01-05T00:00:00\", \"2020-01-12T00:00:00\", \"2020-01-19T00:00:00\", \"2020-01-26T00:00:00\", \"2020-02-02T00:00:00\", \"2020-02-09T00:00:00\", \"2020-02-16T00:00:00\", \"2020-02-23T00:00:00\", \"2020-03-01T00:00:00\", \"2020-03-08T00:00:00\", \"2020-03-15T00:00:00\", \"2020-03-22T00:00:00\", \"2020-03-29T00:00:00\", \"2020-04-05T00:00:00\", \"2020-04-12T00:00:00\", \"2020-04-19T00:00:00\", \"2020-04-26T00:00:00\", \"2020-05-03T00:00:00\", \"2020-05-10T00:00:00\", \"2020-05-17T00:00:00\", \"2020-05-24T00:00:00\", \"2020-05-31T00:00:00\", \"2020-06-07T00:00:00\", \"2020-06-14T00:00:00\", \"2020-06-21T00:00:00\", \"2020-06-28T00:00:00\", \"2020-07-05T00:00:00\", \"2020-07-12T00:00:00\", \"2020-07-19T00:00:00\", \"2020-07-26T00:00:00\", \"2020-08-02T00:00:00\", \"2020-08-09T00:00:00\", \"2020-08-16T00:00:00\", \"2020-08-23T00:00:00\"], \"xaxis\": \"x\", \"y\": [1456749.821680669, 1534787.689347492, 1774839.88347618, 1753178.898349389, 1691050.513187018, 1507033.432421429, 1956695.427289216, 1648118.386818791, 1534104.740191472, 1568471.932253168, 1688016.093833182, 1605426.150268957, 1638023.181773366, 1610021.26414592, 1665792.631000376, 1655232.307499588, 1815848.869384465, 1968391.071732298, 1755162.380699401, 1629537.189071234, 1595061.987089272, 1543900.35979147, 1622902.254502431, 1469509.094261891, 1555863.718180119, 1472956.492495561, 1503381.881944096, 1526487.825585188, 1421150.949279774, 1375277.156382017, 1642219.133245151, 1531576.404075768, 1342945.324496384, 1333821.055650478, 1426081.783077653, 1189413.185666636, 1309141.164662231, 1328817.968454379, 1403321.867336487, 1416861.672395708, 1397492.448613371, 1602144.160934377, 1797459.868533632, 1827154.183807981, 1967372.385809524, 1639003.453335985, 1544004.085250225, 1535332.476008081, 1462526.615880833, 1633045.715241883, 1453677.514997708, 1566857.324099025, 1507040.970986787, 1500157.605232932, 1470746.067295998, 1795086.600222788, 1846409.386916161, 1482298.166746099, 1858735.458407412, 1454633.223085482, 1359207.536770366, 1463013.997196933, 1490896.909712704, 1763867.974841653, 1532319.95840338, 1449834.925151109, 1458036.880449054, 1558378.200347072, 1605247.042552714, 2002828.751784388, 1657915.737934858, 1601454.993859546, 1483636.053363327, 1567159.868827462, 1438329.882629128, 1374760.422996332, 1492654.393962838, 1461048.638665069, 1327976.341461795, 1334490.303921555, 1316664.331294548, 1373770.744418486, 1323576.782596606, 1654427.42205194, 1594175.910451714, 1676458.619381744, 1375497.584773819, 1187534.732224661, 1224850.262441781, 1229307.00406177, 1208459.536688026, 1343753.958270939, 1323108.100584083, 1379676.677990926, 1632373.080446712, 1656075.311820859, 1709375.744867692, 1603322.806574652, 1479491.473559025, 1477875.569902922, 1415485.685571061, 1528399.089550004, 1386056.499767869, 1435886.342924406, 1278234.415688925, 1330873.566445217, 1404568.937617396, 1604997.169882492, 1666193.96166078, 1561122.32832615, 1402166.074982404, 1388613.046347617, 1406763.730186666, 1511576.258024004, 1512120.27588973, 1475401.951366117, 1543189.18018134, 1484399.693175397, 1467696.625796469, 1537257.299141634, 1581484.646226852, 2056957.858462906, 1628218.821743747, 1695370.622457228, 1561296.683547747, 1410114.362203361, 1408628.515268111, 1412105.905554767, 1409634.897464058, 1418293.485998195, 1305164.304014362, 1302575.473703268, 1201520.335257932, 1110406.118750007, 922123.1204248591, 944317.2157832992, 1186213.619117522, 1074705.012568912, 1702624.973825812, 1669242.69398891, 1725955.375488056, 2053087.684033857, 2013970.126972645, 1904467.812753475, 1910878.373662383, 1904510.761670838, 2086928.612175911, 2184875.449400435, 2187607.983157181, 2234889.898019568, 2223249.674250581, 2027476.864124658, 1857994.951040521, 2158145.842390456, 1874397.593467169, 1592760.490111639], \"yaxis\": \"y\"}, {\"hovertemplate\": \"<b>%{hovertext}</b><br><br>State=SA<br>WC Date=%{x}<br>Sales=%{y}<extra></extra>\", \"hovertext\": [\"Apr\", \"Apr\", \"Apr\", \"Apr\", \"May\", \"May\", \"May\", \"May\", \"Jun\", \"Jun\", \"Jun\", \"Jun\", \"Jul\", \"Jul\", \"Jul\", \"Jul\", \"Jul\", \"Aug\", \"Aug\", \"Aug\", \"Aug\", \"Sep\", \"Sep\", \"Sep\", \"Sep\", \"Sep\", \"Oct\", \"Oct\", \"Oct\", \"Oct\", \"Nov\", \"Nov\", \"Nov\", \"Nov\", \"Dec\", \"Dec\", \"Dec\", \"Dec\", \"Dec\", \"Jan\", \"Jan\", \"Jan\", \"Jan\", \"Feb\", \"Feb\", \"Feb\", \"Feb\", \"Mar\", \"Mar\", \"Mar\", \"Mar\", \"Mar\", \"Apr\", \"Apr\", \"Apr\", \"Apr\", \"May\", \"May\", \"May\", \"May\", \"Jun\", \"Jun\", \"Jun\", \"Jun\", \"Jun\", \"Jul\", \"Jul\", \"Jul\", \"Jul\", \"Aug\", \"Aug\", \"Aug\", \"Aug\", \"Sep\", \"Sep\", \"Sep\", \"Sep\", \"Sep\", \"Oct\", \"Oct\", \"Oct\", \"Oct\", \"Nov\", \"Nov\", \"Nov\", \"Nov\", \"Dec\", \"Dec\", \"Dec\", \"Dec\", \"Dec\", \"Jan\", \"Jan\", \"Jan\", \"Jan\", \"Feb\", \"Feb\", \"Feb\", \"Feb\", \"Mar\", \"Mar\", \"Mar\", \"Mar\", \"Mar\", \"Apr\", \"Apr\", \"Apr\", \"Apr\", \"May\", \"May\", \"May\", \"May\", \"May\", \"Jun\", \"Jun\", \"Jun\", \"Jun\", \"Jul\", \"Jul\", \"Jul\", \"Jul\", \"Aug\", \"Aug\", \"Aug\", \"Aug\"], \"legendgroup\": \"SA\", \"line\": {\"color\": \"#FFA15A\", \"dash\": \"solid\"}, \"mode\": \"lines\", \"name\": \"SA\", \"orientation\": \"v\", \"showlegend\": true, \"type\": \"scatter\", \"x\": [\"2018-04-08T00:00:00\", \"2018-04-15T00:00:00\", \"2018-04-22T00:00:00\", \"2018-04-29T00:00:00\", \"2018-05-06T00:00:00\", \"2018-05-13T00:00:00\", \"2018-05-20T00:00:00\", \"2018-05-27T00:00:00\", \"2018-06-03T00:00:00\", \"2018-06-10T00:00:00\", \"2018-06-17T00:00:00\", \"2018-06-24T00:00:00\", \"2018-07-01T00:00:00\", \"2018-07-08T00:00:00\", \"2018-07-15T00:00:00\", \"2018-07-22T00:00:00\", \"2018-07-29T00:00:00\", \"2018-08-05T00:00:00\", \"2018-08-12T00:00:00\", \"2018-08-19T00:00:00\", \"2018-08-26T00:00:00\", \"2018-09-02T00:00:00\", \"2018-09-09T00:00:00\", \"2018-09-16T00:00:00\", \"2018-09-23T00:00:00\", \"2018-09-30T00:00:00\", \"2018-10-07T00:00:00\", \"2018-10-14T00:00:00\", \"2018-10-21T00:00:00\", \"2018-10-28T00:00:00\", \"2018-11-04T00:00:00\", \"2018-11-11T00:00:00\", \"2018-11-18T00:00:00\", \"2018-11-25T00:00:00\", \"2018-12-02T00:00:00\", \"2018-12-09T00:00:00\", \"2018-12-16T00:00:00\", \"2018-12-23T00:00:00\", \"2018-12-30T00:00:00\", \"2019-01-06T00:00:00\", \"2019-01-13T00:00:00\", \"2019-01-20T00:00:00\", \"2019-01-27T00:00:00\", \"2019-02-03T00:00:00\", \"2019-02-10T00:00:00\", \"2019-02-17T00:00:00\", \"2019-02-24T00:00:00\", \"2019-03-03T00:00:00\", \"2019-03-10T00:00:00\", \"2019-03-17T00:00:00\", \"2019-03-24T00:00:00\", \"2019-03-31T00:00:00\", \"2019-04-07T00:00:00\", \"2019-04-14T00:00:00\", \"2019-04-21T00:00:00\", \"2019-04-28T00:00:00\", \"2019-05-05T00:00:00\", \"2019-05-12T00:00:00\", \"2019-05-19T00:00:00\", \"2019-05-26T00:00:00\", \"2019-06-02T00:00:00\", \"2019-06-09T00:00:00\", \"2019-06-16T00:00:00\", \"2019-06-23T00:00:00\", \"2019-06-30T00:00:00\", \"2019-07-07T00:00:00\", \"2019-07-14T00:00:00\", \"2019-07-21T00:00:00\", \"2019-07-28T00:00:00\", \"2019-08-04T00:00:00\", \"2019-08-11T00:00:00\", \"2019-08-18T00:00:00\", \"2019-08-25T00:00:00\", \"2019-09-01T00:00:00\", \"2019-09-08T00:00:00\", \"2019-09-15T00:00:00\", \"2019-09-22T00:00:00\", \"2019-09-29T00:00:00\", \"2019-10-06T00:00:00\", \"2019-10-13T00:00:00\", \"2019-10-20T00:00:00\", \"2019-10-27T00:00:00\", \"2019-11-03T00:00:00\", \"2019-11-10T00:00:00\", \"2019-11-17T00:00:00\", \"2019-11-24T00:00:00\", \"2019-12-01T00:00:00\", \"2019-12-08T00:00:00\", \"2019-12-15T00:00:00\", \"2019-12-22T00:00:00\", \"2019-12-29T00:00:00\", \"2020-01-05T00:00:00\", \"2020-01-12T00:00:00\", \"2020-01-19T00:00:00\", \"2020-01-26T00:00:00\", \"2020-02-02T00:00:00\", \"2020-02-09T00:00:00\", \"2020-02-16T00:00:00\", \"2020-02-23T00:00:00\", \"2020-03-01T00:00:00\", \"2020-03-08T00:00:00\", \"2020-03-15T00:00:00\", \"2020-03-22T00:00:00\", \"2020-03-29T00:00:00\", \"2020-04-05T00:00:00\", \"2020-04-12T00:00:00\", \"2020-04-19T00:00:00\", \"2020-04-26T00:00:00\", \"2020-05-03T00:00:00\", \"2020-05-10T00:00:00\", \"2020-05-17T00:00:00\", \"2020-05-24T00:00:00\", \"2020-05-31T00:00:00\", \"2020-06-07T00:00:00\", \"2020-06-14T00:00:00\", \"2020-06-21T00:00:00\", \"2020-06-28T00:00:00\", \"2020-07-05T00:00:00\", \"2020-07-12T00:00:00\", \"2020-07-19T00:00:00\", \"2020-07-26T00:00:00\", \"2020-08-02T00:00:00\", \"2020-08-09T00:00:00\", \"2020-08-16T00:00:00\", \"2020-08-23T00:00:00\"], \"xaxis\": \"x\", \"y\": [400865.5942368279, 657233.7868671131, 663677.2143339734, 586027.4336904192, 549508.9887556235, 561596.514841827, 538847.9890731517, 580693.5707913288, 611636.3615496675, 730999.3000280409, 620624.6182406824, 673308.7695076725, 640879.9332476843, 835080.9209669736, 809889.1239521452, 644632.8203335684, 623623.6896600793, 601153.6528157123, 669096.4673406447, 656940.5545830046, 651868.7782019061, 610145.5960299784, 616001.7629429558, 643527.1579614445, 662525.5101869374, 767026.4713161901, 669035.780101513, 759179.1255445003, 635173.1038493847, 579860.9171817292, 646444.6614734804, 642961.0204111884, 686086.3042189177, 676449.4860504445, 636530.8240177674, 661589.6985084334, 764980.9053404232, 685639.1505879486, 859353.8958398572, 776983.283209589, 706731.9468155468, 689287.5108206666, 719564.5447115924, 649520.7273119265, 612474.2216339682, 636954.4281801987, 612651.6904970894, 574001.8347836128, 657814.5355982888, 550170.7159371822, 606711.5232173917, 575770.9589081992, 585792.345872728, 627905.9280798291, 761489.2692836208, 554482.4095072198, 547822.3661821211, 510171.4485890071, 528341.5983173335, 562660.9114362687, 595025.6970072171, 620087.1045860146, 574527.2682491948, 607934.0837037407, 639633.0362748061, 787467.9700340193, 846392.3945183943, 651181.922916776, 622997.8517348194, 604555.8197024338, 591304.7999840134, 587226.9912214716, 606485.5090474456, 556901.9528593548, 596379.967943838, 596801.0934227039, 609629.2295615955, 718871.6587508591, 757114.8489928043, 592081.1603419567, 576436.2141359748, 594374.417906475, 673934.1718955361, 655740.7612358754, 575697.6414526319, 689475.940551434, 626931.51197009, 656033.5183385262, 650507.5085346429, 682928.09250898, 862438.1379979082, 783664.6525817156, 735173.3584425402, 733682.57217429, 649208.8228957779, 624552.8081683754, 626204.594176703, 628911.0188964136, 641206.752238481, 616955.852229958, 645876.0196360071, 550431.5057676043, 519699.6367647689, 434968.4837425775, 463984.1050517507, 572831.4525708881, 662540.9371899619, 795170.2510771989, 760702.1941571732, 733559.4535173527, 831052.0951193497, 793419.3120327003, 718261.8280106776, 724039.3751556986, 768001.7118540583, 782321.9921927159, 851777.2232811713, 947364.0192535142, 994487.5326324198, 867503.7458149143, 803199.6537399931, 806256.3294526666, 833751.1414029963, 853024.7153598325, 756391.4052443217], \"yaxis\": \"y\"}, {\"hovertemplate\": \"<b>%{hovertext}</b><br><br>State=VIC<br>WC Date=%{x}<br>Sales=%{y}<extra></extra>\", \"hovertext\": [\"Sep\", \"Sep\", \"Sep\", \"Sep\", \"Oct\", \"Oct\", \"Oct\", \"Oct\", \"Oct\", \"Nov\", \"Nov\", \"Nov\", \"Nov\", \"Dec\", \"Dec\", \"Dec\", \"Dec\", \"Dec\", \"Jan\", \"Jan\", \"Jan\", \"Jan\", \"Feb\", \"Feb\", \"Feb\", \"Feb\", \"Mar\", \"Mar\", \"Mar\", \"Mar\", \"Apr\", \"Apr\", \"Apr\", \"Apr\", \"Apr\", \"May\", \"May\", \"May\", \"May\", \"Jun\", \"Jun\", \"Jun\", \"Jun\", \"Jul\", \"Jul\", \"Jul\", \"Jul\", \"Jul\", \"Aug\", \"Aug\", \"Aug\", \"Aug\", \"Sep\", \"Sep\", \"Sep\", \"Sep\", \"Sep\", \"Oct\", \"Oct\", \"Oct\", \"Oct\", \"Nov\", \"Nov\", \"Nov\", \"Nov\", \"Dec\", \"Dec\", \"Dec\", \"Dec\", \"Dec\", \"Jan\", \"Jan\", \"Jan\", \"Jan\", \"Feb\", \"Feb\", \"Feb\", \"Feb\", \"Mar\", \"Mar\", \"Mar\", \"Mar\", \"Mar\", \"Apr\", \"Apr\", \"Apr\", \"Apr\", \"May\", \"May\", \"May\", \"May\", \"Jun\", \"Jun\", \"Jun\", \"Jun\", \"Jun\", \"Jul\", \"Jul\", \"Jul\", \"Jul\", \"Aug\", \"Aug\", \"Aug\", \"Aug\", \"Sep\", \"Sep\", \"Sep\", \"Sep\", \"Sep\", \"Oct\", \"Oct\", \"Oct\", \"Oct\", \"Nov\", \"Nov\", \"Nov\", \"Nov\", \"Dec\", \"Dec\", \"Dec\", \"Dec\", \"Dec\", \"Jan\", \"Jan\", \"Jan\", \"Jan\", \"Feb\", \"Feb\", \"Feb\", \"Feb\", \"Mar\", \"Mar\", \"Mar\", \"Mar\", \"Mar\", \"Apr\", \"Apr\", \"Apr\", \"Apr\", \"May\", \"May\", \"May\", \"May\", \"May\", \"Jun\", \"Jun\", \"Jun\", \"Jun\", \"Jul\", \"Jul\", \"Jul\", \"Jul\", \"Aug\", \"Aug\", \"Aug\", \"Aug\"], \"legendgroup\": \"VIC\", \"line\": {\"color\": \"#147852\", \"dash\": \"solid\"}, \"mode\": \"lines\", \"name\": \"VIC\", \"orientation\": \"v\", \"showlegend\": true, \"type\": \"scatter\", \"x\": [\"2017-09-03T00:00:00\", \"2017-09-10T00:00:00\", \"2017-09-17T00:00:00\", \"2017-09-24T00:00:00\", \"2017-10-01T00:00:00\", \"2017-10-08T00:00:00\", \"2017-10-15T00:00:00\", \"2017-10-22T00:00:00\", \"2017-10-29T00:00:00\", \"2017-11-05T00:00:00\", \"2017-11-12T00:00:00\", \"2017-11-19T00:00:00\", \"2017-11-26T00:00:00\", \"2017-12-03T00:00:00\", \"2017-12-10T00:00:00\", \"2017-12-17T00:00:00\", \"2017-12-24T00:00:00\", \"2017-12-31T00:00:00\", \"2018-01-07T00:00:00\", \"2018-01-14T00:00:00\", \"2018-01-21T00:00:00\", \"2018-01-28T00:00:00\", \"2018-02-04T00:00:00\", \"2018-02-11T00:00:00\", \"2018-02-18T00:00:00\", \"2018-02-25T00:00:00\", \"2018-03-04T00:00:00\", \"2018-03-11T00:00:00\", \"2018-03-18T00:00:00\", \"2018-03-25T00:00:00\", \"2018-04-01T00:00:00\", \"2018-04-08T00:00:00\", \"2018-04-15T00:00:00\", \"2018-04-22T00:00:00\", \"2018-04-29T00:00:00\", \"2018-05-06T00:00:00\", \"2018-05-13T00:00:00\", \"2018-05-20T00:00:00\", \"2018-05-27T00:00:00\", \"2018-06-03T00:00:00\", \"2018-06-10T00:00:00\", \"2018-06-17T00:00:00\", \"2018-06-24T00:00:00\", \"2018-07-01T00:00:00\", \"2018-07-08T00:00:00\", \"2018-07-15T00:00:00\", \"2018-07-22T00:00:00\", \"2018-07-29T00:00:00\", \"2018-08-05T00:00:00\", \"2018-08-12T00:00:00\", \"2018-08-19T00:00:00\", \"2018-08-26T00:00:00\", \"2018-09-02T00:00:00\", \"2018-09-09T00:00:00\", \"2018-09-16T00:00:00\", \"2018-09-23T00:00:00\", \"2018-09-30T00:00:00\", \"2018-10-07T00:00:00\", \"2018-10-14T00:00:00\", \"2018-10-21T00:00:00\", \"2018-10-28T00:00:00\", \"2018-11-04T00:00:00\", \"2018-11-11T00:00:00\", \"2018-11-18T00:00:00\", \"2018-11-25T00:00:00\", \"2018-12-02T00:00:00\", \"2018-12-09T00:00:00\", \"2018-12-16T00:00:00\", \"2018-12-23T00:00:00\", \"2018-12-30T00:00:00\", \"2019-01-06T00:00:00\", \"2019-01-13T00:00:00\", \"2019-01-20T00:00:00\", \"2019-01-27T00:00:00\", \"2019-02-03T00:00:00\", \"2019-02-10T00:00:00\", \"2019-02-17T00:00:00\", \"2019-02-24T00:00:00\", \"2019-03-03T00:00:00\", \"2019-03-10T00:00:00\", \"2019-03-17T00:00:00\", \"2019-03-24T00:00:00\", \"2019-03-31T00:00:00\", \"2019-04-07T00:00:00\", \"2019-04-14T00:00:00\", \"2019-04-21T00:00:00\", \"2019-04-28T00:00:00\", \"2019-05-05T00:00:00\", \"2019-05-12T00:00:00\", \"2019-05-19T00:00:00\", \"2019-05-26T00:00:00\", \"2019-06-02T00:00:00\", \"2019-06-09T00:00:00\", \"2019-06-16T00:00:00\", \"2019-06-23T00:00:00\", \"2019-06-30T00:00:00\", \"2019-07-07T00:00:00\", \"2019-07-14T00:00:00\", \"2019-07-21T00:00:00\", \"2019-07-28T00:00:00\", \"2019-08-04T00:00:00\", \"2019-08-11T00:00:00\", \"2019-08-18T00:00:00\", \"2019-08-25T00:00:00\", \"2019-09-01T00:00:00\", \"2019-09-08T00:00:00\", \"2019-09-15T00:00:00\", \"2019-09-22T00:00:00\", \"2019-09-29T00:00:00\", \"2019-10-06T00:00:00\", \"2019-10-13T00:00:00\", \"2019-10-20T00:00:00\", \"2019-10-27T00:00:00\", \"2019-11-03T00:00:00\", \"2019-11-10T00:00:00\", \"2019-11-17T00:00:00\", \"2019-11-24T00:00:00\", \"2019-12-01T00:00:00\", \"2019-12-08T00:00:00\", \"2019-12-15T00:00:00\", \"2019-12-22T00:00:00\", \"2019-12-29T00:00:00\", \"2020-01-05T00:00:00\", \"2020-01-12T00:00:00\", \"2020-01-19T00:00:00\", \"2020-01-26T00:00:00\", \"2020-02-02T00:00:00\", \"2020-02-09T00:00:00\", \"2020-02-16T00:00:00\", \"2020-02-23T00:00:00\", \"2020-03-01T00:00:00\", \"2020-03-08T00:00:00\", \"2020-03-15T00:00:00\", \"2020-03-22T00:00:00\", \"2020-03-29T00:00:00\", \"2020-04-05T00:00:00\", \"2020-04-12T00:00:00\", \"2020-04-19T00:00:00\", \"2020-04-26T00:00:00\", \"2020-05-03T00:00:00\", \"2020-05-10T00:00:00\", \"2020-05-17T00:00:00\", \"2020-05-24T00:00:00\", \"2020-05-31T00:00:00\", \"2020-06-07T00:00:00\", \"2020-06-14T00:00:00\", \"2020-06-21T00:00:00\", \"2020-06-28T00:00:00\", \"2020-07-05T00:00:00\", \"2020-07-12T00:00:00\", \"2020-07-19T00:00:00\", \"2020-07-26T00:00:00\", \"2020-08-02T00:00:00\", \"2020-08-09T00:00:00\", \"2020-08-16T00:00:00\", \"2020-08-23T00:00:00\"], \"xaxis\": \"x\", \"y\": [2173977.032103576, 2155545.919121663, 2094841.011162552, 2535675.241826159, 2277493.607088, 2090769.646315287, 2406385.618249251, 2321607.038115114, 2227304.303168017, 2474567.442304043, 2079246.102508494, 2155092.972983506, 2170995.596594645, 2311007.000114306, 2200351.355759795, 2226552.999406351, 2569976.924285516, 2703696.420633273, 2633425.684279039, 2441590.702176922, 2550230.036771949, 2319860.821588857, 2305724.717296751, 2370859.551373887, 2451106.908758114, 2273881.087206302, 2201063.984329701, 2401900.135853213, 2020154.924455441, 1982375.328382093, 2483149.658817093, 2142913.399136052, 1944490.194422666, 2147764.540921825, 1992149.34962534, 1959592.491759138, 1847383.400213798, 1910937.959403426, 1898237.871921008, 2007181.390823723, 2222416.604624206, 2111350.165408474, 2509343.295742664, 2450833.459168972, 2550019.662793044, 2313008.254098248, 2196070.137978665, 2132653.526082675, 2135261.484636801, 2096010.598244163, 1928359.995514112, 1961862.905673692, 1928044.768737992, 2027238.264860422, 1988308.729183352, 2651288.257257362, 2211910.062609156, 1841606.550781404, 2340974.309839563, 2081153.584779695, 1945009.321956953, 2376393.022871379, 2039072.683144861, 2124476.198871993, 2075552.517656174, 2055818.186120559, 2034019.500056891, 2113241.845557682, 2187942.357937597, 2682474.05173244, 2272346.405283296, 2168463.14515707, 2178356.796107219, 2317152.911697342, 1985256.803878911, 2057109.750094871, 2258835.510022541, 2216759.019099752, 1997952.079035663, 2147760.302149362, 1787288.858660694, 1914185.829273157, 1865379.410202064, 2094467.535230382, 2018008.918502097, 2568052.56824491, 1779656.909040528, 1722448.613671838, 1657780.992908588, 1752500.806801457, 1782254.168300464, 1847675.897674954, 2033234.377621999, 1862298.878673657, 2051178.251334092, 2151699.536727613, 2256548.294197786, 2086616.765145305, 1978913.478295632, 1946932.960311908, 1963266.508336586, 1854653.479729932, 1836769.413827782, 1849765.487929735, 1859628.511194323, 1916279.930440686, 1910292.637399483, 2300727.711495953, 2090430.435594788, 1806228.030073318, 1879606.812678967, 1904957.147936894, 1947752.964673786, 2557737.929951426, 2036592.755721962, 1984176.779989305, 2069824.944404338, 2051208.77507349, 2030062.480177317, 2026438.780978565, 2317947.2075929, 2699077.634855784, 2459248.99120319, 2304847.776112456, 2259382.09983543, 2169872.786042465, 2056900.449469137, 2131372.68290389, 2186388.187919467, 2129710.107863768, 1974105.614269987, 2089247.921319393, 1872791.91739453, 1612683.336626691, 1235302.134948292, 1294007.234255016, 1456142.571636864, 1494888.586703174, 1838797.679825191, 1820176.199552675, 1992516.726593521, 2380274.942899977, 2474395.449158682, 2366523.295919454, 2414120.51889532, 2393014.988591331, 2410339.456042459, 2452462.002642554, 2052963.758172008, 1748782.736679036, 1474484.029808089, 1534077.680473221, 923406.3721405836, 101105.8778725927, 137552.9633831789, 77309.11116223564], \"yaxis\": \"y\"}, {\"hovertemplate\": \"<b>%{hovertext}</b><br><br>State=WA<br>WC Date=%{x}<br>Sales=%{y}<extra></extra>\", \"hovertext\": [\"Apr\", \"Apr\", \"Apr\", \"Apr\", \"Apr\", \"May\", \"May\", \"May\", \"May\", \"Jun\", \"Jun\", \"Jun\", \"Jun\", \"Jul\", \"Jul\", \"Jul\", \"Jul\", \"Jul\", \"Aug\", \"Aug\", \"Aug\", \"Aug\", \"Sep\", \"Sep\", \"Sep\", \"Sep\", \"Sep\", \"Oct\", \"Oct\", \"Oct\", \"Oct\", \"Nov\", \"Nov\", \"Nov\", \"Nov\", \"Dec\", \"Dec\", \"Dec\", \"Dec\", \"Dec\", \"Jan\", \"Jan\", \"Jan\", \"Jan\", \"Feb\", \"Feb\", \"Feb\", \"Feb\", \"Mar\", \"Mar\", \"Mar\", \"Mar\", \"Mar\", \"Apr\", \"Apr\", \"Apr\", \"Apr\", \"May\", \"May\", \"May\", \"May\", \"Jun\", \"Jun\", \"Jun\", \"Jun\", \"Jun\", \"Jul\", \"Jul\", \"Jul\", \"Jul\", \"Aug\", \"Aug\", \"Aug\", \"Aug\", \"Sep\", \"Sep\", \"Sep\", \"Sep\", \"Sep\", \"Oct\", \"Oct\", \"Oct\", \"Oct\", \"Nov\", \"Nov\", \"Nov\", \"Nov\", \"Dec\", \"Dec\", \"Dec\", \"Dec\", \"Dec\", \"Jan\", \"Jan\", \"Jan\", \"Jan\", \"Feb\", \"Feb\", \"Feb\", \"Feb\", \"Mar\", \"Mar\", \"Mar\", \"Mar\", \"Mar\", \"Apr\", \"Apr\", \"Apr\", \"Apr\", \"May\", \"May\", \"May\", \"May\", \"May\", \"Jun\", \"Jun\", \"Jun\", \"Jun\", \"Jul\", \"Jul\", \"Jul\", \"Jul\", \"Aug\", \"Aug\", \"Aug\", \"Aug\"], \"legendgroup\": \"WA\", \"line\": {\"color\": \"#19d3f3\", \"dash\": \"solid\"}, \"mode\": \"lines\", \"name\": \"WA\", \"orientation\": \"v\", \"showlegend\": true, \"type\": \"scatter\", \"x\": [\"2018-04-01T00:00:00\", \"2018-04-08T00:00:00\", \"2018-04-15T00:00:00\", \"2018-04-22T00:00:00\", \"2018-04-29T00:00:00\", \"2018-05-06T00:00:00\", \"2018-05-13T00:00:00\", \"2018-05-20T00:00:00\", \"2018-05-27T00:00:00\", \"2018-06-03T00:00:00\", \"2018-06-10T00:00:00\", \"2018-06-17T00:00:00\", \"2018-06-24T00:00:00\", \"2018-07-01T00:00:00\", \"2018-07-08T00:00:00\", \"2018-07-15T00:00:00\", \"2018-07-22T00:00:00\", \"2018-07-29T00:00:00\", \"2018-08-05T00:00:00\", \"2018-08-12T00:00:00\", \"2018-08-19T00:00:00\", \"2018-08-26T00:00:00\", \"2018-09-02T00:00:00\", \"2018-09-09T00:00:00\", \"2018-09-16T00:00:00\", \"2018-09-23T00:00:00\", \"2018-09-30T00:00:00\", \"2018-10-07T00:00:00\", \"2018-10-14T00:00:00\", \"2018-10-21T00:00:00\", \"2018-10-28T00:00:00\", \"2018-11-04T00:00:00\", \"2018-11-11T00:00:00\", \"2018-11-18T00:00:00\", \"2018-11-25T00:00:00\", \"2018-12-02T00:00:00\", \"2018-12-09T00:00:00\", \"2018-12-16T00:00:00\", \"2018-12-23T00:00:00\", \"2018-12-30T00:00:00\", \"2019-01-06T00:00:00\", \"2019-01-13T00:00:00\", \"2019-01-20T00:00:00\", \"2019-01-27T00:00:00\", \"2019-02-03T00:00:00\", \"2019-02-10T00:00:00\", \"2019-02-17T00:00:00\", \"2019-02-24T00:00:00\", \"2019-03-03T00:00:00\", \"2019-03-10T00:00:00\", \"2019-03-17T00:00:00\", \"2019-03-24T00:00:00\", \"2019-03-31T00:00:00\", \"2019-04-07T00:00:00\", \"2019-04-14T00:00:00\", \"2019-04-21T00:00:00\", \"2019-04-28T00:00:00\", \"2019-05-05T00:00:00\", \"2019-05-12T00:00:00\", \"2019-05-19T00:00:00\", \"2019-05-26T00:00:00\", \"2019-06-02T00:00:00\", \"2019-06-09T00:00:00\", \"2019-06-16T00:00:00\", \"2019-06-23T00:00:00\", \"2019-06-30T00:00:00\", \"2019-07-07T00:00:00\", \"2019-07-14T00:00:00\", \"2019-07-21T00:00:00\", \"2019-07-28T00:00:00\", \"2019-08-04T00:00:00\", \"2019-08-11T00:00:00\", \"2019-08-18T00:00:00\", \"2019-08-25T00:00:00\", \"2019-09-01T00:00:00\", \"2019-09-08T00:00:00\", \"2019-09-15T00:00:00\", \"2019-09-22T00:00:00\", \"2019-09-29T00:00:00\", \"2019-10-06T00:00:00\", \"2019-10-13T00:00:00\", \"2019-10-20T00:00:00\", \"2019-10-27T00:00:00\", \"2019-11-03T00:00:00\", \"2019-11-10T00:00:00\", \"2019-11-17T00:00:00\", \"2019-11-24T00:00:00\", \"2019-12-01T00:00:00\", \"2019-12-08T00:00:00\", \"2019-12-15T00:00:00\", \"2019-12-22T00:00:00\", \"2019-12-29T00:00:00\", \"2020-01-05T00:00:00\", \"2020-01-12T00:00:00\", \"2020-01-19T00:00:00\", \"2020-01-26T00:00:00\", \"2020-02-02T00:00:00\", \"2020-02-09T00:00:00\", \"2020-02-16T00:00:00\", \"2020-02-23T00:00:00\", \"2020-03-01T00:00:00\", \"2020-03-08T00:00:00\", \"2020-03-15T00:00:00\", \"2020-03-22T00:00:00\", \"2020-03-29T00:00:00\", \"2020-04-05T00:00:00\", \"2020-04-12T00:00:00\", \"2020-04-19T00:00:00\", \"2020-04-26T00:00:00\", \"2020-05-03T00:00:00\", \"2020-05-10T00:00:00\", \"2020-05-17T00:00:00\", \"2020-05-24T00:00:00\", \"2020-05-31T00:00:00\", \"2020-06-07T00:00:00\", \"2020-06-14T00:00:00\", \"2020-06-21T00:00:00\", \"2020-06-28T00:00:00\", \"2020-07-05T00:00:00\", \"2020-07-12T00:00:00\", \"2020-07-19T00:00:00\", \"2020-07-26T00:00:00\", \"2020-08-02T00:00:00\", \"2020-08-09T00:00:00\", \"2020-08-16T00:00:00\", \"2020-08-23T00:00:00\"], \"xaxis\": \"x\", \"y\": [770294.9737615981, 919437.2439854394, 1129704.862070959, 1027685.613751038, 976021.2941384722, 947474.3031400068, 926734.7707004084, 939314.2848296785, 1037653.165741358, 1042241.692120809, 1007671.178662462, 1064820.623453255, 1134927.541729526, 1202726.947343207, 1265155.285260032, 1193814.781499005, 1112481.24125399, 1125611.966440368, 1075246.459425593, 1016763.425038738, 1028741.205776156, 1031974.520451041, 1012854.154555203, 1014292.057015475, 1020549.691470501, 1229749.169073341, 1178092.272604025, 1037496.322159593, 1231892.204782497, 1062318.022969897, 1007305.492034842, 1062245.747119074, 1117332.776382334, 1242202.556330491, 1175279.438227872, 1062804.266890284, 1028223.62901654, 1113662.653377824, 1093936.478538533, 1314052.538065806, 1099475.609432149, 1165249.310981606, 1143605.144547776, 1135066.174054666, 988897.9696313373, 983359.7467489883, 1006985.418135264, 1004537.895405184, 1031682.322477833, 933298.0515579176, 918947.4262138959, 963878.3890463642, 999712.7315019409, 1033663.180163449, 1122749.257956435, 1163351.558520483, 966267.9037711167, 937348.7476006718, 912838.2353666924, 919850.7362910638, 965972.2002541064, 962986.4003331241, 950394.8417318636, 971775.7984825049, 1071445.144963326, 1054347.983245121, 1224086.549076284, 1254587.65174255, 1086151.76788414, 1074235.608999317, 1044329.951975798, 1008600.558081617, 1026179.868181753, 1024166.182240155, 990612.4935780433, 968021.0489546586, 962613.9683998523, 1024338.940097731, 1198266.047125181, 1134747.252044384, 1017575.810739616, 1018053.610999822, 1002744.028979319, 1075291.176284906, 1102402.460359027, 1098636.599916505, 1097397.594211326, 1020380.036712058, 1053366.402333025, 1043146.891437367, 1033827.500736153, 1412568.351994483, 1152209.454915632, 1120015.964468578, 1188675.190409752, 1028121.740348111, 1042965.415979692, 1024707.311044681, 1023792.988866948, 1003042.477310696, 1019547.988475308, 924003.8583653866, 978775.95326941, 901311.0198578313, 663962.0612222215, 686500.575832631, 866084.044033757, 782932.9481527813, 1161703.651907744, 1096142.996858809, 1108498.679264195, 1229172.47358018, 1145625.471834579, 1167187.236680397, 1109709.715788086, 1186871.637307797, 1259688.225141553, 1316347.087654828, 1449490.280263191, 1495237.554726775, 1418697.254347753, 1364894.742805736, 1351591.411319429, 1385729.187643929, 1362193.248057242, 1271019.578751108], \"yaxis\": \"y\"}],                        {\"legend\": {\"title\": {\"text\": \"State\"}, \"tracegroupgap\": 0}, \"margin\": {\"t\": 60}, \"template\": {\"data\": {\"bar\": [{\"error_x\": {\"color\": \"#2a3f5f\"}, \"error_y\": {\"color\": \"#2a3f5f\"}, \"marker\": {\"line\": {\"color\": \"#E5ECF6\", \"width\": 0.5}}, \"type\": \"bar\"}], \"barpolar\": [{\"marker\": {\"line\": {\"color\": \"#E5ECF6\", \"width\": 0.5}}, \"type\": \"barpolar\"}], \"carpet\": [{\"aaxis\": {\"endlinecolor\": \"#2a3f5f\", \"gridcolor\": \"white\", \"linecolor\": \"white\", \"minorgridcolor\": \"white\", \"startlinecolor\": \"#2a3f5f\"}, \"baxis\": {\"endlinecolor\": \"#2a3f5f\", \"gridcolor\": \"white\", \"linecolor\": \"white\", \"minorgridcolor\": \"white\", \"startlinecolor\": \"#2a3f5f\"}, \"type\": \"carpet\"}], \"choropleth\": [{\"colorbar\": {\"outlinewidth\": 0, \"ticks\": \"\"}, \"type\": \"choropleth\"}], \"contour\": [{\"colorbar\": {\"outlinewidth\": 0, \"ticks\": \"\"}, \"colorscale\": [[0.0, \"#0d0887\"], [0.1111111111111111, \"#46039f\"], [0.2222222222222222, \"#7201a8\"], [0.3333333333333333, \"#9c179e\"], [0.4444444444444444, \"#bd3786\"], [0.5555555555555556, \"#d8576b\"], [0.6666666666666666, \"#ed7953\"], [0.7777777777777778, \"#fb9f3a\"], [0.8888888888888888, \"#fdca26\"], [1.0, \"#f0f921\"]], \"type\": \"contour\"}], \"contourcarpet\": [{\"colorbar\": {\"outlinewidth\": 0, \"ticks\": \"\"}, \"type\": \"contourcarpet\"}], \"heatmap\": [{\"colorbar\": {\"outlinewidth\": 0, \"ticks\": \"\"}, \"colorscale\": [[0.0, \"#0d0887\"], [0.1111111111111111, \"#46039f\"], [0.2222222222222222, \"#7201a8\"], [0.3333333333333333, \"#9c179e\"], [0.4444444444444444, \"#bd3786\"], [0.5555555555555556, \"#d8576b\"], [0.6666666666666666, \"#ed7953\"], [0.7777777777777778, \"#fb9f3a\"], [0.8888888888888888, \"#fdca26\"], [1.0, \"#f0f921\"]], \"type\": \"heatmap\"}], \"heatmapgl\": [{\"colorbar\": {\"outlinewidth\": 0, \"ticks\": \"\"}, \"colorscale\": [[0.0, \"#0d0887\"], [0.1111111111111111, \"#46039f\"], [0.2222222222222222, \"#7201a8\"], [0.3333333333333333, \"#9c179e\"], [0.4444444444444444, \"#bd3786\"], [0.5555555555555556, \"#d8576b\"], [0.6666666666666666, \"#ed7953\"], [0.7777777777777778, \"#fb9f3a\"], [0.8888888888888888, \"#fdca26\"], [1.0, \"#f0f921\"]], \"type\": \"heatmapgl\"}], \"histogram\": [{\"marker\": {\"colorbar\": {\"outlinewidth\": 0, \"ticks\": \"\"}}, \"type\": \"histogram\"}], \"histogram2d\": [{\"colorbar\": {\"outlinewidth\": 0, \"ticks\": \"\"}, \"colorscale\": [[0.0, \"#0d0887\"], [0.1111111111111111, \"#46039f\"], [0.2222222222222222, \"#7201a8\"], [0.3333333333333333, \"#9c179e\"], [0.4444444444444444, \"#bd3786\"], [0.5555555555555556, \"#d8576b\"], [0.6666666666666666, \"#ed7953\"], [0.7777777777777778, \"#fb9f3a\"], [0.8888888888888888, \"#fdca26\"], [1.0, \"#f0f921\"]], \"type\": \"histogram2d\"}], \"histogram2dcontour\": [{\"colorbar\": {\"outlinewidth\": 0, \"ticks\": \"\"}, \"colorscale\": [[0.0, \"#0d0887\"], [0.1111111111111111, \"#46039f\"], [0.2222222222222222, \"#7201a8\"], [0.3333333333333333, \"#9c179e\"], [0.4444444444444444, \"#bd3786\"], [0.5555555555555556, \"#d8576b\"], [0.6666666666666666, \"#ed7953\"], [0.7777777777777778, \"#fb9f3a\"], [0.8888888888888888, \"#fdca26\"], [1.0, \"#f0f921\"]], \"type\": \"histogram2dcontour\"}], \"mesh3d\": [{\"colorbar\": {\"outlinewidth\": 0, \"ticks\": \"\"}, \"type\": \"mesh3d\"}], \"parcoords\": [{\"line\": {\"colorbar\": {\"outlinewidth\": 0, \"ticks\": \"\"}}, \"type\": \"parcoords\"}], \"pie\": [{\"automargin\": true, \"type\": \"pie\"}], \"scatter\": [{\"marker\": {\"colorbar\": {\"outlinewidth\": 0, \"ticks\": \"\"}}, \"type\": \"scatter\"}], \"scatter3d\": [{\"line\": {\"colorbar\": {\"outlinewidth\": 0, \"ticks\": \"\"}}, \"marker\": {\"colorbar\": {\"outlinewidth\": 0, \"ticks\": \"\"}}, \"type\": \"scatter3d\"}], \"scattercarpet\": [{\"marker\": {\"colorbar\": {\"outlinewidth\": 0, \"ticks\": \"\"}}, \"type\": \"scattercarpet\"}], \"scattergeo\": [{\"marker\": {\"colorbar\": {\"outlinewidth\": 0, \"ticks\": \"\"}}, \"type\": \"scattergeo\"}], \"scattergl\": [{\"marker\": {\"colorbar\": {\"outlinewidth\": 0, \"ticks\": \"\"}}, \"type\": \"scattergl\"}], \"scattermapbox\": [{\"marker\": {\"colorbar\": {\"outlinewidth\": 0, \"ticks\": \"\"}}, \"type\": \"scattermapbox\"}], \"scatterpolar\": [{\"marker\": {\"colorbar\": {\"outlinewidth\": 0, \"ticks\": \"\"}}, \"type\": \"scatterpolar\"}], \"scatterpolargl\": [{\"marker\": {\"colorbar\": {\"outlinewidth\": 0, \"ticks\": \"\"}}, \"type\": \"scatterpolargl\"}], \"scatterternary\": [{\"marker\": {\"colorbar\": {\"outlinewidth\": 0, \"ticks\": \"\"}}, \"type\": \"scatterternary\"}], \"surface\": [{\"colorbar\": {\"outlinewidth\": 0, \"ticks\": \"\"}, \"colorscale\": [[0.0, \"#0d0887\"], [0.1111111111111111, \"#46039f\"], [0.2222222222222222, \"#7201a8\"], [0.3333333333333333, \"#9c179e\"], [0.4444444444444444, \"#bd3786\"], [0.5555555555555556, \"#d8576b\"], [0.6666666666666666, \"#ed7953\"], [0.7777777777777778, \"#fb9f3a\"], [0.8888888888888888, \"#fdca26\"], [1.0, \"#f0f921\"]], \"type\": \"surface\"}], \"table\": [{\"cells\": {\"fill\": {\"color\": \"#EBF0F8\"}, \"line\": {\"color\": \"white\"}}, \"header\": {\"fill\": {\"color\": \"#C8D4E3\"}, \"line\": {\"color\": \"white\"}}, \"type\": \"table\"}]}, \"layout\": {\"annotationdefaults\": {\"arrowcolor\": \"#2a3f5f\", \"arrowhead\": 0, \"arrowwidth\": 1}, \"autotypenumbers\": \"strict\", \"coloraxis\": {\"colorbar\": {\"outlinewidth\": 0, \"ticks\": \"\"}}, \"colorscale\": {\"diverging\": [[0, \"#8e0152\"], [0.1, \"#c51b7d\"], [0.2, \"#de77ae\"], [0.3, \"#f1b6da\"], [0.4, \"#fde0ef\"], [0.5, \"#f7f7f7\"], [0.6, \"#e6f5d0\"], [0.7, \"#b8e186\"], [0.8, \"#7fbc41\"], [0.9, \"#4d9221\"], [1, \"#276419\"]], \"sequential\": [[0.0, \"#0d0887\"], [0.1111111111111111, \"#46039f\"], [0.2222222222222222, \"#7201a8\"], [0.3333333333333333, \"#9c179e\"], [0.4444444444444444, \"#bd3786\"], [0.5555555555555556, \"#d8576b\"], [0.6666666666666666, \"#ed7953\"], [0.7777777777777778, \"#fb9f3a\"], [0.8888888888888888, \"#fdca26\"], [1.0, \"#f0f921\"]], \"sequentialminus\": [[0.0, \"#0d0887\"], [0.1111111111111111, \"#46039f\"], [0.2222222222222222, \"#7201a8\"], [0.3333333333333333, \"#9c179e\"], [0.4444444444444444, \"#bd3786\"], [0.5555555555555556, \"#d8576b\"], [0.6666666666666666, \"#ed7953\"], [0.7777777777777778, \"#fb9f3a\"], [0.8888888888888888, \"#fdca26\"], [1.0, \"#f0f921\"]]}, \"colorway\": [\"#636efa\", \"#EF553B\", \"#00cc96\", \"#ab63fa\", \"#FFA15A\", \"#19d3f3\", \"#FF6692\", \"#B6E880\", \"#FF97FF\", \"#FECB52\"], \"font\": {\"color\": \"#2a3f5f\"}, \"geo\": {\"bgcolor\": \"white\", \"lakecolor\": \"white\", \"landcolor\": \"#E5ECF6\", \"showlakes\": true, \"showland\": true, \"subunitcolor\": \"white\"}, \"hoverlabel\": {\"align\": \"left\"}, \"hovermode\": \"closest\", \"mapbox\": {\"style\": \"light\"}, \"paper_bgcolor\": \"white\", \"plot_bgcolor\": \"#E5ECF6\", \"polar\": {\"angularaxis\": {\"gridcolor\": \"white\", \"linecolor\": \"white\", \"ticks\": \"\"}, \"bgcolor\": \"#E5ECF6\", \"radialaxis\": {\"gridcolor\": \"white\", \"linecolor\": \"white\", \"ticks\": \"\"}}, \"scene\": {\"xaxis\": {\"backgroundcolor\": \"#E5ECF6\", \"gridcolor\": \"white\", \"gridwidth\": 2, \"linecolor\": \"white\", \"showbackground\": true, \"ticks\": \"\", \"zerolinecolor\": \"white\"}, \"yaxis\": {\"backgroundcolor\": \"#E5ECF6\", \"gridcolor\": \"white\", \"gridwidth\": 2, \"linecolor\": \"white\", \"showbackground\": true, \"ticks\": \"\", \"zerolinecolor\": \"white\"}, \"zaxis\": {\"backgroundcolor\": \"#E5ECF6\", \"gridcolor\": \"white\", \"gridwidth\": 2, \"linecolor\": \"white\", \"showbackground\": true, \"ticks\": \"\", \"zerolinecolor\": \"white\"}}, \"shapedefaults\": {\"line\": {\"color\": \"#2a3f5f\"}}, \"ternary\": {\"aaxis\": {\"gridcolor\": \"white\", \"linecolor\": \"white\", \"ticks\": \"\"}, \"baxis\": {\"gridcolor\": \"white\", \"linecolor\": \"white\", \"ticks\": \"\"}, \"bgcolor\": \"#E5ECF6\", \"caxis\": {\"gridcolor\": \"white\", \"linecolor\": \"white\", \"ticks\": \"\"}}, \"title\": {\"x\": 0.05}, \"xaxis\": {\"automargin\": true, \"gridcolor\": \"white\", \"linecolor\": \"white\", \"ticks\": \"\", \"title\": {\"standoff\": 15}, \"zerolinecolor\": \"white\", \"zerolinewidth\": 2}, \"yaxis\": {\"automargin\": true, \"gridcolor\": \"white\", \"linecolor\": \"white\", \"ticks\": \"\", \"title\": {\"standoff\": 15}, \"zerolinecolor\": \"white\", \"zerolinewidth\": 2}}}, \"title\": {\"text\": \"Weekly Sales\"}, \"xaxis\": {\"anchor\": \"y\", \"domain\": [0.0, 1.0], \"title\": {\"text\": \"WC Date\"}}, \"yaxis\": {\"anchor\": \"x\", \"domain\": [0.0, 1.0], \"title\": {\"text\": \"Sales $\"}}},                        {\"responsive\": true}                    ).then(function(){\n",
       "                            \n",
       "var gd = document.getElementById('f5152bdf-313b-4af5-bfc8-a74ec697f51e');\n",
       "var x = new MutationObserver(function (mutations, observer) {{\n",
       "        var display = window.getComputedStyle(gd).display;\n",
       "        if (!display || display === 'none') {{\n",
       "            console.log([gd, 'removed!']);\n",
       "            Plotly.purge(gd);\n",
       "            observer.disconnect();\n",
       "        }}\n",
       "}});\n",
       "\n",
       "// Listen for the removal of the full notebook cells\n",
       "var notebookContainer = gd.closest('#notebook-container');\n",
       "if (notebookContainer) {{\n",
       "    x.observe(notebookContainer, {childList: true});\n",
       "}}\n",
       "\n",
       "// Listen for the clearing of the current output cell\n",
       "var outputEl = gd.closest('.output');\n",
       "if (outputEl) {{\n",
       "    x.observe(outputEl, {childList: true});\n",
       "}}\n",
       "\n",
       "                        })                };                });            </script>        </div>"
      ]
     },
     "metadata": {},
     "output_type": "display_data"
    }
   ],
   "source": [
    "fig = px.line(df_s, x='WC Date', y='Sales', color=\"State\",line_group=\"State\", hover_name=\"Month\"\\\n",
    "              ,color_discrete_map={\"NSW\": \"#456987\",\"VIC\": \"#147852\"})#,color_discrete_sequence=['gray', 'blue'])\n",
    "fig.update_layout(title='Weekly Sales',xaxis_title='WC Date',yaxis_title=\"Sales $\")\n",
    "\n",
    "fig.show()"
   ]
  },
  {
   "cell_type": "markdown",
   "metadata": {},
   "source": [
    "### Bar charts"
   ]
  },
  {
   "cell_type": "code",
   "execution_count": 16,
   "metadata": {},
   "outputs": [
    {
     "data": {
      "application/vnd.plotly.v1+json": {
       "config": {
        "linkText": "Export to plot.ly",
        "plotlyServerURL": "https://plot.ly",
        "showLink": true
       },
       "data": [
        {
         "marker": {
          "color": "rgba(255, 153, 51, 0.6)",
          "line": {
           "color": "rgba(255, 153, 51, 1.0)",
           "width": 1
          }
         },
         "name": "NetB_imp",
         "orientation": "v",
         "text": "",
         "type": "bar",
         "x": [
          0,
          1,
          2,
          3,
          4,
          5,
          6,
          7,
          8,
          9,
          10,
          11,
          12,
          13,
          14,
          15,
          16,
          17,
          18,
          19,
          20,
          21,
          22,
          23,
          24,
          25,
          26,
          27,
          28,
          29,
          30,
          31,
          32,
          33,
          34,
          35,
          36,
          37,
          38,
          39,
          40,
          41,
          42,
          43,
          44,
          45,
          46,
          47,
          48
         ],
         "y": [
          381,
          316,
          671,
          401,
          182,
          365,
          450,
          35,
          63,
          2,
          54,
          38,
          50,
          54,
          103,
          94,
          73,
          100,
          20,
          80,
          47,
          63,
          80,
          81,
          47,
          33,
          0,
          42,
          56,
          218,
          170,
          129,
          117,
          134,
          90,
          44,
          130,
          187,
          178,
          111,
          110,
          123,
          156,
          103,
          134,
          136,
          227,
          71,
          139
         ]
        },
        {
         "marker": {
          "color": "rgba(55, 128, 191, 0.6)",
          "line": {
           "color": "rgba(55, 128, 191, 1.0)",
           "width": 1
          }
         },
         "name": "NetA_imp",
         "orientation": "v",
         "text": "",
         "type": "bar",
         "x": [
          0,
          1,
          2,
          3,
          4,
          5,
          6,
          7,
          8,
          9,
          10,
          11,
          12,
          13,
          14,
          15,
          16,
          17,
          18,
          19,
          20,
          21,
          22,
          23,
          24,
          25,
          26,
          27,
          28,
          29,
          30,
          31,
          32,
          33,
          34,
          35,
          36,
          37,
          38,
          39,
          40,
          41,
          42,
          43,
          44,
          45,
          46,
          47,
          48
         ],
         "y": [
          421,
          392,
          756,
          128,
          154,
          104,
          65,
          155,
          108,
          117,
          185,
          212,
          64,
          155,
          62,
          118,
          23,
          62,
          26,
          31,
          49,
          67,
          110,
          21,
          30,
          2,
          40,
          21,
          83,
          146,
          51,
          84,
          193,
          49,
          78,
          158,
          196,
          94,
          72,
          208,
          24,
          52,
          185,
          154,
          71,
          70,
          84,
          140,
          94
         ]
        }
       ],
       "layout": {
        "legend": {
         "bgcolor": "#F5F6F9",
         "font": {
          "color": "#4D5663"
         }
        },
        "paper_bgcolor": "#F5F6F9",
        "plot_bgcolor": "#F5F6F9",
        "template": {
         "data": {
          "bar": [
           {
            "error_x": {
             "color": "#2a3f5f"
            },
            "error_y": {
             "color": "#2a3f5f"
            },
            "marker": {
             "line": {
              "color": "#E5ECF6",
              "width": 0.5
             }
            },
            "type": "bar"
           }
          ],
          "barpolar": [
           {
            "marker": {
             "line": {
              "color": "#E5ECF6",
              "width": 0.5
             }
            },
            "type": "barpolar"
           }
          ],
          "carpet": [
           {
            "aaxis": {
             "endlinecolor": "#2a3f5f",
             "gridcolor": "white",
             "linecolor": "white",
             "minorgridcolor": "white",
             "startlinecolor": "#2a3f5f"
            },
            "baxis": {
             "endlinecolor": "#2a3f5f",
             "gridcolor": "white",
             "linecolor": "white",
             "minorgridcolor": "white",
             "startlinecolor": "#2a3f5f"
            },
            "type": "carpet"
           }
          ],
          "choropleth": [
           {
            "colorbar": {
             "outlinewidth": 0,
             "ticks": ""
            },
            "type": "choropleth"
           }
          ],
          "contour": [
           {
            "colorbar": {
             "outlinewidth": 0,
             "ticks": ""
            },
            "colorscale": [
             [
              0,
              "#0d0887"
             ],
             [
              0.1111111111111111,
              "#46039f"
             ],
             [
              0.2222222222222222,
              "#7201a8"
             ],
             [
              0.3333333333333333,
              "#9c179e"
             ],
             [
              0.4444444444444444,
              "#bd3786"
             ],
             [
              0.5555555555555556,
              "#d8576b"
             ],
             [
              0.6666666666666666,
              "#ed7953"
             ],
             [
              0.7777777777777778,
              "#fb9f3a"
             ],
             [
              0.8888888888888888,
              "#fdca26"
             ],
             [
              1,
              "#f0f921"
             ]
            ],
            "type": "contour"
           }
          ],
          "contourcarpet": [
           {
            "colorbar": {
             "outlinewidth": 0,
             "ticks": ""
            },
            "type": "contourcarpet"
           }
          ],
          "heatmap": [
           {
            "colorbar": {
             "outlinewidth": 0,
             "ticks": ""
            },
            "colorscale": [
             [
              0,
              "#0d0887"
             ],
             [
              0.1111111111111111,
              "#46039f"
             ],
             [
              0.2222222222222222,
              "#7201a8"
             ],
             [
              0.3333333333333333,
              "#9c179e"
             ],
             [
              0.4444444444444444,
              "#bd3786"
             ],
             [
              0.5555555555555556,
              "#d8576b"
             ],
             [
              0.6666666666666666,
              "#ed7953"
             ],
             [
              0.7777777777777778,
              "#fb9f3a"
             ],
             [
              0.8888888888888888,
              "#fdca26"
             ],
             [
              1,
              "#f0f921"
             ]
            ],
            "type": "heatmap"
           }
          ],
          "heatmapgl": [
           {
            "colorbar": {
             "outlinewidth": 0,
             "ticks": ""
            },
            "colorscale": [
             [
              0,
              "#0d0887"
             ],
             [
              0.1111111111111111,
              "#46039f"
             ],
             [
              0.2222222222222222,
              "#7201a8"
             ],
             [
              0.3333333333333333,
              "#9c179e"
             ],
             [
              0.4444444444444444,
              "#bd3786"
             ],
             [
              0.5555555555555556,
              "#d8576b"
             ],
             [
              0.6666666666666666,
              "#ed7953"
             ],
             [
              0.7777777777777778,
              "#fb9f3a"
             ],
             [
              0.8888888888888888,
              "#fdca26"
             ],
             [
              1,
              "#f0f921"
             ]
            ],
            "type": "heatmapgl"
           }
          ],
          "histogram": [
           {
            "marker": {
             "colorbar": {
              "outlinewidth": 0,
              "ticks": ""
             }
            },
            "type": "histogram"
           }
          ],
          "histogram2d": [
           {
            "colorbar": {
             "outlinewidth": 0,
             "ticks": ""
            },
            "colorscale": [
             [
              0,
              "#0d0887"
             ],
             [
              0.1111111111111111,
              "#46039f"
             ],
             [
              0.2222222222222222,
              "#7201a8"
             ],
             [
              0.3333333333333333,
              "#9c179e"
             ],
             [
              0.4444444444444444,
              "#bd3786"
             ],
             [
              0.5555555555555556,
              "#d8576b"
             ],
             [
              0.6666666666666666,
              "#ed7953"
             ],
             [
              0.7777777777777778,
              "#fb9f3a"
             ],
             [
              0.8888888888888888,
              "#fdca26"
             ],
             [
              1,
              "#f0f921"
             ]
            ],
            "type": "histogram2d"
           }
          ],
          "histogram2dcontour": [
           {
            "colorbar": {
             "outlinewidth": 0,
             "ticks": ""
            },
            "colorscale": [
             [
              0,
              "#0d0887"
             ],
             [
              0.1111111111111111,
              "#46039f"
             ],
             [
              0.2222222222222222,
              "#7201a8"
             ],
             [
              0.3333333333333333,
              "#9c179e"
             ],
             [
              0.4444444444444444,
              "#bd3786"
             ],
             [
              0.5555555555555556,
              "#d8576b"
             ],
             [
              0.6666666666666666,
              "#ed7953"
             ],
             [
              0.7777777777777778,
              "#fb9f3a"
             ],
             [
              0.8888888888888888,
              "#fdca26"
             ],
             [
              1,
              "#f0f921"
             ]
            ],
            "type": "histogram2dcontour"
           }
          ],
          "mesh3d": [
           {
            "colorbar": {
             "outlinewidth": 0,
             "ticks": ""
            },
            "type": "mesh3d"
           }
          ],
          "parcoords": [
           {
            "line": {
             "colorbar": {
              "outlinewidth": 0,
              "ticks": ""
             }
            },
            "type": "parcoords"
           }
          ],
          "pie": [
           {
            "automargin": true,
            "type": "pie"
           }
          ],
          "scatter": [
           {
            "marker": {
             "colorbar": {
              "outlinewidth": 0,
              "ticks": ""
             }
            },
            "type": "scatter"
           }
          ],
          "scatter3d": [
           {
            "line": {
             "colorbar": {
              "outlinewidth": 0,
              "ticks": ""
             }
            },
            "marker": {
             "colorbar": {
              "outlinewidth": 0,
              "ticks": ""
             }
            },
            "type": "scatter3d"
           }
          ],
          "scattercarpet": [
           {
            "marker": {
             "colorbar": {
              "outlinewidth": 0,
              "ticks": ""
             }
            },
            "type": "scattercarpet"
           }
          ],
          "scattergeo": [
           {
            "marker": {
             "colorbar": {
              "outlinewidth": 0,
              "ticks": ""
             }
            },
            "type": "scattergeo"
           }
          ],
          "scattergl": [
           {
            "marker": {
             "colorbar": {
              "outlinewidth": 0,
              "ticks": ""
             }
            },
            "type": "scattergl"
           }
          ],
          "scattermapbox": [
           {
            "marker": {
             "colorbar": {
              "outlinewidth": 0,
              "ticks": ""
             }
            },
            "type": "scattermapbox"
           }
          ],
          "scatterpolar": [
           {
            "marker": {
             "colorbar": {
              "outlinewidth": 0,
              "ticks": ""
             }
            },
            "type": "scatterpolar"
           }
          ],
          "scatterpolargl": [
           {
            "marker": {
             "colorbar": {
              "outlinewidth": 0,
              "ticks": ""
             }
            },
            "type": "scatterpolargl"
           }
          ],
          "scatterternary": [
           {
            "marker": {
             "colorbar": {
              "outlinewidth": 0,
              "ticks": ""
             }
            },
            "type": "scatterternary"
           }
          ],
          "surface": [
           {
            "colorbar": {
             "outlinewidth": 0,
             "ticks": ""
            },
            "colorscale": [
             [
              0,
              "#0d0887"
             ],
             [
              0.1111111111111111,
              "#46039f"
             ],
             [
              0.2222222222222222,
              "#7201a8"
             ],
             [
              0.3333333333333333,
              "#9c179e"
             ],
             [
              0.4444444444444444,
              "#bd3786"
             ],
             [
              0.5555555555555556,
              "#d8576b"
             ],
             [
              0.6666666666666666,
              "#ed7953"
             ],
             [
              0.7777777777777778,
              "#fb9f3a"
             ],
             [
              0.8888888888888888,
              "#fdca26"
             ],
             [
              1,
              "#f0f921"
             ]
            ],
            "type": "surface"
           }
          ],
          "table": [
           {
            "cells": {
             "fill": {
              "color": "#EBF0F8"
             },
             "line": {
              "color": "white"
             }
            },
            "header": {
             "fill": {
              "color": "#C8D4E3"
             },
             "line": {
              "color": "white"
             }
            },
            "type": "table"
           }
          ]
         },
         "layout": {
          "annotationdefaults": {
           "arrowcolor": "#2a3f5f",
           "arrowhead": 0,
           "arrowwidth": 1
          },
          "autotypenumbers": "strict",
          "coloraxis": {
           "colorbar": {
            "outlinewidth": 0,
            "ticks": ""
           }
          },
          "colorscale": {
           "diverging": [
            [
             0,
             "#8e0152"
            ],
            [
             0.1,
             "#c51b7d"
            ],
            [
             0.2,
             "#de77ae"
            ],
            [
             0.3,
             "#f1b6da"
            ],
            [
             0.4,
             "#fde0ef"
            ],
            [
             0.5,
             "#f7f7f7"
            ],
            [
             0.6,
             "#e6f5d0"
            ],
            [
             0.7,
             "#b8e186"
            ],
            [
             0.8,
             "#7fbc41"
            ],
            [
             0.9,
             "#4d9221"
            ],
            [
             1,
             "#276419"
            ]
           ],
           "sequential": [
            [
             0,
             "#0d0887"
            ],
            [
             0.1111111111111111,
             "#46039f"
            ],
            [
             0.2222222222222222,
             "#7201a8"
            ],
            [
             0.3333333333333333,
             "#9c179e"
            ],
            [
             0.4444444444444444,
             "#bd3786"
            ],
            [
             0.5555555555555556,
             "#d8576b"
            ],
            [
             0.6666666666666666,
             "#ed7953"
            ],
            [
             0.7777777777777778,
             "#fb9f3a"
            ],
            [
             0.8888888888888888,
             "#fdca26"
            ],
            [
             1,
             "#f0f921"
            ]
           ],
           "sequentialminus": [
            [
             0,
             "#0d0887"
            ],
            [
             0.1111111111111111,
             "#46039f"
            ],
            [
             0.2222222222222222,
             "#7201a8"
            ],
            [
             0.3333333333333333,
             "#9c179e"
            ],
            [
             0.4444444444444444,
             "#bd3786"
            ],
            [
             0.5555555555555556,
             "#d8576b"
            ],
            [
             0.6666666666666666,
             "#ed7953"
            ],
            [
             0.7777777777777778,
             "#fb9f3a"
            ],
            [
             0.8888888888888888,
             "#fdca26"
            ],
            [
             1,
             "#f0f921"
            ]
           ]
          },
          "colorway": [
           "#636efa",
           "#EF553B",
           "#00cc96",
           "#ab63fa",
           "#FFA15A",
           "#19d3f3",
           "#FF6692",
           "#B6E880",
           "#FF97FF",
           "#FECB52"
          ],
          "font": {
           "color": "#2a3f5f"
          },
          "geo": {
           "bgcolor": "white",
           "lakecolor": "white",
           "landcolor": "#E5ECF6",
           "showlakes": true,
           "showland": true,
           "subunitcolor": "white"
          },
          "hoverlabel": {
           "align": "left"
          },
          "hovermode": "closest",
          "mapbox": {
           "style": "light"
          },
          "paper_bgcolor": "white",
          "plot_bgcolor": "#E5ECF6",
          "polar": {
           "angularaxis": {
            "gridcolor": "white",
            "linecolor": "white",
            "ticks": ""
           },
           "bgcolor": "#E5ECF6",
           "radialaxis": {
            "gridcolor": "white",
            "linecolor": "white",
            "ticks": ""
           }
          },
          "scene": {
           "xaxis": {
            "backgroundcolor": "#E5ECF6",
            "gridcolor": "white",
            "gridwidth": 2,
            "linecolor": "white",
            "showbackground": true,
            "ticks": "",
            "zerolinecolor": "white"
           },
           "yaxis": {
            "backgroundcolor": "#E5ECF6",
            "gridcolor": "white",
            "gridwidth": 2,
            "linecolor": "white",
            "showbackground": true,
            "ticks": "",
            "zerolinecolor": "white"
           },
           "zaxis": {
            "backgroundcolor": "#E5ECF6",
            "gridcolor": "white",
            "gridwidth": 2,
            "linecolor": "white",
            "showbackground": true,
            "ticks": "",
            "zerolinecolor": "white"
           }
          },
          "shapedefaults": {
           "line": {
            "color": "#2a3f5f"
           }
          },
          "ternary": {
           "aaxis": {
            "gridcolor": "white",
            "linecolor": "white",
            "ticks": ""
           },
           "baxis": {
            "gridcolor": "white",
            "linecolor": "white",
            "ticks": ""
           },
           "bgcolor": "#E5ECF6",
           "caxis": {
            "gridcolor": "white",
            "linecolor": "white",
            "ticks": ""
           }
          },
          "title": {
           "x": 0.05
          },
          "xaxis": {
           "automargin": true,
           "gridcolor": "white",
           "linecolor": "white",
           "ticks": "",
           "title": {
            "standoff": 15
           },
           "zerolinecolor": "white",
           "zerolinewidth": 2
          },
          "yaxis": {
           "automargin": true,
           "gridcolor": "white",
           "linecolor": "white",
           "ticks": "",
           "title": {
            "standoff": 15
           },
           "zerolinecolor": "white",
           "zerolinewidth": 2
          }
         }
        },
        "title": {
         "font": {
          "color": "#4D5663"
         },
         "text": "Acquired impressions on Network"
        },
        "xaxis": {
         "gridcolor": "#E1E5ED",
         "showgrid": true,
         "tickfont": {
          "color": "#4D5663"
         },
         "title": {
          "font": {
           "color": "#4D5663"
          },
          "text": "Observation"
         },
         "zerolinecolor": "#E1E5ED"
        },
        "yaxis": {
         "gridcolor": "#E1E5ED",
         "showgrid": true,
         "tickfont": {
          "color": "#4D5663"
         },
         "title": {
          "font": {
           "color": "#4D5663"
          },
          "text": "Value"
         },
         "zerolinecolor": "#E1E5ED"
        }
       }
      },
      "text/html": [
       "<div>                            <div id=\"413cb51a-1d8c-4b90-83c1-2ec41bef1059\" class=\"plotly-graph-div\" style=\"height:525px; width:100%;\"></div>            <script type=\"text/javascript\">                require([\"plotly\"], function(Plotly) {                    window.PLOTLYENV=window.PLOTLYENV || {};\n",
       "                    window.PLOTLYENV.BASE_URL='https://plot.ly';                                    if (document.getElementById(\"413cb51a-1d8c-4b90-83c1-2ec41bef1059\")) {                    Plotly.newPlot(                        \"413cb51a-1d8c-4b90-83c1-2ec41bef1059\",                        [{\"marker\": {\"color\": \"rgba(255, 153, 51, 0.6)\", \"line\": {\"color\": \"rgba(255, 153, 51, 1.0)\", \"width\": 1}}, \"name\": \"NetB_imp\", \"orientation\": \"v\", \"text\": \"\", \"type\": \"bar\", \"x\": [0, 1, 2, 3, 4, 5, 6, 7, 8, 9, 10, 11, 12, 13, 14, 15, 16, 17, 18, 19, 20, 21, 22, 23, 24, 25, 26, 27, 28, 29, 30, 31, 32, 33, 34, 35, 36, 37, 38, 39, 40, 41, 42, 43, 44, 45, 46, 47, 48], \"y\": [381, 316, 671, 401, 182, 365, 450, 35, 63, 2, 54, 38, 50, 54, 103, 94, 73, 100, 20, 80, 47, 63, 80, 81, 47, 33, 0, 42, 56, 218, 170, 129, 117, 134, 90, 44, 130, 187, 178, 111, 110, 123, 156, 103, 134, 136, 227, 71, 139]}, {\"marker\": {\"color\": \"rgba(55, 128, 191, 0.6)\", \"line\": {\"color\": \"rgba(55, 128, 191, 1.0)\", \"width\": 1}}, \"name\": \"NetA_imp\", \"orientation\": \"v\", \"text\": \"\", \"type\": \"bar\", \"x\": [0, 1, 2, 3, 4, 5, 6, 7, 8, 9, 10, 11, 12, 13, 14, 15, 16, 17, 18, 19, 20, 21, 22, 23, 24, 25, 26, 27, 28, 29, 30, 31, 32, 33, 34, 35, 36, 37, 38, 39, 40, 41, 42, 43, 44, 45, 46, 47, 48], \"y\": [421, 392, 756, 128, 154, 104, 65, 155, 108, 117, 185, 212, 64, 155, 62, 118, 23, 62, 26, 31, 49, 67, 110, 21, 30, 2, 40, 21, 83, 146, 51, 84, 193, 49, 78, 158, 196, 94, 72, 208, 24, 52, 185, 154, 71, 70, 84, 140, 94]}],                        {\"legend\": {\"bgcolor\": \"#F5F6F9\", \"font\": {\"color\": \"#4D5663\"}}, \"paper_bgcolor\": \"#F5F6F9\", \"plot_bgcolor\": \"#F5F6F9\", \"template\": {\"data\": {\"bar\": [{\"error_x\": {\"color\": \"#2a3f5f\"}, \"error_y\": {\"color\": \"#2a3f5f\"}, \"marker\": {\"line\": {\"color\": \"#E5ECF6\", \"width\": 0.5}}, \"type\": \"bar\"}], \"barpolar\": [{\"marker\": {\"line\": {\"color\": \"#E5ECF6\", \"width\": 0.5}}, \"type\": \"barpolar\"}], \"carpet\": [{\"aaxis\": {\"endlinecolor\": \"#2a3f5f\", \"gridcolor\": \"white\", \"linecolor\": \"white\", \"minorgridcolor\": \"white\", \"startlinecolor\": \"#2a3f5f\"}, \"baxis\": {\"endlinecolor\": \"#2a3f5f\", \"gridcolor\": \"white\", \"linecolor\": \"white\", \"minorgridcolor\": \"white\", \"startlinecolor\": \"#2a3f5f\"}, \"type\": \"carpet\"}], \"choropleth\": [{\"colorbar\": {\"outlinewidth\": 0, \"ticks\": \"\"}, \"type\": \"choropleth\"}], \"contour\": [{\"colorbar\": {\"outlinewidth\": 0, \"ticks\": \"\"}, \"colorscale\": [[0.0, \"#0d0887\"], [0.1111111111111111, \"#46039f\"], [0.2222222222222222, \"#7201a8\"], [0.3333333333333333, \"#9c179e\"], [0.4444444444444444, \"#bd3786\"], [0.5555555555555556, \"#d8576b\"], [0.6666666666666666, \"#ed7953\"], [0.7777777777777778, \"#fb9f3a\"], [0.8888888888888888, \"#fdca26\"], [1.0, \"#f0f921\"]], \"type\": \"contour\"}], \"contourcarpet\": [{\"colorbar\": {\"outlinewidth\": 0, \"ticks\": \"\"}, \"type\": \"contourcarpet\"}], \"heatmap\": [{\"colorbar\": {\"outlinewidth\": 0, \"ticks\": \"\"}, \"colorscale\": [[0.0, \"#0d0887\"], [0.1111111111111111, \"#46039f\"], [0.2222222222222222, \"#7201a8\"], [0.3333333333333333, \"#9c179e\"], [0.4444444444444444, \"#bd3786\"], [0.5555555555555556, \"#d8576b\"], [0.6666666666666666, \"#ed7953\"], [0.7777777777777778, \"#fb9f3a\"], [0.8888888888888888, \"#fdca26\"], [1.0, \"#f0f921\"]], \"type\": \"heatmap\"}], \"heatmapgl\": [{\"colorbar\": {\"outlinewidth\": 0, \"ticks\": \"\"}, \"colorscale\": [[0.0, \"#0d0887\"], [0.1111111111111111, \"#46039f\"], [0.2222222222222222, \"#7201a8\"], [0.3333333333333333, \"#9c179e\"], [0.4444444444444444, \"#bd3786\"], [0.5555555555555556, \"#d8576b\"], [0.6666666666666666, \"#ed7953\"], [0.7777777777777778, \"#fb9f3a\"], [0.8888888888888888, \"#fdca26\"], [1.0, \"#f0f921\"]], \"type\": \"heatmapgl\"}], \"histogram\": [{\"marker\": {\"colorbar\": {\"outlinewidth\": 0, \"ticks\": \"\"}}, \"type\": \"histogram\"}], \"histogram2d\": [{\"colorbar\": {\"outlinewidth\": 0, \"ticks\": \"\"}, \"colorscale\": [[0.0, \"#0d0887\"], [0.1111111111111111, \"#46039f\"], [0.2222222222222222, \"#7201a8\"], [0.3333333333333333, \"#9c179e\"], [0.4444444444444444, \"#bd3786\"], [0.5555555555555556, \"#d8576b\"], [0.6666666666666666, \"#ed7953\"], [0.7777777777777778, \"#fb9f3a\"], [0.8888888888888888, \"#fdca26\"], [1.0, \"#f0f921\"]], \"type\": \"histogram2d\"}], \"histogram2dcontour\": [{\"colorbar\": {\"outlinewidth\": 0, \"ticks\": \"\"}, \"colorscale\": [[0.0, \"#0d0887\"], [0.1111111111111111, \"#46039f\"], [0.2222222222222222, \"#7201a8\"], [0.3333333333333333, \"#9c179e\"], [0.4444444444444444, \"#bd3786\"], [0.5555555555555556, \"#d8576b\"], [0.6666666666666666, \"#ed7953\"], [0.7777777777777778, \"#fb9f3a\"], [0.8888888888888888, \"#fdca26\"], [1.0, \"#f0f921\"]], \"type\": \"histogram2dcontour\"}], \"mesh3d\": [{\"colorbar\": {\"outlinewidth\": 0, \"ticks\": \"\"}, \"type\": \"mesh3d\"}], \"parcoords\": [{\"line\": {\"colorbar\": {\"outlinewidth\": 0, \"ticks\": \"\"}}, \"type\": \"parcoords\"}], \"pie\": [{\"automargin\": true, \"type\": \"pie\"}], \"scatter\": [{\"marker\": {\"colorbar\": {\"outlinewidth\": 0, \"ticks\": \"\"}}, \"type\": \"scatter\"}], \"scatter3d\": [{\"line\": {\"colorbar\": {\"outlinewidth\": 0, \"ticks\": \"\"}}, \"marker\": {\"colorbar\": {\"outlinewidth\": 0, \"ticks\": \"\"}}, \"type\": \"scatter3d\"}], \"scattercarpet\": [{\"marker\": {\"colorbar\": {\"outlinewidth\": 0, \"ticks\": \"\"}}, \"type\": \"scattercarpet\"}], \"scattergeo\": [{\"marker\": {\"colorbar\": {\"outlinewidth\": 0, \"ticks\": \"\"}}, \"type\": \"scattergeo\"}], \"scattergl\": [{\"marker\": {\"colorbar\": {\"outlinewidth\": 0, \"ticks\": \"\"}}, \"type\": \"scattergl\"}], \"scattermapbox\": [{\"marker\": {\"colorbar\": {\"outlinewidth\": 0, \"ticks\": \"\"}}, \"type\": \"scattermapbox\"}], \"scatterpolar\": [{\"marker\": {\"colorbar\": {\"outlinewidth\": 0, \"ticks\": \"\"}}, \"type\": \"scatterpolar\"}], \"scatterpolargl\": [{\"marker\": {\"colorbar\": {\"outlinewidth\": 0, \"ticks\": \"\"}}, \"type\": \"scatterpolargl\"}], \"scatterternary\": [{\"marker\": {\"colorbar\": {\"outlinewidth\": 0, \"ticks\": \"\"}}, \"type\": \"scatterternary\"}], \"surface\": [{\"colorbar\": {\"outlinewidth\": 0, \"ticks\": \"\"}, \"colorscale\": [[0.0, \"#0d0887\"], [0.1111111111111111, \"#46039f\"], [0.2222222222222222, \"#7201a8\"], [0.3333333333333333, \"#9c179e\"], [0.4444444444444444, \"#bd3786\"], [0.5555555555555556, \"#d8576b\"], [0.6666666666666666, \"#ed7953\"], [0.7777777777777778, \"#fb9f3a\"], [0.8888888888888888, \"#fdca26\"], [1.0, \"#f0f921\"]], \"type\": \"surface\"}], \"table\": [{\"cells\": {\"fill\": {\"color\": \"#EBF0F8\"}, \"line\": {\"color\": \"white\"}}, \"header\": {\"fill\": {\"color\": \"#C8D4E3\"}, \"line\": {\"color\": \"white\"}}, \"type\": \"table\"}]}, \"layout\": {\"annotationdefaults\": {\"arrowcolor\": \"#2a3f5f\", \"arrowhead\": 0, \"arrowwidth\": 1}, \"autotypenumbers\": \"strict\", \"coloraxis\": {\"colorbar\": {\"outlinewidth\": 0, \"ticks\": \"\"}}, \"colorscale\": {\"diverging\": [[0, \"#8e0152\"], [0.1, \"#c51b7d\"], [0.2, \"#de77ae\"], [0.3, \"#f1b6da\"], [0.4, \"#fde0ef\"], [0.5, \"#f7f7f7\"], [0.6, \"#e6f5d0\"], [0.7, \"#b8e186\"], [0.8, \"#7fbc41\"], [0.9, \"#4d9221\"], [1, \"#276419\"]], \"sequential\": [[0.0, \"#0d0887\"], [0.1111111111111111, \"#46039f\"], [0.2222222222222222, \"#7201a8\"], [0.3333333333333333, \"#9c179e\"], [0.4444444444444444, \"#bd3786\"], [0.5555555555555556, \"#d8576b\"], [0.6666666666666666, \"#ed7953\"], [0.7777777777777778, \"#fb9f3a\"], [0.8888888888888888, \"#fdca26\"], [1.0, \"#f0f921\"]], \"sequentialminus\": [[0.0, \"#0d0887\"], [0.1111111111111111, \"#46039f\"], [0.2222222222222222, \"#7201a8\"], [0.3333333333333333, \"#9c179e\"], [0.4444444444444444, \"#bd3786\"], [0.5555555555555556, \"#d8576b\"], [0.6666666666666666, \"#ed7953\"], [0.7777777777777778, \"#fb9f3a\"], [0.8888888888888888, \"#fdca26\"], [1.0, \"#f0f921\"]]}, \"colorway\": [\"#636efa\", \"#EF553B\", \"#00cc96\", \"#ab63fa\", \"#FFA15A\", \"#19d3f3\", \"#FF6692\", \"#B6E880\", \"#FF97FF\", \"#FECB52\"], \"font\": {\"color\": \"#2a3f5f\"}, \"geo\": {\"bgcolor\": \"white\", \"lakecolor\": \"white\", \"landcolor\": \"#E5ECF6\", \"showlakes\": true, \"showland\": true, \"subunitcolor\": \"white\"}, \"hoverlabel\": {\"align\": \"left\"}, \"hovermode\": \"closest\", \"mapbox\": {\"style\": \"light\"}, \"paper_bgcolor\": \"white\", \"plot_bgcolor\": \"#E5ECF6\", \"polar\": {\"angularaxis\": {\"gridcolor\": \"white\", \"linecolor\": \"white\", \"ticks\": \"\"}, \"bgcolor\": \"#E5ECF6\", \"radialaxis\": {\"gridcolor\": \"white\", \"linecolor\": \"white\", \"ticks\": \"\"}}, \"scene\": {\"xaxis\": {\"backgroundcolor\": \"#E5ECF6\", \"gridcolor\": \"white\", \"gridwidth\": 2, \"linecolor\": \"white\", \"showbackground\": true, \"ticks\": \"\", \"zerolinecolor\": \"white\"}, \"yaxis\": {\"backgroundcolor\": \"#E5ECF6\", \"gridcolor\": \"white\", \"gridwidth\": 2, \"linecolor\": \"white\", \"showbackground\": true, \"ticks\": \"\", \"zerolinecolor\": \"white\"}, \"zaxis\": {\"backgroundcolor\": \"#E5ECF6\", \"gridcolor\": \"white\", \"gridwidth\": 2, \"linecolor\": \"white\", \"showbackground\": true, \"ticks\": \"\", \"zerolinecolor\": \"white\"}}, \"shapedefaults\": {\"line\": {\"color\": \"#2a3f5f\"}}, \"ternary\": {\"aaxis\": {\"gridcolor\": \"white\", \"linecolor\": \"white\", \"ticks\": \"\"}, \"baxis\": {\"gridcolor\": \"white\", \"linecolor\": \"white\", \"ticks\": \"\"}, \"bgcolor\": \"#E5ECF6\", \"caxis\": {\"gridcolor\": \"white\", \"linecolor\": \"white\", \"ticks\": \"\"}}, \"title\": {\"x\": 0.05}, \"xaxis\": {\"automargin\": true, \"gridcolor\": \"white\", \"linecolor\": \"white\", \"ticks\": \"\", \"title\": {\"standoff\": 15}, \"zerolinecolor\": \"white\", \"zerolinewidth\": 2}, \"yaxis\": {\"automargin\": true, \"gridcolor\": \"white\", \"linecolor\": \"white\", \"ticks\": \"\", \"title\": {\"standoff\": 15}, \"zerolinecolor\": \"white\", \"zerolinewidth\": 2}}}, \"title\": {\"font\": {\"color\": \"#4D5663\"}, \"text\": \"Acquired impressions on Network\"}, \"xaxis\": {\"gridcolor\": \"#E1E5ED\", \"showgrid\": true, \"tickfont\": {\"color\": \"#4D5663\"}, \"title\": {\"font\": {\"color\": \"#4D5663\"}, \"text\": \"Observation\"}, \"zerolinecolor\": \"#E1E5ED\"}, \"yaxis\": {\"gridcolor\": \"#E1E5ED\", \"showgrid\": true, \"tickfont\": {\"color\": \"#4D5663\"}, \"title\": {\"font\": {\"color\": \"#4D5663\"}, \"text\": \"Value\"}, \"zerolinecolor\": \"#E1E5ED\"}},                        {\"showLink\": true, \"linkText\": \"Export to plot.ly\", \"plotlyServerURL\": \"https://plot.ly\", \"responsive\": true}                    ).then(function(){\n",
       "                            \n",
       "var gd = document.getElementById('413cb51a-1d8c-4b90-83c1-2ec41bef1059');\n",
       "var x = new MutationObserver(function (mutations, observer) {{\n",
       "        var display = window.getComputedStyle(gd).display;\n",
       "        if (!display || display === 'none') {{\n",
       "            console.log([gd, 'removed!']);\n",
       "            Plotly.purge(gd);\n",
       "            observer.disconnect();\n",
       "        }}\n",
       "}});\n",
       "\n",
       "// Listen for the removal of the full notebook cells\n",
       "var notebookContainer = gd.closest('#notebook-container');\n",
       "if (notebookContainer) {{\n",
       "    x.observe(notebookContainer, {childList: true});\n",
       "}}\n",
       "\n",
       "// Listen for the clearing of the current output cell\n",
       "var outputEl = gd.closest('.output');\n",
       "if (outputEl) {{\n",
       "    x.observe(outputEl, {childList: true});\n",
       "}}\n",
       "\n",
       "                        })                };                });            </script>        </div>"
      ]
     },
     "metadata": {},
     "output_type": "display_data"
    }
   ],
   "source": [
    "df2[['NetB_imp','NetA_imp']].iplot(kind='bar',fill=True,orientation='v'\\\n",
    "                                  ,filename='analysis',xTitle='Observation', yTitle='Value',title=\"Acquired impressions on Network\")"
   ]
  },
  {
   "cell_type": "code",
   "execution_count": 81,
   "metadata": {},
   "outputs": [
    {
     "data": {
      "text/html": [
       "<div>\n",
       "<style scoped>\n",
       "    .dataframe tbody tr th:only-of-type {\n",
       "        vertical-align: middle;\n",
       "    }\n",
       "\n",
       "    .dataframe tbody tr th {\n",
       "        vertical-align: top;\n",
       "    }\n",
       "\n",
       "    .dataframe thead th {\n",
       "        text-align: right;\n",
       "    }\n",
       "</style>\n",
       "<table border=\"1\" class=\"dataframe\">\n",
       "  <thead>\n",
       "    <tr style=\"text-align: right;\">\n",
       "      <th></th>\n",
       "      <th>Date</th>\n",
       "      <th>Month</th>\n",
       "      <th>Page Views</th>\n",
       "      <th>NetA_imp</th>\n",
       "      <th>NetA_spd</th>\n",
       "      <th>NetB_imp</th>\n",
       "      <th>NetB_spd</th>\n",
       "    </tr>\n",
       "  </thead>\n",
       "  <tbody>\n",
       "    <tr>\n",
       "      <th>0</th>\n",
       "      <td>2019-07-07</td>\n",
       "      <td>Jul</td>\n",
       "      <td>3363</td>\n",
       "      <td>421</td>\n",
       "      <td>159</td>\n",
       "      <td>381</td>\n",
       "      <td>176</td>\n",
       "    </tr>\n",
       "    <tr>\n",
       "      <th>1</th>\n",
       "      <td>2019-07-08</td>\n",
       "      <td>Jul</td>\n",
       "      <td>4160</td>\n",
       "      <td>392</td>\n",
       "      <td>1066</td>\n",
       "      <td>316</td>\n",
       "      <td>774</td>\n",
       "    </tr>\n",
       "    <tr>\n",
       "      <th>2</th>\n",
       "      <td>2019-07-09</td>\n",
       "      <td>Jul</td>\n",
       "      <td>3619</td>\n",
       "      <td>756</td>\n",
       "      <td>877</td>\n",
       "      <td>671</td>\n",
       "      <td>5010</td>\n",
       "    </tr>\n",
       "    <tr>\n",
       "      <th>3</th>\n",
       "      <td>2019-07-10</td>\n",
       "      <td>Jul</td>\n",
       "      <td>3474</td>\n",
       "      <td>128</td>\n",
       "      <td>130</td>\n",
       "      <td>401</td>\n",
       "      <td>492</td>\n",
       "    </tr>\n",
       "    <tr>\n",
       "      <th>4</th>\n",
       "      <td>2019-07-11</td>\n",
       "      <td>Jul</td>\n",
       "      <td>3547</td>\n",
       "      <td>154</td>\n",
       "      <td>1994</td>\n",
       "      <td>182</td>\n",
       "      <td>230</td>\n",
       "    </tr>\n",
       "  </tbody>\n",
       "</table>\n",
       "</div>"
      ],
      "text/plain": [
       "         Date Month  Page Views  NetA_imp  NetA_spd  NetB_imp  NetB_spd\n",
       "0  2019-07-07   Jul        3363       421       159       381       176\n",
       "1  2019-07-08   Jul        4160       392      1066       316       774\n",
       "2  2019-07-09   Jul        3619       756       877       671      5010\n",
       "3  2019-07-10   Jul        3474       128       130       401       492\n",
       "4  2019-07-11   Jul        3547       154      1994       182       230"
      ]
     },
     "execution_count": 81,
     "metadata": {},
     "output_type": "execute_result"
    }
   ],
   "source": [
    "df2.head()"
   ]
  },
  {
   "cell_type": "code",
   "execution_count": 17,
   "metadata": {},
   "outputs": [
    {
     "data": {
      "application/vnd.plotly.v1+json": {
       "config": {
        "linkText": "Export to plot.ly",
        "plotlyServerURL": "https://plot.ly",
        "showLink": true
       },
       "data": [
        {
         "marker": {
          "color": "rgba(255, 153, 51, 0.6)",
          "line": {
           "color": "rgba(255, 153, 51, 1.0)",
           "width": 1
          }
         },
         "name": "NetB_imp",
         "orientation": "v",
         "text": "",
         "type": "bar",
         "x": [
          "2019-07-07",
          "2019-07-08",
          "2019-07-09",
          "2019-07-10",
          "2019-07-11",
          "2019-07-12",
          "2019-07-13",
          "2019-07-14",
          "2019-07-15",
          "2019-07-16",
          "2019-07-17",
          "2019-07-18",
          "2019-07-19",
          "2019-07-20",
          "2019-07-21",
          "2019-07-22",
          "2019-07-23",
          "2019-07-24",
          "2019-07-25",
          "2019-07-26",
          "2019-07-27",
          "2019-07-28",
          "2019-07-29",
          "2019-07-30",
          "2019-07-31",
          "2019-08-01",
          "2019-08-02",
          "2019-08-03",
          "2019-08-04",
          "2019-08-05",
          "2019-08-06",
          "2019-08-07",
          "2019-08-08",
          "2019-08-09",
          "2019-08-10",
          "2019-08-11",
          "2019-08-12",
          "2019-08-13",
          "2019-08-14",
          "2019-08-15",
          "2019-08-16",
          "2019-08-17",
          "2019-08-18",
          "2019-08-19",
          "2019-08-20",
          "2019-08-21",
          "2019-08-22",
          "2019-08-23",
          "2019-08-24"
         ],
         "y": [
          381,
          316,
          671,
          401,
          182,
          365,
          450,
          35,
          63,
          2,
          54,
          38,
          50,
          54,
          103,
          94,
          73,
          100,
          20,
          80,
          47,
          63,
          80,
          81,
          47,
          33,
          0,
          42,
          56,
          218,
          170,
          129,
          117,
          134,
          90,
          44,
          130,
          187,
          178,
          111,
          110,
          123,
          156,
          103,
          134,
          136,
          227,
          71,
          139
         ]
        },
        {
         "marker": {
          "color": "rgba(55, 128, 191, 0.6)",
          "line": {
           "color": "rgba(55, 128, 191, 1.0)",
           "width": 1
          }
         },
         "name": "NetA_imp",
         "orientation": "v",
         "text": "",
         "type": "bar",
         "x": [
          "2019-07-07",
          "2019-07-08",
          "2019-07-09",
          "2019-07-10",
          "2019-07-11",
          "2019-07-12",
          "2019-07-13",
          "2019-07-14",
          "2019-07-15",
          "2019-07-16",
          "2019-07-17",
          "2019-07-18",
          "2019-07-19",
          "2019-07-20",
          "2019-07-21",
          "2019-07-22",
          "2019-07-23",
          "2019-07-24",
          "2019-07-25",
          "2019-07-26",
          "2019-07-27",
          "2019-07-28",
          "2019-07-29",
          "2019-07-30",
          "2019-07-31",
          "2019-08-01",
          "2019-08-02",
          "2019-08-03",
          "2019-08-04",
          "2019-08-05",
          "2019-08-06",
          "2019-08-07",
          "2019-08-08",
          "2019-08-09",
          "2019-08-10",
          "2019-08-11",
          "2019-08-12",
          "2019-08-13",
          "2019-08-14",
          "2019-08-15",
          "2019-08-16",
          "2019-08-17",
          "2019-08-18",
          "2019-08-19",
          "2019-08-20",
          "2019-08-21",
          "2019-08-22",
          "2019-08-23",
          "2019-08-24"
         ],
         "y": [
          421,
          392,
          756,
          128,
          154,
          104,
          65,
          155,
          108,
          117,
          185,
          212,
          64,
          155,
          62,
          118,
          23,
          62,
          26,
          31,
          49,
          67,
          110,
          21,
          30,
          2,
          40,
          21,
          83,
          146,
          51,
          84,
          193,
          49,
          78,
          158,
          196,
          94,
          72,
          208,
          24,
          52,
          185,
          154,
          71,
          70,
          84,
          140,
          94
         ]
        }
       ],
       "layout": {
        "barmode": "stack",
        "legend": {
         "bgcolor": "#F5F6F9",
         "font": {
          "color": "#4D5663"
         },
         "traceorder": "normal"
        },
        "paper_bgcolor": "#F5F6F9",
        "plot_bgcolor": "#F5F6F9",
        "template": {
         "data": {
          "bar": [
           {
            "error_x": {
             "color": "#2a3f5f"
            },
            "error_y": {
             "color": "#2a3f5f"
            },
            "marker": {
             "line": {
              "color": "#E5ECF6",
              "width": 0.5
             }
            },
            "type": "bar"
           }
          ],
          "barpolar": [
           {
            "marker": {
             "line": {
              "color": "#E5ECF6",
              "width": 0.5
             }
            },
            "type": "barpolar"
           }
          ],
          "carpet": [
           {
            "aaxis": {
             "endlinecolor": "#2a3f5f",
             "gridcolor": "white",
             "linecolor": "white",
             "minorgridcolor": "white",
             "startlinecolor": "#2a3f5f"
            },
            "baxis": {
             "endlinecolor": "#2a3f5f",
             "gridcolor": "white",
             "linecolor": "white",
             "minorgridcolor": "white",
             "startlinecolor": "#2a3f5f"
            },
            "type": "carpet"
           }
          ],
          "choropleth": [
           {
            "colorbar": {
             "outlinewidth": 0,
             "ticks": ""
            },
            "type": "choropleth"
           }
          ],
          "contour": [
           {
            "colorbar": {
             "outlinewidth": 0,
             "ticks": ""
            },
            "colorscale": [
             [
              0,
              "#0d0887"
             ],
             [
              0.1111111111111111,
              "#46039f"
             ],
             [
              0.2222222222222222,
              "#7201a8"
             ],
             [
              0.3333333333333333,
              "#9c179e"
             ],
             [
              0.4444444444444444,
              "#bd3786"
             ],
             [
              0.5555555555555556,
              "#d8576b"
             ],
             [
              0.6666666666666666,
              "#ed7953"
             ],
             [
              0.7777777777777778,
              "#fb9f3a"
             ],
             [
              0.8888888888888888,
              "#fdca26"
             ],
             [
              1,
              "#f0f921"
             ]
            ],
            "type": "contour"
           }
          ],
          "contourcarpet": [
           {
            "colorbar": {
             "outlinewidth": 0,
             "ticks": ""
            },
            "type": "contourcarpet"
           }
          ],
          "heatmap": [
           {
            "colorbar": {
             "outlinewidth": 0,
             "ticks": ""
            },
            "colorscale": [
             [
              0,
              "#0d0887"
             ],
             [
              0.1111111111111111,
              "#46039f"
             ],
             [
              0.2222222222222222,
              "#7201a8"
             ],
             [
              0.3333333333333333,
              "#9c179e"
             ],
             [
              0.4444444444444444,
              "#bd3786"
             ],
             [
              0.5555555555555556,
              "#d8576b"
             ],
             [
              0.6666666666666666,
              "#ed7953"
             ],
             [
              0.7777777777777778,
              "#fb9f3a"
             ],
             [
              0.8888888888888888,
              "#fdca26"
             ],
             [
              1,
              "#f0f921"
             ]
            ],
            "type": "heatmap"
           }
          ],
          "heatmapgl": [
           {
            "colorbar": {
             "outlinewidth": 0,
             "ticks": ""
            },
            "colorscale": [
             [
              0,
              "#0d0887"
             ],
             [
              0.1111111111111111,
              "#46039f"
             ],
             [
              0.2222222222222222,
              "#7201a8"
             ],
             [
              0.3333333333333333,
              "#9c179e"
             ],
             [
              0.4444444444444444,
              "#bd3786"
             ],
             [
              0.5555555555555556,
              "#d8576b"
             ],
             [
              0.6666666666666666,
              "#ed7953"
             ],
             [
              0.7777777777777778,
              "#fb9f3a"
             ],
             [
              0.8888888888888888,
              "#fdca26"
             ],
             [
              1,
              "#f0f921"
             ]
            ],
            "type": "heatmapgl"
           }
          ],
          "histogram": [
           {
            "marker": {
             "colorbar": {
              "outlinewidth": 0,
              "ticks": ""
             }
            },
            "type": "histogram"
           }
          ],
          "histogram2d": [
           {
            "colorbar": {
             "outlinewidth": 0,
             "ticks": ""
            },
            "colorscale": [
             [
              0,
              "#0d0887"
             ],
             [
              0.1111111111111111,
              "#46039f"
             ],
             [
              0.2222222222222222,
              "#7201a8"
             ],
             [
              0.3333333333333333,
              "#9c179e"
             ],
             [
              0.4444444444444444,
              "#bd3786"
             ],
             [
              0.5555555555555556,
              "#d8576b"
             ],
             [
              0.6666666666666666,
              "#ed7953"
             ],
             [
              0.7777777777777778,
              "#fb9f3a"
             ],
             [
              0.8888888888888888,
              "#fdca26"
             ],
             [
              1,
              "#f0f921"
             ]
            ],
            "type": "histogram2d"
           }
          ],
          "histogram2dcontour": [
           {
            "colorbar": {
             "outlinewidth": 0,
             "ticks": ""
            },
            "colorscale": [
             [
              0,
              "#0d0887"
             ],
             [
              0.1111111111111111,
              "#46039f"
             ],
             [
              0.2222222222222222,
              "#7201a8"
             ],
             [
              0.3333333333333333,
              "#9c179e"
             ],
             [
              0.4444444444444444,
              "#bd3786"
             ],
             [
              0.5555555555555556,
              "#d8576b"
             ],
             [
              0.6666666666666666,
              "#ed7953"
             ],
             [
              0.7777777777777778,
              "#fb9f3a"
             ],
             [
              0.8888888888888888,
              "#fdca26"
             ],
             [
              1,
              "#f0f921"
             ]
            ],
            "type": "histogram2dcontour"
           }
          ],
          "mesh3d": [
           {
            "colorbar": {
             "outlinewidth": 0,
             "ticks": ""
            },
            "type": "mesh3d"
           }
          ],
          "parcoords": [
           {
            "line": {
             "colorbar": {
              "outlinewidth": 0,
              "ticks": ""
             }
            },
            "type": "parcoords"
           }
          ],
          "pie": [
           {
            "automargin": true,
            "type": "pie"
           }
          ],
          "scatter": [
           {
            "marker": {
             "colorbar": {
              "outlinewidth": 0,
              "ticks": ""
             }
            },
            "type": "scatter"
           }
          ],
          "scatter3d": [
           {
            "line": {
             "colorbar": {
              "outlinewidth": 0,
              "ticks": ""
             }
            },
            "marker": {
             "colorbar": {
              "outlinewidth": 0,
              "ticks": ""
             }
            },
            "type": "scatter3d"
           }
          ],
          "scattercarpet": [
           {
            "marker": {
             "colorbar": {
              "outlinewidth": 0,
              "ticks": ""
             }
            },
            "type": "scattercarpet"
           }
          ],
          "scattergeo": [
           {
            "marker": {
             "colorbar": {
              "outlinewidth": 0,
              "ticks": ""
             }
            },
            "type": "scattergeo"
           }
          ],
          "scattergl": [
           {
            "marker": {
             "colorbar": {
              "outlinewidth": 0,
              "ticks": ""
             }
            },
            "type": "scattergl"
           }
          ],
          "scattermapbox": [
           {
            "marker": {
             "colorbar": {
              "outlinewidth": 0,
              "ticks": ""
             }
            },
            "type": "scattermapbox"
           }
          ],
          "scatterpolar": [
           {
            "marker": {
             "colorbar": {
              "outlinewidth": 0,
              "ticks": ""
             }
            },
            "type": "scatterpolar"
           }
          ],
          "scatterpolargl": [
           {
            "marker": {
             "colorbar": {
              "outlinewidth": 0,
              "ticks": ""
             }
            },
            "type": "scatterpolargl"
           }
          ],
          "scatterternary": [
           {
            "marker": {
             "colorbar": {
              "outlinewidth": 0,
              "ticks": ""
             }
            },
            "type": "scatterternary"
           }
          ],
          "surface": [
           {
            "colorbar": {
             "outlinewidth": 0,
             "ticks": ""
            },
            "colorscale": [
             [
              0,
              "#0d0887"
             ],
             [
              0.1111111111111111,
              "#46039f"
             ],
             [
              0.2222222222222222,
              "#7201a8"
             ],
             [
              0.3333333333333333,
              "#9c179e"
             ],
             [
              0.4444444444444444,
              "#bd3786"
             ],
             [
              0.5555555555555556,
              "#d8576b"
             ],
             [
              0.6666666666666666,
              "#ed7953"
             ],
             [
              0.7777777777777778,
              "#fb9f3a"
             ],
             [
              0.8888888888888888,
              "#fdca26"
             ],
             [
              1,
              "#f0f921"
             ]
            ],
            "type": "surface"
           }
          ],
          "table": [
           {
            "cells": {
             "fill": {
              "color": "#EBF0F8"
             },
             "line": {
              "color": "white"
             }
            },
            "header": {
             "fill": {
              "color": "#C8D4E3"
             },
             "line": {
              "color": "white"
             }
            },
            "type": "table"
           }
          ]
         },
         "layout": {
          "annotationdefaults": {
           "arrowcolor": "#2a3f5f",
           "arrowhead": 0,
           "arrowwidth": 1
          },
          "autotypenumbers": "strict",
          "coloraxis": {
           "colorbar": {
            "outlinewidth": 0,
            "ticks": ""
           }
          },
          "colorscale": {
           "diverging": [
            [
             0,
             "#8e0152"
            ],
            [
             0.1,
             "#c51b7d"
            ],
            [
             0.2,
             "#de77ae"
            ],
            [
             0.3,
             "#f1b6da"
            ],
            [
             0.4,
             "#fde0ef"
            ],
            [
             0.5,
             "#f7f7f7"
            ],
            [
             0.6,
             "#e6f5d0"
            ],
            [
             0.7,
             "#b8e186"
            ],
            [
             0.8,
             "#7fbc41"
            ],
            [
             0.9,
             "#4d9221"
            ],
            [
             1,
             "#276419"
            ]
           ],
           "sequential": [
            [
             0,
             "#0d0887"
            ],
            [
             0.1111111111111111,
             "#46039f"
            ],
            [
             0.2222222222222222,
             "#7201a8"
            ],
            [
             0.3333333333333333,
             "#9c179e"
            ],
            [
             0.4444444444444444,
             "#bd3786"
            ],
            [
             0.5555555555555556,
             "#d8576b"
            ],
            [
             0.6666666666666666,
             "#ed7953"
            ],
            [
             0.7777777777777778,
             "#fb9f3a"
            ],
            [
             0.8888888888888888,
             "#fdca26"
            ],
            [
             1,
             "#f0f921"
            ]
           ],
           "sequentialminus": [
            [
             0,
             "#0d0887"
            ],
            [
             0.1111111111111111,
             "#46039f"
            ],
            [
             0.2222222222222222,
             "#7201a8"
            ],
            [
             0.3333333333333333,
             "#9c179e"
            ],
            [
             0.4444444444444444,
             "#bd3786"
            ],
            [
             0.5555555555555556,
             "#d8576b"
            ],
            [
             0.6666666666666666,
             "#ed7953"
            ],
            [
             0.7777777777777778,
             "#fb9f3a"
            ],
            [
             0.8888888888888888,
             "#fdca26"
            ],
            [
             1,
             "#f0f921"
            ]
           ]
          },
          "colorway": [
           "#636efa",
           "#EF553B",
           "#00cc96",
           "#ab63fa",
           "#FFA15A",
           "#19d3f3",
           "#FF6692",
           "#B6E880",
           "#FF97FF",
           "#FECB52"
          ],
          "font": {
           "color": "#2a3f5f"
          },
          "geo": {
           "bgcolor": "white",
           "lakecolor": "white",
           "landcolor": "#E5ECF6",
           "showlakes": true,
           "showland": true,
           "subunitcolor": "white"
          },
          "hoverlabel": {
           "align": "left"
          },
          "hovermode": "closest",
          "mapbox": {
           "style": "light"
          },
          "paper_bgcolor": "white",
          "plot_bgcolor": "#E5ECF6",
          "polar": {
           "angularaxis": {
            "gridcolor": "white",
            "linecolor": "white",
            "ticks": ""
           },
           "bgcolor": "#E5ECF6",
           "radialaxis": {
            "gridcolor": "white",
            "linecolor": "white",
            "ticks": ""
           }
          },
          "scene": {
           "xaxis": {
            "backgroundcolor": "#E5ECF6",
            "gridcolor": "white",
            "gridwidth": 2,
            "linecolor": "white",
            "showbackground": true,
            "ticks": "",
            "zerolinecolor": "white"
           },
           "yaxis": {
            "backgroundcolor": "#E5ECF6",
            "gridcolor": "white",
            "gridwidth": 2,
            "linecolor": "white",
            "showbackground": true,
            "ticks": "",
            "zerolinecolor": "white"
           },
           "zaxis": {
            "backgroundcolor": "#E5ECF6",
            "gridcolor": "white",
            "gridwidth": 2,
            "linecolor": "white",
            "showbackground": true,
            "ticks": "",
            "zerolinecolor": "white"
           }
          },
          "shapedefaults": {
           "line": {
            "color": "#2a3f5f"
           }
          },
          "ternary": {
           "aaxis": {
            "gridcolor": "white",
            "linecolor": "white",
            "ticks": ""
           },
           "baxis": {
            "gridcolor": "white",
            "linecolor": "white",
            "ticks": ""
           },
           "bgcolor": "#E5ECF6",
           "caxis": {
            "gridcolor": "white",
            "linecolor": "white",
            "ticks": ""
           }
          },
          "title": {
           "x": 0.05
          },
          "xaxis": {
           "automargin": true,
           "gridcolor": "white",
           "linecolor": "white",
           "ticks": "",
           "title": {
            "standoff": 15
           },
           "zerolinecolor": "white",
           "zerolinewidth": 2
          },
          "yaxis": {
           "automargin": true,
           "gridcolor": "white",
           "linecolor": "white",
           "ticks": "",
           "title": {
            "standoff": 15
           },
           "zerolinecolor": "white",
           "zerolinewidth": 2
          }
         }
        },
        "title": {
         "font": {
          "color": "#4D5663"
         },
         "text": "Acquired impressions on Networks"
        },
        "xaxis": {
         "gridcolor": "#E1E5ED",
         "showgrid": true,
         "tickfont": {
          "color": "#4D5663"
         },
         "title": {
          "font": {
           "color": "#4D5663"
          },
          "text": "Observation"
         },
         "zerolinecolor": "#E1E5ED"
        },
        "yaxis": {
         "gridcolor": "#E1E5ED",
         "showgrid": true,
         "tickfont": {
          "color": "#4D5663"
         },
         "title": {
          "font": {
           "color": "#4D5663"
          },
          "text": "Impressions"
         },
         "zerolinecolor": "#E1E5ED"
        }
       }
      },
      "text/html": [
       "<div>                            <div id=\"c91bbe51-f35b-448c-a1f6-1840a7829d96\" class=\"plotly-graph-div\" style=\"height:525px; width:100%;\"></div>            <script type=\"text/javascript\">                require([\"plotly\"], function(Plotly) {                    window.PLOTLYENV=window.PLOTLYENV || {};\n",
       "                    window.PLOTLYENV.BASE_URL='https://plot.ly';                                    if (document.getElementById(\"c91bbe51-f35b-448c-a1f6-1840a7829d96\")) {                    Plotly.newPlot(                        \"c91bbe51-f35b-448c-a1f6-1840a7829d96\",                        [{\"marker\": {\"color\": \"rgba(255, 153, 51, 0.6)\", \"line\": {\"color\": \"rgba(255, 153, 51, 1.0)\", \"width\": 1}}, \"name\": \"NetB_imp\", \"orientation\": \"v\", \"text\": \"\", \"type\": \"bar\", \"x\": [\"2019-07-07\", \"2019-07-08\", \"2019-07-09\", \"2019-07-10\", \"2019-07-11\", \"2019-07-12\", \"2019-07-13\", \"2019-07-14\", \"2019-07-15\", \"2019-07-16\", \"2019-07-17\", \"2019-07-18\", \"2019-07-19\", \"2019-07-20\", \"2019-07-21\", \"2019-07-22\", \"2019-07-23\", \"2019-07-24\", \"2019-07-25\", \"2019-07-26\", \"2019-07-27\", \"2019-07-28\", \"2019-07-29\", \"2019-07-30\", \"2019-07-31\", \"2019-08-01\", \"2019-08-02\", \"2019-08-03\", \"2019-08-04\", \"2019-08-05\", \"2019-08-06\", \"2019-08-07\", \"2019-08-08\", \"2019-08-09\", \"2019-08-10\", \"2019-08-11\", \"2019-08-12\", \"2019-08-13\", \"2019-08-14\", \"2019-08-15\", \"2019-08-16\", \"2019-08-17\", \"2019-08-18\", \"2019-08-19\", \"2019-08-20\", \"2019-08-21\", \"2019-08-22\", \"2019-08-23\", \"2019-08-24\"], \"y\": [381, 316, 671, 401, 182, 365, 450, 35, 63, 2, 54, 38, 50, 54, 103, 94, 73, 100, 20, 80, 47, 63, 80, 81, 47, 33, 0, 42, 56, 218, 170, 129, 117, 134, 90, 44, 130, 187, 178, 111, 110, 123, 156, 103, 134, 136, 227, 71, 139]}, {\"marker\": {\"color\": \"rgba(55, 128, 191, 0.6)\", \"line\": {\"color\": \"rgba(55, 128, 191, 1.0)\", \"width\": 1}}, \"name\": \"NetA_imp\", \"orientation\": \"v\", \"text\": \"\", \"type\": \"bar\", \"x\": [\"2019-07-07\", \"2019-07-08\", \"2019-07-09\", \"2019-07-10\", \"2019-07-11\", \"2019-07-12\", \"2019-07-13\", \"2019-07-14\", \"2019-07-15\", \"2019-07-16\", \"2019-07-17\", \"2019-07-18\", \"2019-07-19\", \"2019-07-20\", \"2019-07-21\", \"2019-07-22\", \"2019-07-23\", \"2019-07-24\", \"2019-07-25\", \"2019-07-26\", \"2019-07-27\", \"2019-07-28\", \"2019-07-29\", \"2019-07-30\", \"2019-07-31\", \"2019-08-01\", \"2019-08-02\", \"2019-08-03\", \"2019-08-04\", \"2019-08-05\", \"2019-08-06\", \"2019-08-07\", \"2019-08-08\", \"2019-08-09\", \"2019-08-10\", \"2019-08-11\", \"2019-08-12\", \"2019-08-13\", \"2019-08-14\", \"2019-08-15\", \"2019-08-16\", \"2019-08-17\", \"2019-08-18\", \"2019-08-19\", \"2019-08-20\", \"2019-08-21\", \"2019-08-22\", \"2019-08-23\", \"2019-08-24\"], \"y\": [421, 392, 756, 128, 154, 104, 65, 155, 108, 117, 185, 212, 64, 155, 62, 118, 23, 62, 26, 31, 49, 67, 110, 21, 30, 2, 40, 21, 83, 146, 51, 84, 193, 49, 78, 158, 196, 94, 72, 208, 24, 52, 185, 154, 71, 70, 84, 140, 94]}],                        {\"barmode\": \"stack\", \"legend\": {\"bgcolor\": \"#F5F6F9\", \"font\": {\"color\": \"#4D5663\"}, \"traceorder\": \"normal\"}, \"paper_bgcolor\": \"#F5F6F9\", \"plot_bgcolor\": \"#F5F6F9\", \"template\": {\"data\": {\"bar\": [{\"error_x\": {\"color\": \"#2a3f5f\"}, \"error_y\": {\"color\": \"#2a3f5f\"}, \"marker\": {\"line\": {\"color\": \"#E5ECF6\", \"width\": 0.5}}, \"type\": \"bar\"}], \"barpolar\": [{\"marker\": {\"line\": {\"color\": \"#E5ECF6\", \"width\": 0.5}}, \"type\": \"barpolar\"}], \"carpet\": [{\"aaxis\": {\"endlinecolor\": \"#2a3f5f\", \"gridcolor\": \"white\", \"linecolor\": \"white\", \"minorgridcolor\": \"white\", \"startlinecolor\": \"#2a3f5f\"}, \"baxis\": {\"endlinecolor\": \"#2a3f5f\", \"gridcolor\": \"white\", \"linecolor\": \"white\", \"minorgridcolor\": \"white\", \"startlinecolor\": \"#2a3f5f\"}, \"type\": \"carpet\"}], \"choropleth\": [{\"colorbar\": {\"outlinewidth\": 0, \"ticks\": \"\"}, \"type\": \"choropleth\"}], \"contour\": [{\"colorbar\": {\"outlinewidth\": 0, \"ticks\": \"\"}, \"colorscale\": [[0.0, \"#0d0887\"], [0.1111111111111111, \"#46039f\"], [0.2222222222222222, \"#7201a8\"], [0.3333333333333333, \"#9c179e\"], [0.4444444444444444, \"#bd3786\"], [0.5555555555555556, \"#d8576b\"], [0.6666666666666666, \"#ed7953\"], [0.7777777777777778, \"#fb9f3a\"], [0.8888888888888888, \"#fdca26\"], [1.0, \"#f0f921\"]], \"type\": \"contour\"}], \"contourcarpet\": [{\"colorbar\": {\"outlinewidth\": 0, \"ticks\": \"\"}, \"type\": \"contourcarpet\"}], \"heatmap\": [{\"colorbar\": {\"outlinewidth\": 0, \"ticks\": \"\"}, \"colorscale\": [[0.0, \"#0d0887\"], [0.1111111111111111, \"#46039f\"], [0.2222222222222222, \"#7201a8\"], [0.3333333333333333, \"#9c179e\"], [0.4444444444444444, \"#bd3786\"], [0.5555555555555556, \"#d8576b\"], [0.6666666666666666, \"#ed7953\"], [0.7777777777777778, \"#fb9f3a\"], [0.8888888888888888, \"#fdca26\"], [1.0, \"#f0f921\"]], \"type\": \"heatmap\"}], \"heatmapgl\": [{\"colorbar\": {\"outlinewidth\": 0, \"ticks\": \"\"}, \"colorscale\": [[0.0, \"#0d0887\"], [0.1111111111111111, \"#46039f\"], [0.2222222222222222, \"#7201a8\"], [0.3333333333333333, \"#9c179e\"], [0.4444444444444444, \"#bd3786\"], [0.5555555555555556, \"#d8576b\"], [0.6666666666666666, \"#ed7953\"], [0.7777777777777778, \"#fb9f3a\"], [0.8888888888888888, \"#fdca26\"], [1.0, \"#f0f921\"]], \"type\": \"heatmapgl\"}], \"histogram\": [{\"marker\": {\"colorbar\": {\"outlinewidth\": 0, \"ticks\": \"\"}}, \"type\": \"histogram\"}], \"histogram2d\": [{\"colorbar\": {\"outlinewidth\": 0, \"ticks\": \"\"}, \"colorscale\": [[0.0, \"#0d0887\"], [0.1111111111111111, \"#46039f\"], [0.2222222222222222, \"#7201a8\"], [0.3333333333333333, \"#9c179e\"], [0.4444444444444444, \"#bd3786\"], [0.5555555555555556, \"#d8576b\"], [0.6666666666666666, \"#ed7953\"], [0.7777777777777778, \"#fb9f3a\"], [0.8888888888888888, \"#fdca26\"], [1.0, \"#f0f921\"]], \"type\": \"histogram2d\"}], \"histogram2dcontour\": [{\"colorbar\": {\"outlinewidth\": 0, \"ticks\": \"\"}, \"colorscale\": [[0.0, \"#0d0887\"], [0.1111111111111111, \"#46039f\"], [0.2222222222222222, \"#7201a8\"], [0.3333333333333333, \"#9c179e\"], [0.4444444444444444, \"#bd3786\"], [0.5555555555555556, \"#d8576b\"], [0.6666666666666666, \"#ed7953\"], [0.7777777777777778, \"#fb9f3a\"], [0.8888888888888888, \"#fdca26\"], [1.0, \"#f0f921\"]], \"type\": \"histogram2dcontour\"}], \"mesh3d\": [{\"colorbar\": {\"outlinewidth\": 0, \"ticks\": \"\"}, \"type\": \"mesh3d\"}], \"parcoords\": [{\"line\": {\"colorbar\": {\"outlinewidth\": 0, \"ticks\": \"\"}}, \"type\": \"parcoords\"}], \"pie\": [{\"automargin\": true, \"type\": \"pie\"}], \"scatter\": [{\"marker\": {\"colorbar\": {\"outlinewidth\": 0, \"ticks\": \"\"}}, \"type\": \"scatter\"}], \"scatter3d\": [{\"line\": {\"colorbar\": {\"outlinewidth\": 0, \"ticks\": \"\"}}, \"marker\": {\"colorbar\": {\"outlinewidth\": 0, \"ticks\": \"\"}}, \"type\": \"scatter3d\"}], \"scattercarpet\": [{\"marker\": {\"colorbar\": {\"outlinewidth\": 0, \"ticks\": \"\"}}, \"type\": \"scattercarpet\"}], \"scattergeo\": [{\"marker\": {\"colorbar\": {\"outlinewidth\": 0, \"ticks\": \"\"}}, \"type\": \"scattergeo\"}], \"scattergl\": [{\"marker\": {\"colorbar\": {\"outlinewidth\": 0, \"ticks\": \"\"}}, \"type\": \"scattergl\"}], \"scattermapbox\": [{\"marker\": {\"colorbar\": {\"outlinewidth\": 0, \"ticks\": \"\"}}, \"type\": \"scattermapbox\"}], \"scatterpolar\": [{\"marker\": {\"colorbar\": {\"outlinewidth\": 0, \"ticks\": \"\"}}, \"type\": \"scatterpolar\"}], \"scatterpolargl\": [{\"marker\": {\"colorbar\": {\"outlinewidth\": 0, \"ticks\": \"\"}}, \"type\": \"scatterpolargl\"}], \"scatterternary\": [{\"marker\": {\"colorbar\": {\"outlinewidth\": 0, \"ticks\": \"\"}}, \"type\": \"scatterternary\"}], \"surface\": [{\"colorbar\": {\"outlinewidth\": 0, \"ticks\": \"\"}, \"colorscale\": [[0.0, \"#0d0887\"], [0.1111111111111111, \"#46039f\"], [0.2222222222222222, \"#7201a8\"], [0.3333333333333333, \"#9c179e\"], [0.4444444444444444, \"#bd3786\"], [0.5555555555555556, \"#d8576b\"], [0.6666666666666666, \"#ed7953\"], [0.7777777777777778, \"#fb9f3a\"], [0.8888888888888888, \"#fdca26\"], [1.0, \"#f0f921\"]], \"type\": \"surface\"}], \"table\": [{\"cells\": {\"fill\": {\"color\": \"#EBF0F8\"}, \"line\": {\"color\": \"white\"}}, \"header\": {\"fill\": {\"color\": \"#C8D4E3\"}, \"line\": {\"color\": \"white\"}}, \"type\": \"table\"}]}, \"layout\": {\"annotationdefaults\": {\"arrowcolor\": \"#2a3f5f\", \"arrowhead\": 0, \"arrowwidth\": 1}, \"autotypenumbers\": \"strict\", \"coloraxis\": {\"colorbar\": {\"outlinewidth\": 0, \"ticks\": \"\"}}, \"colorscale\": {\"diverging\": [[0, \"#8e0152\"], [0.1, \"#c51b7d\"], [0.2, \"#de77ae\"], [0.3, \"#f1b6da\"], [0.4, \"#fde0ef\"], [0.5, \"#f7f7f7\"], [0.6, \"#e6f5d0\"], [0.7, \"#b8e186\"], [0.8, \"#7fbc41\"], [0.9, \"#4d9221\"], [1, \"#276419\"]], \"sequential\": [[0.0, \"#0d0887\"], [0.1111111111111111, \"#46039f\"], [0.2222222222222222, \"#7201a8\"], [0.3333333333333333, \"#9c179e\"], [0.4444444444444444, \"#bd3786\"], [0.5555555555555556, \"#d8576b\"], [0.6666666666666666, \"#ed7953\"], [0.7777777777777778, \"#fb9f3a\"], [0.8888888888888888, \"#fdca26\"], [1.0, \"#f0f921\"]], \"sequentialminus\": [[0.0, \"#0d0887\"], [0.1111111111111111, \"#46039f\"], [0.2222222222222222, \"#7201a8\"], [0.3333333333333333, \"#9c179e\"], [0.4444444444444444, \"#bd3786\"], [0.5555555555555556, \"#d8576b\"], [0.6666666666666666, \"#ed7953\"], [0.7777777777777778, \"#fb9f3a\"], [0.8888888888888888, \"#fdca26\"], [1.0, \"#f0f921\"]]}, \"colorway\": [\"#636efa\", \"#EF553B\", \"#00cc96\", \"#ab63fa\", \"#FFA15A\", \"#19d3f3\", \"#FF6692\", \"#B6E880\", \"#FF97FF\", \"#FECB52\"], \"font\": {\"color\": \"#2a3f5f\"}, \"geo\": {\"bgcolor\": \"white\", \"lakecolor\": \"white\", \"landcolor\": \"#E5ECF6\", \"showlakes\": true, \"showland\": true, \"subunitcolor\": \"white\"}, \"hoverlabel\": {\"align\": \"left\"}, \"hovermode\": \"closest\", \"mapbox\": {\"style\": \"light\"}, \"paper_bgcolor\": \"white\", \"plot_bgcolor\": \"#E5ECF6\", \"polar\": {\"angularaxis\": {\"gridcolor\": \"white\", \"linecolor\": \"white\", \"ticks\": \"\"}, \"bgcolor\": \"#E5ECF6\", \"radialaxis\": {\"gridcolor\": \"white\", \"linecolor\": \"white\", \"ticks\": \"\"}}, \"scene\": {\"xaxis\": {\"backgroundcolor\": \"#E5ECF6\", \"gridcolor\": \"white\", \"gridwidth\": 2, \"linecolor\": \"white\", \"showbackground\": true, \"ticks\": \"\", \"zerolinecolor\": \"white\"}, \"yaxis\": {\"backgroundcolor\": \"#E5ECF6\", \"gridcolor\": \"white\", \"gridwidth\": 2, \"linecolor\": \"white\", \"showbackground\": true, \"ticks\": \"\", \"zerolinecolor\": \"white\"}, \"zaxis\": {\"backgroundcolor\": \"#E5ECF6\", \"gridcolor\": \"white\", \"gridwidth\": 2, \"linecolor\": \"white\", \"showbackground\": true, \"ticks\": \"\", \"zerolinecolor\": \"white\"}}, \"shapedefaults\": {\"line\": {\"color\": \"#2a3f5f\"}}, \"ternary\": {\"aaxis\": {\"gridcolor\": \"white\", \"linecolor\": \"white\", \"ticks\": \"\"}, \"baxis\": {\"gridcolor\": \"white\", \"linecolor\": \"white\", \"ticks\": \"\"}, \"bgcolor\": \"#E5ECF6\", \"caxis\": {\"gridcolor\": \"white\", \"linecolor\": \"white\", \"ticks\": \"\"}}, \"title\": {\"x\": 0.05}, \"xaxis\": {\"automargin\": true, \"gridcolor\": \"white\", \"linecolor\": \"white\", \"ticks\": \"\", \"title\": {\"standoff\": 15}, \"zerolinecolor\": \"white\", \"zerolinewidth\": 2}, \"yaxis\": {\"automargin\": true, \"gridcolor\": \"white\", \"linecolor\": \"white\", \"ticks\": \"\", \"title\": {\"standoff\": 15}, \"zerolinecolor\": \"white\", \"zerolinewidth\": 2}}}, \"title\": {\"font\": {\"color\": \"#4D5663\"}, \"text\": \"Acquired impressions on Networks\"}, \"xaxis\": {\"gridcolor\": \"#E1E5ED\", \"showgrid\": true, \"tickfont\": {\"color\": \"#4D5663\"}, \"title\": {\"font\": {\"color\": \"#4D5663\"}, \"text\": \"Observation\"}, \"zerolinecolor\": \"#E1E5ED\"}, \"yaxis\": {\"gridcolor\": \"#E1E5ED\", \"showgrid\": true, \"tickfont\": {\"color\": \"#4D5663\"}, \"title\": {\"font\": {\"color\": \"#4D5663\"}, \"text\": \"Impressions\"}, \"zerolinecolor\": \"#E1E5ED\"}},                        {\"showLink\": true, \"linkText\": \"Export to plot.ly\", \"plotlyServerURL\": \"https://plot.ly\", \"responsive\": true}                    ).then(function(){\n",
       "                            \n",
       "var gd = document.getElementById('c91bbe51-f35b-448c-a1f6-1840a7829d96');\n",
       "var x = new MutationObserver(function (mutations, observer) {{\n",
       "        var display = window.getComputedStyle(gd).display;\n",
       "        if (!display || display === 'none') {{\n",
       "            console.log([gd, 'removed!']);\n",
       "            Plotly.purge(gd);\n",
       "            observer.disconnect();\n",
       "        }}\n",
       "}});\n",
       "\n",
       "// Listen for the removal of the full notebook cells\n",
       "var notebookContainer = gd.closest('#notebook-container');\n",
       "if (notebookContainer) {{\n",
       "    x.observe(notebookContainer, {childList: true});\n",
       "}}\n",
       "\n",
       "// Listen for the clearing of the current output cell\n",
       "var outputEl = gd.closest('.output');\n",
       "if (outputEl) {{\n",
       "    x.observe(outputEl, {childList: true});\n",
       "}}\n",
       "\n",
       "                        })                };                });            </script>        </div>"
      ]
     },
     "metadata": {},
     "output_type": "display_data"
    }
   ],
   "source": [
    "df2.set_index('Date')[['NetB_imp','NetA_imp']].iplot(kind='bar',  fill=False,orientation='v'\\\n",
    "                                  , barmode='stack',filename='analysis',xTitle='Observation', yTitle='Impressions',title=\"Acquired impressions on Networks\")\n",
    "\n",
    "##subplots=True,shared_xaxes=True,shared_yaxes=True,shape=(1,4),"
   ]
  },
  {
   "cell_type": "code",
   "execution_count": 18,
   "metadata": {},
   "outputs": [
    {
     "data": {
      "application/vnd.plotly.v1+json": {
       "config": {
        "plotlyServerURL": "https://plot.ly"
       },
       "data": [
        {
         "alignmentgroup": "True",
         "hovertemplate": "variable=NetB_imp<br>Date=%{x}<br>value=%{y}<extra></extra>",
         "legendgroup": "NetB_imp",
         "marker": {
          "color": "#636efa"
         },
         "name": "NetB_imp",
         "offsetgroup": "NetB_imp",
         "orientation": "v",
         "showlegend": true,
         "textposition": "auto",
         "type": "bar",
         "x": [
          "2019-07-07T00:00:00",
          "2019-07-08T00:00:00",
          "2019-07-09T00:00:00",
          "2019-07-10T00:00:00",
          "2019-07-11T00:00:00",
          "2019-07-12T00:00:00",
          "2019-07-13T00:00:00",
          "2019-07-14T00:00:00",
          "2019-07-15T00:00:00",
          "2019-07-16T00:00:00",
          "2019-07-17T00:00:00",
          "2019-07-18T00:00:00",
          "2019-07-19T00:00:00",
          "2019-07-20T00:00:00",
          "2019-07-21T00:00:00",
          "2019-07-22T00:00:00",
          "2019-07-23T00:00:00",
          "2019-07-24T00:00:00",
          "2019-07-25T00:00:00",
          "2019-07-26T00:00:00",
          "2019-07-27T00:00:00",
          "2019-07-28T00:00:00",
          "2019-07-29T00:00:00",
          "2019-07-30T00:00:00",
          "2019-07-31T00:00:00",
          "2019-08-01T00:00:00",
          "2019-08-02T00:00:00",
          "2019-08-03T00:00:00",
          "2019-08-04T00:00:00",
          "2019-08-05T00:00:00",
          "2019-08-06T00:00:00",
          "2019-08-07T00:00:00",
          "2019-08-08T00:00:00",
          "2019-08-09T00:00:00",
          "2019-08-10T00:00:00",
          "2019-08-11T00:00:00",
          "2019-08-12T00:00:00",
          "2019-08-13T00:00:00",
          "2019-08-14T00:00:00",
          "2019-08-15T00:00:00",
          "2019-08-16T00:00:00",
          "2019-08-17T00:00:00",
          "2019-08-18T00:00:00",
          "2019-08-19T00:00:00",
          "2019-08-20T00:00:00",
          "2019-08-21T00:00:00",
          "2019-08-22T00:00:00",
          "2019-08-23T00:00:00",
          "2019-08-24T00:00:00"
         ],
         "xaxis": "x",
         "y": [
          381,
          316,
          671,
          401,
          182,
          365,
          450,
          35,
          63,
          2,
          54,
          38,
          50,
          54,
          103,
          94,
          73,
          100,
          20,
          80,
          47,
          63,
          80,
          81,
          47,
          33,
          0,
          42,
          56,
          218,
          170,
          129,
          117,
          134,
          90,
          44,
          130,
          187,
          178,
          111,
          110,
          123,
          156,
          103,
          134,
          136,
          227,
          71,
          139
         ],
         "yaxis": "y"
        },
        {
         "alignmentgroup": "True",
         "hovertemplate": "variable=NetA_imp<br>Date=%{x}<br>value=%{y}<extra></extra>",
         "legendgroup": "NetA_imp",
         "marker": {
          "color": "#EF553B"
         },
         "name": "NetA_imp",
         "offsetgroup": "NetA_imp",
         "orientation": "v",
         "showlegend": true,
         "textposition": "auto",
         "type": "bar",
         "x": [
          "2019-07-07T00:00:00",
          "2019-07-08T00:00:00",
          "2019-07-09T00:00:00",
          "2019-07-10T00:00:00",
          "2019-07-11T00:00:00",
          "2019-07-12T00:00:00",
          "2019-07-13T00:00:00",
          "2019-07-14T00:00:00",
          "2019-07-15T00:00:00",
          "2019-07-16T00:00:00",
          "2019-07-17T00:00:00",
          "2019-07-18T00:00:00",
          "2019-07-19T00:00:00",
          "2019-07-20T00:00:00",
          "2019-07-21T00:00:00",
          "2019-07-22T00:00:00",
          "2019-07-23T00:00:00",
          "2019-07-24T00:00:00",
          "2019-07-25T00:00:00",
          "2019-07-26T00:00:00",
          "2019-07-27T00:00:00",
          "2019-07-28T00:00:00",
          "2019-07-29T00:00:00",
          "2019-07-30T00:00:00",
          "2019-07-31T00:00:00",
          "2019-08-01T00:00:00",
          "2019-08-02T00:00:00",
          "2019-08-03T00:00:00",
          "2019-08-04T00:00:00",
          "2019-08-05T00:00:00",
          "2019-08-06T00:00:00",
          "2019-08-07T00:00:00",
          "2019-08-08T00:00:00",
          "2019-08-09T00:00:00",
          "2019-08-10T00:00:00",
          "2019-08-11T00:00:00",
          "2019-08-12T00:00:00",
          "2019-08-13T00:00:00",
          "2019-08-14T00:00:00",
          "2019-08-15T00:00:00",
          "2019-08-16T00:00:00",
          "2019-08-17T00:00:00",
          "2019-08-18T00:00:00",
          "2019-08-19T00:00:00",
          "2019-08-20T00:00:00",
          "2019-08-21T00:00:00",
          "2019-08-22T00:00:00",
          "2019-08-23T00:00:00",
          "2019-08-24T00:00:00"
         ],
         "xaxis": "x",
         "y": [
          421,
          392,
          756,
          128,
          154,
          104,
          65,
          155,
          108,
          117,
          185,
          212,
          64,
          155,
          62,
          118,
          23,
          62,
          26,
          31,
          49,
          67,
          110,
          21,
          30,
          2,
          40,
          21,
          83,
          146,
          51,
          84,
          193,
          49,
          78,
          158,
          196,
          94,
          72,
          208,
          24,
          52,
          185,
          154,
          71,
          70,
          84,
          140,
          94
         ],
         "yaxis": "y"
        }
       ],
       "layout": {
        "barmode": "group",
        "height": 400,
        "legend": {
         "title": {
          "text": "variable"
         },
         "tracegroupgap": 0
        },
        "template": {
         "data": {
          "bar": [
           {
            "error_x": {
             "color": "#2a3f5f"
            },
            "error_y": {
             "color": "#2a3f5f"
            },
            "marker": {
             "line": {
              "color": "#E5ECF6",
              "width": 0.5
             }
            },
            "type": "bar"
           }
          ],
          "barpolar": [
           {
            "marker": {
             "line": {
              "color": "#E5ECF6",
              "width": 0.5
             }
            },
            "type": "barpolar"
           }
          ],
          "carpet": [
           {
            "aaxis": {
             "endlinecolor": "#2a3f5f",
             "gridcolor": "white",
             "linecolor": "white",
             "minorgridcolor": "white",
             "startlinecolor": "#2a3f5f"
            },
            "baxis": {
             "endlinecolor": "#2a3f5f",
             "gridcolor": "white",
             "linecolor": "white",
             "minorgridcolor": "white",
             "startlinecolor": "#2a3f5f"
            },
            "type": "carpet"
           }
          ],
          "choropleth": [
           {
            "colorbar": {
             "outlinewidth": 0,
             "ticks": ""
            },
            "type": "choropleth"
           }
          ],
          "contour": [
           {
            "colorbar": {
             "outlinewidth": 0,
             "ticks": ""
            },
            "colorscale": [
             [
              0,
              "#0d0887"
             ],
             [
              0.1111111111111111,
              "#46039f"
             ],
             [
              0.2222222222222222,
              "#7201a8"
             ],
             [
              0.3333333333333333,
              "#9c179e"
             ],
             [
              0.4444444444444444,
              "#bd3786"
             ],
             [
              0.5555555555555556,
              "#d8576b"
             ],
             [
              0.6666666666666666,
              "#ed7953"
             ],
             [
              0.7777777777777778,
              "#fb9f3a"
             ],
             [
              0.8888888888888888,
              "#fdca26"
             ],
             [
              1,
              "#f0f921"
             ]
            ],
            "type": "contour"
           }
          ],
          "contourcarpet": [
           {
            "colorbar": {
             "outlinewidth": 0,
             "ticks": ""
            },
            "type": "contourcarpet"
           }
          ],
          "heatmap": [
           {
            "colorbar": {
             "outlinewidth": 0,
             "ticks": ""
            },
            "colorscale": [
             [
              0,
              "#0d0887"
             ],
             [
              0.1111111111111111,
              "#46039f"
             ],
             [
              0.2222222222222222,
              "#7201a8"
             ],
             [
              0.3333333333333333,
              "#9c179e"
             ],
             [
              0.4444444444444444,
              "#bd3786"
             ],
             [
              0.5555555555555556,
              "#d8576b"
             ],
             [
              0.6666666666666666,
              "#ed7953"
             ],
             [
              0.7777777777777778,
              "#fb9f3a"
             ],
             [
              0.8888888888888888,
              "#fdca26"
             ],
             [
              1,
              "#f0f921"
             ]
            ],
            "type": "heatmap"
           }
          ],
          "heatmapgl": [
           {
            "colorbar": {
             "outlinewidth": 0,
             "ticks": ""
            },
            "colorscale": [
             [
              0,
              "#0d0887"
             ],
             [
              0.1111111111111111,
              "#46039f"
             ],
             [
              0.2222222222222222,
              "#7201a8"
             ],
             [
              0.3333333333333333,
              "#9c179e"
             ],
             [
              0.4444444444444444,
              "#bd3786"
             ],
             [
              0.5555555555555556,
              "#d8576b"
             ],
             [
              0.6666666666666666,
              "#ed7953"
             ],
             [
              0.7777777777777778,
              "#fb9f3a"
             ],
             [
              0.8888888888888888,
              "#fdca26"
             ],
             [
              1,
              "#f0f921"
             ]
            ],
            "type": "heatmapgl"
           }
          ],
          "histogram": [
           {
            "marker": {
             "colorbar": {
              "outlinewidth": 0,
              "ticks": ""
             }
            },
            "type": "histogram"
           }
          ],
          "histogram2d": [
           {
            "colorbar": {
             "outlinewidth": 0,
             "ticks": ""
            },
            "colorscale": [
             [
              0,
              "#0d0887"
             ],
             [
              0.1111111111111111,
              "#46039f"
             ],
             [
              0.2222222222222222,
              "#7201a8"
             ],
             [
              0.3333333333333333,
              "#9c179e"
             ],
             [
              0.4444444444444444,
              "#bd3786"
             ],
             [
              0.5555555555555556,
              "#d8576b"
             ],
             [
              0.6666666666666666,
              "#ed7953"
             ],
             [
              0.7777777777777778,
              "#fb9f3a"
             ],
             [
              0.8888888888888888,
              "#fdca26"
             ],
             [
              1,
              "#f0f921"
             ]
            ],
            "type": "histogram2d"
           }
          ],
          "histogram2dcontour": [
           {
            "colorbar": {
             "outlinewidth": 0,
             "ticks": ""
            },
            "colorscale": [
             [
              0,
              "#0d0887"
             ],
             [
              0.1111111111111111,
              "#46039f"
             ],
             [
              0.2222222222222222,
              "#7201a8"
             ],
             [
              0.3333333333333333,
              "#9c179e"
             ],
             [
              0.4444444444444444,
              "#bd3786"
             ],
             [
              0.5555555555555556,
              "#d8576b"
             ],
             [
              0.6666666666666666,
              "#ed7953"
             ],
             [
              0.7777777777777778,
              "#fb9f3a"
             ],
             [
              0.8888888888888888,
              "#fdca26"
             ],
             [
              1,
              "#f0f921"
             ]
            ],
            "type": "histogram2dcontour"
           }
          ],
          "mesh3d": [
           {
            "colorbar": {
             "outlinewidth": 0,
             "ticks": ""
            },
            "type": "mesh3d"
           }
          ],
          "parcoords": [
           {
            "line": {
             "colorbar": {
              "outlinewidth": 0,
              "ticks": ""
             }
            },
            "type": "parcoords"
           }
          ],
          "pie": [
           {
            "automargin": true,
            "type": "pie"
           }
          ],
          "scatter": [
           {
            "marker": {
             "colorbar": {
              "outlinewidth": 0,
              "ticks": ""
             }
            },
            "type": "scatter"
           }
          ],
          "scatter3d": [
           {
            "line": {
             "colorbar": {
              "outlinewidth": 0,
              "ticks": ""
             }
            },
            "marker": {
             "colorbar": {
              "outlinewidth": 0,
              "ticks": ""
             }
            },
            "type": "scatter3d"
           }
          ],
          "scattercarpet": [
           {
            "marker": {
             "colorbar": {
              "outlinewidth": 0,
              "ticks": ""
             }
            },
            "type": "scattercarpet"
           }
          ],
          "scattergeo": [
           {
            "marker": {
             "colorbar": {
              "outlinewidth": 0,
              "ticks": ""
             }
            },
            "type": "scattergeo"
           }
          ],
          "scattergl": [
           {
            "marker": {
             "colorbar": {
              "outlinewidth": 0,
              "ticks": ""
             }
            },
            "type": "scattergl"
           }
          ],
          "scattermapbox": [
           {
            "marker": {
             "colorbar": {
              "outlinewidth": 0,
              "ticks": ""
             }
            },
            "type": "scattermapbox"
           }
          ],
          "scatterpolar": [
           {
            "marker": {
             "colorbar": {
              "outlinewidth": 0,
              "ticks": ""
             }
            },
            "type": "scatterpolar"
           }
          ],
          "scatterpolargl": [
           {
            "marker": {
             "colorbar": {
              "outlinewidth": 0,
              "ticks": ""
             }
            },
            "type": "scatterpolargl"
           }
          ],
          "scatterternary": [
           {
            "marker": {
             "colorbar": {
              "outlinewidth": 0,
              "ticks": ""
             }
            },
            "type": "scatterternary"
           }
          ],
          "surface": [
           {
            "colorbar": {
             "outlinewidth": 0,
             "ticks": ""
            },
            "colorscale": [
             [
              0,
              "#0d0887"
             ],
             [
              0.1111111111111111,
              "#46039f"
             ],
             [
              0.2222222222222222,
              "#7201a8"
             ],
             [
              0.3333333333333333,
              "#9c179e"
             ],
             [
              0.4444444444444444,
              "#bd3786"
             ],
             [
              0.5555555555555556,
              "#d8576b"
             ],
             [
              0.6666666666666666,
              "#ed7953"
             ],
             [
              0.7777777777777778,
              "#fb9f3a"
             ],
             [
              0.8888888888888888,
              "#fdca26"
             ],
             [
              1,
              "#f0f921"
             ]
            ],
            "type": "surface"
           }
          ],
          "table": [
           {
            "cells": {
             "fill": {
              "color": "#EBF0F8"
             },
             "line": {
              "color": "white"
             }
            },
            "header": {
             "fill": {
              "color": "#C8D4E3"
             },
             "line": {
              "color": "white"
             }
            },
            "type": "table"
           }
          ]
         },
         "layout": {
          "annotationdefaults": {
           "arrowcolor": "#2a3f5f",
           "arrowhead": 0,
           "arrowwidth": 1
          },
          "autotypenumbers": "strict",
          "coloraxis": {
           "colorbar": {
            "outlinewidth": 0,
            "ticks": ""
           }
          },
          "colorscale": {
           "diverging": [
            [
             0,
             "#8e0152"
            ],
            [
             0.1,
             "#c51b7d"
            ],
            [
             0.2,
             "#de77ae"
            ],
            [
             0.3,
             "#f1b6da"
            ],
            [
             0.4,
             "#fde0ef"
            ],
            [
             0.5,
             "#f7f7f7"
            ],
            [
             0.6,
             "#e6f5d0"
            ],
            [
             0.7,
             "#b8e186"
            ],
            [
             0.8,
             "#7fbc41"
            ],
            [
             0.9,
             "#4d9221"
            ],
            [
             1,
             "#276419"
            ]
           ],
           "sequential": [
            [
             0,
             "#0d0887"
            ],
            [
             0.1111111111111111,
             "#46039f"
            ],
            [
             0.2222222222222222,
             "#7201a8"
            ],
            [
             0.3333333333333333,
             "#9c179e"
            ],
            [
             0.4444444444444444,
             "#bd3786"
            ],
            [
             0.5555555555555556,
             "#d8576b"
            ],
            [
             0.6666666666666666,
             "#ed7953"
            ],
            [
             0.7777777777777778,
             "#fb9f3a"
            ],
            [
             0.8888888888888888,
             "#fdca26"
            ],
            [
             1,
             "#f0f921"
            ]
           ],
           "sequentialminus": [
            [
             0,
             "#0d0887"
            ],
            [
             0.1111111111111111,
             "#46039f"
            ],
            [
             0.2222222222222222,
             "#7201a8"
            ],
            [
             0.3333333333333333,
             "#9c179e"
            ],
            [
             0.4444444444444444,
             "#bd3786"
            ],
            [
             0.5555555555555556,
             "#d8576b"
            ],
            [
             0.6666666666666666,
             "#ed7953"
            ],
            [
             0.7777777777777778,
             "#fb9f3a"
            ],
            [
             0.8888888888888888,
             "#fdca26"
            ],
            [
             1,
             "#f0f921"
            ]
           ]
          },
          "colorway": [
           "#636efa",
           "#EF553B",
           "#00cc96",
           "#ab63fa",
           "#FFA15A",
           "#19d3f3",
           "#FF6692",
           "#B6E880",
           "#FF97FF",
           "#FECB52"
          ],
          "font": {
           "color": "#2a3f5f"
          },
          "geo": {
           "bgcolor": "white",
           "lakecolor": "white",
           "landcolor": "#E5ECF6",
           "showlakes": true,
           "showland": true,
           "subunitcolor": "white"
          },
          "hoverlabel": {
           "align": "left"
          },
          "hovermode": "closest",
          "mapbox": {
           "style": "light"
          },
          "paper_bgcolor": "white",
          "plot_bgcolor": "#E5ECF6",
          "polar": {
           "angularaxis": {
            "gridcolor": "white",
            "linecolor": "white",
            "ticks": ""
           },
           "bgcolor": "#E5ECF6",
           "radialaxis": {
            "gridcolor": "white",
            "linecolor": "white",
            "ticks": ""
           }
          },
          "scene": {
           "xaxis": {
            "backgroundcolor": "#E5ECF6",
            "gridcolor": "white",
            "gridwidth": 2,
            "linecolor": "white",
            "showbackground": true,
            "ticks": "",
            "zerolinecolor": "white"
           },
           "yaxis": {
            "backgroundcolor": "#E5ECF6",
            "gridcolor": "white",
            "gridwidth": 2,
            "linecolor": "white",
            "showbackground": true,
            "ticks": "",
            "zerolinecolor": "white"
           },
           "zaxis": {
            "backgroundcolor": "#E5ECF6",
            "gridcolor": "white",
            "gridwidth": 2,
            "linecolor": "white",
            "showbackground": true,
            "ticks": "",
            "zerolinecolor": "white"
           }
          },
          "shapedefaults": {
           "line": {
            "color": "#2a3f5f"
           }
          },
          "ternary": {
           "aaxis": {
            "gridcolor": "white",
            "linecolor": "white",
            "ticks": ""
           },
           "baxis": {
            "gridcolor": "white",
            "linecolor": "white",
            "ticks": ""
           },
           "bgcolor": "#E5ECF6",
           "caxis": {
            "gridcolor": "white",
            "linecolor": "white",
            "ticks": ""
           }
          },
          "title": {
           "x": 0.05
          },
          "xaxis": {
           "automargin": true,
           "gridcolor": "white",
           "linecolor": "white",
           "ticks": "",
           "title": {
            "standoff": 15
           },
           "zerolinecolor": "white",
           "zerolinewidth": 2
          },
          "yaxis": {
           "automargin": true,
           "gridcolor": "white",
           "linecolor": "white",
           "ticks": "",
           "title": {
            "standoff": 15
           },
           "zerolinecolor": "white",
           "zerolinewidth": 2
          }
         }
        },
        "title": {
         "text": "Impressions"
        },
        "width": 1000,
        "xaxis": {
         "anchor": "y",
         "domain": [
          0,
          1
         ],
         "title": {
          "text": "Date"
         }
        },
        "yaxis": {
         "anchor": "x",
         "domain": [
          0,
          1
         ],
         "title": {
          "text": "value"
         }
        }
       }
      },
      "text/html": [
       "<div>                            <div id=\"31ea7c62-e27f-4891-b82e-bf86aa94d078\" class=\"plotly-graph-div\" style=\"height:400px; width:1000px;\"></div>            <script type=\"text/javascript\">                require([\"plotly\"], function(Plotly) {                    window.PLOTLYENV=window.PLOTLYENV || {};                                    if (document.getElementById(\"31ea7c62-e27f-4891-b82e-bf86aa94d078\")) {                    Plotly.newPlot(                        \"31ea7c62-e27f-4891-b82e-bf86aa94d078\",                        [{\"alignmentgroup\": \"True\", \"hovertemplate\": \"variable=NetB_imp<br>Date=%{x}<br>value=%{y}<extra></extra>\", \"legendgroup\": \"NetB_imp\", \"marker\": {\"color\": \"#636efa\"}, \"name\": \"NetB_imp\", \"offsetgroup\": \"NetB_imp\", \"orientation\": \"v\", \"showlegend\": true, \"textposition\": \"auto\", \"type\": \"bar\", \"x\": [\"2019-07-07T00:00:00\", \"2019-07-08T00:00:00\", \"2019-07-09T00:00:00\", \"2019-07-10T00:00:00\", \"2019-07-11T00:00:00\", \"2019-07-12T00:00:00\", \"2019-07-13T00:00:00\", \"2019-07-14T00:00:00\", \"2019-07-15T00:00:00\", \"2019-07-16T00:00:00\", \"2019-07-17T00:00:00\", \"2019-07-18T00:00:00\", \"2019-07-19T00:00:00\", \"2019-07-20T00:00:00\", \"2019-07-21T00:00:00\", \"2019-07-22T00:00:00\", \"2019-07-23T00:00:00\", \"2019-07-24T00:00:00\", \"2019-07-25T00:00:00\", \"2019-07-26T00:00:00\", \"2019-07-27T00:00:00\", \"2019-07-28T00:00:00\", \"2019-07-29T00:00:00\", \"2019-07-30T00:00:00\", \"2019-07-31T00:00:00\", \"2019-08-01T00:00:00\", \"2019-08-02T00:00:00\", \"2019-08-03T00:00:00\", \"2019-08-04T00:00:00\", \"2019-08-05T00:00:00\", \"2019-08-06T00:00:00\", \"2019-08-07T00:00:00\", \"2019-08-08T00:00:00\", \"2019-08-09T00:00:00\", \"2019-08-10T00:00:00\", \"2019-08-11T00:00:00\", \"2019-08-12T00:00:00\", \"2019-08-13T00:00:00\", \"2019-08-14T00:00:00\", \"2019-08-15T00:00:00\", \"2019-08-16T00:00:00\", \"2019-08-17T00:00:00\", \"2019-08-18T00:00:00\", \"2019-08-19T00:00:00\", \"2019-08-20T00:00:00\", \"2019-08-21T00:00:00\", \"2019-08-22T00:00:00\", \"2019-08-23T00:00:00\", \"2019-08-24T00:00:00\"], \"xaxis\": \"x\", \"y\": [381, 316, 671, 401, 182, 365, 450, 35, 63, 2, 54, 38, 50, 54, 103, 94, 73, 100, 20, 80, 47, 63, 80, 81, 47, 33, 0, 42, 56, 218, 170, 129, 117, 134, 90, 44, 130, 187, 178, 111, 110, 123, 156, 103, 134, 136, 227, 71, 139], \"yaxis\": \"y\"}, {\"alignmentgroup\": \"True\", \"hovertemplate\": \"variable=NetA_imp<br>Date=%{x}<br>value=%{y}<extra></extra>\", \"legendgroup\": \"NetA_imp\", \"marker\": {\"color\": \"#EF553B\"}, \"name\": \"NetA_imp\", \"offsetgroup\": \"NetA_imp\", \"orientation\": \"v\", \"showlegend\": true, \"textposition\": \"auto\", \"type\": \"bar\", \"x\": [\"2019-07-07T00:00:00\", \"2019-07-08T00:00:00\", \"2019-07-09T00:00:00\", \"2019-07-10T00:00:00\", \"2019-07-11T00:00:00\", \"2019-07-12T00:00:00\", \"2019-07-13T00:00:00\", \"2019-07-14T00:00:00\", \"2019-07-15T00:00:00\", \"2019-07-16T00:00:00\", \"2019-07-17T00:00:00\", \"2019-07-18T00:00:00\", \"2019-07-19T00:00:00\", \"2019-07-20T00:00:00\", \"2019-07-21T00:00:00\", \"2019-07-22T00:00:00\", \"2019-07-23T00:00:00\", \"2019-07-24T00:00:00\", \"2019-07-25T00:00:00\", \"2019-07-26T00:00:00\", \"2019-07-27T00:00:00\", \"2019-07-28T00:00:00\", \"2019-07-29T00:00:00\", \"2019-07-30T00:00:00\", \"2019-07-31T00:00:00\", \"2019-08-01T00:00:00\", \"2019-08-02T00:00:00\", \"2019-08-03T00:00:00\", \"2019-08-04T00:00:00\", \"2019-08-05T00:00:00\", \"2019-08-06T00:00:00\", \"2019-08-07T00:00:00\", \"2019-08-08T00:00:00\", \"2019-08-09T00:00:00\", \"2019-08-10T00:00:00\", \"2019-08-11T00:00:00\", \"2019-08-12T00:00:00\", \"2019-08-13T00:00:00\", \"2019-08-14T00:00:00\", \"2019-08-15T00:00:00\", \"2019-08-16T00:00:00\", \"2019-08-17T00:00:00\", \"2019-08-18T00:00:00\", \"2019-08-19T00:00:00\", \"2019-08-20T00:00:00\", \"2019-08-21T00:00:00\", \"2019-08-22T00:00:00\", \"2019-08-23T00:00:00\", \"2019-08-24T00:00:00\"], \"xaxis\": \"x\", \"y\": [421, 392, 756, 128, 154, 104, 65, 155, 108, 117, 185, 212, 64, 155, 62, 118, 23, 62, 26, 31, 49, 67, 110, 21, 30, 2, 40, 21, 83, 146, 51, 84, 193, 49, 78, 158, 196, 94, 72, 208, 24, 52, 185, 154, 71, 70, 84, 140, 94], \"yaxis\": \"y\"}],                        {\"barmode\": \"group\", \"height\": 400, \"legend\": {\"title\": {\"text\": \"variable\"}, \"tracegroupgap\": 0}, \"template\": {\"data\": {\"bar\": [{\"error_x\": {\"color\": \"#2a3f5f\"}, \"error_y\": {\"color\": \"#2a3f5f\"}, \"marker\": {\"line\": {\"color\": \"#E5ECF6\", \"width\": 0.5}}, \"type\": \"bar\"}], \"barpolar\": [{\"marker\": {\"line\": {\"color\": \"#E5ECF6\", \"width\": 0.5}}, \"type\": \"barpolar\"}], \"carpet\": [{\"aaxis\": {\"endlinecolor\": \"#2a3f5f\", \"gridcolor\": \"white\", \"linecolor\": \"white\", \"minorgridcolor\": \"white\", \"startlinecolor\": \"#2a3f5f\"}, \"baxis\": {\"endlinecolor\": \"#2a3f5f\", \"gridcolor\": \"white\", \"linecolor\": \"white\", \"minorgridcolor\": \"white\", \"startlinecolor\": \"#2a3f5f\"}, \"type\": \"carpet\"}], \"choropleth\": [{\"colorbar\": {\"outlinewidth\": 0, \"ticks\": \"\"}, \"type\": \"choropleth\"}], \"contour\": [{\"colorbar\": {\"outlinewidth\": 0, \"ticks\": \"\"}, \"colorscale\": [[0.0, \"#0d0887\"], [0.1111111111111111, \"#46039f\"], [0.2222222222222222, \"#7201a8\"], [0.3333333333333333, \"#9c179e\"], [0.4444444444444444, \"#bd3786\"], [0.5555555555555556, \"#d8576b\"], [0.6666666666666666, \"#ed7953\"], [0.7777777777777778, \"#fb9f3a\"], [0.8888888888888888, \"#fdca26\"], [1.0, \"#f0f921\"]], \"type\": \"contour\"}], \"contourcarpet\": [{\"colorbar\": {\"outlinewidth\": 0, \"ticks\": \"\"}, \"type\": \"contourcarpet\"}], \"heatmap\": [{\"colorbar\": {\"outlinewidth\": 0, \"ticks\": \"\"}, \"colorscale\": [[0.0, \"#0d0887\"], [0.1111111111111111, \"#46039f\"], [0.2222222222222222, \"#7201a8\"], [0.3333333333333333, \"#9c179e\"], [0.4444444444444444, \"#bd3786\"], [0.5555555555555556, \"#d8576b\"], [0.6666666666666666, \"#ed7953\"], [0.7777777777777778, \"#fb9f3a\"], [0.8888888888888888, \"#fdca26\"], [1.0, \"#f0f921\"]], \"type\": \"heatmap\"}], \"heatmapgl\": [{\"colorbar\": {\"outlinewidth\": 0, \"ticks\": \"\"}, \"colorscale\": [[0.0, \"#0d0887\"], [0.1111111111111111, \"#46039f\"], [0.2222222222222222, \"#7201a8\"], [0.3333333333333333, \"#9c179e\"], [0.4444444444444444, \"#bd3786\"], [0.5555555555555556, \"#d8576b\"], [0.6666666666666666, \"#ed7953\"], [0.7777777777777778, \"#fb9f3a\"], [0.8888888888888888, \"#fdca26\"], [1.0, \"#f0f921\"]], \"type\": \"heatmapgl\"}], \"histogram\": [{\"marker\": {\"colorbar\": {\"outlinewidth\": 0, \"ticks\": \"\"}}, \"type\": \"histogram\"}], \"histogram2d\": [{\"colorbar\": {\"outlinewidth\": 0, \"ticks\": \"\"}, \"colorscale\": [[0.0, \"#0d0887\"], [0.1111111111111111, \"#46039f\"], [0.2222222222222222, \"#7201a8\"], [0.3333333333333333, \"#9c179e\"], [0.4444444444444444, \"#bd3786\"], [0.5555555555555556, \"#d8576b\"], [0.6666666666666666, \"#ed7953\"], [0.7777777777777778, \"#fb9f3a\"], [0.8888888888888888, \"#fdca26\"], [1.0, \"#f0f921\"]], \"type\": \"histogram2d\"}], \"histogram2dcontour\": [{\"colorbar\": {\"outlinewidth\": 0, \"ticks\": \"\"}, \"colorscale\": [[0.0, \"#0d0887\"], [0.1111111111111111, \"#46039f\"], [0.2222222222222222, \"#7201a8\"], [0.3333333333333333, \"#9c179e\"], [0.4444444444444444, \"#bd3786\"], [0.5555555555555556, \"#d8576b\"], [0.6666666666666666, \"#ed7953\"], [0.7777777777777778, \"#fb9f3a\"], [0.8888888888888888, \"#fdca26\"], [1.0, \"#f0f921\"]], \"type\": \"histogram2dcontour\"}], \"mesh3d\": [{\"colorbar\": {\"outlinewidth\": 0, \"ticks\": \"\"}, \"type\": \"mesh3d\"}], \"parcoords\": [{\"line\": {\"colorbar\": {\"outlinewidth\": 0, \"ticks\": \"\"}}, \"type\": \"parcoords\"}], \"pie\": [{\"automargin\": true, \"type\": \"pie\"}], \"scatter\": [{\"marker\": {\"colorbar\": {\"outlinewidth\": 0, \"ticks\": \"\"}}, \"type\": \"scatter\"}], \"scatter3d\": [{\"line\": {\"colorbar\": {\"outlinewidth\": 0, \"ticks\": \"\"}}, \"marker\": {\"colorbar\": {\"outlinewidth\": 0, \"ticks\": \"\"}}, \"type\": \"scatter3d\"}], \"scattercarpet\": [{\"marker\": {\"colorbar\": {\"outlinewidth\": 0, \"ticks\": \"\"}}, \"type\": \"scattercarpet\"}], \"scattergeo\": [{\"marker\": {\"colorbar\": {\"outlinewidth\": 0, \"ticks\": \"\"}}, \"type\": \"scattergeo\"}], \"scattergl\": [{\"marker\": {\"colorbar\": {\"outlinewidth\": 0, \"ticks\": \"\"}}, \"type\": \"scattergl\"}], \"scattermapbox\": [{\"marker\": {\"colorbar\": {\"outlinewidth\": 0, \"ticks\": \"\"}}, \"type\": \"scattermapbox\"}], \"scatterpolar\": [{\"marker\": {\"colorbar\": {\"outlinewidth\": 0, \"ticks\": \"\"}}, \"type\": \"scatterpolar\"}], \"scatterpolargl\": [{\"marker\": {\"colorbar\": {\"outlinewidth\": 0, \"ticks\": \"\"}}, \"type\": \"scatterpolargl\"}], \"scatterternary\": [{\"marker\": {\"colorbar\": {\"outlinewidth\": 0, \"ticks\": \"\"}}, \"type\": \"scatterternary\"}], \"surface\": [{\"colorbar\": {\"outlinewidth\": 0, \"ticks\": \"\"}, \"colorscale\": [[0.0, \"#0d0887\"], [0.1111111111111111, \"#46039f\"], [0.2222222222222222, \"#7201a8\"], [0.3333333333333333, \"#9c179e\"], [0.4444444444444444, \"#bd3786\"], [0.5555555555555556, \"#d8576b\"], [0.6666666666666666, \"#ed7953\"], [0.7777777777777778, \"#fb9f3a\"], [0.8888888888888888, \"#fdca26\"], [1.0, \"#f0f921\"]], \"type\": \"surface\"}], \"table\": [{\"cells\": {\"fill\": {\"color\": \"#EBF0F8\"}, \"line\": {\"color\": \"white\"}}, \"header\": {\"fill\": {\"color\": \"#C8D4E3\"}, \"line\": {\"color\": \"white\"}}, \"type\": \"table\"}]}, \"layout\": {\"annotationdefaults\": {\"arrowcolor\": \"#2a3f5f\", \"arrowhead\": 0, \"arrowwidth\": 1}, \"autotypenumbers\": \"strict\", \"coloraxis\": {\"colorbar\": {\"outlinewidth\": 0, \"ticks\": \"\"}}, \"colorscale\": {\"diverging\": [[0, \"#8e0152\"], [0.1, \"#c51b7d\"], [0.2, \"#de77ae\"], [0.3, \"#f1b6da\"], [0.4, \"#fde0ef\"], [0.5, \"#f7f7f7\"], [0.6, \"#e6f5d0\"], [0.7, \"#b8e186\"], [0.8, \"#7fbc41\"], [0.9, \"#4d9221\"], [1, \"#276419\"]], \"sequential\": [[0.0, \"#0d0887\"], [0.1111111111111111, \"#46039f\"], [0.2222222222222222, \"#7201a8\"], [0.3333333333333333, \"#9c179e\"], [0.4444444444444444, \"#bd3786\"], [0.5555555555555556, \"#d8576b\"], [0.6666666666666666, \"#ed7953\"], [0.7777777777777778, \"#fb9f3a\"], [0.8888888888888888, \"#fdca26\"], [1.0, \"#f0f921\"]], \"sequentialminus\": [[0.0, \"#0d0887\"], [0.1111111111111111, \"#46039f\"], [0.2222222222222222, \"#7201a8\"], [0.3333333333333333, \"#9c179e\"], [0.4444444444444444, \"#bd3786\"], [0.5555555555555556, \"#d8576b\"], [0.6666666666666666, \"#ed7953\"], [0.7777777777777778, \"#fb9f3a\"], [0.8888888888888888, \"#fdca26\"], [1.0, \"#f0f921\"]]}, \"colorway\": [\"#636efa\", \"#EF553B\", \"#00cc96\", \"#ab63fa\", \"#FFA15A\", \"#19d3f3\", \"#FF6692\", \"#B6E880\", \"#FF97FF\", \"#FECB52\"], \"font\": {\"color\": \"#2a3f5f\"}, \"geo\": {\"bgcolor\": \"white\", \"lakecolor\": \"white\", \"landcolor\": \"#E5ECF6\", \"showlakes\": true, \"showland\": true, \"subunitcolor\": \"white\"}, \"hoverlabel\": {\"align\": \"left\"}, \"hovermode\": \"closest\", \"mapbox\": {\"style\": \"light\"}, \"paper_bgcolor\": \"white\", \"plot_bgcolor\": \"#E5ECF6\", \"polar\": {\"angularaxis\": {\"gridcolor\": \"white\", \"linecolor\": \"white\", \"ticks\": \"\"}, \"bgcolor\": \"#E5ECF6\", \"radialaxis\": {\"gridcolor\": \"white\", \"linecolor\": \"white\", \"ticks\": \"\"}}, \"scene\": {\"xaxis\": {\"backgroundcolor\": \"#E5ECF6\", \"gridcolor\": \"white\", \"gridwidth\": 2, \"linecolor\": \"white\", \"showbackground\": true, \"ticks\": \"\", \"zerolinecolor\": \"white\"}, \"yaxis\": {\"backgroundcolor\": \"#E5ECF6\", \"gridcolor\": \"white\", \"gridwidth\": 2, \"linecolor\": \"white\", \"showbackground\": true, \"ticks\": \"\", \"zerolinecolor\": \"white\"}, \"zaxis\": {\"backgroundcolor\": \"#E5ECF6\", \"gridcolor\": \"white\", \"gridwidth\": 2, \"linecolor\": \"white\", \"showbackground\": true, \"ticks\": \"\", \"zerolinecolor\": \"white\"}}, \"shapedefaults\": {\"line\": {\"color\": \"#2a3f5f\"}}, \"ternary\": {\"aaxis\": {\"gridcolor\": \"white\", \"linecolor\": \"white\", \"ticks\": \"\"}, \"baxis\": {\"gridcolor\": \"white\", \"linecolor\": \"white\", \"ticks\": \"\"}, \"bgcolor\": \"#E5ECF6\", \"caxis\": {\"gridcolor\": \"white\", \"linecolor\": \"white\", \"ticks\": \"\"}}, \"title\": {\"x\": 0.05}, \"xaxis\": {\"automargin\": true, \"gridcolor\": \"white\", \"linecolor\": \"white\", \"ticks\": \"\", \"title\": {\"standoff\": 15}, \"zerolinecolor\": \"white\", \"zerolinewidth\": 2}, \"yaxis\": {\"automargin\": true, \"gridcolor\": \"white\", \"linecolor\": \"white\", \"ticks\": \"\", \"title\": {\"standoff\": 15}, \"zerolinecolor\": \"white\", \"zerolinewidth\": 2}}}, \"title\": {\"text\": \"Impressions\"}, \"width\": 1000, \"xaxis\": {\"anchor\": \"y\", \"domain\": [0.0, 1.0], \"title\": {\"text\": \"Date\"}}, \"yaxis\": {\"anchor\": \"x\", \"domain\": [0.0, 1.0], \"title\": {\"text\": \"value\"}}},                        {\"responsive\": true}                    ).then(function(){\n",
       "                            \n",
       "var gd = document.getElementById('31ea7c62-e27f-4891-b82e-bf86aa94d078');\n",
       "var x = new MutationObserver(function (mutations, observer) {{\n",
       "        var display = window.getComputedStyle(gd).display;\n",
       "        if (!display || display === 'none') {{\n",
       "            console.log([gd, 'removed!']);\n",
       "            Plotly.purge(gd);\n",
       "            observer.disconnect();\n",
       "        }}\n",
       "}});\n",
       "\n",
       "// Listen for the removal of the full notebook cells\n",
       "var notebookContainer = gd.closest('#notebook-container');\n",
       "if (notebookContainer) {{\n",
       "    x.observe(notebookContainer, {childList: true});\n",
       "}}\n",
       "\n",
       "// Listen for the clearing of the current output cell\n",
       "var outputEl = gd.closest('.output');\n",
       "if (outputEl) {{\n",
       "    x.observe(outputEl, {childList: true});\n",
       "}}\n",
       "\n",
       "                        })                };                });            </script>        </div>"
      ]
     },
     "metadata": {},
     "output_type": "display_data"
    }
   ],
   "source": [
    "#fig = px.make_subplots(rows=2, cols=2)\n",
    "fig = px.bar(df2, x=\"Date\", y=['NetB_imp','NetA_imp'], \n",
    "             barmode='group', \n",
    "             orientation='v',\n",
    "             width=1000,height=400,title='Impressions')\n",
    "fig.show()"
   ]
  },
  {
   "cell_type": "code",
   "execution_count": 51,
   "metadata": {},
   "outputs": [
    {
     "data": {
      "application/vnd.plotly.v1+json": {
       "config": {
        "plotlyServerURL": "https://plot.ly"
       },
       "data": [
        {
         "alignmentgroup": "True",
         "hovertemplate": "variable=NetB_imp<br>Date=%{x}<br>value=%{y}<extra></extra>",
         "legendgroup": "NetB_imp",
         "marker": {
          "color": "#636efa"
         },
         "name": "NetB_imp",
         "offsetgroup": "NetB_imp",
         "orientation": "v",
         "showlegend": true,
         "textposition": "auto",
         "type": "bar",
         "x": [
          "2019-07-07",
          "2019-07-08",
          "2019-07-09",
          "2019-07-10",
          "2019-07-11",
          "2019-07-12",
          "2019-07-13",
          "2019-07-14",
          "2019-07-15",
          "2019-07-16",
          "2019-07-17",
          "2019-07-18",
          "2019-07-19",
          "2019-07-20",
          "2019-07-21",
          "2019-07-22",
          "2019-07-23",
          "2019-07-24",
          "2019-07-25",
          "2019-07-26",
          "2019-07-27",
          "2019-07-28",
          "2019-07-29",
          "2019-07-30",
          "2019-07-31",
          "2019-08-01",
          "2019-08-02",
          "2019-08-03",
          "2019-08-04",
          "2019-08-05",
          "2019-08-06",
          "2019-08-07",
          "2019-08-08",
          "2019-08-09",
          "2019-08-10",
          "2019-08-11",
          "2019-08-12",
          "2019-08-13",
          "2019-08-14",
          "2019-08-15",
          "2019-08-16",
          "2019-08-17",
          "2019-08-18",
          "2019-08-19",
          "2019-08-20",
          "2019-08-21",
          "2019-08-22",
          "2019-08-23",
          "2019-08-24"
         ],
         "xaxis": "x",
         "y": [
          381,
          316,
          671,
          401,
          182,
          365,
          450,
          35,
          63,
          2,
          54,
          38,
          50,
          54,
          103,
          94,
          73,
          100,
          20,
          80,
          47,
          63,
          80,
          81,
          47,
          33,
          0,
          42,
          56,
          218,
          170,
          129,
          117,
          134,
          90,
          44,
          130,
          187,
          178,
          111,
          110,
          123,
          156,
          103,
          134,
          136,
          227,
          71,
          139
         ],
         "yaxis": "y"
        },
        {
         "alignmentgroup": "True",
         "hovertemplate": "variable=NetA_imp<br>Date=%{x}<br>value=%{y}<extra></extra>",
         "legendgroup": "NetA_imp",
         "marker": {
          "color": "#EF553B"
         },
         "name": "NetA_imp",
         "offsetgroup": "NetA_imp",
         "orientation": "v",
         "showlegend": true,
         "textposition": "auto",
         "type": "bar",
         "x": [
          "2019-07-07",
          "2019-07-08",
          "2019-07-09",
          "2019-07-10",
          "2019-07-11",
          "2019-07-12",
          "2019-07-13",
          "2019-07-14",
          "2019-07-15",
          "2019-07-16",
          "2019-07-17",
          "2019-07-18",
          "2019-07-19",
          "2019-07-20",
          "2019-07-21",
          "2019-07-22",
          "2019-07-23",
          "2019-07-24",
          "2019-07-25",
          "2019-07-26",
          "2019-07-27",
          "2019-07-28",
          "2019-07-29",
          "2019-07-30",
          "2019-07-31",
          "2019-08-01",
          "2019-08-02",
          "2019-08-03",
          "2019-08-04",
          "2019-08-05",
          "2019-08-06",
          "2019-08-07",
          "2019-08-08",
          "2019-08-09",
          "2019-08-10",
          "2019-08-11",
          "2019-08-12",
          "2019-08-13",
          "2019-08-14",
          "2019-08-15",
          "2019-08-16",
          "2019-08-17",
          "2019-08-18",
          "2019-08-19",
          "2019-08-20",
          "2019-08-21",
          "2019-08-22",
          "2019-08-23",
          "2019-08-24"
         ],
         "xaxis": "x",
         "y": [
          421,
          392,
          756,
          128,
          154,
          104,
          65,
          155,
          108,
          117,
          185,
          212,
          64,
          155,
          62,
          118,
          23,
          62,
          26,
          31,
          49,
          67,
          110,
          21,
          30,
          2,
          40,
          21,
          83,
          146,
          51,
          84,
          193,
          49,
          78,
          158,
          196,
          94,
          72,
          208,
          24,
          52,
          185,
          154,
          71,
          70,
          84,
          140,
          94
         ],
         "yaxis": "y"
        }
       ],
       "layout": {
        "barmode": "relative",
        "legend": {
         "title": {
          "text": "variable"
         },
         "tracegroupgap": 0
        },
        "margin": {
         "t": 60
        },
        "template": {
         "data": {
          "bar": [
           {
            "error_x": {
             "color": "#2a3f5f"
            },
            "error_y": {
             "color": "#2a3f5f"
            },
            "marker": {
             "line": {
              "color": "#E5ECF6",
              "width": 0.5
             }
            },
            "type": "bar"
           }
          ],
          "barpolar": [
           {
            "marker": {
             "line": {
              "color": "#E5ECF6",
              "width": 0.5
             }
            },
            "type": "barpolar"
           }
          ],
          "carpet": [
           {
            "aaxis": {
             "endlinecolor": "#2a3f5f",
             "gridcolor": "white",
             "linecolor": "white",
             "minorgridcolor": "white",
             "startlinecolor": "#2a3f5f"
            },
            "baxis": {
             "endlinecolor": "#2a3f5f",
             "gridcolor": "white",
             "linecolor": "white",
             "minorgridcolor": "white",
             "startlinecolor": "#2a3f5f"
            },
            "type": "carpet"
           }
          ],
          "choropleth": [
           {
            "colorbar": {
             "outlinewidth": 0,
             "ticks": ""
            },
            "type": "choropleth"
           }
          ],
          "contour": [
           {
            "colorbar": {
             "outlinewidth": 0,
             "ticks": ""
            },
            "colorscale": [
             [
              0,
              "#0d0887"
             ],
             [
              0.1111111111111111,
              "#46039f"
             ],
             [
              0.2222222222222222,
              "#7201a8"
             ],
             [
              0.3333333333333333,
              "#9c179e"
             ],
             [
              0.4444444444444444,
              "#bd3786"
             ],
             [
              0.5555555555555556,
              "#d8576b"
             ],
             [
              0.6666666666666666,
              "#ed7953"
             ],
             [
              0.7777777777777778,
              "#fb9f3a"
             ],
             [
              0.8888888888888888,
              "#fdca26"
             ],
             [
              1,
              "#f0f921"
             ]
            ],
            "type": "contour"
           }
          ],
          "contourcarpet": [
           {
            "colorbar": {
             "outlinewidth": 0,
             "ticks": ""
            },
            "type": "contourcarpet"
           }
          ],
          "heatmap": [
           {
            "colorbar": {
             "outlinewidth": 0,
             "ticks": ""
            },
            "colorscale": [
             [
              0,
              "#0d0887"
             ],
             [
              0.1111111111111111,
              "#46039f"
             ],
             [
              0.2222222222222222,
              "#7201a8"
             ],
             [
              0.3333333333333333,
              "#9c179e"
             ],
             [
              0.4444444444444444,
              "#bd3786"
             ],
             [
              0.5555555555555556,
              "#d8576b"
             ],
             [
              0.6666666666666666,
              "#ed7953"
             ],
             [
              0.7777777777777778,
              "#fb9f3a"
             ],
             [
              0.8888888888888888,
              "#fdca26"
             ],
             [
              1,
              "#f0f921"
             ]
            ],
            "type": "heatmap"
           }
          ],
          "heatmapgl": [
           {
            "colorbar": {
             "outlinewidth": 0,
             "ticks": ""
            },
            "colorscale": [
             [
              0,
              "#0d0887"
             ],
             [
              0.1111111111111111,
              "#46039f"
             ],
             [
              0.2222222222222222,
              "#7201a8"
             ],
             [
              0.3333333333333333,
              "#9c179e"
             ],
             [
              0.4444444444444444,
              "#bd3786"
             ],
             [
              0.5555555555555556,
              "#d8576b"
             ],
             [
              0.6666666666666666,
              "#ed7953"
             ],
             [
              0.7777777777777778,
              "#fb9f3a"
             ],
             [
              0.8888888888888888,
              "#fdca26"
             ],
             [
              1,
              "#f0f921"
             ]
            ],
            "type": "heatmapgl"
           }
          ],
          "histogram": [
           {
            "marker": {
             "colorbar": {
              "outlinewidth": 0,
              "ticks": ""
             }
            },
            "type": "histogram"
           }
          ],
          "histogram2d": [
           {
            "colorbar": {
             "outlinewidth": 0,
             "ticks": ""
            },
            "colorscale": [
             [
              0,
              "#0d0887"
             ],
             [
              0.1111111111111111,
              "#46039f"
             ],
             [
              0.2222222222222222,
              "#7201a8"
             ],
             [
              0.3333333333333333,
              "#9c179e"
             ],
             [
              0.4444444444444444,
              "#bd3786"
             ],
             [
              0.5555555555555556,
              "#d8576b"
             ],
             [
              0.6666666666666666,
              "#ed7953"
             ],
             [
              0.7777777777777778,
              "#fb9f3a"
             ],
             [
              0.8888888888888888,
              "#fdca26"
             ],
             [
              1,
              "#f0f921"
             ]
            ],
            "type": "histogram2d"
           }
          ],
          "histogram2dcontour": [
           {
            "colorbar": {
             "outlinewidth": 0,
             "ticks": ""
            },
            "colorscale": [
             [
              0,
              "#0d0887"
             ],
             [
              0.1111111111111111,
              "#46039f"
             ],
             [
              0.2222222222222222,
              "#7201a8"
             ],
             [
              0.3333333333333333,
              "#9c179e"
             ],
             [
              0.4444444444444444,
              "#bd3786"
             ],
             [
              0.5555555555555556,
              "#d8576b"
             ],
             [
              0.6666666666666666,
              "#ed7953"
             ],
             [
              0.7777777777777778,
              "#fb9f3a"
             ],
             [
              0.8888888888888888,
              "#fdca26"
             ],
             [
              1,
              "#f0f921"
             ]
            ],
            "type": "histogram2dcontour"
           }
          ],
          "mesh3d": [
           {
            "colorbar": {
             "outlinewidth": 0,
             "ticks": ""
            },
            "type": "mesh3d"
           }
          ],
          "parcoords": [
           {
            "line": {
             "colorbar": {
              "outlinewidth": 0,
              "ticks": ""
             }
            },
            "type": "parcoords"
           }
          ],
          "pie": [
           {
            "automargin": true,
            "type": "pie"
           }
          ],
          "scatter": [
           {
            "marker": {
             "colorbar": {
              "outlinewidth": 0,
              "ticks": ""
             }
            },
            "type": "scatter"
           }
          ],
          "scatter3d": [
           {
            "line": {
             "colorbar": {
              "outlinewidth": 0,
              "ticks": ""
             }
            },
            "marker": {
             "colorbar": {
              "outlinewidth": 0,
              "ticks": ""
             }
            },
            "type": "scatter3d"
           }
          ],
          "scattercarpet": [
           {
            "marker": {
             "colorbar": {
              "outlinewidth": 0,
              "ticks": ""
             }
            },
            "type": "scattercarpet"
           }
          ],
          "scattergeo": [
           {
            "marker": {
             "colorbar": {
              "outlinewidth": 0,
              "ticks": ""
             }
            },
            "type": "scattergeo"
           }
          ],
          "scattergl": [
           {
            "marker": {
             "colorbar": {
              "outlinewidth": 0,
              "ticks": ""
             }
            },
            "type": "scattergl"
           }
          ],
          "scattermapbox": [
           {
            "marker": {
             "colorbar": {
              "outlinewidth": 0,
              "ticks": ""
             }
            },
            "type": "scattermapbox"
           }
          ],
          "scatterpolar": [
           {
            "marker": {
             "colorbar": {
              "outlinewidth": 0,
              "ticks": ""
             }
            },
            "type": "scatterpolar"
           }
          ],
          "scatterpolargl": [
           {
            "marker": {
             "colorbar": {
              "outlinewidth": 0,
              "ticks": ""
             }
            },
            "type": "scatterpolargl"
           }
          ],
          "scatterternary": [
           {
            "marker": {
             "colorbar": {
              "outlinewidth": 0,
              "ticks": ""
             }
            },
            "type": "scatterternary"
           }
          ],
          "surface": [
           {
            "colorbar": {
             "outlinewidth": 0,
             "ticks": ""
            },
            "colorscale": [
             [
              0,
              "#0d0887"
             ],
             [
              0.1111111111111111,
              "#46039f"
             ],
             [
              0.2222222222222222,
              "#7201a8"
             ],
             [
              0.3333333333333333,
              "#9c179e"
             ],
             [
              0.4444444444444444,
              "#bd3786"
             ],
             [
              0.5555555555555556,
              "#d8576b"
             ],
             [
              0.6666666666666666,
              "#ed7953"
             ],
             [
              0.7777777777777778,
              "#fb9f3a"
             ],
             [
              0.8888888888888888,
              "#fdca26"
             ],
             [
              1,
              "#f0f921"
             ]
            ],
            "type": "surface"
           }
          ],
          "table": [
           {
            "cells": {
             "fill": {
              "color": "#EBF0F8"
             },
             "line": {
              "color": "white"
             }
            },
            "header": {
             "fill": {
              "color": "#C8D4E3"
             },
             "line": {
              "color": "white"
             }
            },
            "type": "table"
           }
          ]
         },
         "layout": {
          "annotationdefaults": {
           "arrowcolor": "#2a3f5f",
           "arrowhead": 0,
           "arrowwidth": 1
          },
          "autotypenumbers": "strict",
          "coloraxis": {
           "colorbar": {
            "outlinewidth": 0,
            "ticks": ""
           }
          },
          "colorscale": {
           "diverging": [
            [
             0,
             "#8e0152"
            ],
            [
             0.1,
             "#c51b7d"
            ],
            [
             0.2,
             "#de77ae"
            ],
            [
             0.3,
             "#f1b6da"
            ],
            [
             0.4,
             "#fde0ef"
            ],
            [
             0.5,
             "#f7f7f7"
            ],
            [
             0.6,
             "#e6f5d0"
            ],
            [
             0.7,
             "#b8e186"
            ],
            [
             0.8,
             "#7fbc41"
            ],
            [
             0.9,
             "#4d9221"
            ],
            [
             1,
             "#276419"
            ]
           ],
           "sequential": [
            [
             0,
             "#0d0887"
            ],
            [
             0.1111111111111111,
             "#46039f"
            ],
            [
             0.2222222222222222,
             "#7201a8"
            ],
            [
             0.3333333333333333,
             "#9c179e"
            ],
            [
             0.4444444444444444,
             "#bd3786"
            ],
            [
             0.5555555555555556,
             "#d8576b"
            ],
            [
             0.6666666666666666,
             "#ed7953"
            ],
            [
             0.7777777777777778,
             "#fb9f3a"
            ],
            [
             0.8888888888888888,
             "#fdca26"
            ],
            [
             1,
             "#f0f921"
            ]
           ],
           "sequentialminus": [
            [
             0,
             "#0d0887"
            ],
            [
             0.1111111111111111,
             "#46039f"
            ],
            [
             0.2222222222222222,
             "#7201a8"
            ],
            [
             0.3333333333333333,
             "#9c179e"
            ],
            [
             0.4444444444444444,
             "#bd3786"
            ],
            [
             0.5555555555555556,
             "#d8576b"
            ],
            [
             0.6666666666666666,
             "#ed7953"
            ],
            [
             0.7777777777777778,
             "#fb9f3a"
            ],
            [
             0.8888888888888888,
             "#fdca26"
            ],
            [
             1,
             "#f0f921"
            ]
           ]
          },
          "colorway": [
           "#636efa",
           "#EF553B",
           "#00cc96",
           "#ab63fa",
           "#FFA15A",
           "#19d3f3",
           "#FF6692",
           "#B6E880",
           "#FF97FF",
           "#FECB52"
          ],
          "font": {
           "color": "#2a3f5f"
          },
          "geo": {
           "bgcolor": "white",
           "lakecolor": "white",
           "landcolor": "#E5ECF6",
           "showlakes": true,
           "showland": true,
           "subunitcolor": "white"
          },
          "hoverlabel": {
           "align": "left"
          },
          "hovermode": "closest",
          "mapbox": {
           "style": "light"
          },
          "paper_bgcolor": "white",
          "plot_bgcolor": "#E5ECF6",
          "polar": {
           "angularaxis": {
            "gridcolor": "white",
            "linecolor": "white",
            "ticks": ""
           },
           "bgcolor": "#E5ECF6",
           "radialaxis": {
            "gridcolor": "white",
            "linecolor": "white",
            "ticks": ""
           }
          },
          "scene": {
           "xaxis": {
            "backgroundcolor": "#E5ECF6",
            "gridcolor": "white",
            "gridwidth": 2,
            "linecolor": "white",
            "showbackground": true,
            "ticks": "",
            "zerolinecolor": "white"
           },
           "yaxis": {
            "backgroundcolor": "#E5ECF6",
            "gridcolor": "white",
            "gridwidth": 2,
            "linecolor": "white",
            "showbackground": true,
            "ticks": "",
            "zerolinecolor": "white"
           },
           "zaxis": {
            "backgroundcolor": "#E5ECF6",
            "gridcolor": "white",
            "gridwidth": 2,
            "linecolor": "white",
            "showbackground": true,
            "ticks": "",
            "zerolinecolor": "white"
           }
          },
          "shapedefaults": {
           "line": {
            "color": "#2a3f5f"
           }
          },
          "ternary": {
           "aaxis": {
            "gridcolor": "white",
            "linecolor": "white",
            "ticks": ""
           },
           "baxis": {
            "gridcolor": "white",
            "linecolor": "white",
            "ticks": ""
           },
           "bgcolor": "#E5ECF6",
           "caxis": {
            "gridcolor": "white",
            "linecolor": "white",
            "ticks": ""
           }
          },
          "title": {
           "x": 0.05
          },
          "xaxis": {
           "automargin": true,
           "gridcolor": "white",
           "linecolor": "white",
           "ticks": "",
           "title": {
            "standoff": 15
           },
           "zerolinecolor": "white",
           "zerolinewidth": 2
          },
          "yaxis": {
           "automargin": true,
           "gridcolor": "white",
           "linecolor": "white",
           "ticks": "",
           "title": {
            "standoff": 15
           },
           "zerolinecolor": "white",
           "zerolinewidth": 2
          }
         }
        },
        "xaxis": {
         "anchor": "y",
         "domain": [
          0,
          1
         ],
         "title": {
          "text": "Date"
         }
        },
        "yaxis": {
         "anchor": "x",
         "domain": [
          0,
          1
         ],
         "title": {
          "text": "value"
         }
        }
       }
      },
      "text/html": [
       "<div>                            <div id=\"f17c33d6-44d1-4e1d-af68-a694aea96543\" class=\"plotly-graph-div\" style=\"height:525px; width:100%;\"></div>            <script type=\"text/javascript\">                require([\"plotly\"], function(Plotly) {                    window.PLOTLYENV=window.PLOTLYENV || {};                                    if (document.getElementById(\"f17c33d6-44d1-4e1d-af68-a694aea96543\")) {                    Plotly.newPlot(                        \"f17c33d6-44d1-4e1d-af68-a694aea96543\",                        [{\"alignmentgroup\": \"True\", \"hovertemplate\": \"variable=NetB_imp<br>Date=%{x}<br>value=%{y}<extra></extra>\", \"legendgroup\": \"NetB_imp\", \"marker\": {\"color\": \"#636efa\"}, \"name\": \"NetB_imp\", \"offsetgroup\": \"NetB_imp\", \"orientation\": \"v\", \"showlegend\": true, \"textposition\": \"auto\", \"type\": \"bar\", \"x\": [\"2019-07-07\", \"2019-07-08\", \"2019-07-09\", \"2019-07-10\", \"2019-07-11\", \"2019-07-12\", \"2019-07-13\", \"2019-07-14\", \"2019-07-15\", \"2019-07-16\", \"2019-07-17\", \"2019-07-18\", \"2019-07-19\", \"2019-07-20\", \"2019-07-21\", \"2019-07-22\", \"2019-07-23\", \"2019-07-24\", \"2019-07-25\", \"2019-07-26\", \"2019-07-27\", \"2019-07-28\", \"2019-07-29\", \"2019-07-30\", \"2019-07-31\", \"2019-08-01\", \"2019-08-02\", \"2019-08-03\", \"2019-08-04\", \"2019-08-05\", \"2019-08-06\", \"2019-08-07\", \"2019-08-08\", \"2019-08-09\", \"2019-08-10\", \"2019-08-11\", \"2019-08-12\", \"2019-08-13\", \"2019-08-14\", \"2019-08-15\", \"2019-08-16\", \"2019-08-17\", \"2019-08-18\", \"2019-08-19\", \"2019-08-20\", \"2019-08-21\", \"2019-08-22\", \"2019-08-23\", \"2019-08-24\"], \"xaxis\": \"x\", \"y\": [381, 316, 671, 401, 182, 365, 450, 35, 63, 2, 54, 38, 50, 54, 103, 94, 73, 100, 20, 80, 47, 63, 80, 81, 47, 33, 0, 42, 56, 218, 170, 129, 117, 134, 90, 44, 130, 187, 178, 111, 110, 123, 156, 103, 134, 136, 227, 71, 139], \"yaxis\": \"y\"}, {\"alignmentgroup\": \"True\", \"hovertemplate\": \"variable=NetA_imp<br>Date=%{x}<br>value=%{y}<extra></extra>\", \"legendgroup\": \"NetA_imp\", \"marker\": {\"color\": \"#EF553B\"}, \"name\": \"NetA_imp\", \"offsetgroup\": \"NetA_imp\", \"orientation\": \"v\", \"showlegend\": true, \"textposition\": \"auto\", \"type\": \"bar\", \"x\": [\"2019-07-07\", \"2019-07-08\", \"2019-07-09\", \"2019-07-10\", \"2019-07-11\", \"2019-07-12\", \"2019-07-13\", \"2019-07-14\", \"2019-07-15\", \"2019-07-16\", \"2019-07-17\", \"2019-07-18\", \"2019-07-19\", \"2019-07-20\", \"2019-07-21\", \"2019-07-22\", \"2019-07-23\", \"2019-07-24\", \"2019-07-25\", \"2019-07-26\", \"2019-07-27\", \"2019-07-28\", \"2019-07-29\", \"2019-07-30\", \"2019-07-31\", \"2019-08-01\", \"2019-08-02\", \"2019-08-03\", \"2019-08-04\", \"2019-08-05\", \"2019-08-06\", \"2019-08-07\", \"2019-08-08\", \"2019-08-09\", \"2019-08-10\", \"2019-08-11\", \"2019-08-12\", \"2019-08-13\", \"2019-08-14\", \"2019-08-15\", \"2019-08-16\", \"2019-08-17\", \"2019-08-18\", \"2019-08-19\", \"2019-08-20\", \"2019-08-21\", \"2019-08-22\", \"2019-08-23\", \"2019-08-24\"], \"xaxis\": \"x\", \"y\": [421, 392, 756, 128, 154, 104, 65, 155, 108, 117, 185, 212, 64, 155, 62, 118, 23, 62, 26, 31, 49, 67, 110, 21, 30, 2, 40, 21, 83, 146, 51, 84, 193, 49, 78, 158, 196, 94, 72, 208, 24, 52, 185, 154, 71, 70, 84, 140, 94], \"yaxis\": \"y\"}],                        {\"barmode\": \"relative\", \"legend\": {\"title\": {\"text\": \"variable\"}, \"tracegroupgap\": 0}, \"margin\": {\"t\": 60}, \"template\": {\"data\": {\"bar\": [{\"error_x\": {\"color\": \"#2a3f5f\"}, \"error_y\": {\"color\": \"#2a3f5f\"}, \"marker\": {\"line\": {\"color\": \"#E5ECF6\", \"width\": 0.5}}, \"type\": \"bar\"}], \"barpolar\": [{\"marker\": {\"line\": {\"color\": \"#E5ECF6\", \"width\": 0.5}}, \"type\": \"barpolar\"}], \"carpet\": [{\"aaxis\": {\"endlinecolor\": \"#2a3f5f\", \"gridcolor\": \"white\", \"linecolor\": \"white\", \"minorgridcolor\": \"white\", \"startlinecolor\": \"#2a3f5f\"}, \"baxis\": {\"endlinecolor\": \"#2a3f5f\", \"gridcolor\": \"white\", \"linecolor\": \"white\", \"minorgridcolor\": \"white\", \"startlinecolor\": \"#2a3f5f\"}, \"type\": \"carpet\"}], \"choropleth\": [{\"colorbar\": {\"outlinewidth\": 0, \"ticks\": \"\"}, \"type\": \"choropleth\"}], \"contour\": [{\"colorbar\": {\"outlinewidth\": 0, \"ticks\": \"\"}, \"colorscale\": [[0.0, \"#0d0887\"], [0.1111111111111111, \"#46039f\"], [0.2222222222222222, \"#7201a8\"], [0.3333333333333333, \"#9c179e\"], [0.4444444444444444, \"#bd3786\"], [0.5555555555555556, \"#d8576b\"], [0.6666666666666666, \"#ed7953\"], [0.7777777777777778, \"#fb9f3a\"], [0.8888888888888888, \"#fdca26\"], [1.0, \"#f0f921\"]], \"type\": \"contour\"}], \"contourcarpet\": [{\"colorbar\": {\"outlinewidth\": 0, \"ticks\": \"\"}, \"type\": \"contourcarpet\"}], \"heatmap\": [{\"colorbar\": {\"outlinewidth\": 0, \"ticks\": \"\"}, \"colorscale\": [[0.0, \"#0d0887\"], [0.1111111111111111, \"#46039f\"], [0.2222222222222222, \"#7201a8\"], [0.3333333333333333, \"#9c179e\"], [0.4444444444444444, \"#bd3786\"], [0.5555555555555556, \"#d8576b\"], [0.6666666666666666, \"#ed7953\"], [0.7777777777777778, \"#fb9f3a\"], [0.8888888888888888, \"#fdca26\"], [1.0, \"#f0f921\"]], \"type\": \"heatmap\"}], \"heatmapgl\": [{\"colorbar\": {\"outlinewidth\": 0, \"ticks\": \"\"}, \"colorscale\": [[0.0, \"#0d0887\"], [0.1111111111111111, \"#46039f\"], [0.2222222222222222, \"#7201a8\"], [0.3333333333333333, \"#9c179e\"], [0.4444444444444444, \"#bd3786\"], [0.5555555555555556, \"#d8576b\"], [0.6666666666666666, \"#ed7953\"], [0.7777777777777778, \"#fb9f3a\"], [0.8888888888888888, \"#fdca26\"], [1.0, \"#f0f921\"]], \"type\": \"heatmapgl\"}], \"histogram\": [{\"marker\": {\"colorbar\": {\"outlinewidth\": 0, \"ticks\": \"\"}}, \"type\": \"histogram\"}], \"histogram2d\": [{\"colorbar\": {\"outlinewidth\": 0, \"ticks\": \"\"}, \"colorscale\": [[0.0, \"#0d0887\"], [0.1111111111111111, \"#46039f\"], [0.2222222222222222, \"#7201a8\"], [0.3333333333333333, \"#9c179e\"], [0.4444444444444444, \"#bd3786\"], [0.5555555555555556, \"#d8576b\"], [0.6666666666666666, \"#ed7953\"], [0.7777777777777778, \"#fb9f3a\"], [0.8888888888888888, \"#fdca26\"], [1.0, \"#f0f921\"]], \"type\": \"histogram2d\"}], \"histogram2dcontour\": [{\"colorbar\": {\"outlinewidth\": 0, \"ticks\": \"\"}, \"colorscale\": [[0.0, \"#0d0887\"], [0.1111111111111111, \"#46039f\"], [0.2222222222222222, \"#7201a8\"], [0.3333333333333333, \"#9c179e\"], [0.4444444444444444, \"#bd3786\"], [0.5555555555555556, \"#d8576b\"], [0.6666666666666666, \"#ed7953\"], [0.7777777777777778, \"#fb9f3a\"], [0.8888888888888888, \"#fdca26\"], [1.0, \"#f0f921\"]], \"type\": \"histogram2dcontour\"}], \"mesh3d\": [{\"colorbar\": {\"outlinewidth\": 0, \"ticks\": \"\"}, \"type\": \"mesh3d\"}], \"parcoords\": [{\"line\": {\"colorbar\": {\"outlinewidth\": 0, \"ticks\": \"\"}}, \"type\": \"parcoords\"}], \"pie\": [{\"automargin\": true, \"type\": \"pie\"}], \"scatter\": [{\"marker\": {\"colorbar\": {\"outlinewidth\": 0, \"ticks\": \"\"}}, \"type\": \"scatter\"}], \"scatter3d\": [{\"line\": {\"colorbar\": {\"outlinewidth\": 0, \"ticks\": \"\"}}, \"marker\": {\"colorbar\": {\"outlinewidth\": 0, \"ticks\": \"\"}}, \"type\": \"scatter3d\"}], \"scattercarpet\": [{\"marker\": {\"colorbar\": {\"outlinewidth\": 0, \"ticks\": \"\"}}, \"type\": \"scattercarpet\"}], \"scattergeo\": [{\"marker\": {\"colorbar\": {\"outlinewidth\": 0, \"ticks\": \"\"}}, \"type\": \"scattergeo\"}], \"scattergl\": [{\"marker\": {\"colorbar\": {\"outlinewidth\": 0, \"ticks\": \"\"}}, \"type\": \"scattergl\"}], \"scattermapbox\": [{\"marker\": {\"colorbar\": {\"outlinewidth\": 0, \"ticks\": \"\"}}, \"type\": \"scattermapbox\"}], \"scatterpolar\": [{\"marker\": {\"colorbar\": {\"outlinewidth\": 0, \"ticks\": \"\"}}, \"type\": \"scatterpolar\"}], \"scatterpolargl\": [{\"marker\": {\"colorbar\": {\"outlinewidth\": 0, \"ticks\": \"\"}}, \"type\": \"scatterpolargl\"}], \"scatterternary\": [{\"marker\": {\"colorbar\": {\"outlinewidth\": 0, \"ticks\": \"\"}}, \"type\": \"scatterternary\"}], \"surface\": [{\"colorbar\": {\"outlinewidth\": 0, \"ticks\": \"\"}, \"colorscale\": [[0.0, \"#0d0887\"], [0.1111111111111111, \"#46039f\"], [0.2222222222222222, \"#7201a8\"], [0.3333333333333333, \"#9c179e\"], [0.4444444444444444, \"#bd3786\"], [0.5555555555555556, \"#d8576b\"], [0.6666666666666666, \"#ed7953\"], [0.7777777777777778, \"#fb9f3a\"], [0.8888888888888888, \"#fdca26\"], [1.0, \"#f0f921\"]], \"type\": \"surface\"}], \"table\": [{\"cells\": {\"fill\": {\"color\": \"#EBF0F8\"}, \"line\": {\"color\": \"white\"}}, \"header\": {\"fill\": {\"color\": \"#C8D4E3\"}, \"line\": {\"color\": \"white\"}}, \"type\": \"table\"}]}, \"layout\": {\"annotationdefaults\": {\"arrowcolor\": \"#2a3f5f\", \"arrowhead\": 0, \"arrowwidth\": 1}, \"autotypenumbers\": \"strict\", \"coloraxis\": {\"colorbar\": {\"outlinewidth\": 0, \"ticks\": \"\"}}, \"colorscale\": {\"diverging\": [[0, \"#8e0152\"], [0.1, \"#c51b7d\"], [0.2, \"#de77ae\"], [0.3, \"#f1b6da\"], [0.4, \"#fde0ef\"], [0.5, \"#f7f7f7\"], [0.6, \"#e6f5d0\"], [0.7, \"#b8e186\"], [0.8, \"#7fbc41\"], [0.9, \"#4d9221\"], [1, \"#276419\"]], \"sequential\": [[0.0, \"#0d0887\"], [0.1111111111111111, \"#46039f\"], [0.2222222222222222, \"#7201a8\"], [0.3333333333333333, \"#9c179e\"], [0.4444444444444444, \"#bd3786\"], [0.5555555555555556, \"#d8576b\"], [0.6666666666666666, \"#ed7953\"], [0.7777777777777778, \"#fb9f3a\"], [0.8888888888888888, \"#fdca26\"], [1.0, \"#f0f921\"]], \"sequentialminus\": [[0.0, \"#0d0887\"], [0.1111111111111111, \"#46039f\"], [0.2222222222222222, \"#7201a8\"], [0.3333333333333333, \"#9c179e\"], [0.4444444444444444, \"#bd3786\"], [0.5555555555555556, \"#d8576b\"], [0.6666666666666666, \"#ed7953\"], [0.7777777777777778, \"#fb9f3a\"], [0.8888888888888888, \"#fdca26\"], [1.0, \"#f0f921\"]]}, \"colorway\": [\"#636efa\", \"#EF553B\", \"#00cc96\", \"#ab63fa\", \"#FFA15A\", \"#19d3f3\", \"#FF6692\", \"#B6E880\", \"#FF97FF\", \"#FECB52\"], \"font\": {\"color\": \"#2a3f5f\"}, \"geo\": {\"bgcolor\": \"white\", \"lakecolor\": \"white\", \"landcolor\": \"#E5ECF6\", \"showlakes\": true, \"showland\": true, \"subunitcolor\": \"white\"}, \"hoverlabel\": {\"align\": \"left\"}, \"hovermode\": \"closest\", \"mapbox\": {\"style\": \"light\"}, \"paper_bgcolor\": \"white\", \"plot_bgcolor\": \"#E5ECF6\", \"polar\": {\"angularaxis\": {\"gridcolor\": \"white\", \"linecolor\": \"white\", \"ticks\": \"\"}, \"bgcolor\": \"#E5ECF6\", \"radialaxis\": {\"gridcolor\": \"white\", \"linecolor\": \"white\", \"ticks\": \"\"}}, \"scene\": {\"xaxis\": {\"backgroundcolor\": \"#E5ECF6\", \"gridcolor\": \"white\", \"gridwidth\": 2, \"linecolor\": \"white\", \"showbackground\": true, \"ticks\": \"\", \"zerolinecolor\": \"white\"}, \"yaxis\": {\"backgroundcolor\": \"#E5ECF6\", \"gridcolor\": \"white\", \"gridwidth\": 2, \"linecolor\": \"white\", \"showbackground\": true, \"ticks\": \"\", \"zerolinecolor\": \"white\"}, \"zaxis\": {\"backgroundcolor\": \"#E5ECF6\", \"gridcolor\": \"white\", \"gridwidth\": 2, \"linecolor\": \"white\", \"showbackground\": true, \"ticks\": \"\", \"zerolinecolor\": \"white\"}}, \"shapedefaults\": {\"line\": {\"color\": \"#2a3f5f\"}}, \"ternary\": {\"aaxis\": {\"gridcolor\": \"white\", \"linecolor\": \"white\", \"ticks\": \"\"}, \"baxis\": {\"gridcolor\": \"white\", \"linecolor\": \"white\", \"ticks\": \"\"}, \"bgcolor\": \"#E5ECF6\", \"caxis\": {\"gridcolor\": \"white\", \"linecolor\": \"white\", \"ticks\": \"\"}}, \"title\": {\"x\": 0.05}, \"xaxis\": {\"automargin\": true, \"gridcolor\": \"white\", \"linecolor\": \"white\", \"ticks\": \"\", \"title\": {\"standoff\": 15}, \"zerolinecolor\": \"white\", \"zerolinewidth\": 2}, \"yaxis\": {\"automargin\": true, \"gridcolor\": \"white\", \"linecolor\": \"white\", \"ticks\": \"\", \"title\": {\"standoff\": 15}, \"zerolinecolor\": \"white\", \"zerolinewidth\": 2}}}, \"xaxis\": {\"anchor\": \"y\", \"domain\": [0.0, 1.0], \"title\": {\"text\": \"Date\"}}, \"yaxis\": {\"anchor\": \"x\", \"domain\": [0.0, 1.0], \"title\": {\"text\": \"value\"}}},                        {\"responsive\": true}                    ).then(function(){\n",
       "                            \n",
       "var gd = document.getElementById('f17c33d6-44d1-4e1d-af68-a694aea96543');\n",
       "var x = new MutationObserver(function (mutations, observer) {{\n",
       "        var display = window.getComputedStyle(gd).display;\n",
       "        if (!display || display === 'none') {{\n",
       "            console.log([gd, 'removed!']);\n",
       "            Plotly.purge(gd);\n",
       "            observer.disconnect();\n",
       "        }}\n",
       "}});\n",
       "\n",
       "// Listen for the removal of the full notebook cells\n",
       "var notebookContainer = gd.closest('#notebook-container');\n",
       "if (notebookContainer) {{\n",
       "    x.observe(notebookContainer, {childList: true});\n",
       "}}\n",
       "\n",
       "// Listen for the clearing of the current output cell\n",
       "var outputEl = gd.closest('.output');\n",
       "if (outputEl) {{\n",
       "    x.observe(outputEl, {childList: true});\n",
       "}}\n",
       "\n",
       "                        })                };                });            </script>        </div>"
      ]
     },
     "metadata": {},
     "output_type": "display_data"
    }
   ],
   "source": [
    "fig = px.bar(df2, x=\"Date\", y=['NetB_imp','NetA_imp'])\n",
    "\n",
    "#fig.write_html(path+\"file.html\")\n",
    "fig.show()"
   ]
  },
  {
   "cell_type": "markdown",
   "metadata": {},
   "source": [
    "### Combined line and Bar plots"
   ]
  },
  {
   "cell_type": "code",
   "execution_count": 52,
   "metadata": {},
   "outputs": [
    {
     "data": {
      "text/html": [
       "        <script type=\"text/javascript\">\n",
       "        window.PlotlyConfig = {MathJaxConfig: 'local'};\n",
       "        if (window.MathJax) {MathJax.Hub.Config({SVG: {font: \"STIX-Web\"}});}\n",
       "        if (typeof require !== 'undefined') {\n",
       "        require.undef(\"plotly\");\n",
       "        requirejs.config({\n",
       "            paths: {\n",
       "                'plotly': ['https://cdn.plot.ly/plotly-latest.min']\n",
       "            }\n",
       "        });\n",
       "        require(['plotly'], function(Plotly) {\n",
       "            window._Plotly = Plotly;\n",
       "        });\n",
       "        }\n",
       "        </script>\n",
       "        "
      ]
     },
     "metadata": {},
     "output_type": "display_data"
    },
    {
     "data": {
      "text/html": [
       "        <script type=\"text/javascript\">\n",
       "        window.PlotlyConfig = {MathJaxConfig: 'local'};\n",
       "        if (window.MathJax) {MathJax.Hub.Config({SVG: {font: \"STIX-Web\"}});}\n",
       "        if (typeof require !== 'undefined') {\n",
       "        require.undef(\"plotly\");\n",
       "        requirejs.config({\n",
       "            paths: {\n",
       "                'plotly': ['https://cdn.plot.ly/plotly-latest.min']\n",
       "            }\n",
       "        });\n",
       "        require(['plotly'], function(Plotly) {\n",
       "            window._Plotly = Plotly;\n",
       "        });\n",
       "        }\n",
       "        </script>\n",
       "        "
      ]
     },
     "metadata": {},
     "output_type": "display_data"
    }
   ],
   "source": [
    "from func_figures import multiplot"
   ]
  },
  {
   "cell_type": "code",
   "execution_count": 53,
   "metadata": {},
   "outputs": [],
   "source": [
    "col=['Page Views','NetA_imp','NetA_spd']#,'NetB_imp','NetB_spd']#<---------columns to be plotted along y-axis\n",
    "plot_df=pd.DataFrame({\"plot_type\":['scatter','bar','bar'], \"colms\":col})##,'bar','bar']\n",
    "x_val='Date' #<------columns name of df to be put along x-axis\n",
    "fig_title=\"Spend impressions and pageviews\"\n",
    "x_label='Date'\n",
    "bar_mode='group'"
   ]
  },
  {
   "cell_type": "code",
   "execution_count": 54,
   "metadata": {},
   "outputs": [
    {
     "data": {
      "application/vnd.plotly.v1+json": {
       "config": {
        "linkText": "Export to plot.ly",
        "plotlyServerURL": "https://plot.ly",
        "showLink": false
       },
       "data": [
        {
         "marker": {
          "color": "rgb(0,0,0)",
          "size": 10
         },
         "name": "Page Views",
         "type": "scatter",
         "x": [
          "2019-07-07",
          "2019-07-08",
          "2019-07-09",
          "2019-07-10",
          "2019-07-11",
          "2019-07-12",
          "2019-07-13",
          "2019-07-14",
          "2019-07-15",
          "2019-07-16",
          "2019-07-17",
          "2019-07-18",
          "2019-07-19",
          "2019-07-20",
          "2019-07-21",
          "2019-07-22",
          "2019-07-23",
          "2019-07-24",
          "2019-07-25",
          "2019-07-26",
          "2019-07-27",
          "2019-07-28",
          "2019-07-29",
          "2019-07-30",
          "2019-07-31",
          "2019-08-01",
          "2019-08-02",
          "2019-08-03",
          "2019-08-04",
          "2019-08-05",
          "2019-08-06",
          "2019-08-07",
          "2019-08-08",
          "2019-08-09",
          "2019-08-10",
          "2019-08-11",
          "2019-08-12",
          "2019-08-13",
          "2019-08-14",
          "2019-08-15",
          "2019-08-16",
          "2019-08-17",
          "2019-08-18",
          "2019-08-19",
          "2019-08-20",
          "2019-08-21",
          "2019-08-22",
          "2019-08-23",
          "2019-08-24"
         ],
         "y": [
          3363,
          4160,
          3619,
          3474,
          3547,
          3277,
          3332,
          3858,
          4918,
          3939,
          3763,
          3691,
          3538,
          3430,
          3841,
          4199,
          3770,
          3458,
          3631,
          3367,
          3410,
          3646,
          3475,
          3087,
          2754,
          2783,
          2658,
          2748,
          3000,
          3256,
          2865,
          2693,
          2629,
          2922,
          2873,
          3057,
          3357,
          3013,
          3542,
          3093,
          2714,
          2809,
          3113,
          3486,
          3425,
          4066,
          3167,
          3031,
          3107
         ],
         "yaxis": "y2"
        },
        {
         "marker": {
          "color": "rgb(48,56,2)"
         },
         "name": "NetA_imp",
         "type": "bar",
         "x": [
          "2019-07-07",
          "2019-07-08",
          "2019-07-09",
          "2019-07-10",
          "2019-07-11",
          "2019-07-12",
          "2019-07-13",
          "2019-07-14",
          "2019-07-15",
          "2019-07-16",
          "2019-07-17",
          "2019-07-18",
          "2019-07-19",
          "2019-07-20",
          "2019-07-21",
          "2019-07-22",
          "2019-07-23",
          "2019-07-24",
          "2019-07-25",
          "2019-07-26",
          "2019-07-27",
          "2019-07-28",
          "2019-07-29",
          "2019-07-30",
          "2019-07-31",
          "2019-08-01",
          "2019-08-02",
          "2019-08-03",
          "2019-08-04",
          "2019-08-05",
          "2019-08-06",
          "2019-08-07",
          "2019-08-08",
          "2019-08-09",
          "2019-08-10",
          "2019-08-11",
          "2019-08-12",
          "2019-08-13",
          "2019-08-14",
          "2019-08-15",
          "2019-08-16",
          "2019-08-17",
          "2019-08-18",
          "2019-08-19",
          "2019-08-20",
          "2019-08-21",
          "2019-08-22",
          "2019-08-23",
          "2019-08-24"
         ],
         "y": [
          421,
          392,
          756,
          128,
          154,
          104,
          65,
          155,
          108,
          117,
          185,
          212,
          64,
          155,
          62,
          118,
          23,
          62,
          26,
          31,
          49,
          67,
          110,
          21,
          30,
          2,
          40,
          21,
          83,
          146,
          51,
          84,
          193,
          49,
          78,
          158,
          196,
          94,
          72,
          208,
          24,
          52,
          185,
          154,
          71,
          70,
          84,
          140,
          94
         ],
         "yaxis": "y"
        },
        {
         "marker": {
          "color": "rgb(96,112,4)"
         },
         "name": "NetA_spd",
         "type": "bar",
         "x": [
          "2019-07-07",
          "2019-07-08",
          "2019-07-09",
          "2019-07-10",
          "2019-07-11",
          "2019-07-12",
          "2019-07-13",
          "2019-07-14",
          "2019-07-15",
          "2019-07-16",
          "2019-07-17",
          "2019-07-18",
          "2019-07-19",
          "2019-07-20",
          "2019-07-21",
          "2019-07-22",
          "2019-07-23",
          "2019-07-24",
          "2019-07-25",
          "2019-07-26",
          "2019-07-27",
          "2019-07-28",
          "2019-07-29",
          "2019-07-30",
          "2019-07-31",
          "2019-08-01",
          "2019-08-02",
          "2019-08-03",
          "2019-08-04",
          "2019-08-05",
          "2019-08-06",
          "2019-08-07",
          "2019-08-08",
          "2019-08-09",
          "2019-08-10",
          "2019-08-11",
          "2019-08-12",
          "2019-08-13",
          "2019-08-14",
          "2019-08-15",
          "2019-08-16",
          "2019-08-17",
          "2019-08-18",
          "2019-08-19",
          "2019-08-20",
          "2019-08-21",
          "2019-08-22",
          "2019-08-23",
          "2019-08-24"
         ],
         "y": [
          159,
          1066,
          877,
          130,
          1994,
          4740,
          993,
          938,
          1777,
          974,
          4935,
          2697,
          0,
          210,
          827,
          4927,
          426,
          3037,
          939,
          530,
          567,
          3455,
          5890,
          678,
          1264,
          137,
          823,
          405,
          2134,
          4025,
          1363,
          2316,
          10376,
          1215,
          1578,
          6856,
          4946,
          3042,
          1472,
          8595,
          607,
          465,
          6226,
          6174,
          2144,
          1663,
          2534,
          6518,
          2598
         ],
         "yaxis": "y"
        }
       ],
       "layout": {
        "barmode": "group",
        "template": {
         "data": {
          "bar": [
           {
            "error_x": {
             "color": "#2a3f5f"
            },
            "error_y": {
             "color": "#2a3f5f"
            },
            "marker": {
             "line": {
              "color": "#E5ECF6",
              "width": 0.5
             }
            },
            "type": "bar"
           }
          ],
          "barpolar": [
           {
            "marker": {
             "line": {
              "color": "#E5ECF6",
              "width": 0.5
             }
            },
            "type": "barpolar"
           }
          ],
          "carpet": [
           {
            "aaxis": {
             "endlinecolor": "#2a3f5f",
             "gridcolor": "white",
             "linecolor": "white",
             "minorgridcolor": "white",
             "startlinecolor": "#2a3f5f"
            },
            "baxis": {
             "endlinecolor": "#2a3f5f",
             "gridcolor": "white",
             "linecolor": "white",
             "minorgridcolor": "white",
             "startlinecolor": "#2a3f5f"
            },
            "type": "carpet"
           }
          ],
          "choropleth": [
           {
            "colorbar": {
             "outlinewidth": 0,
             "ticks": ""
            },
            "type": "choropleth"
           }
          ],
          "contour": [
           {
            "colorbar": {
             "outlinewidth": 0,
             "ticks": ""
            },
            "colorscale": [
             [
              0,
              "#0d0887"
             ],
             [
              0.1111111111111111,
              "#46039f"
             ],
             [
              0.2222222222222222,
              "#7201a8"
             ],
             [
              0.3333333333333333,
              "#9c179e"
             ],
             [
              0.4444444444444444,
              "#bd3786"
             ],
             [
              0.5555555555555556,
              "#d8576b"
             ],
             [
              0.6666666666666666,
              "#ed7953"
             ],
             [
              0.7777777777777778,
              "#fb9f3a"
             ],
             [
              0.8888888888888888,
              "#fdca26"
             ],
             [
              1,
              "#f0f921"
             ]
            ],
            "type": "contour"
           }
          ],
          "contourcarpet": [
           {
            "colorbar": {
             "outlinewidth": 0,
             "ticks": ""
            },
            "type": "contourcarpet"
           }
          ],
          "heatmap": [
           {
            "colorbar": {
             "outlinewidth": 0,
             "ticks": ""
            },
            "colorscale": [
             [
              0,
              "#0d0887"
             ],
             [
              0.1111111111111111,
              "#46039f"
             ],
             [
              0.2222222222222222,
              "#7201a8"
             ],
             [
              0.3333333333333333,
              "#9c179e"
             ],
             [
              0.4444444444444444,
              "#bd3786"
             ],
             [
              0.5555555555555556,
              "#d8576b"
             ],
             [
              0.6666666666666666,
              "#ed7953"
             ],
             [
              0.7777777777777778,
              "#fb9f3a"
             ],
             [
              0.8888888888888888,
              "#fdca26"
             ],
             [
              1,
              "#f0f921"
             ]
            ],
            "type": "heatmap"
           }
          ],
          "heatmapgl": [
           {
            "colorbar": {
             "outlinewidth": 0,
             "ticks": ""
            },
            "colorscale": [
             [
              0,
              "#0d0887"
             ],
             [
              0.1111111111111111,
              "#46039f"
             ],
             [
              0.2222222222222222,
              "#7201a8"
             ],
             [
              0.3333333333333333,
              "#9c179e"
             ],
             [
              0.4444444444444444,
              "#bd3786"
             ],
             [
              0.5555555555555556,
              "#d8576b"
             ],
             [
              0.6666666666666666,
              "#ed7953"
             ],
             [
              0.7777777777777778,
              "#fb9f3a"
             ],
             [
              0.8888888888888888,
              "#fdca26"
             ],
             [
              1,
              "#f0f921"
             ]
            ],
            "type": "heatmapgl"
           }
          ],
          "histogram": [
           {
            "marker": {
             "colorbar": {
              "outlinewidth": 0,
              "ticks": ""
             }
            },
            "type": "histogram"
           }
          ],
          "histogram2d": [
           {
            "colorbar": {
             "outlinewidth": 0,
             "ticks": ""
            },
            "colorscale": [
             [
              0,
              "#0d0887"
             ],
             [
              0.1111111111111111,
              "#46039f"
             ],
             [
              0.2222222222222222,
              "#7201a8"
             ],
             [
              0.3333333333333333,
              "#9c179e"
             ],
             [
              0.4444444444444444,
              "#bd3786"
             ],
             [
              0.5555555555555556,
              "#d8576b"
             ],
             [
              0.6666666666666666,
              "#ed7953"
             ],
             [
              0.7777777777777778,
              "#fb9f3a"
             ],
             [
              0.8888888888888888,
              "#fdca26"
             ],
             [
              1,
              "#f0f921"
             ]
            ],
            "type": "histogram2d"
           }
          ],
          "histogram2dcontour": [
           {
            "colorbar": {
             "outlinewidth": 0,
             "ticks": ""
            },
            "colorscale": [
             [
              0,
              "#0d0887"
             ],
             [
              0.1111111111111111,
              "#46039f"
             ],
             [
              0.2222222222222222,
              "#7201a8"
             ],
             [
              0.3333333333333333,
              "#9c179e"
             ],
             [
              0.4444444444444444,
              "#bd3786"
             ],
             [
              0.5555555555555556,
              "#d8576b"
             ],
             [
              0.6666666666666666,
              "#ed7953"
             ],
             [
              0.7777777777777778,
              "#fb9f3a"
             ],
             [
              0.8888888888888888,
              "#fdca26"
             ],
             [
              1,
              "#f0f921"
             ]
            ],
            "type": "histogram2dcontour"
           }
          ],
          "mesh3d": [
           {
            "colorbar": {
             "outlinewidth": 0,
             "ticks": ""
            },
            "type": "mesh3d"
           }
          ],
          "parcoords": [
           {
            "line": {
             "colorbar": {
              "outlinewidth": 0,
              "ticks": ""
             }
            },
            "type": "parcoords"
           }
          ],
          "pie": [
           {
            "automargin": true,
            "type": "pie"
           }
          ],
          "scatter": [
           {
            "marker": {
             "colorbar": {
              "outlinewidth": 0,
              "ticks": ""
             }
            },
            "type": "scatter"
           }
          ],
          "scatter3d": [
           {
            "line": {
             "colorbar": {
              "outlinewidth": 0,
              "ticks": ""
             }
            },
            "marker": {
             "colorbar": {
              "outlinewidth": 0,
              "ticks": ""
             }
            },
            "type": "scatter3d"
           }
          ],
          "scattercarpet": [
           {
            "marker": {
             "colorbar": {
              "outlinewidth": 0,
              "ticks": ""
             }
            },
            "type": "scattercarpet"
           }
          ],
          "scattergeo": [
           {
            "marker": {
             "colorbar": {
              "outlinewidth": 0,
              "ticks": ""
             }
            },
            "type": "scattergeo"
           }
          ],
          "scattergl": [
           {
            "marker": {
             "colorbar": {
              "outlinewidth": 0,
              "ticks": ""
             }
            },
            "type": "scattergl"
           }
          ],
          "scattermapbox": [
           {
            "marker": {
             "colorbar": {
              "outlinewidth": 0,
              "ticks": ""
             }
            },
            "type": "scattermapbox"
           }
          ],
          "scatterpolar": [
           {
            "marker": {
             "colorbar": {
              "outlinewidth": 0,
              "ticks": ""
             }
            },
            "type": "scatterpolar"
           }
          ],
          "scatterpolargl": [
           {
            "marker": {
             "colorbar": {
              "outlinewidth": 0,
              "ticks": ""
             }
            },
            "type": "scatterpolargl"
           }
          ],
          "scatterternary": [
           {
            "marker": {
             "colorbar": {
              "outlinewidth": 0,
              "ticks": ""
             }
            },
            "type": "scatterternary"
           }
          ],
          "surface": [
           {
            "colorbar": {
             "outlinewidth": 0,
             "ticks": ""
            },
            "colorscale": [
             [
              0,
              "#0d0887"
             ],
             [
              0.1111111111111111,
              "#46039f"
             ],
             [
              0.2222222222222222,
              "#7201a8"
             ],
             [
              0.3333333333333333,
              "#9c179e"
             ],
             [
              0.4444444444444444,
              "#bd3786"
             ],
             [
              0.5555555555555556,
              "#d8576b"
             ],
             [
              0.6666666666666666,
              "#ed7953"
             ],
             [
              0.7777777777777778,
              "#fb9f3a"
             ],
             [
              0.8888888888888888,
              "#fdca26"
             ],
             [
              1,
              "#f0f921"
             ]
            ],
            "type": "surface"
           }
          ],
          "table": [
           {
            "cells": {
             "fill": {
              "color": "#EBF0F8"
             },
             "line": {
              "color": "white"
             }
            },
            "header": {
             "fill": {
              "color": "#C8D4E3"
             },
             "line": {
              "color": "white"
             }
            },
            "type": "table"
           }
          ]
         },
         "layout": {
          "annotationdefaults": {
           "arrowcolor": "#2a3f5f",
           "arrowhead": 0,
           "arrowwidth": 1
          },
          "autotypenumbers": "strict",
          "coloraxis": {
           "colorbar": {
            "outlinewidth": 0,
            "ticks": ""
           }
          },
          "colorscale": {
           "diverging": [
            [
             0,
             "#8e0152"
            ],
            [
             0.1,
             "#c51b7d"
            ],
            [
             0.2,
             "#de77ae"
            ],
            [
             0.3,
             "#f1b6da"
            ],
            [
             0.4,
             "#fde0ef"
            ],
            [
             0.5,
             "#f7f7f7"
            ],
            [
             0.6,
             "#e6f5d0"
            ],
            [
             0.7,
             "#b8e186"
            ],
            [
             0.8,
             "#7fbc41"
            ],
            [
             0.9,
             "#4d9221"
            ],
            [
             1,
             "#276419"
            ]
           ],
           "sequential": [
            [
             0,
             "#0d0887"
            ],
            [
             0.1111111111111111,
             "#46039f"
            ],
            [
             0.2222222222222222,
             "#7201a8"
            ],
            [
             0.3333333333333333,
             "#9c179e"
            ],
            [
             0.4444444444444444,
             "#bd3786"
            ],
            [
             0.5555555555555556,
             "#d8576b"
            ],
            [
             0.6666666666666666,
             "#ed7953"
            ],
            [
             0.7777777777777778,
             "#fb9f3a"
            ],
            [
             0.8888888888888888,
             "#fdca26"
            ],
            [
             1,
             "#f0f921"
            ]
           ],
           "sequentialminus": [
            [
             0,
             "#0d0887"
            ],
            [
             0.1111111111111111,
             "#46039f"
            ],
            [
             0.2222222222222222,
             "#7201a8"
            ],
            [
             0.3333333333333333,
             "#9c179e"
            ],
            [
             0.4444444444444444,
             "#bd3786"
            ],
            [
             0.5555555555555556,
             "#d8576b"
            ],
            [
             0.6666666666666666,
             "#ed7953"
            ],
            [
             0.7777777777777778,
             "#fb9f3a"
            ],
            [
             0.8888888888888888,
             "#fdca26"
            ],
            [
             1,
             "#f0f921"
            ]
           ]
          },
          "colorway": [
           "#636efa",
           "#EF553B",
           "#00cc96",
           "#ab63fa",
           "#FFA15A",
           "#19d3f3",
           "#FF6692",
           "#B6E880",
           "#FF97FF",
           "#FECB52"
          ],
          "font": {
           "color": "#2a3f5f"
          },
          "geo": {
           "bgcolor": "white",
           "lakecolor": "white",
           "landcolor": "#E5ECF6",
           "showlakes": true,
           "showland": true,
           "subunitcolor": "white"
          },
          "hoverlabel": {
           "align": "left"
          },
          "hovermode": "closest",
          "mapbox": {
           "style": "light"
          },
          "paper_bgcolor": "white",
          "plot_bgcolor": "#E5ECF6",
          "polar": {
           "angularaxis": {
            "gridcolor": "white",
            "linecolor": "white",
            "ticks": ""
           },
           "bgcolor": "#E5ECF6",
           "radialaxis": {
            "gridcolor": "white",
            "linecolor": "white",
            "ticks": ""
           }
          },
          "scene": {
           "xaxis": {
            "backgroundcolor": "#E5ECF6",
            "gridcolor": "white",
            "gridwidth": 2,
            "linecolor": "white",
            "showbackground": true,
            "ticks": "",
            "zerolinecolor": "white"
           },
           "yaxis": {
            "backgroundcolor": "#E5ECF6",
            "gridcolor": "white",
            "gridwidth": 2,
            "linecolor": "white",
            "showbackground": true,
            "ticks": "",
            "zerolinecolor": "white"
           },
           "zaxis": {
            "backgroundcolor": "#E5ECF6",
            "gridcolor": "white",
            "gridwidth": 2,
            "linecolor": "white",
            "showbackground": true,
            "ticks": "",
            "zerolinecolor": "white"
           }
          },
          "shapedefaults": {
           "line": {
            "color": "#2a3f5f"
           }
          },
          "ternary": {
           "aaxis": {
            "gridcolor": "white",
            "linecolor": "white",
            "ticks": ""
           },
           "baxis": {
            "gridcolor": "white",
            "linecolor": "white",
            "ticks": ""
           },
           "bgcolor": "#E5ECF6",
           "caxis": {
            "gridcolor": "white",
            "linecolor": "white",
            "ticks": ""
           }
          },
          "title": {
           "x": 0.05
          },
          "xaxis": {
           "automargin": true,
           "gridcolor": "white",
           "linecolor": "white",
           "ticks": "",
           "title": {
            "standoff": 15
           },
           "zerolinecolor": "white",
           "zerolinewidth": 2
          },
          "yaxis": {
           "automargin": true,
           "gridcolor": "white",
           "linecolor": "white",
           "ticks": "",
           "title": {
            "standoff": 15
           },
           "zerolinecolor": "white",
           "zerolinewidth": 2
          }
         }
        },
        "title": {
         "text": "Spend impressions and pageviews"
        },
        "xaxis": {
         "title": {
          "text": "Date"
         }
        },
        "yaxis": {
         "title": {
          "text": "Value"
         }
        },
        "yaxis2": {
         "overlaying": "y",
         "side": "right",
         "title": {
          "text": "Value2"
         }
        }
       }
      },
      "text/html": [
       "<div>                            <div id=\"6bdd0ea6-ce61-4a6c-a9d8-404558a66d7c\" class=\"plotly-graph-div\" style=\"height:525px; width:100%;\"></div>            <script type=\"text/javascript\">                require([\"plotly\"], function(Plotly) {                    window.PLOTLYENV=window.PLOTLYENV || {};                                    if (document.getElementById(\"6bdd0ea6-ce61-4a6c-a9d8-404558a66d7c\")) {                    Plotly.newPlot(                        \"6bdd0ea6-ce61-4a6c-a9d8-404558a66d7c\",                        [{\"marker\": {\"color\": \"rgb(0,0,0)\", \"size\": 10}, \"name\": \"Page Views\", \"type\": \"scatter\", \"x\": [\"2019-07-07\", \"2019-07-08\", \"2019-07-09\", \"2019-07-10\", \"2019-07-11\", \"2019-07-12\", \"2019-07-13\", \"2019-07-14\", \"2019-07-15\", \"2019-07-16\", \"2019-07-17\", \"2019-07-18\", \"2019-07-19\", \"2019-07-20\", \"2019-07-21\", \"2019-07-22\", \"2019-07-23\", \"2019-07-24\", \"2019-07-25\", \"2019-07-26\", \"2019-07-27\", \"2019-07-28\", \"2019-07-29\", \"2019-07-30\", \"2019-07-31\", \"2019-08-01\", \"2019-08-02\", \"2019-08-03\", \"2019-08-04\", \"2019-08-05\", \"2019-08-06\", \"2019-08-07\", \"2019-08-08\", \"2019-08-09\", \"2019-08-10\", \"2019-08-11\", \"2019-08-12\", \"2019-08-13\", \"2019-08-14\", \"2019-08-15\", \"2019-08-16\", \"2019-08-17\", \"2019-08-18\", \"2019-08-19\", \"2019-08-20\", \"2019-08-21\", \"2019-08-22\", \"2019-08-23\", \"2019-08-24\"], \"y\": [3363, 4160, 3619, 3474, 3547, 3277, 3332, 3858, 4918, 3939, 3763, 3691, 3538, 3430, 3841, 4199, 3770, 3458, 3631, 3367, 3410, 3646, 3475, 3087, 2754, 2783, 2658, 2748, 3000, 3256, 2865, 2693, 2629, 2922, 2873, 3057, 3357, 3013, 3542, 3093, 2714, 2809, 3113, 3486, 3425, 4066, 3167, 3031, 3107], \"yaxis\": \"y2\"}, {\"marker\": {\"color\": \"rgb(48,56,2)\"}, \"name\": \"NetA_imp\", \"type\": \"bar\", \"x\": [\"2019-07-07\", \"2019-07-08\", \"2019-07-09\", \"2019-07-10\", \"2019-07-11\", \"2019-07-12\", \"2019-07-13\", \"2019-07-14\", \"2019-07-15\", \"2019-07-16\", \"2019-07-17\", \"2019-07-18\", \"2019-07-19\", \"2019-07-20\", \"2019-07-21\", \"2019-07-22\", \"2019-07-23\", \"2019-07-24\", \"2019-07-25\", \"2019-07-26\", \"2019-07-27\", \"2019-07-28\", \"2019-07-29\", \"2019-07-30\", \"2019-07-31\", \"2019-08-01\", \"2019-08-02\", \"2019-08-03\", \"2019-08-04\", \"2019-08-05\", \"2019-08-06\", \"2019-08-07\", \"2019-08-08\", \"2019-08-09\", \"2019-08-10\", \"2019-08-11\", \"2019-08-12\", \"2019-08-13\", \"2019-08-14\", \"2019-08-15\", \"2019-08-16\", \"2019-08-17\", \"2019-08-18\", \"2019-08-19\", \"2019-08-20\", \"2019-08-21\", \"2019-08-22\", \"2019-08-23\", \"2019-08-24\"], \"y\": [421, 392, 756, 128, 154, 104, 65, 155, 108, 117, 185, 212, 64, 155, 62, 118, 23, 62, 26, 31, 49, 67, 110, 21, 30, 2, 40, 21, 83, 146, 51, 84, 193, 49, 78, 158, 196, 94, 72, 208, 24, 52, 185, 154, 71, 70, 84, 140, 94], \"yaxis\": \"y\"}, {\"marker\": {\"color\": \"rgb(96,112,4)\"}, \"name\": \"NetA_spd\", \"type\": \"bar\", \"x\": [\"2019-07-07\", \"2019-07-08\", \"2019-07-09\", \"2019-07-10\", \"2019-07-11\", \"2019-07-12\", \"2019-07-13\", \"2019-07-14\", \"2019-07-15\", \"2019-07-16\", \"2019-07-17\", \"2019-07-18\", \"2019-07-19\", \"2019-07-20\", \"2019-07-21\", \"2019-07-22\", \"2019-07-23\", \"2019-07-24\", \"2019-07-25\", \"2019-07-26\", \"2019-07-27\", \"2019-07-28\", \"2019-07-29\", \"2019-07-30\", \"2019-07-31\", \"2019-08-01\", \"2019-08-02\", \"2019-08-03\", \"2019-08-04\", \"2019-08-05\", \"2019-08-06\", \"2019-08-07\", \"2019-08-08\", \"2019-08-09\", \"2019-08-10\", \"2019-08-11\", \"2019-08-12\", \"2019-08-13\", \"2019-08-14\", \"2019-08-15\", \"2019-08-16\", \"2019-08-17\", \"2019-08-18\", \"2019-08-19\", \"2019-08-20\", \"2019-08-21\", \"2019-08-22\", \"2019-08-23\", \"2019-08-24\"], \"y\": [159, 1066, 877, 130, 1994, 4740, 993, 938, 1777, 974, 4935, 2697, 0, 210, 827, 4927, 426, 3037, 939, 530, 567, 3455, 5890, 678, 1264, 137, 823, 405, 2134, 4025, 1363, 2316, 10376, 1215, 1578, 6856, 4946, 3042, 1472, 8595, 607, 465, 6226, 6174, 2144, 1663, 2534, 6518, 2598], \"yaxis\": \"y\"}],                        {\"barmode\": \"group\", \"template\": {\"data\": {\"bar\": [{\"error_x\": {\"color\": \"#2a3f5f\"}, \"error_y\": {\"color\": \"#2a3f5f\"}, \"marker\": {\"line\": {\"color\": \"#E5ECF6\", \"width\": 0.5}}, \"type\": \"bar\"}], \"barpolar\": [{\"marker\": {\"line\": {\"color\": \"#E5ECF6\", \"width\": 0.5}}, \"type\": \"barpolar\"}], \"carpet\": [{\"aaxis\": {\"endlinecolor\": \"#2a3f5f\", \"gridcolor\": \"white\", \"linecolor\": \"white\", \"minorgridcolor\": \"white\", \"startlinecolor\": \"#2a3f5f\"}, \"baxis\": {\"endlinecolor\": \"#2a3f5f\", \"gridcolor\": \"white\", \"linecolor\": \"white\", \"minorgridcolor\": \"white\", \"startlinecolor\": \"#2a3f5f\"}, \"type\": \"carpet\"}], \"choropleth\": [{\"colorbar\": {\"outlinewidth\": 0, \"ticks\": \"\"}, \"type\": \"choropleth\"}], \"contour\": [{\"colorbar\": {\"outlinewidth\": 0, \"ticks\": \"\"}, \"colorscale\": [[0.0, \"#0d0887\"], [0.1111111111111111, \"#46039f\"], [0.2222222222222222, \"#7201a8\"], [0.3333333333333333, \"#9c179e\"], [0.4444444444444444, \"#bd3786\"], [0.5555555555555556, \"#d8576b\"], [0.6666666666666666, \"#ed7953\"], [0.7777777777777778, \"#fb9f3a\"], [0.8888888888888888, \"#fdca26\"], [1.0, \"#f0f921\"]], \"type\": \"contour\"}], \"contourcarpet\": [{\"colorbar\": {\"outlinewidth\": 0, \"ticks\": \"\"}, \"type\": \"contourcarpet\"}], \"heatmap\": [{\"colorbar\": {\"outlinewidth\": 0, \"ticks\": \"\"}, \"colorscale\": [[0.0, \"#0d0887\"], [0.1111111111111111, \"#46039f\"], [0.2222222222222222, \"#7201a8\"], [0.3333333333333333, \"#9c179e\"], [0.4444444444444444, \"#bd3786\"], [0.5555555555555556, \"#d8576b\"], [0.6666666666666666, \"#ed7953\"], [0.7777777777777778, \"#fb9f3a\"], [0.8888888888888888, \"#fdca26\"], [1.0, \"#f0f921\"]], \"type\": \"heatmap\"}], \"heatmapgl\": [{\"colorbar\": {\"outlinewidth\": 0, \"ticks\": \"\"}, \"colorscale\": [[0.0, \"#0d0887\"], [0.1111111111111111, \"#46039f\"], [0.2222222222222222, \"#7201a8\"], [0.3333333333333333, \"#9c179e\"], [0.4444444444444444, \"#bd3786\"], [0.5555555555555556, \"#d8576b\"], [0.6666666666666666, \"#ed7953\"], [0.7777777777777778, \"#fb9f3a\"], [0.8888888888888888, \"#fdca26\"], [1.0, \"#f0f921\"]], \"type\": \"heatmapgl\"}], \"histogram\": [{\"marker\": {\"colorbar\": {\"outlinewidth\": 0, \"ticks\": \"\"}}, \"type\": \"histogram\"}], \"histogram2d\": [{\"colorbar\": {\"outlinewidth\": 0, \"ticks\": \"\"}, \"colorscale\": [[0.0, \"#0d0887\"], [0.1111111111111111, \"#46039f\"], [0.2222222222222222, \"#7201a8\"], [0.3333333333333333, \"#9c179e\"], [0.4444444444444444, \"#bd3786\"], [0.5555555555555556, \"#d8576b\"], [0.6666666666666666, \"#ed7953\"], [0.7777777777777778, \"#fb9f3a\"], [0.8888888888888888, \"#fdca26\"], [1.0, \"#f0f921\"]], \"type\": \"histogram2d\"}], \"histogram2dcontour\": [{\"colorbar\": {\"outlinewidth\": 0, \"ticks\": \"\"}, \"colorscale\": [[0.0, \"#0d0887\"], [0.1111111111111111, \"#46039f\"], [0.2222222222222222, \"#7201a8\"], [0.3333333333333333, \"#9c179e\"], [0.4444444444444444, \"#bd3786\"], [0.5555555555555556, \"#d8576b\"], [0.6666666666666666, \"#ed7953\"], [0.7777777777777778, \"#fb9f3a\"], [0.8888888888888888, \"#fdca26\"], [1.0, \"#f0f921\"]], \"type\": \"histogram2dcontour\"}], \"mesh3d\": [{\"colorbar\": {\"outlinewidth\": 0, \"ticks\": \"\"}, \"type\": \"mesh3d\"}], \"parcoords\": [{\"line\": {\"colorbar\": {\"outlinewidth\": 0, \"ticks\": \"\"}}, \"type\": \"parcoords\"}], \"pie\": [{\"automargin\": true, \"type\": \"pie\"}], \"scatter\": [{\"marker\": {\"colorbar\": {\"outlinewidth\": 0, \"ticks\": \"\"}}, \"type\": \"scatter\"}], \"scatter3d\": [{\"line\": {\"colorbar\": {\"outlinewidth\": 0, \"ticks\": \"\"}}, \"marker\": {\"colorbar\": {\"outlinewidth\": 0, \"ticks\": \"\"}}, \"type\": \"scatter3d\"}], \"scattercarpet\": [{\"marker\": {\"colorbar\": {\"outlinewidth\": 0, \"ticks\": \"\"}}, \"type\": \"scattercarpet\"}], \"scattergeo\": [{\"marker\": {\"colorbar\": {\"outlinewidth\": 0, \"ticks\": \"\"}}, \"type\": \"scattergeo\"}], \"scattergl\": [{\"marker\": {\"colorbar\": {\"outlinewidth\": 0, \"ticks\": \"\"}}, \"type\": \"scattergl\"}], \"scattermapbox\": [{\"marker\": {\"colorbar\": {\"outlinewidth\": 0, \"ticks\": \"\"}}, \"type\": \"scattermapbox\"}], \"scatterpolar\": [{\"marker\": {\"colorbar\": {\"outlinewidth\": 0, \"ticks\": \"\"}}, \"type\": \"scatterpolar\"}], \"scatterpolargl\": [{\"marker\": {\"colorbar\": {\"outlinewidth\": 0, \"ticks\": \"\"}}, \"type\": \"scatterpolargl\"}], \"scatterternary\": [{\"marker\": {\"colorbar\": {\"outlinewidth\": 0, \"ticks\": \"\"}}, \"type\": \"scatterternary\"}], \"surface\": [{\"colorbar\": {\"outlinewidth\": 0, \"ticks\": \"\"}, \"colorscale\": [[0.0, \"#0d0887\"], [0.1111111111111111, \"#46039f\"], [0.2222222222222222, \"#7201a8\"], [0.3333333333333333, \"#9c179e\"], [0.4444444444444444, \"#bd3786\"], [0.5555555555555556, \"#d8576b\"], [0.6666666666666666, \"#ed7953\"], [0.7777777777777778, \"#fb9f3a\"], [0.8888888888888888, \"#fdca26\"], [1.0, \"#f0f921\"]], \"type\": \"surface\"}], \"table\": [{\"cells\": {\"fill\": {\"color\": \"#EBF0F8\"}, \"line\": {\"color\": \"white\"}}, \"header\": {\"fill\": {\"color\": \"#C8D4E3\"}, \"line\": {\"color\": \"white\"}}, \"type\": \"table\"}]}, \"layout\": {\"annotationdefaults\": {\"arrowcolor\": \"#2a3f5f\", \"arrowhead\": 0, \"arrowwidth\": 1}, \"autotypenumbers\": \"strict\", \"coloraxis\": {\"colorbar\": {\"outlinewidth\": 0, \"ticks\": \"\"}}, \"colorscale\": {\"diverging\": [[0, \"#8e0152\"], [0.1, \"#c51b7d\"], [0.2, \"#de77ae\"], [0.3, \"#f1b6da\"], [0.4, \"#fde0ef\"], [0.5, \"#f7f7f7\"], [0.6, \"#e6f5d0\"], [0.7, \"#b8e186\"], [0.8, \"#7fbc41\"], [0.9, \"#4d9221\"], [1, \"#276419\"]], \"sequential\": [[0.0, \"#0d0887\"], [0.1111111111111111, \"#46039f\"], [0.2222222222222222, \"#7201a8\"], [0.3333333333333333, \"#9c179e\"], [0.4444444444444444, \"#bd3786\"], [0.5555555555555556, \"#d8576b\"], [0.6666666666666666, \"#ed7953\"], [0.7777777777777778, \"#fb9f3a\"], [0.8888888888888888, \"#fdca26\"], [1.0, \"#f0f921\"]], \"sequentialminus\": [[0.0, \"#0d0887\"], [0.1111111111111111, \"#46039f\"], [0.2222222222222222, \"#7201a8\"], [0.3333333333333333, \"#9c179e\"], [0.4444444444444444, \"#bd3786\"], [0.5555555555555556, \"#d8576b\"], [0.6666666666666666, \"#ed7953\"], [0.7777777777777778, \"#fb9f3a\"], [0.8888888888888888, \"#fdca26\"], [1.0, \"#f0f921\"]]}, \"colorway\": [\"#636efa\", \"#EF553B\", \"#00cc96\", \"#ab63fa\", \"#FFA15A\", \"#19d3f3\", \"#FF6692\", \"#B6E880\", \"#FF97FF\", \"#FECB52\"], \"font\": {\"color\": \"#2a3f5f\"}, \"geo\": {\"bgcolor\": \"white\", \"lakecolor\": \"white\", \"landcolor\": \"#E5ECF6\", \"showlakes\": true, \"showland\": true, \"subunitcolor\": \"white\"}, \"hoverlabel\": {\"align\": \"left\"}, \"hovermode\": \"closest\", \"mapbox\": {\"style\": \"light\"}, \"paper_bgcolor\": \"white\", \"plot_bgcolor\": \"#E5ECF6\", \"polar\": {\"angularaxis\": {\"gridcolor\": \"white\", \"linecolor\": \"white\", \"ticks\": \"\"}, \"bgcolor\": \"#E5ECF6\", \"radialaxis\": {\"gridcolor\": \"white\", \"linecolor\": \"white\", \"ticks\": \"\"}}, \"scene\": {\"xaxis\": {\"backgroundcolor\": \"#E5ECF6\", \"gridcolor\": \"white\", \"gridwidth\": 2, \"linecolor\": \"white\", \"showbackground\": true, \"ticks\": \"\", \"zerolinecolor\": \"white\"}, \"yaxis\": {\"backgroundcolor\": \"#E5ECF6\", \"gridcolor\": \"white\", \"gridwidth\": 2, \"linecolor\": \"white\", \"showbackground\": true, \"ticks\": \"\", \"zerolinecolor\": \"white\"}, \"zaxis\": {\"backgroundcolor\": \"#E5ECF6\", \"gridcolor\": \"white\", \"gridwidth\": 2, \"linecolor\": \"white\", \"showbackground\": true, \"ticks\": \"\", \"zerolinecolor\": \"white\"}}, \"shapedefaults\": {\"line\": {\"color\": \"#2a3f5f\"}}, \"ternary\": {\"aaxis\": {\"gridcolor\": \"white\", \"linecolor\": \"white\", \"ticks\": \"\"}, \"baxis\": {\"gridcolor\": \"white\", \"linecolor\": \"white\", \"ticks\": \"\"}, \"bgcolor\": \"#E5ECF6\", \"caxis\": {\"gridcolor\": \"white\", \"linecolor\": \"white\", \"ticks\": \"\"}}, \"title\": {\"x\": 0.05}, \"xaxis\": {\"automargin\": true, \"gridcolor\": \"white\", \"linecolor\": \"white\", \"ticks\": \"\", \"title\": {\"standoff\": 15}, \"zerolinecolor\": \"white\", \"zerolinewidth\": 2}, \"yaxis\": {\"automargin\": true, \"gridcolor\": \"white\", \"linecolor\": \"white\", \"ticks\": \"\", \"title\": {\"standoff\": 15}, \"zerolinecolor\": \"white\", \"zerolinewidth\": 2}}}, \"title\": {\"text\": \"Spend impressions and pageviews\"}, \"xaxis\": {\"title\": {\"text\": \"Date\"}}, \"yaxis\": {\"title\": {\"text\": \"Value\"}}, \"yaxis2\": {\"overlaying\": \"y\", \"side\": \"right\", \"title\": {\"text\": \"Value2\"}}},                        {\"responsive\": true}                    ).then(function(){\n",
       "                            \n",
       "var gd = document.getElementById('6bdd0ea6-ce61-4a6c-a9d8-404558a66d7c');\n",
       "var x = new MutationObserver(function (mutations, observer) {{\n",
       "        var display = window.getComputedStyle(gd).display;\n",
       "        if (!display || display === 'none') {{\n",
       "            console.log([gd, 'removed!']);\n",
       "            Plotly.purge(gd);\n",
       "            observer.disconnect();\n",
       "        }}\n",
       "}});\n",
       "\n",
       "// Listen for the removal of the full notebook cells\n",
       "var notebookContainer = gd.closest('#notebook-container');\n",
       "if (notebookContainer) {{\n",
       "    x.observe(notebookContainer, {childList: true});\n",
       "}}\n",
       "\n",
       "// Listen for the clearing of the current output cell\n",
       "var outputEl = gd.closest('.output');\n",
       "if (outputEl) {{\n",
       "    x.observe(outputEl, {childList: true});\n",
       "}}\n",
       "\n",
       "                        })                };                });            </script>        </div>"
      ]
     },
     "metadata": {},
     "output_type": "display_data"
    }
   ],
   "source": [
    "multiplot(df2, plot_df, fig_title,x_val,col, x_label,bar_mode)"
   ]
  }
 ],
 "metadata": {
  "kernelspec": {
   "display_name": "Python 3",
   "language": "python",
   "name": "python3"
  },
  "language_info": {
   "codemirror_mode": {
    "name": "ipython",
    "version": 3
   },
   "file_extension": ".py",
   "mimetype": "text/x-python",
   "name": "python",
   "nbconvert_exporter": "python",
   "pygments_lexer": "ipython3",
   "version": "3.8.8"
  }
 },
 "nbformat": 4,
 "nbformat_minor": 4
}
