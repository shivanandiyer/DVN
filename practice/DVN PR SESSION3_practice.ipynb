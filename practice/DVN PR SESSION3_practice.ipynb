{
 "cells": [
  {
   "cell_type": "markdown",
   "metadata": {},
   "source": [
    "## Import libraries"
   ]
  },
  {
   "cell_type": "code",
   "execution_count": 1,
   "metadata": {},
   "outputs": [
    {
     "data": {
      "text/html": [
       "        <script type=\"text/javascript\">\n",
       "        window.PlotlyConfig = {MathJaxConfig: 'local'};\n",
       "        if (window.MathJax) {MathJax.Hub.Config({SVG: {font: \"STIX-Web\"}});}\n",
       "        if (typeof require !== 'undefined') {\n",
       "        require.undef(\"plotly\");\n",
       "        requirejs.config({\n",
       "            paths: {\n",
       "                'plotly': ['https://cdn.plot.ly/plotly-latest.min']\n",
       "            }\n",
       "        });\n",
       "        require(['plotly'], function(Plotly) {\n",
       "            window._Plotly = Plotly;\n",
       "        });\n",
       "        }\n",
       "        </script>\n",
       "        "
      ]
     },
     "metadata": {},
     "output_type": "display_data"
    },
    {
     "data": {
      "text/html": [
       "        <script type=\"text/javascript\">\n",
       "        window.PlotlyConfig = {MathJaxConfig: 'local'};\n",
       "        if (window.MathJax) {MathJax.Hub.Config({SVG: {font: \"STIX-Web\"}});}\n",
       "        if (typeof require !== 'undefined') {\n",
       "        require.undef(\"plotly\");\n",
       "        requirejs.config({\n",
       "            paths: {\n",
       "                'plotly': ['https://cdn.plot.ly/plotly-latest.min']\n",
       "            }\n",
       "        });\n",
       "        require(['plotly'], function(Plotly) {\n",
       "            window._Plotly = Plotly;\n",
       "        });\n",
       "        }\n",
       "        </script>\n",
       "        "
      ]
     },
     "metadata": {},
     "output_type": "display_data"
    }
   ],
   "source": [
    "import pandas as pd\n",
    "\n",
    "import matplotlib.pyplot as plt\n",
    "%matplotlib inline\n",
    "\n",
    "import chart_studio.plotly as py\n",
    "import plotly.graph_objs as go\n",
    "from plotly.offline import iplot, init_notebook_mode\n",
    "import plotly.express as px\n",
    "\n",
    "import cufflinks\n",
    "cufflinks.go_offline(connected=True)\n",
    "init_notebook_mode(connected=True)"
   ]
  },
  {
   "cell_type": "markdown",
   "metadata": {},
   "source": [
    "## Load data"
   ]
  },
  {
   "cell_type": "code",
   "execution_count": 28,
   "metadata": {},
   "outputs": [],
   "source": [
    "path=path=\"C:\\\\Users\\\\\"# <--------change the directory\n",
    "file=\"Data PV SP IMP.xlsx\"#\"data Aug 04 - Aug 24.xlsx\"#\n",
    "\n",
    "df=pd.read_excel(path+file)"
   ]
  },
  {
   "cell_type": "code",
   "execution_count": 29,
   "metadata": {},
   "outputs": [
    {
     "data": {
      "text/html": [
       "<div>\n",
       "<style scoped>\n",
       "    .dataframe tbody tr th:only-of-type {\n",
       "        vertical-align: middle;\n",
       "    }\n",
       "\n",
       "    .dataframe tbody tr th {\n",
       "        vertical-align: top;\n",
       "    }\n",
       "\n",
       "    .dataframe thead th {\n",
       "        text-align: right;\n",
       "    }\n",
       "</style>\n",
       "<table border=\"1\" class=\"dataframe\">\n",
       "  <thead>\n",
       "    <tr style=\"text-align: right;\">\n",
       "      <th></th>\n",
       "      <th>Date</th>\n",
       "      <th>Hour</th>\n",
       "      <th>Page Views</th>\n",
       "      <th>Weekday</th>\n",
       "      <th>Month</th>\n",
       "      <th>NetA_imp</th>\n",
       "      <th>NetA_spd</th>\n",
       "      <th>NetB_imp</th>\n",
       "      <th>NetB_spd</th>\n",
       "    </tr>\n",
       "  </thead>\n",
       "  <tbody>\n",
       "    <tr>\n",
       "      <th>0</th>\n",
       "      <td>2019-07-07</td>\n",
       "      <td>0</td>\n",
       "      <td>62</td>\n",
       "      <td>Sun</td>\n",
       "      <td>Jul</td>\n",
       "      <td>11</td>\n",
       "      <td>0</td>\n",
       "      <td>32</td>\n",
       "      <td>0</td>\n",
       "    </tr>\n",
       "    <tr>\n",
       "      <th>1</th>\n",
       "      <td>2019-07-07</td>\n",
       "      <td>1</td>\n",
       "      <td>33</td>\n",
       "      <td>Sun</td>\n",
       "      <td>Jul</td>\n",
       "      <td>0</td>\n",
       "      <td>0</td>\n",
       "      <td>10</td>\n",
       "      <td>0</td>\n",
       "    </tr>\n",
       "    <tr>\n",
       "      <th>2</th>\n",
       "      <td>2019-07-07</td>\n",
       "      <td>2</td>\n",
       "      <td>15</td>\n",
       "      <td>Sun</td>\n",
       "      <td>Jul</td>\n",
       "      <td>0</td>\n",
       "      <td>0</td>\n",
       "      <td>16</td>\n",
       "      <td>0</td>\n",
       "    </tr>\n",
       "    <tr>\n",
       "      <th>3</th>\n",
       "      <td>2019-07-07</td>\n",
       "      <td>3</td>\n",
       "      <td>17</td>\n",
       "      <td>Sun</td>\n",
       "      <td>Jul</td>\n",
       "      <td>0</td>\n",
       "      <td>0</td>\n",
       "      <td>18</td>\n",
       "      <td>0</td>\n",
       "    </tr>\n",
       "    <tr>\n",
       "      <th>4</th>\n",
       "      <td>2019-07-07</td>\n",
       "      <td>4</td>\n",
       "      <td>12</td>\n",
       "      <td>Sun</td>\n",
       "      <td>Jul</td>\n",
       "      <td>0</td>\n",
       "      <td>0</td>\n",
       "      <td>9</td>\n",
       "      <td>0</td>\n",
       "    </tr>\n",
       "  </tbody>\n",
       "</table>\n",
       "</div>"
      ],
      "text/plain": [
       "        Date  Hour  Page Views Weekday Month  NetA_imp  NetA_spd  NetB_imp  \\\n",
       "0 2019-07-07     0          62     Sun   Jul        11         0        32   \n",
       "1 2019-07-07     1          33     Sun   Jul         0         0        10   \n",
       "2 2019-07-07     2          15     Sun   Jul         0         0        16   \n",
       "3 2019-07-07     3          17     Sun   Jul         0         0        18   \n",
       "4 2019-07-07     4          12     Sun   Jul         0         0         9   \n",
       "\n",
       "   NetB_spd  \n",
       "0         0  \n",
       "1         0  \n",
       "2         0  \n",
       "3         0  \n",
       "4         0  "
      ]
     },
     "execution_count": 29,
     "metadata": {},
     "output_type": "execute_result"
    }
   ],
   "source": [
    "df.head()"
   ]
  },
  {
   "cell_type": "markdown",
   "metadata": {},
   "source": [
    "## Data description"
   ]
  },
  {
   "cell_type": "code",
   "execution_count": 3,
   "metadata": {},
   "outputs": [
    {
     "data": {
      "text/html": [
       "<div>\n",
       "<style scoped>\n",
       "    .dataframe tbody tr th:only-of-type {\n",
       "        vertical-align: middle;\n",
       "    }\n",
       "\n",
       "    .dataframe tbody tr th {\n",
       "        vertical-align: top;\n",
       "    }\n",
       "\n",
       "    .dataframe thead th {\n",
       "        text-align: right;\n",
       "    }\n",
       "</style>\n",
       "<table border=\"1\" class=\"dataframe\">\n",
       "  <thead>\n",
       "    <tr style=\"text-align: right;\">\n",
       "      <th></th>\n",
       "      <th>Date</th>\n",
       "      <th>Hour</th>\n",
       "      <th>Page Views</th>\n",
       "      <th>Weekday</th>\n",
       "      <th>Month</th>\n",
       "      <th>NetA_imp</th>\n",
       "      <th>NetA_spd</th>\n",
       "      <th>NetB_imp</th>\n",
       "      <th>NetB_spd</th>\n",
       "    </tr>\n",
       "  </thead>\n",
       "  <tbody>\n",
       "    <tr>\n",
       "      <th>0</th>\n",
       "      <td>2019-07-07</td>\n",
       "      <td>0</td>\n",
       "      <td>62</td>\n",
       "      <td>Sun</td>\n",
       "      <td>Jul</td>\n",
       "      <td>11</td>\n",
       "      <td>0</td>\n",
       "      <td>32</td>\n",
       "      <td>0</td>\n",
       "    </tr>\n",
       "    <tr>\n",
       "      <th>1</th>\n",
       "      <td>2019-07-07</td>\n",
       "      <td>1</td>\n",
       "      <td>33</td>\n",
       "      <td>Sun</td>\n",
       "      <td>Jul</td>\n",
       "      <td>0</td>\n",
       "      <td>0</td>\n",
       "      <td>10</td>\n",
       "      <td>0</td>\n",
       "    </tr>\n",
       "    <tr>\n",
       "      <th>2</th>\n",
       "      <td>2019-07-07</td>\n",
       "      <td>2</td>\n",
       "      <td>15</td>\n",
       "      <td>Sun</td>\n",
       "      <td>Jul</td>\n",
       "      <td>0</td>\n",
       "      <td>0</td>\n",
       "      <td>16</td>\n",
       "      <td>0</td>\n",
       "    </tr>\n",
       "    <tr>\n",
       "      <th>3</th>\n",
       "      <td>2019-07-07</td>\n",
       "      <td>3</td>\n",
       "      <td>17</td>\n",
       "      <td>Sun</td>\n",
       "      <td>Jul</td>\n",
       "      <td>0</td>\n",
       "      <td>0</td>\n",
       "      <td>18</td>\n",
       "      <td>0</td>\n",
       "    </tr>\n",
       "    <tr>\n",
       "      <th>4</th>\n",
       "      <td>2019-07-07</td>\n",
       "      <td>4</td>\n",
       "      <td>12</td>\n",
       "      <td>Sun</td>\n",
       "      <td>Jul</td>\n",
       "      <td>0</td>\n",
       "      <td>0</td>\n",
       "      <td>9</td>\n",
       "      <td>0</td>\n",
       "    </tr>\n",
       "  </tbody>\n",
       "</table>\n",
       "</div>"
      ],
      "text/plain": [
       "        Date  Hour  Page Views Weekday Month  NetA_imp  NetA_spd  NetB_imp  \\\n",
       "0 2019-07-07     0          62     Sun   Jul        11         0        32   \n",
       "1 2019-07-07     1          33     Sun   Jul         0         0        10   \n",
       "2 2019-07-07     2          15     Sun   Jul         0         0        16   \n",
       "3 2019-07-07     3          17     Sun   Jul         0         0        18   \n",
       "4 2019-07-07     4          12     Sun   Jul         0         0         9   \n",
       "\n",
       "   NetB_spd  \n",
       "0         0  \n",
       "1         0  \n",
       "2         0  \n",
       "3         0  \n",
       "4         0  "
      ]
     },
     "execution_count": 3,
     "metadata": {},
     "output_type": "execute_result"
    }
   ],
   "source": [
    "df.head()"
   ]
  },
  {
   "cell_type": "code",
   "execution_count": 4,
   "metadata": {},
   "outputs": [
    {
     "data": {
      "text/html": [
       "<div>\n",
       "<style scoped>\n",
       "    .dataframe tbody tr th:only-of-type {\n",
       "        vertical-align: middle;\n",
       "    }\n",
       "\n",
       "    .dataframe tbody tr th {\n",
       "        vertical-align: top;\n",
       "    }\n",
       "\n",
       "    .dataframe thead th {\n",
       "        text-align: right;\n",
       "    }\n",
       "</style>\n",
       "<table border=\"1\" class=\"dataframe\">\n",
       "  <thead>\n",
       "    <tr style=\"text-align: right;\">\n",
       "      <th></th>\n",
       "      <th>Hour</th>\n",
       "      <th>Page Views</th>\n",
       "      <th>NetA_imp</th>\n",
       "      <th>NetA_spd</th>\n",
       "      <th>NetB_imp</th>\n",
       "      <th>NetB_spd</th>\n",
       "    </tr>\n",
       "  </thead>\n",
       "  <tbody>\n",
       "    <tr>\n",
       "      <th>count</th>\n",
       "      <td>1176.000000</td>\n",
       "      <td>1176.000000</td>\n",
       "      <td>1176.000000</td>\n",
       "      <td>1176.000000</td>\n",
       "      <td>1176.000000</td>\n",
       "      <td>1176.000000</td>\n",
       "    </tr>\n",
       "    <tr>\n",
       "      <th>mean</th>\n",
       "      <td>11.500000</td>\n",
       "      <td>139.416667</td>\n",
       "      <td>5.071429</td>\n",
       "      <td>103.947279</td>\n",
       "      <td>5.687075</td>\n",
       "      <td>117.560374</td>\n",
       "    </tr>\n",
       "    <tr>\n",
       "      <th>std</th>\n",
       "      <td>6.925132</td>\n",
       "      <td>91.944210</td>\n",
       "      <td>14.669639</td>\n",
       "      <td>445.709312</td>\n",
       "      <td>14.566030</td>\n",
       "      <td>486.839553</td>\n",
       "    </tr>\n",
       "    <tr>\n",
       "      <th>min</th>\n",
       "      <td>0.000000</td>\n",
       "      <td>4.000000</td>\n",
       "      <td>0.000000</td>\n",
       "      <td>0.000000</td>\n",
       "      <td>0.000000</td>\n",
       "      <td>0.000000</td>\n",
       "    </tr>\n",
       "    <tr>\n",
       "      <th>25%</th>\n",
       "      <td>5.750000</td>\n",
       "      <td>44.750000</td>\n",
       "      <td>0.000000</td>\n",
       "      <td>0.000000</td>\n",
       "      <td>0.000000</td>\n",
       "      <td>0.000000</td>\n",
       "    </tr>\n",
       "    <tr>\n",
       "      <th>50%</th>\n",
       "      <td>11.500000</td>\n",
       "      <td>147.000000</td>\n",
       "      <td>0.000000</td>\n",
       "      <td>0.000000</td>\n",
       "      <td>0.000000</td>\n",
       "      <td>0.000000</td>\n",
       "    </tr>\n",
       "    <tr>\n",
       "      <th>75%</th>\n",
       "      <td>17.250000</td>\n",
       "      <td>213.250000</td>\n",
       "      <td>3.000000</td>\n",
       "      <td>0.000000</td>\n",
       "      <td>4.000000</td>\n",
       "      <td>0.000000</td>\n",
       "    </tr>\n",
       "    <tr>\n",
       "      <th>max</th>\n",
       "      <td>23.000000</td>\n",
       "      <td>580.000000</td>\n",
       "      <td>245.000000</td>\n",
       "      <td>5788.000000</td>\n",
       "      <td>127.000000</td>\n",
       "      <td>6116.000000</td>\n",
       "    </tr>\n",
       "  </tbody>\n",
       "</table>\n",
       "</div>"
      ],
      "text/plain": [
       "              Hour   Page Views     NetA_imp     NetA_spd     NetB_imp  \\\n",
       "count  1176.000000  1176.000000  1176.000000  1176.000000  1176.000000   \n",
       "mean     11.500000   139.416667     5.071429   103.947279     5.687075   \n",
       "std       6.925132    91.944210    14.669639   445.709312    14.566030   \n",
       "min       0.000000     4.000000     0.000000     0.000000     0.000000   \n",
       "25%       5.750000    44.750000     0.000000     0.000000     0.000000   \n",
       "50%      11.500000   147.000000     0.000000     0.000000     0.000000   \n",
       "75%      17.250000   213.250000     3.000000     0.000000     4.000000   \n",
       "max      23.000000   580.000000   245.000000  5788.000000   127.000000   \n",
       "\n",
       "          NetB_spd  \n",
       "count  1176.000000  \n",
       "mean    117.560374  \n",
       "std     486.839553  \n",
       "min       0.000000  \n",
       "25%       0.000000  \n",
       "50%       0.000000  \n",
       "75%       0.000000  \n",
       "max    6116.000000  "
      ]
     },
     "execution_count": 4,
     "metadata": {},
     "output_type": "execute_result"
    }
   ],
   "source": [
    "df.describe()"
   ]
  },
  {
   "cell_type": "code",
   "execution_count": 5,
   "metadata": {},
   "outputs": [
    {
     "data": {
      "text/html": [
       "<div>\n",
       "<style scoped>\n",
       "    .dataframe tbody tr th:only-of-type {\n",
       "        vertical-align: middle;\n",
       "    }\n",
       "\n",
       "    .dataframe tbody tr th {\n",
       "        vertical-align: top;\n",
       "    }\n",
       "\n",
       "    .dataframe thead th {\n",
       "        text-align: right;\n",
       "    }\n",
       "</style>\n",
       "<table border=\"1\" class=\"dataframe\">\n",
       "  <thead>\n",
       "    <tr style=\"text-align: right;\">\n",
       "      <th></th>\n",
       "      <th>Page Views</th>\n",
       "      <th>NetA_imp</th>\n",
       "      <th>NetA_spd</th>\n",
       "      <th>NetB_imp</th>\n",
       "      <th>NetB_spd</th>\n",
       "    </tr>\n",
       "  </thead>\n",
       "  <tbody>\n",
       "    <tr>\n",
       "      <th>count</th>\n",
       "      <td>1176.000000</td>\n",
       "      <td>1176.000000</td>\n",
       "      <td>1176.000000</td>\n",
       "      <td>1176.000000</td>\n",
       "      <td>1176.000000</td>\n",
       "    </tr>\n",
       "    <tr>\n",
       "      <th>mean</th>\n",
       "      <td>139.416667</td>\n",
       "      <td>5.071429</td>\n",
       "      <td>103.947279</td>\n",
       "      <td>5.687075</td>\n",
       "      <td>117.560374</td>\n",
       "    </tr>\n",
       "    <tr>\n",
       "      <th>std</th>\n",
       "      <td>91.944210</td>\n",
       "      <td>14.669639</td>\n",
       "      <td>445.709312</td>\n",
       "      <td>14.566030</td>\n",
       "      <td>486.839553</td>\n",
       "    </tr>\n",
       "    <tr>\n",
       "      <th>min</th>\n",
       "      <td>4.000000</td>\n",
       "      <td>0.000000</td>\n",
       "      <td>0.000000</td>\n",
       "      <td>0.000000</td>\n",
       "      <td>0.000000</td>\n",
       "    </tr>\n",
       "    <tr>\n",
       "      <th>25%</th>\n",
       "      <td>44.750000</td>\n",
       "      <td>0.000000</td>\n",
       "      <td>0.000000</td>\n",
       "      <td>0.000000</td>\n",
       "      <td>0.000000</td>\n",
       "    </tr>\n",
       "    <tr>\n",
       "      <th>50%</th>\n",
       "      <td>147.000000</td>\n",
       "      <td>0.000000</td>\n",
       "      <td>0.000000</td>\n",
       "      <td>0.000000</td>\n",
       "      <td>0.000000</td>\n",
       "    </tr>\n",
       "    <tr>\n",
       "      <th>75%</th>\n",
       "      <td>213.250000</td>\n",
       "      <td>3.000000</td>\n",
       "      <td>0.000000</td>\n",
       "      <td>4.000000</td>\n",
       "      <td>0.000000</td>\n",
       "    </tr>\n",
       "    <tr>\n",
       "      <th>max</th>\n",
       "      <td>580.000000</td>\n",
       "      <td>245.000000</td>\n",
       "      <td>5788.000000</td>\n",
       "      <td>127.000000</td>\n",
       "      <td>6116.000000</td>\n",
       "    </tr>\n",
       "  </tbody>\n",
       "</table>\n",
       "</div>"
      ],
      "text/plain": [
       "        Page Views     NetA_imp     NetA_spd     NetB_imp     NetB_spd\n",
       "count  1176.000000  1176.000000  1176.000000  1176.000000  1176.000000\n",
       "mean    139.416667     5.071429   103.947279     5.687075   117.560374\n",
       "std      91.944210    14.669639   445.709312    14.566030   486.839553\n",
       "min       4.000000     0.000000     0.000000     0.000000     0.000000\n",
       "25%      44.750000     0.000000     0.000000     0.000000     0.000000\n",
       "50%     147.000000     0.000000     0.000000     0.000000     0.000000\n",
       "75%     213.250000     3.000000     0.000000     4.000000     0.000000\n",
       "max     580.000000   245.000000  5788.000000   127.000000  6116.000000"
      ]
     },
     "execution_count": 5,
     "metadata": {},
     "output_type": "execute_result"
    }
   ],
   "source": [
    "df[['Page Views', 'NetA_imp', \"NetA_spd\",'NetB_imp', \"NetB_spd\"]].describe()"
   ]
  },
  {
   "cell_type": "markdown",
   "metadata": {},
   "source": [
    "## Pie & Donut charts"
   ]
  },
  {
   "cell_type": "code",
   "execution_count": 6,
   "metadata": {},
   "outputs": [],
   "source": [
    "file1=\"Data - Historical Sales.xlsx\"\n",
    "df1=pd.read_excel(path+file1)"
   ]
  },
  {
   "cell_type": "code",
   "execution_count": 23,
   "metadata": {},
   "outputs": [
    {
     "data": {
      "text/html": [
       "<div>\n",
       "<style scoped>\n",
       "    .dataframe tbody tr th:only-of-type {\n",
       "        vertical-align: middle;\n",
       "    }\n",
       "\n",
       "    .dataframe tbody tr th {\n",
       "        vertical-align: top;\n",
       "    }\n",
       "\n",
       "    .dataframe thead th {\n",
       "        text-align: right;\n",
       "    }\n",
       "</style>\n",
       "<table border=\"1\" class=\"dataframe\">\n",
       "  <thead>\n",
       "    <tr style=\"text-align: right;\">\n",
       "      <th></th>\n",
       "      <th>Financial Year</th>\n",
       "      <th>WC Date</th>\n",
       "      <th>State</th>\n",
       "      <th>Sales</th>\n",
       "      <th>Month</th>\n",
       "    </tr>\n",
       "  </thead>\n",
       "  <tbody>\n",
       "    <tr>\n",
       "      <th>0</th>\n",
       "      <td>FY18</td>\n",
       "      <td>2017-09-03</td>\n",
       "      <td>ACT</td>\n",
       "      <td>454505.537543</td>\n",
       "      <td>Sep</td>\n",
       "    </tr>\n",
       "    <tr>\n",
       "      <th>1</th>\n",
       "      <td>FY18</td>\n",
       "      <td>2017-09-10</td>\n",
       "      <td>ACT</td>\n",
       "      <td>480922.468131</td>\n",
       "      <td>Sep</td>\n",
       "    </tr>\n",
       "    <tr>\n",
       "      <th>2</th>\n",
       "      <td>FY18</td>\n",
       "      <td>2017-09-17</td>\n",
       "      <td>ACT</td>\n",
       "      <td>442120.957001</td>\n",
       "      <td>Sep</td>\n",
       "    </tr>\n",
       "    <tr>\n",
       "      <th>3</th>\n",
       "      <td>FY18</td>\n",
       "      <td>2017-09-24</td>\n",
       "      <td>ACT</td>\n",
       "      <td>614161.328056</td>\n",
       "      <td>Sep</td>\n",
       "    </tr>\n",
       "    <tr>\n",
       "      <th>4</th>\n",
       "      <td>FY18</td>\n",
       "      <td>2017-10-01</td>\n",
       "      <td>ACT</td>\n",
       "      <td>573988.744290</td>\n",
       "      <td>Oct</td>\n",
       "    </tr>\n",
       "  </tbody>\n",
       "</table>\n",
       "</div>"
      ],
      "text/plain": [
       "  Financial Year    WC Date State          Sales Month\n",
       "0           FY18 2017-09-03   ACT  454505.537543   Sep\n",
       "1           FY18 2017-09-10   ACT  480922.468131   Sep\n",
       "2           FY18 2017-09-17   ACT  442120.957001   Sep\n",
       "3           FY18 2017-09-24   ACT  614161.328056   Sep\n",
       "4           FY18 2017-10-01   ACT  573988.744290   Oct"
      ]
     },
     "execution_count": 23,
     "metadata": {},
     "output_type": "execute_result"
    }
   ],
   "source": [
    "df1.head()"
   ]
  },
  {
   "cell_type": "code",
   "execution_count": 7,
   "metadata": {},
   "outputs": [
    {
     "data": {
      "text/plain": [
       "array(['FY18', 'FY19', 'FY20'], dtype=object)"
      ]
     },
     "execution_count": 7,
     "metadata": {},
     "output_type": "execute_result"
    }
   ],
   "source": [
    "#df1[df1['State']=='ACT']['Financial Year'].unique()"
   ]
  },
  {
   "cell_type": "code",
   "execution_count": 8,
   "metadata": {},
   "outputs": [
    {
     "data": {
      "application/vnd.plotly.v1+json": {
       "config": {
        "plotlyServerURL": "https://plot.ly"
       },
       "data": [
        {
         "domain": {
          "x": [
           0,
           1
          ],
          "y": [
           0,
           1
          ]
         },
         "hovertemplate": "State=%{label}<br>Sales=%{value}<extra></extra>",
         "labels": [
          "ACT",
          "ACT",
          "ACT",
          "ACT",
          "ACT",
          "ACT",
          "ACT",
          "ACT",
          "ACT",
          "ACT",
          "ACT",
          "ACT",
          "ACT",
          "ACT",
          "ACT",
          "ACT",
          "ACT",
          "ACT",
          "ACT",
          "ACT",
          "ACT",
          "ACT",
          "ACT",
          "ACT",
          "ACT",
          "ACT",
          "ACT",
          "ACT",
          "ACT",
          "ACT",
          "ACT",
          "ACT",
          "ACT",
          "ACT",
          "ACT",
          "ACT",
          "ACT",
          "ACT",
          "ACT",
          "ACT",
          "ACT",
          "ACT",
          "ACT",
          "ACT",
          "ACT",
          "ACT",
          "ACT",
          "ACT",
          "ACT",
          "ACT",
          "ACT",
          "ACT",
          "ACT",
          "ACT",
          "ACT",
          "ACT",
          "ACT",
          "ACT",
          "ACT",
          "ACT",
          "ACT",
          "ACT",
          "ACT",
          "ACT",
          "ACT",
          "ACT",
          "ACT",
          "ACT",
          "ACT",
          "ACT",
          "ACT",
          "ACT",
          "ACT",
          "ACT",
          "ACT",
          "ACT",
          "ACT",
          "ACT",
          "ACT",
          "ACT",
          "ACT",
          "ACT",
          "ACT",
          "ACT",
          "ACT",
          "ACT",
          "ACT",
          "ACT",
          "ACT",
          "ACT",
          "ACT",
          "ACT",
          "ACT",
          "ACT",
          "ACT",
          "ACT",
          "ACT",
          "ACT",
          "ACT",
          "ACT",
          "ACT",
          "ACT",
          "ACT",
          "ACT",
          "ACT",
          "ACT",
          "ACT",
          "ACT",
          "ACT",
          "ACT",
          "ACT",
          "ACT",
          "ACT",
          "ACT",
          "ACT",
          "ACT",
          "ACT",
          "ACT",
          "ACT",
          "ACT",
          "ACT",
          "ACT",
          "ACT",
          "ACT",
          "ACT",
          "ACT",
          "ACT",
          "ACT",
          "ACT",
          "ACT",
          "ACT",
          "ACT",
          "ACT",
          "ACT",
          "ACT",
          "ACT",
          "ACT",
          "ACT",
          "ACT",
          "ACT",
          "ACT",
          "ACT",
          "ACT",
          "ACT",
          "ACT",
          "ACT",
          "ACT",
          "ACT",
          "ACT",
          "ACT",
          "ACT",
          "ACT",
          "ACT",
          "ACT",
          "ACT",
          "ACT",
          "NSW",
          "NSW",
          "NSW",
          "NSW",
          "NSW",
          "NSW",
          "NSW",
          "NSW",
          "NSW",
          "NSW",
          "NSW",
          "NSW",
          "NSW",
          "NSW",
          "NSW",
          "NSW",
          "NSW",
          "NSW",
          "NSW",
          "NSW",
          "NSW",
          "NSW",
          "NSW",
          "NSW",
          "NSW",
          "NSW",
          "NSW",
          "NSW",
          "NSW",
          "NSW",
          "NSW",
          "NSW",
          "NSW",
          "NSW",
          "NSW",
          "NSW",
          "NSW",
          "NSW",
          "NSW",
          "NSW",
          "NSW",
          "NSW",
          "NSW",
          "NSW",
          "NSW",
          "NSW",
          "NSW",
          "NSW",
          "NSW",
          "NSW",
          "NSW",
          "NSW",
          "NSW",
          "NSW",
          "NSW",
          "NSW",
          "NSW",
          "NSW",
          "NSW",
          "NSW",
          "NSW",
          "NSW",
          "NSW",
          "NSW",
          "NSW",
          "NSW",
          "NSW",
          "NSW",
          "NSW",
          "NSW",
          "NSW",
          "NSW",
          "NSW",
          "NSW",
          "NSW",
          "NSW",
          "NSW",
          "NSW",
          "NSW",
          "NSW",
          "NSW",
          "NSW",
          "NSW",
          "NSW",
          "NSW",
          "NSW",
          "NSW",
          "NSW",
          "NSW",
          "NSW",
          "NSW",
          "NSW",
          "NSW",
          "NSW",
          "NSW",
          "NSW",
          "NSW",
          "NSW",
          "NSW",
          "NSW",
          "NSW",
          "NSW",
          "NSW",
          "NSW",
          "NSW",
          "NSW",
          "NSW",
          "NSW",
          "NSW",
          "NSW",
          "NSW",
          "NSW",
          "NSW",
          "NSW",
          "NSW",
          "NSW",
          "NSW",
          "NSW",
          "NSW",
          "NSW",
          "NSW",
          "NSW",
          "NSW",
          "NSW",
          "NSW",
          "NSW",
          "NSW",
          "NSW",
          "NSW",
          "NSW",
          "NSW",
          "NSW",
          "NSW",
          "NSW",
          "NSW",
          "NSW",
          "NSW",
          "NSW",
          "NSW",
          "NSW",
          "NSW",
          "NSW",
          "NSW",
          "NSW",
          "NSW",
          "NSW",
          "NSW",
          "NSW",
          "NSW",
          "NSW",
          "NSW",
          "NSW",
          "NSW",
          "NSW",
          "NSW",
          "NSW",
          "QLD",
          "QLD",
          "QLD",
          "QLD",
          "QLD",
          "QLD",
          "QLD",
          "QLD",
          "QLD",
          "QLD",
          "QLD",
          "QLD",
          "QLD",
          "QLD",
          "QLD",
          "QLD",
          "QLD",
          "QLD",
          "QLD",
          "QLD",
          "QLD",
          "QLD",
          "QLD",
          "QLD",
          "QLD",
          "QLD",
          "QLD",
          "QLD",
          "QLD",
          "QLD",
          "QLD",
          "QLD",
          "QLD",
          "QLD",
          "QLD",
          "QLD",
          "QLD",
          "QLD",
          "QLD",
          "QLD",
          "QLD",
          "QLD",
          "QLD",
          "QLD",
          "QLD",
          "QLD",
          "QLD",
          "QLD",
          "QLD",
          "QLD",
          "QLD",
          "QLD",
          "QLD",
          "QLD",
          "QLD",
          "QLD",
          "QLD",
          "QLD",
          "QLD",
          "QLD",
          "QLD",
          "QLD",
          "QLD",
          "QLD",
          "QLD",
          "QLD",
          "QLD",
          "QLD",
          "QLD",
          "QLD",
          "QLD",
          "QLD",
          "QLD",
          "QLD",
          "QLD",
          "QLD",
          "QLD",
          "QLD",
          "QLD",
          "QLD",
          "QLD",
          "QLD",
          "QLD",
          "QLD",
          "QLD",
          "QLD",
          "QLD",
          "QLD",
          "QLD",
          "QLD",
          "QLD",
          "QLD",
          "QLD",
          "QLD",
          "QLD",
          "QLD",
          "QLD",
          "QLD",
          "QLD",
          "QLD",
          "QLD",
          "QLD",
          "QLD",
          "QLD",
          "QLD",
          "QLD",
          "QLD",
          "QLD",
          "QLD",
          "QLD",
          "QLD",
          "QLD",
          "QLD",
          "QLD",
          "QLD",
          "QLD",
          "QLD",
          "QLD",
          "QLD",
          "QLD",
          "QLD",
          "QLD",
          "QLD",
          "QLD",
          "QLD",
          "QLD",
          "QLD",
          "QLD",
          "QLD",
          "QLD",
          "QLD",
          "QLD",
          "QLD",
          "QLD",
          "QLD",
          "QLD",
          "QLD",
          "QLD",
          "QLD",
          "QLD",
          "QLD",
          "QLD",
          "QLD",
          "QLD",
          "QLD",
          "QLD",
          "QLD",
          "QLD",
          "QLD",
          "QLD",
          "QLD",
          "QLD",
          "QLD",
          "QLD",
          "QLD",
          "QLD",
          "SA",
          "SA",
          "SA",
          "SA",
          "SA",
          "SA",
          "SA",
          "SA",
          "SA",
          "SA",
          "SA",
          "SA",
          "SA",
          "SA",
          "SA",
          "SA",
          "SA",
          "SA",
          "SA",
          "SA",
          "SA",
          "SA",
          "SA",
          "SA",
          "SA",
          "SA",
          "SA",
          "SA",
          "SA",
          "SA",
          "SA",
          "SA",
          "SA",
          "SA",
          "SA",
          "SA",
          "SA",
          "SA",
          "SA",
          "SA",
          "SA",
          "SA",
          "SA",
          "SA",
          "SA",
          "SA",
          "SA",
          "SA",
          "SA",
          "SA",
          "SA",
          "SA",
          "SA",
          "SA",
          "SA",
          "SA",
          "SA",
          "SA",
          "SA",
          "SA",
          "SA",
          "SA",
          "SA",
          "SA",
          "SA",
          "SA",
          "SA",
          "SA",
          "SA",
          "SA",
          "SA",
          "SA",
          "SA",
          "SA",
          "SA",
          "SA",
          "SA",
          "SA",
          "SA",
          "SA",
          "SA",
          "SA",
          "SA",
          "SA",
          "SA",
          "SA",
          "SA",
          "SA",
          "SA",
          "SA",
          "SA",
          "SA",
          "SA",
          "SA",
          "SA",
          "SA",
          "SA",
          "SA",
          "SA",
          "SA",
          "SA",
          "SA",
          "SA",
          "SA",
          "SA",
          "SA",
          "SA",
          "SA",
          "SA",
          "SA",
          "SA",
          "SA",
          "SA",
          "SA",
          "SA",
          "SA",
          "SA",
          "SA",
          "SA",
          "SA",
          "SA",
          "SA",
          "SA",
          "SA",
          "SA",
          "VIC",
          "VIC",
          "VIC",
          "VIC",
          "VIC",
          "VIC",
          "VIC",
          "VIC",
          "VIC",
          "VIC",
          "VIC",
          "VIC",
          "VIC",
          "VIC",
          "VIC",
          "VIC",
          "VIC",
          "VIC",
          "VIC",
          "VIC",
          "VIC",
          "VIC",
          "VIC",
          "VIC",
          "VIC",
          "VIC",
          "VIC",
          "VIC",
          "VIC",
          "VIC",
          "VIC",
          "VIC",
          "VIC",
          "VIC",
          "VIC",
          "VIC",
          "VIC",
          "VIC",
          "VIC",
          "VIC",
          "VIC",
          "VIC",
          "VIC",
          "VIC",
          "VIC",
          "VIC",
          "VIC",
          "VIC",
          "VIC",
          "VIC",
          "VIC",
          "VIC",
          "VIC",
          "VIC",
          "VIC",
          "VIC",
          "VIC",
          "VIC",
          "VIC",
          "VIC",
          "VIC",
          "VIC",
          "VIC",
          "VIC",
          "VIC",
          "VIC",
          "VIC",
          "VIC",
          "VIC",
          "VIC",
          "VIC",
          "VIC",
          "VIC",
          "VIC",
          "VIC",
          "VIC",
          "VIC",
          "VIC",
          "VIC",
          "VIC",
          "VIC",
          "VIC",
          "VIC",
          "VIC",
          "VIC",
          "VIC",
          "VIC",
          "VIC",
          "VIC",
          "VIC",
          "VIC",
          "VIC",
          "VIC",
          "VIC",
          "VIC",
          "VIC",
          "VIC",
          "VIC",
          "VIC",
          "VIC",
          "VIC",
          "VIC",
          "VIC",
          "VIC",
          "VIC",
          "VIC",
          "VIC",
          "VIC",
          "VIC",
          "VIC",
          "VIC",
          "VIC",
          "VIC",
          "VIC",
          "VIC",
          "VIC",
          "VIC",
          "VIC",
          "VIC",
          "VIC",
          "VIC",
          "VIC",
          "VIC",
          "VIC",
          "VIC",
          "VIC",
          "VIC",
          "VIC",
          "VIC",
          "VIC",
          "VIC",
          "VIC",
          "VIC",
          "VIC",
          "VIC",
          "VIC",
          "VIC",
          "VIC",
          "VIC",
          "VIC",
          "VIC",
          "VIC",
          "VIC",
          "VIC",
          "VIC",
          "VIC",
          "VIC",
          "VIC",
          "VIC",
          "VIC",
          "VIC",
          "VIC",
          "VIC",
          "VIC",
          "VIC",
          "VIC",
          "WA",
          "WA",
          "WA",
          "WA",
          "WA",
          "WA",
          "WA",
          "WA",
          "WA",
          "WA",
          "WA",
          "WA",
          "WA",
          "WA",
          "WA",
          "WA",
          "WA",
          "WA",
          "WA",
          "WA",
          "WA",
          "WA",
          "WA",
          "WA",
          "WA",
          "WA",
          "WA",
          "WA",
          "WA",
          "WA",
          "WA",
          "WA",
          "WA",
          "WA",
          "WA",
          "WA",
          "WA",
          "WA",
          "WA",
          "WA",
          "WA",
          "WA",
          "WA",
          "WA",
          "WA",
          "WA",
          "WA",
          "WA",
          "WA",
          "WA",
          "WA",
          "WA",
          "WA",
          "WA",
          "WA",
          "WA",
          "WA",
          "WA",
          "WA",
          "WA",
          "WA",
          "WA",
          "WA",
          "WA",
          "WA",
          "WA",
          "WA",
          "WA",
          "WA",
          "WA",
          "WA",
          "WA",
          "WA",
          "WA",
          "WA",
          "WA",
          "WA",
          "WA",
          "WA",
          "WA",
          "WA",
          "WA",
          "WA",
          "WA",
          "WA",
          "WA",
          "WA",
          "WA",
          "WA",
          "WA",
          "WA",
          "WA",
          "WA",
          "WA",
          "WA",
          "WA",
          "WA",
          "WA",
          "WA",
          "WA",
          "WA",
          "WA",
          "WA",
          "WA",
          "WA",
          "WA",
          "WA",
          "WA",
          "WA",
          "WA",
          "WA",
          "WA",
          "WA",
          "WA",
          "WA",
          "WA",
          "WA",
          "WA",
          "WA",
          "WA",
          "WA",
          "WA",
          "WA",
          "WA",
          "WA",
          "WA"
         ],
         "legendgroup": "",
         "name": "",
         "showlegend": true,
         "type": "pie",
         "values": [
          454505.5375427785,
          480922.4681314023,
          442120.9570010478,
          614161.3280557629,
          573988.744290248,
          466411.4873569101,
          575677.5519533862,
          478536.0738202567,
          490950.1306416955,
          458841.7608109359,
          497614.0522966317,
          522541.6338910526,
          512728.5092110469,
          581790.933971901,
          538689.7785409833,
          603831.8797390879,
          611642.3336761048,
          661256.3544514364,
          614483.7512476275,
          564046.6048345199,
          599849.9407278548,
          563327.6385958384,
          539383.2226870244,
          465661.0216568092,
          495986.7961048419,
          448421.5997257916,
          446623.6534469067,
          501089.937816209,
          414056.4131695812,
          436317.2794909275,
          499790.5147760394,
          439945.471144305,
          497025.4832934965,
          515167.1689122569,
          431483.3375085416,
          433090.4202947091,
          418630.337470207,
          421646.6221637158,
          473770.0059273121,
          452811.1176765992,
          528988.6824766202,
          479178.7790022149,
          543856.9887167324,
          502527.8904788496,
          550195.8717375096,
          587563.7122998445,
          493150.7197184591,
          471170.2589023164,
          468857.9123391861,
          484581.3811286866,
          447790.5176692519,
          450784.944274955,
          474514.7134835325,
          455111.5185876278,
          452136.8047693413,
          526127.1978056179,
          615581.7485535417,
          526651.524694211,
          547165.6119281005,
          486649.649130376,
          436648.2935190714,
          469922.9821370994,
          490827.1380079355,
          537654.2014947773,
          536135.1115711568,
          478120.8636629163,
          505845.549018945,
          546843.3845500132,
          573997.5241050302,
          693788.4703966628,
          588263.4749914716,
          533921.2071996923,
          509951.1510951616,
          577920.775327574,
          490068.311036153,
          498857.0690016284,
          490396.819260065,
          465314.0320098262,
          439179.3469201128,
          484016.3841036099,
          432037.6295649954,
          455095.069215073,
          454306.03814332,
          471657.3229200958,
          501081.0906050984,
          618648.6788841161,
          404869.9758945088,
          394396.9488975088,
          393897.592566198,
          396753.2021103232,
          476042.5303707364,
          414711.4887495788,
          476687.766147064,
          462354.1917032981,
          506840.8604006143,
          484262.601927169,
          542177.4352041754,
          571389.540798124,
          453069.6618826015,
          468326.5044342316,
          444568.4755300839,
          448361.8619566447,
          442939.0744452621,
          443413.7061418867,
          431621.8937506067,
          438662.8536481229,
          442381.892346695,
          421946.1367129548,
          536924.4162539764,
          551575.1313889401,
          452742.9401760062,
          440671.8113022766,
          438424.2405207276,
          524237.6436420939,
          502986.2430753183,
          523678.2536080267,
          544077.9283634855,
          485728.1837003603,
          475301.3365999425,
          499375.4026998025,
          556849.2358228553,
          597075.0136013681,
          521536.4506043365,
          565854.2128038037,
          501635.7704362937,
          514592.0318385925,
          502951.3917628974,
          493995.8218335877,
          462329.0693709616,
          462619.2424788662,
          447645.9068106326,
          480412.0799410933,
          479545.515253911,
          478174.5515566735,
          345116.3429841545,
          368523.036063622,
          436571.0538314994,
          455092.7219214196,
          572520.6357611774,
          517235.2849160776,
          539847.2519793534,
          608463.0848899594,
          609804.8748353553,
          562637.7265698756,
          562835.2360615823,
          563458.8424821763,
          623480.4126546595,
          647100.0067067127,
          635751.0916838956,
          641562.153849845,
          561381.8813274757,
          563310.2900264057,
          568197.1793650365,
          592292.52902208,
          587753.1335696278,
          571834.0986081482,
          2634368.840183024,
          2760182.669930118,
          2770334.092689774,
          3176641.243278258,
          3264356.044595119,
          2869931.609129978,
          3324068.967269962,
          2932100.11279284,
          2833044.190054961,
          2711729.268880063,
          2769392.027306489,
          2685361.008361685,
          2708259.27072389,
          2708928.649296758,
          2591538.293501503,
          2824538.681211269,
          3139001.982756743,
          3267604.434809093,
          2967120.845967592,
          2955578.98849901,
          2972358.186651,
          2685321.195192046,
          2606375.65915893,
          2535183.676399176,
          2720039.218890184,
          2874615.231815928,
          2718254.401503748,
          2588530.159090815,
          2425536.830097856,
          2373594.915467833,
          2277273.849680846,
          2342689.724580286,
          2626058.708062707,
          2885867.13373568,
          2480101.899251407,
          2396998.95681908,
          2206241.951593115,
          2267188.962317278,
          2306777.045018571,
          2466560.851095221,
          2698677.587325904,
          2585387.279373,
          2902648.542579825,
          2635355.652642215,
          3003952.570769249,
          3107060.768167735,
          2614437.290611091,
          2533028.918811129,
          2503232.052811027,
          2407668.718695499,
          2568656.467749375,
          2566002.860443762,
          2637542.77230812,
          2497129.139631405,
          2582038.535615719,
          2721972.898203935,
          3194284.660691672,
          2849754.134712133,
          2976573.543000213,
          2641698.312798798,
          2473220.947057426,
          2489937.094243774,
          2628412.960279277,
          2777864.045104836,
          2743092.531527222,
          2479732.522722125,
          2498179.236194718,
          2650415.988756866,
          2829730.337627514,
          3199229.247254669,
          2965153.067095987,
          2700601.323781384,
          2752983.760156098,
          2908017.642712957,
          2393248.815399134,
          2601796.372923764,
          2816764.091487347,
          2706821.881260899,
          2488000.731786813,
          2431546.562163545,
          2293915.175271454,
          2374437.704836953,
          2290643.888921742,
          2303084.746520452,
          2667261.281390637,
          2926976.797311885,
          2246979.393866457,
          2194879.158025778,
          2074167.188045989,
          2189993.905197012,
          2192346.341715035,
          2283798.333151146,
          2474775.642198499,
          2258362.0058612,
          2612628.542620118,
          2498177.779799757,
          2779525.406261482,
          2831082.299887066,
          2400010.702203261,
          2431621.266151989,
          2416853.005066616,
          2343154.215106094,
          2310535.502308555,
          2453948.263104522,
          2297872.454003762,
          2419297.036745709,
          2402847.39247223,
          2492744.652081301,
          2867760.597305155,
          2973968.438278548,
          2334842.709824163,
          2309118.541051005,
          2285584.819806868,
          2603077.282701191,
          2551206.870508204,
          2526078.735916106,
          2657056.073255902,
          2513572.914824786,
          2429701.081540268,
          2614876.439223284,
          2882788.294725833,
          3284553.828919528,
          2881038.699104385,
          2859809.100474077,
          2731322.770021687,
          2404740.069038821,
          2431564.151396827,
          2377516.143491353,
          2608994.743909604,
          2516576.09839022,
          2379023.177337916,
          2315196.40272791,
          2456017.720800763,
          2220530.568650034,
          1701011.572556342,
          1761310.019759649,
          2001726.815884218,
          2301765.934298746,
          2651172.772551851,
          2743252.038333858,
          2853330.470262835,
          3140282.498625233,
          3233130.237391281,
          2837332.082418947,
          3159768.506027024,
          3069332.639419259,
          3235238.668231891,
          3293143.103421631,
          3428334.409442499,
          3409453.198293967,
          2749988.691673775,
          2761366.61097433,
          2873655.990786887,
          2773094.180603982,
          2718479.208870341,
          2785053.865600151,
          1456749.821680669,
          1534787.689347492,
          1774839.88347618,
          1753178.898349389,
          1691050.513187018,
          1507033.432421429,
          1956695.427289216,
          1648118.386818791,
          1534104.740191472,
          1568471.932253168,
          1688016.093833182,
          1605426.150268957,
          1638023.181773366,
          1610021.26414592,
          1665792.631000376,
          1655232.307499588,
          1815848.869384465,
          1968391.071732298,
          1755162.380699401,
          1629537.189071234,
          1595061.987089272,
          1543900.35979147,
          1622902.254502431,
          1469509.094261891,
          1555863.718180119,
          1472956.492495561,
          1503381.881944096,
          1526487.825585188,
          1421150.949279774,
          1375277.156382017,
          1642219.133245151,
          1531576.404075768,
          1342945.324496384,
          1333821.055650478,
          1426081.783077653,
          1189413.185666636,
          1309141.164662231,
          1328817.968454379,
          1403321.867336487,
          1416861.672395708,
          1397492.448613371,
          1602144.160934377,
          1797459.868533632,
          1827154.183807981,
          1967372.385809524,
          1639003.453335985,
          1544004.085250225,
          1535332.476008081,
          1462526.615880833,
          1633045.715241883,
          1453677.514997708,
          1566857.324099025,
          1507040.970986787,
          1500157.605232932,
          1470746.067295998,
          1795086.600222788,
          1846409.386916161,
          1482298.166746099,
          1858735.458407412,
          1454633.223085482,
          1359207.536770366,
          1463013.997196933,
          1490896.909712704,
          1763867.974841653,
          1532319.95840338,
          1449834.925151109,
          1458036.880449054,
          1558378.200347072,
          1605247.042552714,
          2002828.751784388,
          1657915.737934858,
          1601454.993859546,
          1483636.053363327,
          1567159.868827462,
          1438329.882629128,
          1374760.422996332,
          1492654.393962838,
          1461048.638665069,
          1327976.341461795,
          1334490.303921555,
          1316664.331294548,
          1373770.744418486,
          1323576.782596606,
          1654427.42205194,
          1594175.910451714,
          1676458.619381744,
          1375497.584773819,
          1187534.732224661,
          1224850.262441781,
          1229307.00406177,
          1208459.536688026,
          1343753.958270939,
          1323108.100584083,
          1379676.677990926,
          1632373.080446712,
          1656075.311820859,
          1709375.744867692,
          1603322.806574652,
          1479491.473559025,
          1477875.569902922,
          1415485.685571061,
          1528399.089550004,
          1386056.499767869,
          1435886.342924406,
          1278234.415688925,
          1330873.566445217,
          1404568.937617396,
          1604997.169882492,
          1666193.96166078,
          1561122.32832615,
          1402166.074982404,
          1388613.046347617,
          1406763.730186666,
          1511576.258024004,
          1512120.27588973,
          1475401.951366117,
          1543189.18018134,
          1484399.693175397,
          1467696.625796469,
          1537257.299141634,
          1581484.646226852,
          2056957.858462906,
          1628218.821743747,
          1695370.622457228,
          1561296.683547747,
          1410114.362203361,
          1408628.515268111,
          1412105.905554767,
          1409634.897464058,
          1418293.485998195,
          1305164.304014362,
          1302575.473703268,
          1201520.335257932,
          1110406.118750007,
          922123.1204248591,
          944317.2157832992,
          1186213.619117522,
          1074705.012568912,
          1702624.973825812,
          1669242.69398891,
          1725955.375488056,
          2053087.684033857,
          2013970.126972645,
          1904467.812753475,
          1910878.373662383,
          1904510.761670838,
          2086928.612175911,
          2184875.449400435,
          2187607.983157181,
          2234889.898019568,
          2223249.674250581,
          2027476.864124658,
          1857994.951040521,
          2158145.842390456,
          1874397.593467169,
          1592760.490111639,
          400865.5942368279,
          657233.7868671131,
          663677.2143339734,
          586027.4336904192,
          549508.9887556235,
          561596.514841827,
          538847.9890731517,
          580693.5707913288,
          611636.3615496675,
          730999.3000280409,
          620624.6182406824,
          673308.7695076725,
          640879.9332476843,
          835080.9209669736,
          809889.1239521452,
          644632.8203335684,
          623623.6896600793,
          601153.6528157123,
          669096.4673406447,
          656940.5545830046,
          651868.7782019061,
          610145.5960299784,
          616001.7629429558,
          643527.1579614445,
          662525.5101869374,
          767026.4713161901,
          669035.780101513,
          759179.1255445003,
          635173.1038493847,
          579860.9171817292,
          646444.6614734804,
          642961.0204111884,
          686086.3042189177,
          676449.4860504445,
          636530.8240177674,
          661589.6985084334,
          764980.9053404232,
          685639.1505879486,
          859353.8958398572,
          776983.283209589,
          706731.9468155468,
          689287.5108206666,
          719564.5447115924,
          649520.7273119265,
          612474.2216339682,
          636954.4281801987,
          612651.6904970894,
          574001.8347836128,
          657814.5355982888,
          550170.7159371822,
          606711.5232173917,
          575770.9589081992,
          585792.345872728,
          627905.9280798291,
          761489.2692836208,
          554482.4095072198,
          547822.3661821211,
          510171.4485890071,
          528341.5983173335,
          562660.9114362687,
          595025.6970072171,
          620087.1045860146,
          574527.2682491948,
          607934.0837037407,
          639633.0362748061,
          787467.9700340193,
          846392.3945183943,
          651181.922916776,
          622997.8517348194,
          604555.8197024338,
          591304.7999840134,
          587226.9912214716,
          606485.5090474456,
          556901.9528593548,
          596379.967943838,
          596801.0934227039,
          609629.2295615955,
          718871.6587508591,
          757114.8489928043,
          592081.1603419567,
          576436.2141359748,
          594374.417906475,
          673934.1718955361,
          655740.7612358754,
          575697.6414526319,
          689475.940551434,
          626931.51197009,
          656033.5183385262,
          650507.5085346429,
          682928.09250898,
          862438.1379979082,
          783664.6525817156,
          735173.3584425402,
          733682.57217429,
          649208.8228957779,
          624552.8081683754,
          626204.594176703,
          628911.0188964136,
          641206.752238481,
          616955.852229958,
          645876.0196360071,
          550431.5057676043,
          519699.6367647689,
          434968.4837425775,
          463984.1050517507,
          572831.4525708881,
          662540.9371899619,
          795170.2510771989,
          760702.1941571732,
          733559.4535173527,
          831052.0951193497,
          793419.3120327003,
          718261.8280106776,
          724039.3751556986,
          768001.7118540583,
          782321.9921927159,
          851777.2232811713,
          947364.0192535142,
          994487.5326324198,
          867503.7458149143,
          803199.6537399931,
          806256.3294526666,
          833751.1414029963,
          853024.7153598325,
          756391.4052443217,
          2173977.032103576,
          2155545.919121663,
          2094841.011162552,
          2535675.241826159,
          2277493.607088,
          2090769.646315287,
          2406385.618249251,
          2321607.038115114,
          2227304.303168017,
          2474567.442304043,
          2079246.102508494,
          2155092.972983506,
          2170995.596594645,
          2311007.000114306,
          2200351.355759795,
          2226552.999406351,
          2569976.924285516,
          2703696.420633273,
          2633425.684279039,
          2441590.702176922,
          2550230.036771949,
          2319860.821588857,
          2305724.717296751,
          2370859.551373887,
          2451106.908758114,
          2273881.087206302,
          2201063.984329701,
          2401900.135853213,
          2020154.924455441,
          1982375.328382093,
          2483149.658817093,
          2142913.399136052,
          1944490.194422666,
          2147764.540921825,
          1992149.34962534,
          1959592.491759138,
          1847383.400213798,
          1910937.959403426,
          1898237.871921008,
          2007181.390823723,
          2222416.604624206,
          2111350.165408474,
          2509343.295742664,
          2450833.459168972,
          2550019.662793044,
          2313008.254098248,
          2196070.137978665,
          2132653.526082675,
          2135261.484636801,
          2096010.598244163,
          1928359.995514112,
          1961862.905673692,
          1928044.768737992,
          2027238.264860422,
          1988308.729183352,
          2651288.257257362,
          2211910.062609156,
          1841606.550781404,
          2340974.309839563,
          2081153.584779695,
          1945009.321956953,
          2376393.022871379,
          2039072.683144861,
          2124476.198871993,
          2075552.517656174,
          2055818.186120559,
          2034019.500056891,
          2113241.845557682,
          2187942.357937597,
          2682474.05173244,
          2272346.405283296,
          2168463.14515707,
          2178356.796107219,
          2317152.911697342,
          1985256.803878911,
          2057109.750094871,
          2258835.510022541,
          2216759.019099752,
          1997952.079035663,
          2147760.302149362,
          1787288.858660694,
          1914185.829273157,
          1865379.410202064,
          2094467.535230382,
          2018008.918502097,
          2568052.56824491,
          1779656.909040528,
          1722448.613671838,
          1657780.992908588,
          1752500.806801457,
          1782254.168300464,
          1847675.897674954,
          2033234.377621999,
          1862298.878673657,
          2051178.251334092,
          2151699.536727613,
          2256548.294197786,
          2086616.765145305,
          1978913.478295632,
          1946932.960311908,
          1963266.508336586,
          1854653.479729932,
          1836769.413827782,
          1849765.487929735,
          1859628.511194323,
          1916279.930440686,
          1910292.637399483,
          2300727.711495953,
          2090430.435594788,
          1806228.030073318,
          1879606.812678967,
          1904957.147936894,
          1947752.964673786,
          2557737.929951426,
          2036592.755721962,
          1984176.779989305,
          2069824.944404338,
          2051208.77507349,
          2030062.480177317,
          2026438.780978565,
          2317947.2075929,
          2699077.634855784,
          2459248.99120319,
          2304847.776112456,
          2259382.09983543,
          2169872.786042465,
          2056900.449469137,
          2131372.68290389,
          2186388.187919467,
          2129710.107863768,
          1974105.614269987,
          2089247.921319393,
          1872791.91739453,
          1612683.336626691,
          1235302.134948292,
          1294007.234255016,
          1456142.571636864,
          1494888.586703174,
          1838797.679825191,
          1820176.199552675,
          1992516.726593521,
          2380274.942899977,
          2474395.449158682,
          2366523.295919454,
          2414120.51889532,
          2393014.988591331,
          2410339.456042459,
          2452462.002642554,
          2052963.758172008,
          1748782.736679036,
          1474484.029808089,
          1534077.680473221,
          923406.3721405836,
          101105.8778725927,
          137552.9633831789,
          77309.11116223564,
          770294.9737615981,
          919437.2439854394,
          1129704.862070959,
          1027685.613751038,
          976021.2941384722,
          947474.3031400068,
          926734.7707004084,
          939314.2848296785,
          1037653.165741358,
          1042241.692120809,
          1007671.178662462,
          1064820.623453255,
          1134927.541729526,
          1202726.947343207,
          1265155.285260032,
          1193814.781499005,
          1112481.24125399,
          1125611.966440368,
          1075246.459425593,
          1016763.425038738,
          1028741.205776156,
          1031974.520451041,
          1012854.154555203,
          1014292.057015475,
          1020549.691470501,
          1229749.169073341,
          1178092.272604025,
          1037496.322159593,
          1231892.204782497,
          1062318.022969897,
          1007305.492034842,
          1062245.747119074,
          1117332.776382334,
          1242202.556330491,
          1175279.438227872,
          1062804.266890284,
          1028223.62901654,
          1113662.653377824,
          1093936.478538533,
          1314052.538065806,
          1099475.609432149,
          1165249.310981606,
          1143605.144547776,
          1135066.174054666,
          988897.9696313373,
          983359.7467489883,
          1006985.418135264,
          1004537.895405184,
          1031682.322477833,
          933298.0515579176,
          918947.4262138959,
          963878.3890463642,
          999712.7315019409,
          1033663.180163449,
          1122749.257956435,
          1163351.558520483,
          966267.9037711167,
          937348.7476006718,
          912838.2353666924,
          919850.7362910638,
          965972.2002541064,
          962986.4003331241,
          950394.8417318636,
          971775.7984825049,
          1071445.144963326,
          1054347.983245121,
          1224086.549076284,
          1254587.65174255,
          1086151.76788414,
          1074235.608999317,
          1044329.951975798,
          1008600.558081617,
          1026179.868181753,
          1024166.182240155,
          990612.4935780433,
          968021.0489546586,
          962613.9683998523,
          1024338.940097731,
          1198266.047125181,
          1134747.252044384,
          1017575.810739616,
          1018053.610999822,
          1002744.028979319,
          1075291.176284906,
          1102402.460359027,
          1098636.599916505,
          1097397.594211326,
          1020380.036712058,
          1053366.402333025,
          1043146.891437367,
          1033827.500736153,
          1412568.351994483,
          1152209.454915632,
          1120015.964468578,
          1188675.190409752,
          1028121.740348111,
          1042965.415979692,
          1024707.311044681,
          1023792.988866948,
          1003042.477310696,
          1019547.988475308,
          924003.8583653866,
          978775.95326941,
          901311.0198578313,
          663962.0612222215,
          686500.575832631,
          866084.044033757,
          782932.9481527813,
          1161703.651907744,
          1096142.996858809,
          1108498.679264195,
          1229172.47358018,
          1145625.471834579,
          1167187.236680397,
          1109709.715788086,
          1186871.637307797,
          1259688.225141553,
          1316347.087654828,
          1449490.280263191,
          1495237.554726775,
          1418697.254347753,
          1364894.742805736,
          1351591.411319429,
          1385729.187643929,
          1362193.248057242,
          1271019.578751108
         ]
        }
       ],
       "layout": {
        "legend": {
         "tracegroupgap": 0
        },
        "margin": {
         "t": 60
        },
        "paper_bgcolor": "#C0C0C0",
        "template": {
         "data": {
          "bar": [
           {
            "error_x": {
             "color": "#2a3f5f"
            },
            "error_y": {
             "color": "#2a3f5f"
            },
            "marker": {
             "line": {
              "color": "#E5ECF6",
              "width": 0.5
             }
            },
            "type": "bar"
           }
          ],
          "barpolar": [
           {
            "marker": {
             "line": {
              "color": "#E5ECF6",
              "width": 0.5
             }
            },
            "type": "barpolar"
           }
          ],
          "carpet": [
           {
            "aaxis": {
             "endlinecolor": "#2a3f5f",
             "gridcolor": "white",
             "linecolor": "white",
             "minorgridcolor": "white",
             "startlinecolor": "#2a3f5f"
            },
            "baxis": {
             "endlinecolor": "#2a3f5f",
             "gridcolor": "white",
             "linecolor": "white",
             "minorgridcolor": "white",
             "startlinecolor": "#2a3f5f"
            },
            "type": "carpet"
           }
          ],
          "choropleth": [
           {
            "colorbar": {
             "outlinewidth": 0,
             "ticks": ""
            },
            "type": "choropleth"
           }
          ],
          "contour": [
           {
            "colorbar": {
             "outlinewidth": 0,
             "ticks": ""
            },
            "colorscale": [
             [
              0,
              "#0d0887"
             ],
             [
              0.1111111111111111,
              "#46039f"
             ],
             [
              0.2222222222222222,
              "#7201a8"
             ],
             [
              0.3333333333333333,
              "#9c179e"
             ],
             [
              0.4444444444444444,
              "#bd3786"
             ],
             [
              0.5555555555555556,
              "#d8576b"
             ],
             [
              0.6666666666666666,
              "#ed7953"
             ],
             [
              0.7777777777777778,
              "#fb9f3a"
             ],
             [
              0.8888888888888888,
              "#fdca26"
             ],
             [
              1,
              "#f0f921"
             ]
            ],
            "type": "contour"
           }
          ],
          "contourcarpet": [
           {
            "colorbar": {
             "outlinewidth": 0,
             "ticks": ""
            },
            "type": "contourcarpet"
           }
          ],
          "heatmap": [
           {
            "colorbar": {
             "outlinewidth": 0,
             "ticks": ""
            },
            "colorscale": [
             [
              0,
              "#0d0887"
             ],
             [
              0.1111111111111111,
              "#46039f"
             ],
             [
              0.2222222222222222,
              "#7201a8"
             ],
             [
              0.3333333333333333,
              "#9c179e"
             ],
             [
              0.4444444444444444,
              "#bd3786"
             ],
             [
              0.5555555555555556,
              "#d8576b"
             ],
             [
              0.6666666666666666,
              "#ed7953"
             ],
             [
              0.7777777777777778,
              "#fb9f3a"
             ],
             [
              0.8888888888888888,
              "#fdca26"
             ],
             [
              1,
              "#f0f921"
             ]
            ],
            "type": "heatmap"
           }
          ],
          "heatmapgl": [
           {
            "colorbar": {
             "outlinewidth": 0,
             "ticks": ""
            },
            "colorscale": [
             [
              0,
              "#0d0887"
             ],
             [
              0.1111111111111111,
              "#46039f"
             ],
             [
              0.2222222222222222,
              "#7201a8"
             ],
             [
              0.3333333333333333,
              "#9c179e"
             ],
             [
              0.4444444444444444,
              "#bd3786"
             ],
             [
              0.5555555555555556,
              "#d8576b"
             ],
             [
              0.6666666666666666,
              "#ed7953"
             ],
             [
              0.7777777777777778,
              "#fb9f3a"
             ],
             [
              0.8888888888888888,
              "#fdca26"
             ],
             [
              1,
              "#f0f921"
             ]
            ],
            "type": "heatmapgl"
           }
          ],
          "histogram": [
           {
            "marker": {
             "colorbar": {
              "outlinewidth": 0,
              "ticks": ""
             }
            },
            "type": "histogram"
           }
          ],
          "histogram2d": [
           {
            "colorbar": {
             "outlinewidth": 0,
             "ticks": ""
            },
            "colorscale": [
             [
              0,
              "#0d0887"
             ],
             [
              0.1111111111111111,
              "#46039f"
             ],
             [
              0.2222222222222222,
              "#7201a8"
             ],
             [
              0.3333333333333333,
              "#9c179e"
             ],
             [
              0.4444444444444444,
              "#bd3786"
             ],
             [
              0.5555555555555556,
              "#d8576b"
             ],
             [
              0.6666666666666666,
              "#ed7953"
             ],
             [
              0.7777777777777778,
              "#fb9f3a"
             ],
             [
              0.8888888888888888,
              "#fdca26"
             ],
             [
              1,
              "#f0f921"
             ]
            ],
            "type": "histogram2d"
           }
          ],
          "histogram2dcontour": [
           {
            "colorbar": {
             "outlinewidth": 0,
             "ticks": ""
            },
            "colorscale": [
             [
              0,
              "#0d0887"
             ],
             [
              0.1111111111111111,
              "#46039f"
             ],
             [
              0.2222222222222222,
              "#7201a8"
             ],
             [
              0.3333333333333333,
              "#9c179e"
             ],
             [
              0.4444444444444444,
              "#bd3786"
             ],
             [
              0.5555555555555556,
              "#d8576b"
             ],
             [
              0.6666666666666666,
              "#ed7953"
             ],
             [
              0.7777777777777778,
              "#fb9f3a"
             ],
             [
              0.8888888888888888,
              "#fdca26"
             ],
             [
              1,
              "#f0f921"
             ]
            ],
            "type": "histogram2dcontour"
           }
          ],
          "mesh3d": [
           {
            "colorbar": {
             "outlinewidth": 0,
             "ticks": ""
            },
            "type": "mesh3d"
           }
          ],
          "parcoords": [
           {
            "line": {
             "colorbar": {
              "outlinewidth": 0,
              "ticks": ""
             }
            },
            "type": "parcoords"
           }
          ],
          "pie": [
           {
            "automargin": true,
            "type": "pie"
           }
          ],
          "scatter": [
           {
            "marker": {
             "colorbar": {
              "outlinewidth": 0,
              "ticks": ""
             }
            },
            "type": "scatter"
           }
          ],
          "scatter3d": [
           {
            "line": {
             "colorbar": {
              "outlinewidth": 0,
              "ticks": ""
             }
            },
            "marker": {
             "colorbar": {
              "outlinewidth": 0,
              "ticks": ""
             }
            },
            "type": "scatter3d"
           }
          ],
          "scattercarpet": [
           {
            "marker": {
             "colorbar": {
              "outlinewidth": 0,
              "ticks": ""
             }
            },
            "type": "scattercarpet"
           }
          ],
          "scattergeo": [
           {
            "marker": {
             "colorbar": {
              "outlinewidth": 0,
              "ticks": ""
             }
            },
            "type": "scattergeo"
           }
          ],
          "scattergl": [
           {
            "marker": {
             "colorbar": {
              "outlinewidth": 0,
              "ticks": ""
             }
            },
            "type": "scattergl"
           }
          ],
          "scattermapbox": [
           {
            "marker": {
             "colorbar": {
              "outlinewidth": 0,
              "ticks": ""
             }
            },
            "type": "scattermapbox"
           }
          ],
          "scatterpolar": [
           {
            "marker": {
             "colorbar": {
              "outlinewidth": 0,
              "ticks": ""
             }
            },
            "type": "scatterpolar"
           }
          ],
          "scatterpolargl": [
           {
            "marker": {
             "colorbar": {
              "outlinewidth": 0,
              "ticks": ""
             }
            },
            "type": "scatterpolargl"
           }
          ],
          "scatterternary": [
           {
            "marker": {
             "colorbar": {
              "outlinewidth": 0,
              "ticks": ""
             }
            },
            "type": "scatterternary"
           }
          ],
          "surface": [
           {
            "colorbar": {
             "outlinewidth": 0,
             "ticks": ""
            },
            "colorscale": [
             [
              0,
              "#0d0887"
             ],
             [
              0.1111111111111111,
              "#46039f"
             ],
             [
              0.2222222222222222,
              "#7201a8"
             ],
             [
              0.3333333333333333,
              "#9c179e"
             ],
             [
              0.4444444444444444,
              "#bd3786"
             ],
             [
              0.5555555555555556,
              "#d8576b"
             ],
             [
              0.6666666666666666,
              "#ed7953"
             ],
             [
              0.7777777777777778,
              "#fb9f3a"
             ],
             [
              0.8888888888888888,
              "#fdca26"
             ],
             [
              1,
              "#f0f921"
             ]
            ],
            "type": "surface"
           }
          ],
          "table": [
           {
            "cells": {
             "fill": {
              "color": "#EBF0F8"
             },
             "line": {
              "color": "white"
             }
            },
            "header": {
             "fill": {
              "color": "#C8D4E3"
             },
             "line": {
              "color": "white"
             }
            },
            "type": "table"
           }
          ]
         },
         "layout": {
          "annotationdefaults": {
           "arrowcolor": "#2a3f5f",
           "arrowhead": 0,
           "arrowwidth": 1
          },
          "autotypenumbers": "strict",
          "coloraxis": {
           "colorbar": {
            "outlinewidth": 0,
            "ticks": ""
           }
          },
          "colorscale": {
           "diverging": [
            [
             0,
             "#8e0152"
            ],
            [
             0.1,
             "#c51b7d"
            ],
            [
             0.2,
             "#de77ae"
            ],
            [
             0.3,
             "#f1b6da"
            ],
            [
             0.4,
             "#fde0ef"
            ],
            [
             0.5,
             "#f7f7f7"
            ],
            [
             0.6,
             "#e6f5d0"
            ],
            [
             0.7,
             "#b8e186"
            ],
            [
             0.8,
             "#7fbc41"
            ],
            [
             0.9,
             "#4d9221"
            ],
            [
             1,
             "#276419"
            ]
           ],
           "sequential": [
            [
             0,
             "#0d0887"
            ],
            [
             0.1111111111111111,
             "#46039f"
            ],
            [
             0.2222222222222222,
             "#7201a8"
            ],
            [
             0.3333333333333333,
             "#9c179e"
            ],
            [
             0.4444444444444444,
             "#bd3786"
            ],
            [
             0.5555555555555556,
             "#d8576b"
            ],
            [
             0.6666666666666666,
             "#ed7953"
            ],
            [
             0.7777777777777778,
             "#fb9f3a"
            ],
            [
             0.8888888888888888,
             "#fdca26"
            ],
            [
             1,
             "#f0f921"
            ]
           ],
           "sequentialminus": [
            [
             0,
             "#0d0887"
            ],
            [
             0.1111111111111111,
             "#46039f"
            ],
            [
             0.2222222222222222,
             "#7201a8"
            ],
            [
             0.3333333333333333,
             "#9c179e"
            ],
            [
             0.4444444444444444,
             "#bd3786"
            ],
            [
             0.5555555555555556,
             "#d8576b"
            ],
            [
             0.6666666666666666,
             "#ed7953"
            ],
            [
             0.7777777777777778,
             "#fb9f3a"
            ],
            [
             0.8888888888888888,
             "#fdca26"
            ],
            [
             1,
             "#f0f921"
            ]
           ]
          },
          "colorway": [
           "#636efa",
           "#EF553B",
           "#00cc96",
           "#ab63fa",
           "#FFA15A",
           "#19d3f3",
           "#FF6692",
           "#B6E880",
           "#FF97FF",
           "#FECB52"
          ],
          "font": {
           "color": "#2a3f5f"
          },
          "geo": {
           "bgcolor": "white",
           "lakecolor": "white",
           "landcolor": "#E5ECF6",
           "showlakes": true,
           "showland": true,
           "subunitcolor": "white"
          },
          "hoverlabel": {
           "align": "left"
          },
          "hovermode": "closest",
          "mapbox": {
           "style": "light"
          },
          "paper_bgcolor": "white",
          "plot_bgcolor": "#E5ECF6",
          "polar": {
           "angularaxis": {
            "gridcolor": "white",
            "linecolor": "white",
            "ticks": ""
           },
           "bgcolor": "#E5ECF6",
           "radialaxis": {
            "gridcolor": "white",
            "linecolor": "white",
            "ticks": ""
           }
          },
          "scene": {
           "xaxis": {
            "backgroundcolor": "#E5ECF6",
            "gridcolor": "white",
            "gridwidth": 2,
            "linecolor": "white",
            "showbackground": true,
            "ticks": "",
            "zerolinecolor": "white"
           },
           "yaxis": {
            "backgroundcolor": "#E5ECF6",
            "gridcolor": "white",
            "gridwidth": 2,
            "linecolor": "white",
            "showbackground": true,
            "ticks": "",
            "zerolinecolor": "white"
           },
           "zaxis": {
            "backgroundcolor": "#E5ECF6",
            "gridcolor": "white",
            "gridwidth": 2,
            "linecolor": "white",
            "showbackground": true,
            "ticks": "",
            "zerolinecolor": "white"
           }
          },
          "shapedefaults": {
           "line": {
            "color": "#2a3f5f"
           }
          },
          "ternary": {
           "aaxis": {
            "gridcolor": "white",
            "linecolor": "white",
            "ticks": ""
           },
           "baxis": {
            "gridcolor": "white",
            "linecolor": "white",
            "ticks": ""
           },
           "bgcolor": "#E5ECF6",
           "caxis": {
            "gridcolor": "white",
            "linecolor": "white",
            "ticks": ""
           }
          },
          "title": {
           "x": 0.05
          },
          "xaxis": {
           "automargin": true,
           "gridcolor": "white",
           "linecolor": "white",
           "ticks": "",
           "title": {
            "standoff": 15
           },
           "zerolinecolor": "white",
           "zerolinewidth": 2
          },
          "yaxis": {
           "automargin": true,
           "gridcolor": "white",
           "linecolor": "white",
           "ticks": "",
           "title": {
            "standoff": 15
           },
           "zerolinecolor": "white",
           "zerolinewidth": 2
          }
         }
        },
        "title": {
         "text": "Percentage of Sales across states over FY18 - FY20",
         "x": 0.5
        }
       }
      },
      "text/html": [
       "<div>                            <div id=\"14cab829-58f6-4b80-bb36-b5c58d0206cf\" class=\"plotly-graph-div\" style=\"height:525px; width:100%;\"></div>            <script type=\"text/javascript\">                require([\"plotly\"], function(Plotly) {                    window.PLOTLYENV=window.PLOTLYENV || {};                                    if (document.getElementById(\"14cab829-58f6-4b80-bb36-b5c58d0206cf\")) {                    Plotly.newPlot(                        \"14cab829-58f6-4b80-bb36-b5c58d0206cf\",                        [{\"domain\": {\"x\": [0.0, 1.0], \"y\": [0.0, 1.0]}, \"hovertemplate\": \"State=%{label}<br>Sales=%{value}<extra></extra>\", \"labels\": [\"ACT\", \"ACT\", \"ACT\", \"ACT\", \"ACT\", \"ACT\", \"ACT\", \"ACT\", \"ACT\", \"ACT\", \"ACT\", \"ACT\", \"ACT\", \"ACT\", \"ACT\", \"ACT\", \"ACT\", \"ACT\", \"ACT\", \"ACT\", \"ACT\", \"ACT\", \"ACT\", \"ACT\", \"ACT\", \"ACT\", \"ACT\", \"ACT\", \"ACT\", \"ACT\", \"ACT\", \"ACT\", \"ACT\", \"ACT\", \"ACT\", \"ACT\", \"ACT\", \"ACT\", \"ACT\", \"ACT\", \"ACT\", \"ACT\", \"ACT\", \"ACT\", \"ACT\", \"ACT\", \"ACT\", \"ACT\", \"ACT\", \"ACT\", \"ACT\", \"ACT\", \"ACT\", \"ACT\", \"ACT\", \"ACT\", \"ACT\", \"ACT\", \"ACT\", \"ACT\", \"ACT\", \"ACT\", \"ACT\", \"ACT\", \"ACT\", \"ACT\", \"ACT\", \"ACT\", \"ACT\", \"ACT\", \"ACT\", \"ACT\", \"ACT\", \"ACT\", \"ACT\", \"ACT\", \"ACT\", \"ACT\", \"ACT\", \"ACT\", \"ACT\", \"ACT\", \"ACT\", \"ACT\", \"ACT\", \"ACT\", \"ACT\", \"ACT\", \"ACT\", \"ACT\", \"ACT\", \"ACT\", \"ACT\", \"ACT\", \"ACT\", \"ACT\", \"ACT\", \"ACT\", \"ACT\", \"ACT\", \"ACT\", \"ACT\", \"ACT\", \"ACT\", \"ACT\", \"ACT\", \"ACT\", \"ACT\", \"ACT\", \"ACT\", \"ACT\", \"ACT\", \"ACT\", \"ACT\", \"ACT\", \"ACT\", \"ACT\", \"ACT\", \"ACT\", \"ACT\", \"ACT\", \"ACT\", \"ACT\", \"ACT\", \"ACT\", \"ACT\", \"ACT\", \"ACT\", \"ACT\", \"ACT\", \"ACT\", \"ACT\", \"ACT\", \"ACT\", \"ACT\", \"ACT\", \"ACT\", \"ACT\", \"ACT\", \"ACT\", \"ACT\", \"ACT\", \"ACT\", \"ACT\", \"ACT\", \"ACT\", \"ACT\", \"ACT\", \"ACT\", \"ACT\", \"ACT\", \"ACT\", \"ACT\", \"ACT\", \"ACT\", \"ACT\", \"NSW\", \"NSW\", \"NSW\", \"NSW\", \"NSW\", \"NSW\", \"NSW\", \"NSW\", \"NSW\", \"NSW\", \"NSW\", \"NSW\", \"NSW\", \"NSW\", \"NSW\", \"NSW\", \"NSW\", \"NSW\", \"NSW\", \"NSW\", \"NSW\", \"NSW\", \"NSW\", \"NSW\", \"NSW\", \"NSW\", \"NSW\", \"NSW\", \"NSW\", \"NSW\", \"NSW\", \"NSW\", \"NSW\", \"NSW\", \"NSW\", \"NSW\", \"NSW\", \"NSW\", \"NSW\", \"NSW\", \"NSW\", \"NSW\", \"NSW\", \"NSW\", \"NSW\", \"NSW\", \"NSW\", \"NSW\", \"NSW\", \"NSW\", \"NSW\", \"NSW\", \"NSW\", \"NSW\", \"NSW\", \"NSW\", \"NSW\", \"NSW\", \"NSW\", \"NSW\", \"NSW\", \"NSW\", \"NSW\", \"NSW\", \"NSW\", \"NSW\", \"NSW\", \"NSW\", \"NSW\", \"NSW\", \"NSW\", \"NSW\", \"NSW\", \"NSW\", \"NSW\", \"NSW\", \"NSW\", \"NSW\", \"NSW\", \"NSW\", \"NSW\", \"NSW\", \"NSW\", \"NSW\", \"NSW\", \"NSW\", \"NSW\", \"NSW\", \"NSW\", \"NSW\", \"NSW\", \"NSW\", \"NSW\", \"NSW\", \"NSW\", \"NSW\", \"NSW\", \"NSW\", \"NSW\", \"NSW\", \"NSW\", \"NSW\", \"NSW\", \"NSW\", \"NSW\", \"NSW\", \"NSW\", \"NSW\", \"NSW\", \"NSW\", \"NSW\", \"NSW\", \"NSW\", \"NSW\", \"NSW\", \"NSW\", \"NSW\", \"NSW\", \"NSW\", \"NSW\", \"NSW\", \"NSW\", \"NSW\", \"NSW\", \"NSW\", \"NSW\", \"NSW\", \"NSW\", \"NSW\", \"NSW\", \"NSW\", \"NSW\", \"NSW\", \"NSW\", \"NSW\", \"NSW\", \"NSW\", \"NSW\", \"NSW\", \"NSW\", \"NSW\", \"NSW\", \"NSW\", \"NSW\", \"NSW\", \"NSW\", \"NSW\", \"NSW\", \"NSW\", \"NSW\", \"NSW\", \"NSW\", \"NSW\", \"NSW\", \"NSW\", \"NSW\", \"QLD\", \"QLD\", \"QLD\", \"QLD\", \"QLD\", \"QLD\", \"QLD\", \"QLD\", \"QLD\", \"QLD\", \"QLD\", \"QLD\", \"QLD\", \"QLD\", \"QLD\", \"QLD\", \"QLD\", \"QLD\", \"QLD\", \"QLD\", \"QLD\", \"QLD\", \"QLD\", \"QLD\", \"QLD\", \"QLD\", \"QLD\", \"QLD\", \"QLD\", \"QLD\", \"QLD\", \"QLD\", \"QLD\", \"QLD\", \"QLD\", \"QLD\", \"QLD\", \"QLD\", \"QLD\", \"QLD\", \"QLD\", \"QLD\", \"QLD\", \"QLD\", \"QLD\", \"QLD\", \"QLD\", \"QLD\", \"QLD\", \"QLD\", \"QLD\", \"QLD\", \"QLD\", \"QLD\", \"QLD\", \"QLD\", \"QLD\", \"QLD\", \"QLD\", \"QLD\", \"QLD\", \"QLD\", \"QLD\", \"QLD\", \"QLD\", \"QLD\", \"QLD\", \"QLD\", \"QLD\", \"QLD\", \"QLD\", \"QLD\", \"QLD\", \"QLD\", \"QLD\", \"QLD\", \"QLD\", \"QLD\", \"QLD\", \"QLD\", \"QLD\", \"QLD\", \"QLD\", \"QLD\", \"QLD\", \"QLD\", \"QLD\", \"QLD\", \"QLD\", \"QLD\", \"QLD\", \"QLD\", \"QLD\", \"QLD\", \"QLD\", \"QLD\", \"QLD\", \"QLD\", \"QLD\", \"QLD\", \"QLD\", \"QLD\", \"QLD\", \"QLD\", \"QLD\", \"QLD\", \"QLD\", \"QLD\", \"QLD\", \"QLD\", \"QLD\", \"QLD\", \"QLD\", \"QLD\", \"QLD\", \"QLD\", \"QLD\", \"QLD\", \"QLD\", \"QLD\", \"QLD\", \"QLD\", \"QLD\", \"QLD\", \"QLD\", \"QLD\", \"QLD\", \"QLD\", \"QLD\", \"QLD\", \"QLD\", \"QLD\", \"QLD\", \"QLD\", \"QLD\", \"QLD\", \"QLD\", \"QLD\", \"QLD\", \"QLD\", \"QLD\", \"QLD\", \"QLD\", \"QLD\", \"QLD\", \"QLD\", \"QLD\", \"QLD\", \"QLD\", \"QLD\", \"QLD\", \"QLD\", \"QLD\", \"QLD\", \"QLD\", \"QLD\", \"SA\", \"SA\", \"SA\", \"SA\", \"SA\", \"SA\", \"SA\", \"SA\", \"SA\", \"SA\", \"SA\", \"SA\", \"SA\", \"SA\", \"SA\", \"SA\", \"SA\", \"SA\", \"SA\", \"SA\", \"SA\", \"SA\", \"SA\", \"SA\", \"SA\", \"SA\", \"SA\", \"SA\", \"SA\", \"SA\", \"SA\", \"SA\", \"SA\", \"SA\", \"SA\", \"SA\", \"SA\", \"SA\", \"SA\", \"SA\", \"SA\", \"SA\", \"SA\", \"SA\", \"SA\", \"SA\", \"SA\", \"SA\", \"SA\", \"SA\", \"SA\", \"SA\", \"SA\", \"SA\", \"SA\", \"SA\", \"SA\", \"SA\", \"SA\", \"SA\", \"SA\", \"SA\", \"SA\", \"SA\", \"SA\", \"SA\", \"SA\", \"SA\", \"SA\", \"SA\", \"SA\", \"SA\", \"SA\", \"SA\", \"SA\", \"SA\", \"SA\", \"SA\", \"SA\", \"SA\", \"SA\", \"SA\", \"SA\", \"SA\", \"SA\", \"SA\", \"SA\", \"SA\", \"SA\", \"SA\", \"SA\", \"SA\", \"SA\", \"SA\", \"SA\", \"SA\", \"SA\", \"SA\", \"SA\", \"SA\", \"SA\", \"SA\", \"SA\", \"SA\", \"SA\", \"SA\", \"SA\", \"SA\", \"SA\", \"SA\", \"SA\", \"SA\", \"SA\", \"SA\", \"SA\", \"SA\", \"SA\", \"SA\", \"SA\", \"SA\", \"SA\", \"SA\", \"SA\", \"SA\", \"SA\", \"VIC\", \"VIC\", \"VIC\", \"VIC\", \"VIC\", \"VIC\", \"VIC\", \"VIC\", \"VIC\", \"VIC\", \"VIC\", \"VIC\", \"VIC\", \"VIC\", \"VIC\", \"VIC\", \"VIC\", \"VIC\", \"VIC\", \"VIC\", \"VIC\", \"VIC\", \"VIC\", \"VIC\", \"VIC\", \"VIC\", \"VIC\", \"VIC\", \"VIC\", \"VIC\", \"VIC\", \"VIC\", \"VIC\", \"VIC\", \"VIC\", \"VIC\", \"VIC\", \"VIC\", \"VIC\", \"VIC\", \"VIC\", \"VIC\", \"VIC\", \"VIC\", \"VIC\", \"VIC\", \"VIC\", \"VIC\", \"VIC\", \"VIC\", \"VIC\", \"VIC\", \"VIC\", \"VIC\", \"VIC\", \"VIC\", \"VIC\", \"VIC\", \"VIC\", \"VIC\", \"VIC\", \"VIC\", \"VIC\", \"VIC\", \"VIC\", \"VIC\", \"VIC\", \"VIC\", \"VIC\", \"VIC\", \"VIC\", \"VIC\", \"VIC\", \"VIC\", \"VIC\", \"VIC\", \"VIC\", \"VIC\", \"VIC\", \"VIC\", \"VIC\", \"VIC\", \"VIC\", \"VIC\", \"VIC\", \"VIC\", \"VIC\", \"VIC\", \"VIC\", \"VIC\", \"VIC\", \"VIC\", \"VIC\", \"VIC\", \"VIC\", \"VIC\", \"VIC\", \"VIC\", \"VIC\", \"VIC\", \"VIC\", \"VIC\", \"VIC\", \"VIC\", \"VIC\", \"VIC\", \"VIC\", \"VIC\", \"VIC\", \"VIC\", \"VIC\", \"VIC\", \"VIC\", \"VIC\", \"VIC\", \"VIC\", \"VIC\", \"VIC\", \"VIC\", \"VIC\", \"VIC\", \"VIC\", \"VIC\", \"VIC\", \"VIC\", \"VIC\", \"VIC\", \"VIC\", \"VIC\", \"VIC\", \"VIC\", \"VIC\", \"VIC\", \"VIC\", \"VIC\", \"VIC\", \"VIC\", \"VIC\", \"VIC\", \"VIC\", \"VIC\", \"VIC\", \"VIC\", \"VIC\", \"VIC\", \"VIC\", \"VIC\", \"VIC\", \"VIC\", \"VIC\", \"VIC\", \"VIC\", \"VIC\", \"VIC\", \"VIC\", \"VIC\", \"WA\", \"WA\", \"WA\", \"WA\", \"WA\", \"WA\", \"WA\", \"WA\", \"WA\", \"WA\", \"WA\", \"WA\", \"WA\", \"WA\", \"WA\", \"WA\", \"WA\", \"WA\", \"WA\", \"WA\", \"WA\", \"WA\", \"WA\", \"WA\", \"WA\", \"WA\", \"WA\", \"WA\", \"WA\", \"WA\", \"WA\", \"WA\", \"WA\", \"WA\", \"WA\", \"WA\", \"WA\", \"WA\", \"WA\", \"WA\", \"WA\", \"WA\", \"WA\", \"WA\", \"WA\", \"WA\", \"WA\", \"WA\", \"WA\", \"WA\", \"WA\", \"WA\", \"WA\", \"WA\", \"WA\", \"WA\", \"WA\", \"WA\", \"WA\", \"WA\", \"WA\", \"WA\", \"WA\", \"WA\", \"WA\", \"WA\", \"WA\", \"WA\", \"WA\", \"WA\", \"WA\", \"WA\", \"WA\", \"WA\", \"WA\", \"WA\", \"WA\", \"WA\", \"WA\", \"WA\", \"WA\", \"WA\", \"WA\", \"WA\", \"WA\", \"WA\", \"WA\", \"WA\", \"WA\", \"WA\", \"WA\", \"WA\", \"WA\", \"WA\", \"WA\", \"WA\", \"WA\", \"WA\", \"WA\", \"WA\", \"WA\", \"WA\", \"WA\", \"WA\", \"WA\", \"WA\", \"WA\", \"WA\", \"WA\", \"WA\", \"WA\", \"WA\", \"WA\", \"WA\", \"WA\", \"WA\", \"WA\", \"WA\", \"WA\", \"WA\", \"WA\", \"WA\", \"WA\", \"WA\", \"WA\", \"WA\"], \"legendgroup\": \"\", \"name\": \"\", \"showlegend\": true, \"type\": \"pie\", \"values\": [454505.5375427785, 480922.4681314023, 442120.9570010478, 614161.3280557629, 573988.744290248, 466411.4873569101, 575677.5519533862, 478536.0738202567, 490950.1306416955, 458841.7608109359, 497614.0522966317, 522541.6338910526, 512728.5092110469, 581790.933971901, 538689.7785409833, 603831.8797390879, 611642.3336761048, 661256.3544514364, 614483.7512476275, 564046.6048345199, 599849.9407278548, 563327.6385958384, 539383.2226870244, 465661.0216568092, 495986.7961048419, 448421.5997257916, 446623.6534469067, 501089.937816209, 414056.4131695812, 436317.2794909275, 499790.5147760394, 439945.471144305, 497025.4832934965, 515167.1689122569, 431483.3375085416, 433090.4202947091, 418630.337470207, 421646.6221637158, 473770.0059273121, 452811.1176765992, 528988.6824766202, 479178.7790022149, 543856.9887167324, 502527.8904788496, 550195.8717375096, 587563.7122998445, 493150.7197184591, 471170.2589023164, 468857.9123391861, 484581.3811286866, 447790.5176692519, 450784.944274955, 474514.7134835325, 455111.5185876278, 452136.8047693413, 526127.1978056179, 615581.7485535417, 526651.524694211, 547165.6119281005, 486649.649130376, 436648.2935190714, 469922.9821370994, 490827.1380079355, 537654.2014947773, 536135.1115711568, 478120.8636629163, 505845.549018945, 546843.3845500132, 573997.5241050302, 693788.4703966628, 588263.4749914716, 533921.2071996923, 509951.1510951616, 577920.775327574, 490068.311036153, 498857.0690016284, 490396.819260065, 465314.0320098262, 439179.3469201128, 484016.3841036099, 432037.6295649954, 455095.069215073, 454306.03814332, 471657.3229200958, 501081.0906050984, 618648.6788841161, 404869.9758945088, 394396.9488975088, 393897.592566198, 396753.2021103232, 476042.5303707364, 414711.4887495788, 476687.766147064, 462354.1917032981, 506840.8604006143, 484262.601927169, 542177.4352041754, 571389.540798124, 453069.6618826015, 468326.5044342316, 444568.4755300839, 448361.8619566447, 442939.0744452621, 443413.7061418867, 431621.8937506067, 438662.8536481229, 442381.892346695, 421946.1367129548, 536924.4162539764, 551575.1313889401, 452742.9401760062, 440671.8113022766, 438424.2405207276, 524237.6436420939, 502986.2430753183, 523678.2536080267, 544077.9283634855, 485728.1837003603, 475301.3365999425, 499375.4026998025, 556849.2358228553, 597075.0136013681, 521536.4506043365, 565854.2128038037, 501635.7704362937, 514592.0318385925, 502951.3917628974, 493995.8218335877, 462329.0693709616, 462619.2424788662, 447645.9068106326, 480412.0799410933, 479545.515253911, 478174.5515566735, 345116.3429841545, 368523.036063622, 436571.0538314994, 455092.7219214196, 572520.6357611774, 517235.2849160776, 539847.2519793534, 608463.0848899594, 609804.8748353553, 562637.7265698756, 562835.2360615823, 563458.8424821763, 623480.4126546595, 647100.0067067127, 635751.0916838956, 641562.153849845, 561381.8813274757, 563310.2900264057, 568197.1793650365, 592292.52902208, 587753.1335696278, 571834.0986081482, 2634368.840183024, 2760182.669930118, 2770334.092689774, 3176641.243278258, 3264356.044595119, 2869931.609129978, 3324068.967269962, 2932100.11279284, 2833044.190054961, 2711729.268880063, 2769392.027306489, 2685361.008361685, 2708259.27072389, 2708928.649296758, 2591538.293501503, 2824538.681211269, 3139001.982756743, 3267604.434809093, 2967120.845967592, 2955578.98849901, 2972358.186651, 2685321.195192046, 2606375.65915893, 2535183.676399176, 2720039.218890184, 2874615.231815928, 2718254.401503748, 2588530.159090815, 2425536.830097856, 2373594.915467833, 2277273.849680846, 2342689.724580286, 2626058.708062707, 2885867.13373568, 2480101.899251407, 2396998.95681908, 2206241.951593115, 2267188.962317278, 2306777.045018571, 2466560.851095221, 2698677.587325904, 2585387.279373, 2902648.542579825, 2635355.652642215, 3003952.570769249, 3107060.768167735, 2614437.290611091, 2533028.918811129, 2503232.052811027, 2407668.718695499, 2568656.467749375, 2566002.860443762, 2637542.77230812, 2497129.139631405, 2582038.535615719, 2721972.898203935, 3194284.660691672, 2849754.134712133, 2976573.543000213, 2641698.312798798, 2473220.947057426, 2489937.094243774, 2628412.960279277, 2777864.045104836, 2743092.531527222, 2479732.522722125, 2498179.236194718, 2650415.988756866, 2829730.337627514, 3199229.247254669, 2965153.067095987, 2700601.323781384, 2752983.760156098, 2908017.642712957, 2393248.815399134, 2601796.372923764, 2816764.091487347, 2706821.881260899, 2488000.731786813, 2431546.562163545, 2293915.175271454, 2374437.704836953, 2290643.888921742, 2303084.746520452, 2667261.281390637, 2926976.797311885, 2246979.393866457, 2194879.158025778, 2074167.188045989, 2189993.905197012, 2192346.341715035, 2283798.333151146, 2474775.642198499, 2258362.0058612, 2612628.542620118, 2498177.779799757, 2779525.406261482, 2831082.299887066, 2400010.702203261, 2431621.266151989, 2416853.005066616, 2343154.215106094, 2310535.502308555, 2453948.263104522, 2297872.454003762, 2419297.036745709, 2402847.39247223, 2492744.652081301, 2867760.597305155, 2973968.438278548, 2334842.709824163, 2309118.541051005, 2285584.819806868, 2603077.282701191, 2551206.870508204, 2526078.735916106, 2657056.073255902, 2513572.914824786, 2429701.081540268, 2614876.439223284, 2882788.294725833, 3284553.828919528, 2881038.699104385, 2859809.100474077, 2731322.770021687, 2404740.069038821, 2431564.151396827, 2377516.143491353, 2608994.743909604, 2516576.09839022, 2379023.177337916, 2315196.40272791, 2456017.720800763, 2220530.568650034, 1701011.572556342, 1761310.019759649, 2001726.815884218, 2301765.934298746, 2651172.772551851, 2743252.038333858, 2853330.470262835, 3140282.498625233, 3233130.237391281, 2837332.082418947, 3159768.506027024, 3069332.639419259, 3235238.668231891, 3293143.103421631, 3428334.409442499, 3409453.198293967, 2749988.691673775, 2761366.61097433, 2873655.990786887, 2773094.180603982, 2718479.208870341, 2785053.865600151, 1456749.821680669, 1534787.689347492, 1774839.88347618, 1753178.898349389, 1691050.513187018, 1507033.432421429, 1956695.427289216, 1648118.386818791, 1534104.740191472, 1568471.932253168, 1688016.093833182, 1605426.150268957, 1638023.181773366, 1610021.26414592, 1665792.631000376, 1655232.307499588, 1815848.869384465, 1968391.071732298, 1755162.380699401, 1629537.189071234, 1595061.987089272, 1543900.35979147, 1622902.254502431, 1469509.094261891, 1555863.718180119, 1472956.492495561, 1503381.881944096, 1526487.825585188, 1421150.949279774, 1375277.156382017, 1642219.133245151, 1531576.404075768, 1342945.324496384, 1333821.055650478, 1426081.783077653, 1189413.185666636, 1309141.164662231, 1328817.968454379, 1403321.867336487, 1416861.672395708, 1397492.448613371, 1602144.160934377, 1797459.868533632, 1827154.183807981, 1967372.385809524, 1639003.453335985, 1544004.085250225, 1535332.476008081, 1462526.615880833, 1633045.715241883, 1453677.514997708, 1566857.324099025, 1507040.970986787, 1500157.605232932, 1470746.067295998, 1795086.600222788, 1846409.386916161, 1482298.166746099, 1858735.458407412, 1454633.223085482, 1359207.536770366, 1463013.997196933, 1490896.909712704, 1763867.974841653, 1532319.95840338, 1449834.925151109, 1458036.880449054, 1558378.200347072, 1605247.042552714, 2002828.751784388, 1657915.737934858, 1601454.993859546, 1483636.053363327, 1567159.868827462, 1438329.882629128, 1374760.422996332, 1492654.393962838, 1461048.638665069, 1327976.341461795, 1334490.303921555, 1316664.331294548, 1373770.744418486, 1323576.782596606, 1654427.42205194, 1594175.910451714, 1676458.619381744, 1375497.584773819, 1187534.732224661, 1224850.262441781, 1229307.00406177, 1208459.536688026, 1343753.958270939, 1323108.100584083, 1379676.677990926, 1632373.080446712, 1656075.311820859, 1709375.744867692, 1603322.806574652, 1479491.473559025, 1477875.569902922, 1415485.685571061, 1528399.089550004, 1386056.499767869, 1435886.342924406, 1278234.415688925, 1330873.566445217, 1404568.937617396, 1604997.169882492, 1666193.96166078, 1561122.32832615, 1402166.074982404, 1388613.046347617, 1406763.730186666, 1511576.258024004, 1512120.27588973, 1475401.951366117, 1543189.18018134, 1484399.693175397, 1467696.625796469, 1537257.299141634, 1581484.646226852, 2056957.858462906, 1628218.821743747, 1695370.622457228, 1561296.683547747, 1410114.362203361, 1408628.515268111, 1412105.905554767, 1409634.897464058, 1418293.485998195, 1305164.304014362, 1302575.473703268, 1201520.335257932, 1110406.118750007, 922123.1204248591, 944317.2157832992, 1186213.619117522, 1074705.012568912, 1702624.973825812, 1669242.69398891, 1725955.375488056, 2053087.684033857, 2013970.126972645, 1904467.812753475, 1910878.373662383, 1904510.761670838, 2086928.612175911, 2184875.449400435, 2187607.983157181, 2234889.898019568, 2223249.674250581, 2027476.864124658, 1857994.951040521, 2158145.842390456, 1874397.593467169, 1592760.490111639, 400865.5942368279, 657233.7868671131, 663677.2143339734, 586027.4336904192, 549508.9887556235, 561596.514841827, 538847.9890731517, 580693.5707913288, 611636.3615496675, 730999.3000280409, 620624.6182406824, 673308.7695076725, 640879.9332476843, 835080.9209669736, 809889.1239521452, 644632.8203335684, 623623.6896600793, 601153.6528157123, 669096.4673406447, 656940.5545830046, 651868.7782019061, 610145.5960299784, 616001.7629429558, 643527.1579614445, 662525.5101869374, 767026.4713161901, 669035.780101513, 759179.1255445003, 635173.1038493847, 579860.9171817292, 646444.6614734804, 642961.0204111884, 686086.3042189177, 676449.4860504445, 636530.8240177674, 661589.6985084334, 764980.9053404232, 685639.1505879486, 859353.8958398572, 776983.283209589, 706731.9468155468, 689287.5108206666, 719564.5447115924, 649520.7273119265, 612474.2216339682, 636954.4281801987, 612651.6904970894, 574001.8347836128, 657814.5355982888, 550170.7159371822, 606711.5232173917, 575770.9589081992, 585792.345872728, 627905.9280798291, 761489.2692836208, 554482.4095072198, 547822.3661821211, 510171.4485890071, 528341.5983173335, 562660.9114362687, 595025.6970072171, 620087.1045860146, 574527.2682491948, 607934.0837037407, 639633.0362748061, 787467.9700340193, 846392.3945183943, 651181.922916776, 622997.8517348194, 604555.8197024338, 591304.7999840134, 587226.9912214716, 606485.5090474456, 556901.9528593548, 596379.967943838, 596801.0934227039, 609629.2295615955, 718871.6587508591, 757114.8489928043, 592081.1603419567, 576436.2141359748, 594374.417906475, 673934.1718955361, 655740.7612358754, 575697.6414526319, 689475.940551434, 626931.51197009, 656033.5183385262, 650507.5085346429, 682928.09250898, 862438.1379979082, 783664.6525817156, 735173.3584425402, 733682.57217429, 649208.8228957779, 624552.8081683754, 626204.594176703, 628911.0188964136, 641206.752238481, 616955.852229958, 645876.0196360071, 550431.5057676043, 519699.6367647689, 434968.4837425775, 463984.1050517507, 572831.4525708881, 662540.9371899619, 795170.2510771989, 760702.1941571732, 733559.4535173527, 831052.0951193497, 793419.3120327003, 718261.8280106776, 724039.3751556986, 768001.7118540583, 782321.9921927159, 851777.2232811713, 947364.0192535142, 994487.5326324198, 867503.7458149143, 803199.6537399931, 806256.3294526666, 833751.1414029963, 853024.7153598325, 756391.4052443217, 2173977.032103576, 2155545.919121663, 2094841.011162552, 2535675.241826159, 2277493.607088, 2090769.646315287, 2406385.618249251, 2321607.038115114, 2227304.303168017, 2474567.442304043, 2079246.102508494, 2155092.972983506, 2170995.596594645, 2311007.000114306, 2200351.355759795, 2226552.999406351, 2569976.924285516, 2703696.420633273, 2633425.684279039, 2441590.702176922, 2550230.036771949, 2319860.821588857, 2305724.717296751, 2370859.551373887, 2451106.908758114, 2273881.087206302, 2201063.984329701, 2401900.135853213, 2020154.924455441, 1982375.328382093, 2483149.658817093, 2142913.399136052, 1944490.194422666, 2147764.540921825, 1992149.34962534, 1959592.491759138, 1847383.400213798, 1910937.959403426, 1898237.871921008, 2007181.390823723, 2222416.604624206, 2111350.165408474, 2509343.295742664, 2450833.459168972, 2550019.662793044, 2313008.254098248, 2196070.137978665, 2132653.526082675, 2135261.484636801, 2096010.598244163, 1928359.995514112, 1961862.905673692, 1928044.768737992, 2027238.264860422, 1988308.729183352, 2651288.257257362, 2211910.062609156, 1841606.550781404, 2340974.309839563, 2081153.584779695, 1945009.321956953, 2376393.022871379, 2039072.683144861, 2124476.198871993, 2075552.517656174, 2055818.186120559, 2034019.500056891, 2113241.845557682, 2187942.357937597, 2682474.05173244, 2272346.405283296, 2168463.14515707, 2178356.796107219, 2317152.911697342, 1985256.803878911, 2057109.750094871, 2258835.510022541, 2216759.019099752, 1997952.079035663, 2147760.302149362, 1787288.858660694, 1914185.829273157, 1865379.410202064, 2094467.535230382, 2018008.918502097, 2568052.56824491, 1779656.909040528, 1722448.613671838, 1657780.992908588, 1752500.806801457, 1782254.168300464, 1847675.897674954, 2033234.377621999, 1862298.878673657, 2051178.251334092, 2151699.536727613, 2256548.294197786, 2086616.765145305, 1978913.478295632, 1946932.960311908, 1963266.508336586, 1854653.479729932, 1836769.413827782, 1849765.487929735, 1859628.511194323, 1916279.930440686, 1910292.637399483, 2300727.711495953, 2090430.435594788, 1806228.030073318, 1879606.812678967, 1904957.147936894, 1947752.964673786, 2557737.929951426, 2036592.755721962, 1984176.779989305, 2069824.944404338, 2051208.77507349, 2030062.480177317, 2026438.780978565, 2317947.2075929, 2699077.634855784, 2459248.99120319, 2304847.776112456, 2259382.09983543, 2169872.786042465, 2056900.449469137, 2131372.68290389, 2186388.187919467, 2129710.107863768, 1974105.614269987, 2089247.921319393, 1872791.91739453, 1612683.336626691, 1235302.134948292, 1294007.234255016, 1456142.571636864, 1494888.586703174, 1838797.679825191, 1820176.199552675, 1992516.726593521, 2380274.942899977, 2474395.449158682, 2366523.295919454, 2414120.51889532, 2393014.988591331, 2410339.456042459, 2452462.002642554, 2052963.758172008, 1748782.736679036, 1474484.029808089, 1534077.680473221, 923406.3721405836, 101105.8778725927, 137552.9633831789, 77309.11116223564, 770294.9737615981, 919437.2439854394, 1129704.862070959, 1027685.613751038, 976021.2941384722, 947474.3031400068, 926734.7707004084, 939314.2848296785, 1037653.165741358, 1042241.692120809, 1007671.178662462, 1064820.623453255, 1134927.541729526, 1202726.947343207, 1265155.285260032, 1193814.781499005, 1112481.24125399, 1125611.966440368, 1075246.459425593, 1016763.425038738, 1028741.205776156, 1031974.520451041, 1012854.154555203, 1014292.057015475, 1020549.691470501, 1229749.169073341, 1178092.272604025, 1037496.322159593, 1231892.204782497, 1062318.022969897, 1007305.492034842, 1062245.747119074, 1117332.776382334, 1242202.556330491, 1175279.438227872, 1062804.266890284, 1028223.62901654, 1113662.653377824, 1093936.478538533, 1314052.538065806, 1099475.609432149, 1165249.310981606, 1143605.144547776, 1135066.174054666, 988897.9696313373, 983359.7467489883, 1006985.418135264, 1004537.895405184, 1031682.322477833, 933298.0515579176, 918947.4262138959, 963878.3890463642, 999712.7315019409, 1033663.180163449, 1122749.257956435, 1163351.558520483, 966267.9037711167, 937348.7476006718, 912838.2353666924, 919850.7362910638, 965972.2002541064, 962986.4003331241, 950394.8417318636, 971775.7984825049, 1071445.144963326, 1054347.983245121, 1224086.549076284, 1254587.65174255, 1086151.76788414, 1074235.608999317, 1044329.951975798, 1008600.558081617, 1026179.868181753, 1024166.182240155, 990612.4935780433, 968021.0489546586, 962613.9683998523, 1024338.940097731, 1198266.047125181, 1134747.252044384, 1017575.810739616, 1018053.610999822, 1002744.028979319, 1075291.176284906, 1102402.460359027, 1098636.599916505, 1097397.594211326, 1020380.036712058, 1053366.402333025, 1043146.891437367, 1033827.500736153, 1412568.351994483, 1152209.454915632, 1120015.964468578, 1188675.190409752, 1028121.740348111, 1042965.415979692, 1024707.311044681, 1023792.988866948, 1003042.477310696, 1019547.988475308, 924003.8583653866, 978775.95326941, 901311.0198578313, 663962.0612222215, 686500.575832631, 866084.044033757, 782932.9481527813, 1161703.651907744, 1096142.996858809, 1108498.679264195, 1229172.47358018, 1145625.471834579, 1167187.236680397, 1109709.715788086, 1186871.637307797, 1259688.225141553, 1316347.087654828, 1449490.280263191, 1495237.554726775, 1418697.254347753, 1364894.742805736, 1351591.411319429, 1385729.187643929, 1362193.248057242, 1271019.578751108]}],                        {\"legend\": {\"tracegroupgap\": 0}, \"margin\": {\"t\": 60}, \"paper_bgcolor\": \"#C0C0C0\", \"template\": {\"data\": {\"bar\": [{\"error_x\": {\"color\": \"#2a3f5f\"}, \"error_y\": {\"color\": \"#2a3f5f\"}, \"marker\": {\"line\": {\"color\": \"#E5ECF6\", \"width\": 0.5}}, \"type\": \"bar\"}], \"barpolar\": [{\"marker\": {\"line\": {\"color\": \"#E5ECF6\", \"width\": 0.5}}, \"type\": \"barpolar\"}], \"carpet\": [{\"aaxis\": {\"endlinecolor\": \"#2a3f5f\", \"gridcolor\": \"white\", \"linecolor\": \"white\", \"minorgridcolor\": \"white\", \"startlinecolor\": \"#2a3f5f\"}, \"baxis\": {\"endlinecolor\": \"#2a3f5f\", \"gridcolor\": \"white\", \"linecolor\": \"white\", \"minorgridcolor\": \"white\", \"startlinecolor\": \"#2a3f5f\"}, \"type\": \"carpet\"}], \"choropleth\": [{\"colorbar\": {\"outlinewidth\": 0, \"ticks\": \"\"}, \"type\": \"choropleth\"}], \"contour\": [{\"colorbar\": {\"outlinewidth\": 0, \"ticks\": \"\"}, \"colorscale\": [[0.0, \"#0d0887\"], [0.1111111111111111, \"#46039f\"], [0.2222222222222222, \"#7201a8\"], [0.3333333333333333, \"#9c179e\"], [0.4444444444444444, \"#bd3786\"], [0.5555555555555556, \"#d8576b\"], [0.6666666666666666, \"#ed7953\"], [0.7777777777777778, \"#fb9f3a\"], [0.8888888888888888, \"#fdca26\"], [1.0, \"#f0f921\"]], \"type\": \"contour\"}], \"contourcarpet\": [{\"colorbar\": {\"outlinewidth\": 0, \"ticks\": \"\"}, \"type\": \"contourcarpet\"}], \"heatmap\": [{\"colorbar\": {\"outlinewidth\": 0, \"ticks\": \"\"}, \"colorscale\": [[0.0, \"#0d0887\"], [0.1111111111111111, \"#46039f\"], [0.2222222222222222, \"#7201a8\"], [0.3333333333333333, \"#9c179e\"], [0.4444444444444444, \"#bd3786\"], [0.5555555555555556, \"#d8576b\"], [0.6666666666666666, \"#ed7953\"], [0.7777777777777778, \"#fb9f3a\"], [0.8888888888888888, \"#fdca26\"], [1.0, \"#f0f921\"]], \"type\": \"heatmap\"}], \"heatmapgl\": [{\"colorbar\": {\"outlinewidth\": 0, \"ticks\": \"\"}, \"colorscale\": [[0.0, \"#0d0887\"], [0.1111111111111111, \"#46039f\"], [0.2222222222222222, \"#7201a8\"], [0.3333333333333333, \"#9c179e\"], [0.4444444444444444, \"#bd3786\"], [0.5555555555555556, \"#d8576b\"], [0.6666666666666666, \"#ed7953\"], [0.7777777777777778, \"#fb9f3a\"], [0.8888888888888888, \"#fdca26\"], [1.0, \"#f0f921\"]], \"type\": \"heatmapgl\"}], \"histogram\": [{\"marker\": {\"colorbar\": {\"outlinewidth\": 0, \"ticks\": \"\"}}, \"type\": \"histogram\"}], \"histogram2d\": [{\"colorbar\": {\"outlinewidth\": 0, \"ticks\": \"\"}, \"colorscale\": [[0.0, \"#0d0887\"], [0.1111111111111111, \"#46039f\"], [0.2222222222222222, \"#7201a8\"], [0.3333333333333333, \"#9c179e\"], [0.4444444444444444, \"#bd3786\"], [0.5555555555555556, \"#d8576b\"], [0.6666666666666666, \"#ed7953\"], [0.7777777777777778, \"#fb9f3a\"], [0.8888888888888888, \"#fdca26\"], [1.0, \"#f0f921\"]], \"type\": \"histogram2d\"}], \"histogram2dcontour\": [{\"colorbar\": {\"outlinewidth\": 0, \"ticks\": \"\"}, \"colorscale\": [[0.0, \"#0d0887\"], [0.1111111111111111, \"#46039f\"], [0.2222222222222222, \"#7201a8\"], [0.3333333333333333, \"#9c179e\"], [0.4444444444444444, \"#bd3786\"], [0.5555555555555556, \"#d8576b\"], [0.6666666666666666, \"#ed7953\"], [0.7777777777777778, \"#fb9f3a\"], [0.8888888888888888, \"#fdca26\"], [1.0, \"#f0f921\"]], \"type\": \"histogram2dcontour\"}], \"mesh3d\": [{\"colorbar\": {\"outlinewidth\": 0, \"ticks\": \"\"}, \"type\": \"mesh3d\"}], \"parcoords\": [{\"line\": {\"colorbar\": {\"outlinewidth\": 0, \"ticks\": \"\"}}, \"type\": \"parcoords\"}], \"pie\": [{\"automargin\": true, \"type\": \"pie\"}], \"scatter\": [{\"marker\": {\"colorbar\": {\"outlinewidth\": 0, \"ticks\": \"\"}}, \"type\": \"scatter\"}], \"scatter3d\": [{\"line\": {\"colorbar\": {\"outlinewidth\": 0, \"ticks\": \"\"}}, \"marker\": {\"colorbar\": {\"outlinewidth\": 0, \"ticks\": \"\"}}, \"type\": \"scatter3d\"}], \"scattercarpet\": [{\"marker\": {\"colorbar\": {\"outlinewidth\": 0, \"ticks\": \"\"}}, \"type\": \"scattercarpet\"}], \"scattergeo\": [{\"marker\": {\"colorbar\": {\"outlinewidth\": 0, \"ticks\": \"\"}}, \"type\": \"scattergeo\"}], \"scattergl\": [{\"marker\": {\"colorbar\": {\"outlinewidth\": 0, \"ticks\": \"\"}}, \"type\": \"scattergl\"}], \"scattermapbox\": [{\"marker\": {\"colorbar\": {\"outlinewidth\": 0, \"ticks\": \"\"}}, \"type\": \"scattermapbox\"}], \"scatterpolar\": [{\"marker\": {\"colorbar\": {\"outlinewidth\": 0, \"ticks\": \"\"}}, \"type\": \"scatterpolar\"}], \"scatterpolargl\": [{\"marker\": {\"colorbar\": {\"outlinewidth\": 0, \"ticks\": \"\"}}, \"type\": \"scatterpolargl\"}], \"scatterternary\": [{\"marker\": {\"colorbar\": {\"outlinewidth\": 0, \"ticks\": \"\"}}, \"type\": \"scatterternary\"}], \"surface\": [{\"colorbar\": {\"outlinewidth\": 0, \"ticks\": \"\"}, \"colorscale\": [[0.0, \"#0d0887\"], [0.1111111111111111, \"#46039f\"], [0.2222222222222222, \"#7201a8\"], [0.3333333333333333, \"#9c179e\"], [0.4444444444444444, \"#bd3786\"], [0.5555555555555556, \"#d8576b\"], [0.6666666666666666, \"#ed7953\"], [0.7777777777777778, \"#fb9f3a\"], [0.8888888888888888, \"#fdca26\"], [1.0, \"#f0f921\"]], \"type\": \"surface\"}], \"table\": [{\"cells\": {\"fill\": {\"color\": \"#EBF0F8\"}, \"line\": {\"color\": \"white\"}}, \"header\": {\"fill\": {\"color\": \"#C8D4E3\"}, \"line\": {\"color\": \"white\"}}, \"type\": \"table\"}]}, \"layout\": {\"annotationdefaults\": {\"arrowcolor\": \"#2a3f5f\", \"arrowhead\": 0, \"arrowwidth\": 1}, \"autotypenumbers\": \"strict\", \"coloraxis\": {\"colorbar\": {\"outlinewidth\": 0, \"ticks\": \"\"}}, \"colorscale\": {\"diverging\": [[0, \"#8e0152\"], [0.1, \"#c51b7d\"], [0.2, \"#de77ae\"], [0.3, \"#f1b6da\"], [0.4, \"#fde0ef\"], [0.5, \"#f7f7f7\"], [0.6, \"#e6f5d0\"], [0.7, \"#b8e186\"], [0.8, \"#7fbc41\"], [0.9, \"#4d9221\"], [1, \"#276419\"]], \"sequential\": [[0.0, \"#0d0887\"], [0.1111111111111111, \"#46039f\"], [0.2222222222222222, \"#7201a8\"], [0.3333333333333333, \"#9c179e\"], [0.4444444444444444, \"#bd3786\"], [0.5555555555555556, \"#d8576b\"], [0.6666666666666666, \"#ed7953\"], [0.7777777777777778, \"#fb9f3a\"], [0.8888888888888888, \"#fdca26\"], [1.0, \"#f0f921\"]], \"sequentialminus\": [[0.0, \"#0d0887\"], [0.1111111111111111, \"#46039f\"], [0.2222222222222222, \"#7201a8\"], [0.3333333333333333, \"#9c179e\"], [0.4444444444444444, \"#bd3786\"], [0.5555555555555556, \"#d8576b\"], [0.6666666666666666, \"#ed7953\"], [0.7777777777777778, \"#fb9f3a\"], [0.8888888888888888, \"#fdca26\"], [1.0, \"#f0f921\"]]}, \"colorway\": [\"#636efa\", \"#EF553B\", \"#00cc96\", \"#ab63fa\", \"#FFA15A\", \"#19d3f3\", \"#FF6692\", \"#B6E880\", \"#FF97FF\", \"#FECB52\"], \"font\": {\"color\": \"#2a3f5f\"}, \"geo\": {\"bgcolor\": \"white\", \"lakecolor\": \"white\", \"landcolor\": \"#E5ECF6\", \"showlakes\": true, \"showland\": true, \"subunitcolor\": \"white\"}, \"hoverlabel\": {\"align\": \"left\"}, \"hovermode\": \"closest\", \"mapbox\": {\"style\": \"light\"}, \"paper_bgcolor\": \"white\", \"plot_bgcolor\": \"#E5ECF6\", \"polar\": {\"angularaxis\": {\"gridcolor\": \"white\", \"linecolor\": \"white\", \"ticks\": \"\"}, \"bgcolor\": \"#E5ECF6\", \"radialaxis\": {\"gridcolor\": \"white\", \"linecolor\": \"white\", \"ticks\": \"\"}}, \"scene\": {\"xaxis\": {\"backgroundcolor\": \"#E5ECF6\", \"gridcolor\": \"white\", \"gridwidth\": 2, \"linecolor\": \"white\", \"showbackground\": true, \"ticks\": \"\", \"zerolinecolor\": \"white\"}, \"yaxis\": {\"backgroundcolor\": \"#E5ECF6\", \"gridcolor\": \"white\", \"gridwidth\": 2, \"linecolor\": \"white\", \"showbackground\": true, \"ticks\": \"\", \"zerolinecolor\": \"white\"}, \"zaxis\": {\"backgroundcolor\": \"#E5ECF6\", \"gridcolor\": \"white\", \"gridwidth\": 2, \"linecolor\": \"white\", \"showbackground\": true, \"ticks\": \"\", \"zerolinecolor\": \"white\"}}, \"shapedefaults\": {\"line\": {\"color\": \"#2a3f5f\"}}, \"ternary\": {\"aaxis\": {\"gridcolor\": \"white\", \"linecolor\": \"white\", \"ticks\": \"\"}, \"baxis\": {\"gridcolor\": \"white\", \"linecolor\": \"white\", \"ticks\": \"\"}, \"bgcolor\": \"#E5ECF6\", \"caxis\": {\"gridcolor\": \"white\", \"linecolor\": \"white\", \"ticks\": \"\"}}, \"title\": {\"x\": 0.05}, \"xaxis\": {\"automargin\": true, \"gridcolor\": \"white\", \"linecolor\": \"white\", \"ticks\": \"\", \"title\": {\"standoff\": 15}, \"zerolinecolor\": \"white\", \"zerolinewidth\": 2}, \"yaxis\": {\"automargin\": true, \"gridcolor\": \"white\", \"linecolor\": \"white\", \"ticks\": \"\", \"title\": {\"standoff\": 15}, \"zerolinecolor\": \"white\", \"zerolinewidth\": 2}}}, \"title\": {\"text\": \"Percentage of Sales across states over FY18 - FY20\", \"x\": 0.5}},                        {\"responsive\": true}                    ).then(function(){\n",
       "                            \n",
       "var gd = document.getElementById('14cab829-58f6-4b80-bb36-b5c58d0206cf');\n",
       "var x = new MutationObserver(function (mutations, observer) {{\n",
       "        var display = window.getComputedStyle(gd).display;\n",
       "        if (!display || display === 'none') {{\n",
       "            console.log([gd, 'removed!']);\n",
       "            Plotly.purge(gd);\n",
       "            observer.disconnect();\n",
       "        }}\n",
       "}});\n",
       "\n",
       "// Listen for the removal of the full notebook cells\n",
       "var notebookContainer = gd.closest('#notebook-container');\n",
       "if (notebookContainer) {{\n",
       "    x.observe(notebookContainer, {childList: true});\n",
       "}}\n",
       "\n",
       "// Listen for the clearing of the current output cell\n",
       "var outputEl = gd.closest('.output');\n",
       "if (outputEl) {{\n",
       "    x.observe(outputEl, {childList: true});\n",
       "}}\n",
       "\n",
       "                        })                };                });            </script>        </div>"
      ]
     },
     "metadata": {},
     "output_type": "display_data"
    }
   ],
   "source": [
    "fig = px.pie(df1, values='Sales', names='State')\n",
    "fig.update_layout(paper_bgcolor=\"#C0C0C0\",title_text='Percentage of Sales across states over FY18 - FY20', title_x=0.5)\n",
    "#fig.update_layout(paper_bgcolor=\"black\")\n",
    "fig.show()"
   ]
  },
  {
   "cell_type": "code",
   "execution_count": 37,
   "metadata": {},
   "outputs": [],
   "source": [
    "ad_fy20=df1[df1['Financial Year']==\"FY20\"]"
   ]
  },
  {
   "cell_type": "code",
   "execution_count": 39,
   "metadata": {},
   "outputs": [
    {
     "data": {
      "application/vnd.plotly.v1+json": {
       "config": {
        "plotlyServerURL": "https://plot.ly"
       },
       "data": [
        {
         "domain": {
          "x": [
           0,
           1
          ],
          "y": [
           0,
           1
          ]
         },
         "hole": 0.5,
         "hovertemplate": "State=%{label}<br>Sales=%{value}<extra></extra>",
         "labels": [
          "ACT",
          "ACT",
          "ACT",
          "ACT",
          "ACT",
          "ACT",
          "ACT",
          "ACT",
          "ACT",
          "ACT",
          "ACT",
          "ACT",
          "ACT",
          "ACT",
          "ACT",
          "ACT",
          "ACT",
          "ACT",
          "ACT",
          "ACT",
          "ACT",
          "ACT",
          "ACT",
          "ACT",
          "ACT",
          "ACT",
          "ACT",
          "ACT",
          "ACT",
          "ACT",
          "ACT",
          "ACT",
          "ACT",
          "ACT",
          "ACT",
          "ACT",
          "ACT",
          "ACT",
          "ACT",
          "ACT",
          "ACT",
          "ACT",
          "ACT",
          "ACT",
          "ACT",
          "ACT",
          "ACT",
          "ACT",
          "ACT",
          "ACT",
          "ACT",
          "ACT",
          "ACT",
          "ACT",
          "ACT",
          "ACT",
          "ACT",
          "ACT",
          "ACT",
          "ACT",
          "ACT",
          "ACT",
          "ACT",
          "ACT",
          "ACT",
          "ACT",
          "ACT",
          "ACT",
          "ACT",
          "ACT",
          "ACT",
          "ACT",
          "ACT",
          "ACT",
          "ACT",
          "ACT",
          "ACT",
          "ACT",
          "ACT",
          "ACT",
          "ACT",
          "ACT",
          "ACT",
          "ACT",
          "ACT",
          "ACT",
          "ACT",
          "ACT",
          "ACT",
          "ACT",
          "ACT",
          "ACT",
          "ACT",
          "ACT",
          "ACT",
          "ACT",
          "ACT",
          "ACT",
          "ACT",
          "ACT",
          "ACT",
          "ACT",
          "ACT",
          "ACT",
          "ACT",
          "ACT",
          "ACT",
          "ACT",
          "ACT",
          "ACT",
          "ACT",
          "ACT",
          "ACT",
          "ACT",
          "ACT",
          "ACT",
          "ACT",
          "ACT",
          "ACT",
          "ACT",
          "ACT",
          "ACT",
          "ACT",
          "ACT",
          "ACT",
          "ACT",
          "ACT",
          "ACT",
          "ACT",
          "ACT",
          "ACT",
          "ACT",
          "ACT",
          "ACT",
          "ACT",
          "ACT",
          "ACT",
          "ACT",
          "ACT",
          "ACT",
          "ACT",
          "ACT",
          "ACT",
          "ACT",
          "ACT",
          "ACT",
          "ACT",
          "ACT",
          "ACT",
          "ACT",
          "ACT",
          "ACT",
          "ACT",
          "ACT",
          "ACT",
          "ACT",
          "NSW",
          "NSW",
          "NSW",
          "NSW",
          "NSW",
          "NSW",
          "NSW",
          "NSW",
          "NSW",
          "NSW",
          "NSW",
          "NSW",
          "NSW",
          "NSW",
          "NSW",
          "NSW",
          "NSW",
          "NSW",
          "NSW",
          "NSW",
          "NSW",
          "NSW",
          "NSW",
          "NSW",
          "NSW",
          "NSW",
          "NSW",
          "NSW",
          "NSW",
          "NSW",
          "NSW",
          "NSW",
          "NSW",
          "NSW",
          "NSW",
          "NSW",
          "NSW",
          "NSW",
          "NSW",
          "NSW",
          "NSW",
          "NSW",
          "NSW",
          "NSW",
          "NSW",
          "NSW",
          "NSW",
          "NSW",
          "NSW",
          "NSW",
          "NSW",
          "NSW",
          "NSW",
          "NSW",
          "NSW",
          "NSW",
          "NSW",
          "NSW",
          "NSW",
          "NSW",
          "NSW",
          "NSW",
          "NSW",
          "NSW",
          "NSW",
          "NSW",
          "NSW",
          "NSW",
          "NSW",
          "NSW",
          "NSW",
          "NSW",
          "NSW",
          "NSW",
          "NSW",
          "NSW",
          "NSW",
          "NSW",
          "NSW",
          "NSW",
          "NSW",
          "NSW",
          "NSW",
          "NSW",
          "NSW",
          "NSW",
          "NSW",
          "NSW",
          "NSW",
          "NSW",
          "NSW",
          "NSW",
          "NSW",
          "NSW",
          "NSW",
          "NSW",
          "NSW",
          "NSW",
          "NSW",
          "NSW",
          "NSW",
          "NSW",
          "NSW",
          "NSW",
          "NSW",
          "NSW",
          "NSW",
          "NSW",
          "NSW",
          "NSW",
          "NSW",
          "NSW",
          "NSW",
          "NSW",
          "NSW",
          "NSW",
          "NSW",
          "NSW",
          "NSW",
          "NSW",
          "NSW",
          "NSW",
          "NSW",
          "NSW",
          "NSW",
          "NSW",
          "NSW",
          "NSW",
          "NSW",
          "NSW",
          "NSW",
          "NSW",
          "NSW",
          "NSW",
          "NSW",
          "NSW",
          "NSW",
          "NSW",
          "NSW",
          "NSW",
          "NSW",
          "NSW",
          "NSW",
          "NSW",
          "NSW",
          "NSW",
          "NSW",
          "NSW",
          "NSW",
          "NSW",
          "NSW",
          "NSW",
          "NSW",
          "NSW",
          "NSW",
          "NSW",
          "QLD",
          "QLD",
          "QLD",
          "QLD",
          "QLD",
          "QLD",
          "QLD",
          "QLD",
          "QLD",
          "QLD",
          "QLD",
          "QLD",
          "QLD",
          "QLD",
          "QLD",
          "QLD",
          "QLD",
          "QLD",
          "QLD",
          "QLD",
          "QLD",
          "QLD",
          "QLD",
          "QLD",
          "QLD",
          "QLD",
          "QLD",
          "QLD",
          "QLD",
          "QLD",
          "QLD",
          "QLD",
          "QLD",
          "QLD",
          "QLD",
          "QLD",
          "QLD",
          "QLD",
          "QLD",
          "QLD",
          "QLD",
          "QLD",
          "QLD",
          "QLD",
          "QLD",
          "QLD",
          "QLD",
          "QLD",
          "QLD",
          "QLD",
          "QLD",
          "QLD",
          "QLD",
          "QLD",
          "QLD",
          "QLD",
          "QLD",
          "QLD",
          "QLD",
          "QLD",
          "QLD",
          "QLD",
          "QLD",
          "QLD",
          "QLD",
          "QLD",
          "QLD",
          "QLD",
          "QLD",
          "QLD",
          "QLD",
          "QLD",
          "QLD",
          "QLD",
          "QLD",
          "QLD",
          "QLD",
          "QLD",
          "QLD",
          "QLD",
          "QLD",
          "QLD",
          "QLD",
          "QLD",
          "QLD",
          "QLD",
          "QLD",
          "QLD",
          "QLD",
          "QLD",
          "QLD",
          "QLD",
          "QLD",
          "QLD",
          "QLD",
          "QLD",
          "QLD",
          "QLD",
          "QLD",
          "QLD",
          "QLD",
          "QLD",
          "QLD",
          "QLD",
          "QLD",
          "QLD",
          "QLD",
          "QLD",
          "QLD",
          "QLD",
          "QLD",
          "QLD",
          "QLD",
          "QLD",
          "QLD",
          "QLD",
          "QLD",
          "QLD",
          "QLD",
          "QLD",
          "QLD",
          "QLD",
          "QLD",
          "QLD",
          "QLD",
          "QLD",
          "QLD",
          "QLD",
          "QLD",
          "QLD",
          "QLD",
          "QLD",
          "QLD",
          "QLD",
          "QLD",
          "QLD",
          "QLD",
          "QLD",
          "QLD",
          "QLD",
          "QLD",
          "QLD",
          "QLD",
          "QLD",
          "QLD",
          "QLD",
          "QLD",
          "QLD",
          "QLD",
          "QLD",
          "QLD",
          "QLD",
          "QLD",
          "QLD",
          "QLD",
          "QLD",
          "SA",
          "SA",
          "SA",
          "SA",
          "SA",
          "SA",
          "SA",
          "SA",
          "SA",
          "SA",
          "SA",
          "SA",
          "SA",
          "SA",
          "SA",
          "SA",
          "SA",
          "SA",
          "SA",
          "SA",
          "SA",
          "SA",
          "SA",
          "SA",
          "SA",
          "SA",
          "SA",
          "SA",
          "SA",
          "SA",
          "SA",
          "SA",
          "SA",
          "SA",
          "SA",
          "SA",
          "SA",
          "SA",
          "SA",
          "SA",
          "SA",
          "SA",
          "SA",
          "SA",
          "SA",
          "SA",
          "SA",
          "SA",
          "SA",
          "SA",
          "SA",
          "SA",
          "SA",
          "SA",
          "SA",
          "SA",
          "SA",
          "SA",
          "SA",
          "SA",
          "SA",
          "SA",
          "SA",
          "SA",
          "SA",
          "SA",
          "SA",
          "SA",
          "SA",
          "SA",
          "SA",
          "SA",
          "SA",
          "SA",
          "SA",
          "SA",
          "SA",
          "SA",
          "SA",
          "SA",
          "SA",
          "SA",
          "SA",
          "SA",
          "SA",
          "SA",
          "SA",
          "SA",
          "SA",
          "SA",
          "SA",
          "SA",
          "SA",
          "SA",
          "SA",
          "SA",
          "SA",
          "SA",
          "SA",
          "SA",
          "SA",
          "SA",
          "SA",
          "SA",
          "SA",
          "SA",
          "SA",
          "SA",
          "SA",
          "SA",
          "SA",
          "SA",
          "SA",
          "SA",
          "SA",
          "SA",
          "SA",
          "SA",
          "SA",
          "SA",
          "SA",
          "SA",
          "SA",
          "SA",
          "SA",
          "VIC",
          "VIC",
          "VIC",
          "VIC",
          "VIC",
          "VIC",
          "VIC",
          "VIC",
          "VIC",
          "VIC",
          "VIC",
          "VIC",
          "VIC",
          "VIC",
          "VIC",
          "VIC",
          "VIC",
          "VIC",
          "VIC",
          "VIC",
          "VIC",
          "VIC",
          "VIC",
          "VIC",
          "VIC",
          "VIC",
          "VIC",
          "VIC",
          "VIC",
          "VIC",
          "VIC",
          "VIC",
          "VIC",
          "VIC",
          "VIC",
          "VIC",
          "VIC",
          "VIC",
          "VIC",
          "VIC",
          "VIC",
          "VIC",
          "VIC",
          "VIC",
          "VIC",
          "VIC",
          "VIC",
          "VIC",
          "VIC",
          "VIC",
          "VIC",
          "VIC",
          "VIC",
          "VIC",
          "VIC",
          "VIC",
          "VIC",
          "VIC",
          "VIC",
          "VIC",
          "VIC",
          "VIC",
          "VIC",
          "VIC",
          "VIC",
          "VIC",
          "VIC",
          "VIC",
          "VIC",
          "VIC",
          "VIC",
          "VIC",
          "VIC",
          "VIC",
          "VIC",
          "VIC",
          "VIC",
          "VIC",
          "VIC",
          "VIC",
          "VIC",
          "VIC",
          "VIC",
          "VIC",
          "VIC",
          "VIC",
          "VIC",
          "VIC",
          "VIC",
          "VIC",
          "VIC",
          "VIC",
          "VIC",
          "VIC",
          "VIC",
          "VIC",
          "VIC",
          "VIC",
          "VIC",
          "VIC",
          "VIC",
          "VIC",
          "VIC",
          "VIC",
          "VIC",
          "VIC",
          "VIC",
          "VIC",
          "VIC",
          "VIC",
          "VIC",
          "VIC",
          "VIC",
          "VIC",
          "VIC",
          "VIC",
          "VIC",
          "VIC",
          "VIC",
          "VIC",
          "VIC",
          "VIC",
          "VIC",
          "VIC",
          "VIC",
          "VIC",
          "VIC",
          "VIC",
          "VIC",
          "VIC",
          "VIC",
          "VIC",
          "VIC",
          "VIC",
          "VIC",
          "VIC",
          "VIC",
          "VIC",
          "VIC",
          "VIC",
          "VIC",
          "VIC",
          "VIC",
          "VIC",
          "VIC",
          "VIC",
          "VIC",
          "VIC",
          "VIC",
          "VIC",
          "VIC",
          "VIC",
          "VIC",
          "VIC",
          "VIC",
          "VIC",
          "WA",
          "WA",
          "WA",
          "WA",
          "WA",
          "WA",
          "WA",
          "WA",
          "WA",
          "WA",
          "WA",
          "WA",
          "WA",
          "WA",
          "WA",
          "WA",
          "WA",
          "WA",
          "WA",
          "WA",
          "WA",
          "WA",
          "WA",
          "WA",
          "WA",
          "WA",
          "WA",
          "WA",
          "WA",
          "WA",
          "WA",
          "WA",
          "WA",
          "WA",
          "WA",
          "WA",
          "WA",
          "WA",
          "WA",
          "WA",
          "WA",
          "WA",
          "WA",
          "WA",
          "WA",
          "WA",
          "WA",
          "WA",
          "WA",
          "WA",
          "WA",
          "WA",
          "WA",
          "WA",
          "WA",
          "WA",
          "WA",
          "WA",
          "WA",
          "WA",
          "WA",
          "WA",
          "WA",
          "WA",
          "WA",
          "WA",
          "WA",
          "WA",
          "WA",
          "WA",
          "WA",
          "WA",
          "WA",
          "WA",
          "WA",
          "WA",
          "WA",
          "WA",
          "WA",
          "WA",
          "WA",
          "WA",
          "WA",
          "WA",
          "WA",
          "WA",
          "WA",
          "WA",
          "WA",
          "WA",
          "WA",
          "WA",
          "WA",
          "WA",
          "WA",
          "WA",
          "WA",
          "WA",
          "WA",
          "WA",
          "WA",
          "WA",
          "WA",
          "WA",
          "WA",
          "WA",
          "WA",
          "WA",
          "WA",
          "WA",
          "WA",
          "WA",
          "WA",
          "WA",
          "WA",
          "WA",
          "WA",
          "WA",
          "WA",
          "WA",
          "WA",
          "WA",
          "WA",
          "WA",
          "WA",
          "WA"
         ],
         "legendgroup": "",
         "name": "",
         "showlegend": true,
         "type": "pie",
         "values": [
          454505.5375427785,
          480922.4681314023,
          442120.9570010478,
          614161.3280557629,
          573988.744290248,
          466411.4873569101,
          575677.5519533862,
          478536.0738202567,
          490950.1306416955,
          458841.7608109359,
          497614.0522966317,
          522541.6338910526,
          512728.5092110469,
          581790.933971901,
          538689.7785409833,
          603831.8797390879,
          611642.3336761048,
          661256.3544514364,
          614483.7512476275,
          564046.6048345199,
          599849.9407278548,
          563327.6385958384,
          539383.2226870244,
          465661.0216568092,
          495986.7961048419,
          448421.5997257916,
          446623.6534469067,
          501089.937816209,
          414056.4131695812,
          436317.2794909275,
          499790.5147760394,
          439945.471144305,
          497025.4832934965,
          515167.1689122569,
          431483.3375085416,
          433090.4202947091,
          418630.337470207,
          421646.6221637158,
          473770.0059273121,
          452811.1176765992,
          528988.6824766202,
          479178.7790022149,
          543856.9887167324,
          502527.8904788496,
          550195.8717375096,
          587563.7122998445,
          493150.7197184591,
          471170.2589023164,
          468857.9123391861,
          484581.3811286866,
          447790.5176692519,
          450784.944274955,
          474514.7134835325,
          455111.5185876278,
          452136.8047693413,
          526127.1978056179,
          615581.7485535417,
          526651.524694211,
          547165.6119281005,
          486649.649130376,
          436648.2935190714,
          469922.9821370994,
          490827.1380079355,
          537654.2014947773,
          536135.1115711568,
          478120.8636629163,
          505845.549018945,
          546843.3845500132,
          573997.5241050302,
          693788.4703966628,
          588263.4749914716,
          533921.2071996923,
          509951.1510951616,
          577920.775327574,
          490068.311036153,
          498857.0690016284,
          490396.819260065,
          465314.0320098262,
          439179.3469201128,
          484016.3841036099,
          432037.6295649954,
          455095.069215073,
          454306.03814332,
          471657.3229200958,
          501081.0906050984,
          618648.6788841161,
          404869.9758945088,
          394396.9488975088,
          393897.592566198,
          396753.2021103232,
          476042.5303707364,
          414711.4887495788,
          476687.766147064,
          462354.1917032981,
          506840.8604006143,
          484262.601927169,
          542177.4352041754,
          571389.540798124,
          453069.6618826015,
          468326.5044342316,
          444568.4755300839,
          448361.8619566447,
          442939.0744452621,
          443413.7061418867,
          431621.8937506067,
          438662.8536481229,
          442381.892346695,
          421946.1367129548,
          536924.4162539764,
          551575.1313889401,
          452742.9401760062,
          440671.8113022766,
          438424.2405207276,
          524237.6436420939,
          502986.2430753183,
          523678.2536080267,
          544077.9283634855,
          485728.1837003603,
          475301.3365999425,
          499375.4026998025,
          556849.2358228553,
          597075.0136013681,
          521536.4506043365,
          565854.2128038037,
          501635.7704362937,
          514592.0318385925,
          502951.3917628974,
          493995.8218335877,
          462329.0693709616,
          462619.2424788662,
          447645.9068106326,
          480412.0799410933,
          479545.515253911,
          478174.5515566735,
          345116.3429841545,
          368523.036063622,
          436571.0538314994,
          455092.7219214196,
          572520.6357611774,
          517235.2849160776,
          539847.2519793534,
          608463.0848899594,
          609804.8748353553,
          562637.7265698756,
          562835.2360615823,
          563458.8424821763,
          623480.4126546595,
          647100.0067067127,
          635751.0916838956,
          641562.153849845,
          561381.8813274757,
          563310.2900264057,
          568197.1793650365,
          592292.52902208,
          587753.1335696278,
          571834.0986081482,
          2634368.840183024,
          2760182.669930118,
          2770334.092689774,
          3176641.243278258,
          3264356.044595119,
          2869931.609129978,
          3324068.967269962,
          2932100.11279284,
          2833044.190054961,
          2711729.268880063,
          2769392.027306489,
          2685361.008361685,
          2708259.27072389,
          2708928.649296758,
          2591538.293501503,
          2824538.681211269,
          3139001.982756743,
          3267604.434809093,
          2967120.845967592,
          2955578.98849901,
          2972358.186651,
          2685321.195192046,
          2606375.65915893,
          2535183.676399176,
          2720039.218890184,
          2874615.231815928,
          2718254.401503748,
          2588530.159090815,
          2425536.830097856,
          2373594.915467833,
          2277273.849680846,
          2342689.724580286,
          2626058.708062707,
          2885867.13373568,
          2480101.899251407,
          2396998.95681908,
          2206241.951593115,
          2267188.962317278,
          2306777.045018571,
          2466560.851095221,
          2698677.587325904,
          2585387.279373,
          2902648.542579825,
          2635355.652642215,
          3003952.570769249,
          3107060.768167735,
          2614437.290611091,
          2533028.918811129,
          2503232.052811027,
          2407668.718695499,
          2568656.467749375,
          2566002.860443762,
          2637542.77230812,
          2497129.139631405,
          2582038.535615719,
          2721972.898203935,
          3194284.660691672,
          2849754.134712133,
          2976573.543000213,
          2641698.312798798,
          2473220.947057426,
          2489937.094243774,
          2628412.960279277,
          2777864.045104836,
          2743092.531527222,
          2479732.522722125,
          2498179.236194718,
          2650415.988756866,
          2829730.337627514,
          3199229.247254669,
          2965153.067095987,
          2700601.323781384,
          2752983.760156098,
          2908017.642712957,
          2393248.815399134,
          2601796.372923764,
          2816764.091487347,
          2706821.881260899,
          2488000.731786813,
          2431546.562163545,
          2293915.175271454,
          2374437.704836953,
          2290643.888921742,
          2303084.746520452,
          2667261.281390637,
          2926976.797311885,
          2246979.393866457,
          2194879.158025778,
          2074167.188045989,
          2189993.905197012,
          2192346.341715035,
          2283798.333151146,
          2474775.642198499,
          2258362.0058612,
          2612628.542620118,
          2498177.779799757,
          2779525.406261482,
          2831082.299887066,
          2400010.702203261,
          2431621.266151989,
          2416853.005066616,
          2343154.215106094,
          2310535.502308555,
          2453948.263104522,
          2297872.454003762,
          2419297.036745709,
          2402847.39247223,
          2492744.652081301,
          2867760.597305155,
          2973968.438278548,
          2334842.709824163,
          2309118.541051005,
          2285584.819806868,
          2603077.282701191,
          2551206.870508204,
          2526078.735916106,
          2657056.073255902,
          2513572.914824786,
          2429701.081540268,
          2614876.439223284,
          2882788.294725833,
          3284553.828919528,
          2881038.699104385,
          2859809.100474077,
          2731322.770021687,
          2404740.069038821,
          2431564.151396827,
          2377516.143491353,
          2608994.743909604,
          2516576.09839022,
          2379023.177337916,
          2315196.40272791,
          2456017.720800763,
          2220530.568650034,
          1701011.572556342,
          1761310.019759649,
          2001726.815884218,
          2301765.934298746,
          2651172.772551851,
          2743252.038333858,
          2853330.470262835,
          3140282.498625233,
          3233130.237391281,
          2837332.082418947,
          3159768.506027024,
          3069332.639419259,
          3235238.668231891,
          3293143.103421631,
          3428334.409442499,
          3409453.198293967,
          2749988.691673775,
          2761366.61097433,
          2873655.990786887,
          2773094.180603982,
          2718479.208870341,
          2785053.865600151,
          1456749.821680669,
          1534787.689347492,
          1774839.88347618,
          1753178.898349389,
          1691050.513187018,
          1507033.432421429,
          1956695.427289216,
          1648118.386818791,
          1534104.740191472,
          1568471.932253168,
          1688016.093833182,
          1605426.150268957,
          1638023.181773366,
          1610021.26414592,
          1665792.631000376,
          1655232.307499588,
          1815848.869384465,
          1968391.071732298,
          1755162.380699401,
          1629537.189071234,
          1595061.987089272,
          1543900.35979147,
          1622902.254502431,
          1469509.094261891,
          1555863.718180119,
          1472956.492495561,
          1503381.881944096,
          1526487.825585188,
          1421150.949279774,
          1375277.156382017,
          1642219.133245151,
          1531576.404075768,
          1342945.324496384,
          1333821.055650478,
          1426081.783077653,
          1189413.185666636,
          1309141.164662231,
          1328817.968454379,
          1403321.867336487,
          1416861.672395708,
          1397492.448613371,
          1602144.160934377,
          1797459.868533632,
          1827154.183807981,
          1967372.385809524,
          1639003.453335985,
          1544004.085250225,
          1535332.476008081,
          1462526.615880833,
          1633045.715241883,
          1453677.514997708,
          1566857.324099025,
          1507040.970986787,
          1500157.605232932,
          1470746.067295998,
          1795086.600222788,
          1846409.386916161,
          1482298.166746099,
          1858735.458407412,
          1454633.223085482,
          1359207.536770366,
          1463013.997196933,
          1490896.909712704,
          1763867.974841653,
          1532319.95840338,
          1449834.925151109,
          1458036.880449054,
          1558378.200347072,
          1605247.042552714,
          2002828.751784388,
          1657915.737934858,
          1601454.993859546,
          1483636.053363327,
          1567159.868827462,
          1438329.882629128,
          1374760.422996332,
          1492654.393962838,
          1461048.638665069,
          1327976.341461795,
          1334490.303921555,
          1316664.331294548,
          1373770.744418486,
          1323576.782596606,
          1654427.42205194,
          1594175.910451714,
          1676458.619381744,
          1375497.584773819,
          1187534.732224661,
          1224850.262441781,
          1229307.00406177,
          1208459.536688026,
          1343753.958270939,
          1323108.100584083,
          1379676.677990926,
          1632373.080446712,
          1656075.311820859,
          1709375.744867692,
          1603322.806574652,
          1479491.473559025,
          1477875.569902922,
          1415485.685571061,
          1528399.089550004,
          1386056.499767869,
          1435886.342924406,
          1278234.415688925,
          1330873.566445217,
          1404568.937617396,
          1604997.169882492,
          1666193.96166078,
          1561122.32832615,
          1402166.074982404,
          1388613.046347617,
          1406763.730186666,
          1511576.258024004,
          1512120.27588973,
          1475401.951366117,
          1543189.18018134,
          1484399.693175397,
          1467696.625796469,
          1537257.299141634,
          1581484.646226852,
          2056957.858462906,
          1628218.821743747,
          1695370.622457228,
          1561296.683547747,
          1410114.362203361,
          1408628.515268111,
          1412105.905554767,
          1409634.897464058,
          1418293.485998195,
          1305164.304014362,
          1302575.473703268,
          1201520.335257932,
          1110406.118750007,
          922123.1204248591,
          944317.2157832992,
          1186213.619117522,
          1074705.012568912,
          1702624.973825812,
          1669242.69398891,
          1725955.375488056,
          2053087.684033857,
          2013970.126972645,
          1904467.812753475,
          1910878.373662383,
          1904510.761670838,
          2086928.612175911,
          2184875.449400435,
          2187607.983157181,
          2234889.898019568,
          2223249.674250581,
          2027476.864124658,
          1857994.951040521,
          2158145.842390456,
          1874397.593467169,
          1592760.490111639,
          400865.5942368279,
          657233.7868671131,
          663677.2143339734,
          586027.4336904192,
          549508.9887556235,
          561596.514841827,
          538847.9890731517,
          580693.5707913288,
          611636.3615496675,
          730999.3000280409,
          620624.6182406824,
          673308.7695076725,
          640879.9332476843,
          835080.9209669736,
          809889.1239521452,
          644632.8203335684,
          623623.6896600793,
          601153.6528157123,
          669096.4673406447,
          656940.5545830046,
          651868.7782019061,
          610145.5960299784,
          616001.7629429558,
          643527.1579614445,
          662525.5101869374,
          767026.4713161901,
          669035.780101513,
          759179.1255445003,
          635173.1038493847,
          579860.9171817292,
          646444.6614734804,
          642961.0204111884,
          686086.3042189177,
          676449.4860504445,
          636530.8240177674,
          661589.6985084334,
          764980.9053404232,
          685639.1505879486,
          859353.8958398572,
          776983.283209589,
          706731.9468155468,
          689287.5108206666,
          719564.5447115924,
          649520.7273119265,
          612474.2216339682,
          636954.4281801987,
          612651.6904970894,
          574001.8347836128,
          657814.5355982888,
          550170.7159371822,
          606711.5232173917,
          575770.9589081992,
          585792.345872728,
          627905.9280798291,
          761489.2692836208,
          554482.4095072198,
          547822.3661821211,
          510171.4485890071,
          528341.5983173335,
          562660.9114362687,
          595025.6970072171,
          620087.1045860146,
          574527.2682491948,
          607934.0837037407,
          639633.0362748061,
          787467.9700340193,
          846392.3945183943,
          651181.922916776,
          622997.8517348194,
          604555.8197024338,
          591304.7999840134,
          587226.9912214716,
          606485.5090474456,
          556901.9528593548,
          596379.967943838,
          596801.0934227039,
          609629.2295615955,
          718871.6587508591,
          757114.8489928043,
          592081.1603419567,
          576436.2141359748,
          594374.417906475,
          673934.1718955361,
          655740.7612358754,
          575697.6414526319,
          689475.940551434,
          626931.51197009,
          656033.5183385262,
          650507.5085346429,
          682928.09250898,
          862438.1379979082,
          783664.6525817156,
          735173.3584425402,
          733682.57217429,
          649208.8228957779,
          624552.8081683754,
          626204.594176703,
          628911.0188964136,
          641206.752238481,
          616955.852229958,
          645876.0196360071,
          550431.5057676043,
          519699.6367647689,
          434968.4837425775,
          463984.1050517507,
          572831.4525708881,
          662540.9371899619,
          795170.2510771989,
          760702.1941571732,
          733559.4535173527,
          831052.0951193497,
          793419.3120327003,
          718261.8280106776,
          724039.3751556986,
          768001.7118540583,
          782321.9921927159,
          851777.2232811713,
          947364.0192535142,
          994487.5326324198,
          867503.7458149143,
          803199.6537399931,
          806256.3294526666,
          833751.1414029963,
          853024.7153598325,
          756391.4052443217,
          2173977.032103576,
          2155545.919121663,
          2094841.011162552,
          2535675.241826159,
          2277493.607088,
          2090769.646315287,
          2406385.618249251,
          2321607.038115114,
          2227304.303168017,
          2474567.442304043,
          2079246.102508494,
          2155092.972983506,
          2170995.596594645,
          2311007.000114306,
          2200351.355759795,
          2226552.999406351,
          2569976.924285516,
          2703696.420633273,
          2633425.684279039,
          2441590.702176922,
          2550230.036771949,
          2319860.821588857,
          2305724.717296751,
          2370859.551373887,
          2451106.908758114,
          2273881.087206302,
          2201063.984329701,
          2401900.135853213,
          2020154.924455441,
          1982375.328382093,
          2483149.658817093,
          2142913.399136052,
          1944490.194422666,
          2147764.540921825,
          1992149.34962534,
          1959592.491759138,
          1847383.400213798,
          1910937.959403426,
          1898237.871921008,
          2007181.390823723,
          2222416.604624206,
          2111350.165408474,
          2509343.295742664,
          2450833.459168972,
          2550019.662793044,
          2313008.254098248,
          2196070.137978665,
          2132653.526082675,
          2135261.484636801,
          2096010.598244163,
          1928359.995514112,
          1961862.905673692,
          1928044.768737992,
          2027238.264860422,
          1988308.729183352,
          2651288.257257362,
          2211910.062609156,
          1841606.550781404,
          2340974.309839563,
          2081153.584779695,
          1945009.321956953,
          2376393.022871379,
          2039072.683144861,
          2124476.198871993,
          2075552.517656174,
          2055818.186120559,
          2034019.500056891,
          2113241.845557682,
          2187942.357937597,
          2682474.05173244,
          2272346.405283296,
          2168463.14515707,
          2178356.796107219,
          2317152.911697342,
          1985256.803878911,
          2057109.750094871,
          2258835.510022541,
          2216759.019099752,
          1997952.079035663,
          2147760.302149362,
          1787288.858660694,
          1914185.829273157,
          1865379.410202064,
          2094467.535230382,
          2018008.918502097,
          2568052.56824491,
          1779656.909040528,
          1722448.613671838,
          1657780.992908588,
          1752500.806801457,
          1782254.168300464,
          1847675.897674954,
          2033234.377621999,
          1862298.878673657,
          2051178.251334092,
          2151699.536727613,
          2256548.294197786,
          2086616.765145305,
          1978913.478295632,
          1946932.960311908,
          1963266.508336586,
          1854653.479729932,
          1836769.413827782,
          1849765.487929735,
          1859628.511194323,
          1916279.930440686,
          1910292.637399483,
          2300727.711495953,
          2090430.435594788,
          1806228.030073318,
          1879606.812678967,
          1904957.147936894,
          1947752.964673786,
          2557737.929951426,
          2036592.755721962,
          1984176.779989305,
          2069824.944404338,
          2051208.77507349,
          2030062.480177317,
          2026438.780978565,
          2317947.2075929,
          2699077.634855784,
          2459248.99120319,
          2304847.776112456,
          2259382.09983543,
          2169872.786042465,
          2056900.449469137,
          2131372.68290389,
          2186388.187919467,
          2129710.107863768,
          1974105.614269987,
          2089247.921319393,
          1872791.91739453,
          1612683.336626691,
          1235302.134948292,
          1294007.234255016,
          1456142.571636864,
          1494888.586703174,
          1838797.679825191,
          1820176.199552675,
          1992516.726593521,
          2380274.942899977,
          2474395.449158682,
          2366523.295919454,
          2414120.51889532,
          2393014.988591331,
          2410339.456042459,
          2452462.002642554,
          2052963.758172008,
          1748782.736679036,
          1474484.029808089,
          1534077.680473221,
          923406.3721405836,
          101105.8778725927,
          137552.9633831789,
          77309.11116223564,
          770294.9737615981,
          919437.2439854394,
          1129704.862070959,
          1027685.613751038,
          976021.2941384722,
          947474.3031400068,
          926734.7707004084,
          939314.2848296785,
          1037653.165741358,
          1042241.692120809,
          1007671.178662462,
          1064820.623453255,
          1134927.541729526,
          1202726.947343207,
          1265155.285260032,
          1193814.781499005,
          1112481.24125399,
          1125611.966440368,
          1075246.459425593,
          1016763.425038738,
          1028741.205776156,
          1031974.520451041,
          1012854.154555203,
          1014292.057015475,
          1020549.691470501,
          1229749.169073341,
          1178092.272604025,
          1037496.322159593,
          1231892.204782497,
          1062318.022969897,
          1007305.492034842,
          1062245.747119074,
          1117332.776382334,
          1242202.556330491,
          1175279.438227872,
          1062804.266890284,
          1028223.62901654,
          1113662.653377824,
          1093936.478538533,
          1314052.538065806,
          1099475.609432149,
          1165249.310981606,
          1143605.144547776,
          1135066.174054666,
          988897.9696313373,
          983359.7467489883,
          1006985.418135264,
          1004537.895405184,
          1031682.322477833,
          933298.0515579176,
          918947.4262138959,
          963878.3890463642,
          999712.7315019409,
          1033663.180163449,
          1122749.257956435,
          1163351.558520483,
          966267.9037711167,
          937348.7476006718,
          912838.2353666924,
          919850.7362910638,
          965972.2002541064,
          962986.4003331241,
          950394.8417318636,
          971775.7984825049,
          1071445.144963326,
          1054347.983245121,
          1224086.549076284,
          1254587.65174255,
          1086151.76788414,
          1074235.608999317,
          1044329.951975798,
          1008600.558081617,
          1026179.868181753,
          1024166.182240155,
          990612.4935780433,
          968021.0489546586,
          962613.9683998523,
          1024338.940097731,
          1198266.047125181,
          1134747.252044384,
          1017575.810739616,
          1018053.610999822,
          1002744.028979319,
          1075291.176284906,
          1102402.460359027,
          1098636.599916505,
          1097397.594211326,
          1020380.036712058,
          1053366.402333025,
          1043146.891437367,
          1033827.500736153,
          1412568.351994483,
          1152209.454915632,
          1120015.964468578,
          1188675.190409752,
          1028121.740348111,
          1042965.415979692,
          1024707.311044681,
          1023792.988866948,
          1003042.477310696,
          1019547.988475308,
          924003.8583653866,
          978775.95326941,
          901311.0198578313,
          663962.0612222215,
          686500.575832631,
          866084.044033757,
          782932.9481527813,
          1161703.651907744,
          1096142.996858809,
          1108498.679264195,
          1229172.47358018,
          1145625.471834579,
          1167187.236680397,
          1109709.715788086,
          1186871.637307797,
          1259688.225141553,
          1316347.087654828,
          1449490.280263191,
          1495237.554726775,
          1418697.254347753,
          1364894.742805736,
          1351591.411319429,
          1385729.187643929,
          1362193.248057242,
          1271019.578751108
         ]
        }
       ],
       "layout": {
        "annotations": [
         {
          "font": {
           "size": 15
          },
          "showarrow": false,
          "text": "FY20: 1274891876",
          "x": 0.5,
          "y": 0.5
         }
        ],
        "legend": {
         "tracegroupgap": 0
        },
        "margin": {
         "t": 60
        },
        "paper_bgcolor": "#C0C0C0",
        "template": {
         "data": {
          "bar": [
           {
            "error_x": {
             "color": "#2a3f5f"
            },
            "error_y": {
             "color": "#2a3f5f"
            },
            "marker": {
             "line": {
              "color": "#E5ECF6",
              "width": 0.5
             }
            },
            "type": "bar"
           }
          ],
          "barpolar": [
           {
            "marker": {
             "line": {
              "color": "#E5ECF6",
              "width": 0.5
             }
            },
            "type": "barpolar"
           }
          ],
          "carpet": [
           {
            "aaxis": {
             "endlinecolor": "#2a3f5f",
             "gridcolor": "white",
             "linecolor": "white",
             "minorgridcolor": "white",
             "startlinecolor": "#2a3f5f"
            },
            "baxis": {
             "endlinecolor": "#2a3f5f",
             "gridcolor": "white",
             "linecolor": "white",
             "minorgridcolor": "white",
             "startlinecolor": "#2a3f5f"
            },
            "type": "carpet"
           }
          ],
          "choropleth": [
           {
            "colorbar": {
             "outlinewidth": 0,
             "ticks": ""
            },
            "type": "choropleth"
           }
          ],
          "contour": [
           {
            "colorbar": {
             "outlinewidth": 0,
             "ticks": ""
            },
            "colorscale": [
             [
              0,
              "#0d0887"
             ],
             [
              0.1111111111111111,
              "#46039f"
             ],
             [
              0.2222222222222222,
              "#7201a8"
             ],
             [
              0.3333333333333333,
              "#9c179e"
             ],
             [
              0.4444444444444444,
              "#bd3786"
             ],
             [
              0.5555555555555556,
              "#d8576b"
             ],
             [
              0.6666666666666666,
              "#ed7953"
             ],
             [
              0.7777777777777778,
              "#fb9f3a"
             ],
             [
              0.8888888888888888,
              "#fdca26"
             ],
             [
              1,
              "#f0f921"
             ]
            ],
            "type": "contour"
           }
          ],
          "contourcarpet": [
           {
            "colorbar": {
             "outlinewidth": 0,
             "ticks": ""
            },
            "type": "contourcarpet"
           }
          ],
          "heatmap": [
           {
            "colorbar": {
             "outlinewidth": 0,
             "ticks": ""
            },
            "colorscale": [
             [
              0,
              "#0d0887"
             ],
             [
              0.1111111111111111,
              "#46039f"
             ],
             [
              0.2222222222222222,
              "#7201a8"
             ],
             [
              0.3333333333333333,
              "#9c179e"
             ],
             [
              0.4444444444444444,
              "#bd3786"
             ],
             [
              0.5555555555555556,
              "#d8576b"
             ],
             [
              0.6666666666666666,
              "#ed7953"
             ],
             [
              0.7777777777777778,
              "#fb9f3a"
             ],
             [
              0.8888888888888888,
              "#fdca26"
             ],
             [
              1,
              "#f0f921"
             ]
            ],
            "type": "heatmap"
           }
          ],
          "heatmapgl": [
           {
            "colorbar": {
             "outlinewidth": 0,
             "ticks": ""
            },
            "colorscale": [
             [
              0,
              "#0d0887"
             ],
             [
              0.1111111111111111,
              "#46039f"
             ],
             [
              0.2222222222222222,
              "#7201a8"
             ],
             [
              0.3333333333333333,
              "#9c179e"
             ],
             [
              0.4444444444444444,
              "#bd3786"
             ],
             [
              0.5555555555555556,
              "#d8576b"
             ],
             [
              0.6666666666666666,
              "#ed7953"
             ],
             [
              0.7777777777777778,
              "#fb9f3a"
             ],
             [
              0.8888888888888888,
              "#fdca26"
             ],
             [
              1,
              "#f0f921"
             ]
            ],
            "type": "heatmapgl"
           }
          ],
          "histogram": [
           {
            "marker": {
             "colorbar": {
              "outlinewidth": 0,
              "ticks": ""
             }
            },
            "type": "histogram"
           }
          ],
          "histogram2d": [
           {
            "colorbar": {
             "outlinewidth": 0,
             "ticks": ""
            },
            "colorscale": [
             [
              0,
              "#0d0887"
             ],
             [
              0.1111111111111111,
              "#46039f"
             ],
             [
              0.2222222222222222,
              "#7201a8"
             ],
             [
              0.3333333333333333,
              "#9c179e"
             ],
             [
              0.4444444444444444,
              "#bd3786"
             ],
             [
              0.5555555555555556,
              "#d8576b"
             ],
             [
              0.6666666666666666,
              "#ed7953"
             ],
             [
              0.7777777777777778,
              "#fb9f3a"
             ],
             [
              0.8888888888888888,
              "#fdca26"
             ],
             [
              1,
              "#f0f921"
             ]
            ],
            "type": "histogram2d"
           }
          ],
          "histogram2dcontour": [
           {
            "colorbar": {
             "outlinewidth": 0,
             "ticks": ""
            },
            "colorscale": [
             [
              0,
              "#0d0887"
             ],
             [
              0.1111111111111111,
              "#46039f"
             ],
             [
              0.2222222222222222,
              "#7201a8"
             ],
             [
              0.3333333333333333,
              "#9c179e"
             ],
             [
              0.4444444444444444,
              "#bd3786"
             ],
             [
              0.5555555555555556,
              "#d8576b"
             ],
             [
              0.6666666666666666,
              "#ed7953"
             ],
             [
              0.7777777777777778,
              "#fb9f3a"
             ],
             [
              0.8888888888888888,
              "#fdca26"
             ],
             [
              1,
              "#f0f921"
             ]
            ],
            "type": "histogram2dcontour"
           }
          ],
          "mesh3d": [
           {
            "colorbar": {
             "outlinewidth": 0,
             "ticks": ""
            },
            "type": "mesh3d"
           }
          ],
          "parcoords": [
           {
            "line": {
             "colorbar": {
              "outlinewidth": 0,
              "ticks": ""
             }
            },
            "type": "parcoords"
           }
          ],
          "pie": [
           {
            "automargin": true,
            "type": "pie"
           }
          ],
          "scatter": [
           {
            "marker": {
             "colorbar": {
              "outlinewidth": 0,
              "ticks": ""
             }
            },
            "type": "scatter"
           }
          ],
          "scatter3d": [
           {
            "line": {
             "colorbar": {
              "outlinewidth": 0,
              "ticks": ""
             }
            },
            "marker": {
             "colorbar": {
              "outlinewidth": 0,
              "ticks": ""
             }
            },
            "type": "scatter3d"
           }
          ],
          "scattercarpet": [
           {
            "marker": {
             "colorbar": {
              "outlinewidth": 0,
              "ticks": ""
             }
            },
            "type": "scattercarpet"
           }
          ],
          "scattergeo": [
           {
            "marker": {
             "colorbar": {
              "outlinewidth": 0,
              "ticks": ""
             }
            },
            "type": "scattergeo"
           }
          ],
          "scattergl": [
           {
            "marker": {
             "colorbar": {
              "outlinewidth": 0,
              "ticks": ""
             }
            },
            "type": "scattergl"
           }
          ],
          "scattermapbox": [
           {
            "marker": {
             "colorbar": {
              "outlinewidth": 0,
              "ticks": ""
             }
            },
            "type": "scattermapbox"
           }
          ],
          "scatterpolar": [
           {
            "marker": {
             "colorbar": {
              "outlinewidth": 0,
              "ticks": ""
             }
            },
            "type": "scatterpolar"
           }
          ],
          "scatterpolargl": [
           {
            "marker": {
             "colorbar": {
              "outlinewidth": 0,
              "ticks": ""
             }
            },
            "type": "scatterpolargl"
           }
          ],
          "scatterternary": [
           {
            "marker": {
             "colorbar": {
              "outlinewidth": 0,
              "ticks": ""
             }
            },
            "type": "scatterternary"
           }
          ],
          "surface": [
           {
            "colorbar": {
             "outlinewidth": 0,
             "ticks": ""
            },
            "colorscale": [
             [
              0,
              "#0d0887"
             ],
             [
              0.1111111111111111,
              "#46039f"
             ],
             [
              0.2222222222222222,
              "#7201a8"
             ],
             [
              0.3333333333333333,
              "#9c179e"
             ],
             [
              0.4444444444444444,
              "#bd3786"
             ],
             [
              0.5555555555555556,
              "#d8576b"
             ],
             [
              0.6666666666666666,
              "#ed7953"
             ],
             [
              0.7777777777777778,
              "#fb9f3a"
             ],
             [
              0.8888888888888888,
              "#fdca26"
             ],
             [
              1,
              "#f0f921"
             ]
            ],
            "type": "surface"
           }
          ],
          "table": [
           {
            "cells": {
             "fill": {
              "color": "#EBF0F8"
             },
             "line": {
              "color": "white"
             }
            },
            "header": {
             "fill": {
              "color": "#C8D4E3"
             },
             "line": {
              "color": "white"
             }
            },
            "type": "table"
           }
          ]
         },
         "layout": {
          "annotationdefaults": {
           "arrowcolor": "#2a3f5f",
           "arrowhead": 0,
           "arrowwidth": 1
          },
          "autotypenumbers": "strict",
          "coloraxis": {
           "colorbar": {
            "outlinewidth": 0,
            "ticks": ""
           }
          },
          "colorscale": {
           "diverging": [
            [
             0,
             "#8e0152"
            ],
            [
             0.1,
             "#c51b7d"
            ],
            [
             0.2,
             "#de77ae"
            ],
            [
             0.3,
             "#f1b6da"
            ],
            [
             0.4,
             "#fde0ef"
            ],
            [
             0.5,
             "#f7f7f7"
            ],
            [
             0.6,
             "#e6f5d0"
            ],
            [
             0.7,
             "#b8e186"
            ],
            [
             0.8,
             "#7fbc41"
            ],
            [
             0.9,
             "#4d9221"
            ],
            [
             1,
             "#276419"
            ]
           ],
           "sequential": [
            [
             0,
             "#0d0887"
            ],
            [
             0.1111111111111111,
             "#46039f"
            ],
            [
             0.2222222222222222,
             "#7201a8"
            ],
            [
             0.3333333333333333,
             "#9c179e"
            ],
            [
             0.4444444444444444,
             "#bd3786"
            ],
            [
             0.5555555555555556,
             "#d8576b"
            ],
            [
             0.6666666666666666,
             "#ed7953"
            ],
            [
             0.7777777777777778,
             "#fb9f3a"
            ],
            [
             0.8888888888888888,
             "#fdca26"
            ],
            [
             1,
             "#f0f921"
            ]
           ],
           "sequentialminus": [
            [
             0,
             "#0d0887"
            ],
            [
             0.1111111111111111,
             "#46039f"
            ],
            [
             0.2222222222222222,
             "#7201a8"
            ],
            [
             0.3333333333333333,
             "#9c179e"
            ],
            [
             0.4444444444444444,
             "#bd3786"
            ],
            [
             0.5555555555555556,
             "#d8576b"
            ],
            [
             0.6666666666666666,
             "#ed7953"
            ],
            [
             0.7777777777777778,
             "#fb9f3a"
            ],
            [
             0.8888888888888888,
             "#fdca26"
            ],
            [
             1,
             "#f0f921"
            ]
           ]
          },
          "colorway": [
           "#636efa",
           "#EF553B",
           "#00cc96",
           "#ab63fa",
           "#FFA15A",
           "#19d3f3",
           "#FF6692",
           "#B6E880",
           "#FF97FF",
           "#FECB52"
          ],
          "font": {
           "color": "#2a3f5f"
          },
          "geo": {
           "bgcolor": "white",
           "lakecolor": "white",
           "landcolor": "#E5ECF6",
           "showlakes": true,
           "showland": true,
           "subunitcolor": "white"
          },
          "hoverlabel": {
           "align": "left"
          },
          "hovermode": "closest",
          "mapbox": {
           "style": "light"
          },
          "paper_bgcolor": "white",
          "plot_bgcolor": "#E5ECF6",
          "polar": {
           "angularaxis": {
            "gridcolor": "white",
            "linecolor": "white",
            "ticks": ""
           },
           "bgcolor": "#E5ECF6",
           "radialaxis": {
            "gridcolor": "white",
            "linecolor": "white",
            "ticks": ""
           }
          },
          "scene": {
           "xaxis": {
            "backgroundcolor": "#E5ECF6",
            "gridcolor": "white",
            "gridwidth": 2,
            "linecolor": "white",
            "showbackground": true,
            "ticks": "",
            "zerolinecolor": "white"
           },
           "yaxis": {
            "backgroundcolor": "#E5ECF6",
            "gridcolor": "white",
            "gridwidth": 2,
            "linecolor": "white",
            "showbackground": true,
            "ticks": "",
            "zerolinecolor": "white"
           },
           "zaxis": {
            "backgroundcolor": "#E5ECF6",
            "gridcolor": "white",
            "gridwidth": 2,
            "linecolor": "white",
            "showbackground": true,
            "ticks": "",
            "zerolinecolor": "white"
           }
          },
          "shapedefaults": {
           "line": {
            "color": "#2a3f5f"
           }
          },
          "ternary": {
           "aaxis": {
            "gridcolor": "white",
            "linecolor": "white",
            "ticks": ""
           },
           "baxis": {
            "gridcolor": "white",
            "linecolor": "white",
            "ticks": ""
           },
           "bgcolor": "#E5ECF6",
           "caxis": {
            "gridcolor": "white",
            "linecolor": "white",
            "ticks": ""
           }
          },
          "title": {
           "x": 0.05
          },
          "xaxis": {
           "automargin": true,
           "gridcolor": "white",
           "linecolor": "white",
           "ticks": "",
           "title": {
            "standoff": 15
           },
           "zerolinecolor": "white",
           "zerolinewidth": 2
          },
          "yaxis": {
           "automargin": true,
           "gridcolor": "white",
           "linecolor": "white",
           "ticks": "",
           "title": {
            "standoff": 15
           },
           "zerolinecolor": "white",
           "zerolinewidth": 2
          }
         }
        },
        "title": {
         "text": "Percentage of Sales across states over FY18 - FY20",
         "x": 0.5
        }
       }
      },
      "text/html": [
       "<div>                            <div id=\"b39482b0-9b27-4b5c-add5-75658b810aa9\" class=\"plotly-graph-div\" style=\"height:525px; width:100%;\"></div>            <script type=\"text/javascript\">                require([\"plotly\"], function(Plotly) {                    window.PLOTLYENV=window.PLOTLYENV || {};                                    if (document.getElementById(\"b39482b0-9b27-4b5c-add5-75658b810aa9\")) {                    Plotly.newPlot(                        \"b39482b0-9b27-4b5c-add5-75658b810aa9\",                        [{\"domain\": {\"x\": [0.0, 1.0], \"y\": [0.0, 1.0]}, \"hole\": 0.5, \"hovertemplate\": \"State=%{label}<br>Sales=%{value}<extra></extra>\", \"labels\": [\"ACT\", \"ACT\", \"ACT\", \"ACT\", \"ACT\", \"ACT\", \"ACT\", \"ACT\", \"ACT\", \"ACT\", \"ACT\", \"ACT\", \"ACT\", \"ACT\", \"ACT\", \"ACT\", \"ACT\", \"ACT\", \"ACT\", \"ACT\", \"ACT\", \"ACT\", \"ACT\", \"ACT\", \"ACT\", \"ACT\", \"ACT\", \"ACT\", \"ACT\", \"ACT\", \"ACT\", \"ACT\", \"ACT\", \"ACT\", \"ACT\", \"ACT\", \"ACT\", \"ACT\", \"ACT\", \"ACT\", \"ACT\", \"ACT\", \"ACT\", \"ACT\", \"ACT\", \"ACT\", \"ACT\", \"ACT\", \"ACT\", \"ACT\", \"ACT\", \"ACT\", \"ACT\", \"ACT\", \"ACT\", \"ACT\", \"ACT\", \"ACT\", \"ACT\", \"ACT\", \"ACT\", \"ACT\", \"ACT\", \"ACT\", \"ACT\", \"ACT\", \"ACT\", \"ACT\", \"ACT\", \"ACT\", \"ACT\", \"ACT\", \"ACT\", \"ACT\", \"ACT\", \"ACT\", \"ACT\", \"ACT\", \"ACT\", \"ACT\", \"ACT\", \"ACT\", \"ACT\", \"ACT\", \"ACT\", \"ACT\", \"ACT\", \"ACT\", \"ACT\", \"ACT\", \"ACT\", \"ACT\", \"ACT\", \"ACT\", \"ACT\", \"ACT\", \"ACT\", \"ACT\", \"ACT\", \"ACT\", \"ACT\", \"ACT\", \"ACT\", \"ACT\", \"ACT\", \"ACT\", \"ACT\", \"ACT\", \"ACT\", \"ACT\", \"ACT\", \"ACT\", \"ACT\", \"ACT\", \"ACT\", \"ACT\", \"ACT\", \"ACT\", \"ACT\", \"ACT\", \"ACT\", \"ACT\", \"ACT\", \"ACT\", \"ACT\", \"ACT\", \"ACT\", \"ACT\", \"ACT\", \"ACT\", \"ACT\", \"ACT\", \"ACT\", \"ACT\", \"ACT\", \"ACT\", \"ACT\", \"ACT\", \"ACT\", \"ACT\", \"ACT\", \"ACT\", \"ACT\", \"ACT\", \"ACT\", \"ACT\", \"ACT\", \"ACT\", \"ACT\", \"ACT\", \"ACT\", \"ACT\", \"ACT\", \"ACT\", \"ACT\", \"ACT\", \"NSW\", \"NSW\", \"NSW\", \"NSW\", \"NSW\", \"NSW\", \"NSW\", \"NSW\", \"NSW\", \"NSW\", \"NSW\", \"NSW\", \"NSW\", \"NSW\", \"NSW\", \"NSW\", \"NSW\", \"NSW\", \"NSW\", \"NSW\", \"NSW\", \"NSW\", \"NSW\", \"NSW\", \"NSW\", \"NSW\", \"NSW\", \"NSW\", \"NSW\", \"NSW\", \"NSW\", \"NSW\", \"NSW\", \"NSW\", \"NSW\", \"NSW\", \"NSW\", \"NSW\", \"NSW\", \"NSW\", \"NSW\", \"NSW\", \"NSW\", \"NSW\", \"NSW\", \"NSW\", \"NSW\", \"NSW\", \"NSW\", \"NSW\", \"NSW\", \"NSW\", \"NSW\", \"NSW\", \"NSW\", \"NSW\", \"NSW\", \"NSW\", \"NSW\", \"NSW\", \"NSW\", \"NSW\", \"NSW\", \"NSW\", \"NSW\", \"NSW\", \"NSW\", \"NSW\", \"NSW\", \"NSW\", \"NSW\", \"NSW\", \"NSW\", \"NSW\", \"NSW\", \"NSW\", \"NSW\", \"NSW\", \"NSW\", \"NSW\", \"NSW\", \"NSW\", \"NSW\", \"NSW\", \"NSW\", \"NSW\", \"NSW\", \"NSW\", \"NSW\", \"NSW\", \"NSW\", \"NSW\", \"NSW\", \"NSW\", \"NSW\", \"NSW\", \"NSW\", \"NSW\", \"NSW\", \"NSW\", \"NSW\", \"NSW\", \"NSW\", \"NSW\", \"NSW\", \"NSW\", \"NSW\", \"NSW\", \"NSW\", \"NSW\", \"NSW\", \"NSW\", \"NSW\", \"NSW\", \"NSW\", \"NSW\", \"NSW\", \"NSW\", \"NSW\", \"NSW\", \"NSW\", \"NSW\", \"NSW\", \"NSW\", \"NSW\", \"NSW\", \"NSW\", \"NSW\", \"NSW\", \"NSW\", \"NSW\", \"NSW\", \"NSW\", \"NSW\", \"NSW\", \"NSW\", \"NSW\", \"NSW\", \"NSW\", \"NSW\", \"NSW\", \"NSW\", \"NSW\", \"NSW\", \"NSW\", \"NSW\", \"NSW\", \"NSW\", \"NSW\", \"NSW\", \"NSW\", \"NSW\", \"NSW\", \"NSW\", \"NSW\", \"NSW\", \"QLD\", \"QLD\", \"QLD\", \"QLD\", \"QLD\", \"QLD\", \"QLD\", \"QLD\", \"QLD\", \"QLD\", \"QLD\", \"QLD\", \"QLD\", \"QLD\", \"QLD\", \"QLD\", \"QLD\", \"QLD\", \"QLD\", \"QLD\", \"QLD\", \"QLD\", \"QLD\", \"QLD\", \"QLD\", \"QLD\", \"QLD\", \"QLD\", \"QLD\", \"QLD\", \"QLD\", \"QLD\", \"QLD\", \"QLD\", \"QLD\", \"QLD\", \"QLD\", \"QLD\", \"QLD\", \"QLD\", \"QLD\", \"QLD\", \"QLD\", \"QLD\", \"QLD\", \"QLD\", \"QLD\", \"QLD\", \"QLD\", \"QLD\", \"QLD\", \"QLD\", \"QLD\", \"QLD\", \"QLD\", \"QLD\", \"QLD\", \"QLD\", \"QLD\", \"QLD\", \"QLD\", \"QLD\", \"QLD\", \"QLD\", \"QLD\", \"QLD\", \"QLD\", \"QLD\", \"QLD\", \"QLD\", \"QLD\", \"QLD\", \"QLD\", \"QLD\", \"QLD\", \"QLD\", \"QLD\", \"QLD\", \"QLD\", \"QLD\", \"QLD\", \"QLD\", \"QLD\", \"QLD\", \"QLD\", \"QLD\", \"QLD\", \"QLD\", \"QLD\", \"QLD\", \"QLD\", \"QLD\", \"QLD\", \"QLD\", \"QLD\", \"QLD\", \"QLD\", \"QLD\", \"QLD\", \"QLD\", \"QLD\", \"QLD\", \"QLD\", \"QLD\", \"QLD\", \"QLD\", \"QLD\", \"QLD\", \"QLD\", \"QLD\", \"QLD\", \"QLD\", \"QLD\", \"QLD\", \"QLD\", \"QLD\", \"QLD\", \"QLD\", \"QLD\", \"QLD\", \"QLD\", \"QLD\", \"QLD\", \"QLD\", \"QLD\", \"QLD\", \"QLD\", \"QLD\", \"QLD\", \"QLD\", \"QLD\", \"QLD\", \"QLD\", \"QLD\", \"QLD\", \"QLD\", \"QLD\", \"QLD\", \"QLD\", \"QLD\", \"QLD\", \"QLD\", \"QLD\", \"QLD\", \"QLD\", \"QLD\", \"QLD\", \"QLD\", \"QLD\", \"QLD\", \"QLD\", \"QLD\", \"QLD\", \"QLD\", \"QLD\", \"QLD\", \"SA\", \"SA\", \"SA\", \"SA\", \"SA\", \"SA\", \"SA\", \"SA\", \"SA\", \"SA\", \"SA\", \"SA\", \"SA\", \"SA\", \"SA\", \"SA\", \"SA\", \"SA\", \"SA\", \"SA\", \"SA\", \"SA\", \"SA\", \"SA\", \"SA\", \"SA\", \"SA\", \"SA\", \"SA\", \"SA\", \"SA\", \"SA\", \"SA\", \"SA\", \"SA\", \"SA\", \"SA\", \"SA\", \"SA\", \"SA\", \"SA\", \"SA\", \"SA\", \"SA\", \"SA\", \"SA\", \"SA\", \"SA\", \"SA\", \"SA\", \"SA\", \"SA\", \"SA\", \"SA\", \"SA\", \"SA\", \"SA\", \"SA\", \"SA\", \"SA\", \"SA\", \"SA\", \"SA\", \"SA\", \"SA\", \"SA\", \"SA\", \"SA\", \"SA\", \"SA\", \"SA\", \"SA\", \"SA\", \"SA\", \"SA\", \"SA\", \"SA\", \"SA\", \"SA\", \"SA\", \"SA\", \"SA\", \"SA\", \"SA\", \"SA\", \"SA\", \"SA\", \"SA\", \"SA\", \"SA\", \"SA\", \"SA\", \"SA\", \"SA\", \"SA\", \"SA\", \"SA\", \"SA\", \"SA\", \"SA\", \"SA\", \"SA\", \"SA\", \"SA\", \"SA\", \"SA\", \"SA\", \"SA\", \"SA\", \"SA\", \"SA\", \"SA\", \"SA\", \"SA\", \"SA\", \"SA\", \"SA\", \"SA\", \"SA\", \"SA\", \"SA\", \"SA\", \"SA\", \"SA\", \"SA\", \"VIC\", \"VIC\", \"VIC\", \"VIC\", \"VIC\", \"VIC\", \"VIC\", \"VIC\", \"VIC\", \"VIC\", \"VIC\", \"VIC\", \"VIC\", \"VIC\", \"VIC\", \"VIC\", \"VIC\", \"VIC\", \"VIC\", \"VIC\", \"VIC\", \"VIC\", \"VIC\", \"VIC\", \"VIC\", \"VIC\", \"VIC\", \"VIC\", \"VIC\", \"VIC\", \"VIC\", \"VIC\", \"VIC\", \"VIC\", \"VIC\", \"VIC\", \"VIC\", \"VIC\", \"VIC\", \"VIC\", \"VIC\", \"VIC\", \"VIC\", \"VIC\", \"VIC\", \"VIC\", \"VIC\", \"VIC\", \"VIC\", \"VIC\", \"VIC\", \"VIC\", \"VIC\", \"VIC\", \"VIC\", \"VIC\", \"VIC\", \"VIC\", \"VIC\", \"VIC\", \"VIC\", \"VIC\", \"VIC\", \"VIC\", \"VIC\", \"VIC\", \"VIC\", \"VIC\", \"VIC\", \"VIC\", \"VIC\", \"VIC\", \"VIC\", \"VIC\", \"VIC\", \"VIC\", \"VIC\", \"VIC\", \"VIC\", \"VIC\", \"VIC\", \"VIC\", \"VIC\", \"VIC\", \"VIC\", \"VIC\", \"VIC\", \"VIC\", \"VIC\", \"VIC\", \"VIC\", \"VIC\", \"VIC\", \"VIC\", \"VIC\", \"VIC\", \"VIC\", \"VIC\", \"VIC\", \"VIC\", \"VIC\", \"VIC\", \"VIC\", \"VIC\", \"VIC\", \"VIC\", \"VIC\", \"VIC\", \"VIC\", \"VIC\", \"VIC\", \"VIC\", \"VIC\", \"VIC\", \"VIC\", \"VIC\", \"VIC\", \"VIC\", \"VIC\", \"VIC\", \"VIC\", \"VIC\", \"VIC\", \"VIC\", \"VIC\", \"VIC\", \"VIC\", \"VIC\", \"VIC\", \"VIC\", \"VIC\", \"VIC\", \"VIC\", \"VIC\", \"VIC\", \"VIC\", \"VIC\", \"VIC\", \"VIC\", \"VIC\", \"VIC\", \"VIC\", \"VIC\", \"VIC\", \"VIC\", \"VIC\", \"VIC\", \"VIC\", \"VIC\", \"VIC\", \"VIC\", \"VIC\", \"VIC\", \"VIC\", \"VIC\", \"VIC\", \"WA\", \"WA\", \"WA\", \"WA\", \"WA\", \"WA\", \"WA\", \"WA\", \"WA\", \"WA\", \"WA\", \"WA\", \"WA\", \"WA\", \"WA\", \"WA\", \"WA\", \"WA\", \"WA\", \"WA\", \"WA\", \"WA\", \"WA\", \"WA\", \"WA\", \"WA\", \"WA\", \"WA\", \"WA\", \"WA\", \"WA\", \"WA\", \"WA\", \"WA\", \"WA\", \"WA\", \"WA\", \"WA\", \"WA\", \"WA\", \"WA\", \"WA\", \"WA\", \"WA\", \"WA\", \"WA\", \"WA\", \"WA\", \"WA\", \"WA\", \"WA\", \"WA\", \"WA\", \"WA\", \"WA\", \"WA\", \"WA\", \"WA\", \"WA\", \"WA\", \"WA\", \"WA\", \"WA\", \"WA\", \"WA\", \"WA\", \"WA\", \"WA\", \"WA\", \"WA\", \"WA\", \"WA\", \"WA\", \"WA\", \"WA\", \"WA\", \"WA\", \"WA\", \"WA\", \"WA\", \"WA\", \"WA\", \"WA\", \"WA\", \"WA\", \"WA\", \"WA\", \"WA\", \"WA\", \"WA\", \"WA\", \"WA\", \"WA\", \"WA\", \"WA\", \"WA\", \"WA\", \"WA\", \"WA\", \"WA\", \"WA\", \"WA\", \"WA\", \"WA\", \"WA\", \"WA\", \"WA\", \"WA\", \"WA\", \"WA\", \"WA\", \"WA\", \"WA\", \"WA\", \"WA\", \"WA\", \"WA\", \"WA\", \"WA\", \"WA\", \"WA\", \"WA\", \"WA\", \"WA\", \"WA\", \"WA\"], \"legendgroup\": \"\", \"name\": \"\", \"showlegend\": true, \"type\": \"pie\", \"values\": [454505.5375427785, 480922.4681314023, 442120.9570010478, 614161.3280557629, 573988.744290248, 466411.4873569101, 575677.5519533862, 478536.0738202567, 490950.1306416955, 458841.7608109359, 497614.0522966317, 522541.6338910526, 512728.5092110469, 581790.933971901, 538689.7785409833, 603831.8797390879, 611642.3336761048, 661256.3544514364, 614483.7512476275, 564046.6048345199, 599849.9407278548, 563327.6385958384, 539383.2226870244, 465661.0216568092, 495986.7961048419, 448421.5997257916, 446623.6534469067, 501089.937816209, 414056.4131695812, 436317.2794909275, 499790.5147760394, 439945.471144305, 497025.4832934965, 515167.1689122569, 431483.3375085416, 433090.4202947091, 418630.337470207, 421646.6221637158, 473770.0059273121, 452811.1176765992, 528988.6824766202, 479178.7790022149, 543856.9887167324, 502527.8904788496, 550195.8717375096, 587563.7122998445, 493150.7197184591, 471170.2589023164, 468857.9123391861, 484581.3811286866, 447790.5176692519, 450784.944274955, 474514.7134835325, 455111.5185876278, 452136.8047693413, 526127.1978056179, 615581.7485535417, 526651.524694211, 547165.6119281005, 486649.649130376, 436648.2935190714, 469922.9821370994, 490827.1380079355, 537654.2014947773, 536135.1115711568, 478120.8636629163, 505845.549018945, 546843.3845500132, 573997.5241050302, 693788.4703966628, 588263.4749914716, 533921.2071996923, 509951.1510951616, 577920.775327574, 490068.311036153, 498857.0690016284, 490396.819260065, 465314.0320098262, 439179.3469201128, 484016.3841036099, 432037.6295649954, 455095.069215073, 454306.03814332, 471657.3229200958, 501081.0906050984, 618648.6788841161, 404869.9758945088, 394396.9488975088, 393897.592566198, 396753.2021103232, 476042.5303707364, 414711.4887495788, 476687.766147064, 462354.1917032981, 506840.8604006143, 484262.601927169, 542177.4352041754, 571389.540798124, 453069.6618826015, 468326.5044342316, 444568.4755300839, 448361.8619566447, 442939.0744452621, 443413.7061418867, 431621.8937506067, 438662.8536481229, 442381.892346695, 421946.1367129548, 536924.4162539764, 551575.1313889401, 452742.9401760062, 440671.8113022766, 438424.2405207276, 524237.6436420939, 502986.2430753183, 523678.2536080267, 544077.9283634855, 485728.1837003603, 475301.3365999425, 499375.4026998025, 556849.2358228553, 597075.0136013681, 521536.4506043365, 565854.2128038037, 501635.7704362937, 514592.0318385925, 502951.3917628974, 493995.8218335877, 462329.0693709616, 462619.2424788662, 447645.9068106326, 480412.0799410933, 479545.515253911, 478174.5515566735, 345116.3429841545, 368523.036063622, 436571.0538314994, 455092.7219214196, 572520.6357611774, 517235.2849160776, 539847.2519793534, 608463.0848899594, 609804.8748353553, 562637.7265698756, 562835.2360615823, 563458.8424821763, 623480.4126546595, 647100.0067067127, 635751.0916838956, 641562.153849845, 561381.8813274757, 563310.2900264057, 568197.1793650365, 592292.52902208, 587753.1335696278, 571834.0986081482, 2634368.840183024, 2760182.669930118, 2770334.092689774, 3176641.243278258, 3264356.044595119, 2869931.609129978, 3324068.967269962, 2932100.11279284, 2833044.190054961, 2711729.268880063, 2769392.027306489, 2685361.008361685, 2708259.27072389, 2708928.649296758, 2591538.293501503, 2824538.681211269, 3139001.982756743, 3267604.434809093, 2967120.845967592, 2955578.98849901, 2972358.186651, 2685321.195192046, 2606375.65915893, 2535183.676399176, 2720039.218890184, 2874615.231815928, 2718254.401503748, 2588530.159090815, 2425536.830097856, 2373594.915467833, 2277273.849680846, 2342689.724580286, 2626058.708062707, 2885867.13373568, 2480101.899251407, 2396998.95681908, 2206241.951593115, 2267188.962317278, 2306777.045018571, 2466560.851095221, 2698677.587325904, 2585387.279373, 2902648.542579825, 2635355.652642215, 3003952.570769249, 3107060.768167735, 2614437.290611091, 2533028.918811129, 2503232.052811027, 2407668.718695499, 2568656.467749375, 2566002.860443762, 2637542.77230812, 2497129.139631405, 2582038.535615719, 2721972.898203935, 3194284.660691672, 2849754.134712133, 2976573.543000213, 2641698.312798798, 2473220.947057426, 2489937.094243774, 2628412.960279277, 2777864.045104836, 2743092.531527222, 2479732.522722125, 2498179.236194718, 2650415.988756866, 2829730.337627514, 3199229.247254669, 2965153.067095987, 2700601.323781384, 2752983.760156098, 2908017.642712957, 2393248.815399134, 2601796.372923764, 2816764.091487347, 2706821.881260899, 2488000.731786813, 2431546.562163545, 2293915.175271454, 2374437.704836953, 2290643.888921742, 2303084.746520452, 2667261.281390637, 2926976.797311885, 2246979.393866457, 2194879.158025778, 2074167.188045989, 2189993.905197012, 2192346.341715035, 2283798.333151146, 2474775.642198499, 2258362.0058612, 2612628.542620118, 2498177.779799757, 2779525.406261482, 2831082.299887066, 2400010.702203261, 2431621.266151989, 2416853.005066616, 2343154.215106094, 2310535.502308555, 2453948.263104522, 2297872.454003762, 2419297.036745709, 2402847.39247223, 2492744.652081301, 2867760.597305155, 2973968.438278548, 2334842.709824163, 2309118.541051005, 2285584.819806868, 2603077.282701191, 2551206.870508204, 2526078.735916106, 2657056.073255902, 2513572.914824786, 2429701.081540268, 2614876.439223284, 2882788.294725833, 3284553.828919528, 2881038.699104385, 2859809.100474077, 2731322.770021687, 2404740.069038821, 2431564.151396827, 2377516.143491353, 2608994.743909604, 2516576.09839022, 2379023.177337916, 2315196.40272791, 2456017.720800763, 2220530.568650034, 1701011.572556342, 1761310.019759649, 2001726.815884218, 2301765.934298746, 2651172.772551851, 2743252.038333858, 2853330.470262835, 3140282.498625233, 3233130.237391281, 2837332.082418947, 3159768.506027024, 3069332.639419259, 3235238.668231891, 3293143.103421631, 3428334.409442499, 3409453.198293967, 2749988.691673775, 2761366.61097433, 2873655.990786887, 2773094.180603982, 2718479.208870341, 2785053.865600151, 1456749.821680669, 1534787.689347492, 1774839.88347618, 1753178.898349389, 1691050.513187018, 1507033.432421429, 1956695.427289216, 1648118.386818791, 1534104.740191472, 1568471.932253168, 1688016.093833182, 1605426.150268957, 1638023.181773366, 1610021.26414592, 1665792.631000376, 1655232.307499588, 1815848.869384465, 1968391.071732298, 1755162.380699401, 1629537.189071234, 1595061.987089272, 1543900.35979147, 1622902.254502431, 1469509.094261891, 1555863.718180119, 1472956.492495561, 1503381.881944096, 1526487.825585188, 1421150.949279774, 1375277.156382017, 1642219.133245151, 1531576.404075768, 1342945.324496384, 1333821.055650478, 1426081.783077653, 1189413.185666636, 1309141.164662231, 1328817.968454379, 1403321.867336487, 1416861.672395708, 1397492.448613371, 1602144.160934377, 1797459.868533632, 1827154.183807981, 1967372.385809524, 1639003.453335985, 1544004.085250225, 1535332.476008081, 1462526.615880833, 1633045.715241883, 1453677.514997708, 1566857.324099025, 1507040.970986787, 1500157.605232932, 1470746.067295998, 1795086.600222788, 1846409.386916161, 1482298.166746099, 1858735.458407412, 1454633.223085482, 1359207.536770366, 1463013.997196933, 1490896.909712704, 1763867.974841653, 1532319.95840338, 1449834.925151109, 1458036.880449054, 1558378.200347072, 1605247.042552714, 2002828.751784388, 1657915.737934858, 1601454.993859546, 1483636.053363327, 1567159.868827462, 1438329.882629128, 1374760.422996332, 1492654.393962838, 1461048.638665069, 1327976.341461795, 1334490.303921555, 1316664.331294548, 1373770.744418486, 1323576.782596606, 1654427.42205194, 1594175.910451714, 1676458.619381744, 1375497.584773819, 1187534.732224661, 1224850.262441781, 1229307.00406177, 1208459.536688026, 1343753.958270939, 1323108.100584083, 1379676.677990926, 1632373.080446712, 1656075.311820859, 1709375.744867692, 1603322.806574652, 1479491.473559025, 1477875.569902922, 1415485.685571061, 1528399.089550004, 1386056.499767869, 1435886.342924406, 1278234.415688925, 1330873.566445217, 1404568.937617396, 1604997.169882492, 1666193.96166078, 1561122.32832615, 1402166.074982404, 1388613.046347617, 1406763.730186666, 1511576.258024004, 1512120.27588973, 1475401.951366117, 1543189.18018134, 1484399.693175397, 1467696.625796469, 1537257.299141634, 1581484.646226852, 2056957.858462906, 1628218.821743747, 1695370.622457228, 1561296.683547747, 1410114.362203361, 1408628.515268111, 1412105.905554767, 1409634.897464058, 1418293.485998195, 1305164.304014362, 1302575.473703268, 1201520.335257932, 1110406.118750007, 922123.1204248591, 944317.2157832992, 1186213.619117522, 1074705.012568912, 1702624.973825812, 1669242.69398891, 1725955.375488056, 2053087.684033857, 2013970.126972645, 1904467.812753475, 1910878.373662383, 1904510.761670838, 2086928.612175911, 2184875.449400435, 2187607.983157181, 2234889.898019568, 2223249.674250581, 2027476.864124658, 1857994.951040521, 2158145.842390456, 1874397.593467169, 1592760.490111639, 400865.5942368279, 657233.7868671131, 663677.2143339734, 586027.4336904192, 549508.9887556235, 561596.514841827, 538847.9890731517, 580693.5707913288, 611636.3615496675, 730999.3000280409, 620624.6182406824, 673308.7695076725, 640879.9332476843, 835080.9209669736, 809889.1239521452, 644632.8203335684, 623623.6896600793, 601153.6528157123, 669096.4673406447, 656940.5545830046, 651868.7782019061, 610145.5960299784, 616001.7629429558, 643527.1579614445, 662525.5101869374, 767026.4713161901, 669035.780101513, 759179.1255445003, 635173.1038493847, 579860.9171817292, 646444.6614734804, 642961.0204111884, 686086.3042189177, 676449.4860504445, 636530.8240177674, 661589.6985084334, 764980.9053404232, 685639.1505879486, 859353.8958398572, 776983.283209589, 706731.9468155468, 689287.5108206666, 719564.5447115924, 649520.7273119265, 612474.2216339682, 636954.4281801987, 612651.6904970894, 574001.8347836128, 657814.5355982888, 550170.7159371822, 606711.5232173917, 575770.9589081992, 585792.345872728, 627905.9280798291, 761489.2692836208, 554482.4095072198, 547822.3661821211, 510171.4485890071, 528341.5983173335, 562660.9114362687, 595025.6970072171, 620087.1045860146, 574527.2682491948, 607934.0837037407, 639633.0362748061, 787467.9700340193, 846392.3945183943, 651181.922916776, 622997.8517348194, 604555.8197024338, 591304.7999840134, 587226.9912214716, 606485.5090474456, 556901.9528593548, 596379.967943838, 596801.0934227039, 609629.2295615955, 718871.6587508591, 757114.8489928043, 592081.1603419567, 576436.2141359748, 594374.417906475, 673934.1718955361, 655740.7612358754, 575697.6414526319, 689475.940551434, 626931.51197009, 656033.5183385262, 650507.5085346429, 682928.09250898, 862438.1379979082, 783664.6525817156, 735173.3584425402, 733682.57217429, 649208.8228957779, 624552.8081683754, 626204.594176703, 628911.0188964136, 641206.752238481, 616955.852229958, 645876.0196360071, 550431.5057676043, 519699.6367647689, 434968.4837425775, 463984.1050517507, 572831.4525708881, 662540.9371899619, 795170.2510771989, 760702.1941571732, 733559.4535173527, 831052.0951193497, 793419.3120327003, 718261.8280106776, 724039.3751556986, 768001.7118540583, 782321.9921927159, 851777.2232811713, 947364.0192535142, 994487.5326324198, 867503.7458149143, 803199.6537399931, 806256.3294526666, 833751.1414029963, 853024.7153598325, 756391.4052443217, 2173977.032103576, 2155545.919121663, 2094841.011162552, 2535675.241826159, 2277493.607088, 2090769.646315287, 2406385.618249251, 2321607.038115114, 2227304.303168017, 2474567.442304043, 2079246.102508494, 2155092.972983506, 2170995.596594645, 2311007.000114306, 2200351.355759795, 2226552.999406351, 2569976.924285516, 2703696.420633273, 2633425.684279039, 2441590.702176922, 2550230.036771949, 2319860.821588857, 2305724.717296751, 2370859.551373887, 2451106.908758114, 2273881.087206302, 2201063.984329701, 2401900.135853213, 2020154.924455441, 1982375.328382093, 2483149.658817093, 2142913.399136052, 1944490.194422666, 2147764.540921825, 1992149.34962534, 1959592.491759138, 1847383.400213798, 1910937.959403426, 1898237.871921008, 2007181.390823723, 2222416.604624206, 2111350.165408474, 2509343.295742664, 2450833.459168972, 2550019.662793044, 2313008.254098248, 2196070.137978665, 2132653.526082675, 2135261.484636801, 2096010.598244163, 1928359.995514112, 1961862.905673692, 1928044.768737992, 2027238.264860422, 1988308.729183352, 2651288.257257362, 2211910.062609156, 1841606.550781404, 2340974.309839563, 2081153.584779695, 1945009.321956953, 2376393.022871379, 2039072.683144861, 2124476.198871993, 2075552.517656174, 2055818.186120559, 2034019.500056891, 2113241.845557682, 2187942.357937597, 2682474.05173244, 2272346.405283296, 2168463.14515707, 2178356.796107219, 2317152.911697342, 1985256.803878911, 2057109.750094871, 2258835.510022541, 2216759.019099752, 1997952.079035663, 2147760.302149362, 1787288.858660694, 1914185.829273157, 1865379.410202064, 2094467.535230382, 2018008.918502097, 2568052.56824491, 1779656.909040528, 1722448.613671838, 1657780.992908588, 1752500.806801457, 1782254.168300464, 1847675.897674954, 2033234.377621999, 1862298.878673657, 2051178.251334092, 2151699.536727613, 2256548.294197786, 2086616.765145305, 1978913.478295632, 1946932.960311908, 1963266.508336586, 1854653.479729932, 1836769.413827782, 1849765.487929735, 1859628.511194323, 1916279.930440686, 1910292.637399483, 2300727.711495953, 2090430.435594788, 1806228.030073318, 1879606.812678967, 1904957.147936894, 1947752.964673786, 2557737.929951426, 2036592.755721962, 1984176.779989305, 2069824.944404338, 2051208.77507349, 2030062.480177317, 2026438.780978565, 2317947.2075929, 2699077.634855784, 2459248.99120319, 2304847.776112456, 2259382.09983543, 2169872.786042465, 2056900.449469137, 2131372.68290389, 2186388.187919467, 2129710.107863768, 1974105.614269987, 2089247.921319393, 1872791.91739453, 1612683.336626691, 1235302.134948292, 1294007.234255016, 1456142.571636864, 1494888.586703174, 1838797.679825191, 1820176.199552675, 1992516.726593521, 2380274.942899977, 2474395.449158682, 2366523.295919454, 2414120.51889532, 2393014.988591331, 2410339.456042459, 2452462.002642554, 2052963.758172008, 1748782.736679036, 1474484.029808089, 1534077.680473221, 923406.3721405836, 101105.8778725927, 137552.9633831789, 77309.11116223564, 770294.9737615981, 919437.2439854394, 1129704.862070959, 1027685.613751038, 976021.2941384722, 947474.3031400068, 926734.7707004084, 939314.2848296785, 1037653.165741358, 1042241.692120809, 1007671.178662462, 1064820.623453255, 1134927.541729526, 1202726.947343207, 1265155.285260032, 1193814.781499005, 1112481.24125399, 1125611.966440368, 1075246.459425593, 1016763.425038738, 1028741.205776156, 1031974.520451041, 1012854.154555203, 1014292.057015475, 1020549.691470501, 1229749.169073341, 1178092.272604025, 1037496.322159593, 1231892.204782497, 1062318.022969897, 1007305.492034842, 1062245.747119074, 1117332.776382334, 1242202.556330491, 1175279.438227872, 1062804.266890284, 1028223.62901654, 1113662.653377824, 1093936.478538533, 1314052.538065806, 1099475.609432149, 1165249.310981606, 1143605.144547776, 1135066.174054666, 988897.9696313373, 983359.7467489883, 1006985.418135264, 1004537.895405184, 1031682.322477833, 933298.0515579176, 918947.4262138959, 963878.3890463642, 999712.7315019409, 1033663.180163449, 1122749.257956435, 1163351.558520483, 966267.9037711167, 937348.7476006718, 912838.2353666924, 919850.7362910638, 965972.2002541064, 962986.4003331241, 950394.8417318636, 971775.7984825049, 1071445.144963326, 1054347.983245121, 1224086.549076284, 1254587.65174255, 1086151.76788414, 1074235.608999317, 1044329.951975798, 1008600.558081617, 1026179.868181753, 1024166.182240155, 990612.4935780433, 968021.0489546586, 962613.9683998523, 1024338.940097731, 1198266.047125181, 1134747.252044384, 1017575.810739616, 1018053.610999822, 1002744.028979319, 1075291.176284906, 1102402.460359027, 1098636.599916505, 1097397.594211326, 1020380.036712058, 1053366.402333025, 1043146.891437367, 1033827.500736153, 1412568.351994483, 1152209.454915632, 1120015.964468578, 1188675.190409752, 1028121.740348111, 1042965.415979692, 1024707.311044681, 1023792.988866948, 1003042.477310696, 1019547.988475308, 924003.8583653866, 978775.95326941, 901311.0198578313, 663962.0612222215, 686500.575832631, 866084.044033757, 782932.9481527813, 1161703.651907744, 1096142.996858809, 1108498.679264195, 1229172.47358018, 1145625.471834579, 1167187.236680397, 1109709.715788086, 1186871.637307797, 1259688.225141553, 1316347.087654828, 1449490.280263191, 1495237.554726775, 1418697.254347753, 1364894.742805736, 1351591.411319429, 1385729.187643929, 1362193.248057242, 1271019.578751108]}],                        {\"annotations\": [{\"font\": {\"size\": 15}, \"showarrow\": false, \"text\": \"FY20: 1274891876\", \"x\": 0.5, \"y\": 0.5}], \"legend\": {\"tracegroupgap\": 0}, \"margin\": {\"t\": 60}, \"paper_bgcolor\": \"#C0C0C0\", \"template\": {\"data\": {\"bar\": [{\"error_x\": {\"color\": \"#2a3f5f\"}, \"error_y\": {\"color\": \"#2a3f5f\"}, \"marker\": {\"line\": {\"color\": \"#E5ECF6\", \"width\": 0.5}}, \"type\": \"bar\"}], \"barpolar\": [{\"marker\": {\"line\": {\"color\": \"#E5ECF6\", \"width\": 0.5}}, \"type\": \"barpolar\"}], \"carpet\": [{\"aaxis\": {\"endlinecolor\": \"#2a3f5f\", \"gridcolor\": \"white\", \"linecolor\": \"white\", \"minorgridcolor\": \"white\", \"startlinecolor\": \"#2a3f5f\"}, \"baxis\": {\"endlinecolor\": \"#2a3f5f\", \"gridcolor\": \"white\", \"linecolor\": \"white\", \"minorgridcolor\": \"white\", \"startlinecolor\": \"#2a3f5f\"}, \"type\": \"carpet\"}], \"choropleth\": [{\"colorbar\": {\"outlinewidth\": 0, \"ticks\": \"\"}, \"type\": \"choropleth\"}], \"contour\": [{\"colorbar\": {\"outlinewidth\": 0, \"ticks\": \"\"}, \"colorscale\": [[0.0, \"#0d0887\"], [0.1111111111111111, \"#46039f\"], [0.2222222222222222, \"#7201a8\"], [0.3333333333333333, \"#9c179e\"], [0.4444444444444444, \"#bd3786\"], [0.5555555555555556, \"#d8576b\"], [0.6666666666666666, \"#ed7953\"], [0.7777777777777778, \"#fb9f3a\"], [0.8888888888888888, \"#fdca26\"], [1.0, \"#f0f921\"]], \"type\": \"contour\"}], \"contourcarpet\": [{\"colorbar\": {\"outlinewidth\": 0, \"ticks\": \"\"}, \"type\": \"contourcarpet\"}], \"heatmap\": [{\"colorbar\": {\"outlinewidth\": 0, \"ticks\": \"\"}, \"colorscale\": [[0.0, \"#0d0887\"], [0.1111111111111111, \"#46039f\"], [0.2222222222222222, \"#7201a8\"], [0.3333333333333333, \"#9c179e\"], [0.4444444444444444, \"#bd3786\"], [0.5555555555555556, \"#d8576b\"], [0.6666666666666666, \"#ed7953\"], [0.7777777777777778, \"#fb9f3a\"], [0.8888888888888888, \"#fdca26\"], [1.0, \"#f0f921\"]], \"type\": \"heatmap\"}], \"heatmapgl\": [{\"colorbar\": {\"outlinewidth\": 0, \"ticks\": \"\"}, \"colorscale\": [[0.0, \"#0d0887\"], [0.1111111111111111, \"#46039f\"], [0.2222222222222222, \"#7201a8\"], [0.3333333333333333, \"#9c179e\"], [0.4444444444444444, \"#bd3786\"], [0.5555555555555556, \"#d8576b\"], [0.6666666666666666, \"#ed7953\"], [0.7777777777777778, \"#fb9f3a\"], [0.8888888888888888, \"#fdca26\"], [1.0, \"#f0f921\"]], \"type\": \"heatmapgl\"}], \"histogram\": [{\"marker\": {\"colorbar\": {\"outlinewidth\": 0, \"ticks\": \"\"}}, \"type\": \"histogram\"}], \"histogram2d\": [{\"colorbar\": {\"outlinewidth\": 0, \"ticks\": \"\"}, \"colorscale\": [[0.0, \"#0d0887\"], [0.1111111111111111, \"#46039f\"], [0.2222222222222222, \"#7201a8\"], [0.3333333333333333, \"#9c179e\"], [0.4444444444444444, \"#bd3786\"], [0.5555555555555556, \"#d8576b\"], [0.6666666666666666, \"#ed7953\"], [0.7777777777777778, \"#fb9f3a\"], [0.8888888888888888, \"#fdca26\"], [1.0, \"#f0f921\"]], \"type\": \"histogram2d\"}], \"histogram2dcontour\": [{\"colorbar\": {\"outlinewidth\": 0, \"ticks\": \"\"}, \"colorscale\": [[0.0, \"#0d0887\"], [0.1111111111111111, \"#46039f\"], [0.2222222222222222, \"#7201a8\"], [0.3333333333333333, \"#9c179e\"], [0.4444444444444444, \"#bd3786\"], [0.5555555555555556, \"#d8576b\"], [0.6666666666666666, \"#ed7953\"], [0.7777777777777778, \"#fb9f3a\"], [0.8888888888888888, \"#fdca26\"], [1.0, \"#f0f921\"]], \"type\": \"histogram2dcontour\"}], \"mesh3d\": [{\"colorbar\": {\"outlinewidth\": 0, \"ticks\": \"\"}, \"type\": \"mesh3d\"}], \"parcoords\": [{\"line\": {\"colorbar\": {\"outlinewidth\": 0, \"ticks\": \"\"}}, \"type\": \"parcoords\"}], \"pie\": [{\"automargin\": true, \"type\": \"pie\"}], \"scatter\": [{\"marker\": {\"colorbar\": {\"outlinewidth\": 0, \"ticks\": \"\"}}, \"type\": \"scatter\"}], \"scatter3d\": [{\"line\": {\"colorbar\": {\"outlinewidth\": 0, \"ticks\": \"\"}}, \"marker\": {\"colorbar\": {\"outlinewidth\": 0, \"ticks\": \"\"}}, \"type\": \"scatter3d\"}], \"scattercarpet\": [{\"marker\": {\"colorbar\": {\"outlinewidth\": 0, \"ticks\": \"\"}}, \"type\": \"scattercarpet\"}], \"scattergeo\": [{\"marker\": {\"colorbar\": {\"outlinewidth\": 0, \"ticks\": \"\"}}, \"type\": \"scattergeo\"}], \"scattergl\": [{\"marker\": {\"colorbar\": {\"outlinewidth\": 0, \"ticks\": \"\"}}, \"type\": \"scattergl\"}], \"scattermapbox\": [{\"marker\": {\"colorbar\": {\"outlinewidth\": 0, \"ticks\": \"\"}}, \"type\": \"scattermapbox\"}], \"scatterpolar\": [{\"marker\": {\"colorbar\": {\"outlinewidth\": 0, \"ticks\": \"\"}}, \"type\": \"scatterpolar\"}], \"scatterpolargl\": [{\"marker\": {\"colorbar\": {\"outlinewidth\": 0, \"ticks\": \"\"}}, \"type\": \"scatterpolargl\"}], \"scatterternary\": [{\"marker\": {\"colorbar\": {\"outlinewidth\": 0, \"ticks\": \"\"}}, \"type\": \"scatterternary\"}], \"surface\": [{\"colorbar\": {\"outlinewidth\": 0, \"ticks\": \"\"}, \"colorscale\": [[0.0, \"#0d0887\"], [0.1111111111111111, \"#46039f\"], [0.2222222222222222, \"#7201a8\"], [0.3333333333333333, \"#9c179e\"], [0.4444444444444444, \"#bd3786\"], [0.5555555555555556, \"#d8576b\"], [0.6666666666666666, \"#ed7953\"], [0.7777777777777778, \"#fb9f3a\"], [0.8888888888888888, \"#fdca26\"], [1.0, \"#f0f921\"]], \"type\": \"surface\"}], \"table\": [{\"cells\": {\"fill\": {\"color\": \"#EBF0F8\"}, \"line\": {\"color\": \"white\"}}, \"header\": {\"fill\": {\"color\": \"#C8D4E3\"}, \"line\": {\"color\": \"white\"}}, \"type\": \"table\"}]}, \"layout\": {\"annotationdefaults\": {\"arrowcolor\": \"#2a3f5f\", \"arrowhead\": 0, \"arrowwidth\": 1}, \"autotypenumbers\": \"strict\", \"coloraxis\": {\"colorbar\": {\"outlinewidth\": 0, \"ticks\": \"\"}}, \"colorscale\": {\"diverging\": [[0, \"#8e0152\"], [0.1, \"#c51b7d\"], [0.2, \"#de77ae\"], [0.3, \"#f1b6da\"], [0.4, \"#fde0ef\"], [0.5, \"#f7f7f7\"], [0.6, \"#e6f5d0\"], [0.7, \"#b8e186\"], [0.8, \"#7fbc41\"], [0.9, \"#4d9221\"], [1, \"#276419\"]], \"sequential\": [[0.0, \"#0d0887\"], [0.1111111111111111, \"#46039f\"], [0.2222222222222222, \"#7201a8\"], [0.3333333333333333, \"#9c179e\"], [0.4444444444444444, \"#bd3786\"], [0.5555555555555556, \"#d8576b\"], [0.6666666666666666, \"#ed7953\"], [0.7777777777777778, \"#fb9f3a\"], [0.8888888888888888, \"#fdca26\"], [1.0, \"#f0f921\"]], \"sequentialminus\": [[0.0, \"#0d0887\"], [0.1111111111111111, \"#46039f\"], [0.2222222222222222, \"#7201a8\"], [0.3333333333333333, \"#9c179e\"], [0.4444444444444444, \"#bd3786\"], [0.5555555555555556, \"#d8576b\"], [0.6666666666666666, \"#ed7953\"], [0.7777777777777778, \"#fb9f3a\"], [0.8888888888888888, \"#fdca26\"], [1.0, \"#f0f921\"]]}, \"colorway\": [\"#636efa\", \"#EF553B\", \"#00cc96\", \"#ab63fa\", \"#FFA15A\", \"#19d3f3\", \"#FF6692\", \"#B6E880\", \"#FF97FF\", \"#FECB52\"], \"font\": {\"color\": \"#2a3f5f\"}, \"geo\": {\"bgcolor\": \"white\", \"lakecolor\": \"white\", \"landcolor\": \"#E5ECF6\", \"showlakes\": true, \"showland\": true, \"subunitcolor\": \"white\"}, \"hoverlabel\": {\"align\": \"left\"}, \"hovermode\": \"closest\", \"mapbox\": {\"style\": \"light\"}, \"paper_bgcolor\": \"white\", \"plot_bgcolor\": \"#E5ECF6\", \"polar\": {\"angularaxis\": {\"gridcolor\": \"white\", \"linecolor\": \"white\", \"ticks\": \"\"}, \"bgcolor\": \"#E5ECF6\", \"radialaxis\": {\"gridcolor\": \"white\", \"linecolor\": \"white\", \"ticks\": \"\"}}, \"scene\": {\"xaxis\": {\"backgroundcolor\": \"#E5ECF6\", \"gridcolor\": \"white\", \"gridwidth\": 2, \"linecolor\": \"white\", \"showbackground\": true, \"ticks\": \"\", \"zerolinecolor\": \"white\"}, \"yaxis\": {\"backgroundcolor\": \"#E5ECF6\", \"gridcolor\": \"white\", \"gridwidth\": 2, \"linecolor\": \"white\", \"showbackground\": true, \"ticks\": \"\", \"zerolinecolor\": \"white\"}, \"zaxis\": {\"backgroundcolor\": \"#E5ECF6\", \"gridcolor\": \"white\", \"gridwidth\": 2, \"linecolor\": \"white\", \"showbackground\": true, \"ticks\": \"\", \"zerolinecolor\": \"white\"}}, \"shapedefaults\": {\"line\": {\"color\": \"#2a3f5f\"}}, \"ternary\": {\"aaxis\": {\"gridcolor\": \"white\", \"linecolor\": \"white\", \"ticks\": \"\"}, \"baxis\": {\"gridcolor\": \"white\", \"linecolor\": \"white\", \"ticks\": \"\"}, \"bgcolor\": \"#E5ECF6\", \"caxis\": {\"gridcolor\": \"white\", \"linecolor\": \"white\", \"ticks\": \"\"}}, \"title\": {\"x\": 0.05}, \"xaxis\": {\"automargin\": true, \"gridcolor\": \"white\", \"linecolor\": \"white\", \"ticks\": \"\", \"title\": {\"standoff\": 15}, \"zerolinecolor\": \"white\", \"zerolinewidth\": 2}, \"yaxis\": {\"automargin\": true, \"gridcolor\": \"white\", \"linecolor\": \"white\", \"ticks\": \"\", \"title\": {\"standoff\": 15}, \"zerolinecolor\": \"white\", \"zerolinewidth\": 2}}}, \"title\": {\"text\": \"Percentage of Sales across states over FY18 - FY20\", \"x\": 0.5}},                        {\"responsive\": true}                    ).then(function(){\n",
       "                            \n",
       "var gd = document.getElementById('b39482b0-9b27-4b5c-add5-75658b810aa9');\n",
       "var x = new MutationObserver(function (mutations, observer) {{\n",
       "        var display = window.getComputedStyle(gd).display;\n",
       "        if (!display || display === 'none') {{\n",
       "            console.log([gd, 'removed!']);\n",
       "            Plotly.purge(gd);\n",
       "            observer.disconnect();\n",
       "        }}\n",
       "}});\n",
       "\n",
       "// Listen for the removal of the full notebook cells\n",
       "var notebookContainer = gd.closest('#notebook-container');\n",
       "if (notebookContainer) {{\n",
       "    x.observe(notebookContainer, {childList: true});\n",
       "}}\n",
       "\n",
       "// Listen for the clearing of the current output cell\n",
       "var outputEl = gd.closest('.output');\n",
       "if (outputEl) {{\n",
       "    x.observe(outputEl, {childList: true});\n",
       "}}\n",
       "\n",
       "                        })                };                });            </script>        </div>"
      ]
     },
     "metadata": {},
     "output_type": "display_data"
    }
   ],
   "source": [
    "fig = px.pie(df1, values='Sales', names='State', hole=0.5)\n",
    "fig.update_layout(paper_bgcolor=\"#C0C0C0\",title_text='Percentage of Sales across states over FY18 - FY20', title_x=0.5)\n",
    "fig.update_layout(title_x=0.5,annotations=[dict(text=str(int(df1.Sales.sum())), x=0.5, y=0.5, font_size=15, showarrow=False)])\n",
    "#fig.update_layout(paper_bgcolor=\"black\")\n",
    "fig.show()"
   ]
  },
  {
   "cell_type": "markdown",
   "metadata": {},
   "source": [
    "## Sunburst plot"
   ]
  },
  {
   "cell_type": "code",
   "execution_count": 10,
   "metadata": {},
   "outputs": [
    {
     "data": {
      "application/vnd.plotly.v1+json": {
       "config": {
        "plotlyServerURL": "https://plot.ly"
       },
       "data": [
        {
         "branchvalues": "total",
         "domain": {
          "x": [
           0,
           1
          ],
          "y": [
           0,
           1
          ]
         },
         "hovertemplate": "labels=%{label}<br>Sales=%{value}<br>parent=%{parent}<br>id=%{id}<extra></extra>",
         "ids": [
          "ACT/FY18",
          "NSW/FY18",
          "QLD/FY18",
          "SA/FY18",
          "VIC/FY18",
          "WA/FY18",
          "ACT/FY19",
          "NSW/FY19",
          "QLD/FY19",
          "SA/FY19",
          "VIC/FY19",
          "WA/FY19",
          "ACT/FY20",
          "NSW/FY20",
          "QLD/FY20",
          "SA/FY20",
          "VIC/FY20",
          "WA/FY20",
          "ACT",
          "NSW",
          "QLD",
          "SA",
          "VIC",
          "WA"
         ],
         "labels": [
          "FY18",
          "FY18",
          "FY18",
          "FY18",
          "FY18",
          "FY18",
          "FY19",
          "FY19",
          "FY19",
          "FY19",
          "FY19",
          "FY19",
          "FY20",
          "FY20",
          "FY20",
          "FY20",
          "FY20",
          "FY20",
          "ACT",
          "NSW",
          "QLD",
          "SA",
          "VIC",
          "WA"
         ],
         "name": "",
         "parents": [
          "ACT",
          "NSW",
          "QLD",
          "SA",
          "VIC",
          "WA",
          "ACT",
          "NSW",
          "QLD",
          "SA",
          "VIC",
          "WA",
          "ACT",
          "NSW",
          "QLD",
          "SA",
          "VIC",
          "WA",
          "",
          "",
          "",
          "",
          "",
          ""
         ],
         "type": "sunburst",
         "values": [
          26247467.512798417,
          140775758.48763964,
          81893243.37550892,
          13308186.083018048,
          116068250.46122158,
          22976497.380573146,
          25589500.10685395,
          133484901.70132208,
          77873769.56594118,
          33584636.01943682,
          106966094.87712461,
          55154315.78721063,
          26910321.471015345,
          138110501.32395613,
          83517370.67379358,
          36182454.380227745,
          98708167.65854913,
          57540439.64139021,
          78747289.09066774,
          412371161.5129176,
          243284383.6152437,
          83075276.48268265,
          321742512.9968954,
          135671252.809174
         ]
        }
       ],
       "layout": {
        "legend": {
         "tracegroupgap": 0
        },
        "margin": {
         "t": 60
        },
        "template": {
         "data": {
          "bar": [
           {
            "error_x": {
             "color": "#2a3f5f"
            },
            "error_y": {
             "color": "#2a3f5f"
            },
            "marker": {
             "line": {
              "color": "#E5ECF6",
              "width": 0.5
             }
            },
            "type": "bar"
           }
          ],
          "barpolar": [
           {
            "marker": {
             "line": {
              "color": "#E5ECF6",
              "width": 0.5
             }
            },
            "type": "barpolar"
           }
          ],
          "carpet": [
           {
            "aaxis": {
             "endlinecolor": "#2a3f5f",
             "gridcolor": "white",
             "linecolor": "white",
             "minorgridcolor": "white",
             "startlinecolor": "#2a3f5f"
            },
            "baxis": {
             "endlinecolor": "#2a3f5f",
             "gridcolor": "white",
             "linecolor": "white",
             "minorgridcolor": "white",
             "startlinecolor": "#2a3f5f"
            },
            "type": "carpet"
           }
          ],
          "choropleth": [
           {
            "colorbar": {
             "outlinewidth": 0,
             "ticks": ""
            },
            "type": "choropleth"
           }
          ],
          "contour": [
           {
            "colorbar": {
             "outlinewidth": 0,
             "ticks": ""
            },
            "colorscale": [
             [
              0,
              "#0d0887"
             ],
             [
              0.1111111111111111,
              "#46039f"
             ],
             [
              0.2222222222222222,
              "#7201a8"
             ],
             [
              0.3333333333333333,
              "#9c179e"
             ],
             [
              0.4444444444444444,
              "#bd3786"
             ],
             [
              0.5555555555555556,
              "#d8576b"
             ],
             [
              0.6666666666666666,
              "#ed7953"
             ],
             [
              0.7777777777777778,
              "#fb9f3a"
             ],
             [
              0.8888888888888888,
              "#fdca26"
             ],
             [
              1,
              "#f0f921"
             ]
            ],
            "type": "contour"
           }
          ],
          "contourcarpet": [
           {
            "colorbar": {
             "outlinewidth": 0,
             "ticks": ""
            },
            "type": "contourcarpet"
           }
          ],
          "heatmap": [
           {
            "colorbar": {
             "outlinewidth": 0,
             "ticks": ""
            },
            "colorscale": [
             [
              0,
              "#0d0887"
             ],
             [
              0.1111111111111111,
              "#46039f"
             ],
             [
              0.2222222222222222,
              "#7201a8"
             ],
             [
              0.3333333333333333,
              "#9c179e"
             ],
             [
              0.4444444444444444,
              "#bd3786"
             ],
             [
              0.5555555555555556,
              "#d8576b"
             ],
             [
              0.6666666666666666,
              "#ed7953"
             ],
             [
              0.7777777777777778,
              "#fb9f3a"
             ],
             [
              0.8888888888888888,
              "#fdca26"
             ],
             [
              1,
              "#f0f921"
             ]
            ],
            "type": "heatmap"
           }
          ],
          "heatmapgl": [
           {
            "colorbar": {
             "outlinewidth": 0,
             "ticks": ""
            },
            "colorscale": [
             [
              0,
              "#0d0887"
             ],
             [
              0.1111111111111111,
              "#46039f"
             ],
             [
              0.2222222222222222,
              "#7201a8"
             ],
             [
              0.3333333333333333,
              "#9c179e"
             ],
             [
              0.4444444444444444,
              "#bd3786"
             ],
             [
              0.5555555555555556,
              "#d8576b"
             ],
             [
              0.6666666666666666,
              "#ed7953"
             ],
             [
              0.7777777777777778,
              "#fb9f3a"
             ],
             [
              0.8888888888888888,
              "#fdca26"
             ],
             [
              1,
              "#f0f921"
             ]
            ],
            "type": "heatmapgl"
           }
          ],
          "histogram": [
           {
            "marker": {
             "colorbar": {
              "outlinewidth": 0,
              "ticks": ""
             }
            },
            "type": "histogram"
           }
          ],
          "histogram2d": [
           {
            "colorbar": {
             "outlinewidth": 0,
             "ticks": ""
            },
            "colorscale": [
             [
              0,
              "#0d0887"
             ],
             [
              0.1111111111111111,
              "#46039f"
             ],
             [
              0.2222222222222222,
              "#7201a8"
             ],
             [
              0.3333333333333333,
              "#9c179e"
             ],
             [
              0.4444444444444444,
              "#bd3786"
             ],
             [
              0.5555555555555556,
              "#d8576b"
             ],
             [
              0.6666666666666666,
              "#ed7953"
             ],
             [
              0.7777777777777778,
              "#fb9f3a"
             ],
             [
              0.8888888888888888,
              "#fdca26"
             ],
             [
              1,
              "#f0f921"
             ]
            ],
            "type": "histogram2d"
           }
          ],
          "histogram2dcontour": [
           {
            "colorbar": {
             "outlinewidth": 0,
             "ticks": ""
            },
            "colorscale": [
             [
              0,
              "#0d0887"
             ],
             [
              0.1111111111111111,
              "#46039f"
             ],
             [
              0.2222222222222222,
              "#7201a8"
             ],
             [
              0.3333333333333333,
              "#9c179e"
             ],
             [
              0.4444444444444444,
              "#bd3786"
             ],
             [
              0.5555555555555556,
              "#d8576b"
             ],
             [
              0.6666666666666666,
              "#ed7953"
             ],
             [
              0.7777777777777778,
              "#fb9f3a"
             ],
             [
              0.8888888888888888,
              "#fdca26"
             ],
             [
              1,
              "#f0f921"
             ]
            ],
            "type": "histogram2dcontour"
           }
          ],
          "mesh3d": [
           {
            "colorbar": {
             "outlinewidth": 0,
             "ticks": ""
            },
            "type": "mesh3d"
           }
          ],
          "parcoords": [
           {
            "line": {
             "colorbar": {
              "outlinewidth": 0,
              "ticks": ""
             }
            },
            "type": "parcoords"
           }
          ],
          "pie": [
           {
            "automargin": true,
            "type": "pie"
           }
          ],
          "scatter": [
           {
            "marker": {
             "colorbar": {
              "outlinewidth": 0,
              "ticks": ""
             }
            },
            "type": "scatter"
           }
          ],
          "scatter3d": [
           {
            "line": {
             "colorbar": {
              "outlinewidth": 0,
              "ticks": ""
             }
            },
            "marker": {
             "colorbar": {
              "outlinewidth": 0,
              "ticks": ""
             }
            },
            "type": "scatter3d"
           }
          ],
          "scattercarpet": [
           {
            "marker": {
             "colorbar": {
              "outlinewidth": 0,
              "ticks": ""
             }
            },
            "type": "scattercarpet"
           }
          ],
          "scattergeo": [
           {
            "marker": {
             "colorbar": {
              "outlinewidth": 0,
              "ticks": ""
             }
            },
            "type": "scattergeo"
           }
          ],
          "scattergl": [
           {
            "marker": {
             "colorbar": {
              "outlinewidth": 0,
              "ticks": ""
             }
            },
            "type": "scattergl"
           }
          ],
          "scattermapbox": [
           {
            "marker": {
             "colorbar": {
              "outlinewidth": 0,
              "ticks": ""
             }
            },
            "type": "scattermapbox"
           }
          ],
          "scatterpolar": [
           {
            "marker": {
             "colorbar": {
              "outlinewidth": 0,
              "ticks": ""
             }
            },
            "type": "scatterpolar"
           }
          ],
          "scatterpolargl": [
           {
            "marker": {
             "colorbar": {
              "outlinewidth": 0,
              "ticks": ""
             }
            },
            "type": "scatterpolargl"
           }
          ],
          "scatterternary": [
           {
            "marker": {
             "colorbar": {
              "outlinewidth": 0,
              "ticks": ""
             }
            },
            "type": "scatterternary"
           }
          ],
          "surface": [
           {
            "colorbar": {
             "outlinewidth": 0,
             "ticks": ""
            },
            "colorscale": [
             [
              0,
              "#0d0887"
             ],
             [
              0.1111111111111111,
              "#46039f"
             ],
             [
              0.2222222222222222,
              "#7201a8"
             ],
             [
              0.3333333333333333,
              "#9c179e"
             ],
             [
              0.4444444444444444,
              "#bd3786"
             ],
             [
              0.5555555555555556,
              "#d8576b"
             ],
             [
              0.6666666666666666,
              "#ed7953"
             ],
             [
              0.7777777777777778,
              "#fb9f3a"
             ],
             [
              0.8888888888888888,
              "#fdca26"
             ],
             [
              1,
              "#f0f921"
             ]
            ],
            "type": "surface"
           }
          ],
          "table": [
           {
            "cells": {
             "fill": {
              "color": "#EBF0F8"
             },
             "line": {
              "color": "white"
             }
            },
            "header": {
             "fill": {
              "color": "#C8D4E3"
             },
             "line": {
              "color": "white"
             }
            },
            "type": "table"
           }
          ]
         },
         "layout": {
          "annotationdefaults": {
           "arrowcolor": "#2a3f5f",
           "arrowhead": 0,
           "arrowwidth": 1
          },
          "autotypenumbers": "strict",
          "coloraxis": {
           "colorbar": {
            "outlinewidth": 0,
            "ticks": ""
           }
          },
          "colorscale": {
           "diverging": [
            [
             0,
             "#8e0152"
            ],
            [
             0.1,
             "#c51b7d"
            ],
            [
             0.2,
             "#de77ae"
            ],
            [
             0.3,
             "#f1b6da"
            ],
            [
             0.4,
             "#fde0ef"
            ],
            [
             0.5,
             "#f7f7f7"
            ],
            [
             0.6,
             "#e6f5d0"
            ],
            [
             0.7,
             "#b8e186"
            ],
            [
             0.8,
             "#7fbc41"
            ],
            [
             0.9,
             "#4d9221"
            ],
            [
             1,
             "#276419"
            ]
           ],
           "sequential": [
            [
             0,
             "#0d0887"
            ],
            [
             0.1111111111111111,
             "#46039f"
            ],
            [
             0.2222222222222222,
             "#7201a8"
            ],
            [
             0.3333333333333333,
             "#9c179e"
            ],
            [
             0.4444444444444444,
             "#bd3786"
            ],
            [
             0.5555555555555556,
             "#d8576b"
            ],
            [
             0.6666666666666666,
             "#ed7953"
            ],
            [
             0.7777777777777778,
             "#fb9f3a"
            ],
            [
             0.8888888888888888,
             "#fdca26"
            ],
            [
             1,
             "#f0f921"
            ]
           ],
           "sequentialminus": [
            [
             0,
             "#0d0887"
            ],
            [
             0.1111111111111111,
             "#46039f"
            ],
            [
             0.2222222222222222,
             "#7201a8"
            ],
            [
             0.3333333333333333,
             "#9c179e"
            ],
            [
             0.4444444444444444,
             "#bd3786"
            ],
            [
             0.5555555555555556,
             "#d8576b"
            ],
            [
             0.6666666666666666,
             "#ed7953"
            ],
            [
             0.7777777777777778,
             "#fb9f3a"
            ],
            [
             0.8888888888888888,
             "#fdca26"
            ],
            [
             1,
             "#f0f921"
            ]
           ]
          },
          "colorway": [
           "#636efa",
           "#EF553B",
           "#00cc96",
           "#ab63fa",
           "#FFA15A",
           "#19d3f3",
           "#FF6692",
           "#B6E880",
           "#FF97FF",
           "#FECB52"
          ],
          "font": {
           "color": "#2a3f5f"
          },
          "geo": {
           "bgcolor": "white",
           "lakecolor": "white",
           "landcolor": "#E5ECF6",
           "showlakes": true,
           "showland": true,
           "subunitcolor": "white"
          },
          "hoverlabel": {
           "align": "left"
          },
          "hovermode": "closest",
          "mapbox": {
           "style": "light"
          },
          "paper_bgcolor": "white",
          "plot_bgcolor": "#E5ECF6",
          "polar": {
           "angularaxis": {
            "gridcolor": "white",
            "linecolor": "white",
            "ticks": ""
           },
           "bgcolor": "#E5ECF6",
           "radialaxis": {
            "gridcolor": "white",
            "linecolor": "white",
            "ticks": ""
           }
          },
          "scene": {
           "xaxis": {
            "backgroundcolor": "#E5ECF6",
            "gridcolor": "white",
            "gridwidth": 2,
            "linecolor": "white",
            "showbackground": true,
            "ticks": "",
            "zerolinecolor": "white"
           },
           "yaxis": {
            "backgroundcolor": "#E5ECF6",
            "gridcolor": "white",
            "gridwidth": 2,
            "linecolor": "white",
            "showbackground": true,
            "ticks": "",
            "zerolinecolor": "white"
           },
           "zaxis": {
            "backgroundcolor": "#E5ECF6",
            "gridcolor": "white",
            "gridwidth": 2,
            "linecolor": "white",
            "showbackground": true,
            "ticks": "",
            "zerolinecolor": "white"
           }
          },
          "shapedefaults": {
           "line": {
            "color": "#2a3f5f"
           }
          },
          "ternary": {
           "aaxis": {
            "gridcolor": "white",
            "linecolor": "white",
            "ticks": ""
           },
           "baxis": {
            "gridcolor": "white",
            "linecolor": "white",
            "ticks": ""
           },
           "bgcolor": "#E5ECF6",
           "caxis": {
            "gridcolor": "white",
            "linecolor": "white",
            "ticks": ""
           }
          },
          "title": {
           "x": 0.05
          },
          "xaxis": {
           "automargin": true,
           "gridcolor": "white",
           "linecolor": "white",
           "ticks": "",
           "title": {
            "standoff": 15
           },
           "zerolinecolor": "white",
           "zerolinewidth": 2
          },
          "yaxis": {
           "automargin": true,
           "gridcolor": "white",
           "linecolor": "white",
           "ticks": "",
           "title": {
            "standoff": 15
           },
           "zerolinecolor": "white",
           "zerolinewidth": 2
          }
         }
        },
        "title": {
         "text": "Sales in states over FY18 - FY20",
         "x": 0.5
        }
       }
      },
      "text/html": [
       "<div>                            <div id=\"1a1c5d61-02ae-47fd-9907-145d66f99410\" class=\"plotly-graph-div\" style=\"height:525px; width:100%;\"></div>            <script type=\"text/javascript\">                require([\"plotly\"], function(Plotly) {                    window.PLOTLYENV=window.PLOTLYENV || {};                                    if (document.getElementById(\"1a1c5d61-02ae-47fd-9907-145d66f99410\")) {                    Plotly.newPlot(                        \"1a1c5d61-02ae-47fd-9907-145d66f99410\",                        [{\"branchvalues\": \"total\", \"domain\": {\"x\": [0.0, 1.0], \"y\": [0.0, 1.0]}, \"hovertemplate\": \"labels=%{label}<br>Sales=%{value}<br>parent=%{parent}<br>id=%{id}<extra></extra>\", \"ids\": [\"ACT/FY18\", \"NSW/FY18\", \"QLD/FY18\", \"SA/FY18\", \"VIC/FY18\", \"WA/FY18\", \"ACT/FY19\", \"NSW/FY19\", \"QLD/FY19\", \"SA/FY19\", \"VIC/FY19\", \"WA/FY19\", \"ACT/FY20\", \"NSW/FY20\", \"QLD/FY20\", \"SA/FY20\", \"VIC/FY20\", \"WA/FY20\", \"ACT\", \"NSW\", \"QLD\", \"SA\", \"VIC\", \"WA\"], \"labels\": [\"FY18\", \"FY18\", \"FY18\", \"FY18\", \"FY18\", \"FY18\", \"FY19\", \"FY19\", \"FY19\", \"FY19\", \"FY19\", \"FY19\", \"FY20\", \"FY20\", \"FY20\", \"FY20\", \"FY20\", \"FY20\", \"ACT\", \"NSW\", \"QLD\", \"SA\", \"VIC\", \"WA\"], \"name\": \"\", \"parents\": [\"ACT\", \"NSW\", \"QLD\", \"SA\", \"VIC\", \"WA\", \"ACT\", \"NSW\", \"QLD\", \"SA\", \"VIC\", \"WA\", \"ACT\", \"NSW\", \"QLD\", \"SA\", \"VIC\", \"WA\", \"\", \"\", \"\", \"\", \"\", \"\"], \"type\": \"sunburst\", \"values\": [26247467.512798417, 140775758.48763964, 81893243.37550892, 13308186.083018048, 116068250.46122158, 22976497.380573146, 25589500.10685395, 133484901.70132208, 77873769.56594118, 33584636.01943682, 106966094.87712461, 55154315.78721063, 26910321.471015345, 138110501.32395613, 83517370.67379358, 36182454.380227745, 98708167.65854913, 57540439.64139021, 78747289.09066774, 412371161.5129176, 243284383.6152437, 83075276.48268265, 321742512.9968954, 135671252.809174]}],                        {\"legend\": {\"tracegroupgap\": 0}, \"margin\": {\"t\": 60}, \"template\": {\"data\": {\"bar\": [{\"error_x\": {\"color\": \"#2a3f5f\"}, \"error_y\": {\"color\": \"#2a3f5f\"}, \"marker\": {\"line\": {\"color\": \"#E5ECF6\", \"width\": 0.5}}, \"type\": \"bar\"}], \"barpolar\": [{\"marker\": {\"line\": {\"color\": \"#E5ECF6\", \"width\": 0.5}}, \"type\": \"barpolar\"}], \"carpet\": [{\"aaxis\": {\"endlinecolor\": \"#2a3f5f\", \"gridcolor\": \"white\", \"linecolor\": \"white\", \"minorgridcolor\": \"white\", \"startlinecolor\": \"#2a3f5f\"}, \"baxis\": {\"endlinecolor\": \"#2a3f5f\", \"gridcolor\": \"white\", \"linecolor\": \"white\", \"minorgridcolor\": \"white\", \"startlinecolor\": \"#2a3f5f\"}, \"type\": \"carpet\"}], \"choropleth\": [{\"colorbar\": {\"outlinewidth\": 0, \"ticks\": \"\"}, \"type\": \"choropleth\"}], \"contour\": [{\"colorbar\": {\"outlinewidth\": 0, \"ticks\": \"\"}, \"colorscale\": [[0.0, \"#0d0887\"], [0.1111111111111111, \"#46039f\"], [0.2222222222222222, \"#7201a8\"], [0.3333333333333333, \"#9c179e\"], [0.4444444444444444, \"#bd3786\"], [0.5555555555555556, \"#d8576b\"], [0.6666666666666666, \"#ed7953\"], [0.7777777777777778, \"#fb9f3a\"], [0.8888888888888888, \"#fdca26\"], [1.0, \"#f0f921\"]], \"type\": \"contour\"}], \"contourcarpet\": [{\"colorbar\": {\"outlinewidth\": 0, \"ticks\": \"\"}, \"type\": \"contourcarpet\"}], \"heatmap\": [{\"colorbar\": {\"outlinewidth\": 0, \"ticks\": \"\"}, \"colorscale\": [[0.0, \"#0d0887\"], [0.1111111111111111, \"#46039f\"], [0.2222222222222222, \"#7201a8\"], [0.3333333333333333, \"#9c179e\"], [0.4444444444444444, \"#bd3786\"], [0.5555555555555556, \"#d8576b\"], [0.6666666666666666, \"#ed7953\"], [0.7777777777777778, \"#fb9f3a\"], [0.8888888888888888, \"#fdca26\"], [1.0, \"#f0f921\"]], \"type\": \"heatmap\"}], \"heatmapgl\": [{\"colorbar\": {\"outlinewidth\": 0, \"ticks\": \"\"}, \"colorscale\": [[0.0, \"#0d0887\"], [0.1111111111111111, \"#46039f\"], [0.2222222222222222, \"#7201a8\"], [0.3333333333333333, \"#9c179e\"], [0.4444444444444444, \"#bd3786\"], [0.5555555555555556, \"#d8576b\"], [0.6666666666666666, \"#ed7953\"], [0.7777777777777778, \"#fb9f3a\"], [0.8888888888888888, \"#fdca26\"], [1.0, \"#f0f921\"]], \"type\": \"heatmapgl\"}], \"histogram\": [{\"marker\": {\"colorbar\": {\"outlinewidth\": 0, \"ticks\": \"\"}}, \"type\": \"histogram\"}], \"histogram2d\": [{\"colorbar\": {\"outlinewidth\": 0, \"ticks\": \"\"}, \"colorscale\": [[0.0, \"#0d0887\"], [0.1111111111111111, \"#46039f\"], [0.2222222222222222, \"#7201a8\"], [0.3333333333333333, \"#9c179e\"], [0.4444444444444444, \"#bd3786\"], [0.5555555555555556, \"#d8576b\"], [0.6666666666666666, \"#ed7953\"], [0.7777777777777778, \"#fb9f3a\"], [0.8888888888888888, \"#fdca26\"], [1.0, \"#f0f921\"]], \"type\": \"histogram2d\"}], \"histogram2dcontour\": [{\"colorbar\": {\"outlinewidth\": 0, \"ticks\": \"\"}, \"colorscale\": [[0.0, \"#0d0887\"], [0.1111111111111111, \"#46039f\"], [0.2222222222222222, \"#7201a8\"], [0.3333333333333333, \"#9c179e\"], [0.4444444444444444, \"#bd3786\"], [0.5555555555555556, \"#d8576b\"], [0.6666666666666666, \"#ed7953\"], [0.7777777777777778, \"#fb9f3a\"], [0.8888888888888888, \"#fdca26\"], [1.0, \"#f0f921\"]], \"type\": \"histogram2dcontour\"}], \"mesh3d\": [{\"colorbar\": {\"outlinewidth\": 0, \"ticks\": \"\"}, \"type\": \"mesh3d\"}], \"parcoords\": [{\"line\": {\"colorbar\": {\"outlinewidth\": 0, \"ticks\": \"\"}}, \"type\": \"parcoords\"}], \"pie\": [{\"automargin\": true, \"type\": \"pie\"}], \"scatter\": [{\"marker\": {\"colorbar\": {\"outlinewidth\": 0, \"ticks\": \"\"}}, \"type\": \"scatter\"}], \"scatter3d\": [{\"line\": {\"colorbar\": {\"outlinewidth\": 0, \"ticks\": \"\"}}, \"marker\": {\"colorbar\": {\"outlinewidth\": 0, \"ticks\": \"\"}}, \"type\": \"scatter3d\"}], \"scattercarpet\": [{\"marker\": {\"colorbar\": {\"outlinewidth\": 0, \"ticks\": \"\"}}, \"type\": \"scattercarpet\"}], \"scattergeo\": [{\"marker\": {\"colorbar\": {\"outlinewidth\": 0, \"ticks\": \"\"}}, \"type\": \"scattergeo\"}], \"scattergl\": [{\"marker\": {\"colorbar\": {\"outlinewidth\": 0, \"ticks\": \"\"}}, \"type\": \"scattergl\"}], \"scattermapbox\": [{\"marker\": {\"colorbar\": {\"outlinewidth\": 0, \"ticks\": \"\"}}, \"type\": \"scattermapbox\"}], \"scatterpolar\": [{\"marker\": {\"colorbar\": {\"outlinewidth\": 0, \"ticks\": \"\"}}, \"type\": \"scatterpolar\"}], \"scatterpolargl\": [{\"marker\": {\"colorbar\": {\"outlinewidth\": 0, \"ticks\": \"\"}}, \"type\": \"scatterpolargl\"}], \"scatterternary\": [{\"marker\": {\"colorbar\": {\"outlinewidth\": 0, \"ticks\": \"\"}}, \"type\": \"scatterternary\"}], \"surface\": [{\"colorbar\": {\"outlinewidth\": 0, \"ticks\": \"\"}, \"colorscale\": [[0.0, \"#0d0887\"], [0.1111111111111111, \"#46039f\"], [0.2222222222222222, \"#7201a8\"], [0.3333333333333333, \"#9c179e\"], [0.4444444444444444, \"#bd3786\"], [0.5555555555555556, \"#d8576b\"], [0.6666666666666666, \"#ed7953\"], [0.7777777777777778, \"#fb9f3a\"], [0.8888888888888888, \"#fdca26\"], [1.0, \"#f0f921\"]], \"type\": \"surface\"}], \"table\": [{\"cells\": {\"fill\": {\"color\": \"#EBF0F8\"}, \"line\": {\"color\": \"white\"}}, \"header\": {\"fill\": {\"color\": \"#C8D4E3\"}, \"line\": {\"color\": \"white\"}}, \"type\": \"table\"}]}, \"layout\": {\"annotationdefaults\": {\"arrowcolor\": \"#2a3f5f\", \"arrowhead\": 0, \"arrowwidth\": 1}, \"autotypenumbers\": \"strict\", \"coloraxis\": {\"colorbar\": {\"outlinewidth\": 0, \"ticks\": \"\"}}, \"colorscale\": {\"diverging\": [[0, \"#8e0152\"], [0.1, \"#c51b7d\"], [0.2, \"#de77ae\"], [0.3, \"#f1b6da\"], [0.4, \"#fde0ef\"], [0.5, \"#f7f7f7\"], [0.6, \"#e6f5d0\"], [0.7, \"#b8e186\"], [0.8, \"#7fbc41\"], [0.9, \"#4d9221\"], [1, \"#276419\"]], \"sequential\": [[0.0, \"#0d0887\"], [0.1111111111111111, \"#46039f\"], [0.2222222222222222, \"#7201a8\"], [0.3333333333333333, \"#9c179e\"], [0.4444444444444444, \"#bd3786\"], [0.5555555555555556, \"#d8576b\"], [0.6666666666666666, \"#ed7953\"], [0.7777777777777778, \"#fb9f3a\"], [0.8888888888888888, \"#fdca26\"], [1.0, \"#f0f921\"]], \"sequentialminus\": [[0.0, \"#0d0887\"], [0.1111111111111111, \"#46039f\"], [0.2222222222222222, \"#7201a8\"], [0.3333333333333333, \"#9c179e\"], [0.4444444444444444, \"#bd3786\"], [0.5555555555555556, \"#d8576b\"], [0.6666666666666666, \"#ed7953\"], [0.7777777777777778, \"#fb9f3a\"], [0.8888888888888888, \"#fdca26\"], [1.0, \"#f0f921\"]]}, \"colorway\": [\"#636efa\", \"#EF553B\", \"#00cc96\", \"#ab63fa\", \"#FFA15A\", \"#19d3f3\", \"#FF6692\", \"#B6E880\", \"#FF97FF\", \"#FECB52\"], \"font\": {\"color\": \"#2a3f5f\"}, \"geo\": {\"bgcolor\": \"white\", \"lakecolor\": \"white\", \"landcolor\": \"#E5ECF6\", \"showlakes\": true, \"showland\": true, \"subunitcolor\": \"white\"}, \"hoverlabel\": {\"align\": \"left\"}, \"hovermode\": \"closest\", \"mapbox\": {\"style\": \"light\"}, \"paper_bgcolor\": \"white\", \"plot_bgcolor\": \"#E5ECF6\", \"polar\": {\"angularaxis\": {\"gridcolor\": \"white\", \"linecolor\": \"white\", \"ticks\": \"\"}, \"bgcolor\": \"#E5ECF6\", \"radialaxis\": {\"gridcolor\": \"white\", \"linecolor\": \"white\", \"ticks\": \"\"}}, \"scene\": {\"xaxis\": {\"backgroundcolor\": \"#E5ECF6\", \"gridcolor\": \"white\", \"gridwidth\": 2, \"linecolor\": \"white\", \"showbackground\": true, \"ticks\": \"\", \"zerolinecolor\": \"white\"}, \"yaxis\": {\"backgroundcolor\": \"#E5ECF6\", \"gridcolor\": \"white\", \"gridwidth\": 2, \"linecolor\": \"white\", \"showbackground\": true, \"ticks\": \"\", \"zerolinecolor\": \"white\"}, \"zaxis\": {\"backgroundcolor\": \"#E5ECF6\", \"gridcolor\": \"white\", \"gridwidth\": 2, \"linecolor\": \"white\", \"showbackground\": true, \"ticks\": \"\", \"zerolinecolor\": \"white\"}}, \"shapedefaults\": {\"line\": {\"color\": \"#2a3f5f\"}}, \"ternary\": {\"aaxis\": {\"gridcolor\": \"white\", \"linecolor\": \"white\", \"ticks\": \"\"}, \"baxis\": {\"gridcolor\": \"white\", \"linecolor\": \"white\", \"ticks\": \"\"}, \"bgcolor\": \"#E5ECF6\", \"caxis\": {\"gridcolor\": \"white\", \"linecolor\": \"white\", \"ticks\": \"\"}}, \"title\": {\"x\": 0.05}, \"xaxis\": {\"automargin\": true, \"gridcolor\": \"white\", \"linecolor\": \"white\", \"ticks\": \"\", \"title\": {\"standoff\": 15}, \"zerolinecolor\": \"white\", \"zerolinewidth\": 2}, \"yaxis\": {\"automargin\": true, \"gridcolor\": \"white\", \"linecolor\": \"white\", \"ticks\": \"\", \"title\": {\"standoff\": 15}, \"zerolinecolor\": \"white\", \"zerolinewidth\": 2}}}, \"title\": {\"text\": \"Sales in states over FY18 - FY20\", \"x\": 0.5}},                        {\"responsive\": true}                    ).then(function(){\n",
       "                            \n",
       "var gd = document.getElementById('1a1c5d61-02ae-47fd-9907-145d66f99410');\n",
       "var x = new MutationObserver(function (mutations, observer) {{\n",
       "        var display = window.getComputedStyle(gd).display;\n",
       "        if (!display || display === 'none') {{\n",
       "            console.log([gd, 'removed!']);\n",
       "            Plotly.purge(gd);\n",
       "            observer.disconnect();\n",
       "        }}\n",
       "}});\n",
       "\n",
       "// Listen for the removal of the full notebook cells\n",
       "var notebookContainer = gd.closest('#notebook-container');\n",
       "if (notebookContainer) {{\n",
       "    x.observe(notebookContainer, {childList: true});\n",
       "}}\n",
       "\n",
       "// Listen for the clearing of the current output cell\n",
       "var outputEl = gd.closest('.output');\n",
       "if (outputEl) {{\n",
       "    x.observe(outputEl, {childList: true});\n",
       "}}\n",
       "\n",
       "                        })                };                });            </script>        </div>"
      ]
     },
     "metadata": {},
     "output_type": "display_data"
    }
   ],
   "source": [
    "fig = px.sunburst(df1, path=['State','Financial Year'], values='Sales')\n",
    "fig.update_layout(title_text='Sales in states over FY18 - FY20', title_x=0.5)\n",
    "fig.show()"
   ]
  },
  {
   "cell_type": "markdown",
   "metadata": {},
   "source": [
    "## Time series plots"
   ]
  },
  {
   "cell_type": "code",
   "execution_count": 11,
   "metadata": {},
   "outputs": [
    {
     "data": {
      "text/html": [
       "        <script type=\"text/javascript\">\n",
       "        window.PlotlyConfig = {MathJaxConfig: 'local'};\n",
       "        if (window.MathJax) {MathJax.Hub.Config({SVG: {font: \"STIX-Web\"}});}\n",
       "        if (typeof require !== 'undefined') {\n",
       "        require.undef(\"plotly\");\n",
       "        requirejs.config({\n",
       "            paths: {\n",
       "                'plotly': ['https://cdn.plot.ly/plotly-latest.min']\n",
       "            }\n",
       "        });\n",
       "        require(['plotly'], function(Plotly) {\n",
       "            window._Plotly = Plotly;\n",
       "        });\n",
       "        }\n",
       "        </script>\n",
       "        "
      ]
     },
     "metadata": {},
     "output_type": "display_data"
    },
    {
     "data": {
      "text/html": [
       "        <script type=\"text/javascript\">\n",
       "        window.PlotlyConfig = {MathJaxConfig: 'local'};\n",
       "        if (window.MathJax) {MathJax.Hub.Config({SVG: {font: \"STIX-Web\"}});}\n",
       "        if (typeof require !== 'undefined') {\n",
       "        require.undef(\"plotly\");\n",
       "        requirejs.config({\n",
       "            paths: {\n",
       "                'plotly': ['https://cdn.plot.ly/plotly-latest.min']\n",
       "            }\n",
       "        });\n",
       "        require(['plotly'], function(Plotly) {\n",
       "            window._Plotly = Plotly;\n",
       "        });\n",
       "        }\n",
       "        </script>\n",
       "        "
      ]
     },
     "metadata": {},
     "output_type": "display_data"
    }
   ],
   "source": [
    "## dowload following subrouties from canvas\n",
    "from func_figures import multiplot\n",
    "from func_tserrorbounds import tserrorbounds"
   ]
  },
  {
   "cell_type": "code",
   "execution_count": 12,
   "metadata": {},
   "outputs": [
    {
     "data": {
      "text/html": [
       "<div>\n",
       "<style scoped>\n",
       "    .dataframe tbody tr th:only-of-type {\n",
       "        vertical-align: middle;\n",
       "    }\n",
       "\n",
       "    .dataframe tbody tr th {\n",
       "        vertical-align: top;\n",
       "    }\n",
       "\n",
       "    .dataframe thead th {\n",
       "        text-align: right;\n",
       "    }\n",
       "</style>\n",
       "<table border=\"1\" class=\"dataframe\">\n",
       "  <thead>\n",
       "    <tr style=\"text-align: right;\">\n",
       "      <th></th>\n",
       "      <th>Financial Year</th>\n",
       "      <th>WC Date</th>\n",
       "      <th>State</th>\n",
       "      <th>Sales</th>\n",
       "      <th>Month</th>\n",
       "    </tr>\n",
       "  </thead>\n",
       "  <tbody>\n",
       "    <tr>\n",
       "      <th>0</th>\n",
       "      <td>FY18</td>\n",
       "      <td>2017-09-03</td>\n",
       "      <td>ACT</td>\n",
       "      <td>454505.537543</td>\n",
       "      <td>Sep</td>\n",
       "    </tr>\n",
       "    <tr>\n",
       "      <th>1</th>\n",
       "      <td>FY18</td>\n",
       "      <td>2017-09-10</td>\n",
       "      <td>ACT</td>\n",
       "      <td>480922.468131</td>\n",
       "      <td>Sep</td>\n",
       "    </tr>\n",
       "    <tr>\n",
       "      <th>2</th>\n",
       "      <td>FY18</td>\n",
       "      <td>2017-09-17</td>\n",
       "      <td>ACT</td>\n",
       "      <td>442120.957001</td>\n",
       "      <td>Sep</td>\n",
       "    </tr>\n",
       "    <tr>\n",
       "      <th>3</th>\n",
       "      <td>FY18</td>\n",
       "      <td>2017-09-24</td>\n",
       "      <td>ACT</td>\n",
       "      <td>614161.328056</td>\n",
       "      <td>Sep</td>\n",
       "    </tr>\n",
       "    <tr>\n",
       "      <th>4</th>\n",
       "      <td>FY18</td>\n",
       "      <td>2017-10-01</td>\n",
       "      <td>ACT</td>\n",
       "      <td>573988.744290</td>\n",
       "      <td>Oct</td>\n",
       "    </tr>\n",
       "  </tbody>\n",
       "</table>\n",
       "</div>"
      ],
      "text/plain": [
       "  Financial Year    WC Date State          Sales Month\n",
       "0           FY18 2017-09-03   ACT  454505.537543   Sep\n",
       "1           FY18 2017-09-10   ACT  480922.468131   Sep\n",
       "2           FY18 2017-09-17   ACT  442120.957001   Sep\n",
       "3           FY18 2017-09-24   ACT  614161.328056   Sep\n",
       "4           FY18 2017-10-01   ACT  573988.744290   Oct"
      ]
     },
     "execution_count": 12,
     "metadata": {},
     "output_type": "execute_result"
    }
   ],
   "source": [
    "df1.head()"
   ]
  },
  {
   "cell_type": "code",
   "execution_count": 13,
   "metadata": {},
   "outputs": [
    {
     "data": {
      "application/vnd.plotly.v1+json": {
       "config": {
        "plotlyServerURL": "https://plot.ly"
       },
       "data": [
        {
         "hovertemplate": "<b>%{hovertext}</b><br><br>State=NSW<br>WC Date=%{x}<br>Sales=%{y}<extra></extra>",
         "hovertext": [
          "Sep",
          "Sep",
          "Sep",
          "Sep",
          "Oct",
          "Oct",
          "Oct",
          "Oct",
          "Oct",
          "Nov",
          "Nov",
          "Nov",
          "Nov",
          "Dec",
          "Dec",
          "Dec",
          "Dec",
          "Dec",
          "Jan",
          "Jan",
          "Jan",
          "Jan",
          "Feb",
          "Feb",
          "Feb",
          "Feb",
          "Mar",
          "Mar",
          "Mar",
          "Mar",
          "Apr",
          "Apr",
          "Apr",
          "Apr",
          "Apr",
          "May",
          "May",
          "May",
          "May",
          "Jun",
          "Jun",
          "Jun",
          "Jun",
          "Jul",
          "Jul",
          "Jul",
          "Jul",
          "Jul",
          "Aug",
          "Aug",
          "Aug",
          "Aug",
          "Sep",
          "Sep",
          "Sep",
          "Sep",
          "Sep",
          "Oct",
          "Oct",
          "Oct",
          "Oct",
          "Nov",
          "Nov",
          "Nov",
          "Nov",
          "Dec",
          "Dec",
          "Dec",
          "Dec",
          "Dec",
          "Jan",
          "Jan",
          "Jan",
          "Jan",
          "Feb",
          "Feb",
          "Feb",
          "Feb",
          "Mar",
          "Mar",
          "Mar",
          "Mar",
          "Mar",
          "Apr",
          "Apr",
          "Apr",
          "Apr",
          "May",
          "May",
          "May",
          "May",
          "Jun",
          "Jun",
          "Jun",
          "Jun",
          "Jun",
          "Jul",
          "Jul",
          "Jul",
          "Jul",
          "Aug",
          "Aug",
          "Aug",
          "Aug",
          "Sep",
          "Sep",
          "Sep",
          "Sep",
          "Sep",
          "Oct",
          "Oct",
          "Oct",
          "Oct",
          "Nov",
          "Nov",
          "Nov",
          "Nov",
          "Dec",
          "Dec",
          "Dec",
          "Dec",
          "Dec",
          "Jan",
          "Jan",
          "Jan",
          "Jan",
          "Feb",
          "Feb",
          "Feb",
          "Feb",
          "Mar",
          "Mar",
          "Mar",
          "Mar",
          "Mar",
          "Apr",
          "Apr",
          "Apr",
          "Apr",
          "May",
          "May",
          "May",
          "May",
          "May",
          "Jun",
          "Jun",
          "Jun",
          "Jun",
          "Jul",
          "Jul",
          "Jul",
          "Jul",
          "Aug",
          "Aug",
          "Aug",
          "Aug"
         ],
         "legendgroup": "NSW",
         "line": {
          "color": "#636efa",
          "dash": "solid"
         },
         "mode": "lines",
         "name": "NSW",
         "orientation": "v",
         "showlegend": true,
         "type": "scatter",
         "x": [
          "2017-09-03T00:00:00",
          "2017-09-10T00:00:00",
          "2017-09-17T00:00:00",
          "2017-09-24T00:00:00",
          "2017-10-01T00:00:00",
          "2017-10-08T00:00:00",
          "2017-10-15T00:00:00",
          "2017-10-22T00:00:00",
          "2017-10-29T00:00:00",
          "2017-11-05T00:00:00",
          "2017-11-12T00:00:00",
          "2017-11-19T00:00:00",
          "2017-11-26T00:00:00",
          "2017-12-03T00:00:00",
          "2017-12-10T00:00:00",
          "2017-12-17T00:00:00",
          "2017-12-24T00:00:00",
          "2017-12-31T00:00:00",
          "2018-01-07T00:00:00",
          "2018-01-14T00:00:00",
          "2018-01-21T00:00:00",
          "2018-01-28T00:00:00",
          "2018-02-04T00:00:00",
          "2018-02-11T00:00:00",
          "2018-02-18T00:00:00",
          "2018-02-25T00:00:00",
          "2018-03-04T00:00:00",
          "2018-03-11T00:00:00",
          "2018-03-18T00:00:00",
          "2018-03-25T00:00:00",
          "2018-04-01T00:00:00",
          "2018-04-08T00:00:00",
          "2018-04-15T00:00:00",
          "2018-04-22T00:00:00",
          "2018-04-29T00:00:00",
          "2018-05-06T00:00:00",
          "2018-05-13T00:00:00",
          "2018-05-20T00:00:00",
          "2018-05-27T00:00:00",
          "2018-06-03T00:00:00",
          "2018-06-10T00:00:00",
          "2018-06-17T00:00:00",
          "2018-06-24T00:00:00",
          "2018-07-01T00:00:00",
          "2018-07-08T00:00:00",
          "2018-07-15T00:00:00",
          "2018-07-22T00:00:00",
          "2018-07-29T00:00:00",
          "2018-08-05T00:00:00",
          "2018-08-12T00:00:00",
          "2018-08-19T00:00:00",
          "2018-08-26T00:00:00",
          "2018-09-02T00:00:00",
          "2018-09-09T00:00:00",
          "2018-09-16T00:00:00",
          "2018-09-23T00:00:00",
          "2018-09-30T00:00:00",
          "2018-10-07T00:00:00",
          "2018-10-14T00:00:00",
          "2018-10-21T00:00:00",
          "2018-10-28T00:00:00",
          "2018-11-04T00:00:00",
          "2018-11-11T00:00:00",
          "2018-11-18T00:00:00",
          "2018-11-25T00:00:00",
          "2018-12-02T00:00:00",
          "2018-12-09T00:00:00",
          "2018-12-16T00:00:00",
          "2018-12-23T00:00:00",
          "2018-12-30T00:00:00",
          "2019-01-06T00:00:00",
          "2019-01-13T00:00:00",
          "2019-01-20T00:00:00",
          "2019-01-27T00:00:00",
          "2019-02-03T00:00:00",
          "2019-02-10T00:00:00",
          "2019-02-17T00:00:00",
          "2019-02-24T00:00:00",
          "2019-03-03T00:00:00",
          "2019-03-10T00:00:00",
          "2019-03-17T00:00:00",
          "2019-03-24T00:00:00",
          "2019-03-31T00:00:00",
          "2019-04-07T00:00:00",
          "2019-04-14T00:00:00",
          "2019-04-21T00:00:00",
          "2019-04-28T00:00:00",
          "2019-05-05T00:00:00",
          "2019-05-12T00:00:00",
          "2019-05-19T00:00:00",
          "2019-05-26T00:00:00",
          "2019-06-02T00:00:00",
          "2019-06-09T00:00:00",
          "2019-06-16T00:00:00",
          "2019-06-23T00:00:00",
          "2019-06-30T00:00:00",
          "2019-07-07T00:00:00",
          "2019-07-14T00:00:00",
          "2019-07-21T00:00:00",
          "2019-07-28T00:00:00",
          "2019-08-04T00:00:00",
          "2019-08-11T00:00:00",
          "2019-08-18T00:00:00",
          "2019-08-25T00:00:00",
          "2019-09-01T00:00:00",
          "2019-09-08T00:00:00",
          "2019-09-15T00:00:00",
          "2019-09-22T00:00:00",
          "2019-09-29T00:00:00",
          "2019-10-06T00:00:00",
          "2019-10-13T00:00:00",
          "2019-10-20T00:00:00",
          "2019-10-27T00:00:00",
          "2019-11-03T00:00:00",
          "2019-11-10T00:00:00",
          "2019-11-17T00:00:00",
          "2019-11-24T00:00:00",
          "2019-12-01T00:00:00",
          "2019-12-08T00:00:00",
          "2019-12-15T00:00:00",
          "2019-12-22T00:00:00",
          "2019-12-29T00:00:00",
          "2020-01-05T00:00:00",
          "2020-01-12T00:00:00",
          "2020-01-19T00:00:00",
          "2020-01-26T00:00:00",
          "2020-02-02T00:00:00",
          "2020-02-09T00:00:00",
          "2020-02-16T00:00:00",
          "2020-02-23T00:00:00",
          "2020-03-01T00:00:00",
          "2020-03-08T00:00:00",
          "2020-03-15T00:00:00",
          "2020-03-22T00:00:00",
          "2020-03-29T00:00:00",
          "2020-04-05T00:00:00",
          "2020-04-12T00:00:00",
          "2020-04-19T00:00:00",
          "2020-04-26T00:00:00",
          "2020-05-03T00:00:00",
          "2020-05-10T00:00:00",
          "2020-05-17T00:00:00",
          "2020-05-24T00:00:00",
          "2020-05-31T00:00:00",
          "2020-06-07T00:00:00",
          "2020-06-14T00:00:00",
          "2020-06-21T00:00:00",
          "2020-06-28T00:00:00",
          "2020-07-05T00:00:00",
          "2020-07-12T00:00:00",
          "2020-07-19T00:00:00",
          "2020-07-26T00:00:00",
          "2020-08-02T00:00:00",
          "2020-08-09T00:00:00",
          "2020-08-16T00:00:00",
          "2020-08-23T00:00:00"
         ],
         "xaxis": "x",
         "y": [
          2634368.840183024,
          2760182.669930118,
          2770334.092689774,
          3176641.243278258,
          3264356.044595119,
          2869931.609129978,
          3324068.967269962,
          2932100.11279284,
          2833044.190054961,
          2711729.268880063,
          2769392.027306489,
          2685361.008361685,
          2708259.27072389,
          2708928.649296758,
          2591538.293501503,
          2824538.681211269,
          3139001.982756743,
          3267604.434809093,
          2967120.845967592,
          2955578.98849901,
          2972358.186651,
          2685321.195192046,
          2606375.65915893,
          2535183.676399176,
          2720039.218890184,
          2874615.231815928,
          2718254.401503748,
          2588530.159090815,
          2425536.830097856,
          2373594.915467833,
          2277273.849680846,
          2342689.724580286,
          2626058.708062707,
          2885867.13373568,
          2480101.899251407,
          2396998.95681908,
          2206241.951593115,
          2267188.962317278,
          2306777.045018571,
          2466560.851095221,
          2698677.587325904,
          2585387.279373,
          2902648.542579825,
          2635355.652642215,
          3003952.570769249,
          3107060.768167735,
          2614437.290611091,
          2533028.918811129,
          2503232.052811027,
          2407668.718695499,
          2568656.467749375,
          2566002.860443762,
          2637542.77230812,
          2497129.139631405,
          2582038.535615719,
          2721972.898203935,
          3194284.660691672,
          2849754.134712133,
          2976573.543000213,
          2641698.312798798,
          2473220.947057426,
          2489937.094243774,
          2628412.960279277,
          2777864.045104836,
          2743092.531527222,
          2479732.522722125,
          2498179.236194718,
          2650415.988756866,
          2829730.337627514,
          3199229.247254669,
          2965153.067095987,
          2700601.323781384,
          2752983.760156098,
          2908017.642712957,
          2393248.815399134,
          2601796.372923764,
          2816764.091487347,
          2706821.881260899,
          2488000.731786813,
          2431546.562163545,
          2293915.175271454,
          2374437.704836953,
          2290643.888921742,
          2303084.746520452,
          2667261.281390637,
          2926976.797311885,
          2246979.393866457,
          2194879.158025778,
          2074167.188045989,
          2189993.905197012,
          2192346.341715035,
          2283798.333151146,
          2474775.642198499,
          2258362.0058612,
          2612628.542620118,
          2498177.779799757,
          2779525.406261482,
          2831082.299887066,
          2400010.702203261,
          2431621.266151989,
          2416853.005066616,
          2343154.215106094,
          2310535.502308555,
          2453948.263104522,
          2297872.454003762,
          2419297.036745709,
          2402847.39247223,
          2492744.652081301,
          2867760.597305155,
          2973968.438278548,
          2334842.709824163,
          2309118.541051005,
          2285584.819806868,
          2603077.282701191,
          2551206.870508204,
          2526078.735916106,
          2657056.073255902,
          2513572.914824786,
          2429701.081540268,
          2614876.439223284,
          2882788.294725833,
          3284553.828919528,
          2881038.699104385,
          2859809.100474077,
          2731322.770021687,
          2404740.069038821,
          2431564.151396827,
          2377516.143491353,
          2608994.743909604,
          2516576.09839022,
          2379023.177337916,
          2315196.40272791,
          2456017.720800763,
          2220530.568650034,
          1701011.572556342,
          1761310.019759649,
          2001726.815884218,
          2301765.934298746,
          2651172.772551851,
          2743252.038333858,
          2853330.470262835,
          3140282.498625233,
          3233130.237391281,
          2837332.082418947,
          3159768.506027024,
          3069332.639419259,
          3235238.668231891,
          3293143.103421631,
          3428334.409442499,
          3409453.198293967,
          2749988.691673775,
          2761366.61097433,
          2873655.990786887,
          2773094.180603982,
          2718479.208870341,
          2785053.865600151
         ],
         "yaxis": "y"
        }
       ],
       "layout": {
        "legend": {
         "title": {
          "text": "State"
         },
         "tracegroupgap": 0
        },
        "margin": {
         "t": 60
        },
        "template": {
         "data": {
          "bar": [
           {
            "error_x": {
             "color": "#2a3f5f"
            },
            "error_y": {
             "color": "#2a3f5f"
            },
            "marker": {
             "line": {
              "color": "#E5ECF6",
              "width": 0.5
             }
            },
            "type": "bar"
           }
          ],
          "barpolar": [
           {
            "marker": {
             "line": {
              "color": "#E5ECF6",
              "width": 0.5
             }
            },
            "type": "barpolar"
           }
          ],
          "carpet": [
           {
            "aaxis": {
             "endlinecolor": "#2a3f5f",
             "gridcolor": "white",
             "linecolor": "white",
             "minorgridcolor": "white",
             "startlinecolor": "#2a3f5f"
            },
            "baxis": {
             "endlinecolor": "#2a3f5f",
             "gridcolor": "white",
             "linecolor": "white",
             "minorgridcolor": "white",
             "startlinecolor": "#2a3f5f"
            },
            "type": "carpet"
           }
          ],
          "choropleth": [
           {
            "colorbar": {
             "outlinewidth": 0,
             "ticks": ""
            },
            "type": "choropleth"
           }
          ],
          "contour": [
           {
            "colorbar": {
             "outlinewidth": 0,
             "ticks": ""
            },
            "colorscale": [
             [
              0,
              "#0d0887"
             ],
             [
              0.1111111111111111,
              "#46039f"
             ],
             [
              0.2222222222222222,
              "#7201a8"
             ],
             [
              0.3333333333333333,
              "#9c179e"
             ],
             [
              0.4444444444444444,
              "#bd3786"
             ],
             [
              0.5555555555555556,
              "#d8576b"
             ],
             [
              0.6666666666666666,
              "#ed7953"
             ],
             [
              0.7777777777777778,
              "#fb9f3a"
             ],
             [
              0.8888888888888888,
              "#fdca26"
             ],
             [
              1,
              "#f0f921"
             ]
            ],
            "type": "contour"
           }
          ],
          "contourcarpet": [
           {
            "colorbar": {
             "outlinewidth": 0,
             "ticks": ""
            },
            "type": "contourcarpet"
           }
          ],
          "heatmap": [
           {
            "colorbar": {
             "outlinewidth": 0,
             "ticks": ""
            },
            "colorscale": [
             [
              0,
              "#0d0887"
             ],
             [
              0.1111111111111111,
              "#46039f"
             ],
             [
              0.2222222222222222,
              "#7201a8"
             ],
             [
              0.3333333333333333,
              "#9c179e"
             ],
             [
              0.4444444444444444,
              "#bd3786"
             ],
             [
              0.5555555555555556,
              "#d8576b"
             ],
             [
              0.6666666666666666,
              "#ed7953"
             ],
             [
              0.7777777777777778,
              "#fb9f3a"
             ],
             [
              0.8888888888888888,
              "#fdca26"
             ],
             [
              1,
              "#f0f921"
             ]
            ],
            "type": "heatmap"
           }
          ],
          "heatmapgl": [
           {
            "colorbar": {
             "outlinewidth": 0,
             "ticks": ""
            },
            "colorscale": [
             [
              0,
              "#0d0887"
             ],
             [
              0.1111111111111111,
              "#46039f"
             ],
             [
              0.2222222222222222,
              "#7201a8"
             ],
             [
              0.3333333333333333,
              "#9c179e"
             ],
             [
              0.4444444444444444,
              "#bd3786"
             ],
             [
              0.5555555555555556,
              "#d8576b"
             ],
             [
              0.6666666666666666,
              "#ed7953"
             ],
             [
              0.7777777777777778,
              "#fb9f3a"
             ],
             [
              0.8888888888888888,
              "#fdca26"
             ],
             [
              1,
              "#f0f921"
             ]
            ],
            "type": "heatmapgl"
           }
          ],
          "histogram": [
           {
            "marker": {
             "colorbar": {
              "outlinewidth": 0,
              "ticks": ""
             }
            },
            "type": "histogram"
           }
          ],
          "histogram2d": [
           {
            "colorbar": {
             "outlinewidth": 0,
             "ticks": ""
            },
            "colorscale": [
             [
              0,
              "#0d0887"
             ],
             [
              0.1111111111111111,
              "#46039f"
             ],
             [
              0.2222222222222222,
              "#7201a8"
             ],
             [
              0.3333333333333333,
              "#9c179e"
             ],
             [
              0.4444444444444444,
              "#bd3786"
             ],
             [
              0.5555555555555556,
              "#d8576b"
             ],
             [
              0.6666666666666666,
              "#ed7953"
             ],
             [
              0.7777777777777778,
              "#fb9f3a"
             ],
             [
              0.8888888888888888,
              "#fdca26"
             ],
             [
              1,
              "#f0f921"
             ]
            ],
            "type": "histogram2d"
           }
          ],
          "histogram2dcontour": [
           {
            "colorbar": {
             "outlinewidth": 0,
             "ticks": ""
            },
            "colorscale": [
             [
              0,
              "#0d0887"
             ],
             [
              0.1111111111111111,
              "#46039f"
             ],
             [
              0.2222222222222222,
              "#7201a8"
             ],
             [
              0.3333333333333333,
              "#9c179e"
             ],
             [
              0.4444444444444444,
              "#bd3786"
             ],
             [
              0.5555555555555556,
              "#d8576b"
             ],
             [
              0.6666666666666666,
              "#ed7953"
             ],
             [
              0.7777777777777778,
              "#fb9f3a"
             ],
             [
              0.8888888888888888,
              "#fdca26"
             ],
             [
              1,
              "#f0f921"
             ]
            ],
            "type": "histogram2dcontour"
           }
          ],
          "mesh3d": [
           {
            "colorbar": {
             "outlinewidth": 0,
             "ticks": ""
            },
            "type": "mesh3d"
           }
          ],
          "parcoords": [
           {
            "line": {
             "colorbar": {
              "outlinewidth": 0,
              "ticks": ""
             }
            },
            "type": "parcoords"
           }
          ],
          "pie": [
           {
            "automargin": true,
            "type": "pie"
           }
          ],
          "scatter": [
           {
            "marker": {
             "colorbar": {
              "outlinewidth": 0,
              "ticks": ""
             }
            },
            "type": "scatter"
           }
          ],
          "scatter3d": [
           {
            "line": {
             "colorbar": {
              "outlinewidth": 0,
              "ticks": ""
             }
            },
            "marker": {
             "colorbar": {
              "outlinewidth": 0,
              "ticks": ""
             }
            },
            "type": "scatter3d"
           }
          ],
          "scattercarpet": [
           {
            "marker": {
             "colorbar": {
              "outlinewidth": 0,
              "ticks": ""
             }
            },
            "type": "scattercarpet"
           }
          ],
          "scattergeo": [
           {
            "marker": {
             "colorbar": {
              "outlinewidth": 0,
              "ticks": ""
             }
            },
            "type": "scattergeo"
           }
          ],
          "scattergl": [
           {
            "marker": {
             "colorbar": {
              "outlinewidth": 0,
              "ticks": ""
             }
            },
            "type": "scattergl"
           }
          ],
          "scattermapbox": [
           {
            "marker": {
             "colorbar": {
              "outlinewidth": 0,
              "ticks": ""
             }
            },
            "type": "scattermapbox"
           }
          ],
          "scatterpolar": [
           {
            "marker": {
             "colorbar": {
              "outlinewidth": 0,
              "ticks": ""
             }
            },
            "type": "scatterpolar"
           }
          ],
          "scatterpolargl": [
           {
            "marker": {
             "colorbar": {
              "outlinewidth": 0,
              "ticks": ""
             }
            },
            "type": "scatterpolargl"
           }
          ],
          "scatterternary": [
           {
            "marker": {
             "colorbar": {
              "outlinewidth": 0,
              "ticks": ""
             }
            },
            "type": "scatterternary"
           }
          ],
          "surface": [
           {
            "colorbar": {
             "outlinewidth": 0,
             "ticks": ""
            },
            "colorscale": [
             [
              0,
              "#0d0887"
             ],
             [
              0.1111111111111111,
              "#46039f"
             ],
             [
              0.2222222222222222,
              "#7201a8"
             ],
             [
              0.3333333333333333,
              "#9c179e"
             ],
             [
              0.4444444444444444,
              "#bd3786"
             ],
             [
              0.5555555555555556,
              "#d8576b"
             ],
             [
              0.6666666666666666,
              "#ed7953"
             ],
             [
              0.7777777777777778,
              "#fb9f3a"
             ],
             [
              0.8888888888888888,
              "#fdca26"
             ],
             [
              1,
              "#f0f921"
             ]
            ],
            "type": "surface"
           }
          ],
          "table": [
           {
            "cells": {
             "fill": {
              "color": "#EBF0F8"
             },
             "line": {
              "color": "white"
             }
            },
            "header": {
             "fill": {
              "color": "#C8D4E3"
             },
             "line": {
              "color": "white"
             }
            },
            "type": "table"
           }
          ]
         },
         "layout": {
          "annotationdefaults": {
           "arrowcolor": "#2a3f5f",
           "arrowhead": 0,
           "arrowwidth": 1
          },
          "autotypenumbers": "strict",
          "coloraxis": {
           "colorbar": {
            "outlinewidth": 0,
            "ticks": ""
           }
          },
          "colorscale": {
           "diverging": [
            [
             0,
             "#8e0152"
            ],
            [
             0.1,
             "#c51b7d"
            ],
            [
             0.2,
             "#de77ae"
            ],
            [
             0.3,
             "#f1b6da"
            ],
            [
             0.4,
             "#fde0ef"
            ],
            [
             0.5,
             "#f7f7f7"
            ],
            [
             0.6,
             "#e6f5d0"
            ],
            [
             0.7,
             "#b8e186"
            ],
            [
             0.8,
             "#7fbc41"
            ],
            [
             0.9,
             "#4d9221"
            ],
            [
             1,
             "#276419"
            ]
           ],
           "sequential": [
            [
             0,
             "#0d0887"
            ],
            [
             0.1111111111111111,
             "#46039f"
            ],
            [
             0.2222222222222222,
             "#7201a8"
            ],
            [
             0.3333333333333333,
             "#9c179e"
            ],
            [
             0.4444444444444444,
             "#bd3786"
            ],
            [
             0.5555555555555556,
             "#d8576b"
            ],
            [
             0.6666666666666666,
             "#ed7953"
            ],
            [
             0.7777777777777778,
             "#fb9f3a"
            ],
            [
             0.8888888888888888,
             "#fdca26"
            ],
            [
             1,
             "#f0f921"
            ]
           ],
           "sequentialminus": [
            [
             0,
             "#0d0887"
            ],
            [
             0.1111111111111111,
             "#46039f"
            ],
            [
             0.2222222222222222,
             "#7201a8"
            ],
            [
             0.3333333333333333,
             "#9c179e"
            ],
            [
             0.4444444444444444,
             "#bd3786"
            ],
            [
             0.5555555555555556,
             "#d8576b"
            ],
            [
             0.6666666666666666,
             "#ed7953"
            ],
            [
             0.7777777777777778,
             "#fb9f3a"
            ],
            [
             0.8888888888888888,
             "#fdca26"
            ],
            [
             1,
             "#f0f921"
            ]
           ]
          },
          "colorway": [
           "#636efa",
           "#EF553B",
           "#00cc96",
           "#ab63fa",
           "#FFA15A",
           "#19d3f3",
           "#FF6692",
           "#B6E880",
           "#FF97FF",
           "#FECB52"
          ],
          "font": {
           "color": "#2a3f5f"
          },
          "geo": {
           "bgcolor": "white",
           "lakecolor": "white",
           "landcolor": "#E5ECF6",
           "showlakes": true,
           "showland": true,
           "subunitcolor": "white"
          },
          "hoverlabel": {
           "align": "left"
          },
          "hovermode": "closest",
          "mapbox": {
           "style": "light"
          },
          "paper_bgcolor": "white",
          "plot_bgcolor": "#E5ECF6",
          "polar": {
           "angularaxis": {
            "gridcolor": "white",
            "linecolor": "white",
            "ticks": ""
           },
           "bgcolor": "#E5ECF6",
           "radialaxis": {
            "gridcolor": "white",
            "linecolor": "white",
            "ticks": ""
           }
          },
          "scene": {
           "xaxis": {
            "backgroundcolor": "#E5ECF6",
            "gridcolor": "white",
            "gridwidth": 2,
            "linecolor": "white",
            "showbackground": true,
            "ticks": "",
            "zerolinecolor": "white"
           },
           "yaxis": {
            "backgroundcolor": "#E5ECF6",
            "gridcolor": "white",
            "gridwidth": 2,
            "linecolor": "white",
            "showbackground": true,
            "ticks": "",
            "zerolinecolor": "white"
           },
           "zaxis": {
            "backgroundcolor": "#E5ECF6",
            "gridcolor": "white",
            "gridwidth": 2,
            "linecolor": "white",
            "showbackground": true,
            "ticks": "",
            "zerolinecolor": "white"
           }
          },
          "shapedefaults": {
           "line": {
            "color": "#2a3f5f"
           }
          },
          "ternary": {
           "aaxis": {
            "gridcolor": "white",
            "linecolor": "white",
            "ticks": ""
           },
           "baxis": {
            "gridcolor": "white",
            "linecolor": "white",
            "ticks": ""
           },
           "bgcolor": "#E5ECF6",
           "caxis": {
            "gridcolor": "white",
            "linecolor": "white",
            "ticks": ""
           }
          },
          "title": {
           "x": 0.05
          },
          "xaxis": {
           "automargin": true,
           "gridcolor": "white",
           "linecolor": "white",
           "ticks": "",
           "title": {
            "standoff": 15
           },
           "zerolinecolor": "white",
           "zerolinewidth": 2
          },
          "yaxis": {
           "automargin": true,
           "gridcolor": "white",
           "linecolor": "white",
           "ticks": "",
           "title": {
            "standoff": 15
           },
           "zerolinecolor": "white",
           "zerolinewidth": 2
          }
         }
        },
        "title": {
         "text": "Hostorical Sales"
        },
        "xaxis": {
         "anchor": "y",
         "domain": [
          0,
          1
         ],
         "title": {
          "text": "WC Date"
         }
        },
        "yaxis": {
         "anchor": "x",
         "domain": [
          0,
          1
         ],
         "title": {
          "text": "Amount $"
         }
        }
       }
      },
      "text/html": [
       "<div>                            <div id=\"9230b0f7-838b-4593-a8ee-9b42947662e3\" class=\"plotly-graph-div\" style=\"height:525px; width:100%;\"></div>            <script type=\"text/javascript\">                require([\"plotly\"], function(Plotly) {                    window.PLOTLYENV=window.PLOTLYENV || {};                                    if (document.getElementById(\"9230b0f7-838b-4593-a8ee-9b42947662e3\")) {                    Plotly.newPlot(                        \"9230b0f7-838b-4593-a8ee-9b42947662e3\",                        [{\"hovertemplate\": \"<b>%{hovertext}</b><br><br>State=NSW<br>WC Date=%{x}<br>Sales=%{y}<extra></extra>\", \"hovertext\": [\"Sep\", \"Sep\", \"Sep\", \"Sep\", \"Oct\", \"Oct\", \"Oct\", \"Oct\", \"Oct\", \"Nov\", \"Nov\", \"Nov\", \"Nov\", \"Dec\", \"Dec\", \"Dec\", \"Dec\", \"Dec\", \"Jan\", \"Jan\", \"Jan\", \"Jan\", \"Feb\", \"Feb\", \"Feb\", \"Feb\", \"Mar\", \"Mar\", \"Mar\", \"Mar\", \"Apr\", \"Apr\", \"Apr\", \"Apr\", \"Apr\", \"May\", \"May\", \"May\", \"May\", \"Jun\", \"Jun\", \"Jun\", \"Jun\", \"Jul\", \"Jul\", \"Jul\", \"Jul\", \"Jul\", \"Aug\", \"Aug\", \"Aug\", \"Aug\", \"Sep\", \"Sep\", \"Sep\", \"Sep\", \"Sep\", \"Oct\", \"Oct\", \"Oct\", \"Oct\", \"Nov\", \"Nov\", \"Nov\", \"Nov\", \"Dec\", \"Dec\", \"Dec\", \"Dec\", \"Dec\", \"Jan\", \"Jan\", \"Jan\", \"Jan\", \"Feb\", \"Feb\", \"Feb\", \"Feb\", \"Mar\", \"Mar\", \"Mar\", \"Mar\", \"Mar\", \"Apr\", \"Apr\", \"Apr\", \"Apr\", \"May\", \"May\", \"May\", \"May\", \"Jun\", \"Jun\", \"Jun\", \"Jun\", \"Jun\", \"Jul\", \"Jul\", \"Jul\", \"Jul\", \"Aug\", \"Aug\", \"Aug\", \"Aug\", \"Sep\", \"Sep\", \"Sep\", \"Sep\", \"Sep\", \"Oct\", \"Oct\", \"Oct\", \"Oct\", \"Nov\", \"Nov\", \"Nov\", \"Nov\", \"Dec\", \"Dec\", \"Dec\", \"Dec\", \"Dec\", \"Jan\", \"Jan\", \"Jan\", \"Jan\", \"Feb\", \"Feb\", \"Feb\", \"Feb\", \"Mar\", \"Mar\", \"Mar\", \"Mar\", \"Mar\", \"Apr\", \"Apr\", \"Apr\", \"Apr\", \"May\", \"May\", \"May\", \"May\", \"May\", \"Jun\", \"Jun\", \"Jun\", \"Jun\", \"Jul\", \"Jul\", \"Jul\", \"Jul\", \"Aug\", \"Aug\", \"Aug\", \"Aug\"], \"legendgroup\": \"NSW\", \"line\": {\"color\": \"#636efa\", \"dash\": \"solid\"}, \"mode\": \"lines\", \"name\": \"NSW\", \"orientation\": \"v\", \"showlegend\": true, \"type\": \"scatter\", \"x\": [\"2017-09-03T00:00:00\", \"2017-09-10T00:00:00\", \"2017-09-17T00:00:00\", \"2017-09-24T00:00:00\", \"2017-10-01T00:00:00\", \"2017-10-08T00:00:00\", \"2017-10-15T00:00:00\", \"2017-10-22T00:00:00\", \"2017-10-29T00:00:00\", \"2017-11-05T00:00:00\", \"2017-11-12T00:00:00\", \"2017-11-19T00:00:00\", \"2017-11-26T00:00:00\", \"2017-12-03T00:00:00\", \"2017-12-10T00:00:00\", \"2017-12-17T00:00:00\", \"2017-12-24T00:00:00\", \"2017-12-31T00:00:00\", \"2018-01-07T00:00:00\", \"2018-01-14T00:00:00\", \"2018-01-21T00:00:00\", \"2018-01-28T00:00:00\", \"2018-02-04T00:00:00\", \"2018-02-11T00:00:00\", \"2018-02-18T00:00:00\", \"2018-02-25T00:00:00\", \"2018-03-04T00:00:00\", \"2018-03-11T00:00:00\", \"2018-03-18T00:00:00\", \"2018-03-25T00:00:00\", \"2018-04-01T00:00:00\", \"2018-04-08T00:00:00\", \"2018-04-15T00:00:00\", \"2018-04-22T00:00:00\", \"2018-04-29T00:00:00\", \"2018-05-06T00:00:00\", \"2018-05-13T00:00:00\", \"2018-05-20T00:00:00\", \"2018-05-27T00:00:00\", \"2018-06-03T00:00:00\", \"2018-06-10T00:00:00\", \"2018-06-17T00:00:00\", \"2018-06-24T00:00:00\", \"2018-07-01T00:00:00\", \"2018-07-08T00:00:00\", \"2018-07-15T00:00:00\", \"2018-07-22T00:00:00\", \"2018-07-29T00:00:00\", \"2018-08-05T00:00:00\", \"2018-08-12T00:00:00\", \"2018-08-19T00:00:00\", \"2018-08-26T00:00:00\", \"2018-09-02T00:00:00\", \"2018-09-09T00:00:00\", \"2018-09-16T00:00:00\", \"2018-09-23T00:00:00\", \"2018-09-30T00:00:00\", \"2018-10-07T00:00:00\", \"2018-10-14T00:00:00\", \"2018-10-21T00:00:00\", \"2018-10-28T00:00:00\", \"2018-11-04T00:00:00\", \"2018-11-11T00:00:00\", \"2018-11-18T00:00:00\", \"2018-11-25T00:00:00\", \"2018-12-02T00:00:00\", \"2018-12-09T00:00:00\", \"2018-12-16T00:00:00\", \"2018-12-23T00:00:00\", \"2018-12-30T00:00:00\", \"2019-01-06T00:00:00\", \"2019-01-13T00:00:00\", \"2019-01-20T00:00:00\", \"2019-01-27T00:00:00\", \"2019-02-03T00:00:00\", \"2019-02-10T00:00:00\", \"2019-02-17T00:00:00\", \"2019-02-24T00:00:00\", \"2019-03-03T00:00:00\", \"2019-03-10T00:00:00\", \"2019-03-17T00:00:00\", \"2019-03-24T00:00:00\", \"2019-03-31T00:00:00\", \"2019-04-07T00:00:00\", \"2019-04-14T00:00:00\", \"2019-04-21T00:00:00\", \"2019-04-28T00:00:00\", \"2019-05-05T00:00:00\", \"2019-05-12T00:00:00\", \"2019-05-19T00:00:00\", \"2019-05-26T00:00:00\", \"2019-06-02T00:00:00\", \"2019-06-09T00:00:00\", \"2019-06-16T00:00:00\", \"2019-06-23T00:00:00\", \"2019-06-30T00:00:00\", \"2019-07-07T00:00:00\", \"2019-07-14T00:00:00\", \"2019-07-21T00:00:00\", \"2019-07-28T00:00:00\", \"2019-08-04T00:00:00\", \"2019-08-11T00:00:00\", \"2019-08-18T00:00:00\", \"2019-08-25T00:00:00\", \"2019-09-01T00:00:00\", \"2019-09-08T00:00:00\", \"2019-09-15T00:00:00\", \"2019-09-22T00:00:00\", \"2019-09-29T00:00:00\", \"2019-10-06T00:00:00\", \"2019-10-13T00:00:00\", \"2019-10-20T00:00:00\", \"2019-10-27T00:00:00\", \"2019-11-03T00:00:00\", \"2019-11-10T00:00:00\", \"2019-11-17T00:00:00\", \"2019-11-24T00:00:00\", \"2019-12-01T00:00:00\", \"2019-12-08T00:00:00\", \"2019-12-15T00:00:00\", \"2019-12-22T00:00:00\", \"2019-12-29T00:00:00\", \"2020-01-05T00:00:00\", \"2020-01-12T00:00:00\", \"2020-01-19T00:00:00\", \"2020-01-26T00:00:00\", \"2020-02-02T00:00:00\", \"2020-02-09T00:00:00\", \"2020-02-16T00:00:00\", \"2020-02-23T00:00:00\", \"2020-03-01T00:00:00\", \"2020-03-08T00:00:00\", \"2020-03-15T00:00:00\", \"2020-03-22T00:00:00\", \"2020-03-29T00:00:00\", \"2020-04-05T00:00:00\", \"2020-04-12T00:00:00\", \"2020-04-19T00:00:00\", \"2020-04-26T00:00:00\", \"2020-05-03T00:00:00\", \"2020-05-10T00:00:00\", \"2020-05-17T00:00:00\", \"2020-05-24T00:00:00\", \"2020-05-31T00:00:00\", \"2020-06-07T00:00:00\", \"2020-06-14T00:00:00\", \"2020-06-21T00:00:00\", \"2020-06-28T00:00:00\", \"2020-07-05T00:00:00\", \"2020-07-12T00:00:00\", \"2020-07-19T00:00:00\", \"2020-07-26T00:00:00\", \"2020-08-02T00:00:00\", \"2020-08-09T00:00:00\", \"2020-08-16T00:00:00\", \"2020-08-23T00:00:00\"], \"xaxis\": \"x\", \"y\": [2634368.840183024, 2760182.669930118, 2770334.092689774, 3176641.243278258, 3264356.044595119, 2869931.609129978, 3324068.967269962, 2932100.11279284, 2833044.190054961, 2711729.268880063, 2769392.027306489, 2685361.008361685, 2708259.27072389, 2708928.649296758, 2591538.293501503, 2824538.681211269, 3139001.982756743, 3267604.434809093, 2967120.845967592, 2955578.98849901, 2972358.186651, 2685321.195192046, 2606375.65915893, 2535183.676399176, 2720039.218890184, 2874615.231815928, 2718254.401503748, 2588530.159090815, 2425536.830097856, 2373594.915467833, 2277273.849680846, 2342689.724580286, 2626058.708062707, 2885867.13373568, 2480101.899251407, 2396998.95681908, 2206241.951593115, 2267188.962317278, 2306777.045018571, 2466560.851095221, 2698677.587325904, 2585387.279373, 2902648.542579825, 2635355.652642215, 3003952.570769249, 3107060.768167735, 2614437.290611091, 2533028.918811129, 2503232.052811027, 2407668.718695499, 2568656.467749375, 2566002.860443762, 2637542.77230812, 2497129.139631405, 2582038.535615719, 2721972.898203935, 3194284.660691672, 2849754.134712133, 2976573.543000213, 2641698.312798798, 2473220.947057426, 2489937.094243774, 2628412.960279277, 2777864.045104836, 2743092.531527222, 2479732.522722125, 2498179.236194718, 2650415.988756866, 2829730.337627514, 3199229.247254669, 2965153.067095987, 2700601.323781384, 2752983.760156098, 2908017.642712957, 2393248.815399134, 2601796.372923764, 2816764.091487347, 2706821.881260899, 2488000.731786813, 2431546.562163545, 2293915.175271454, 2374437.704836953, 2290643.888921742, 2303084.746520452, 2667261.281390637, 2926976.797311885, 2246979.393866457, 2194879.158025778, 2074167.188045989, 2189993.905197012, 2192346.341715035, 2283798.333151146, 2474775.642198499, 2258362.0058612, 2612628.542620118, 2498177.779799757, 2779525.406261482, 2831082.299887066, 2400010.702203261, 2431621.266151989, 2416853.005066616, 2343154.215106094, 2310535.502308555, 2453948.263104522, 2297872.454003762, 2419297.036745709, 2402847.39247223, 2492744.652081301, 2867760.597305155, 2973968.438278548, 2334842.709824163, 2309118.541051005, 2285584.819806868, 2603077.282701191, 2551206.870508204, 2526078.735916106, 2657056.073255902, 2513572.914824786, 2429701.081540268, 2614876.439223284, 2882788.294725833, 3284553.828919528, 2881038.699104385, 2859809.100474077, 2731322.770021687, 2404740.069038821, 2431564.151396827, 2377516.143491353, 2608994.743909604, 2516576.09839022, 2379023.177337916, 2315196.40272791, 2456017.720800763, 2220530.568650034, 1701011.572556342, 1761310.019759649, 2001726.815884218, 2301765.934298746, 2651172.772551851, 2743252.038333858, 2853330.470262835, 3140282.498625233, 3233130.237391281, 2837332.082418947, 3159768.506027024, 3069332.639419259, 3235238.668231891, 3293143.103421631, 3428334.409442499, 3409453.198293967, 2749988.691673775, 2761366.61097433, 2873655.990786887, 2773094.180603982, 2718479.208870341, 2785053.865600151], \"yaxis\": \"y\"}],                        {\"legend\": {\"title\": {\"text\": \"State\"}, \"tracegroupgap\": 0}, \"margin\": {\"t\": 60}, \"template\": {\"data\": {\"bar\": [{\"error_x\": {\"color\": \"#2a3f5f\"}, \"error_y\": {\"color\": \"#2a3f5f\"}, \"marker\": {\"line\": {\"color\": \"#E5ECF6\", \"width\": 0.5}}, \"type\": \"bar\"}], \"barpolar\": [{\"marker\": {\"line\": {\"color\": \"#E5ECF6\", \"width\": 0.5}}, \"type\": \"barpolar\"}], \"carpet\": [{\"aaxis\": {\"endlinecolor\": \"#2a3f5f\", \"gridcolor\": \"white\", \"linecolor\": \"white\", \"minorgridcolor\": \"white\", \"startlinecolor\": \"#2a3f5f\"}, \"baxis\": {\"endlinecolor\": \"#2a3f5f\", \"gridcolor\": \"white\", \"linecolor\": \"white\", \"minorgridcolor\": \"white\", \"startlinecolor\": \"#2a3f5f\"}, \"type\": \"carpet\"}], \"choropleth\": [{\"colorbar\": {\"outlinewidth\": 0, \"ticks\": \"\"}, \"type\": \"choropleth\"}], \"contour\": [{\"colorbar\": {\"outlinewidth\": 0, \"ticks\": \"\"}, \"colorscale\": [[0.0, \"#0d0887\"], [0.1111111111111111, \"#46039f\"], [0.2222222222222222, \"#7201a8\"], [0.3333333333333333, \"#9c179e\"], [0.4444444444444444, \"#bd3786\"], [0.5555555555555556, \"#d8576b\"], [0.6666666666666666, \"#ed7953\"], [0.7777777777777778, \"#fb9f3a\"], [0.8888888888888888, \"#fdca26\"], [1.0, \"#f0f921\"]], \"type\": \"contour\"}], \"contourcarpet\": [{\"colorbar\": {\"outlinewidth\": 0, \"ticks\": \"\"}, \"type\": \"contourcarpet\"}], \"heatmap\": [{\"colorbar\": {\"outlinewidth\": 0, \"ticks\": \"\"}, \"colorscale\": [[0.0, \"#0d0887\"], [0.1111111111111111, \"#46039f\"], [0.2222222222222222, \"#7201a8\"], [0.3333333333333333, \"#9c179e\"], [0.4444444444444444, \"#bd3786\"], [0.5555555555555556, \"#d8576b\"], [0.6666666666666666, \"#ed7953\"], [0.7777777777777778, \"#fb9f3a\"], [0.8888888888888888, \"#fdca26\"], [1.0, \"#f0f921\"]], \"type\": \"heatmap\"}], \"heatmapgl\": [{\"colorbar\": {\"outlinewidth\": 0, \"ticks\": \"\"}, \"colorscale\": [[0.0, \"#0d0887\"], [0.1111111111111111, \"#46039f\"], [0.2222222222222222, \"#7201a8\"], [0.3333333333333333, \"#9c179e\"], [0.4444444444444444, \"#bd3786\"], [0.5555555555555556, \"#d8576b\"], [0.6666666666666666, \"#ed7953\"], [0.7777777777777778, \"#fb9f3a\"], [0.8888888888888888, \"#fdca26\"], [1.0, \"#f0f921\"]], \"type\": \"heatmapgl\"}], \"histogram\": [{\"marker\": {\"colorbar\": {\"outlinewidth\": 0, \"ticks\": \"\"}}, \"type\": \"histogram\"}], \"histogram2d\": [{\"colorbar\": {\"outlinewidth\": 0, \"ticks\": \"\"}, \"colorscale\": [[0.0, \"#0d0887\"], [0.1111111111111111, \"#46039f\"], [0.2222222222222222, \"#7201a8\"], [0.3333333333333333, \"#9c179e\"], [0.4444444444444444, \"#bd3786\"], [0.5555555555555556, \"#d8576b\"], [0.6666666666666666, \"#ed7953\"], [0.7777777777777778, \"#fb9f3a\"], [0.8888888888888888, \"#fdca26\"], [1.0, \"#f0f921\"]], \"type\": \"histogram2d\"}], \"histogram2dcontour\": [{\"colorbar\": {\"outlinewidth\": 0, \"ticks\": \"\"}, \"colorscale\": [[0.0, \"#0d0887\"], [0.1111111111111111, \"#46039f\"], [0.2222222222222222, \"#7201a8\"], [0.3333333333333333, \"#9c179e\"], [0.4444444444444444, \"#bd3786\"], [0.5555555555555556, \"#d8576b\"], [0.6666666666666666, \"#ed7953\"], [0.7777777777777778, \"#fb9f3a\"], [0.8888888888888888, \"#fdca26\"], [1.0, \"#f0f921\"]], \"type\": \"histogram2dcontour\"}], \"mesh3d\": [{\"colorbar\": {\"outlinewidth\": 0, \"ticks\": \"\"}, \"type\": \"mesh3d\"}], \"parcoords\": [{\"line\": {\"colorbar\": {\"outlinewidth\": 0, \"ticks\": \"\"}}, \"type\": \"parcoords\"}], \"pie\": [{\"automargin\": true, \"type\": \"pie\"}], \"scatter\": [{\"marker\": {\"colorbar\": {\"outlinewidth\": 0, \"ticks\": \"\"}}, \"type\": \"scatter\"}], \"scatter3d\": [{\"line\": {\"colorbar\": {\"outlinewidth\": 0, \"ticks\": \"\"}}, \"marker\": {\"colorbar\": {\"outlinewidth\": 0, \"ticks\": \"\"}}, \"type\": \"scatter3d\"}], \"scattercarpet\": [{\"marker\": {\"colorbar\": {\"outlinewidth\": 0, \"ticks\": \"\"}}, \"type\": \"scattercarpet\"}], \"scattergeo\": [{\"marker\": {\"colorbar\": {\"outlinewidth\": 0, \"ticks\": \"\"}}, \"type\": \"scattergeo\"}], \"scattergl\": [{\"marker\": {\"colorbar\": {\"outlinewidth\": 0, \"ticks\": \"\"}}, \"type\": \"scattergl\"}], \"scattermapbox\": [{\"marker\": {\"colorbar\": {\"outlinewidth\": 0, \"ticks\": \"\"}}, \"type\": \"scattermapbox\"}], \"scatterpolar\": [{\"marker\": {\"colorbar\": {\"outlinewidth\": 0, \"ticks\": \"\"}}, \"type\": \"scatterpolar\"}], \"scatterpolargl\": [{\"marker\": {\"colorbar\": {\"outlinewidth\": 0, \"ticks\": \"\"}}, \"type\": \"scatterpolargl\"}], \"scatterternary\": [{\"marker\": {\"colorbar\": {\"outlinewidth\": 0, \"ticks\": \"\"}}, \"type\": \"scatterternary\"}], \"surface\": [{\"colorbar\": {\"outlinewidth\": 0, \"ticks\": \"\"}, \"colorscale\": [[0.0, \"#0d0887\"], [0.1111111111111111, \"#46039f\"], [0.2222222222222222, \"#7201a8\"], [0.3333333333333333, \"#9c179e\"], [0.4444444444444444, \"#bd3786\"], [0.5555555555555556, \"#d8576b\"], [0.6666666666666666, \"#ed7953\"], [0.7777777777777778, \"#fb9f3a\"], [0.8888888888888888, \"#fdca26\"], [1.0, \"#f0f921\"]], \"type\": \"surface\"}], \"table\": [{\"cells\": {\"fill\": {\"color\": \"#EBF0F8\"}, \"line\": {\"color\": \"white\"}}, \"header\": {\"fill\": {\"color\": \"#C8D4E3\"}, \"line\": {\"color\": \"white\"}}, \"type\": \"table\"}]}, \"layout\": {\"annotationdefaults\": {\"arrowcolor\": \"#2a3f5f\", \"arrowhead\": 0, \"arrowwidth\": 1}, \"autotypenumbers\": \"strict\", \"coloraxis\": {\"colorbar\": {\"outlinewidth\": 0, \"ticks\": \"\"}}, \"colorscale\": {\"diverging\": [[0, \"#8e0152\"], [0.1, \"#c51b7d\"], [0.2, \"#de77ae\"], [0.3, \"#f1b6da\"], [0.4, \"#fde0ef\"], [0.5, \"#f7f7f7\"], [0.6, \"#e6f5d0\"], [0.7, \"#b8e186\"], [0.8, \"#7fbc41\"], [0.9, \"#4d9221\"], [1, \"#276419\"]], \"sequential\": [[0.0, \"#0d0887\"], [0.1111111111111111, \"#46039f\"], [0.2222222222222222, \"#7201a8\"], [0.3333333333333333, \"#9c179e\"], [0.4444444444444444, \"#bd3786\"], [0.5555555555555556, \"#d8576b\"], [0.6666666666666666, \"#ed7953\"], [0.7777777777777778, \"#fb9f3a\"], [0.8888888888888888, \"#fdca26\"], [1.0, \"#f0f921\"]], \"sequentialminus\": [[0.0, \"#0d0887\"], [0.1111111111111111, \"#46039f\"], [0.2222222222222222, \"#7201a8\"], [0.3333333333333333, \"#9c179e\"], [0.4444444444444444, \"#bd3786\"], [0.5555555555555556, \"#d8576b\"], [0.6666666666666666, \"#ed7953\"], [0.7777777777777778, \"#fb9f3a\"], [0.8888888888888888, \"#fdca26\"], [1.0, \"#f0f921\"]]}, \"colorway\": [\"#636efa\", \"#EF553B\", \"#00cc96\", \"#ab63fa\", \"#FFA15A\", \"#19d3f3\", \"#FF6692\", \"#B6E880\", \"#FF97FF\", \"#FECB52\"], \"font\": {\"color\": \"#2a3f5f\"}, \"geo\": {\"bgcolor\": \"white\", \"lakecolor\": \"white\", \"landcolor\": \"#E5ECF6\", \"showlakes\": true, \"showland\": true, \"subunitcolor\": \"white\"}, \"hoverlabel\": {\"align\": \"left\"}, \"hovermode\": \"closest\", \"mapbox\": {\"style\": \"light\"}, \"paper_bgcolor\": \"white\", \"plot_bgcolor\": \"#E5ECF6\", \"polar\": {\"angularaxis\": {\"gridcolor\": \"white\", \"linecolor\": \"white\", \"ticks\": \"\"}, \"bgcolor\": \"#E5ECF6\", \"radialaxis\": {\"gridcolor\": \"white\", \"linecolor\": \"white\", \"ticks\": \"\"}}, \"scene\": {\"xaxis\": {\"backgroundcolor\": \"#E5ECF6\", \"gridcolor\": \"white\", \"gridwidth\": 2, \"linecolor\": \"white\", \"showbackground\": true, \"ticks\": \"\", \"zerolinecolor\": \"white\"}, \"yaxis\": {\"backgroundcolor\": \"#E5ECF6\", \"gridcolor\": \"white\", \"gridwidth\": 2, \"linecolor\": \"white\", \"showbackground\": true, \"ticks\": \"\", \"zerolinecolor\": \"white\"}, \"zaxis\": {\"backgroundcolor\": \"#E5ECF6\", \"gridcolor\": \"white\", \"gridwidth\": 2, \"linecolor\": \"white\", \"showbackground\": true, \"ticks\": \"\", \"zerolinecolor\": \"white\"}}, \"shapedefaults\": {\"line\": {\"color\": \"#2a3f5f\"}}, \"ternary\": {\"aaxis\": {\"gridcolor\": \"white\", \"linecolor\": \"white\", \"ticks\": \"\"}, \"baxis\": {\"gridcolor\": \"white\", \"linecolor\": \"white\", \"ticks\": \"\"}, \"bgcolor\": \"#E5ECF6\", \"caxis\": {\"gridcolor\": \"white\", \"linecolor\": \"white\", \"ticks\": \"\"}}, \"title\": {\"x\": 0.05}, \"xaxis\": {\"automargin\": true, \"gridcolor\": \"white\", \"linecolor\": \"white\", \"ticks\": \"\", \"title\": {\"standoff\": 15}, \"zerolinecolor\": \"white\", \"zerolinewidth\": 2}, \"yaxis\": {\"automargin\": true, \"gridcolor\": \"white\", \"linecolor\": \"white\", \"ticks\": \"\", \"title\": {\"standoff\": 15}, \"zerolinecolor\": \"white\", \"zerolinewidth\": 2}}}, \"title\": {\"text\": \"Hostorical Sales\"}, \"xaxis\": {\"anchor\": \"y\", \"domain\": [0.0, 1.0], \"title\": {\"text\": \"WC Date\"}}, \"yaxis\": {\"anchor\": \"x\", \"domain\": [0.0, 1.0], \"title\": {\"text\": \"Amount $\"}}},                        {\"responsive\": true}                    ).then(function(){\n",
       "                            \n",
       "var gd = document.getElementById('9230b0f7-838b-4593-a8ee-9b42947662e3');\n",
       "var x = new MutationObserver(function (mutations, observer) {{\n",
       "        var display = window.getComputedStyle(gd).display;\n",
       "        if (!display || display === 'none') {{\n",
       "            console.log([gd, 'removed!']);\n",
       "            Plotly.purge(gd);\n",
       "            observer.disconnect();\n",
       "        }}\n",
       "}});\n",
       "\n",
       "// Listen for the removal of the full notebook cells\n",
       "var notebookContainer = gd.closest('#notebook-container');\n",
       "if (notebookContainer) {{\n",
       "    x.observe(notebookContainer, {childList: true});\n",
       "}}\n",
       "\n",
       "// Listen for the clearing of the current output cell\n",
       "var outputEl = gd.closest('.output');\n",
       "if (outputEl) {{\n",
       "    x.observe(outputEl, {childList: true});\n",
       "}}\n",
       "\n",
       "                        })                };                });            </script>        </div>"
      ]
     },
     "metadata": {},
     "output_type": "display_data"
    }
   ],
   "source": [
    "fig = px.line(df1[df1.State==\"NSW\"], x='WC Date', y='Sales',color=\"State\", line_group=\"State\",hover_name=\"Month\")#\n",
    "fig.update_layout(title='Hostorical Sales',xaxis_title='WC Date',yaxis_title=\"Amount $\")\n",
    "fig.show()"
   ]
  },
  {
   "cell_type": "markdown",
   "metadata": {},
   "source": [
    "## Time series with error bound plot"
   ]
  },
  {
   "cell_type": "code",
   "execution_count": 15,
   "metadata": {},
   "outputs": [],
   "source": [
    "df02=df1.groupby(['State','Month']).agg(month_AvgSales=(\"Sales\",'mean'),\n",
    "                                    monthMinSales=('Sales', min),\n",
    "                                 month_StdSales=('Sales', 'std')).reset_index()\n",
    "df02['Sales UB']=df02['month_AvgSales']+df02['month_StdSales']#<------computing upper bound \n",
    "df02['Sales LB']=df02['month_AvgSales']-df02['month_StdSales']#<------computing lower bound"
   ]
  },
  {
   "cell_type": "code",
   "execution_count": 40,
   "metadata": {},
   "outputs": [
    {
     "data": {
      "text/html": [
       "<div>\n",
       "<style scoped>\n",
       "    .dataframe tbody tr th:only-of-type {\n",
       "        vertical-align: middle;\n",
       "    }\n",
       "\n",
       "    .dataframe tbody tr th {\n",
       "        vertical-align: top;\n",
       "    }\n",
       "\n",
       "    .dataframe thead th {\n",
       "        text-align: right;\n",
       "    }\n",
       "</style>\n",
       "<table border=\"1\" class=\"dataframe\">\n",
       "  <thead>\n",
       "    <tr style=\"text-align: right;\">\n",
       "      <th></th>\n",
       "      <th>State</th>\n",
       "      <th>Month</th>\n",
       "      <th>month_AvgSales</th>\n",
       "      <th>monthMinSales</th>\n",
       "      <th>month_StdSales</th>\n",
       "      <th>Sales UB</th>\n",
       "      <th>Sales LB</th>\n",
       "    </tr>\n",
       "  </thead>\n",
       "  <tbody>\n",
       "    <tr>\n",
       "      <th>0</th>\n",
       "      <td>ACT</td>\n",
       "      <td>Apr</td>\n",
       "      <td>4.778751e+05</td>\n",
       "      <td>3.685230e+05</td>\n",
       "      <td>67511.365141</td>\n",
       "      <td>5.453865e+05</td>\n",
       "      <td>4.103637e+05</td>\n",
       "    </tr>\n",
       "    <tr>\n",
       "      <th>1</th>\n",
       "      <td>ACT</td>\n",
       "      <td>Aug</td>\n",
       "      <td>4.959479e+05</td>\n",
       "      <td>4.429391e+05</td>\n",
       "      <td>63521.726113</td>\n",
       "      <td>5.594696e+05</td>\n",
       "      <td>4.324262e+05</td>\n",
       "    </tr>\n",
       "    <tr>\n",
       "      <th>2</th>\n",
       "      <td>ACT</td>\n",
       "      <td>Dec</td>\n",
       "      <td>5.606757e+05</td>\n",
       "      <td>4.753013e+05</td>\n",
       "      <td>66234.651041</td>\n",
       "      <td>6.269104e+05</td>\n",
       "      <td>4.944411e+05</td>\n",
       "    </tr>\n",
       "    <tr>\n",
       "      <th>3</th>\n",
       "      <td>ACT</td>\n",
       "      <td>Feb</td>\n",
       "      <td>4.846654e+05</td>\n",
       "      <td>4.484216e+05</td>\n",
       "      <td>24938.637610</td>\n",
       "      <td>5.096040e+05</td>\n",
       "      <td>4.597267e+05</td>\n",
       "    </tr>\n",
       "    <tr>\n",
       "      <th>4</th>\n",
       "      <td>ACT</td>\n",
       "      <td>Jan</td>\n",
       "      <td>5.546153e+05</td>\n",
       "      <td>5.016358e+05</td>\n",
       "      <td>37565.640795</td>\n",
       "      <td>5.921809e+05</td>\n",
       "      <td>5.170496e+05</td>\n",
       "    </tr>\n",
       "    <tr>\n",
       "      <th>...</th>\n",
       "      <td>...</td>\n",
       "      <td>...</td>\n",
       "      <td>...</td>\n",
       "      <td>...</td>\n",
       "      <td>...</td>\n",
       "      <td>...</td>\n",
       "      <td>...</td>\n",
       "    </tr>\n",
       "    <tr>\n",
       "      <th>67</th>\n",
       "      <td>WA</td>\n",
       "      <td>Mar</td>\n",
       "      <td>9.335120e+05</td>\n",
       "      <td>6.639621e+05</td>\n",
       "      <td>104557.126006</td>\n",
       "      <td>1.038069e+06</td>\n",
       "      <td>8.289549e+05</td>\n",
       "    </tr>\n",
       "    <tr>\n",
       "      <th>68</th>\n",
       "      <td>WA</td>\n",
       "      <td>May</td>\n",
       "      <td>1.025678e+06</td>\n",
       "      <td>9.128382e+05</td>\n",
       "      <td>110473.820367</td>\n",
       "      <td>1.136152e+06</td>\n",
       "      <td>9.152041e+05</td>\n",
       "    </tr>\n",
       "    <tr>\n",
       "      <th>69</th>\n",
       "      <td>WA</td>\n",
       "      <td>Nov</td>\n",
       "      <td>1.121349e+06</td>\n",
       "      <td>1.062246e+06</td>\n",
       "      <td>59273.236846</td>\n",
       "      <td>1.180622e+06</td>\n",
       "      <td>1.062075e+06</td>\n",
       "    </tr>\n",
       "    <tr>\n",
       "      <th>70</th>\n",
       "      <td>WA</td>\n",
       "      <td>Oct</td>\n",
       "      <td>1.064017e+06</td>\n",
       "      <td>1.002744e+06</td>\n",
       "      <td>80295.058656</td>\n",
       "      <td>1.144312e+06</td>\n",
       "      <td>9.837215e+05</td>\n",
       "    </tr>\n",
       "    <tr>\n",
       "      <th>71</th>\n",
       "      <td>WA</td>\n",
       "      <td>Sep</td>\n",
       "      <td>1.059939e+06</td>\n",
       "      <td>9.626140e+05</td>\n",
       "      <td>100982.289577</td>\n",
       "      <td>1.160921e+06</td>\n",
       "      <td>9.589567e+05</td>\n",
       "    </tr>\n",
       "  </tbody>\n",
       "</table>\n",
       "<p>72 rows × 7 columns</p>\n",
       "</div>"
      ],
      "text/plain": [
       "   State Month  month_AvgSales  monthMinSales  month_StdSales      Sales UB  \\\n",
       "0    ACT   Apr    4.778751e+05   3.685230e+05    67511.365141  5.453865e+05   \n",
       "1    ACT   Aug    4.959479e+05   4.429391e+05    63521.726113  5.594696e+05   \n",
       "2    ACT   Dec    5.606757e+05   4.753013e+05    66234.651041  6.269104e+05   \n",
       "3    ACT   Feb    4.846654e+05   4.484216e+05    24938.637610  5.096040e+05   \n",
       "4    ACT   Jan    5.546153e+05   5.016358e+05    37565.640795  5.921809e+05   \n",
       "..   ...   ...             ...            ...             ...           ...   \n",
       "67    WA   Mar    9.335120e+05   6.639621e+05   104557.126006  1.038069e+06   \n",
       "68    WA   May    1.025678e+06   9.128382e+05   110473.820367  1.136152e+06   \n",
       "69    WA   Nov    1.121349e+06   1.062246e+06    59273.236846  1.180622e+06   \n",
       "70    WA   Oct    1.064017e+06   1.002744e+06    80295.058656  1.144312e+06   \n",
       "71    WA   Sep    1.059939e+06   9.626140e+05   100982.289577  1.160921e+06   \n",
       "\n",
       "        Sales LB  \n",
       "0   4.103637e+05  \n",
       "1   4.324262e+05  \n",
       "2   4.944411e+05  \n",
       "3   4.597267e+05  \n",
       "4   5.170496e+05  \n",
       "..           ...  \n",
       "67  8.289549e+05  \n",
       "68  9.152041e+05  \n",
       "69  1.062075e+06  \n",
       "70  9.837215e+05  \n",
       "71  9.589567e+05  \n",
       "\n",
       "[72 rows x 7 columns]"
      ]
     },
     "execution_count": 40,
     "metadata": {},
     "output_type": "execute_result"
    }
   ],
   "source": [
    "df02"
   ]
  },
  {
   "cell_type": "code",
   "execution_count": 42,
   "metadata": {},
   "outputs": [
    {
     "data": {
      "application/vnd.plotly.v1+json": {
       "config": {
        "plotlyServerURL": "https://plot.ly"
       },
       "data": [
        {
         "line": {
          "color": "rgb(31, 119, 180)"
         },
         "mode": "lines",
         "name": "Monthly average Sales",
         "type": "scatter",
         "x": [
          "Apr",
          "Aug",
          "Dec",
          "Feb",
          "Jan",
          "Jul",
          "Jun",
          "Mar",
          "May",
          "Nov",
          "Oct",
          "Sep"
         ],
         "y": [
          1942653.0112585488,
          1405443.6832042828,
          2280654.3680188307,
          2201992.0646572825,
          2339564.8463546024,
          2055531.1340926609,
          2189716.566523311,
          1935870.8412071627,
          1966540.2245464637,
          2178644.078916844,
          2082372.9950504813,
          2131727.7509276764
         ]
        },
        {
         "line": {
          "width": 0
         },
         "marker": {
          "color": "#444"
         },
         "mode": "lines",
         "name": "Upper Bound",
         "showlegend": false,
         "type": "scatter",
         "x": [
          "Apr",
          "Aug",
          "Dec",
          "Feb",
          "Jan",
          "Jul",
          "Jun",
          "Mar",
          "May",
          "Nov",
          "Oct",
          "Sep"
         ],
         "y": [
          2318141.139193554,
          2247201.8758836426,
          2539631.263521792,
          2339972.321181195,
          2491093.486697709,
          2378981.9329760973,
          2417277.350305684,
          2212840.2013604296,
          2235468.2901650704,
          2365425.5403950894,
          2292937.165108249,
          2366410.5788677405
         ]
        },
        {
         "fill": "tonexty",
         "fillcolor": "rgba(68, 68, 68, 0.3)",
         "line": {
          "width": 0
         },
         "marker": {
          "color": "#444"
         },
         "mode": "lines",
         "name": "Lower Bound",
         "showlegend": false,
         "type": "scatter",
         "x": [
          "Apr",
          "Aug",
          "Dec",
          "Feb",
          "Jan",
          "Jul",
          "Jun",
          "Mar",
          "May",
          "Nov",
          "Oct",
          "Sep"
         ],
         "y": [
          1567164.8833235435,
          563685.4905249232,
          2021677.4725158694,
          2064011.80813337,
          2188036.2060114956,
          1732080.3352092241,
          1962155.7827409387,
          1658901.4810538958,
          1697612.1589278572,
          1991862.6174385983,
          1871808.8249927135,
          1897044.9229876124
         ]
        }
       ],
       "layout": {
        "hovermode": "x",
        "template": {
         "data": {
          "bar": [
           {
            "error_x": {
             "color": "#2a3f5f"
            },
            "error_y": {
             "color": "#2a3f5f"
            },
            "marker": {
             "line": {
              "color": "#E5ECF6",
              "width": 0.5
             }
            },
            "type": "bar"
           }
          ],
          "barpolar": [
           {
            "marker": {
             "line": {
              "color": "#E5ECF6",
              "width": 0.5
             }
            },
            "type": "barpolar"
           }
          ],
          "carpet": [
           {
            "aaxis": {
             "endlinecolor": "#2a3f5f",
             "gridcolor": "white",
             "linecolor": "white",
             "minorgridcolor": "white",
             "startlinecolor": "#2a3f5f"
            },
            "baxis": {
             "endlinecolor": "#2a3f5f",
             "gridcolor": "white",
             "linecolor": "white",
             "minorgridcolor": "white",
             "startlinecolor": "#2a3f5f"
            },
            "type": "carpet"
           }
          ],
          "choropleth": [
           {
            "colorbar": {
             "outlinewidth": 0,
             "ticks": ""
            },
            "type": "choropleth"
           }
          ],
          "contour": [
           {
            "colorbar": {
             "outlinewidth": 0,
             "ticks": ""
            },
            "colorscale": [
             [
              0,
              "#0d0887"
             ],
             [
              0.1111111111111111,
              "#46039f"
             ],
             [
              0.2222222222222222,
              "#7201a8"
             ],
             [
              0.3333333333333333,
              "#9c179e"
             ],
             [
              0.4444444444444444,
              "#bd3786"
             ],
             [
              0.5555555555555556,
              "#d8576b"
             ],
             [
              0.6666666666666666,
              "#ed7953"
             ],
             [
              0.7777777777777778,
              "#fb9f3a"
             ],
             [
              0.8888888888888888,
              "#fdca26"
             ],
             [
              1,
              "#f0f921"
             ]
            ],
            "type": "contour"
           }
          ],
          "contourcarpet": [
           {
            "colorbar": {
             "outlinewidth": 0,
             "ticks": ""
            },
            "type": "contourcarpet"
           }
          ],
          "heatmap": [
           {
            "colorbar": {
             "outlinewidth": 0,
             "ticks": ""
            },
            "colorscale": [
             [
              0,
              "#0d0887"
             ],
             [
              0.1111111111111111,
              "#46039f"
             ],
             [
              0.2222222222222222,
              "#7201a8"
             ],
             [
              0.3333333333333333,
              "#9c179e"
             ],
             [
              0.4444444444444444,
              "#bd3786"
             ],
             [
              0.5555555555555556,
              "#d8576b"
             ],
             [
              0.6666666666666666,
              "#ed7953"
             ],
             [
              0.7777777777777778,
              "#fb9f3a"
             ],
             [
              0.8888888888888888,
              "#fdca26"
             ],
             [
              1,
              "#f0f921"
             ]
            ],
            "type": "heatmap"
           }
          ],
          "heatmapgl": [
           {
            "colorbar": {
             "outlinewidth": 0,
             "ticks": ""
            },
            "colorscale": [
             [
              0,
              "#0d0887"
             ],
             [
              0.1111111111111111,
              "#46039f"
             ],
             [
              0.2222222222222222,
              "#7201a8"
             ],
             [
              0.3333333333333333,
              "#9c179e"
             ],
             [
              0.4444444444444444,
              "#bd3786"
             ],
             [
              0.5555555555555556,
              "#d8576b"
             ],
             [
              0.6666666666666666,
              "#ed7953"
             ],
             [
              0.7777777777777778,
              "#fb9f3a"
             ],
             [
              0.8888888888888888,
              "#fdca26"
             ],
             [
              1,
              "#f0f921"
             ]
            ],
            "type": "heatmapgl"
           }
          ],
          "histogram": [
           {
            "marker": {
             "colorbar": {
              "outlinewidth": 0,
              "ticks": ""
             }
            },
            "type": "histogram"
           }
          ],
          "histogram2d": [
           {
            "colorbar": {
             "outlinewidth": 0,
             "ticks": ""
            },
            "colorscale": [
             [
              0,
              "#0d0887"
             ],
             [
              0.1111111111111111,
              "#46039f"
             ],
             [
              0.2222222222222222,
              "#7201a8"
             ],
             [
              0.3333333333333333,
              "#9c179e"
             ],
             [
              0.4444444444444444,
              "#bd3786"
             ],
             [
              0.5555555555555556,
              "#d8576b"
             ],
             [
              0.6666666666666666,
              "#ed7953"
             ],
             [
              0.7777777777777778,
              "#fb9f3a"
             ],
             [
              0.8888888888888888,
              "#fdca26"
             ],
             [
              1,
              "#f0f921"
             ]
            ],
            "type": "histogram2d"
           }
          ],
          "histogram2dcontour": [
           {
            "colorbar": {
             "outlinewidth": 0,
             "ticks": ""
            },
            "colorscale": [
             [
              0,
              "#0d0887"
             ],
             [
              0.1111111111111111,
              "#46039f"
             ],
             [
              0.2222222222222222,
              "#7201a8"
             ],
             [
              0.3333333333333333,
              "#9c179e"
             ],
             [
              0.4444444444444444,
              "#bd3786"
             ],
             [
              0.5555555555555556,
              "#d8576b"
             ],
             [
              0.6666666666666666,
              "#ed7953"
             ],
             [
              0.7777777777777778,
              "#fb9f3a"
             ],
             [
              0.8888888888888888,
              "#fdca26"
             ],
             [
              1,
              "#f0f921"
             ]
            ],
            "type": "histogram2dcontour"
           }
          ],
          "mesh3d": [
           {
            "colorbar": {
             "outlinewidth": 0,
             "ticks": ""
            },
            "type": "mesh3d"
           }
          ],
          "parcoords": [
           {
            "line": {
             "colorbar": {
              "outlinewidth": 0,
              "ticks": ""
             }
            },
            "type": "parcoords"
           }
          ],
          "pie": [
           {
            "automargin": true,
            "type": "pie"
           }
          ],
          "scatter": [
           {
            "marker": {
             "colorbar": {
              "outlinewidth": 0,
              "ticks": ""
             }
            },
            "type": "scatter"
           }
          ],
          "scatter3d": [
           {
            "line": {
             "colorbar": {
              "outlinewidth": 0,
              "ticks": ""
             }
            },
            "marker": {
             "colorbar": {
              "outlinewidth": 0,
              "ticks": ""
             }
            },
            "type": "scatter3d"
           }
          ],
          "scattercarpet": [
           {
            "marker": {
             "colorbar": {
              "outlinewidth": 0,
              "ticks": ""
             }
            },
            "type": "scattercarpet"
           }
          ],
          "scattergeo": [
           {
            "marker": {
             "colorbar": {
              "outlinewidth": 0,
              "ticks": ""
             }
            },
            "type": "scattergeo"
           }
          ],
          "scattergl": [
           {
            "marker": {
             "colorbar": {
              "outlinewidth": 0,
              "ticks": ""
             }
            },
            "type": "scattergl"
           }
          ],
          "scattermapbox": [
           {
            "marker": {
             "colorbar": {
              "outlinewidth": 0,
              "ticks": ""
             }
            },
            "type": "scattermapbox"
           }
          ],
          "scatterpolar": [
           {
            "marker": {
             "colorbar": {
              "outlinewidth": 0,
              "ticks": ""
             }
            },
            "type": "scatterpolar"
           }
          ],
          "scatterpolargl": [
           {
            "marker": {
             "colorbar": {
              "outlinewidth": 0,
              "ticks": ""
             }
            },
            "type": "scatterpolargl"
           }
          ],
          "scatterternary": [
           {
            "marker": {
             "colorbar": {
              "outlinewidth": 0,
              "ticks": ""
             }
            },
            "type": "scatterternary"
           }
          ],
          "surface": [
           {
            "colorbar": {
             "outlinewidth": 0,
             "ticks": ""
            },
            "colorscale": [
             [
              0,
              "#0d0887"
             ],
             [
              0.1111111111111111,
              "#46039f"
             ],
             [
              0.2222222222222222,
              "#7201a8"
             ],
             [
              0.3333333333333333,
              "#9c179e"
             ],
             [
              0.4444444444444444,
              "#bd3786"
             ],
             [
              0.5555555555555556,
              "#d8576b"
             ],
             [
              0.6666666666666666,
              "#ed7953"
             ],
             [
              0.7777777777777778,
              "#fb9f3a"
             ],
             [
              0.8888888888888888,
              "#fdca26"
             ],
             [
              1,
              "#f0f921"
             ]
            ],
            "type": "surface"
           }
          ],
          "table": [
           {
            "cells": {
             "fill": {
              "color": "#EBF0F8"
             },
             "line": {
              "color": "white"
             }
            },
            "header": {
             "fill": {
              "color": "#C8D4E3"
             },
             "line": {
              "color": "white"
             }
            },
            "type": "table"
           }
          ]
         },
         "layout": {
          "annotationdefaults": {
           "arrowcolor": "#2a3f5f",
           "arrowhead": 0,
           "arrowwidth": 1
          },
          "autotypenumbers": "strict",
          "coloraxis": {
           "colorbar": {
            "outlinewidth": 0,
            "ticks": ""
           }
          },
          "colorscale": {
           "diverging": [
            [
             0,
             "#8e0152"
            ],
            [
             0.1,
             "#c51b7d"
            ],
            [
             0.2,
             "#de77ae"
            ],
            [
             0.3,
             "#f1b6da"
            ],
            [
             0.4,
             "#fde0ef"
            ],
            [
             0.5,
             "#f7f7f7"
            ],
            [
             0.6,
             "#e6f5d0"
            ],
            [
             0.7,
             "#b8e186"
            ],
            [
             0.8,
             "#7fbc41"
            ],
            [
             0.9,
             "#4d9221"
            ],
            [
             1,
             "#276419"
            ]
           ],
           "sequential": [
            [
             0,
             "#0d0887"
            ],
            [
             0.1111111111111111,
             "#46039f"
            ],
            [
             0.2222222222222222,
             "#7201a8"
            ],
            [
             0.3333333333333333,
             "#9c179e"
            ],
            [
             0.4444444444444444,
             "#bd3786"
            ],
            [
             0.5555555555555556,
             "#d8576b"
            ],
            [
             0.6666666666666666,
             "#ed7953"
            ],
            [
             0.7777777777777778,
             "#fb9f3a"
            ],
            [
             0.8888888888888888,
             "#fdca26"
            ],
            [
             1,
             "#f0f921"
            ]
           ],
           "sequentialminus": [
            [
             0,
             "#0d0887"
            ],
            [
             0.1111111111111111,
             "#46039f"
            ],
            [
             0.2222222222222222,
             "#7201a8"
            ],
            [
             0.3333333333333333,
             "#9c179e"
            ],
            [
             0.4444444444444444,
             "#bd3786"
            ],
            [
             0.5555555555555556,
             "#d8576b"
            ],
            [
             0.6666666666666666,
             "#ed7953"
            ],
            [
             0.7777777777777778,
             "#fb9f3a"
            ],
            [
             0.8888888888888888,
             "#fdca26"
            ],
            [
             1,
             "#f0f921"
            ]
           ]
          },
          "colorway": [
           "#636efa",
           "#EF553B",
           "#00cc96",
           "#ab63fa",
           "#FFA15A",
           "#19d3f3",
           "#FF6692",
           "#B6E880",
           "#FF97FF",
           "#FECB52"
          ],
          "font": {
           "color": "#2a3f5f"
          },
          "geo": {
           "bgcolor": "white",
           "lakecolor": "white",
           "landcolor": "#E5ECF6",
           "showlakes": true,
           "showland": true,
           "subunitcolor": "white"
          },
          "hoverlabel": {
           "align": "left"
          },
          "hovermode": "closest",
          "mapbox": {
           "style": "light"
          },
          "paper_bgcolor": "white",
          "plot_bgcolor": "#E5ECF6",
          "polar": {
           "angularaxis": {
            "gridcolor": "white",
            "linecolor": "white",
            "ticks": ""
           },
           "bgcolor": "#E5ECF6",
           "radialaxis": {
            "gridcolor": "white",
            "linecolor": "white",
            "ticks": ""
           }
          },
          "scene": {
           "xaxis": {
            "backgroundcolor": "#E5ECF6",
            "gridcolor": "white",
            "gridwidth": 2,
            "linecolor": "white",
            "showbackground": true,
            "ticks": "",
            "zerolinecolor": "white"
           },
           "yaxis": {
            "backgroundcolor": "#E5ECF6",
            "gridcolor": "white",
            "gridwidth": 2,
            "linecolor": "white",
            "showbackground": true,
            "ticks": "",
            "zerolinecolor": "white"
           },
           "zaxis": {
            "backgroundcolor": "#E5ECF6",
            "gridcolor": "white",
            "gridwidth": 2,
            "linecolor": "white",
            "showbackground": true,
            "ticks": "",
            "zerolinecolor": "white"
           }
          },
          "shapedefaults": {
           "line": {
            "color": "#2a3f5f"
           }
          },
          "ternary": {
           "aaxis": {
            "gridcolor": "white",
            "linecolor": "white",
            "ticks": ""
           },
           "baxis": {
            "gridcolor": "white",
            "linecolor": "white",
            "ticks": ""
           },
           "bgcolor": "#E5ECF6",
           "caxis": {
            "gridcolor": "white",
            "linecolor": "white",
            "ticks": ""
           }
          },
          "title": {
           "x": 0.05
          },
          "xaxis": {
           "automargin": true,
           "gridcolor": "white",
           "linecolor": "white",
           "ticks": "",
           "title": {
            "standoff": 15
           },
           "zerolinecolor": "white",
           "zerolinewidth": 2
          },
          "yaxis": {
           "automargin": true,
           "gridcolor": "white",
           "linecolor": "white",
           "ticks": "",
           "title": {
            "standoff": 15
           },
           "zerolinecolor": "white",
           "zerolinewidth": 2
          }
         }
        },
        "title": {
         "text": "Monthly variation of historical sales"
        },
        "xaxis": {
         "title": {
          "text": "Month"
         }
        },
        "yaxis": {
         "title": {
          "text": "Sales $"
         }
        }
       }
      },
      "text/html": [
       "<div>                            <div id=\"762ef4ea-b07b-4aea-be52-791cbfa0b186\" class=\"plotly-graph-div\" style=\"height:525px; width:100%;\"></div>            <script type=\"text/javascript\">                require([\"plotly\"], function(Plotly) {                    window.PLOTLYENV=window.PLOTLYENV || {};                                    if (document.getElementById(\"762ef4ea-b07b-4aea-be52-791cbfa0b186\")) {                    Plotly.newPlot(                        \"762ef4ea-b07b-4aea-be52-791cbfa0b186\",                        [{\"line\": {\"color\": \"rgb(31, 119, 180)\"}, \"mode\": \"lines\", \"name\": \"Monthly average Sales\", \"type\": \"scatter\", \"x\": [\"Apr\", \"Aug\", \"Dec\", \"Feb\", \"Jan\", \"Jul\", \"Jun\", \"Mar\", \"May\", \"Nov\", \"Oct\", \"Sep\"], \"y\": [1942653.0112585488, 1405443.6832042828, 2280654.3680188307, 2201992.0646572825, 2339564.8463546024, 2055531.1340926609, 2189716.566523311, 1935870.8412071627, 1966540.2245464637, 2178644.078916844, 2082372.9950504813, 2131727.7509276764]}, {\"line\": {\"width\": 0}, \"marker\": {\"color\": \"#444\"}, \"mode\": \"lines\", \"name\": \"Upper Bound\", \"showlegend\": false, \"type\": \"scatter\", \"x\": [\"Apr\", \"Aug\", \"Dec\", \"Feb\", \"Jan\", \"Jul\", \"Jun\", \"Mar\", \"May\", \"Nov\", \"Oct\", \"Sep\"], \"y\": [2318141.139193554, 2247201.8758836426, 2539631.263521792, 2339972.321181195, 2491093.486697709, 2378981.9329760973, 2417277.350305684, 2212840.2013604296, 2235468.2901650704, 2365425.5403950894, 2292937.165108249, 2366410.5788677405]}, {\"fill\": \"tonexty\", \"fillcolor\": \"rgba(68, 68, 68, 0.3)\", \"line\": {\"width\": 0}, \"marker\": {\"color\": \"#444\"}, \"mode\": \"lines\", \"name\": \"Lower Bound\", \"showlegend\": false, \"type\": \"scatter\", \"x\": [\"Apr\", \"Aug\", \"Dec\", \"Feb\", \"Jan\", \"Jul\", \"Jun\", \"Mar\", \"May\", \"Nov\", \"Oct\", \"Sep\"], \"y\": [1567164.8833235435, 563685.4905249232, 2021677.4725158694, 2064011.80813337, 2188036.2060114956, 1732080.3352092241, 1962155.7827409387, 1658901.4810538958, 1697612.1589278572, 1991862.6174385983, 1871808.8249927135, 1897044.9229876124]}],                        {\"hovermode\": \"x\", \"template\": {\"data\": {\"bar\": [{\"error_x\": {\"color\": \"#2a3f5f\"}, \"error_y\": {\"color\": \"#2a3f5f\"}, \"marker\": {\"line\": {\"color\": \"#E5ECF6\", \"width\": 0.5}}, \"type\": \"bar\"}], \"barpolar\": [{\"marker\": {\"line\": {\"color\": \"#E5ECF6\", \"width\": 0.5}}, \"type\": \"barpolar\"}], \"carpet\": [{\"aaxis\": {\"endlinecolor\": \"#2a3f5f\", \"gridcolor\": \"white\", \"linecolor\": \"white\", \"minorgridcolor\": \"white\", \"startlinecolor\": \"#2a3f5f\"}, \"baxis\": {\"endlinecolor\": \"#2a3f5f\", \"gridcolor\": \"white\", \"linecolor\": \"white\", \"minorgridcolor\": \"white\", \"startlinecolor\": \"#2a3f5f\"}, \"type\": \"carpet\"}], \"choropleth\": [{\"colorbar\": {\"outlinewidth\": 0, \"ticks\": \"\"}, \"type\": \"choropleth\"}], \"contour\": [{\"colorbar\": {\"outlinewidth\": 0, \"ticks\": \"\"}, \"colorscale\": [[0.0, \"#0d0887\"], [0.1111111111111111, \"#46039f\"], [0.2222222222222222, \"#7201a8\"], [0.3333333333333333, \"#9c179e\"], [0.4444444444444444, \"#bd3786\"], [0.5555555555555556, \"#d8576b\"], [0.6666666666666666, \"#ed7953\"], [0.7777777777777778, \"#fb9f3a\"], [0.8888888888888888, \"#fdca26\"], [1.0, \"#f0f921\"]], \"type\": \"contour\"}], \"contourcarpet\": [{\"colorbar\": {\"outlinewidth\": 0, \"ticks\": \"\"}, \"type\": \"contourcarpet\"}], \"heatmap\": [{\"colorbar\": {\"outlinewidth\": 0, \"ticks\": \"\"}, \"colorscale\": [[0.0, \"#0d0887\"], [0.1111111111111111, \"#46039f\"], [0.2222222222222222, \"#7201a8\"], [0.3333333333333333, \"#9c179e\"], [0.4444444444444444, \"#bd3786\"], [0.5555555555555556, \"#d8576b\"], [0.6666666666666666, \"#ed7953\"], [0.7777777777777778, \"#fb9f3a\"], [0.8888888888888888, \"#fdca26\"], [1.0, \"#f0f921\"]], \"type\": \"heatmap\"}], \"heatmapgl\": [{\"colorbar\": {\"outlinewidth\": 0, \"ticks\": \"\"}, \"colorscale\": [[0.0, \"#0d0887\"], [0.1111111111111111, \"#46039f\"], [0.2222222222222222, \"#7201a8\"], [0.3333333333333333, \"#9c179e\"], [0.4444444444444444, \"#bd3786\"], [0.5555555555555556, \"#d8576b\"], [0.6666666666666666, \"#ed7953\"], [0.7777777777777778, \"#fb9f3a\"], [0.8888888888888888, \"#fdca26\"], [1.0, \"#f0f921\"]], \"type\": \"heatmapgl\"}], \"histogram\": [{\"marker\": {\"colorbar\": {\"outlinewidth\": 0, \"ticks\": \"\"}}, \"type\": \"histogram\"}], \"histogram2d\": [{\"colorbar\": {\"outlinewidth\": 0, \"ticks\": \"\"}, \"colorscale\": [[0.0, \"#0d0887\"], [0.1111111111111111, \"#46039f\"], [0.2222222222222222, \"#7201a8\"], [0.3333333333333333, \"#9c179e\"], [0.4444444444444444, \"#bd3786\"], [0.5555555555555556, \"#d8576b\"], [0.6666666666666666, \"#ed7953\"], [0.7777777777777778, \"#fb9f3a\"], [0.8888888888888888, \"#fdca26\"], [1.0, \"#f0f921\"]], \"type\": \"histogram2d\"}], \"histogram2dcontour\": [{\"colorbar\": {\"outlinewidth\": 0, \"ticks\": \"\"}, \"colorscale\": [[0.0, \"#0d0887\"], [0.1111111111111111, \"#46039f\"], [0.2222222222222222, \"#7201a8\"], [0.3333333333333333, \"#9c179e\"], [0.4444444444444444, \"#bd3786\"], [0.5555555555555556, \"#d8576b\"], [0.6666666666666666, \"#ed7953\"], [0.7777777777777778, \"#fb9f3a\"], [0.8888888888888888, \"#fdca26\"], [1.0, \"#f0f921\"]], \"type\": \"histogram2dcontour\"}], \"mesh3d\": [{\"colorbar\": {\"outlinewidth\": 0, \"ticks\": \"\"}, \"type\": \"mesh3d\"}], \"parcoords\": [{\"line\": {\"colorbar\": {\"outlinewidth\": 0, \"ticks\": \"\"}}, \"type\": \"parcoords\"}], \"pie\": [{\"automargin\": true, \"type\": \"pie\"}], \"scatter\": [{\"marker\": {\"colorbar\": {\"outlinewidth\": 0, \"ticks\": \"\"}}, \"type\": \"scatter\"}], \"scatter3d\": [{\"line\": {\"colorbar\": {\"outlinewidth\": 0, \"ticks\": \"\"}}, \"marker\": {\"colorbar\": {\"outlinewidth\": 0, \"ticks\": \"\"}}, \"type\": \"scatter3d\"}], \"scattercarpet\": [{\"marker\": {\"colorbar\": {\"outlinewidth\": 0, \"ticks\": \"\"}}, \"type\": \"scattercarpet\"}], \"scattergeo\": [{\"marker\": {\"colorbar\": {\"outlinewidth\": 0, \"ticks\": \"\"}}, \"type\": \"scattergeo\"}], \"scattergl\": [{\"marker\": {\"colorbar\": {\"outlinewidth\": 0, \"ticks\": \"\"}}, \"type\": \"scattergl\"}], \"scattermapbox\": [{\"marker\": {\"colorbar\": {\"outlinewidth\": 0, \"ticks\": \"\"}}, \"type\": \"scattermapbox\"}], \"scatterpolar\": [{\"marker\": {\"colorbar\": {\"outlinewidth\": 0, \"ticks\": \"\"}}, \"type\": \"scatterpolar\"}], \"scatterpolargl\": [{\"marker\": {\"colorbar\": {\"outlinewidth\": 0, \"ticks\": \"\"}}, \"type\": \"scatterpolargl\"}], \"scatterternary\": [{\"marker\": {\"colorbar\": {\"outlinewidth\": 0, \"ticks\": \"\"}}, \"type\": \"scatterternary\"}], \"surface\": [{\"colorbar\": {\"outlinewidth\": 0, \"ticks\": \"\"}, \"colorscale\": [[0.0, \"#0d0887\"], [0.1111111111111111, \"#46039f\"], [0.2222222222222222, \"#7201a8\"], [0.3333333333333333, \"#9c179e\"], [0.4444444444444444, \"#bd3786\"], [0.5555555555555556, \"#d8576b\"], [0.6666666666666666, \"#ed7953\"], [0.7777777777777778, \"#fb9f3a\"], [0.8888888888888888, \"#fdca26\"], [1.0, \"#f0f921\"]], \"type\": \"surface\"}], \"table\": [{\"cells\": {\"fill\": {\"color\": \"#EBF0F8\"}, \"line\": {\"color\": \"white\"}}, \"header\": {\"fill\": {\"color\": \"#C8D4E3\"}, \"line\": {\"color\": \"white\"}}, \"type\": \"table\"}]}, \"layout\": {\"annotationdefaults\": {\"arrowcolor\": \"#2a3f5f\", \"arrowhead\": 0, \"arrowwidth\": 1}, \"autotypenumbers\": \"strict\", \"coloraxis\": {\"colorbar\": {\"outlinewidth\": 0, \"ticks\": \"\"}}, \"colorscale\": {\"diverging\": [[0, \"#8e0152\"], [0.1, \"#c51b7d\"], [0.2, \"#de77ae\"], [0.3, \"#f1b6da\"], [0.4, \"#fde0ef\"], [0.5, \"#f7f7f7\"], [0.6, \"#e6f5d0\"], [0.7, \"#b8e186\"], [0.8, \"#7fbc41\"], [0.9, \"#4d9221\"], [1, \"#276419\"]], \"sequential\": [[0.0, \"#0d0887\"], [0.1111111111111111, \"#46039f\"], [0.2222222222222222, \"#7201a8\"], [0.3333333333333333, \"#9c179e\"], [0.4444444444444444, \"#bd3786\"], [0.5555555555555556, \"#d8576b\"], [0.6666666666666666, \"#ed7953\"], [0.7777777777777778, \"#fb9f3a\"], [0.8888888888888888, \"#fdca26\"], [1.0, \"#f0f921\"]], \"sequentialminus\": [[0.0, \"#0d0887\"], [0.1111111111111111, \"#46039f\"], [0.2222222222222222, \"#7201a8\"], [0.3333333333333333, \"#9c179e\"], [0.4444444444444444, \"#bd3786\"], [0.5555555555555556, \"#d8576b\"], [0.6666666666666666, \"#ed7953\"], [0.7777777777777778, \"#fb9f3a\"], [0.8888888888888888, \"#fdca26\"], [1.0, \"#f0f921\"]]}, \"colorway\": [\"#636efa\", \"#EF553B\", \"#00cc96\", \"#ab63fa\", \"#FFA15A\", \"#19d3f3\", \"#FF6692\", \"#B6E880\", \"#FF97FF\", \"#FECB52\"], \"font\": {\"color\": \"#2a3f5f\"}, \"geo\": {\"bgcolor\": \"white\", \"lakecolor\": \"white\", \"landcolor\": \"#E5ECF6\", \"showlakes\": true, \"showland\": true, \"subunitcolor\": \"white\"}, \"hoverlabel\": {\"align\": \"left\"}, \"hovermode\": \"closest\", \"mapbox\": {\"style\": \"light\"}, \"paper_bgcolor\": \"white\", \"plot_bgcolor\": \"#E5ECF6\", \"polar\": {\"angularaxis\": {\"gridcolor\": \"white\", \"linecolor\": \"white\", \"ticks\": \"\"}, \"bgcolor\": \"#E5ECF6\", \"radialaxis\": {\"gridcolor\": \"white\", \"linecolor\": \"white\", \"ticks\": \"\"}}, \"scene\": {\"xaxis\": {\"backgroundcolor\": \"#E5ECF6\", \"gridcolor\": \"white\", \"gridwidth\": 2, \"linecolor\": \"white\", \"showbackground\": true, \"ticks\": \"\", \"zerolinecolor\": \"white\"}, \"yaxis\": {\"backgroundcolor\": \"#E5ECF6\", \"gridcolor\": \"white\", \"gridwidth\": 2, \"linecolor\": \"white\", \"showbackground\": true, \"ticks\": \"\", \"zerolinecolor\": \"white\"}, \"zaxis\": {\"backgroundcolor\": \"#E5ECF6\", \"gridcolor\": \"white\", \"gridwidth\": 2, \"linecolor\": \"white\", \"showbackground\": true, \"ticks\": \"\", \"zerolinecolor\": \"white\"}}, \"shapedefaults\": {\"line\": {\"color\": \"#2a3f5f\"}}, \"ternary\": {\"aaxis\": {\"gridcolor\": \"white\", \"linecolor\": \"white\", \"ticks\": \"\"}, \"baxis\": {\"gridcolor\": \"white\", \"linecolor\": \"white\", \"ticks\": \"\"}, \"bgcolor\": \"#E5ECF6\", \"caxis\": {\"gridcolor\": \"white\", \"linecolor\": \"white\", \"ticks\": \"\"}}, \"title\": {\"x\": 0.05}, \"xaxis\": {\"automargin\": true, \"gridcolor\": \"white\", \"linecolor\": \"white\", \"ticks\": \"\", \"title\": {\"standoff\": 15}, \"zerolinecolor\": \"white\", \"zerolinewidth\": 2}, \"yaxis\": {\"automargin\": true, \"gridcolor\": \"white\", \"linecolor\": \"white\", \"ticks\": \"\", \"title\": {\"standoff\": 15}, \"zerolinecolor\": \"white\", \"zerolinewidth\": 2}}}, \"title\": {\"text\": \"Monthly variation of historical sales\"}, \"xaxis\": {\"title\": {\"text\": \"Month\"}}, \"yaxis\": {\"title\": {\"text\": \"Sales $\"}}},                        {\"responsive\": true}                    ).then(function(){\n",
       "                            \n",
       "var gd = document.getElementById('762ef4ea-b07b-4aea-be52-791cbfa0b186');\n",
       "var x = new MutationObserver(function (mutations, observer) {{\n",
       "        var display = window.getComputedStyle(gd).display;\n",
       "        if (!display || display === 'none') {{\n",
       "            console.log([gd, 'removed!']);\n",
       "            Plotly.purge(gd);\n",
       "            observer.disconnect();\n",
       "        }}\n",
       "}});\n",
       "\n",
       "// Listen for the removal of the full notebook cells\n",
       "var notebookContainer = gd.closest('#notebook-container');\n",
       "if (notebookContainer) {{\n",
       "    x.observe(notebookContainer, {childList: true});\n",
       "}}\n",
       "\n",
       "// Listen for the clearing of the current output cell\n",
       "var outputEl = gd.closest('.output');\n",
       "if (outputEl) {{\n",
       "    x.observe(outputEl, {childList: true});\n",
       "}}\n",
       "\n",
       "                        })                };                });            </script>        </div>"
      ]
     },
     "metadata": {},
     "output_type": "display_data"
    }
   ],
   "source": [
    "x='Month'\n",
    "y1='month_AvgSales'\n",
    "y2='Sales UB'\n",
    "y3='Sales LB'\n",
    "xlabel=\"Month\"\n",
    "ylabel=\"Sales $\"\n",
    "ttl='Monthly variation of historical sales'\n",
    "tserrorbounds(df02[df02['State']=='VIC'],x,y1,y2,y3,xlabel,ylabel,ttl)"
   ]
  },
  {
   "cell_type": "markdown",
   "metadata": {},
   "source": [
    "## Box plot"
   ]
  },
  {
   "cell_type": "code",
   "execution_count": 20,
   "metadata": {},
   "outputs": [
    {
     "data": {
      "application/vnd.plotly.v1+json": {
       "config": {
        "plotlyServerURL": "https://plot.ly"
       },
       "data": [
        {
         "alignmentgroup": "True",
         "hovertemplate": "Month=%{x}<br>Sales=%{y}<extra></extra>",
         "legendgroup": "",
         "marker": {
          "color": "#636efa"
         },
         "name": "",
         "notched": false,
         "offsetgroup": "",
         "orientation": "v",
         "showlegend": false,
         "type": "box",
         "x": [
          "Sep",
          "Sep",
          "Sep",
          "Sep",
          "Oct",
          "Oct",
          "Oct",
          "Oct",
          "Oct",
          "Nov",
          "Nov",
          "Nov",
          "Nov",
          "Dec",
          "Dec",
          "Dec",
          "Dec",
          "Dec",
          "Jan",
          "Jan",
          "Jan",
          "Jan",
          "Feb",
          "Feb",
          "Feb",
          "Feb",
          "Mar",
          "Mar",
          "Mar",
          "Mar",
          "Apr",
          "Apr",
          "Apr",
          "Apr",
          "Apr",
          "May",
          "May",
          "May",
          "May",
          "Jun",
          "Jun",
          "Jun",
          "Jun",
          "Jul",
          "Jul",
          "Jul",
          "Jul",
          "Jul",
          "Aug",
          "Aug",
          "Aug",
          "Aug",
          "Sep",
          "Sep",
          "Sep",
          "Sep",
          "Sep",
          "Oct",
          "Oct",
          "Oct",
          "Oct",
          "Nov",
          "Nov",
          "Nov",
          "Nov",
          "Dec",
          "Dec",
          "Dec",
          "Dec",
          "Dec",
          "Jan",
          "Jan",
          "Jan",
          "Jan",
          "Feb",
          "Feb",
          "Feb",
          "Feb",
          "Mar",
          "Mar",
          "Mar",
          "Mar",
          "Mar",
          "Apr",
          "Apr",
          "Apr",
          "Apr",
          "May",
          "May",
          "May",
          "May",
          "Jun",
          "Jun",
          "Jun",
          "Jun",
          "Jun",
          "Jul",
          "Jul",
          "Jul",
          "Jul",
          "Aug",
          "Aug",
          "Aug",
          "Aug",
          "Sep",
          "Sep",
          "Sep",
          "Sep",
          "Sep",
          "Oct",
          "Oct",
          "Oct",
          "Oct",
          "Nov",
          "Nov",
          "Nov",
          "Nov",
          "Dec",
          "Dec",
          "Dec",
          "Dec",
          "Dec",
          "Jan",
          "Jan",
          "Jan",
          "Jan",
          "Feb",
          "Feb",
          "Feb",
          "Feb",
          "Mar",
          "Mar",
          "Mar",
          "Mar",
          "Mar",
          "Apr",
          "Apr",
          "Apr",
          "Apr",
          "May",
          "May",
          "May",
          "May",
          "May",
          "Jun",
          "Jun",
          "Jun",
          "Jun",
          "Jul",
          "Jul",
          "Jul",
          "Jul",
          "Aug",
          "Aug",
          "Aug",
          "Aug",
          "Sep",
          "Sep",
          "Sep",
          "Sep",
          "Oct",
          "Oct",
          "Oct",
          "Oct",
          "Oct",
          "Nov",
          "Nov",
          "Nov",
          "Nov",
          "Dec",
          "Dec",
          "Dec",
          "Dec",
          "Dec",
          "Jan",
          "Jan",
          "Jan",
          "Jan",
          "Feb",
          "Feb",
          "Feb",
          "Feb",
          "Mar",
          "Mar",
          "Mar",
          "Mar",
          "Apr",
          "Apr",
          "Apr",
          "Apr",
          "Apr",
          "May",
          "May",
          "May",
          "May",
          "Jun",
          "Jun",
          "Jun",
          "Jun",
          "Jul",
          "Jul",
          "Jul",
          "Jul",
          "Jul",
          "Aug",
          "Aug",
          "Aug",
          "Aug",
          "Sep",
          "Sep",
          "Sep",
          "Sep",
          "Sep",
          "Oct",
          "Oct",
          "Oct",
          "Oct",
          "Nov",
          "Nov",
          "Nov",
          "Nov",
          "Dec",
          "Dec",
          "Dec",
          "Dec",
          "Dec",
          "Jan",
          "Jan",
          "Jan",
          "Jan",
          "Feb",
          "Feb",
          "Feb",
          "Feb",
          "Mar",
          "Mar",
          "Mar",
          "Mar",
          "Mar",
          "Apr",
          "Apr",
          "Apr",
          "Apr",
          "May",
          "May",
          "May",
          "May",
          "Jun",
          "Jun",
          "Jun",
          "Jun",
          "Jun",
          "Jul",
          "Jul",
          "Jul",
          "Jul",
          "Aug",
          "Aug",
          "Aug",
          "Aug",
          "Sep",
          "Sep",
          "Sep",
          "Sep",
          "Sep",
          "Oct",
          "Oct",
          "Oct",
          "Oct",
          "Nov",
          "Nov",
          "Nov",
          "Nov",
          "Dec",
          "Dec",
          "Dec",
          "Dec",
          "Dec",
          "Jan",
          "Jan",
          "Jan",
          "Jan",
          "Feb",
          "Feb",
          "Feb",
          "Feb",
          "Mar",
          "Mar",
          "Mar",
          "Mar",
          "Mar",
          "Apr",
          "Apr",
          "Apr",
          "Apr",
          "May",
          "May",
          "May",
          "May",
          "May",
          "Jun",
          "Jun",
          "Jun",
          "Jun",
          "Jul",
          "Jul",
          "Jul",
          "Jul",
          "Aug",
          "Aug",
          "Aug",
          "Aug",
          "Sep",
          "Sep",
          "Sep",
          "Sep",
          "Oct",
          "Oct",
          "Oct",
          "Oct",
          "Oct",
          "Nov",
          "Nov",
          "Nov",
          "Nov",
          "Dec",
          "Dec",
          "Dec",
          "Dec",
          "Dec",
          "Jan",
          "Jan",
          "Jan",
          "Jan",
          "Feb",
          "Feb",
          "Feb",
          "Feb",
          "Mar",
          "Mar",
          "Mar",
          "Mar",
          "Apr",
          "Apr",
          "Apr",
          "Apr",
          "Apr",
          "May",
          "May",
          "May",
          "May",
          "Jun",
          "Jun",
          "Jun",
          "Jun",
          "Jul",
          "Jul",
          "Jul",
          "Jul",
          "Jul",
          "Aug",
          "Aug",
          "Aug",
          "Aug",
          "Sep",
          "Sep",
          "Sep",
          "Sep",
          "Sep",
          "Oct",
          "Oct",
          "Oct",
          "Oct",
          "Nov",
          "Nov",
          "Nov",
          "Nov",
          "Dec",
          "Dec",
          "Dec",
          "Dec",
          "Dec",
          "Jan",
          "Jan",
          "Jan",
          "Jan",
          "Feb",
          "Feb",
          "Feb",
          "Feb",
          "Mar",
          "Mar",
          "Mar",
          "Mar",
          "Mar",
          "Apr",
          "Apr",
          "Apr",
          "Apr",
          "May",
          "May",
          "May",
          "May",
          "Jun",
          "Jun",
          "Jun",
          "Jun",
          "Jun",
          "Jul",
          "Jul",
          "Jul",
          "Jul",
          "Aug",
          "Aug",
          "Aug",
          "Aug",
          "Sep",
          "Sep",
          "Sep",
          "Sep",
          "Sep",
          "Oct",
          "Oct",
          "Oct",
          "Oct",
          "Nov",
          "Nov",
          "Nov",
          "Nov",
          "Dec",
          "Dec",
          "Dec",
          "Dec",
          "Dec",
          "Jan",
          "Jan",
          "Jan",
          "Jan",
          "Feb",
          "Feb",
          "Feb",
          "Feb",
          "Mar",
          "Mar",
          "Mar",
          "Mar",
          "Mar",
          "Apr",
          "Apr",
          "Apr",
          "Apr",
          "May",
          "May",
          "May",
          "May",
          "May",
          "Jun",
          "Jun",
          "Jun",
          "Jun",
          "Jul",
          "Jul",
          "Jul",
          "Jul",
          "Aug",
          "Aug",
          "Aug",
          "Aug",
          "Apr",
          "Apr",
          "Apr",
          "Apr",
          "May",
          "May",
          "May",
          "May",
          "Jun",
          "Jun",
          "Jun",
          "Jun",
          "Jul",
          "Jul",
          "Jul",
          "Jul",
          "Jul",
          "Aug",
          "Aug",
          "Aug",
          "Aug",
          "Sep",
          "Sep",
          "Sep",
          "Sep",
          "Sep",
          "Oct",
          "Oct",
          "Oct",
          "Oct",
          "Nov",
          "Nov",
          "Nov",
          "Nov",
          "Dec",
          "Dec",
          "Dec",
          "Dec",
          "Dec",
          "Jan",
          "Jan",
          "Jan",
          "Jan",
          "Feb",
          "Feb",
          "Feb",
          "Feb",
          "Mar",
          "Mar",
          "Mar",
          "Mar",
          "Mar",
          "Apr",
          "Apr",
          "Apr",
          "Apr",
          "May",
          "May",
          "May",
          "May",
          "Jun",
          "Jun",
          "Jun",
          "Jun",
          "Jun",
          "Jul",
          "Jul",
          "Jul",
          "Jul",
          "Aug",
          "Aug",
          "Aug",
          "Aug",
          "Sep",
          "Sep",
          "Sep",
          "Sep",
          "Sep",
          "Oct",
          "Oct",
          "Oct",
          "Oct",
          "Nov",
          "Nov",
          "Nov",
          "Nov",
          "Dec",
          "Dec",
          "Dec",
          "Dec",
          "Dec",
          "Jan",
          "Jan",
          "Jan",
          "Jan",
          "Feb",
          "Feb",
          "Feb",
          "Feb",
          "Mar",
          "Mar",
          "Mar",
          "Mar",
          "Mar",
          "Apr",
          "Apr",
          "Apr",
          "Apr",
          "May",
          "May",
          "May",
          "May",
          "May",
          "Jun",
          "Jun",
          "Jun",
          "Jun",
          "Jul",
          "Jul",
          "Jul",
          "Jul",
          "Aug",
          "Aug",
          "Aug",
          "Aug",
          "Sep",
          "Sep",
          "Sep",
          "Sep",
          "Oct",
          "Oct",
          "Oct",
          "Oct",
          "Oct",
          "Nov",
          "Nov",
          "Nov",
          "Nov",
          "Dec",
          "Dec",
          "Dec",
          "Dec",
          "Dec",
          "Jan",
          "Jan",
          "Jan",
          "Jan",
          "Feb",
          "Feb",
          "Feb",
          "Feb",
          "Mar",
          "Mar",
          "Mar",
          "Mar",
          "Apr",
          "Apr",
          "Apr",
          "Apr",
          "Apr",
          "May",
          "May",
          "May",
          "May",
          "Jun",
          "Jun",
          "Jun",
          "Jun",
          "Jul",
          "Jul",
          "Jul",
          "Jul",
          "Jul",
          "Aug",
          "Aug",
          "Aug",
          "Aug",
          "Sep",
          "Sep",
          "Sep",
          "Sep",
          "Sep",
          "Oct",
          "Oct",
          "Oct",
          "Oct",
          "Nov",
          "Nov",
          "Nov",
          "Nov",
          "Dec",
          "Dec",
          "Dec",
          "Dec",
          "Dec",
          "Jan",
          "Jan",
          "Jan",
          "Jan",
          "Feb",
          "Feb",
          "Feb",
          "Feb",
          "Mar",
          "Mar",
          "Mar",
          "Mar",
          "Mar",
          "Apr",
          "Apr",
          "Apr",
          "Apr",
          "May",
          "May",
          "May",
          "May",
          "Jun",
          "Jun",
          "Jun",
          "Jun",
          "Jun",
          "Jul",
          "Jul",
          "Jul",
          "Jul",
          "Aug",
          "Aug",
          "Aug",
          "Aug",
          "Sep",
          "Sep",
          "Sep",
          "Sep",
          "Sep",
          "Oct",
          "Oct",
          "Oct",
          "Oct",
          "Nov",
          "Nov",
          "Nov",
          "Nov",
          "Dec",
          "Dec",
          "Dec",
          "Dec",
          "Dec",
          "Jan",
          "Jan",
          "Jan",
          "Jan",
          "Feb",
          "Feb",
          "Feb",
          "Feb",
          "Mar",
          "Mar",
          "Mar",
          "Mar",
          "Mar",
          "Apr",
          "Apr",
          "Apr",
          "Apr",
          "May",
          "May",
          "May",
          "May",
          "May",
          "Jun",
          "Jun",
          "Jun",
          "Jun",
          "Jul",
          "Jul",
          "Jul",
          "Jul",
          "Aug",
          "Aug",
          "Aug",
          "Aug",
          "Apr",
          "Apr",
          "Apr",
          "Apr",
          "Apr",
          "May",
          "May",
          "May",
          "May",
          "Jun",
          "Jun",
          "Jun",
          "Jun",
          "Jul",
          "Jul",
          "Jul",
          "Jul",
          "Jul",
          "Aug",
          "Aug",
          "Aug",
          "Aug",
          "Sep",
          "Sep",
          "Sep",
          "Sep",
          "Sep",
          "Oct",
          "Oct",
          "Oct",
          "Oct",
          "Nov",
          "Nov",
          "Nov",
          "Nov",
          "Dec",
          "Dec",
          "Dec",
          "Dec",
          "Dec",
          "Jan",
          "Jan",
          "Jan",
          "Jan",
          "Feb",
          "Feb",
          "Feb",
          "Feb",
          "Mar",
          "Mar",
          "Mar",
          "Mar",
          "Mar",
          "Apr",
          "Apr",
          "Apr",
          "Apr",
          "May",
          "May",
          "May",
          "May",
          "Jun",
          "Jun",
          "Jun",
          "Jun",
          "Jun",
          "Jul",
          "Jul",
          "Jul",
          "Jul",
          "Aug",
          "Aug",
          "Aug",
          "Aug",
          "Sep",
          "Sep",
          "Sep",
          "Sep",
          "Sep",
          "Oct",
          "Oct",
          "Oct",
          "Oct",
          "Nov",
          "Nov",
          "Nov",
          "Nov",
          "Dec",
          "Dec",
          "Dec",
          "Dec",
          "Dec",
          "Jan",
          "Jan",
          "Jan",
          "Jan",
          "Feb",
          "Feb",
          "Feb",
          "Feb",
          "Mar",
          "Mar",
          "Mar",
          "Mar",
          "Mar",
          "Apr",
          "Apr",
          "Apr",
          "Apr",
          "May",
          "May",
          "May",
          "May",
          "May",
          "Jun",
          "Jun",
          "Jun",
          "Jun",
          "Jul",
          "Jul",
          "Jul",
          "Jul",
          "Aug",
          "Aug",
          "Aug",
          "Aug"
         ],
         "x0": " ",
         "xaxis": "x",
         "y": [
          454505.5375427785,
          480922.4681314023,
          442120.9570010478,
          614161.3280557629,
          573988.744290248,
          466411.4873569101,
          575677.5519533862,
          478536.0738202567,
          490950.1306416955,
          458841.7608109359,
          497614.0522966317,
          522541.6338910526,
          512728.5092110469,
          581790.933971901,
          538689.7785409833,
          603831.8797390879,
          611642.3336761048,
          661256.3544514364,
          614483.7512476275,
          564046.6048345199,
          599849.9407278548,
          563327.6385958384,
          539383.2226870244,
          465661.0216568092,
          495986.7961048419,
          448421.5997257916,
          446623.6534469067,
          501089.937816209,
          414056.4131695812,
          436317.2794909275,
          499790.5147760394,
          439945.471144305,
          497025.4832934965,
          515167.1689122569,
          431483.3375085416,
          433090.4202947091,
          418630.337470207,
          421646.6221637158,
          473770.0059273121,
          452811.1176765992,
          528988.6824766202,
          479178.7790022149,
          543856.9887167324,
          502527.8904788496,
          550195.8717375096,
          587563.7122998445,
          493150.7197184591,
          471170.2589023164,
          468857.9123391861,
          484581.3811286866,
          447790.5176692519,
          450784.944274955,
          474514.7134835325,
          455111.5185876278,
          452136.8047693413,
          526127.1978056179,
          615581.7485535417,
          526651.524694211,
          547165.6119281005,
          486649.649130376,
          436648.2935190714,
          469922.9821370994,
          490827.1380079355,
          537654.2014947773,
          536135.1115711568,
          478120.8636629163,
          505845.549018945,
          546843.3845500132,
          573997.5241050302,
          693788.4703966628,
          588263.4749914716,
          533921.2071996923,
          509951.1510951616,
          577920.775327574,
          490068.311036153,
          498857.0690016284,
          490396.819260065,
          465314.0320098262,
          439179.3469201128,
          484016.3841036099,
          432037.6295649954,
          455095.069215073,
          454306.03814332,
          471657.3229200958,
          501081.0906050984,
          618648.6788841161,
          404869.9758945088,
          394396.9488975088,
          393897.592566198,
          396753.2021103232,
          476042.5303707364,
          414711.4887495788,
          476687.766147064,
          462354.1917032981,
          506840.8604006143,
          484262.601927169,
          542177.4352041754,
          571389.540798124,
          453069.6618826015,
          468326.5044342316,
          444568.4755300839,
          448361.8619566447,
          442939.0744452621,
          443413.7061418867,
          431621.8937506067,
          438662.8536481229,
          442381.892346695,
          421946.1367129548,
          536924.4162539764,
          551575.1313889401,
          452742.9401760062,
          440671.8113022766,
          438424.2405207276,
          524237.6436420939,
          502986.2430753183,
          523678.2536080267,
          544077.9283634855,
          485728.1837003603,
          475301.3365999425,
          499375.4026998025,
          556849.2358228553,
          597075.0136013681,
          521536.4506043365,
          565854.2128038037,
          501635.7704362937,
          514592.0318385925,
          502951.3917628974,
          493995.8218335877,
          462329.0693709616,
          462619.2424788662,
          447645.9068106326,
          480412.0799410933,
          479545.515253911,
          478174.5515566735,
          345116.3429841545,
          368523.036063622,
          436571.0538314994,
          455092.7219214196,
          572520.6357611774,
          517235.2849160776,
          539847.2519793534,
          608463.0848899594,
          609804.8748353553,
          562637.7265698756,
          562835.2360615823,
          563458.8424821763,
          623480.4126546595,
          647100.0067067127,
          635751.0916838956,
          641562.153849845,
          561381.8813274757,
          563310.2900264057,
          568197.1793650365,
          592292.52902208,
          587753.1335696278,
          571834.0986081482,
          2634368.840183024,
          2760182.669930118,
          2770334.092689774,
          3176641.243278258,
          3264356.044595119,
          2869931.609129978,
          3324068.967269962,
          2932100.11279284,
          2833044.190054961,
          2711729.268880063,
          2769392.027306489,
          2685361.008361685,
          2708259.27072389,
          2708928.649296758,
          2591538.293501503,
          2824538.681211269,
          3139001.982756743,
          3267604.434809093,
          2967120.845967592,
          2955578.98849901,
          2972358.186651,
          2685321.195192046,
          2606375.65915893,
          2535183.676399176,
          2720039.218890184,
          2874615.231815928,
          2718254.401503748,
          2588530.159090815,
          2425536.830097856,
          2373594.915467833,
          2277273.849680846,
          2342689.724580286,
          2626058.708062707,
          2885867.13373568,
          2480101.899251407,
          2396998.95681908,
          2206241.951593115,
          2267188.962317278,
          2306777.045018571,
          2466560.851095221,
          2698677.587325904,
          2585387.279373,
          2902648.542579825,
          2635355.652642215,
          3003952.570769249,
          3107060.768167735,
          2614437.290611091,
          2533028.918811129,
          2503232.052811027,
          2407668.718695499,
          2568656.467749375,
          2566002.860443762,
          2637542.77230812,
          2497129.139631405,
          2582038.535615719,
          2721972.898203935,
          3194284.660691672,
          2849754.134712133,
          2976573.543000213,
          2641698.312798798,
          2473220.947057426,
          2489937.094243774,
          2628412.960279277,
          2777864.045104836,
          2743092.531527222,
          2479732.522722125,
          2498179.236194718,
          2650415.988756866,
          2829730.337627514,
          3199229.247254669,
          2965153.067095987,
          2700601.323781384,
          2752983.760156098,
          2908017.642712957,
          2393248.815399134,
          2601796.372923764,
          2816764.091487347,
          2706821.881260899,
          2488000.731786813,
          2431546.562163545,
          2293915.175271454,
          2374437.704836953,
          2290643.888921742,
          2303084.746520452,
          2667261.281390637,
          2926976.797311885,
          2246979.393866457,
          2194879.158025778,
          2074167.188045989,
          2189993.905197012,
          2192346.341715035,
          2283798.333151146,
          2474775.642198499,
          2258362.0058612,
          2612628.542620118,
          2498177.779799757,
          2779525.406261482,
          2831082.299887066,
          2400010.702203261,
          2431621.266151989,
          2416853.005066616,
          2343154.215106094,
          2310535.502308555,
          2453948.263104522,
          2297872.454003762,
          2419297.036745709,
          2402847.39247223,
          2492744.652081301,
          2867760.597305155,
          2973968.438278548,
          2334842.709824163,
          2309118.541051005,
          2285584.819806868,
          2603077.282701191,
          2551206.870508204,
          2526078.735916106,
          2657056.073255902,
          2513572.914824786,
          2429701.081540268,
          2614876.439223284,
          2882788.294725833,
          3284553.828919528,
          2881038.699104385,
          2859809.100474077,
          2731322.770021687,
          2404740.069038821,
          2431564.151396827,
          2377516.143491353,
          2608994.743909604,
          2516576.09839022,
          2379023.177337916,
          2315196.40272791,
          2456017.720800763,
          2220530.568650034,
          1701011.572556342,
          1761310.019759649,
          2001726.815884218,
          2301765.934298746,
          2651172.772551851,
          2743252.038333858,
          2853330.470262835,
          3140282.498625233,
          3233130.237391281,
          2837332.082418947,
          3159768.506027024,
          3069332.639419259,
          3235238.668231891,
          3293143.103421631,
          3428334.409442499,
          3409453.198293967,
          2749988.691673775,
          2761366.61097433,
          2873655.990786887,
          2773094.180603982,
          2718479.208870341,
          2785053.865600151,
          1456749.821680669,
          1534787.689347492,
          1774839.88347618,
          1753178.898349389,
          1691050.513187018,
          1507033.432421429,
          1956695.427289216,
          1648118.386818791,
          1534104.740191472,
          1568471.932253168,
          1688016.093833182,
          1605426.150268957,
          1638023.181773366,
          1610021.26414592,
          1665792.631000376,
          1655232.307499588,
          1815848.869384465,
          1968391.071732298,
          1755162.380699401,
          1629537.189071234,
          1595061.987089272,
          1543900.35979147,
          1622902.254502431,
          1469509.094261891,
          1555863.718180119,
          1472956.492495561,
          1503381.881944096,
          1526487.825585188,
          1421150.949279774,
          1375277.156382017,
          1642219.133245151,
          1531576.404075768,
          1342945.324496384,
          1333821.055650478,
          1426081.783077653,
          1189413.185666636,
          1309141.164662231,
          1328817.968454379,
          1403321.867336487,
          1416861.672395708,
          1397492.448613371,
          1602144.160934377,
          1797459.868533632,
          1827154.183807981,
          1967372.385809524,
          1639003.453335985,
          1544004.085250225,
          1535332.476008081,
          1462526.615880833,
          1633045.715241883,
          1453677.514997708,
          1566857.324099025,
          1507040.970986787,
          1500157.605232932,
          1470746.067295998,
          1795086.600222788,
          1846409.386916161,
          1482298.166746099,
          1858735.458407412,
          1454633.223085482,
          1359207.536770366,
          1463013.997196933,
          1490896.909712704,
          1763867.974841653,
          1532319.95840338,
          1449834.925151109,
          1458036.880449054,
          1558378.200347072,
          1605247.042552714,
          2002828.751784388,
          1657915.737934858,
          1601454.993859546,
          1483636.053363327,
          1567159.868827462,
          1438329.882629128,
          1374760.422996332,
          1492654.393962838,
          1461048.638665069,
          1327976.341461795,
          1334490.303921555,
          1316664.331294548,
          1373770.744418486,
          1323576.782596606,
          1654427.42205194,
          1594175.910451714,
          1676458.619381744,
          1375497.584773819,
          1187534.732224661,
          1224850.262441781,
          1229307.00406177,
          1208459.536688026,
          1343753.958270939,
          1323108.100584083,
          1379676.677990926,
          1632373.080446712,
          1656075.311820859,
          1709375.744867692,
          1603322.806574652,
          1479491.473559025,
          1477875.569902922,
          1415485.685571061,
          1528399.089550004,
          1386056.499767869,
          1435886.342924406,
          1278234.415688925,
          1330873.566445217,
          1404568.937617396,
          1604997.169882492,
          1666193.96166078,
          1561122.32832615,
          1402166.074982404,
          1388613.046347617,
          1406763.730186666,
          1511576.258024004,
          1512120.27588973,
          1475401.951366117,
          1543189.18018134,
          1484399.693175397,
          1467696.625796469,
          1537257.299141634,
          1581484.646226852,
          2056957.858462906,
          1628218.821743747,
          1695370.622457228,
          1561296.683547747,
          1410114.362203361,
          1408628.515268111,
          1412105.905554767,
          1409634.897464058,
          1418293.485998195,
          1305164.304014362,
          1302575.473703268,
          1201520.335257932,
          1110406.118750007,
          922123.1204248591,
          944317.2157832992,
          1186213.619117522,
          1074705.012568912,
          1702624.973825812,
          1669242.69398891,
          1725955.375488056,
          2053087.684033857,
          2013970.126972645,
          1904467.812753475,
          1910878.373662383,
          1904510.761670838,
          2086928.612175911,
          2184875.449400435,
          2187607.983157181,
          2234889.898019568,
          2223249.674250581,
          2027476.864124658,
          1857994.951040521,
          2158145.842390456,
          1874397.593467169,
          1592760.490111639,
          400865.5942368279,
          657233.7868671131,
          663677.2143339734,
          586027.4336904192,
          549508.9887556235,
          561596.514841827,
          538847.9890731517,
          580693.5707913288,
          611636.3615496675,
          730999.3000280409,
          620624.6182406824,
          673308.7695076725,
          640879.9332476843,
          835080.9209669736,
          809889.1239521452,
          644632.8203335684,
          623623.6896600793,
          601153.6528157123,
          669096.4673406447,
          656940.5545830046,
          651868.7782019061,
          610145.5960299784,
          616001.7629429558,
          643527.1579614445,
          662525.5101869374,
          767026.4713161901,
          669035.780101513,
          759179.1255445003,
          635173.1038493847,
          579860.9171817292,
          646444.6614734804,
          642961.0204111884,
          686086.3042189177,
          676449.4860504445,
          636530.8240177674,
          661589.6985084334,
          764980.9053404232,
          685639.1505879486,
          859353.8958398572,
          776983.283209589,
          706731.9468155468,
          689287.5108206666,
          719564.5447115924,
          649520.7273119265,
          612474.2216339682,
          636954.4281801987,
          612651.6904970894,
          574001.8347836128,
          657814.5355982888,
          550170.7159371822,
          606711.5232173917,
          575770.9589081992,
          585792.345872728,
          627905.9280798291,
          761489.2692836208,
          554482.4095072198,
          547822.3661821211,
          510171.4485890071,
          528341.5983173335,
          562660.9114362687,
          595025.6970072171,
          620087.1045860146,
          574527.2682491948,
          607934.0837037407,
          639633.0362748061,
          787467.9700340193,
          846392.3945183943,
          651181.922916776,
          622997.8517348194,
          604555.8197024338,
          591304.7999840134,
          587226.9912214716,
          606485.5090474456,
          556901.9528593548,
          596379.967943838,
          596801.0934227039,
          609629.2295615955,
          718871.6587508591,
          757114.8489928043,
          592081.1603419567,
          576436.2141359748,
          594374.417906475,
          673934.1718955361,
          655740.7612358754,
          575697.6414526319,
          689475.940551434,
          626931.51197009,
          656033.5183385262,
          650507.5085346429,
          682928.09250898,
          862438.1379979082,
          783664.6525817156,
          735173.3584425402,
          733682.57217429,
          649208.8228957779,
          624552.8081683754,
          626204.594176703,
          628911.0188964136,
          641206.752238481,
          616955.852229958,
          645876.0196360071,
          550431.5057676043,
          519699.6367647689,
          434968.4837425775,
          463984.1050517507,
          572831.4525708881,
          662540.9371899619,
          795170.2510771989,
          760702.1941571732,
          733559.4535173527,
          831052.0951193497,
          793419.3120327003,
          718261.8280106776,
          724039.3751556986,
          768001.7118540583,
          782321.9921927159,
          851777.2232811713,
          947364.0192535142,
          994487.5326324198,
          867503.7458149143,
          803199.6537399931,
          806256.3294526666,
          833751.1414029963,
          853024.7153598325,
          756391.4052443217,
          2173977.032103576,
          2155545.919121663,
          2094841.011162552,
          2535675.241826159,
          2277493.607088,
          2090769.646315287,
          2406385.618249251,
          2321607.038115114,
          2227304.303168017,
          2474567.442304043,
          2079246.102508494,
          2155092.972983506,
          2170995.596594645,
          2311007.000114306,
          2200351.355759795,
          2226552.999406351,
          2569976.924285516,
          2703696.420633273,
          2633425.684279039,
          2441590.702176922,
          2550230.036771949,
          2319860.821588857,
          2305724.717296751,
          2370859.551373887,
          2451106.908758114,
          2273881.087206302,
          2201063.984329701,
          2401900.135853213,
          2020154.924455441,
          1982375.328382093,
          2483149.658817093,
          2142913.399136052,
          1944490.194422666,
          2147764.540921825,
          1992149.34962534,
          1959592.491759138,
          1847383.400213798,
          1910937.959403426,
          1898237.871921008,
          2007181.390823723,
          2222416.604624206,
          2111350.165408474,
          2509343.295742664,
          2450833.459168972,
          2550019.662793044,
          2313008.254098248,
          2196070.137978665,
          2132653.526082675,
          2135261.484636801,
          2096010.598244163,
          1928359.995514112,
          1961862.905673692,
          1928044.768737992,
          2027238.264860422,
          1988308.729183352,
          2651288.257257362,
          2211910.062609156,
          1841606.550781404,
          2340974.309839563,
          2081153.584779695,
          1945009.321956953,
          2376393.022871379,
          2039072.683144861,
          2124476.198871993,
          2075552.517656174,
          2055818.186120559,
          2034019.500056891,
          2113241.845557682,
          2187942.357937597,
          2682474.05173244,
          2272346.405283296,
          2168463.14515707,
          2178356.796107219,
          2317152.911697342,
          1985256.803878911,
          2057109.750094871,
          2258835.510022541,
          2216759.019099752,
          1997952.079035663,
          2147760.302149362,
          1787288.858660694,
          1914185.829273157,
          1865379.410202064,
          2094467.535230382,
          2018008.918502097,
          2568052.56824491,
          1779656.909040528,
          1722448.613671838,
          1657780.992908588,
          1752500.806801457,
          1782254.168300464,
          1847675.897674954,
          2033234.377621999,
          1862298.878673657,
          2051178.251334092,
          2151699.536727613,
          2256548.294197786,
          2086616.765145305,
          1978913.478295632,
          1946932.960311908,
          1963266.508336586,
          1854653.479729932,
          1836769.413827782,
          1849765.487929735,
          1859628.511194323,
          1916279.930440686,
          1910292.637399483,
          2300727.711495953,
          2090430.435594788,
          1806228.030073318,
          1879606.812678967,
          1904957.147936894,
          1947752.964673786,
          2557737.929951426,
          2036592.755721962,
          1984176.779989305,
          2069824.944404338,
          2051208.77507349,
          2030062.480177317,
          2026438.780978565,
          2317947.2075929,
          2699077.634855784,
          2459248.99120319,
          2304847.776112456,
          2259382.09983543,
          2169872.786042465,
          2056900.449469137,
          2131372.68290389,
          2186388.187919467,
          2129710.107863768,
          1974105.614269987,
          2089247.921319393,
          1872791.91739453,
          1612683.336626691,
          1235302.134948292,
          1294007.234255016,
          1456142.571636864,
          1494888.586703174,
          1838797.679825191,
          1820176.199552675,
          1992516.726593521,
          2380274.942899977,
          2474395.449158682,
          2366523.295919454,
          2414120.51889532,
          2393014.988591331,
          2410339.456042459,
          2452462.002642554,
          2052963.758172008,
          1748782.736679036,
          1474484.029808089,
          1534077.680473221,
          923406.3721405836,
          101105.8778725927,
          137552.9633831789,
          77309.11116223564,
          770294.9737615981,
          919437.2439854394,
          1129704.862070959,
          1027685.613751038,
          976021.2941384722,
          947474.3031400068,
          926734.7707004084,
          939314.2848296785,
          1037653.165741358,
          1042241.692120809,
          1007671.178662462,
          1064820.623453255,
          1134927.541729526,
          1202726.947343207,
          1265155.285260032,
          1193814.781499005,
          1112481.24125399,
          1125611.966440368,
          1075246.459425593,
          1016763.425038738,
          1028741.205776156,
          1031974.520451041,
          1012854.154555203,
          1014292.057015475,
          1020549.691470501,
          1229749.169073341,
          1178092.272604025,
          1037496.322159593,
          1231892.204782497,
          1062318.022969897,
          1007305.492034842,
          1062245.747119074,
          1117332.776382334,
          1242202.556330491,
          1175279.438227872,
          1062804.266890284,
          1028223.62901654,
          1113662.653377824,
          1093936.478538533,
          1314052.538065806,
          1099475.609432149,
          1165249.310981606,
          1143605.144547776,
          1135066.174054666,
          988897.9696313373,
          983359.7467489883,
          1006985.418135264,
          1004537.895405184,
          1031682.322477833,
          933298.0515579176,
          918947.4262138959,
          963878.3890463642,
          999712.7315019409,
          1033663.180163449,
          1122749.257956435,
          1163351.558520483,
          966267.9037711167,
          937348.7476006718,
          912838.2353666924,
          919850.7362910638,
          965972.2002541064,
          962986.4003331241,
          950394.8417318636,
          971775.7984825049,
          1071445.144963326,
          1054347.983245121,
          1224086.549076284,
          1254587.65174255,
          1086151.76788414,
          1074235.608999317,
          1044329.951975798,
          1008600.558081617,
          1026179.868181753,
          1024166.182240155,
          990612.4935780433,
          968021.0489546586,
          962613.9683998523,
          1024338.940097731,
          1198266.047125181,
          1134747.252044384,
          1017575.810739616,
          1018053.610999822,
          1002744.028979319,
          1075291.176284906,
          1102402.460359027,
          1098636.599916505,
          1097397.594211326,
          1020380.036712058,
          1053366.402333025,
          1043146.891437367,
          1033827.500736153,
          1412568.351994483,
          1152209.454915632,
          1120015.964468578,
          1188675.190409752,
          1028121.740348111,
          1042965.415979692,
          1024707.311044681,
          1023792.988866948,
          1003042.477310696,
          1019547.988475308,
          924003.8583653866,
          978775.95326941,
          901311.0198578313,
          663962.0612222215,
          686500.575832631,
          866084.044033757,
          782932.9481527813,
          1161703.651907744,
          1096142.996858809,
          1108498.679264195,
          1229172.47358018,
          1145625.471834579,
          1167187.236680397,
          1109709.715788086,
          1186871.637307797,
          1259688.225141553,
          1316347.087654828,
          1449490.280263191,
          1495237.554726775,
          1418697.254347753,
          1364894.742805736,
          1351591.411319429,
          1385729.187643929,
          1362193.248057242,
          1271019.578751108
         ],
         "y0": " ",
         "yaxis": "y"
        }
       ],
       "layout": {
        "boxmode": "group",
        "legend": {
         "tracegroupgap": 0
        },
        "margin": {
         "t": 60
        },
        "template": {
         "data": {
          "bar": [
           {
            "error_x": {
             "color": "#2a3f5f"
            },
            "error_y": {
             "color": "#2a3f5f"
            },
            "marker": {
             "line": {
              "color": "#E5ECF6",
              "width": 0.5
             }
            },
            "type": "bar"
           }
          ],
          "barpolar": [
           {
            "marker": {
             "line": {
              "color": "#E5ECF6",
              "width": 0.5
             }
            },
            "type": "barpolar"
           }
          ],
          "carpet": [
           {
            "aaxis": {
             "endlinecolor": "#2a3f5f",
             "gridcolor": "white",
             "linecolor": "white",
             "minorgridcolor": "white",
             "startlinecolor": "#2a3f5f"
            },
            "baxis": {
             "endlinecolor": "#2a3f5f",
             "gridcolor": "white",
             "linecolor": "white",
             "minorgridcolor": "white",
             "startlinecolor": "#2a3f5f"
            },
            "type": "carpet"
           }
          ],
          "choropleth": [
           {
            "colorbar": {
             "outlinewidth": 0,
             "ticks": ""
            },
            "type": "choropleth"
           }
          ],
          "contour": [
           {
            "colorbar": {
             "outlinewidth": 0,
             "ticks": ""
            },
            "colorscale": [
             [
              0,
              "#0d0887"
             ],
             [
              0.1111111111111111,
              "#46039f"
             ],
             [
              0.2222222222222222,
              "#7201a8"
             ],
             [
              0.3333333333333333,
              "#9c179e"
             ],
             [
              0.4444444444444444,
              "#bd3786"
             ],
             [
              0.5555555555555556,
              "#d8576b"
             ],
             [
              0.6666666666666666,
              "#ed7953"
             ],
             [
              0.7777777777777778,
              "#fb9f3a"
             ],
             [
              0.8888888888888888,
              "#fdca26"
             ],
             [
              1,
              "#f0f921"
             ]
            ],
            "type": "contour"
           }
          ],
          "contourcarpet": [
           {
            "colorbar": {
             "outlinewidth": 0,
             "ticks": ""
            },
            "type": "contourcarpet"
           }
          ],
          "heatmap": [
           {
            "colorbar": {
             "outlinewidth": 0,
             "ticks": ""
            },
            "colorscale": [
             [
              0,
              "#0d0887"
             ],
             [
              0.1111111111111111,
              "#46039f"
             ],
             [
              0.2222222222222222,
              "#7201a8"
             ],
             [
              0.3333333333333333,
              "#9c179e"
             ],
             [
              0.4444444444444444,
              "#bd3786"
             ],
             [
              0.5555555555555556,
              "#d8576b"
             ],
             [
              0.6666666666666666,
              "#ed7953"
             ],
             [
              0.7777777777777778,
              "#fb9f3a"
             ],
             [
              0.8888888888888888,
              "#fdca26"
             ],
             [
              1,
              "#f0f921"
             ]
            ],
            "type": "heatmap"
           }
          ],
          "heatmapgl": [
           {
            "colorbar": {
             "outlinewidth": 0,
             "ticks": ""
            },
            "colorscale": [
             [
              0,
              "#0d0887"
             ],
             [
              0.1111111111111111,
              "#46039f"
             ],
             [
              0.2222222222222222,
              "#7201a8"
             ],
             [
              0.3333333333333333,
              "#9c179e"
             ],
             [
              0.4444444444444444,
              "#bd3786"
             ],
             [
              0.5555555555555556,
              "#d8576b"
             ],
             [
              0.6666666666666666,
              "#ed7953"
             ],
             [
              0.7777777777777778,
              "#fb9f3a"
             ],
             [
              0.8888888888888888,
              "#fdca26"
             ],
             [
              1,
              "#f0f921"
             ]
            ],
            "type": "heatmapgl"
           }
          ],
          "histogram": [
           {
            "marker": {
             "colorbar": {
              "outlinewidth": 0,
              "ticks": ""
             }
            },
            "type": "histogram"
           }
          ],
          "histogram2d": [
           {
            "colorbar": {
             "outlinewidth": 0,
             "ticks": ""
            },
            "colorscale": [
             [
              0,
              "#0d0887"
             ],
             [
              0.1111111111111111,
              "#46039f"
             ],
             [
              0.2222222222222222,
              "#7201a8"
             ],
             [
              0.3333333333333333,
              "#9c179e"
             ],
             [
              0.4444444444444444,
              "#bd3786"
             ],
             [
              0.5555555555555556,
              "#d8576b"
             ],
             [
              0.6666666666666666,
              "#ed7953"
             ],
             [
              0.7777777777777778,
              "#fb9f3a"
             ],
             [
              0.8888888888888888,
              "#fdca26"
             ],
             [
              1,
              "#f0f921"
             ]
            ],
            "type": "histogram2d"
           }
          ],
          "histogram2dcontour": [
           {
            "colorbar": {
             "outlinewidth": 0,
             "ticks": ""
            },
            "colorscale": [
             [
              0,
              "#0d0887"
             ],
             [
              0.1111111111111111,
              "#46039f"
             ],
             [
              0.2222222222222222,
              "#7201a8"
             ],
             [
              0.3333333333333333,
              "#9c179e"
             ],
             [
              0.4444444444444444,
              "#bd3786"
             ],
             [
              0.5555555555555556,
              "#d8576b"
             ],
             [
              0.6666666666666666,
              "#ed7953"
             ],
             [
              0.7777777777777778,
              "#fb9f3a"
             ],
             [
              0.8888888888888888,
              "#fdca26"
             ],
             [
              1,
              "#f0f921"
             ]
            ],
            "type": "histogram2dcontour"
           }
          ],
          "mesh3d": [
           {
            "colorbar": {
             "outlinewidth": 0,
             "ticks": ""
            },
            "type": "mesh3d"
           }
          ],
          "parcoords": [
           {
            "line": {
             "colorbar": {
              "outlinewidth": 0,
              "ticks": ""
             }
            },
            "type": "parcoords"
           }
          ],
          "pie": [
           {
            "automargin": true,
            "type": "pie"
           }
          ],
          "scatter": [
           {
            "marker": {
             "colorbar": {
              "outlinewidth": 0,
              "ticks": ""
             }
            },
            "type": "scatter"
           }
          ],
          "scatter3d": [
           {
            "line": {
             "colorbar": {
              "outlinewidth": 0,
              "ticks": ""
             }
            },
            "marker": {
             "colorbar": {
              "outlinewidth": 0,
              "ticks": ""
             }
            },
            "type": "scatter3d"
           }
          ],
          "scattercarpet": [
           {
            "marker": {
             "colorbar": {
              "outlinewidth": 0,
              "ticks": ""
             }
            },
            "type": "scattercarpet"
           }
          ],
          "scattergeo": [
           {
            "marker": {
             "colorbar": {
              "outlinewidth": 0,
              "ticks": ""
             }
            },
            "type": "scattergeo"
           }
          ],
          "scattergl": [
           {
            "marker": {
             "colorbar": {
              "outlinewidth": 0,
              "ticks": ""
             }
            },
            "type": "scattergl"
           }
          ],
          "scattermapbox": [
           {
            "marker": {
             "colorbar": {
              "outlinewidth": 0,
              "ticks": ""
             }
            },
            "type": "scattermapbox"
           }
          ],
          "scatterpolar": [
           {
            "marker": {
             "colorbar": {
              "outlinewidth": 0,
              "ticks": ""
             }
            },
            "type": "scatterpolar"
           }
          ],
          "scatterpolargl": [
           {
            "marker": {
             "colorbar": {
              "outlinewidth": 0,
              "ticks": ""
             }
            },
            "type": "scatterpolargl"
           }
          ],
          "scatterternary": [
           {
            "marker": {
             "colorbar": {
              "outlinewidth": 0,
              "ticks": ""
             }
            },
            "type": "scatterternary"
           }
          ],
          "surface": [
           {
            "colorbar": {
             "outlinewidth": 0,
             "ticks": ""
            },
            "colorscale": [
             [
              0,
              "#0d0887"
             ],
             [
              0.1111111111111111,
              "#46039f"
             ],
             [
              0.2222222222222222,
              "#7201a8"
             ],
             [
              0.3333333333333333,
              "#9c179e"
             ],
             [
              0.4444444444444444,
              "#bd3786"
             ],
             [
              0.5555555555555556,
              "#d8576b"
             ],
             [
              0.6666666666666666,
              "#ed7953"
             ],
             [
              0.7777777777777778,
              "#fb9f3a"
             ],
             [
              0.8888888888888888,
              "#fdca26"
             ],
             [
              1,
              "#f0f921"
             ]
            ],
            "type": "surface"
           }
          ],
          "table": [
           {
            "cells": {
             "fill": {
              "color": "#EBF0F8"
             },
             "line": {
              "color": "white"
             }
            },
            "header": {
             "fill": {
              "color": "#C8D4E3"
             },
             "line": {
              "color": "white"
             }
            },
            "type": "table"
           }
          ]
         },
         "layout": {
          "annotationdefaults": {
           "arrowcolor": "#2a3f5f",
           "arrowhead": 0,
           "arrowwidth": 1
          },
          "autotypenumbers": "strict",
          "coloraxis": {
           "colorbar": {
            "outlinewidth": 0,
            "ticks": ""
           }
          },
          "colorscale": {
           "diverging": [
            [
             0,
             "#8e0152"
            ],
            [
             0.1,
             "#c51b7d"
            ],
            [
             0.2,
             "#de77ae"
            ],
            [
             0.3,
             "#f1b6da"
            ],
            [
             0.4,
             "#fde0ef"
            ],
            [
             0.5,
             "#f7f7f7"
            ],
            [
             0.6,
             "#e6f5d0"
            ],
            [
             0.7,
             "#b8e186"
            ],
            [
             0.8,
             "#7fbc41"
            ],
            [
             0.9,
             "#4d9221"
            ],
            [
             1,
             "#276419"
            ]
           ],
           "sequential": [
            [
             0,
             "#0d0887"
            ],
            [
             0.1111111111111111,
             "#46039f"
            ],
            [
             0.2222222222222222,
             "#7201a8"
            ],
            [
             0.3333333333333333,
             "#9c179e"
            ],
            [
             0.4444444444444444,
             "#bd3786"
            ],
            [
             0.5555555555555556,
             "#d8576b"
            ],
            [
             0.6666666666666666,
             "#ed7953"
            ],
            [
             0.7777777777777778,
             "#fb9f3a"
            ],
            [
             0.8888888888888888,
             "#fdca26"
            ],
            [
             1,
             "#f0f921"
            ]
           ],
           "sequentialminus": [
            [
             0,
             "#0d0887"
            ],
            [
             0.1111111111111111,
             "#46039f"
            ],
            [
             0.2222222222222222,
             "#7201a8"
            ],
            [
             0.3333333333333333,
             "#9c179e"
            ],
            [
             0.4444444444444444,
             "#bd3786"
            ],
            [
             0.5555555555555556,
             "#d8576b"
            ],
            [
             0.6666666666666666,
             "#ed7953"
            ],
            [
             0.7777777777777778,
             "#fb9f3a"
            ],
            [
             0.8888888888888888,
             "#fdca26"
            ],
            [
             1,
             "#f0f921"
            ]
           ]
          },
          "colorway": [
           "#636efa",
           "#EF553B",
           "#00cc96",
           "#ab63fa",
           "#FFA15A",
           "#19d3f3",
           "#FF6692",
           "#B6E880",
           "#FF97FF",
           "#FECB52"
          ],
          "font": {
           "color": "#2a3f5f"
          },
          "geo": {
           "bgcolor": "white",
           "lakecolor": "white",
           "landcolor": "#E5ECF6",
           "showlakes": true,
           "showland": true,
           "subunitcolor": "white"
          },
          "hoverlabel": {
           "align": "left"
          },
          "hovermode": "closest",
          "mapbox": {
           "style": "light"
          },
          "paper_bgcolor": "white",
          "plot_bgcolor": "#E5ECF6",
          "polar": {
           "angularaxis": {
            "gridcolor": "white",
            "linecolor": "white",
            "ticks": ""
           },
           "bgcolor": "#E5ECF6",
           "radialaxis": {
            "gridcolor": "white",
            "linecolor": "white",
            "ticks": ""
           }
          },
          "scene": {
           "xaxis": {
            "backgroundcolor": "#E5ECF6",
            "gridcolor": "white",
            "gridwidth": 2,
            "linecolor": "white",
            "showbackground": true,
            "ticks": "",
            "zerolinecolor": "white"
           },
           "yaxis": {
            "backgroundcolor": "#E5ECF6",
            "gridcolor": "white",
            "gridwidth": 2,
            "linecolor": "white",
            "showbackground": true,
            "ticks": "",
            "zerolinecolor": "white"
           },
           "zaxis": {
            "backgroundcolor": "#E5ECF6",
            "gridcolor": "white",
            "gridwidth": 2,
            "linecolor": "white",
            "showbackground": true,
            "ticks": "",
            "zerolinecolor": "white"
           }
          },
          "shapedefaults": {
           "line": {
            "color": "#2a3f5f"
           }
          },
          "ternary": {
           "aaxis": {
            "gridcolor": "white",
            "linecolor": "white",
            "ticks": ""
           },
           "baxis": {
            "gridcolor": "white",
            "linecolor": "white",
            "ticks": ""
           },
           "bgcolor": "#E5ECF6",
           "caxis": {
            "gridcolor": "white",
            "linecolor": "white",
            "ticks": ""
           }
          },
          "title": {
           "x": 0.05
          },
          "xaxis": {
           "automargin": true,
           "gridcolor": "white",
           "linecolor": "white",
           "ticks": "",
           "title": {
            "standoff": 15
           },
           "zerolinecolor": "white",
           "zerolinewidth": 2
          },
          "yaxis": {
           "automargin": true,
           "gridcolor": "white",
           "linecolor": "white",
           "ticks": "",
           "title": {
            "standoff": 15
           },
           "zerolinecolor": "white",
           "zerolinewidth": 2
          }
         }
        },
        "title": {
         "text": "Monthly variation of historical sales",
         "x": 0.5
        },
        "xaxis": {
         "anchor": "y",
         "domain": [
          0,
          1
         ],
         "title": {
          "text": "Month"
         }
        },
        "yaxis": {
         "anchor": "x",
         "domain": [
          0,
          1
         ],
         "title": {
          "text": "Amount $"
         }
        }
       }
      },
      "text/html": [
       "<div>                            <div id=\"d43ac56c-840e-4336-beac-5e93866085b5\" class=\"plotly-graph-div\" style=\"height:525px; width:100%;\"></div>            <script type=\"text/javascript\">                require([\"plotly\"], function(Plotly) {                    window.PLOTLYENV=window.PLOTLYENV || {};                                    if (document.getElementById(\"d43ac56c-840e-4336-beac-5e93866085b5\")) {                    Plotly.newPlot(                        \"d43ac56c-840e-4336-beac-5e93866085b5\",                        [{\"alignmentgroup\": \"True\", \"hovertemplate\": \"Month=%{x}<br>Sales=%{y}<extra></extra>\", \"legendgroup\": \"\", \"marker\": {\"color\": \"#636efa\"}, \"name\": \"\", \"notched\": false, \"offsetgroup\": \"\", \"orientation\": \"v\", \"showlegend\": false, \"type\": \"box\", \"x\": [\"Sep\", \"Sep\", \"Sep\", \"Sep\", \"Oct\", \"Oct\", \"Oct\", \"Oct\", \"Oct\", \"Nov\", \"Nov\", \"Nov\", \"Nov\", \"Dec\", \"Dec\", \"Dec\", \"Dec\", \"Dec\", \"Jan\", \"Jan\", \"Jan\", \"Jan\", \"Feb\", \"Feb\", \"Feb\", \"Feb\", \"Mar\", \"Mar\", \"Mar\", \"Mar\", \"Apr\", \"Apr\", \"Apr\", \"Apr\", \"Apr\", \"May\", \"May\", \"May\", \"May\", \"Jun\", \"Jun\", \"Jun\", \"Jun\", \"Jul\", \"Jul\", \"Jul\", \"Jul\", \"Jul\", \"Aug\", \"Aug\", \"Aug\", \"Aug\", \"Sep\", \"Sep\", \"Sep\", \"Sep\", \"Sep\", \"Oct\", \"Oct\", \"Oct\", \"Oct\", \"Nov\", \"Nov\", \"Nov\", \"Nov\", \"Dec\", \"Dec\", \"Dec\", \"Dec\", \"Dec\", \"Jan\", \"Jan\", \"Jan\", \"Jan\", \"Feb\", \"Feb\", \"Feb\", \"Feb\", \"Mar\", \"Mar\", \"Mar\", \"Mar\", \"Mar\", \"Apr\", \"Apr\", \"Apr\", \"Apr\", \"May\", \"May\", \"May\", \"May\", \"Jun\", \"Jun\", \"Jun\", \"Jun\", \"Jun\", \"Jul\", \"Jul\", \"Jul\", \"Jul\", \"Aug\", \"Aug\", \"Aug\", \"Aug\", \"Sep\", \"Sep\", \"Sep\", \"Sep\", \"Sep\", \"Oct\", \"Oct\", \"Oct\", \"Oct\", \"Nov\", \"Nov\", \"Nov\", \"Nov\", \"Dec\", \"Dec\", \"Dec\", \"Dec\", \"Dec\", \"Jan\", \"Jan\", \"Jan\", \"Jan\", \"Feb\", \"Feb\", \"Feb\", \"Feb\", \"Mar\", \"Mar\", \"Mar\", \"Mar\", \"Mar\", \"Apr\", \"Apr\", \"Apr\", \"Apr\", \"May\", \"May\", \"May\", \"May\", \"May\", \"Jun\", \"Jun\", \"Jun\", \"Jun\", \"Jul\", \"Jul\", \"Jul\", \"Jul\", \"Aug\", \"Aug\", \"Aug\", \"Aug\", \"Sep\", \"Sep\", \"Sep\", \"Sep\", \"Oct\", \"Oct\", \"Oct\", \"Oct\", \"Oct\", \"Nov\", \"Nov\", \"Nov\", \"Nov\", \"Dec\", \"Dec\", \"Dec\", \"Dec\", \"Dec\", \"Jan\", \"Jan\", \"Jan\", \"Jan\", \"Feb\", \"Feb\", \"Feb\", \"Feb\", \"Mar\", \"Mar\", \"Mar\", \"Mar\", \"Apr\", \"Apr\", \"Apr\", \"Apr\", \"Apr\", \"May\", \"May\", \"May\", \"May\", \"Jun\", \"Jun\", \"Jun\", \"Jun\", \"Jul\", \"Jul\", \"Jul\", \"Jul\", \"Jul\", \"Aug\", \"Aug\", \"Aug\", \"Aug\", \"Sep\", \"Sep\", \"Sep\", \"Sep\", \"Sep\", \"Oct\", \"Oct\", \"Oct\", \"Oct\", \"Nov\", \"Nov\", \"Nov\", \"Nov\", \"Dec\", \"Dec\", \"Dec\", \"Dec\", \"Dec\", \"Jan\", \"Jan\", \"Jan\", \"Jan\", \"Feb\", \"Feb\", \"Feb\", \"Feb\", \"Mar\", \"Mar\", \"Mar\", \"Mar\", \"Mar\", \"Apr\", \"Apr\", \"Apr\", \"Apr\", \"May\", \"May\", \"May\", \"May\", \"Jun\", \"Jun\", \"Jun\", \"Jun\", \"Jun\", \"Jul\", \"Jul\", \"Jul\", \"Jul\", \"Aug\", \"Aug\", \"Aug\", \"Aug\", \"Sep\", \"Sep\", \"Sep\", \"Sep\", \"Sep\", \"Oct\", \"Oct\", \"Oct\", \"Oct\", \"Nov\", \"Nov\", \"Nov\", \"Nov\", \"Dec\", \"Dec\", \"Dec\", \"Dec\", \"Dec\", \"Jan\", \"Jan\", \"Jan\", \"Jan\", \"Feb\", \"Feb\", \"Feb\", \"Feb\", \"Mar\", \"Mar\", \"Mar\", \"Mar\", \"Mar\", \"Apr\", \"Apr\", \"Apr\", \"Apr\", \"May\", \"May\", \"May\", \"May\", \"May\", \"Jun\", \"Jun\", \"Jun\", \"Jun\", \"Jul\", \"Jul\", \"Jul\", \"Jul\", \"Aug\", \"Aug\", \"Aug\", \"Aug\", \"Sep\", \"Sep\", \"Sep\", \"Sep\", \"Oct\", \"Oct\", \"Oct\", \"Oct\", \"Oct\", \"Nov\", \"Nov\", \"Nov\", \"Nov\", \"Dec\", \"Dec\", \"Dec\", \"Dec\", \"Dec\", \"Jan\", \"Jan\", \"Jan\", \"Jan\", \"Feb\", \"Feb\", \"Feb\", \"Feb\", \"Mar\", \"Mar\", \"Mar\", \"Mar\", \"Apr\", \"Apr\", \"Apr\", \"Apr\", \"Apr\", \"May\", \"May\", \"May\", \"May\", \"Jun\", \"Jun\", \"Jun\", \"Jun\", \"Jul\", \"Jul\", \"Jul\", \"Jul\", \"Jul\", \"Aug\", \"Aug\", \"Aug\", \"Aug\", \"Sep\", \"Sep\", \"Sep\", \"Sep\", \"Sep\", \"Oct\", \"Oct\", \"Oct\", \"Oct\", \"Nov\", \"Nov\", \"Nov\", \"Nov\", \"Dec\", \"Dec\", \"Dec\", \"Dec\", \"Dec\", \"Jan\", \"Jan\", \"Jan\", \"Jan\", \"Feb\", \"Feb\", \"Feb\", \"Feb\", \"Mar\", \"Mar\", \"Mar\", \"Mar\", \"Mar\", \"Apr\", \"Apr\", \"Apr\", \"Apr\", \"May\", \"May\", \"May\", \"May\", \"Jun\", \"Jun\", \"Jun\", \"Jun\", \"Jun\", \"Jul\", \"Jul\", \"Jul\", \"Jul\", \"Aug\", \"Aug\", \"Aug\", \"Aug\", \"Sep\", \"Sep\", \"Sep\", \"Sep\", \"Sep\", \"Oct\", \"Oct\", \"Oct\", \"Oct\", \"Nov\", \"Nov\", \"Nov\", \"Nov\", \"Dec\", \"Dec\", \"Dec\", \"Dec\", \"Dec\", \"Jan\", \"Jan\", \"Jan\", \"Jan\", \"Feb\", \"Feb\", \"Feb\", \"Feb\", \"Mar\", \"Mar\", \"Mar\", \"Mar\", \"Mar\", \"Apr\", \"Apr\", \"Apr\", \"Apr\", \"May\", \"May\", \"May\", \"May\", \"May\", \"Jun\", \"Jun\", \"Jun\", \"Jun\", \"Jul\", \"Jul\", \"Jul\", \"Jul\", \"Aug\", \"Aug\", \"Aug\", \"Aug\", \"Apr\", \"Apr\", \"Apr\", \"Apr\", \"May\", \"May\", \"May\", \"May\", \"Jun\", \"Jun\", \"Jun\", \"Jun\", \"Jul\", \"Jul\", \"Jul\", \"Jul\", \"Jul\", \"Aug\", \"Aug\", \"Aug\", \"Aug\", \"Sep\", \"Sep\", \"Sep\", \"Sep\", \"Sep\", \"Oct\", \"Oct\", \"Oct\", \"Oct\", \"Nov\", \"Nov\", \"Nov\", \"Nov\", \"Dec\", \"Dec\", \"Dec\", \"Dec\", \"Dec\", \"Jan\", \"Jan\", \"Jan\", \"Jan\", \"Feb\", \"Feb\", \"Feb\", \"Feb\", \"Mar\", \"Mar\", \"Mar\", \"Mar\", \"Mar\", \"Apr\", \"Apr\", \"Apr\", \"Apr\", \"May\", \"May\", \"May\", \"May\", \"Jun\", \"Jun\", \"Jun\", \"Jun\", \"Jun\", \"Jul\", \"Jul\", \"Jul\", \"Jul\", \"Aug\", \"Aug\", \"Aug\", \"Aug\", \"Sep\", \"Sep\", \"Sep\", \"Sep\", \"Sep\", \"Oct\", \"Oct\", \"Oct\", \"Oct\", \"Nov\", \"Nov\", \"Nov\", \"Nov\", \"Dec\", \"Dec\", \"Dec\", \"Dec\", \"Dec\", \"Jan\", \"Jan\", \"Jan\", \"Jan\", \"Feb\", \"Feb\", \"Feb\", \"Feb\", \"Mar\", \"Mar\", \"Mar\", \"Mar\", \"Mar\", \"Apr\", \"Apr\", \"Apr\", \"Apr\", \"May\", \"May\", \"May\", \"May\", \"May\", \"Jun\", \"Jun\", \"Jun\", \"Jun\", \"Jul\", \"Jul\", \"Jul\", \"Jul\", \"Aug\", \"Aug\", \"Aug\", \"Aug\", \"Sep\", \"Sep\", \"Sep\", \"Sep\", \"Oct\", \"Oct\", \"Oct\", \"Oct\", \"Oct\", \"Nov\", \"Nov\", \"Nov\", \"Nov\", \"Dec\", \"Dec\", \"Dec\", \"Dec\", \"Dec\", \"Jan\", \"Jan\", \"Jan\", \"Jan\", \"Feb\", \"Feb\", \"Feb\", \"Feb\", \"Mar\", \"Mar\", \"Mar\", \"Mar\", \"Apr\", \"Apr\", \"Apr\", \"Apr\", \"Apr\", \"May\", \"May\", \"May\", \"May\", \"Jun\", \"Jun\", \"Jun\", \"Jun\", \"Jul\", \"Jul\", \"Jul\", \"Jul\", \"Jul\", \"Aug\", \"Aug\", \"Aug\", \"Aug\", \"Sep\", \"Sep\", \"Sep\", \"Sep\", \"Sep\", \"Oct\", \"Oct\", \"Oct\", \"Oct\", \"Nov\", \"Nov\", \"Nov\", \"Nov\", \"Dec\", \"Dec\", \"Dec\", \"Dec\", \"Dec\", \"Jan\", \"Jan\", \"Jan\", \"Jan\", \"Feb\", \"Feb\", \"Feb\", \"Feb\", \"Mar\", \"Mar\", \"Mar\", \"Mar\", \"Mar\", \"Apr\", \"Apr\", \"Apr\", \"Apr\", \"May\", \"May\", \"May\", \"May\", \"Jun\", \"Jun\", \"Jun\", \"Jun\", \"Jun\", \"Jul\", \"Jul\", \"Jul\", \"Jul\", \"Aug\", \"Aug\", \"Aug\", \"Aug\", \"Sep\", \"Sep\", \"Sep\", \"Sep\", \"Sep\", \"Oct\", \"Oct\", \"Oct\", \"Oct\", \"Nov\", \"Nov\", \"Nov\", \"Nov\", \"Dec\", \"Dec\", \"Dec\", \"Dec\", \"Dec\", \"Jan\", \"Jan\", \"Jan\", \"Jan\", \"Feb\", \"Feb\", \"Feb\", \"Feb\", \"Mar\", \"Mar\", \"Mar\", \"Mar\", \"Mar\", \"Apr\", \"Apr\", \"Apr\", \"Apr\", \"May\", \"May\", \"May\", \"May\", \"May\", \"Jun\", \"Jun\", \"Jun\", \"Jun\", \"Jul\", \"Jul\", \"Jul\", \"Jul\", \"Aug\", \"Aug\", \"Aug\", \"Aug\", \"Apr\", \"Apr\", \"Apr\", \"Apr\", \"Apr\", \"May\", \"May\", \"May\", \"May\", \"Jun\", \"Jun\", \"Jun\", \"Jun\", \"Jul\", \"Jul\", \"Jul\", \"Jul\", \"Jul\", \"Aug\", \"Aug\", \"Aug\", \"Aug\", \"Sep\", \"Sep\", \"Sep\", \"Sep\", \"Sep\", \"Oct\", \"Oct\", \"Oct\", \"Oct\", \"Nov\", \"Nov\", \"Nov\", \"Nov\", \"Dec\", \"Dec\", \"Dec\", \"Dec\", \"Dec\", \"Jan\", \"Jan\", \"Jan\", \"Jan\", \"Feb\", \"Feb\", \"Feb\", \"Feb\", \"Mar\", \"Mar\", \"Mar\", \"Mar\", \"Mar\", \"Apr\", \"Apr\", \"Apr\", \"Apr\", \"May\", \"May\", \"May\", \"May\", \"Jun\", \"Jun\", \"Jun\", \"Jun\", \"Jun\", \"Jul\", \"Jul\", \"Jul\", \"Jul\", \"Aug\", \"Aug\", \"Aug\", \"Aug\", \"Sep\", \"Sep\", \"Sep\", \"Sep\", \"Sep\", \"Oct\", \"Oct\", \"Oct\", \"Oct\", \"Nov\", \"Nov\", \"Nov\", \"Nov\", \"Dec\", \"Dec\", \"Dec\", \"Dec\", \"Dec\", \"Jan\", \"Jan\", \"Jan\", \"Jan\", \"Feb\", \"Feb\", \"Feb\", \"Feb\", \"Mar\", \"Mar\", \"Mar\", \"Mar\", \"Mar\", \"Apr\", \"Apr\", \"Apr\", \"Apr\", \"May\", \"May\", \"May\", \"May\", \"May\", \"Jun\", \"Jun\", \"Jun\", \"Jun\", \"Jul\", \"Jul\", \"Jul\", \"Jul\", \"Aug\", \"Aug\", \"Aug\", \"Aug\"], \"x0\": \" \", \"xaxis\": \"x\", \"y\": [454505.5375427785, 480922.4681314023, 442120.9570010478, 614161.3280557629, 573988.744290248, 466411.4873569101, 575677.5519533862, 478536.0738202567, 490950.1306416955, 458841.7608109359, 497614.0522966317, 522541.6338910526, 512728.5092110469, 581790.933971901, 538689.7785409833, 603831.8797390879, 611642.3336761048, 661256.3544514364, 614483.7512476275, 564046.6048345199, 599849.9407278548, 563327.6385958384, 539383.2226870244, 465661.0216568092, 495986.7961048419, 448421.5997257916, 446623.6534469067, 501089.937816209, 414056.4131695812, 436317.2794909275, 499790.5147760394, 439945.471144305, 497025.4832934965, 515167.1689122569, 431483.3375085416, 433090.4202947091, 418630.337470207, 421646.6221637158, 473770.0059273121, 452811.1176765992, 528988.6824766202, 479178.7790022149, 543856.9887167324, 502527.8904788496, 550195.8717375096, 587563.7122998445, 493150.7197184591, 471170.2589023164, 468857.9123391861, 484581.3811286866, 447790.5176692519, 450784.944274955, 474514.7134835325, 455111.5185876278, 452136.8047693413, 526127.1978056179, 615581.7485535417, 526651.524694211, 547165.6119281005, 486649.649130376, 436648.2935190714, 469922.9821370994, 490827.1380079355, 537654.2014947773, 536135.1115711568, 478120.8636629163, 505845.549018945, 546843.3845500132, 573997.5241050302, 693788.4703966628, 588263.4749914716, 533921.2071996923, 509951.1510951616, 577920.775327574, 490068.311036153, 498857.0690016284, 490396.819260065, 465314.0320098262, 439179.3469201128, 484016.3841036099, 432037.6295649954, 455095.069215073, 454306.03814332, 471657.3229200958, 501081.0906050984, 618648.6788841161, 404869.9758945088, 394396.9488975088, 393897.592566198, 396753.2021103232, 476042.5303707364, 414711.4887495788, 476687.766147064, 462354.1917032981, 506840.8604006143, 484262.601927169, 542177.4352041754, 571389.540798124, 453069.6618826015, 468326.5044342316, 444568.4755300839, 448361.8619566447, 442939.0744452621, 443413.7061418867, 431621.8937506067, 438662.8536481229, 442381.892346695, 421946.1367129548, 536924.4162539764, 551575.1313889401, 452742.9401760062, 440671.8113022766, 438424.2405207276, 524237.6436420939, 502986.2430753183, 523678.2536080267, 544077.9283634855, 485728.1837003603, 475301.3365999425, 499375.4026998025, 556849.2358228553, 597075.0136013681, 521536.4506043365, 565854.2128038037, 501635.7704362937, 514592.0318385925, 502951.3917628974, 493995.8218335877, 462329.0693709616, 462619.2424788662, 447645.9068106326, 480412.0799410933, 479545.515253911, 478174.5515566735, 345116.3429841545, 368523.036063622, 436571.0538314994, 455092.7219214196, 572520.6357611774, 517235.2849160776, 539847.2519793534, 608463.0848899594, 609804.8748353553, 562637.7265698756, 562835.2360615823, 563458.8424821763, 623480.4126546595, 647100.0067067127, 635751.0916838956, 641562.153849845, 561381.8813274757, 563310.2900264057, 568197.1793650365, 592292.52902208, 587753.1335696278, 571834.0986081482, 2634368.840183024, 2760182.669930118, 2770334.092689774, 3176641.243278258, 3264356.044595119, 2869931.609129978, 3324068.967269962, 2932100.11279284, 2833044.190054961, 2711729.268880063, 2769392.027306489, 2685361.008361685, 2708259.27072389, 2708928.649296758, 2591538.293501503, 2824538.681211269, 3139001.982756743, 3267604.434809093, 2967120.845967592, 2955578.98849901, 2972358.186651, 2685321.195192046, 2606375.65915893, 2535183.676399176, 2720039.218890184, 2874615.231815928, 2718254.401503748, 2588530.159090815, 2425536.830097856, 2373594.915467833, 2277273.849680846, 2342689.724580286, 2626058.708062707, 2885867.13373568, 2480101.899251407, 2396998.95681908, 2206241.951593115, 2267188.962317278, 2306777.045018571, 2466560.851095221, 2698677.587325904, 2585387.279373, 2902648.542579825, 2635355.652642215, 3003952.570769249, 3107060.768167735, 2614437.290611091, 2533028.918811129, 2503232.052811027, 2407668.718695499, 2568656.467749375, 2566002.860443762, 2637542.77230812, 2497129.139631405, 2582038.535615719, 2721972.898203935, 3194284.660691672, 2849754.134712133, 2976573.543000213, 2641698.312798798, 2473220.947057426, 2489937.094243774, 2628412.960279277, 2777864.045104836, 2743092.531527222, 2479732.522722125, 2498179.236194718, 2650415.988756866, 2829730.337627514, 3199229.247254669, 2965153.067095987, 2700601.323781384, 2752983.760156098, 2908017.642712957, 2393248.815399134, 2601796.372923764, 2816764.091487347, 2706821.881260899, 2488000.731786813, 2431546.562163545, 2293915.175271454, 2374437.704836953, 2290643.888921742, 2303084.746520452, 2667261.281390637, 2926976.797311885, 2246979.393866457, 2194879.158025778, 2074167.188045989, 2189993.905197012, 2192346.341715035, 2283798.333151146, 2474775.642198499, 2258362.0058612, 2612628.542620118, 2498177.779799757, 2779525.406261482, 2831082.299887066, 2400010.702203261, 2431621.266151989, 2416853.005066616, 2343154.215106094, 2310535.502308555, 2453948.263104522, 2297872.454003762, 2419297.036745709, 2402847.39247223, 2492744.652081301, 2867760.597305155, 2973968.438278548, 2334842.709824163, 2309118.541051005, 2285584.819806868, 2603077.282701191, 2551206.870508204, 2526078.735916106, 2657056.073255902, 2513572.914824786, 2429701.081540268, 2614876.439223284, 2882788.294725833, 3284553.828919528, 2881038.699104385, 2859809.100474077, 2731322.770021687, 2404740.069038821, 2431564.151396827, 2377516.143491353, 2608994.743909604, 2516576.09839022, 2379023.177337916, 2315196.40272791, 2456017.720800763, 2220530.568650034, 1701011.572556342, 1761310.019759649, 2001726.815884218, 2301765.934298746, 2651172.772551851, 2743252.038333858, 2853330.470262835, 3140282.498625233, 3233130.237391281, 2837332.082418947, 3159768.506027024, 3069332.639419259, 3235238.668231891, 3293143.103421631, 3428334.409442499, 3409453.198293967, 2749988.691673775, 2761366.61097433, 2873655.990786887, 2773094.180603982, 2718479.208870341, 2785053.865600151, 1456749.821680669, 1534787.689347492, 1774839.88347618, 1753178.898349389, 1691050.513187018, 1507033.432421429, 1956695.427289216, 1648118.386818791, 1534104.740191472, 1568471.932253168, 1688016.093833182, 1605426.150268957, 1638023.181773366, 1610021.26414592, 1665792.631000376, 1655232.307499588, 1815848.869384465, 1968391.071732298, 1755162.380699401, 1629537.189071234, 1595061.987089272, 1543900.35979147, 1622902.254502431, 1469509.094261891, 1555863.718180119, 1472956.492495561, 1503381.881944096, 1526487.825585188, 1421150.949279774, 1375277.156382017, 1642219.133245151, 1531576.404075768, 1342945.324496384, 1333821.055650478, 1426081.783077653, 1189413.185666636, 1309141.164662231, 1328817.968454379, 1403321.867336487, 1416861.672395708, 1397492.448613371, 1602144.160934377, 1797459.868533632, 1827154.183807981, 1967372.385809524, 1639003.453335985, 1544004.085250225, 1535332.476008081, 1462526.615880833, 1633045.715241883, 1453677.514997708, 1566857.324099025, 1507040.970986787, 1500157.605232932, 1470746.067295998, 1795086.600222788, 1846409.386916161, 1482298.166746099, 1858735.458407412, 1454633.223085482, 1359207.536770366, 1463013.997196933, 1490896.909712704, 1763867.974841653, 1532319.95840338, 1449834.925151109, 1458036.880449054, 1558378.200347072, 1605247.042552714, 2002828.751784388, 1657915.737934858, 1601454.993859546, 1483636.053363327, 1567159.868827462, 1438329.882629128, 1374760.422996332, 1492654.393962838, 1461048.638665069, 1327976.341461795, 1334490.303921555, 1316664.331294548, 1373770.744418486, 1323576.782596606, 1654427.42205194, 1594175.910451714, 1676458.619381744, 1375497.584773819, 1187534.732224661, 1224850.262441781, 1229307.00406177, 1208459.536688026, 1343753.958270939, 1323108.100584083, 1379676.677990926, 1632373.080446712, 1656075.311820859, 1709375.744867692, 1603322.806574652, 1479491.473559025, 1477875.569902922, 1415485.685571061, 1528399.089550004, 1386056.499767869, 1435886.342924406, 1278234.415688925, 1330873.566445217, 1404568.937617396, 1604997.169882492, 1666193.96166078, 1561122.32832615, 1402166.074982404, 1388613.046347617, 1406763.730186666, 1511576.258024004, 1512120.27588973, 1475401.951366117, 1543189.18018134, 1484399.693175397, 1467696.625796469, 1537257.299141634, 1581484.646226852, 2056957.858462906, 1628218.821743747, 1695370.622457228, 1561296.683547747, 1410114.362203361, 1408628.515268111, 1412105.905554767, 1409634.897464058, 1418293.485998195, 1305164.304014362, 1302575.473703268, 1201520.335257932, 1110406.118750007, 922123.1204248591, 944317.2157832992, 1186213.619117522, 1074705.012568912, 1702624.973825812, 1669242.69398891, 1725955.375488056, 2053087.684033857, 2013970.126972645, 1904467.812753475, 1910878.373662383, 1904510.761670838, 2086928.612175911, 2184875.449400435, 2187607.983157181, 2234889.898019568, 2223249.674250581, 2027476.864124658, 1857994.951040521, 2158145.842390456, 1874397.593467169, 1592760.490111639, 400865.5942368279, 657233.7868671131, 663677.2143339734, 586027.4336904192, 549508.9887556235, 561596.514841827, 538847.9890731517, 580693.5707913288, 611636.3615496675, 730999.3000280409, 620624.6182406824, 673308.7695076725, 640879.9332476843, 835080.9209669736, 809889.1239521452, 644632.8203335684, 623623.6896600793, 601153.6528157123, 669096.4673406447, 656940.5545830046, 651868.7782019061, 610145.5960299784, 616001.7629429558, 643527.1579614445, 662525.5101869374, 767026.4713161901, 669035.780101513, 759179.1255445003, 635173.1038493847, 579860.9171817292, 646444.6614734804, 642961.0204111884, 686086.3042189177, 676449.4860504445, 636530.8240177674, 661589.6985084334, 764980.9053404232, 685639.1505879486, 859353.8958398572, 776983.283209589, 706731.9468155468, 689287.5108206666, 719564.5447115924, 649520.7273119265, 612474.2216339682, 636954.4281801987, 612651.6904970894, 574001.8347836128, 657814.5355982888, 550170.7159371822, 606711.5232173917, 575770.9589081992, 585792.345872728, 627905.9280798291, 761489.2692836208, 554482.4095072198, 547822.3661821211, 510171.4485890071, 528341.5983173335, 562660.9114362687, 595025.6970072171, 620087.1045860146, 574527.2682491948, 607934.0837037407, 639633.0362748061, 787467.9700340193, 846392.3945183943, 651181.922916776, 622997.8517348194, 604555.8197024338, 591304.7999840134, 587226.9912214716, 606485.5090474456, 556901.9528593548, 596379.967943838, 596801.0934227039, 609629.2295615955, 718871.6587508591, 757114.8489928043, 592081.1603419567, 576436.2141359748, 594374.417906475, 673934.1718955361, 655740.7612358754, 575697.6414526319, 689475.940551434, 626931.51197009, 656033.5183385262, 650507.5085346429, 682928.09250898, 862438.1379979082, 783664.6525817156, 735173.3584425402, 733682.57217429, 649208.8228957779, 624552.8081683754, 626204.594176703, 628911.0188964136, 641206.752238481, 616955.852229958, 645876.0196360071, 550431.5057676043, 519699.6367647689, 434968.4837425775, 463984.1050517507, 572831.4525708881, 662540.9371899619, 795170.2510771989, 760702.1941571732, 733559.4535173527, 831052.0951193497, 793419.3120327003, 718261.8280106776, 724039.3751556986, 768001.7118540583, 782321.9921927159, 851777.2232811713, 947364.0192535142, 994487.5326324198, 867503.7458149143, 803199.6537399931, 806256.3294526666, 833751.1414029963, 853024.7153598325, 756391.4052443217, 2173977.032103576, 2155545.919121663, 2094841.011162552, 2535675.241826159, 2277493.607088, 2090769.646315287, 2406385.618249251, 2321607.038115114, 2227304.303168017, 2474567.442304043, 2079246.102508494, 2155092.972983506, 2170995.596594645, 2311007.000114306, 2200351.355759795, 2226552.999406351, 2569976.924285516, 2703696.420633273, 2633425.684279039, 2441590.702176922, 2550230.036771949, 2319860.821588857, 2305724.717296751, 2370859.551373887, 2451106.908758114, 2273881.087206302, 2201063.984329701, 2401900.135853213, 2020154.924455441, 1982375.328382093, 2483149.658817093, 2142913.399136052, 1944490.194422666, 2147764.540921825, 1992149.34962534, 1959592.491759138, 1847383.400213798, 1910937.959403426, 1898237.871921008, 2007181.390823723, 2222416.604624206, 2111350.165408474, 2509343.295742664, 2450833.459168972, 2550019.662793044, 2313008.254098248, 2196070.137978665, 2132653.526082675, 2135261.484636801, 2096010.598244163, 1928359.995514112, 1961862.905673692, 1928044.768737992, 2027238.264860422, 1988308.729183352, 2651288.257257362, 2211910.062609156, 1841606.550781404, 2340974.309839563, 2081153.584779695, 1945009.321956953, 2376393.022871379, 2039072.683144861, 2124476.198871993, 2075552.517656174, 2055818.186120559, 2034019.500056891, 2113241.845557682, 2187942.357937597, 2682474.05173244, 2272346.405283296, 2168463.14515707, 2178356.796107219, 2317152.911697342, 1985256.803878911, 2057109.750094871, 2258835.510022541, 2216759.019099752, 1997952.079035663, 2147760.302149362, 1787288.858660694, 1914185.829273157, 1865379.410202064, 2094467.535230382, 2018008.918502097, 2568052.56824491, 1779656.909040528, 1722448.613671838, 1657780.992908588, 1752500.806801457, 1782254.168300464, 1847675.897674954, 2033234.377621999, 1862298.878673657, 2051178.251334092, 2151699.536727613, 2256548.294197786, 2086616.765145305, 1978913.478295632, 1946932.960311908, 1963266.508336586, 1854653.479729932, 1836769.413827782, 1849765.487929735, 1859628.511194323, 1916279.930440686, 1910292.637399483, 2300727.711495953, 2090430.435594788, 1806228.030073318, 1879606.812678967, 1904957.147936894, 1947752.964673786, 2557737.929951426, 2036592.755721962, 1984176.779989305, 2069824.944404338, 2051208.77507349, 2030062.480177317, 2026438.780978565, 2317947.2075929, 2699077.634855784, 2459248.99120319, 2304847.776112456, 2259382.09983543, 2169872.786042465, 2056900.449469137, 2131372.68290389, 2186388.187919467, 2129710.107863768, 1974105.614269987, 2089247.921319393, 1872791.91739453, 1612683.336626691, 1235302.134948292, 1294007.234255016, 1456142.571636864, 1494888.586703174, 1838797.679825191, 1820176.199552675, 1992516.726593521, 2380274.942899977, 2474395.449158682, 2366523.295919454, 2414120.51889532, 2393014.988591331, 2410339.456042459, 2452462.002642554, 2052963.758172008, 1748782.736679036, 1474484.029808089, 1534077.680473221, 923406.3721405836, 101105.8778725927, 137552.9633831789, 77309.11116223564, 770294.9737615981, 919437.2439854394, 1129704.862070959, 1027685.613751038, 976021.2941384722, 947474.3031400068, 926734.7707004084, 939314.2848296785, 1037653.165741358, 1042241.692120809, 1007671.178662462, 1064820.623453255, 1134927.541729526, 1202726.947343207, 1265155.285260032, 1193814.781499005, 1112481.24125399, 1125611.966440368, 1075246.459425593, 1016763.425038738, 1028741.205776156, 1031974.520451041, 1012854.154555203, 1014292.057015475, 1020549.691470501, 1229749.169073341, 1178092.272604025, 1037496.322159593, 1231892.204782497, 1062318.022969897, 1007305.492034842, 1062245.747119074, 1117332.776382334, 1242202.556330491, 1175279.438227872, 1062804.266890284, 1028223.62901654, 1113662.653377824, 1093936.478538533, 1314052.538065806, 1099475.609432149, 1165249.310981606, 1143605.144547776, 1135066.174054666, 988897.9696313373, 983359.7467489883, 1006985.418135264, 1004537.895405184, 1031682.322477833, 933298.0515579176, 918947.4262138959, 963878.3890463642, 999712.7315019409, 1033663.180163449, 1122749.257956435, 1163351.558520483, 966267.9037711167, 937348.7476006718, 912838.2353666924, 919850.7362910638, 965972.2002541064, 962986.4003331241, 950394.8417318636, 971775.7984825049, 1071445.144963326, 1054347.983245121, 1224086.549076284, 1254587.65174255, 1086151.76788414, 1074235.608999317, 1044329.951975798, 1008600.558081617, 1026179.868181753, 1024166.182240155, 990612.4935780433, 968021.0489546586, 962613.9683998523, 1024338.940097731, 1198266.047125181, 1134747.252044384, 1017575.810739616, 1018053.610999822, 1002744.028979319, 1075291.176284906, 1102402.460359027, 1098636.599916505, 1097397.594211326, 1020380.036712058, 1053366.402333025, 1043146.891437367, 1033827.500736153, 1412568.351994483, 1152209.454915632, 1120015.964468578, 1188675.190409752, 1028121.740348111, 1042965.415979692, 1024707.311044681, 1023792.988866948, 1003042.477310696, 1019547.988475308, 924003.8583653866, 978775.95326941, 901311.0198578313, 663962.0612222215, 686500.575832631, 866084.044033757, 782932.9481527813, 1161703.651907744, 1096142.996858809, 1108498.679264195, 1229172.47358018, 1145625.471834579, 1167187.236680397, 1109709.715788086, 1186871.637307797, 1259688.225141553, 1316347.087654828, 1449490.280263191, 1495237.554726775, 1418697.254347753, 1364894.742805736, 1351591.411319429, 1385729.187643929, 1362193.248057242, 1271019.578751108], \"y0\": \" \", \"yaxis\": \"y\"}],                        {\"boxmode\": \"group\", \"legend\": {\"tracegroupgap\": 0}, \"margin\": {\"t\": 60}, \"template\": {\"data\": {\"bar\": [{\"error_x\": {\"color\": \"#2a3f5f\"}, \"error_y\": {\"color\": \"#2a3f5f\"}, \"marker\": {\"line\": {\"color\": \"#E5ECF6\", \"width\": 0.5}}, \"type\": \"bar\"}], \"barpolar\": [{\"marker\": {\"line\": {\"color\": \"#E5ECF6\", \"width\": 0.5}}, \"type\": \"barpolar\"}], \"carpet\": [{\"aaxis\": {\"endlinecolor\": \"#2a3f5f\", \"gridcolor\": \"white\", \"linecolor\": \"white\", \"minorgridcolor\": \"white\", \"startlinecolor\": \"#2a3f5f\"}, \"baxis\": {\"endlinecolor\": \"#2a3f5f\", \"gridcolor\": \"white\", \"linecolor\": \"white\", \"minorgridcolor\": \"white\", \"startlinecolor\": \"#2a3f5f\"}, \"type\": \"carpet\"}], \"choropleth\": [{\"colorbar\": {\"outlinewidth\": 0, \"ticks\": \"\"}, \"type\": \"choropleth\"}], \"contour\": [{\"colorbar\": {\"outlinewidth\": 0, \"ticks\": \"\"}, \"colorscale\": [[0.0, \"#0d0887\"], [0.1111111111111111, \"#46039f\"], [0.2222222222222222, \"#7201a8\"], [0.3333333333333333, \"#9c179e\"], [0.4444444444444444, \"#bd3786\"], [0.5555555555555556, \"#d8576b\"], [0.6666666666666666, \"#ed7953\"], [0.7777777777777778, \"#fb9f3a\"], [0.8888888888888888, \"#fdca26\"], [1.0, \"#f0f921\"]], \"type\": \"contour\"}], \"contourcarpet\": [{\"colorbar\": {\"outlinewidth\": 0, \"ticks\": \"\"}, \"type\": \"contourcarpet\"}], \"heatmap\": [{\"colorbar\": {\"outlinewidth\": 0, \"ticks\": \"\"}, \"colorscale\": [[0.0, \"#0d0887\"], [0.1111111111111111, \"#46039f\"], [0.2222222222222222, \"#7201a8\"], [0.3333333333333333, \"#9c179e\"], [0.4444444444444444, \"#bd3786\"], [0.5555555555555556, \"#d8576b\"], [0.6666666666666666, \"#ed7953\"], [0.7777777777777778, \"#fb9f3a\"], [0.8888888888888888, \"#fdca26\"], [1.0, \"#f0f921\"]], \"type\": \"heatmap\"}], \"heatmapgl\": [{\"colorbar\": {\"outlinewidth\": 0, \"ticks\": \"\"}, \"colorscale\": [[0.0, \"#0d0887\"], [0.1111111111111111, \"#46039f\"], [0.2222222222222222, \"#7201a8\"], [0.3333333333333333, \"#9c179e\"], [0.4444444444444444, \"#bd3786\"], [0.5555555555555556, \"#d8576b\"], [0.6666666666666666, \"#ed7953\"], [0.7777777777777778, \"#fb9f3a\"], [0.8888888888888888, \"#fdca26\"], [1.0, \"#f0f921\"]], \"type\": \"heatmapgl\"}], \"histogram\": [{\"marker\": {\"colorbar\": {\"outlinewidth\": 0, \"ticks\": \"\"}}, \"type\": \"histogram\"}], \"histogram2d\": [{\"colorbar\": {\"outlinewidth\": 0, \"ticks\": \"\"}, \"colorscale\": [[0.0, \"#0d0887\"], [0.1111111111111111, \"#46039f\"], [0.2222222222222222, \"#7201a8\"], [0.3333333333333333, \"#9c179e\"], [0.4444444444444444, \"#bd3786\"], [0.5555555555555556, \"#d8576b\"], [0.6666666666666666, \"#ed7953\"], [0.7777777777777778, \"#fb9f3a\"], [0.8888888888888888, \"#fdca26\"], [1.0, \"#f0f921\"]], \"type\": \"histogram2d\"}], \"histogram2dcontour\": [{\"colorbar\": {\"outlinewidth\": 0, \"ticks\": \"\"}, \"colorscale\": [[0.0, \"#0d0887\"], [0.1111111111111111, \"#46039f\"], [0.2222222222222222, \"#7201a8\"], [0.3333333333333333, \"#9c179e\"], [0.4444444444444444, \"#bd3786\"], [0.5555555555555556, \"#d8576b\"], [0.6666666666666666, \"#ed7953\"], [0.7777777777777778, \"#fb9f3a\"], [0.8888888888888888, \"#fdca26\"], [1.0, \"#f0f921\"]], \"type\": \"histogram2dcontour\"}], \"mesh3d\": [{\"colorbar\": {\"outlinewidth\": 0, \"ticks\": \"\"}, \"type\": \"mesh3d\"}], \"parcoords\": [{\"line\": {\"colorbar\": {\"outlinewidth\": 0, \"ticks\": \"\"}}, \"type\": \"parcoords\"}], \"pie\": [{\"automargin\": true, \"type\": \"pie\"}], \"scatter\": [{\"marker\": {\"colorbar\": {\"outlinewidth\": 0, \"ticks\": \"\"}}, \"type\": \"scatter\"}], \"scatter3d\": [{\"line\": {\"colorbar\": {\"outlinewidth\": 0, \"ticks\": \"\"}}, \"marker\": {\"colorbar\": {\"outlinewidth\": 0, \"ticks\": \"\"}}, \"type\": \"scatter3d\"}], \"scattercarpet\": [{\"marker\": {\"colorbar\": {\"outlinewidth\": 0, \"ticks\": \"\"}}, \"type\": \"scattercarpet\"}], \"scattergeo\": [{\"marker\": {\"colorbar\": {\"outlinewidth\": 0, \"ticks\": \"\"}}, \"type\": \"scattergeo\"}], \"scattergl\": [{\"marker\": {\"colorbar\": {\"outlinewidth\": 0, \"ticks\": \"\"}}, \"type\": \"scattergl\"}], \"scattermapbox\": [{\"marker\": {\"colorbar\": {\"outlinewidth\": 0, \"ticks\": \"\"}}, \"type\": \"scattermapbox\"}], \"scatterpolar\": [{\"marker\": {\"colorbar\": {\"outlinewidth\": 0, \"ticks\": \"\"}}, \"type\": \"scatterpolar\"}], \"scatterpolargl\": [{\"marker\": {\"colorbar\": {\"outlinewidth\": 0, \"ticks\": \"\"}}, \"type\": \"scatterpolargl\"}], \"scatterternary\": [{\"marker\": {\"colorbar\": {\"outlinewidth\": 0, \"ticks\": \"\"}}, \"type\": \"scatterternary\"}], \"surface\": [{\"colorbar\": {\"outlinewidth\": 0, \"ticks\": \"\"}, \"colorscale\": [[0.0, \"#0d0887\"], [0.1111111111111111, \"#46039f\"], [0.2222222222222222, \"#7201a8\"], [0.3333333333333333, \"#9c179e\"], [0.4444444444444444, \"#bd3786\"], [0.5555555555555556, \"#d8576b\"], [0.6666666666666666, \"#ed7953\"], [0.7777777777777778, \"#fb9f3a\"], [0.8888888888888888, \"#fdca26\"], [1.0, \"#f0f921\"]], \"type\": \"surface\"}], \"table\": [{\"cells\": {\"fill\": {\"color\": \"#EBF0F8\"}, \"line\": {\"color\": \"white\"}}, \"header\": {\"fill\": {\"color\": \"#C8D4E3\"}, \"line\": {\"color\": \"white\"}}, \"type\": \"table\"}]}, \"layout\": {\"annotationdefaults\": {\"arrowcolor\": \"#2a3f5f\", \"arrowhead\": 0, \"arrowwidth\": 1}, \"autotypenumbers\": \"strict\", \"coloraxis\": {\"colorbar\": {\"outlinewidth\": 0, \"ticks\": \"\"}}, \"colorscale\": {\"diverging\": [[0, \"#8e0152\"], [0.1, \"#c51b7d\"], [0.2, \"#de77ae\"], [0.3, \"#f1b6da\"], [0.4, \"#fde0ef\"], [0.5, \"#f7f7f7\"], [0.6, \"#e6f5d0\"], [0.7, \"#b8e186\"], [0.8, \"#7fbc41\"], [0.9, \"#4d9221\"], [1, \"#276419\"]], \"sequential\": [[0.0, \"#0d0887\"], [0.1111111111111111, \"#46039f\"], [0.2222222222222222, \"#7201a8\"], [0.3333333333333333, \"#9c179e\"], [0.4444444444444444, \"#bd3786\"], [0.5555555555555556, \"#d8576b\"], [0.6666666666666666, \"#ed7953\"], [0.7777777777777778, \"#fb9f3a\"], [0.8888888888888888, \"#fdca26\"], [1.0, \"#f0f921\"]], \"sequentialminus\": [[0.0, \"#0d0887\"], [0.1111111111111111, \"#46039f\"], [0.2222222222222222, \"#7201a8\"], [0.3333333333333333, \"#9c179e\"], [0.4444444444444444, \"#bd3786\"], [0.5555555555555556, \"#d8576b\"], [0.6666666666666666, \"#ed7953\"], [0.7777777777777778, \"#fb9f3a\"], [0.8888888888888888, \"#fdca26\"], [1.0, \"#f0f921\"]]}, \"colorway\": [\"#636efa\", \"#EF553B\", \"#00cc96\", \"#ab63fa\", \"#FFA15A\", \"#19d3f3\", \"#FF6692\", \"#B6E880\", \"#FF97FF\", \"#FECB52\"], \"font\": {\"color\": \"#2a3f5f\"}, \"geo\": {\"bgcolor\": \"white\", \"lakecolor\": \"white\", \"landcolor\": \"#E5ECF6\", \"showlakes\": true, \"showland\": true, \"subunitcolor\": \"white\"}, \"hoverlabel\": {\"align\": \"left\"}, \"hovermode\": \"closest\", \"mapbox\": {\"style\": \"light\"}, \"paper_bgcolor\": \"white\", \"plot_bgcolor\": \"#E5ECF6\", \"polar\": {\"angularaxis\": {\"gridcolor\": \"white\", \"linecolor\": \"white\", \"ticks\": \"\"}, \"bgcolor\": \"#E5ECF6\", \"radialaxis\": {\"gridcolor\": \"white\", \"linecolor\": \"white\", \"ticks\": \"\"}}, \"scene\": {\"xaxis\": {\"backgroundcolor\": \"#E5ECF6\", \"gridcolor\": \"white\", \"gridwidth\": 2, \"linecolor\": \"white\", \"showbackground\": true, \"ticks\": \"\", \"zerolinecolor\": \"white\"}, \"yaxis\": {\"backgroundcolor\": \"#E5ECF6\", \"gridcolor\": \"white\", \"gridwidth\": 2, \"linecolor\": \"white\", \"showbackground\": true, \"ticks\": \"\", \"zerolinecolor\": \"white\"}, \"zaxis\": {\"backgroundcolor\": \"#E5ECF6\", \"gridcolor\": \"white\", \"gridwidth\": 2, \"linecolor\": \"white\", \"showbackground\": true, \"ticks\": \"\", \"zerolinecolor\": \"white\"}}, \"shapedefaults\": {\"line\": {\"color\": \"#2a3f5f\"}}, \"ternary\": {\"aaxis\": {\"gridcolor\": \"white\", \"linecolor\": \"white\", \"ticks\": \"\"}, \"baxis\": {\"gridcolor\": \"white\", \"linecolor\": \"white\", \"ticks\": \"\"}, \"bgcolor\": \"#E5ECF6\", \"caxis\": {\"gridcolor\": \"white\", \"linecolor\": \"white\", \"ticks\": \"\"}}, \"title\": {\"x\": 0.05}, \"xaxis\": {\"automargin\": true, \"gridcolor\": \"white\", \"linecolor\": \"white\", \"ticks\": \"\", \"title\": {\"standoff\": 15}, \"zerolinecolor\": \"white\", \"zerolinewidth\": 2}, \"yaxis\": {\"automargin\": true, \"gridcolor\": \"white\", \"linecolor\": \"white\", \"ticks\": \"\", \"title\": {\"standoff\": 15}, \"zerolinecolor\": \"white\", \"zerolinewidth\": 2}}}, \"title\": {\"text\": \"Monthly variation of historical sales\", \"x\": 0.5}, \"xaxis\": {\"anchor\": \"y\", \"domain\": [0.0, 1.0], \"title\": {\"text\": \"Month\"}}, \"yaxis\": {\"anchor\": \"x\", \"domain\": [0.0, 1.0], \"title\": {\"text\": \"Amount $\"}}},                        {\"responsive\": true}                    ).then(function(){\n",
       "                            \n",
       "var gd = document.getElementById('d43ac56c-840e-4336-beac-5e93866085b5');\n",
       "var x = new MutationObserver(function (mutations, observer) {{\n",
       "        var display = window.getComputedStyle(gd).display;\n",
       "        if (!display || display === 'none') {{\n",
       "            console.log([gd, 'removed!']);\n",
       "            Plotly.purge(gd);\n",
       "            observer.disconnect();\n",
       "        }}\n",
       "}});\n",
       "\n",
       "// Listen for the removal of the full notebook cells\n",
       "var notebookContainer = gd.closest('#notebook-container');\n",
       "if (notebookContainer) {{\n",
       "    x.observe(notebookContainer, {childList: true});\n",
       "}}\n",
       "\n",
       "// Listen for the clearing of the current output cell\n",
       "var outputEl = gd.closest('.output');\n",
       "if (outputEl) {{\n",
       "    x.observe(outputEl, {childList: true});\n",
       "}}\n",
       "\n",
       "                        })                };                });            </script>        </div>"
      ]
     },
     "metadata": {},
     "output_type": "display_data"
    }
   ],
   "source": [
    "fig = px.box(df1, x=\"Month\", y=\"Sales\")\n",
    "fig.update_layout(title='Monthly variation of historical sales',xaxis_title='Month',yaxis_title=\"Amount $\", title_x=0.5)\n",
    "fig.show()"
   ]
  },
  {
   "cell_type": "markdown",
   "metadata": {},
   "source": [
    "## Trend & Seasonality"
   ]
  },
  {
   "cell_type": "code",
   "execution_count": 44,
   "metadata": {},
   "outputs": [
    {
     "data": {
      "application/vnd.plotly.v1+json": {
       "config": {
        "plotlyServerURL": "https://plot.ly"
       },
       "data": [
        {
         "hovertemplate": "NetB_spd=%{x}<br>Page Views=%{y}<extra></extra>",
         "legendgroup": "",
         "marker": {
          "color": "#636efa",
          "symbol": "circle"
         },
         "mode": "markers",
         "name": "",
         "showlegend": false,
         "type": "scattergl",
         "x": [
          0,
          0,
          0,
          0,
          0,
          0,
          0,
          0,
          0,
          0,
          0,
          0,
          0,
          0,
          0,
          0,
          98,
          0,
          78,
          0,
          0,
          0,
          0,
          0,
          0,
          0,
          0,
          0,
          0,
          0,
          0,
          0,
          0,
          0,
          0,
          0,
          0,
          0,
          135,
          0,
          0,
          639,
          0,
          0,
          0,
          0,
          0,
          0,
          0,
          0,
          0,
          0,
          0,
          0,
          0,
          0,
          12,
          0,
          0,
          0,
          0,
          203,
          0,
          0,
          0,
          0,
          0,
          0,
          4795,
          0,
          0,
          0,
          0,
          0,
          0,
          0,
          0,
          0,
          0,
          0,
          0,
          0,
          0,
          0,
          0,
          0,
          116,
          0,
          0,
          0,
          0,
          376,
          0,
          0,
          0,
          0,
          0,
          0,
          0,
          0,
          0,
          0,
          0,
          0,
          0,
          0,
          0,
          0,
          0,
          0,
          116,
          0,
          0,
          0,
          36,
          0,
          0,
          0,
          78,
          0,
          0,
          0,
          0,
          0,
          0,
          0,
          0,
          0,
          0,
          0,
          0,
          0,
          0,
          0,
          0,
          0,
          0,
          0,
          784,
          0,
          0,
          0,
          116,
          508,
          0,
          0,
          0,
          0,
          0,
          0,
          0,
          0,
          0,
          0,
          0,
          0,
          0,
          0,
          102,
          0,
          102,
          0,
          1048,
          0,
          78,
          72,
          439,
          0,
          0,
          0,
          0,
          0,
          0,
          0,
          0,
          0,
          0,
          0,
          0,
          0,
          0,
          73,
          0,
          98,
          145,
          0,
          0,
          512,
          0,
          50,
          0,
          0,
          0,
          0,
          0,
          0,
          0,
          0,
          0,
          0,
          0,
          0,
          0,
          0,
          0,
          0,
          203,
          0,
          0,
          0,
          1998,
          0,
          0,
          230,
          0,
          0,
          0,
          0,
          0,
          0,
          0,
          0,
          0,
          0,
          0,
          0,
          0,
          0,
          0,
          0,
          0,
          73,
          0,
          0,
          0,
          0,
          0,
          0,
          0,
          0,
          0,
          0,
          0,
          0,
          0,
          0,
          0,
          0,
          0,
          0,
          0,
          0,
          0,
          0,
          0,
          73,
          0,
          0,
          615,
          0,
          0,
          50,
          173,
          0,
          0,
          0,
          0,
          0,
          0,
          0,
          0,
          0,
          0,
          0,
          0,
          0,
          0,
          0,
          0,
          0,
          116,
          0,
          559,
          0,
          0,
          65,
          112,
          0,
          0,
          0,
          0,
          0,
          0,
          0,
          0,
          0,
          0,
          0,
          0,
          0,
          0,
          0,
          0,
          0,
          0,
          726,
          1119,
          0,
          0,
          0,
          0,
          0,
          0,
          0,
          0,
          0,
          0,
          0,
          0,
          0,
          0,
          0,
          0,
          0,
          0,
          0,
          0,
          102,
          174,
          508,
          482,
          320,
          0,
          0,
          29,
          0,
          0,
          0,
          0,
          0,
          0,
          0,
          0,
          0,
          0,
          0,
          0,
          0,
          0,
          0,
          0,
          0,
          0,
          0,
          224,
          0,
          3117,
          0,
          0,
          0,
          0,
          0,
          0,
          0,
          0,
          0,
          0,
          0,
          0,
          0,
          0,
          0,
          0,
          0,
          0,
          0,
          0,
          1278,
          1998,
          122,
          0,
          0,
          0,
          0,
          0,
          0,
          0,
          0,
          0,
          0,
          0,
          0,
          0,
          0,
          0,
          0,
          0,
          0,
          203,
          0,
          0,
          247,
          2318,
          0,
          0,
          0,
          0,
          0,
          0,
          0,
          0,
          0,
          0,
          0,
          0,
          0,
          0,
          0,
          0,
          0,
          0,
          0,
          87,
          153,
          28,
          639,
          1918,
          0,
          0,
          0,
          0,
          0,
          0,
          0,
          0,
          0,
          0,
          0,
          0,
          0,
          0,
          0,
          0,
          0,
          0,
          0,
          0,
          0,
          0,
          0,
          240,
          122,
          0,
          0,
          0,
          0,
          0,
          0,
          0,
          0,
          0,
          0,
          0,
          0,
          0,
          0,
          0,
          0,
          0,
          0,
          0,
          73,
          697,
          1234,
          1119,
          0,
          0,
          0,
          0,
          0,
          0,
          0,
          0,
          0,
          0,
          0,
          0,
          0,
          0,
          0,
          0,
          0,
          0,
          0,
          0,
          0,
          0,
          0,
          26,
          794,
          134,
          39,
          0,
          0,
          0,
          0,
          0,
          0,
          0,
          0,
          0,
          0,
          0,
          0,
          0,
          0,
          0,
          0,
          0,
          0,
          29,
          0,
          1626,
          0,
          0,
          1599,
          37,
          0,
          0,
          0,
          0,
          0,
          0,
          0,
          0,
          0,
          0,
          0,
          0,
          0,
          203,
          0,
          0,
          0,
          0,
          0,
          2993,
          0,
          0,
          0,
          426,
          0,
          0,
          0,
          0,
          0,
          0,
          0,
          0,
          0,
          0,
          0,
          0,
          0,
          0,
          0,
          203,
          0,
          0,
          0,
          1279,
          0,
          0,
          2421,
          0,
          0,
          0,
          0,
          0,
          0,
          0,
          0,
          0,
          0,
          0,
          0,
          0,
          0,
          0,
          0,
          0,
          0,
          0,
          1278,
          0,
          144,
          0,
          0,
          216,
          0,
          0,
          0,
          0,
          0,
          0,
          0,
          0,
          0,
          17,
          0,
          0,
          0,
          0,
          203,
          0,
          73,
          0,
          0,
          0,
          0,
          0,
          0,
          112,
          508,
          0,
          0,
          0,
          0,
          0,
          0,
          0,
          0,
          0,
          0,
          0,
          0,
          0,
          0,
          0,
          0,
          0,
          0,
          0,
          0,
          0,
          0,
          0,
          0,
          0,
          0,
          0,
          0,
          0,
          0,
          0,
          0,
          0,
          0,
          0,
          0,
          0,
          0,
          0,
          0,
          0,
          0,
          26,
          0,
          36,
          0,
          1108,
          0,
          0,
          0,
          0,
          0,
          0,
          0,
          0,
          0,
          0,
          0,
          0,
          0,
          29,
          0,
          167,
          247,
          144,
          0,
          1322,
          0,
          0,
          0,
          109,
          0,
          0,
          0,
          0,
          0,
          0,
          0,
          0,
          0,
          0,
          0,
          0,
          0,
          290,
          0,
          0,
          364,
          0,
          169,
          0,
          209,
          3298,
          0,
          3453,
          0,
          0,
          0,
          0,
          0,
          0,
          0,
          0,
          0,
          0,
          0,
          0,
          0,
          0,
          87,
          80,
          291,
          0,
          0,
          1279,
          62,
          3458,
          0,
          0,
          0,
          0,
          0,
          0,
          0,
          0,
          0,
          0,
          0,
          0,
          0,
          0,
          0,
          87,
          98,
          0,
          21,
          0,
          0,
          959,
          0,
          4795,
          0,
          0,
          0,
          0,
          0,
          0,
          0,
          0,
          0,
          0,
          0,
          0,
          0,
          0,
          0,
          0,
          0,
          0,
          240,
          0,
          84,
          2224,
          0,
          0,
          0,
          0,
          196,
          0,
          0,
          0,
          0,
          0,
          0,
          0,
          0,
          4,
          0,
          0,
          0,
          203,
          7,
          0,
          73,
          14,
          0,
          885,
          43,
          0,
          2557,
          0,
          21,
          0,
          0,
          0,
          0,
          0,
          0,
          0,
          0,
          0,
          0,
          0,
          14,
          0,
          0,
          29,
          0,
          102,
          145,
          280,
          0,
          700,
          75,
          0,
          0,
          0,
          0,
          0,
          0,
          0,
          0,
          0,
          0,
          0,
          0,
          0,
          0,
          0,
          0,
          291,
          0,
          131,
          0,
          125,
          378,
          0,
          156,
          0,
          0,
          0,
          0,
          0,
          0,
          0,
          0,
          0,
          0,
          0,
          0,
          0,
          0,
          247,
          28,
          174,
          291,
          162,
          1278,
          959,
          368,
          78,
          0,
          0,
          0,
          0,
          0,
          0,
          0,
          0,
          0,
          0,
          0,
          0,
          0,
          0,
          0,
          160,
          0,
          80,
          291,
          0,
          0,
          1598,
          50,
          3357,
          166,
          0,
          0,
          0,
          0,
          0,
          0,
          0,
          0,
          0,
          0,
          0,
          0,
          0,
          0,
          87,
          283,
          87,
          0,
          0,
          1278,
          2238,
          639,
          442,
          216,
          0,
          0,
          0,
          0,
          0,
          0,
          0,
          0,
          0,
          0,
          0,
          0,
          29,
          0,
          203,
          0,
          320,
          73,
          0,
          0,
          1794,
          171,
          0,
          78,
          72,
          0,
          0,
          0,
          0,
          0,
          0,
          0,
          0,
          0,
          0,
          0,
          0,
          0,
          87,
          0,
          260,
          73,
          0,
          0,
          122,
          0,
          1598,
          0,
          2797,
          0,
          0,
          0,
          0,
          0,
          0,
          0,
          0,
          0,
          34,
          0,
          0,
          0,
          131,
          29,
          0,
          0,
          290,
          98,
          2019,
          160,
          0,
          0,
          747,
          16,
          0,
          0,
          0,
          0,
          0,
          0,
          0,
          0,
          0,
          0,
          0,
          0,
          0,
          131,
          283,
          0,
          160,
          0,
          0,
          6116,
          0,
          0,
          0,
          0,
          0,
          0,
          0,
          0,
          0,
          0,
          0,
          0,
          0,
          0,
          0,
          0,
          87,
          0,
          319,
          371,
          80,
          112,
          36,
          0,
          2238,
          230,
          0,
          0,
          0,
          0,
          0,
          0,
          0,
          0,
          0,
          0,
          0,
          0,
          0,
          0,
          0,
          319,
          0,
          436,
          0,
          0,
          36,
          78,
          4636,
          1119,
          0,
          0,
          0,
          0,
          0,
          0,
          0,
          0,
          0,
          0,
          0,
          0,
          0,
          0,
          0,
          406,
          0,
          0,
          0,
          1040,
          413,
          115,
          120,
          266,
          216,
          0,
          0,
          0,
          0,
          0,
          0,
          0,
          0,
          0,
          0,
          0,
          0,
          0,
          0,
          87,
          160,
          0,
          0,
          0,
          1503,
          3517,
          321,
          1279,
          0,
          0,
          0,
          0,
          0,
          0,
          0,
          0,
          0,
          0,
          0,
          29,
          0,
          0,
          203,
          203,
          80,
          232,
          0,
          0,
          566,
          0,
          0,
          0,
          1119,
          0,
          0,
          0,
          0,
          0,
          0,
          0,
          0,
          0,
          0,
          0,
          0,
          0,
          87,
          87,
          29,
          131,
          508,
          871,
          649,
          656,
          0,
          935,
          0,
          0
         ],
         "xaxis": "x",
         "y": [
          62,
          33,
          15,
          17,
          12,
          9,
          20,
          46,
          106,
          190,
          244,
          247,
          260,
          260,
          218,
          229,
          204,
          232,
          190,
          175,
          168,
          187,
          148,
          91,
          46,
          25,
          22,
          11,
          12,
          16,
          50,
          77,
          130,
          311,
          359,
          353,
          346,
          281,
          290,
          304,
          276,
          186,
          180,
          176,
          195,
          240,
          167,
          107,
          55,
          32,
          26,
          14,
          11,
          19,
          36,
          88,
          125,
          206,
          271,
          309,
          260,
          261,
          274,
          236,
          276,
          210,
          155,
          169,
          193,
          183,
          118,
          92,
          44,
          38,
          14,
          23,
          12,
          17,
          40,
          85,
          143,
          197,
          220,
          255,
          295,
          286,
          268,
          240,
          211,
          177,
          159,
          152,
          165,
          197,
          144,
          92,
          60,
          25,
          18,
          17,
          12,
          16,
          29,
          65,
          137,
          197,
          244,
          278,
          280,
          269,
          226,
          264,
          250,
          187,
          185,
          175,
          173,
          186,
          157,
          97,
          53,
          31,
          18,
          13,
          18,
          21,
          42,
          63,
          158,
          196,
          248,
          258,
          279,
          226,
          249,
          246,
          212,
          159,
          135,
          168,
          144,
          161,
          110,
          69,
          59,
          34,
          17,
          12,
          12,
          11,
          29,
          86,
          135,
          178,
          226,
          254,
          272,
          247,
          304,
          254,
          261,
          192,
          143,
          162,
          127,
          130,
          110,
          77,
          40,
          50,
          21,
          17,
          9,
          15,
          20,
          77,
          112,
          170,
          243,
          261,
          299,
          281,
          303,
          311,
          277,
          225,
          214,
          213,
          216,
          205,
          158,
          121,
          67,
          54,
          32,
          22,
          9,
          23,
          39,
          66,
          151,
          264,
          453,
          580,
          419,
          353,
          338,
          267,
          312,
          270,
          241,
          238,
          218,
          234,
          161,
          107,
          63,
          40,
          19,
          34,
          14,
          33,
          39,
          89,
          138,
          220,
          247,
          255,
          282,
          283,
          234,
          318,
          355,
          238,
          195,
          240,
          169,
          186,
          146,
          102,
          46,
          25,
          18,
          16,
          17,
          25,
          33,
          92,
          159,
          208,
          239,
          292,
          320,
          276,
          292,
          221,
          275,
          203,
          178,
          191,
          212,
          205,
          130,
          90,
          53,
          40,
          16,
          20,
          10,
          26,
          35,
          76,
          124,
          204,
          246,
          264,
          264,
          276,
          273,
          257,
          256,
          205,
          187,
          214,
          207,
          208,
          141,
          89,
          52,
          40,
          21,
          26,
          16,
          26,
          23,
          63,
          135,
          230,
          269,
          263,
          267,
          241,
          275,
          269,
          291,
          201,
          176,
          170,
          152,
          128,
          117,
          87,
          57,
          32,
          20,
          20,
          11,
          33,
          26,
          73,
          145,
          171,
          249,
          260,
          259,
          270,
          266,
          241,
          239,
          193,
          161,
          157,
          169,
          138,
          140,
          100,
          55,
          24,
          25,
          18,
          4,
          16,
          26,
          53,
          139,
          246,
          307,
          274,
          249,
          287,
          261,
          305,
          251,
          242,
          213,
          234,
          183,
          182,
          133,
          114,
          53,
          26,
          30,
          21,
          12,
          20,
          36,
          74,
          158,
          272,
          288,
          353,
          318,
          288,
          263,
          300,
          285,
          248,
          209,
          216,
          216,
          268,
          147,
          98,
          38,
          31,
          26,
          27,
          17,
          22,
          48,
          90,
          138,
          239,
          301,
          247,
          293,
          260,
          263,
          234,
          236,
          217,
          184,
          217,
          200,
          230,
          145,
          67,
          49,
          45,
          13,
          17,
          8,
          17,
          41,
          65,
          148,
          210,
          215,
          263,
          276,
          244,
          250,
          237,
          252,
          182,
          167,
          207,
          138,
          184,
          143,
          87,
          63,
          43,
          20,
          10,
          18,
          19,
          32,
          76,
          129,
          198,
          230,
          250,
          280,
          230,
          253,
          255,
          232,
          222,
          186,
          201,
          187,
          250,
          142,
          105,
          60,
          45,
          18,
          21,
          21,
          21,
          56,
          75,
          139,
          206,
          223,
          248,
          258,
          233,
          210,
          225,
          219,
          178,
          175,
          153,
          183,
          170,
          126,
          104,
          67,
          37,
          24,
          21,
          16,
          12,
          44,
          90,
          146,
          195,
          274,
          280,
          292,
          244,
          220,
          225,
          237,
          197,
          170,
          140,
          146,
          123,
          125,
          85,
          58,
          44,
          29,
          13,
          13,
          12,
          26,
          55,
          135,
          196,
          260,
          289,
          245,
          223,
          248,
          245,
          217,
          235,
          214,
          221,
          210,
          175,
          172,
          111,
          41,
          45,
          28,
          14,
          11,
          14,
          46,
          68,
          105,
          198,
          257,
          225,
          290,
          275,
          236,
          317,
          285,
          161,
          139,
          156,
          167,
          210,
          117,
          70,
          49,
          24,
          15,
          14,
          10,
          25,
          28,
          55,
          98,
          159,
          203,
          198,
          216,
          235,
          207,
          192,
          261,
          167,
          184,
          164,
          185,
          186,
          144,
          68,
          45,
          37,
          25,
          6,
          13,
          24,
          24,
          66,
          108,
          206,
          182,
          174,
          189,
          172,
          174,
          164,
          204,
          162,
          152,
          174,
          141,
          137,
          120,
          55,
          39,
          33,
          19,
          10,
          4,
          13,
          32,
          69,
          103,
          160,
          179,
          199,
          162,
          171,
          190,
          227,
          191,
          153,
          152,
          174,
          177,
          140,
          102,
          84,
          37,
          38,
          15,
          18,
          18,
          25,
          34,
          54,
          113,
          147,
          183,
          201,
          189,
          204,
          154,
          191,
          196,
          143,
          124,
          139,
          101,
          126,
          138,
          70,
          52,
          31,
          12,
          13,
          13,
          15,
          33,
          55,
          153,
          163,
          186,
          222,
          217,
          209,
          160,
          168,
          222,
          135,
          121,
          121,
          129,
          118,
          108,
          92,
          46,
          47,
          21,
          8,
          16,
          16,
          30,
          65,
          114,
          149,
          206,
          218,
          215,
          211,
          189,
          243,
          236,
          159,
          168,
          171,
          144,
          138,
          98,
          92,
          47,
          30,
          20,
          20,
          24,
          18,
          37,
          62,
          109,
          215,
          266,
          232,
          218,
          210,
          228,
          217,
          219,
          187,
          155,
          188,
          189,
          155,
          127,
          83,
          40,
          43,
          20,
          14,
          9,
          14,
          49,
          83,
          116,
          152,
          205,
          171,
          220,
          203,
          199,
          190,
          203,
          145,
          155,
          135,
          151,
          154,
          112,
          82,
          41,
          26,
          18,
          11,
          16,
          25,
          29,
          78,
          93,
          133,
          219,
          238,
          212,
          184,
          148,
          169,
          184,
          148,
          162,
          114,
          143,
          123,
          112,
          67,
          45,
          31,
          8,
          15,
          10,
          17,
          40,
          73,
          107,
          143,
          171,
          163,
          220,
          167,
          176,
          172,
          213,
          166,
          128,
          127,
          146,
          132,
          89,
          70,
          38,
          36,
          28,
          28,
          19,
          18,
          33,
          63,
          109,
          196,
          184,
          220,
          251,
          210,
          216,
          192,
          208,
          169,
          142,
          146,
          130,
          129,
          83,
          74,
          43,
          25,
          20,
          6,
          7,
          17,
          24,
          58,
          137,
          170,
          209,
          270,
          231,
          188,
          183,
          246,
          221,
          148,
          125,
          141,
          107,
          115,
          80,
          102,
          58,
          31,
          25,
          17,
          10,
          17,
          25,
          56,
          113,
          127,
          233,
          226,
          256,
          228,
          263,
          219,
          217,
          156,
          144,
          139,
          150,
          159,
          116,
          72,
          44,
          22,
          13,
          16,
          14,
          16,
          49,
          85,
          130,
          234,
          251,
          254,
          275,
          260,
          227,
          174,
          253,
          163,
          169,
          174,
          169,
          191,
          116,
          58,
          36,
          39,
          20,
          11,
          11,
          17,
          35,
          67,
          102,
          188,
          194,
          220,
          204,
          217,
          247,
          175,
          269,
          127,
          142,
          170,
          175,
          160,
          123,
          64,
          50,
          23,
          32,
          13,
          10,
          14,
          40,
          60,
          120,
          223,
          251,
          290,
          263,
          292,
          210,
          254,
          219,
          206,
          183,
          181,
          203,
          178,
          137,
          90,
          40,
          30,
          20,
          15,
          8,
          17,
          32,
          96,
          101,
          182,
          220,
          217,
          274,
          174,
          249,
          191,
          190,
          163,
          146,
          160,
          175,
          178,
          128,
          87,
          42,
          17,
          11,
          9,
          12,
          26,
          54,
          109,
          126,
          192,
          172,
          189,
          229,
          198,
          169,
          186,
          211,
          115,
          130,
          127,
          130,
          91,
          101,
          68,
          67,
          27,
          9,
          14,
          18,
          16,
          18,
          66,
          106,
          189,
          240,
          252,
          176,
          190,
          200,
          212,
          180,
          155,
          126,
          121,
          133,
          138,
          92,
          64,
          53,
          29,
          34,
          14,
          13,
          16,
          36,
          69,
          115,
          157,
          231,
          243,
          247,
          203,
          214,
          191,
          224,
          194,
          179,
          159,
          154,
          147,
          116,
          75,
          43,
          42,
          10,
          15,
          10,
          19,
          22,
          83,
          125,
          193,
          259,
          233,
          231,
          276,
          260,
          225,
          241,
          259,
          148,
          190,
          174,
          202,
          129,
          97,
          54,
          23,
          20,
          14,
          13,
          24,
          37,
          75,
          102,
          187,
          240,
          281,
          286,
          231,
          191,
          224,
          254,
          169,
          165,
          196,
          218,
          192,
          145,
          84,
          55,
          38,
          20,
          16,
          22,
          21,
          55,
          117,
          158,
          229,
          252,
          338,
          338,
          290,
          286,
          248,
          315,
          234,
          189,
          178,
          235,
          200,
          139,
          93,
          54,
          44,
          28,
          17,
          13,
          29,
          58,
          98,
          103,
          172,
          202,
          180,
          222,
          219,
          188,
          200,
          208,
          185,
          166,
          183,
          159,
          216,
          157,
          66,
          51,
          30,
          22,
          16,
          11,
          10,
          24,
          81,
          117,
          174,
          202,
          252,
          203,
          225,
          189,
          213,
          246,
          177,
          128,
          147,
          155,
          157,
          114,
          87,
          51,
          28,
          25,
          20,
          11,
          17,
          35,
          81,
          136,
          173,
          215,
          231,
          214,
          241,
          244,
          238,
          206,
          196,
          148,
          148,
          153,
          134,
          89,
          73
         ],
         "yaxis": "y"
        },
        {
         "hovertemplate": "<b>OLS trendline</b><br>Page Views = 0.0166935 * NetB_spd + 137.454<br>R<sup>2</sup>=0.007813<br><br>NetB_spd=%{x}<br>Page Views=%{y} <b>(trend)</b><extra></extra>",
         "legendgroup": "",
         "marker": {
          "color": "#636efa",
          "symbol": "circle"
         },
         "mode": "lines",
         "name": "",
         "showlegend": false,
         "type": "scattergl",
         "x": [
          0,
          0,
          0,
          0,
          0,
          0,
          0,
          0,
          0,
          0,
          0,
          0,
          0,
          0,
          0,
          0,
          0,
          0,
          0,
          0,
          0,
          0,
          0,
          0,
          0,
          0,
          0,
          0,
          0,
          0,
          0,
          0,
          0,
          0,
          0,
          0,
          0,
          0,
          0,
          0,
          0,
          0,
          0,
          0,
          0,
          0,
          0,
          0,
          0,
          0,
          0,
          0,
          0,
          0,
          0,
          0,
          0,
          0,
          0,
          0,
          0,
          0,
          0,
          0,
          0,
          0,
          0,
          0,
          0,
          0,
          0,
          0,
          0,
          0,
          0,
          0,
          0,
          0,
          0,
          0,
          0,
          0,
          0,
          0,
          0,
          0,
          0,
          0,
          0,
          0,
          0,
          0,
          0,
          0,
          0,
          0,
          0,
          0,
          0,
          0,
          0,
          0,
          0,
          0,
          0,
          0,
          0,
          0,
          0,
          0,
          0,
          0,
          0,
          0,
          0,
          0,
          0,
          0,
          0,
          0,
          0,
          0,
          0,
          0,
          0,
          0,
          0,
          0,
          0,
          0,
          0,
          0,
          0,
          0,
          0,
          0,
          0,
          0,
          0,
          0,
          0,
          0,
          0,
          0,
          0,
          0,
          0,
          0,
          0,
          0,
          0,
          0,
          0,
          0,
          0,
          0,
          0,
          0,
          0,
          0,
          0,
          0,
          0,
          0,
          0,
          0,
          0,
          0,
          0,
          0,
          0,
          0,
          0,
          0,
          0,
          0,
          0,
          0,
          0,
          0,
          0,
          0,
          0,
          0,
          0,
          0,
          0,
          0,
          0,
          0,
          0,
          0,
          0,
          0,
          0,
          0,
          0,
          0,
          0,
          0,
          0,
          0,
          0,
          0,
          0,
          0,
          0,
          0,
          0,
          0,
          0,
          0,
          0,
          0,
          0,
          0,
          0,
          0,
          0,
          0,
          0,
          0,
          0,
          0,
          0,
          0,
          0,
          0,
          0,
          0,
          0,
          0,
          0,
          0,
          0,
          0,
          0,
          0,
          0,
          0,
          0,
          0,
          0,
          0,
          0,
          0,
          0,
          0,
          0,
          0,
          0,
          0,
          0,
          0,
          0,
          0,
          0,
          0,
          0,
          0,
          0,
          0,
          0,
          0,
          0,
          0,
          0,
          0,
          0,
          0,
          0,
          0,
          0,
          0,
          0,
          0,
          0,
          0,
          0,
          0,
          0,
          0,
          0,
          0,
          0,
          0,
          0,
          0,
          0,
          0,
          0,
          0,
          0,
          0,
          0,
          0,
          0,
          0,
          0,
          0,
          0,
          0,
          0,
          0,
          0,
          0,
          0,
          0,
          0,
          0,
          0,
          0,
          0,
          0,
          0,
          0,
          0,
          0,
          0,
          0,
          0,
          0,
          0,
          0,
          0,
          0,
          0,
          0,
          0,
          0,
          0,
          0,
          0,
          0,
          0,
          0,
          0,
          0,
          0,
          0,
          0,
          0,
          0,
          0,
          0,
          0,
          0,
          0,
          0,
          0,
          0,
          0,
          0,
          0,
          0,
          0,
          0,
          0,
          0,
          0,
          0,
          0,
          0,
          0,
          0,
          0,
          0,
          0,
          0,
          0,
          0,
          0,
          0,
          0,
          0,
          0,
          0,
          0,
          0,
          0,
          0,
          0,
          0,
          0,
          0,
          0,
          0,
          0,
          0,
          0,
          0,
          0,
          0,
          0,
          0,
          0,
          0,
          0,
          0,
          0,
          0,
          0,
          0,
          0,
          0,
          0,
          0,
          0,
          0,
          0,
          0,
          0,
          0,
          0,
          0,
          0,
          0,
          0,
          0,
          0,
          0,
          0,
          0,
          0,
          0,
          0,
          0,
          0,
          0,
          0,
          0,
          0,
          0,
          0,
          0,
          0,
          0,
          0,
          0,
          0,
          0,
          0,
          0,
          0,
          0,
          0,
          0,
          0,
          0,
          0,
          0,
          0,
          0,
          0,
          0,
          0,
          0,
          0,
          0,
          0,
          0,
          0,
          0,
          0,
          0,
          0,
          0,
          0,
          0,
          0,
          0,
          0,
          0,
          0,
          0,
          0,
          0,
          0,
          0,
          0,
          0,
          0,
          0,
          0,
          0,
          0,
          0,
          0,
          0,
          0,
          0,
          0,
          0,
          0,
          0,
          0,
          0,
          0,
          0,
          0,
          0,
          0,
          0,
          0,
          0,
          0,
          0,
          0,
          0,
          0,
          0,
          0,
          0,
          0,
          0,
          0,
          0,
          0,
          0,
          0,
          0,
          0,
          0,
          0,
          0,
          0,
          0,
          0,
          0,
          0,
          0,
          0,
          0,
          0,
          0,
          0,
          0,
          0,
          0,
          0,
          0,
          0,
          0,
          0,
          0,
          0,
          0,
          0,
          0,
          0,
          0,
          0,
          0,
          0,
          0,
          0,
          0,
          0,
          0,
          0,
          0,
          0,
          0,
          0,
          0,
          0,
          0,
          0,
          0,
          0,
          0,
          0,
          0,
          0,
          0,
          0,
          0,
          0,
          0,
          0,
          0,
          0,
          0,
          0,
          0,
          0,
          0,
          0,
          0,
          0,
          0,
          0,
          0,
          0,
          0,
          0,
          0,
          0,
          0,
          0,
          0,
          0,
          0,
          0,
          0,
          0,
          0,
          0,
          0,
          0,
          0,
          0,
          0,
          0,
          0,
          0,
          0,
          0,
          0,
          0,
          0,
          0,
          0,
          0,
          0,
          0,
          0,
          0,
          0,
          0,
          0,
          0,
          0,
          0,
          0,
          0,
          0,
          0,
          0,
          0,
          0,
          0,
          0,
          0,
          0,
          0,
          0,
          0,
          0,
          0,
          0,
          0,
          0,
          0,
          0,
          0,
          0,
          0,
          0,
          0,
          0,
          0,
          0,
          0,
          0,
          0,
          0,
          0,
          0,
          0,
          0,
          0,
          0,
          0,
          0,
          0,
          0,
          0,
          0,
          0,
          0,
          0,
          0,
          0,
          0,
          0,
          0,
          0,
          0,
          0,
          0,
          0,
          0,
          0,
          0,
          0,
          0,
          0,
          0,
          0,
          0,
          0,
          0,
          0,
          0,
          0,
          0,
          0,
          0,
          0,
          0,
          0,
          0,
          0,
          0,
          0,
          0,
          0,
          0,
          0,
          0,
          0,
          0,
          0,
          0,
          0,
          0,
          0,
          0,
          0,
          0,
          0,
          0,
          0,
          0,
          0,
          0,
          0,
          0,
          0,
          0,
          0,
          0,
          0,
          0,
          0,
          0,
          0,
          0,
          0,
          0,
          0,
          0,
          0,
          0,
          0,
          0,
          0,
          0,
          0,
          0,
          0,
          0,
          0,
          0,
          0,
          0,
          0,
          0,
          0,
          0,
          0,
          0,
          0,
          0,
          0,
          0,
          0,
          0,
          0,
          0,
          0,
          0,
          0,
          0,
          0,
          0,
          0,
          0,
          0,
          0,
          0,
          0,
          0,
          0,
          0,
          0,
          0,
          0,
          0,
          0,
          0,
          0,
          0,
          0,
          0,
          0,
          0,
          0,
          0,
          0,
          0,
          0,
          0,
          0,
          0,
          0,
          0,
          0,
          0,
          0,
          0,
          0,
          0,
          0,
          0,
          0,
          0,
          0,
          0,
          0,
          0,
          0,
          0,
          0,
          0,
          0,
          0,
          0,
          0,
          0,
          0,
          0,
          0,
          0,
          0,
          0,
          0,
          0,
          0,
          0,
          0,
          0,
          0,
          0,
          0,
          0,
          0,
          0,
          0,
          0,
          0,
          0,
          0,
          0,
          0,
          0,
          0,
          0,
          0,
          0,
          0,
          0,
          0,
          0,
          0,
          0,
          0,
          0,
          0,
          0,
          0,
          0,
          0,
          0,
          0,
          0,
          0,
          0,
          0,
          0,
          0,
          0,
          0,
          0,
          0,
          0,
          0,
          0,
          0,
          0,
          0,
          0,
          0,
          0,
          0,
          0,
          0,
          0,
          0,
          0,
          0,
          0,
          0,
          0,
          0,
          0,
          0,
          0,
          0,
          0,
          0,
          0,
          0,
          0,
          0,
          0,
          0,
          0,
          0,
          0,
          0,
          0,
          0,
          0,
          0,
          0,
          0,
          0,
          0,
          0,
          0,
          0,
          0,
          4,
          7,
          12,
          14,
          14,
          16,
          17,
          21,
          21,
          26,
          26,
          28,
          28,
          29,
          29,
          29,
          29,
          29,
          29,
          29,
          29,
          34,
          36,
          36,
          36,
          36,
          37,
          39,
          43,
          50,
          50,
          50,
          62,
          65,
          72,
          72,
          73,
          73,
          73,
          73,
          73,
          73,
          73,
          73,
          75,
          78,
          78,
          78,
          78,
          78,
          78,
          80,
          80,
          80,
          80,
          84,
          87,
          87,
          87,
          87,
          87,
          87,
          87,
          87,
          87,
          87,
          98,
          98,
          98,
          98,
          102,
          102,
          102,
          102,
          109,
          112,
          112,
          112,
          115,
          116,
          116,
          116,
          116,
          120,
          122,
          122,
          122,
          125,
          131,
          131,
          131,
          131,
          134,
          135,
          144,
          144,
          145,
          145,
          153,
          156,
          160,
          160,
          160,
          160,
          162,
          166,
          167,
          169,
          171,
          173,
          174,
          174,
          196,
          203,
          203,
          203,
          203,
          203,
          203,
          203,
          203,
          203,
          203,
          209,
          216,
          216,
          216,
          224,
          230,
          230,
          232,
          240,
          240,
          247,
          247,
          247,
          260,
          266,
          280,
          283,
          283,
          290,
          290,
          291,
          291,
          291,
          291,
          319,
          319,
          320,
          320,
          321,
          364,
          368,
          371,
          376,
          378,
          406,
          413,
          426,
          436,
          439,
          442,
          482,
          508,
          508,
          508,
          508,
          512,
          559,
          566,
          615,
          639,
          639,
          639,
          649,
          656,
          697,
          700,
          726,
          747,
          784,
          794,
          871,
          885,
          935,
          959,
          959,
          1040,
          1048,
          1108,
          1119,
          1119,
          1119,
          1119,
          1234,
          1278,
          1278,
          1278,
          1278,
          1279,
          1279,
          1279,
          1322,
          1503,
          1598,
          1598,
          1599,
          1626,
          1794,
          1918,
          1998,
          1998,
          2019,
          2224,
          2238,
          2238,
          2318,
          2421,
          2557,
          2797,
          2993,
          3117,
          3298,
          3357,
          3453,
          3458,
          3517,
          4636,
          4795,
          4795,
          6116
         ],
         "xaxis": "x",
         "y": [
          137.454175132896,
          137.454175132896,
          137.454175132896,
          137.454175132896,
          137.454175132896,
          137.454175132896,
          137.454175132896,
          137.454175132896,
          137.454175132896,
          137.454175132896,
          137.454175132896,
          137.454175132896,
          137.454175132896,
          137.454175132896,
          137.454175132896,
          137.454175132896,
          137.454175132896,
          137.454175132896,
          137.454175132896,
          137.454175132896,
          137.454175132896,
          137.454175132896,
          137.454175132896,
          137.454175132896,
          137.454175132896,
          137.454175132896,
          137.454175132896,
          137.454175132896,
          137.454175132896,
          137.454175132896,
          137.454175132896,
          137.454175132896,
          137.454175132896,
          137.454175132896,
          137.454175132896,
          137.454175132896,
          137.454175132896,
          137.454175132896,
          137.454175132896,
          137.454175132896,
          137.454175132896,
          137.454175132896,
          137.454175132896,
          137.454175132896,
          137.454175132896,
          137.454175132896,
          137.454175132896,
          137.454175132896,
          137.454175132896,
          137.454175132896,
          137.454175132896,
          137.454175132896,
          137.454175132896,
          137.454175132896,
          137.454175132896,
          137.454175132896,
          137.454175132896,
          137.454175132896,
          137.454175132896,
          137.454175132896,
          137.454175132896,
          137.454175132896,
          137.454175132896,
          137.454175132896,
          137.454175132896,
          137.454175132896,
          137.454175132896,
          137.454175132896,
          137.454175132896,
          137.454175132896,
          137.454175132896,
          137.454175132896,
          137.454175132896,
          137.454175132896,
          137.454175132896,
          137.454175132896,
          137.454175132896,
          137.454175132896,
          137.454175132896,
          137.454175132896,
          137.454175132896,
          137.454175132896,
          137.454175132896,
          137.454175132896,
          137.454175132896,
          137.454175132896,
          137.454175132896,
          137.454175132896,
          137.454175132896,
          137.454175132896,
          137.454175132896,
          137.454175132896,
          137.454175132896,
          137.454175132896,
          137.454175132896,
          137.454175132896,
          137.454175132896,
          137.454175132896,
          137.454175132896,
          137.454175132896,
          137.454175132896,
          137.454175132896,
          137.454175132896,
          137.454175132896,
          137.454175132896,
          137.454175132896,
          137.454175132896,
          137.454175132896,
          137.454175132896,
          137.454175132896,
          137.454175132896,
          137.454175132896,
          137.454175132896,
          137.454175132896,
          137.454175132896,
          137.454175132896,
          137.454175132896,
          137.454175132896,
          137.454175132896,
          137.454175132896,
          137.454175132896,
          137.454175132896,
          137.454175132896,
          137.454175132896,
          137.454175132896,
          137.454175132896,
          137.454175132896,
          137.454175132896,
          137.454175132896,
          137.454175132896,
          137.454175132896,
          137.454175132896,
          137.454175132896,
          137.454175132896,
          137.454175132896,
          137.454175132896,
          137.454175132896,
          137.454175132896,
          137.454175132896,
          137.454175132896,
          137.454175132896,
          137.454175132896,
          137.454175132896,
          137.454175132896,
          137.454175132896,
          137.454175132896,
          137.454175132896,
          137.454175132896,
          137.454175132896,
          137.454175132896,
          137.454175132896,
          137.454175132896,
          137.454175132896,
          137.454175132896,
          137.454175132896,
          137.454175132896,
          137.454175132896,
          137.454175132896,
          137.454175132896,
          137.454175132896,
          137.454175132896,
          137.454175132896,
          137.454175132896,
          137.454175132896,
          137.454175132896,
          137.454175132896,
          137.454175132896,
          137.454175132896,
          137.454175132896,
          137.454175132896,
          137.454175132896,
          137.454175132896,
          137.454175132896,
          137.454175132896,
          137.454175132896,
          137.454175132896,
          137.454175132896,
          137.454175132896,
          137.454175132896,
          137.454175132896,
          137.454175132896,
          137.454175132896,
          137.454175132896,
          137.454175132896,
          137.454175132896,
          137.454175132896,
          137.454175132896,
          137.454175132896,
          137.454175132896,
          137.454175132896,
          137.454175132896,
          137.454175132896,
          137.454175132896,
          137.454175132896,
          137.454175132896,
          137.454175132896,
          137.454175132896,
          137.454175132896,
          137.454175132896,
          137.454175132896,
          137.454175132896,
          137.454175132896,
          137.454175132896,
          137.454175132896,
          137.454175132896,
          137.454175132896,
          137.454175132896,
          137.454175132896,
          137.454175132896,
          137.454175132896,
          137.454175132896,
          137.454175132896,
          137.454175132896,
          137.454175132896,
          137.454175132896,
          137.454175132896,
          137.454175132896,
          137.454175132896,
          137.454175132896,
          137.454175132896,
          137.454175132896,
          137.454175132896,
          137.454175132896,
          137.454175132896,
          137.454175132896,
          137.454175132896,
          137.454175132896,
          137.454175132896,
          137.454175132896,
          137.454175132896,
          137.454175132896,
          137.454175132896,
          137.454175132896,
          137.454175132896,
          137.454175132896,
          137.454175132896,
          137.454175132896,
          137.454175132896,
          137.454175132896,
          137.454175132896,
          137.454175132896,
          137.454175132896,
          137.454175132896,
          137.454175132896,
          137.454175132896,
          137.454175132896,
          137.454175132896,
          137.454175132896,
          137.454175132896,
          137.454175132896,
          137.454175132896,
          137.454175132896,
          137.454175132896,
          137.454175132896,
          137.454175132896,
          137.454175132896,
          137.454175132896,
          137.454175132896,
          137.454175132896,
          137.454175132896,
          137.454175132896,
          137.454175132896,
          137.454175132896,
          137.454175132896,
          137.454175132896,
          137.454175132896,
          137.454175132896,
          137.454175132896,
          137.454175132896,
          137.454175132896,
          137.454175132896,
          137.454175132896,
          137.454175132896,
          137.454175132896,
          137.454175132896,
          137.454175132896,
          137.454175132896,
          137.454175132896,
          137.454175132896,
          137.454175132896,
          137.454175132896,
          137.454175132896,
          137.454175132896,
          137.454175132896,
          137.454175132896,
          137.454175132896,
          137.454175132896,
          137.454175132896,
          137.454175132896,
          137.454175132896,
          137.454175132896,
          137.454175132896,
          137.454175132896,
          137.454175132896,
          137.454175132896,
          137.454175132896,
          137.454175132896,
          137.454175132896,
          137.454175132896,
          137.454175132896,
          137.454175132896,
          137.454175132896,
          137.454175132896,
          137.454175132896,
          137.454175132896,
          137.454175132896,
          137.454175132896,
          137.454175132896,
          137.454175132896,
          137.454175132896,
          137.454175132896,
          137.454175132896,
          137.454175132896,
          137.454175132896,
          137.454175132896,
          137.454175132896,
          137.454175132896,
          137.454175132896,
          137.454175132896,
          137.454175132896,
          137.454175132896,
          137.454175132896,
          137.454175132896,
          137.454175132896,
          137.454175132896,
          137.454175132896,
          137.454175132896,
          137.454175132896,
          137.454175132896,
          137.454175132896,
          137.454175132896,
          137.454175132896,
          137.454175132896,
          137.454175132896,
          137.454175132896,
          137.454175132896,
          137.454175132896,
          137.454175132896,
          137.454175132896,
          137.454175132896,
          137.454175132896,
          137.454175132896,
          137.454175132896,
          137.454175132896,
          137.454175132896,
          137.454175132896,
          137.454175132896,
          137.454175132896,
          137.454175132896,
          137.454175132896,
          137.454175132896,
          137.454175132896,
          137.454175132896,
          137.454175132896,
          137.454175132896,
          137.454175132896,
          137.454175132896,
          137.454175132896,
          137.454175132896,
          137.454175132896,
          137.454175132896,
          137.454175132896,
          137.454175132896,
          137.454175132896,
          137.454175132896,
          137.454175132896,
          137.454175132896,
          137.454175132896,
          137.454175132896,
          137.454175132896,
          137.454175132896,
          137.454175132896,
          137.454175132896,
          137.454175132896,
          137.454175132896,
          137.454175132896,
          137.454175132896,
          137.454175132896,
          137.454175132896,
          137.454175132896,
          137.454175132896,
          137.454175132896,
          137.454175132896,
          137.454175132896,
          137.454175132896,
          137.454175132896,
          137.454175132896,
          137.454175132896,
          137.454175132896,
          137.454175132896,
          137.454175132896,
          137.454175132896,
          137.454175132896,
          137.454175132896,
          137.454175132896,
          137.454175132896,
          137.454175132896,
          137.454175132896,
          137.454175132896,
          137.454175132896,
          137.454175132896,
          137.454175132896,
          137.454175132896,
          137.454175132896,
          137.454175132896,
          137.454175132896,
          137.454175132896,
          137.454175132896,
          137.454175132896,
          137.454175132896,
          137.454175132896,
          137.454175132896,
          137.454175132896,
          137.454175132896,
          137.454175132896,
          137.454175132896,
          137.454175132896,
          137.454175132896,
          137.454175132896,
          137.454175132896,
          137.454175132896,
          137.454175132896,
          137.454175132896,
          137.454175132896,
          137.454175132896,
          137.454175132896,
          137.454175132896,
          137.454175132896,
          137.454175132896,
          137.454175132896,
          137.454175132896,
          137.454175132896,
          137.454175132896,
          137.454175132896,
          137.454175132896,
          137.454175132896,
          137.454175132896,
          137.454175132896,
          137.454175132896,
          137.454175132896,
          137.454175132896,
          137.454175132896,
          137.454175132896,
          137.454175132896,
          137.454175132896,
          137.454175132896,
          137.454175132896,
          137.454175132896,
          137.454175132896,
          137.454175132896,
          137.454175132896,
          137.454175132896,
          137.454175132896,
          137.454175132896,
          137.454175132896,
          137.454175132896,
          137.454175132896,
          137.454175132896,
          137.454175132896,
          137.454175132896,
          137.454175132896,
          137.454175132896,
          137.454175132896,
          137.454175132896,
          137.454175132896,
          137.454175132896,
          137.454175132896,
          137.454175132896,
          137.454175132896,
          137.454175132896,
          137.454175132896,
          137.454175132896,
          137.454175132896,
          137.454175132896,
          137.454175132896,
          137.454175132896,
          137.454175132896,
          137.454175132896,
          137.454175132896,
          137.454175132896,
          137.454175132896,
          137.454175132896,
          137.454175132896,
          137.454175132896,
          137.454175132896,
          137.454175132896,
          137.454175132896,
          137.454175132896,
          137.454175132896,
          137.454175132896,
          137.454175132896,
          137.454175132896,
          137.454175132896,
          137.454175132896,
          137.454175132896,
          137.454175132896,
          137.454175132896,
          137.454175132896,
          137.454175132896,
          137.454175132896,
          137.454175132896,
          137.454175132896,
          137.454175132896,
          137.454175132896,
          137.454175132896,
          137.454175132896,
          137.454175132896,
          137.454175132896,
          137.454175132896,
          137.454175132896,
          137.454175132896,
          137.454175132896,
          137.454175132896,
          137.454175132896,
          137.454175132896,
          137.454175132896,
          137.454175132896,
          137.454175132896,
          137.454175132896,
          137.454175132896,
          137.454175132896,
          137.454175132896,
          137.454175132896,
          137.454175132896,
          137.454175132896,
          137.454175132896,
          137.454175132896,
          137.454175132896,
          137.454175132896,
          137.454175132896,
          137.454175132896,
          137.454175132896,
          137.454175132896,
          137.454175132896,
          137.454175132896,
          137.454175132896,
          137.454175132896,
          137.454175132896,
          137.454175132896,
          137.454175132896,
          137.454175132896,
          137.454175132896,
          137.454175132896,
          137.454175132896,
          137.454175132896,
          137.454175132896,
          137.454175132896,
          137.454175132896,
          137.454175132896,
          137.454175132896,
          137.454175132896,
          137.454175132896,
          137.454175132896,
          137.454175132896,
          137.454175132896,
          137.454175132896,
          137.454175132896,
          137.454175132896,
          137.454175132896,
          137.454175132896,
          137.454175132896,
          137.454175132896,
          137.454175132896,
          137.454175132896,
          137.454175132896,
          137.454175132896,
          137.454175132896,
          137.454175132896,
          137.454175132896,
          137.454175132896,
          137.454175132896,
          137.454175132896,
          137.454175132896,
          137.454175132896,
          137.454175132896,
          137.454175132896,
          137.454175132896,
          137.454175132896,
          137.454175132896,
          137.454175132896,
          137.454175132896,
          137.454175132896,
          137.454175132896,
          137.454175132896,
          137.454175132896,
          137.454175132896,
          137.454175132896,
          137.454175132896,
          137.454175132896,
          137.454175132896,
          137.454175132896,
          137.454175132896,
          137.454175132896,
          137.454175132896,
          137.454175132896,
          137.454175132896,
          137.454175132896,
          137.454175132896,
          137.454175132896,
          137.454175132896,
          137.454175132896,
          137.454175132896,
          137.454175132896,
          137.454175132896,
          137.454175132896,
          137.454175132896,
          137.454175132896,
          137.454175132896,
          137.454175132896,
          137.454175132896,
          137.454175132896,
          137.454175132896,
          137.454175132896,
          137.454175132896,
          137.454175132896,
          137.454175132896,
          137.454175132896,
          137.454175132896,
          137.454175132896,
          137.454175132896,
          137.454175132896,
          137.454175132896,
          137.454175132896,
          137.454175132896,
          137.454175132896,
          137.454175132896,
          137.454175132896,
          137.454175132896,
          137.454175132896,
          137.454175132896,
          137.454175132896,
          137.454175132896,
          137.454175132896,
          137.454175132896,
          137.454175132896,
          137.454175132896,
          137.454175132896,
          137.454175132896,
          137.454175132896,
          137.454175132896,
          137.454175132896,
          137.454175132896,
          137.454175132896,
          137.454175132896,
          137.454175132896,
          137.454175132896,
          137.454175132896,
          137.454175132896,
          137.454175132896,
          137.454175132896,
          137.454175132896,
          137.454175132896,
          137.454175132896,
          137.454175132896,
          137.454175132896,
          137.454175132896,
          137.454175132896,
          137.454175132896,
          137.454175132896,
          137.454175132896,
          137.454175132896,
          137.454175132896,
          137.454175132896,
          137.454175132896,
          137.454175132896,
          137.454175132896,
          137.454175132896,
          137.454175132896,
          137.454175132896,
          137.454175132896,
          137.454175132896,
          137.454175132896,
          137.454175132896,
          137.454175132896,
          137.454175132896,
          137.454175132896,
          137.454175132896,
          137.454175132896,
          137.454175132896,
          137.454175132896,
          137.454175132896,
          137.454175132896,
          137.454175132896,
          137.454175132896,
          137.454175132896,
          137.454175132896,
          137.454175132896,
          137.454175132896,
          137.454175132896,
          137.454175132896,
          137.454175132896,
          137.454175132896,
          137.454175132896,
          137.454175132896,
          137.454175132896,
          137.454175132896,
          137.454175132896,
          137.454175132896,
          137.454175132896,
          137.454175132896,
          137.454175132896,
          137.454175132896,
          137.454175132896,
          137.454175132896,
          137.454175132896,
          137.454175132896,
          137.454175132896,
          137.454175132896,
          137.454175132896,
          137.454175132896,
          137.454175132896,
          137.454175132896,
          137.454175132896,
          137.454175132896,
          137.454175132896,
          137.454175132896,
          137.454175132896,
          137.454175132896,
          137.454175132896,
          137.454175132896,
          137.454175132896,
          137.454175132896,
          137.454175132896,
          137.454175132896,
          137.454175132896,
          137.454175132896,
          137.454175132896,
          137.454175132896,
          137.454175132896,
          137.454175132896,
          137.454175132896,
          137.454175132896,
          137.454175132896,
          137.454175132896,
          137.454175132896,
          137.454175132896,
          137.454175132896,
          137.454175132896,
          137.454175132896,
          137.454175132896,
          137.454175132896,
          137.454175132896,
          137.454175132896,
          137.454175132896,
          137.454175132896,
          137.454175132896,
          137.454175132896,
          137.454175132896,
          137.454175132896,
          137.454175132896,
          137.454175132896,
          137.454175132896,
          137.454175132896,
          137.454175132896,
          137.454175132896,
          137.454175132896,
          137.454175132896,
          137.454175132896,
          137.454175132896,
          137.454175132896,
          137.454175132896,
          137.454175132896,
          137.454175132896,
          137.454175132896,
          137.454175132896,
          137.454175132896,
          137.454175132896,
          137.454175132896,
          137.454175132896,
          137.454175132896,
          137.454175132896,
          137.454175132896,
          137.454175132896,
          137.454175132896,
          137.454175132896,
          137.454175132896,
          137.454175132896,
          137.454175132896,
          137.454175132896,
          137.454175132896,
          137.454175132896,
          137.454175132896,
          137.454175132896,
          137.454175132896,
          137.454175132896,
          137.454175132896,
          137.454175132896,
          137.454175132896,
          137.454175132896,
          137.454175132896,
          137.454175132896,
          137.454175132896,
          137.454175132896,
          137.454175132896,
          137.454175132896,
          137.454175132896,
          137.454175132896,
          137.454175132896,
          137.454175132896,
          137.454175132896,
          137.454175132896,
          137.454175132896,
          137.454175132896,
          137.454175132896,
          137.454175132896,
          137.454175132896,
          137.454175132896,
          137.454175132896,
          137.454175132896,
          137.454175132896,
          137.454175132896,
          137.454175132896,
          137.454175132896,
          137.454175132896,
          137.454175132896,
          137.454175132896,
          137.454175132896,
          137.454175132896,
          137.454175132896,
          137.454175132896,
          137.454175132896,
          137.454175132896,
          137.454175132896,
          137.454175132896,
          137.454175132896,
          137.454175132896,
          137.454175132896,
          137.454175132896,
          137.454175132896,
          137.454175132896,
          137.454175132896,
          137.454175132896,
          137.454175132896,
          137.454175132896,
          137.454175132896,
          137.454175132896,
          137.454175132896,
          137.454175132896,
          137.454175132896,
          137.454175132896,
          137.454175132896,
          137.454175132896,
          137.454175132896,
          137.454175132896,
          137.454175132896,
          137.454175132896,
          137.454175132896,
          137.454175132896,
          137.454175132896,
          137.454175132896,
          137.454175132896,
          137.454175132896,
          137.454175132896,
          137.454175132896,
          137.454175132896,
          137.454175132896,
          137.454175132896,
          137.454175132896,
          137.454175132896,
          137.454175132896,
          137.454175132896,
          137.454175132896,
          137.454175132896,
          137.454175132896,
          137.454175132896,
          137.454175132896,
          137.454175132896,
          137.454175132896,
          137.454175132896,
          137.454175132896,
          137.454175132896,
          137.454175132896,
          137.454175132896,
          137.454175132896,
          137.454175132896,
          137.454175132896,
          137.454175132896,
          137.454175132896,
          137.454175132896,
          137.454175132896,
          137.454175132896,
          137.454175132896,
          137.454175132896,
          137.454175132896,
          137.454175132896,
          137.454175132896,
          137.454175132896,
          137.454175132896,
          137.454175132896,
          137.454175132896,
          137.454175132896,
          137.454175132896,
          137.454175132896,
          137.454175132896,
          137.454175132896,
          137.454175132896,
          137.454175132896,
          137.454175132896,
          137.454175132896,
          137.454175132896,
          137.454175132896,
          137.454175132896,
          137.454175132896,
          137.454175132896,
          137.454175132896,
          137.454175132896,
          137.454175132896,
          137.454175132896,
          137.454175132896,
          137.454175132896,
          137.454175132896,
          137.454175132896,
          137.454175132896,
          137.454175132896,
          137.454175132896,
          137.454175132896,
          137.454175132896,
          137.454175132896,
          137.454175132896,
          137.454175132896,
          137.454175132896,
          137.454175132896,
          137.454175132896,
          137.454175132896,
          137.454175132896,
          137.454175132896,
          137.454175132896,
          137.454175132896,
          137.454175132896,
          137.454175132896,
          137.454175132896,
          137.454175132896,
          137.454175132896,
          137.454175132896,
          137.454175132896,
          137.454175132896,
          137.454175132896,
          137.454175132896,
          137.454175132896,
          137.454175132896,
          137.454175132896,
          137.454175132896,
          137.454175132896,
          137.454175132896,
          137.52094904538023,
          137.5710294797434,
          137.65449687034868,
          137.6878838265908,
          137.6878838265908,
          137.72127078283293,
          137.737964260954,
          137.8047381734382,
          137.8047381734382,
          137.8882055640435,
          137.8882055640435,
          137.9215925202856,
          137.9215925202856,
          137.93828599840666,
          137.93828599840666,
          137.93828599840666,
          137.93828599840666,
          137.93828599840666,
          137.93828599840666,
          137.93828599840666,
          137.93828599840666,
          138.02175338901193,
          138.05514034525405,
          138.05514034525405,
          138.05514034525405,
          138.05514034525405,
          138.0718338233751,
          138.1052207796172,
          138.17199469210144,
          138.28884903894885,
          138.28884903894885,
          138.28884903894885,
          138.48917077640152,
          138.5392512107647,
          138.65610555761208,
          138.65610555761208,
          138.67279903573316,
          138.67279903573316,
          138.67279903573316,
          138.67279903573316,
          138.67279903573316,
          138.67279903573316,
          138.67279903573316,
          138.67279903573316,
          138.70618599197527,
          138.75626642633844,
          138.75626642633844,
          138.75626642633844,
          138.75626642633844,
          138.75626642633844,
          138.75626642633844,
          138.78965338258055,
          138.78965338258055,
          138.78965338258055,
          138.78965338258055,
          138.85642729506478,
          138.90650772942794,
          138.90650772942794,
          138.90650772942794,
          138.90650772942794,
          138.90650772942794,
          138.90650772942794,
          138.90650772942794,
          138.90650772942794,
          138.90650772942794,
          138.90650772942794,
          139.09013598875956,
          139.09013598875956,
          139.09013598875956,
          139.09013598875956,
          139.1569099012438,
          139.1569099012438,
          139.1569099012438,
          139.1569099012438,
          139.2737642480912,
          139.32384468245436,
          139.32384468245436,
          139.32384468245436,
          139.37392511681753,
          139.3906185949386,
          139.3906185949386,
          139.3906185949386,
          139.3906185949386,
          139.4573925074228,
          139.49077946366492,
          139.49077946366492,
          139.49077946366492,
          139.5408598980281,
          139.64102076675445,
          139.64102076675445,
          139.64102076675445,
          139.64102076675445,
          139.69110120111762,
          139.70779467923867,
          139.85803598232818,
          139.85803598232818,
          139.87472946044923,
          139.87472946044923,
          140.00827728541768,
          140.05835771978084,
          140.1251316322651,
          140.1251316322651,
          140.1251316322651,
          140.1251316322651,
          140.1585185885072,
          140.22529250099143,
          140.24198597911248,
          140.2753729353546,
          140.3087598915967,
          140.34214684783882,
          140.35884032595987,
          140.35884032595987,
          140.72609684462313,
          140.84295119147052,
          140.84295119147052,
          140.84295119147052,
          140.84295119147052,
          140.84295119147052,
          140.84295119147052,
          140.84295119147052,
          140.84295119147052,
          140.84295119147052,
          140.84295119147052,
          140.94311206019685,
          141.05996640704424,
          141.05996640704424,
          141.05996640704424,
          141.19351423201272,
          141.29367510073905,
          141.29367510073905,
          141.32706205698116,
          141.4606098819496,
          141.4606098819496,
          141.577464228797,
          141.577464228797,
          141.577464228797,
          141.79447944437075,
          141.89464031309709,
          142.1283490067919,
          142.17842944115506,
          142.17842944115506,
          142.29528378800245,
          142.29528378800245,
          142.3119772661235,
          142.3119772661235,
          142.3119772661235,
          142.3119772661235,
          142.7793946535131,
          142.7793946535131,
          142.79608813163415,
          142.79608813163415,
          142.8127816097552,
          143.53060116896066,
          143.59737508144488,
          143.64745551580805,
          143.73092290641333,
          143.76430986265544,
          144.23172725004503,
          144.34858159689242,
          144.56559681246617,
          144.73253159367673,
          144.7826120280399,
          144.83269246240306,
          145.50043158724534,
          145.93446201839282,
          145.93446201839282,
          145.93446201839282,
          145.93446201839282,
          146.00123593087704,
          146.7858294025667,
          146.9026837494141,
          147.72066417734587,
          148.12130765225123,
          148.12130765225123,
          148.12130765225123,
          148.2882424334618,
          148.4050967803092,
          149.08952938327252,
          149.1396098176357,
          149.57364024878316,
          149.92420328932536,
          150.54186197980445,
          150.708796761015,
          151.99419457633638,
          152.22790327003116,
          153.062577176084,
          153.46322065098937,
          153.46322065098937,
          154.81539237879497,
          154.9489402037634,
          155.9505488910268,
          156.13417715035843,
          156.13417715035843,
          156.13417715035843,
          156.13417715035843,
          158.05392713427995,
          158.78844017160645,
          158.78844017160645,
          158.78844017160645,
          158.78844017160645,
          158.8051336497275,
          158.8051336497275,
          158.8051336497275,
          159.52295320893296,
          162.5444727488442,
          164.1303531703446,
          164.1303531703446,
          164.14704664846565,
          164.59777055773418,
          167.4022748820717,
          169.47226616908273,
          170.80774441876727,
          170.80774441876727,
          171.15830745930947,
          174.58047047412606,
          174.81417916782087,
          174.81417916782087,
          176.1496574175054,
          177.86908566397423,
          180.13939868843795,
          184.14583343749155,
          187.41775514921866,
          189.48774643622968,
          192.50926597614097,
          193.4941811852833,
          195.09675508490474,
          195.18022247551002,
          196.16513768465236,
          214.8451397021148,
          217.4994027233628,
          217.4994027233628,
          239.55148732127867
         ],
         "yaxis": "y"
        }
       ],
       "layout": {
        "legend": {
         "tracegroupgap": 0
        },
        "margin": {
         "t": 60
        },
        "template": {
         "data": {
          "bar": [
           {
            "error_x": {
             "color": "#2a3f5f"
            },
            "error_y": {
             "color": "#2a3f5f"
            },
            "marker": {
             "line": {
              "color": "#E5ECF6",
              "width": 0.5
             }
            },
            "type": "bar"
           }
          ],
          "barpolar": [
           {
            "marker": {
             "line": {
              "color": "#E5ECF6",
              "width": 0.5
             }
            },
            "type": "barpolar"
           }
          ],
          "carpet": [
           {
            "aaxis": {
             "endlinecolor": "#2a3f5f",
             "gridcolor": "white",
             "linecolor": "white",
             "minorgridcolor": "white",
             "startlinecolor": "#2a3f5f"
            },
            "baxis": {
             "endlinecolor": "#2a3f5f",
             "gridcolor": "white",
             "linecolor": "white",
             "minorgridcolor": "white",
             "startlinecolor": "#2a3f5f"
            },
            "type": "carpet"
           }
          ],
          "choropleth": [
           {
            "colorbar": {
             "outlinewidth": 0,
             "ticks": ""
            },
            "type": "choropleth"
           }
          ],
          "contour": [
           {
            "colorbar": {
             "outlinewidth": 0,
             "ticks": ""
            },
            "colorscale": [
             [
              0,
              "#0d0887"
             ],
             [
              0.1111111111111111,
              "#46039f"
             ],
             [
              0.2222222222222222,
              "#7201a8"
             ],
             [
              0.3333333333333333,
              "#9c179e"
             ],
             [
              0.4444444444444444,
              "#bd3786"
             ],
             [
              0.5555555555555556,
              "#d8576b"
             ],
             [
              0.6666666666666666,
              "#ed7953"
             ],
             [
              0.7777777777777778,
              "#fb9f3a"
             ],
             [
              0.8888888888888888,
              "#fdca26"
             ],
             [
              1,
              "#f0f921"
             ]
            ],
            "type": "contour"
           }
          ],
          "contourcarpet": [
           {
            "colorbar": {
             "outlinewidth": 0,
             "ticks": ""
            },
            "type": "contourcarpet"
           }
          ],
          "heatmap": [
           {
            "colorbar": {
             "outlinewidth": 0,
             "ticks": ""
            },
            "colorscale": [
             [
              0,
              "#0d0887"
             ],
             [
              0.1111111111111111,
              "#46039f"
             ],
             [
              0.2222222222222222,
              "#7201a8"
             ],
             [
              0.3333333333333333,
              "#9c179e"
             ],
             [
              0.4444444444444444,
              "#bd3786"
             ],
             [
              0.5555555555555556,
              "#d8576b"
             ],
             [
              0.6666666666666666,
              "#ed7953"
             ],
             [
              0.7777777777777778,
              "#fb9f3a"
             ],
             [
              0.8888888888888888,
              "#fdca26"
             ],
             [
              1,
              "#f0f921"
             ]
            ],
            "type": "heatmap"
           }
          ],
          "heatmapgl": [
           {
            "colorbar": {
             "outlinewidth": 0,
             "ticks": ""
            },
            "colorscale": [
             [
              0,
              "#0d0887"
             ],
             [
              0.1111111111111111,
              "#46039f"
             ],
             [
              0.2222222222222222,
              "#7201a8"
             ],
             [
              0.3333333333333333,
              "#9c179e"
             ],
             [
              0.4444444444444444,
              "#bd3786"
             ],
             [
              0.5555555555555556,
              "#d8576b"
             ],
             [
              0.6666666666666666,
              "#ed7953"
             ],
             [
              0.7777777777777778,
              "#fb9f3a"
             ],
             [
              0.8888888888888888,
              "#fdca26"
             ],
             [
              1,
              "#f0f921"
             ]
            ],
            "type": "heatmapgl"
           }
          ],
          "histogram": [
           {
            "marker": {
             "colorbar": {
              "outlinewidth": 0,
              "ticks": ""
             }
            },
            "type": "histogram"
           }
          ],
          "histogram2d": [
           {
            "colorbar": {
             "outlinewidth": 0,
             "ticks": ""
            },
            "colorscale": [
             [
              0,
              "#0d0887"
             ],
             [
              0.1111111111111111,
              "#46039f"
             ],
             [
              0.2222222222222222,
              "#7201a8"
             ],
             [
              0.3333333333333333,
              "#9c179e"
             ],
             [
              0.4444444444444444,
              "#bd3786"
             ],
             [
              0.5555555555555556,
              "#d8576b"
             ],
             [
              0.6666666666666666,
              "#ed7953"
             ],
             [
              0.7777777777777778,
              "#fb9f3a"
             ],
             [
              0.8888888888888888,
              "#fdca26"
             ],
             [
              1,
              "#f0f921"
             ]
            ],
            "type": "histogram2d"
           }
          ],
          "histogram2dcontour": [
           {
            "colorbar": {
             "outlinewidth": 0,
             "ticks": ""
            },
            "colorscale": [
             [
              0,
              "#0d0887"
             ],
             [
              0.1111111111111111,
              "#46039f"
             ],
             [
              0.2222222222222222,
              "#7201a8"
             ],
             [
              0.3333333333333333,
              "#9c179e"
             ],
             [
              0.4444444444444444,
              "#bd3786"
             ],
             [
              0.5555555555555556,
              "#d8576b"
             ],
             [
              0.6666666666666666,
              "#ed7953"
             ],
             [
              0.7777777777777778,
              "#fb9f3a"
             ],
             [
              0.8888888888888888,
              "#fdca26"
             ],
             [
              1,
              "#f0f921"
             ]
            ],
            "type": "histogram2dcontour"
           }
          ],
          "mesh3d": [
           {
            "colorbar": {
             "outlinewidth": 0,
             "ticks": ""
            },
            "type": "mesh3d"
           }
          ],
          "parcoords": [
           {
            "line": {
             "colorbar": {
              "outlinewidth": 0,
              "ticks": ""
             }
            },
            "type": "parcoords"
           }
          ],
          "pie": [
           {
            "automargin": true,
            "type": "pie"
           }
          ],
          "scatter": [
           {
            "marker": {
             "colorbar": {
              "outlinewidth": 0,
              "ticks": ""
             }
            },
            "type": "scatter"
           }
          ],
          "scatter3d": [
           {
            "line": {
             "colorbar": {
              "outlinewidth": 0,
              "ticks": ""
             }
            },
            "marker": {
             "colorbar": {
              "outlinewidth": 0,
              "ticks": ""
             }
            },
            "type": "scatter3d"
           }
          ],
          "scattercarpet": [
           {
            "marker": {
             "colorbar": {
              "outlinewidth": 0,
              "ticks": ""
             }
            },
            "type": "scattercarpet"
           }
          ],
          "scattergeo": [
           {
            "marker": {
             "colorbar": {
              "outlinewidth": 0,
              "ticks": ""
             }
            },
            "type": "scattergeo"
           }
          ],
          "scattergl": [
           {
            "marker": {
             "colorbar": {
              "outlinewidth": 0,
              "ticks": ""
             }
            },
            "type": "scattergl"
           }
          ],
          "scattermapbox": [
           {
            "marker": {
             "colorbar": {
              "outlinewidth": 0,
              "ticks": ""
             }
            },
            "type": "scattermapbox"
           }
          ],
          "scatterpolar": [
           {
            "marker": {
             "colorbar": {
              "outlinewidth": 0,
              "ticks": ""
             }
            },
            "type": "scatterpolar"
           }
          ],
          "scatterpolargl": [
           {
            "marker": {
             "colorbar": {
              "outlinewidth": 0,
              "ticks": ""
             }
            },
            "type": "scatterpolargl"
           }
          ],
          "scatterternary": [
           {
            "marker": {
             "colorbar": {
              "outlinewidth": 0,
              "ticks": ""
             }
            },
            "type": "scatterternary"
           }
          ],
          "surface": [
           {
            "colorbar": {
             "outlinewidth": 0,
             "ticks": ""
            },
            "colorscale": [
             [
              0,
              "#0d0887"
             ],
             [
              0.1111111111111111,
              "#46039f"
             ],
             [
              0.2222222222222222,
              "#7201a8"
             ],
             [
              0.3333333333333333,
              "#9c179e"
             ],
             [
              0.4444444444444444,
              "#bd3786"
             ],
             [
              0.5555555555555556,
              "#d8576b"
             ],
             [
              0.6666666666666666,
              "#ed7953"
             ],
             [
              0.7777777777777778,
              "#fb9f3a"
             ],
             [
              0.8888888888888888,
              "#fdca26"
             ],
             [
              1,
              "#f0f921"
             ]
            ],
            "type": "surface"
           }
          ],
          "table": [
           {
            "cells": {
             "fill": {
              "color": "#EBF0F8"
             },
             "line": {
              "color": "white"
             }
            },
            "header": {
             "fill": {
              "color": "#C8D4E3"
             },
             "line": {
              "color": "white"
             }
            },
            "type": "table"
           }
          ]
         },
         "layout": {
          "annotationdefaults": {
           "arrowcolor": "#2a3f5f",
           "arrowhead": 0,
           "arrowwidth": 1
          },
          "autotypenumbers": "strict",
          "coloraxis": {
           "colorbar": {
            "outlinewidth": 0,
            "ticks": ""
           }
          },
          "colorscale": {
           "diverging": [
            [
             0,
             "#8e0152"
            ],
            [
             0.1,
             "#c51b7d"
            ],
            [
             0.2,
             "#de77ae"
            ],
            [
             0.3,
             "#f1b6da"
            ],
            [
             0.4,
             "#fde0ef"
            ],
            [
             0.5,
             "#f7f7f7"
            ],
            [
             0.6,
             "#e6f5d0"
            ],
            [
             0.7,
             "#b8e186"
            ],
            [
             0.8,
             "#7fbc41"
            ],
            [
             0.9,
             "#4d9221"
            ],
            [
             1,
             "#276419"
            ]
           ],
           "sequential": [
            [
             0,
             "#0d0887"
            ],
            [
             0.1111111111111111,
             "#46039f"
            ],
            [
             0.2222222222222222,
             "#7201a8"
            ],
            [
             0.3333333333333333,
             "#9c179e"
            ],
            [
             0.4444444444444444,
             "#bd3786"
            ],
            [
             0.5555555555555556,
             "#d8576b"
            ],
            [
             0.6666666666666666,
             "#ed7953"
            ],
            [
             0.7777777777777778,
             "#fb9f3a"
            ],
            [
             0.8888888888888888,
             "#fdca26"
            ],
            [
             1,
             "#f0f921"
            ]
           ],
           "sequentialminus": [
            [
             0,
             "#0d0887"
            ],
            [
             0.1111111111111111,
             "#46039f"
            ],
            [
             0.2222222222222222,
             "#7201a8"
            ],
            [
             0.3333333333333333,
             "#9c179e"
            ],
            [
             0.4444444444444444,
             "#bd3786"
            ],
            [
             0.5555555555555556,
             "#d8576b"
            ],
            [
             0.6666666666666666,
             "#ed7953"
            ],
            [
             0.7777777777777778,
             "#fb9f3a"
            ],
            [
             0.8888888888888888,
             "#fdca26"
            ],
            [
             1,
             "#f0f921"
            ]
           ]
          },
          "colorway": [
           "#636efa",
           "#EF553B",
           "#00cc96",
           "#ab63fa",
           "#FFA15A",
           "#19d3f3",
           "#FF6692",
           "#B6E880",
           "#FF97FF",
           "#FECB52"
          ],
          "font": {
           "color": "#2a3f5f"
          },
          "geo": {
           "bgcolor": "white",
           "lakecolor": "white",
           "landcolor": "#E5ECF6",
           "showlakes": true,
           "showland": true,
           "subunitcolor": "white"
          },
          "hoverlabel": {
           "align": "left"
          },
          "hovermode": "closest",
          "mapbox": {
           "style": "light"
          },
          "paper_bgcolor": "white",
          "plot_bgcolor": "#E5ECF6",
          "polar": {
           "angularaxis": {
            "gridcolor": "white",
            "linecolor": "white",
            "ticks": ""
           },
           "bgcolor": "#E5ECF6",
           "radialaxis": {
            "gridcolor": "white",
            "linecolor": "white",
            "ticks": ""
           }
          },
          "scene": {
           "xaxis": {
            "backgroundcolor": "#E5ECF6",
            "gridcolor": "white",
            "gridwidth": 2,
            "linecolor": "white",
            "showbackground": true,
            "ticks": "",
            "zerolinecolor": "white"
           },
           "yaxis": {
            "backgroundcolor": "#E5ECF6",
            "gridcolor": "white",
            "gridwidth": 2,
            "linecolor": "white",
            "showbackground": true,
            "ticks": "",
            "zerolinecolor": "white"
           },
           "zaxis": {
            "backgroundcolor": "#E5ECF6",
            "gridcolor": "white",
            "gridwidth": 2,
            "linecolor": "white",
            "showbackground": true,
            "ticks": "",
            "zerolinecolor": "white"
           }
          },
          "shapedefaults": {
           "line": {
            "color": "#2a3f5f"
           }
          },
          "ternary": {
           "aaxis": {
            "gridcolor": "white",
            "linecolor": "white",
            "ticks": ""
           },
           "baxis": {
            "gridcolor": "white",
            "linecolor": "white",
            "ticks": ""
           },
           "bgcolor": "#E5ECF6",
           "caxis": {
            "gridcolor": "white",
            "linecolor": "white",
            "ticks": ""
           }
          },
          "title": {
           "x": 0.05
          },
          "xaxis": {
           "automargin": true,
           "gridcolor": "white",
           "linecolor": "white",
           "ticks": "",
           "title": {
            "standoff": 15
           },
           "zerolinecolor": "white",
           "zerolinewidth": 2
          },
          "yaxis": {
           "automargin": true,
           "gridcolor": "white",
           "linecolor": "white",
           "ticks": "",
           "title": {
            "standoff": 15
           },
           "zerolinecolor": "white",
           "zerolinewidth": 2
          }
         }
        },
        "title": {
         "text": "Fit trend line: OLS"
        },
        "xaxis": {
         "anchor": "y",
         "domain": [
          0,
          1
         ],
         "title": {
          "text": "Spend"
         }
        },
        "yaxis": {
         "anchor": "x",
         "domain": [
          0,
          1
         ],
         "title": {
          "text": "Page Views"
         }
        }
       }
      },
      "text/html": [
       "<div>                            <div id=\"4a0071fb-5a9d-48ad-8ad8-14eb06a4a9bb\" class=\"plotly-graph-div\" style=\"height:525px; width:100%;\"></div>            <script type=\"text/javascript\">                require([\"plotly\"], function(Plotly) {                    window.PLOTLYENV=window.PLOTLYENV || {};                                    if (document.getElementById(\"4a0071fb-5a9d-48ad-8ad8-14eb06a4a9bb\")) {                    Plotly.newPlot(                        \"4a0071fb-5a9d-48ad-8ad8-14eb06a4a9bb\",                        [{\"hovertemplate\": \"NetB_spd=%{x}<br>Page Views=%{y}<extra></extra>\", \"legendgroup\": \"\", \"marker\": {\"color\": \"#636efa\", \"symbol\": \"circle\"}, \"mode\": \"markers\", \"name\": \"\", \"showlegend\": false, \"type\": \"scattergl\", \"x\": [0, 0, 0, 0, 0, 0, 0, 0, 0, 0, 0, 0, 0, 0, 0, 0, 98, 0, 78, 0, 0, 0, 0, 0, 0, 0, 0, 0, 0, 0, 0, 0, 0, 0, 0, 0, 0, 0, 135, 0, 0, 639, 0, 0, 0, 0, 0, 0, 0, 0, 0, 0, 0, 0, 0, 0, 12, 0, 0, 0, 0, 203, 0, 0, 0, 0, 0, 0, 4795, 0, 0, 0, 0, 0, 0, 0, 0, 0, 0, 0, 0, 0, 0, 0, 0, 0, 116, 0, 0, 0, 0, 376, 0, 0, 0, 0, 0, 0, 0, 0, 0, 0, 0, 0, 0, 0, 0, 0, 0, 0, 116, 0, 0, 0, 36, 0, 0, 0, 78, 0, 0, 0, 0, 0, 0, 0, 0, 0, 0, 0, 0, 0, 0, 0, 0, 0, 0, 0, 784, 0, 0, 0, 116, 508, 0, 0, 0, 0, 0, 0, 0, 0, 0, 0, 0, 0, 0, 0, 102, 0, 102, 0, 1048, 0, 78, 72, 439, 0, 0, 0, 0, 0, 0, 0, 0, 0, 0, 0, 0, 0, 0, 73, 0, 98, 145, 0, 0, 512, 0, 50, 0, 0, 0, 0, 0, 0, 0, 0, 0, 0, 0, 0, 0, 0, 0, 0, 203, 0, 0, 0, 1998, 0, 0, 230, 0, 0, 0, 0, 0, 0, 0, 0, 0, 0, 0, 0, 0, 0, 0, 0, 0, 73, 0, 0, 0, 0, 0, 0, 0, 0, 0, 0, 0, 0, 0, 0, 0, 0, 0, 0, 0, 0, 0, 0, 0, 73, 0, 0, 615, 0, 0, 50, 173, 0, 0, 0, 0, 0, 0, 0, 0, 0, 0, 0, 0, 0, 0, 0, 0, 0, 116, 0, 559, 0, 0, 65, 112, 0, 0, 0, 0, 0, 0, 0, 0, 0, 0, 0, 0, 0, 0, 0, 0, 0, 0, 726, 1119, 0, 0, 0, 0, 0, 0, 0, 0, 0, 0, 0, 0, 0, 0, 0, 0, 0, 0, 0, 0, 102, 174, 508, 482, 320, 0, 0, 29, 0, 0, 0, 0, 0, 0, 0, 0, 0, 0, 0, 0, 0, 0, 0, 0, 0, 0, 0, 224, 0, 3117, 0, 0, 0, 0, 0, 0, 0, 0, 0, 0, 0, 0, 0, 0, 0, 0, 0, 0, 0, 0, 1278, 1998, 122, 0, 0, 0, 0, 0, 0, 0, 0, 0, 0, 0, 0, 0, 0, 0, 0, 0, 0, 203, 0, 0, 247, 2318, 0, 0, 0, 0, 0, 0, 0, 0, 0, 0, 0, 0, 0, 0, 0, 0, 0, 0, 0, 87, 153, 28, 639, 1918, 0, 0, 0, 0, 0, 0, 0, 0, 0, 0, 0, 0, 0, 0, 0, 0, 0, 0, 0, 0, 0, 0, 0, 240, 122, 0, 0, 0, 0, 0, 0, 0, 0, 0, 0, 0, 0, 0, 0, 0, 0, 0, 0, 0, 73, 697, 1234, 1119, 0, 0, 0, 0, 0, 0, 0, 0, 0, 0, 0, 0, 0, 0, 0, 0, 0, 0, 0, 0, 0, 0, 0, 26, 794, 134, 39, 0, 0, 0, 0, 0, 0, 0, 0, 0, 0, 0, 0, 0, 0, 0, 0, 0, 0, 29, 0, 1626, 0, 0, 1599, 37, 0, 0, 0, 0, 0, 0, 0, 0, 0, 0, 0, 0, 0, 203, 0, 0, 0, 0, 0, 2993, 0, 0, 0, 426, 0, 0, 0, 0, 0, 0, 0, 0, 0, 0, 0, 0, 0, 0, 0, 203, 0, 0, 0, 1279, 0, 0, 2421, 0, 0, 0, 0, 0, 0, 0, 0, 0, 0, 0, 0, 0, 0, 0, 0, 0, 0, 0, 1278, 0, 144, 0, 0, 216, 0, 0, 0, 0, 0, 0, 0, 0, 0, 17, 0, 0, 0, 0, 203, 0, 73, 0, 0, 0, 0, 0, 0, 112, 508, 0, 0, 0, 0, 0, 0, 0, 0, 0, 0, 0, 0, 0, 0, 0, 0, 0, 0, 0, 0, 0, 0, 0, 0, 0, 0, 0, 0, 0, 0, 0, 0, 0, 0, 0, 0, 0, 0, 0, 0, 0, 0, 26, 0, 36, 0, 1108, 0, 0, 0, 0, 0, 0, 0, 0, 0, 0, 0, 0, 0, 29, 0, 167, 247, 144, 0, 1322, 0, 0, 0, 109, 0, 0, 0, 0, 0, 0, 0, 0, 0, 0, 0, 0, 0, 290, 0, 0, 364, 0, 169, 0, 209, 3298, 0, 3453, 0, 0, 0, 0, 0, 0, 0, 0, 0, 0, 0, 0, 0, 0, 87, 80, 291, 0, 0, 1279, 62, 3458, 0, 0, 0, 0, 0, 0, 0, 0, 0, 0, 0, 0, 0, 0, 0, 87, 98, 0, 21, 0, 0, 959, 0, 4795, 0, 0, 0, 0, 0, 0, 0, 0, 0, 0, 0, 0, 0, 0, 0, 0, 0, 0, 240, 0, 84, 2224, 0, 0, 0, 0, 196, 0, 0, 0, 0, 0, 0, 0, 0, 4, 0, 0, 0, 203, 7, 0, 73, 14, 0, 885, 43, 0, 2557, 0, 21, 0, 0, 0, 0, 0, 0, 0, 0, 0, 0, 0, 14, 0, 0, 29, 0, 102, 145, 280, 0, 700, 75, 0, 0, 0, 0, 0, 0, 0, 0, 0, 0, 0, 0, 0, 0, 0, 0, 291, 0, 131, 0, 125, 378, 0, 156, 0, 0, 0, 0, 0, 0, 0, 0, 0, 0, 0, 0, 0, 0, 247, 28, 174, 291, 162, 1278, 959, 368, 78, 0, 0, 0, 0, 0, 0, 0, 0, 0, 0, 0, 0, 0, 0, 0, 160, 0, 80, 291, 0, 0, 1598, 50, 3357, 166, 0, 0, 0, 0, 0, 0, 0, 0, 0, 0, 0, 0, 0, 0, 87, 283, 87, 0, 0, 1278, 2238, 639, 442, 216, 0, 0, 0, 0, 0, 0, 0, 0, 0, 0, 0, 0, 29, 0, 203, 0, 320, 73, 0, 0, 1794, 171, 0, 78, 72, 0, 0, 0, 0, 0, 0, 0, 0, 0, 0, 0, 0, 0, 87, 0, 260, 73, 0, 0, 122, 0, 1598, 0, 2797, 0, 0, 0, 0, 0, 0, 0, 0, 0, 34, 0, 0, 0, 131, 29, 0, 0, 290, 98, 2019, 160, 0, 0, 747, 16, 0, 0, 0, 0, 0, 0, 0, 0, 0, 0, 0, 0, 0, 131, 283, 0, 160, 0, 0, 6116, 0, 0, 0, 0, 0, 0, 0, 0, 0, 0, 0, 0, 0, 0, 0, 0, 87, 0, 319, 371, 80, 112, 36, 0, 2238, 230, 0, 0, 0, 0, 0, 0, 0, 0, 0, 0, 0, 0, 0, 0, 0, 319, 0, 436, 0, 0, 36, 78, 4636, 1119, 0, 0, 0, 0, 0, 0, 0, 0, 0, 0, 0, 0, 0, 0, 0, 406, 0, 0, 0, 1040, 413, 115, 120, 266, 216, 0, 0, 0, 0, 0, 0, 0, 0, 0, 0, 0, 0, 0, 0, 87, 160, 0, 0, 0, 1503, 3517, 321, 1279, 0, 0, 0, 0, 0, 0, 0, 0, 0, 0, 0, 29, 0, 0, 203, 203, 80, 232, 0, 0, 566, 0, 0, 0, 1119, 0, 0, 0, 0, 0, 0, 0, 0, 0, 0, 0, 0, 0, 87, 87, 29, 131, 508, 871, 649, 656, 0, 935, 0, 0], \"xaxis\": \"x\", \"y\": [62, 33, 15, 17, 12, 9, 20, 46, 106, 190, 244, 247, 260, 260, 218, 229, 204, 232, 190, 175, 168, 187, 148, 91, 46, 25, 22, 11, 12, 16, 50, 77, 130, 311, 359, 353, 346, 281, 290, 304, 276, 186, 180, 176, 195, 240, 167, 107, 55, 32, 26, 14, 11, 19, 36, 88, 125, 206, 271, 309, 260, 261, 274, 236, 276, 210, 155, 169, 193, 183, 118, 92, 44, 38, 14, 23, 12, 17, 40, 85, 143, 197, 220, 255, 295, 286, 268, 240, 211, 177, 159, 152, 165, 197, 144, 92, 60, 25, 18, 17, 12, 16, 29, 65, 137, 197, 244, 278, 280, 269, 226, 264, 250, 187, 185, 175, 173, 186, 157, 97, 53, 31, 18, 13, 18, 21, 42, 63, 158, 196, 248, 258, 279, 226, 249, 246, 212, 159, 135, 168, 144, 161, 110, 69, 59, 34, 17, 12, 12, 11, 29, 86, 135, 178, 226, 254, 272, 247, 304, 254, 261, 192, 143, 162, 127, 130, 110, 77, 40, 50, 21, 17, 9, 15, 20, 77, 112, 170, 243, 261, 299, 281, 303, 311, 277, 225, 214, 213, 216, 205, 158, 121, 67, 54, 32, 22, 9, 23, 39, 66, 151, 264, 453, 580, 419, 353, 338, 267, 312, 270, 241, 238, 218, 234, 161, 107, 63, 40, 19, 34, 14, 33, 39, 89, 138, 220, 247, 255, 282, 283, 234, 318, 355, 238, 195, 240, 169, 186, 146, 102, 46, 25, 18, 16, 17, 25, 33, 92, 159, 208, 239, 292, 320, 276, 292, 221, 275, 203, 178, 191, 212, 205, 130, 90, 53, 40, 16, 20, 10, 26, 35, 76, 124, 204, 246, 264, 264, 276, 273, 257, 256, 205, 187, 214, 207, 208, 141, 89, 52, 40, 21, 26, 16, 26, 23, 63, 135, 230, 269, 263, 267, 241, 275, 269, 291, 201, 176, 170, 152, 128, 117, 87, 57, 32, 20, 20, 11, 33, 26, 73, 145, 171, 249, 260, 259, 270, 266, 241, 239, 193, 161, 157, 169, 138, 140, 100, 55, 24, 25, 18, 4, 16, 26, 53, 139, 246, 307, 274, 249, 287, 261, 305, 251, 242, 213, 234, 183, 182, 133, 114, 53, 26, 30, 21, 12, 20, 36, 74, 158, 272, 288, 353, 318, 288, 263, 300, 285, 248, 209, 216, 216, 268, 147, 98, 38, 31, 26, 27, 17, 22, 48, 90, 138, 239, 301, 247, 293, 260, 263, 234, 236, 217, 184, 217, 200, 230, 145, 67, 49, 45, 13, 17, 8, 17, 41, 65, 148, 210, 215, 263, 276, 244, 250, 237, 252, 182, 167, 207, 138, 184, 143, 87, 63, 43, 20, 10, 18, 19, 32, 76, 129, 198, 230, 250, 280, 230, 253, 255, 232, 222, 186, 201, 187, 250, 142, 105, 60, 45, 18, 21, 21, 21, 56, 75, 139, 206, 223, 248, 258, 233, 210, 225, 219, 178, 175, 153, 183, 170, 126, 104, 67, 37, 24, 21, 16, 12, 44, 90, 146, 195, 274, 280, 292, 244, 220, 225, 237, 197, 170, 140, 146, 123, 125, 85, 58, 44, 29, 13, 13, 12, 26, 55, 135, 196, 260, 289, 245, 223, 248, 245, 217, 235, 214, 221, 210, 175, 172, 111, 41, 45, 28, 14, 11, 14, 46, 68, 105, 198, 257, 225, 290, 275, 236, 317, 285, 161, 139, 156, 167, 210, 117, 70, 49, 24, 15, 14, 10, 25, 28, 55, 98, 159, 203, 198, 216, 235, 207, 192, 261, 167, 184, 164, 185, 186, 144, 68, 45, 37, 25, 6, 13, 24, 24, 66, 108, 206, 182, 174, 189, 172, 174, 164, 204, 162, 152, 174, 141, 137, 120, 55, 39, 33, 19, 10, 4, 13, 32, 69, 103, 160, 179, 199, 162, 171, 190, 227, 191, 153, 152, 174, 177, 140, 102, 84, 37, 38, 15, 18, 18, 25, 34, 54, 113, 147, 183, 201, 189, 204, 154, 191, 196, 143, 124, 139, 101, 126, 138, 70, 52, 31, 12, 13, 13, 15, 33, 55, 153, 163, 186, 222, 217, 209, 160, 168, 222, 135, 121, 121, 129, 118, 108, 92, 46, 47, 21, 8, 16, 16, 30, 65, 114, 149, 206, 218, 215, 211, 189, 243, 236, 159, 168, 171, 144, 138, 98, 92, 47, 30, 20, 20, 24, 18, 37, 62, 109, 215, 266, 232, 218, 210, 228, 217, 219, 187, 155, 188, 189, 155, 127, 83, 40, 43, 20, 14, 9, 14, 49, 83, 116, 152, 205, 171, 220, 203, 199, 190, 203, 145, 155, 135, 151, 154, 112, 82, 41, 26, 18, 11, 16, 25, 29, 78, 93, 133, 219, 238, 212, 184, 148, 169, 184, 148, 162, 114, 143, 123, 112, 67, 45, 31, 8, 15, 10, 17, 40, 73, 107, 143, 171, 163, 220, 167, 176, 172, 213, 166, 128, 127, 146, 132, 89, 70, 38, 36, 28, 28, 19, 18, 33, 63, 109, 196, 184, 220, 251, 210, 216, 192, 208, 169, 142, 146, 130, 129, 83, 74, 43, 25, 20, 6, 7, 17, 24, 58, 137, 170, 209, 270, 231, 188, 183, 246, 221, 148, 125, 141, 107, 115, 80, 102, 58, 31, 25, 17, 10, 17, 25, 56, 113, 127, 233, 226, 256, 228, 263, 219, 217, 156, 144, 139, 150, 159, 116, 72, 44, 22, 13, 16, 14, 16, 49, 85, 130, 234, 251, 254, 275, 260, 227, 174, 253, 163, 169, 174, 169, 191, 116, 58, 36, 39, 20, 11, 11, 17, 35, 67, 102, 188, 194, 220, 204, 217, 247, 175, 269, 127, 142, 170, 175, 160, 123, 64, 50, 23, 32, 13, 10, 14, 40, 60, 120, 223, 251, 290, 263, 292, 210, 254, 219, 206, 183, 181, 203, 178, 137, 90, 40, 30, 20, 15, 8, 17, 32, 96, 101, 182, 220, 217, 274, 174, 249, 191, 190, 163, 146, 160, 175, 178, 128, 87, 42, 17, 11, 9, 12, 26, 54, 109, 126, 192, 172, 189, 229, 198, 169, 186, 211, 115, 130, 127, 130, 91, 101, 68, 67, 27, 9, 14, 18, 16, 18, 66, 106, 189, 240, 252, 176, 190, 200, 212, 180, 155, 126, 121, 133, 138, 92, 64, 53, 29, 34, 14, 13, 16, 36, 69, 115, 157, 231, 243, 247, 203, 214, 191, 224, 194, 179, 159, 154, 147, 116, 75, 43, 42, 10, 15, 10, 19, 22, 83, 125, 193, 259, 233, 231, 276, 260, 225, 241, 259, 148, 190, 174, 202, 129, 97, 54, 23, 20, 14, 13, 24, 37, 75, 102, 187, 240, 281, 286, 231, 191, 224, 254, 169, 165, 196, 218, 192, 145, 84, 55, 38, 20, 16, 22, 21, 55, 117, 158, 229, 252, 338, 338, 290, 286, 248, 315, 234, 189, 178, 235, 200, 139, 93, 54, 44, 28, 17, 13, 29, 58, 98, 103, 172, 202, 180, 222, 219, 188, 200, 208, 185, 166, 183, 159, 216, 157, 66, 51, 30, 22, 16, 11, 10, 24, 81, 117, 174, 202, 252, 203, 225, 189, 213, 246, 177, 128, 147, 155, 157, 114, 87, 51, 28, 25, 20, 11, 17, 35, 81, 136, 173, 215, 231, 214, 241, 244, 238, 206, 196, 148, 148, 153, 134, 89, 73], \"yaxis\": \"y\"}, {\"hovertemplate\": \"<b>OLS trendline</b><br>Page Views = 0.0166935 * NetB_spd + 137.454<br>R<sup>2</sup>=0.007813<br><br>NetB_spd=%{x}<br>Page Views=%{y} <b>(trend)</b><extra></extra>\", \"legendgroup\": \"\", \"marker\": {\"color\": \"#636efa\", \"symbol\": \"circle\"}, \"mode\": \"lines\", \"name\": \"\", \"showlegend\": false, \"type\": \"scattergl\", \"x\": [0, 0, 0, 0, 0, 0, 0, 0, 0, 0, 0, 0, 0, 0, 0, 0, 0, 0, 0, 0, 0, 0, 0, 0, 0, 0, 0, 0, 0, 0, 0, 0, 0, 0, 0, 0, 0, 0, 0, 0, 0, 0, 0, 0, 0, 0, 0, 0, 0, 0, 0, 0, 0, 0, 0, 0, 0, 0, 0, 0, 0, 0, 0, 0, 0, 0, 0, 0, 0, 0, 0, 0, 0, 0, 0, 0, 0, 0, 0, 0, 0, 0, 0, 0, 0, 0, 0, 0, 0, 0, 0, 0, 0, 0, 0, 0, 0, 0, 0, 0, 0, 0, 0, 0, 0, 0, 0, 0, 0, 0, 0, 0, 0, 0, 0, 0, 0, 0, 0, 0, 0, 0, 0, 0, 0, 0, 0, 0, 0, 0, 0, 0, 0, 0, 0, 0, 0, 0, 0, 0, 0, 0, 0, 0, 0, 0, 0, 0, 0, 0, 0, 0, 0, 0, 0, 0, 0, 0, 0, 0, 0, 0, 0, 0, 0, 0, 0, 0, 0, 0, 0, 0, 0, 0, 0, 0, 0, 0, 0, 0, 0, 0, 0, 0, 0, 0, 0, 0, 0, 0, 0, 0, 0, 0, 0, 0, 0, 0, 0, 0, 0, 0, 0, 0, 0, 0, 0, 0, 0, 0, 0, 0, 0, 0, 0, 0, 0, 0, 0, 0, 0, 0, 0, 0, 0, 0, 0, 0, 0, 0, 0, 0, 0, 0, 0, 0, 0, 0, 0, 0, 0, 0, 0, 0, 0, 0, 0, 0, 0, 0, 0, 0, 0, 0, 0, 0, 0, 0, 0, 0, 0, 0, 0, 0, 0, 0, 0, 0, 0, 0, 0, 0, 0, 0, 0, 0, 0, 0, 0, 0, 0, 0, 0, 0, 0, 0, 0, 0, 0, 0, 0, 0, 0, 0, 0, 0, 0, 0, 0, 0, 0, 0, 0, 0, 0, 0, 0, 0, 0, 0, 0, 0, 0, 0, 0, 0, 0, 0, 0, 0, 0, 0, 0, 0, 0, 0, 0, 0, 0, 0, 0, 0, 0, 0, 0, 0, 0, 0, 0, 0, 0, 0, 0, 0, 0, 0, 0, 0, 0, 0, 0, 0, 0, 0, 0, 0, 0, 0, 0, 0, 0, 0, 0, 0, 0, 0, 0, 0, 0, 0, 0, 0, 0, 0, 0, 0, 0, 0, 0, 0, 0, 0, 0, 0, 0, 0, 0, 0, 0, 0, 0, 0, 0, 0, 0, 0, 0, 0, 0, 0, 0, 0, 0, 0, 0, 0, 0, 0, 0, 0, 0, 0, 0, 0, 0, 0, 0, 0, 0, 0, 0, 0, 0, 0, 0, 0, 0, 0, 0, 0, 0, 0, 0, 0, 0, 0, 0, 0, 0, 0, 0, 0, 0, 0, 0, 0, 0, 0, 0, 0, 0, 0, 0, 0, 0, 0, 0, 0, 0, 0, 0, 0, 0, 0, 0, 0, 0, 0, 0, 0, 0, 0, 0, 0, 0, 0, 0, 0, 0, 0, 0, 0, 0, 0, 0, 0, 0, 0, 0, 0, 0, 0, 0, 0, 0, 0, 0, 0, 0, 0, 0, 0, 0, 0, 0, 0, 0, 0, 0, 0, 0, 0, 0, 0, 0, 0, 0, 0, 0, 0, 0, 0, 0, 0, 0, 0, 0, 0, 0, 0, 0, 0, 0, 0, 0, 0, 0, 0, 0, 0, 0, 0, 0, 0, 0, 0, 0, 0, 0, 0, 0, 0, 0, 0, 0, 0, 0, 0, 0, 0, 0, 0, 0, 0, 0, 0, 0, 0, 0, 0, 0, 0, 0, 0, 0, 0, 0, 0, 0, 0, 0, 0, 0, 0, 0, 0, 0, 0, 0, 0, 0, 0, 0, 0, 0, 0, 0, 0, 0, 0, 0, 0, 0, 0, 0, 0, 0, 0, 0, 0, 0, 0, 0, 0, 0, 0, 0, 0, 0, 0, 0, 0, 0, 0, 0, 0, 0, 0, 0, 0, 0, 0, 0, 0, 0, 0, 0, 0, 0, 0, 0, 0, 0, 0, 0, 0, 0, 0, 0, 0, 0, 0, 0, 0, 0, 0, 0, 0, 0, 0, 0, 0, 0, 0, 0, 0, 0, 0, 0, 0, 0, 0, 0, 0, 0, 0, 0, 0, 0, 0, 0, 0, 0, 0, 0, 0, 0, 0, 0, 0, 0, 0, 0, 0, 0, 0, 0, 0, 0, 0, 0, 0, 0, 0, 0, 0, 0, 0, 0, 0, 0, 0, 0, 0, 0, 0, 0, 0, 0, 0, 0, 0, 0, 0, 0, 0, 0, 0, 0, 0, 0, 0, 0, 0, 0, 0, 0, 0, 0, 0, 0, 0, 0, 0, 0, 0, 0, 0, 0, 0, 0, 0, 0, 0, 0, 0, 0, 0, 0, 0, 0, 0, 0, 0, 0, 0, 0, 0, 0, 0, 0, 0, 0, 0, 0, 0, 0, 0, 0, 0, 0, 0, 0, 0, 0, 0, 0, 0, 0, 0, 0, 0, 0, 0, 0, 0, 0, 0, 0, 0, 0, 0, 0, 0, 0, 0, 0, 0, 0, 0, 0, 0, 0, 0, 0, 0, 0, 0, 0, 0, 0, 0, 0, 0, 0, 0, 0, 0, 0, 0, 0, 0, 0, 0, 0, 0, 0, 0, 0, 0, 0, 0, 0, 0, 0, 0, 0, 0, 0, 0, 0, 0, 0, 0, 0, 0, 0, 0, 0, 0, 0, 0, 0, 0, 0, 0, 0, 0, 0, 0, 0, 0, 0, 0, 0, 0, 0, 0, 0, 0, 0, 0, 0, 0, 0, 0, 0, 0, 0, 0, 0, 0, 0, 0, 0, 0, 0, 0, 0, 0, 0, 0, 0, 0, 0, 0, 0, 0, 0, 0, 0, 0, 0, 0, 0, 0, 0, 0, 0, 0, 0, 0, 0, 0, 0, 0, 0, 0, 0, 0, 0, 0, 0, 0, 0, 0, 0, 0, 0, 0, 0, 0, 0, 0, 4, 7, 12, 14, 14, 16, 17, 21, 21, 26, 26, 28, 28, 29, 29, 29, 29, 29, 29, 29, 29, 34, 36, 36, 36, 36, 37, 39, 43, 50, 50, 50, 62, 65, 72, 72, 73, 73, 73, 73, 73, 73, 73, 73, 75, 78, 78, 78, 78, 78, 78, 80, 80, 80, 80, 84, 87, 87, 87, 87, 87, 87, 87, 87, 87, 87, 98, 98, 98, 98, 102, 102, 102, 102, 109, 112, 112, 112, 115, 116, 116, 116, 116, 120, 122, 122, 122, 125, 131, 131, 131, 131, 134, 135, 144, 144, 145, 145, 153, 156, 160, 160, 160, 160, 162, 166, 167, 169, 171, 173, 174, 174, 196, 203, 203, 203, 203, 203, 203, 203, 203, 203, 203, 209, 216, 216, 216, 224, 230, 230, 232, 240, 240, 247, 247, 247, 260, 266, 280, 283, 283, 290, 290, 291, 291, 291, 291, 319, 319, 320, 320, 321, 364, 368, 371, 376, 378, 406, 413, 426, 436, 439, 442, 482, 508, 508, 508, 508, 512, 559, 566, 615, 639, 639, 639, 649, 656, 697, 700, 726, 747, 784, 794, 871, 885, 935, 959, 959, 1040, 1048, 1108, 1119, 1119, 1119, 1119, 1234, 1278, 1278, 1278, 1278, 1279, 1279, 1279, 1322, 1503, 1598, 1598, 1599, 1626, 1794, 1918, 1998, 1998, 2019, 2224, 2238, 2238, 2318, 2421, 2557, 2797, 2993, 3117, 3298, 3357, 3453, 3458, 3517, 4636, 4795, 4795, 6116], \"xaxis\": \"x\", \"y\": [137.454175132896, 137.454175132896, 137.454175132896, 137.454175132896, 137.454175132896, 137.454175132896, 137.454175132896, 137.454175132896, 137.454175132896, 137.454175132896, 137.454175132896, 137.454175132896, 137.454175132896, 137.454175132896, 137.454175132896, 137.454175132896, 137.454175132896, 137.454175132896, 137.454175132896, 137.454175132896, 137.454175132896, 137.454175132896, 137.454175132896, 137.454175132896, 137.454175132896, 137.454175132896, 137.454175132896, 137.454175132896, 137.454175132896, 137.454175132896, 137.454175132896, 137.454175132896, 137.454175132896, 137.454175132896, 137.454175132896, 137.454175132896, 137.454175132896, 137.454175132896, 137.454175132896, 137.454175132896, 137.454175132896, 137.454175132896, 137.454175132896, 137.454175132896, 137.454175132896, 137.454175132896, 137.454175132896, 137.454175132896, 137.454175132896, 137.454175132896, 137.454175132896, 137.454175132896, 137.454175132896, 137.454175132896, 137.454175132896, 137.454175132896, 137.454175132896, 137.454175132896, 137.454175132896, 137.454175132896, 137.454175132896, 137.454175132896, 137.454175132896, 137.454175132896, 137.454175132896, 137.454175132896, 137.454175132896, 137.454175132896, 137.454175132896, 137.454175132896, 137.454175132896, 137.454175132896, 137.454175132896, 137.454175132896, 137.454175132896, 137.454175132896, 137.454175132896, 137.454175132896, 137.454175132896, 137.454175132896, 137.454175132896, 137.454175132896, 137.454175132896, 137.454175132896, 137.454175132896, 137.454175132896, 137.454175132896, 137.454175132896, 137.454175132896, 137.454175132896, 137.454175132896, 137.454175132896, 137.454175132896, 137.454175132896, 137.454175132896, 137.454175132896, 137.454175132896, 137.454175132896, 137.454175132896, 137.454175132896, 137.454175132896, 137.454175132896, 137.454175132896, 137.454175132896, 137.454175132896, 137.454175132896, 137.454175132896, 137.454175132896, 137.454175132896, 137.454175132896, 137.454175132896, 137.454175132896, 137.454175132896, 137.454175132896, 137.454175132896, 137.454175132896, 137.454175132896, 137.454175132896, 137.454175132896, 137.454175132896, 137.454175132896, 137.454175132896, 137.454175132896, 137.454175132896, 137.454175132896, 137.454175132896, 137.454175132896, 137.454175132896, 137.454175132896, 137.454175132896, 137.454175132896, 137.454175132896, 137.454175132896, 137.454175132896, 137.454175132896, 137.454175132896, 137.454175132896, 137.454175132896, 137.454175132896, 137.454175132896, 137.454175132896, 137.454175132896, 137.454175132896, 137.454175132896, 137.454175132896, 137.454175132896, 137.454175132896, 137.454175132896, 137.454175132896, 137.454175132896, 137.454175132896, 137.454175132896, 137.454175132896, 137.454175132896, 137.454175132896, 137.454175132896, 137.454175132896, 137.454175132896, 137.454175132896, 137.454175132896, 137.454175132896, 137.454175132896, 137.454175132896, 137.454175132896, 137.454175132896, 137.454175132896, 137.454175132896, 137.454175132896, 137.454175132896, 137.454175132896, 137.454175132896, 137.454175132896, 137.454175132896, 137.454175132896, 137.454175132896, 137.454175132896, 137.454175132896, 137.454175132896, 137.454175132896, 137.454175132896, 137.454175132896, 137.454175132896, 137.454175132896, 137.454175132896, 137.454175132896, 137.454175132896, 137.454175132896, 137.454175132896, 137.454175132896, 137.454175132896, 137.454175132896, 137.454175132896, 137.454175132896, 137.454175132896, 137.454175132896, 137.454175132896, 137.454175132896, 137.454175132896, 137.454175132896, 137.454175132896, 137.454175132896, 137.454175132896, 137.454175132896, 137.454175132896, 137.454175132896, 137.454175132896, 137.454175132896, 137.454175132896, 137.454175132896, 137.454175132896, 137.454175132896, 137.454175132896, 137.454175132896, 137.454175132896, 137.454175132896, 137.454175132896, 137.454175132896, 137.454175132896, 137.454175132896, 137.454175132896, 137.454175132896, 137.454175132896, 137.454175132896, 137.454175132896, 137.454175132896, 137.454175132896, 137.454175132896, 137.454175132896, 137.454175132896, 137.454175132896, 137.454175132896, 137.454175132896, 137.454175132896, 137.454175132896, 137.454175132896, 137.454175132896, 137.454175132896, 137.454175132896, 137.454175132896, 137.454175132896, 137.454175132896, 137.454175132896, 137.454175132896, 137.454175132896, 137.454175132896, 137.454175132896, 137.454175132896, 137.454175132896, 137.454175132896, 137.454175132896, 137.454175132896, 137.454175132896, 137.454175132896, 137.454175132896, 137.454175132896, 137.454175132896, 137.454175132896, 137.454175132896, 137.454175132896, 137.454175132896, 137.454175132896, 137.454175132896, 137.454175132896, 137.454175132896, 137.454175132896, 137.454175132896, 137.454175132896, 137.454175132896, 137.454175132896, 137.454175132896, 137.454175132896, 137.454175132896, 137.454175132896, 137.454175132896, 137.454175132896, 137.454175132896, 137.454175132896, 137.454175132896, 137.454175132896, 137.454175132896, 137.454175132896, 137.454175132896, 137.454175132896, 137.454175132896, 137.454175132896, 137.454175132896, 137.454175132896, 137.454175132896, 137.454175132896, 137.454175132896, 137.454175132896, 137.454175132896, 137.454175132896, 137.454175132896, 137.454175132896, 137.454175132896, 137.454175132896, 137.454175132896, 137.454175132896, 137.454175132896, 137.454175132896, 137.454175132896, 137.454175132896, 137.454175132896, 137.454175132896, 137.454175132896, 137.454175132896, 137.454175132896, 137.454175132896, 137.454175132896, 137.454175132896, 137.454175132896, 137.454175132896, 137.454175132896, 137.454175132896, 137.454175132896, 137.454175132896, 137.454175132896, 137.454175132896, 137.454175132896, 137.454175132896, 137.454175132896, 137.454175132896, 137.454175132896, 137.454175132896, 137.454175132896, 137.454175132896, 137.454175132896, 137.454175132896, 137.454175132896, 137.454175132896, 137.454175132896, 137.454175132896, 137.454175132896, 137.454175132896, 137.454175132896, 137.454175132896, 137.454175132896, 137.454175132896, 137.454175132896, 137.454175132896, 137.454175132896, 137.454175132896, 137.454175132896, 137.454175132896, 137.454175132896, 137.454175132896, 137.454175132896, 137.454175132896, 137.454175132896, 137.454175132896, 137.454175132896, 137.454175132896, 137.454175132896, 137.454175132896, 137.454175132896, 137.454175132896, 137.454175132896, 137.454175132896, 137.454175132896, 137.454175132896, 137.454175132896, 137.454175132896, 137.454175132896, 137.454175132896, 137.454175132896, 137.454175132896, 137.454175132896, 137.454175132896, 137.454175132896, 137.454175132896, 137.454175132896, 137.454175132896, 137.454175132896, 137.454175132896, 137.454175132896, 137.454175132896, 137.454175132896, 137.454175132896, 137.454175132896, 137.454175132896, 137.454175132896, 137.454175132896, 137.454175132896, 137.454175132896, 137.454175132896, 137.454175132896, 137.454175132896, 137.454175132896, 137.454175132896, 137.454175132896, 137.454175132896, 137.454175132896, 137.454175132896, 137.454175132896, 137.454175132896, 137.454175132896, 137.454175132896, 137.454175132896, 137.454175132896, 137.454175132896, 137.454175132896, 137.454175132896, 137.454175132896, 137.454175132896, 137.454175132896, 137.454175132896, 137.454175132896, 137.454175132896, 137.454175132896, 137.454175132896, 137.454175132896, 137.454175132896, 137.454175132896, 137.454175132896, 137.454175132896, 137.454175132896, 137.454175132896, 137.454175132896, 137.454175132896, 137.454175132896, 137.454175132896, 137.454175132896, 137.454175132896, 137.454175132896, 137.454175132896, 137.454175132896, 137.454175132896, 137.454175132896, 137.454175132896, 137.454175132896, 137.454175132896, 137.454175132896, 137.454175132896, 137.454175132896, 137.454175132896, 137.454175132896, 137.454175132896, 137.454175132896, 137.454175132896, 137.454175132896, 137.454175132896, 137.454175132896, 137.454175132896, 137.454175132896, 137.454175132896, 137.454175132896, 137.454175132896, 137.454175132896, 137.454175132896, 137.454175132896, 137.454175132896, 137.454175132896, 137.454175132896, 137.454175132896, 137.454175132896, 137.454175132896, 137.454175132896, 137.454175132896, 137.454175132896, 137.454175132896, 137.454175132896, 137.454175132896, 137.454175132896, 137.454175132896, 137.454175132896, 137.454175132896, 137.454175132896, 137.454175132896, 137.454175132896, 137.454175132896, 137.454175132896, 137.454175132896, 137.454175132896, 137.454175132896, 137.454175132896, 137.454175132896, 137.454175132896, 137.454175132896, 137.454175132896, 137.454175132896, 137.454175132896, 137.454175132896, 137.454175132896, 137.454175132896, 137.454175132896, 137.454175132896, 137.454175132896, 137.454175132896, 137.454175132896, 137.454175132896, 137.454175132896, 137.454175132896, 137.454175132896, 137.454175132896, 137.454175132896, 137.454175132896, 137.454175132896, 137.454175132896, 137.454175132896, 137.454175132896, 137.454175132896, 137.454175132896, 137.454175132896, 137.454175132896, 137.454175132896, 137.454175132896, 137.454175132896, 137.454175132896, 137.454175132896, 137.454175132896, 137.454175132896, 137.454175132896, 137.454175132896, 137.454175132896, 137.454175132896, 137.454175132896, 137.454175132896, 137.454175132896, 137.454175132896, 137.454175132896, 137.454175132896, 137.454175132896, 137.454175132896, 137.454175132896, 137.454175132896, 137.454175132896, 137.454175132896, 137.454175132896, 137.454175132896, 137.454175132896, 137.454175132896, 137.454175132896, 137.454175132896, 137.454175132896, 137.454175132896, 137.454175132896, 137.454175132896, 137.454175132896, 137.454175132896, 137.454175132896, 137.454175132896, 137.454175132896, 137.454175132896, 137.454175132896, 137.454175132896, 137.454175132896, 137.454175132896, 137.454175132896, 137.454175132896, 137.454175132896, 137.454175132896, 137.454175132896, 137.454175132896, 137.454175132896, 137.454175132896, 137.454175132896, 137.454175132896, 137.454175132896, 137.454175132896, 137.454175132896, 137.454175132896, 137.454175132896, 137.454175132896, 137.454175132896, 137.454175132896, 137.454175132896, 137.454175132896, 137.454175132896, 137.454175132896, 137.454175132896, 137.454175132896, 137.454175132896, 137.454175132896, 137.454175132896, 137.454175132896, 137.454175132896, 137.454175132896, 137.454175132896, 137.454175132896, 137.454175132896, 137.454175132896, 137.454175132896, 137.454175132896, 137.454175132896, 137.454175132896, 137.454175132896, 137.454175132896, 137.454175132896, 137.454175132896, 137.454175132896, 137.454175132896, 137.454175132896, 137.454175132896, 137.454175132896, 137.454175132896, 137.454175132896, 137.454175132896, 137.454175132896, 137.454175132896, 137.454175132896, 137.454175132896, 137.454175132896, 137.454175132896, 137.454175132896, 137.454175132896, 137.454175132896, 137.454175132896, 137.454175132896, 137.454175132896, 137.454175132896, 137.454175132896, 137.454175132896, 137.454175132896, 137.454175132896, 137.454175132896, 137.454175132896, 137.454175132896, 137.454175132896, 137.454175132896, 137.454175132896, 137.454175132896, 137.454175132896, 137.454175132896, 137.454175132896, 137.454175132896, 137.454175132896, 137.454175132896, 137.454175132896, 137.454175132896, 137.454175132896, 137.454175132896, 137.454175132896, 137.454175132896, 137.454175132896, 137.454175132896, 137.454175132896, 137.454175132896, 137.454175132896, 137.454175132896, 137.454175132896, 137.454175132896, 137.454175132896, 137.454175132896, 137.454175132896, 137.454175132896, 137.454175132896, 137.454175132896, 137.454175132896, 137.454175132896, 137.454175132896, 137.454175132896, 137.454175132896, 137.454175132896, 137.454175132896, 137.454175132896, 137.454175132896, 137.454175132896, 137.454175132896, 137.454175132896, 137.454175132896, 137.454175132896, 137.454175132896, 137.454175132896, 137.454175132896, 137.454175132896, 137.454175132896, 137.454175132896, 137.454175132896, 137.454175132896, 137.454175132896, 137.454175132896, 137.454175132896, 137.454175132896, 137.454175132896, 137.454175132896, 137.454175132896, 137.454175132896, 137.454175132896, 137.454175132896, 137.454175132896, 137.454175132896, 137.454175132896, 137.454175132896, 137.454175132896, 137.454175132896, 137.454175132896, 137.454175132896, 137.454175132896, 137.454175132896, 137.454175132896, 137.454175132896, 137.454175132896, 137.454175132896, 137.454175132896, 137.454175132896, 137.454175132896, 137.454175132896, 137.454175132896, 137.454175132896, 137.454175132896, 137.454175132896, 137.454175132896, 137.454175132896, 137.454175132896, 137.454175132896, 137.454175132896, 137.454175132896, 137.454175132896, 137.454175132896, 137.454175132896, 137.454175132896, 137.454175132896, 137.454175132896, 137.454175132896, 137.454175132896, 137.454175132896, 137.454175132896, 137.454175132896, 137.454175132896, 137.454175132896, 137.454175132896, 137.454175132896, 137.454175132896, 137.454175132896, 137.454175132896, 137.454175132896, 137.454175132896, 137.454175132896, 137.454175132896, 137.454175132896, 137.454175132896, 137.454175132896, 137.454175132896, 137.454175132896, 137.454175132896, 137.454175132896, 137.454175132896, 137.454175132896, 137.454175132896, 137.454175132896, 137.454175132896, 137.454175132896, 137.454175132896, 137.454175132896, 137.454175132896, 137.454175132896, 137.454175132896, 137.454175132896, 137.454175132896, 137.454175132896, 137.454175132896, 137.454175132896, 137.454175132896, 137.454175132896, 137.454175132896, 137.454175132896, 137.454175132896, 137.454175132896, 137.454175132896, 137.454175132896, 137.454175132896, 137.454175132896, 137.454175132896, 137.454175132896, 137.454175132896, 137.454175132896, 137.454175132896, 137.454175132896, 137.454175132896, 137.454175132896, 137.454175132896, 137.454175132896, 137.454175132896, 137.454175132896, 137.454175132896, 137.454175132896, 137.454175132896, 137.454175132896, 137.454175132896, 137.454175132896, 137.454175132896, 137.454175132896, 137.454175132896, 137.454175132896, 137.454175132896, 137.454175132896, 137.454175132896, 137.454175132896, 137.454175132896, 137.454175132896, 137.454175132896, 137.454175132896, 137.454175132896, 137.454175132896, 137.454175132896, 137.454175132896, 137.454175132896, 137.454175132896, 137.454175132896, 137.454175132896, 137.454175132896, 137.454175132896, 137.454175132896, 137.454175132896, 137.454175132896, 137.454175132896, 137.454175132896, 137.454175132896, 137.454175132896, 137.454175132896, 137.454175132896, 137.454175132896, 137.454175132896, 137.454175132896, 137.454175132896, 137.454175132896, 137.454175132896, 137.454175132896, 137.454175132896, 137.454175132896, 137.454175132896, 137.454175132896, 137.454175132896, 137.454175132896, 137.454175132896, 137.454175132896, 137.454175132896, 137.454175132896, 137.454175132896, 137.454175132896, 137.454175132896, 137.454175132896, 137.454175132896, 137.454175132896, 137.454175132896, 137.454175132896, 137.454175132896, 137.454175132896, 137.454175132896, 137.454175132896, 137.454175132896, 137.454175132896, 137.454175132896, 137.454175132896, 137.454175132896, 137.454175132896, 137.454175132896, 137.454175132896, 137.454175132896, 137.454175132896, 137.454175132896, 137.454175132896, 137.454175132896, 137.454175132896, 137.454175132896, 137.454175132896, 137.454175132896, 137.454175132896, 137.454175132896, 137.454175132896, 137.454175132896, 137.454175132896, 137.454175132896, 137.454175132896, 137.454175132896, 137.454175132896, 137.454175132896, 137.454175132896, 137.454175132896, 137.454175132896, 137.454175132896, 137.454175132896, 137.454175132896, 137.454175132896, 137.454175132896, 137.454175132896, 137.454175132896, 137.454175132896, 137.454175132896, 137.454175132896, 137.454175132896, 137.454175132896, 137.454175132896, 137.454175132896, 137.454175132896, 137.454175132896, 137.454175132896, 137.454175132896, 137.454175132896, 137.454175132896, 137.454175132896, 137.454175132896, 137.454175132896, 137.454175132896, 137.454175132896, 137.454175132896, 137.454175132896, 137.454175132896, 137.454175132896, 137.454175132896, 137.454175132896, 137.454175132896, 137.454175132896, 137.454175132896, 137.454175132896, 137.454175132896, 137.454175132896, 137.454175132896, 137.454175132896, 137.454175132896, 137.454175132896, 137.454175132896, 137.454175132896, 137.454175132896, 137.454175132896, 137.454175132896, 137.454175132896, 137.454175132896, 137.454175132896, 137.454175132896, 137.454175132896, 137.454175132896, 137.454175132896, 137.454175132896, 137.454175132896, 137.454175132896, 137.454175132896, 137.454175132896, 137.454175132896, 137.454175132896, 137.454175132896, 137.454175132896, 137.454175132896, 137.454175132896, 137.454175132896, 137.454175132896, 137.454175132896, 137.454175132896, 137.454175132896, 137.454175132896, 137.454175132896, 137.454175132896, 137.454175132896, 137.52094904538023, 137.5710294797434, 137.65449687034868, 137.6878838265908, 137.6878838265908, 137.72127078283293, 137.737964260954, 137.8047381734382, 137.8047381734382, 137.8882055640435, 137.8882055640435, 137.9215925202856, 137.9215925202856, 137.93828599840666, 137.93828599840666, 137.93828599840666, 137.93828599840666, 137.93828599840666, 137.93828599840666, 137.93828599840666, 137.93828599840666, 138.02175338901193, 138.05514034525405, 138.05514034525405, 138.05514034525405, 138.05514034525405, 138.0718338233751, 138.1052207796172, 138.17199469210144, 138.28884903894885, 138.28884903894885, 138.28884903894885, 138.48917077640152, 138.5392512107647, 138.65610555761208, 138.65610555761208, 138.67279903573316, 138.67279903573316, 138.67279903573316, 138.67279903573316, 138.67279903573316, 138.67279903573316, 138.67279903573316, 138.67279903573316, 138.70618599197527, 138.75626642633844, 138.75626642633844, 138.75626642633844, 138.75626642633844, 138.75626642633844, 138.75626642633844, 138.78965338258055, 138.78965338258055, 138.78965338258055, 138.78965338258055, 138.85642729506478, 138.90650772942794, 138.90650772942794, 138.90650772942794, 138.90650772942794, 138.90650772942794, 138.90650772942794, 138.90650772942794, 138.90650772942794, 138.90650772942794, 138.90650772942794, 139.09013598875956, 139.09013598875956, 139.09013598875956, 139.09013598875956, 139.1569099012438, 139.1569099012438, 139.1569099012438, 139.1569099012438, 139.2737642480912, 139.32384468245436, 139.32384468245436, 139.32384468245436, 139.37392511681753, 139.3906185949386, 139.3906185949386, 139.3906185949386, 139.3906185949386, 139.4573925074228, 139.49077946366492, 139.49077946366492, 139.49077946366492, 139.5408598980281, 139.64102076675445, 139.64102076675445, 139.64102076675445, 139.64102076675445, 139.69110120111762, 139.70779467923867, 139.85803598232818, 139.85803598232818, 139.87472946044923, 139.87472946044923, 140.00827728541768, 140.05835771978084, 140.1251316322651, 140.1251316322651, 140.1251316322651, 140.1251316322651, 140.1585185885072, 140.22529250099143, 140.24198597911248, 140.2753729353546, 140.3087598915967, 140.34214684783882, 140.35884032595987, 140.35884032595987, 140.72609684462313, 140.84295119147052, 140.84295119147052, 140.84295119147052, 140.84295119147052, 140.84295119147052, 140.84295119147052, 140.84295119147052, 140.84295119147052, 140.84295119147052, 140.84295119147052, 140.94311206019685, 141.05996640704424, 141.05996640704424, 141.05996640704424, 141.19351423201272, 141.29367510073905, 141.29367510073905, 141.32706205698116, 141.4606098819496, 141.4606098819496, 141.577464228797, 141.577464228797, 141.577464228797, 141.79447944437075, 141.89464031309709, 142.1283490067919, 142.17842944115506, 142.17842944115506, 142.29528378800245, 142.29528378800245, 142.3119772661235, 142.3119772661235, 142.3119772661235, 142.3119772661235, 142.7793946535131, 142.7793946535131, 142.79608813163415, 142.79608813163415, 142.8127816097552, 143.53060116896066, 143.59737508144488, 143.64745551580805, 143.73092290641333, 143.76430986265544, 144.23172725004503, 144.34858159689242, 144.56559681246617, 144.73253159367673, 144.7826120280399, 144.83269246240306, 145.50043158724534, 145.93446201839282, 145.93446201839282, 145.93446201839282, 145.93446201839282, 146.00123593087704, 146.7858294025667, 146.9026837494141, 147.72066417734587, 148.12130765225123, 148.12130765225123, 148.12130765225123, 148.2882424334618, 148.4050967803092, 149.08952938327252, 149.1396098176357, 149.57364024878316, 149.92420328932536, 150.54186197980445, 150.708796761015, 151.99419457633638, 152.22790327003116, 153.062577176084, 153.46322065098937, 153.46322065098937, 154.81539237879497, 154.9489402037634, 155.9505488910268, 156.13417715035843, 156.13417715035843, 156.13417715035843, 156.13417715035843, 158.05392713427995, 158.78844017160645, 158.78844017160645, 158.78844017160645, 158.78844017160645, 158.8051336497275, 158.8051336497275, 158.8051336497275, 159.52295320893296, 162.5444727488442, 164.1303531703446, 164.1303531703446, 164.14704664846565, 164.59777055773418, 167.4022748820717, 169.47226616908273, 170.80774441876727, 170.80774441876727, 171.15830745930947, 174.58047047412606, 174.81417916782087, 174.81417916782087, 176.1496574175054, 177.86908566397423, 180.13939868843795, 184.14583343749155, 187.41775514921866, 189.48774643622968, 192.50926597614097, 193.4941811852833, 195.09675508490474, 195.18022247551002, 196.16513768465236, 214.8451397021148, 217.4994027233628, 217.4994027233628, 239.55148732127867], \"yaxis\": \"y\"}],                        {\"legend\": {\"tracegroupgap\": 0}, \"margin\": {\"t\": 60}, \"template\": {\"data\": {\"bar\": [{\"error_x\": {\"color\": \"#2a3f5f\"}, \"error_y\": {\"color\": \"#2a3f5f\"}, \"marker\": {\"line\": {\"color\": \"#E5ECF6\", \"width\": 0.5}}, \"type\": \"bar\"}], \"barpolar\": [{\"marker\": {\"line\": {\"color\": \"#E5ECF6\", \"width\": 0.5}}, \"type\": \"barpolar\"}], \"carpet\": [{\"aaxis\": {\"endlinecolor\": \"#2a3f5f\", \"gridcolor\": \"white\", \"linecolor\": \"white\", \"minorgridcolor\": \"white\", \"startlinecolor\": \"#2a3f5f\"}, \"baxis\": {\"endlinecolor\": \"#2a3f5f\", \"gridcolor\": \"white\", \"linecolor\": \"white\", \"minorgridcolor\": \"white\", \"startlinecolor\": \"#2a3f5f\"}, \"type\": \"carpet\"}], \"choropleth\": [{\"colorbar\": {\"outlinewidth\": 0, \"ticks\": \"\"}, \"type\": \"choropleth\"}], \"contour\": [{\"colorbar\": {\"outlinewidth\": 0, \"ticks\": \"\"}, \"colorscale\": [[0.0, \"#0d0887\"], [0.1111111111111111, \"#46039f\"], [0.2222222222222222, \"#7201a8\"], [0.3333333333333333, \"#9c179e\"], [0.4444444444444444, \"#bd3786\"], [0.5555555555555556, \"#d8576b\"], [0.6666666666666666, \"#ed7953\"], [0.7777777777777778, \"#fb9f3a\"], [0.8888888888888888, \"#fdca26\"], [1.0, \"#f0f921\"]], \"type\": \"contour\"}], \"contourcarpet\": [{\"colorbar\": {\"outlinewidth\": 0, \"ticks\": \"\"}, \"type\": \"contourcarpet\"}], \"heatmap\": [{\"colorbar\": {\"outlinewidth\": 0, \"ticks\": \"\"}, \"colorscale\": [[0.0, \"#0d0887\"], [0.1111111111111111, \"#46039f\"], [0.2222222222222222, \"#7201a8\"], [0.3333333333333333, \"#9c179e\"], [0.4444444444444444, \"#bd3786\"], [0.5555555555555556, \"#d8576b\"], [0.6666666666666666, \"#ed7953\"], [0.7777777777777778, \"#fb9f3a\"], [0.8888888888888888, \"#fdca26\"], [1.0, \"#f0f921\"]], \"type\": \"heatmap\"}], \"heatmapgl\": [{\"colorbar\": {\"outlinewidth\": 0, \"ticks\": \"\"}, \"colorscale\": [[0.0, \"#0d0887\"], [0.1111111111111111, \"#46039f\"], [0.2222222222222222, \"#7201a8\"], [0.3333333333333333, \"#9c179e\"], [0.4444444444444444, \"#bd3786\"], [0.5555555555555556, \"#d8576b\"], [0.6666666666666666, \"#ed7953\"], [0.7777777777777778, \"#fb9f3a\"], [0.8888888888888888, \"#fdca26\"], [1.0, \"#f0f921\"]], \"type\": \"heatmapgl\"}], \"histogram\": [{\"marker\": {\"colorbar\": {\"outlinewidth\": 0, \"ticks\": \"\"}}, \"type\": \"histogram\"}], \"histogram2d\": [{\"colorbar\": {\"outlinewidth\": 0, \"ticks\": \"\"}, \"colorscale\": [[0.0, \"#0d0887\"], [0.1111111111111111, \"#46039f\"], [0.2222222222222222, \"#7201a8\"], [0.3333333333333333, \"#9c179e\"], [0.4444444444444444, \"#bd3786\"], [0.5555555555555556, \"#d8576b\"], [0.6666666666666666, \"#ed7953\"], [0.7777777777777778, \"#fb9f3a\"], [0.8888888888888888, \"#fdca26\"], [1.0, \"#f0f921\"]], \"type\": \"histogram2d\"}], \"histogram2dcontour\": [{\"colorbar\": {\"outlinewidth\": 0, \"ticks\": \"\"}, \"colorscale\": [[0.0, \"#0d0887\"], [0.1111111111111111, \"#46039f\"], [0.2222222222222222, \"#7201a8\"], [0.3333333333333333, \"#9c179e\"], [0.4444444444444444, \"#bd3786\"], [0.5555555555555556, \"#d8576b\"], [0.6666666666666666, \"#ed7953\"], [0.7777777777777778, \"#fb9f3a\"], [0.8888888888888888, \"#fdca26\"], [1.0, \"#f0f921\"]], \"type\": \"histogram2dcontour\"}], \"mesh3d\": [{\"colorbar\": {\"outlinewidth\": 0, \"ticks\": \"\"}, \"type\": \"mesh3d\"}], \"parcoords\": [{\"line\": {\"colorbar\": {\"outlinewidth\": 0, \"ticks\": \"\"}}, \"type\": \"parcoords\"}], \"pie\": [{\"automargin\": true, \"type\": \"pie\"}], \"scatter\": [{\"marker\": {\"colorbar\": {\"outlinewidth\": 0, \"ticks\": \"\"}}, \"type\": \"scatter\"}], \"scatter3d\": [{\"line\": {\"colorbar\": {\"outlinewidth\": 0, \"ticks\": \"\"}}, \"marker\": {\"colorbar\": {\"outlinewidth\": 0, \"ticks\": \"\"}}, \"type\": \"scatter3d\"}], \"scattercarpet\": [{\"marker\": {\"colorbar\": {\"outlinewidth\": 0, \"ticks\": \"\"}}, \"type\": \"scattercarpet\"}], \"scattergeo\": [{\"marker\": {\"colorbar\": {\"outlinewidth\": 0, \"ticks\": \"\"}}, \"type\": \"scattergeo\"}], \"scattergl\": [{\"marker\": {\"colorbar\": {\"outlinewidth\": 0, \"ticks\": \"\"}}, \"type\": \"scattergl\"}], \"scattermapbox\": [{\"marker\": {\"colorbar\": {\"outlinewidth\": 0, \"ticks\": \"\"}}, \"type\": \"scattermapbox\"}], \"scatterpolar\": [{\"marker\": {\"colorbar\": {\"outlinewidth\": 0, \"ticks\": \"\"}}, \"type\": \"scatterpolar\"}], \"scatterpolargl\": [{\"marker\": {\"colorbar\": {\"outlinewidth\": 0, \"ticks\": \"\"}}, \"type\": \"scatterpolargl\"}], \"scatterternary\": [{\"marker\": {\"colorbar\": {\"outlinewidth\": 0, \"ticks\": \"\"}}, \"type\": \"scatterternary\"}], \"surface\": [{\"colorbar\": {\"outlinewidth\": 0, \"ticks\": \"\"}, \"colorscale\": [[0.0, \"#0d0887\"], [0.1111111111111111, \"#46039f\"], [0.2222222222222222, \"#7201a8\"], [0.3333333333333333, \"#9c179e\"], [0.4444444444444444, \"#bd3786\"], [0.5555555555555556, \"#d8576b\"], [0.6666666666666666, \"#ed7953\"], [0.7777777777777778, \"#fb9f3a\"], [0.8888888888888888, \"#fdca26\"], [1.0, \"#f0f921\"]], \"type\": \"surface\"}], \"table\": [{\"cells\": {\"fill\": {\"color\": \"#EBF0F8\"}, \"line\": {\"color\": \"white\"}}, \"header\": {\"fill\": {\"color\": \"#C8D4E3\"}, \"line\": {\"color\": \"white\"}}, \"type\": \"table\"}]}, \"layout\": {\"annotationdefaults\": {\"arrowcolor\": \"#2a3f5f\", \"arrowhead\": 0, \"arrowwidth\": 1}, \"autotypenumbers\": \"strict\", \"coloraxis\": {\"colorbar\": {\"outlinewidth\": 0, \"ticks\": \"\"}}, \"colorscale\": {\"diverging\": [[0, \"#8e0152\"], [0.1, \"#c51b7d\"], [0.2, \"#de77ae\"], [0.3, \"#f1b6da\"], [0.4, \"#fde0ef\"], [0.5, \"#f7f7f7\"], [0.6, \"#e6f5d0\"], [0.7, \"#b8e186\"], [0.8, \"#7fbc41\"], [0.9, \"#4d9221\"], [1, \"#276419\"]], \"sequential\": [[0.0, \"#0d0887\"], [0.1111111111111111, \"#46039f\"], [0.2222222222222222, \"#7201a8\"], [0.3333333333333333, \"#9c179e\"], [0.4444444444444444, \"#bd3786\"], [0.5555555555555556, \"#d8576b\"], [0.6666666666666666, \"#ed7953\"], [0.7777777777777778, \"#fb9f3a\"], [0.8888888888888888, \"#fdca26\"], [1.0, \"#f0f921\"]], \"sequentialminus\": [[0.0, \"#0d0887\"], [0.1111111111111111, \"#46039f\"], [0.2222222222222222, \"#7201a8\"], [0.3333333333333333, \"#9c179e\"], [0.4444444444444444, \"#bd3786\"], [0.5555555555555556, \"#d8576b\"], [0.6666666666666666, \"#ed7953\"], [0.7777777777777778, \"#fb9f3a\"], [0.8888888888888888, \"#fdca26\"], [1.0, \"#f0f921\"]]}, \"colorway\": [\"#636efa\", \"#EF553B\", \"#00cc96\", \"#ab63fa\", \"#FFA15A\", \"#19d3f3\", \"#FF6692\", \"#B6E880\", \"#FF97FF\", \"#FECB52\"], \"font\": {\"color\": \"#2a3f5f\"}, \"geo\": {\"bgcolor\": \"white\", \"lakecolor\": \"white\", \"landcolor\": \"#E5ECF6\", \"showlakes\": true, \"showland\": true, \"subunitcolor\": \"white\"}, \"hoverlabel\": {\"align\": \"left\"}, \"hovermode\": \"closest\", \"mapbox\": {\"style\": \"light\"}, \"paper_bgcolor\": \"white\", \"plot_bgcolor\": \"#E5ECF6\", \"polar\": {\"angularaxis\": {\"gridcolor\": \"white\", \"linecolor\": \"white\", \"ticks\": \"\"}, \"bgcolor\": \"#E5ECF6\", \"radialaxis\": {\"gridcolor\": \"white\", \"linecolor\": \"white\", \"ticks\": \"\"}}, \"scene\": {\"xaxis\": {\"backgroundcolor\": \"#E5ECF6\", \"gridcolor\": \"white\", \"gridwidth\": 2, \"linecolor\": \"white\", \"showbackground\": true, \"ticks\": \"\", \"zerolinecolor\": \"white\"}, \"yaxis\": {\"backgroundcolor\": \"#E5ECF6\", \"gridcolor\": \"white\", \"gridwidth\": 2, \"linecolor\": \"white\", \"showbackground\": true, \"ticks\": \"\", \"zerolinecolor\": \"white\"}, \"zaxis\": {\"backgroundcolor\": \"#E5ECF6\", \"gridcolor\": \"white\", \"gridwidth\": 2, \"linecolor\": \"white\", \"showbackground\": true, \"ticks\": \"\", \"zerolinecolor\": \"white\"}}, \"shapedefaults\": {\"line\": {\"color\": \"#2a3f5f\"}}, \"ternary\": {\"aaxis\": {\"gridcolor\": \"white\", \"linecolor\": \"white\", \"ticks\": \"\"}, \"baxis\": {\"gridcolor\": \"white\", \"linecolor\": \"white\", \"ticks\": \"\"}, \"bgcolor\": \"#E5ECF6\", \"caxis\": {\"gridcolor\": \"white\", \"linecolor\": \"white\", \"ticks\": \"\"}}, \"title\": {\"x\": 0.05}, \"xaxis\": {\"automargin\": true, \"gridcolor\": \"white\", \"linecolor\": \"white\", \"ticks\": \"\", \"title\": {\"standoff\": 15}, \"zerolinecolor\": \"white\", \"zerolinewidth\": 2}, \"yaxis\": {\"automargin\": true, \"gridcolor\": \"white\", \"linecolor\": \"white\", \"ticks\": \"\", \"title\": {\"standoff\": 15}, \"zerolinecolor\": \"white\", \"zerolinewidth\": 2}}}, \"title\": {\"text\": \"Fit trend line: OLS\"}, \"xaxis\": {\"anchor\": \"y\", \"domain\": [0.0, 1.0], \"title\": {\"text\": \"Spend\"}}, \"yaxis\": {\"anchor\": \"x\", \"domain\": [0.0, 1.0], \"title\": {\"text\": \"Page Views\"}}},                        {\"responsive\": true}                    ).then(function(){\n",
       "                            \n",
       "var gd = document.getElementById('4a0071fb-5a9d-48ad-8ad8-14eb06a4a9bb');\n",
       "var x = new MutationObserver(function (mutations, observer) {{\n",
       "        var display = window.getComputedStyle(gd).display;\n",
       "        if (!display || display === 'none') {{\n",
       "            console.log([gd, 'removed!']);\n",
       "            Plotly.purge(gd);\n",
       "            observer.disconnect();\n",
       "        }}\n",
       "}});\n",
       "\n",
       "// Listen for the removal of the full notebook cells\n",
       "var notebookContainer = gd.closest('#notebook-container');\n",
       "if (notebookContainer) {{\n",
       "    x.observe(notebookContainer, {childList: true});\n",
       "}}\n",
       "\n",
       "// Listen for the clearing of the current output cell\n",
       "var outputEl = gd.closest('.output');\n",
       "if (outputEl) {{\n",
       "    x.observe(outputEl, {childList: true});\n",
       "}}\n",
       "\n",
       "                        })                };                });            </script>        </div>"
      ]
     },
     "metadata": {},
     "output_type": "display_data"
    }
   ],
   "source": [
    "fig = px.scatter(df, x=\"NetB_spd\", y=\"Page Views\", trendline= \"ols\")#\"lowess\")\n",
    "fig.update_layout(title=\"Fit trend line: OLS\", xaxis_title='Spend')\n",
    "fig.show()\n",
    "#results = px.get_trendline_results(fig)\n",
    "#results.px_fit_results.iloc[0].summary()"
   ]
  },
  {
   "cell_type": "code",
   "execution_count": 24,
   "metadata": {},
   "outputs": [],
   "source": [
    "df03=pd.read_excel(path+\"Trend_seasonality.xlsx\")"
   ]
  },
  {
   "cell_type": "code",
   "execution_count": 25,
   "metadata": {},
   "outputs": [
    {
     "data": {
      "text/html": [
       "<div>\n",
       "<style scoped>\n",
       "    .dataframe tbody tr th:only-of-type {\n",
       "        vertical-align: middle;\n",
       "    }\n",
       "\n",
       "    .dataframe tbody tr th {\n",
       "        vertical-align: top;\n",
       "    }\n",
       "\n",
       "    .dataframe thead th {\n",
       "        text-align: right;\n",
       "    }\n",
       "</style>\n",
       "<table border=\"1\" class=\"dataframe\">\n",
       "  <thead>\n",
       "    <tr style=\"text-align: right;\">\n",
       "      <th></th>\n",
       "      <th>WEEK</th>\n",
       "      <th>Observed</th>\n",
       "      <th>Trend</th>\n",
       "      <th>Seasonal</th>\n",
       "      <th>Resid</th>\n",
       "      <th>Weights</th>\n",
       "    </tr>\n",
       "  </thead>\n",
       "  <tbody>\n",
       "    <tr>\n",
       "      <th>0</th>\n",
       "      <td>2015-11-02</td>\n",
       "      <td>4288</td>\n",
       "      <td>NaN</td>\n",
       "      <td>-81.690120</td>\n",
       "      <td>NaN</td>\n",
       "      <td>1</td>\n",
       "    </tr>\n",
       "    <tr>\n",
       "      <th>1</th>\n",
       "      <td>2015-11-09</td>\n",
       "      <td>4321</td>\n",
       "      <td>NaN</td>\n",
       "      <td>442.141611</td>\n",
       "      <td>NaN</td>\n",
       "      <td>1</td>\n",
       "    </tr>\n",
       "    <tr>\n",
       "      <th>2</th>\n",
       "      <td>2015-11-16</td>\n",
       "      <td>5217</td>\n",
       "      <td>NaN</td>\n",
       "      <td>155.612765</td>\n",
       "      <td>NaN</td>\n",
       "      <td>1</td>\n",
       "    </tr>\n",
       "    <tr>\n",
       "      <th>3</th>\n",
       "      <td>2015-11-23</td>\n",
       "      <td>5416</td>\n",
       "      <td>NaN</td>\n",
       "      <td>328.540650</td>\n",
       "      <td>NaN</td>\n",
       "      <td>1</td>\n",
       "    </tr>\n",
       "    <tr>\n",
       "      <th>4</th>\n",
       "      <td>2015-11-30</td>\n",
       "      <td>6379</td>\n",
       "      <td>NaN</td>\n",
       "      <td>711.829111</td>\n",
       "      <td>NaN</td>\n",
       "      <td>1</td>\n",
       "    </tr>\n",
       "  </tbody>\n",
       "</table>\n",
       "</div>"
      ],
      "text/plain": [
       "        WEEK  Observed  Trend    Seasonal  Resid  Weights\n",
       "0 2015-11-02      4288    NaN  -81.690120    NaN        1\n",
       "1 2015-11-09      4321    NaN  442.141611    NaN        1\n",
       "2 2015-11-16      5217    NaN  155.612765    NaN        1\n",
       "3 2015-11-23      5416    NaN  328.540650    NaN        1\n",
       "4 2015-11-30      6379    NaN  711.829111    NaN        1"
      ]
     },
     "execution_count": 25,
     "metadata": {},
     "output_type": "execute_result"
    }
   ],
   "source": [
    "df03.head()"
   ]
  },
  {
   "cell_type": "code",
   "execution_count": 26,
   "metadata": {},
   "outputs": [
    {
     "data": {
      "application/vnd.plotly.v1+json": {
       "config": {
        "plotlyServerURL": "https://plot.ly"
       },
       "data": [
        {
         "hovertemplate": "WEEK=%{x}<br>Observed=%{y}<extra></extra>",
         "legendgroup": "",
         "line": {
          "color": "#636efa",
          "dash": "solid"
         },
         "mode": "lines",
         "name": "",
         "orientation": "v",
         "showlegend": false,
         "type": "scatter",
         "x": [
          "2015-11-02T00:00:00",
          "2015-11-09T00:00:00",
          "2015-11-16T00:00:00",
          "2015-11-23T00:00:00",
          "2015-11-30T00:00:00",
          "2015-12-07T00:00:00",
          "2015-12-14T00:00:00",
          "2015-12-21T00:00:00",
          "2015-12-28T00:00:00",
          "2016-01-04T00:00:00",
          "2016-01-11T00:00:00",
          "2016-01-18T00:00:00",
          "2016-01-25T00:00:00",
          "2016-02-01T00:00:00",
          "2016-02-08T00:00:00",
          "2016-02-15T00:00:00",
          "2016-02-22T00:00:00",
          "2016-02-29T00:00:00",
          "2016-03-07T00:00:00",
          "2016-03-14T00:00:00",
          "2016-03-21T00:00:00",
          "2016-03-28T00:00:00",
          "2016-04-04T00:00:00",
          "2016-04-11T00:00:00",
          "2016-04-18T00:00:00",
          "2016-04-25T00:00:00",
          "2016-05-02T00:00:00",
          "2016-05-09T00:00:00",
          "2016-05-16T00:00:00",
          "2016-05-23T00:00:00",
          "2016-05-30T00:00:00",
          "2016-06-06T00:00:00",
          "2016-06-13T00:00:00",
          "2016-06-20T00:00:00",
          "2016-06-27T00:00:00",
          "2016-07-04T00:00:00",
          "2016-07-11T00:00:00",
          "2016-07-18T00:00:00",
          "2016-07-25T00:00:00",
          "2016-08-01T00:00:00",
          "2016-08-08T00:00:00",
          "2016-08-15T00:00:00",
          "2016-08-22T00:00:00",
          "2016-08-29T00:00:00",
          "2016-09-05T00:00:00",
          "2016-09-12T00:00:00",
          "2016-09-19T00:00:00",
          "2016-09-26T00:00:00",
          "2016-10-03T00:00:00",
          "2016-10-10T00:00:00",
          "2016-10-17T00:00:00",
          "2016-10-24T00:00:00",
          "2016-10-31T00:00:00",
          "2016-11-07T00:00:00",
          "2016-11-14T00:00:00",
          "2016-11-21T00:00:00",
          "2016-11-28T00:00:00",
          "2016-12-05T00:00:00",
          "2016-12-12T00:00:00",
          "2016-12-19T00:00:00",
          "2016-12-26T00:00:00",
          "2017-01-02T00:00:00",
          "2017-01-09T00:00:00",
          "2017-01-16T00:00:00",
          "2017-01-23T00:00:00",
          "2017-01-30T00:00:00",
          "2017-02-06T00:00:00",
          "2017-02-13T00:00:00",
          "2017-02-20T00:00:00",
          "2017-02-27T00:00:00",
          "2017-03-06T00:00:00",
          "2017-03-13T00:00:00",
          "2017-03-20T00:00:00",
          "2017-03-27T00:00:00",
          "2017-04-03T00:00:00",
          "2017-04-10T00:00:00",
          "2017-04-17T00:00:00",
          "2017-04-24T00:00:00",
          "2017-05-01T00:00:00",
          "2017-05-08T00:00:00",
          "2017-05-15T00:00:00",
          "2017-05-22T00:00:00",
          "2017-05-29T00:00:00",
          "2017-06-05T00:00:00",
          "2017-06-12T00:00:00",
          "2017-06-19T00:00:00",
          "2017-06-26T00:00:00",
          "2017-07-03T00:00:00",
          "2017-07-10T00:00:00",
          "2017-07-17T00:00:00",
          "2017-07-24T00:00:00",
          "2017-07-31T00:00:00",
          "2017-08-07T00:00:00",
          "2017-08-14T00:00:00",
          "2017-08-21T00:00:00",
          "2017-08-28T00:00:00",
          "2017-09-04T00:00:00",
          "2017-09-11T00:00:00",
          "2017-09-18T00:00:00",
          "2017-09-25T00:00:00",
          "2017-10-02T00:00:00",
          "2017-10-09T00:00:00",
          "2017-10-16T00:00:00",
          "2017-10-23T00:00:00",
          "2017-10-30T00:00:00",
          "2017-11-06T00:00:00",
          "2017-11-13T00:00:00",
          "2017-11-20T00:00:00",
          "2017-11-27T00:00:00",
          "2017-12-04T00:00:00",
          "2017-12-11T00:00:00",
          "2017-12-18T00:00:00",
          "2017-12-25T00:00:00",
          "2018-01-01T00:00:00",
          "2018-01-08T00:00:00",
          "2018-01-15T00:00:00",
          "2018-01-22T00:00:00",
          "2018-01-29T00:00:00",
          "2018-02-05T00:00:00",
          "2018-02-12T00:00:00",
          "2018-02-19T00:00:00",
          "2018-02-26T00:00:00",
          "2018-03-05T00:00:00",
          "2018-03-12T00:00:00",
          "2018-03-19T00:00:00",
          "2018-03-26T00:00:00",
          "2018-04-02T00:00:00",
          "2018-04-09T00:00:00",
          "2018-04-16T00:00:00",
          "2018-04-23T00:00:00",
          "2018-04-30T00:00:00",
          "2018-05-07T00:00:00",
          "2018-05-14T00:00:00",
          "2018-05-21T00:00:00",
          "2018-05-28T00:00:00",
          "2018-06-04T00:00:00",
          "2018-06-11T00:00:00",
          "2018-06-18T00:00:00",
          "2018-06-25T00:00:00",
          "2018-07-02T00:00:00",
          "2018-07-09T00:00:00",
          "2018-07-16T00:00:00",
          "2018-07-23T00:00:00",
          "2018-07-30T00:00:00",
          "2018-08-06T00:00:00",
          "2018-08-13T00:00:00",
          "2018-08-20T00:00:00",
          "2018-08-27T00:00:00",
          "2018-09-03T00:00:00",
          "2018-09-10T00:00:00",
          "2018-09-17T00:00:00",
          "2018-09-24T00:00:00",
          "2018-10-01T00:00:00",
          "2018-10-08T00:00:00",
          "2018-10-15T00:00:00",
          "2018-10-22T00:00:00",
          "2018-10-29T00:00:00"
         ],
         "xaxis": "x",
         "y": [
          4288,
          4321,
          5217,
          5416,
          6379,
          5606,
          5896,
          4339,
          3056,
          2994,
          3236,
          2896,
          2533,
          2298,
          2174,
          1942,
          2369,
          2235,
          2149,
          2251,
          1664,
          2567,
          4448,
          5069,
          5049,
          4920,
          4198,
          3809,
          3549,
          2992,
          3548,
          3614,
          4245,
          4000,
          3787,
          2898,
          2644,
          2305,
          2585,
          1959,
          2365,
          2322,
          2307,
          2688,
          1990,
          2224,
          2334,
          2514,
          2358,
          2019,
          2328,
          3028,
          2809,
          3887,
          3756,
          3546,
          3989,
          4541,
          3628,
          3701,
          1697,
          3217,
          3514,
          3618,
          3249,
          3100,
          2268,
          2224,
          1841,
          2057,
          1714,
          1865,
          1835,
          1680,
          2188,
          1742,
          2285,
          3322,
          2899,
          2995,
          3036,
          2572,
          2918,
          2991,
          3020,
          2978,
          3124,
          2659,
          3554,
          3129,
          2992,
          2805,
          1358,
          3466,
          3883,
          3837,
          2416,
          2692,
          2694,
          2409,
          2661,
          2194,
          2320,
          2583,
          2609,
          2577,
          2138,
          2699,
          3031,
          2430,
          2873,
          2465,
          1431,
          2180,
          2769,
          2967,
          3100,
          3276,
          3121,
          2906,
          2612,
          3054,
          3232,
          3300,
          3290,
          2558,
          3111,
          3536,
          3814,
          3626,
          3819,
          4015,
          3661,
          3415,
          4001,
          4838,
          4539,
          4243,
          4154,
          3254,
          3671,
          3476,
          3604,
          3594,
          3162,
          3403,
          4036,
          3620,
          4102,
          3523,
          4305,
          3683,
          3771,
          3138,
          4321,
          3865,
          2298
         ],
         "yaxis": "y"
        }
       ],
       "layout": {
        "legend": {
         "tracegroupgap": 0
        },
        "margin": {
         "t": 60
        },
        "template": {
         "data": {
          "bar": [
           {
            "error_x": {
             "color": "#2a3f5f"
            },
            "error_y": {
             "color": "#2a3f5f"
            },
            "marker": {
             "line": {
              "color": "#E5ECF6",
              "width": 0.5
             }
            },
            "type": "bar"
           }
          ],
          "barpolar": [
           {
            "marker": {
             "line": {
              "color": "#E5ECF6",
              "width": 0.5
             }
            },
            "type": "barpolar"
           }
          ],
          "carpet": [
           {
            "aaxis": {
             "endlinecolor": "#2a3f5f",
             "gridcolor": "white",
             "linecolor": "white",
             "minorgridcolor": "white",
             "startlinecolor": "#2a3f5f"
            },
            "baxis": {
             "endlinecolor": "#2a3f5f",
             "gridcolor": "white",
             "linecolor": "white",
             "minorgridcolor": "white",
             "startlinecolor": "#2a3f5f"
            },
            "type": "carpet"
           }
          ],
          "choropleth": [
           {
            "colorbar": {
             "outlinewidth": 0,
             "ticks": ""
            },
            "type": "choropleth"
           }
          ],
          "contour": [
           {
            "colorbar": {
             "outlinewidth": 0,
             "ticks": ""
            },
            "colorscale": [
             [
              0,
              "#0d0887"
             ],
             [
              0.1111111111111111,
              "#46039f"
             ],
             [
              0.2222222222222222,
              "#7201a8"
             ],
             [
              0.3333333333333333,
              "#9c179e"
             ],
             [
              0.4444444444444444,
              "#bd3786"
             ],
             [
              0.5555555555555556,
              "#d8576b"
             ],
             [
              0.6666666666666666,
              "#ed7953"
             ],
             [
              0.7777777777777778,
              "#fb9f3a"
             ],
             [
              0.8888888888888888,
              "#fdca26"
             ],
             [
              1,
              "#f0f921"
             ]
            ],
            "type": "contour"
           }
          ],
          "contourcarpet": [
           {
            "colorbar": {
             "outlinewidth": 0,
             "ticks": ""
            },
            "type": "contourcarpet"
           }
          ],
          "heatmap": [
           {
            "colorbar": {
             "outlinewidth": 0,
             "ticks": ""
            },
            "colorscale": [
             [
              0,
              "#0d0887"
             ],
             [
              0.1111111111111111,
              "#46039f"
             ],
             [
              0.2222222222222222,
              "#7201a8"
             ],
             [
              0.3333333333333333,
              "#9c179e"
             ],
             [
              0.4444444444444444,
              "#bd3786"
             ],
             [
              0.5555555555555556,
              "#d8576b"
             ],
             [
              0.6666666666666666,
              "#ed7953"
             ],
             [
              0.7777777777777778,
              "#fb9f3a"
             ],
             [
              0.8888888888888888,
              "#fdca26"
             ],
             [
              1,
              "#f0f921"
             ]
            ],
            "type": "heatmap"
           }
          ],
          "heatmapgl": [
           {
            "colorbar": {
             "outlinewidth": 0,
             "ticks": ""
            },
            "colorscale": [
             [
              0,
              "#0d0887"
             ],
             [
              0.1111111111111111,
              "#46039f"
             ],
             [
              0.2222222222222222,
              "#7201a8"
             ],
             [
              0.3333333333333333,
              "#9c179e"
             ],
             [
              0.4444444444444444,
              "#bd3786"
             ],
             [
              0.5555555555555556,
              "#d8576b"
             ],
             [
              0.6666666666666666,
              "#ed7953"
             ],
             [
              0.7777777777777778,
              "#fb9f3a"
             ],
             [
              0.8888888888888888,
              "#fdca26"
             ],
             [
              1,
              "#f0f921"
             ]
            ],
            "type": "heatmapgl"
           }
          ],
          "histogram": [
           {
            "marker": {
             "colorbar": {
              "outlinewidth": 0,
              "ticks": ""
             }
            },
            "type": "histogram"
           }
          ],
          "histogram2d": [
           {
            "colorbar": {
             "outlinewidth": 0,
             "ticks": ""
            },
            "colorscale": [
             [
              0,
              "#0d0887"
             ],
             [
              0.1111111111111111,
              "#46039f"
             ],
             [
              0.2222222222222222,
              "#7201a8"
             ],
             [
              0.3333333333333333,
              "#9c179e"
             ],
             [
              0.4444444444444444,
              "#bd3786"
             ],
             [
              0.5555555555555556,
              "#d8576b"
             ],
             [
              0.6666666666666666,
              "#ed7953"
             ],
             [
              0.7777777777777778,
              "#fb9f3a"
             ],
             [
              0.8888888888888888,
              "#fdca26"
             ],
             [
              1,
              "#f0f921"
             ]
            ],
            "type": "histogram2d"
           }
          ],
          "histogram2dcontour": [
           {
            "colorbar": {
             "outlinewidth": 0,
             "ticks": ""
            },
            "colorscale": [
             [
              0,
              "#0d0887"
             ],
             [
              0.1111111111111111,
              "#46039f"
             ],
             [
              0.2222222222222222,
              "#7201a8"
             ],
             [
              0.3333333333333333,
              "#9c179e"
             ],
             [
              0.4444444444444444,
              "#bd3786"
             ],
             [
              0.5555555555555556,
              "#d8576b"
             ],
             [
              0.6666666666666666,
              "#ed7953"
             ],
             [
              0.7777777777777778,
              "#fb9f3a"
             ],
             [
              0.8888888888888888,
              "#fdca26"
             ],
             [
              1,
              "#f0f921"
             ]
            ],
            "type": "histogram2dcontour"
           }
          ],
          "mesh3d": [
           {
            "colorbar": {
             "outlinewidth": 0,
             "ticks": ""
            },
            "type": "mesh3d"
           }
          ],
          "parcoords": [
           {
            "line": {
             "colorbar": {
              "outlinewidth": 0,
              "ticks": ""
             }
            },
            "type": "parcoords"
           }
          ],
          "pie": [
           {
            "automargin": true,
            "type": "pie"
           }
          ],
          "scatter": [
           {
            "marker": {
             "colorbar": {
              "outlinewidth": 0,
              "ticks": ""
             }
            },
            "type": "scatter"
           }
          ],
          "scatter3d": [
           {
            "line": {
             "colorbar": {
              "outlinewidth": 0,
              "ticks": ""
             }
            },
            "marker": {
             "colorbar": {
              "outlinewidth": 0,
              "ticks": ""
             }
            },
            "type": "scatter3d"
           }
          ],
          "scattercarpet": [
           {
            "marker": {
             "colorbar": {
              "outlinewidth": 0,
              "ticks": ""
             }
            },
            "type": "scattercarpet"
           }
          ],
          "scattergeo": [
           {
            "marker": {
             "colorbar": {
              "outlinewidth": 0,
              "ticks": ""
             }
            },
            "type": "scattergeo"
           }
          ],
          "scattergl": [
           {
            "marker": {
             "colorbar": {
              "outlinewidth": 0,
              "ticks": ""
             }
            },
            "type": "scattergl"
           }
          ],
          "scattermapbox": [
           {
            "marker": {
             "colorbar": {
              "outlinewidth": 0,
              "ticks": ""
             }
            },
            "type": "scattermapbox"
           }
          ],
          "scatterpolar": [
           {
            "marker": {
             "colorbar": {
              "outlinewidth": 0,
              "ticks": ""
             }
            },
            "type": "scatterpolar"
           }
          ],
          "scatterpolargl": [
           {
            "marker": {
             "colorbar": {
              "outlinewidth": 0,
              "ticks": ""
             }
            },
            "type": "scatterpolargl"
           }
          ],
          "scatterternary": [
           {
            "marker": {
             "colorbar": {
              "outlinewidth": 0,
              "ticks": ""
             }
            },
            "type": "scatterternary"
           }
          ],
          "surface": [
           {
            "colorbar": {
             "outlinewidth": 0,
             "ticks": ""
            },
            "colorscale": [
             [
              0,
              "#0d0887"
             ],
             [
              0.1111111111111111,
              "#46039f"
             ],
             [
              0.2222222222222222,
              "#7201a8"
             ],
             [
              0.3333333333333333,
              "#9c179e"
             ],
             [
              0.4444444444444444,
              "#bd3786"
             ],
             [
              0.5555555555555556,
              "#d8576b"
             ],
             [
              0.6666666666666666,
              "#ed7953"
             ],
             [
              0.7777777777777778,
              "#fb9f3a"
             ],
             [
              0.8888888888888888,
              "#fdca26"
             ],
             [
              1,
              "#f0f921"
             ]
            ],
            "type": "surface"
           }
          ],
          "table": [
           {
            "cells": {
             "fill": {
              "color": "#EBF0F8"
             },
             "line": {
              "color": "white"
             }
            },
            "header": {
             "fill": {
              "color": "#C8D4E3"
             },
             "line": {
              "color": "white"
             }
            },
            "type": "table"
           }
          ]
         },
         "layout": {
          "annotationdefaults": {
           "arrowcolor": "#2a3f5f",
           "arrowhead": 0,
           "arrowwidth": 1
          },
          "autotypenumbers": "strict",
          "coloraxis": {
           "colorbar": {
            "outlinewidth": 0,
            "ticks": ""
           }
          },
          "colorscale": {
           "diverging": [
            [
             0,
             "#8e0152"
            ],
            [
             0.1,
             "#c51b7d"
            ],
            [
             0.2,
             "#de77ae"
            ],
            [
             0.3,
             "#f1b6da"
            ],
            [
             0.4,
             "#fde0ef"
            ],
            [
             0.5,
             "#f7f7f7"
            ],
            [
             0.6,
             "#e6f5d0"
            ],
            [
             0.7,
             "#b8e186"
            ],
            [
             0.8,
             "#7fbc41"
            ],
            [
             0.9,
             "#4d9221"
            ],
            [
             1,
             "#276419"
            ]
           ],
           "sequential": [
            [
             0,
             "#0d0887"
            ],
            [
             0.1111111111111111,
             "#46039f"
            ],
            [
             0.2222222222222222,
             "#7201a8"
            ],
            [
             0.3333333333333333,
             "#9c179e"
            ],
            [
             0.4444444444444444,
             "#bd3786"
            ],
            [
             0.5555555555555556,
             "#d8576b"
            ],
            [
             0.6666666666666666,
             "#ed7953"
            ],
            [
             0.7777777777777778,
             "#fb9f3a"
            ],
            [
             0.8888888888888888,
             "#fdca26"
            ],
            [
             1,
             "#f0f921"
            ]
           ],
           "sequentialminus": [
            [
             0,
             "#0d0887"
            ],
            [
             0.1111111111111111,
             "#46039f"
            ],
            [
             0.2222222222222222,
             "#7201a8"
            ],
            [
             0.3333333333333333,
             "#9c179e"
            ],
            [
             0.4444444444444444,
             "#bd3786"
            ],
            [
             0.5555555555555556,
             "#d8576b"
            ],
            [
             0.6666666666666666,
             "#ed7953"
            ],
            [
             0.7777777777777778,
             "#fb9f3a"
            ],
            [
             0.8888888888888888,
             "#fdca26"
            ],
            [
             1,
             "#f0f921"
            ]
           ]
          },
          "colorway": [
           "#636efa",
           "#EF553B",
           "#00cc96",
           "#ab63fa",
           "#FFA15A",
           "#19d3f3",
           "#FF6692",
           "#B6E880",
           "#FF97FF",
           "#FECB52"
          ],
          "font": {
           "color": "#2a3f5f"
          },
          "geo": {
           "bgcolor": "white",
           "lakecolor": "white",
           "landcolor": "#E5ECF6",
           "showlakes": true,
           "showland": true,
           "subunitcolor": "white"
          },
          "hoverlabel": {
           "align": "left"
          },
          "hovermode": "closest",
          "mapbox": {
           "style": "light"
          },
          "paper_bgcolor": "white",
          "plot_bgcolor": "#E5ECF6",
          "polar": {
           "angularaxis": {
            "gridcolor": "white",
            "linecolor": "white",
            "ticks": ""
           },
           "bgcolor": "#E5ECF6",
           "radialaxis": {
            "gridcolor": "white",
            "linecolor": "white",
            "ticks": ""
           }
          },
          "scene": {
           "xaxis": {
            "backgroundcolor": "#E5ECF6",
            "gridcolor": "white",
            "gridwidth": 2,
            "linecolor": "white",
            "showbackground": true,
            "ticks": "",
            "zerolinecolor": "white"
           },
           "yaxis": {
            "backgroundcolor": "#E5ECF6",
            "gridcolor": "white",
            "gridwidth": 2,
            "linecolor": "white",
            "showbackground": true,
            "ticks": "",
            "zerolinecolor": "white"
           },
           "zaxis": {
            "backgroundcolor": "#E5ECF6",
            "gridcolor": "white",
            "gridwidth": 2,
            "linecolor": "white",
            "showbackground": true,
            "ticks": "",
            "zerolinecolor": "white"
           }
          },
          "shapedefaults": {
           "line": {
            "color": "#2a3f5f"
           }
          },
          "ternary": {
           "aaxis": {
            "gridcolor": "white",
            "linecolor": "white",
            "ticks": ""
           },
           "baxis": {
            "gridcolor": "white",
            "linecolor": "white",
            "ticks": ""
           },
           "bgcolor": "#E5ECF6",
           "caxis": {
            "gridcolor": "white",
            "linecolor": "white",
            "ticks": ""
           }
          },
          "title": {
           "x": 0.05
          },
          "xaxis": {
           "automargin": true,
           "gridcolor": "white",
           "linecolor": "white",
           "ticks": "",
           "title": {
            "standoff": 15
           },
           "zerolinecolor": "white",
           "zerolinewidth": 2
          },
          "yaxis": {
           "automargin": true,
           "gridcolor": "white",
           "linecolor": "white",
           "ticks": "",
           "title": {
            "standoff": 15
           },
           "zerolinecolor": "white",
           "zerolinewidth": 2
          }
         }
        },
        "title": {
         "text": "Historical Sales"
        },
        "xaxis": {
         "anchor": "y",
         "domain": [
          0,
          1
         ],
         "title": {
          "text": "WEEK"
         }
        },
        "yaxis": {
         "anchor": "x",
         "domain": [
          0,
          1
         ],
         "title": {
          "text": "Amount $"
         }
        }
       }
      },
      "text/html": [
       "<div>                            <div id=\"6bd18c67-6f4b-4f42-9c7a-d44d4f9fc6fc\" class=\"plotly-graph-div\" style=\"height:525px; width:100%;\"></div>            <script type=\"text/javascript\">                require([\"plotly\"], function(Plotly) {                    window.PLOTLYENV=window.PLOTLYENV || {};                                    if (document.getElementById(\"6bd18c67-6f4b-4f42-9c7a-d44d4f9fc6fc\")) {                    Plotly.newPlot(                        \"6bd18c67-6f4b-4f42-9c7a-d44d4f9fc6fc\",                        [{\"hovertemplate\": \"WEEK=%{x}<br>Observed=%{y}<extra></extra>\", \"legendgroup\": \"\", \"line\": {\"color\": \"#636efa\", \"dash\": \"solid\"}, \"mode\": \"lines\", \"name\": \"\", \"orientation\": \"v\", \"showlegend\": false, \"type\": \"scatter\", \"x\": [\"2015-11-02T00:00:00\", \"2015-11-09T00:00:00\", \"2015-11-16T00:00:00\", \"2015-11-23T00:00:00\", \"2015-11-30T00:00:00\", \"2015-12-07T00:00:00\", \"2015-12-14T00:00:00\", \"2015-12-21T00:00:00\", \"2015-12-28T00:00:00\", \"2016-01-04T00:00:00\", \"2016-01-11T00:00:00\", \"2016-01-18T00:00:00\", \"2016-01-25T00:00:00\", \"2016-02-01T00:00:00\", \"2016-02-08T00:00:00\", \"2016-02-15T00:00:00\", \"2016-02-22T00:00:00\", \"2016-02-29T00:00:00\", \"2016-03-07T00:00:00\", \"2016-03-14T00:00:00\", \"2016-03-21T00:00:00\", \"2016-03-28T00:00:00\", \"2016-04-04T00:00:00\", \"2016-04-11T00:00:00\", \"2016-04-18T00:00:00\", \"2016-04-25T00:00:00\", \"2016-05-02T00:00:00\", \"2016-05-09T00:00:00\", \"2016-05-16T00:00:00\", \"2016-05-23T00:00:00\", \"2016-05-30T00:00:00\", \"2016-06-06T00:00:00\", \"2016-06-13T00:00:00\", \"2016-06-20T00:00:00\", \"2016-06-27T00:00:00\", \"2016-07-04T00:00:00\", \"2016-07-11T00:00:00\", \"2016-07-18T00:00:00\", \"2016-07-25T00:00:00\", \"2016-08-01T00:00:00\", \"2016-08-08T00:00:00\", \"2016-08-15T00:00:00\", \"2016-08-22T00:00:00\", \"2016-08-29T00:00:00\", \"2016-09-05T00:00:00\", \"2016-09-12T00:00:00\", \"2016-09-19T00:00:00\", \"2016-09-26T00:00:00\", \"2016-10-03T00:00:00\", \"2016-10-10T00:00:00\", \"2016-10-17T00:00:00\", \"2016-10-24T00:00:00\", \"2016-10-31T00:00:00\", \"2016-11-07T00:00:00\", \"2016-11-14T00:00:00\", \"2016-11-21T00:00:00\", \"2016-11-28T00:00:00\", \"2016-12-05T00:00:00\", \"2016-12-12T00:00:00\", \"2016-12-19T00:00:00\", \"2016-12-26T00:00:00\", \"2017-01-02T00:00:00\", \"2017-01-09T00:00:00\", \"2017-01-16T00:00:00\", \"2017-01-23T00:00:00\", \"2017-01-30T00:00:00\", \"2017-02-06T00:00:00\", \"2017-02-13T00:00:00\", \"2017-02-20T00:00:00\", \"2017-02-27T00:00:00\", \"2017-03-06T00:00:00\", \"2017-03-13T00:00:00\", \"2017-03-20T00:00:00\", \"2017-03-27T00:00:00\", \"2017-04-03T00:00:00\", \"2017-04-10T00:00:00\", \"2017-04-17T00:00:00\", \"2017-04-24T00:00:00\", \"2017-05-01T00:00:00\", \"2017-05-08T00:00:00\", \"2017-05-15T00:00:00\", \"2017-05-22T00:00:00\", \"2017-05-29T00:00:00\", \"2017-06-05T00:00:00\", \"2017-06-12T00:00:00\", \"2017-06-19T00:00:00\", \"2017-06-26T00:00:00\", \"2017-07-03T00:00:00\", \"2017-07-10T00:00:00\", \"2017-07-17T00:00:00\", \"2017-07-24T00:00:00\", \"2017-07-31T00:00:00\", \"2017-08-07T00:00:00\", \"2017-08-14T00:00:00\", \"2017-08-21T00:00:00\", \"2017-08-28T00:00:00\", \"2017-09-04T00:00:00\", \"2017-09-11T00:00:00\", \"2017-09-18T00:00:00\", \"2017-09-25T00:00:00\", \"2017-10-02T00:00:00\", \"2017-10-09T00:00:00\", \"2017-10-16T00:00:00\", \"2017-10-23T00:00:00\", \"2017-10-30T00:00:00\", \"2017-11-06T00:00:00\", \"2017-11-13T00:00:00\", \"2017-11-20T00:00:00\", \"2017-11-27T00:00:00\", \"2017-12-04T00:00:00\", \"2017-12-11T00:00:00\", \"2017-12-18T00:00:00\", \"2017-12-25T00:00:00\", \"2018-01-01T00:00:00\", \"2018-01-08T00:00:00\", \"2018-01-15T00:00:00\", \"2018-01-22T00:00:00\", \"2018-01-29T00:00:00\", \"2018-02-05T00:00:00\", \"2018-02-12T00:00:00\", \"2018-02-19T00:00:00\", \"2018-02-26T00:00:00\", \"2018-03-05T00:00:00\", \"2018-03-12T00:00:00\", \"2018-03-19T00:00:00\", \"2018-03-26T00:00:00\", \"2018-04-02T00:00:00\", \"2018-04-09T00:00:00\", \"2018-04-16T00:00:00\", \"2018-04-23T00:00:00\", \"2018-04-30T00:00:00\", \"2018-05-07T00:00:00\", \"2018-05-14T00:00:00\", \"2018-05-21T00:00:00\", \"2018-05-28T00:00:00\", \"2018-06-04T00:00:00\", \"2018-06-11T00:00:00\", \"2018-06-18T00:00:00\", \"2018-06-25T00:00:00\", \"2018-07-02T00:00:00\", \"2018-07-09T00:00:00\", \"2018-07-16T00:00:00\", \"2018-07-23T00:00:00\", \"2018-07-30T00:00:00\", \"2018-08-06T00:00:00\", \"2018-08-13T00:00:00\", \"2018-08-20T00:00:00\", \"2018-08-27T00:00:00\", \"2018-09-03T00:00:00\", \"2018-09-10T00:00:00\", \"2018-09-17T00:00:00\", \"2018-09-24T00:00:00\", \"2018-10-01T00:00:00\", \"2018-10-08T00:00:00\", \"2018-10-15T00:00:00\", \"2018-10-22T00:00:00\", \"2018-10-29T00:00:00\"], \"xaxis\": \"x\", \"y\": [4288, 4321, 5217, 5416, 6379, 5606, 5896, 4339, 3056, 2994, 3236, 2896, 2533, 2298, 2174, 1942, 2369, 2235, 2149, 2251, 1664, 2567, 4448, 5069, 5049, 4920, 4198, 3809, 3549, 2992, 3548, 3614, 4245, 4000, 3787, 2898, 2644, 2305, 2585, 1959, 2365, 2322, 2307, 2688, 1990, 2224, 2334, 2514, 2358, 2019, 2328, 3028, 2809, 3887, 3756, 3546, 3989, 4541, 3628, 3701, 1697, 3217, 3514, 3618, 3249, 3100, 2268, 2224, 1841, 2057, 1714, 1865, 1835, 1680, 2188, 1742, 2285, 3322, 2899, 2995, 3036, 2572, 2918, 2991, 3020, 2978, 3124, 2659, 3554, 3129, 2992, 2805, 1358, 3466, 3883, 3837, 2416, 2692, 2694, 2409, 2661, 2194, 2320, 2583, 2609, 2577, 2138, 2699, 3031, 2430, 2873, 2465, 1431, 2180, 2769, 2967, 3100, 3276, 3121, 2906, 2612, 3054, 3232, 3300, 3290, 2558, 3111, 3536, 3814, 3626, 3819, 4015, 3661, 3415, 4001, 4838, 4539, 4243, 4154, 3254, 3671, 3476, 3604, 3594, 3162, 3403, 4036, 3620, 4102, 3523, 4305, 3683, 3771, 3138, 4321, 3865, 2298], \"yaxis\": \"y\"}],                        {\"legend\": {\"tracegroupgap\": 0}, \"margin\": {\"t\": 60}, \"template\": {\"data\": {\"bar\": [{\"error_x\": {\"color\": \"#2a3f5f\"}, \"error_y\": {\"color\": \"#2a3f5f\"}, \"marker\": {\"line\": {\"color\": \"#E5ECF6\", \"width\": 0.5}}, \"type\": \"bar\"}], \"barpolar\": [{\"marker\": {\"line\": {\"color\": \"#E5ECF6\", \"width\": 0.5}}, \"type\": \"barpolar\"}], \"carpet\": [{\"aaxis\": {\"endlinecolor\": \"#2a3f5f\", \"gridcolor\": \"white\", \"linecolor\": \"white\", \"minorgridcolor\": \"white\", \"startlinecolor\": \"#2a3f5f\"}, \"baxis\": {\"endlinecolor\": \"#2a3f5f\", \"gridcolor\": \"white\", \"linecolor\": \"white\", \"minorgridcolor\": \"white\", \"startlinecolor\": \"#2a3f5f\"}, \"type\": \"carpet\"}], \"choropleth\": [{\"colorbar\": {\"outlinewidth\": 0, \"ticks\": \"\"}, \"type\": \"choropleth\"}], \"contour\": [{\"colorbar\": {\"outlinewidth\": 0, \"ticks\": \"\"}, \"colorscale\": [[0.0, \"#0d0887\"], [0.1111111111111111, \"#46039f\"], [0.2222222222222222, \"#7201a8\"], [0.3333333333333333, \"#9c179e\"], [0.4444444444444444, \"#bd3786\"], [0.5555555555555556, \"#d8576b\"], [0.6666666666666666, \"#ed7953\"], [0.7777777777777778, \"#fb9f3a\"], [0.8888888888888888, \"#fdca26\"], [1.0, \"#f0f921\"]], \"type\": \"contour\"}], \"contourcarpet\": [{\"colorbar\": {\"outlinewidth\": 0, \"ticks\": \"\"}, \"type\": \"contourcarpet\"}], \"heatmap\": [{\"colorbar\": {\"outlinewidth\": 0, \"ticks\": \"\"}, \"colorscale\": [[0.0, \"#0d0887\"], [0.1111111111111111, \"#46039f\"], [0.2222222222222222, \"#7201a8\"], [0.3333333333333333, \"#9c179e\"], [0.4444444444444444, \"#bd3786\"], [0.5555555555555556, \"#d8576b\"], [0.6666666666666666, \"#ed7953\"], [0.7777777777777778, \"#fb9f3a\"], [0.8888888888888888, \"#fdca26\"], [1.0, \"#f0f921\"]], \"type\": \"heatmap\"}], \"heatmapgl\": [{\"colorbar\": {\"outlinewidth\": 0, \"ticks\": \"\"}, \"colorscale\": [[0.0, \"#0d0887\"], [0.1111111111111111, \"#46039f\"], [0.2222222222222222, \"#7201a8\"], [0.3333333333333333, \"#9c179e\"], [0.4444444444444444, \"#bd3786\"], [0.5555555555555556, \"#d8576b\"], [0.6666666666666666, \"#ed7953\"], [0.7777777777777778, \"#fb9f3a\"], [0.8888888888888888, \"#fdca26\"], [1.0, \"#f0f921\"]], \"type\": \"heatmapgl\"}], \"histogram\": [{\"marker\": {\"colorbar\": {\"outlinewidth\": 0, \"ticks\": \"\"}}, \"type\": \"histogram\"}], \"histogram2d\": [{\"colorbar\": {\"outlinewidth\": 0, \"ticks\": \"\"}, \"colorscale\": [[0.0, \"#0d0887\"], [0.1111111111111111, \"#46039f\"], [0.2222222222222222, \"#7201a8\"], [0.3333333333333333, \"#9c179e\"], [0.4444444444444444, \"#bd3786\"], [0.5555555555555556, \"#d8576b\"], [0.6666666666666666, \"#ed7953\"], [0.7777777777777778, \"#fb9f3a\"], [0.8888888888888888, \"#fdca26\"], [1.0, \"#f0f921\"]], \"type\": \"histogram2d\"}], \"histogram2dcontour\": [{\"colorbar\": {\"outlinewidth\": 0, \"ticks\": \"\"}, \"colorscale\": [[0.0, \"#0d0887\"], [0.1111111111111111, \"#46039f\"], [0.2222222222222222, \"#7201a8\"], [0.3333333333333333, \"#9c179e\"], [0.4444444444444444, \"#bd3786\"], [0.5555555555555556, \"#d8576b\"], [0.6666666666666666, \"#ed7953\"], [0.7777777777777778, \"#fb9f3a\"], [0.8888888888888888, \"#fdca26\"], [1.0, \"#f0f921\"]], \"type\": \"histogram2dcontour\"}], \"mesh3d\": [{\"colorbar\": {\"outlinewidth\": 0, \"ticks\": \"\"}, \"type\": \"mesh3d\"}], \"parcoords\": [{\"line\": {\"colorbar\": {\"outlinewidth\": 0, \"ticks\": \"\"}}, \"type\": \"parcoords\"}], \"pie\": [{\"automargin\": true, \"type\": \"pie\"}], \"scatter\": [{\"marker\": {\"colorbar\": {\"outlinewidth\": 0, \"ticks\": \"\"}}, \"type\": \"scatter\"}], \"scatter3d\": [{\"line\": {\"colorbar\": {\"outlinewidth\": 0, \"ticks\": \"\"}}, \"marker\": {\"colorbar\": {\"outlinewidth\": 0, \"ticks\": \"\"}}, \"type\": \"scatter3d\"}], \"scattercarpet\": [{\"marker\": {\"colorbar\": {\"outlinewidth\": 0, \"ticks\": \"\"}}, \"type\": \"scattercarpet\"}], \"scattergeo\": [{\"marker\": {\"colorbar\": {\"outlinewidth\": 0, \"ticks\": \"\"}}, \"type\": \"scattergeo\"}], \"scattergl\": [{\"marker\": {\"colorbar\": {\"outlinewidth\": 0, \"ticks\": \"\"}}, \"type\": \"scattergl\"}], \"scattermapbox\": [{\"marker\": {\"colorbar\": {\"outlinewidth\": 0, \"ticks\": \"\"}}, \"type\": \"scattermapbox\"}], \"scatterpolar\": [{\"marker\": {\"colorbar\": {\"outlinewidth\": 0, \"ticks\": \"\"}}, \"type\": \"scatterpolar\"}], \"scatterpolargl\": [{\"marker\": {\"colorbar\": {\"outlinewidth\": 0, \"ticks\": \"\"}}, \"type\": \"scatterpolargl\"}], \"scatterternary\": [{\"marker\": {\"colorbar\": {\"outlinewidth\": 0, \"ticks\": \"\"}}, \"type\": \"scatterternary\"}], \"surface\": [{\"colorbar\": {\"outlinewidth\": 0, \"ticks\": \"\"}, \"colorscale\": [[0.0, \"#0d0887\"], [0.1111111111111111, \"#46039f\"], [0.2222222222222222, \"#7201a8\"], [0.3333333333333333, \"#9c179e\"], [0.4444444444444444, \"#bd3786\"], [0.5555555555555556, \"#d8576b\"], [0.6666666666666666, \"#ed7953\"], [0.7777777777777778, \"#fb9f3a\"], [0.8888888888888888, \"#fdca26\"], [1.0, \"#f0f921\"]], \"type\": \"surface\"}], \"table\": [{\"cells\": {\"fill\": {\"color\": \"#EBF0F8\"}, \"line\": {\"color\": \"white\"}}, \"header\": {\"fill\": {\"color\": \"#C8D4E3\"}, \"line\": {\"color\": \"white\"}}, \"type\": \"table\"}]}, \"layout\": {\"annotationdefaults\": {\"arrowcolor\": \"#2a3f5f\", \"arrowhead\": 0, \"arrowwidth\": 1}, \"autotypenumbers\": \"strict\", \"coloraxis\": {\"colorbar\": {\"outlinewidth\": 0, \"ticks\": \"\"}}, \"colorscale\": {\"diverging\": [[0, \"#8e0152\"], [0.1, \"#c51b7d\"], [0.2, \"#de77ae\"], [0.3, \"#f1b6da\"], [0.4, \"#fde0ef\"], [0.5, \"#f7f7f7\"], [0.6, \"#e6f5d0\"], [0.7, \"#b8e186\"], [0.8, \"#7fbc41\"], [0.9, \"#4d9221\"], [1, \"#276419\"]], \"sequential\": [[0.0, \"#0d0887\"], [0.1111111111111111, \"#46039f\"], [0.2222222222222222, \"#7201a8\"], [0.3333333333333333, \"#9c179e\"], [0.4444444444444444, \"#bd3786\"], [0.5555555555555556, \"#d8576b\"], [0.6666666666666666, \"#ed7953\"], [0.7777777777777778, \"#fb9f3a\"], [0.8888888888888888, \"#fdca26\"], [1.0, \"#f0f921\"]], \"sequentialminus\": [[0.0, \"#0d0887\"], [0.1111111111111111, \"#46039f\"], [0.2222222222222222, \"#7201a8\"], [0.3333333333333333, \"#9c179e\"], [0.4444444444444444, \"#bd3786\"], [0.5555555555555556, \"#d8576b\"], [0.6666666666666666, \"#ed7953\"], [0.7777777777777778, \"#fb9f3a\"], [0.8888888888888888, \"#fdca26\"], [1.0, \"#f0f921\"]]}, \"colorway\": [\"#636efa\", \"#EF553B\", \"#00cc96\", \"#ab63fa\", \"#FFA15A\", \"#19d3f3\", \"#FF6692\", \"#B6E880\", \"#FF97FF\", \"#FECB52\"], \"font\": {\"color\": \"#2a3f5f\"}, \"geo\": {\"bgcolor\": \"white\", \"lakecolor\": \"white\", \"landcolor\": \"#E5ECF6\", \"showlakes\": true, \"showland\": true, \"subunitcolor\": \"white\"}, \"hoverlabel\": {\"align\": \"left\"}, \"hovermode\": \"closest\", \"mapbox\": {\"style\": \"light\"}, \"paper_bgcolor\": \"white\", \"plot_bgcolor\": \"#E5ECF6\", \"polar\": {\"angularaxis\": {\"gridcolor\": \"white\", \"linecolor\": \"white\", \"ticks\": \"\"}, \"bgcolor\": \"#E5ECF6\", \"radialaxis\": {\"gridcolor\": \"white\", \"linecolor\": \"white\", \"ticks\": \"\"}}, \"scene\": {\"xaxis\": {\"backgroundcolor\": \"#E5ECF6\", \"gridcolor\": \"white\", \"gridwidth\": 2, \"linecolor\": \"white\", \"showbackground\": true, \"ticks\": \"\", \"zerolinecolor\": \"white\"}, \"yaxis\": {\"backgroundcolor\": \"#E5ECF6\", \"gridcolor\": \"white\", \"gridwidth\": 2, \"linecolor\": \"white\", \"showbackground\": true, \"ticks\": \"\", \"zerolinecolor\": \"white\"}, \"zaxis\": {\"backgroundcolor\": \"#E5ECF6\", \"gridcolor\": \"white\", \"gridwidth\": 2, \"linecolor\": \"white\", \"showbackground\": true, \"ticks\": \"\", \"zerolinecolor\": \"white\"}}, \"shapedefaults\": {\"line\": {\"color\": \"#2a3f5f\"}}, \"ternary\": {\"aaxis\": {\"gridcolor\": \"white\", \"linecolor\": \"white\", \"ticks\": \"\"}, \"baxis\": {\"gridcolor\": \"white\", \"linecolor\": \"white\", \"ticks\": \"\"}, \"bgcolor\": \"#E5ECF6\", \"caxis\": {\"gridcolor\": \"white\", \"linecolor\": \"white\", \"ticks\": \"\"}}, \"title\": {\"x\": 0.05}, \"xaxis\": {\"automargin\": true, \"gridcolor\": \"white\", \"linecolor\": \"white\", \"ticks\": \"\", \"title\": {\"standoff\": 15}, \"zerolinecolor\": \"white\", \"zerolinewidth\": 2}, \"yaxis\": {\"automargin\": true, \"gridcolor\": \"white\", \"linecolor\": \"white\", \"ticks\": \"\", \"title\": {\"standoff\": 15}, \"zerolinecolor\": \"white\", \"zerolinewidth\": 2}}}, \"title\": {\"text\": \"Historical Sales\"}, \"xaxis\": {\"anchor\": \"y\", \"domain\": [0.0, 1.0], \"title\": {\"text\": \"WEEK\"}}, \"yaxis\": {\"anchor\": \"x\", \"domain\": [0.0, 1.0], \"title\": {\"text\": \"Amount $\"}}},                        {\"responsive\": true}                    ).then(function(){\n",
       "                            \n",
       "var gd = document.getElementById('6bd18c67-6f4b-4f42-9c7a-d44d4f9fc6fc');\n",
       "var x = new MutationObserver(function (mutations, observer) {{\n",
       "        var display = window.getComputedStyle(gd).display;\n",
       "        if (!display || display === 'none') {{\n",
       "            console.log([gd, 'removed!']);\n",
       "            Plotly.purge(gd);\n",
       "            observer.disconnect();\n",
       "        }}\n",
       "}});\n",
       "\n",
       "// Listen for the removal of the full notebook cells\n",
       "var notebookContainer = gd.closest('#notebook-container');\n",
       "if (notebookContainer) {{\n",
       "    x.observe(notebookContainer, {childList: true});\n",
       "}}\n",
       "\n",
       "// Listen for the clearing of the current output cell\n",
       "var outputEl = gd.closest('.output');\n",
       "if (outputEl) {{\n",
       "    x.observe(outputEl, {childList: true});\n",
       "}}\n",
       "\n",
       "                        })                };                });            </script>        </div>"
      ]
     },
     "metadata": {},
     "output_type": "display_data"
    }
   ],
   "source": [
    "fig = px.line(df03, x='WEEK', y='Observed')\n",
    "fig.update_layout(title='Historical Sales',xaxis_title='WEEK',yaxis_title=\"Amount $\")\n",
    "fig.show()"
   ]
  },
  {
   "cell_type": "code",
   "execution_count": 27,
   "metadata": {},
   "outputs": [
    {
     "data": {
      "application/vnd.plotly.v1+json": {
       "config": {
        "plotlyServerURL": "https://plot.ly"
       },
       "data": [
        {
         "hovertemplate": "variable=Observed<br>WEEK=%{x}<br>value=%{y}<extra></extra>",
         "legendgroup": "Observed",
         "line": {
          "color": "#636efa",
          "dash": "solid"
         },
         "mode": "lines",
         "name": "Observed",
         "orientation": "v",
         "showlegend": true,
         "type": "scatter",
         "x": [
          "2015-11-02T00:00:00",
          "2015-11-09T00:00:00",
          "2015-11-16T00:00:00",
          "2015-11-23T00:00:00",
          "2015-11-30T00:00:00",
          "2015-12-07T00:00:00",
          "2015-12-14T00:00:00",
          "2015-12-21T00:00:00",
          "2015-12-28T00:00:00",
          "2016-01-04T00:00:00",
          "2016-01-11T00:00:00",
          "2016-01-18T00:00:00",
          "2016-01-25T00:00:00",
          "2016-02-01T00:00:00",
          "2016-02-08T00:00:00",
          "2016-02-15T00:00:00",
          "2016-02-22T00:00:00",
          "2016-02-29T00:00:00",
          "2016-03-07T00:00:00",
          "2016-03-14T00:00:00",
          "2016-03-21T00:00:00",
          "2016-03-28T00:00:00",
          "2016-04-04T00:00:00",
          "2016-04-11T00:00:00",
          "2016-04-18T00:00:00",
          "2016-04-25T00:00:00",
          "2016-05-02T00:00:00",
          "2016-05-09T00:00:00",
          "2016-05-16T00:00:00",
          "2016-05-23T00:00:00",
          "2016-05-30T00:00:00",
          "2016-06-06T00:00:00",
          "2016-06-13T00:00:00",
          "2016-06-20T00:00:00",
          "2016-06-27T00:00:00",
          "2016-07-04T00:00:00",
          "2016-07-11T00:00:00",
          "2016-07-18T00:00:00",
          "2016-07-25T00:00:00",
          "2016-08-01T00:00:00",
          "2016-08-08T00:00:00",
          "2016-08-15T00:00:00",
          "2016-08-22T00:00:00",
          "2016-08-29T00:00:00",
          "2016-09-05T00:00:00",
          "2016-09-12T00:00:00",
          "2016-09-19T00:00:00",
          "2016-09-26T00:00:00",
          "2016-10-03T00:00:00",
          "2016-10-10T00:00:00",
          "2016-10-17T00:00:00",
          "2016-10-24T00:00:00",
          "2016-10-31T00:00:00",
          "2016-11-07T00:00:00",
          "2016-11-14T00:00:00",
          "2016-11-21T00:00:00",
          "2016-11-28T00:00:00",
          "2016-12-05T00:00:00",
          "2016-12-12T00:00:00",
          "2016-12-19T00:00:00",
          "2016-12-26T00:00:00",
          "2017-01-02T00:00:00",
          "2017-01-09T00:00:00",
          "2017-01-16T00:00:00",
          "2017-01-23T00:00:00",
          "2017-01-30T00:00:00",
          "2017-02-06T00:00:00",
          "2017-02-13T00:00:00",
          "2017-02-20T00:00:00",
          "2017-02-27T00:00:00",
          "2017-03-06T00:00:00",
          "2017-03-13T00:00:00",
          "2017-03-20T00:00:00",
          "2017-03-27T00:00:00",
          "2017-04-03T00:00:00",
          "2017-04-10T00:00:00",
          "2017-04-17T00:00:00",
          "2017-04-24T00:00:00",
          "2017-05-01T00:00:00",
          "2017-05-08T00:00:00",
          "2017-05-15T00:00:00",
          "2017-05-22T00:00:00",
          "2017-05-29T00:00:00",
          "2017-06-05T00:00:00",
          "2017-06-12T00:00:00",
          "2017-06-19T00:00:00",
          "2017-06-26T00:00:00",
          "2017-07-03T00:00:00",
          "2017-07-10T00:00:00",
          "2017-07-17T00:00:00",
          "2017-07-24T00:00:00",
          "2017-07-31T00:00:00",
          "2017-08-07T00:00:00",
          "2017-08-14T00:00:00",
          "2017-08-21T00:00:00",
          "2017-08-28T00:00:00",
          "2017-09-04T00:00:00",
          "2017-09-11T00:00:00",
          "2017-09-18T00:00:00",
          "2017-09-25T00:00:00",
          "2017-10-02T00:00:00",
          "2017-10-09T00:00:00",
          "2017-10-16T00:00:00",
          "2017-10-23T00:00:00",
          "2017-10-30T00:00:00",
          "2017-11-06T00:00:00",
          "2017-11-13T00:00:00",
          "2017-11-20T00:00:00",
          "2017-11-27T00:00:00",
          "2017-12-04T00:00:00",
          "2017-12-11T00:00:00",
          "2017-12-18T00:00:00",
          "2017-12-25T00:00:00",
          "2018-01-01T00:00:00",
          "2018-01-08T00:00:00",
          "2018-01-15T00:00:00",
          "2018-01-22T00:00:00",
          "2018-01-29T00:00:00",
          "2018-02-05T00:00:00",
          "2018-02-12T00:00:00",
          "2018-02-19T00:00:00",
          "2018-02-26T00:00:00",
          "2018-03-05T00:00:00",
          "2018-03-12T00:00:00",
          "2018-03-19T00:00:00",
          "2018-03-26T00:00:00",
          "2018-04-02T00:00:00",
          "2018-04-09T00:00:00",
          "2018-04-16T00:00:00",
          "2018-04-23T00:00:00",
          "2018-04-30T00:00:00",
          "2018-05-07T00:00:00",
          "2018-05-14T00:00:00",
          "2018-05-21T00:00:00",
          "2018-05-28T00:00:00",
          "2018-06-04T00:00:00",
          "2018-06-11T00:00:00",
          "2018-06-18T00:00:00",
          "2018-06-25T00:00:00",
          "2018-07-02T00:00:00",
          "2018-07-09T00:00:00",
          "2018-07-16T00:00:00",
          "2018-07-23T00:00:00",
          "2018-07-30T00:00:00",
          "2018-08-06T00:00:00",
          "2018-08-13T00:00:00",
          "2018-08-20T00:00:00",
          "2018-08-27T00:00:00",
          "2018-09-03T00:00:00",
          "2018-09-10T00:00:00",
          "2018-09-17T00:00:00",
          "2018-09-24T00:00:00",
          "2018-10-01T00:00:00",
          "2018-10-08T00:00:00",
          "2018-10-15T00:00:00",
          "2018-10-22T00:00:00",
          "2018-10-29T00:00:00"
         ],
         "xaxis": "x",
         "y": [
          4288,
          4321,
          5217,
          5416,
          6379,
          5606,
          5896,
          4339,
          3056,
          2994,
          3236,
          2896,
          2533,
          2298,
          2174,
          1942,
          2369,
          2235,
          2149,
          2251,
          1664,
          2567,
          4448,
          5069,
          5049,
          4920,
          4198,
          3809,
          3549,
          2992,
          3548,
          3614,
          4245,
          4000,
          3787,
          2898,
          2644,
          2305,
          2585,
          1959,
          2365,
          2322,
          2307,
          2688,
          1990,
          2224,
          2334,
          2514,
          2358,
          2019,
          2328,
          3028,
          2809,
          3887,
          3756,
          3546,
          3989,
          4541,
          3628,
          3701,
          1697,
          3217,
          3514,
          3618,
          3249,
          3100,
          2268,
          2224,
          1841,
          2057,
          1714,
          1865,
          1835,
          1680,
          2188,
          1742,
          2285,
          3322,
          2899,
          2995,
          3036,
          2572,
          2918,
          2991,
          3020,
          2978,
          3124,
          2659,
          3554,
          3129,
          2992,
          2805,
          1358,
          3466,
          3883,
          3837,
          2416,
          2692,
          2694,
          2409,
          2661,
          2194,
          2320,
          2583,
          2609,
          2577,
          2138,
          2699,
          3031,
          2430,
          2873,
          2465,
          1431,
          2180,
          2769,
          2967,
          3100,
          3276,
          3121,
          2906,
          2612,
          3054,
          3232,
          3300,
          3290,
          2558,
          3111,
          3536,
          3814,
          3626,
          3819,
          4015,
          3661,
          3415,
          4001,
          4838,
          4539,
          4243,
          4154,
          3254,
          3671,
          3476,
          3604,
          3594,
          3162,
          3403,
          4036,
          3620,
          4102,
          3523,
          4305,
          3683,
          3771,
          3138,
          4321,
          3865,
          2298
         ],
         "yaxis": "y"
        },
        {
         "hovertemplate": "variable=Trend<br>WEEK=%{x}<br>value=%{y}<extra></extra>",
         "legendgroup": "Trend",
         "line": {
          "color": "#EF553B",
          "dash": "solid"
         },
         "mode": "lines",
         "name": "Trend",
         "orientation": "v",
         "showlegend": true,
         "type": "scatter",
         "x": [
          "2015-11-02T00:00:00",
          "2015-11-09T00:00:00",
          "2015-11-16T00:00:00",
          "2015-11-23T00:00:00",
          "2015-11-30T00:00:00",
          "2015-12-07T00:00:00",
          "2015-12-14T00:00:00",
          "2015-12-21T00:00:00",
          "2015-12-28T00:00:00",
          "2016-01-04T00:00:00",
          "2016-01-11T00:00:00",
          "2016-01-18T00:00:00",
          "2016-01-25T00:00:00",
          "2016-02-01T00:00:00",
          "2016-02-08T00:00:00",
          "2016-02-15T00:00:00",
          "2016-02-22T00:00:00",
          "2016-02-29T00:00:00",
          "2016-03-07T00:00:00",
          "2016-03-14T00:00:00",
          "2016-03-21T00:00:00",
          "2016-03-28T00:00:00",
          "2016-04-04T00:00:00",
          "2016-04-11T00:00:00",
          "2016-04-18T00:00:00",
          "2016-04-25T00:00:00",
          "2016-05-02T00:00:00",
          "2016-05-09T00:00:00",
          "2016-05-16T00:00:00",
          "2016-05-23T00:00:00",
          "2016-05-30T00:00:00",
          "2016-06-06T00:00:00",
          "2016-06-13T00:00:00",
          "2016-06-20T00:00:00",
          "2016-06-27T00:00:00",
          "2016-07-04T00:00:00",
          "2016-07-11T00:00:00",
          "2016-07-18T00:00:00",
          "2016-07-25T00:00:00",
          "2016-08-01T00:00:00",
          "2016-08-08T00:00:00",
          "2016-08-15T00:00:00",
          "2016-08-22T00:00:00",
          "2016-08-29T00:00:00",
          "2016-09-05T00:00:00",
          "2016-09-12T00:00:00",
          "2016-09-19T00:00:00",
          "2016-09-26T00:00:00",
          "2016-10-03T00:00:00",
          "2016-10-10T00:00:00",
          "2016-10-17T00:00:00",
          "2016-10-24T00:00:00",
          "2016-10-31T00:00:00",
          "2016-11-07T00:00:00",
          "2016-11-14T00:00:00",
          "2016-11-21T00:00:00",
          "2016-11-28T00:00:00",
          "2016-12-05T00:00:00",
          "2016-12-12T00:00:00",
          "2016-12-19T00:00:00",
          "2016-12-26T00:00:00",
          "2017-01-02T00:00:00",
          "2017-01-09T00:00:00",
          "2017-01-16T00:00:00",
          "2017-01-23T00:00:00",
          "2017-01-30T00:00:00",
          "2017-02-06T00:00:00",
          "2017-02-13T00:00:00",
          "2017-02-20T00:00:00",
          "2017-02-27T00:00:00",
          "2017-03-06T00:00:00",
          "2017-03-13T00:00:00",
          "2017-03-20T00:00:00",
          "2017-03-27T00:00:00",
          "2017-04-03T00:00:00",
          "2017-04-10T00:00:00",
          "2017-04-17T00:00:00",
          "2017-04-24T00:00:00",
          "2017-05-01T00:00:00",
          "2017-05-08T00:00:00",
          "2017-05-15T00:00:00",
          "2017-05-22T00:00:00",
          "2017-05-29T00:00:00",
          "2017-06-05T00:00:00",
          "2017-06-12T00:00:00",
          "2017-06-19T00:00:00",
          "2017-06-26T00:00:00",
          "2017-07-03T00:00:00",
          "2017-07-10T00:00:00",
          "2017-07-17T00:00:00",
          "2017-07-24T00:00:00",
          "2017-07-31T00:00:00",
          "2017-08-07T00:00:00",
          "2017-08-14T00:00:00",
          "2017-08-21T00:00:00",
          "2017-08-28T00:00:00",
          "2017-09-04T00:00:00",
          "2017-09-11T00:00:00",
          "2017-09-18T00:00:00",
          "2017-09-25T00:00:00",
          "2017-10-02T00:00:00",
          "2017-10-09T00:00:00",
          "2017-10-16T00:00:00",
          "2017-10-23T00:00:00",
          "2017-10-30T00:00:00",
          "2017-11-06T00:00:00",
          "2017-11-13T00:00:00",
          "2017-11-20T00:00:00",
          "2017-11-27T00:00:00",
          "2017-12-04T00:00:00",
          "2017-12-11T00:00:00",
          "2017-12-18T00:00:00",
          "2017-12-25T00:00:00",
          "2018-01-01T00:00:00",
          "2018-01-08T00:00:00",
          "2018-01-15T00:00:00",
          "2018-01-22T00:00:00",
          "2018-01-29T00:00:00",
          "2018-02-05T00:00:00",
          "2018-02-12T00:00:00",
          "2018-02-19T00:00:00",
          "2018-02-26T00:00:00",
          "2018-03-05T00:00:00",
          "2018-03-12T00:00:00",
          "2018-03-19T00:00:00",
          "2018-03-26T00:00:00",
          "2018-04-02T00:00:00",
          "2018-04-09T00:00:00",
          "2018-04-16T00:00:00",
          "2018-04-23T00:00:00",
          "2018-04-30T00:00:00",
          "2018-05-07T00:00:00",
          "2018-05-14T00:00:00",
          "2018-05-21T00:00:00",
          "2018-05-28T00:00:00",
          "2018-06-04T00:00:00",
          "2018-06-11T00:00:00",
          "2018-06-18T00:00:00",
          "2018-06-25T00:00:00",
          "2018-07-02T00:00:00",
          "2018-07-09T00:00:00",
          "2018-07-16T00:00:00",
          "2018-07-23T00:00:00",
          "2018-07-30T00:00:00",
          "2018-08-06T00:00:00",
          "2018-08-13T00:00:00",
          "2018-08-20T00:00:00",
          "2018-08-27T00:00:00",
          "2018-09-03T00:00:00",
          "2018-09-10T00:00:00",
          "2018-09-17T00:00:00",
          "2018-09-24T00:00:00",
          "2018-10-01T00:00:00",
          "2018-10-08T00:00:00",
          "2018-10-15T00:00:00",
          "2018-10-22T00:00:00",
          "2018-10-29T00:00:00"
         ],
         "xaxis": "x",
         "y": [
          null,
          null,
          null,
          null,
          null,
          null,
          null,
          null,
          null,
          null,
          null,
          null,
          null,
          null,
          null,
          null,
          null,
          null,
          null,
          null,
          null,
          null,
          null,
          null,
          null,
          null,
          3253.509615384615,
          3235.115384615385,
          3216.89423076923,
          3184.865384615385,
          3143.903846153847,
          3110.682692307692,
          3078.634615384615,
          3050.692307692308,
          3031.490384615385,
          3020.567307692308,
          3025.384615384615,
          3035,
          3048.826923076923,
          3063.423076923077,
          3072.038461538462,
          3075.653846153847,
          3073.288461538462,
          3066.5,
          3060.60576923077,
          3052.711538461539,
          3050.644230769231,
          3043.759615384615,
          3013.5,
          2959.778846153847,
          2901.211538461539,
          2859.269230769231,
          2831.413461538462,
          2811.096153846154,
          2798.336538461539,
          2789.365384615385,
          2779.269230769231,
          2767.221153846154,
          2749.451923076923,
          2727.846153846154,
          2711.644230769231,
          2702.971153846154,
          2709.423076923077,
          2726.096153846154,
          2737.932692307692,
          2749.98076923077,
          2748.432692307692,
          2749.75,
          2775.903846153846,
          2802.10576923077,
          2817.25,
          2825.846153846154,
          2833.807692307692,
          2836.259615384615,
          2838.163461538462,
          2842.759615384615,
          2844.365384615385,
          2840.009615384615,
          2833.807692307692,
          2819.288461538462,
          2791.134615384616,
          2767.432692307692,
          2750.076923076923,
          2720.567307692308,
          2693.009615384616,
          2673.865384615385,
          2659.423076923077,
          2646.89423076923,
          2629.759615384615,
          2616.336538461539,
          2608.644230769231,
          2608.903846153847,
          2618.798076923077,
          2633.557692307692,
          2647.528846153846,
          2664.528846153846,
          2688.711538461538,
          2717.105769230769,
          2744.89423076923,
          2767.326923076923,
          2784.64423076923,
          2810.769230769231,
          2842.721153846154,
          2860.346153846154,
          2872.115384615385,
          2890.769230769231,
          2906.586538461539,
          2920.701923076923,
          2939.221153846154,
          2967.394230769231,
          2999.759615384615,
          3026.528846153847,
          3048.596153846154,
          3064.221153846154,
          3071.067307692308,
          3075.528846153846,
          3084.75,
          3098.221153846154,
          3123.153846153847,
          3139.894230769231,
          3140.759615384616,
          3140.144230769231,
          3154.269230769231,
          3178.471153846154,
          3201.951923076923,
          3229.692307692308,
          3252.615384615385,
          3272.365384615385,
          3300.682692307692,
          3332.25,
          3341.586538461538,
          null,
          null,
          null,
          null,
          null,
          null,
          null,
          null,
          null,
          null,
          null,
          null,
          null,
          null,
          null,
          null,
          null,
          null,
          null,
          null,
          null,
          null,
          null,
          null,
          null,
          null
         ],
         "yaxis": "y"
        }
       ],
       "layout": {
        "legend": {
         "title": {
          "text": "variable"
         },
         "tracegroupgap": 0
        },
        "margin": {
         "t": 60
        },
        "template": {
         "data": {
          "bar": [
           {
            "error_x": {
             "color": "#2a3f5f"
            },
            "error_y": {
             "color": "#2a3f5f"
            },
            "marker": {
             "line": {
              "color": "#E5ECF6",
              "width": 0.5
             }
            },
            "type": "bar"
           }
          ],
          "barpolar": [
           {
            "marker": {
             "line": {
              "color": "#E5ECF6",
              "width": 0.5
             }
            },
            "type": "barpolar"
           }
          ],
          "carpet": [
           {
            "aaxis": {
             "endlinecolor": "#2a3f5f",
             "gridcolor": "white",
             "linecolor": "white",
             "minorgridcolor": "white",
             "startlinecolor": "#2a3f5f"
            },
            "baxis": {
             "endlinecolor": "#2a3f5f",
             "gridcolor": "white",
             "linecolor": "white",
             "minorgridcolor": "white",
             "startlinecolor": "#2a3f5f"
            },
            "type": "carpet"
           }
          ],
          "choropleth": [
           {
            "colorbar": {
             "outlinewidth": 0,
             "ticks": ""
            },
            "type": "choropleth"
           }
          ],
          "contour": [
           {
            "colorbar": {
             "outlinewidth": 0,
             "ticks": ""
            },
            "colorscale": [
             [
              0,
              "#0d0887"
             ],
             [
              0.1111111111111111,
              "#46039f"
             ],
             [
              0.2222222222222222,
              "#7201a8"
             ],
             [
              0.3333333333333333,
              "#9c179e"
             ],
             [
              0.4444444444444444,
              "#bd3786"
             ],
             [
              0.5555555555555556,
              "#d8576b"
             ],
             [
              0.6666666666666666,
              "#ed7953"
             ],
             [
              0.7777777777777778,
              "#fb9f3a"
             ],
             [
              0.8888888888888888,
              "#fdca26"
             ],
             [
              1,
              "#f0f921"
             ]
            ],
            "type": "contour"
           }
          ],
          "contourcarpet": [
           {
            "colorbar": {
             "outlinewidth": 0,
             "ticks": ""
            },
            "type": "contourcarpet"
           }
          ],
          "heatmap": [
           {
            "colorbar": {
             "outlinewidth": 0,
             "ticks": ""
            },
            "colorscale": [
             [
              0,
              "#0d0887"
             ],
             [
              0.1111111111111111,
              "#46039f"
             ],
             [
              0.2222222222222222,
              "#7201a8"
             ],
             [
              0.3333333333333333,
              "#9c179e"
             ],
             [
              0.4444444444444444,
              "#bd3786"
             ],
             [
              0.5555555555555556,
              "#d8576b"
             ],
             [
              0.6666666666666666,
              "#ed7953"
             ],
             [
              0.7777777777777778,
              "#fb9f3a"
             ],
             [
              0.8888888888888888,
              "#fdca26"
             ],
             [
              1,
              "#f0f921"
             ]
            ],
            "type": "heatmap"
           }
          ],
          "heatmapgl": [
           {
            "colorbar": {
             "outlinewidth": 0,
             "ticks": ""
            },
            "colorscale": [
             [
              0,
              "#0d0887"
             ],
             [
              0.1111111111111111,
              "#46039f"
             ],
             [
              0.2222222222222222,
              "#7201a8"
             ],
             [
              0.3333333333333333,
              "#9c179e"
             ],
             [
              0.4444444444444444,
              "#bd3786"
             ],
             [
              0.5555555555555556,
              "#d8576b"
             ],
             [
              0.6666666666666666,
              "#ed7953"
             ],
             [
              0.7777777777777778,
              "#fb9f3a"
             ],
             [
              0.8888888888888888,
              "#fdca26"
             ],
             [
              1,
              "#f0f921"
             ]
            ],
            "type": "heatmapgl"
           }
          ],
          "histogram": [
           {
            "marker": {
             "colorbar": {
              "outlinewidth": 0,
              "ticks": ""
             }
            },
            "type": "histogram"
           }
          ],
          "histogram2d": [
           {
            "colorbar": {
             "outlinewidth": 0,
             "ticks": ""
            },
            "colorscale": [
             [
              0,
              "#0d0887"
             ],
             [
              0.1111111111111111,
              "#46039f"
             ],
             [
              0.2222222222222222,
              "#7201a8"
             ],
             [
              0.3333333333333333,
              "#9c179e"
             ],
             [
              0.4444444444444444,
              "#bd3786"
             ],
             [
              0.5555555555555556,
              "#d8576b"
             ],
             [
              0.6666666666666666,
              "#ed7953"
             ],
             [
              0.7777777777777778,
              "#fb9f3a"
             ],
             [
              0.8888888888888888,
              "#fdca26"
             ],
             [
              1,
              "#f0f921"
             ]
            ],
            "type": "histogram2d"
           }
          ],
          "histogram2dcontour": [
           {
            "colorbar": {
             "outlinewidth": 0,
             "ticks": ""
            },
            "colorscale": [
             [
              0,
              "#0d0887"
             ],
             [
              0.1111111111111111,
              "#46039f"
             ],
             [
              0.2222222222222222,
              "#7201a8"
             ],
             [
              0.3333333333333333,
              "#9c179e"
             ],
             [
              0.4444444444444444,
              "#bd3786"
             ],
             [
              0.5555555555555556,
              "#d8576b"
             ],
             [
              0.6666666666666666,
              "#ed7953"
             ],
             [
              0.7777777777777778,
              "#fb9f3a"
             ],
             [
              0.8888888888888888,
              "#fdca26"
             ],
             [
              1,
              "#f0f921"
             ]
            ],
            "type": "histogram2dcontour"
           }
          ],
          "mesh3d": [
           {
            "colorbar": {
             "outlinewidth": 0,
             "ticks": ""
            },
            "type": "mesh3d"
           }
          ],
          "parcoords": [
           {
            "line": {
             "colorbar": {
              "outlinewidth": 0,
              "ticks": ""
             }
            },
            "type": "parcoords"
           }
          ],
          "pie": [
           {
            "automargin": true,
            "type": "pie"
           }
          ],
          "scatter": [
           {
            "marker": {
             "colorbar": {
              "outlinewidth": 0,
              "ticks": ""
             }
            },
            "type": "scatter"
           }
          ],
          "scatter3d": [
           {
            "line": {
             "colorbar": {
              "outlinewidth": 0,
              "ticks": ""
             }
            },
            "marker": {
             "colorbar": {
              "outlinewidth": 0,
              "ticks": ""
             }
            },
            "type": "scatter3d"
           }
          ],
          "scattercarpet": [
           {
            "marker": {
             "colorbar": {
              "outlinewidth": 0,
              "ticks": ""
             }
            },
            "type": "scattercarpet"
           }
          ],
          "scattergeo": [
           {
            "marker": {
             "colorbar": {
              "outlinewidth": 0,
              "ticks": ""
             }
            },
            "type": "scattergeo"
           }
          ],
          "scattergl": [
           {
            "marker": {
             "colorbar": {
              "outlinewidth": 0,
              "ticks": ""
             }
            },
            "type": "scattergl"
           }
          ],
          "scattermapbox": [
           {
            "marker": {
             "colorbar": {
              "outlinewidth": 0,
              "ticks": ""
             }
            },
            "type": "scattermapbox"
           }
          ],
          "scatterpolar": [
           {
            "marker": {
             "colorbar": {
              "outlinewidth": 0,
              "ticks": ""
             }
            },
            "type": "scatterpolar"
           }
          ],
          "scatterpolargl": [
           {
            "marker": {
             "colorbar": {
              "outlinewidth": 0,
              "ticks": ""
             }
            },
            "type": "scatterpolargl"
           }
          ],
          "scatterternary": [
           {
            "marker": {
             "colorbar": {
              "outlinewidth": 0,
              "ticks": ""
             }
            },
            "type": "scatterternary"
           }
          ],
          "surface": [
           {
            "colorbar": {
             "outlinewidth": 0,
             "ticks": ""
            },
            "colorscale": [
             [
              0,
              "#0d0887"
             ],
             [
              0.1111111111111111,
              "#46039f"
             ],
             [
              0.2222222222222222,
              "#7201a8"
             ],
             [
              0.3333333333333333,
              "#9c179e"
             ],
             [
              0.4444444444444444,
              "#bd3786"
             ],
             [
              0.5555555555555556,
              "#d8576b"
             ],
             [
              0.6666666666666666,
              "#ed7953"
             ],
             [
              0.7777777777777778,
              "#fb9f3a"
             ],
             [
              0.8888888888888888,
              "#fdca26"
             ],
             [
              1,
              "#f0f921"
             ]
            ],
            "type": "surface"
           }
          ],
          "table": [
           {
            "cells": {
             "fill": {
              "color": "#EBF0F8"
             },
             "line": {
              "color": "white"
             }
            },
            "header": {
             "fill": {
              "color": "#C8D4E3"
             },
             "line": {
              "color": "white"
             }
            },
            "type": "table"
           }
          ]
         },
         "layout": {
          "annotationdefaults": {
           "arrowcolor": "#2a3f5f",
           "arrowhead": 0,
           "arrowwidth": 1
          },
          "autotypenumbers": "strict",
          "coloraxis": {
           "colorbar": {
            "outlinewidth": 0,
            "ticks": ""
           }
          },
          "colorscale": {
           "diverging": [
            [
             0,
             "#8e0152"
            ],
            [
             0.1,
             "#c51b7d"
            ],
            [
             0.2,
             "#de77ae"
            ],
            [
             0.3,
             "#f1b6da"
            ],
            [
             0.4,
             "#fde0ef"
            ],
            [
             0.5,
             "#f7f7f7"
            ],
            [
             0.6,
             "#e6f5d0"
            ],
            [
             0.7,
             "#b8e186"
            ],
            [
             0.8,
             "#7fbc41"
            ],
            [
             0.9,
             "#4d9221"
            ],
            [
             1,
             "#276419"
            ]
           ],
           "sequential": [
            [
             0,
             "#0d0887"
            ],
            [
             0.1111111111111111,
             "#46039f"
            ],
            [
             0.2222222222222222,
             "#7201a8"
            ],
            [
             0.3333333333333333,
             "#9c179e"
            ],
            [
             0.4444444444444444,
             "#bd3786"
            ],
            [
             0.5555555555555556,
             "#d8576b"
            ],
            [
             0.6666666666666666,
             "#ed7953"
            ],
            [
             0.7777777777777778,
             "#fb9f3a"
            ],
            [
             0.8888888888888888,
             "#fdca26"
            ],
            [
             1,
             "#f0f921"
            ]
           ],
           "sequentialminus": [
            [
             0,
             "#0d0887"
            ],
            [
             0.1111111111111111,
             "#46039f"
            ],
            [
             0.2222222222222222,
             "#7201a8"
            ],
            [
             0.3333333333333333,
             "#9c179e"
            ],
            [
             0.4444444444444444,
             "#bd3786"
            ],
            [
             0.5555555555555556,
             "#d8576b"
            ],
            [
             0.6666666666666666,
             "#ed7953"
            ],
            [
             0.7777777777777778,
             "#fb9f3a"
            ],
            [
             0.8888888888888888,
             "#fdca26"
            ],
            [
             1,
             "#f0f921"
            ]
           ]
          },
          "colorway": [
           "#636efa",
           "#EF553B",
           "#00cc96",
           "#ab63fa",
           "#FFA15A",
           "#19d3f3",
           "#FF6692",
           "#B6E880",
           "#FF97FF",
           "#FECB52"
          ],
          "font": {
           "color": "#2a3f5f"
          },
          "geo": {
           "bgcolor": "white",
           "lakecolor": "white",
           "landcolor": "#E5ECF6",
           "showlakes": true,
           "showland": true,
           "subunitcolor": "white"
          },
          "hoverlabel": {
           "align": "left"
          },
          "hovermode": "closest",
          "mapbox": {
           "style": "light"
          },
          "paper_bgcolor": "white",
          "plot_bgcolor": "#E5ECF6",
          "polar": {
           "angularaxis": {
            "gridcolor": "white",
            "linecolor": "white",
            "ticks": ""
           },
           "bgcolor": "#E5ECF6",
           "radialaxis": {
            "gridcolor": "white",
            "linecolor": "white",
            "ticks": ""
           }
          },
          "scene": {
           "xaxis": {
            "backgroundcolor": "#E5ECF6",
            "gridcolor": "white",
            "gridwidth": 2,
            "linecolor": "white",
            "showbackground": true,
            "ticks": "",
            "zerolinecolor": "white"
           },
           "yaxis": {
            "backgroundcolor": "#E5ECF6",
            "gridcolor": "white",
            "gridwidth": 2,
            "linecolor": "white",
            "showbackground": true,
            "ticks": "",
            "zerolinecolor": "white"
           },
           "zaxis": {
            "backgroundcolor": "#E5ECF6",
            "gridcolor": "white",
            "gridwidth": 2,
            "linecolor": "white",
            "showbackground": true,
            "ticks": "",
            "zerolinecolor": "white"
           }
          },
          "shapedefaults": {
           "line": {
            "color": "#2a3f5f"
           }
          },
          "ternary": {
           "aaxis": {
            "gridcolor": "white",
            "linecolor": "white",
            "ticks": ""
           },
           "baxis": {
            "gridcolor": "white",
            "linecolor": "white",
            "ticks": ""
           },
           "bgcolor": "#E5ECF6",
           "caxis": {
            "gridcolor": "white",
            "linecolor": "white",
            "ticks": ""
           }
          },
          "title": {
           "x": 0.05
          },
          "xaxis": {
           "automargin": true,
           "gridcolor": "white",
           "linecolor": "white",
           "ticks": "",
           "title": {
            "standoff": 15
           },
           "zerolinecolor": "white",
           "zerolinewidth": 2
          },
          "yaxis": {
           "automargin": true,
           "gridcolor": "white",
           "linecolor": "white",
           "ticks": "",
           "title": {
            "standoff": 15
           },
           "zerolinecolor": "white",
           "zerolinewidth": 2
          }
         }
        },
        "title": {
         "text": "Historical Sales"
        },
        "xaxis": {
         "anchor": "y",
         "domain": [
          0,
          1
         ],
         "title": {
          "text": "WEEK"
         }
        },
        "yaxis": {
         "anchor": "x",
         "domain": [
          0,
          1
         ],
         "title": {
          "text": "Amount $"
         }
        }
       }
      },
      "text/html": [
       "<div>                            <div id=\"63982336-2957-463f-8756-0a196860dda5\" class=\"plotly-graph-div\" style=\"height:525px; width:100%;\"></div>            <script type=\"text/javascript\">                require([\"plotly\"], function(Plotly) {                    window.PLOTLYENV=window.PLOTLYENV || {};                                    if (document.getElementById(\"63982336-2957-463f-8756-0a196860dda5\")) {                    Plotly.newPlot(                        \"63982336-2957-463f-8756-0a196860dda5\",                        [{\"hovertemplate\": \"variable=Observed<br>WEEK=%{x}<br>value=%{y}<extra></extra>\", \"legendgroup\": \"Observed\", \"line\": {\"color\": \"#636efa\", \"dash\": \"solid\"}, \"mode\": \"lines\", \"name\": \"Observed\", \"orientation\": \"v\", \"showlegend\": true, \"type\": \"scatter\", \"x\": [\"2015-11-02T00:00:00\", \"2015-11-09T00:00:00\", \"2015-11-16T00:00:00\", \"2015-11-23T00:00:00\", \"2015-11-30T00:00:00\", \"2015-12-07T00:00:00\", \"2015-12-14T00:00:00\", \"2015-12-21T00:00:00\", \"2015-12-28T00:00:00\", \"2016-01-04T00:00:00\", \"2016-01-11T00:00:00\", \"2016-01-18T00:00:00\", \"2016-01-25T00:00:00\", \"2016-02-01T00:00:00\", \"2016-02-08T00:00:00\", \"2016-02-15T00:00:00\", \"2016-02-22T00:00:00\", \"2016-02-29T00:00:00\", \"2016-03-07T00:00:00\", \"2016-03-14T00:00:00\", \"2016-03-21T00:00:00\", \"2016-03-28T00:00:00\", \"2016-04-04T00:00:00\", \"2016-04-11T00:00:00\", \"2016-04-18T00:00:00\", \"2016-04-25T00:00:00\", \"2016-05-02T00:00:00\", \"2016-05-09T00:00:00\", \"2016-05-16T00:00:00\", \"2016-05-23T00:00:00\", \"2016-05-30T00:00:00\", \"2016-06-06T00:00:00\", \"2016-06-13T00:00:00\", \"2016-06-20T00:00:00\", \"2016-06-27T00:00:00\", \"2016-07-04T00:00:00\", \"2016-07-11T00:00:00\", \"2016-07-18T00:00:00\", \"2016-07-25T00:00:00\", \"2016-08-01T00:00:00\", \"2016-08-08T00:00:00\", \"2016-08-15T00:00:00\", \"2016-08-22T00:00:00\", \"2016-08-29T00:00:00\", \"2016-09-05T00:00:00\", \"2016-09-12T00:00:00\", \"2016-09-19T00:00:00\", \"2016-09-26T00:00:00\", \"2016-10-03T00:00:00\", \"2016-10-10T00:00:00\", \"2016-10-17T00:00:00\", \"2016-10-24T00:00:00\", \"2016-10-31T00:00:00\", \"2016-11-07T00:00:00\", \"2016-11-14T00:00:00\", \"2016-11-21T00:00:00\", \"2016-11-28T00:00:00\", \"2016-12-05T00:00:00\", \"2016-12-12T00:00:00\", \"2016-12-19T00:00:00\", \"2016-12-26T00:00:00\", \"2017-01-02T00:00:00\", \"2017-01-09T00:00:00\", \"2017-01-16T00:00:00\", \"2017-01-23T00:00:00\", \"2017-01-30T00:00:00\", \"2017-02-06T00:00:00\", \"2017-02-13T00:00:00\", \"2017-02-20T00:00:00\", \"2017-02-27T00:00:00\", \"2017-03-06T00:00:00\", \"2017-03-13T00:00:00\", \"2017-03-20T00:00:00\", \"2017-03-27T00:00:00\", \"2017-04-03T00:00:00\", \"2017-04-10T00:00:00\", \"2017-04-17T00:00:00\", \"2017-04-24T00:00:00\", \"2017-05-01T00:00:00\", \"2017-05-08T00:00:00\", \"2017-05-15T00:00:00\", \"2017-05-22T00:00:00\", \"2017-05-29T00:00:00\", \"2017-06-05T00:00:00\", \"2017-06-12T00:00:00\", \"2017-06-19T00:00:00\", \"2017-06-26T00:00:00\", \"2017-07-03T00:00:00\", \"2017-07-10T00:00:00\", \"2017-07-17T00:00:00\", \"2017-07-24T00:00:00\", \"2017-07-31T00:00:00\", \"2017-08-07T00:00:00\", \"2017-08-14T00:00:00\", \"2017-08-21T00:00:00\", \"2017-08-28T00:00:00\", \"2017-09-04T00:00:00\", \"2017-09-11T00:00:00\", \"2017-09-18T00:00:00\", \"2017-09-25T00:00:00\", \"2017-10-02T00:00:00\", \"2017-10-09T00:00:00\", \"2017-10-16T00:00:00\", \"2017-10-23T00:00:00\", \"2017-10-30T00:00:00\", \"2017-11-06T00:00:00\", \"2017-11-13T00:00:00\", \"2017-11-20T00:00:00\", \"2017-11-27T00:00:00\", \"2017-12-04T00:00:00\", \"2017-12-11T00:00:00\", \"2017-12-18T00:00:00\", \"2017-12-25T00:00:00\", \"2018-01-01T00:00:00\", \"2018-01-08T00:00:00\", \"2018-01-15T00:00:00\", \"2018-01-22T00:00:00\", \"2018-01-29T00:00:00\", \"2018-02-05T00:00:00\", \"2018-02-12T00:00:00\", \"2018-02-19T00:00:00\", \"2018-02-26T00:00:00\", \"2018-03-05T00:00:00\", \"2018-03-12T00:00:00\", \"2018-03-19T00:00:00\", \"2018-03-26T00:00:00\", \"2018-04-02T00:00:00\", \"2018-04-09T00:00:00\", \"2018-04-16T00:00:00\", \"2018-04-23T00:00:00\", \"2018-04-30T00:00:00\", \"2018-05-07T00:00:00\", \"2018-05-14T00:00:00\", \"2018-05-21T00:00:00\", \"2018-05-28T00:00:00\", \"2018-06-04T00:00:00\", \"2018-06-11T00:00:00\", \"2018-06-18T00:00:00\", \"2018-06-25T00:00:00\", \"2018-07-02T00:00:00\", \"2018-07-09T00:00:00\", \"2018-07-16T00:00:00\", \"2018-07-23T00:00:00\", \"2018-07-30T00:00:00\", \"2018-08-06T00:00:00\", \"2018-08-13T00:00:00\", \"2018-08-20T00:00:00\", \"2018-08-27T00:00:00\", \"2018-09-03T00:00:00\", \"2018-09-10T00:00:00\", \"2018-09-17T00:00:00\", \"2018-09-24T00:00:00\", \"2018-10-01T00:00:00\", \"2018-10-08T00:00:00\", \"2018-10-15T00:00:00\", \"2018-10-22T00:00:00\", \"2018-10-29T00:00:00\"], \"xaxis\": \"x\", \"y\": [4288.0, 4321.0, 5217.0, 5416.0, 6379.0, 5606.0, 5896.0, 4339.0, 3056.0, 2994.0, 3236.0, 2896.0, 2533.0, 2298.0, 2174.0, 1942.0, 2369.0, 2235.0, 2149.0, 2251.0, 1664.0, 2567.0, 4448.0, 5069.0, 5049.0, 4920.0, 4198.0, 3809.0, 3549.0, 2992.0, 3548.0, 3614.0, 4245.0, 4000.0, 3787.0, 2898.0, 2644.0, 2305.0, 2585.0, 1959.0, 2365.0, 2322.0, 2307.0, 2688.0, 1990.0, 2224.0, 2334.0, 2514.0, 2358.0, 2019.0, 2328.0, 3028.0, 2809.0, 3887.0, 3756.0, 3546.0, 3989.0, 4541.0, 3628.0, 3701.0, 1697.0, 3217.0, 3514.0, 3618.0, 3249.0, 3100.0, 2268.0, 2224.0, 1841.0, 2057.0, 1714.0, 1865.0, 1835.0, 1680.0, 2188.0, 1742.0, 2285.0, 3322.0, 2899.0, 2995.0, 3036.0, 2572.0, 2918.0, 2991.0, 3020.0, 2978.0, 3124.0, 2659.0, 3554.0, 3129.0, 2992.0, 2805.0, 1358.0, 3466.0, 3883.0, 3837.0, 2416.0, 2692.0, 2694.0, 2409.0, 2661.0, 2194.0, 2320.0, 2583.0, 2609.0, 2577.0, 2138.0, 2699.0, 3031.0, 2430.0, 2873.0, 2465.0, 1431.0, 2180.0, 2769.0, 2967.0, 3100.0, 3276.0, 3121.0, 2906.0, 2612.0, 3054.0, 3232.0, 3300.0, 3290.0, 2558.0, 3111.0, 3536.0, 3814.0, 3626.0, 3819.0, 4015.0, 3661.0, 3415.0, 4001.0, 4838.0, 4539.0, 4243.0, 4154.0, 3254.0, 3671.0, 3476.0, 3604.0, 3594.0, 3162.0, 3403.0, 4036.0, 3620.0, 4102.0, 3523.0, 4305.0, 3683.0, 3771.0, 3138.0, 4321.0, 3865.0, 2298.0], \"yaxis\": \"y\"}, {\"hovertemplate\": \"variable=Trend<br>WEEK=%{x}<br>value=%{y}<extra></extra>\", \"legendgroup\": \"Trend\", \"line\": {\"color\": \"#EF553B\", \"dash\": \"solid\"}, \"mode\": \"lines\", \"name\": \"Trend\", \"orientation\": \"v\", \"showlegend\": true, \"type\": \"scatter\", \"x\": [\"2015-11-02T00:00:00\", \"2015-11-09T00:00:00\", \"2015-11-16T00:00:00\", \"2015-11-23T00:00:00\", \"2015-11-30T00:00:00\", \"2015-12-07T00:00:00\", \"2015-12-14T00:00:00\", \"2015-12-21T00:00:00\", \"2015-12-28T00:00:00\", \"2016-01-04T00:00:00\", \"2016-01-11T00:00:00\", \"2016-01-18T00:00:00\", \"2016-01-25T00:00:00\", \"2016-02-01T00:00:00\", \"2016-02-08T00:00:00\", \"2016-02-15T00:00:00\", \"2016-02-22T00:00:00\", \"2016-02-29T00:00:00\", \"2016-03-07T00:00:00\", \"2016-03-14T00:00:00\", \"2016-03-21T00:00:00\", \"2016-03-28T00:00:00\", \"2016-04-04T00:00:00\", \"2016-04-11T00:00:00\", \"2016-04-18T00:00:00\", \"2016-04-25T00:00:00\", \"2016-05-02T00:00:00\", \"2016-05-09T00:00:00\", \"2016-05-16T00:00:00\", \"2016-05-23T00:00:00\", \"2016-05-30T00:00:00\", \"2016-06-06T00:00:00\", \"2016-06-13T00:00:00\", \"2016-06-20T00:00:00\", \"2016-06-27T00:00:00\", \"2016-07-04T00:00:00\", \"2016-07-11T00:00:00\", \"2016-07-18T00:00:00\", \"2016-07-25T00:00:00\", \"2016-08-01T00:00:00\", \"2016-08-08T00:00:00\", \"2016-08-15T00:00:00\", \"2016-08-22T00:00:00\", \"2016-08-29T00:00:00\", \"2016-09-05T00:00:00\", \"2016-09-12T00:00:00\", \"2016-09-19T00:00:00\", \"2016-09-26T00:00:00\", \"2016-10-03T00:00:00\", \"2016-10-10T00:00:00\", \"2016-10-17T00:00:00\", \"2016-10-24T00:00:00\", \"2016-10-31T00:00:00\", \"2016-11-07T00:00:00\", \"2016-11-14T00:00:00\", \"2016-11-21T00:00:00\", \"2016-11-28T00:00:00\", \"2016-12-05T00:00:00\", \"2016-12-12T00:00:00\", \"2016-12-19T00:00:00\", \"2016-12-26T00:00:00\", \"2017-01-02T00:00:00\", \"2017-01-09T00:00:00\", \"2017-01-16T00:00:00\", \"2017-01-23T00:00:00\", \"2017-01-30T00:00:00\", \"2017-02-06T00:00:00\", \"2017-02-13T00:00:00\", \"2017-02-20T00:00:00\", \"2017-02-27T00:00:00\", \"2017-03-06T00:00:00\", \"2017-03-13T00:00:00\", \"2017-03-20T00:00:00\", \"2017-03-27T00:00:00\", \"2017-04-03T00:00:00\", \"2017-04-10T00:00:00\", \"2017-04-17T00:00:00\", \"2017-04-24T00:00:00\", \"2017-05-01T00:00:00\", \"2017-05-08T00:00:00\", \"2017-05-15T00:00:00\", \"2017-05-22T00:00:00\", \"2017-05-29T00:00:00\", \"2017-06-05T00:00:00\", \"2017-06-12T00:00:00\", \"2017-06-19T00:00:00\", \"2017-06-26T00:00:00\", \"2017-07-03T00:00:00\", \"2017-07-10T00:00:00\", \"2017-07-17T00:00:00\", \"2017-07-24T00:00:00\", \"2017-07-31T00:00:00\", \"2017-08-07T00:00:00\", \"2017-08-14T00:00:00\", \"2017-08-21T00:00:00\", \"2017-08-28T00:00:00\", \"2017-09-04T00:00:00\", \"2017-09-11T00:00:00\", \"2017-09-18T00:00:00\", \"2017-09-25T00:00:00\", \"2017-10-02T00:00:00\", \"2017-10-09T00:00:00\", \"2017-10-16T00:00:00\", \"2017-10-23T00:00:00\", \"2017-10-30T00:00:00\", \"2017-11-06T00:00:00\", \"2017-11-13T00:00:00\", \"2017-11-20T00:00:00\", \"2017-11-27T00:00:00\", \"2017-12-04T00:00:00\", \"2017-12-11T00:00:00\", \"2017-12-18T00:00:00\", \"2017-12-25T00:00:00\", \"2018-01-01T00:00:00\", \"2018-01-08T00:00:00\", \"2018-01-15T00:00:00\", \"2018-01-22T00:00:00\", \"2018-01-29T00:00:00\", \"2018-02-05T00:00:00\", \"2018-02-12T00:00:00\", \"2018-02-19T00:00:00\", \"2018-02-26T00:00:00\", \"2018-03-05T00:00:00\", \"2018-03-12T00:00:00\", \"2018-03-19T00:00:00\", \"2018-03-26T00:00:00\", \"2018-04-02T00:00:00\", \"2018-04-09T00:00:00\", \"2018-04-16T00:00:00\", \"2018-04-23T00:00:00\", \"2018-04-30T00:00:00\", \"2018-05-07T00:00:00\", \"2018-05-14T00:00:00\", \"2018-05-21T00:00:00\", \"2018-05-28T00:00:00\", \"2018-06-04T00:00:00\", \"2018-06-11T00:00:00\", \"2018-06-18T00:00:00\", \"2018-06-25T00:00:00\", \"2018-07-02T00:00:00\", \"2018-07-09T00:00:00\", \"2018-07-16T00:00:00\", \"2018-07-23T00:00:00\", \"2018-07-30T00:00:00\", \"2018-08-06T00:00:00\", \"2018-08-13T00:00:00\", \"2018-08-20T00:00:00\", \"2018-08-27T00:00:00\", \"2018-09-03T00:00:00\", \"2018-09-10T00:00:00\", \"2018-09-17T00:00:00\", \"2018-09-24T00:00:00\", \"2018-10-01T00:00:00\", \"2018-10-08T00:00:00\", \"2018-10-15T00:00:00\", \"2018-10-22T00:00:00\", \"2018-10-29T00:00:00\"], \"xaxis\": \"x\", \"y\": [null, null, null, null, null, null, null, null, null, null, null, null, null, null, null, null, null, null, null, null, null, null, null, null, null, null, 3253.509615384615, 3235.115384615385, 3216.89423076923, 3184.865384615385, 3143.903846153847, 3110.682692307692, 3078.634615384615, 3050.692307692308, 3031.490384615385, 3020.567307692308, 3025.384615384615, 3035.0, 3048.826923076923, 3063.423076923077, 3072.038461538462, 3075.653846153847, 3073.288461538462, 3066.5, 3060.60576923077, 3052.711538461539, 3050.644230769231, 3043.759615384615, 3013.5, 2959.778846153847, 2901.211538461539, 2859.269230769231, 2831.413461538462, 2811.096153846154, 2798.336538461539, 2789.365384615385, 2779.269230769231, 2767.221153846154, 2749.451923076923, 2727.846153846154, 2711.644230769231, 2702.971153846154, 2709.423076923077, 2726.096153846154, 2737.932692307692, 2749.98076923077, 2748.432692307692, 2749.75, 2775.903846153846, 2802.10576923077, 2817.25, 2825.846153846154, 2833.807692307692, 2836.259615384615, 2838.163461538462, 2842.759615384615, 2844.365384615385, 2840.009615384615, 2833.807692307692, 2819.288461538462, 2791.134615384616, 2767.432692307692, 2750.076923076923, 2720.567307692308, 2693.009615384616, 2673.865384615385, 2659.423076923077, 2646.89423076923, 2629.759615384615, 2616.336538461539, 2608.644230769231, 2608.903846153847, 2618.798076923077, 2633.557692307692, 2647.528846153846, 2664.528846153846, 2688.711538461538, 2717.105769230769, 2744.89423076923, 2767.326923076923, 2784.64423076923, 2810.769230769231, 2842.721153846154, 2860.346153846154, 2872.115384615385, 2890.769230769231, 2906.586538461539, 2920.701923076923, 2939.221153846154, 2967.394230769231, 2999.759615384615, 3026.528846153847, 3048.596153846154, 3064.221153846154, 3071.067307692308, 3075.528846153846, 3084.75, 3098.221153846154, 3123.153846153847, 3139.894230769231, 3140.759615384616, 3140.144230769231, 3154.269230769231, 3178.471153846154, 3201.951923076923, 3229.692307692308, 3252.615384615385, 3272.365384615385, 3300.682692307692, 3332.25, 3341.586538461538, null, null, null, null, null, null, null, null, null, null, null, null, null, null, null, null, null, null, null, null, null, null, null, null, null, null], \"yaxis\": \"y\"}],                        {\"legend\": {\"title\": {\"text\": \"variable\"}, \"tracegroupgap\": 0}, \"margin\": {\"t\": 60}, \"template\": {\"data\": {\"bar\": [{\"error_x\": {\"color\": \"#2a3f5f\"}, \"error_y\": {\"color\": \"#2a3f5f\"}, \"marker\": {\"line\": {\"color\": \"#E5ECF6\", \"width\": 0.5}}, \"type\": \"bar\"}], \"barpolar\": [{\"marker\": {\"line\": {\"color\": \"#E5ECF6\", \"width\": 0.5}}, \"type\": \"barpolar\"}], \"carpet\": [{\"aaxis\": {\"endlinecolor\": \"#2a3f5f\", \"gridcolor\": \"white\", \"linecolor\": \"white\", \"minorgridcolor\": \"white\", \"startlinecolor\": \"#2a3f5f\"}, \"baxis\": {\"endlinecolor\": \"#2a3f5f\", \"gridcolor\": \"white\", \"linecolor\": \"white\", \"minorgridcolor\": \"white\", \"startlinecolor\": \"#2a3f5f\"}, \"type\": \"carpet\"}], \"choropleth\": [{\"colorbar\": {\"outlinewidth\": 0, \"ticks\": \"\"}, \"type\": \"choropleth\"}], \"contour\": [{\"colorbar\": {\"outlinewidth\": 0, \"ticks\": \"\"}, \"colorscale\": [[0.0, \"#0d0887\"], [0.1111111111111111, \"#46039f\"], [0.2222222222222222, \"#7201a8\"], [0.3333333333333333, \"#9c179e\"], [0.4444444444444444, \"#bd3786\"], [0.5555555555555556, \"#d8576b\"], [0.6666666666666666, \"#ed7953\"], [0.7777777777777778, \"#fb9f3a\"], [0.8888888888888888, \"#fdca26\"], [1.0, \"#f0f921\"]], \"type\": \"contour\"}], \"contourcarpet\": [{\"colorbar\": {\"outlinewidth\": 0, \"ticks\": \"\"}, \"type\": \"contourcarpet\"}], \"heatmap\": [{\"colorbar\": {\"outlinewidth\": 0, \"ticks\": \"\"}, \"colorscale\": [[0.0, \"#0d0887\"], [0.1111111111111111, \"#46039f\"], [0.2222222222222222, \"#7201a8\"], [0.3333333333333333, \"#9c179e\"], [0.4444444444444444, \"#bd3786\"], [0.5555555555555556, \"#d8576b\"], [0.6666666666666666, \"#ed7953\"], [0.7777777777777778, \"#fb9f3a\"], [0.8888888888888888, \"#fdca26\"], [1.0, \"#f0f921\"]], \"type\": \"heatmap\"}], \"heatmapgl\": [{\"colorbar\": {\"outlinewidth\": 0, \"ticks\": \"\"}, \"colorscale\": [[0.0, \"#0d0887\"], [0.1111111111111111, \"#46039f\"], [0.2222222222222222, \"#7201a8\"], [0.3333333333333333, \"#9c179e\"], [0.4444444444444444, \"#bd3786\"], [0.5555555555555556, \"#d8576b\"], [0.6666666666666666, \"#ed7953\"], [0.7777777777777778, \"#fb9f3a\"], [0.8888888888888888, \"#fdca26\"], [1.0, \"#f0f921\"]], \"type\": \"heatmapgl\"}], \"histogram\": [{\"marker\": {\"colorbar\": {\"outlinewidth\": 0, \"ticks\": \"\"}}, \"type\": \"histogram\"}], \"histogram2d\": [{\"colorbar\": {\"outlinewidth\": 0, \"ticks\": \"\"}, \"colorscale\": [[0.0, \"#0d0887\"], [0.1111111111111111, \"#46039f\"], [0.2222222222222222, \"#7201a8\"], [0.3333333333333333, \"#9c179e\"], [0.4444444444444444, \"#bd3786\"], [0.5555555555555556, \"#d8576b\"], [0.6666666666666666, \"#ed7953\"], [0.7777777777777778, \"#fb9f3a\"], [0.8888888888888888, \"#fdca26\"], [1.0, \"#f0f921\"]], \"type\": \"histogram2d\"}], \"histogram2dcontour\": [{\"colorbar\": {\"outlinewidth\": 0, \"ticks\": \"\"}, \"colorscale\": [[0.0, \"#0d0887\"], [0.1111111111111111, \"#46039f\"], [0.2222222222222222, \"#7201a8\"], [0.3333333333333333, \"#9c179e\"], [0.4444444444444444, \"#bd3786\"], [0.5555555555555556, \"#d8576b\"], [0.6666666666666666, \"#ed7953\"], [0.7777777777777778, \"#fb9f3a\"], [0.8888888888888888, \"#fdca26\"], [1.0, \"#f0f921\"]], \"type\": \"histogram2dcontour\"}], \"mesh3d\": [{\"colorbar\": {\"outlinewidth\": 0, \"ticks\": \"\"}, \"type\": \"mesh3d\"}], \"parcoords\": [{\"line\": {\"colorbar\": {\"outlinewidth\": 0, \"ticks\": \"\"}}, \"type\": \"parcoords\"}], \"pie\": [{\"automargin\": true, \"type\": \"pie\"}], \"scatter\": [{\"marker\": {\"colorbar\": {\"outlinewidth\": 0, \"ticks\": \"\"}}, \"type\": \"scatter\"}], \"scatter3d\": [{\"line\": {\"colorbar\": {\"outlinewidth\": 0, \"ticks\": \"\"}}, \"marker\": {\"colorbar\": {\"outlinewidth\": 0, \"ticks\": \"\"}}, \"type\": \"scatter3d\"}], \"scattercarpet\": [{\"marker\": {\"colorbar\": {\"outlinewidth\": 0, \"ticks\": \"\"}}, \"type\": \"scattercarpet\"}], \"scattergeo\": [{\"marker\": {\"colorbar\": {\"outlinewidth\": 0, \"ticks\": \"\"}}, \"type\": \"scattergeo\"}], \"scattergl\": [{\"marker\": {\"colorbar\": {\"outlinewidth\": 0, \"ticks\": \"\"}}, \"type\": \"scattergl\"}], \"scattermapbox\": [{\"marker\": {\"colorbar\": {\"outlinewidth\": 0, \"ticks\": \"\"}}, \"type\": \"scattermapbox\"}], \"scatterpolar\": [{\"marker\": {\"colorbar\": {\"outlinewidth\": 0, \"ticks\": \"\"}}, \"type\": \"scatterpolar\"}], \"scatterpolargl\": [{\"marker\": {\"colorbar\": {\"outlinewidth\": 0, \"ticks\": \"\"}}, \"type\": \"scatterpolargl\"}], \"scatterternary\": [{\"marker\": {\"colorbar\": {\"outlinewidth\": 0, \"ticks\": \"\"}}, \"type\": \"scatterternary\"}], \"surface\": [{\"colorbar\": {\"outlinewidth\": 0, \"ticks\": \"\"}, \"colorscale\": [[0.0, \"#0d0887\"], [0.1111111111111111, \"#46039f\"], [0.2222222222222222, \"#7201a8\"], [0.3333333333333333, \"#9c179e\"], [0.4444444444444444, \"#bd3786\"], [0.5555555555555556, \"#d8576b\"], [0.6666666666666666, \"#ed7953\"], [0.7777777777777778, \"#fb9f3a\"], [0.8888888888888888, \"#fdca26\"], [1.0, \"#f0f921\"]], \"type\": \"surface\"}], \"table\": [{\"cells\": {\"fill\": {\"color\": \"#EBF0F8\"}, \"line\": {\"color\": \"white\"}}, \"header\": {\"fill\": {\"color\": \"#C8D4E3\"}, \"line\": {\"color\": \"white\"}}, \"type\": \"table\"}]}, \"layout\": {\"annotationdefaults\": {\"arrowcolor\": \"#2a3f5f\", \"arrowhead\": 0, \"arrowwidth\": 1}, \"autotypenumbers\": \"strict\", \"coloraxis\": {\"colorbar\": {\"outlinewidth\": 0, \"ticks\": \"\"}}, \"colorscale\": {\"diverging\": [[0, \"#8e0152\"], [0.1, \"#c51b7d\"], [0.2, \"#de77ae\"], [0.3, \"#f1b6da\"], [0.4, \"#fde0ef\"], [0.5, \"#f7f7f7\"], [0.6, \"#e6f5d0\"], [0.7, \"#b8e186\"], [0.8, \"#7fbc41\"], [0.9, \"#4d9221\"], [1, \"#276419\"]], \"sequential\": [[0.0, \"#0d0887\"], [0.1111111111111111, \"#46039f\"], [0.2222222222222222, \"#7201a8\"], [0.3333333333333333, \"#9c179e\"], [0.4444444444444444, \"#bd3786\"], [0.5555555555555556, \"#d8576b\"], [0.6666666666666666, \"#ed7953\"], [0.7777777777777778, \"#fb9f3a\"], [0.8888888888888888, \"#fdca26\"], [1.0, \"#f0f921\"]], \"sequentialminus\": [[0.0, \"#0d0887\"], [0.1111111111111111, \"#46039f\"], [0.2222222222222222, \"#7201a8\"], [0.3333333333333333, \"#9c179e\"], [0.4444444444444444, \"#bd3786\"], [0.5555555555555556, \"#d8576b\"], [0.6666666666666666, \"#ed7953\"], [0.7777777777777778, \"#fb9f3a\"], [0.8888888888888888, \"#fdca26\"], [1.0, \"#f0f921\"]]}, \"colorway\": [\"#636efa\", \"#EF553B\", \"#00cc96\", \"#ab63fa\", \"#FFA15A\", \"#19d3f3\", \"#FF6692\", \"#B6E880\", \"#FF97FF\", \"#FECB52\"], \"font\": {\"color\": \"#2a3f5f\"}, \"geo\": {\"bgcolor\": \"white\", \"lakecolor\": \"white\", \"landcolor\": \"#E5ECF6\", \"showlakes\": true, \"showland\": true, \"subunitcolor\": \"white\"}, \"hoverlabel\": {\"align\": \"left\"}, \"hovermode\": \"closest\", \"mapbox\": {\"style\": \"light\"}, \"paper_bgcolor\": \"white\", \"plot_bgcolor\": \"#E5ECF6\", \"polar\": {\"angularaxis\": {\"gridcolor\": \"white\", \"linecolor\": \"white\", \"ticks\": \"\"}, \"bgcolor\": \"#E5ECF6\", \"radialaxis\": {\"gridcolor\": \"white\", \"linecolor\": \"white\", \"ticks\": \"\"}}, \"scene\": {\"xaxis\": {\"backgroundcolor\": \"#E5ECF6\", \"gridcolor\": \"white\", \"gridwidth\": 2, \"linecolor\": \"white\", \"showbackground\": true, \"ticks\": \"\", \"zerolinecolor\": \"white\"}, \"yaxis\": {\"backgroundcolor\": \"#E5ECF6\", \"gridcolor\": \"white\", \"gridwidth\": 2, \"linecolor\": \"white\", \"showbackground\": true, \"ticks\": \"\", \"zerolinecolor\": \"white\"}, \"zaxis\": {\"backgroundcolor\": \"#E5ECF6\", \"gridcolor\": \"white\", \"gridwidth\": 2, \"linecolor\": \"white\", \"showbackground\": true, \"ticks\": \"\", \"zerolinecolor\": \"white\"}}, \"shapedefaults\": {\"line\": {\"color\": \"#2a3f5f\"}}, \"ternary\": {\"aaxis\": {\"gridcolor\": \"white\", \"linecolor\": \"white\", \"ticks\": \"\"}, \"baxis\": {\"gridcolor\": \"white\", \"linecolor\": \"white\", \"ticks\": \"\"}, \"bgcolor\": \"#E5ECF6\", \"caxis\": {\"gridcolor\": \"white\", \"linecolor\": \"white\", \"ticks\": \"\"}}, \"title\": {\"x\": 0.05}, \"xaxis\": {\"automargin\": true, \"gridcolor\": \"white\", \"linecolor\": \"white\", \"ticks\": \"\", \"title\": {\"standoff\": 15}, \"zerolinecolor\": \"white\", \"zerolinewidth\": 2}, \"yaxis\": {\"automargin\": true, \"gridcolor\": \"white\", \"linecolor\": \"white\", \"ticks\": \"\", \"title\": {\"standoff\": 15}, \"zerolinecolor\": \"white\", \"zerolinewidth\": 2}}}, \"title\": {\"text\": \"Historical Sales\"}, \"xaxis\": {\"anchor\": \"y\", \"domain\": [0.0, 1.0], \"title\": {\"text\": \"WEEK\"}}, \"yaxis\": {\"anchor\": \"x\", \"domain\": [0.0, 1.0], \"title\": {\"text\": \"Amount $\"}}},                        {\"responsive\": true}                    ).then(function(){\n",
       "                            \n",
       "var gd = document.getElementById('63982336-2957-463f-8756-0a196860dda5');\n",
       "var x = new MutationObserver(function (mutations, observer) {{\n",
       "        var display = window.getComputedStyle(gd).display;\n",
       "        if (!display || display === 'none') {{\n",
       "            console.log([gd, 'removed!']);\n",
       "            Plotly.purge(gd);\n",
       "            observer.disconnect();\n",
       "        }}\n",
       "}});\n",
       "\n",
       "// Listen for the removal of the full notebook cells\n",
       "var notebookContainer = gd.closest('#notebook-container');\n",
       "if (notebookContainer) {{\n",
       "    x.observe(notebookContainer, {childList: true});\n",
       "}}\n",
       "\n",
       "// Listen for the clearing of the current output cell\n",
       "var outputEl = gd.closest('.output');\n",
       "if (outputEl) {{\n",
       "    x.observe(outputEl, {childList: true});\n",
       "}}\n",
       "\n",
       "                        })                };                });            </script>        </div>"
      ]
     },
     "metadata": {},
     "output_type": "display_data"
    }
   ],
   "source": [
    "fig = px.line(df03, x='WEEK', y=['Observed','Trend'])\n",
    "fig.update_layout(title='Historical Sales',xaxis_title='WEEK',yaxis_title=\"Amount $\")\n",
    "fig.show()"
   ]
  },
  {
   "cell_type": "code",
   "execution_count": 50,
   "metadata": {},
   "outputs": [
    {
     "data": {
      "application/vnd.plotly.v1+json": {
       "config": {
        "plotlyServerURL": "https://plot.ly"
       },
       "data": [
        {
         "hovertemplate": "variable=Observed<br>WEEK=%{x}<br>value=%{y}<extra></extra>",
         "legendgroup": "Observed",
         "line": {
          "color": "#636efa",
          "dash": "solid"
         },
         "mode": "lines",
         "name": "Observed",
         "orientation": "v",
         "showlegend": true,
         "type": "scatter",
         "x": [
          "2015-11-02T00:00:00",
          "2015-11-09T00:00:00",
          "2015-11-16T00:00:00",
          "2015-11-23T00:00:00",
          "2015-11-30T00:00:00",
          "2015-12-07T00:00:00",
          "2015-12-14T00:00:00",
          "2015-12-21T00:00:00",
          "2015-12-28T00:00:00",
          "2016-01-04T00:00:00",
          "2016-01-11T00:00:00",
          "2016-01-18T00:00:00",
          "2016-01-25T00:00:00",
          "2016-02-01T00:00:00",
          "2016-02-08T00:00:00",
          "2016-02-15T00:00:00",
          "2016-02-22T00:00:00",
          "2016-02-29T00:00:00",
          "2016-03-07T00:00:00",
          "2016-03-14T00:00:00",
          "2016-03-21T00:00:00",
          "2016-03-28T00:00:00",
          "2016-04-04T00:00:00",
          "2016-04-11T00:00:00",
          "2016-04-18T00:00:00",
          "2016-04-25T00:00:00",
          "2016-05-02T00:00:00",
          "2016-05-09T00:00:00",
          "2016-05-16T00:00:00",
          "2016-05-23T00:00:00",
          "2016-05-30T00:00:00",
          "2016-06-06T00:00:00",
          "2016-06-13T00:00:00",
          "2016-06-20T00:00:00",
          "2016-06-27T00:00:00",
          "2016-07-04T00:00:00",
          "2016-07-11T00:00:00",
          "2016-07-18T00:00:00",
          "2016-07-25T00:00:00",
          "2016-08-01T00:00:00",
          "2016-08-08T00:00:00",
          "2016-08-15T00:00:00",
          "2016-08-22T00:00:00",
          "2016-08-29T00:00:00",
          "2016-09-05T00:00:00",
          "2016-09-12T00:00:00",
          "2016-09-19T00:00:00",
          "2016-09-26T00:00:00",
          "2016-10-03T00:00:00",
          "2016-10-10T00:00:00",
          "2016-10-17T00:00:00",
          "2016-10-24T00:00:00",
          "2016-10-31T00:00:00",
          "2016-11-07T00:00:00",
          "2016-11-14T00:00:00",
          "2016-11-21T00:00:00",
          "2016-11-28T00:00:00",
          "2016-12-05T00:00:00",
          "2016-12-12T00:00:00",
          "2016-12-19T00:00:00",
          "2016-12-26T00:00:00",
          "2017-01-02T00:00:00",
          "2017-01-09T00:00:00",
          "2017-01-16T00:00:00",
          "2017-01-23T00:00:00",
          "2017-01-30T00:00:00",
          "2017-02-06T00:00:00",
          "2017-02-13T00:00:00",
          "2017-02-20T00:00:00",
          "2017-02-27T00:00:00",
          "2017-03-06T00:00:00",
          "2017-03-13T00:00:00",
          "2017-03-20T00:00:00",
          "2017-03-27T00:00:00",
          "2017-04-03T00:00:00",
          "2017-04-10T00:00:00",
          "2017-04-17T00:00:00",
          "2017-04-24T00:00:00",
          "2017-05-01T00:00:00",
          "2017-05-08T00:00:00",
          "2017-05-15T00:00:00",
          "2017-05-22T00:00:00",
          "2017-05-29T00:00:00",
          "2017-06-05T00:00:00",
          "2017-06-12T00:00:00",
          "2017-06-19T00:00:00",
          "2017-06-26T00:00:00",
          "2017-07-03T00:00:00",
          "2017-07-10T00:00:00",
          "2017-07-17T00:00:00",
          "2017-07-24T00:00:00",
          "2017-07-31T00:00:00",
          "2017-08-07T00:00:00",
          "2017-08-14T00:00:00",
          "2017-08-21T00:00:00",
          "2017-08-28T00:00:00",
          "2017-09-04T00:00:00",
          "2017-09-11T00:00:00",
          "2017-09-18T00:00:00",
          "2017-09-25T00:00:00",
          "2017-10-02T00:00:00",
          "2017-10-09T00:00:00",
          "2017-10-16T00:00:00",
          "2017-10-23T00:00:00",
          "2017-10-30T00:00:00",
          "2017-11-06T00:00:00",
          "2017-11-13T00:00:00",
          "2017-11-20T00:00:00",
          "2017-11-27T00:00:00",
          "2017-12-04T00:00:00",
          "2017-12-11T00:00:00",
          "2017-12-18T00:00:00",
          "2017-12-25T00:00:00",
          "2018-01-01T00:00:00",
          "2018-01-08T00:00:00",
          "2018-01-15T00:00:00",
          "2018-01-22T00:00:00",
          "2018-01-29T00:00:00",
          "2018-02-05T00:00:00",
          "2018-02-12T00:00:00",
          "2018-02-19T00:00:00",
          "2018-02-26T00:00:00",
          "2018-03-05T00:00:00",
          "2018-03-12T00:00:00",
          "2018-03-19T00:00:00",
          "2018-03-26T00:00:00",
          "2018-04-02T00:00:00",
          "2018-04-09T00:00:00",
          "2018-04-16T00:00:00",
          "2018-04-23T00:00:00",
          "2018-04-30T00:00:00",
          "2018-05-07T00:00:00",
          "2018-05-14T00:00:00",
          "2018-05-21T00:00:00",
          "2018-05-28T00:00:00",
          "2018-06-04T00:00:00",
          "2018-06-11T00:00:00",
          "2018-06-18T00:00:00",
          "2018-06-25T00:00:00",
          "2018-07-02T00:00:00",
          "2018-07-09T00:00:00",
          "2018-07-16T00:00:00",
          "2018-07-23T00:00:00",
          "2018-07-30T00:00:00",
          "2018-08-06T00:00:00",
          "2018-08-13T00:00:00",
          "2018-08-20T00:00:00",
          "2018-08-27T00:00:00",
          "2018-09-03T00:00:00",
          "2018-09-10T00:00:00",
          "2018-09-17T00:00:00",
          "2018-09-24T00:00:00",
          "2018-10-01T00:00:00",
          "2018-10-08T00:00:00",
          "2018-10-15T00:00:00",
          "2018-10-22T00:00:00",
          "2018-10-29T00:00:00"
         ],
         "xaxis": "x",
         "y": [
          4288,
          4321,
          5217,
          5416,
          6379,
          5606,
          5896,
          4339,
          3056,
          2994,
          3236,
          2896,
          2533,
          2298,
          2174,
          1942,
          2369,
          2235,
          2149,
          2251,
          1664,
          2567,
          4448,
          5069,
          5049,
          4920,
          4198,
          3809,
          3549,
          2992,
          3548,
          3614,
          4245,
          4000,
          3787,
          2898,
          2644,
          2305,
          2585,
          1959,
          2365,
          2322,
          2307,
          2688,
          1990,
          2224,
          2334,
          2514,
          2358,
          2019,
          2328,
          3028,
          2809,
          3887,
          3756,
          3546,
          3989,
          4541,
          3628,
          3701,
          1697,
          3217,
          3514,
          3618,
          3249,
          3100,
          2268,
          2224,
          1841,
          2057,
          1714,
          1865,
          1835,
          1680,
          2188,
          1742,
          2285,
          3322,
          2899,
          2995,
          3036,
          2572,
          2918,
          2991,
          3020,
          2978,
          3124,
          2659,
          3554,
          3129,
          2992,
          2805,
          1358,
          3466,
          3883,
          3837,
          2416,
          2692,
          2694,
          2409,
          2661,
          2194,
          2320,
          2583,
          2609,
          2577,
          2138,
          2699,
          3031,
          2430,
          2873,
          2465,
          1431,
          2180,
          2769,
          2967,
          3100,
          3276,
          3121,
          2906,
          2612,
          3054,
          3232,
          3300,
          3290,
          2558,
          3111,
          3536,
          3814,
          3626,
          3819,
          4015,
          3661,
          3415,
          4001,
          4838,
          4539,
          4243,
          4154,
          3254,
          3671,
          3476,
          3604,
          3594,
          3162,
          3403,
          4036,
          3620,
          4102,
          3523,
          4305,
          3683,
          3771,
          3138,
          4321,
          3865,
          2298
         ],
         "yaxis": "y"
        },
        {
         "hovertemplate": "variable=Trend<br>WEEK=%{x}<br>value=%{y}<extra></extra>",
         "legendgroup": "Trend",
         "line": {
          "color": "#EF553B",
          "dash": "solid"
         },
         "mode": "lines",
         "name": "Trend",
         "orientation": "v",
         "showlegend": true,
         "type": "scatter",
         "x": [
          "2015-11-02T00:00:00",
          "2015-11-09T00:00:00",
          "2015-11-16T00:00:00",
          "2015-11-23T00:00:00",
          "2015-11-30T00:00:00",
          "2015-12-07T00:00:00",
          "2015-12-14T00:00:00",
          "2015-12-21T00:00:00",
          "2015-12-28T00:00:00",
          "2016-01-04T00:00:00",
          "2016-01-11T00:00:00",
          "2016-01-18T00:00:00",
          "2016-01-25T00:00:00",
          "2016-02-01T00:00:00",
          "2016-02-08T00:00:00",
          "2016-02-15T00:00:00",
          "2016-02-22T00:00:00",
          "2016-02-29T00:00:00",
          "2016-03-07T00:00:00",
          "2016-03-14T00:00:00",
          "2016-03-21T00:00:00",
          "2016-03-28T00:00:00",
          "2016-04-04T00:00:00",
          "2016-04-11T00:00:00",
          "2016-04-18T00:00:00",
          "2016-04-25T00:00:00",
          "2016-05-02T00:00:00",
          "2016-05-09T00:00:00",
          "2016-05-16T00:00:00",
          "2016-05-23T00:00:00",
          "2016-05-30T00:00:00",
          "2016-06-06T00:00:00",
          "2016-06-13T00:00:00",
          "2016-06-20T00:00:00",
          "2016-06-27T00:00:00",
          "2016-07-04T00:00:00",
          "2016-07-11T00:00:00",
          "2016-07-18T00:00:00",
          "2016-07-25T00:00:00",
          "2016-08-01T00:00:00",
          "2016-08-08T00:00:00",
          "2016-08-15T00:00:00",
          "2016-08-22T00:00:00",
          "2016-08-29T00:00:00",
          "2016-09-05T00:00:00",
          "2016-09-12T00:00:00",
          "2016-09-19T00:00:00",
          "2016-09-26T00:00:00",
          "2016-10-03T00:00:00",
          "2016-10-10T00:00:00",
          "2016-10-17T00:00:00",
          "2016-10-24T00:00:00",
          "2016-10-31T00:00:00",
          "2016-11-07T00:00:00",
          "2016-11-14T00:00:00",
          "2016-11-21T00:00:00",
          "2016-11-28T00:00:00",
          "2016-12-05T00:00:00",
          "2016-12-12T00:00:00",
          "2016-12-19T00:00:00",
          "2016-12-26T00:00:00",
          "2017-01-02T00:00:00",
          "2017-01-09T00:00:00",
          "2017-01-16T00:00:00",
          "2017-01-23T00:00:00",
          "2017-01-30T00:00:00",
          "2017-02-06T00:00:00",
          "2017-02-13T00:00:00",
          "2017-02-20T00:00:00",
          "2017-02-27T00:00:00",
          "2017-03-06T00:00:00",
          "2017-03-13T00:00:00",
          "2017-03-20T00:00:00",
          "2017-03-27T00:00:00",
          "2017-04-03T00:00:00",
          "2017-04-10T00:00:00",
          "2017-04-17T00:00:00",
          "2017-04-24T00:00:00",
          "2017-05-01T00:00:00",
          "2017-05-08T00:00:00",
          "2017-05-15T00:00:00",
          "2017-05-22T00:00:00",
          "2017-05-29T00:00:00",
          "2017-06-05T00:00:00",
          "2017-06-12T00:00:00",
          "2017-06-19T00:00:00",
          "2017-06-26T00:00:00",
          "2017-07-03T00:00:00",
          "2017-07-10T00:00:00",
          "2017-07-17T00:00:00",
          "2017-07-24T00:00:00",
          "2017-07-31T00:00:00",
          "2017-08-07T00:00:00",
          "2017-08-14T00:00:00",
          "2017-08-21T00:00:00",
          "2017-08-28T00:00:00",
          "2017-09-04T00:00:00",
          "2017-09-11T00:00:00",
          "2017-09-18T00:00:00",
          "2017-09-25T00:00:00",
          "2017-10-02T00:00:00",
          "2017-10-09T00:00:00",
          "2017-10-16T00:00:00",
          "2017-10-23T00:00:00",
          "2017-10-30T00:00:00",
          "2017-11-06T00:00:00",
          "2017-11-13T00:00:00",
          "2017-11-20T00:00:00",
          "2017-11-27T00:00:00",
          "2017-12-04T00:00:00",
          "2017-12-11T00:00:00",
          "2017-12-18T00:00:00",
          "2017-12-25T00:00:00",
          "2018-01-01T00:00:00",
          "2018-01-08T00:00:00",
          "2018-01-15T00:00:00",
          "2018-01-22T00:00:00",
          "2018-01-29T00:00:00",
          "2018-02-05T00:00:00",
          "2018-02-12T00:00:00",
          "2018-02-19T00:00:00",
          "2018-02-26T00:00:00",
          "2018-03-05T00:00:00",
          "2018-03-12T00:00:00",
          "2018-03-19T00:00:00",
          "2018-03-26T00:00:00",
          "2018-04-02T00:00:00",
          "2018-04-09T00:00:00",
          "2018-04-16T00:00:00",
          "2018-04-23T00:00:00",
          "2018-04-30T00:00:00",
          "2018-05-07T00:00:00",
          "2018-05-14T00:00:00",
          "2018-05-21T00:00:00",
          "2018-05-28T00:00:00",
          "2018-06-04T00:00:00",
          "2018-06-11T00:00:00",
          "2018-06-18T00:00:00",
          "2018-06-25T00:00:00",
          "2018-07-02T00:00:00",
          "2018-07-09T00:00:00",
          "2018-07-16T00:00:00",
          "2018-07-23T00:00:00",
          "2018-07-30T00:00:00",
          "2018-08-06T00:00:00",
          "2018-08-13T00:00:00",
          "2018-08-20T00:00:00",
          "2018-08-27T00:00:00",
          "2018-09-03T00:00:00",
          "2018-09-10T00:00:00",
          "2018-09-17T00:00:00",
          "2018-09-24T00:00:00",
          "2018-10-01T00:00:00",
          "2018-10-08T00:00:00",
          "2018-10-15T00:00:00",
          "2018-10-22T00:00:00",
          "2018-10-29T00:00:00"
         ],
         "xaxis": "x",
         "y": [
          null,
          null,
          null,
          null,
          null,
          null,
          null,
          null,
          null,
          null,
          null,
          null,
          null,
          null,
          null,
          null,
          null,
          null,
          null,
          null,
          null,
          null,
          null,
          null,
          null,
          null,
          3253.509615384615,
          3235.115384615385,
          3216.89423076923,
          3184.865384615385,
          3143.903846153847,
          3110.682692307692,
          3078.634615384615,
          3050.692307692308,
          3031.490384615385,
          3020.567307692308,
          3025.384615384615,
          3035,
          3048.826923076923,
          3063.423076923077,
          3072.038461538462,
          3075.653846153847,
          3073.288461538462,
          3066.5,
          3060.60576923077,
          3052.711538461539,
          3050.644230769231,
          3043.759615384615,
          3013.5,
          2959.778846153847,
          2901.211538461539,
          2859.269230769231,
          2831.413461538462,
          2811.096153846154,
          2798.336538461539,
          2789.365384615385,
          2779.269230769231,
          2767.221153846154,
          2749.451923076923,
          2727.846153846154,
          2711.644230769231,
          2702.971153846154,
          2709.423076923077,
          2726.096153846154,
          2737.932692307692,
          2749.98076923077,
          2748.432692307692,
          2749.75,
          2775.903846153846,
          2802.10576923077,
          2817.25,
          2825.846153846154,
          2833.807692307692,
          2836.259615384615,
          2838.163461538462,
          2842.759615384615,
          2844.365384615385,
          2840.009615384615,
          2833.807692307692,
          2819.288461538462,
          2791.134615384616,
          2767.432692307692,
          2750.076923076923,
          2720.567307692308,
          2693.009615384616,
          2673.865384615385,
          2659.423076923077,
          2646.89423076923,
          2629.759615384615,
          2616.336538461539,
          2608.644230769231,
          2608.903846153847,
          2618.798076923077,
          2633.557692307692,
          2647.528846153846,
          2664.528846153846,
          2688.711538461538,
          2717.105769230769,
          2744.89423076923,
          2767.326923076923,
          2784.64423076923,
          2810.769230769231,
          2842.721153846154,
          2860.346153846154,
          2872.115384615385,
          2890.769230769231,
          2906.586538461539,
          2920.701923076923,
          2939.221153846154,
          2967.394230769231,
          2999.759615384615,
          3026.528846153847,
          3048.596153846154,
          3064.221153846154,
          3071.067307692308,
          3075.528846153846,
          3084.75,
          3098.221153846154,
          3123.153846153847,
          3139.894230769231,
          3140.759615384616,
          3140.144230769231,
          3154.269230769231,
          3178.471153846154,
          3201.951923076923,
          3229.692307692308,
          3252.615384615385,
          3272.365384615385,
          3300.682692307692,
          3332.25,
          3341.586538461538,
          null,
          null,
          null,
          null,
          null,
          null,
          null,
          null,
          null,
          null,
          null,
          null,
          null,
          null,
          null,
          null,
          null,
          null,
          null,
          null,
          null,
          null,
          null,
          null,
          null,
          null
         ],
         "yaxis": "y"
        },
        {
         "hovertemplate": "variable=Seasonal<br>WEEK=%{x}<br>value=%{y}<extra></extra>",
         "legendgroup": "Seasonal",
         "line": {
          "color": "#00cc96",
          "dash": "solid"
         },
         "mode": "lines",
         "name": "Seasonal",
         "orientation": "v",
         "showlegend": true,
         "type": "scatter",
         "x": [
          "2015-11-02T00:00:00",
          "2015-11-09T00:00:00",
          "2015-11-16T00:00:00",
          "2015-11-23T00:00:00",
          "2015-11-30T00:00:00",
          "2015-12-07T00:00:00",
          "2015-12-14T00:00:00",
          "2015-12-21T00:00:00",
          "2015-12-28T00:00:00",
          "2016-01-04T00:00:00",
          "2016-01-11T00:00:00",
          "2016-01-18T00:00:00",
          "2016-01-25T00:00:00",
          "2016-02-01T00:00:00",
          "2016-02-08T00:00:00",
          "2016-02-15T00:00:00",
          "2016-02-22T00:00:00",
          "2016-02-29T00:00:00",
          "2016-03-07T00:00:00",
          "2016-03-14T00:00:00",
          "2016-03-21T00:00:00",
          "2016-03-28T00:00:00",
          "2016-04-04T00:00:00",
          "2016-04-11T00:00:00",
          "2016-04-18T00:00:00",
          "2016-04-25T00:00:00",
          "2016-05-02T00:00:00",
          "2016-05-09T00:00:00",
          "2016-05-16T00:00:00",
          "2016-05-23T00:00:00",
          "2016-05-30T00:00:00",
          "2016-06-06T00:00:00",
          "2016-06-13T00:00:00",
          "2016-06-20T00:00:00",
          "2016-06-27T00:00:00",
          "2016-07-04T00:00:00",
          "2016-07-11T00:00:00",
          "2016-07-18T00:00:00",
          "2016-07-25T00:00:00",
          "2016-08-01T00:00:00",
          "2016-08-08T00:00:00",
          "2016-08-15T00:00:00",
          "2016-08-22T00:00:00",
          "2016-08-29T00:00:00",
          "2016-09-05T00:00:00",
          "2016-09-12T00:00:00",
          "2016-09-19T00:00:00",
          "2016-09-26T00:00:00",
          "2016-10-03T00:00:00",
          "2016-10-10T00:00:00",
          "2016-10-17T00:00:00",
          "2016-10-24T00:00:00",
          "2016-10-31T00:00:00",
          "2016-11-07T00:00:00",
          "2016-11-14T00:00:00",
          "2016-11-21T00:00:00",
          "2016-11-28T00:00:00",
          "2016-12-05T00:00:00",
          "2016-12-12T00:00:00",
          "2016-12-19T00:00:00",
          "2016-12-26T00:00:00",
          "2017-01-02T00:00:00",
          "2017-01-09T00:00:00",
          "2017-01-16T00:00:00",
          "2017-01-23T00:00:00",
          "2017-01-30T00:00:00",
          "2017-02-06T00:00:00",
          "2017-02-13T00:00:00",
          "2017-02-20T00:00:00",
          "2017-02-27T00:00:00",
          "2017-03-06T00:00:00",
          "2017-03-13T00:00:00",
          "2017-03-20T00:00:00",
          "2017-03-27T00:00:00",
          "2017-04-03T00:00:00",
          "2017-04-10T00:00:00",
          "2017-04-17T00:00:00",
          "2017-04-24T00:00:00",
          "2017-05-01T00:00:00",
          "2017-05-08T00:00:00",
          "2017-05-15T00:00:00",
          "2017-05-22T00:00:00",
          "2017-05-29T00:00:00",
          "2017-06-05T00:00:00",
          "2017-06-12T00:00:00",
          "2017-06-19T00:00:00",
          "2017-06-26T00:00:00",
          "2017-07-03T00:00:00",
          "2017-07-10T00:00:00",
          "2017-07-17T00:00:00",
          "2017-07-24T00:00:00",
          "2017-07-31T00:00:00",
          "2017-08-07T00:00:00",
          "2017-08-14T00:00:00",
          "2017-08-21T00:00:00",
          "2017-08-28T00:00:00",
          "2017-09-04T00:00:00",
          "2017-09-11T00:00:00",
          "2017-09-18T00:00:00",
          "2017-09-25T00:00:00",
          "2017-10-02T00:00:00",
          "2017-10-09T00:00:00",
          "2017-10-16T00:00:00",
          "2017-10-23T00:00:00",
          "2017-10-30T00:00:00",
          "2017-11-06T00:00:00",
          "2017-11-13T00:00:00",
          "2017-11-20T00:00:00",
          "2017-11-27T00:00:00",
          "2017-12-04T00:00:00",
          "2017-12-11T00:00:00",
          "2017-12-18T00:00:00",
          "2017-12-25T00:00:00",
          "2018-01-01T00:00:00",
          "2018-01-08T00:00:00",
          "2018-01-15T00:00:00",
          "2018-01-22T00:00:00",
          "2018-01-29T00:00:00",
          "2018-02-05T00:00:00",
          "2018-02-12T00:00:00",
          "2018-02-19T00:00:00",
          "2018-02-26T00:00:00",
          "2018-03-05T00:00:00",
          "2018-03-12T00:00:00",
          "2018-03-19T00:00:00",
          "2018-03-26T00:00:00",
          "2018-04-02T00:00:00",
          "2018-04-09T00:00:00",
          "2018-04-16T00:00:00",
          "2018-04-23T00:00:00",
          "2018-04-30T00:00:00",
          "2018-05-07T00:00:00",
          "2018-05-14T00:00:00",
          "2018-05-21T00:00:00",
          "2018-05-28T00:00:00",
          "2018-06-04T00:00:00",
          "2018-06-11T00:00:00",
          "2018-06-18T00:00:00",
          "2018-06-25T00:00:00",
          "2018-07-02T00:00:00",
          "2018-07-09T00:00:00",
          "2018-07-16T00:00:00",
          "2018-07-23T00:00:00",
          "2018-07-30T00:00:00",
          "2018-08-06T00:00:00",
          "2018-08-13T00:00:00",
          "2018-08-20T00:00:00",
          "2018-08-27T00:00:00",
          "2018-09-03T00:00:00",
          "2018-09-10T00:00:00",
          "2018-09-17T00:00:00",
          "2018-09-24T00:00:00",
          "2018-10-01T00:00:00",
          "2018-10-08T00:00:00",
          "2018-10-15T00:00:00",
          "2018-10-22T00:00:00",
          "2018-10-29T00:00:00"
         ],
         "xaxis": "x",
         "y": [
          -81.690119575937,
          442.1416111932937,
          155.6127650394475,
          328.5406496548325,
          711.8291111932937,
          679.2666111932937,
          436.968534270217,
          266.8868035009861,
          -1255.045888806706,
          -124.0218503451677,
          312.329111193294,
          452.7618035009863,
          324.2329573471401,
          324.9733419625244,
          -180.2189657297832,
          -318.7478118836291,
          -670.7574272682447,
          -354.5506964990139,
          -451.6853118836291,
          -358.5843503451677,
          -394.3055041913213,
          -852.9016580374754,
          -334.815119575937,
          -357.4881964990137,
          38.05026503944775,
          448.9444958086787,
          556.7730214497044,
          435.872380424063,
          349.5598804240632,
          -133.0747349605522,
          347.0839188856013,
          447.9493035009863,
          807.7521881163708,
          687.7954573471399,
          671.1175727317553,
          5.843534270217262,
          332.5021881163711,
          -47.59396572978297,
          20.83872657790941,
          -393.0891580374756,
          -922.8439657297832,
          100.4685342702168,
          295.6656496548323,
          458.0598804240632,
          -610.5843503451675,
          -365.8343503451675,
          -322.6949272682444,
          -382.9689657297827,
          -328.4978118836289,
          -717.6997349605525,
          -486.8920426528601,
          6.766611193293713,
          -81.690119575937,
          442.1416111932937,
          155.6127650394475,
          328.5406496548325,
          711.8291111932937,
          679.2666111932937,
          436.968534270217,
          266.8868035009861,
          -1255.045888806706,
          -124.0218503451677,
          312.329111193294,
          452.7618035009863,
          324.2329573471401,
          324.9733419625244,
          -180.2189657297832,
          -318.7478118836291,
          -670.7574272682447,
          -354.5506964990139,
          -451.6853118836291,
          -358.5843503451677,
          -394.3055041913213,
          -852.9016580374754,
          -334.815119575937,
          -357.4881964990137,
          38.05026503944775,
          448.9444958086787,
          556.7730214497044,
          435.872380424063,
          349.5598804240632,
          -133.0747349605522,
          347.0839188856013,
          447.9493035009863,
          807.7521881163708,
          687.7954573471399,
          671.1175727317553,
          5.843534270217262,
          332.5021881163711,
          -47.59396572978297,
          20.83872657790941,
          -393.0891580374756,
          -922.8439657297832,
          100.4685342702168,
          295.6656496548323,
          458.0598804240632,
          -610.5843503451675,
          -365.8343503451675,
          -322.6949272682444,
          -382.9689657297827,
          -328.4978118836289,
          -717.6997349605525,
          -486.8920426528601,
          6.766611193293713,
          -81.690119575937,
          442.1416111932937,
          155.6127650394475,
          328.5406496548325,
          711.8291111932937,
          679.2666111932937,
          436.968534270217,
          266.8868035009861,
          -1255.045888806706,
          -124.0218503451677,
          312.329111193294,
          452.7618035009863,
          324.2329573471401,
          324.9733419625244,
          -180.2189657297832,
          -318.7478118836291,
          -670.7574272682447,
          -354.5506964990139,
          -451.6853118836291,
          -358.5843503451677,
          -394.3055041913213,
          -852.9016580374754,
          -334.815119575937,
          -357.4881964990137,
          38.05026503944775,
          448.9444958086787,
          556.7730214497044,
          435.872380424063,
          349.5598804240632,
          -133.0747349605522,
          347.0839188856013,
          447.9493035009863,
          807.7521881163708,
          687.7954573471399,
          671.1175727317553,
          5.843534270217262,
          332.5021881163711,
          -47.59396572978297,
          20.83872657790941,
          -393.0891580374756,
          -922.8439657297832,
          100.4685342702168,
          295.6656496548323,
          458.0598804240632,
          -610.5843503451675,
          -365.8343503451675,
          -322.6949272682444,
          -382.9689657297827,
          -328.4978118836289,
          -717.6997349605525,
          -486.8920426528601,
          6.766611193293713,
          -81.690119575937
         ],
         "yaxis": "y"
        }
       ],
       "layout": {
        "legend": {
         "title": {
          "text": "variable"
         },
         "tracegroupgap": 0
        },
        "margin": {
         "t": 60
        },
        "template": {
         "data": {
          "bar": [
           {
            "error_x": {
             "color": "#2a3f5f"
            },
            "error_y": {
             "color": "#2a3f5f"
            },
            "marker": {
             "line": {
              "color": "#E5ECF6",
              "width": 0.5
             }
            },
            "type": "bar"
           }
          ],
          "barpolar": [
           {
            "marker": {
             "line": {
              "color": "#E5ECF6",
              "width": 0.5
             }
            },
            "type": "barpolar"
           }
          ],
          "carpet": [
           {
            "aaxis": {
             "endlinecolor": "#2a3f5f",
             "gridcolor": "white",
             "linecolor": "white",
             "minorgridcolor": "white",
             "startlinecolor": "#2a3f5f"
            },
            "baxis": {
             "endlinecolor": "#2a3f5f",
             "gridcolor": "white",
             "linecolor": "white",
             "minorgridcolor": "white",
             "startlinecolor": "#2a3f5f"
            },
            "type": "carpet"
           }
          ],
          "choropleth": [
           {
            "colorbar": {
             "outlinewidth": 0,
             "ticks": ""
            },
            "type": "choropleth"
           }
          ],
          "contour": [
           {
            "colorbar": {
             "outlinewidth": 0,
             "ticks": ""
            },
            "colorscale": [
             [
              0,
              "#0d0887"
             ],
             [
              0.1111111111111111,
              "#46039f"
             ],
             [
              0.2222222222222222,
              "#7201a8"
             ],
             [
              0.3333333333333333,
              "#9c179e"
             ],
             [
              0.4444444444444444,
              "#bd3786"
             ],
             [
              0.5555555555555556,
              "#d8576b"
             ],
             [
              0.6666666666666666,
              "#ed7953"
             ],
             [
              0.7777777777777778,
              "#fb9f3a"
             ],
             [
              0.8888888888888888,
              "#fdca26"
             ],
             [
              1,
              "#f0f921"
             ]
            ],
            "type": "contour"
           }
          ],
          "contourcarpet": [
           {
            "colorbar": {
             "outlinewidth": 0,
             "ticks": ""
            },
            "type": "contourcarpet"
           }
          ],
          "heatmap": [
           {
            "colorbar": {
             "outlinewidth": 0,
             "ticks": ""
            },
            "colorscale": [
             [
              0,
              "#0d0887"
             ],
             [
              0.1111111111111111,
              "#46039f"
             ],
             [
              0.2222222222222222,
              "#7201a8"
             ],
             [
              0.3333333333333333,
              "#9c179e"
             ],
             [
              0.4444444444444444,
              "#bd3786"
             ],
             [
              0.5555555555555556,
              "#d8576b"
             ],
             [
              0.6666666666666666,
              "#ed7953"
             ],
             [
              0.7777777777777778,
              "#fb9f3a"
             ],
             [
              0.8888888888888888,
              "#fdca26"
             ],
             [
              1,
              "#f0f921"
             ]
            ],
            "type": "heatmap"
           }
          ],
          "heatmapgl": [
           {
            "colorbar": {
             "outlinewidth": 0,
             "ticks": ""
            },
            "colorscale": [
             [
              0,
              "#0d0887"
             ],
             [
              0.1111111111111111,
              "#46039f"
             ],
             [
              0.2222222222222222,
              "#7201a8"
             ],
             [
              0.3333333333333333,
              "#9c179e"
             ],
             [
              0.4444444444444444,
              "#bd3786"
             ],
             [
              0.5555555555555556,
              "#d8576b"
             ],
             [
              0.6666666666666666,
              "#ed7953"
             ],
             [
              0.7777777777777778,
              "#fb9f3a"
             ],
             [
              0.8888888888888888,
              "#fdca26"
             ],
             [
              1,
              "#f0f921"
             ]
            ],
            "type": "heatmapgl"
           }
          ],
          "histogram": [
           {
            "marker": {
             "colorbar": {
              "outlinewidth": 0,
              "ticks": ""
             }
            },
            "type": "histogram"
           }
          ],
          "histogram2d": [
           {
            "colorbar": {
             "outlinewidth": 0,
             "ticks": ""
            },
            "colorscale": [
             [
              0,
              "#0d0887"
             ],
             [
              0.1111111111111111,
              "#46039f"
             ],
             [
              0.2222222222222222,
              "#7201a8"
             ],
             [
              0.3333333333333333,
              "#9c179e"
             ],
             [
              0.4444444444444444,
              "#bd3786"
             ],
             [
              0.5555555555555556,
              "#d8576b"
             ],
             [
              0.6666666666666666,
              "#ed7953"
             ],
             [
              0.7777777777777778,
              "#fb9f3a"
             ],
             [
              0.8888888888888888,
              "#fdca26"
             ],
             [
              1,
              "#f0f921"
             ]
            ],
            "type": "histogram2d"
           }
          ],
          "histogram2dcontour": [
           {
            "colorbar": {
             "outlinewidth": 0,
             "ticks": ""
            },
            "colorscale": [
             [
              0,
              "#0d0887"
             ],
             [
              0.1111111111111111,
              "#46039f"
             ],
             [
              0.2222222222222222,
              "#7201a8"
             ],
             [
              0.3333333333333333,
              "#9c179e"
             ],
             [
              0.4444444444444444,
              "#bd3786"
             ],
             [
              0.5555555555555556,
              "#d8576b"
             ],
             [
              0.6666666666666666,
              "#ed7953"
             ],
             [
              0.7777777777777778,
              "#fb9f3a"
             ],
             [
              0.8888888888888888,
              "#fdca26"
             ],
             [
              1,
              "#f0f921"
             ]
            ],
            "type": "histogram2dcontour"
           }
          ],
          "mesh3d": [
           {
            "colorbar": {
             "outlinewidth": 0,
             "ticks": ""
            },
            "type": "mesh3d"
           }
          ],
          "parcoords": [
           {
            "line": {
             "colorbar": {
              "outlinewidth": 0,
              "ticks": ""
             }
            },
            "type": "parcoords"
           }
          ],
          "pie": [
           {
            "automargin": true,
            "type": "pie"
           }
          ],
          "scatter": [
           {
            "marker": {
             "colorbar": {
              "outlinewidth": 0,
              "ticks": ""
             }
            },
            "type": "scatter"
           }
          ],
          "scatter3d": [
           {
            "line": {
             "colorbar": {
              "outlinewidth": 0,
              "ticks": ""
             }
            },
            "marker": {
             "colorbar": {
              "outlinewidth": 0,
              "ticks": ""
             }
            },
            "type": "scatter3d"
           }
          ],
          "scattercarpet": [
           {
            "marker": {
             "colorbar": {
              "outlinewidth": 0,
              "ticks": ""
             }
            },
            "type": "scattercarpet"
           }
          ],
          "scattergeo": [
           {
            "marker": {
             "colorbar": {
              "outlinewidth": 0,
              "ticks": ""
             }
            },
            "type": "scattergeo"
           }
          ],
          "scattergl": [
           {
            "marker": {
             "colorbar": {
              "outlinewidth": 0,
              "ticks": ""
             }
            },
            "type": "scattergl"
           }
          ],
          "scattermapbox": [
           {
            "marker": {
             "colorbar": {
              "outlinewidth": 0,
              "ticks": ""
             }
            },
            "type": "scattermapbox"
           }
          ],
          "scatterpolar": [
           {
            "marker": {
             "colorbar": {
              "outlinewidth": 0,
              "ticks": ""
             }
            },
            "type": "scatterpolar"
           }
          ],
          "scatterpolargl": [
           {
            "marker": {
             "colorbar": {
              "outlinewidth": 0,
              "ticks": ""
             }
            },
            "type": "scatterpolargl"
           }
          ],
          "scatterternary": [
           {
            "marker": {
             "colorbar": {
              "outlinewidth": 0,
              "ticks": ""
             }
            },
            "type": "scatterternary"
           }
          ],
          "surface": [
           {
            "colorbar": {
             "outlinewidth": 0,
             "ticks": ""
            },
            "colorscale": [
             [
              0,
              "#0d0887"
             ],
             [
              0.1111111111111111,
              "#46039f"
             ],
             [
              0.2222222222222222,
              "#7201a8"
             ],
             [
              0.3333333333333333,
              "#9c179e"
             ],
             [
              0.4444444444444444,
              "#bd3786"
             ],
             [
              0.5555555555555556,
              "#d8576b"
             ],
             [
              0.6666666666666666,
              "#ed7953"
             ],
             [
              0.7777777777777778,
              "#fb9f3a"
             ],
             [
              0.8888888888888888,
              "#fdca26"
             ],
             [
              1,
              "#f0f921"
             ]
            ],
            "type": "surface"
           }
          ],
          "table": [
           {
            "cells": {
             "fill": {
              "color": "#EBF0F8"
             },
             "line": {
              "color": "white"
             }
            },
            "header": {
             "fill": {
              "color": "#C8D4E3"
             },
             "line": {
              "color": "white"
             }
            },
            "type": "table"
           }
          ]
         },
         "layout": {
          "annotationdefaults": {
           "arrowcolor": "#2a3f5f",
           "arrowhead": 0,
           "arrowwidth": 1
          },
          "autotypenumbers": "strict",
          "coloraxis": {
           "colorbar": {
            "outlinewidth": 0,
            "ticks": ""
           }
          },
          "colorscale": {
           "diverging": [
            [
             0,
             "#8e0152"
            ],
            [
             0.1,
             "#c51b7d"
            ],
            [
             0.2,
             "#de77ae"
            ],
            [
             0.3,
             "#f1b6da"
            ],
            [
             0.4,
             "#fde0ef"
            ],
            [
             0.5,
             "#f7f7f7"
            ],
            [
             0.6,
             "#e6f5d0"
            ],
            [
             0.7,
             "#b8e186"
            ],
            [
             0.8,
             "#7fbc41"
            ],
            [
             0.9,
             "#4d9221"
            ],
            [
             1,
             "#276419"
            ]
           ],
           "sequential": [
            [
             0,
             "#0d0887"
            ],
            [
             0.1111111111111111,
             "#46039f"
            ],
            [
             0.2222222222222222,
             "#7201a8"
            ],
            [
             0.3333333333333333,
             "#9c179e"
            ],
            [
             0.4444444444444444,
             "#bd3786"
            ],
            [
             0.5555555555555556,
             "#d8576b"
            ],
            [
             0.6666666666666666,
             "#ed7953"
            ],
            [
             0.7777777777777778,
             "#fb9f3a"
            ],
            [
             0.8888888888888888,
             "#fdca26"
            ],
            [
             1,
             "#f0f921"
            ]
           ],
           "sequentialminus": [
            [
             0,
             "#0d0887"
            ],
            [
             0.1111111111111111,
             "#46039f"
            ],
            [
             0.2222222222222222,
             "#7201a8"
            ],
            [
             0.3333333333333333,
             "#9c179e"
            ],
            [
             0.4444444444444444,
             "#bd3786"
            ],
            [
             0.5555555555555556,
             "#d8576b"
            ],
            [
             0.6666666666666666,
             "#ed7953"
            ],
            [
             0.7777777777777778,
             "#fb9f3a"
            ],
            [
             0.8888888888888888,
             "#fdca26"
            ],
            [
             1,
             "#f0f921"
            ]
           ]
          },
          "colorway": [
           "#636efa",
           "#EF553B",
           "#00cc96",
           "#ab63fa",
           "#FFA15A",
           "#19d3f3",
           "#FF6692",
           "#B6E880",
           "#FF97FF",
           "#FECB52"
          ],
          "font": {
           "color": "#2a3f5f"
          },
          "geo": {
           "bgcolor": "white",
           "lakecolor": "white",
           "landcolor": "#E5ECF6",
           "showlakes": true,
           "showland": true,
           "subunitcolor": "white"
          },
          "hoverlabel": {
           "align": "left"
          },
          "hovermode": "closest",
          "mapbox": {
           "style": "light"
          },
          "paper_bgcolor": "white",
          "plot_bgcolor": "#E5ECF6",
          "polar": {
           "angularaxis": {
            "gridcolor": "white",
            "linecolor": "white",
            "ticks": ""
           },
           "bgcolor": "#E5ECF6",
           "radialaxis": {
            "gridcolor": "white",
            "linecolor": "white",
            "ticks": ""
           }
          },
          "scene": {
           "xaxis": {
            "backgroundcolor": "#E5ECF6",
            "gridcolor": "white",
            "gridwidth": 2,
            "linecolor": "white",
            "showbackground": true,
            "ticks": "",
            "zerolinecolor": "white"
           },
           "yaxis": {
            "backgroundcolor": "#E5ECF6",
            "gridcolor": "white",
            "gridwidth": 2,
            "linecolor": "white",
            "showbackground": true,
            "ticks": "",
            "zerolinecolor": "white"
           },
           "zaxis": {
            "backgroundcolor": "#E5ECF6",
            "gridcolor": "white",
            "gridwidth": 2,
            "linecolor": "white",
            "showbackground": true,
            "ticks": "",
            "zerolinecolor": "white"
           }
          },
          "shapedefaults": {
           "line": {
            "color": "#2a3f5f"
           }
          },
          "ternary": {
           "aaxis": {
            "gridcolor": "white",
            "linecolor": "white",
            "ticks": ""
           },
           "baxis": {
            "gridcolor": "white",
            "linecolor": "white",
            "ticks": ""
           },
           "bgcolor": "#E5ECF6",
           "caxis": {
            "gridcolor": "white",
            "linecolor": "white",
            "ticks": ""
           }
          },
          "title": {
           "x": 0.05
          },
          "xaxis": {
           "automargin": true,
           "gridcolor": "white",
           "linecolor": "white",
           "ticks": "",
           "title": {
            "standoff": 15
           },
           "zerolinecolor": "white",
           "zerolinewidth": 2
          },
          "yaxis": {
           "automargin": true,
           "gridcolor": "white",
           "linecolor": "white",
           "ticks": "",
           "title": {
            "standoff": 15
           },
           "zerolinecolor": "white",
           "zerolinewidth": 2
          }
         }
        },
        "title": {
         "text": "Historical sales with trend and seasonality"
        },
        "xaxis": {
         "anchor": "y",
         "domain": [
          0,
          1
         ],
         "title": {
          "text": "WEEK"
         }
        },
        "yaxis": {
         "anchor": "x",
         "domain": [
          0,
          1
         ],
         "title": {
          "text": "Amount $"
         }
        }
       }
      },
      "text/html": [
       "<div>                            <div id=\"f7aa5e8f-e106-4bd2-9802-e2fed8424e4b\" class=\"plotly-graph-div\" style=\"height:525px; width:100%;\"></div>            <script type=\"text/javascript\">                require([\"plotly\"], function(Plotly) {                    window.PLOTLYENV=window.PLOTLYENV || {};                                    if (document.getElementById(\"f7aa5e8f-e106-4bd2-9802-e2fed8424e4b\")) {                    Plotly.newPlot(                        \"f7aa5e8f-e106-4bd2-9802-e2fed8424e4b\",                        [{\"hovertemplate\": \"variable=Observed<br>WEEK=%{x}<br>value=%{y}<extra></extra>\", \"legendgroup\": \"Observed\", \"line\": {\"color\": \"#636efa\", \"dash\": \"solid\"}, \"mode\": \"lines\", \"name\": \"Observed\", \"orientation\": \"v\", \"showlegend\": true, \"type\": \"scatter\", \"x\": [\"2015-11-02T00:00:00\", \"2015-11-09T00:00:00\", \"2015-11-16T00:00:00\", \"2015-11-23T00:00:00\", \"2015-11-30T00:00:00\", \"2015-12-07T00:00:00\", \"2015-12-14T00:00:00\", \"2015-12-21T00:00:00\", \"2015-12-28T00:00:00\", \"2016-01-04T00:00:00\", \"2016-01-11T00:00:00\", \"2016-01-18T00:00:00\", \"2016-01-25T00:00:00\", \"2016-02-01T00:00:00\", \"2016-02-08T00:00:00\", \"2016-02-15T00:00:00\", \"2016-02-22T00:00:00\", \"2016-02-29T00:00:00\", \"2016-03-07T00:00:00\", \"2016-03-14T00:00:00\", \"2016-03-21T00:00:00\", \"2016-03-28T00:00:00\", \"2016-04-04T00:00:00\", \"2016-04-11T00:00:00\", \"2016-04-18T00:00:00\", \"2016-04-25T00:00:00\", \"2016-05-02T00:00:00\", \"2016-05-09T00:00:00\", \"2016-05-16T00:00:00\", \"2016-05-23T00:00:00\", \"2016-05-30T00:00:00\", \"2016-06-06T00:00:00\", \"2016-06-13T00:00:00\", \"2016-06-20T00:00:00\", \"2016-06-27T00:00:00\", \"2016-07-04T00:00:00\", \"2016-07-11T00:00:00\", \"2016-07-18T00:00:00\", \"2016-07-25T00:00:00\", \"2016-08-01T00:00:00\", \"2016-08-08T00:00:00\", \"2016-08-15T00:00:00\", \"2016-08-22T00:00:00\", \"2016-08-29T00:00:00\", \"2016-09-05T00:00:00\", \"2016-09-12T00:00:00\", \"2016-09-19T00:00:00\", \"2016-09-26T00:00:00\", \"2016-10-03T00:00:00\", \"2016-10-10T00:00:00\", \"2016-10-17T00:00:00\", \"2016-10-24T00:00:00\", \"2016-10-31T00:00:00\", \"2016-11-07T00:00:00\", \"2016-11-14T00:00:00\", \"2016-11-21T00:00:00\", \"2016-11-28T00:00:00\", \"2016-12-05T00:00:00\", \"2016-12-12T00:00:00\", \"2016-12-19T00:00:00\", \"2016-12-26T00:00:00\", \"2017-01-02T00:00:00\", \"2017-01-09T00:00:00\", \"2017-01-16T00:00:00\", \"2017-01-23T00:00:00\", \"2017-01-30T00:00:00\", \"2017-02-06T00:00:00\", \"2017-02-13T00:00:00\", \"2017-02-20T00:00:00\", \"2017-02-27T00:00:00\", \"2017-03-06T00:00:00\", \"2017-03-13T00:00:00\", \"2017-03-20T00:00:00\", \"2017-03-27T00:00:00\", \"2017-04-03T00:00:00\", \"2017-04-10T00:00:00\", \"2017-04-17T00:00:00\", \"2017-04-24T00:00:00\", \"2017-05-01T00:00:00\", \"2017-05-08T00:00:00\", \"2017-05-15T00:00:00\", \"2017-05-22T00:00:00\", \"2017-05-29T00:00:00\", \"2017-06-05T00:00:00\", \"2017-06-12T00:00:00\", \"2017-06-19T00:00:00\", \"2017-06-26T00:00:00\", \"2017-07-03T00:00:00\", \"2017-07-10T00:00:00\", \"2017-07-17T00:00:00\", \"2017-07-24T00:00:00\", \"2017-07-31T00:00:00\", \"2017-08-07T00:00:00\", \"2017-08-14T00:00:00\", \"2017-08-21T00:00:00\", \"2017-08-28T00:00:00\", \"2017-09-04T00:00:00\", \"2017-09-11T00:00:00\", \"2017-09-18T00:00:00\", \"2017-09-25T00:00:00\", \"2017-10-02T00:00:00\", \"2017-10-09T00:00:00\", \"2017-10-16T00:00:00\", \"2017-10-23T00:00:00\", \"2017-10-30T00:00:00\", \"2017-11-06T00:00:00\", \"2017-11-13T00:00:00\", \"2017-11-20T00:00:00\", \"2017-11-27T00:00:00\", \"2017-12-04T00:00:00\", \"2017-12-11T00:00:00\", \"2017-12-18T00:00:00\", \"2017-12-25T00:00:00\", \"2018-01-01T00:00:00\", \"2018-01-08T00:00:00\", \"2018-01-15T00:00:00\", \"2018-01-22T00:00:00\", \"2018-01-29T00:00:00\", \"2018-02-05T00:00:00\", \"2018-02-12T00:00:00\", \"2018-02-19T00:00:00\", \"2018-02-26T00:00:00\", \"2018-03-05T00:00:00\", \"2018-03-12T00:00:00\", \"2018-03-19T00:00:00\", \"2018-03-26T00:00:00\", \"2018-04-02T00:00:00\", \"2018-04-09T00:00:00\", \"2018-04-16T00:00:00\", \"2018-04-23T00:00:00\", \"2018-04-30T00:00:00\", \"2018-05-07T00:00:00\", \"2018-05-14T00:00:00\", \"2018-05-21T00:00:00\", \"2018-05-28T00:00:00\", \"2018-06-04T00:00:00\", \"2018-06-11T00:00:00\", \"2018-06-18T00:00:00\", \"2018-06-25T00:00:00\", \"2018-07-02T00:00:00\", \"2018-07-09T00:00:00\", \"2018-07-16T00:00:00\", \"2018-07-23T00:00:00\", \"2018-07-30T00:00:00\", \"2018-08-06T00:00:00\", \"2018-08-13T00:00:00\", \"2018-08-20T00:00:00\", \"2018-08-27T00:00:00\", \"2018-09-03T00:00:00\", \"2018-09-10T00:00:00\", \"2018-09-17T00:00:00\", \"2018-09-24T00:00:00\", \"2018-10-01T00:00:00\", \"2018-10-08T00:00:00\", \"2018-10-15T00:00:00\", \"2018-10-22T00:00:00\", \"2018-10-29T00:00:00\"], \"xaxis\": \"x\", \"y\": [4288.0, 4321.0, 5217.0, 5416.0, 6379.0, 5606.0, 5896.0, 4339.0, 3056.0, 2994.0, 3236.0, 2896.0, 2533.0, 2298.0, 2174.0, 1942.0, 2369.0, 2235.0, 2149.0, 2251.0, 1664.0, 2567.0, 4448.0, 5069.0, 5049.0, 4920.0, 4198.0, 3809.0, 3549.0, 2992.0, 3548.0, 3614.0, 4245.0, 4000.0, 3787.0, 2898.0, 2644.0, 2305.0, 2585.0, 1959.0, 2365.0, 2322.0, 2307.0, 2688.0, 1990.0, 2224.0, 2334.0, 2514.0, 2358.0, 2019.0, 2328.0, 3028.0, 2809.0, 3887.0, 3756.0, 3546.0, 3989.0, 4541.0, 3628.0, 3701.0, 1697.0, 3217.0, 3514.0, 3618.0, 3249.0, 3100.0, 2268.0, 2224.0, 1841.0, 2057.0, 1714.0, 1865.0, 1835.0, 1680.0, 2188.0, 1742.0, 2285.0, 3322.0, 2899.0, 2995.0, 3036.0, 2572.0, 2918.0, 2991.0, 3020.0, 2978.0, 3124.0, 2659.0, 3554.0, 3129.0, 2992.0, 2805.0, 1358.0, 3466.0, 3883.0, 3837.0, 2416.0, 2692.0, 2694.0, 2409.0, 2661.0, 2194.0, 2320.0, 2583.0, 2609.0, 2577.0, 2138.0, 2699.0, 3031.0, 2430.0, 2873.0, 2465.0, 1431.0, 2180.0, 2769.0, 2967.0, 3100.0, 3276.0, 3121.0, 2906.0, 2612.0, 3054.0, 3232.0, 3300.0, 3290.0, 2558.0, 3111.0, 3536.0, 3814.0, 3626.0, 3819.0, 4015.0, 3661.0, 3415.0, 4001.0, 4838.0, 4539.0, 4243.0, 4154.0, 3254.0, 3671.0, 3476.0, 3604.0, 3594.0, 3162.0, 3403.0, 4036.0, 3620.0, 4102.0, 3523.0, 4305.0, 3683.0, 3771.0, 3138.0, 4321.0, 3865.0, 2298.0], \"yaxis\": \"y\"}, {\"hovertemplate\": \"variable=Trend<br>WEEK=%{x}<br>value=%{y}<extra></extra>\", \"legendgroup\": \"Trend\", \"line\": {\"color\": \"#EF553B\", \"dash\": \"solid\"}, \"mode\": \"lines\", \"name\": \"Trend\", \"orientation\": \"v\", \"showlegend\": true, \"type\": \"scatter\", \"x\": [\"2015-11-02T00:00:00\", \"2015-11-09T00:00:00\", \"2015-11-16T00:00:00\", \"2015-11-23T00:00:00\", \"2015-11-30T00:00:00\", \"2015-12-07T00:00:00\", \"2015-12-14T00:00:00\", \"2015-12-21T00:00:00\", \"2015-12-28T00:00:00\", \"2016-01-04T00:00:00\", \"2016-01-11T00:00:00\", \"2016-01-18T00:00:00\", \"2016-01-25T00:00:00\", \"2016-02-01T00:00:00\", \"2016-02-08T00:00:00\", \"2016-02-15T00:00:00\", \"2016-02-22T00:00:00\", \"2016-02-29T00:00:00\", \"2016-03-07T00:00:00\", \"2016-03-14T00:00:00\", \"2016-03-21T00:00:00\", \"2016-03-28T00:00:00\", \"2016-04-04T00:00:00\", \"2016-04-11T00:00:00\", \"2016-04-18T00:00:00\", \"2016-04-25T00:00:00\", \"2016-05-02T00:00:00\", \"2016-05-09T00:00:00\", \"2016-05-16T00:00:00\", \"2016-05-23T00:00:00\", \"2016-05-30T00:00:00\", \"2016-06-06T00:00:00\", \"2016-06-13T00:00:00\", \"2016-06-20T00:00:00\", \"2016-06-27T00:00:00\", \"2016-07-04T00:00:00\", \"2016-07-11T00:00:00\", \"2016-07-18T00:00:00\", \"2016-07-25T00:00:00\", \"2016-08-01T00:00:00\", \"2016-08-08T00:00:00\", \"2016-08-15T00:00:00\", \"2016-08-22T00:00:00\", \"2016-08-29T00:00:00\", \"2016-09-05T00:00:00\", \"2016-09-12T00:00:00\", \"2016-09-19T00:00:00\", \"2016-09-26T00:00:00\", \"2016-10-03T00:00:00\", \"2016-10-10T00:00:00\", \"2016-10-17T00:00:00\", \"2016-10-24T00:00:00\", \"2016-10-31T00:00:00\", \"2016-11-07T00:00:00\", \"2016-11-14T00:00:00\", \"2016-11-21T00:00:00\", \"2016-11-28T00:00:00\", \"2016-12-05T00:00:00\", \"2016-12-12T00:00:00\", \"2016-12-19T00:00:00\", \"2016-12-26T00:00:00\", \"2017-01-02T00:00:00\", \"2017-01-09T00:00:00\", \"2017-01-16T00:00:00\", \"2017-01-23T00:00:00\", \"2017-01-30T00:00:00\", \"2017-02-06T00:00:00\", \"2017-02-13T00:00:00\", \"2017-02-20T00:00:00\", \"2017-02-27T00:00:00\", \"2017-03-06T00:00:00\", \"2017-03-13T00:00:00\", \"2017-03-20T00:00:00\", \"2017-03-27T00:00:00\", \"2017-04-03T00:00:00\", \"2017-04-10T00:00:00\", \"2017-04-17T00:00:00\", \"2017-04-24T00:00:00\", \"2017-05-01T00:00:00\", \"2017-05-08T00:00:00\", \"2017-05-15T00:00:00\", \"2017-05-22T00:00:00\", \"2017-05-29T00:00:00\", \"2017-06-05T00:00:00\", \"2017-06-12T00:00:00\", \"2017-06-19T00:00:00\", \"2017-06-26T00:00:00\", \"2017-07-03T00:00:00\", \"2017-07-10T00:00:00\", \"2017-07-17T00:00:00\", \"2017-07-24T00:00:00\", \"2017-07-31T00:00:00\", \"2017-08-07T00:00:00\", \"2017-08-14T00:00:00\", \"2017-08-21T00:00:00\", \"2017-08-28T00:00:00\", \"2017-09-04T00:00:00\", \"2017-09-11T00:00:00\", \"2017-09-18T00:00:00\", \"2017-09-25T00:00:00\", \"2017-10-02T00:00:00\", \"2017-10-09T00:00:00\", \"2017-10-16T00:00:00\", \"2017-10-23T00:00:00\", \"2017-10-30T00:00:00\", \"2017-11-06T00:00:00\", \"2017-11-13T00:00:00\", \"2017-11-20T00:00:00\", \"2017-11-27T00:00:00\", \"2017-12-04T00:00:00\", \"2017-12-11T00:00:00\", \"2017-12-18T00:00:00\", \"2017-12-25T00:00:00\", \"2018-01-01T00:00:00\", \"2018-01-08T00:00:00\", \"2018-01-15T00:00:00\", \"2018-01-22T00:00:00\", \"2018-01-29T00:00:00\", \"2018-02-05T00:00:00\", \"2018-02-12T00:00:00\", \"2018-02-19T00:00:00\", \"2018-02-26T00:00:00\", \"2018-03-05T00:00:00\", \"2018-03-12T00:00:00\", \"2018-03-19T00:00:00\", \"2018-03-26T00:00:00\", \"2018-04-02T00:00:00\", \"2018-04-09T00:00:00\", \"2018-04-16T00:00:00\", \"2018-04-23T00:00:00\", \"2018-04-30T00:00:00\", \"2018-05-07T00:00:00\", \"2018-05-14T00:00:00\", \"2018-05-21T00:00:00\", \"2018-05-28T00:00:00\", \"2018-06-04T00:00:00\", \"2018-06-11T00:00:00\", \"2018-06-18T00:00:00\", \"2018-06-25T00:00:00\", \"2018-07-02T00:00:00\", \"2018-07-09T00:00:00\", \"2018-07-16T00:00:00\", \"2018-07-23T00:00:00\", \"2018-07-30T00:00:00\", \"2018-08-06T00:00:00\", \"2018-08-13T00:00:00\", \"2018-08-20T00:00:00\", \"2018-08-27T00:00:00\", \"2018-09-03T00:00:00\", \"2018-09-10T00:00:00\", \"2018-09-17T00:00:00\", \"2018-09-24T00:00:00\", \"2018-10-01T00:00:00\", \"2018-10-08T00:00:00\", \"2018-10-15T00:00:00\", \"2018-10-22T00:00:00\", \"2018-10-29T00:00:00\"], \"xaxis\": \"x\", \"y\": [null, null, null, null, null, null, null, null, null, null, null, null, null, null, null, null, null, null, null, null, null, null, null, null, null, null, 3253.509615384615, 3235.115384615385, 3216.89423076923, 3184.865384615385, 3143.903846153847, 3110.682692307692, 3078.634615384615, 3050.692307692308, 3031.490384615385, 3020.567307692308, 3025.384615384615, 3035.0, 3048.826923076923, 3063.423076923077, 3072.038461538462, 3075.653846153847, 3073.288461538462, 3066.5, 3060.60576923077, 3052.711538461539, 3050.644230769231, 3043.759615384615, 3013.5, 2959.778846153847, 2901.211538461539, 2859.269230769231, 2831.413461538462, 2811.096153846154, 2798.336538461539, 2789.365384615385, 2779.269230769231, 2767.221153846154, 2749.451923076923, 2727.846153846154, 2711.644230769231, 2702.971153846154, 2709.423076923077, 2726.096153846154, 2737.932692307692, 2749.98076923077, 2748.432692307692, 2749.75, 2775.903846153846, 2802.10576923077, 2817.25, 2825.846153846154, 2833.807692307692, 2836.259615384615, 2838.163461538462, 2842.759615384615, 2844.365384615385, 2840.009615384615, 2833.807692307692, 2819.288461538462, 2791.134615384616, 2767.432692307692, 2750.076923076923, 2720.567307692308, 2693.009615384616, 2673.865384615385, 2659.423076923077, 2646.89423076923, 2629.759615384615, 2616.336538461539, 2608.644230769231, 2608.903846153847, 2618.798076923077, 2633.557692307692, 2647.528846153846, 2664.528846153846, 2688.711538461538, 2717.105769230769, 2744.89423076923, 2767.326923076923, 2784.64423076923, 2810.769230769231, 2842.721153846154, 2860.346153846154, 2872.115384615385, 2890.769230769231, 2906.586538461539, 2920.701923076923, 2939.221153846154, 2967.394230769231, 2999.759615384615, 3026.528846153847, 3048.596153846154, 3064.221153846154, 3071.067307692308, 3075.528846153846, 3084.75, 3098.221153846154, 3123.153846153847, 3139.894230769231, 3140.759615384616, 3140.144230769231, 3154.269230769231, 3178.471153846154, 3201.951923076923, 3229.692307692308, 3252.615384615385, 3272.365384615385, 3300.682692307692, 3332.25, 3341.586538461538, null, null, null, null, null, null, null, null, null, null, null, null, null, null, null, null, null, null, null, null, null, null, null, null, null, null], \"yaxis\": \"y\"}, {\"hovertemplate\": \"variable=Seasonal<br>WEEK=%{x}<br>value=%{y}<extra></extra>\", \"legendgroup\": \"Seasonal\", \"line\": {\"color\": \"#00cc96\", \"dash\": \"solid\"}, \"mode\": \"lines\", \"name\": \"Seasonal\", \"orientation\": \"v\", \"showlegend\": true, \"type\": \"scatter\", \"x\": [\"2015-11-02T00:00:00\", \"2015-11-09T00:00:00\", \"2015-11-16T00:00:00\", \"2015-11-23T00:00:00\", \"2015-11-30T00:00:00\", \"2015-12-07T00:00:00\", \"2015-12-14T00:00:00\", \"2015-12-21T00:00:00\", \"2015-12-28T00:00:00\", \"2016-01-04T00:00:00\", \"2016-01-11T00:00:00\", \"2016-01-18T00:00:00\", \"2016-01-25T00:00:00\", \"2016-02-01T00:00:00\", \"2016-02-08T00:00:00\", \"2016-02-15T00:00:00\", \"2016-02-22T00:00:00\", \"2016-02-29T00:00:00\", \"2016-03-07T00:00:00\", \"2016-03-14T00:00:00\", \"2016-03-21T00:00:00\", \"2016-03-28T00:00:00\", \"2016-04-04T00:00:00\", \"2016-04-11T00:00:00\", \"2016-04-18T00:00:00\", \"2016-04-25T00:00:00\", \"2016-05-02T00:00:00\", \"2016-05-09T00:00:00\", \"2016-05-16T00:00:00\", \"2016-05-23T00:00:00\", \"2016-05-30T00:00:00\", \"2016-06-06T00:00:00\", \"2016-06-13T00:00:00\", \"2016-06-20T00:00:00\", \"2016-06-27T00:00:00\", \"2016-07-04T00:00:00\", \"2016-07-11T00:00:00\", \"2016-07-18T00:00:00\", \"2016-07-25T00:00:00\", \"2016-08-01T00:00:00\", \"2016-08-08T00:00:00\", \"2016-08-15T00:00:00\", \"2016-08-22T00:00:00\", \"2016-08-29T00:00:00\", \"2016-09-05T00:00:00\", \"2016-09-12T00:00:00\", \"2016-09-19T00:00:00\", \"2016-09-26T00:00:00\", \"2016-10-03T00:00:00\", \"2016-10-10T00:00:00\", \"2016-10-17T00:00:00\", \"2016-10-24T00:00:00\", \"2016-10-31T00:00:00\", \"2016-11-07T00:00:00\", \"2016-11-14T00:00:00\", \"2016-11-21T00:00:00\", \"2016-11-28T00:00:00\", \"2016-12-05T00:00:00\", \"2016-12-12T00:00:00\", \"2016-12-19T00:00:00\", \"2016-12-26T00:00:00\", \"2017-01-02T00:00:00\", \"2017-01-09T00:00:00\", \"2017-01-16T00:00:00\", \"2017-01-23T00:00:00\", \"2017-01-30T00:00:00\", \"2017-02-06T00:00:00\", \"2017-02-13T00:00:00\", \"2017-02-20T00:00:00\", \"2017-02-27T00:00:00\", \"2017-03-06T00:00:00\", \"2017-03-13T00:00:00\", \"2017-03-20T00:00:00\", \"2017-03-27T00:00:00\", \"2017-04-03T00:00:00\", \"2017-04-10T00:00:00\", \"2017-04-17T00:00:00\", \"2017-04-24T00:00:00\", \"2017-05-01T00:00:00\", \"2017-05-08T00:00:00\", \"2017-05-15T00:00:00\", \"2017-05-22T00:00:00\", \"2017-05-29T00:00:00\", \"2017-06-05T00:00:00\", \"2017-06-12T00:00:00\", \"2017-06-19T00:00:00\", \"2017-06-26T00:00:00\", \"2017-07-03T00:00:00\", \"2017-07-10T00:00:00\", \"2017-07-17T00:00:00\", \"2017-07-24T00:00:00\", \"2017-07-31T00:00:00\", \"2017-08-07T00:00:00\", \"2017-08-14T00:00:00\", \"2017-08-21T00:00:00\", \"2017-08-28T00:00:00\", \"2017-09-04T00:00:00\", \"2017-09-11T00:00:00\", \"2017-09-18T00:00:00\", \"2017-09-25T00:00:00\", \"2017-10-02T00:00:00\", \"2017-10-09T00:00:00\", \"2017-10-16T00:00:00\", \"2017-10-23T00:00:00\", \"2017-10-30T00:00:00\", \"2017-11-06T00:00:00\", \"2017-11-13T00:00:00\", \"2017-11-20T00:00:00\", \"2017-11-27T00:00:00\", \"2017-12-04T00:00:00\", \"2017-12-11T00:00:00\", \"2017-12-18T00:00:00\", \"2017-12-25T00:00:00\", \"2018-01-01T00:00:00\", \"2018-01-08T00:00:00\", \"2018-01-15T00:00:00\", \"2018-01-22T00:00:00\", \"2018-01-29T00:00:00\", \"2018-02-05T00:00:00\", \"2018-02-12T00:00:00\", \"2018-02-19T00:00:00\", \"2018-02-26T00:00:00\", \"2018-03-05T00:00:00\", \"2018-03-12T00:00:00\", \"2018-03-19T00:00:00\", \"2018-03-26T00:00:00\", \"2018-04-02T00:00:00\", \"2018-04-09T00:00:00\", \"2018-04-16T00:00:00\", \"2018-04-23T00:00:00\", \"2018-04-30T00:00:00\", \"2018-05-07T00:00:00\", \"2018-05-14T00:00:00\", \"2018-05-21T00:00:00\", \"2018-05-28T00:00:00\", \"2018-06-04T00:00:00\", \"2018-06-11T00:00:00\", \"2018-06-18T00:00:00\", \"2018-06-25T00:00:00\", \"2018-07-02T00:00:00\", \"2018-07-09T00:00:00\", \"2018-07-16T00:00:00\", \"2018-07-23T00:00:00\", \"2018-07-30T00:00:00\", \"2018-08-06T00:00:00\", \"2018-08-13T00:00:00\", \"2018-08-20T00:00:00\", \"2018-08-27T00:00:00\", \"2018-09-03T00:00:00\", \"2018-09-10T00:00:00\", \"2018-09-17T00:00:00\", \"2018-09-24T00:00:00\", \"2018-10-01T00:00:00\", \"2018-10-08T00:00:00\", \"2018-10-15T00:00:00\", \"2018-10-22T00:00:00\", \"2018-10-29T00:00:00\"], \"xaxis\": \"x\", \"y\": [-81.690119575937, 442.1416111932937, 155.6127650394475, 328.5406496548325, 711.8291111932937, 679.2666111932937, 436.968534270217, 266.8868035009861, -1255.045888806706, -124.0218503451677, 312.329111193294, 452.7618035009863, 324.2329573471401, 324.9733419625244, -180.2189657297832, -318.7478118836291, -670.7574272682447, -354.5506964990139, -451.6853118836291, -358.5843503451677, -394.3055041913213, -852.9016580374754, -334.815119575937, -357.4881964990137, 38.05026503944775, 448.9444958086787, 556.7730214497044, 435.872380424063, 349.5598804240632, -133.0747349605522, 347.0839188856013, 447.9493035009863, 807.7521881163708, 687.7954573471399, 671.1175727317553, 5.843534270217262, 332.5021881163711, -47.59396572978297, 20.83872657790941, -393.0891580374756, -922.8439657297832, 100.4685342702168, 295.6656496548323, 458.0598804240632, -610.5843503451675, -365.8343503451675, -322.6949272682444, -382.9689657297827, -328.4978118836289, -717.6997349605525, -486.8920426528601, 6.766611193293713, -81.690119575937, 442.1416111932937, 155.6127650394475, 328.5406496548325, 711.8291111932937, 679.2666111932937, 436.968534270217, 266.8868035009861, -1255.045888806706, -124.0218503451677, 312.329111193294, 452.7618035009863, 324.2329573471401, 324.9733419625244, -180.2189657297832, -318.7478118836291, -670.7574272682447, -354.5506964990139, -451.6853118836291, -358.5843503451677, -394.3055041913213, -852.9016580374754, -334.815119575937, -357.4881964990137, 38.05026503944775, 448.9444958086787, 556.7730214497044, 435.872380424063, 349.5598804240632, -133.0747349605522, 347.0839188856013, 447.9493035009863, 807.7521881163708, 687.7954573471399, 671.1175727317553, 5.843534270217262, 332.5021881163711, -47.59396572978297, 20.83872657790941, -393.0891580374756, -922.8439657297832, 100.4685342702168, 295.6656496548323, 458.0598804240632, -610.5843503451675, -365.8343503451675, -322.6949272682444, -382.9689657297827, -328.4978118836289, -717.6997349605525, -486.8920426528601, 6.766611193293713, -81.690119575937, 442.1416111932937, 155.6127650394475, 328.5406496548325, 711.8291111932937, 679.2666111932937, 436.968534270217, 266.8868035009861, -1255.045888806706, -124.0218503451677, 312.329111193294, 452.7618035009863, 324.2329573471401, 324.9733419625244, -180.2189657297832, -318.7478118836291, -670.7574272682447, -354.5506964990139, -451.6853118836291, -358.5843503451677, -394.3055041913213, -852.9016580374754, -334.815119575937, -357.4881964990137, 38.05026503944775, 448.9444958086787, 556.7730214497044, 435.872380424063, 349.5598804240632, -133.0747349605522, 347.0839188856013, 447.9493035009863, 807.7521881163708, 687.7954573471399, 671.1175727317553, 5.843534270217262, 332.5021881163711, -47.59396572978297, 20.83872657790941, -393.0891580374756, -922.8439657297832, 100.4685342702168, 295.6656496548323, 458.0598804240632, -610.5843503451675, -365.8343503451675, -322.6949272682444, -382.9689657297827, -328.4978118836289, -717.6997349605525, -486.8920426528601, 6.766611193293713, -81.690119575937], \"yaxis\": \"y\"}],                        {\"legend\": {\"title\": {\"text\": \"variable\"}, \"tracegroupgap\": 0}, \"margin\": {\"t\": 60}, \"template\": {\"data\": {\"bar\": [{\"error_x\": {\"color\": \"#2a3f5f\"}, \"error_y\": {\"color\": \"#2a3f5f\"}, \"marker\": {\"line\": {\"color\": \"#E5ECF6\", \"width\": 0.5}}, \"type\": \"bar\"}], \"barpolar\": [{\"marker\": {\"line\": {\"color\": \"#E5ECF6\", \"width\": 0.5}}, \"type\": \"barpolar\"}], \"carpet\": [{\"aaxis\": {\"endlinecolor\": \"#2a3f5f\", \"gridcolor\": \"white\", \"linecolor\": \"white\", \"minorgridcolor\": \"white\", \"startlinecolor\": \"#2a3f5f\"}, \"baxis\": {\"endlinecolor\": \"#2a3f5f\", \"gridcolor\": \"white\", \"linecolor\": \"white\", \"minorgridcolor\": \"white\", \"startlinecolor\": \"#2a3f5f\"}, \"type\": \"carpet\"}], \"choropleth\": [{\"colorbar\": {\"outlinewidth\": 0, \"ticks\": \"\"}, \"type\": \"choropleth\"}], \"contour\": [{\"colorbar\": {\"outlinewidth\": 0, \"ticks\": \"\"}, \"colorscale\": [[0.0, \"#0d0887\"], [0.1111111111111111, \"#46039f\"], [0.2222222222222222, \"#7201a8\"], [0.3333333333333333, \"#9c179e\"], [0.4444444444444444, \"#bd3786\"], [0.5555555555555556, \"#d8576b\"], [0.6666666666666666, \"#ed7953\"], [0.7777777777777778, \"#fb9f3a\"], [0.8888888888888888, \"#fdca26\"], [1.0, \"#f0f921\"]], \"type\": \"contour\"}], \"contourcarpet\": [{\"colorbar\": {\"outlinewidth\": 0, \"ticks\": \"\"}, \"type\": \"contourcarpet\"}], \"heatmap\": [{\"colorbar\": {\"outlinewidth\": 0, \"ticks\": \"\"}, \"colorscale\": [[0.0, \"#0d0887\"], [0.1111111111111111, \"#46039f\"], [0.2222222222222222, \"#7201a8\"], [0.3333333333333333, \"#9c179e\"], [0.4444444444444444, \"#bd3786\"], [0.5555555555555556, \"#d8576b\"], [0.6666666666666666, \"#ed7953\"], [0.7777777777777778, \"#fb9f3a\"], [0.8888888888888888, \"#fdca26\"], [1.0, \"#f0f921\"]], \"type\": \"heatmap\"}], \"heatmapgl\": [{\"colorbar\": {\"outlinewidth\": 0, \"ticks\": \"\"}, \"colorscale\": [[0.0, \"#0d0887\"], [0.1111111111111111, \"#46039f\"], [0.2222222222222222, \"#7201a8\"], [0.3333333333333333, \"#9c179e\"], [0.4444444444444444, \"#bd3786\"], [0.5555555555555556, \"#d8576b\"], [0.6666666666666666, \"#ed7953\"], [0.7777777777777778, \"#fb9f3a\"], [0.8888888888888888, \"#fdca26\"], [1.0, \"#f0f921\"]], \"type\": \"heatmapgl\"}], \"histogram\": [{\"marker\": {\"colorbar\": {\"outlinewidth\": 0, \"ticks\": \"\"}}, \"type\": \"histogram\"}], \"histogram2d\": [{\"colorbar\": {\"outlinewidth\": 0, \"ticks\": \"\"}, \"colorscale\": [[0.0, \"#0d0887\"], [0.1111111111111111, \"#46039f\"], [0.2222222222222222, \"#7201a8\"], [0.3333333333333333, \"#9c179e\"], [0.4444444444444444, \"#bd3786\"], [0.5555555555555556, \"#d8576b\"], [0.6666666666666666, \"#ed7953\"], [0.7777777777777778, \"#fb9f3a\"], [0.8888888888888888, \"#fdca26\"], [1.0, \"#f0f921\"]], \"type\": \"histogram2d\"}], \"histogram2dcontour\": [{\"colorbar\": {\"outlinewidth\": 0, \"ticks\": \"\"}, \"colorscale\": [[0.0, \"#0d0887\"], [0.1111111111111111, \"#46039f\"], [0.2222222222222222, \"#7201a8\"], [0.3333333333333333, \"#9c179e\"], [0.4444444444444444, \"#bd3786\"], [0.5555555555555556, \"#d8576b\"], [0.6666666666666666, \"#ed7953\"], [0.7777777777777778, \"#fb9f3a\"], [0.8888888888888888, \"#fdca26\"], [1.0, \"#f0f921\"]], \"type\": \"histogram2dcontour\"}], \"mesh3d\": [{\"colorbar\": {\"outlinewidth\": 0, \"ticks\": \"\"}, \"type\": \"mesh3d\"}], \"parcoords\": [{\"line\": {\"colorbar\": {\"outlinewidth\": 0, \"ticks\": \"\"}}, \"type\": \"parcoords\"}], \"pie\": [{\"automargin\": true, \"type\": \"pie\"}], \"scatter\": [{\"marker\": {\"colorbar\": {\"outlinewidth\": 0, \"ticks\": \"\"}}, \"type\": \"scatter\"}], \"scatter3d\": [{\"line\": {\"colorbar\": {\"outlinewidth\": 0, \"ticks\": \"\"}}, \"marker\": {\"colorbar\": {\"outlinewidth\": 0, \"ticks\": \"\"}}, \"type\": \"scatter3d\"}], \"scattercarpet\": [{\"marker\": {\"colorbar\": {\"outlinewidth\": 0, \"ticks\": \"\"}}, \"type\": \"scattercarpet\"}], \"scattergeo\": [{\"marker\": {\"colorbar\": {\"outlinewidth\": 0, \"ticks\": \"\"}}, \"type\": \"scattergeo\"}], \"scattergl\": [{\"marker\": {\"colorbar\": {\"outlinewidth\": 0, \"ticks\": \"\"}}, \"type\": \"scattergl\"}], \"scattermapbox\": [{\"marker\": {\"colorbar\": {\"outlinewidth\": 0, \"ticks\": \"\"}}, \"type\": \"scattermapbox\"}], \"scatterpolar\": [{\"marker\": {\"colorbar\": {\"outlinewidth\": 0, \"ticks\": \"\"}}, \"type\": \"scatterpolar\"}], \"scatterpolargl\": [{\"marker\": {\"colorbar\": {\"outlinewidth\": 0, \"ticks\": \"\"}}, \"type\": \"scatterpolargl\"}], \"scatterternary\": [{\"marker\": {\"colorbar\": {\"outlinewidth\": 0, \"ticks\": \"\"}}, \"type\": \"scatterternary\"}], \"surface\": [{\"colorbar\": {\"outlinewidth\": 0, \"ticks\": \"\"}, \"colorscale\": [[0.0, \"#0d0887\"], [0.1111111111111111, \"#46039f\"], [0.2222222222222222, \"#7201a8\"], [0.3333333333333333, \"#9c179e\"], [0.4444444444444444, \"#bd3786\"], [0.5555555555555556, \"#d8576b\"], [0.6666666666666666, \"#ed7953\"], [0.7777777777777778, \"#fb9f3a\"], [0.8888888888888888, \"#fdca26\"], [1.0, \"#f0f921\"]], \"type\": \"surface\"}], \"table\": [{\"cells\": {\"fill\": {\"color\": \"#EBF0F8\"}, \"line\": {\"color\": \"white\"}}, \"header\": {\"fill\": {\"color\": \"#C8D4E3\"}, \"line\": {\"color\": \"white\"}}, \"type\": \"table\"}]}, \"layout\": {\"annotationdefaults\": {\"arrowcolor\": \"#2a3f5f\", \"arrowhead\": 0, \"arrowwidth\": 1}, \"autotypenumbers\": \"strict\", \"coloraxis\": {\"colorbar\": {\"outlinewidth\": 0, \"ticks\": \"\"}}, \"colorscale\": {\"diverging\": [[0, \"#8e0152\"], [0.1, \"#c51b7d\"], [0.2, \"#de77ae\"], [0.3, \"#f1b6da\"], [0.4, \"#fde0ef\"], [0.5, \"#f7f7f7\"], [0.6, \"#e6f5d0\"], [0.7, \"#b8e186\"], [0.8, \"#7fbc41\"], [0.9, \"#4d9221\"], [1, \"#276419\"]], \"sequential\": [[0.0, \"#0d0887\"], [0.1111111111111111, \"#46039f\"], [0.2222222222222222, \"#7201a8\"], [0.3333333333333333, \"#9c179e\"], [0.4444444444444444, \"#bd3786\"], [0.5555555555555556, \"#d8576b\"], [0.6666666666666666, \"#ed7953\"], [0.7777777777777778, \"#fb9f3a\"], [0.8888888888888888, \"#fdca26\"], [1.0, \"#f0f921\"]], \"sequentialminus\": [[0.0, \"#0d0887\"], [0.1111111111111111, \"#46039f\"], [0.2222222222222222, \"#7201a8\"], [0.3333333333333333, \"#9c179e\"], [0.4444444444444444, \"#bd3786\"], [0.5555555555555556, \"#d8576b\"], [0.6666666666666666, \"#ed7953\"], [0.7777777777777778, \"#fb9f3a\"], [0.8888888888888888, \"#fdca26\"], [1.0, \"#f0f921\"]]}, \"colorway\": [\"#636efa\", \"#EF553B\", \"#00cc96\", \"#ab63fa\", \"#FFA15A\", \"#19d3f3\", \"#FF6692\", \"#B6E880\", \"#FF97FF\", \"#FECB52\"], \"font\": {\"color\": \"#2a3f5f\"}, \"geo\": {\"bgcolor\": \"white\", \"lakecolor\": \"white\", \"landcolor\": \"#E5ECF6\", \"showlakes\": true, \"showland\": true, \"subunitcolor\": \"white\"}, \"hoverlabel\": {\"align\": \"left\"}, \"hovermode\": \"closest\", \"mapbox\": {\"style\": \"light\"}, \"paper_bgcolor\": \"white\", \"plot_bgcolor\": \"#E5ECF6\", \"polar\": {\"angularaxis\": {\"gridcolor\": \"white\", \"linecolor\": \"white\", \"ticks\": \"\"}, \"bgcolor\": \"#E5ECF6\", \"radialaxis\": {\"gridcolor\": \"white\", \"linecolor\": \"white\", \"ticks\": \"\"}}, \"scene\": {\"xaxis\": {\"backgroundcolor\": \"#E5ECF6\", \"gridcolor\": \"white\", \"gridwidth\": 2, \"linecolor\": \"white\", \"showbackground\": true, \"ticks\": \"\", \"zerolinecolor\": \"white\"}, \"yaxis\": {\"backgroundcolor\": \"#E5ECF6\", \"gridcolor\": \"white\", \"gridwidth\": 2, \"linecolor\": \"white\", \"showbackground\": true, \"ticks\": \"\", \"zerolinecolor\": \"white\"}, \"zaxis\": {\"backgroundcolor\": \"#E5ECF6\", \"gridcolor\": \"white\", \"gridwidth\": 2, \"linecolor\": \"white\", \"showbackground\": true, \"ticks\": \"\", \"zerolinecolor\": \"white\"}}, \"shapedefaults\": {\"line\": {\"color\": \"#2a3f5f\"}}, \"ternary\": {\"aaxis\": {\"gridcolor\": \"white\", \"linecolor\": \"white\", \"ticks\": \"\"}, \"baxis\": {\"gridcolor\": \"white\", \"linecolor\": \"white\", \"ticks\": \"\"}, \"bgcolor\": \"#E5ECF6\", \"caxis\": {\"gridcolor\": \"white\", \"linecolor\": \"white\", \"ticks\": \"\"}}, \"title\": {\"x\": 0.05}, \"xaxis\": {\"automargin\": true, \"gridcolor\": \"white\", \"linecolor\": \"white\", \"ticks\": \"\", \"title\": {\"standoff\": 15}, \"zerolinecolor\": \"white\", \"zerolinewidth\": 2}, \"yaxis\": {\"automargin\": true, \"gridcolor\": \"white\", \"linecolor\": \"white\", \"ticks\": \"\", \"title\": {\"standoff\": 15}, \"zerolinecolor\": \"white\", \"zerolinewidth\": 2}}}, \"title\": {\"text\": \"Historical sales with trend and seasonality\"}, \"xaxis\": {\"anchor\": \"y\", \"domain\": [0.0, 1.0], \"title\": {\"text\": \"WEEK\"}}, \"yaxis\": {\"anchor\": \"x\", \"domain\": [0.0, 1.0], \"title\": {\"text\": \"Amount $\"}}},                        {\"responsive\": true}                    ).then(function(){\n",
       "                            \n",
       "var gd = document.getElementById('f7aa5e8f-e106-4bd2-9802-e2fed8424e4b');\n",
       "var x = new MutationObserver(function (mutations, observer) {{\n",
       "        var display = window.getComputedStyle(gd).display;\n",
       "        if (!display || display === 'none') {{\n",
       "            console.log([gd, 'removed!']);\n",
       "            Plotly.purge(gd);\n",
       "            observer.disconnect();\n",
       "        }}\n",
       "}});\n",
       "\n",
       "// Listen for the removal of the full notebook cells\n",
       "var notebookContainer = gd.closest('#notebook-container');\n",
       "if (notebookContainer) {{\n",
       "    x.observe(notebookContainer, {childList: true});\n",
       "}}\n",
       "\n",
       "// Listen for the clearing of the current output cell\n",
       "var outputEl = gd.closest('.output');\n",
       "if (outputEl) {{\n",
       "    x.observe(outputEl, {childList: true});\n",
       "}}\n",
       "\n",
       "                        })                };                });            </script>        </div>"
      ]
     },
     "metadata": {},
     "output_type": "display_data"
    }
   ],
   "source": [
    "fig=px.line(df03, x='WEEK', y=['Observed','Trend', 'Seasonal'])\n",
    "fig.update_layout(title='Historical sales with trend and seasonality', xaxis_title='WEEK', yaxis_title='Amount $')\n",
    "fig.show()"
   ]
  }
 ],
 "metadata": {
  "kernelspec": {
   "display_name": "Python 3",
   "language": "python",
   "name": "python3"
  },
  "language_info": {
   "codemirror_mode": {
    "name": "ipython",
    "version": 3
   },
   "file_extension": ".py",
   "mimetype": "text/x-python",
   "name": "python",
   "nbconvert_exporter": "python",
   "pygments_lexer": "ipython3",
   "version": "3.8.8"
  }
 },
 "nbformat": 4,
 "nbformat_minor": 4
}
